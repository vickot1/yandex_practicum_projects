{
  "metadata": {
    "ExecuteTimeLog": [
      {
        "duration": 553,
        "start_time": "2022-04-26T15:22:44.377Z"
      },
      {
        "duration": 115,
        "start_time": "2022-04-26T15:24:28.772Z"
      },
      {
        "duration": 103,
        "start_time": "2022-04-26T15:25:13.678Z"
      },
      {
        "duration": 94,
        "start_time": "2022-04-26T15:25:35.574Z"
      },
      {
        "duration": 93,
        "start_time": "2022-04-26T15:27:48.655Z"
      },
      {
        "duration": 116,
        "start_time": "2022-04-26T15:32:25.794Z"
      },
      {
        "duration": 100,
        "start_time": "2022-04-26T15:35:24.467Z"
      },
      {
        "duration": 49,
        "start_time": "2022-04-26T15:44:32.821Z"
      },
      {
        "duration": 13,
        "start_time": "2022-04-26T15:45:02.803Z"
      },
      {
        "duration": 25,
        "start_time": "2022-04-26T15:47:40.161Z"
      },
      {
        "duration": 18,
        "start_time": "2022-04-26T15:47:48.166Z"
      },
      {
        "duration": 81,
        "start_time": "2022-04-26T15:51:53.354Z"
      },
      {
        "duration": 26,
        "start_time": "2022-04-26T15:53:25.722Z"
      },
      {
        "duration": 21,
        "start_time": "2022-04-26T15:54:38.139Z"
      },
      {
        "duration": 19,
        "start_time": "2022-04-26T15:55:00.091Z"
      },
      {
        "duration": 14,
        "start_time": "2022-04-26T15:55:26.605Z"
      },
      {
        "duration": 22,
        "start_time": "2022-04-26T15:59:00.446Z"
      },
      {
        "duration": 16,
        "start_time": "2022-04-26T15:59:15.699Z"
      },
      {
        "duration": 86,
        "start_time": "2022-04-26T15:59:19.713Z"
      },
      {
        "duration": 25,
        "start_time": "2022-04-26T15:59:24.742Z"
      },
      {
        "duration": 101,
        "start_time": "2022-04-26T16:03:17.607Z"
      },
      {
        "duration": 22,
        "start_time": "2022-04-26T16:03:23.277Z"
      },
      {
        "duration": 119,
        "start_time": "2022-04-26T16:04:24.892Z"
      },
      {
        "duration": 28,
        "start_time": "2022-04-26T16:04:28.249Z"
      },
      {
        "duration": 99,
        "start_time": "2022-04-26T16:05:29.163Z"
      },
      {
        "duration": 35,
        "start_time": "2022-04-26T16:05:34.470Z"
      },
      {
        "duration": 13,
        "start_time": "2022-04-26T16:23:28.387Z"
      },
      {
        "duration": 107,
        "start_time": "2022-04-26T16:23:57.677Z"
      },
      {
        "duration": 18,
        "start_time": "2022-04-26T16:24:01.776Z"
      },
      {
        "duration": 21,
        "start_time": "2022-04-26T16:24:04.915Z"
      },
      {
        "duration": 16,
        "start_time": "2022-04-26T16:28:29.550Z"
      },
      {
        "duration": 41,
        "start_time": "2022-04-26T16:30:09.641Z"
      },
      {
        "duration": 17,
        "start_time": "2022-04-26T16:30:14.689Z"
      },
      {
        "duration": 126,
        "start_time": "2022-04-26T19:30:55.804Z"
      },
      {
        "duration": 615,
        "start_time": "2022-04-26T19:30:59.794Z"
      },
      {
        "duration": 39,
        "start_time": "2022-04-26T19:31:06.681Z"
      },
      {
        "duration": 33,
        "start_time": "2022-04-26T19:31:10.377Z"
      },
      {
        "duration": 20,
        "start_time": "2022-04-26T19:31:13.686Z"
      },
      {
        "duration": 28,
        "start_time": "2022-04-26T19:33:47.734Z"
      },
      {
        "duration": 64,
        "start_time": "2022-04-26T19:34:48.105Z"
      },
      {
        "duration": 47,
        "start_time": "2022-04-26T19:34:54.490Z"
      },
      {
        "duration": 51,
        "start_time": "2022-04-26T19:36:01.259Z"
      },
      {
        "duration": 73,
        "start_time": "2022-04-26T19:36:45.807Z"
      },
      {
        "duration": 93,
        "start_time": "2022-04-26T19:37:13.033Z"
      },
      {
        "duration": 165,
        "start_time": "2022-04-26T19:37:18.534Z"
      },
      {
        "duration": 50,
        "start_time": "2022-04-26T19:37:23.286Z"
      },
      {
        "duration": 23,
        "start_time": "2022-04-26T19:37:26.043Z"
      },
      {
        "duration": 70,
        "start_time": "2022-04-26T19:37:28.899Z"
      },
      {
        "duration": 106,
        "start_time": "2022-04-26T19:42:16.358Z"
      },
      {
        "duration": 30,
        "start_time": "2022-04-26T19:42:20.422Z"
      },
      {
        "duration": 23,
        "start_time": "2022-04-26T19:42:26.497Z"
      },
      {
        "duration": 33,
        "start_time": "2022-04-26T19:42:58.629Z"
      },
      {
        "duration": 128,
        "start_time": "2022-04-26T19:44:49.975Z"
      },
      {
        "duration": 116,
        "start_time": "2022-04-26T19:57:15.940Z"
      },
      {
        "duration": 30,
        "start_time": "2022-04-26T19:57:19.741Z"
      },
      {
        "duration": 25,
        "start_time": "2022-04-26T19:57:22.333Z"
      },
      {
        "duration": 27,
        "start_time": "2022-04-26T19:57:25.830Z"
      },
      {
        "duration": 81,
        "start_time": "2022-04-26T19:57:29.311Z"
      },
      {
        "duration": 923,
        "start_time": "2022-04-26T19:59:03.155Z"
      },
      {
        "duration": 43,
        "start_time": "2022-04-26T19:59:04.093Z"
      },
      {
        "duration": 62,
        "start_time": "2022-04-26T19:59:04.140Z"
      },
      {
        "duration": 27,
        "start_time": "2022-04-26T19:59:04.206Z"
      },
      {
        "duration": 183,
        "start_time": "2022-04-26T19:59:04.236Z"
      },
      {
        "duration": 175,
        "start_time": "2022-04-26T19:59:26.044Z"
      },
      {
        "duration": 181,
        "start_time": "2022-04-26T19:59:34.152Z"
      },
      {
        "duration": 146,
        "start_time": "2022-04-26T20:00:30.677Z"
      },
      {
        "duration": 127,
        "start_time": "2022-04-26T20:02:59.961Z"
      },
      {
        "duration": 122,
        "start_time": "2022-04-26T20:03:55.273Z"
      },
      {
        "duration": 125,
        "start_time": "2022-04-26T20:10:59.897Z"
      },
      {
        "duration": 20,
        "start_time": "2022-04-26T20:27:41.182Z"
      },
      {
        "duration": 22,
        "start_time": "2022-04-26T20:29:14.149Z"
      },
      {
        "duration": 36,
        "start_time": "2022-04-26T20:31:47.983Z"
      },
      {
        "duration": 168,
        "start_time": "2022-04-26T20:33:42.529Z"
      },
      {
        "duration": 191,
        "start_time": "2022-04-26T20:34:28.481Z"
      },
      {
        "duration": 37,
        "start_time": "2022-04-26T20:34:33.721Z"
      },
      {
        "duration": 62,
        "start_time": "2022-04-26T20:42:20.881Z"
      },
      {
        "duration": 2921,
        "start_time": "2022-04-26T20:43:12.586Z"
      },
      {
        "duration": 20,
        "start_time": "2022-04-26T20:43:16.080Z"
      },
      {
        "duration": 615,
        "start_time": "2022-04-26T20:43:33.311Z"
      },
      {
        "duration": 38,
        "start_time": "2022-04-26T20:43:33.930Z"
      },
      {
        "duration": 45,
        "start_time": "2022-04-26T20:43:33.971Z"
      },
      {
        "duration": 20,
        "start_time": "2022-04-26T20:43:34.019Z"
      },
      {
        "duration": 177,
        "start_time": "2022-04-26T20:43:34.043Z"
      },
      {
        "duration": 69,
        "start_time": "2022-04-26T20:43:34.223Z"
      },
      {
        "duration": 576,
        "start_time": "2022-04-27T13:59:39.064Z"
      },
      {
        "duration": 23,
        "start_time": "2022-04-27T13:59:39.643Z"
      },
      {
        "duration": 15,
        "start_time": "2022-04-27T13:59:39.668Z"
      },
      {
        "duration": 18,
        "start_time": "2022-04-27T13:59:39.685Z"
      },
      {
        "duration": 106,
        "start_time": "2022-04-27T13:59:39.705Z"
      },
      {
        "duration": 46,
        "start_time": "2022-04-27T13:59:39.812Z"
      },
      {
        "duration": 20,
        "start_time": "2022-04-27T13:59:39.859Z"
      },
      {
        "duration": 28,
        "start_time": "2022-04-27T14:00:14.850Z"
      },
      {
        "duration": 7,
        "start_time": "2022-04-27T14:03:33.308Z"
      },
      {
        "duration": 10,
        "start_time": "2022-04-27T14:04:42.595Z"
      },
      {
        "duration": 608,
        "start_time": "2022-04-27T14:11:47.107Z"
      },
      {
        "duration": 28,
        "start_time": "2022-04-27T14:12:15.990Z"
      },
      {
        "duration": 35,
        "start_time": "2022-04-27T14:32:30.569Z"
      },
      {
        "duration": 510,
        "start_time": "2022-04-27T14:41:43.964Z"
      },
      {
        "duration": 20,
        "start_time": "2022-04-27T14:41:44.476Z"
      },
      {
        "duration": 15,
        "start_time": "2022-04-27T14:41:44.498Z"
      },
      {
        "duration": 12,
        "start_time": "2022-04-27T14:41:44.515Z"
      },
      {
        "duration": 163,
        "start_time": "2022-04-27T14:41:44.529Z"
      },
      {
        "duration": 42,
        "start_time": "2022-04-27T14:41:44.694Z"
      },
      {
        "duration": 44,
        "start_time": "2022-04-27T14:41:44.738Z"
      },
      {
        "duration": 42,
        "start_time": "2022-04-27T14:41:44.784Z"
      },
      {
        "duration": 1164,
        "start_time": "2022-04-27T15:43:25.322Z"
      },
      {
        "duration": 908,
        "start_time": "2022-04-27T15:43:43.038Z"
      },
      {
        "duration": 9,
        "start_time": "2022-04-27T15:45:48.601Z"
      },
      {
        "duration": 9,
        "start_time": "2022-04-27T15:46:18.228Z"
      },
      {
        "duration": 4,
        "start_time": "2022-04-27T15:46:41.815Z"
      },
      {
        "duration": 12,
        "start_time": "2022-04-27T15:46:59.551Z"
      },
      {
        "duration": 10,
        "start_time": "2022-04-27T15:48:26.833Z"
      },
      {
        "duration": 9,
        "start_time": "2022-04-27T15:48:51.784Z"
      },
      {
        "duration": 35,
        "start_time": "2022-04-27T15:49:36.797Z"
      },
      {
        "duration": 25,
        "start_time": "2022-04-27T15:49:56.167Z"
      },
      {
        "duration": 7,
        "start_time": "2022-04-27T15:50:23.017Z"
      },
      {
        "duration": 118,
        "start_time": "2022-04-27T15:51:32.731Z"
      },
      {
        "duration": 118,
        "start_time": "2022-04-27T15:51:47.346Z"
      },
      {
        "duration": 124,
        "start_time": "2022-04-27T15:52:05.680Z"
      },
      {
        "duration": 654,
        "start_time": "2022-04-27T15:52:40.584Z"
      },
      {
        "duration": 43,
        "start_time": "2022-04-27T15:52:41.241Z"
      },
      {
        "duration": 27,
        "start_time": "2022-04-27T15:52:41.286Z"
      },
      {
        "duration": 40,
        "start_time": "2022-04-27T15:52:41.315Z"
      },
      {
        "duration": 164,
        "start_time": "2022-04-27T15:52:41.360Z"
      },
      {
        "duration": 53,
        "start_time": "2022-04-27T15:52:41.526Z"
      },
      {
        "duration": 23,
        "start_time": "2022-04-27T15:52:41.581Z"
      },
      {
        "duration": 59,
        "start_time": "2022-04-27T15:52:41.606Z"
      },
      {
        "duration": 120,
        "start_time": "2022-04-27T15:52:41.668Z"
      },
      {
        "duration": 16,
        "start_time": "2022-04-27T15:52:48.694Z"
      },
      {
        "duration": 14,
        "start_time": "2022-04-27T16:00:46.695Z"
      },
      {
        "duration": 153,
        "start_time": "2022-04-27T16:02:08.073Z"
      },
      {
        "duration": 10,
        "start_time": "2022-04-27T16:02:38.132Z"
      },
      {
        "duration": 5,
        "start_time": "2022-04-27T16:03:03.040Z"
      },
      {
        "duration": 10,
        "start_time": "2022-04-27T16:03:24.303Z"
      },
      {
        "duration": 69,
        "start_time": "2022-04-27T16:04:12.066Z"
      },
      {
        "duration": 14,
        "start_time": "2022-04-27T16:04:23.850Z"
      },
      {
        "duration": 121,
        "start_time": "2022-04-27T16:04:53.917Z"
      },
      {
        "duration": 12,
        "start_time": "2022-04-27T16:05:04.641Z"
      },
      {
        "duration": 1810,
        "start_time": "2022-04-27T16:20:23.607Z"
      },
      {
        "duration": 18,
        "start_time": "2022-04-27T16:21:07.867Z"
      },
      {
        "duration": 26,
        "start_time": "2022-04-27T16:33:06.971Z"
      },
      {
        "duration": 37,
        "start_time": "2022-04-27T16:33:26.606Z"
      },
      {
        "duration": 30,
        "start_time": "2022-04-27T16:34:48.705Z"
      },
      {
        "duration": 34,
        "start_time": "2022-04-27T16:35:10.741Z"
      },
      {
        "duration": 113,
        "start_time": "2022-04-27T16:36:42.411Z"
      },
      {
        "duration": 31,
        "start_time": "2022-04-27T16:37:04.979Z"
      },
      {
        "duration": 31,
        "start_time": "2022-04-27T16:37:23.390Z"
      },
      {
        "duration": 1832,
        "start_time": "2022-04-27T16:38:38.329Z"
      },
      {
        "duration": 1716,
        "start_time": "2022-04-27T16:39:14.913Z"
      },
      {
        "duration": 1846,
        "start_time": "2022-04-27T16:39:50.678Z"
      },
      {
        "duration": 28,
        "start_time": "2022-04-27T16:40:13.958Z"
      },
      {
        "duration": 23,
        "start_time": "2022-04-27T16:40:50.068Z"
      },
      {
        "duration": 76,
        "start_time": "2022-04-28T14:24:04.647Z"
      },
      {
        "duration": 661,
        "start_time": "2022-04-28T14:24:11.141Z"
      },
      {
        "duration": 29,
        "start_time": "2022-04-28T14:24:11.805Z"
      },
      {
        "duration": 45,
        "start_time": "2022-04-28T14:24:11.837Z"
      },
      {
        "duration": 18,
        "start_time": "2022-04-28T14:24:11.884Z"
      },
      {
        "duration": 161,
        "start_time": "2022-04-28T14:24:11.905Z"
      },
      {
        "duration": 57,
        "start_time": "2022-04-28T14:24:12.067Z"
      },
      {
        "duration": 31,
        "start_time": "2022-04-28T14:24:12.126Z"
      },
      {
        "duration": 35,
        "start_time": "2022-04-28T14:24:12.182Z"
      },
      {
        "duration": 5,
        "start_time": "2022-04-28T14:24:12.219Z"
      },
      {
        "duration": 58,
        "start_time": "2022-04-28T14:24:12.226Z"
      },
      {
        "duration": 30,
        "start_time": "2022-04-28T14:24:12.286Z"
      },
      {
        "duration": 6,
        "start_time": "2022-04-28T14:24:12.318Z"
      },
      {
        "duration": 67,
        "start_time": "2022-04-28T14:24:12.326Z"
      },
      {
        "duration": 32,
        "start_time": "2022-04-28T14:24:40.996Z"
      },
      {
        "duration": 48,
        "start_time": "2022-04-28T14:28:38.378Z"
      },
      {
        "duration": 33,
        "start_time": "2022-04-28T14:30:56.143Z"
      },
      {
        "duration": 32,
        "start_time": "2022-04-28T14:35:06.426Z"
      },
      {
        "duration": 42,
        "start_time": "2022-04-28T14:43:48.482Z"
      },
      {
        "duration": 29,
        "start_time": "2022-04-28T14:44:26.097Z"
      },
      {
        "duration": 25,
        "start_time": "2022-04-28T14:45:25.717Z"
      },
      {
        "duration": 16,
        "start_time": "2022-04-28T14:51:08.990Z"
      },
      {
        "duration": 15,
        "start_time": "2022-04-28T14:51:17.240Z"
      },
      {
        "duration": 204,
        "start_time": "2022-04-28T14:56:06.177Z"
      },
      {
        "duration": 34,
        "start_time": "2022-04-28T14:56:50.432Z"
      },
      {
        "duration": 36,
        "start_time": "2022-04-28T14:57:14.462Z"
      },
      {
        "duration": 41,
        "start_time": "2022-04-28T14:59:48.278Z"
      },
      {
        "duration": 56,
        "start_time": "2022-04-28T15:02:01.857Z"
      },
      {
        "duration": 56,
        "start_time": "2022-04-28T15:02:40.352Z"
      },
      {
        "duration": 53,
        "start_time": "2022-04-28T15:03:01.903Z"
      },
      {
        "duration": 38,
        "start_time": "2022-04-28T15:04:36.362Z"
      },
      {
        "duration": 42,
        "start_time": "2022-04-28T15:04:56.283Z"
      },
      {
        "duration": 34,
        "start_time": "2022-04-28T15:05:31.053Z"
      },
      {
        "duration": 49,
        "start_time": "2022-04-28T15:06:31.440Z"
      },
      {
        "duration": 19,
        "start_time": "2022-04-28T15:08:05.827Z"
      },
      {
        "duration": 20,
        "start_time": "2022-04-28T15:09:09.723Z"
      },
      {
        "duration": 13,
        "start_time": "2022-04-28T15:09:28.126Z"
      },
      {
        "duration": 15,
        "start_time": "2022-04-28T15:09:50.170Z"
      },
      {
        "duration": 16,
        "start_time": "2022-04-28T15:11:08.812Z"
      },
      {
        "duration": 24,
        "start_time": "2022-04-28T15:18:51.129Z"
      },
      {
        "duration": 47,
        "start_time": "2022-04-28T15:19:20.021Z"
      },
      {
        "duration": 22,
        "start_time": "2022-04-28T15:21:15.813Z"
      },
      {
        "duration": 14,
        "start_time": "2022-04-28T15:21:28.697Z"
      },
      {
        "duration": 14,
        "start_time": "2022-04-28T15:22:59.242Z"
      },
      {
        "duration": 14,
        "start_time": "2022-04-28T15:23:02.477Z"
      },
      {
        "duration": 13,
        "start_time": "2022-04-28T15:23:24.834Z"
      },
      {
        "duration": 12,
        "start_time": "2022-04-28T15:24:48.232Z"
      },
      {
        "duration": 12,
        "start_time": "2022-04-28T15:25:04.323Z"
      },
      {
        "duration": 18,
        "start_time": "2022-04-28T15:26:58.033Z"
      },
      {
        "duration": 17,
        "start_time": "2022-04-28T15:48:36.682Z"
      },
      {
        "duration": 15,
        "start_time": "2022-04-28T15:48:53.989Z"
      },
      {
        "duration": 20,
        "start_time": "2022-04-28T15:52:32.223Z"
      },
      {
        "duration": 18,
        "start_time": "2022-04-28T15:53:17.522Z"
      },
      {
        "duration": 15,
        "start_time": "2022-04-28T15:55:02.280Z"
      },
      {
        "duration": 16,
        "start_time": "2022-04-28T15:55:40.972Z"
      },
      {
        "duration": 15,
        "start_time": "2022-04-28T16:07:37.859Z"
      },
      {
        "duration": 18,
        "start_time": "2022-04-28T16:07:52.524Z"
      },
      {
        "duration": 17,
        "start_time": "2022-04-28T16:11:25.662Z"
      },
      {
        "duration": 14,
        "start_time": "2022-04-28T16:11:43.320Z"
      },
      {
        "duration": 18,
        "start_time": "2022-04-28T16:16:04.784Z"
      },
      {
        "duration": 25,
        "start_time": "2022-04-28T16:32:05.408Z"
      },
      {
        "duration": 19,
        "start_time": "2022-04-28T16:32:52.097Z"
      },
      {
        "duration": 14,
        "start_time": "2022-04-28T16:33:13.232Z"
      },
      {
        "duration": 23,
        "start_time": "2022-04-28T16:36:22.286Z"
      },
      {
        "duration": 18,
        "start_time": "2022-04-28T16:38:29.423Z"
      },
      {
        "duration": 14,
        "start_time": "2022-04-28T16:39:04.698Z"
      },
      {
        "duration": 5,
        "start_time": "2022-04-28T16:39:34.891Z"
      },
      {
        "duration": 5,
        "start_time": "2022-04-28T16:39:54.707Z"
      },
      {
        "duration": 15,
        "start_time": "2022-04-28T16:40:02.651Z"
      },
      {
        "duration": 14,
        "start_time": "2022-04-28T16:40:18.616Z"
      },
      {
        "duration": 39,
        "start_time": "2022-04-28T16:41:16.816Z"
      },
      {
        "duration": 40,
        "start_time": "2022-04-28T16:41:42.366Z"
      },
      {
        "duration": 17,
        "start_time": "2022-04-28T16:42:15.055Z"
      },
      {
        "duration": 19,
        "start_time": "2022-04-28T16:42:37.612Z"
      },
      {
        "duration": 12,
        "start_time": "2022-04-28T16:43:22.720Z"
      },
      {
        "duration": 11,
        "start_time": "2022-04-28T16:43:39.129Z"
      },
      {
        "duration": 15,
        "start_time": "2022-04-28T16:46:26.499Z"
      },
      {
        "duration": 13,
        "start_time": "2022-04-28T16:48:15.683Z"
      },
      {
        "duration": 47,
        "start_time": "2022-04-28T16:58:17.389Z"
      },
      {
        "duration": 45,
        "start_time": "2022-04-28T16:59:12.761Z"
      },
      {
        "duration": 42,
        "start_time": "2022-04-28T16:59:30.564Z"
      },
      {
        "duration": 47,
        "start_time": "2022-04-28T16:59:48.783Z"
      },
      {
        "duration": 45,
        "start_time": "2022-04-28T17:01:06.895Z"
      },
      {
        "duration": 64,
        "start_time": "2022-04-28T17:01:35.099Z"
      },
      {
        "duration": 31,
        "start_time": "2022-04-28T17:02:12.099Z"
      },
      {
        "duration": 649,
        "start_time": "2022-04-28T17:02:20.957Z"
      },
      {
        "duration": 28,
        "start_time": "2022-04-28T17:02:21.610Z"
      },
      {
        "duration": 49,
        "start_time": "2022-04-28T17:02:21.640Z"
      },
      {
        "duration": 18,
        "start_time": "2022-04-28T17:02:21.692Z"
      },
      {
        "duration": 178,
        "start_time": "2022-04-28T17:02:21.713Z"
      },
      {
        "duration": 44,
        "start_time": "2022-04-28T17:02:21.893Z"
      },
      {
        "duration": 53,
        "start_time": "2022-04-28T17:02:21.939Z"
      },
      {
        "duration": 37,
        "start_time": "2022-04-28T17:02:21.994Z"
      },
      {
        "duration": 52,
        "start_time": "2022-04-28T17:02:22.033Z"
      },
      {
        "duration": 15,
        "start_time": "2022-04-28T17:02:22.089Z"
      },
      {
        "duration": 16,
        "start_time": "2022-04-28T17:02:22.106Z"
      },
      {
        "duration": 127,
        "start_time": "2022-04-28T17:02:22.124Z"
      },
      {
        "duration": 0,
        "start_time": "2022-04-28T17:02:22.253Z"
      },
      {
        "duration": 0,
        "start_time": "2022-04-28T17:02:22.254Z"
      },
      {
        "duration": 41,
        "start_time": "2022-04-28T17:03:26.419Z"
      },
      {
        "duration": 74,
        "start_time": "2022-04-28T17:05:47.467Z"
      },
      {
        "duration": 47,
        "start_time": "2022-04-28T17:06:12.500Z"
      },
      {
        "duration": 673,
        "start_time": "2022-04-28T17:06:21.191Z"
      },
      {
        "duration": 40,
        "start_time": "2022-04-28T17:06:21.867Z"
      },
      {
        "duration": 38,
        "start_time": "2022-04-28T17:06:21.909Z"
      },
      {
        "duration": 42,
        "start_time": "2022-04-28T17:06:21.950Z"
      },
      {
        "duration": 169,
        "start_time": "2022-04-28T17:06:21.996Z"
      },
      {
        "duration": 47,
        "start_time": "2022-04-28T17:06:22.167Z"
      },
      {
        "duration": 31,
        "start_time": "2022-04-28T17:06:22.216Z"
      },
      {
        "duration": 75,
        "start_time": "2022-04-28T17:06:22.249Z"
      },
      {
        "duration": 25,
        "start_time": "2022-04-28T17:06:22.327Z"
      },
      {
        "duration": 46,
        "start_time": "2022-04-28T17:06:22.356Z"
      },
      {
        "duration": 14,
        "start_time": "2022-04-28T17:06:22.404Z"
      },
      {
        "duration": 129,
        "start_time": "2022-04-28T17:06:22.421Z"
      },
      {
        "duration": 0,
        "start_time": "2022-04-28T17:06:22.553Z"
      },
      {
        "duration": 0,
        "start_time": "2022-04-28T17:06:22.554Z"
      },
      {
        "duration": 39,
        "start_time": "2022-04-28T17:09:30.416Z"
      },
      {
        "duration": 19,
        "start_time": "2022-04-28T17:12:24.971Z"
      },
      {
        "duration": 2391,
        "start_time": "2022-04-28T17:12:37.644Z"
      },
      {
        "duration": 814,
        "start_time": "2022-04-28T17:12:42.906Z"
      },
      {
        "duration": 29,
        "start_time": "2022-04-28T17:12:43.722Z"
      },
      {
        "duration": 68,
        "start_time": "2022-04-28T17:12:43.753Z"
      },
      {
        "duration": 18,
        "start_time": "2022-04-28T17:12:43.823Z"
      },
      {
        "duration": 156,
        "start_time": "2022-04-28T17:12:43.844Z"
      },
      {
        "duration": 42,
        "start_time": "2022-04-28T17:12:44.002Z"
      },
      {
        "duration": 66,
        "start_time": "2022-04-28T17:12:44.046Z"
      },
      {
        "duration": 35,
        "start_time": "2022-04-28T17:12:44.115Z"
      },
      {
        "duration": 49,
        "start_time": "2022-04-28T17:12:44.153Z"
      },
      {
        "duration": 17,
        "start_time": "2022-04-28T17:12:44.205Z"
      },
      {
        "duration": 14,
        "start_time": "2022-04-28T17:12:44.224Z"
      },
      {
        "duration": 185,
        "start_time": "2022-04-28T17:12:44.240Z"
      },
      {
        "duration": 0,
        "start_time": "2022-04-28T17:12:44.428Z"
      },
      {
        "duration": 0,
        "start_time": "2022-04-28T17:12:44.430Z"
      },
      {
        "duration": 2121,
        "start_time": "2022-04-28T17:13:16.320Z"
      },
      {
        "duration": 653,
        "start_time": "2022-04-28T17:13:22.864Z"
      },
      {
        "duration": 27,
        "start_time": "2022-04-28T17:13:23.520Z"
      },
      {
        "duration": 72,
        "start_time": "2022-04-28T17:13:23.549Z"
      },
      {
        "duration": 17,
        "start_time": "2022-04-28T17:13:23.624Z"
      },
      {
        "duration": 166,
        "start_time": "2022-04-28T17:13:23.644Z"
      },
      {
        "duration": 45,
        "start_time": "2022-04-28T17:13:23.812Z"
      },
      {
        "duration": 34,
        "start_time": "2022-04-28T17:13:23.886Z"
      },
      {
        "duration": 68,
        "start_time": "2022-04-28T17:13:23.923Z"
      },
      {
        "duration": 24,
        "start_time": "2022-04-28T17:13:23.994Z"
      },
      {
        "duration": 13,
        "start_time": "2022-04-28T17:13:24.021Z"
      },
      {
        "duration": 52,
        "start_time": "2022-04-28T17:13:24.036Z"
      },
      {
        "duration": 143,
        "start_time": "2022-04-28T17:13:24.091Z"
      },
      {
        "duration": 0,
        "start_time": "2022-04-28T17:13:24.236Z"
      },
      {
        "duration": 0,
        "start_time": "2022-04-28T17:13:24.237Z"
      },
      {
        "duration": 17,
        "start_time": "2022-04-28T17:25:22.400Z"
      },
      {
        "duration": 16,
        "start_time": "2022-04-28T17:33:47.918Z"
      },
      {
        "duration": 14,
        "start_time": "2022-04-28T17:35:52.618Z"
      },
      {
        "duration": 15,
        "start_time": "2022-04-28T17:36:25.677Z"
      },
      {
        "duration": 133,
        "start_time": "2022-04-28T17:42:10.626Z"
      },
      {
        "duration": 18,
        "start_time": "2022-04-28T17:42:21.273Z"
      },
      {
        "duration": 129,
        "start_time": "2022-04-28T17:42:43.952Z"
      },
      {
        "duration": 18,
        "start_time": "2022-04-28T17:43:09.975Z"
      },
      {
        "duration": 19,
        "start_time": "2022-04-28T17:43:26.187Z"
      },
      {
        "duration": 17,
        "start_time": "2022-04-28T17:44:13.796Z"
      },
      {
        "duration": 7,
        "start_time": "2022-04-28T19:15:24.971Z"
      },
      {
        "duration": 119,
        "start_time": "2022-04-28T19:15:40.510Z"
      },
      {
        "duration": 116,
        "start_time": "2022-04-28T19:15:57.676Z"
      },
      {
        "duration": 19,
        "start_time": "2022-04-28T19:16:10.857Z"
      },
      {
        "duration": 12,
        "start_time": "2022-04-28T19:16:53.316Z"
      },
      {
        "duration": 14,
        "start_time": "2022-04-28T19:18:11.919Z"
      },
      {
        "duration": 13,
        "start_time": "2022-04-28T19:18:49.958Z"
      },
      {
        "duration": 14,
        "start_time": "2022-04-28T19:19:58.842Z"
      },
      {
        "duration": 13,
        "start_time": "2022-04-28T19:20:21.443Z"
      },
      {
        "duration": 13,
        "start_time": "2022-04-28T19:22:14.099Z"
      },
      {
        "duration": 12,
        "start_time": "2022-04-28T19:22:45.662Z"
      },
      {
        "duration": 18,
        "start_time": "2022-04-28T19:23:18.897Z"
      },
      {
        "duration": 134,
        "start_time": "2022-04-28T19:26:28.505Z"
      },
      {
        "duration": 19,
        "start_time": "2022-04-28T19:26:34.379Z"
      },
      {
        "duration": 20,
        "start_time": "2022-04-28T19:26:59.992Z"
      },
      {
        "duration": 20,
        "start_time": "2022-04-28T19:27:57.013Z"
      },
      {
        "duration": 17,
        "start_time": "2022-04-28T19:28:15.535Z"
      },
      {
        "duration": 31,
        "start_time": "2022-04-28T19:31:31.332Z"
      },
      {
        "duration": 24,
        "start_time": "2022-04-28T19:32:05.206Z"
      },
      {
        "duration": 27,
        "start_time": "2022-04-28T19:35:29.411Z"
      },
      {
        "duration": 31,
        "start_time": "2022-04-28T19:46:45.077Z"
      },
      {
        "duration": 28,
        "start_time": "2022-04-28T19:47:49.381Z"
      },
      {
        "duration": 27,
        "start_time": "2022-04-28T19:47:56.381Z"
      },
      {
        "duration": 27,
        "start_time": "2022-04-28T19:48:42.020Z"
      },
      {
        "duration": 24,
        "start_time": "2022-04-28T19:49:03.398Z"
      },
      {
        "duration": 23,
        "start_time": "2022-04-28T19:50:35.973Z"
      },
      {
        "duration": 20,
        "start_time": "2022-04-28T19:52:03.131Z"
      },
      {
        "duration": 18,
        "start_time": "2022-04-28T19:53:33.638Z"
      },
      {
        "duration": 19,
        "start_time": "2022-04-28T19:54:49.796Z"
      },
      {
        "duration": 23,
        "start_time": "2022-04-28T19:55:26.807Z"
      },
      {
        "duration": 27,
        "start_time": "2022-04-28T19:57:05.803Z"
      },
      {
        "duration": 25,
        "start_time": "2022-04-28T19:57:28.834Z"
      },
      {
        "duration": 21,
        "start_time": "2022-04-28T19:57:47.360Z"
      },
      {
        "duration": 32,
        "start_time": "2022-04-28T19:59:46.558Z"
      },
      {
        "duration": 25,
        "start_time": "2022-04-28T20:01:54.659Z"
      },
      {
        "duration": 583,
        "start_time": "2022-04-28T20:02:49.113Z"
      },
      {
        "duration": 30,
        "start_time": "2022-04-28T20:02:49.700Z"
      },
      {
        "duration": 76,
        "start_time": "2022-04-28T20:02:49.733Z"
      },
      {
        "duration": 18,
        "start_time": "2022-04-28T20:02:49.812Z"
      },
      {
        "duration": 167,
        "start_time": "2022-04-28T20:02:49.833Z"
      },
      {
        "duration": 161,
        "start_time": "2022-04-28T20:02:50.003Z"
      },
      {
        "duration": 0,
        "start_time": "2022-04-28T20:02:50.166Z"
      },
      {
        "duration": 0,
        "start_time": "2022-04-28T20:02:50.168Z"
      },
      {
        "duration": 0,
        "start_time": "2022-04-28T20:02:50.170Z"
      },
      {
        "duration": 0,
        "start_time": "2022-04-28T20:02:50.171Z"
      },
      {
        "duration": 0,
        "start_time": "2022-04-28T20:02:50.173Z"
      },
      {
        "duration": 0,
        "start_time": "2022-04-28T20:02:50.174Z"
      },
      {
        "duration": 0,
        "start_time": "2022-04-28T20:02:50.176Z"
      },
      {
        "duration": 0,
        "start_time": "2022-04-28T20:02:50.177Z"
      },
      {
        "duration": 44,
        "start_time": "2022-04-28T20:03:10.495Z"
      },
      {
        "duration": 32,
        "start_time": "2022-04-28T20:03:17.037Z"
      },
      {
        "duration": 37,
        "start_time": "2022-04-28T20:03:28.823Z"
      },
      {
        "duration": 28,
        "start_time": "2022-04-28T20:03:36.850Z"
      },
      {
        "duration": 27,
        "start_time": "2022-04-28T20:08:41.203Z"
      },
      {
        "duration": 22,
        "start_time": "2022-04-28T20:10:01.527Z"
      },
      {
        "duration": 13,
        "start_time": "2022-04-28T20:13:39.512Z"
      },
      {
        "duration": 17,
        "start_time": "2022-04-28T20:14:25.630Z"
      },
      {
        "duration": 14,
        "start_time": "2022-04-28T20:14:40.049Z"
      },
      {
        "duration": 26,
        "start_time": "2022-04-28T20:16:23.277Z"
      },
      {
        "duration": 13,
        "start_time": "2022-04-28T20:16:33.300Z"
      },
      {
        "duration": 17,
        "start_time": "2022-04-28T20:19:07.914Z"
      },
      {
        "duration": 670,
        "start_time": "2022-04-28T20:23:02.778Z"
      },
      {
        "duration": 42,
        "start_time": "2022-04-28T20:23:03.451Z"
      },
      {
        "duration": 42,
        "start_time": "2022-04-28T20:23:03.496Z"
      },
      {
        "duration": 54,
        "start_time": "2022-04-28T20:23:03.542Z"
      },
      {
        "duration": 142,
        "start_time": "2022-04-28T20:23:03.598Z"
      },
      {
        "duration": 59,
        "start_time": "2022-04-28T20:23:03.743Z"
      },
      {
        "duration": 30,
        "start_time": "2022-04-28T20:23:03.805Z"
      },
      {
        "duration": 63,
        "start_time": "2022-04-28T20:23:03.838Z"
      },
      {
        "duration": 20,
        "start_time": "2022-04-28T20:23:03.904Z"
      },
      {
        "duration": 11,
        "start_time": "2022-04-28T20:23:03.927Z"
      },
      {
        "duration": 43,
        "start_time": "2022-04-28T20:23:03.940Z"
      },
      {
        "duration": 14,
        "start_time": "2022-04-28T20:23:03.985Z"
      },
      {
        "duration": 102,
        "start_time": "2022-04-28T20:24:22.269Z"
      },
      {
        "duration": 27,
        "start_time": "2022-04-28T20:25:14.886Z"
      },
      {
        "duration": 45,
        "start_time": "2022-04-28T20:29:34.812Z"
      },
      {
        "duration": 110,
        "start_time": "2022-04-28T20:31:07.913Z"
      },
      {
        "duration": 950,
        "start_time": "2022-04-28T20:31:49.201Z"
      },
      {
        "duration": 96,
        "start_time": "2022-04-28T20:32:00.848Z"
      },
      {
        "duration": 29,
        "start_time": "2022-04-28T20:32:06.411Z"
      },
      {
        "duration": 958,
        "start_time": "2022-04-28T20:32:09.682Z"
      },
      {
        "duration": 946,
        "start_time": "2022-04-28T20:32:35.609Z"
      },
      {
        "duration": 22,
        "start_time": "2022-04-28T20:32:59.359Z"
      },
      {
        "duration": 23,
        "start_time": "2022-04-28T20:33:03.803Z"
      },
      {
        "duration": 96,
        "start_time": "2022-04-28T20:33:09.408Z"
      },
      {
        "duration": 27,
        "start_time": "2022-04-28T20:33:12.449Z"
      },
      {
        "duration": 31,
        "start_time": "2022-04-28T20:33:14.507Z"
      },
      {
        "duration": 59,
        "start_time": "2022-04-28T20:33:43.837Z"
      },
      {
        "duration": 101,
        "start_time": "2022-04-28T20:33:51.257Z"
      },
      {
        "duration": 29,
        "start_time": "2022-04-28T20:33:54.961Z"
      },
      {
        "duration": 59,
        "start_time": "2022-04-28T20:33:58.791Z"
      },
      {
        "duration": 55,
        "start_time": "2022-04-28T20:34:20.742Z"
      },
      {
        "duration": 97,
        "start_time": "2022-04-28T20:34:24.313Z"
      },
      {
        "duration": 27,
        "start_time": "2022-04-28T20:34:26.618Z"
      },
      {
        "duration": 60,
        "start_time": "2022-04-28T20:34:29.174Z"
      },
      {
        "duration": 55,
        "start_time": "2022-04-28T20:35:13.303Z"
      },
      {
        "duration": 153,
        "start_time": "2022-04-28T20:35:17.609Z"
      },
      {
        "duration": 28,
        "start_time": "2022-04-28T20:35:19.635Z"
      },
      {
        "duration": 47,
        "start_time": "2022-04-28T20:35:22.435Z"
      },
      {
        "duration": 24,
        "start_time": "2022-04-28T20:35:39.862Z"
      },
      {
        "duration": 135,
        "start_time": "2022-04-28T20:35:43.442Z"
      },
      {
        "duration": 44,
        "start_time": "2022-04-28T20:35:45.775Z"
      },
      {
        "duration": 29,
        "start_time": "2022-04-28T20:35:47.952Z"
      },
      {
        "duration": 24,
        "start_time": "2022-04-28T20:36:07.428Z"
      },
      {
        "duration": 95,
        "start_time": "2022-04-28T20:36:13.089Z"
      },
      {
        "duration": 28,
        "start_time": "2022-04-28T20:36:15.306Z"
      },
      {
        "duration": 22,
        "start_time": "2022-04-28T20:36:18.044Z"
      },
      {
        "duration": 45,
        "start_time": "2022-04-28T20:37:05.242Z"
      },
      {
        "duration": 719,
        "start_time": "2022-04-28T20:37:19.070Z"
      },
      {
        "duration": 30,
        "start_time": "2022-04-28T20:37:19.793Z"
      },
      {
        "duration": 89,
        "start_time": "2022-04-28T20:37:19.825Z"
      },
      {
        "duration": 20,
        "start_time": "2022-04-28T20:37:19.918Z"
      },
      {
        "duration": 164,
        "start_time": "2022-04-28T20:37:19.943Z"
      },
      {
        "duration": 48,
        "start_time": "2022-04-28T20:37:20.110Z"
      },
      {
        "duration": 34,
        "start_time": "2022-04-28T20:37:20.182Z"
      },
      {
        "duration": 66,
        "start_time": "2022-04-28T20:37:20.218Z"
      },
      {
        "duration": 17,
        "start_time": "2022-04-28T20:37:20.286Z"
      },
      {
        "duration": 27,
        "start_time": "2022-04-28T20:37:20.305Z"
      },
      {
        "duration": 19,
        "start_time": "2022-04-28T20:37:20.334Z"
      },
      {
        "duration": 36,
        "start_time": "2022-04-28T20:37:20.355Z"
      },
      {
        "duration": 63,
        "start_time": "2022-04-28T20:39:20.561Z"
      },
      {
        "duration": 584,
        "start_time": "2022-04-28T20:51:40.824Z"
      },
      {
        "duration": 42,
        "start_time": "2022-04-28T20:51:41.411Z"
      },
      {
        "duration": 65,
        "start_time": "2022-04-28T20:51:41.455Z"
      },
      {
        "duration": 18,
        "start_time": "2022-04-28T20:51:41.523Z"
      },
      {
        "duration": 163,
        "start_time": "2022-04-28T20:51:41.543Z"
      },
      {
        "duration": 45,
        "start_time": "2022-04-28T20:51:41.708Z"
      },
      {
        "duration": 53,
        "start_time": "2022-04-28T20:51:41.755Z"
      },
      {
        "duration": 38,
        "start_time": "2022-04-28T20:51:41.810Z"
      },
      {
        "duration": 44,
        "start_time": "2022-04-28T20:51:41.850Z"
      },
      {
        "duration": 11,
        "start_time": "2022-04-28T20:51:41.897Z"
      },
      {
        "duration": 13,
        "start_time": "2022-04-28T20:51:41.910Z"
      },
      {
        "duration": 16,
        "start_time": "2022-04-28T20:51:41.925Z"
      },
      {
        "duration": 1503,
        "start_time": "2022-05-03T10:52:43.042Z"
      },
      {
        "duration": 99,
        "start_time": "2022-05-03T10:52:44.551Z"
      },
      {
        "duration": 182,
        "start_time": "2022-05-03T10:52:44.657Z"
      },
      {
        "duration": 91,
        "start_time": "2022-05-03T10:52:44.845Z"
      },
      {
        "duration": 319,
        "start_time": "2022-05-03T10:52:44.942Z"
      },
      {
        "duration": 170,
        "start_time": "2022-05-03T10:52:45.263Z"
      },
      {
        "duration": 100,
        "start_time": "2022-05-03T10:52:45.436Z"
      },
      {
        "duration": 105,
        "start_time": "2022-05-03T10:52:45.539Z"
      },
      {
        "duration": 188,
        "start_time": "2022-05-03T10:52:45.648Z"
      },
      {
        "duration": 25,
        "start_time": "2022-05-03T10:52:45.839Z"
      },
      {
        "duration": 71,
        "start_time": "2022-05-03T10:52:45.867Z"
      },
      {
        "duration": 98,
        "start_time": "2022-05-03T10:52:45.941Z"
      },
      {
        "duration": 20,
        "start_time": "2022-05-03T10:54:15.567Z"
      },
      {
        "duration": 98,
        "start_time": "2022-05-03T14:21:40.758Z"
      },
      {
        "duration": 803,
        "start_time": "2022-05-03T14:21:50.820Z"
      },
      {
        "duration": 61,
        "start_time": "2022-05-03T14:21:51.626Z"
      },
      {
        "duration": 71,
        "start_time": "2022-05-03T14:21:51.689Z"
      },
      {
        "duration": 49,
        "start_time": "2022-05-03T14:21:51.764Z"
      },
      {
        "duration": 176,
        "start_time": "2022-05-03T14:21:51.815Z"
      },
      {
        "duration": 68,
        "start_time": "2022-05-03T14:21:51.994Z"
      },
      {
        "duration": 69,
        "start_time": "2022-05-03T14:21:52.066Z"
      },
      {
        "duration": 77,
        "start_time": "2022-05-03T14:21:52.137Z"
      },
      {
        "duration": 25,
        "start_time": "2022-05-03T14:21:52.217Z"
      },
      {
        "duration": 12,
        "start_time": "2022-05-03T14:21:52.247Z"
      },
      {
        "duration": 35,
        "start_time": "2022-05-03T14:21:52.261Z"
      },
      {
        "duration": 57,
        "start_time": "2022-05-03T14:21:52.298Z"
      },
      {
        "duration": 35,
        "start_time": "2022-05-03T14:22:16.806Z"
      },
      {
        "duration": 36,
        "start_time": "2022-05-03T14:23:04.433Z"
      },
      {
        "duration": 50,
        "start_time": "2022-05-03T14:23:23.088Z"
      },
      {
        "duration": 144,
        "start_time": "2022-05-03T14:23:46.774Z"
      },
      {
        "duration": 36,
        "start_time": "2022-05-03T14:24:56.703Z"
      },
      {
        "duration": 48,
        "start_time": "2022-05-03T14:26:07.702Z"
      },
      {
        "duration": 36,
        "start_time": "2022-05-03T14:26:15.250Z"
      },
      {
        "duration": 52,
        "start_time": "2022-05-03T14:27:01.471Z"
      },
      {
        "duration": 34,
        "start_time": "2022-05-03T14:27:41.953Z"
      },
      {
        "duration": 30,
        "start_time": "2022-05-03T14:31:13.174Z"
      },
      {
        "duration": 27,
        "start_time": "2022-05-03T14:33:57.410Z"
      },
      {
        "duration": 30,
        "start_time": "2022-05-03T14:36:10.459Z"
      },
      {
        "duration": 161,
        "start_time": "2022-05-03T14:37:23.977Z"
      },
      {
        "duration": 29,
        "start_time": "2022-05-03T14:37:33.443Z"
      },
      {
        "duration": 23,
        "start_time": "2022-05-03T14:39:56.840Z"
      },
      {
        "duration": 28,
        "start_time": "2022-05-03T14:44:28.111Z"
      },
      {
        "duration": 33,
        "start_time": "2022-05-03T14:44:50.521Z"
      },
      {
        "duration": 27,
        "start_time": "2022-05-03T14:45:14.326Z"
      },
      {
        "duration": 30,
        "start_time": "2022-05-03T14:45:58.726Z"
      },
      {
        "duration": 22,
        "start_time": "2022-05-03T14:47:34.295Z"
      },
      {
        "duration": 35,
        "start_time": "2022-05-03T14:48:44.043Z"
      },
      {
        "duration": 138,
        "start_time": "2022-05-03T15:06:52.837Z"
      },
      {
        "duration": 136,
        "start_time": "2022-05-03T15:10:21.093Z"
      },
      {
        "duration": 122,
        "start_time": "2022-05-03T15:11:03.335Z"
      },
      {
        "duration": 628,
        "start_time": "2022-05-03T15:19:10.158Z"
      },
      {
        "duration": 116,
        "start_time": "2022-05-03T15:19:10.788Z"
      },
      {
        "duration": 28,
        "start_time": "2022-05-03T15:19:10.906Z"
      },
      {
        "duration": 71,
        "start_time": "2022-05-03T15:19:10.937Z"
      },
      {
        "duration": 19,
        "start_time": "2022-05-03T15:19:11.010Z"
      },
      {
        "duration": 152,
        "start_time": "2022-05-03T15:19:11.031Z"
      },
      {
        "duration": 45,
        "start_time": "2022-05-03T15:19:11.185Z"
      },
      {
        "duration": 55,
        "start_time": "2022-05-03T15:19:11.232Z"
      },
      {
        "duration": 40,
        "start_time": "2022-05-03T15:19:11.289Z"
      },
      {
        "duration": 23,
        "start_time": "2022-05-03T15:19:11.333Z"
      },
      {
        "duration": 25,
        "start_time": "2022-05-03T15:19:11.382Z"
      },
      {
        "duration": 28,
        "start_time": "2022-05-03T15:19:11.411Z"
      },
      {
        "duration": 181,
        "start_time": "2022-05-03T15:19:11.442Z"
      },
      {
        "duration": 30,
        "start_time": "2022-05-03T15:19:33.830Z"
      },
      {
        "duration": 22,
        "start_time": "2022-05-03T15:19:38.029Z"
      },
      {
        "duration": 23,
        "start_time": "2022-05-03T15:19:41.210Z"
      },
      {
        "duration": 35,
        "start_time": "2022-05-03T15:19:44.518Z"
      },
      {
        "duration": 495,
        "start_time": "2022-05-03T15:19:54.489Z"
      },
      {
        "duration": 114,
        "start_time": "2022-05-03T15:19:54.987Z"
      },
      {
        "duration": 30,
        "start_time": "2022-05-03T15:19:55.104Z"
      },
      {
        "duration": 78,
        "start_time": "2022-05-03T15:19:55.138Z"
      },
      {
        "duration": 18,
        "start_time": "2022-05-03T15:19:55.218Z"
      },
      {
        "duration": 163,
        "start_time": "2022-05-03T15:19:55.239Z"
      },
      {
        "duration": 55,
        "start_time": "2022-05-03T15:19:55.404Z"
      },
      {
        "duration": 64,
        "start_time": "2022-05-03T15:19:55.461Z"
      },
      {
        "duration": 64,
        "start_time": "2022-05-03T15:19:55.528Z"
      },
      {
        "duration": 33,
        "start_time": "2022-05-03T15:19:55.596Z"
      },
      {
        "duration": 20,
        "start_time": "2022-05-03T15:19:55.632Z"
      },
      {
        "duration": 24,
        "start_time": "2022-05-03T15:19:55.682Z"
      },
      {
        "duration": 32,
        "start_time": "2022-05-03T15:19:55.709Z"
      }
    ],
    "kernelspec": {
      "name": "python",
      "display_name": "Python (Pyodide)",
      "language": "python"
    },
    "language_info": {
      "codemirror_mode": {
        "name": "python",
        "version": 3
      },
      "file_extension": ".py",
      "mimetype": "text/x-python",
      "name": "python",
      "nbconvert_exporter": "python",
      "pygments_lexer": "ipython3",
      "version": "3.8"
    },
    "toc": {
      "base_numbering": 1,
      "nav_menu": {},
      "number_sections": true,
      "sideBar": true,
      "skip_h1_title": true,
      "title_cell": "Table of Contents",
      "title_sidebar": "Contents",
      "toc_cell": false,
      "toc_position": {},
      "toc_section_display": true,
      "toc_window_display": false
    }
  },
  "nbformat_minor": 5,
  "nbformat": 4,
  "cells": [
    {
      "cell_type": "markdown",
      "source": "# Исследование надежности заемщиков.",
      "metadata": {},
      "id": "c4880eb9"
    },
    {
      "cell_type": "markdown",
      "source": "**Заказчик — кредитный отдел банка. \nНужно разобраться, влияет ли семейное положение и количество детей клиента на факт погашения кредита в срок. \nВходные данные от банка — статистика о платёжеспособности клиентов.**",
      "metadata": {},
      "id": "cf973afd"
    },
    {
      "cell_type": "markdown",
      "source": "### Шаг 1. Обзор данных",
      "metadata": {},
      "id": "b2c23650"
    },
    {
      "cell_type": "code",
      "source": "import pandas as pd \n# импортируем библиотеку pandas",
      "metadata": {},
      "execution_count": 1,
      "outputs": [],
      "id": "c57cc565"
    },
    {
      "cell_type": "code",
      "source": "data = pd.read_csv('/datasets/data.csv') # читаем датасет и записываем в переменную\ndata.info() # смотрим общую информацию о датасете\ndata.head() # выводим на экран первые 10 строк, чтобы изучить датасет",
      "metadata": {
        "scrolled": true
      },
      "execution_count": 2,
      "outputs": [
        {
          "name": "stdout",
          "output_type": "stream",
          "text": "<class 'pandas.core.frame.DataFrame'>\n\nRangeIndex: 21525 entries, 0 to 21524\n\nData columns (total 12 columns):\n\n #   Column            Non-Null Count  Dtype  \n\n---  ------            --------------  -----  \n\n 0   children          21525 non-null  int64  \n\n 1   days_employed     19351 non-null  float64\n\n 2   dob_years         21525 non-null  int64  \n\n 3   education         21525 non-null  object \n\n 4   education_id      21525 non-null  int64  \n\n 5   family_status     21525 non-null  object \n\n 6   family_status_id  21525 non-null  int64  \n\n 7   gender            21525 non-null  object \n\n 8   income_type       21525 non-null  object \n\n 9   debt              21525 non-null  int64  \n\n 10  total_income      19351 non-null  float64\n\n 11  purpose           21525 non-null  object \n\ndtypes: float64(2), int64(5), object(5)\n\nmemory usage: 2.0+ MB\n"
        },
        {
          "execution_count": 2,
          "output_type": "execute_result",
          "data": {
            "text/html": [
              "<div>\n",
              "<style scoped>\n",
              "    .dataframe tbody tr th:only-of-type {\n",
              "        vertical-align: middle;\n",
              "    }\n",
              "\n",
              "    .dataframe tbody tr th {\n",
              "        vertical-align: top;\n",
              "    }\n",
              "\n",
              "    .dataframe thead th {\n",
              "        text-align: right;\n",
              "    }\n",
              "</style>\n",
              "<table border=\"1\" class=\"dataframe\">\n",
              "  <thead>\n",
              "    <tr style=\"text-align: right;\">\n",
              "      <th></th>\n",
              "      <th>children</th>\n",
              "      <th>days_employed</th>\n",
              "      <th>dob_years</th>\n",
              "      <th>education</th>\n",
              "      <th>education_id</th>\n",
              "      <th>family_status</th>\n",
              "      <th>family_status_id</th>\n",
              "      <th>gender</th>\n",
              "      <th>income_type</th>\n",
              "      <th>debt</th>\n",
              "      <th>total_income</th>\n",
              "      <th>purpose</th>\n",
              "    </tr>\n",
              "  </thead>\n",
              "  <tbody>\n",
              "    <tr>\n",
              "      <th>0</th>\n",
              "      <td>1</td>\n",
              "      <td>-8437.673028</td>\n",
              "      <td>42</td>\n",
              "      <td>высшее</td>\n",
              "      <td>0</td>\n",
              "      <td>женат / замужем</td>\n",
              "      <td>0</td>\n",
              "      <td>F</td>\n",
              "      <td>сотрудник</td>\n",
              "      <td>0</td>\n",
              "      <td>253875.639453</td>\n",
              "      <td>покупка жилья</td>\n",
              "    </tr>\n",
              "    <tr>\n",
              "      <th>1</th>\n",
              "      <td>1</td>\n",
              "      <td>-4024.803754</td>\n",
              "      <td>36</td>\n",
              "      <td>среднее</td>\n",
              "      <td>1</td>\n",
              "      <td>женат / замужем</td>\n",
              "      <td>0</td>\n",
              "      <td>F</td>\n",
              "      <td>сотрудник</td>\n",
              "      <td>0</td>\n",
              "      <td>112080.014102</td>\n",
              "      <td>приобретение автомобиля</td>\n",
              "    </tr>\n",
              "    <tr>\n",
              "      <th>2</th>\n",
              "      <td>0</td>\n",
              "      <td>-5623.422610</td>\n",
              "      <td>33</td>\n",
              "      <td>Среднее</td>\n",
              "      <td>1</td>\n",
              "      <td>женат / замужем</td>\n",
              "      <td>0</td>\n",
              "      <td>M</td>\n",
              "      <td>сотрудник</td>\n",
              "      <td>0</td>\n",
              "      <td>145885.952297</td>\n",
              "      <td>покупка жилья</td>\n",
              "    </tr>\n",
              "    <tr>\n",
              "      <th>3</th>\n",
              "      <td>3</td>\n",
              "      <td>-4124.747207</td>\n",
              "      <td>32</td>\n",
              "      <td>среднее</td>\n",
              "      <td>1</td>\n",
              "      <td>женат / замужем</td>\n",
              "      <td>0</td>\n",
              "      <td>M</td>\n",
              "      <td>сотрудник</td>\n",
              "      <td>0</td>\n",
              "      <td>267628.550329</td>\n",
              "      <td>дополнительное образование</td>\n",
              "    </tr>\n",
              "    <tr>\n",
              "      <th>4</th>\n",
              "      <td>0</td>\n",
              "      <td>340266.072047</td>\n",
              "      <td>53</td>\n",
              "      <td>среднее</td>\n",
              "      <td>1</td>\n",
              "      <td>гражданский брак</td>\n",
              "      <td>1</td>\n",
              "      <td>F</td>\n",
              "      <td>пенсионер</td>\n",
              "      <td>0</td>\n",
              "      <td>158616.077870</td>\n",
              "      <td>сыграть свадьбу</td>\n",
              "    </tr>\n",
              "  </tbody>\n",
              "</table>\n",
              "</div>"
            ],
            "text/plain": [
              "   children  days_employed  dob_years education  education_id  \\\n",
              "0         1   -8437.673028         42    высшее             0   \n",
              "1         1   -4024.803754         36   среднее             1   \n",
              "2         0   -5623.422610         33   Среднее             1   \n",
              "3         3   -4124.747207         32   среднее             1   \n",
              "4         0  340266.072047         53   среднее             1   \n",
              "\n",
              "      family_status  family_status_id gender income_type  debt   total_income  \\\n",
              "0   женат / замужем                 0      F   сотрудник     0  253875.639453   \n",
              "1   женат / замужем                 0      F   сотрудник     0  112080.014102   \n",
              "2   женат / замужем                 0      M   сотрудник     0  145885.952297   \n",
              "3   женат / замужем                 0      M   сотрудник     0  267628.550329   \n",
              "4  гражданский брак                 1      F   пенсионер     0  158616.077870   \n",
              "\n",
              "                      purpose  \n",
              "0               покупка жилья  \n",
              "1     приобретение автомобиля  \n",
              "2               покупка жилья  \n",
              "3  дополнительное образование  \n",
              "4             сыграть свадьбу  "
            ]
          },
          "metadata": {}
        }
      ],
      "id": "3ee199a2"
    },
    {
      "cell_type": "markdown",
      "source": "Обнаруженные проблемы:\n1. Общий трудовой стаж days_employed во всех строках выражен отрицательными значениями. Также присутсвуют аномально высокие значения.\n2. В столбце education используются строчные и заглавные буквы.\n3. Есть пропущенные значения в столбцах days_employed и total_income, количество пропущенных значений совпадает.",
      "metadata": {},
      "id": "c2b6bb85"
    },
    {
      "cell_type": "markdown",
      "source": "### Шаг 2.1 Заполнение пропусков",
      "metadata": {},
      "id": "ae3c4ed0"
    },
    {
      "cell_type": "code",
      "source": "display(data['total_income'].isna().sum()) # считаем количество пропусков\ndisplay((data['total_income'].isna().sum() / len(data['total_income'])) * 100) \n# считаем отношение пропусков к длине столбца\ndata['total_income'] = data['total_income'].fillna(data['total_income'].median()) \n#заменяем пропуски на медианные значения\ndata.info() ",
      "metadata": {},
      "execution_count": 3,
      "outputs": [
        {
          "output_type": "display_data",
          "data": {
            "text/plain": [
              "2174"
            ]
          },
          "metadata": {}
        },
        {
          "output_type": "display_data",
          "data": {
            "text/plain": [
              "10.099883855981417"
            ]
          },
          "metadata": {}
        },
        {
          "name": "stdout",
          "output_type": "stream",
          "text": "<class 'pandas.core.frame.DataFrame'>\n\nRangeIndex: 21525 entries, 0 to 21524\n\nData columns (total 12 columns):\n\n #   Column            Non-Null Count  Dtype  \n\n---  ------            --------------  -----  \n\n 0   children          21525 non-null  int64  \n\n 1   days_employed     19351 non-null  float64\n\n 2   dob_years         21525 non-null  int64  \n\n 3   education         21525 non-null  object \n\n 4   education_id      21525 non-null  int64  \n\n 5   family_status     21525 non-null  object \n\n 6   family_status_id  21525 non-null  int64  \n\n 7   gender            21525 non-null  object \n\n 8   income_type       21525 non-null  object \n\n 9   debt              21525 non-null  int64  \n\n 10  total_income      21525 non-null  float64\n\n 11  purpose           21525 non-null  object \n\ndtypes: float64(2), int64(5), object(5)\n\nmemory usage: 2.0+ MB\n"
        }
      ],
      "id": "a3662f74"
    },
    {
      "cell_type": "markdown",
      "source": "Были обнаружены пропуски в столбце total_income. \nКоличество пропусков в каждом составляет 2 174 или около 10% от общего количеста.\nВозможно, пропуски образовались из-за того, что клиенты не заполнили эти данные о себе. \nИли не были занесены в базу оператором.\nЗаменили пропуски на медианные значения по столбцу. \nИспользовать медианные данные наиболее корректно, потому что в медиане отсечены крайние значения и они не оказывают сильное влияние на весь датафрейм.",
      "metadata": {},
      "id": "36cae195"
    },
    {
      "cell_type": "markdown",
      "source": "### Шаг 2.2 Проверка данных на аномалии и исправления.",
      "metadata": {},
      "id": "27860589"
    },
    {
      "cell_type": "code",
      "source": "data['days_employed'] = data['days_employed'].abs() \n# меняем отрицательные значения на положительные\ndata['days_employed'] = data['days_employed'].fillna(data['days_employed'].median()) \n# заменяем пропуски на медианные значения\ndata['days_employed'] = data['days_employed'].astype('int')\n# переводим вещественный тип в целочисленный\ndata.loc[data['days_employed'] > 14600, 'days_employed'] = data['days_employed'].median()\n# заменяем неадеватно большие значения медианными\ndata['children'] = data['children'].abs()\n# меняем отрицательные значения на положительные\ndata['children'] = data['children'].replace(20, 2)\n# сомневаемся, что сейчас есть семьи с 20-тью детьми и заменяем их на 2\ndata.info()\ndata.head()",
      "metadata": {},
      "execution_count": 4,
      "outputs": [
        {
          "name": "stdout",
          "output_type": "stream",
          "text": "<class 'pandas.core.frame.DataFrame'>\n\nRangeIndex: 21525 entries, 0 to 21524\n\nData columns (total 12 columns):\n\n #   Column            Non-Null Count  Dtype  \n\n---  ------            --------------  -----  \n\n 0   children          21525 non-null  int64  \n\n 1   days_employed     21525 non-null  float64\n\n 2   dob_years         21525 non-null  int64  \n\n 3   education         21525 non-null  object \n\n 4   education_id      21525 non-null  int64  \n\n 5   family_status     21525 non-null  object \n\n 6   family_status_id  21525 non-null  int64  \n\n 7   gender            21525 non-null  object \n\n 8   income_type       21525 non-null  object \n\n 9   debt              21525 non-null  int64  \n\n 10  total_income      21525 non-null  float64\n\n 11  purpose           21525 non-null  object \n\ndtypes: float64(2), int64(5), object(5)\n\nmemory usage: 2.0+ MB\n"
        },
        {
          "execution_count": 4,
          "output_type": "execute_result",
          "data": {
            "text/html": [
              "<div>\n",
              "<style scoped>\n",
              "    .dataframe tbody tr th:only-of-type {\n",
              "        vertical-align: middle;\n",
              "    }\n",
              "\n",
              "    .dataframe tbody tr th {\n",
              "        vertical-align: top;\n",
              "    }\n",
              "\n",
              "    .dataframe thead th {\n",
              "        text-align: right;\n",
              "    }\n",
              "</style>\n",
              "<table border=\"1\" class=\"dataframe\">\n",
              "  <thead>\n",
              "    <tr style=\"text-align: right;\">\n",
              "      <th></th>\n",
              "      <th>children</th>\n",
              "      <th>days_employed</th>\n",
              "      <th>dob_years</th>\n",
              "      <th>education</th>\n",
              "      <th>education_id</th>\n",
              "      <th>family_status</th>\n",
              "      <th>family_status_id</th>\n",
              "      <th>gender</th>\n",
              "      <th>income_type</th>\n",
              "      <th>debt</th>\n",
              "      <th>total_income</th>\n",
              "      <th>purpose</th>\n",
              "    </tr>\n",
              "  </thead>\n",
              "  <tbody>\n",
              "    <tr>\n",
              "      <th>0</th>\n",
              "      <td>1</td>\n",
              "      <td>8437.0</td>\n",
              "      <td>42</td>\n",
              "      <td>высшее</td>\n",
              "      <td>0</td>\n",
              "      <td>женат / замужем</td>\n",
              "      <td>0</td>\n",
              "      <td>F</td>\n",
              "      <td>сотрудник</td>\n",
              "      <td>0</td>\n",
              "      <td>253875.639453</td>\n",
              "      <td>покупка жилья</td>\n",
              "    </tr>\n",
              "    <tr>\n",
              "      <th>1</th>\n",
              "      <td>1</td>\n",
              "      <td>4024.0</td>\n",
              "      <td>36</td>\n",
              "      <td>среднее</td>\n",
              "      <td>1</td>\n",
              "      <td>женат / замужем</td>\n",
              "      <td>0</td>\n",
              "      <td>F</td>\n",
              "      <td>сотрудник</td>\n",
              "      <td>0</td>\n",
              "      <td>112080.014102</td>\n",
              "      <td>приобретение автомобиля</td>\n",
              "    </tr>\n",
              "    <tr>\n",
              "      <th>2</th>\n",
              "      <td>0</td>\n",
              "      <td>5623.0</td>\n",
              "      <td>33</td>\n",
              "      <td>Среднее</td>\n",
              "      <td>1</td>\n",
              "      <td>женат / замужем</td>\n",
              "      <td>0</td>\n",
              "      <td>M</td>\n",
              "      <td>сотрудник</td>\n",
              "      <td>0</td>\n",
              "      <td>145885.952297</td>\n",
              "      <td>покупка жилья</td>\n",
              "    </tr>\n",
              "    <tr>\n",
              "      <th>3</th>\n",
              "      <td>3</td>\n",
              "      <td>4124.0</td>\n",
              "      <td>32</td>\n",
              "      <td>среднее</td>\n",
              "      <td>1</td>\n",
              "      <td>женат / замужем</td>\n",
              "      <td>0</td>\n",
              "      <td>M</td>\n",
              "      <td>сотрудник</td>\n",
              "      <td>0</td>\n",
              "      <td>267628.550329</td>\n",
              "      <td>дополнительное образование</td>\n",
              "    </tr>\n",
              "    <tr>\n",
              "      <th>4</th>\n",
              "      <td>0</td>\n",
              "      <td>2194.0</td>\n",
              "      <td>53</td>\n",
              "      <td>среднее</td>\n",
              "      <td>1</td>\n",
              "      <td>гражданский брак</td>\n",
              "      <td>1</td>\n",
              "      <td>F</td>\n",
              "      <td>пенсионер</td>\n",
              "      <td>0</td>\n",
              "      <td>158616.077870</td>\n",
              "      <td>сыграть свадьбу</td>\n",
              "    </tr>\n",
              "  </tbody>\n",
              "</table>\n",
              "</div>"
            ],
            "text/plain": [
              "   children  days_employed  dob_years education  education_id  \\\n",
              "0         1         8437.0         42    высшее             0   \n",
              "1         1         4024.0         36   среднее             1   \n",
              "2         0         5623.0         33   Среднее             1   \n",
              "3         3         4124.0         32   среднее             1   \n",
              "4         0         2194.0         53   среднее             1   \n",
              "\n",
              "      family_status  family_status_id gender income_type  debt   total_income  \\\n",
              "0   женат / замужем                 0      F   сотрудник     0  253875.639453   \n",
              "1   женат / замужем                 0      F   сотрудник     0  112080.014102   \n",
              "2   женат / замужем                 0      M   сотрудник     0  145885.952297   \n",
              "3   женат / замужем                 0      M   сотрудник     0  267628.550329   \n",
              "4  гражданский брак                 1      F   пенсионер     0  158616.077870   \n",
              "\n",
              "                      purpose  \n",
              "0               покупка жилья  \n",
              "1     приобретение автомобиля  \n",
              "2               покупка жилья  \n",
              "3  дополнительное образование  \n",
              "4             сыграть свадьбу  "
            ]
          },
          "metadata": {}
        }
      ],
      "id": "ea77fa49"
    },
    {
      "cell_type": "markdown",
      "source": "В столбце days_employed трудовой стаж в днях был выражен отрицательным числом. \nСкорее всего, это произошло из-за некорректного переноса данных из анкеты в базу, \nвозможно, в анкете перед значением стояло тире.\nДанные были переведены в положительные числа и по аналогии со столбцом total_income \nпропуски были заменены на медианные значения, чтобы не искажать датафрейм, и переведены из вещественного типа в целочисленный.\nТакже обнаружены черезчур большие значения количества дней трудового стажа, которые невозможны в принципе.\nЗаменяем их на медианные значения.\nПоскольку количество детей не может быть отрицательным, заменяем всё на положительные значения.\nИ вряд ли в современных семьях есть по 20 детей, скорее всего это опечатка, поэтому меняем на 2.",
      "metadata": {},
      "id": "fef07c0d"
    },
    {
      "cell_type": "markdown",
      "source": "### Шаг 2.3. Изменение типов данных.",
      "metadata": {},
      "id": "ce283e21"
    },
    {
      "cell_type": "code",
      "source": "data['total_income'] = data['total_income'].astype('int') # переводим вещественный тип данных в целочисленный\ndata.head()",
      "metadata": {},
      "execution_count": 5,
      "outputs": [
        {
          "execution_count": 5,
          "output_type": "execute_result",
          "data": {
            "text/html": [
              "<div>\n",
              "<style scoped>\n",
              "    .dataframe tbody tr th:only-of-type {\n",
              "        vertical-align: middle;\n",
              "    }\n",
              "\n",
              "    .dataframe tbody tr th {\n",
              "        vertical-align: top;\n",
              "    }\n",
              "\n",
              "    .dataframe thead th {\n",
              "        text-align: right;\n",
              "    }\n",
              "</style>\n",
              "<table border=\"1\" class=\"dataframe\">\n",
              "  <thead>\n",
              "    <tr style=\"text-align: right;\">\n",
              "      <th></th>\n",
              "      <th>children</th>\n",
              "      <th>days_employed</th>\n",
              "      <th>dob_years</th>\n",
              "      <th>education</th>\n",
              "      <th>education_id</th>\n",
              "      <th>family_status</th>\n",
              "      <th>family_status_id</th>\n",
              "      <th>gender</th>\n",
              "      <th>income_type</th>\n",
              "      <th>debt</th>\n",
              "      <th>total_income</th>\n",
              "      <th>purpose</th>\n",
              "    </tr>\n",
              "  </thead>\n",
              "  <tbody>\n",
              "    <tr>\n",
              "      <th>0</th>\n",
              "      <td>1</td>\n",
              "      <td>8437.0</td>\n",
              "      <td>42</td>\n",
              "      <td>высшее</td>\n",
              "      <td>0</td>\n",
              "      <td>женат / замужем</td>\n",
              "      <td>0</td>\n",
              "      <td>F</td>\n",
              "      <td>сотрудник</td>\n",
              "      <td>0</td>\n",
              "      <td>253875</td>\n",
              "      <td>покупка жилья</td>\n",
              "    </tr>\n",
              "    <tr>\n",
              "      <th>1</th>\n",
              "      <td>1</td>\n",
              "      <td>4024.0</td>\n",
              "      <td>36</td>\n",
              "      <td>среднее</td>\n",
              "      <td>1</td>\n",
              "      <td>женат / замужем</td>\n",
              "      <td>0</td>\n",
              "      <td>F</td>\n",
              "      <td>сотрудник</td>\n",
              "      <td>0</td>\n",
              "      <td>112080</td>\n",
              "      <td>приобретение автомобиля</td>\n",
              "    </tr>\n",
              "    <tr>\n",
              "      <th>2</th>\n",
              "      <td>0</td>\n",
              "      <td>5623.0</td>\n",
              "      <td>33</td>\n",
              "      <td>Среднее</td>\n",
              "      <td>1</td>\n",
              "      <td>женат / замужем</td>\n",
              "      <td>0</td>\n",
              "      <td>M</td>\n",
              "      <td>сотрудник</td>\n",
              "      <td>0</td>\n",
              "      <td>145885</td>\n",
              "      <td>покупка жилья</td>\n",
              "    </tr>\n",
              "    <tr>\n",
              "      <th>3</th>\n",
              "      <td>3</td>\n",
              "      <td>4124.0</td>\n",
              "      <td>32</td>\n",
              "      <td>среднее</td>\n",
              "      <td>1</td>\n",
              "      <td>женат / замужем</td>\n",
              "      <td>0</td>\n",
              "      <td>M</td>\n",
              "      <td>сотрудник</td>\n",
              "      <td>0</td>\n",
              "      <td>267628</td>\n",
              "      <td>дополнительное образование</td>\n",
              "    </tr>\n",
              "    <tr>\n",
              "      <th>4</th>\n",
              "      <td>0</td>\n",
              "      <td>2194.0</td>\n",
              "      <td>53</td>\n",
              "      <td>среднее</td>\n",
              "      <td>1</td>\n",
              "      <td>гражданский брак</td>\n",
              "      <td>1</td>\n",
              "      <td>F</td>\n",
              "      <td>пенсионер</td>\n",
              "      <td>0</td>\n",
              "      <td>158616</td>\n",
              "      <td>сыграть свадьбу</td>\n",
              "    </tr>\n",
              "  </tbody>\n",
              "</table>\n",
              "</div>"
            ],
            "text/plain": [
              "   children  days_employed  dob_years education  education_id  \\\n",
              "0         1         8437.0         42    высшее             0   \n",
              "1         1         4024.0         36   среднее             1   \n",
              "2         0         5623.0         33   Среднее             1   \n",
              "3         3         4124.0         32   среднее             1   \n",
              "4         0         2194.0         53   среднее             1   \n",
              "\n",
              "      family_status  family_status_id gender income_type  debt  total_income  \\\n",
              "0   женат / замужем                 0      F   сотрудник     0        253875   \n",
              "1   женат / замужем                 0      F   сотрудник     0        112080   \n",
              "2   женат / замужем                 0      M   сотрудник     0        145885   \n",
              "3   женат / замужем                 0      M   сотрудник     0        267628   \n",
              "4  гражданский брак                 1      F   пенсионер     0        158616   \n",
              "\n",
              "                      purpose  \n",
              "0               покупка жилья  \n",
              "1     приобретение автомобиля  \n",
              "2               покупка жилья  \n",
              "3  дополнительное образование  \n",
              "4             сыграть свадьбу  "
            ]
          },
          "metadata": {}
        }
      ],
      "id": "f42584dc"
    },
    {
      "cell_type": "markdown",
      "source": "### Шаг 2.4. Удаление дубликатов.",
      "metadata": {},
      "id": "058fb71e"
    },
    {
      "cell_type": "code",
      "source": "display(data.duplicated().sum()) # подсчитываем количество дубликатов\ndata['education'] = data['education'].str.lower() # переводим значения в столбце в строчное написание\ndata['family_status'] = data['family_status'].str.lower() \n# переводим значения в столбце в строчное написание\ndisplay(data.duplicated().sum()) \n# подсчитываем количество дубликатов после приведения к единому нижнему регистру\ndata = data.drop_duplicates().reset_index(drop=True) # удаляем дубликаты и реиндексируем датафрейм\ndata.duplicated().sum() # снова посчитываем количество дубликатов\n\n",
      "metadata": {},
      "execution_count": 6,
      "outputs": [
        {
          "output_type": "display_data",
          "data": {
            "text/plain": [
              "54"
            ]
          },
          "metadata": {}
        },
        {
          "output_type": "display_data",
          "data": {
            "text/plain": [
              "71"
            ]
          },
          "metadata": {}
        },
        {
          "execution_count": 6,
          "output_type": "execute_result",
          "data": {
            "text/plain": [
              "0"
            ]
          },
          "metadata": {}
        }
      ],
      "id": "cc38f99d"
    },
    {
      "cell_type": "markdown",
      "source": "Изначально было обнаружено 54 дубликата, после приведения к единому нижнему регистру \nв столбцах количество дубликатов увеличилось до 71.\nВсе дубликаты были удалены.",
      "metadata": {},
      "id": "ae62616d"
    },
    {
      "cell_type": "markdown",
      "source": "### Шаг 2.5. Формирование дополнительных датафреймов словарей, декомпозиция исходного датафрейма.",
      "metadata": {},
      "id": "3eebbbba"
    },
    {
      "cell_type": "code",
      "source": "edu = data[['education', 'education_id']] # создаём датафрейм по образованию\nedu = edu.drop_duplicates().reset_index(drop=True) \n# удаляем из датафрейма дубликаты и пересчитываем индексы\nfam = data[['family_status', 'family_status_id']] # создаём датафрейм по семейному статусу\nfam = fam.drop_duplicates().reset_index(drop=True)\n# удаляем из датафрейма дубликаты и пересчитываем индексы\ndisplay(edu)\ndisplay(fam)\ndata = data.drop(['education', 'family_status'], axis=1) # удаляем столбцы из основого датафрейма\ndata.head()",
      "metadata": {},
      "execution_count": 7,
      "outputs": [
        {
          "output_type": "display_data",
          "data": {
            "text/html": [
              "<div>\n",
              "<style scoped>\n",
              "    .dataframe tbody tr th:only-of-type {\n",
              "        vertical-align: middle;\n",
              "    }\n",
              "\n",
              "    .dataframe tbody tr th {\n",
              "        vertical-align: top;\n",
              "    }\n",
              "\n",
              "    .dataframe thead th {\n",
              "        text-align: right;\n",
              "    }\n",
              "</style>\n",
              "<table border=\"1\" class=\"dataframe\">\n",
              "  <thead>\n",
              "    <tr style=\"text-align: right;\">\n",
              "      <th></th>\n",
              "      <th>education</th>\n",
              "      <th>education_id</th>\n",
              "    </tr>\n",
              "  </thead>\n",
              "  <tbody>\n",
              "    <tr>\n",
              "      <th>0</th>\n",
              "      <td>высшее</td>\n",
              "      <td>0</td>\n",
              "    </tr>\n",
              "    <tr>\n",
              "      <th>1</th>\n",
              "      <td>среднее</td>\n",
              "      <td>1</td>\n",
              "    </tr>\n",
              "    <tr>\n",
              "      <th>2</th>\n",
              "      <td>неоконченное высшее</td>\n",
              "      <td>2</td>\n",
              "    </tr>\n",
              "    <tr>\n",
              "      <th>3</th>\n",
              "      <td>начальное</td>\n",
              "      <td>3</td>\n",
              "    </tr>\n",
              "    <tr>\n",
              "      <th>4</th>\n",
              "      <td>ученая степень</td>\n",
              "      <td>4</td>\n",
              "    </tr>\n",
              "  </tbody>\n",
              "</table>\n",
              "</div>"
            ],
            "text/plain": [
              "             education  education_id\n",
              "0               высшее             0\n",
              "1              среднее             1\n",
              "2  неоконченное высшее             2\n",
              "3            начальное             3\n",
              "4       ученая степень             4"
            ]
          },
          "metadata": {}
        },
        {
          "output_type": "display_data",
          "data": {
            "text/html": [
              "<div>\n",
              "<style scoped>\n",
              "    .dataframe tbody tr th:only-of-type {\n",
              "        vertical-align: middle;\n",
              "    }\n",
              "\n",
              "    .dataframe tbody tr th {\n",
              "        vertical-align: top;\n",
              "    }\n",
              "\n",
              "    .dataframe thead th {\n",
              "        text-align: right;\n",
              "    }\n",
              "</style>\n",
              "<table border=\"1\" class=\"dataframe\">\n",
              "  <thead>\n",
              "    <tr style=\"text-align: right;\">\n",
              "      <th></th>\n",
              "      <th>family_status</th>\n",
              "      <th>family_status_id</th>\n",
              "    </tr>\n",
              "  </thead>\n",
              "  <tbody>\n",
              "    <tr>\n",
              "      <th>0</th>\n",
              "      <td>женат / замужем</td>\n",
              "      <td>0</td>\n",
              "    </tr>\n",
              "    <tr>\n",
              "      <th>1</th>\n",
              "      <td>гражданский брак</td>\n",
              "      <td>1</td>\n",
              "    </tr>\n",
              "    <tr>\n",
              "      <th>2</th>\n",
              "      <td>вдовец / вдова</td>\n",
              "      <td>2</td>\n",
              "    </tr>\n",
              "    <tr>\n",
              "      <th>3</th>\n",
              "      <td>в разводе</td>\n",
              "      <td>3</td>\n",
              "    </tr>\n",
              "    <tr>\n",
              "      <th>4</th>\n",
              "      <td>не женат / не замужем</td>\n",
              "      <td>4</td>\n",
              "    </tr>\n",
              "  </tbody>\n",
              "</table>\n",
              "</div>"
            ],
            "text/plain": [
              "           family_status  family_status_id\n",
              "0        женат / замужем                 0\n",
              "1       гражданский брак                 1\n",
              "2         вдовец / вдова                 2\n",
              "3              в разводе                 3\n",
              "4  не женат / не замужем                 4"
            ]
          },
          "metadata": {}
        },
        {
          "execution_count": 7,
          "output_type": "execute_result",
          "data": {
            "text/html": [
              "<div>\n",
              "<style scoped>\n",
              "    .dataframe tbody tr th:only-of-type {\n",
              "        vertical-align: middle;\n",
              "    }\n",
              "\n",
              "    .dataframe tbody tr th {\n",
              "        vertical-align: top;\n",
              "    }\n",
              "\n",
              "    .dataframe thead th {\n",
              "        text-align: right;\n",
              "    }\n",
              "</style>\n",
              "<table border=\"1\" class=\"dataframe\">\n",
              "  <thead>\n",
              "    <tr style=\"text-align: right;\">\n",
              "      <th></th>\n",
              "      <th>children</th>\n",
              "      <th>days_employed</th>\n",
              "      <th>dob_years</th>\n",
              "      <th>education_id</th>\n",
              "      <th>family_status_id</th>\n",
              "      <th>gender</th>\n",
              "      <th>income_type</th>\n",
              "      <th>debt</th>\n",
              "      <th>total_income</th>\n",
              "      <th>purpose</th>\n",
              "    </tr>\n",
              "  </thead>\n",
              "  <tbody>\n",
              "    <tr>\n",
              "      <th>0</th>\n",
              "      <td>1</td>\n",
              "      <td>8437.0</td>\n",
              "      <td>42</td>\n",
              "      <td>0</td>\n",
              "      <td>0</td>\n",
              "      <td>F</td>\n",
              "      <td>сотрудник</td>\n",
              "      <td>0</td>\n",
              "      <td>253875</td>\n",
              "      <td>покупка жилья</td>\n",
              "    </tr>\n",
              "    <tr>\n",
              "      <th>1</th>\n",
              "      <td>1</td>\n",
              "      <td>4024.0</td>\n",
              "      <td>36</td>\n",
              "      <td>1</td>\n",
              "      <td>0</td>\n",
              "      <td>F</td>\n",
              "      <td>сотрудник</td>\n",
              "      <td>0</td>\n",
              "      <td>112080</td>\n",
              "      <td>приобретение автомобиля</td>\n",
              "    </tr>\n",
              "    <tr>\n",
              "      <th>2</th>\n",
              "      <td>0</td>\n",
              "      <td>5623.0</td>\n",
              "      <td>33</td>\n",
              "      <td>1</td>\n",
              "      <td>0</td>\n",
              "      <td>M</td>\n",
              "      <td>сотрудник</td>\n",
              "      <td>0</td>\n",
              "      <td>145885</td>\n",
              "      <td>покупка жилья</td>\n",
              "    </tr>\n",
              "    <tr>\n",
              "      <th>3</th>\n",
              "      <td>3</td>\n",
              "      <td>4124.0</td>\n",
              "      <td>32</td>\n",
              "      <td>1</td>\n",
              "      <td>0</td>\n",
              "      <td>M</td>\n",
              "      <td>сотрудник</td>\n",
              "      <td>0</td>\n",
              "      <td>267628</td>\n",
              "      <td>дополнительное образование</td>\n",
              "    </tr>\n",
              "    <tr>\n",
              "      <th>4</th>\n",
              "      <td>0</td>\n",
              "      <td>2194.0</td>\n",
              "      <td>53</td>\n",
              "      <td>1</td>\n",
              "      <td>1</td>\n",
              "      <td>F</td>\n",
              "      <td>пенсионер</td>\n",
              "      <td>0</td>\n",
              "      <td>158616</td>\n",
              "      <td>сыграть свадьбу</td>\n",
              "    </tr>\n",
              "  </tbody>\n",
              "</table>\n",
              "</div>"
            ],
            "text/plain": [
              "   children  days_employed  dob_years  education_id  family_status_id gender  \\\n",
              "0         1         8437.0         42             0                 0      F   \n",
              "1         1         4024.0         36             1                 0      F   \n",
              "2         0         5623.0         33             1                 0      M   \n",
              "3         3         4124.0         32             1                 0      M   \n",
              "4         0         2194.0         53             1                 1      F   \n",
              "\n",
              "  income_type  debt  total_income                     purpose  \n",
              "0   сотрудник     0        253875               покупка жилья  \n",
              "1   сотрудник     0        112080     приобретение автомобиля  \n",
              "2   сотрудник     0        145885               покупка жилья  \n",
              "3   сотрудник     0        267628  дополнительное образование  \n",
              "4   пенсионер     0        158616             сыграть свадьбу  "
            ]
          },
          "metadata": {}
        }
      ],
      "id": "91b4000c"
    },
    {
      "cell_type": "markdown",
      "source": "### Шаг 2.6. Категоризация дохода.",
      "metadata": {},
      "id": "f2e213ec"
    },
    {
      "cell_type": "code",
      "source": "def income_cat(total_income):\n    if 0 <= total_income <= 30000:\n        return 'E'\n    if 30001 <= total_income <= 50000:\n        return 'D'\n    if 50001 <= total_income <= 200000:\n        return 'C'\n    if 200001 <= total_income <= 1000000:\n        return 'B'\n    if total_income >= 1000001:\n        return 'A'\n    \n    \"\"\"создаём функцию, которая относит клиентов к разной категории в зависимости от дохода\"\"\"\n\ndata['total_income_category'] = data['total_income'].apply(income_cat) \n# добавляем новый столбец с категорией дохода использую функцию выше\ndata.head()",
      "metadata": {
        "scrolled": true
      },
      "execution_count": 8,
      "outputs": [
        {
          "execution_count": 8,
          "output_type": "execute_result",
          "data": {
            "text/html": [
              "<div>\n",
              "<style scoped>\n",
              "    .dataframe tbody tr th:only-of-type {\n",
              "        vertical-align: middle;\n",
              "    }\n",
              "\n",
              "    .dataframe tbody tr th {\n",
              "        vertical-align: top;\n",
              "    }\n",
              "\n",
              "    .dataframe thead th {\n",
              "        text-align: right;\n",
              "    }\n",
              "</style>\n",
              "<table border=\"1\" class=\"dataframe\">\n",
              "  <thead>\n",
              "    <tr style=\"text-align: right;\">\n",
              "      <th></th>\n",
              "      <th>children</th>\n",
              "      <th>days_employed</th>\n",
              "      <th>dob_years</th>\n",
              "      <th>education_id</th>\n",
              "      <th>family_status_id</th>\n",
              "      <th>gender</th>\n",
              "      <th>income_type</th>\n",
              "      <th>debt</th>\n",
              "      <th>total_income</th>\n",
              "      <th>purpose</th>\n",
              "      <th>total_income_category</th>\n",
              "    </tr>\n",
              "  </thead>\n",
              "  <tbody>\n",
              "    <tr>\n",
              "      <th>0</th>\n",
              "      <td>1</td>\n",
              "      <td>8437.0</td>\n",
              "      <td>42</td>\n",
              "      <td>0</td>\n",
              "      <td>0</td>\n",
              "      <td>F</td>\n",
              "      <td>сотрудник</td>\n",
              "      <td>0</td>\n",
              "      <td>253875</td>\n",
              "      <td>покупка жилья</td>\n",
              "      <td>B</td>\n",
              "    </tr>\n",
              "    <tr>\n",
              "      <th>1</th>\n",
              "      <td>1</td>\n",
              "      <td>4024.0</td>\n",
              "      <td>36</td>\n",
              "      <td>1</td>\n",
              "      <td>0</td>\n",
              "      <td>F</td>\n",
              "      <td>сотрудник</td>\n",
              "      <td>0</td>\n",
              "      <td>112080</td>\n",
              "      <td>приобретение автомобиля</td>\n",
              "      <td>C</td>\n",
              "    </tr>\n",
              "    <tr>\n",
              "      <th>2</th>\n",
              "      <td>0</td>\n",
              "      <td>5623.0</td>\n",
              "      <td>33</td>\n",
              "      <td>1</td>\n",
              "      <td>0</td>\n",
              "      <td>M</td>\n",
              "      <td>сотрудник</td>\n",
              "      <td>0</td>\n",
              "      <td>145885</td>\n",
              "      <td>покупка жилья</td>\n",
              "      <td>C</td>\n",
              "    </tr>\n",
              "    <tr>\n",
              "      <th>3</th>\n",
              "      <td>3</td>\n",
              "      <td>4124.0</td>\n",
              "      <td>32</td>\n",
              "      <td>1</td>\n",
              "      <td>0</td>\n",
              "      <td>M</td>\n",
              "      <td>сотрудник</td>\n",
              "      <td>0</td>\n",
              "      <td>267628</td>\n",
              "      <td>дополнительное образование</td>\n",
              "      <td>B</td>\n",
              "    </tr>\n",
              "    <tr>\n",
              "      <th>4</th>\n",
              "      <td>0</td>\n",
              "      <td>2194.0</td>\n",
              "      <td>53</td>\n",
              "      <td>1</td>\n",
              "      <td>1</td>\n",
              "      <td>F</td>\n",
              "      <td>пенсионер</td>\n",
              "      <td>0</td>\n",
              "      <td>158616</td>\n",
              "      <td>сыграть свадьбу</td>\n",
              "      <td>C</td>\n",
              "    </tr>\n",
              "  </tbody>\n",
              "</table>\n",
              "</div>"
            ],
            "text/plain": [
              "   children  days_employed  dob_years  education_id  family_status_id gender  \\\n",
              "0         1         8437.0         42             0                 0      F   \n",
              "1         1         4024.0         36             1                 0      F   \n",
              "2         0         5623.0         33             1                 0      M   \n",
              "3         3         4124.0         32             1                 0      M   \n",
              "4         0         2194.0         53             1                 1      F   \n",
              "\n",
              "  income_type  debt  total_income                     purpose  \\\n",
              "0   сотрудник     0        253875               покупка жилья   \n",
              "1   сотрудник     0        112080     приобретение автомобиля   \n",
              "2   сотрудник     0        145885               покупка жилья   \n",
              "3   сотрудник     0        267628  дополнительное образование   \n",
              "4   пенсионер     0        158616             сыграть свадьбу   \n",
              "\n",
              "  total_income_category  \n",
              "0                     B  \n",
              "1                     C  \n",
              "2                     C  \n",
              "3                     B  \n",
              "4                     C  "
            ]
          },
          "metadata": {}
        }
      ],
      "id": "4c808603"
    },
    {
      "cell_type": "markdown",
      "source": "### Шаг 2.7. Категоризация целей кредита.",
      "metadata": {},
      "id": "f8c201e5"
    },
    {
      "cell_type": "code",
      "source": "display(data['purpose'].value_counts()) # смотрим, какие цели кредита присутсвуют в датафрейме\n\ndef purp_cat(purpose):\n    if 'свад' in purpose:\n        return 'проведение свадьбы'\n    if 'недв' in purpose or 'жил' in purpose:\n        return 'операции с недвижимостью'\n    if 'авт' in purpose:\n        return 'операции с автомобилем'\n    if 'образован' in purpose:\n        return 'получение образования'\n    \n    \"\"\"создаём функцию, которая относит клиентов к разным категориям в зависимости от цели кредита\"\"\"\n    \ndata['purpose_category'] = data['purpose'].apply(purp_cat)\n# добавляем новый столбец с категорией дохода использую функцию выше\ndata.tail()",
      "metadata": {},
      "execution_count": 9,
      "outputs": [
        {
          "output_type": "display_data",
          "data": {
            "text/plain": [
              "свадьба                                   791\n",
              "на проведение свадьбы                     768\n",
              "сыграть свадьбу                           765\n",
              "операции с недвижимостью                  675\n",
              "покупка коммерческой недвижимости         661\n",
              "операции с жильем                         652\n",
              "покупка жилья для сдачи                   651\n",
              "операции с коммерческой недвижимостью     650\n",
              "покупка жилья                             646\n",
              "жилье                                     646\n",
              "покупка жилья для семьи                   638\n",
              "строительство собственной недвижимости    635\n",
              "недвижимость                              633\n",
              "операции со своей недвижимостью           627\n",
              "строительство жилой недвижимости          624\n",
              "покупка недвижимости                      621\n",
              "покупка своего жилья                      620\n",
              "строительство недвижимости                619\n",
              "ремонт жилью                              607\n",
              "покупка жилой недвижимости                606\n",
              "на покупку своего автомобиля              505\n",
              "заняться высшим образованием              496\n",
              "автомобиль                                494\n",
              "сделка с подержанным автомобилем          486\n",
              "на покупку подержанного автомобиля        478\n",
              "свой автомобиль                           478\n",
              "автомобили                                478\n",
              "на покупку автомобиля                     471\n",
              "приобретение автомобиля                   461\n",
              "дополнительное образование                460\n",
              "сделка с автомобилем                      455\n",
              "высшее образование                        452\n",
              "образование                               447\n",
              "получение дополнительного образования     446\n",
              "получение образования                     442\n",
              "профильное образование                    436\n",
              "получение высшего образования             426\n",
              "заняться образованием                     408\n",
              "Name: purpose, dtype: int64"
            ]
          },
          "metadata": {}
        },
        {
          "execution_count": 9,
          "output_type": "execute_result",
          "data": {
            "text/html": [
              "<div>\n",
              "<style scoped>\n",
              "    .dataframe tbody tr th:only-of-type {\n",
              "        vertical-align: middle;\n",
              "    }\n",
              "\n",
              "    .dataframe tbody tr th {\n",
              "        vertical-align: top;\n",
              "    }\n",
              "\n",
              "    .dataframe thead th {\n",
              "        text-align: right;\n",
              "    }\n",
              "</style>\n",
              "<table border=\"1\" class=\"dataframe\">\n",
              "  <thead>\n",
              "    <tr style=\"text-align: right;\">\n",
              "      <th></th>\n",
              "      <th>children</th>\n",
              "      <th>days_employed</th>\n",
              "      <th>dob_years</th>\n",
              "      <th>education_id</th>\n",
              "      <th>family_status_id</th>\n",
              "      <th>gender</th>\n",
              "      <th>income_type</th>\n",
              "      <th>debt</th>\n",
              "      <th>total_income</th>\n",
              "      <th>purpose</th>\n",
              "      <th>total_income_category</th>\n",
              "      <th>purpose_category</th>\n",
              "    </tr>\n",
              "  </thead>\n",
              "  <tbody>\n",
              "    <tr>\n",
              "      <th>21449</th>\n",
              "      <td>1</td>\n",
              "      <td>4529.0</td>\n",
              "      <td>43</td>\n",
              "      <td>1</td>\n",
              "      <td>1</td>\n",
              "      <td>F</td>\n",
              "      <td>компаньон</td>\n",
              "      <td>0</td>\n",
              "      <td>224791</td>\n",
              "      <td>операции с жильем</td>\n",
              "      <td>B</td>\n",
              "      <td>операции с недвижимостью</td>\n",
              "    </tr>\n",
              "    <tr>\n",
              "      <th>21450</th>\n",
              "      <td>0</td>\n",
              "      <td>2194.0</td>\n",
              "      <td>67</td>\n",
              "      <td>1</td>\n",
              "      <td>0</td>\n",
              "      <td>F</td>\n",
              "      <td>пенсионер</td>\n",
              "      <td>0</td>\n",
              "      <td>155999</td>\n",
              "      <td>сделка с автомобилем</td>\n",
              "      <td>C</td>\n",
              "      <td>операции с автомобилем</td>\n",
              "    </tr>\n",
              "    <tr>\n",
              "      <th>21451</th>\n",
              "      <td>1</td>\n",
              "      <td>2113.0</td>\n",
              "      <td>38</td>\n",
              "      <td>1</td>\n",
              "      <td>1</td>\n",
              "      <td>M</td>\n",
              "      <td>сотрудник</td>\n",
              "      <td>1</td>\n",
              "      <td>89672</td>\n",
              "      <td>недвижимость</td>\n",
              "      <td>C</td>\n",
              "      <td>операции с недвижимостью</td>\n",
              "    </tr>\n",
              "    <tr>\n",
              "      <th>21452</th>\n",
              "      <td>3</td>\n",
              "      <td>3112.0</td>\n",
              "      <td>38</td>\n",
              "      <td>1</td>\n",
              "      <td>0</td>\n",
              "      <td>M</td>\n",
              "      <td>сотрудник</td>\n",
              "      <td>1</td>\n",
              "      <td>244093</td>\n",
              "      <td>на покупку своего автомобиля</td>\n",
              "      <td>B</td>\n",
              "      <td>операции с автомобилем</td>\n",
              "    </tr>\n",
              "    <tr>\n",
              "      <th>21453</th>\n",
              "      <td>2</td>\n",
              "      <td>1984.0</td>\n",
              "      <td>40</td>\n",
              "      <td>1</td>\n",
              "      <td>0</td>\n",
              "      <td>F</td>\n",
              "      <td>сотрудник</td>\n",
              "      <td>0</td>\n",
              "      <td>82047</td>\n",
              "      <td>на покупку автомобиля</td>\n",
              "      <td>C</td>\n",
              "      <td>операции с автомобилем</td>\n",
              "    </tr>\n",
              "  </tbody>\n",
              "</table>\n",
              "</div>"
            ],
            "text/plain": [
              "       children  days_employed  dob_years  education_id  family_status_id  \\\n",
              "21449         1         4529.0         43             1                 1   \n",
              "21450         0         2194.0         67             1                 0   \n",
              "21451         1         2113.0         38             1                 1   \n",
              "21452         3         3112.0         38             1                 0   \n",
              "21453         2         1984.0         40             1                 0   \n",
              "\n",
              "      gender income_type  debt  total_income                       purpose  \\\n",
              "21449      F   компаньон     0        224791             операции с жильем   \n",
              "21450      F   пенсионер     0        155999          сделка с автомобилем   \n",
              "21451      M   сотрудник     1         89672                  недвижимость   \n",
              "21452      M   сотрудник     1        244093  на покупку своего автомобиля   \n",
              "21453      F   сотрудник     0         82047         на покупку автомобиля   \n",
              "\n",
              "      total_income_category          purpose_category  \n",
              "21449                     B  операции с недвижимостью  \n",
              "21450                     C    операции с автомобилем  \n",
              "21451                     C  операции с недвижимостью  \n",
              "21452                     B    операции с автомобилем  \n",
              "21453                     C    операции с автомобилем  "
            ]
          },
          "metadata": {}
        }
      ],
      "id": "b01de015"
    },
    {
      "cell_type": "markdown",
      "source": "### Ответы на вопросы.",
      "metadata": {},
      "id": "458ec70a"
    },
    {
      "cell_type": "markdown",
      "source": "##### Вопрос 1:",
      "metadata": {},
      "id": "82b7675f"
    },
    {
      "cell_type": "markdown",
      "source": "Есть ли зависимость между количеством детей и возвратом кредита в срок?",
      "metadata": {},
      "id": "b8571cbd"
    },
    {
      "cell_type": "code",
      "source": "data_debt = data[data['debt'] == 1] # выделяем датафрейм с заёмщиками, не вернувшими вовремя кредит\ndisplay((data.pivot_table(index='children', values='debt', aggfunc='mean') * 100)\n        .sort_values(by='debt', ascending=False))\n# а смотрим процент не вовремя возвращённых в срок кредитов \n# в зависимости от количества детей у клиента.",
      "metadata": {},
      "execution_count": 10,
      "outputs": [
        {
          "output_type": "display_data",
          "data": {
            "text/html": [
              "<div>\n",
              "<style scoped>\n",
              "    .dataframe tbody tr th:only-of-type {\n",
              "        vertical-align: middle;\n",
              "    }\n",
              "\n",
              "    .dataframe tbody tr th {\n",
              "        vertical-align: top;\n",
              "    }\n",
              "\n",
              "    .dataframe thead th {\n",
              "        text-align: right;\n",
              "    }\n",
              "</style>\n",
              "<table border=\"1\" class=\"dataframe\">\n",
              "  <thead>\n",
              "    <tr style=\"text-align: right;\">\n",
              "      <th></th>\n",
              "      <th>debt</th>\n",
              "    </tr>\n",
              "    <tr>\n",
              "      <th>children</th>\n",
              "      <th></th>\n",
              "    </tr>\n",
              "  </thead>\n",
              "  <tbody>\n",
              "    <tr>\n",
              "      <th>4</th>\n",
              "      <td>9.756098</td>\n",
              "    </tr>\n",
              "    <tr>\n",
              "      <th>2</th>\n",
              "      <td>9.492481</td>\n",
              "    </tr>\n",
              "    <tr>\n",
              "      <th>1</th>\n",
              "      <td>9.165808</td>\n",
              "    </tr>\n",
              "    <tr>\n",
              "      <th>3</th>\n",
              "      <td>8.181818</td>\n",
              "    </tr>\n",
              "    <tr>\n",
              "      <th>0</th>\n",
              "      <td>7.543822</td>\n",
              "    </tr>\n",
              "    <tr>\n",
              "      <th>5</th>\n",
              "      <td>0.000000</td>\n",
              "    </tr>\n",
              "  </tbody>\n",
              "</table>\n",
              "</div>"
            ],
            "text/plain": [
              "              debt\n",
              "children          \n",
              "4         9.756098\n",
              "2         9.492481\n",
              "1         9.165808\n",
              "3         8.181818\n",
              "0         7.543822\n",
              "5         0.000000"
            ]
          },
          "metadata": {}
        }
      ],
      "id": "cf277575"
    },
    {
      "cell_type": "markdown",
      "source": "**Вывод:** \n\nкак видно из исследования, клиенты с детьми чаще не возвращают кредит вовремя. Клиентов с 5 детьми очень мало и все они вернули кредит вовремя.",
      "metadata": {},
      "id": "156bf6e5"
    },
    {
      "cell_type": "markdown",
      "source": "##### Вопрос 2:",
      "metadata": {},
      "id": "7508a4fc"
    },
    {
      "cell_type": "markdown",
      "source": "Есть ли зависимость между семейным положением и возвратом кредита в срок?",
      "metadata": {},
      "id": "3feb03a8"
    },
    {
      "cell_type": "code",
      "source": "display((data.pivot_table(index='family_status_id', values='debt', aggfunc='mean') * 100)\n        .sort_values(by='debt', ascending=False))\n# смотрим процент не вовремя возвращённых кредитов в зависимости от семейного положения клиента",
      "metadata": {},
      "execution_count": 11,
      "outputs": [
        {
          "output_type": "display_data",
          "data": {
            "text/html": [
              "<div>\n",
              "<style scoped>\n",
              "    .dataframe tbody tr th:only-of-type {\n",
              "        vertical-align: middle;\n",
              "    }\n",
              "\n",
              "    .dataframe tbody tr th {\n",
              "        vertical-align: top;\n",
              "    }\n",
              "\n",
              "    .dataframe thead th {\n",
              "        text-align: right;\n",
              "    }\n",
              "</style>\n",
              "<table border=\"1\" class=\"dataframe\">\n",
              "  <thead>\n",
              "    <tr style=\"text-align: right;\">\n",
              "      <th></th>\n",
              "      <th>debt</th>\n",
              "    </tr>\n",
              "    <tr>\n",
              "      <th>family_status_id</th>\n",
              "      <th></th>\n",
              "    </tr>\n",
              "  </thead>\n",
              "  <tbody>\n",
              "    <tr>\n",
              "      <th>4</th>\n",
              "      <td>9.750890</td>\n",
              "    </tr>\n",
              "    <tr>\n",
              "      <th>1</th>\n",
              "      <td>9.347145</td>\n",
              "    </tr>\n",
              "    <tr>\n",
              "      <th>0</th>\n",
              "      <td>7.545182</td>\n",
              "    </tr>\n",
              "    <tr>\n",
              "      <th>3</th>\n",
              "      <td>7.112971</td>\n",
              "    </tr>\n",
              "    <tr>\n",
              "      <th>2</th>\n",
              "      <td>6.569343</td>\n",
              "    </tr>\n",
              "  </tbody>\n",
              "</table>\n",
              "</div>"
            ],
            "text/plain": [
              "                      debt\n",
              "family_status_id          \n",
              "4                 9.750890\n",
              "1                 9.347145\n",
              "0                 7.545182\n",
              "3                 7.112971\n",
              "2                 6.569343"
            ]
          },
          "metadata": {}
        }
      ],
      "id": "c2ef389f"
    },
    {
      "cell_type": "markdown",
      "source": "**Вывод:** \n\nисходя из исследования, хуже всего возвращают кредит вовремя клиенты, которые никогда не были в браке и клиенты, которые находятся в гражданском браке, лучше всех вдовцы и вдовы.",
      "metadata": {},
      "id": "94c78a41"
    },
    {
      "cell_type": "markdown",
      "source": "##### Вопрос 3:\n\nЕсть ли зависимость между уровнем дохода и возвратом кредита в срок?",
      "metadata": {},
      "id": "0c609527"
    },
    {
      "cell_type": "code",
      "source": "display((data.pivot_table(index='total_income_category', values='debt', aggfunc='mean') * 100)\n        .sort_values(by='debt', ascending=False))\n\n# смотрим процент не вовремя возвращённых кредитов в зависимости от категории дохода клиента\n",
      "metadata": {},
      "execution_count": 12,
      "outputs": [
        {
          "output_type": "display_data",
          "data": {
            "text/html": [
              "<div>\n",
              "<style scoped>\n",
              "    .dataframe tbody tr th:only-of-type {\n",
              "        vertical-align: middle;\n",
              "    }\n",
              "\n",
              "    .dataframe tbody tr th {\n",
              "        vertical-align: top;\n",
              "    }\n",
              "\n",
              "    .dataframe thead th {\n",
              "        text-align: right;\n",
              "    }\n",
              "</style>\n",
              "<table border=\"1\" class=\"dataframe\">\n",
              "  <thead>\n",
              "    <tr style=\"text-align: right;\">\n",
              "      <th></th>\n",
              "      <th>debt</th>\n",
              "    </tr>\n",
              "    <tr>\n",
              "      <th>total_income_category</th>\n",
              "      <th></th>\n",
              "    </tr>\n",
              "  </thead>\n",
              "  <tbody>\n",
              "    <tr>\n",
              "      <th>E</th>\n",
              "      <td>9.090909</td>\n",
              "    </tr>\n",
              "    <tr>\n",
              "      <th>C</th>\n",
              "      <td>8.491508</td>\n",
              "    </tr>\n",
              "    <tr>\n",
              "      <th>A</th>\n",
              "      <td>8.000000</td>\n",
              "    </tr>\n",
              "    <tr>\n",
              "      <th>B</th>\n",
              "      <td>7.062091</td>\n",
              "    </tr>\n",
              "    <tr>\n",
              "      <th>D</th>\n",
              "      <td>6.000000</td>\n",
              "    </tr>\n",
              "  </tbody>\n",
              "</table>\n",
              "</div>"
            ],
            "text/plain": [
              "                           debt\n",
              "total_income_category          \n",
              "E                      9.090909\n",
              "C                      8.491508\n",
              "A                      8.000000\n",
              "B                      7.062091\n",
              "D                      6.000000"
            ]
          },
          "metadata": {}
        }
      ],
      "id": "8fbc9c11"
    },
    {
      "cell_type": "markdown",
      "source": "**Вывод:** \n\nБольше всего вовремя кредит не возвращают клиенты со сверхвысокими доходами (хотя их очень мало в этом датасете и выборка может быть нерепрезентативна) и клиенты со средними доходами. Меньше всего не возвращают кредит вовремя клиенты с высокими доходами.",
      "metadata": {},
      "id": "25d4a579"
    },
    {
      "cell_type": "markdown",
      "source": "##### Вопрос 4:\n\nКак разные цели кредита влияют на его возврат в срок?",
      "metadata": {},
      "id": "7d369dda"
    },
    {
      "cell_type": "code",
      "source": "credit_aim = data_debt.groupby('purpose_category')['debt'].count()\n# разделяем клиентов, не вернувших кредит в срок, в зависимости от цели кредита\ncredit_aim_total = data.groupby('purpose_category')['debt'].count()\n# разделяем всех клиентов, взявших кредит, на группы в зависимости от цели кредита\ncredit_aim_ratio = (credit_aim / credit_aim_total) * 100\n# находим в процентах отношение числа клиентов не вернувших кредит от общего числа клиентов,\n# разделённых на группы в зависимости от целей кредитования\ndisplay(credit_aim_ratio.sort_values(ascending=False))\n\ndisplay((data.pivot_table(index='purpose_category', values='debt', aggfunc='mean') * 100)\n        .sort_values(by='debt', ascending=False))\n\n# смотрим процент не вовремя возвращённых кредитов в зависимости от цели получения кредита\n\n# для сравнения оставлены оба варианта решения",
      "metadata": {},
      "execution_count": 13,
      "outputs": [
        {
          "output_type": "display_data",
          "data": {
            "text/plain": [
              "purpose_category\n",
              "операции с автомобилем      9.359034\n",
              "получение образования       9.220035\n",
              "проведение свадьбы          8.003442\n",
              "операции с недвижимостью    7.233373\n",
              "Name: debt, dtype: float64"
            ]
          },
          "metadata": {}
        },
        {
          "output_type": "display_data",
          "data": {
            "text/html": [
              "<div>\n",
              "<style scoped>\n",
              "    .dataframe tbody tr th:only-of-type {\n",
              "        vertical-align: middle;\n",
              "    }\n",
              "\n",
              "    .dataframe tbody tr th {\n",
              "        vertical-align: top;\n",
              "    }\n",
              "\n",
              "    .dataframe thead th {\n",
              "        text-align: right;\n",
              "    }\n",
              "</style>\n",
              "<table border=\"1\" class=\"dataframe\">\n",
              "  <thead>\n",
              "    <tr style=\"text-align: right;\">\n",
              "      <th></th>\n",
              "      <th>debt</th>\n",
              "    </tr>\n",
              "    <tr>\n",
              "      <th>purpose_category</th>\n",
              "      <th></th>\n",
              "    </tr>\n",
              "  </thead>\n",
              "  <tbody>\n",
              "    <tr>\n",
              "      <th>операции с автомобилем</th>\n",
              "      <td>9.359034</td>\n",
              "    </tr>\n",
              "    <tr>\n",
              "      <th>получение образования</th>\n",
              "      <td>9.220035</td>\n",
              "    </tr>\n",
              "    <tr>\n",
              "      <th>проведение свадьбы</th>\n",
              "      <td>8.003442</td>\n",
              "    </tr>\n",
              "    <tr>\n",
              "      <th>операции с недвижимостью</th>\n",
              "      <td>7.233373</td>\n",
              "    </tr>\n",
              "  </tbody>\n",
              "</table>\n",
              "</div>"
            ],
            "text/plain": [
              "                              debt\n",
              "purpose_category                  \n",
              "операции с автомобилем    9.359034\n",
              "получение образования     9.220035\n",
              "проведение свадьбы        8.003442\n",
              "операции с недвижимостью  7.233373"
            ]
          },
          "metadata": {}
        }
      ],
      "id": "d209c28c"
    },
    {
      "cell_type": "markdown",
      "source": "**Вывод:** \n\nХуже всего возвращают кредит вовремя клиенты, \nкоторые берут деньги на операции, связанные с покупкой автомобиля, \nи на получение образование. Самые надежные заёмщики - это клиенты, \nкоторые берут деньги на операции с недвижимостью.",
      "metadata": {},
      "id": "7c6255e3"
    },
    {
      "cell_type": "markdown",
      "source": "## Общий вывод:",
      "metadata": {},
      "id": "2e93c9f8"
    },
    {
      "cell_type": "markdown",
      "source": "Если суммировать результат исследования, то выше всего вероятность не вернуть кредит в срок у клиентов, которые:\n- имеют детей\n- находятся в гражданском браке либо никогда не состояли в браке\n- имеют средний доход\n- берут деньги на операции с автомобилем или для получение образования\n\nСамыми благонадёжными являются клиенты, которые:\n- не имеют детей\n- овдовели, находятся в разводе или состоят в браке\n- имеют высокий доход\n- берут деньги на операции с недвижимостью\n\nВ целом, результаты выглядят непротиворечиво, их можно логически обосновать.",
      "metadata": {},
      "id": "0d77bec5"
    },
    {
      "cell_type": "markdown",
      "source": "В рамках исследования:\n1. открыли и изучили датасет\n2. нашли артефакты и аномальные значения\n3. исправили найденные проблемы в данных\n4. подготовили данные для дальнейшей работы\n5. обработали данные и получили информацию, на основании которой можно в дальнейшем строить гипотезы и принимать решения\n6. сделали выводы на основе полученной информации.\nКак видно из исследования, в датасете как в процессе предобработки, так и при непосредственной работе с данными, постоянно вылезают артефакты и ошибки в данных. Из чего можно сделать вывод, что к предобработке данных нужно подходить с осбой тщательностью, потому что никогда не знаешь какая ошибка и как может повлиять на ход исследованя.",
      "metadata": {},
      "id": "afe4b18e"
    }
  ]
}