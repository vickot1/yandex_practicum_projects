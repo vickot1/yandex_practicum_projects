{
  "metadata": {
    "ExecuteTimeLog": [
      {
        "duration": 2,
        "start_time": "2022-05-23T16:23:04.996Z"
      },
      {
        "duration": 179,
        "start_time": "2022-05-23T16:23:06.475Z"
      },
      {
        "duration": 189,
        "start_time": "2022-05-23T16:23:21.849Z"
      },
      {
        "duration": 190,
        "start_time": "2022-05-23T16:24:11.127Z"
      },
      {
        "duration": 162,
        "start_time": "2022-05-23T16:25:39.213Z"
      },
      {
        "duration": 67,
        "start_time": "2022-05-23T16:27:22.557Z"
      },
      {
        "duration": 97,
        "start_time": "2022-05-23T16:28:39.187Z"
      },
      {
        "duration": 467,
        "start_time": "2022-05-25T15:36:19.760Z"
      },
      {
        "duration": 267,
        "start_time": "2022-05-25T15:36:20.228Z"
      },
      {
        "duration": 471,
        "start_time": "2022-05-25T15:36:20.496Z"
      },
      {
        "duration": 314,
        "start_time": "2022-05-25T15:36:20.969Z"
      },
      {
        "duration": 75,
        "start_time": "2022-05-25T15:36:21.285Z"
      },
      {
        "duration": 67,
        "start_time": "2022-05-25T15:36:21.362Z"
      },
      {
        "duration": 165,
        "start_time": "2022-05-25T16:22:07.849Z"
      },
      {
        "duration": 3,
        "start_time": "2022-05-25T16:22:22.689Z"
      },
      {
        "duration": 195,
        "start_time": "2022-05-25T16:30:18.625Z"
      },
      {
        "duration": 186,
        "start_time": "2022-05-25T16:30:41.860Z"
      },
      {
        "duration": 72,
        "start_time": "2022-05-25T16:35:57.369Z"
      },
      {
        "duration": 9,
        "start_time": "2022-05-25T16:36:26.484Z"
      },
      {
        "duration": 12,
        "start_time": "2022-05-25T16:38:41.509Z"
      },
      {
        "duration": 8,
        "start_time": "2022-05-25T16:41:39.239Z"
      },
      {
        "duration": 458,
        "start_time": "2022-05-25T16:41:49.981Z"
      },
      {
        "duration": 195,
        "start_time": "2022-05-25T16:41:50.441Z"
      },
      {
        "duration": 157,
        "start_time": "2022-05-25T16:41:50.638Z"
      },
      {
        "duration": 107,
        "start_time": "2022-05-25T16:41:50.798Z"
      },
      {
        "duration": 25,
        "start_time": "2022-05-25T16:41:50.907Z"
      },
      {
        "duration": 38,
        "start_time": "2022-05-25T16:41:50.934Z"
      },
      {
        "duration": 70,
        "start_time": "2022-05-25T16:41:50.974Z"
      },
      {
        "duration": 12,
        "start_time": "2022-05-25T16:42:09.619Z"
      },
      {
        "duration": 3,
        "start_time": "2022-05-25T16:45:02.760Z"
      },
      {
        "duration": 11,
        "start_time": "2022-05-25T16:45:22.829Z"
      },
      {
        "duration": 193,
        "start_time": "2022-05-25T16:45:45.141Z"
      },
      {
        "duration": 9,
        "start_time": "2022-05-25T16:46:12.086Z"
      },
      {
        "duration": 128,
        "start_time": "2022-05-25T16:49:04.894Z"
      },
      {
        "duration": 10,
        "start_time": "2022-05-25T16:49:43.721Z"
      },
      {
        "duration": 9,
        "start_time": "2022-05-25T16:50:00.186Z"
      },
      {
        "duration": 520,
        "start_time": "2022-05-25T16:50:06.629Z"
      },
      {
        "duration": 200,
        "start_time": "2022-05-25T16:50:07.152Z"
      },
      {
        "duration": 158,
        "start_time": "2022-05-25T16:50:07.353Z"
      },
      {
        "duration": 105,
        "start_time": "2022-05-25T16:50:07.513Z"
      },
      {
        "duration": 26,
        "start_time": "2022-05-25T16:50:07.624Z"
      },
      {
        "duration": 42,
        "start_time": "2022-05-25T16:50:07.652Z"
      },
      {
        "duration": 10,
        "start_time": "2022-05-25T16:50:07.696Z"
      },
      {
        "duration": 10,
        "start_time": "2022-05-25T16:50:07.708Z"
      },
      {
        "duration": 12,
        "start_time": "2022-05-25T16:50:40.123Z"
      },
      {
        "duration": 495,
        "start_time": "2022-05-25T16:51:14.336Z"
      },
      {
        "duration": 212,
        "start_time": "2022-05-25T16:51:14.836Z"
      },
      {
        "duration": 160,
        "start_time": "2022-05-25T16:51:15.050Z"
      },
      {
        "duration": 105,
        "start_time": "2022-05-25T16:51:15.212Z"
      },
      {
        "duration": 24,
        "start_time": "2022-05-25T16:51:15.319Z"
      },
      {
        "duration": 41,
        "start_time": "2022-05-25T16:51:15.344Z"
      },
      {
        "duration": 12,
        "start_time": "2022-05-25T16:51:15.387Z"
      },
      {
        "duration": 24,
        "start_time": "2022-05-25T16:51:15.401Z"
      },
      {
        "duration": 31,
        "start_time": "2022-05-25T16:52:14.809Z"
      },
      {
        "duration": 11,
        "start_time": "2022-05-25T16:52:36.528Z"
      },
      {
        "duration": 10,
        "start_time": "2022-05-25T16:52:56.261Z"
      },
      {
        "duration": 458,
        "start_time": "2022-05-25T16:53:03.459Z"
      },
      {
        "duration": 191,
        "start_time": "2022-05-25T16:53:03.919Z"
      },
      {
        "duration": 157,
        "start_time": "2022-05-25T16:53:04.111Z"
      },
      {
        "duration": 102,
        "start_time": "2022-05-25T16:53:04.270Z"
      },
      {
        "duration": 24,
        "start_time": "2022-05-25T16:53:04.374Z"
      },
      {
        "duration": 39,
        "start_time": "2022-05-25T16:53:04.399Z"
      },
      {
        "duration": 10,
        "start_time": "2022-05-25T16:53:04.440Z"
      },
      {
        "duration": 10,
        "start_time": "2022-05-25T16:53:04.452Z"
      },
      {
        "duration": 11,
        "start_time": "2022-05-25T16:53:56.498Z"
      },
      {
        "duration": 533,
        "start_time": "2022-05-25T16:54:09.709Z"
      },
      {
        "duration": 205,
        "start_time": "2022-05-25T16:54:10.244Z"
      },
      {
        "duration": 164,
        "start_time": "2022-05-25T16:54:10.451Z"
      },
      {
        "duration": 109,
        "start_time": "2022-05-25T16:54:10.617Z"
      },
      {
        "duration": 27,
        "start_time": "2022-05-25T16:54:10.728Z"
      },
      {
        "duration": 39,
        "start_time": "2022-05-25T16:54:10.757Z"
      },
      {
        "duration": 11,
        "start_time": "2022-05-25T16:54:10.798Z"
      },
      {
        "duration": 17,
        "start_time": "2022-05-25T16:54:10.811Z"
      },
      {
        "duration": 489,
        "start_time": "2022-05-25T16:54:28.140Z"
      },
      {
        "duration": 198,
        "start_time": "2022-05-25T16:54:28.631Z"
      },
      {
        "duration": 162,
        "start_time": "2022-05-25T16:54:28.831Z"
      },
      {
        "duration": 114,
        "start_time": "2022-05-25T16:54:28.996Z"
      },
      {
        "duration": 37,
        "start_time": "2022-05-25T16:54:29.111Z"
      },
      {
        "duration": 44,
        "start_time": "2022-05-25T16:54:29.150Z"
      },
      {
        "duration": 12,
        "start_time": "2022-05-25T16:54:29.195Z"
      },
      {
        "duration": 18,
        "start_time": "2022-05-25T16:54:29.209Z"
      },
      {
        "duration": 82,
        "start_time": "2022-05-25T17:05:47.105Z"
      },
      {
        "duration": 38,
        "start_time": "2022-05-25T17:09:18.776Z"
      },
      {
        "duration": 39,
        "start_time": "2022-05-25T17:09:59.180Z"
      },
      {
        "duration": 60,
        "start_time": "2022-05-25T17:10:26.909Z"
      },
      {
        "duration": 61,
        "start_time": "2022-05-25T17:12:24.587Z"
      },
      {
        "duration": 50,
        "start_time": "2022-05-25T17:14:37.918Z"
      },
      {
        "duration": 510,
        "start_time": "2022-05-25T17:14:51.646Z"
      },
      {
        "duration": 193,
        "start_time": "2022-05-25T17:14:52.158Z"
      },
      {
        "duration": 158,
        "start_time": "2022-05-25T17:14:52.352Z"
      },
      {
        "duration": 127,
        "start_time": "2022-05-25T17:14:52.512Z"
      },
      {
        "duration": 35,
        "start_time": "2022-05-25T17:14:52.641Z"
      },
      {
        "duration": 47,
        "start_time": "2022-05-25T17:14:52.679Z"
      },
      {
        "duration": 63,
        "start_time": "2022-05-25T17:14:52.728Z"
      },
      {
        "duration": 63,
        "start_time": "2022-05-25T17:14:52.792Z"
      },
      {
        "duration": 502,
        "start_time": "2022-05-26T14:50:44.424Z"
      },
      {
        "duration": 267,
        "start_time": "2022-05-26T14:50:44.928Z"
      },
      {
        "duration": 384,
        "start_time": "2022-05-26T14:50:45.196Z"
      },
      {
        "duration": 333,
        "start_time": "2022-05-26T14:50:45.583Z"
      },
      {
        "duration": 71,
        "start_time": "2022-05-26T14:50:45.918Z"
      },
      {
        "duration": 79,
        "start_time": "2022-05-26T14:50:45.991Z"
      },
      {
        "duration": 65,
        "start_time": "2022-05-26T14:50:46.072Z"
      },
      {
        "duration": 67,
        "start_time": "2022-05-26T14:50:46.138Z"
      },
      {
        "duration": 77,
        "start_time": "2022-05-26T15:00:57.667Z"
      },
      {
        "duration": 72,
        "start_time": "2022-05-26T15:01:17.281Z"
      },
      {
        "duration": 71,
        "start_time": "2022-05-26T15:03:38.556Z"
      },
      {
        "duration": 156,
        "start_time": "2022-05-26T15:04:33.114Z"
      },
      {
        "duration": 60,
        "start_time": "2022-05-26T15:05:18.278Z"
      },
      {
        "duration": 9,
        "start_time": "2022-05-26T15:09:50.768Z"
      },
      {
        "duration": 10,
        "start_time": "2022-05-26T15:10:09.623Z"
      },
      {
        "duration": 17,
        "start_time": "2022-05-26T15:10:21.037Z"
      },
      {
        "duration": 99,
        "start_time": "2022-05-26T15:10:43.537Z"
      },
      {
        "duration": 26,
        "start_time": "2022-05-26T15:12:52.549Z"
      },
      {
        "duration": 21,
        "start_time": "2022-05-26T15:13:01.111Z"
      },
      {
        "duration": 17,
        "start_time": "2022-05-26T15:13:35.322Z"
      },
      {
        "duration": 68,
        "start_time": "2022-05-26T15:19:45.035Z"
      },
      {
        "duration": 45,
        "start_time": "2022-05-26T15:22:58.389Z"
      },
      {
        "duration": 37,
        "start_time": "2022-05-26T15:24:02.467Z"
      },
      {
        "duration": 550,
        "start_time": "2022-05-26T15:24:16.234Z"
      },
      {
        "duration": 212,
        "start_time": "2022-05-26T15:24:16.788Z"
      },
      {
        "duration": 165,
        "start_time": "2022-05-26T15:24:17.001Z"
      },
      {
        "duration": 122,
        "start_time": "2022-05-26T15:24:17.168Z"
      },
      {
        "duration": 26,
        "start_time": "2022-05-26T15:24:17.291Z"
      },
      {
        "duration": 43,
        "start_time": "2022-05-26T15:24:17.318Z"
      },
      {
        "duration": 119,
        "start_time": "2022-05-26T15:24:17.363Z"
      },
      {
        "duration": 79,
        "start_time": "2022-05-26T15:24:17.484Z"
      },
      {
        "duration": 55,
        "start_time": "2022-05-26T15:24:17.565Z"
      },
      {
        "duration": 37,
        "start_time": "2022-05-26T15:24:17.622Z"
      },
      {
        "duration": 46,
        "start_time": "2022-05-26T15:24:46.836Z"
      },
      {
        "duration": 99,
        "start_time": "2022-05-26T15:25:07.327Z"
      },
      {
        "duration": 22,
        "start_time": "2022-05-26T15:25:21.599Z"
      },
      {
        "duration": 32,
        "start_time": "2022-05-26T15:25:41.142Z"
      },
      {
        "duration": 61,
        "start_time": "2022-05-26T15:26:04.932Z"
      },
      {
        "duration": 10,
        "start_time": "2022-05-26T15:26:12.709Z"
      },
      {
        "duration": 14,
        "start_time": "2022-05-26T15:26:50.280Z"
      },
      {
        "duration": 22,
        "start_time": "2022-05-26T15:26:57.284Z"
      },
      {
        "duration": 539,
        "start_time": "2022-05-26T15:27:13.741Z"
      },
      {
        "duration": 210,
        "start_time": "2022-05-26T15:27:14.284Z"
      },
      {
        "duration": 187,
        "start_time": "2022-05-26T15:27:14.496Z"
      },
      {
        "duration": 121,
        "start_time": "2022-05-26T15:27:14.685Z"
      },
      {
        "duration": 28,
        "start_time": "2022-05-26T15:27:14.808Z"
      },
      {
        "duration": 63,
        "start_time": "2022-05-26T15:27:14.837Z"
      },
      {
        "duration": 100,
        "start_time": "2022-05-26T15:27:14.901Z"
      },
      {
        "duration": 82,
        "start_time": "2022-05-26T15:27:15.003Z"
      },
      {
        "duration": 49,
        "start_time": "2022-05-26T15:27:15.087Z"
      },
      {
        "duration": 30,
        "start_time": "2022-05-26T15:27:15.139Z"
      },
      {
        "duration": 63,
        "start_time": "2022-05-27T10:22:50.936Z"
      },
      {
        "duration": 496,
        "start_time": "2022-05-27T10:22:55.189Z"
      },
      {
        "duration": 739,
        "start_time": "2022-05-27T10:22:55.687Z"
      },
      {
        "duration": 425,
        "start_time": "2022-05-27T10:22:56.427Z"
      },
      {
        "duration": 182,
        "start_time": "2022-05-27T10:22:56.854Z"
      },
      {
        "duration": 64,
        "start_time": "2022-05-27T10:22:57.039Z"
      },
      {
        "duration": 79,
        "start_time": "2022-05-27T10:22:57.105Z"
      },
      {
        "duration": 89,
        "start_time": "2022-05-27T10:22:57.185Z"
      },
      {
        "duration": 64,
        "start_time": "2022-05-27T10:22:57.276Z"
      },
      {
        "duration": 55,
        "start_time": "2022-05-27T10:22:57.342Z"
      },
      {
        "duration": 18,
        "start_time": "2022-05-27T10:22:57.399Z"
      },
      {
        "duration": 22,
        "start_time": "2022-05-27T10:23:12.915Z"
      },
      {
        "duration": 549,
        "start_time": "2022-05-27T10:24:23.738Z"
      },
      {
        "duration": 36,
        "start_time": "2022-05-27T10:24:40.941Z"
      },
      {
        "duration": 23,
        "start_time": "2022-05-27T10:25:31.455Z"
      },
      {
        "duration": 17,
        "start_time": "2022-05-27T10:25:48.461Z"
      },
      {
        "duration": 52,
        "start_time": "2022-05-28T09:43:32.934Z"
      },
      {
        "duration": 604,
        "start_time": "2022-05-28T09:43:37.003Z"
      },
      {
        "duration": 497,
        "start_time": "2022-05-28T09:43:37.609Z"
      },
      {
        "duration": 437,
        "start_time": "2022-05-28T09:43:38.107Z"
      },
      {
        "duration": 150,
        "start_time": "2022-05-28T09:43:38.545Z"
      },
      {
        "duration": 72,
        "start_time": "2022-05-28T09:43:38.697Z"
      },
      {
        "duration": 82,
        "start_time": "2022-05-28T09:43:38.770Z"
      },
      {
        "duration": 92,
        "start_time": "2022-05-28T09:43:38.854Z"
      },
      {
        "duration": 73,
        "start_time": "2022-05-28T09:43:38.948Z"
      },
      {
        "duration": 44,
        "start_time": "2022-05-28T09:43:39.023Z"
      },
      {
        "duration": 35,
        "start_time": "2022-05-28T09:43:39.069Z"
      },
      {
        "duration": 49,
        "start_time": "2022-05-28T09:46:05.573Z"
      },
      {
        "duration": 27,
        "start_time": "2022-05-28T09:46:46.649Z"
      },
      {
        "duration": 105,
        "start_time": "2022-05-28T09:48:31.827Z"
      },
      {
        "duration": 28,
        "start_time": "2022-05-28T09:48:50.640Z"
      },
      {
        "duration": 39,
        "start_time": "2022-05-28T09:49:27.638Z"
      },
      {
        "duration": 586,
        "start_time": "2022-05-28T09:54:53.733Z"
      },
      {
        "duration": 52,
        "start_time": "2022-05-28T09:55:14.992Z"
      },
      {
        "duration": 44,
        "start_time": "2022-05-28T09:55:29.066Z"
      },
      {
        "duration": 71,
        "start_time": "2022-05-28T09:56:13.491Z"
      },
      {
        "duration": 38,
        "start_time": "2022-05-28T09:57:26.843Z"
      },
      {
        "duration": 498,
        "start_time": "2022-05-28T10:31:15.170Z"
      },
      {
        "duration": 38,
        "start_time": "2022-05-28T10:31:43.293Z"
      },
      {
        "duration": 57,
        "start_time": "2022-05-28T10:31:58.749Z"
      },
      {
        "duration": 60,
        "start_time": "2022-05-28T10:32:09.943Z"
      },
      {
        "duration": 52,
        "start_time": "2022-05-28T10:33:16.931Z"
      },
      {
        "duration": 52,
        "start_time": "2022-05-28T10:37:39.768Z"
      },
      {
        "duration": 615,
        "start_time": "2022-05-28T10:39:04.464Z"
      },
      {
        "duration": 54,
        "start_time": "2022-05-28T10:39:54.673Z"
      },
      {
        "duration": 67,
        "start_time": "2022-05-28T10:40:13.636Z"
      },
      {
        "duration": 52,
        "start_time": "2022-05-28T10:40:44.953Z"
      },
      {
        "duration": 56,
        "start_time": "2022-05-28T10:43:04.790Z"
      },
      {
        "duration": 555,
        "start_time": "2022-05-28T10:43:12.412Z"
      },
      {
        "duration": 352,
        "start_time": "2022-05-28T10:43:12.969Z"
      },
      {
        "duration": 222,
        "start_time": "2022-05-28T10:43:13.327Z"
      },
      {
        "duration": 147,
        "start_time": "2022-05-28T10:43:13.552Z"
      },
      {
        "duration": 40,
        "start_time": "2022-05-28T10:43:13.706Z"
      },
      {
        "duration": 38,
        "start_time": "2022-05-28T10:43:13.748Z"
      },
      {
        "duration": 99,
        "start_time": "2022-05-28T10:43:13.788Z"
      },
      {
        "duration": 82,
        "start_time": "2022-05-28T10:43:13.889Z"
      },
      {
        "duration": 64,
        "start_time": "2022-05-28T10:43:13.973Z"
      },
      {
        "duration": 39,
        "start_time": "2022-05-28T10:43:14.039Z"
      },
      {
        "duration": 24,
        "start_time": "2022-05-28T10:43:14.080Z"
      },
      {
        "duration": 33,
        "start_time": "2022-05-28T10:57:42.533Z"
      },
      {
        "duration": 8,
        "start_time": "2022-05-28T10:58:07.581Z"
      },
      {
        "duration": 89,
        "start_time": "2022-05-28T10:58:10.822Z"
      },
      {
        "duration": 9,
        "start_time": "2022-05-28T11:00:00.593Z"
      },
      {
        "duration": 23,
        "start_time": "2022-05-28T11:00:06.280Z"
      },
      {
        "duration": 47,
        "start_time": "2022-05-28T11:26:44.484Z"
      },
      {
        "duration": 61,
        "start_time": "2022-05-28T11:29:19.081Z"
      },
      {
        "duration": 54,
        "start_time": "2022-05-28T11:32:21.074Z"
      },
      {
        "duration": 5,
        "start_time": "2022-05-28T11:33:58.382Z"
      },
      {
        "duration": 17,
        "start_time": "2022-05-28T11:34:02.272Z"
      },
      {
        "duration": 101,
        "start_time": "2022-05-28T11:35:43.369Z"
      },
      {
        "duration": 22,
        "start_time": "2022-05-28T11:35:48.228Z"
      },
      {
        "duration": 4,
        "start_time": "2022-05-28T11:36:46.524Z"
      },
      {
        "duration": 17,
        "start_time": "2022-05-28T11:36:50.435Z"
      },
      {
        "duration": 50,
        "start_time": "2022-05-28T12:52:31.354Z"
      },
      {
        "duration": 3,
        "start_time": "2022-05-28T12:52:53.341Z"
      },
      {
        "duration": 5,
        "start_time": "2022-05-28T12:53:10.474Z"
      },
      {
        "duration": 22,
        "start_time": "2022-05-28T12:53:15.098Z"
      },
      {
        "duration": 3,
        "start_time": "2022-05-28T12:54:29.256Z"
      },
      {
        "duration": 5,
        "start_time": "2022-05-28T12:55:01.802Z"
      },
      {
        "duration": 4,
        "start_time": "2022-05-28T12:55:31.152Z"
      },
      {
        "duration": 4,
        "start_time": "2022-05-28T12:55:44.815Z"
      },
      {
        "duration": 22,
        "start_time": "2022-05-28T12:55:48.570Z"
      },
      {
        "duration": 14,
        "start_time": "2022-05-28T13:05:00.677Z"
      },
      {
        "duration": 3,
        "start_time": "2022-05-28T13:05:21.243Z"
      },
      {
        "duration": 14,
        "start_time": "2022-05-28T13:05:24.826Z"
      },
      {
        "duration": 4,
        "start_time": "2022-05-28T13:05:41.259Z"
      },
      {
        "duration": 22,
        "start_time": "2022-05-28T13:05:43.198Z"
      },
      {
        "duration": 4,
        "start_time": "2022-05-28T13:06:19.461Z"
      },
      {
        "duration": 14,
        "start_time": "2022-05-28T13:06:20.565Z"
      },
      {
        "duration": 3,
        "start_time": "2022-05-28T13:06:44.532Z"
      },
      {
        "duration": 66,
        "start_time": "2022-05-28T13:06:45.346Z"
      },
      {
        "duration": 4,
        "start_time": "2022-05-28T13:07:44.184Z"
      },
      {
        "duration": 44,
        "start_time": "2022-05-28T13:07:46.447Z"
      },
      {
        "duration": 7,
        "start_time": "2022-05-28T13:08:25.467Z"
      },
      {
        "duration": 77,
        "start_time": "2022-05-28T13:08:27.848Z"
      },
      {
        "duration": 55,
        "start_time": "2022-05-28T13:09:45.881Z"
      },
      {
        "duration": 34,
        "start_time": "2022-05-28T13:10:24.945Z"
      },
      {
        "duration": 7,
        "start_time": "2022-05-28T13:11:16.523Z"
      },
      {
        "duration": 74,
        "start_time": "2022-05-28T13:11:18.416Z"
      },
      {
        "duration": 10,
        "start_time": "2022-05-28T13:11:40.292Z"
      },
      {
        "duration": 56,
        "start_time": "2022-05-28T13:11:40.935Z"
      },
      {
        "duration": 76,
        "start_time": "2022-05-28T13:12:15.345Z"
      },
      {
        "duration": 43,
        "start_time": "2022-05-28T13:16:46.943Z"
      },
      {
        "duration": 17,
        "start_time": "2022-05-28T13:17:07.021Z"
      },
      {
        "duration": 11,
        "start_time": "2022-05-28T13:17:46.435Z"
      },
      {
        "duration": 72,
        "start_time": "2022-05-28T13:19:15.491Z"
      },
      {
        "duration": 20,
        "start_time": "2022-05-28T13:19:35.717Z"
      },
      {
        "duration": 47,
        "start_time": "2022-05-28T13:20:07.927Z"
      },
      {
        "duration": 60,
        "start_time": "2022-05-28T13:20:26.359Z"
      },
      {
        "duration": 34,
        "start_time": "2022-05-28T13:20:41.165Z"
      },
      {
        "duration": 95,
        "start_time": "2022-05-28T13:20:58.068Z"
      },
      {
        "duration": 61,
        "start_time": "2022-05-28T13:21:35.930Z"
      },
      {
        "duration": 5,
        "start_time": "2022-05-28T13:51:30.688Z"
      },
      {
        "duration": 5,
        "start_time": "2022-05-28T13:51:44.680Z"
      },
      {
        "duration": 6,
        "start_time": "2022-05-28T13:51:56.412Z"
      },
      {
        "duration": 12,
        "start_time": "2022-05-28T13:54:14.221Z"
      },
      {
        "duration": 7,
        "start_time": "2022-05-28T13:54:31.662Z"
      },
      {
        "duration": 8,
        "start_time": "2022-05-28T13:56:01.278Z"
      },
      {
        "duration": 1200,
        "start_time": "2022-05-28T13:56:41.295Z"
      },
      {
        "duration": 421,
        "start_time": "2022-05-28T13:56:55.526Z"
      },
      {
        "duration": 261,
        "start_time": "2022-05-28T13:58:16.412Z"
      },
      {
        "duration": 382,
        "start_time": "2022-05-28T14:00:39.539Z"
      },
      {
        "duration": 400,
        "start_time": "2022-05-28T14:00:59.086Z"
      },
      {
        "duration": 198,
        "start_time": "2022-05-28T14:02:46.726Z"
      },
      {
        "duration": 395,
        "start_time": "2022-05-28T14:09:45.636Z"
      },
      {
        "duration": 332,
        "start_time": "2022-05-28T14:10:03.087Z"
      },
      {
        "duration": 204,
        "start_time": "2022-05-28T14:10:14.716Z"
      },
      {
        "duration": 329,
        "start_time": "2022-05-28T14:16:00.053Z"
      },
      {
        "duration": 367,
        "start_time": "2022-05-28T14:16:34.956Z"
      },
      {
        "duration": 463,
        "start_time": "2022-05-28T14:16:57.725Z"
      },
      {
        "duration": 203,
        "start_time": "2022-05-28T14:18:54.517Z"
      },
      {
        "duration": 309,
        "start_time": "2022-05-28T14:19:04.827Z"
      },
      {
        "duration": 291,
        "start_time": "2022-05-28T14:21:31.083Z"
      },
      {
        "duration": 306,
        "start_time": "2022-05-28T14:21:46.993Z"
      },
      {
        "duration": 433,
        "start_time": "2022-05-28T14:21:53.581Z"
      },
      {
        "duration": 362,
        "start_time": "2022-05-28T14:23:12.909Z"
      },
      {
        "duration": 315,
        "start_time": "2022-05-28T14:23:44.071Z"
      },
      {
        "duration": 394,
        "start_time": "2022-05-28T14:24:20.074Z"
      },
      {
        "duration": 4,
        "start_time": "2022-05-28T14:27:35.976Z"
      },
      {
        "duration": 513,
        "start_time": "2022-05-29T12:12:13.304Z"
      },
      {
        "duration": 258,
        "start_time": "2022-05-29T12:12:13.819Z"
      },
      {
        "duration": 347,
        "start_time": "2022-05-29T12:12:14.079Z"
      },
      {
        "duration": 351,
        "start_time": "2022-05-29T12:12:14.428Z"
      },
      {
        "duration": 73,
        "start_time": "2022-05-29T12:12:14.780Z"
      },
      {
        "duration": 88,
        "start_time": "2022-05-29T12:12:14.855Z"
      },
      {
        "duration": 95,
        "start_time": "2022-05-29T12:12:14.945Z"
      },
      {
        "duration": 68,
        "start_time": "2022-05-29T12:12:15.042Z"
      },
      {
        "duration": 54,
        "start_time": "2022-05-29T12:12:15.112Z"
      },
      {
        "duration": 35,
        "start_time": "2022-05-29T12:12:15.168Z"
      },
      {
        "duration": 4,
        "start_time": "2022-05-29T12:12:15.227Z"
      },
      {
        "duration": 50,
        "start_time": "2022-05-29T12:12:15.233Z"
      },
      {
        "duration": 46,
        "start_time": "2022-05-29T12:12:15.284Z"
      },
      {
        "duration": 594,
        "start_time": "2022-05-29T12:12:15.332Z"
      },
      {
        "duration": 185,
        "start_time": "2022-05-29T12:12:15.928Z"
      },
      {
        "duration": 243,
        "start_time": "2022-05-29T12:12:16.114Z"
      },
      {
        "duration": 38,
        "start_time": "2022-05-29T12:12:16.359Z"
      },
      {
        "duration": 257,
        "start_time": "2022-05-29T12:12:16.398Z"
      },
      {
        "duration": 290,
        "start_time": "2022-05-29T12:12:16.656Z"
      },
      {
        "duration": 238,
        "start_time": "2022-05-29T12:12:16.948Z"
      },
      {
        "duration": 3,
        "start_time": "2022-05-29T12:20:05.762Z"
      },
      {
        "duration": 4,
        "start_time": "2022-05-29T12:26:48.584Z"
      },
      {
        "duration": 5,
        "start_time": "2022-05-29T12:33:00.772Z"
      },
      {
        "duration": 497,
        "start_time": "2022-05-29T12:34:53.337Z"
      },
      {
        "duration": 6,
        "start_time": "2022-05-29T12:35:27.124Z"
      },
      {
        "duration": 6,
        "start_time": "2022-05-29T12:35:56.570Z"
      },
      {
        "duration": 6,
        "start_time": "2022-05-29T12:38:36.886Z"
      },
      {
        "duration": 7,
        "start_time": "2022-05-29T12:40:48.136Z"
      },
      {
        "duration": 56,
        "start_time": "2022-05-29T14:42:40.541Z"
      },
      {
        "duration": 1099,
        "start_time": "2022-05-29T14:42:48.113Z"
      },
      {
        "duration": 692,
        "start_time": "2022-05-29T14:42:49.216Z"
      },
      {
        "duration": 807,
        "start_time": "2022-05-29T14:42:49.914Z"
      },
      {
        "duration": 222,
        "start_time": "2022-05-29T14:42:50.724Z"
      },
      {
        "duration": 66,
        "start_time": "2022-05-29T14:42:50.947Z"
      },
      {
        "duration": 82,
        "start_time": "2022-05-29T14:42:51.015Z"
      },
      {
        "duration": 134,
        "start_time": "2022-05-29T14:42:51.099Z"
      },
      {
        "duration": 87,
        "start_time": "2022-05-29T14:42:51.234Z"
      },
      {
        "duration": 57,
        "start_time": "2022-05-29T14:42:51.323Z"
      },
      {
        "duration": 57,
        "start_time": "2022-05-29T14:42:51.383Z"
      },
      {
        "duration": 21,
        "start_time": "2022-05-29T14:42:51.442Z"
      },
      {
        "duration": 80,
        "start_time": "2022-05-29T14:42:51.466Z"
      },
      {
        "duration": 52,
        "start_time": "2022-05-29T14:42:51.548Z"
      },
      {
        "duration": 712,
        "start_time": "2022-05-29T14:42:51.602Z"
      },
      {
        "duration": 308,
        "start_time": "2022-05-29T14:42:52.316Z"
      },
      {
        "duration": 313,
        "start_time": "2022-05-29T14:42:52.629Z"
      },
      {
        "duration": 40,
        "start_time": "2022-05-29T14:42:52.944Z"
      },
      {
        "duration": 333,
        "start_time": "2022-05-29T14:42:52.986Z"
      },
      {
        "duration": 273,
        "start_time": "2022-05-29T14:42:53.321Z"
      },
      {
        "duration": 346,
        "start_time": "2022-05-29T14:42:53.599Z"
      },
      {
        "duration": 9,
        "start_time": "2022-05-29T14:42:53.947Z"
      },
      {
        "duration": 23,
        "start_time": "2022-05-29T14:42:53.958Z"
      },
      {
        "duration": 19,
        "start_time": "2022-05-29T14:44:58.469Z"
      },
      {
        "duration": 19,
        "start_time": "2022-05-29T14:45:21.092Z"
      },
      {
        "duration": 17,
        "start_time": "2022-05-29T14:45:32.034Z"
      },
      {
        "duration": 1056,
        "start_time": "2022-05-29T14:47:07.578Z"
      },
      {
        "duration": 241,
        "start_time": "2022-05-29T14:47:08.637Z"
      },
      {
        "duration": 188,
        "start_time": "2022-05-29T14:47:08.880Z"
      },
      {
        "duration": 118,
        "start_time": "2022-05-29T14:47:09.070Z"
      },
      {
        "duration": 45,
        "start_time": "2022-05-29T14:47:09.190Z"
      },
      {
        "duration": 41,
        "start_time": "2022-05-29T14:47:09.237Z"
      },
      {
        "duration": 112,
        "start_time": "2022-05-29T14:47:09.280Z"
      },
      {
        "duration": 88,
        "start_time": "2022-05-29T14:47:09.394Z"
      },
      {
        "duration": 79,
        "start_time": "2022-05-29T14:47:09.484Z"
      },
      {
        "duration": 74,
        "start_time": "2022-05-29T14:47:09.566Z"
      },
      {
        "duration": 6,
        "start_time": "2022-05-29T14:47:09.642Z"
      },
      {
        "duration": 81,
        "start_time": "2022-05-29T14:47:09.650Z"
      },
      {
        "duration": 40,
        "start_time": "2022-05-29T14:47:09.733Z"
      },
      {
        "duration": 473,
        "start_time": "2022-05-29T14:47:09.774Z"
      },
      {
        "duration": 318,
        "start_time": "2022-05-29T14:47:10.248Z"
      },
      {
        "duration": 285,
        "start_time": "2022-05-29T14:47:10.568Z"
      },
      {
        "duration": 65,
        "start_time": "2022-05-29T14:47:10.854Z"
      },
      {
        "duration": 336,
        "start_time": "2022-05-29T14:47:10.921Z"
      },
      {
        "duration": 291,
        "start_time": "2022-05-29T14:47:11.259Z"
      },
      {
        "duration": 307,
        "start_time": "2022-05-29T14:47:11.552Z"
      },
      {
        "duration": 7,
        "start_time": "2022-05-29T14:47:11.861Z"
      },
      {
        "duration": 14,
        "start_time": "2022-05-29T14:47:11.870Z"
      },
      {
        "duration": 11,
        "start_time": "2022-05-29T14:47:15.644Z"
      },
      {
        "duration": 16,
        "start_time": "2022-05-29T14:48:33.529Z"
      },
      {
        "duration": 20,
        "start_time": "2022-05-29T14:49:30.420Z"
      },
      {
        "duration": 79,
        "start_time": "2022-05-29T14:53:33.146Z"
      },
      {
        "duration": 9,
        "start_time": "2022-05-29T14:54:38.514Z"
      },
      {
        "duration": 3,
        "start_time": "2022-05-29T14:59:45.949Z"
      },
      {
        "duration": 276,
        "start_time": "2022-05-29T15:01:16.481Z"
      },
      {
        "duration": 286,
        "start_time": "2022-05-29T15:02:32.716Z"
      },
      {
        "duration": 63,
        "start_time": "2022-05-29T15:06:15.265Z"
      },
      {
        "duration": 45,
        "start_time": "2022-05-29T15:06:18.424Z"
      },
      {
        "duration": 98,
        "start_time": "2022-05-29T15:15:44.516Z"
      },
      {
        "duration": 2,
        "start_time": "2022-05-29T15:25:48.742Z"
      },
      {
        "duration": 183,
        "start_time": "2022-05-29T16:47:37.966Z"
      },
      {
        "duration": 232,
        "start_time": "2022-05-29T16:52:06.364Z"
      },
      {
        "duration": 248,
        "start_time": "2022-05-29T16:55:36.596Z"
      },
      {
        "duration": 80,
        "start_time": "2022-05-29T17:09:51.189Z"
      },
      {
        "duration": 4,
        "start_time": "2022-05-29T17:38:14.171Z"
      },
      {
        "duration": 137,
        "start_time": "2022-05-29T17:38:35.514Z"
      },
      {
        "duration": 17,
        "start_time": "2022-05-29T17:38:46.412Z"
      },
      {
        "duration": 66,
        "start_time": "2022-05-29T17:40:02.396Z"
      },
      {
        "duration": 4,
        "start_time": "2022-05-29T17:40:08.449Z"
      },
      {
        "duration": 7,
        "start_time": "2022-05-29T17:40:40.610Z"
      },
      {
        "duration": 5,
        "start_time": "2022-05-29T17:41:30.832Z"
      },
      {
        "duration": 960,
        "start_time": "2022-05-29T17:46:03.395Z"
      },
      {
        "duration": 217,
        "start_time": "2022-05-29T17:46:04.357Z"
      },
      {
        "duration": 167,
        "start_time": "2022-05-29T17:46:04.575Z"
      },
      {
        "duration": 108,
        "start_time": "2022-05-29T17:46:04.744Z"
      },
      {
        "duration": 30,
        "start_time": "2022-05-29T17:46:04.854Z"
      },
      {
        "duration": 44,
        "start_time": "2022-05-29T17:46:04.885Z"
      },
      {
        "duration": 96,
        "start_time": "2022-05-29T17:46:04.930Z"
      },
      {
        "duration": 71,
        "start_time": "2022-05-29T17:46:05.027Z"
      },
      {
        "duration": 64,
        "start_time": "2022-05-29T17:46:05.099Z"
      },
      {
        "duration": 57,
        "start_time": "2022-05-29T17:46:05.166Z"
      },
      {
        "duration": 8,
        "start_time": "2022-05-29T17:46:05.225Z"
      },
      {
        "duration": 68,
        "start_time": "2022-05-29T17:46:05.235Z"
      },
      {
        "duration": 40,
        "start_time": "2022-05-29T17:46:05.305Z"
      },
      {
        "duration": 466,
        "start_time": "2022-05-29T17:46:05.347Z"
      },
      {
        "duration": 263,
        "start_time": "2022-05-29T17:46:05.815Z"
      },
      {
        "duration": 263,
        "start_time": "2022-05-29T17:46:06.080Z"
      },
      {
        "duration": 58,
        "start_time": "2022-05-29T17:46:06.345Z"
      },
      {
        "duration": 210,
        "start_time": "2022-05-29T17:46:06.405Z"
      },
      {
        "duration": 188,
        "start_time": "2022-05-29T17:46:06.617Z"
      },
      {
        "duration": 203,
        "start_time": "2022-05-29T17:46:06.813Z"
      },
      {
        "duration": 8,
        "start_time": "2022-05-29T17:46:07.018Z"
      },
      {
        "duration": 118,
        "start_time": "2022-05-29T17:46:07.028Z"
      },
      {
        "duration": 7,
        "start_time": "2022-05-29T17:46:07.149Z"
      },
      {
        "duration": 60,
        "start_time": "2022-05-29T17:49:28.164Z"
      },
      {
        "duration": 51,
        "start_time": "2022-05-29T17:49:52.727Z"
      },
      {
        "duration": 54,
        "start_time": "2022-05-29T17:50:15.691Z"
      },
      {
        "duration": 967,
        "start_time": "2022-05-29T17:53:30.380Z"
      },
      {
        "duration": 215,
        "start_time": "2022-05-29T17:53:31.349Z"
      },
      {
        "duration": 179,
        "start_time": "2022-05-29T17:53:31.566Z"
      },
      {
        "duration": 124,
        "start_time": "2022-05-29T17:53:31.748Z"
      },
      {
        "duration": 45,
        "start_time": "2022-05-29T17:53:31.874Z"
      },
      {
        "duration": 45,
        "start_time": "2022-05-29T17:53:31.921Z"
      },
      {
        "duration": 122,
        "start_time": "2022-05-29T17:53:31.968Z"
      },
      {
        "duration": 78,
        "start_time": "2022-05-29T17:53:32.097Z"
      },
      {
        "duration": 61,
        "start_time": "2022-05-29T17:53:32.177Z"
      },
      {
        "duration": 59,
        "start_time": "2022-05-29T17:53:32.241Z"
      },
      {
        "duration": 14,
        "start_time": "2022-05-29T17:53:32.301Z"
      },
      {
        "duration": 54,
        "start_time": "2022-05-29T17:53:32.316Z"
      },
      {
        "duration": 53,
        "start_time": "2022-05-29T17:53:32.371Z"
      },
      {
        "duration": 420,
        "start_time": "2022-05-29T17:53:32.425Z"
      },
      {
        "duration": 276,
        "start_time": "2022-05-29T17:53:32.847Z"
      },
      {
        "duration": 281,
        "start_time": "2022-05-29T17:53:33.125Z"
      },
      {
        "duration": 43,
        "start_time": "2022-05-29T17:53:33.409Z"
      },
      {
        "duration": 248,
        "start_time": "2022-05-29T17:53:33.454Z"
      },
      {
        "duration": 198,
        "start_time": "2022-05-29T17:53:33.705Z"
      },
      {
        "duration": 213,
        "start_time": "2022-05-29T17:53:33.905Z"
      },
      {
        "duration": 8,
        "start_time": "2022-05-29T17:53:34.121Z"
      },
      {
        "duration": 110,
        "start_time": "2022-05-29T17:53:34.130Z"
      },
      {
        "duration": 7,
        "start_time": "2022-05-29T17:53:34.242Z"
      },
      {
        "duration": 922,
        "start_time": "2022-05-29T19:34:56.144Z"
      },
      {
        "duration": 598,
        "start_time": "2022-05-29T19:34:57.068Z"
      },
      {
        "duration": 393,
        "start_time": "2022-05-29T19:34:57.667Z"
      },
      {
        "duration": 158,
        "start_time": "2022-05-29T19:34:58.062Z"
      },
      {
        "duration": 42,
        "start_time": "2022-05-29T19:34:58.222Z"
      },
      {
        "duration": 77,
        "start_time": "2022-05-29T19:34:58.266Z"
      },
      {
        "duration": 87,
        "start_time": "2022-05-29T19:34:58.344Z"
      },
      {
        "duration": 75,
        "start_time": "2022-05-29T19:34:58.433Z"
      },
      {
        "duration": 44,
        "start_time": "2022-05-29T19:34:58.510Z"
      },
      {
        "duration": 51,
        "start_time": "2022-05-29T19:34:58.556Z"
      },
      {
        "duration": 6,
        "start_time": "2022-05-29T19:34:58.609Z"
      },
      {
        "duration": 66,
        "start_time": "2022-05-29T19:34:58.617Z"
      },
      {
        "duration": 39,
        "start_time": "2022-05-29T19:34:58.684Z"
      },
      {
        "duration": 369,
        "start_time": "2022-05-29T19:34:58.724Z"
      },
      {
        "duration": 237,
        "start_time": "2022-05-29T19:34:59.095Z"
      },
      {
        "duration": 257,
        "start_time": "2022-05-29T19:34:59.333Z"
      },
      {
        "duration": 37,
        "start_time": "2022-05-29T19:34:59.591Z"
      },
      {
        "duration": 188,
        "start_time": "2022-05-29T19:34:59.630Z"
      },
      {
        "duration": 188,
        "start_time": "2022-05-29T19:34:59.820Z"
      },
      {
        "duration": 221,
        "start_time": "2022-05-29T19:35:00.010Z"
      },
      {
        "duration": 7,
        "start_time": "2022-05-29T19:35:00.233Z"
      },
      {
        "duration": 95,
        "start_time": "2022-05-29T19:35:00.242Z"
      },
      {
        "duration": 7,
        "start_time": "2022-05-29T19:35:00.338Z"
      },
      {
        "duration": 3,
        "start_time": "2022-05-29T19:40:18.658Z"
      },
      {
        "duration": 31,
        "start_time": "2022-05-29T19:40:19.979Z"
      },
      {
        "duration": 8,
        "start_time": "2022-05-29T19:50:28.543Z"
      },
      {
        "duration": 7,
        "start_time": "2022-05-29T19:58:32.014Z"
      },
      {
        "duration": 11,
        "start_time": "2022-05-29T20:02:17.542Z"
      },
      {
        "duration": 11,
        "start_time": "2022-05-29T20:02:21.318Z"
      },
      {
        "duration": 47,
        "start_time": "2022-05-30T16:36:03.863Z"
      },
      {
        "duration": 112,
        "start_time": "2022-05-30T16:36:26.306Z"
      },
      {
        "duration": 1130,
        "start_time": "2022-05-30T16:41:14.681Z"
      },
      {
        "duration": 272,
        "start_time": "2022-05-30T16:41:15.813Z"
      },
      {
        "duration": 177,
        "start_time": "2022-05-30T16:41:16.086Z"
      },
      {
        "duration": 136,
        "start_time": "2022-05-30T16:41:16.264Z"
      },
      {
        "duration": 31,
        "start_time": "2022-05-30T16:41:16.402Z"
      },
      {
        "duration": 62,
        "start_time": "2022-05-30T16:41:16.435Z"
      },
      {
        "duration": 141,
        "start_time": "2022-05-30T16:41:16.499Z"
      },
      {
        "duration": 96,
        "start_time": "2022-05-30T16:41:16.643Z"
      },
      {
        "duration": 87,
        "start_time": "2022-05-30T16:41:16.741Z"
      },
      {
        "duration": 219,
        "start_time": "2022-05-30T16:41:16.831Z"
      },
      {
        "duration": 0,
        "start_time": "2022-05-30T16:41:17.052Z"
      },
      {
        "duration": 0,
        "start_time": "2022-05-30T16:41:17.054Z"
      },
      {
        "duration": 0,
        "start_time": "2022-05-30T16:41:17.056Z"
      },
      {
        "duration": 0,
        "start_time": "2022-05-30T16:41:17.058Z"
      },
      {
        "duration": 0,
        "start_time": "2022-05-30T16:41:17.061Z"
      },
      {
        "duration": 0,
        "start_time": "2022-05-30T16:41:17.062Z"
      },
      {
        "duration": 0,
        "start_time": "2022-05-30T16:41:17.064Z"
      },
      {
        "duration": 0,
        "start_time": "2022-05-30T16:41:17.066Z"
      },
      {
        "duration": 0,
        "start_time": "2022-05-30T16:41:17.067Z"
      },
      {
        "duration": 0,
        "start_time": "2022-05-30T16:41:17.068Z"
      },
      {
        "duration": 0,
        "start_time": "2022-05-30T16:41:17.070Z"
      },
      {
        "duration": 0,
        "start_time": "2022-05-30T16:41:17.071Z"
      },
      {
        "duration": 0,
        "start_time": "2022-05-30T16:41:17.072Z"
      },
      {
        "duration": 69,
        "start_time": "2022-05-30T16:44:36.980Z"
      },
      {
        "duration": 72,
        "start_time": "2022-05-30T16:45:18.048Z"
      },
      {
        "duration": 72,
        "start_time": "2022-05-30T16:45:31.379Z"
      },
      {
        "duration": 74,
        "start_time": "2022-05-30T16:45:35.218Z"
      },
      {
        "duration": 58,
        "start_time": "2022-05-30T16:46:20.289Z"
      },
      {
        "duration": 57,
        "start_time": "2022-05-30T16:46:51.467Z"
      },
      {
        "duration": 50,
        "start_time": "2022-05-30T16:47:00.098Z"
      },
      {
        "duration": 120,
        "start_time": "2022-05-30T16:47:10.654Z"
      },
      {
        "duration": 68,
        "start_time": "2022-05-30T16:51:11.638Z"
      },
      {
        "duration": 48,
        "start_time": "2022-05-30T16:51:41.106Z"
      },
      {
        "duration": 52,
        "start_time": "2022-05-30T16:51:57.009Z"
      },
      {
        "duration": 50,
        "start_time": "2022-05-30T16:52:05.281Z"
      },
      {
        "duration": 891,
        "start_time": "2022-05-30T16:52:47.102Z"
      },
      {
        "duration": 207,
        "start_time": "2022-05-30T16:52:47.995Z"
      },
      {
        "duration": 155,
        "start_time": "2022-05-30T16:52:48.204Z"
      },
      {
        "duration": 114,
        "start_time": "2022-05-30T16:52:48.361Z"
      },
      {
        "duration": 30,
        "start_time": "2022-05-30T16:52:48.477Z"
      },
      {
        "duration": 53,
        "start_time": "2022-05-30T16:52:48.509Z"
      },
      {
        "duration": 118,
        "start_time": "2022-05-30T16:52:48.564Z"
      },
      {
        "duration": 70,
        "start_time": "2022-05-30T16:52:48.684Z"
      },
      {
        "duration": 51,
        "start_time": "2022-05-30T16:52:48.756Z"
      },
      {
        "duration": 147,
        "start_time": "2022-05-30T16:52:48.809Z"
      },
      {
        "duration": 0,
        "start_time": "2022-05-30T16:52:48.958Z"
      },
      {
        "duration": 0,
        "start_time": "2022-05-30T16:52:48.959Z"
      },
      {
        "duration": 0,
        "start_time": "2022-05-30T16:52:48.961Z"
      },
      {
        "duration": 0,
        "start_time": "2022-05-30T16:52:48.967Z"
      },
      {
        "duration": 0,
        "start_time": "2022-05-30T16:52:48.968Z"
      },
      {
        "duration": 0,
        "start_time": "2022-05-30T16:52:48.970Z"
      },
      {
        "duration": 0,
        "start_time": "2022-05-30T16:52:48.970Z"
      },
      {
        "duration": 0,
        "start_time": "2022-05-30T16:52:48.972Z"
      },
      {
        "duration": 0,
        "start_time": "2022-05-30T16:52:48.973Z"
      },
      {
        "duration": 0,
        "start_time": "2022-05-30T16:52:48.982Z"
      },
      {
        "duration": 0,
        "start_time": "2022-05-30T16:52:48.983Z"
      },
      {
        "duration": 0,
        "start_time": "2022-05-30T16:52:48.984Z"
      },
      {
        "duration": 0,
        "start_time": "2022-05-30T16:52:48.986Z"
      },
      {
        "duration": 417,
        "start_time": "2022-05-30T16:55:15.471Z"
      },
      {
        "duration": 37,
        "start_time": "2022-05-30T16:56:03.258Z"
      },
      {
        "duration": 31,
        "start_time": "2022-05-30T16:57:17.107Z"
      },
      {
        "duration": 59,
        "start_time": "2022-05-30T16:59:31.823Z"
      },
      {
        "duration": 66,
        "start_time": "2022-05-30T17:00:10.935Z"
      },
      {
        "duration": 69,
        "start_time": "2022-05-30T17:00:33.628Z"
      },
      {
        "duration": 511,
        "start_time": "2022-05-30T17:01:36.868Z"
      },
      {
        "duration": 469,
        "start_time": "2022-05-30T17:01:50.278Z"
      },
      {
        "duration": 556,
        "start_time": "2022-05-30T17:02:00.178Z"
      },
      {
        "duration": 47,
        "start_time": "2022-05-30T17:02:11.769Z"
      },
      {
        "duration": 554,
        "start_time": "2022-05-30T17:02:35.684Z"
      },
      {
        "duration": 572,
        "start_time": "2022-05-30T17:03:23.636Z"
      },
      {
        "duration": 31,
        "start_time": "2022-05-30T17:03:38.195Z"
      },
      {
        "duration": 57,
        "start_time": "2022-05-30T17:04:15.592Z"
      },
      {
        "duration": 56,
        "start_time": "2022-05-30T17:05:09.208Z"
      },
      {
        "duration": 1072,
        "start_time": "2022-05-30T17:05:30.732Z"
      },
      {
        "duration": 370,
        "start_time": "2022-05-30T17:05:31.807Z"
      },
      {
        "duration": 187,
        "start_time": "2022-05-30T17:05:32.179Z"
      },
      {
        "duration": 139,
        "start_time": "2022-05-30T17:05:32.370Z"
      },
      {
        "duration": 29,
        "start_time": "2022-05-30T17:05:32.511Z"
      },
      {
        "duration": 65,
        "start_time": "2022-05-30T17:05:32.542Z"
      },
      {
        "duration": 127,
        "start_time": "2022-05-30T17:05:32.608Z"
      },
      {
        "duration": 94,
        "start_time": "2022-05-30T17:05:32.738Z"
      },
      {
        "duration": 77,
        "start_time": "2022-05-30T17:05:32.834Z"
      },
      {
        "duration": 77,
        "start_time": "2022-05-30T17:05:32.914Z"
      },
      {
        "duration": 17,
        "start_time": "2022-05-30T17:05:32.998Z"
      },
      {
        "duration": 195,
        "start_time": "2022-05-30T17:05:33.016Z"
      },
      {
        "duration": 0,
        "start_time": "2022-05-30T17:05:33.215Z"
      },
      {
        "duration": 0,
        "start_time": "2022-05-30T17:05:33.217Z"
      },
      {
        "duration": 0,
        "start_time": "2022-05-30T17:05:33.219Z"
      },
      {
        "duration": 0,
        "start_time": "2022-05-30T17:05:33.220Z"
      },
      {
        "duration": 0,
        "start_time": "2022-05-30T17:05:33.223Z"
      },
      {
        "duration": 0,
        "start_time": "2022-05-30T17:05:33.225Z"
      },
      {
        "duration": 1,
        "start_time": "2022-05-30T17:05:33.226Z"
      },
      {
        "duration": 0,
        "start_time": "2022-05-30T17:05:33.228Z"
      },
      {
        "duration": 0,
        "start_time": "2022-05-30T17:05:33.230Z"
      },
      {
        "duration": 0,
        "start_time": "2022-05-30T17:05:33.231Z"
      },
      {
        "duration": 0,
        "start_time": "2022-05-30T17:05:33.233Z"
      },
      {
        "duration": 38,
        "start_time": "2022-05-30T17:06:02.290Z"
      },
      {
        "duration": 49,
        "start_time": "2022-05-30T17:07:11.415Z"
      },
      {
        "duration": 52,
        "start_time": "2022-05-30T17:07:29.487Z"
      },
      {
        "duration": 56,
        "start_time": "2022-05-30T17:10:55.843Z"
      },
      {
        "duration": 47,
        "start_time": "2022-05-30T17:11:42.731Z"
      },
      {
        "duration": 28,
        "start_time": "2022-05-30T17:12:22.491Z"
      },
      {
        "duration": 54,
        "start_time": "2022-05-30T17:12:38.950Z"
      },
      {
        "duration": 117,
        "start_time": "2022-05-30T17:13:35.598Z"
      },
      {
        "duration": 115,
        "start_time": "2022-05-30T17:16:09.114Z"
      },
      {
        "duration": 95,
        "start_time": "2022-05-30T17:16:32.368Z"
      },
      {
        "duration": 94,
        "start_time": "2022-05-30T17:26:13.873Z"
      },
      {
        "duration": 132,
        "start_time": "2022-05-30T17:27:01.426Z"
      },
      {
        "duration": 89,
        "start_time": "2022-05-30T17:29:56.829Z"
      },
      {
        "duration": 102,
        "start_time": "2022-05-30T17:30:33.926Z"
      },
      {
        "duration": 143,
        "start_time": "2022-05-30T17:30:52.213Z"
      },
      {
        "duration": 52,
        "start_time": "2022-05-30T17:31:31.444Z"
      },
      {
        "duration": 108,
        "start_time": "2022-05-30T17:31:44.144Z"
      },
      {
        "duration": 88,
        "start_time": "2022-05-30T17:38:22.560Z"
      },
      {
        "duration": 117,
        "start_time": "2022-05-30T17:38:48.606Z"
      },
      {
        "duration": 87,
        "start_time": "2022-05-30T17:41:50.035Z"
      },
      {
        "duration": 118,
        "start_time": "2022-05-30T17:45:08.788Z"
      },
      {
        "duration": 89,
        "start_time": "2022-05-30T17:46:49.822Z"
      },
      {
        "duration": 936,
        "start_time": "2022-05-30T17:47:02.542Z"
      },
      {
        "duration": 197,
        "start_time": "2022-05-30T17:47:03.480Z"
      },
      {
        "duration": 198,
        "start_time": "2022-05-30T17:47:03.679Z"
      },
      {
        "duration": 112,
        "start_time": "2022-05-30T17:47:03.879Z"
      },
      {
        "duration": 44,
        "start_time": "2022-05-30T17:47:03.993Z"
      },
      {
        "duration": 54,
        "start_time": "2022-05-30T17:47:04.038Z"
      },
      {
        "duration": 123,
        "start_time": "2022-05-30T17:47:04.094Z"
      },
      {
        "duration": 103,
        "start_time": "2022-05-30T17:47:04.219Z"
      },
      {
        "duration": 55,
        "start_time": "2022-05-30T17:47:04.326Z"
      },
      {
        "duration": 46,
        "start_time": "2022-05-30T17:47:04.383Z"
      },
      {
        "duration": 27,
        "start_time": "2022-05-30T17:47:04.431Z"
      },
      {
        "duration": 175,
        "start_time": "2022-05-30T17:47:04.460Z"
      },
      {
        "duration": 0,
        "start_time": "2022-05-30T17:47:04.637Z"
      },
      {
        "duration": 0,
        "start_time": "2022-05-30T17:47:04.638Z"
      },
      {
        "duration": 0,
        "start_time": "2022-05-30T17:47:04.641Z"
      },
      {
        "duration": 0,
        "start_time": "2022-05-30T17:47:04.654Z"
      },
      {
        "duration": 0,
        "start_time": "2022-05-30T17:47:04.655Z"
      },
      {
        "duration": 0,
        "start_time": "2022-05-30T17:47:04.656Z"
      },
      {
        "duration": 0,
        "start_time": "2022-05-30T17:47:04.657Z"
      },
      {
        "duration": 0,
        "start_time": "2022-05-30T17:47:04.658Z"
      },
      {
        "duration": 0,
        "start_time": "2022-05-30T17:47:04.659Z"
      },
      {
        "duration": 0,
        "start_time": "2022-05-30T17:47:04.660Z"
      },
      {
        "duration": 0,
        "start_time": "2022-05-30T17:47:04.660Z"
      },
      {
        "duration": 58,
        "start_time": "2022-05-30T17:47:53.863Z"
      },
      {
        "duration": 9,
        "start_time": "2022-05-30T17:48:59.186Z"
      },
      {
        "duration": 15,
        "start_time": "2022-05-30T17:49:07.255Z"
      },
      {
        "duration": 6,
        "start_time": "2022-05-30T17:49:21.942Z"
      },
      {
        "duration": 53,
        "start_time": "2022-05-30T17:49:26.319Z"
      },
      {
        "duration": 47,
        "start_time": "2022-05-30T17:49:59.471Z"
      },
      {
        "duration": 40,
        "start_time": "2022-05-30T17:50:48.098Z"
      },
      {
        "duration": 33,
        "start_time": "2022-05-30T17:50:58.079Z"
      },
      {
        "duration": 44,
        "start_time": "2022-05-30T17:51:24.516Z"
      },
      {
        "duration": 352,
        "start_time": "2022-05-30T17:51:58.248Z"
      },
      {
        "duration": 59,
        "start_time": "2022-05-30T17:52:20.110Z"
      },
      {
        "duration": 450,
        "start_time": "2022-05-30T17:54:03.938Z"
      },
      {
        "duration": 61,
        "start_time": "2022-05-30T17:54:49.143Z"
      },
      {
        "duration": 46,
        "start_time": "2022-05-30T17:56:28.888Z"
      },
      {
        "duration": 39,
        "start_time": "2022-05-30T17:57:07.840Z"
      },
      {
        "duration": 39,
        "start_time": "2022-05-30T18:02:08.239Z"
      },
      {
        "duration": 36,
        "start_time": "2022-05-30T18:02:20.548Z"
      },
      {
        "duration": 43,
        "start_time": "2022-05-30T18:02:58.947Z"
      },
      {
        "duration": 69,
        "start_time": "2022-05-30T18:03:29.145Z"
      },
      {
        "duration": 61,
        "start_time": "2022-05-30T18:03:51.447Z"
      },
      {
        "duration": 37,
        "start_time": "2022-05-30T18:04:03.180Z"
      },
      {
        "duration": 897,
        "start_time": "2022-05-30T18:04:17.879Z"
      },
      {
        "duration": 184,
        "start_time": "2022-05-30T18:04:18.778Z"
      },
      {
        "duration": 155,
        "start_time": "2022-05-30T18:04:18.963Z"
      },
      {
        "duration": 123,
        "start_time": "2022-05-30T18:04:19.121Z"
      },
      {
        "duration": 29,
        "start_time": "2022-05-30T18:04:19.247Z"
      },
      {
        "duration": 43,
        "start_time": "2022-05-30T18:04:19.278Z"
      },
      {
        "duration": 111,
        "start_time": "2022-05-30T18:04:19.323Z"
      },
      {
        "duration": 62,
        "start_time": "2022-05-30T18:04:19.436Z"
      },
      {
        "duration": 61,
        "start_time": "2022-05-30T18:04:19.500Z"
      },
      {
        "duration": 36,
        "start_time": "2022-05-30T18:04:19.564Z"
      },
      {
        "duration": 10,
        "start_time": "2022-05-30T18:04:19.601Z"
      },
      {
        "duration": 95,
        "start_time": "2022-05-30T18:04:19.612Z"
      },
      {
        "duration": 53,
        "start_time": "2022-05-30T18:04:19.708Z"
      },
      {
        "duration": 113,
        "start_time": "2022-05-30T18:04:19.763Z"
      },
      {
        "duration": 0,
        "start_time": "2022-05-30T18:04:19.878Z"
      },
      {
        "duration": 0,
        "start_time": "2022-05-30T18:04:19.879Z"
      },
      {
        "duration": 0,
        "start_time": "2022-05-30T18:04:19.880Z"
      },
      {
        "duration": 0,
        "start_time": "2022-05-30T18:04:19.881Z"
      },
      {
        "duration": 0,
        "start_time": "2022-05-30T18:04:19.883Z"
      },
      {
        "duration": 0,
        "start_time": "2022-05-30T18:04:19.884Z"
      },
      {
        "duration": 0,
        "start_time": "2022-05-30T18:04:19.886Z"
      },
      {
        "duration": 0,
        "start_time": "2022-05-30T18:04:19.887Z"
      },
      {
        "duration": 0,
        "start_time": "2022-05-30T18:04:19.888Z"
      },
      {
        "duration": 43,
        "start_time": "2022-05-30T18:04:48.337Z"
      },
      {
        "duration": 30,
        "start_time": "2022-05-30T18:05:05.515Z"
      },
      {
        "duration": 31,
        "start_time": "2022-05-30T18:05:15.070Z"
      },
      {
        "duration": 36,
        "start_time": "2022-05-30T18:05:26.857Z"
      },
      {
        "duration": 57,
        "start_time": "2022-05-30T18:05:51.914Z"
      },
      {
        "duration": 945,
        "start_time": "2022-05-30T18:06:05.531Z"
      },
      {
        "duration": 204,
        "start_time": "2022-05-30T18:06:06.478Z"
      },
      {
        "duration": 145,
        "start_time": "2022-05-30T18:06:06.684Z"
      },
      {
        "duration": 102,
        "start_time": "2022-05-30T18:06:06.832Z"
      },
      {
        "duration": 36,
        "start_time": "2022-05-30T18:06:06.937Z"
      },
      {
        "duration": 50,
        "start_time": "2022-05-30T18:06:06.975Z"
      },
      {
        "duration": 124,
        "start_time": "2022-05-30T18:06:07.026Z"
      },
      {
        "duration": 65,
        "start_time": "2022-05-30T18:06:07.154Z"
      },
      {
        "duration": 66,
        "start_time": "2022-05-30T18:06:07.222Z"
      },
      {
        "duration": 72,
        "start_time": "2022-05-30T18:06:07.292Z"
      },
      {
        "duration": 8,
        "start_time": "2022-05-30T18:06:07.366Z"
      },
      {
        "duration": 93,
        "start_time": "2022-05-30T18:06:07.376Z"
      },
      {
        "duration": 45,
        "start_time": "2022-05-30T18:06:07.471Z"
      },
      {
        "duration": 135,
        "start_time": "2022-05-30T18:06:07.517Z"
      },
      {
        "duration": 0,
        "start_time": "2022-05-30T18:06:07.659Z"
      },
      {
        "duration": 1,
        "start_time": "2022-05-30T18:06:07.661Z"
      },
      {
        "duration": 0,
        "start_time": "2022-05-30T18:06:07.663Z"
      },
      {
        "duration": 0,
        "start_time": "2022-05-30T18:06:07.664Z"
      },
      {
        "duration": 0,
        "start_time": "2022-05-30T18:06:07.665Z"
      },
      {
        "duration": 0,
        "start_time": "2022-05-30T18:06:07.665Z"
      },
      {
        "duration": 0,
        "start_time": "2022-05-30T18:06:07.667Z"
      },
      {
        "duration": 0,
        "start_time": "2022-05-30T18:06:07.669Z"
      },
      {
        "duration": 0,
        "start_time": "2022-05-30T18:06:07.670Z"
      },
      {
        "duration": 40,
        "start_time": "2022-05-30T18:06:45.727Z"
      },
      {
        "duration": 39,
        "start_time": "2022-05-30T18:07:14.061Z"
      },
      {
        "duration": 54,
        "start_time": "2022-05-30T18:07:25.763Z"
      },
      {
        "duration": 6,
        "start_time": "2022-05-30T18:11:42.679Z"
      },
      {
        "duration": 5,
        "start_time": "2022-05-30T18:12:04.799Z"
      },
      {
        "duration": 5,
        "start_time": "2022-05-30T18:19:38.362Z"
      },
      {
        "duration": 116,
        "start_time": "2022-05-30T18:19:40.394Z"
      },
      {
        "duration": 6,
        "start_time": "2022-05-30T18:23:23.834Z"
      },
      {
        "duration": 161,
        "start_time": "2022-05-30T18:23:27.852Z"
      },
      {
        "duration": 6,
        "start_time": "2022-05-30T18:23:57.616Z"
      },
      {
        "duration": 224,
        "start_time": "2022-05-30T18:24:01.528Z"
      },
      {
        "duration": 156,
        "start_time": "2022-05-30T18:24:45.163Z"
      },
      {
        "duration": 163,
        "start_time": "2022-05-30T18:24:56.263Z"
      },
      {
        "duration": 933,
        "start_time": "2022-05-30T18:25:09.244Z"
      },
      {
        "duration": 188,
        "start_time": "2022-05-30T18:25:10.179Z"
      },
      {
        "duration": 199,
        "start_time": "2022-05-30T18:25:10.369Z"
      },
      {
        "duration": 98,
        "start_time": "2022-05-30T18:25:10.569Z"
      },
      {
        "duration": 29,
        "start_time": "2022-05-30T18:25:10.669Z"
      },
      {
        "duration": 41,
        "start_time": "2022-05-30T18:25:10.699Z"
      },
      {
        "duration": 108,
        "start_time": "2022-05-30T18:25:10.741Z"
      },
      {
        "duration": 62,
        "start_time": "2022-05-30T18:25:10.851Z"
      },
      {
        "duration": 56,
        "start_time": "2022-05-30T18:25:10.915Z"
      },
      {
        "duration": 35,
        "start_time": "2022-05-30T18:25:10.973Z"
      },
      {
        "duration": 6,
        "start_time": "2022-05-30T18:25:11.009Z"
      },
      {
        "duration": 170,
        "start_time": "2022-05-30T18:25:11.016Z"
      },
      {
        "duration": 40,
        "start_time": "2022-05-30T18:25:11.188Z"
      },
      {
        "duration": 122,
        "start_time": "2022-05-30T18:25:11.231Z"
      },
      {
        "duration": 0,
        "start_time": "2022-05-30T18:25:11.354Z"
      },
      {
        "duration": 0,
        "start_time": "2022-05-30T18:25:11.355Z"
      },
      {
        "duration": 0,
        "start_time": "2022-05-30T18:25:11.356Z"
      },
      {
        "duration": 0,
        "start_time": "2022-05-30T18:25:11.357Z"
      },
      {
        "duration": 0,
        "start_time": "2022-05-30T18:25:11.358Z"
      },
      {
        "duration": 0,
        "start_time": "2022-05-30T18:25:11.359Z"
      },
      {
        "duration": 0,
        "start_time": "2022-05-30T18:25:11.360Z"
      },
      {
        "duration": 0,
        "start_time": "2022-05-30T18:25:11.361Z"
      },
      {
        "duration": 0,
        "start_time": "2022-05-30T18:25:11.362Z"
      },
      {
        "duration": 29,
        "start_time": "2022-05-30T18:25:48.386Z"
      },
      {
        "duration": 337,
        "start_time": "2022-05-30T18:26:00.136Z"
      },
      {
        "duration": 256,
        "start_time": "2022-05-30T18:26:19.890Z"
      },
      {
        "duration": 245,
        "start_time": "2022-05-30T18:26:31.660Z"
      },
      {
        "duration": 170,
        "start_time": "2022-05-30T18:26:53.251Z"
      },
      {
        "duration": 153,
        "start_time": "2022-05-30T18:27:00.394Z"
      },
      {
        "duration": 276,
        "start_time": "2022-05-30T18:27:05.084Z"
      },
      {
        "duration": 42,
        "start_time": "2022-05-30T18:27:33.627Z"
      },
      {
        "duration": 197,
        "start_time": "2022-05-30T18:27:52.898Z"
      },
      {
        "duration": 150,
        "start_time": "2022-05-30T18:27:59.275Z"
      },
      {
        "duration": 243,
        "start_time": "2022-05-30T18:28:07.301Z"
      },
      {
        "duration": 289,
        "start_time": "2022-05-31T14:51:17.006Z"
      },
      {
        "duration": 225,
        "start_time": "2022-05-31T14:51:41.543Z"
      },
      {
        "duration": 239,
        "start_time": "2022-05-31T14:53:37.681Z"
      },
      {
        "duration": 213,
        "start_time": "2022-05-31T14:56:45.298Z"
      },
      {
        "duration": 212,
        "start_time": "2022-05-31T14:57:46.755Z"
      },
      {
        "duration": 337,
        "start_time": "2022-05-31T14:58:46.404Z"
      },
      {
        "duration": 229,
        "start_time": "2022-05-31T14:58:59.604Z"
      },
      {
        "duration": 265,
        "start_time": "2022-05-31T14:59:12.561Z"
      },
      {
        "duration": 245,
        "start_time": "2022-05-31T14:59:29.751Z"
      },
      {
        "duration": 239,
        "start_time": "2022-05-31T15:02:23.741Z"
      },
      {
        "duration": 199,
        "start_time": "2022-05-31T15:03:38.603Z"
      },
      {
        "duration": 314,
        "start_time": "2022-05-31T15:05:40.734Z"
      },
      {
        "duration": 207,
        "start_time": "2022-05-31T15:06:20.198Z"
      },
      {
        "duration": 229,
        "start_time": "2022-05-31T15:06:30.864Z"
      },
      {
        "duration": 214,
        "start_time": "2022-05-31T15:06:59.719Z"
      },
      {
        "duration": 210,
        "start_time": "2022-05-31T15:07:10.397Z"
      },
      {
        "duration": 312,
        "start_time": "2022-05-31T15:07:20.523Z"
      },
      {
        "duration": 219,
        "start_time": "2022-05-31T15:08:16.297Z"
      },
      {
        "duration": 229,
        "start_time": "2022-05-31T15:08:32.237Z"
      },
      {
        "duration": 198,
        "start_time": "2022-05-31T15:11:28.132Z"
      },
      {
        "duration": 249,
        "start_time": "2022-05-31T15:16:25.763Z"
      },
      {
        "duration": 109,
        "start_time": "2022-05-31T15:16:39.666Z"
      },
      {
        "duration": 298,
        "start_time": "2022-05-31T15:16:53.212Z"
      },
      {
        "duration": 277,
        "start_time": "2022-05-31T15:17:02.369Z"
      },
      {
        "duration": 208,
        "start_time": "2022-05-31T15:17:44.967Z"
      },
      {
        "duration": 208,
        "start_time": "2022-05-31T15:18:25.017Z"
      },
      {
        "duration": 202,
        "start_time": "2022-05-31T15:18:42.859Z"
      },
      {
        "duration": 210,
        "start_time": "2022-05-31T15:19:04.232Z"
      },
      {
        "duration": 346,
        "start_time": "2022-05-31T15:19:17.673Z"
      },
      {
        "duration": 202,
        "start_time": "2022-05-31T15:20:31.039Z"
      },
      {
        "duration": 205,
        "start_time": "2022-05-31T15:21:15.610Z"
      },
      {
        "duration": 199,
        "start_time": "2022-05-31T15:29:38.436Z"
      },
      {
        "duration": 221,
        "start_time": "2022-05-31T15:30:08.024Z"
      },
      {
        "duration": 320,
        "start_time": "2022-05-31T15:30:18.080Z"
      },
      {
        "duration": 204,
        "start_time": "2022-05-31T15:30:28.179Z"
      },
      {
        "duration": 197,
        "start_time": "2022-05-31T15:30:44.713Z"
      },
      {
        "duration": 198,
        "start_time": "2022-05-31T15:30:54.858Z"
      },
      {
        "duration": 220,
        "start_time": "2022-05-31T15:32:08.980Z"
      },
      {
        "duration": 96,
        "start_time": "2022-05-31T15:37:00.784Z"
      },
      {
        "duration": 109,
        "start_time": "2022-05-31T15:37:28.975Z"
      },
      {
        "duration": 2,
        "start_time": "2022-05-31T15:38:19.427Z"
      },
      {
        "duration": 104,
        "start_time": "2022-05-31T15:38:37.771Z"
      },
      {
        "duration": 326,
        "start_time": "2022-05-31T15:38:54.944Z"
      },
      {
        "duration": 196,
        "start_time": "2022-05-31T15:39:21.704Z"
      },
      {
        "duration": 229,
        "start_time": "2022-05-31T15:40:17.671Z"
      },
      {
        "duration": 182,
        "start_time": "2022-05-31T15:40:49.027Z"
      },
      {
        "duration": 174,
        "start_time": "2022-05-31T15:41:05.337Z"
      },
      {
        "duration": 183,
        "start_time": "2022-05-31T15:42:19.761Z"
      },
      {
        "duration": 192,
        "start_time": "2022-05-31T15:42:34.769Z"
      },
      {
        "duration": 170,
        "start_time": "2022-05-31T15:42:51.598Z"
      },
      {
        "duration": 377,
        "start_time": "2022-05-31T15:43:28.036Z"
      },
      {
        "duration": 36,
        "start_time": "2022-05-31T15:48:53.518Z"
      },
      {
        "duration": 12,
        "start_time": "2022-05-31T15:50:32.387Z"
      },
      {
        "duration": 52,
        "start_time": "2022-05-31T15:50:48.878Z"
      },
      {
        "duration": 182,
        "start_time": "2022-05-31T15:50:53.040Z"
      },
      {
        "duration": 199,
        "start_time": "2022-05-31T15:53:00.315Z"
      },
      {
        "duration": 150,
        "start_time": "2022-05-31T15:53:09.178Z"
      },
      {
        "duration": 215,
        "start_time": "2022-05-31T15:53:40.938Z"
      },
      {
        "duration": 174,
        "start_time": "2022-05-31T15:55:00.911Z"
      },
      {
        "duration": 7,
        "start_time": "2022-05-31T16:00:03.000Z"
      },
      {
        "duration": 96,
        "start_time": "2022-05-31T16:01:23.279Z"
      },
      {
        "duration": 6,
        "start_time": "2022-05-31T16:01:50.740Z"
      },
      {
        "duration": 6,
        "start_time": "2022-05-31T16:02:57.943Z"
      },
      {
        "duration": 1042,
        "start_time": "2022-05-31T16:03:21.696Z"
      },
      {
        "duration": 180,
        "start_time": "2022-05-31T16:03:22.739Z"
      },
      {
        "duration": 141,
        "start_time": "2022-05-31T16:03:22.920Z"
      },
      {
        "duration": 97,
        "start_time": "2022-05-31T16:03:23.063Z"
      },
      {
        "duration": 30,
        "start_time": "2022-05-31T16:03:23.161Z"
      },
      {
        "duration": 40,
        "start_time": "2022-05-31T16:03:23.193Z"
      },
      {
        "duration": 109,
        "start_time": "2022-05-31T16:03:23.235Z"
      },
      {
        "duration": 65,
        "start_time": "2022-05-31T16:03:23.345Z"
      },
      {
        "duration": 46,
        "start_time": "2022-05-31T16:03:23.412Z"
      },
      {
        "duration": 44,
        "start_time": "2022-05-31T16:03:23.461Z"
      },
      {
        "duration": 6,
        "start_time": "2022-05-31T16:03:23.507Z"
      },
      {
        "duration": 168,
        "start_time": "2022-05-31T16:03:23.514Z"
      },
      {
        "duration": 38,
        "start_time": "2022-05-31T16:03:23.683Z"
      },
      {
        "duration": 263,
        "start_time": "2022-05-31T16:03:23.723Z"
      },
      {
        "duration": 244,
        "start_time": "2022-05-31T16:03:23.988Z"
      },
      {
        "duration": 206,
        "start_time": "2022-05-31T16:03:24.234Z"
      },
      {
        "duration": 50,
        "start_time": "2022-05-31T16:03:24.442Z"
      },
      {
        "duration": 195,
        "start_time": "2022-05-31T16:03:24.493Z"
      },
      {
        "duration": 168,
        "start_time": "2022-05-31T16:03:24.690Z"
      },
      {
        "duration": 177,
        "start_time": "2022-05-31T16:03:24.860Z"
      },
      {
        "duration": 7,
        "start_time": "2022-05-31T16:03:25.039Z"
      },
      {
        "duration": 89,
        "start_time": "2022-05-31T16:03:25.048Z"
      },
      {
        "duration": 7,
        "start_time": "2022-05-31T16:03:25.138Z"
      },
      {
        "duration": 1040,
        "start_time": "2022-06-01T11:04:54.502Z"
      },
      {
        "duration": 202,
        "start_time": "2022-06-01T11:04:55.544Z"
      },
      {
        "duration": 152,
        "start_time": "2022-06-01T11:04:55.747Z"
      },
      {
        "duration": 112,
        "start_time": "2022-06-01T11:04:55.901Z"
      },
      {
        "duration": 28,
        "start_time": "2022-06-01T11:04:56.015Z"
      },
      {
        "duration": 42,
        "start_time": "2022-06-01T11:04:56.045Z"
      },
      {
        "duration": 125,
        "start_time": "2022-06-01T11:04:56.089Z"
      },
      {
        "duration": 83,
        "start_time": "2022-06-01T11:04:56.216Z"
      },
      {
        "duration": 67,
        "start_time": "2022-06-01T11:04:56.301Z"
      },
      {
        "duration": 40,
        "start_time": "2022-06-01T11:04:56.372Z"
      },
      {
        "duration": 7,
        "start_time": "2022-06-01T11:04:56.414Z"
      },
      {
        "duration": 214,
        "start_time": "2022-06-01T11:04:56.423Z"
      },
      {
        "duration": 51,
        "start_time": "2022-06-01T11:04:56.645Z"
      },
      {
        "duration": 302,
        "start_time": "2022-06-01T11:04:56.698Z"
      },
      {
        "duration": 308,
        "start_time": "2022-06-01T11:04:57.002Z"
      },
      {
        "duration": 226,
        "start_time": "2022-06-01T11:04:57.312Z"
      },
      {
        "duration": 50,
        "start_time": "2022-06-01T11:04:57.540Z"
      },
      {
        "duration": 241,
        "start_time": "2022-06-01T11:04:57.591Z"
      },
      {
        "duration": 219,
        "start_time": "2022-06-01T11:04:57.833Z"
      },
      {
        "duration": 225,
        "start_time": "2022-06-01T11:04:58.054Z"
      },
      {
        "duration": 6,
        "start_time": "2022-06-01T11:04:58.281Z"
      },
      {
        "duration": 98,
        "start_time": "2022-06-01T11:04:58.289Z"
      },
      {
        "duration": 8,
        "start_time": "2022-06-01T11:04:58.389Z"
      }
    ],
    "kernelspec": {
      "name": "python",
      "display_name": "Python (Pyodide)",
      "language": "python"
    },
    "language_info": {
      "codemirror_mode": {
        "name": "python",
        "version": 3
      },
      "file_extension": ".py",
      "mimetype": "text/x-python",
      "name": "python",
      "nbconvert_exporter": "python",
      "pygments_lexer": "ipython3",
      "version": "3.8"
    },
    "toc": {
      "base_numbering": 1,
      "nav_menu": {},
      "number_sections": true,
      "sideBar": true,
      "skip_h1_title": true,
      "title_cell": "Table of Contents",
      "title_sidebar": "Contents",
      "toc_cell": false,
      "toc_position": {},
      "toc_section_display": true,
      "toc_window_display": false
    }
  },
  "nbformat_minor": 4,
  "nbformat": 4,
  "cells": [
    {
      "cell_type": "markdown",
      "source": "# Определение перспективного тарифа для телеком-компании",
      "metadata": {}
    },
    {
      "cell_type": "markdown",
      "source": "Клиентам предлагают два тарифных плана: «Смарт» и «Ультра». Чтобы скорректировать рекламный бюджет, коммерческий департамент хочет понять, какой тариф приносит больше денег.\nНеобходимо сделать предварительный анализ тарифов на небольшой выборке клиентов. В вашем распоряжении данные 500 пользователей «Мегалайна»: кто они, откуда, каким тарифом пользуются, сколько звонков и сообщений каждый отправил за 2018 год. Нужно проанализировать поведение клиентов и сделать вывод — какой тариф лучше.",
      "metadata": {}
    },
    {
      "cell_type": "markdown",
      "source": "## Обзор данных",
      "metadata": {}
    },
    {
      "cell_type": "code",
      "source": "# импортируем необходимые библиотеки\nimport pandas as pd\nimport matplotlib.pyplot as plt\nimport math\nimport numpy as np\nfrom scipy import stats as st",
      "metadata": {},
      "execution_count": 1,
      "outputs": []
    },
    {
      "cell_type": "code",
      "source": "calls = pd.read_csv('/datasets/calls.csv') # открываем датасет по звонкам\ncalls.info() # смотрим общую информацию о датасете\ncalls.head() # смотрим на первые пять строк датасета",
      "metadata": {},
      "execution_count": 2,
      "outputs": [
        {
          "name": "stdout",
          "output_type": "stream",
          "text": "<class 'pandas.core.frame.DataFrame'>\n\nRangeIndex: 202607 entries, 0 to 202606\n\nData columns (total 4 columns):\n\n #   Column     Non-Null Count   Dtype  \n\n---  ------     --------------   -----  \n\n 0   id         202607 non-null  object \n\n 1   call_date  202607 non-null  object \n\n 2   duration   202607 non-null  float64\n\n 3   user_id    202607 non-null  int64  \n\ndtypes: float64(1), int64(1), object(2)\n\nmemory usage: 6.2+ MB\n"
        },
        {
          "execution_count": 2,
          "output_type": "execute_result",
          "data": {
            "text/html": [
              "<div>\n",
              "<style scoped>\n",
              "    .dataframe tbody tr th:only-of-type {\n",
              "        vertical-align: middle;\n",
              "    }\n",
              "\n",
              "    .dataframe tbody tr th {\n",
              "        vertical-align: top;\n",
              "    }\n",
              "\n",
              "    .dataframe thead th {\n",
              "        text-align: right;\n",
              "    }\n",
              "</style>\n",
              "<table border=\"1\" class=\"dataframe\">\n",
              "  <thead>\n",
              "    <tr style=\"text-align: right;\">\n",
              "      <th></th>\n",
              "      <th>id</th>\n",
              "      <th>call_date</th>\n",
              "      <th>duration</th>\n",
              "      <th>user_id</th>\n",
              "    </tr>\n",
              "  </thead>\n",
              "  <tbody>\n",
              "    <tr>\n",
              "      <th>0</th>\n",
              "      <td>1000_0</td>\n",
              "      <td>2018-07-25</td>\n",
              "      <td>0.00</td>\n",
              "      <td>1000</td>\n",
              "    </tr>\n",
              "    <tr>\n",
              "      <th>1</th>\n",
              "      <td>1000_1</td>\n",
              "      <td>2018-08-17</td>\n",
              "      <td>0.00</td>\n",
              "      <td>1000</td>\n",
              "    </tr>\n",
              "    <tr>\n",
              "      <th>2</th>\n",
              "      <td>1000_2</td>\n",
              "      <td>2018-06-11</td>\n",
              "      <td>2.85</td>\n",
              "      <td>1000</td>\n",
              "    </tr>\n",
              "    <tr>\n",
              "      <th>3</th>\n",
              "      <td>1000_3</td>\n",
              "      <td>2018-09-21</td>\n",
              "      <td>13.80</td>\n",
              "      <td>1000</td>\n",
              "    </tr>\n",
              "    <tr>\n",
              "      <th>4</th>\n",
              "      <td>1000_4</td>\n",
              "      <td>2018-12-15</td>\n",
              "      <td>5.18</td>\n",
              "      <td>1000</td>\n",
              "    </tr>\n",
              "  </tbody>\n",
              "</table>\n",
              "</div>"
            ],
            "text/plain": [
              "       id   call_date  duration  user_id\n",
              "0  1000_0  2018-07-25      0.00     1000\n",
              "1  1000_1  2018-08-17      0.00     1000\n",
              "2  1000_2  2018-06-11      2.85     1000\n",
              "3  1000_3  2018-09-21     13.80     1000\n",
              "4  1000_4  2018-12-15      5.18     1000"
            ]
          },
          "metadata": {}
        }
      ]
    },
    {
      "cell_type": "code",
      "source": "internet = pd.read_csv('/datasets/internet.csv') # открываем датасет по использованию интернет-трафика\ninternet.info() # смотрим общую информацию о датасете\ninternet.head() # # смотрим на первые пять строк датасета",
      "metadata": {},
      "execution_count": 3,
      "outputs": [
        {
          "name": "stdout",
          "output_type": "stream",
          "text": "<class 'pandas.core.frame.DataFrame'>\n\nRangeIndex: 149396 entries, 0 to 149395\n\nData columns (total 5 columns):\n\n #   Column        Non-Null Count   Dtype  \n\n---  ------        --------------   -----  \n\n 0   Unnamed: 0    149396 non-null  int64  \n\n 1   id            149396 non-null  object \n\n 2   mb_used       149396 non-null  float64\n\n 3   session_date  149396 non-null  object \n\n 4   user_id       149396 non-null  int64  \n\ndtypes: float64(1), int64(2), object(2)\n\nmemory usage: 5.7+ MB\n"
        },
        {
          "execution_count": 3,
          "output_type": "execute_result",
          "data": {
            "text/html": [
              "<div>\n",
              "<style scoped>\n",
              "    .dataframe tbody tr th:only-of-type {\n",
              "        vertical-align: middle;\n",
              "    }\n",
              "\n",
              "    .dataframe tbody tr th {\n",
              "        vertical-align: top;\n",
              "    }\n",
              "\n",
              "    .dataframe thead th {\n",
              "        text-align: right;\n",
              "    }\n",
              "</style>\n",
              "<table border=\"1\" class=\"dataframe\">\n",
              "  <thead>\n",
              "    <tr style=\"text-align: right;\">\n",
              "      <th></th>\n",
              "      <th>Unnamed: 0</th>\n",
              "      <th>id</th>\n",
              "      <th>mb_used</th>\n",
              "      <th>session_date</th>\n",
              "      <th>user_id</th>\n",
              "    </tr>\n",
              "  </thead>\n",
              "  <tbody>\n",
              "    <tr>\n",
              "      <th>0</th>\n",
              "      <td>0</td>\n",
              "      <td>1000_0</td>\n",
              "      <td>112.95</td>\n",
              "      <td>2018-11-25</td>\n",
              "      <td>1000</td>\n",
              "    </tr>\n",
              "    <tr>\n",
              "      <th>1</th>\n",
              "      <td>1</td>\n",
              "      <td>1000_1</td>\n",
              "      <td>1052.81</td>\n",
              "      <td>2018-09-07</td>\n",
              "      <td>1000</td>\n",
              "    </tr>\n",
              "    <tr>\n",
              "      <th>2</th>\n",
              "      <td>2</td>\n",
              "      <td>1000_2</td>\n",
              "      <td>1197.26</td>\n",
              "      <td>2018-06-25</td>\n",
              "      <td>1000</td>\n",
              "    </tr>\n",
              "    <tr>\n",
              "      <th>3</th>\n",
              "      <td>3</td>\n",
              "      <td>1000_3</td>\n",
              "      <td>550.27</td>\n",
              "      <td>2018-08-22</td>\n",
              "      <td>1000</td>\n",
              "    </tr>\n",
              "    <tr>\n",
              "      <th>4</th>\n",
              "      <td>4</td>\n",
              "      <td>1000_4</td>\n",
              "      <td>302.56</td>\n",
              "      <td>2018-09-24</td>\n",
              "      <td>1000</td>\n",
              "    </tr>\n",
              "  </tbody>\n",
              "</table>\n",
              "</div>"
            ],
            "text/plain": [
              "   Unnamed: 0      id  mb_used session_date  user_id\n",
              "0           0  1000_0   112.95   2018-11-25     1000\n",
              "1           1  1000_1  1052.81   2018-09-07     1000\n",
              "2           2  1000_2  1197.26   2018-06-25     1000\n",
              "3           3  1000_3   550.27   2018-08-22     1000\n",
              "4           4  1000_4   302.56   2018-09-24     1000"
            ]
          },
          "metadata": {}
        }
      ]
    },
    {
      "cell_type": "code",
      "source": "messages = pd.read_csv('/datasets/messages.csv') # открываем датасет по сообщениям\nmessages.info() # смотрим общую информацию о датасете\nmessages.head() # смотрим на первые пять строк датасета",
      "metadata": {},
      "execution_count": 4,
      "outputs": [
        {
          "name": "stdout",
          "output_type": "stream",
          "text": "<class 'pandas.core.frame.DataFrame'>\n\nRangeIndex: 123036 entries, 0 to 123035\n\nData columns (total 3 columns):\n\n #   Column        Non-Null Count   Dtype \n\n---  ------        --------------   ----- \n\n 0   id            123036 non-null  object\n\n 1   message_date  123036 non-null  object\n\n 2   user_id       123036 non-null  int64 \n\ndtypes: int64(1), object(2)\n\nmemory usage: 2.8+ MB\n"
        },
        {
          "execution_count": 4,
          "output_type": "execute_result",
          "data": {
            "text/html": [
              "<div>\n",
              "<style scoped>\n",
              "    .dataframe tbody tr th:only-of-type {\n",
              "        vertical-align: middle;\n",
              "    }\n",
              "\n",
              "    .dataframe tbody tr th {\n",
              "        vertical-align: top;\n",
              "    }\n",
              "\n",
              "    .dataframe thead th {\n",
              "        text-align: right;\n",
              "    }\n",
              "</style>\n",
              "<table border=\"1\" class=\"dataframe\">\n",
              "  <thead>\n",
              "    <tr style=\"text-align: right;\">\n",
              "      <th></th>\n",
              "      <th>id</th>\n",
              "      <th>message_date</th>\n",
              "      <th>user_id</th>\n",
              "    </tr>\n",
              "  </thead>\n",
              "  <tbody>\n",
              "    <tr>\n",
              "      <th>0</th>\n",
              "      <td>1000_0</td>\n",
              "      <td>2018-06-27</td>\n",
              "      <td>1000</td>\n",
              "    </tr>\n",
              "    <tr>\n",
              "      <th>1</th>\n",
              "      <td>1000_1</td>\n",
              "      <td>2018-10-08</td>\n",
              "      <td>1000</td>\n",
              "    </tr>\n",
              "    <tr>\n",
              "      <th>2</th>\n",
              "      <td>1000_2</td>\n",
              "      <td>2018-08-04</td>\n",
              "      <td>1000</td>\n",
              "    </tr>\n",
              "    <tr>\n",
              "      <th>3</th>\n",
              "      <td>1000_3</td>\n",
              "      <td>2018-06-16</td>\n",
              "      <td>1000</td>\n",
              "    </tr>\n",
              "    <tr>\n",
              "      <th>4</th>\n",
              "      <td>1000_4</td>\n",
              "      <td>2018-12-05</td>\n",
              "      <td>1000</td>\n",
              "    </tr>\n",
              "  </tbody>\n",
              "</table>\n",
              "</div>"
            ],
            "text/plain": [
              "       id message_date  user_id\n",
              "0  1000_0   2018-06-27     1000\n",
              "1  1000_1   2018-10-08     1000\n",
              "2  1000_2   2018-08-04     1000\n",
              "3  1000_3   2018-06-16     1000\n",
              "4  1000_4   2018-12-05     1000"
            ]
          },
          "metadata": {}
        }
      ]
    },
    {
      "cell_type": "code",
      "source": "tariffs = pd.read_csv('/datasets/tariffs.csv') # открываем датасет по тарифам\ntariffs.info() # смотрим общую информацию о датасете\ntariffs.head() # смотрим общую информацию о датасете\ntariffs['mb_per_month_included'] = tariffs['mb_per_month_included'] / 1024\n# переводим мегабайты в гигабайты для удобства работы в дальнейшем\ntariffs['mb_per_month_included'] = tariffs['mb_per_month_included'].astype('int')\n# переводим значения из вещественного типа в целочисленный\ntariffs = tariffs.rename(columns={'mb_per_month_included': 'gb_included'})\n# меняем название колонки на более точное\ntariffs.head() # смотрим на первые пять строк датасета",
      "metadata": {},
      "execution_count": 5,
      "outputs": [
        {
          "name": "stdout",
          "output_type": "stream",
          "text": "<class 'pandas.core.frame.DataFrame'>\n\nRangeIndex: 2 entries, 0 to 1\n\nData columns (total 8 columns):\n\n #   Column                 Non-Null Count  Dtype \n\n---  ------                 --------------  ----- \n\n 0   messages_included      2 non-null      int64 \n\n 1   mb_per_month_included  2 non-null      int64 \n\n 2   minutes_included       2 non-null      int64 \n\n 3   rub_monthly_fee        2 non-null      int64 \n\n 4   rub_per_gb             2 non-null      int64 \n\n 5   rub_per_message        2 non-null      int64 \n\n 6   rub_per_minute         2 non-null      int64 \n\n 7   tariff_name            2 non-null      object\n\ndtypes: int64(7), object(1)\n\nmemory usage: 256.0+ bytes\n"
        },
        {
          "execution_count": 5,
          "output_type": "execute_result",
          "data": {
            "text/html": [
              "<div>\n",
              "<style scoped>\n",
              "    .dataframe tbody tr th:only-of-type {\n",
              "        vertical-align: middle;\n",
              "    }\n",
              "\n",
              "    .dataframe tbody tr th {\n",
              "        vertical-align: top;\n",
              "    }\n",
              "\n",
              "    .dataframe thead th {\n",
              "        text-align: right;\n",
              "    }\n",
              "</style>\n",
              "<table border=\"1\" class=\"dataframe\">\n",
              "  <thead>\n",
              "    <tr style=\"text-align: right;\">\n",
              "      <th></th>\n",
              "      <th>messages_included</th>\n",
              "      <th>gb_included</th>\n",
              "      <th>minutes_included</th>\n",
              "      <th>rub_monthly_fee</th>\n",
              "      <th>rub_per_gb</th>\n",
              "      <th>rub_per_message</th>\n",
              "      <th>rub_per_minute</th>\n",
              "      <th>tariff_name</th>\n",
              "    </tr>\n",
              "  </thead>\n",
              "  <tbody>\n",
              "    <tr>\n",
              "      <th>0</th>\n",
              "      <td>50</td>\n",
              "      <td>15</td>\n",
              "      <td>500</td>\n",
              "      <td>550</td>\n",
              "      <td>200</td>\n",
              "      <td>3</td>\n",
              "      <td>3</td>\n",
              "      <td>smart</td>\n",
              "    </tr>\n",
              "    <tr>\n",
              "      <th>1</th>\n",
              "      <td>1000</td>\n",
              "      <td>30</td>\n",
              "      <td>3000</td>\n",
              "      <td>1950</td>\n",
              "      <td>150</td>\n",
              "      <td>1</td>\n",
              "      <td>1</td>\n",
              "      <td>ultra</td>\n",
              "    </tr>\n",
              "  </tbody>\n",
              "</table>\n",
              "</div>"
            ],
            "text/plain": [
              "   messages_included  gb_included  minutes_included  rub_monthly_fee  \\\n",
              "0                 50           15               500              550   \n",
              "1               1000           30              3000             1950   \n",
              "\n",
              "   rub_per_gb  rub_per_message  rub_per_minute tariff_name  \n",
              "0         200                3               3       smart  \n",
              "1         150                1               1       ultra  "
            ]
          },
          "metadata": {}
        }
      ]
    },
    {
      "cell_type": "code",
      "source": "users = pd.read_csv('/datasets/users.csv') # отркываем датасет с данными пользователей\nusers.info() # смотрим общую информацию о датасете\ndisplay(users.head()) # смотрим на первые пять строк датасета\nusers['tariff'].value_counts() # считаем количество пользователей тарифов \"Смарт\" и \"Ультра\"",
      "metadata": {},
      "execution_count": 6,
      "outputs": [
        {
          "name": "stdout",
          "output_type": "stream",
          "text": "<class 'pandas.core.frame.DataFrame'>\n\nRangeIndex: 500 entries, 0 to 499\n\nData columns (total 8 columns):\n\n #   Column      Non-Null Count  Dtype \n\n---  ------      --------------  ----- \n\n 0   user_id     500 non-null    int64 \n\n 1   age         500 non-null    int64 \n\n 2   churn_date  38 non-null     object\n\n 3   city        500 non-null    object\n\n 4   first_name  500 non-null    object\n\n 5   last_name   500 non-null    object\n\n 6   reg_date    500 non-null    object\n\n 7   tariff      500 non-null    object\n\ndtypes: int64(2), object(6)\n\nmemory usage: 31.4+ KB\n"
        },
        {
          "output_type": "display_data",
          "data": {
            "text/html": [
              "<div>\n",
              "<style scoped>\n",
              "    .dataframe tbody tr th:only-of-type {\n",
              "        vertical-align: middle;\n",
              "    }\n",
              "\n",
              "    .dataframe tbody tr th {\n",
              "        vertical-align: top;\n",
              "    }\n",
              "\n",
              "    .dataframe thead th {\n",
              "        text-align: right;\n",
              "    }\n",
              "</style>\n",
              "<table border=\"1\" class=\"dataframe\">\n",
              "  <thead>\n",
              "    <tr style=\"text-align: right;\">\n",
              "      <th></th>\n",
              "      <th>user_id</th>\n",
              "      <th>age</th>\n",
              "      <th>churn_date</th>\n",
              "      <th>city</th>\n",
              "      <th>first_name</th>\n",
              "      <th>last_name</th>\n",
              "      <th>reg_date</th>\n",
              "      <th>tariff</th>\n",
              "    </tr>\n",
              "  </thead>\n",
              "  <tbody>\n",
              "    <tr>\n",
              "      <th>0</th>\n",
              "      <td>1000</td>\n",
              "      <td>52</td>\n",
              "      <td>NaN</td>\n",
              "      <td>Краснодар</td>\n",
              "      <td>Рафаил</td>\n",
              "      <td>Верещагин</td>\n",
              "      <td>2018-05-25</td>\n",
              "      <td>ultra</td>\n",
              "    </tr>\n",
              "    <tr>\n",
              "      <th>1</th>\n",
              "      <td>1001</td>\n",
              "      <td>41</td>\n",
              "      <td>NaN</td>\n",
              "      <td>Москва</td>\n",
              "      <td>Иван</td>\n",
              "      <td>Ежов</td>\n",
              "      <td>2018-11-01</td>\n",
              "      <td>smart</td>\n",
              "    </tr>\n",
              "    <tr>\n",
              "      <th>2</th>\n",
              "      <td>1002</td>\n",
              "      <td>59</td>\n",
              "      <td>NaN</td>\n",
              "      <td>Стерлитамак</td>\n",
              "      <td>Евгений</td>\n",
              "      <td>Абрамович</td>\n",
              "      <td>2018-06-17</td>\n",
              "      <td>smart</td>\n",
              "    </tr>\n",
              "    <tr>\n",
              "      <th>3</th>\n",
              "      <td>1003</td>\n",
              "      <td>23</td>\n",
              "      <td>NaN</td>\n",
              "      <td>Москва</td>\n",
              "      <td>Белла</td>\n",
              "      <td>Белякова</td>\n",
              "      <td>2018-08-17</td>\n",
              "      <td>ultra</td>\n",
              "    </tr>\n",
              "    <tr>\n",
              "      <th>4</th>\n",
              "      <td>1004</td>\n",
              "      <td>68</td>\n",
              "      <td>NaN</td>\n",
              "      <td>Новокузнецк</td>\n",
              "      <td>Татьяна</td>\n",
              "      <td>Авдеенко</td>\n",
              "      <td>2018-05-14</td>\n",
              "      <td>ultra</td>\n",
              "    </tr>\n",
              "  </tbody>\n",
              "</table>\n",
              "</div>"
            ],
            "text/plain": [
              "   user_id  age churn_date         city first_name  last_name    reg_date  \\\n",
              "0     1000   52        NaN    Краснодар     Рафаил  Верещагин  2018-05-25   \n",
              "1     1001   41        NaN       Москва       Иван       Ежов  2018-11-01   \n",
              "2     1002   59        NaN  Стерлитамак    Евгений  Абрамович  2018-06-17   \n",
              "3     1003   23        NaN       Москва      Белла   Белякова  2018-08-17   \n",
              "4     1004   68        NaN  Новокузнецк    Татьяна   Авдеенко  2018-05-14   \n",
              "\n",
              "  tariff  \n",
              "0  ultra  \n",
              "1  smart  \n",
              "2  smart  \n",
              "3  ultra  \n",
              "4  ultra  "
            ]
          },
          "metadata": {}
        },
        {
          "execution_count": 6,
          "output_type": "execute_result",
          "data": {
            "text/plain": [
              "smart    351\n",
              "ultra    149\n",
              "Name: tariff, dtype: int64"
            ]
          },
          "metadata": {}
        }
      ]
    },
    {
      "cell_type": "markdown",
      "source": "Вывод: в нашем распоряжении 5 датасетов, содержащих информацию о количестве звонков, отправленных сообщений и использованного трафика пятисот пользователей, а также информацию о самих пользователях и составе тарифов. \n\nЯвных проблем в датасетах не обнаружено.",
      "metadata": {}
    },
    {
      "cell_type": "markdown",
      "source": "## Предобработка данных",
      "metadata": {}
    },
    {
      "cell_type": "markdown",
      "source": "### Таблица по суммарному количеству звонков, совершённых каждым пользователем помесячно.",
      "metadata": {}
    },
    {
      "cell_type": "code",
      "source": "calls['duration'] = calls['duration'].apply(np.ceil).astype('int')\n# округляем минуты разговоров в большую сторону (по правилам компании) \n# и переводим значения из вещественного типа в целочисленный\ncalls['call_date'] = pd.to_datetime(calls['call_date'], format='%Y-%m-%d')\n# перезаписываем столбец из типа \"объект\" в тип \"дата\"\ncalls['month'] = calls['call_date'].dt.month\n# создаём отдельный столбец с месяцем\nuser_calls = calls.pivot_table(index=['user_id', 'month'], values='duration', aggfunc=['sum', 'count'])\n# создаём сводную таблицу, в которой отражено количество минут разговора каждого пользователя,\n# в каждый месяц пользования тарифом\n#calls = calls.rename(columns={'(  'sum', 'duration')': 'calls_min', '(count duration)': 'calls_count'})\n\nuser_calls.info()\nuser_calls.columns = [ '_'.join(x) for x in user_calls.columns ]\ndisplay(user_calls.head()) # выводим первые пять строк получившейся сводной таблицы",
      "metadata": {},
      "execution_count": 7,
      "outputs": [
        {
          "name": "stdout",
          "output_type": "stream",
          "text": "<class 'pandas.core.frame.DataFrame'>\n\nMultiIndex: 3174 entries, (1000, 5) to (1499, 12)\n\nData columns (total 2 columns):\n\n #   Column             Non-Null Count  Dtype\n\n---  ------             --------------  -----\n\n 0   (sum, duration)    3174 non-null   int64\n\n 1   (count, duration)  3174 non-null   int64\n\ndtypes: int64(2)\n\nmemory usage: 62.9 KB\n"
        },
        {
          "output_type": "display_data",
          "data": {
            "text/html": [
              "<div>\n",
              "<style scoped>\n",
              "    .dataframe tbody tr th:only-of-type {\n",
              "        vertical-align: middle;\n",
              "    }\n",
              "\n",
              "    .dataframe tbody tr th {\n",
              "        vertical-align: top;\n",
              "    }\n",
              "\n",
              "    .dataframe thead th {\n",
              "        text-align: right;\n",
              "    }\n",
              "</style>\n",
              "<table border=\"1\" class=\"dataframe\">\n",
              "  <thead>\n",
              "    <tr style=\"text-align: right;\">\n",
              "      <th></th>\n",
              "      <th></th>\n",
              "      <th>sum_duration</th>\n",
              "      <th>count_duration</th>\n",
              "    </tr>\n",
              "    <tr>\n",
              "      <th>user_id</th>\n",
              "      <th>month</th>\n",
              "      <th></th>\n",
              "      <th></th>\n",
              "    </tr>\n",
              "  </thead>\n",
              "  <tbody>\n",
              "    <tr>\n",
              "      <th rowspan=\"5\" valign=\"top\">1000</th>\n",
              "      <th>5</th>\n",
              "      <td>159</td>\n",
              "      <td>22</td>\n",
              "    </tr>\n",
              "    <tr>\n",
              "      <th>6</th>\n",
              "      <td>172</td>\n",
              "      <td>43</td>\n",
              "    </tr>\n",
              "    <tr>\n",
              "      <th>7</th>\n",
              "      <td>340</td>\n",
              "      <td>47</td>\n",
              "    </tr>\n",
              "    <tr>\n",
              "      <th>8</th>\n",
              "      <td>408</td>\n",
              "      <td>52</td>\n",
              "    </tr>\n",
              "    <tr>\n",
              "      <th>9</th>\n",
              "      <td>466</td>\n",
              "      <td>58</td>\n",
              "    </tr>\n",
              "  </tbody>\n",
              "</table>\n",
              "</div>"
            ],
            "text/plain": [
              "               sum_duration  count_duration\n",
              "user_id month                              \n",
              "1000    5               159              22\n",
              "        6               172              43\n",
              "        7               340              47\n",
              "        8               408              52\n",
              "        9               466              58"
            ]
          },
          "metadata": {}
        }
      ]
    },
    {
      "cell_type": "markdown",
      "source": "### Таблица по суммарному количеству интернет-трафика, израсходованному каждым пользователем помесячно.",
      "metadata": {}
    },
    {
      "cell_type": "code",
      "source": "internet['session_date'] = pd.to_datetime(internet['session_date'], format='%Y-%m-%d')\n# перезаписываем столбец из типа \"объект\" в тип \"дата\"\ninternet['month'] = internet['session_date'].dt.month\n# создаём отдельный столбец с месяцем\nuser_internet = internet.pivot_table(index=['user_id', 'month'], values='mb_used', aggfunc='sum')\n# создаём сводную таблицу, в которой отражено количество гигабайт, израсходованных каждым пользователем,\n# в каждый месяц пользования тарифом\nuser_internet['mb_used'] = user_internet['mb_used'] / 1024\n# переводим мегабайты в гигабайты\nuser_internet['mb_used'] = np.ceil(user_internet['mb_used']).astype('int')\n# округляем гигабайты в большую сторону (по правилам компании) \n# и переводим значения из вещественного типа в целочисленный\nuser_internet.head() # выводим первые пять строк получившейся сводной таблицы",
      "metadata": {},
      "execution_count": 8,
      "outputs": [
        {
          "execution_count": 8,
          "output_type": "execute_result",
          "data": {
            "text/html": [
              "<div>\n",
              "<style scoped>\n",
              "    .dataframe tbody tr th:only-of-type {\n",
              "        vertical-align: middle;\n",
              "    }\n",
              "\n",
              "    .dataframe tbody tr th {\n",
              "        vertical-align: top;\n",
              "    }\n",
              "\n",
              "    .dataframe thead th {\n",
              "        text-align: right;\n",
              "    }\n",
              "</style>\n",
              "<table border=\"1\" class=\"dataframe\">\n",
              "  <thead>\n",
              "    <tr style=\"text-align: right;\">\n",
              "      <th></th>\n",
              "      <th></th>\n",
              "      <th>mb_used</th>\n",
              "    </tr>\n",
              "    <tr>\n",
              "      <th>user_id</th>\n",
              "      <th>month</th>\n",
              "      <th></th>\n",
              "    </tr>\n",
              "  </thead>\n",
              "  <tbody>\n",
              "    <tr>\n",
              "      <th rowspan=\"5\" valign=\"top\">1000</th>\n",
              "      <th>5</th>\n",
              "      <td>3</td>\n",
              "    </tr>\n",
              "    <tr>\n",
              "      <th>6</th>\n",
              "      <td>23</td>\n",
              "    </tr>\n",
              "    <tr>\n",
              "      <th>7</th>\n",
              "      <td>14</td>\n",
              "    </tr>\n",
              "    <tr>\n",
              "      <th>8</th>\n",
              "      <td>14</td>\n",
              "    </tr>\n",
              "    <tr>\n",
              "      <th>9</th>\n",
              "      <td>15</td>\n",
              "    </tr>\n",
              "  </tbody>\n",
              "</table>\n",
              "</div>"
            ],
            "text/plain": [
              "               mb_used\n",
              "user_id month         \n",
              "1000    5            3\n",
              "        6           23\n",
              "        7           14\n",
              "        8           14\n",
              "        9           15"
            ]
          },
          "metadata": {}
        }
      ]
    },
    {
      "cell_type": "markdown",
      "source": "### Таблица по суммарному количеству сообщений, отправленных каждым пользователем помесячно.",
      "metadata": {}
    },
    {
      "cell_type": "code",
      "source": "messages['message_date'] = pd.to_datetime(messages['message_date'], format='%Y-%m-%d')\n# перезаписываем столбец из типа \"объект\" в тип \"дата\"\nmessages['month'] = messages['message_date'].dt.month\n# создаём отдельный столбец с месяцем\nuser_messages = messages.pivot_table(index=['user_id', 'month'], values='message_date', aggfunc='count')\n# создаём сводную таблицу, в которой отражено количество сообщений, отправленных каждым пользователем,\n# в каждый месяц пользования тарифом\nuser_messages = user_messages.rename(columns={'message_date': 'messages'})\n# меняем название колонки на более точное\nuser_messages.head() # выводим первые пять строк получившейся сводной таблицы",
      "metadata": {},
      "execution_count": 9,
      "outputs": [
        {
          "execution_count": 9,
          "output_type": "execute_result",
          "data": {
            "text/html": [
              "<div>\n",
              "<style scoped>\n",
              "    .dataframe tbody tr th:only-of-type {\n",
              "        vertical-align: middle;\n",
              "    }\n",
              "\n",
              "    .dataframe tbody tr th {\n",
              "        vertical-align: top;\n",
              "    }\n",
              "\n",
              "    .dataframe thead th {\n",
              "        text-align: right;\n",
              "    }\n",
              "</style>\n",
              "<table border=\"1\" class=\"dataframe\">\n",
              "  <thead>\n",
              "    <tr style=\"text-align: right;\">\n",
              "      <th></th>\n",
              "      <th></th>\n",
              "      <th>messages</th>\n",
              "    </tr>\n",
              "    <tr>\n",
              "      <th>user_id</th>\n",
              "      <th>month</th>\n",
              "      <th></th>\n",
              "    </tr>\n",
              "  </thead>\n",
              "  <tbody>\n",
              "    <tr>\n",
              "      <th rowspan=\"5\" valign=\"top\">1000</th>\n",
              "      <th>5</th>\n",
              "      <td>22</td>\n",
              "    </tr>\n",
              "    <tr>\n",
              "      <th>6</th>\n",
              "      <td>60</td>\n",
              "    </tr>\n",
              "    <tr>\n",
              "      <th>7</th>\n",
              "      <td>75</td>\n",
              "    </tr>\n",
              "    <tr>\n",
              "      <th>8</th>\n",
              "      <td>81</td>\n",
              "    </tr>\n",
              "    <tr>\n",
              "      <th>9</th>\n",
              "      <td>57</td>\n",
              "    </tr>\n",
              "  </tbody>\n",
              "</table>\n",
              "</div>"
            ],
            "text/plain": [
              "               messages\n",
              "user_id month          \n",
              "1000    5            22\n",
              "        6            60\n",
              "        7            75\n",
              "        8            81\n",
              "        9            57"
            ]
          },
          "metadata": {}
        }
      ]
    },
    {
      "cell_type": "markdown",
      "source": "### Агрегированная таблица с данными",
      "metadata": {}
    },
    {
      "cell_type": "code",
      "source": "data = user_calls.merge(user_internet, on=['user_id', 'month'], how='outer')\n# создаём общую таблицу из сводных, присоединяя одну таблицу к другой\ndata = data.merge(user_messages, on=['user_id', 'month'], how='outer')\n# создаём общую таблицу из сводных, присоединяя одну таблицу к другой\n#data = data.merge(users[['user_id', 'tariff', 'city']], on='user_id', how='right')\n# добавляем к полученной таблице данные о пользователях - каким тарифом пользуются и в каком городе живут\ndata = data.reset_index()\n# сбрасываем индексы\ndata = data.merge(users[['user_id', 'tariff', 'city']], on='user_id', how='left')\n# добавляем к полученной таблице данные о пользователях - каким тарифом пользуются и в каком городе живут\ndata['messages'] = data['messages'].fillna(0)\n# пропуски заменяем на 0\ndata['sum_duration'] = data['sum_duration'].fillna(0)\n# пропуски заменяем на 0\ndata['count_duration'] = data['count_duration'].fillna(0)\n# пропуски заменяем на 0\ndata = data.rename(columns={'mb_used': 'gb_used'})\n# меняем названия колонок на более корректные\ndata['gb_used'] = data['gb_used'].fillna(0)\n# пропуски заменяем на 0\ndata['sum_duration'] = data['sum_duration'].astype('int')\n# меняем вещественный тип на целочисленный\ndata['count_duration'] = data['count_duration'].astype('int')\n# меняем вещественный тип на целочисленный\ndata['gb_used'] = data['gb_used'].astype('int')\n# меняем вещественный тип на целочисленный\n#data['month'] = data['month'].astype('int')\n# меняем вещественный тип на целочисленный\ndata['messages'] = data['messages'].astype('int')\n# меняем вещественный тип на целочисленный\ndata.info() # смотрим общую информацию о получившемся датасете\ndata.head() # выводим первые пять строк получившегося датасета",
      "metadata": {},
      "execution_count": 10,
      "outputs": [
        {
          "name": "stdout",
          "output_type": "stream",
          "text": "<class 'pandas.core.frame.DataFrame'>\n\nInt64Index: 3214 entries, 0 to 3213\n\nData columns (total 8 columns):\n\n #   Column          Non-Null Count  Dtype \n\n---  ------          --------------  ----- \n\n 0   user_id         3214 non-null   int64 \n\n 1   month           3214 non-null   int64 \n\n 2   sum_duration    3214 non-null   int64 \n\n 3   count_duration  3214 non-null   int64 \n\n 4   gb_used         3214 non-null   int64 \n\n 5   messages        3214 non-null   int64 \n\n 6   tariff          3214 non-null   object\n\n 7   city            3214 non-null   object\n\ndtypes: int64(6), object(2)\n\nmemory usage: 226.0+ KB\n"
        },
        {
          "execution_count": 10,
          "output_type": "execute_result",
          "data": {
            "text/html": [
              "<div>\n",
              "<style scoped>\n",
              "    .dataframe tbody tr th:only-of-type {\n",
              "        vertical-align: middle;\n",
              "    }\n",
              "\n",
              "    .dataframe tbody tr th {\n",
              "        vertical-align: top;\n",
              "    }\n",
              "\n",
              "    .dataframe thead th {\n",
              "        text-align: right;\n",
              "    }\n",
              "</style>\n",
              "<table border=\"1\" class=\"dataframe\">\n",
              "  <thead>\n",
              "    <tr style=\"text-align: right;\">\n",
              "      <th></th>\n",
              "      <th>user_id</th>\n",
              "      <th>month</th>\n",
              "      <th>sum_duration</th>\n",
              "      <th>count_duration</th>\n",
              "      <th>gb_used</th>\n",
              "      <th>messages</th>\n",
              "      <th>tariff</th>\n",
              "      <th>city</th>\n",
              "    </tr>\n",
              "  </thead>\n",
              "  <tbody>\n",
              "    <tr>\n",
              "      <th>0</th>\n",
              "      <td>1000</td>\n",
              "      <td>5</td>\n",
              "      <td>159</td>\n",
              "      <td>22</td>\n",
              "      <td>3</td>\n",
              "      <td>22</td>\n",
              "      <td>ultra</td>\n",
              "      <td>Краснодар</td>\n",
              "    </tr>\n",
              "    <tr>\n",
              "      <th>1</th>\n",
              "      <td>1000</td>\n",
              "      <td>6</td>\n",
              "      <td>172</td>\n",
              "      <td>43</td>\n",
              "      <td>23</td>\n",
              "      <td>60</td>\n",
              "      <td>ultra</td>\n",
              "      <td>Краснодар</td>\n",
              "    </tr>\n",
              "    <tr>\n",
              "      <th>2</th>\n",
              "      <td>1000</td>\n",
              "      <td>7</td>\n",
              "      <td>340</td>\n",
              "      <td>47</td>\n",
              "      <td>14</td>\n",
              "      <td>75</td>\n",
              "      <td>ultra</td>\n",
              "      <td>Краснодар</td>\n",
              "    </tr>\n",
              "    <tr>\n",
              "      <th>3</th>\n",
              "      <td>1000</td>\n",
              "      <td>8</td>\n",
              "      <td>408</td>\n",
              "      <td>52</td>\n",
              "      <td>14</td>\n",
              "      <td>81</td>\n",
              "      <td>ultra</td>\n",
              "      <td>Краснодар</td>\n",
              "    </tr>\n",
              "    <tr>\n",
              "      <th>4</th>\n",
              "      <td>1000</td>\n",
              "      <td>9</td>\n",
              "      <td>466</td>\n",
              "      <td>58</td>\n",
              "      <td>15</td>\n",
              "      <td>57</td>\n",
              "      <td>ultra</td>\n",
              "      <td>Краснодар</td>\n",
              "    </tr>\n",
              "  </tbody>\n",
              "</table>\n",
              "</div>"
            ],
            "text/plain": [
              "   user_id  month  sum_duration  count_duration  gb_used  messages tariff  \\\n",
              "0     1000      5           159              22        3        22  ultra   \n",
              "1     1000      6           172              43       23        60  ultra   \n",
              "2     1000      7           340              47       14        75  ultra   \n",
              "3     1000      8           408              52       14        81  ultra   \n",
              "4     1000      9           466              58       15        57  ultra   \n",
              "\n",
              "        city  \n",
              "0  Краснодар  \n",
              "1  Краснодар  \n",
              "2  Краснодар  \n",
              "3  Краснодар  \n",
              "4  Краснодар  "
            ]
          },
          "metadata": {}
        }
      ]
    },
    {
      "cell_type": "markdown",
      "source": "### Столбец с выручкой от каждого пользователя помесячно",
      "metadata": {}
    },
    {
      "cell_type": "code",
      "source": "def income_sum(row):\n    sum_duration = row['sum_duration']\n    gb_used = row['gb_used']\n    messages = row['messages']\n    tariff = row['tariff']\n    \n    if tariff == 'smart':\n        income = tariffs.loc[0, 'rub_monthly_fee']\n        if sum_duration > tariffs.loc[0, 'minutes_included']:\n            income += ((sum_duration - tariffs.loc[0, 'minutes_included']) * tariffs.loc[0, 'rub_per_minute'])\n        if messages > tariffs.loc[0, 'messages_included']:\n            income += ((messages - tariffs.loc[0, 'messages_included']) * tariffs.loc[0, 'rub_per_message'])\n        if gb_used > tariffs.loc[0, 'gb_included']:\n            income += ((gb_used - tariffs.loc[0, 'gb_included']) * tariffs.loc[0, 'rub_per_gb'])\n        return income\n    \n    if tariff == 'ultra':\n        income = tariffs.loc[1, 'rub_monthly_fee']\n        if sum_duration > tariffs.loc[1, 'minutes_included']:\n            income += ((sum_duration - tariffs.loc[1, 'minutes_included']) * tariffs.loc[1, 'rub_per_minute'])\n        if messages > tariffs.loc[1, 'messages_included']:\n            income += ((messages - tariffs.loc[1, 'messages_included']) * tariffs.loc[1, 'rub_per_message'])\n        if gb_used > tariffs.loc[1, 'gb_included']:\n            income += ((gb_used - tariffs.loc[1, 'gb_included']) * tariffs.loc[1, 'rub_per_gb'])\n        return income\n    \n# Написали функцию, которая посчитает выручку от каждого пользователя в зависимости от тарифа, которым\n# он пользуется, и запишет это значения в отдельный столбец",
      "metadata": {},
      "execution_count": 11,
      "outputs": []
    },
    {
      "cell_type": "code",
      "source": "data['income'] = data.apply(income_sum, axis=1)\n# применяем написанную функцию для создания нового столбца с информацией о выручке от каждого пользователя\ndata.head() # выводим первые пять строк получившегося датасета",
      "metadata": {},
      "execution_count": 12,
      "outputs": [
        {
          "execution_count": 12,
          "output_type": "execute_result",
          "data": {
            "text/html": [
              "<div>\n",
              "<style scoped>\n",
              "    .dataframe tbody tr th:only-of-type {\n",
              "        vertical-align: middle;\n",
              "    }\n",
              "\n",
              "    .dataframe tbody tr th {\n",
              "        vertical-align: top;\n",
              "    }\n",
              "\n",
              "    .dataframe thead th {\n",
              "        text-align: right;\n",
              "    }\n",
              "</style>\n",
              "<table border=\"1\" class=\"dataframe\">\n",
              "  <thead>\n",
              "    <tr style=\"text-align: right;\">\n",
              "      <th></th>\n",
              "      <th>user_id</th>\n",
              "      <th>month</th>\n",
              "      <th>sum_duration</th>\n",
              "      <th>count_duration</th>\n",
              "      <th>gb_used</th>\n",
              "      <th>messages</th>\n",
              "      <th>tariff</th>\n",
              "      <th>city</th>\n",
              "      <th>income</th>\n",
              "    </tr>\n",
              "  </thead>\n",
              "  <tbody>\n",
              "    <tr>\n",
              "      <th>0</th>\n",
              "      <td>1000</td>\n",
              "      <td>5</td>\n",
              "      <td>159</td>\n",
              "      <td>22</td>\n",
              "      <td>3</td>\n",
              "      <td>22</td>\n",
              "      <td>ultra</td>\n",
              "      <td>Краснодар</td>\n",
              "      <td>1950</td>\n",
              "    </tr>\n",
              "    <tr>\n",
              "      <th>1</th>\n",
              "      <td>1000</td>\n",
              "      <td>6</td>\n",
              "      <td>172</td>\n",
              "      <td>43</td>\n",
              "      <td>23</td>\n",
              "      <td>60</td>\n",
              "      <td>ultra</td>\n",
              "      <td>Краснодар</td>\n",
              "      <td>1950</td>\n",
              "    </tr>\n",
              "    <tr>\n",
              "      <th>2</th>\n",
              "      <td>1000</td>\n",
              "      <td>7</td>\n",
              "      <td>340</td>\n",
              "      <td>47</td>\n",
              "      <td>14</td>\n",
              "      <td>75</td>\n",
              "      <td>ultra</td>\n",
              "      <td>Краснодар</td>\n",
              "      <td>1950</td>\n",
              "    </tr>\n",
              "    <tr>\n",
              "      <th>3</th>\n",
              "      <td>1000</td>\n",
              "      <td>8</td>\n",
              "      <td>408</td>\n",
              "      <td>52</td>\n",
              "      <td>14</td>\n",
              "      <td>81</td>\n",
              "      <td>ultra</td>\n",
              "      <td>Краснодар</td>\n",
              "      <td>1950</td>\n",
              "    </tr>\n",
              "    <tr>\n",
              "      <th>4</th>\n",
              "      <td>1000</td>\n",
              "      <td>9</td>\n",
              "      <td>466</td>\n",
              "      <td>58</td>\n",
              "      <td>15</td>\n",
              "      <td>57</td>\n",
              "      <td>ultra</td>\n",
              "      <td>Краснодар</td>\n",
              "      <td>1950</td>\n",
              "    </tr>\n",
              "  </tbody>\n",
              "</table>\n",
              "</div>"
            ],
            "text/plain": [
              "   user_id  month  sum_duration  count_duration  gb_used  messages tariff  \\\n",
              "0     1000      5           159              22        3        22  ultra   \n",
              "1     1000      6           172              43       23        60  ultra   \n",
              "2     1000      7           340              47       14        75  ultra   \n",
              "3     1000      8           408              52       14        81  ultra   \n",
              "4     1000      9           466              58       15        57  ultra   \n",
              "\n",
              "        city  income  \n",
              "0  Краснодар    1950  \n",
              "1  Краснодар    1950  \n",
              "2  Краснодар    1950  \n",
              "3  Краснодар    1950  \n",
              "4  Краснодар    1950  "
            ]
          },
          "metadata": {}
        }
      ]
    },
    {
      "cell_type": "markdown",
      "source": "Вывод: в результаты предобработки данных собрали в одну таблицу всю информацию, которая будет нам нужна для дальнейшего анализа данных.",
      "metadata": {}
    },
    {
      "cell_type": "markdown",
      "source": "## Анализ данных",
      "metadata": {}
    },
    {
      "cell_type": "markdown",
      "source": "### Пользователи тарифа Smart",
      "metadata": {}
    },
    {
      "cell_type": "code",
      "source": "data_smart = data.query('tariff == \"smart\"')\n# создаём датасет с пользователями тарифа \"Смарт\"\ndata_smart.info() # смотрим общую информацию о получившемся датасете\ndisplay(data_smart.describe()) # смотрим информацию о данных датасета\ndata_smart.head() # выводим первые пять строк получившегося датасета",
      "metadata": {},
      "execution_count": 13,
      "outputs": [
        {
          "name": "stdout",
          "output_type": "stream",
          "text": "<class 'pandas.core.frame.DataFrame'>\n\nInt64Index: 2229 entries, 8 to 3213\n\nData columns (total 9 columns):\n\n #   Column          Non-Null Count  Dtype \n\n---  ------          --------------  ----- \n\n 0   user_id         2229 non-null   int64 \n\n 1   month           2229 non-null   int64 \n\n 2   sum_duration    2229 non-null   int64 \n\n 3   count_duration  2229 non-null   int64 \n\n 4   gb_used         2229 non-null   int64 \n\n 5   messages        2229 non-null   int64 \n\n 6   tariff          2229 non-null   object\n\n 7   city            2229 non-null   object\n\n 8   income          2229 non-null   int64 \n\ndtypes: int64(7), object(2)\n\nmemory usage: 174.1+ KB\n"
        },
        {
          "output_type": "display_data",
          "data": {
            "text/html": [
              "<div>\n",
              "<style scoped>\n",
              "    .dataframe tbody tr th:only-of-type {\n",
              "        vertical-align: middle;\n",
              "    }\n",
              "\n",
              "    .dataframe tbody tr th {\n",
              "        vertical-align: top;\n",
              "    }\n",
              "\n",
              "    .dataframe thead th {\n",
              "        text-align: right;\n",
              "    }\n",
              "</style>\n",
              "<table border=\"1\" class=\"dataframe\">\n",
              "  <thead>\n",
              "    <tr style=\"text-align: right;\">\n",
              "      <th></th>\n",
              "      <th>user_id</th>\n",
              "      <th>month</th>\n",
              "      <th>sum_duration</th>\n",
              "      <th>count_duration</th>\n",
              "      <th>gb_used</th>\n",
              "      <th>messages</th>\n",
              "      <th>income</th>\n",
              "    </tr>\n",
              "  </thead>\n",
              "  <tbody>\n",
              "    <tr>\n",
              "      <th>count</th>\n",
              "      <td>2229.000000</td>\n",
              "      <td>2229.000000</td>\n",
              "      <td>2229.000000</td>\n",
              "      <td>2229.000000</td>\n",
              "      <td>2229.000000</td>\n",
              "      <td>2229.000000</td>\n",
              "      <td>2229.000000</td>\n",
              "    </tr>\n",
              "    <tr>\n",
              "      <th>mean</th>\n",
              "      <td>1246.506505</td>\n",
              "      <td>8.346792</td>\n",
              "      <td>417.934948</td>\n",
              "      <td>58.463437</td>\n",
              "      <td>16.328847</td>\n",
              "      <td>33.384029</td>\n",
              "      <td>1289.973531</td>\n",
              "    </tr>\n",
              "    <tr>\n",
              "      <th>std</th>\n",
              "      <td>146.119496</td>\n",
              "      <td>2.920316</td>\n",
              "      <td>190.313730</td>\n",
              "      <td>25.939858</td>\n",
              "      <td>5.747061</td>\n",
              "      <td>28.227876</td>\n",
              "      <td>818.404367</td>\n",
              "    </tr>\n",
              "    <tr>\n",
              "      <th>min</th>\n",
              "      <td>1001.000000</td>\n",
              "      <td>1.000000</td>\n",
              "      <td>0.000000</td>\n",
              "      <td>0.000000</td>\n",
              "      <td>0.000000</td>\n",
              "      <td>0.000000</td>\n",
              "      <td>550.000000</td>\n",
              "    </tr>\n",
              "    <tr>\n",
              "      <th>25%</th>\n",
              "      <td>1121.000000</td>\n",
              "      <td>6.000000</td>\n",
              "      <td>282.000000</td>\n",
              "      <td>40.000000</td>\n",
              "      <td>13.000000</td>\n",
              "      <td>10.000000</td>\n",
              "      <td>550.000000</td>\n",
              "    </tr>\n",
              "    <tr>\n",
              "      <th>50%</th>\n",
              "      <td>1239.000000</td>\n",
              "      <td>9.000000</td>\n",
              "      <td>422.000000</td>\n",
              "      <td>60.000000</td>\n",
              "      <td>17.000000</td>\n",
              "      <td>28.000000</td>\n",
              "      <td>1023.000000</td>\n",
              "    </tr>\n",
              "    <tr>\n",
              "      <th>75%</th>\n",
              "      <td>1376.000000</td>\n",
              "      <td>11.000000</td>\n",
              "      <td>545.000000</td>\n",
              "      <td>76.000000</td>\n",
              "      <td>20.000000</td>\n",
              "      <td>51.000000</td>\n",
              "      <td>1750.000000</td>\n",
              "    </tr>\n",
              "    <tr>\n",
              "      <th>max</th>\n",
              "      <td>1499.000000</td>\n",
              "      <td>12.000000</td>\n",
              "      <td>1435.000000</td>\n",
              "      <td>198.000000</td>\n",
              "      <td>38.000000</td>\n",
              "      <td>143.000000</td>\n",
              "      <td>6770.000000</td>\n",
              "    </tr>\n",
              "  </tbody>\n",
              "</table>\n",
              "</div>"
            ],
            "text/plain": [
              "           user_id        month  sum_duration  count_duration      gb_used  \\\n",
              "count  2229.000000  2229.000000   2229.000000     2229.000000  2229.000000   \n",
              "mean   1246.506505     8.346792    417.934948       58.463437    16.328847   \n",
              "std     146.119496     2.920316    190.313730       25.939858     5.747061   \n",
              "min    1001.000000     1.000000      0.000000        0.000000     0.000000   \n",
              "25%    1121.000000     6.000000    282.000000       40.000000    13.000000   \n",
              "50%    1239.000000     9.000000    422.000000       60.000000    17.000000   \n",
              "75%    1376.000000    11.000000    545.000000       76.000000    20.000000   \n",
              "max    1499.000000    12.000000   1435.000000      198.000000    38.000000   \n",
              "\n",
              "          messages       income  \n",
              "count  2229.000000  2229.000000  \n",
              "mean     33.384029  1289.973531  \n",
              "std      28.227876   818.404367  \n",
              "min       0.000000   550.000000  \n",
              "25%      10.000000   550.000000  \n",
              "50%      28.000000  1023.000000  \n",
              "75%      51.000000  1750.000000  \n",
              "max     143.000000  6770.000000  "
            ]
          },
          "metadata": {}
        },
        {
          "execution_count": 13,
          "output_type": "execute_result",
          "data": {
            "text/html": [
              "<div>\n",
              "<style scoped>\n",
              "    .dataframe tbody tr th:only-of-type {\n",
              "        vertical-align: middle;\n",
              "    }\n",
              "\n",
              "    .dataframe tbody tr th {\n",
              "        vertical-align: top;\n",
              "    }\n",
              "\n",
              "    .dataframe thead th {\n",
              "        text-align: right;\n",
              "    }\n",
              "</style>\n",
              "<table border=\"1\" class=\"dataframe\">\n",
              "  <thead>\n",
              "    <tr style=\"text-align: right;\">\n",
              "      <th></th>\n",
              "      <th>user_id</th>\n",
              "      <th>month</th>\n",
              "      <th>sum_duration</th>\n",
              "      <th>count_duration</th>\n",
              "      <th>gb_used</th>\n",
              "      <th>messages</th>\n",
              "      <th>tariff</th>\n",
              "      <th>city</th>\n",
              "      <th>income</th>\n",
              "    </tr>\n",
              "  </thead>\n",
              "  <tbody>\n",
              "    <tr>\n",
              "      <th>8</th>\n",
              "      <td>1001</td>\n",
              "      <td>11</td>\n",
              "      <td>430</td>\n",
              "      <td>59</td>\n",
              "      <td>18</td>\n",
              "      <td>0</td>\n",
              "      <td>smart</td>\n",
              "      <td>Москва</td>\n",
              "      <td>1150</td>\n",
              "    </tr>\n",
              "    <tr>\n",
              "      <th>9</th>\n",
              "      <td>1001</td>\n",
              "      <td>12</td>\n",
              "      <td>414</td>\n",
              "      <td>63</td>\n",
              "      <td>14</td>\n",
              "      <td>0</td>\n",
              "      <td>smart</td>\n",
              "      <td>Москва</td>\n",
              "      <td>550</td>\n",
              "    </tr>\n",
              "    <tr>\n",
              "      <th>10</th>\n",
              "      <td>1002</td>\n",
              "      <td>6</td>\n",
              "      <td>117</td>\n",
              "      <td>15</td>\n",
              "      <td>11</td>\n",
              "      <td>4</td>\n",
              "      <td>smart</td>\n",
              "      <td>Стерлитамак</td>\n",
              "      <td>550</td>\n",
              "    </tr>\n",
              "    <tr>\n",
              "      <th>11</th>\n",
              "      <td>1002</td>\n",
              "      <td>7</td>\n",
              "      <td>214</td>\n",
              "      <td>26</td>\n",
              "      <td>18</td>\n",
              "      <td>11</td>\n",
              "      <td>smart</td>\n",
              "      <td>Стерлитамак</td>\n",
              "      <td>1150</td>\n",
              "    </tr>\n",
              "    <tr>\n",
              "      <th>12</th>\n",
              "      <td>1002</td>\n",
              "      <td>8</td>\n",
              "      <td>289</td>\n",
              "      <td>42</td>\n",
              "      <td>20</td>\n",
              "      <td>13</td>\n",
              "      <td>smart</td>\n",
              "      <td>Стерлитамак</td>\n",
              "      <td>1550</td>\n",
              "    </tr>\n",
              "  </tbody>\n",
              "</table>\n",
              "</div>"
            ],
            "text/plain": [
              "    user_id  month  sum_duration  count_duration  gb_used  messages tariff  \\\n",
              "8      1001     11           430              59       18         0  smart   \n",
              "9      1001     12           414              63       14         0  smart   \n",
              "10     1002      6           117              15       11         4  smart   \n",
              "11     1002      7           214              26       18        11  smart   \n",
              "12     1002      8           289              42       20        13  smart   \n",
              "\n",
              "           city  income  \n",
              "8        Москва    1150  \n",
              "9        Москва     550  \n",
              "10  Стерлитамак     550  \n",
              "11  Стерлитамак    1150  \n",
              "12  Стерлитамак    1550  "
            ]
          },
          "metadata": {}
        }
      ]
    },
    {
      "cell_type": "markdown",
      "source": "#### Анализируем звонки",
      "metadata": {}
    },
    {
      "cell_type": "code",
      "source": "mean_calls_s = data_smart['sum_duration'].mean()\nprint('Среднее значение:', mean_calls_s)\n# считаем и выводим среднее значение\nvar_calls_s = np.var(data_smart['sum_duration'], ddof=1)\nprint('Дисперсия:', var_calls_s)\n# считаем и выводим дисперсию\nstd_calls_s = np.std(data_smart['sum_duration'])\nprint('Стандартное отклонение:', std_calls_s)\n# считаем и выводим стандартное отклонение\ndata_smart['sum_duration'].hist(bins=100, range=(0, 1000))\n# строим гистограмму распределения частот\nplt.title('Распредение минут разговоров')\nplt.xlabel('Кол-во минут разговора в месяц')\nplt.ylabel('Кол-во пользователей')",
      "metadata": {},
      "execution_count": 14,
      "outputs": [
        {
          "name": "stdout",
          "output_type": "stream",
          "text": "Среднее значение: 417.9349484073576\n\nДисперсия: 36219.31578434428\n\nСтандартное отклонение: 190.27103471651876\n"
        },
        {
          "execution_count": 14,
          "output_type": "execute_result",
          "data": {
            "text/plain": [
              "Text(0, 0.5, 'Кол-во пользователей')"
            ]
          },
          "metadata": {}
        },
        {
          "output_type": "display_data",
          "data": {
            "image/png": "[encoded data removed]",
            "text/plain": [
              "<Figure size 432x288 with 1 Axes>"
            ]
          },
          "metadata": {
            "needs_background": "light"
          }
        }
      ]
    },
    {
      "cell_type": "markdown",
      "source": "Вывод: распределение продолжительности звонков у пользователей тарифа \"Смарт\" близко к нормальному, есть небольшая скошенность влево. Среднее количество минут разговора в месяц составялет 418, что достаточно близко к медиане (422), что также говорит о том, что значения распределены достаточно равномерно, нет явных выбросовов.\nПри этом, стандартное отколонение также достаточно велико, это говорит о том, что пользователи тарифа \"Смарт\" неоднородны в своих сценариях - кто-то говорит мало или не говорит совсем, другие наоборот разговаривают очень много. 75% пользователей укладываются в 545 минут, что немного больше включенного в тариф количества звонков в 500 минут.",
      "metadata": {}
    },
    {
      "cell_type": "markdown",
      "source": "#### Анализируем сообщения",
      "metadata": {}
    },
    {
      "cell_type": "code",
      "source": "mean_mess_s = data_smart['messages'].mean()\nprint('Среднее значение:', mean_mess_s)\n# считаем и выводим среднее значение\nvar_mess_s = np.var(data_smart['messages'], ddof=1)\nprint('Дисперсия:', var_mess_s)\n# считаем и выводим дисперсию\nstd_mess_s = np.std(data_smart['messages'])\nprint('Стандартное отклонение:', std_mess_s)\n# считаем и выводим стандартное отклонение\ndata_smart['messages'].hist(bins=50)\n# строим гистограмму распределения частот\nplt.title('Распреление кол-ва сообщений')\nplt.xlabel('Кол-во сообщений в месяц')\nplt.ylabel('Кол-во пользователей')",
      "metadata": {},
      "execution_count": 15,
      "outputs": [
        {
          "name": "stdout",
          "output_type": "stream",
          "text": "Среднее значение: 33.384028712427096\n\nДисперсия: 796.8129584480083\n\nСтандартное отклонение: 28.221542886898938\n"
        },
        {
          "execution_count": 15,
          "output_type": "execute_result",
          "data": {
            "text/plain": [
              "Text(0, 0.5, 'Кол-во пользователей')"
            ]
          },
          "metadata": {}
        },
        {
          "output_type": "display_data",
          "data": {
            "image/png": "[encoded data removed]",
            "text/plain": [
              "<Figure size 432x288 with 1 Axes>"
            ]
          },
          "metadata": {
            "needs_background": "light"
          }
        }
      ]
    },
    {
      "cell_type": "markdown",
      "source": "Вывод: значения на гистограмме сильно скошены влево. Среднее значение (33) близко к медиане (28), но при этом мы видим высокое стандарное отклонение, что говорит нам о том, что значения сильно разбросаны. Значительный вклад в это вности то, что большое количество пользоватлей отправляет не отправляет сообщения вообще. При этом, 75% пользователей укладывается в 51 сообщений, что близко к количеству, входящему в тариф (50).",
      "metadata": {}
    },
    {
      "cell_type": "markdown",
      "source": "#### Анализируем интернет-трафик",
      "metadata": {}
    },
    {
      "cell_type": "code",
      "source": "mean_int_s = data_smart['gb_used'].mean()\nprint('Среднее значение:', mean_int_s)\n# считаем и выводим среднее значение\nvar_int_s = np.var(data_smart['gb_used'], ddof=1)\nprint('Дисперсия:', var_int_s)\n# считаем и выводим дисперсию\nstd_int_s = np.std(data_smart['gb_used'])\nprint('Стандартное отклонение:', std_int_s)\n# считаем и выводим стандартное отклонение\ndata_smart['gb_used'].hist(bins=50)\n# строим гистограмму распределения частот\nplt.title('Распредение интернет-трафика')\nplt.xlabel('Кол-во Гб трафика в месяц')\nplt.ylabel('Кол-во пользователей')",
      "metadata": {},
      "execution_count": 16,
      "outputs": [
        {
          "name": "stdout",
          "output_type": "stream",
          "text": "Среднее значение: 16.328847016599372\n\nДисперсия: 33.02870517811161\n\nСтандартное отклонение: 5.745771267187499\n"
        },
        {
          "execution_count": 16,
          "output_type": "execute_result",
          "data": {
            "text/plain": [
              "Text(0, 0.5, 'Кол-во пользователей')"
            ]
          },
          "metadata": {}
        },
        {
          "output_type": "display_data",
          "data": {
            "image/png": "[encoded data removed]",
            "text/plain": [
              "<Figure size 432x288 with 1 Axes>"
            ]
          },
          "metadata": {
            "needs_background": "light"
          }
        }
      ]
    },
    {
      "cell_type": "markdown",
      "source": "Вывод: можно сказать, что использование трафика среди пользователей тарифа \"Смарт\" распределено нормально. Среднее значение (16) и медиана (17) практически равны. Стандартное отклонение достаточно большое, но не запредельное. Количество интернет-трафика, используемого в среднем, немного выше того значения, что входит в тариф (15).",
      "metadata": {}
    },
    {
      "cell_type": "markdown",
      "source": "#### Общий вывод",
      "metadata": {}
    },
    {
      "cell_type": "markdown",
      "source": "Пользователи тарифа \"Смарт\", в среднем, разговаривают 418 минут, отправляют 33 сообщений и расходуют 16 Гб интернет-трафика в месяц. Интернет-трафика используют немного больше, чем включено в тариф, звонки и сообщения укладываются в лимит.",
      "metadata": {}
    },
    {
      "cell_type": "markdown",
      "source": "### Пользователи тарифа Ultra",
      "metadata": {}
    },
    {
      "cell_type": "code",
      "source": "data_ultra = data.query('tariff == \"ultra\"')\ndata_ultra.info() # смотрим общую информацию о получившемся датасете\ndisplay(data_ultra.describe()) # смотрим информацию о данных датасета\ndata_ultra.head() # выводим первые пять строк получившегося датасета",
      "metadata": {},
      "execution_count": 17,
      "outputs": [
        {
          "name": "stdout",
          "output_type": "stream",
          "text": "<class 'pandas.core.frame.DataFrame'>\n\nInt64Index: 985 entries, 0 to 3208\n\nData columns (total 9 columns):\n\n #   Column          Non-Null Count  Dtype \n\n---  ------          --------------  ----- \n\n 0   user_id         985 non-null    int64 \n\n 1   month           985 non-null    int64 \n\n 2   sum_duration    985 non-null    int64 \n\n 3   count_duration  985 non-null    int64 \n\n 4   gb_used         985 non-null    int64 \n\n 5   messages        985 non-null    int64 \n\n 6   tariff          985 non-null    object\n\n 7   city            985 non-null    object\n\n 8   income          985 non-null    int64 \n\ndtypes: int64(7), object(2)\n\nmemory usage: 77.0+ KB\n"
        },
        {
          "output_type": "display_data",
          "data": {
            "text/html": [
              "<div>\n",
              "<style scoped>\n",
              "    .dataframe tbody tr th:only-of-type {\n",
              "        vertical-align: middle;\n",
              "    }\n",
              "\n",
              "    .dataframe tbody tr th {\n",
              "        vertical-align: top;\n",
              "    }\n",
              "\n",
              "    .dataframe thead th {\n",
              "        text-align: right;\n",
              "    }\n",
              "</style>\n",
              "<table border=\"1\" class=\"dataframe\">\n",
              "  <thead>\n",
              "    <tr style=\"text-align: right;\">\n",
              "      <th></th>\n",
              "      <th>user_id</th>\n",
              "      <th>month</th>\n",
              "      <th>sum_duration</th>\n",
              "      <th>count_duration</th>\n",
              "      <th>gb_used</th>\n",
              "      <th>messages</th>\n",
              "      <th>income</th>\n",
              "    </tr>\n",
              "  </thead>\n",
              "  <tbody>\n",
              "    <tr>\n",
              "      <th>count</th>\n",
              "      <td>985.000000</td>\n",
              "      <td>985.000000</td>\n",
              "      <td>985.000000</td>\n",
              "      <td>985.000000</td>\n",
              "      <td>985.000000</td>\n",
              "      <td>985.000000</td>\n",
              "      <td>985.000000</td>\n",
              "    </tr>\n",
              "    <tr>\n",
              "      <th>mean</th>\n",
              "      <td>1263.094416</td>\n",
              "      <td>8.250761</td>\n",
              "      <td>526.623350</td>\n",
              "      <td>73.392893</td>\n",
              "      <td>19.494416</td>\n",
              "      <td>49.363452</td>\n",
              "      <td>2070.152284</td>\n",
              "    </tr>\n",
              "    <tr>\n",
              "      <th>std</th>\n",
              "      <td>140.694908</td>\n",
              "      <td>2.871762</td>\n",
              "      <td>317.606098</td>\n",
              "      <td>43.916853</td>\n",
              "      <td>9.853511</td>\n",
              "      <td>47.804457</td>\n",
              "      <td>376.187114</td>\n",
              "    </tr>\n",
              "    <tr>\n",
              "      <th>min</th>\n",
              "      <td>1000.000000</td>\n",
              "      <td>1.000000</td>\n",
              "      <td>0.000000</td>\n",
              "      <td>0.000000</td>\n",
              "      <td>0.000000</td>\n",
              "      <td>0.000000</td>\n",
              "      <td>1950.000000</td>\n",
              "    </tr>\n",
              "    <tr>\n",
              "      <th>25%</th>\n",
              "      <td>1143.000000</td>\n",
              "      <td>6.000000</td>\n",
              "      <td>284.000000</td>\n",
              "      <td>41.000000</td>\n",
              "      <td>12.000000</td>\n",
              "      <td>6.000000</td>\n",
              "      <td>1950.000000</td>\n",
              "    </tr>\n",
              "    <tr>\n",
              "      <th>50%</th>\n",
              "      <td>1277.000000</td>\n",
              "      <td>9.000000</td>\n",
              "      <td>518.000000</td>\n",
              "      <td>74.000000</td>\n",
              "      <td>19.000000</td>\n",
              "      <td>38.000000</td>\n",
              "      <td>1950.000000</td>\n",
              "    </tr>\n",
              "    <tr>\n",
              "      <th>75%</th>\n",
              "      <td>1381.000000</td>\n",
              "      <td>11.000000</td>\n",
              "      <td>752.000000</td>\n",
              "      <td>104.000000</td>\n",
              "      <td>27.000000</td>\n",
              "      <td>79.000000</td>\n",
              "      <td>1950.000000</td>\n",
              "    </tr>\n",
              "    <tr>\n",
              "      <th>max</th>\n",
              "      <td>1495.000000</td>\n",
              "      <td>12.000000</td>\n",
              "      <td>1673.000000</td>\n",
              "      <td>244.000000</td>\n",
              "      <td>49.000000</td>\n",
              "      <td>224.000000</td>\n",
              "      <td>4800.000000</td>\n",
              "    </tr>\n",
              "  </tbody>\n",
              "</table>\n",
              "</div>"
            ],
            "text/plain": [
              "           user_id       month  sum_duration  count_duration     gb_used  \\\n",
              "count   985.000000  985.000000    985.000000      985.000000  985.000000   \n",
              "mean   1263.094416    8.250761    526.623350       73.392893   19.494416   \n",
              "std     140.694908    2.871762    317.606098       43.916853    9.853511   \n",
              "min    1000.000000    1.000000      0.000000        0.000000    0.000000   \n",
              "25%    1143.000000    6.000000    284.000000       41.000000   12.000000   \n",
              "50%    1277.000000    9.000000    518.000000       74.000000   19.000000   \n",
              "75%    1381.000000   11.000000    752.000000      104.000000   27.000000   \n",
              "max    1495.000000   12.000000   1673.000000      244.000000   49.000000   \n",
              "\n",
              "         messages       income  \n",
              "count  985.000000   985.000000  \n",
              "mean    49.363452  2070.152284  \n",
              "std     47.804457   376.187114  \n",
              "min      0.000000  1950.000000  \n",
              "25%      6.000000  1950.000000  \n",
              "50%     38.000000  1950.000000  \n",
              "75%     79.000000  1950.000000  \n",
              "max    224.000000  4800.000000  "
            ]
          },
          "metadata": {}
        },
        {
          "execution_count": 17,
          "output_type": "execute_result",
          "data": {
            "text/html": [
              "<div>\n",
              "<style scoped>\n",
              "    .dataframe tbody tr th:only-of-type {\n",
              "        vertical-align: middle;\n",
              "    }\n",
              "\n",
              "    .dataframe tbody tr th {\n",
              "        vertical-align: top;\n",
              "    }\n",
              "\n",
              "    .dataframe thead th {\n",
              "        text-align: right;\n",
              "    }\n",
              "</style>\n",
              "<table border=\"1\" class=\"dataframe\">\n",
              "  <thead>\n",
              "    <tr style=\"text-align: right;\">\n",
              "      <th></th>\n",
              "      <th>user_id</th>\n",
              "      <th>month</th>\n",
              "      <th>sum_duration</th>\n",
              "      <th>count_duration</th>\n",
              "      <th>gb_used</th>\n",
              "      <th>messages</th>\n",
              "      <th>tariff</th>\n",
              "      <th>city</th>\n",
              "      <th>income</th>\n",
              "    </tr>\n",
              "  </thead>\n",
              "  <tbody>\n",
              "    <tr>\n",
              "      <th>0</th>\n",
              "      <td>1000</td>\n",
              "      <td>5</td>\n",
              "      <td>159</td>\n",
              "      <td>22</td>\n",
              "      <td>3</td>\n",
              "      <td>22</td>\n",
              "      <td>ultra</td>\n",
              "      <td>Краснодар</td>\n",
              "      <td>1950</td>\n",
              "    </tr>\n",
              "    <tr>\n",
              "      <th>1</th>\n",
              "      <td>1000</td>\n",
              "      <td>6</td>\n",
              "      <td>172</td>\n",
              "      <td>43</td>\n",
              "      <td>23</td>\n",
              "      <td>60</td>\n",
              "      <td>ultra</td>\n",
              "      <td>Краснодар</td>\n",
              "      <td>1950</td>\n",
              "    </tr>\n",
              "    <tr>\n",
              "      <th>2</th>\n",
              "      <td>1000</td>\n",
              "      <td>7</td>\n",
              "      <td>340</td>\n",
              "      <td>47</td>\n",
              "      <td>14</td>\n",
              "      <td>75</td>\n",
              "      <td>ultra</td>\n",
              "      <td>Краснодар</td>\n",
              "      <td>1950</td>\n",
              "    </tr>\n",
              "    <tr>\n",
              "      <th>3</th>\n",
              "      <td>1000</td>\n",
              "      <td>8</td>\n",
              "      <td>408</td>\n",
              "      <td>52</td>\n",
              "      <td>14</td>\n",
              "      <td>81</td>\n",
              "      <td>ultra</td>\n",
              "      <td>Краснодар</td>\n",
              "      <td>1950</td>\n",
              "    </tr>\n",
              "    <tr>\n",
              "      <th>4</th>\n",
              "      <td>1000</td>\n",
              "      <td>9</td>\n",
              "      <td>466</td>\n",
              "      <td>58</td>\n",
              "      <td>15</td>\n",
              "      <td>57</td>\n",
              "      <td>ultra</td>\n",
              "      <td>Краснодар</td>\n",
              "      <td>1950</td>\n",
              "    </tr>\n",
              "  </tbody>\n",
              "</table>\n",
              "</div>"
            ],
            "text/plain": [
              "   user_id  month  sum_duration  count_duration  gb_used  messages tariff  \\\n",
              "0     1000      5           159              22        3        22  ultra   \n",
              "1     1000      6           172              43       23        60  ultra   \n",
              "2     1000      7           340              47       14        75  ultra   \n",
              "3     1000      8           408              52       14        81  ultra   \n",
              "4     1000      9           466              58       15        57  ultra   \n",
              "\n",
              "        city  income  \n",
              "0  Краснодар    1950  \n",
              "1  Краснодар    1950  \n",
              "2  Краснодар    1950  \n",
              "3  Краснодар    1950  \n",
              "4  Краснодар    1950  "
            ]
          },
          "metadata": {}
        }
      ]
    },
    {
      "cell_type": "markdown",
      "source": "#### Анализируем звонки",
      "metadata": {}
    },
    {
      "cell_type": "code",
      "source": "mean_calls_u = data_ultra['sum_duration'].mean()\nprint('Среднее значение:', mean_calls_u)\n# считаем и выводим среднее значение\nvar_calls_u = np.var(data_ultra['sum_duration'], ddof=1)\nprint('Дисперсия:', var_calls_u)\n# считаем и выводим дисперсию\nstd_calls_u = np.std(data_ultra['sum_duration'])\nprint('Стандартное отклонение:', std_calls_u)\n# считаем и выводим стандартное отклонение\ndata_ultra['sum_duration'].hist(bins=50, range=(1, 1500))\n# строим гистограмму распределения частот\nplt.title('Распредение минут разговоров')\nplt.xlabel('Кол-во минут разговора в месяц')\nplt.ylabel('Кол-во пользователей')",
      "metadata": {},
      "execution_count": 18,
      "outputs": [
        {
          "name": "stdout",
          "output_type": "stream",
          "text": "Среднее значение: 526.6233502538071\n\nДисперсия: 100873.63339730098\n\nСтандартное отклонение: 317.44483554974113\n"
        },
        {
          "execution_count": 18,
          "output_type": "execute_result",
          "data": {
            "text/plain": [
              "Text(0, 0.5, 'Кол-во пользователей')"
            ]
          },
          "metadata": {}
        },
        {
          "output_type": "display_data",
          "data": {
            "image/png": "[encoded data removed]",
            "text/plain": [
              "<Figure size 432x288 with 1 Axes>"
            ]
          },
          "metadata": {
            "needs_background": "light"
          }
        }
      ]
    },
    {
      "cell_type": "markdown",
      "source": "Вывод: гистограмма имеет скошенность влево. Среднее количество минут разговоров у пользователей тарифа \"Ультра\" составляет 526, что ненамного больше значения пользователей тарифа \"Смарт\" (426). 75% пользователей укладываются в 752 минуты разговора в месяц. Полный пакет минут (3000) не выговаривает никто.",
      "metadata": {}
    },
    {
      "cell_type": "markdown",
      "source": "#### Анализируем сообщения",
      "metadata": {}
    },
    {
      "cell_type": "code",
      "source": "mean_mess_u = data_ultra['messages'].mean()\nprint('Среднее значение:', mean_mess_u)\n# считаем и выводим среднее значение\nvar_mess_u = np.var(data_ultra['messages'], ddof=1)\nprint('Дисперсия:', var_mess_u)\n# считаем и выводим дисперсию\nstd_mess_u = np.std(data_ultra['messages'])\nprint('Стандартное отклонение:', std_mess_u)\n# считаем и выводим стандартное отклонение\ndata_ultra['messages'].hist(bins=50)\n# строим гистограмму распределения частот\nplt.title('Распреление кол-ва сообщений')\nplt.xlabel('Кол-во сообщений в месяц')\nplt.ylabel('Кол-во пользователей')",
      "metadata": {},
      "execution_count": 19,
      "outputs": [
        {
          "name": "stdout",
          "output_type": "stream",
          "text": "Среднее значение: 49.36345177664975\n\nДисперсия: 2285.2661425446736\n\nСтандартное отклонение: 47.78018496610161\n"
        },
        {
          "execution_count": 19,
          "output_type": "execute_result",
          "data": {
            "text/plain": [
              "Text(0, 0.5, 'Кол-во пользователей')"
            ]
          },
          "metadata": {}
        },
        {
          "output_type": "display_data",
          "data": {
            "image/png": "[encoded data removed]",
            "text/plain": [
              "<Figure size 432x288 with 1 Axes>"
            ]
          },
          "metadata": {
            "needs_background": "light"
          }
        }
      ]
    },
    {
      "cell_type": "markdown",
      "source": "Вывод: гистограмма имеет скошенность влево, как и у пользователей тарифа \"Смарт\", только среднее значение отправляемых сообщений больше (49 против 31). 75% пользователей укладываются в 79 сообщений в месяц. Как и со звонками, максимум включенных в пакет сообщений (1000) не использует никто. Также как и на тарифе \"Смарт\", достаточно большое количество пользователей вообще не отправляет сообщения, что также влияет на высокое стандартное отклонение (47), практически равное среднему значению.",
      "metadata": {}
    },
    {
      "cell_type": "markdown",
      "source": "#### Анализируем интернет-трафик",
      "metadata": {}
    },
    {
      "cell_type": "code",
      "source": "mean_int_u = data_ultra['gb_used'].mean()\nprint('Среднее значение:', mean_int_u)\n# считаем и выводим среднее значение\nvar_int_u = np.var(data_ultra['gb_used'], ddof=1)\nprint('Дисперсия:', var_int_u)\n# считаем и выводим дисперсию\nstd_int_u = np.std(data_ultra['gb_used'])\nprint('Стандартное отклонение:', std_int_u)\n# считаем и выводим стандартное отклонение\ndata_ultra['gb_used'].hist(bins=50)\n# строим гистограмму распределения частот\nplt.title('Распредение интернет-трафика')\nplt.xlabel('Кол-во Гб трафика в месяц')\nplt.ylabel('Кол-во пользователей')",
      "metadata": {},
      "execution_count": 20,
      "outputs": [
        {
          "name": "stdout",
          "output_type": "stream",
          "text": "Среднее значение: 19.494416243654822\n\nДисперсия: 97.09168626965459\n\nСтандартное отклонение: 9.848508314957495\n"
        },
        {
          "execution_count": 20,
          "output_type": "execute_result",
          "data": {
            "text/plain": [
              "Text(0, 0.5, 'Кол-во пользователей')"
            ]
          },
          "metadata": {}
        },
        {
          "output_type": "display_data",
          "data": {
            "image/png": "[encoded data removed]",
            "text/plain": [
              "<Figure size 432x288 with 1 Axes>"
            ]
          },
          "metadata": {
            "needs_background": "light"
          }
        }
      ]
    },
    {
      "cell_type": "markdown",
      "source": "Вывод: распределение использование интернет-трафика у пользователей тарифа \"Ультра\" похоже на нормальное. Но среднее количество трафика выше (19 против 16) по сравнению с пользователями тарифа \"Смарт\". 75% пользователей укладываются 27 Гб трафика, что попадает в лимит тарифа (30).",
      "metadata": {}
    },
    {
      "cell_type": "markdown",
      "source": "#### Общий вывод",
      "metadata": {}
    },
    {
      "cell_type": "markdown",
      "source": "Пользователи тарифа \"Ультра\", в среднем, разговаривают 526 минут, отправляют 49 сообщений и расходуют 27 Гб интернет-трафика. Звонят, пишут и используют интернет-трафик пользователи тарифа \"Ультра\" больше, чем пользователи тарифа \"Смарт\", но, в среднем, укладываются в лимиты по тарифу.",
      "metadata": {}
    },
    {
      "cell_type": "markdown",
      "source": "## Проверка гипотез",
      "metadata": {}
    },
    {
      "cell_type": "markdown",
      "source": "### Средняя выручка пользователей тарифов «Ультра» и «Смарт» различаются.",
      "metadata": {}
    },
    {
      "cell_type": "markdown",
      "source": "Нулевая гипотеза: средняя выручка пользователей тарифов \"Ультра\" и \"Смарт\" совпадают.\n\nАльтернативная гипотеза: средняя выручка пользователей тарифов \"Ультра\" и \"Смарт\" различаются.",
      "metadata": {}
    },
    {
      "cell_type": "code",
      "source": "alpha = .05\n# задаём уровень значимости\nresults = st.ttest_ind(data_smart['income'], data_ultra['income'], equal_var=False)\n# сравниваем выборочные средние значения тарифов \"Смарт\" и \"Ультра\"\nprint('p-значение:', results.pvalue)\nprint('Средння выручка от одного пользователя на тарифе Ultra:', data_ultra['income'].mean().round())\nprint('Средняя выручка от одного пользователя на тарифе Smart:', data_smart['income'].mean().round())\nif results.pvalue < alpha:\n    print(\"Отвергаем нулевую гипотезу\")\nelse:\n    print(\"Не получилось отвергнуть нулевую гипотезу\")",
      "metadata": {},
      "execution_count": 21,
      "outputs": [
        {
          "name": "stdout",
          "output_type": "stream",
          "text": "p-значение: 4.2606313931076085e-250\n\nСредння выручка от одного пользователя на тарифе Ultra: 2070.0\n\nСредняя выручка от одного пользователя на тарифе Smart: 1290.0\n\nОтвергаем нулевую гипотезу\n"
        }
      ]
    },
    {
      "cell_type": "markdown",
      "source": "Вывод: средняя выручка пользователей тарифов \"Ультра\" и \"Смарт\" различаются, значит отвергаем нулевую гипотезу в пользу альтернативной. \n\nСравнив средние значения, мы видим, что выручка пользователей на тарифе \"Ультра\" почти в 1.5 раза выше, чем выручка пользователей на тарифе \"Смарт\"",
      "metadata": {}
    },
    {
      "cell_type": "markdown",
      "source": "### Средняя выручка пользователей из Москвы отличается от выручки пользователей из других регионов.",
      "metadata": {}
    },
    {
      "cell_type": "code",
      "source": "data_msc = data.query('city == \"Москва\"')\n# создаём датасет с пользователями из Москвы\ndata_reg = data.query('city != \"Москва\"')\n# создаём датасет с пользователями из других городов\ndisplay(data_msc.head()) # выводим первые пять строк получившегося датасета\ndata_msc.info() # смотрим общую информацию о датасете\ndisplay(data_msc.describe()) # смотрим информацию о данных датасета\ndisplay(data_reg.head()) # выводим первые пять строк получившегося датасета\ndata_reg.info() # смотрим общую информацию о датасете\ndata_reg.describe() # смотрим информацию о данных датасета",
      "metadata": {},
      "execution_count": 22,
      "outputs": [
        {
          "output_type": "display_data",
          "data": {
            "text/html": [
              "<div>\n",
              "<style scoped>\n",
              "    .dataframe tbody tr th:only-of-type {\n",
              "        vertical-align: middle;\n",
              "    }\n",
              "\n",
              "    .dataframe tbody tr th {\n",
              "        vertical-align: top;\n",
              "    }\n",
              "\n",
              "    .dataframe thead th {\n",
              "        text-align: right;\n",
              "    }\n",
              "</style>\n",
              "<table border=\"1\" class=\"dataframe\">\n",
              "  <thead>\n",
              "    <tr style=\"text-align: right;\">\n",
              "      <th></th>\n",
              "      <th>user_id</th>\n",
              "      <th>month</th>\n",
              "      <th>sum_duration</th>\n",
              "      <th>count_duration</th>\n",
              "      <th>gb_used</th>\n",
              "      <th>messages</th>\n",
              "      <th>tariff</th>\n",
              "      <th>city</th>\n",
              "      <th>income</th>\n",
              "    </tr>\n",
              "  </thead>\n",
              "  <tbody>\n",
              "    <tr>\n",
              "      <th>8</th>\n",
              "      <td>1001</td>\n",
              "      <td>11</td>\n",
              "      <td>430</td>\n",
              "      <td>59</td>\n",
              "      <td>18</td>\n",
              "      <td>0</td>\n",
              "      <td>smart</td>\n",
              "      <td>Москва</td>\n",
              "      <td>1150</td>\n",
              "    </tr>\n",
              "    <tr>\n",
              "      <th>9</th>\n",
              "      <td>1001</td>\n",
              "      <td>12</td>\n",
              "      <td>414</td>\n",
              "      <td>63</td>\n",
              "      <td>14</td>\n",
              "      <td>0</td>\n",
              "      <td>smart</td>\n",
              "      <td>Москва</td>\n",
              "      <td>550</td>\n",
              "    </tr>\n",
              "    <tr>\n",
              "      <th>17</th>\n",
              "      <td>1003</td>\n",
              "      <td>8</td>\n",
              "      <td>380</td>\n",
              "      <td>55</td>\n",
              "      <td>9</td>\n",
              "      <td>37</td>\n",
              "      <td>ultra</td>\n",
              "      <td>Москва</td>\n",
              "      <td>1950</td>\n",
              "    </tr>\n",
              "    <tr>\n",
              "      <th>18</th>\n",
              "      <td>1003</td>\n",
              "      <td>9</td>\n",
              "      <td>961</td>\n",
              "      <td>134</td>\n",
              "      <td>13</td>\n",
              "      <td>91</td>\n",
              "      <td>ultra</td>\n",
              "      <td>Москва</td>\n",
              "      <td>1950</td>\n",
              "    </tr>\n",
              "    <tr>\n",
              "      <th>19</th>\n",
              "      <td>1003</td>\n",
              "      <td>10</td>\n",
              "      <td>855</td>\n",
              "      <td>108</td>\n",
              "      <td>15</td>\n",
              "      <td>83</td>\n",
              "      <td>ultra</td>\n",
              "      <td>Москва</td>\n",
              "      <td>1950</td>\n",
              "    </tr>\n",
              "  </tbody>\n",
              "</table>\n",
              "</div>"
            ],
            "text/plain": [
              "    user_id  month  sum_duration  count_duration  gb_used  messages tariff  \\\n",
              "8      1001     11           430              59       18         0  smart   \n",
              "9      1001     12           414              63       14         0  smart   \n",
              "17     1003      8           380              55        9        37  ultra   \n",
              "18     1003      9           961             134       13        91  ultra   \n",
              "19     1003     10           855             108       15        83  ultra   \n",
              "\n",
              "      city  income  \n",
              "8   Москва    1150  \n",
              "9   Москва     550  \n",
              "17  Москва    1950  \n",
              "18  Москва    1950  \n",
              "19  Москва    1950  "
            ]
          },
          "metadata": {}
        },
        {
          "name": "stdout",
          "output_type": "stream",
          "text": "<class 'pandas.core.frame.DataFrame'>\n\nInt64Index: 611 entries, 8 to 3208\n\nData columns (total 9 columns):\n\n #   Column          Non-Null Count  Dtype \n\n---  ------          --------------  ----- \n\n 0   user_id         611 non-null    int64 \n\n 1   month           611 non-null    int64 \n\n 2   sum_duration    611 non-null    int64 \n\n 3   count_duration  611 non-null    int64 \n\n 4   gb_used         611 non-null    int64 \n\n 5   messages        611 non-null    int64 \n\n 6   tariff          611 non-null    object\n\n 7   city            611 non-null    object\n\n 8   income          611 non-null    int64 \n\ndtypes: int64(7), object(2)\n\nmemory usage: 47.7+ KB\n"
        },
        {
          "output_type": "display_data",
          "data": {
            "text/html": [
              "<div>\n",
              "<style scoped>\n",
              "    .dataframe tbody tr th:only-of-type {\n",
              "        vertical-align: middle;\n",
              "    }\n",
              "\n",
              "    .dataframe tbody tr th {\n",
              "        vertical-align: top;\n",
              "    }\n",
              "\n",
              "    .dataframe thead th {\n",
              "        text-align: right;\n",
              "    }\n",
              "</style>\n",
              "<table border=\"1\" class=\"dataframe\">\n",
              "  <thead>\n",
              "    <tr style=\"text-align: right;\">\n",
              "      <th></th>\n",
              "      <th>user_id</th>\n",
              "      <th>month</th>\n",
              "      <th>sum_duration</th>\n",
              "      <th>count_duration</th>\n",
              "      <th>gb_used</th>\n",
              "      <th>messages</th>\n",
              "      <th>income</th>\n",
              "    </tr>\n",
              "  </thead>\n",
              "  <tbody>\n",
              "    <tr>\n",
              "      <th>count</th>\n",
              "      <td>611.000000</td>\n",
              "      <td>611.000000</td>\n",
              "      <td>611.000000</td>\n",
              "      <td>611.000000</td>\n",
              "      <td>611.000000</td>\n",
              "      <td>611.000000</td>\n",
              "      <td>611.000000</td>\n",
              "    </tr>\n",
              "    <tr>\n",
              "      <th>mean</th>\n",
              "      <td>1268.872340</td>\n",
              "      <td>8.432079</td>\n",
              "      <td>469.150573</td>\n",
              "      <td>65.436989</td>\n",
              "      <td>18.050736</td>\n",
              "      <td>37.877250</td>\n",
              "      <td>1546.713584</td>\n",
              "    </tr>\n",
              "    <tr>\n",
              "      <th>std</th>\n",
              "      <td>137.530432</td>\n",
              "      <td>2.888057</td>\n",
              "      <td>241.535044</td>\n",
              "      <td>33.186021</td>\n",
              "      <td>7.645788</td>\n",
              "      <td>37.160304</td>\n",
              "      <td>752.088071</td>\n",
              "    </tr>\n",
              "    <tr>\n",
              "      <th>min</th>\n",
              "      <td>1001.000000</td>\n",
              "      <td>1.000000</td>\n",
              "      <td>0.000000</td>\n",
              "      <td>0.000000</td>\n",
              "      <td>1.000000</td>\n",
              "      <td>0.000000</td>\n",
              "      <td>550.000000</td>\n",
              "    </tr>\n",
              "    <tr>\n",
              "      <th>25%</th>\n",
              "      <td>1171.000000</td>\n",
              "      <td>6.000000</td>\n",
              "      <td>304.000000</td>\n",
              "      <td>42.000000</td>\n",
              "      <td>13.000000</td>\n",
              "      <td>6.500000</td>\n",
              "      <td>780.500000</td>\n",
              "    </tr>\n",
              "    <tr>\n",
              "      <th>50%</th>\n",
              "      <td>1291.000000</td>\n",
              "      <td>9.000000</td>\n",
              "      <td>453.000000</td>\n",
              "      <td>64.000000</td>\n",
              "      <td>18.000000</td>\n",
              "      <td>29.000000</td>\n",
              "      <td>1750.000000</td>\n",
              "    </tr>\n",
              "    <tr>\n",
              "      <th>75%</th>\n",
              "      <td>1385.000000</td>\n",
              "      <td>11.000000</td>\n",
              "      <td>620.500000</td>\n",
              "      <td>85.500000</td>\n",
              "      <td>22.000000</td>\n",
              "      <td>57.000000</td>\n",
              "      <td>1950.000000</td>\n",
              "    </tr>\n",
              "    <tr>\n",
              "      <th>max</th>\n",
              "      <td>1490.000000</td>\n",
              "      <td>12.000000</td>\n",
              "      <td>1321.000000</td>\n",
              "      <td>188.000000</td>\n",
              "      <td>44.000000</td>\n",
              "      <td>191.000000</td>\n",
              "      <td>5321.000000</td>\n",
              "    </tr>\n",
              "  </tbody>\n",
              "</table>\n",
              "</div>"
            ],
            "text/plain": [
              "           user_id       month  sum_duration  count_duration     gb_used  \\\n",
              "count   611.000000  611.000000    611.000000      611.000000  611.000000   \n",
              "mean   1268.872340    8.432079    469.150573       65.436989   18.050736   \n",
              "std     137.530432    2.888057    241.535044       33.186021    7.645788   \n",
              "min    1001.000000    1.000000      0.000000        0.000000    1.000000   \n",
              "25%    1171.000000    6.000000    304.000000       42.000000   13.000000   \n",
              "50%    1291.000000    9.000000    453.000000       64.000000   18.000000   \n",
              "75%    1385.000000   11.000000    620.500000       85.500000   22.000000   \n",
              "max    1490.000000   12.000000   1321.000000      188.000000   44.000000   \n",
              "\n",
              "         messages       income  \n",
              "count  611.000000   611.000000  \n",
              "mean    37.877250  1546.713584  \n",
              "std     37.160304   752.088071  \n",
              "min      0.000000   550.000000  \n",
              "25%      6.500000   780.500000  \n",
              "50%     29.000000  1750.000000  \n",
              "75%     57.000000  1950.000000  \n",
              "max    191.000000  5321.000000  "
            ]
          },
          "metadata": {}
        },
        {
          "output_type": "display_data",
          "data": {
            "text/html": [
              "<div>\n",
              "<style scoped>\n",
              "    .dataframe tbody tr th:only-of-type {\n",
              "        vertical-align: middle;\n",
              "    }\n",
              "\n",
              "    .dataframe tbody tr th {\n",
              "        vertical-align: top;\n",
              "    }\n",
              "\n",
              "    .dataframe thead th {\n",
              "        text-align: right;\n",
              "    }\n",
              "</style>\n",
              "<table border=\"1\" class=\"dataframe\">\n",
              "  <thead>\n",
              "    <tr style=\"text-align: right;\">\n",
              "      <th></th>\n",
              "      <th>user_id</th>\n",
              "      <th>month</th>\n",
              "      <th>sum_duration</th>\n",
              "      <th>count_duration</th>\n",
              "      <th>gb_used</th>\n",
              "      <th>messages</th>\n",
              "      <th>tariff</th>\n",
              "      <th>city</th>\n",
              "      <th>income</th>\n",
              "    </tr>\n",
              "  </thead>\n",
              "  <tbody>\n",
              "    <tr>\n",
              "      <th>0</th>\n",
              "      <td>1000</td>\n",
              "      <td>5</td>\n",
              "      <td>159</td>\n",
              "      <td>22</td>\n",
              "      <td>3</td>\n",
              "      <td>22</td>\n",
              "      <td>ultra</td>\n",
              "      <td>Краснодар</td>\n",
              "      <td>1950</td>\n",
              "    </tr>\n",
              "    <tr>\n",
              "      <th>1</th>\n",
              "      <td>1000</td>\n",
              "      <td>6</td>\n",
              "      <td>172</td>\n",
              "      <td>43</td>\n",
              "      <td>23</td>\n",
              "      <td>60</td>\n",
              "      <td>ultra</td>\n",
              "      <td>Краснодар</td>\n",
              "      <td>1950</td>\n",
              "    </tr>\n",
              "    <tr>\n",
              "      <th>2</th>\n",
              "      <td>1000</td>\n",
              "      <td>7</td>\n",
              "      <td>340</td>\n",
              "      <td>47</td>\n",
              "      <td>14</td>\n",
              "      <td>75</td>\n",
              "      <td>ultra</td>\n",
              "      <td>Краснодар</td>\n",
              "      <td>1950</td>\n",
              "    </tr>\n",
              "    <tr>\n",
              "      <th>3</th>\n",
              "      <td>1000</td>\n",
              "      <td>8</td>\n",
              "      <td>408</td>\n",
              "      <td>52</td>\n",
              "      <td>14</td>\n",
              "      <td>81</td>\n",
              "      <td>ultra</td>\n",
              "      <td>Краснодар</td>\n",
              "      <td>1950</td>\n",
              "    </tr>\n",
              "    <tr>\n",
              "      <th>4</th>\n",
              "      <td>1000</td>\n",
              "      <td>9</td>\n",
              "      <td>466</td>\n",
              "      <td>58</td>\n",
              "      <td>15</td>\n",
              "      <td>57</td>\n",
              "      <td>ultra</td>\n",
              "      <td>Краснодар</td>\n",
              "      <td>1950</td>\n",
              "    </tr>\n",
              "  </tbody>\n",
              "</table>\n",
              "</div>"
            ],
            "text/plain": [
              "   user_id  month  sum_duration  count_duration  gb_used  messages tariff  \\\n",
              "0     1000      5           159              22        3        22  ultra   \n",
              "1     1000      6           172              43       23        60  ultra   \n",
              "2     1000      7           340              47       14        75  ultra   \n",
              "3     1000      8           408              52       14        81  ultra   \n",
              "4     1000      9           466              58       15        57  ultra   \n",
              "\n",
              "        city  income  \n",
              "0  Краснодар    1950  \n",
              "1  Краснодар    1950  \n",
              "2  Краснодар    1950  \n",
              "3  Краснодар    1950  \n",
              "4  Краснодар    1950  "
            ]
          },
          "metadata": {}
        },
        {
          "name": "stdout",
          "output_type": "stream",
          "text": "<class 'pandas.core.frame.DataFrame'>\n\nInt64Index: 2603 entries, 0 to 3213\n\nData columns (total 9 columns):\n\n #   Column          Non-Null Count  Dtype \n\n---  ------          --------------  ----- \n\n 0   user_id         2603 non-null   int64 \n\n 1   month           2603 non-null   int64 \n\n 2   sum_duration    2603 non-null   int64 \n\n 3   count_duration  2603 non-null   int64 \n\n 4   gb_used         2603 non-null   int64 \n\n 5   messages        2603 non-null   int64 \n\n 6   tariff          2603 non-null   object\n\n 7   city            2603 non-null   object\n\n 8   income          2603 non-null   int64 \n\ndtypes: int64(7), object(2)\n\nmemory usage: 203.4+ KB\n"
        },
        {
          "execution_count": 22,
          "output_type": "execute_result",
          "data": {
            "text/html": [
              "<div>\n",
              "<style scoped>\n",
              "    .dataframe tbody tr th:only-of-type {\n",
              "        vertical-align: middle;\n",
              "    }\n",
              "\n",
              "    .dataframe tbody tr th {\n",
              "        vertical-align: top;\n",
              "    }\n",
              "\n",
              "    .dataframe thead th {\n",
              "        text-align: right;\n",
              "    }\n",
              "</style>\n",
              "<table border=\"1\" class=\"dataframe\">\n",
              "  <thead>\n",
              "    <tr style=\"text-align: right;\">\n",
              "      <th></th>\n",
              "      <th>user_id</th>\n",
              "      <th>month</th>\n",
              "      <th>sum_duration</th>\n",
              "      <th>count_duration</th>\n",
              "      <th>gb_used</th>\n",
              "      <th>messages</th>\n",
              "      <th>income</th>\n",
              "    </tr>\n",
              "  </thead>\n",
              "  <tbody>\n",
              "    <tr>\n",
              "      <th>count</th>\n",
              "      <td>2603.000000</td>\n",
              "      <td>2603.000000</td>\n",
              "      <td>2603.000000</td>\n",
              "      <td>2603.000000</td>\n",
              "      <td>2603.000000</td>\n",
              "      <td>2603.000000</td>\n",
              "      <td>2603.000000</td>\n",
              "    </tr>\n",
              "    <tr>\n",
              "      <th>mean</th>\n",
              "      <td>1247.533615</td>\n",
              "      <td>8.290434</td>\n",
              "      <td>447.041875</td>\n",
              "      <td>62.475989</td>\n",
              "      <td>17.122551</td>\n",
              "      <td>38.376104</td>\n",
              "      <td>1524.936227</td>\n",
              "    </tr>\n",
              "    <tr>\n",
              "      <th>std</th>\n",
              "      <td>146.011387</td>\n",
              "      <td>2.909368</td>\n",
              "      <td>241.852152</td>\n",
              "      <td>33.229464</td>\n",
              "      <td>7.332184</td>\n",
              "      <td>35.913289</td>\n",
              "      <td>808.787752</td>\n",
              "    </tr>\n",
              "    <tr>\n",
              "      <th>min</th>\n",
              "      <td>1000.000000</td>\n",
              "      <td>1.000000</td>\n",
              "      <td>0.000000</td>\n",
              "      <td>0.000000</td>\n",
              "      <td>0.000000</td>\n",
              "      <td>0.000000</td>\n",
              "      <td>550.000000</td>\n",
              "    </tr>\n",
              "    <tr>\n",
              "      <th>25%</th>\n",
              "      <td>1120.000000</td>\n",
              "      <td>6.000000</td>\n",
              "      <td>280.500000</td>\n",
              "      <td>40.000000</td>\n",
              "      <td>13.000000</td>\n",
              "      <td>9.500000</td>\n",
              "      <td>750.000000</td>\n",
              "    </tr>\n",
              "    <tr>\n",
              "      <th>50%</th>\n",
              "      <td>1241.000000</td>\n",
              "      <td>9.000000</td>\n",
              "      <td>440.000000</td>\n",
              "      <td>62.000000</td>\n",
              "      <td>17.000000</td>\n",
              "      <td>30.000000</td>\n",
              "      <td>1583.000000</td>\n",
              "    </tr>\n",
              "    <tr>\n",
              "      <th>75%</th>\n",
              "      <td>1377.000000</td>\n",
              "      <td>11.000000</td>\n",
              "      <td>584.000000</td>\n",
              "      <td>82.000000</td>\n",
              "      <td>21.000000</td>\n",
              "      <td>57.000000</td>\n",
              "      <td>1950.000000</td>\n",
              "    </tr>\n",
              "    <tr>\n",
              "      <th>max</th>\n",
              "      <td>1499.000000</td>\n",
              "      <td>12.000000</td>\n",
              "      <td>1673.000000</td>\n",
              "      <td>244.000000</td>\n",
              "      <td>49.000000</td>\n",
              "      <td>224.000000</td>\n",
              "      <td>6770.000000</td>\n",
              "    </tr>\n",
              "  </tbody>\n",
              "</table>\n",
              "</div>"
            ],
            "text/plain": [
              "           user_id        month  sum_duration  count_duration      gb_used  \\\n",
              "count  2603.000000  2603.000000   2603.000000     2603.000000  2603.000000   \n",
              "mean   1247.533615     8.290434    447.041875       62.475989    17.122551   \n",
              "std     146.011387     2.909368    241.852152       33.229464     7.332184   \n",
              "min    1000.000000     1.000000      0.000000        0.000000     0.000000   \n",
              "25%    1120.000000     6.000000    280.500000       40.000000    13.000000   \n",
              "50%    1241.000000     9.000000    440.000000       62.000000    17.000000   \n",
              "75%    1377.000000    11.000000    584.000000       82.000000    21.000000   \n",
              "max    1499.000000    12.000000   1673.000000      244.000000    49.000000   \n",
              "\n",
              "          messages       income  \n",
              "count  2603.000000  2603.000000  \n",
              "mean     38.376104  1524.936227  \n",
              "std      35.913289   808.787752  \n",
              "min       0.000000   550.000000  \n",
              "25%       9.500000   750.000000  \n",
              "50%      30.000000  1583.000000  \n",
              "75%      57.000000  1950.000000  \n",
              "max     224.000000  6770.000000  "
            ]
          },
          "metadata": {}
        }
      ]
    },
    {
      "cell_type": "markdown",
      "source": "Нулевая гипотеза: средняя выручка пользователей в Москве не отличается от средней выручки пользователей других городов.\n\nАльтернативная гипотеза: средняя выручка пользователей в Москве отличается от средней выручки пользователей других городов.",
      "metadata": {}
    },
    {
      "cell_type": "code",
      "source": "alpha = .05\n# задаём уровень значимости\nresults = st.ttest_ind(data_msc['income'], data_reg['income'], equal_var=False)\n# сравниваем выборочные средние значения пользователей из Москвы и из других городов\nprint('p-значение:', results.pvalue)\nprint('Средння выручка от одного пользователя в Москве:', data_msc['income'].mean().round())\nprint('Средняя выручка от одного пользователя в другом городе:', data_reg['income'].mean().round())\nif results.pvalue < alpha:\n    print(\"Отвергаем нулевую гипотезу\")\nelse:\n    print(\"Не получилось отвергнуть нулевую гипотезу\")",
      "metadata": {},
      "execution_count": 23,
      "outputs": [
        {
          "name": "stdout",
          "output_type": "stream",
          "text": "p-значение: 0.5257376663729298\n\nСредння выручка от одного пользователя в Москве: 1547.0\n\nСредняя выручка от одного пользователя в другом городе: 1525.0\n\nНе получилось отвергнуть нулевую гипотезу\n"
        }
      ]
    },
    {
      "cell_type": "markdown",
      "source": "Вывод: по результатам теста нельзя отвергнуть нулевую гипотезу, сравнение средних говорит нам о том же - средняя выручка пользователя из Москвы практически не отличается от средней выручки пользователя из другого региона.",
      "metadata": {}
    },
    {
      "cell_type": "markdown",
      "source": "## Общий вывод",
      "metadata": {}
    },
    {
      "cell_type": "markdown",
      "source": "Как показало исследование, пользователи тарифа \"Ультра\" существенно выгоднее для компании, чем пользователи тарифа \"Смарт\", т.к. их средняя выручка почти в 1.5 раза выше. \n\nНо пользователей тарифа \"Смарт\" более, чем в 2 раза больше, чем пользователей тарифа \"Ультра\" (351 против 149), что говорит о том, что продаётся данный тариф лучше.\n\nЕсли перемножить среднюю выручку каждого из тарифов на количество пользователей, то видно, что больше денег компании приносят пользователи тарифа \"Смарт\" (452 т.р./мес. против 308 т.р./мес.) в силу их большего количества. При этом, предполагаю, что маржинальность на тарифу \"Ультра\" для компании существенно выше, т.к. пользователи данного тарифа расходуют звонков, сообщений и интернет-трафика ненамного больше.\n\nВ силу вышесказанного, имеет смысл увеличить рекламный бюджет на продвижение тарифа \"Ультра\".\n\nПри этом, выручка у пользователей из других регионов практически не отличается от пользователей из Москвы, что говорит о том, что пользователи в любых городах одинаковы важны для компании.",
      "metadata": {}
    }
  ]
}