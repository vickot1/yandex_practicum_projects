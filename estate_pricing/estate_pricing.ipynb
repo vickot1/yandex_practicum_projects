{
  "metadata": {
    "ExecuteTimeLog": [
      {
        "duration": 504,
        "start_time": "2022-05-05T16:20:23.281Z"
      },
      {
        "duration": 94,
        "start_time": "2022-05-05T16:21:02.412Z"
      },
      {
        "duration": 95,
        "start_time": "2022-05-05T16:21:16.155Z"
      },
      {
        "duration": 556,
        "start_time": "2022-05-06T15:31:47.375Z"
      },
      {
        "duration": 158,
        "start_time": "2022-05-06T15:32:34.208Z"
      },
      {
        "duration": 187,
        "start_time": "2022-05-06T15:51:26.285Z"
      },
      {
        "duration": 3,
        "start_time": "2022-05-06T15:55:50.164Z"
      },
      {
        "duration": 191,
        "start_time": "2022-05-06T15:55:50.752Z"
      },
      {
        "duration": 5,
        "start_time": "2022-05-06T16:32:28.309Z"
      },
      {
        "duration": 6,
        "start_time": "2022-05-06T16:34:21.176Z"
      },
      {
        "duration": 5,
        "start_time": "2022-05-06T16:36:41.512Z"
      },
      {
        "duration": 208,
        "start_time": "2022-05-06T16:44:10.855Z"
      },
      {
        "duration": 226,
        "start_time": "2022-05-06T16:44:40.349Z"
      },
      {
        "duration": 246,
        "start_time": "2022-05-06T16:45:23.072Z"
      },
      {
        "duration": 70,
        "start_time": "2022-05-09T10:42:31.857Z"
      },
      {
        "duration": 737,
        "start_time": "2022-05-09T10:42:39.427Z"
      },
      {
        "duration": 379,
        "start_time": "2022-05-09T10:42:40.167Z"
      },
      {
        "duration": 8,
        "start_time": "2022-05-09T10:42:43.661Z"
      },
      {
        "duration": 36,
        "start_time": "2022-05-09T10:54:35.897Z"
      },
      {
        "duration": 7,
        "start_time": "2022-05-09T10:54:50.177Z"
      },
      {
        "duration": 46,
        "start_time": "2022-05-09T10:59:01.802Z"
      },
      {
        "duration": 19,
        "start_time": "2022-05-09T11:00:05.518Z"
      },
      {
        "duration": 16,
        "start_time": "2022-05-09T11:00:30.277Z"
      },
      {
        "duration": 17,
        "start_time": "2022-05-09T11:01:39.101Z"
      },
      {
        "duration": 8,
        "start_time": "2022-05-09T11:03:08.690Z"
      },
      {
        "duration": 8,
        "start_time": "2022-05-09T11:03:17.932Z"
      },
      {
        "duration": 10,
        "start_time": "2022-05-09T11:03:35.514Z"
      },
      {
        "duration": 11,
        "start_time": "2022-05-09T11:05:08.783Z"
      },
      {
        "duration": 8,
        "start_time": "2022-05-09T11:05:44.945Z"
      },
      {
        "duration": 7,
        "start_time": "2022-05-09T11:05:57.153Z"
      },
      {
        "duration": 8,
        "start_time": "2022-05-09T11:06:30.092Z"
      },
      {
        "duration": 9,
        "start_time": "2022-05-09T11:10:59.505Z"
      },
      {
        "duration": 24,
        "start_time": "2022-05-09T11:11:55.596Z"
      },
      {
        "duration": 12,
        "start_time": "2022-05-09T11:13:14.730Z"
      },
      {
        "duration": 10,
        "start_time": "2022-05-09T11:14:43.229Z"
      },
      {
        "duration": 54,
        "start_time": "2022-05-09T11:15:06.095Z"
      },
      {
        "duration": 28,
        "start_time": "2022-05-09T11:24:41.558Z"
      },
      {
        "duration": 30,
        "start_time": "2022-05-09T11:25:47.106Z"
      },
      {
        "duration": 9,
        "start_time": "2022-05-09T11:28:28.398Z"
      },
      {
        "duration": 15,
        "start_time": "2022-05-09T11:28:51.996Z"
      },
      {
        "duration": 4,
        "start_time": "2022-05-09T11:28:58.339Z"
      },
      {
        "duration": 323,
        "start_time": "2022-05-09T11:28:58.909Z"
      },
      {
        "duration": 9,
        "start_time": "2022-05-09T11:29:02.766Z"
      },
      {
        "duration": 54,
        "start_time": "2022-05-09T11:29:05.891Z"
      },
      {
        "duration": 57,
        "start_time": "2022-05-09T11:29:54.148Z"
      },
      {
        "duration": 76,
        "start_time": "2022-05-09T11:30:37.293Z"
      },
      {
        "duration": 50,
        "start_time": "2022-05-09T11:31:50.261Z"
      },
      {
        "duration": 82,
        "start_time": "2022-05-09T11:33:05.200Z"
      },
      {
        "duration": 25,
        "start_time": "2022-05-09T11:36:33.276Z"
      },
      {
        "duration": 127,
        "start_time": "2022-05-09T11:43:41.966Z"
      },
      {
        "duration": 512,
        "start_time": "2022-05-09T11:44:38.564Z"
      },
      {
        "duration": 347,
        "start_time": "2022-05-09T11:44:39.078Z"
      },
      {
        "duration": 7,
        "start_time": "2022-05-09T11:44:39.427Z"
      },
      {
        "duration": 122,
        "start_time": "2022-05-09T11:44:39.436Z"
      },
      {
        "duration": 60,
        "start_time": "2022-05-09T11:45:05.781Z"
      },
      {
        "duration": 58,
        "start_time": "2022-05-09T11:50:42.537Z"
      },
      {
        "duration": 42,
        "start_time": "2022-05-09T11:52:26.187Z"
      },
      {
        "duration": 58,
        "start_time": "2022-05-09T11:54:53.312Z"
      },
      {
        "duration": 45,
        "start_time": "2022-05-09T11:55:50.043Z"
      },
      {
        "duration": 47,
        "start_time": "2022-05-09T12:00:27.199Z"
      },
      {
        "duration": 49,
        "start_time": "2022-05-09T12:02:48.397Z"
      },
      {
        "duration": 74,
        "start_time": "2022-05-09T12:03:00.475Z"
      },
      {
        "duration": 122,
        "start_time": "2022-05-09T13:54:25.670Z"
      },
      {
        "duration": 153,
        "start_time": "2022-05-09T13:54:35.502Z"
      },
      {
        "duration": 113,
        "start_time": "2022-05-09T13:55:03.521Z"
      },
      {
        "duration": 608,
        "start_time": "2022-05-09T13:58:09.793Z"
      },
      {
        "duration": 29,
        "start_time": "2022-05-09T13:58:36.941Z"
      },
      {
        "duration": 483,
        "start_time": "2022-05-09T13:59:59.059Z"
      },
      {
        "duration": 4,
        "start_time": "2022-05-09T14:02:42.268Z"
      },
      {
        "duration": 265,
        "start_time": "2022-05-09T14:02:42.732Z"
      },
      {
        "duration": 10,
        "start_time": "2022-05-09T14:02:46.009Z"
      },
      {
        "duration": 68,
        "start_time": "2022-05-09T14:02:48.557Z"
      },
      {
        "duration": 599,
        "start_time": "2022-05-09T14:02:51.510Z"
      },
      {
        "duration": 50,
        "start_time": "2022-05-09T14:17:11.019Z"
      },
      {
        "duration": 108,
        "start_time": "2022-05-09T14:17:55.191Z"
      },
      {
        "duration": 49,
        "start_time": "2022-05-09T14:18:58.022Z"
      },
      {
        "duration": 32,
        "start_time": "2022-05-09T14:19:18.277Z"
      },
      {
        "duration": 31,
        "start_time": "2022-05-09T14:19:33.846Z"
      },
      {
        "duration": 34,
        "start_time": "2022-05-09T14:21:57.498Z"
      },
      {
        "duration": 33,
        "start_time": "2022-05-09T14:22:33.370Z"
      },
      {
        "duration": 31,
        "start_time": "2022-05-09T14:23:07.658Z"
      },
      {
        "duration": 33,
        "start_time": "2022-05-09T14:25:07.810Z"
      },
      {
        "duration": 32,
        "start_time": "2022-05-09T14:26:30.793Z"
      },
      {
        "duration": 84,
        "start_time": "2022-05-09T14:28:29.742Z"
      },
      {
        "duration": 44,
        "start_time": "2022-05-09T14:50:08.537Z"
      },
      {
        "duration": 52,
        "start_time": "2022-05-09T14:52:11.473Z"
      },
      {
        "duration": 74,
        "start_time": "2022-05-09T14:53:56.340Z"
      },
      {
        "duration": 54,
        "start_time": "2022-05-09T14:54:40.787Z"
      },
      {
        "duration": 52,
        "start_time": "2022-05-09T14:55:02.695Z"
      },
      {
        "duration": 38,
        "start_time": "2022-05-09T14:55:28.226Z"
      },
      {
        "duration": 56,
        "start_time": "2022-05-09T14:55:56.173Z"
      },
      {
        "duration": 54,
        "start_time": "2022-05-09T14:57:48.292Z"
      },
      {
        "duration": 149,
        "start_time": "2022-05-09T16:04:25.745Z"
      },
      {
        "duration": 93,
        "start_time": "2022-05-09T16:04:35.758Z"
      },
      {
        "duration": 3856,
        "start_time": "2022-05-09T16:11:25.509Z"
      },
      {
        "duration": 555,
        "start_time": "2022-05-09T16:22:05.027Z"
      },
      {
        "duration": 805,
        "start_time": "2022-05-09T16:22:16.197Z"
      },
      {
        "duration": 1205,
        "start_time": "2022-05-09T16:27:55.208Z"
      },
      {
        "duration": 395,
        "start_time": "2022-05-09T16:28:28.156Z"
      },
      {
        "duration": 280,
        "start_time": "2022-05-09T16:29:13.156Z"
      },
      {
        "duration": 380,
        "start_time": "2022-05-09T16:29:57.535Z"
      },
      {
        "duration": 397,
        "start_time": "2022-05-09T16:30:04.548Z"
      },
      {
        "duration": 678,
        "start_time": "2022-05-09T16:30:21.829Z"
      },
      {
        "duration": 309,
        "start_time": "2022-05-09T16:33:32.567Z"
      },
      {
        "duration": 47,
        "start_time": "2022-05-10T17:27:34.037Z"
      },
      {
        "duration": 394,
        "start_time": "2022-05-10T17:27:38.906Z"
      },
      {
        "duration": 184,
        "start_time": "2022-05-10T17:27:39.302Z"
      },
      {
        "duration": 14,
        "start_time": "2022-05-10T17:27:39.487Z"
      },
      {
        "duration": 40,
        "start_time": "2022-05-10T17:27:39.503Z"
      },
      {
        "duration": 365,
        "start_time": "2022-05-10T17:27:39.545Z"
      },
      {
        "duration": 575,
        "start_time": "2022-05-10T17:27:39.911Z"
      },
      {
        "duration": 228,
        "start_time": "2022-05-10T17:28:19.899Z"
      },
      {
        "duration": 236,
        "start_time": "2022-05-10T17:28:39.730Z"
      },
      {
        "duration": 265,
        "start_time": "2022-05-10T17:28:48.803Z"
      },
      {
        "duration": 220,
        "start_time": "2022-05-10T17:31:05.405Z"
      },
      {
        "duration": 252,
        "start_time": "2022-05-10T17:31:31.021Z"
      },
      {
        "duration": 321,
        "start_time": "2022-05-10T17:31:40.020Z"
      },
      {
        "duration": 223,
        "start_time": "2022-05-10T17:32:19.717Z"
      },
      {
        "duration": 255,
        "start_time": "2022-05-10T17:32:28.010Z"
      },
      {
        "duration": 257,
        "start_time": "2022-05-10T17:33:34.673Z"
      },
      {
        "duration": 147,
        "start_time": "2022-05-10T17:33:46.712Z"
      },
      {
        "duration": 168,
        "start_time": "2022-05-10T17:34:03.486Z"
      },
      {
        "duration": 135,
        "start_time": "2022-05-10T17:34:33.620Z"
      },
      {
        "duration": 212,
        "start_time": "2022-05-10T17:34:41.205Z"
      },
      {
        "duration": 130,
        "start_time": "2022-05-10T17:35:49.663Z"
      },
      {
        "duration": 219,
        "start_time": "2022-05-10T17:36:03.569Z"
      },
      {
        "duration": 248,
        "start_time": "2022-05-10T17:36:20.268Z"
      },
      {
        "duration": 243,
        "start_time": "2022-05-10T17:36:31.881Z"
      },
      {
        "duration": 156,
        "start_time": "2022-05-10T17:36:42.194Z"
      },
      {
        "duration": 191,
        "start_time": "2022-05-10T17:36:57.025Z"
      },
      {
        "duration": 175,
        "start_time": "2022-05-10T17:37:05.161Z"
      },
      {
        "duration": 273,
        "start_time": "2022-05-10T17:37:17.147Z"
      },
      {
        "duration": 33,
        "start_time": "2022-05-10T17:39:27.988Z"
      },
      {
        "duration": 332,
        "start_time": "2022-05-10T17:39:33.848Z"
      },
      {
        "duration": 243,
        "start_time": "2022-05-10T17:39:40.486Z"
      },
      {
        "duration": 276,
        "start_time": "2022-05-10T17:39:46.437Z"
      },
      {
        "duration": 149,
        "start_time": "2022-05-10T17:39:50.391Z"
      },
      {
        "duration": 196,
        "start_time": "2022-05-10T17:39:54.567Z"
      },
      {
        "duration": 414,
        "start_time": "2022-05-10T17:40:30.906Z"
      },
      {
        "duration": 199,
        "start_time": "2022-05-10T17:40:31.323Z"
      },
      {
        "duration": 6,
        "start_time": "2022-05-10T17:40:31.524Z"
      },
      {
        "duration": 61,
        "start_time": "2022-05-10T17:40:31.532Z"
      },
      {
        "duration": 383,
        "start_time": "2022-05-10T17:40:31.598Z"
      },
      {
        "duration": 475,
        "start_time": "2022-05-10T17:40:31.983Z"
      },
      {
        "duration": 299,
        "start_time": "2022-05-10T17:40:32.460Z"
      },
      {
        "duration": 140,
        "start_time": "2022-05-10T17:40:32.760Z"
      },
      {
        "duration": 164,
        "start_time": "2022-05-10T17:40:32.902Z"
      },
      {
        "duration": 420,
        "start_time": "2022-05-10T17:41:02.968Z"
      },
      {
        "duration": 208,
        "start_time": "2022-05-10T17:41:03.390Z"
      },
      {
        "duration": 6,
        "start_time": "2022-05-10T17:41:03.601Z"
      },
      {
        "duration": 34,
        "start_time": "2022-05-10T17:41:03.610Z"
      },
      {
        "duration": 385,
        "start_time": "2022-05-10T17:41:03.645Z"
      },
      {
        "duration": 473,
        "start_time": "2022-05-10T17:41:04.032Z"
      },
      {
        "duration": 321,
        "start_time": "2022-05-10T17:41:04.507Z"
      },
      {
        "duration": 137,
        "start_time": "2022-05-10T17:41:04.830Z"
      },
      {
        "duration": 189,
        "start_time": "2022-05-10T17:41:04.969Z"
      },
      {
        "duration": 229,
        "start_time": "2022-05-10T17:42:59.855Z"
      },
      {
        "duration": 242,
        "start_time": "2022-05-10T17:43:24.233Z"
      },
      {
        "duration": 244,
        "start_time": "2022-05-10T17:46:00.810Z"
      },
      {
        "duration": 324,
        "start_time": "2022-05-10T17:48:51.606Z"
      },
      {
        "duration": 244,
        "start_time": "2022-05-10T17:49:02.486Z"
      },
      {
        "duration": 6,
        "start_time": "2022-05-10T17:57:54.179Z"
      },
      {
        "duration": 7,
        "start_time": "2022-05-10T17:58:39.918Z"
      },
      {
        "duration": 7,
        "start_time": "2022-05-10T17:59:35.597Z"
      },
      {
        "duration": 117,
        "start_time": "2022-05-10T18:04:05.806Z"
      },
      {
        "duration": 31,
        "start_time": "2022-05-10T18:04:32.661Z"
      },
      {
        "duration": 29,
        "start_time": "2022-05-10T18:06:24.325Z"
      },
      {
        "duration": 132,
        "start_time": "2022-05-10T18:07:06.213Z"
      },
      {
        "duration": 27,
        "start_time": "2022-05-10T18:07:16.406Z"
      },
      {
        "duration": 593,
        "start_time": "2022-05-10T18:08:41.648Z"
      },
      {
        "duration": 351,
        "start_time": "2022-05-10T19:54:21.250Z"
      },
      {
        "duration": 16,
        "start_time": "2022-05-10T20:01:31.775Z"
      },
      {
        "duration": 15,
        "start_time": "2022-05-10T20:02:43.628Z"
      },
      {
        "duration": 15,
        "start_time": "2022-05-10T20:03:36.631Z"
      },
      {
        "duration": 354,
        "start_time": "2022-05-10T20:08:05.249Z"
      },
      {
        "duration": 469,
        "start_time": "2022-05-10T20:09:14.939Z"
      },
      {
        "duration": 7,
        "start_time": "2022-05-10T20:10:56.888Z"
      },
      {
        "duration": 7,
        "start_time": "2022-05-10T20:11:10.506Z"
      },
      {
        "duration": 6,
        "start_time": "2022-05-10T20:11:26.020Z"
      },
      {
        "duration": 5,
        "start_time": "2022-05-10T20:11:50.420Z"
      },
      {
        "duration": 36,
        "start_time": "2022-05-10T20:13:33.896Z"
      },
      {
        "duration": 177,
        "start_time": "2022-05-10T20:13:58.687Z"
      },
      {
        "duration": 28,
        "start_time": "2022-05-10T20:14:16.979Z"
      },
      {
        "duration": 257,
        "start_time": "2022-05-10T20:14:51.387Z"
      },
      {
        "duration": 615,
        "start_time": "2022-05-10T20:15:35.913Z"
      },
      {
        "duration": 116,
        "start_time": "2022-05-10T20:19:22.929Z"
      },
      {
        "duration": 160,
        "start_time": "2022-05-10T20:19:31.205Z"
      },
      {
        "duration": 434,
        "start_time": "2022-05-10T20:21:55.814Z"
      },
      {
        "duration": 194,
        "start_time": "2022-05-10T20:21:56.250Z"
      },
      {
        "duration": 7,
        "start_time": "2022-05-10T20:21:56.446Z"
      },
      {
        "duration": 46,
        "start_time": "2022-05-10T20:21:56.455Z"
      },
      {
        "duration": 366,
        "start_time": "2022-05-10T20:21:56.504Z"
      },
      {
        "duration": 480,
        "start_time": "2022-05-10T20:21:56.871Z"
      },
      {
        "duration": 479,
        "start_time": "2022-05-10T20:21:57.353Z"
      },
      {
        "duration": 227,
        "start_time": "2022-05-10T20:21:57.834Z"
      },
      {
        "duration": 208,
        "start_time": "2022-05-10T20:21:58.063Z"
      },
      {
        "duration": 244,
        "start_time": "2022-05-10T20:21:58.274Z"
      },
      {
        "duration": 6,
        "start_time": "2022-05-10T20:21:58.520Z"
      },
      {
        "duration": 95,
        "start_time": "2022-05-10T20:21:58.527Z"
      },
      {
        "duration": 22,
        "start_time": "2022-05-10T20:21:58.624Z"
      },
      {
        "duration": 42,
        "start_time": "2022-05-10T20:21:58.648Z"
      },
      {
        "duration": 442,
        "start_time": "2022-05-10T20:22:48.776Z"
      },
      {
        "duration": 197,
        "start_time": "2022-05-10T20:22:49.221Z"
      },
      {
        "duration": 6,
        "start_time": "2022-05-10T20:22:49.419Z"
      },
      {
        "duration": 33,
        "start_time": "2022-05-10T20:22:49.427Z"
      },
      {
        "duration": 395,
        "start_time": "2022-05-10T20:22:49.462Z"
      },
      {
        "duration": 471,
        "start_time": "2022-05-10T20:22:49.859Z"
      },
      {
        "duration": 289,
        "start_time": "2022-05-10T20:22:50.331Z"
      },
      {
        "duration": 151,
        "start_time": "2022-05-10T20:22:50.622Z"
      },
      {
        "duration": 195,
        "start_time": "2022-05-10T20:22:50.775Z"
      },
      {
        "duration": 244,
        "start_time": "2022-05-10T20:22:50.973Z"
      },
      {
        "duration": 5,
        "start_time": "2022-05-10T20:22:51.218Z"
      },
      {
        "duration": 7,
        "start_time": "2022-05-10T20:22:51.224Z"
      },
      {
        "duration": 9,
        "start_time": "2022-05-10T20:22:51.232Z"
      },
      {
        "duration": 20,
        "start_time": "2022-05-10T20:22:51.242Z"
      },
      {
        "duration": 44,
        "start_time": "2022-05-12T10:17:45.561Z"
      },
      {
        "duration": 381,
        "start_time": "2022-05-12T10:17:49.691Z"
      },
      {
        "duration": 172,
        "start_time": "2022-05-12T10:17:50.073Z"
      },
      {
        "duration": 5,
        "start_time": "2022-05-12T10:17:50.247Z"
      },
      {
        "duration": 41,
        "start_time": "2022-05-12T10:17:50.253Z"
      },
      {
        "duration": 328,
        "start_time": "2022-05-12T10:17:50.296Z"
      },
      {
        "duration": 593,
        "start_time": "2022-05-12T10:17:50.626Z"
      },
      {
        "duration": 236,
        "start_time": "2022-05-12T10:17:51.221Z"
      },
      {
        "duration": 135,
        "start_time": "2022-05-12T10:17:51.459Z"
      },
      {
        "duration": 185,
        "start_time": "2022-05-12T10:17:51.596Z"
      },
      {
        "duration": 220,
        "start_time": "2022-05-12T10:17:51.783Z"
      },
      {
        "duration": 7,
        "start_time": "2022-05-12T10:17:52.005Z"
      },
      {
        "duration": 5,
        "start_time": "2022-05-12T10:17:52.013Z"
      },
      {
        "duration": 5,
        "start_time": "2022-05-12T10:17:52.020Z"
      },
      {
        "duration": 45,
        "start_time": "2022-05-12T10:17:52.027Z"
      },
      {
        "duration": 5,
        "start_time": "2022-05-12T10:17:52.073Z"
      },
      {
        "duration": 9,
        "start_time": "2022-05-12T10:18:35.414Z"
      },
      {
        "duration": 229762,
        "start_time": "2022-05-12T10:19:07.574Z"
      },
      {
        "duration": 18,
        "start_time": "2022-05-12T10:23:22.481Z"
      },
      {
        "duration": 195,
        "start_time": "2022-05-12T10:28:39.767Z"
      },
      {
        "duration": 32,
        "start_time": "2022-05-12T10:29:05.398Z"
      },
      {
        "duration": 38,
        "start_time": "2022-05-12T10:31:59.584Z"
      },
      {
        "duration": 38,
        "start_time": "2022-05-12T10:32:24.659Z"
      },
      {
        "duration": 34,
        "start_time": "2022-05-12T10:32:51.034Z"
      },
      {
        "duration": 17,
        "start_time": "2022-05-12T10:35:38.784Z"
      },
      {
        "duration": 36,
        "start_time": "2022-05-12T10:36:17.513Z"
      },
      {
        "duration": 16,
        "start_time": "2022-05-12T10:41:02.423Z"
      },
      {
        "duration": 81,
        "start_time": "2022-05-12T10:44:20.020Z"
      },
      {
        "duration": 37,
        "start_time": "2022-05-12T10:47:10.994Z"
      },
      {
        "duration": 7,
        "start_time": "2022-05-12T10:48:31.406Z"
      },
      {
        "duration": 71,
        "start_time": "2022-05-12T10:48:41.832Z"
      },
      {
        "duration": 7,
        "start_time": "2022-05-12T10:48:46.530Z"
      },
      {
        "duration": 19,
        "start_time": "2022-05-12T10:50:57.529Z"
      },
      {
        "duration": 20,
        "start_time": "2022-05-12T10:51:31.514Z"
      },
      {
        "duration": 3,
        "start_time": "2022-05-12T10:57:28.122Z"
      },
      {
        "duration": 3,
        "start_time": "2022-05-12T10:57:47.176Z"
      },
      {
        "duration": 79,
        "start_time": "2022-05-12T10:58:34.773Z"
      },
      {
        "duration": 106,
        "start_time": "2022-05-12T10:58:51.931Z"
      },
      {
        "duration": 87,
        "start_time": "2022-05-12T10:59:04.406Z"
      },
      {
        "duration": 4,
        "start_time": "2022-05-12T10:59:11.241Z"
      },
      {
        "duration": 10,
        "start_time": "2022-05-12T10:59:24.933Z"
      },
      {
        "duration": 4,
        "start_time": "2022-05-12T11:00:23.976Z"
      },
      {
        "duration": 11,
        "start_time": "2022-05-12T11:00:36.029Z"
      },
      {
        "duration": 1096,
        "start_time": "2022-05-12T11:02:06.844Z"
      },
      {
        "duration": 103,
        "start_time": "2022-05-12T11:02:23.806Z"
      },
      {
        "duration": 100,
        "start_time": "2022-05-12T11:03:35.326Z"
      },
      {
        "duration": 75,
        "start_time": "2022-05-12T11:05:36.957Z"
      },
      {
        "duration": 26,
        "start_time": "2022-05-12T11:06:20.984Z"
      },
      {
        "duration": 22,
        "start_time": "2022-05-12T11:10:36.313Z"
      },
      {
        "duration": 19,
        "start_time": "2022-05-12T11:15:31.722Z"
      },
      {
        "duration": 189,
        "start_time": "2022-05-12T11:54:12.367Z"
      },
      {
        "duration": 235,
        "start_time": "2022-05-12T11:54:37.758Z"
      },
      {
        "duration": 37,
        "start_time": "2022-05-12T11:54:59.576Z"
      },
      {
        "duration": 173,
        "start_time": "2022-05-12T11:58:16.268Z"
      },
      {
        "duration": 159,
        "start_time": "2022-05-12T11:58:39.398Z"
      },
      {
        "duration": 41,
        "start_time": "2022-05-12T12:01:19.383Z"
      },
      {
        "duration": 19,
        "start_time": "2022-05-12T12:04:03.642Z"
      },
      {
        "duration": 18,
        "start_time": "2022-05-12T12:04:44.749Z"
      },
      {
        "duration": 381,
        "start_time": "2022-05-12T12:05:30.204Z"
      },
      {
        "duration": 185,
        "start_time": "2022-05-12T12:05:30.586Z"
      },
      {
        "duration": 6,
        "start_time": "2022-05-12T12:05:30.772Z"
      },
      {
        "duration": 47,
        "start_time": "2022-05-12T12:05:30.780Z"
      },
      {
        "duration": 416,
        "start_time": "2022-05-12T12:05:30.829Z"
      },
      {
        "duration": 1309,
        "start_time": "2022-05-12T12:05:31.247Z"
      },
      {
        "duration": 271,
        "start_time": "2022-05-12T12:05:32.558Z"
      },
      {
        "duration": 129,
        "start_time": "2022-05-12T12:05:32.831Z"
      },
      {
        "duration": 186,
        "start_time": "2022-05-12T12:05:32.962Z"
      },
      {
        "duration": 214,
        "start_time": "2022-05-12T12:05:33.151Z"
      },
      {
        "duration": 5,
        "start_time": "2022-05-12T12:05:33.371Z"
      },
      {
        "duration": 6,
        "start_time": "2022-05-12T12:05:33.378Z"
      },
      {
        "duration": 6,
        "start_time": "2022-05-12T12:05:33.385Z"
      },
      {
        "duration": 25,
        "start_time": "2022-05-12T12:05:33.393Z"
      },
      {
        "duration": 86,
        "start_time": "2022-05-12T12:05:33.420Z"
      },
      {
        "duration": 9,
        "start_time": "2022-05-12T12:05:33.508Z"
      },
      {
        "duration": 53,
        "start_time": "2022-05-12T12:05:33.519Z"
      },
      {
        "duration": 26,
        "start_time": "2022-05-12T12:05:33.574Z"
      },
      {
        "duration": 18,
        "start_time": "2022-05-12T12:06:01.287Z"
      },
      {
        "duration": 24,
        "start_time": "2022-05-12T12:06:11.415Z"
      },
      {
        "duration": 77,
        "start_time": "2022-05-12T12:09:43.771Z"
      },
      {
        "duration": 40,
        "start_time": "2022-05-12T12:10:03.029Z"
      },
      {
        "duration": 28,
        "start_time": "2022-05-12T12:11:30.300Z"
      },
      {
        "duration": 18,
        "start_time": "2022-05-12T12:12:12.482Z"
      },
      {
        "duration": 23,
        "start_time": "2022-05-12T12:12:51.015Z"
      },
      {
        "duration": 29,
        "start_time": "2022-05-12T12:15:23.023Z"
      },
      {
        "duration": 19,
        "start_time": "2022-05-12T12:16:33.172Z"
      },
      {
        "duration": 32,
        "start_time": "2022-05-12T12:17:05.106Z"
      },
      {
        "duration": 29,
        "start_time": "2022-05-12T12:17:58.340Z"
      },
      {
        "duration": 30,
        "start_time": "2022-05-12T12:19:46.248Z"
      },
      {
        "duration": 32,
        "start_time": "2022-05-12T12:21:39.599Z"
      },
      {
        "duration": 30,
        "start_time": "2022-05-12T12:21:51.831Z"
      },
      {
        "duration": 944,
        "start_time": "2022-05-12T12:21:57.722Z"
      },
      {
        "duration": 29,
        "start_time": "2022-05-12T12:22:13.501Z"
      },
      {
        "duration": 28,
        "start_time": "2022-05-12T12:22:29.089Z"
      },
      {
        "duration": 28,
        "start_time": "2022-05-12T12:23:07.032Z"
      },
      {
        "duration": 16,
        "start_time": "2022-05-12T12:25:16.162Z"
      },
      {
        "duration": 23,
        "start_time": "2022-05-12T12:25:24.648Z"
      },
      {
        "duration": 147,
        "start_time": "2022-05-12T12:25:50.033Z"
      },
      {
        "duration": 152,
        "start_time": "2022-05-12T12:26:16.487Z"
      },
      {
        "duration": 230,
        "start_time": "2022-05-12T12:27:27.182Z"
      },
      {
        "duration": 417,
        "start_time": "2022-05-12T12:28:01.326Z"
      },
      {
        "duration": 311,
        "start_time": "2022-05-12T12:29:03.224Z"
      },
      {
        "duration": 259,
        "start_time": "2022-05-12T13:01:11.920Z"
      },
      {
        "duration": 14,
        "start_time": "2022-05-12T13:07:58.581Z"
      },
      {
        "duration": 268,
        "start_time": "2022-05-12T13:08:09.895Z"
      },
      {
        "duration": 17,
        "start_time": "2022-05-12T13:11:03.444Z"
      },
      {
        "duration": 29,
        "start_time": "2022-05-12T13:11:21.809Z"
      },
      {
        "duration": 111,
        "start_time": "2022-05-12T13:12:32.709Z"
      },
      {
        "duration": 129,
        "start_time": "2022-05-12T13:13:07.035Z"
      },
      {
        "duration": 212,
        "start_time": "2022-05-12T13:13:15.218Z"
      },
      {
        "duration": 279,
        "start_time": "2022-05-12T13:13:32.414Z"
      },
      {
        "duration": 109,
        "start_time": "2022-05-12T13:14:31.725Z"
      },
      {
        "duration": 151,
        "start_time": "2022-05-12T13:14:39.474Z"
      },
      {
        "duration": 181,
        "start_time": "2022-05-12T13:14:47.143Z"
      },
      {
        "duration": 123,
        "start_time": "2022-05-12T13:15:00.556Z"
      },
      {
        "duration": 133,
        "start_time": "2022-05-12T13:15:04.911Z"
      },
      {
        "duration": 136,
        "start_time": "2022-05-12T13:15:13.259Z"
      },
      {
        "duration": 130,
        "start_time": "2022-05-12T13:15:28.461Z"
      },
      {
        "duration": 206,
        "start_time": "2022-05-12T13:15:57.851Z"
      },
      {
        "duration": 318,
        "start_time": "2022-05-12T13:16:26.867Z"
      },
      {
        "duration": 212,
        "start_time": "2022-05-12T13:16:38.748Z"
      },
      {
        "duration": 191,
        "start_time": "2022-05-12T13:16:48.246Z"
      },
      {
        "duration": 206,
        "start_time": "2022-05-12T13:17:19.909Z"
      },
      {
        "duration": 428,
        "start_time": "2022-05-12T13:18:45.819Z"
      },
      {
        "duration": 309,
        "start_time": "2022-05-12T13:19:06.233Z"
      },
      {
        "duration": 300,
        "start_time": "2022-05-12T13:22:43.987Z"
      },
      {
        "duration": 395,
        "start_time": "2022-05-12T13:27:26.116Z"
      },
      {
        "duration": 3,
        "start_time": "2022-05-12T13:27:47.177Z"
      },
      {
        "duration": 374,
        "start_time": "2022-05-12T13:28:08.103Z"
      },
      {
        "duration": 210,
        "start_time": "2022-05-12T13:28:08.479Z"
      },
      {
        "duration": 7,
        "start_time": "2022-05-12T13:28:08.692Z"
      },
      {
        "duration": 47,
        "start_time": "2022-05-12T13:28:08.701Z"
      },
      {
        "duration": 573,
        "start_time": "2022-05-12T13:28:08.770Z"
      },
      {
        "duration": 0,
        "start_time": "2022-05-12T13:28:09.345Z"
      },
      {
        "duration": 0,
        "start_time": "2022-05-12T13:28:09.346Z"
      },
      {
        "duration": 0,
        "start_time": "2022-05-12T13:28:09.348Z"
      },
      {
        "duration": 0,
        "start_time": "2022-05-12T13:28:09.349Z"
      },
      {
        "duration": 0,
        "start_time": "2022-05-12T13:28:09.350Z"
      },
      {
        "duration": 0,
        "start_time": "2022-05-12T13:28:09.351Z"
      },
      {
        "duration": 0,
        "start_time": "2022-05-12T13:28:09.352Z"
      },
      {
        "duration": 0,
        "start_time": "2022-05-12T13:28:09.371Z"
      },
      {
        "duration": 0,
        "start_time": "2022-05-12T13:28:09.372Z"
      },
      {
        "duration": 0,
        "start_time": "2022-05-12T13:28:09.374Z"
      },
      {
        "duration": 0,
        "start_time": "2022-05-12T13:28:09.375Z"
      },
      {
        "duration": 0,
        "start_time": "2022-05-12T13:28:09.376Z"
      },
      {
        "duration": 0,
        "start_time": "2022-05-12T13:28:09.378Z"
      },
      {
        "duration": 0,
        "start_time": "2022-05-12T13:28:09.379Z"
      },
      {
        "duration": 0,
        "start_time": "2022-05-12T13:28:09.379Z"
      },
      {
        "duration": 0,
        "start_time": "2022-05-12T13:28:09.380Z"
      },
      {
        "duration": 1041,
        "start_time": "2022-05-12T13:28:37.995Z"
      },
      {
        "duration": 293,
        "start_time": "2022-05-12T13:28:39.038Z"
      },
      {
        "duration": 5,
        "start_time": "2022-05-12T13:28:39.333Z"
      },
      {
        "duration": 54,
        "start_time": "2022-05-12T13:28:39.340Z"
      },
      {
        "duration": 420,
        "start_time": "2022-05-12T13:28:39.397Z"
      },
      {
        "duration": 987,
        "start_time": "2022-05-12T13:28:39.819Z"
      },
      {
        "duration": 293,
        "start_time": "2022-05-12T13:28:40.807Z"
      },
      {
        "duration": 159,
        "start_time": "2022-05-12T13:28:41.103Z"
      },
      {
        "duration": 233,
        "start_time": "2022-05-12T13:28:41.263Z"
      },
      {
        "duration": 261,
        "start_time": "2022-05-12T13:28:41.499Z"
      },
      {
        "duration": 13,
        "start_time": "2022-05-12T13:28:41.762Z"
      },
      {
        "duration": 14,
        "start_time": "2022-05-12T13:28:41.778Z"
      },
      {
        "duration": 5,
        "start_time": "2022-05-12T13:28:41.795Z"
      },
      {
        "duration": 26,
        "start_time": "2022-05-12T13:28:41.801Z"
      },
      {
        "duration": 71,
        "start_time": "2022-05-12T13:28:41.829Z"
      },
      {
        "duration": 7,
        "start_time": "2022-05-12T13:28:41.902Z"
      },
      {
        "duration": 26,
        "start_time": "2022-05-12T13:28:41.911Z"
      },
      {
        "duration": 384,
        "start_time": "2022-05-12T13:28:41.939Z"
      },
      {
        "duration": 257,
        "start_time": "2022-05-12T13:28:42.325Z"
      },
      {
        "duration": 217,
        "start_time": "2022-05-12T13:28:42.585Z"
      },
      {
        "duration": 224,
        "start_time": "2022-05-12T13:28:42.804Z"
      },
      {
        "duration": 702,
        "start_time": "2022-05-12T13:58:57.933Z"
      },
      {
        "duration": 948,
        "start_time": "2022-05-12T13:59:38.060Z"
      },
      {
        "duration": 994,
        "start_time": "2022-05-12T13:59:48.655Z"
      },
      {
        "duration": 1151,
        "start_time": "2022-05-12T14:02:09.127Z"
      },
      {
        "duration": 2049,
        "start_time": "2022-05-12T14:03:26.406Z"
      },
      {
        "duration": 2259,
        "start_time": "2022-05-12T14:04:13.329Z"
      },
      {
        "duration": 2076,
        "start_time": "2022-05-12T14:04:43.761Z"
      },
      {
        "duration": 1294,
        "start_time": "2022-05-12T14:08:30.237Z"
      },
      {
        "duration": 1096,
        "start_time": "2022-05-12T14:08:46.928Z"
      },
      {
        "duration": 1989,
        "start_time": "2022-05-12T14:09:33.728Z"
      },
      {
        "duration": 2092,
        "start_time": "2022-05-12T14:10:21.256Z"
      },
      {
        "duration": 1985,
        "start_time": "2022-05-12T14:11:51.211Z"
      },
      {
        "duration": 11,
        "start_time": "2022-05-12T14:14:00.787Z"
      },
      {
        "duration": 86,
        "start_time": "2022-05-12T14:14:18.882Z"
      },
      {
        "duration": 80,
        "start_time": "2022-05-12T14:14:38.564Z"
      },
      {
        "duration": 89,
        "start_time": "2022-05-12T14:15:16.211Z"
      },
      {
        "duration": 4,
        "start_time": "2022-05-12T14:15:38.717Z"
      },
      {
        "duration": 86,
        "start_time": "2022-05-12T14:15:52.187Z"
      },
      {
        "duration": 1022,
        "start_time": "2022-05-12T14:16:13.952Z"
      },
      {
        "duration": 80,
        "start_time": "2022-05-12T14:16:37.615Z"
      },
      {
        "duration": 749,
        "start_time": "2022-05-12T14:17:01.466Z"
      },
      {
        "duration": 283,
        "start_time": "2022-05-12T14:18:30.109Z"
      },
      {
        "duration": 34,
        "start_time": "2022-05-12T15:44:04.781Z"
      },
      {
        "duration": 492,
        "start_time": "2022-05-12T16:03:31.024Z"
      },
      {
        "duration": 94,
        "start_time": "2022-05-12T16:07:39.957Z"
      },
      {
        "duration": 218,
        "start_time": "2022-05-12T16:14:33.477Z"
      },
      {
        "duration": 138,
        "start_time": "2022-05-12T16:14:40.845Z"
      },
      {
        "duration": 196,
        "start_time": "2022-05-12T16:26:46.685Z"
      },
      {
        "duration": 153,
        "start_time": "2022-05-12T16:27:12.037Z"
      },
      {
        "duration": 430,
        "start_time": "2022-05-12T16:33:30.757Z"
      },
      {
        "duration": 183,
        "start_time": "2022-05-12T16:33:31.189Z"
      },
      {
        "duration": 5,
        "start_time": "2022-05-12T16:33:31.374Z"
      },
      {
        "duration": 40,
        "start_time": "2022-05-12T16:33:31.381Z"
      },
      {
        "duration": 344,
        "start_time": "2022-05-12T16:33:31.422Z"
      },
      {
        "duration": 418,
        "start_time": "2022-05-12T16:33:31.768Z"
      },
      {
        "duration": 269,
        "start_time": "2022-05-12T16:33:32.188Z"
      },
      {
        "duration": 127,
        "start_time": "2022-05-12T16:33:32.459Z"
      },
      {
        "duration": 141,
        "start_time": "2022-05-12T16:33:32.588Z"
      },
      {
        "duration": 217,
        "start_time": "2022-05-12T16:33:32.732Z"
      },
      {
        "duration": 223,
        "start_time": "2022-05-12T16:33:32.951Z"
      },
      {
        "duration": 5,
        "start_time": "2022-05-12T16:33:33.175Z"
      },
      {
        "duration": 5,
        "start_time": "2022-05-12T16:33:33.182Z"
      },
      {
        "duration": 20,
        "start_time": "2022-05-12T16:33:33.188Z"
      },
      {
        "duration": 70,
        "start_time": "2022-05-12T16:33:33.209Z"
      },
      {
        "duration": 7,
        "start_time": "2022-05-12T16:33:33.281Z"
      },
      {
        "duration": 24,
        "start_time": "2022-05-12T16:33:33.289Z"
      },
      {
        "duration": 292,
        "start_time": "2022-05-12T16:33:33.315Z"
      },
      {
        "duration": 214,
        "start_time": "2022-05-12T16:33:33.609Z"
      },
      {
        "duration": 194,
        "start_time": "2022-05-12T16:33:33.825Z"
      },
      {
        "duration": 203,
        "start_time": "2022-05-12T16:33:34.020Z"
      },
      {
        "duration": 1067,
        "start_time": "2022-05-12T16:33:34.224Z"
      },
      {
        "duration": 809,
        "start_time": "2022-05-12T16:33:35.293Z"
      },
      {
        "duration": 272,
        "start_time": "2022-05-12T16:33:36.103Z"
      },
      {
        "duration": 166,
        "start_time": "2022-05-12T16:35:05.335Z"
      },
      {
        "duration": 202,
        "start_time": "2022-05-12T16:36:17.000Z"
      },
      {
        "duration": 383,
        "start_time": "2022-05-12T16:37:37.088Z"
      },
      {
        "duration": 173,
        "start_time": "2022-05-12T16:37:37.473Z"
      },
      {
        "duration": 5,
        "start_time": "2022-05-12T16:37:37.647Z"
      },
      {
        "duration": 55,
        "start_time": "2022-05-12T16:37:37.654Z"
      },
      {
        "duration": 332,
        "start_time": "2022-05-12T16:37:37.711Z"
      },
      {
        "duration": 410,
        "start_time": "2022-05-12T16:37:38.045Z"
      },
      {
        "duration": 274,
        "start_time": "2022-05-12T16:37:38.457Z"
      },
      {
        "duration": 123,
        "start_time": "2022-05-12T16:37:38.733Z"
      },
      {
        "duration": 145,
        "start_time": "2022-05-12T16:37:38.858Z"
      },
      {
        "duration": 215,
        "start_time": "2022-05-12T16:37:39.004Z"
      },
      {
        "duration": 375,
        "start_time": "2022-05-12T16:40:58.799Z"
      },
      {
        "duration": 188,
        "start_time": "2022-05-12T16:40:59.186Z"
      },
      {
        "duration": 6,
        "start_time": "2022-05-12T16:40:59.376Z"
      },
      {
        "duration": 40,
        "start_time": "2022-05-12T16:40:59.385Z"
      },
      {
        "duration": 358,
        "start_time": "2022-05-12T16:40:59.428Z"
      },
      {
        "duration": 422,
        "start_time": "2022-05-12T16:40:59.788Z"
      },
      {
        "duration": 279,
        "start_time": "2022-05-12T16:41:00.212Z"
      },
      {
        "duration": 136,
        "start_time": "2022-05-12T16:41:00.493Z"
      },
      {
        "duration": 156,
        "start_time": "2022-05-12T16:41:00.630Z"
      },
      {
        "duration": 232,
        "start_time": "2022-05-12T16:41:00.788Z"
      },
      {
        "duration": 237,
        "start_time": "2022-05-12T16:41:01.022Z"
      },
      {
        "duration": 20,
        "start_time": "2022-05-12T16:41:01.260Z"
      },
      {
        "duration": 20,
        "start_time": "2022-05-12T16:41:01.282Z"
      },
      {
        "duration": 23,
        "start_time": "2022-05-12T16:41:01.305Z"
      },
      {
        "duration": 49,
        "start_time": "2022-05-12T16:41:01.329Z"
      },
      {
        "duration": 9,
        "start_time": "2022-05-12T16:41:01.380Z"
      },
      {
        "duration": 38,
        "start_time": "2022-05-12T16:41:01.391Z"
      },
      {
        "duration": 289,
        "start_time": "2022-05-12T16:41:01.431Z"
      },
      {
        "duration": 233,
        "start_time": "2022-05-12T16:41:01.721Z"
      },
      {
        "duration": 208,
        "start_time": "2022-05-12T16:41:01.956Z"
      },
      {
        "duration": 221,
        "start_time": "2022-05-12T16:41:02.165Z"
      },
      {
        "duration": 1164,
        "start_time": "2022-05-12T16:41:02.388Z"
      },
      {
        "duration": 891,
        "start_time": "2022-05-12T16:41:03.554Z"
      },
      {
        "duration": 295,
        "start_time": "2022-05-12T16:41:04.447Z"
      },
      {
        "duration": 394,
        "start_time": "2022-05-12T16:43:06.083Z"
      },
      {
        "duration": 177,
        "start_time": "2022-05-12T16:43:06.480Z"
      },
      {
        "duration": 14,
        "start_time": "2022-05-12T16:43:06.658Z"
      },
      {
        "duration": 46,
        "start_time": "2022-05-12T16:43:06.674Z"
      },
      {
        "duration": 357,
        "start_time": "2022-05-12T16:43:06.722Z"
      },
      {
        "duration": 590,
        "start_time": "2022-05-12T16:43:07.081Z"
      },
      {
        "duration": 435,
        "start_time": "2022-05-12T16:43:07.673Z"
      },
      {
        "duration": 131,
        "start_time": "2022-05-12T16:43:08.109Z"
      },
      {
        "duration": 147,
        "start_time": "2022-05-12T16:43:08.241Z"
      },
      {
        "duration": 213,
        "start_time": "2022-05-12T16:43:08.390Z"
      },
      {
        "duration": 417,
        "start_time": "2022-05-12T16:45:30.152Z"
      },
      {
        "duration": 178,
        "start_time": "2022-05-12T16:45:30.571Z"
      },
      {
        "duration": 5,
        "start_time": "2022-05-12T16:45:30.751Z"
      },
      {
        "duration": 51,
        "start_time": "2022-05-12T16:45:30.758Z"
      },
      {
        "duration": 336,
        "start_time": "2022-05-12T16:45:30.811Z"
      },
      {
        "duration": 415,
        "start_time": "2022-05-12T16:45:31.149Z"
      },
      {
        "duration": 266,
        "start_time": "2022-05-12T16:45:31.566Z"
      },
      {
        "duration": 122,
        "start_time": "2022-05-12T16:45:31.833Z"
      },
      {
        "duration": 146,
        "start_time": "2022-05-12T16:45:31.957Z"
      },
      {
        "duration": 209,
        "start_time": "2022-05-12T16:45:32.105Z"
      },
      {
        "duration": 185,
        "start_time": "2022-05-12T16:45:32.316Z"
      },
      {
        "duration": 6,
        "start_time": "2022-05-12T16:45:32.502Z"
      },
      {
        "duration": 5,
        "start_time": "2022-05-12T16:45:32.509Z"
      },
      {
        "duration": 16,
        "start_time": "2022-05-12T16:45:32.517Z"
      },
      {
        "duration": 65,
        "start_time": "2022-05-12T16:45:32.534Z"
      },
      {
        "duration": 7,
        "start_time": "2022-05-12T16:45:32.600Z"
      },
      {
        "duration": 25,
        "start_time": "2022-05-12T16:45:32.608Z"
      },
      {
        "duration": 289,
        "start_time": "2022-05-12T16:45:32.634Z"
      },
      {
        "duration": 215,
        "start_time": "2022-05-12T16:45:32.924Z"
      },
      {
        "duration": 199,
        "start_time": "2022-05-12T16:45:33.140Z"
      },
      {
        "duration": 207,
        "start_time": "2022-05-12T16:45:33.340Z"
      },
      {
        "duration": 1079,
        "start_time": "2022-05-12T16:45:33.548Z"
      },
      {
        "duration": 810,
        "start_time": "2022-05-12T16:45:34.629Z"
      },
      {
        "duration": 273,
        "start_time": "2022-05-12T16:45:35.440Z"
      },
      {
        "duration": 182,
        "start_time": "2022-05-12T16:46:51.792Z"
      },
      {
        "duration": 118,
        "start_time": "2022-05-12T16:47:17.275Z"
      },
      {
        "duration": 190,
        "start_time": "2022-05-12T16:47:22.991Z"
      },
      {
        "duration": 173,
        "start_time": "2022-05-12T16:47:41.907Z"
      },
      {
        "duration": 372,
        "start_time": "2022-05-12T16:48:36.833Z"
      },
      {
        "duration": 181,
        "start_time": "2022-05-12T16:48:37.207Z"
      },
      {
        "duration": 5,
        "start_time": "2022-05-12T16:48:37.390Z"
      },
      {
        "duration": 47,
        "start_time": "2022-05-12T16:48:37.397Z"
      },
      {
        "duration": 343,
        "start_time": "2022-05-12T16:48:37.446Z"
      },
      {
        "duration": 420,
        "start_time": "2022-05-12T16:48:37.791Z"
      },
      {
        "duration": 274,
        "start_time": "2022-05-12T16:48:38.213Z"
      },
      {
        "duration": 131,
        "start_time": "2022-05-12T16:48:38.489Z"
      },
      {
        "duration": 136,
        "start_time": "2022-05-12T16:48:38.622Z"
      },
      {
        "duration": 210,
        "start_time": "2022-05-12T16:48:38.770Z"
      },
      {
        "duration": 188,
        "start_time": "2022-05-12T16:48:38.982Z"
      },
      {
        "duration": 250,
        "start_time": "2022-05-12T16:48:39.172Z"
      },
      {
        "duration": 5,
        "start_time": "2022-05-12T16:48:39.424Z"
      },
      {
        "duration": 24,
        "start_time": "2022-05-12T16:48:39.430Z"
      },
      {
        "duration": 50,
        "start_time": "2022-05-12T16:48:39.455Z"
      },
      {
        "duration": 8,
        "start_time": "2022-05-12T16:48:39.506Z"
      },
      {
        "duration": 23,
        "start_time": "2022-05-12T16:48:39.516Z"
      },
      {
        "duration": 310,
        "start_time": "2022-05-12T16:48:39.541Z"
      },
      {
        "duration": 282,
        "start_time": "2022-05-12T16:48:39.852Z"
      },
      {
        "duration": 131,
        "start_time": "2022-05-12T16:48:40.135Z"
      },
      {
        "duration": 204,
        "start_time": "2022-05-12T16:48:40.271Z"
      },
      {
        "duration": 1043,
        "start_time": "2022-05-12T16:48:40.476Z"
      },
      {
        "duration": 811,
        "start_time": "2022-05-12T16:48:41.521Z"
      },
      {
        "duration": 277,
        "start_time": "2022-05-12T16:48:42.334Z"
      },
      {
        "duration": 405,
        "start_time": "2022-05-12T16:50:01.838Z"
      },
      {
        "duration": 185,
        "start_time": "2022-05-12T16:50:02.245Z"
      },
      {
        "duration": 5,
        "start_time": "2022-05-12T16:50:02.432Z"
      },
      {
        "duration": 59,
        "start_time": "2022-05-12T16:50:02.439Z"
      },
      {
        "duration": 507,
        "start_time": "2022-05-12T16:50:02.500Z"
      },
      {
        "duration": 532,
        "start_time": "2022-05-12T16:50:03.009Z"
      },
      {
        "duration": 286,
        "start_time": "2022-05-12T16:50:03.543Z"
      },
      {
        "duration": 129,
        "start_time": "2022-05-12T16:50:03.831Z"
      },
      {
        "duration": 140,
        "start_time": "2022-05-12T16:50:03.970Z"
      },
      {
        "duration": 216,
        "start_time": "2022-05-12T16:50:04.113Z"
      },
      {
        "duration": 180,
        "start_time": "2022-05-12T16:50:04.330Z"
      },
      {
        "duration": 185,
        "start_time": "2022-05-12T16:50:04.512Z"
      },
      {
        "duration": 5,
        "start_time": "2022-05-12T16:50:04.699Z"
      },
      {
        "duration": 16,
        "start_time": "2022-05-12T16:50:04.705Z"
      },
      {
        "duration": 59,
        "start_time": "2022-05-12T16:50:04.722Z"
      },
      {
        "duration": 7,
        "start_time": "2022-05-12T16:50:04.782Z"
      },
      {
        "duration": 25,
        "start_time": "2022-05-12T16:50:04.790Z"
      },
      {
        "duration": 287,
        "start_time": "2022-05-12T16:50:04.817Z"
      },
      {
        "duration": 283,
        "start_time": "2022-05-12T16:50:05.106Z"
      },
      {
        "duration": 131,
        "start_time": "2022-05-12T16:50:05.390Z"
      },
      {
        "duration": 211,
        "start_time": "2022-05-12T16:50:05.522Z"
      },
      {
        "duration": 1080,
        "start_time": "2022-05-12T16:50:05.735Z"
      },
      {
        "duration": 823,
        "start_time": "2022-05-12T16:50:06.817Z"
      },
      {
        "duration": 295,
        "start_time": "2022-05-12T16:50:07.641Z"
      },
      {
        "duration": 147,
        "start_time": "2022-05-12T16:50:53.459Z"
      },
      {
        "duration": 176,
        "start_time": "2022-05-12T16:51:11.307Z"
      },
      {
        "duration": 5,
        "start_time": "2022-05-12T16:52:59.110Z"
      },
      {
        "duration": 5,
        "start_time": "2022-05-12T16:53:42.256Z"
      },
      {
        "duration": 16,
        "start_time": "2022-05-12T16:55:14.189Z"
      },
      {
        "duration": 16,
        "start_time": "2022-05-12T16:55:27.329Z"
      },
      {
        "duration": 16,
        "start_time": "2022-05-12T16:56:14.780Z"
      },
      {
        "duration": 15,
        "start_time": "2022-05-12T16:56:45.601Z"
      },
      {
        "duration": 1346,
        "start_time": "2022-05-12T16:57:38.060Z"
      },
      {
        "duration": 4,
        "start_time": "2022-05-12T16:57:45.654Z"
      },
      {
        "duration": 6,
        "start_time": "2022-05-12T16:58:34.775Z"
      },
      {
        "duration": 8,
        "start_time": "2022-05-12T16:59:26.274Z"
      },
      {
        "duration": 14,
        "start_time": "2022-05-12T17:14:32.288Z"
      },
      {
        "duration": 17,
        "start_time": "2022-05-12T17:20:43.132Z"
      },
      {
        "duration": 18,
        "start_time": "2022-05-12T17:23:27.494Z"
      },
      {
        "duration": 16,
        "start_time": "2022-05-12T17:23:35.079Z"
      },
      {
        "duration": 287,
        "start_time": "2022-05-12T17:34:30.354Z"
      },
      {
        "duration": 282,
        "start_time": "2022-05-12T17:34:53.469Z"
      },
      {
        "duration": 310,
        "start_time": "2022-05-12T17:35:11.985Z"
      },
      {
        "duration": 254,
        "start_time": "2022-05-12T17:35:50.605Z"
      },
      {
        "duration": 644,
        "start_time": "2022-05-12T17:50:48.041Z"
      },
      {
        "duration": 472,
        "start_time": "2022-05-12T18:23:46.446Z"
      },
      {
        "duration": 481,
        "start_time": "2022-05-12T18:24:00.229Z"
      },
      {
        "duration": 319,
        "start_time": "2022-05-12T18:24:23.787Z"
      },
      {
        "duration": 296,
        "start_time": "2022-05-12T18:24:35.686Z"
      },
      {
        "duration": 210,
        "start_time": "2022-05-12T18:30:14.734Z"
      },
      {
        "duration": 204,
        "start_time": "2022-05-12T18:30:43.928Z"
      },
      {
        "duration": 197,
        "start_time": "2022-05-12T18:31:09.503Z"
      },
      {
        "duration": 213,
        "start_time": "2022-05-12T18:31:44.254Z"
      },
      {
        "duration": 202,
        "start_time": "2022-05-12T18:32:03.701Z"
      },
      {
        "duration": 338,
        "start_time": "2022-05-12T18:49:04.893Z"
      },
      {
        "duration": 203,
        "start_time": "2022-05-12T18:49:17.741Z"
      },
      {
        "duration": 43,
        "start_time": "2022-05-15T12:52:03.257Z"
      },
      {
        "duration": 440,
        "start_time": "2022-05-15T12:52:17.565Z"
      },
      {
        "duration": 172,
        "start_time": "2022-05-15T12:52:18.006Z"
      },
      {
        "duration": 8,
        "start_time": "2022-05-15T12:52:18.179Z"
      },
      {
        "duration": 43,
        "start_time": "2022-05-15T12:52:18.189Z"
      },
      {
        "duration": 346,
        "start_time": "2022-05-15T12:52:18.235Z"
      },
      {
        "duration": 1469,
        "start_time": "2022-05-15T12:52:18.583Z"
      },
      {
        "duration": 230,
        "start_time": "2022-05-15T12:52:20.055Z"
      },
      {
        "duration": 131,
        "start_time": "2022-05-15T12:52:20.286Z"
      },
      {
        "duration": 134,
        "start_time": "2022-05-15T12:52:20.419Z"
      },
      {
        "duration": 207,
        "start_time": "2022-05-15T12:52:20.555Z"
      },
      {
        "duration": 10,
        "start_time": "2022-05-15T12:52:20.763Z"
      },
      {
        "duration": 21,
        "start_time": "2022-05-15T12:52:20.775Z"
      },
      {
        "duration": 4,
        "start_time": "2022-05-15T12:52:20.797Z"
      },
      {
        "duration": 19,
        "start_time": "2022-05-15T12:52:20.803Z"
      },
      {
        "duration": 61,
        "start_time": "2022-05-15T12:52:20.823Z"
      },
      {
        "duration": 6,
        "start_time": "2022-05-15T12:52:20.886Z"
      },
      {
        "duration": 27,
        "start_time": "2022-05-15T12:52:20.894Z"
      },
      {
        "duration": 284,
        "start_time": "2022-05-15T12:52:20.923Z"
      },
      {
        "duration": 216,
        "start_time": "2022-05-15T12:52:21.209Z"
      },
      {
        "duration": 205,
        "start_time": "2022-05-15T12:52:21.426Z"
      },
      {
        "duration": 212,
        "start_time": "2022-05-15T12:52:21.633Z"
      },
      {
        "duration": 1053,
        "start_time": "2022-05-15T12:52:21.847Z"
      },
      {
        "duration": 740,
        "start_time": "2022-05-15T12:52:22.902Z"
      },
      {
        "duration": 275,
        "start_time": "2022-05-15T12:52:23.644Z"
      },
      {
        "duration": 37,
        "start_time": "2022-05-15T12:52:45.849Z"
      },
      {
        "duration": 86,
        "start_time": "2022-05-15T12:54:14.762Z"
      },
      {
        "duration": 23,
        "start_time": "2022-05-15T12:54:28.137Z"
      },
      {
        "duration": 36,
        "start_time": "2022-05-15T12:55:33.222Z"
      },
      {
        "duration": 13,
        "start_time": "2022-05-15T12:56:46.988Z"
      },
      {
        "duration": 11,
        "start_time": "2022-05-15T12:57:01.227Z"
      },
      {
        "duration": 63,
        "start_time": "2022-05-15T12:58:57.502Z"
      },
      {
        "duration": 33,
        "start_time": "2022-05-15T13:03:26.100Z"
      },
      {
        "duration": 122,
        "start_time": "2022-05-15T13:10:15.225Z"
      },
      {
        "duration": 244,
        "start_time": "2022-05-16T16:34:31.439Z"
      },
      {
        "duration": 42,
        "start_time": "2022-05-16T16:36:51.986Z"
      },
      {
        "duration": 345,
        "start_time": "2022-05-16T16:37:00.208Z"
      },
      {
        "duration": 173,
        "start_time": "2022-05-16T16:37:00.555Z"
      },
      {
        "duration": 8,
        "start_time": "2022-05-16T16:37:00.730Z"
      },
      {
        "duration": 60,
        "start_time": "2022-05-16T16:37:00.741Z"
      },
      {
        "duration": 337,
        "start_time": "2022-05-16T16:37:00.803Z"
      },
      {
        "duration": 681,
        "start_time": "2022-05-16T16:37:01.142Z"
      },
      {
        "duration": 222,
        "start_time": "2022-05-16T16:37:01.825Z"
      },
      {
        "duration": 124,
        "start_time": "2022-05-16T16:37:02.049Z"
      },
      {
        "duration": 136,
        "start_time": "2022-05-16T16:37:02.175Z"
      },
      {
        "duration": 212,
        "start_time": "2022-05-16T16:37:02.313Z"
      },
      {
        "duration": 5,
        "start_time": "2022-05-16T16:37:02.527Z"
      },
      {
        "duration": 61,
        "start_time": "2022-05-16T16:37:02.534Z"
      },
      {
        "duration": 19,
        "start_time": "2022-05-16T16:37:02.597Z"
      },
      {
        "duration": 22,
        "start_time": "2022-05-16T16:37:02.617Z"
      },
      {
        "duration": 40,
        "start_time": "2022-05-16T16:37:02.641Z"
      },
      {
        "duration": 6,
        "start_time": "2022-05-16T16:37:02.683Z"
      },
      {
        "duration": 24,
        "start_time": "2022-05-16T16:37:02.691Z"
      },
      {
        "duration": 275,
        "start_time": "2022-05-16T16:37:02.716Z"
      },
      {
        "duration": 211,
        "start_time": "2022-05-16T16:37:02.993Z"
      },
      {
        "duration": 189,
        "start_time": "2022-05-16T16:37:03.206Z"
      },
      {
        "duration": 198,
        "start_time": "2022-05-16T16:37:03.397Z"
      },
      {
        "duration": 1019,
        "start_time": "2022-05-16T16:37:03.597Z"
      },
      {
        "duration": 703,
        "start_time": "2022-05-16T16:37:04.618Z"
      },
      {
        "duration": 262,
        "start_time": "2022-05-16T16:37:05.323Z"
      },
      {
        "duration": 36,
        "start_time": "2022-05-16T16:40:50.206Z"
      },
      {
        "duration": 173,
        "start_time": "2022-05-16T17:07:38.039Z"
      },
      {
        "duration": 79,
        "start_time": "2022-05-16T17:12:31.555Z"
      },
      {
        "duration": 383,
        "start_time": "2022-05-16T17:12:40.164Z"
      },
      {
        "duration": 184,
        "start_time": "2022-05-16T17:12:40.549Z"
      },
      {
        "duration": 9,
        "start_time": "2022-05-16T17:12:40.734Z"
      },
      {
        "duration": 56,
        "start_time": "2022-05-16T17:12:40.746Z"
      },
      {
        "duration": 91,
        "start_time": "2022-05-16T17:12:40.804Z"
      },
      {
        "duration": 0,
        "start_time": "2022-05-16T17:12:40.897Z"
      },
      {
        "duration": 0,
        "start_time": "2022-05-16T17:12:40.898Z"
      },
      {
        "duration": 0,
        "start_time": "2022-05-16T17:12:40.899Z"
      },
      {
        "duration": 0,
        "start_time": "2022-05-16T17:12:40.900Z"
      },
      {
        "duration": 0,
        "start_time": "2022-05-16T17:12:40.901Z"
      },
      {
        "duration": 0,
        "start_time": "2022-05-16T17:12:40.903Z"
      },
      {
        "duration": 0,
        "start_time": "2022-05-16T17:12:40.903Z"
      },
      {
        "duration": 0,
        "start_time": "2022-05-16T17:12:40.904Z"
      },
      {
        "duration": 0,
        "start_time": "2022-05-16T17:12:40.905Z"
      },
      {
        "duration": 0,
        "start_time": "2022-05-16T17:12:40.906Z"
      },
      {
        "duration": 0,
        "start_time": "2022-05-16T17:12:40.907Z"
      },
      {
        "duration": 0,
        "start_time": "2022-05-16T17:12:40.908Z"
      },
      {
        "duration": 0,
        "start_time": "2022-05-16T17:12:40.909Z"
      },
      {
        "duration": 0,
        "start_time": "2022-05-16T17:12:40.910Z"
      },
      {
        "duration": 0,
        "start_time": "2022-05-16T17:12:40.911Z"
      },
      {
        "duration": 0,
        "start_time": "2022-05-16T17:12:40.912Z"
      },
      {
        "duration": 0,
        "start_time": "2022-05-16T17:12:40.913Z"
      },
      {
        "duration": 0,
        "start_time": "2022-05-16T17:12:40.914Z"
      },
      {
        "duration": 0,
        "start_time": "2022-05-16T17:12:40.915Z"
      },
      {
        "duration": 680,
        "start_time": "2022-05-16T17:13:31.713Z"
      },
      {
        "duration": 686,
        "start_time": "2022-05-16T17:14:41.594Z"
      },
      {
        "duration": 383,
        "start_time": "2022-05-16T17:14:52.477Z"
      },
      {
        "duration": 179,
        "start_time": "2022-05-16T17:14:52.862Z"
      },
      {
        "duration": 7,
        "start_time": "2022-05-16T17:14:53.043Z"
      },
      {
        "duration": 51,
        "start_time": "2022-05-16T17:14:53.052Z"
      },
      {
        "duration": 698,
        "start_time": "2022-05-16T17:14:53.105Z"
      },
      {
        "duration": 0,
        "start_time": "2022-05-16T17:14:53.804Z"
      },
      {
        "duration": 0,
        "start_time": "2022-05-16T17:14:53.805Z"
      },
      {
        "duration": 0,
        "start_time": "2022-05-16T17:14:53.806Z"
      },
      {
        "duration": 0,
        "start_time": "2022-05-16T17:14:53.808Z"
      },
      {
        "duration": 0,
        "start_time": "2022-05-16T17:14:53.809Z"
      },
      {
        "duration": 0,
        "start_time": "2022-05-16T17:14:53.810Z"
      },
      {
        "duration": 0,
        "start_time": "2022-05-16T17:14:53.811Z"
      },
      {
        "duration": 0,
        "start_time": "2022-05-16T17:14:53.812Z"
      },
      {
        "duration": 0,
        "start_time": "2022-05-16T17:14:53.813Z"
      },
      {
        "duration": 0,
        "start_time": "2022-05-16T17:14:53.814Z"
      },
      {
        "duration": 0,
        "start_time": "2022-05-16T17:14:53.815Z"
      },
      {
        "duration": 0,
        "start_time": "2022-05-16T17:14:53.816Z"
      },
      {
        "duration": 0,
        "start_time": "2022-05-16T17:14:53.817Z"
      },
      {
        "duration": 0,
        "start_time": "2022-05-16T17:14:53.818Z"
      },
      {
        "duration": 0,
        "start_time": "2022-05-16T17:14:53.819Z"
      },
      {
        "duration": 0,
        "start_time": "2022-05-16T17:14:53.820Z"
      },
      {
        "duration": 0,
        "start_time": "2022-05-16T17:14:53.821Z"
      },
      {
        "duration": 0,
        "start_time": "2022-05-16T17:14:53.822Z"
      },
      {
        "duration": 0,
        "start_time": "2022-05-16T17:14:53.823Z"
      },
      {
        "duration": 331,
        "start_time": "2022-05-16T17:15:24.091Z"
      },
      {
        "duration": 484,
        "start_time": "2022-05-16T17:26:45.199Z"
      },
      {
        "duration": 203,
        "start_time": "2022-05-16T17:26:52.649Z"
      },
      {
        "duration": 113,
        "start_time": "2022-05-16T17:27:08.117Z"
      },
      {
        "duration": 126,
        "start_time": "2022-05-16T17:27:13.286Z"
      },
      {
        "duration": 206,
        "start_time": "2022-05-16T17:28:19.765Z"
      },
      {
        "duration": 5,
        "start_time": "2022-05-16T17:28:33.891Z"
      },
      {
        "duration": 20,
        "start_time": "2022-05-16T17:28:49.017Z"
      },
      {
        "duration": 7,
        "start_time": "2022-05-16T17:29:00.875Z"
      },
      {
        "duration": 14,
        "start_time": "2022-05-16T17:29:11.333Z"
      },
      {
        "duration": 29,
        "start_time": "2022-05-16T17:29:47.825Z"
      },
      {
        "duration": 38,
        "start_time": "2022-05-16T17:30:19.687Z"
      },
      {
        "duration": 48,
        "start_time": "2022-05-16T17:31:15.969Z"
      },
      {
        "duration": 50,
        "start_time": "2022-05-16T17:33:48.597Z"
      },
      {
        "duration": 48,
        "start_time": "2022-05-16T17:34:26.124Z"
      },
      {
        "duration": 20,
        "start_time": "2022-05-16T17:35:12.632Z"
      },
      {
        "duration": 31,
        "start_time": "2022-05-16T17:36:32.472Z"
      },
      {
        "duration": 28,
        "start_time": "2022-05-16T17:36:51.481Z"
      },
      {
        "duration": 27,
        "start_time": "2022-05-16T17:37:19.708Z"
      },
      {
        "duration": 29,
        "start_time": "2022-05-16T17:38:06.228Z"
      },
      {
        "duration": 23,
        "start_time": "2022-05-16T17:39:32.099Z"
      },
      {
        "duration": 29,
        "start_time": "2022-05-16T17:40:04.318Z"
      },
      {
        "duration": 28,
        "start_time": "2022-05-16T17:40:18.459Z"
      },
      {
        "duration": 30,
        "start_time": "2022-05-16T17:40:55.400Z"
      },
      {
        "duration": 30,
        "start_time": "2022-05-16T17:41:37.228Z"
      },
      {
        "duration": 28,
        "start_time": "2022-05-16T17:42:46.889Z"
      },
      {
        "duration": 150,
        "start_time": "2022-05-16T17:44:22.733Z"
      },
      {
        "duration": 137,
        "start_time": "2022-05-16T17:45:31.763Z"
      },
      {
        "duration": 277,
        "start_time": "2022-05-16T17:45:53.878Z"
      },
      {
        "duration": 129,
        "start_time": "2022-05-16T17:46:11.854Z"
      },
      {
        "duration": 159,
        "start_time": "2022-05-16T17:47:34.329Z"
      },
      {
        "duration": 152,
        "start_time": "2022-05-16T17:48:08.534Z"
      },
      {
        "duration": 34,
        "start_time": "2022-05-16T17:48:51.412Z"
      },
      {
        "duration": 164,
        "start_time": "2022-05-16T17:49:05.264Z"
      },
      {
        "duration": 121,
        "start_time": "2022-05-16T17:49:37.814Z"
      },
      {
        "duration": 29,
        "start_time": "2022-05-16T17:51:25.946Z"
      },
      {
        "duration": 1818,
        "start_time": "2022-05-16T17:53:32.066Z"
      },
      {
        "duration": 29,
        "start_time": "2022-05-16T17:53:57.957Z"
      },
      {
        "duration": 1617,
        "start_time": "2022-05-16T17:54:07.475Z"
      },
      {
        "duration": 7,
        "start_time": "2022-05-16T17:55:56.815Z"
      },
      {
        "duration": 160,
        "start_time": "2022-05-16T17:56:25.841Z"
      },
      {
        "duration": 164,
        "start_time": "2022-05-16T17:56:42.110Z"
      },
      {
        "duration": 24,
        "start_time": "2022-05-16T18:00:12.333Z"
      },
      {
        "duration": 25,
        "start_time": "2022-05-16T18:01:23.605Z"
      },
      {
        "duration": 23,
        "start_time": "2022-05-16T18:02:34.828Z"
      },
      {
        "duration": 7,
        "start_time": "2022-05-16T18:04:01.912Z"
      },
      {
        "duration": 30,
        "start_time": "2022-05-16T18:04:54.727Z"
      },
      {
        "duration": 23,
        "start_time": "2022-05-16T18:05:14.200Z"
      },
      {
        "duration": 1639,
        "start_time": "2022-05-16T18:09:52.679Z"
      },
      {
        "duration": 1638,
        "start_time": "2022-05-16T18:11:23.429Z"
      },
      {
        "duration": 36,
        "start_time": "2022-05-16T18:24:33.174Z"
      },
      {
        "duration": 26,
        "start_time": "2022-05-16T18:24:48.473Z"
      },
      {
        "duration": 164,
        "start_time": "2022-05-16T18:27:18.860Z"
      },
      {
        "duration": 27,
        "start_time": "2022-05-16T18:40:32.375Z"
      },
      {
        "duration": 159,
        "start_time": "2022-05-16T18:43:06.509Z"
      },
      {
        "duration": 25,
        "start_time": "2022-05-16T18:47:11.135Z"
      },
      {
        "duration": 189,
        "start_time": "2022-05-16T18:47:48.793Z"
      },
      {
        "duration": 2793,
        "start_time": "2022-05-16T18:48:04.546Z"
      },
      {
        "duration": 3056,
        "start_time": "2022-05-16T18:48:35.017Z"
      },
      {
        "duration": 250,
        "start_time": "2022-05-16T18:48:47.338Z"
      },
      {
        "duration": 474,
        "start_time": "2022-05-16T18:49:26.682Z"
      },
      {
        "duration": 279,
        "start_time": "2022-05-16T18:49:27.159Z"
      },
      {
        "duration": 10,
        "start_time": "2022-05-16T18:49:27.440Z"
      },
      {
        "duration": 65,
        "start_time": "2022-05-16T18:49:27.453Z"
      },
      {
        "duration": 549,
        "start_time": "2022-05-16T18:49:27.520Z"
      },
      {
        "duration": 644,
        "start_time": "2022-05-16T18:49:28.071Z"
      },
      {
        "duration": 471,
        "start_time": "2022-05-16T18:49:28.717Z"
      },
      {
        "duration": 209,
        "start_time": "2022-05-16T18:49:29.190Z"
      },
      {
        "duration": 194,
        "start_time": "2022-05-16T18:49:29.401Z"
      },
      {
        "duration": 222,
        "start_time": "2022-05-16T18:49:29.598Z"
      },
      {
        "duration": 191,
        "start_time": "2022-05-16T18:49:29.821Z"
      },
      {
        "duration": 393,
        "start_time": "2022-05-16T18:50:25.212Z"
      },
      {
        "duration": 236,
        "start_time": "2022-05-16T18:50:25.608Z"
      },
      {
        "duration": 24,
        "start_time": "2022-05-16T18:50:25.846Z"
      },
      {
        "duration": 44,
        "start_time": "2022-05-16T18:50:25.871Z"
      },
      {
        "duration": 347,
        "start_time": "2022-05-16T18:50:25.918Z"
      },
      {
        "duration": 624,
        "start_time": "2022-05-16T18:50:26.266Z"
      },
      {
        "duration": 272,
        "start_time": "2022-05-16T18:50:26.892Z"
      },
      {
        "duration": 129,
        "start_time": "2022-05-16T18:50:27.166Z"
      },
      {
        "duration": 144,
        "start_time": "2022-05-16T18:50:27.297Z"
      },
      {
        "duration": 211,
        "start_time": "2022-05-16T18:50:27.443Z"
      },
      {
        "duration": 177,
        "start_time": "2022-05-16T18:50:27.656Z"
      },
      {
        "duration": 40,
        "start_time": "2022-05-16T18:50:27.834Z"
      },
      {
        "duration": 9,
        "start_time": "2022-05-16T18:50:27.876Z"
      },
      {
        "duration": 3096,
        "start_time": "2022-05-16T18:50:27.889Z"
      },
      {
        "duration": 30,
        "start_time": "2022-05-16T18:50:30.987Z"
      },
      {
        "duration": 48,
        "start_time": "2022-05-16T18:50:31.019Z"
      },
      {
        "duration": 37,
        "start_time": "2022-05-16T18:50:31.069Z"
      },
      {
        "duration": 42,
        "start_time": "2022-05-16T18:50:31.108Z"
      },
      {
        "duration": 19,
        "start_time": "2022-05-16T18:50:31.165Z"
      },
      {
        "duration": 23,
        "start_time": "2022-05-16T18:50:31.185Z"
      },
      {
        "duration": 280,
        "start_time": "2022-05-16T18:50:31.209Z"
      },
      {
        "duration": 254,
        "start_time": "2022-05-16T18:50:31.491Z"
      },
      {
        "duration": 142,
        "start_time": "2022-05-16T18:50:31.747Z"
      },
      {
        "duration": 355,
        "start_time": "2022-05-16T18:50:31.891Z"
      },
      {
        "duration": 1739,
        "start_time": "2022-05-16T18:50:32.248Z"
      },
      {
        "duration": 1127,
        "start_time": "2022-05-16T18:50:33.990Z"
      },
      {
        "duration": 448,
        "start_time": "2022-05-16T18:50:35.118Z"
      },
      {
        "duration": 1817,
        "start_time": "2022-05-16T18:59:14.904Z"
      },
      {
        "duration": 22,
        "start_time": "2022-05-16T19:00:52.703Z"
      },
      {
        "duration": 7,
        "start_time": "2022-05-16T19:12:17.984Z"
      },
      {
        "duration": 96,
        "start_time": "2022-05-16T19:12:57.898Z"
      },
      {
        "duration": 33,
        "start_time": "2022-05-16T19:13:10.838Z"
      },
      {
        "duration": 500,
        "start_time": "2022-05-16T19:15:09.976Z"
      },
      {
        "duration": 1118,
        "start_time": "2022-05-16T19:16:27.646Z"
      },
      {
        "duration": 394,
        "start_time": "2022-05-16T19:17:20.735Z"
      },
      {
        "duration": 647,
        "start_time": "2022-05-16T19:17:56.093Z"
      },
      {
        "duration": 46,
        "start_time": "2022-05-17T14:33:53.172Z"
      },
      {
        "duration": 7,
        "start_time": "2022-05-17T14:33:58.202Z"
      },
      {
        "duration": 388,
        "start_time": "2022-05-17T14:34:06.770Z"
      },
      {
        "duration": 173,
        "start_time": "2022-05-17T14:34:07.161Z"
      },
      {
        "duration": 8,
        "start_time": "2022-05-17T14:34:07.336Z"
      },
      {
        "duration": 56,
        "start_time": "2022-05-17T14:34:07.346Z"
      },
      {
        "duration": 327,
        "start_time": "2022-05-17T14:34:07.403Z"
      },
      {
        "duration": 627,
        "start_time": "2022-05-17T14:34:07.731Z"
      },
      {
        "duration": 214,
        "start_time": "2022-05-17T14:34:08.361Z"
      },
      {
        "duration": 129,
        "start_time": "2022-05-17T14:34:08.578Z"
      },
      {
        "duration": 134,
        "start_time": "2022-05-17T14:34:08.709Z"
      },
      {
        "duration": 236,
        "start_time": "2022-05-17T14:34:08.847Z"
      },
      {
        "duration": 178,
        "start_time": "2022-05-17T14:34:09.085Z"
      },
      {
        "duration": 28,
        "start_time": "2022-05-17T14:34:09.265Z"
      },
      {
        "duration": 6,
        "start_time": "2022-05-17T14:34:09.295Z"
      },
      {
        "duration": 1760,
        "start_time": "2022-05-17T14:34:09.303Z"
      },
      {
        "duration": 24,
        "start_time": "2022-05-17T14:34:11.064Z"
      },
      {
        "duration": 28,
        "start_time": "2022-05-17T14:34:11.089Z"
      },
      {
        "duration": 63,
        "start_time": "2022-05-17T14:34:11.119Z"
      },
      {
        "duration": 30,
        "start_time": "2022-05-17T14:34:11.183Z"
      },
      {
        "duration": 7,
        "start_time": "2022-05-17T14:34:11.215Z"
      },
      {
        "duration": 61,
        "start_time": "2022-05-17T14:34:11.224Z"
      },
      {
        "duration": 265,
        "start_time": "2022-05-17T14:34:11.287Z"
      },
      {
        "duration": 273,
        "start_time": "2022-05-17T14:34:11.554Z"
      },
      {
        "duration": 230,
        "start_time": "2022-05-17T14:34:11.828Z"
      },
      {
        "duration": 134,
        "start_time": "2022-05-17T14:34:12.061Z"
      },
      {
        "duration": 299,
        "start_time": "2022-05-17T14:34:12.196Z"
      },
      {
        "duration": 1023,
        "start_time": "2022-05-17T14:34:12.497Z"
      },
      {
        "duration": 748,
        "start_time": "2022-05-17T14:34:13.521Z"
      },
      {
        "duration": 473,
        "start_time": "2022-05-17T14:34:14.272Z"
      },
      {
        "duration": 960,
        "start_time": "2022-05-17T14:39:13.147Z"
      },
      {
        "duration": 1269,
        "start_time": "2022-05-17T14:48:29.703Z"
      },
      {
        "duration": 722,
        "start_time": "2022-05-17T14:52:37.450Z"
      },
      {
        "duration": 286,
        "start_time": "2022-05-17T14:54:28.730Z"
      },
      {
        "duration": 432,
        "start_time": "2022-05-17T14:54:38.330Z"
      },
      {
        "duration": 195,
        "start_time": "2022-05-17T14:54:53.399Z"
      },
      {
        "duration": 220,
        "start_time": "2022-05-17T14:55:12.156Z"
      },
      {
        "duration": 200,
        "start_time": "2022-05-17T14:55:43.706Z"
      },
      {
        "duration": 198,
        "start_time": "2022-05-17T14:55:50.366Z"
      },
      {
        "duration": 191,
        "start_time": "2022-05-17T14:56:12.785Z"
      },
      {
        "duration": 197,
        "start_time": "2022-05-17T14:56:17.481Z"
      },
      {
        "duration": 343,
        "start_time": "2022-05-17T14:56:23.624Z"
      },
      {
        "duration": 210,
        "start_time": "2022-05-17T14:56:31.357Z"
      },
      {
        "duration": 200,
        "start_time": "2022-05-17T14:57:13.987Z"
      },
      {
        "duration": 201,
        "start_time": "2022-05-17T14:57:16.063Z"
      },
      {
        "duration": 144,
        "start_time": "2022-05-17T14:57:59.097Z"
      },
      {
        "duration": 27,
        "start_time": "2022-05-17T15:02:44.321Z"
      },
      {
        "duration": 72,
        "start_time": "2022-05-17T15:03:04.006Z"
      },
      {
        "duration": 239,
        "start_time": "2022-05-17T15:03:55.124Z"
      },
      {
        "duration": 72,
        "start_time": "2022-05-17T15:04:11.350Z"
      },
      {
        "duration": 251,
        "start_time": "2022-05-17T15:04:35.247Z"
      },
      {
        "duration": 201,
        "start_time": "2022-05-17T15:25:33.284Z"
      },
      {
        "duration": 61,
        "start_time": "2022-05-17T15:25:53.627Z"
      },
      {
        "duration": 857,
        "start_time": "2022-05-17T15:33:08.583Z"
      },
      {
        "duration": 106,
        "start_time": "2022-05-17T15:34:07.007Z"
      },
      {
        "duration": 411,
        "start_time": "2022-05-17T15:34:35.034Z"
      },
      {
        "duration": 173,
        "start_time": "2022-05-17T15:34:35.447Z"
      },
      {
        "duration": 7,
        "start_time": "2022-05-17T15:34:35.621Z"
      },
      {
        "duration": 54,
        "start_time": "2022-05-17T15:34:35.630Z"
      },
      {
        "duration": 325,
        "start_time": "2022-05-17T15:34:35.685Z"
      },
      {
        "duration": 422,
        "start_time": "2022-05-17T15:34:36.011Z"
      },
      {
        "duration": 266,
        "start_time": "2022-05-17T15:34:36.435Z"
      },
      {
        "duration": 127,
        "start_time": "2022-05-17T15:34:36.702Z"
      },
      {
        "duration": 140,
        "start_time": "2022-05-17T15:34:36.830Z"
      },
      {
        "duration": 212,
        "start_time": "2022-05-17T15:34:36.972Z"
      },
      {
        "duration": 188,
        "start_time": "2022-05-17T15:34:37.185Z"
      },
      {
        "duration": 28,
        "start_time": "2022-05-17T15:34:37.374Z"
      },
      {
        "duration": 7,
        "start_time": "2022-05-17T15:34:37.404Z"
      },
      {
        "duration": 1747,
        "start_time": "2022-05-17T15:34:37.412Z"
      },
      {
        "duration": 23,
        "start_time": "2022-05-17T15:34:39.160Z"
      },
      {
        "duration": 26,
        "start_time": "2022-05-17T15:34:39.185Z"
      },
      {
        "duration": 56,
        "start_time": "2022-05-17T15:34:39.212Z"
      },
      {
        "duration": 29,
        "start_time": "2022-05-17T15:34:39.269Z"
      },
      {
        "duration": 7,
        "start_time": "2022-05-17T15:34:39.299Z"
      },
      {
        "duration": 101,
        "start_time": "2022-05-17T15:34:39.308Z"
      },
      {
        "duration": 25,
        "start_time": "2022-05-17T15:34:39.411Z"
      },
      {
        "duration": 86,
        "start_time": "2022-05-17T15:34:39.437Z"
      },
      {
        "duration": 260,
        "start_time": "2022-05-17T15:34:39.525Z"
      },
      {
        "duration": 268,
        "start_time": "2022-05-17T15:34:39.787Z"
      },
      {
        "duration": 67,
        "start_time": "2022-05-17T15:34:40.056Z"
      },
      {
        "duration": 218,
        "start_time": "2022-05-17T15:34:40.124Z"
      },
      {
        "duration": 133,
        "start_time": "2022-05-17T15:34:40.344Z"
      },
      {
        "duration": 201,
        "start_time": "2022-05-17T15:34:40.480Z"
      },
      {
        "duration": 255,
        "start_time": "2022-05-17T15:34:40.683Z"
      },
      {
        "duration": 985,
        "start_time": "2022-05-17T15:34:40.940Z"
      },
      {
        "duration": 1031,
        "start_time": "2022-05-17T15:34:41.927Z"
      },
      {
        "duration": 652,
        "start_time": "2022-05-17T15:34:42.960Z"
      },
      {
        "duration": 561,
        "start_time": "2022-05-17T15:34:44.347Z"
      },
      {
        "duration": 71,
        "start_time": "2022-05-17T17:25:19.881Z"
      },
      {
        "duration": 533,
        "start_time": "2022-05-17T17:25:28.486Z"
      },
      {
        "duration": 272,
        "start_time": "2022-05-17T17:25:29.022Z"
      },
      {
        "duration": 23,
        "start_time": "2022-05-17T17:25:29.297Z"
      },
      {
        "duration": 95,
        "start_time": "2022-05-17T17:25:29.324Z"
      },
      {
        "duration": 574,
        "start_time": "2022-05-17T17:25:29.422Z"
      },
      {
        "duration": 1063,
        "start_time": "2022-05-17T17:25:29.999Z"
      },
      {
        "duration": 412,
        "start_time": "2022-05-17T17:25:31.065Z"
      },
      {
        "duration": 228,
        "start_time": "2022-05-17T17:25:31.479Z"
      },
      {
        "duration": 242,
        "start_time": "2022-05-17T17:25:31.710Z"
      },
      {
        "duration": 433,
        "start_time": "2022-05-17T17:25:31.956Z"
      },
      {
        "duration": 300,
        "start_time": "2022-05-17T17:25:32.391Z"
      },
      {
        "duration": 53,
        "start_time": "2022-05-17T17:25:32.693Z"
      },
      {
        "duration": 10,
        "start_time": "2022-05-17T17:25:32.748Z"
      },
      {
        "duration": 3437,
        "start_time": "2022-05-17T17:25:32.760Z"
      },
      {
        "duration": 40,
        "start_time": "2022-05-17T17:25:36.200Z"
      },
      {
        "duration": 83,
        "start_time": "2022-05-17T17:25:36.243Z"
      },
      {
        "duration": 84,
        "start_time": "2022-05-17T17:25:36.329Z"
      },
      {
        "duration": 67,
        "start_time": "2022-05-17T17:25:36.417Z"
      },
      {
        "duration": 33,
        "start_time": "2022-05-17T17:25:36.487Z"
      },
      {
        "duration": 139,
        "start_time": "2022-05-17T17:25:36.522Z"
      },
      {
        "duration": 59,
        "start_time": "2022-05-17T17:25:36.664Z"
      },
      {
        "duration": 137,
        "start_time": "2022-05-17T17:25:36.726Z"
      },
      {
        "duration": 456,
        "start_time": "2022-05-17T17:25:36.866Z"
      },
      {
        "duration": 455,
        "start_time": "2022-05-17T17:25:37.325Z"
      },
      {
        "duration": 127,
        "start_time": "2022-05-17T17:25:37.783Z"
      },
      {
        "duration": 402,
        "start_time": "2022-05-17T17:25:37.914Z"
      },
      {
        "duration": 223,
        "start_time": "2022-05-17T17:25:38.318Z"
      },
      {
        "duration": 473,
        "start_time": "2022-05-17T17:25:38.545Z"
      },
      {
        "duration": 291,
        "start_time": "2022-05-17T17:25:39.021Z"
      },
      {
        "duration": 1788,
        "start_time": "2022-05-17T17:25:39.315Z"
      },
      {
        "duration": 1835,
        "start_time": "2022-05-17T17:25:41.109Z"
      },
      {
        "duration": 1159,
        "start_time": "2022-05-17T17:25:42.946Z"
      },
      {
        "duration": 1170,
        "start_time": "2022-05-17T17:25:44.107Z"
      },
      {
        "duration": 966,
        "start_time": "2022-05-17T17:25:45.279Z"
      },
      {
        "duration": 229,
        "start_time": "2022-05-17T17:26:30.844Z"
      },
      {
        "duration": 20,
        "start_time": "2022-05-17T17:27:13.447Z"
      },
      {
        "duration": 14,
        "start_time": "2022-05-17T17:28:27.271Z"
      },
      {
        "duration": 414,
        "start_time": "2022-05-17T17:28:47.291Z"
      },
      {
        "duration": 241,
        "start_time": "2022-05-17T17:29:00.673Z"
      },
      {
        "duration": 29,
        "start_time": "2022-05-17T17:29:44.136Z"
      },
      {
        "duration": 30,
        "start_time": "2022-05-17T17:30:25.518Z"
      },
      {
        "duration": 59,
        "start_time": "2022-05-17T17:32:00.019Z"
      },
      {
        "duration": 380,
        "start_time": "2022-05-17T17:33:25.607Z"
      },
      {
        "duration": 371,
        "start_time": "2022-05-17T17:39:22.182Z"
      },
      {
        "duration": 480,
        "start_time": "2022-05-17T17:42:32.171Z"
      },
      {
        "duration": 362,
        "start_time": "2022-05-17T17:53:19.827Z"
      },
      {
        "duration": 365,
        "start_time": "2022-05-17T17:53:38.170Z"
      },
      {
        "duration": 286,
        "start_time": "2022-05-17T17:53:47.079Z"
      },
      {
        "duration": 432,
        "start_time": "2022-05-17T17:53:58.335Z"
      },
      {
        "duration": 467,
        "start_time": "2022-05-17T17:54:09.110Z"
      },
      {
        "duration": 274,
        "start_time": "2022-05-17T17:54:15.776Z"
      },
      {
        "duration": 239,
        "start_time": "2022-05-17T17:54:21.501Z"
      },
      {
        "duration": 223,
        "start_time": "2022-05-17T17:54:33.956Z"
      },
      {
        "duration": 207,
        "start_time": "2022-05-17T17:54:40.172Z"
      },
      {
        "duration": 193,
        "start_time": "2022-05-17T17:55:04.929Z"
      },
      {
        "duration": 278,
        "start_time": "2022-05-17T17:55:17.409Z"
      },
      {
        "duration": 247,
        "start_time": "2022-05-17T17:55:25.267Z"
      },
      {
        "duration": 224,
        "start_time": "2022-05-17T17:55:51.836Z"
      },
      {
        "duration": 239,
        "start_time": "2022-05-17T17:56:57.021Z"
      },
      {
        "duration": 212,
        "start_time": "2022-05-17T17:59:26.997Z"
      },
      {
        "duration": 209,
        "start_time": "2022-05-17T17:59:50.080Z"
      },
      {
        "duration": 261,
        "start_time": "2022-05-17T18:00:14.276Z"
      },
      {
        "duration": 239,
        "start_time": "2022-05-17T18:00:39.744Z"
      },
      {
        "duration": 254,
        "start_time": "2022-05-17T18:00:59.076Z"
      },
      {
        "duration": 120,
        "start_time": "2022-05-17T18:05:38.570Z"
      },
      {
        "duration": 122,
        "start_time": "2022-05-17T18:06:20.903Z"
      },
      {
        "duration": 354,
        "start_time": "2022-05-23T11:32:15.430Z"
      }
    ],
    "kernelspec": {
      "name": "python",
      "display_name": "Python (Pyodide)",
      "language": "python"
    },
    "language_info": {
      "codemirror_mode": {
        "name": "python",
        "version": 3
      },
      "file_extension": ".py",
      "mimetype": "text/x-python",
      "name": "python",
      "nbconvert_exporter": "python",
      "pygments_lexer": "ipython3",
      "version": "3.8"
    },
    "toc": {
      "base_numbering": 1,
      "nav_menu": {},
      "number_sections": true,
      "sideBar": true,
      "skip_h1_title": true,
      "title_cell": "Содержание",
      "title_sidebar": "Contents",
      "toc_cell": true,
      "toc_position": {
        "height": "calc(100% - 180px)",
        "left": "10px",
        "top": "150px",
        "width": "165px"
      },
      "toc_section_display": true,
      "toc_window_display": false
    }
  },
  "nbformat_minor": 4,
  "nbformat": 4,
  "cells": [
    {
      "cell_type": "markdown",
      "source": "<h1>Содержание<span class=\"tocSkip\"></span></h1>\n<div class=\"toc\"><ul class=\"toc-item\"><li><span><a href=\"#Изучение-данных-из-файла\" data-toc-modified-id=\"Изучение-данных-из-файла-1\"><span class=\"toc-item-num\">1&nbsp;&nbsp;</span>Изучение данных из файла</a></span><ul class=\"toc-item\"><li><span><a href=\"#Вывод\" data-toc-modified-id=\"Вывод-1.1\"><span class=\"toc-item-num\">1.1&nbsp;&nbsp;</span>Вывод</a></span></li></ul></li><li><span><a href=\"#Предобработка-данных\" data-toc-modified-id=\"Предобработка-данных-2\"><span class=\"toc-item-num\">2&nbsp;&nbsp;</span>Предобработка данных</a></span><ul class=\"toc-item\"><li><span><a href=\"#Поработали-с-пропусками.\" data-toc-modified-id=\"Поработали-с-пропусками.-2.1\"><span class=\"toc-item-num\">2.1&nbsp;&nbsp;</span>Поработали с пропусками.</a></span></li></ul></li><li><span><a href=\"#Расчёты-и-добавление-результатов-в-таблицу\" data-toc-modified-id=\"Расчёты-и-добавление-результатов-в-таблицу-3\"><span class=\"toc-item-num\">3&nbsp;&nbsp;</span>Расчёты и добавление результатов в таблицу</a></span><ul class=\"toc-item\"><li><span><a href=\"#Добавили-новые-столбцы-и-значения-в-датафрейм:\" data-toc-modified-id=\"Добавили-новые-столбцы-и-значения-в-датафрейм:-3.1\"><span class=\"toc-item-num\">3.1&nbsp;&nbsp;</span>Добавили новые столбцы и значения в датафрейм:</a></span></li></ul></li><li><span><a href=\"#Исследовательский-анализ-данных\" data-toc-modified-id=\"Исследовательский-анализ-данных-4\"><span class=\"toc-item-num\">4&nbsp;&nbsp;</span>Исследовательский анализ данных</a></span><ul class=\"toc-item\"><li><span><a href=\"#Большинство-квартир-имеют-общую-площать-в-диапазоне-от-30-до-100-кв.-метров,-что-ожидаемо.\" data-toc-modified-id=\"Большинство-квартир-имеют-общую-площать-в-диапазоне-от-30-до-100-кв.-метров,-что-ожидаемо.-4.1\"><span class=\"toc-item-num\">4.1&nbsp;&nbsp;</span>Большинство квартир имеют общую площать в диапазоне от 30 до 100 кв. метров, что ожидаемо.</a></span></li><li><span><a href=\"#Большая-часть-квартир-продавалась-в-диапазоне-от-1-до-10-млн.\" data-toc-modified-id=\"Большая-часть-квартир-продавалась-в-диапазоне-от-1-до-10-млн.-4.2\"><span class=\"toc-item-num\">4.2&nbsp;&nbsp;</span>Большая часть квартир продавалась в диапазоне от 1 до 10 млн.</a></span></li><li><span><a href=\"#Большинство-объектов-имеют-от-1-до-4-х-комнат,-что-тоже-логично.\" data-toc-modified-id=\"Большинство-объектов-имеют-от-1-до-4-х-комнат,-что-тоже-логично.-4.3\"><span class=\"toc-item-num\">4.3&nbsp;&nbsp;</span>Большинство объектов имеют от 1 до 4-х комнат, что тоже логично.</a></span></li><li><span><a href=\"#Высота-потолков-в-большинстве-объектов-лежит-в-диапазоне-от-2,5м-до-3м,-максимальное-количество-объявлений-имеют-медианную-высоту-2,65м.\" data-toc-modified-id=\"Высота-потолков-в-большинстве-объектов-лежит-в-диапазоне-от-2,5м-до-3м,-максимальное-количество-объявлений-имеют-медианную-высоту-2,65м.-4.4\"><span class=\"toc-item-num\">4.4&nbsp;&nbsp;</span>Высота потолков в большинстве объектов лежит в диапазоне от 2,5м до 3м, максимальное количество объявлений имеют медианную высоту 2,65м.</a></span></li><li><span><a href=\"#Медианное-значение-составляет-95-дней,-можно-говорить,-что-это-среднее-время-продажи-квартиры-без-учёта-выбросов.\" data-toc-modified-id=\"Медианное-значение-составляет-95-дней,-можно-говорить,-что-это-среднее-время-продажи-квартиры-без-учёта-выбросов.-4.5\"><span class=\"toc-item-num\">4.5&nbsp;&nbsp;</span>Медианное значение составляет 95 дней, можно говорить, что это среднее время продажи квартиры без учёта выбросов.</a></span></li><li><span><a href=\"#Видно,-что:\" data-toc-modified-id=\"Видно,-что:-4.6\"><span class=\"toc-item-num\">4.6&nbsp;&nbsp;</span>Видно, что:</a></span></li><li><span><a href=\"#Стоимость-квадратного-метра-не-зависит-от-количества-комнат,-в-отличие-от-общей-цены-квартиры.\" data-toc-modified-id=\"Стоимость-квадратного-метра-не-зависит-от-количества-комнат,-в-отличие-от-общей-цены-квартиры.-4.7\"><span class=\"toc-item-num\">4.7&nbsp;&nbsp;</span>Стоимость квадратного метра не зависит от количества комнат, в отличие от общей цены квартиры.</a></span></li><li><span><a href=\"#Есть-небольшая-обратная-корреляция-между-стоимостью-квадратного-метра-и-удалённостью-от-центра-города,-т.е.-чем-ближе-к-центру,-тем-цена-выше,-что-логично.\" data-toc-modified-id=\"Есть-небольшая-обратная-корреляция-между-стоимостью-квадратного-метра-и-удалённостью-от-центра-города,-т.е.-чем-ближе-к-центру,-тем-цена-выше,-что-логично.-4.8\"><span class=\"toc-item-num\">4.8&nbsp;&nbsp;</span>Есть небольшая обратная корреляция между стоимостью квадратного метра и удалённостью от центра города, т.е. чем ближе к центру, тем цена выше, что логично.</a></span></li><li><span><a href=\"#Графическое-подтверждение-сделанных-выше-выводов.\" data-toc-modified-id=\"Графическое-подтверждение-сделанных-выше-выводов.-4.9\"><span class=\"toc-item-num\">4.9&nbsp;&nbsp;</span>Графическое подтверждение сделанных выше выводов.</a></span></li><li><span><a href=\"#Можно-сделать-вывод,-что-стоимость-квадратного-метра-на-первом-этаже,-в-среднем,-самая-низкая.-Последний,-в-среднем,-дороже,-чем-перый.-Ну-а-все-остальные-этажи-дороже-первого-и-последнего.-При-этом-самые-дорогие-квартиры-продаются-на-последнем-этаже-(видимо,-в-силу-наибольшей-площади),-самые-дешёвые---на-первом.\" data-toc-modified-id=\"Можно-сделать-вывод,-что-стоимость-квадратного-метра-на-первом-этаже,-в-среднем,-самая-низкая.-Последний,-в-среднем,-дороже,-чем-перый.-Ну-а-все-остальные-этажи-дороже-первого-и-последнего.-При-этом-самые-дорогие-квартиры-продаются-на-последнем-этаже-(видимо,-в-силу-наибольшей-площади),-самые-дешёвые---на-первом.-4.10\"><span class=\"toc-item-num\">4.10&nbsp;&nbsp;</span>Можно сделать вывод, что стоимость квадратного метра на первом этаже, в среднем, самая низкая. Последний, в среднем, дороже, чем перый. Ну а все остальные этажи дороже первого и последнего. При этом самые дорогие квартиры продаются на последнем этаже (видимо, в силу наибольшей площади), самые дешёвые - на первом.</a></span></li><li><span><a href=\"#Выводы.\" data-toc-modified-id=\"Выводы.-4.11\"><span class=\"toc-item-num\">4.11&nbsp;&nbsp;</span>Выводы.</a></span></li><li><span><a href=\"#Общий-вывод.\" data-toc-modified-id=\"Общий-вывод.-4.12\"><span class=\"toc-item-num\">4.12&nbsp;&nbsp;</span>Общий вывод.</a></span></li></ul></li><li><span><a href=\"#Исследование-10-крупнейших-локаций\" data-toc-modified-id=\"Исследование-10-крупнейших-локаций-5\"><span class=\"toc-item-num\">5&nbsp;&nbsp;</span>Исследование 10 крупнейших локаций</a></span><ul class=\"toc-item\"><li><span><a href=\"#Ожидаемо,-больше-всего-объявлений-в-Санкт-Петербурге-и-ближайшем-пригороде.\" data-toc-modified-id=\"Ожидаемо,-больше-всего-объявлений-в-Санкт-Петербурге-и-ближайшем-пригороде.-5.1\"><span class=\"toc-item-num\">5.1&nbsp;&nbsp;</span>Ожидаемо, больше всего объявлений в Санкт-Петербурге и ближайшем пригороде.</a></span></li><li><span><a href=\"#Уже-на-данном-этапе-видно,-что-в-топ-10-выше-средняя-и-медианная-цена-продажи-квартиры,-больше-площадь-средняя-площадь-продаваемых-квартир.\" data-toc-modified-id=\"Уже-на-данном-этапе-видно,-что-в-топ-10-выше-средняя-и-медианная-цена-продажи-квартиры,-больше-площадь-средняя-площадь-продаваемых-квартир.-5.2\"><span class=\"toc-item-num\">5.2&nbsp;&nbsp;</span>Уже на данном этапе видно, что в топ-10 выше средняя и медианная цена продажи квартиры, больше площадь средняя площадь продаваемых квартир.</a></span></li><li><span><a href=\"#Также-ожидаемо,-что-наибольшая-средняя-стоимость-квадратного-метра-и-всей-квартиры-в-целом-в-Санкт-Петербурге-и-ближайшем-пригороде.\" data-toc-modified-id=\"Также-ожидаемо,-что-наибольшая-средняя-стоимость-квадратного-метра-и-всей-квартиры-в-целом-в-Санкт-Петербурге-и-ближайшем-пригороде.-5.3\"><span class=\"toc-item-num\">5.3&nbsp;&nbsp;</span>Также ожидаемо, что наибольшая средняя стоимость квадратного метра и всей квартиры в целом в Санкт-Петербурге и ближайшем пригороде.</a></span></li></ul></li><li><span><a href=\"#Исследование-центра-Санкт-Петербурга\" data-toc-modified-id=\"Исследование-центра-Санкт-Петербурга-6\"><span class=\"toc-item-num\">6&nbsp;&nbsp;</span>Исследование центра Санкт-Петербурга</a></span><ul class=\"toc-item\"><li><span><a href=\"#Как-можно-было-предположить,-средняя-и-медианная-цена-квартиры-в-СПб-ещё-выше,-чем-в-топ-10.-Также-больше-средняя-площадь,-выше-стоимость-квадратного-метра.\" data-toc-modified-id=\"Как-можно-было-предположить,-средняя-и-медианная-цена-квартиры-в-СПб-ещё-выше,-чем-в-топ-10.-Также-больше-средняя-площадь,-выше-стоимость-квадратного-метра.-6.1\"><span class=\"toc-item-num\">6.1&nbsp;&nbsp;</span>Как можно было предположить, средняя и медианная цена квартиры в СПб ещё выше, чем в топ-10. Также больше средняя площадь, выше стоимость квадратного метра.</a></span></li><li><span><a href=\"#На-основании-графиков-по-средней-стоимости-квадратного-метра-и-средней-стоимости-всей-квартиры-можно-сделать-вывод,-что-центр-ограничивается-радиусом-в-7-км.\" data-toc-modified-id=\"На-основании-графиков-по-средней-стоимости-квадратного-метра-и-средней-стоимости-всей-квартиры-можно-сделать-вывод,-что-центр-ограничивается-радиусом-в-7-км.-6.2\"><span class=\"toc-item-num\">6.2&nbsp;&nbsp;</span>На основании графиков по средней стоимости квадратного метра и средней стоимости всей квартиры можно сделать вывод, что центр ограничивается радиусом в 7 км.</a></span></li><li><span><a href=\"#Средняя-цена-квартиры-в-центре-почти-в-2-раза-выше,-чем-в-среднем-по-СПб-(включая-центр),-как-и-стоимость-квадратного-метра.-Общая-площадь-в-1,5-раза-больше,-потолки-выше,-средняя-этажность-ниже.-При-этом,-квартиры-продаются-на-30%-дольше.\" data-toc-modified-id=\"Средняя-цена-квартиры-в-центре-почти-в-2-раза-выше,-чем-в-среднем-по-СПб-(включая-центр),-как-и-стоимость-квадратного-метра.-Общая-площадь-в-1,5-раза-больше,-потолки-выше,-средняя-этажность-ниже.-При-этом,-квартиры-продаются-на-30%-дольше.-6.3\"><span class=\"toc-item-num\">6.3&nbsp;&nbsp;</span>Средняя цена квартиры в центре почти в 2 раза выше, чем в среднем по СПб (включая центр), как и стоимость квадратного метра. Общая площадь в 1,5 раза больше, потолки выше, средняя этажность ниже. При этом, квартиры продаются на 30% дольше.</a></span></li><li><span><a href=\"#Можно-сделать-вывод,-что-общая-площадь-квартир-в-центре-выше,-чем-в-целом-по-датафрейму,-и-лежит-в-пределах-от-40-до-150-м2.\" data-toc-modified-id=\"Можно-сделать-вывод,-что-общая-площадь-квартир-в-центре-выше,-чем-в-целом-по-датафрейму,-и-лежит-в-пределах-от-40-до-150-м2.-6.4\"><span class=\"toc-item-num\">6.4&nbsp;&nbsp;</span>Можно сделать вывод, что общая площадь квартир в центре выше, чем в целом по датафрейму, и лежит в пределах от 40 до 150 м2.</a></span></li><li><span><a href=\"#Большинство-квартир-в-центре-также-имеют-от-1-до-4-комнат,-как-и-в-целом-по-датафрейму.\" data-toc-modified-id=\"Большинство-квартир-в-центре-также-имеют-от-1-до-4-комнат,-как-и-в-целом-по-датафрейму.-6.5\"><span class=\"toc-item-num\">6.5&nbsp;&nbsp;</span>Большинство квартир в центре также имеют от 1 до 4 комнат, как и в целом по датафрейму.</a></span></li><li><span><a href=\"#Большинство-квартир-как-и-в-общем-датасете-имеют-медианную-высоту,-но-одновременно-с-этим-и-достаточно-много-квартир-с-потолками-3м-и-более.\" data-toc-modified-id=\"Большинство-квартир-как-и-в-общем-датасете-имеют-медианную-высоту,-но-одновременно-с-этим-и-достаточно-много-квартир-с-потолками-3м-и-более.-6.6\"><span class=\"toc-item-num\">6.6&nbsp;&nbsp;</span>Большинство квартир как и в общем датасете имеют медианную высоту, но одновременно с этим и достаточно много квартир с потолками 3м и более.</a></span><ul class=\"toc-item\"><li><span><a href=\"#Стоимость-квартир-в-центре-выше,-чем-в-среднем,-и-лежит-в-пределах-от-4-до-20-млн.\" data-toc-modified-id=\"Стоимость-квартир-в-центре-выше,-чем-в-среднем,-и-лежит-в-пределах-от-4-до-20-млн.-6.6.1\"><span class=\"toc-item-num\">6.6.1&nbsp;&nbsp;</span>Стоимость квартир в центре выше, чем в среднем, и лежит в пределах от 4 до 20 млн.</a></span></li></ul></li><li><span><a href=\"#На-общую-стоимость-квартиры-ярко-выражено-влияет-общая-площадь-и-количество-комнат,-в-отличие-от-высоты-потолков.\" data-toc-modified-id=\"На-общую-стоимость-квартиры-ярко-выражено-влияет-общая-площадь-и-количество-комнат,-в-отличие-от-высоты-потолков.-6.7\"><span class=\"toc-item-num\">6.7&nbsp;&nbsp;</span>На общую стоимость квартиры ярко выражено влияет общая площадь и количество комнат, в отличие от высоты потолков.</a></span></li><li><span><a href=\"#Стоимость-квадратного-метра-не-зависит-от-этажа-(если-этаж---не-первый).-На-стоимость-всей-квартиры-этаж-влияет,-напротив,-достаточно-заметно.\" data-toc-modified-id=\"Стоимость-квадратного-метра-не-зависит-от-этажа-(если-этаж---не-первый).-На-стоимость-всей-квартиры-этаж-влияет,-напротив,-достаточно-заметно.-6.8\"><span class=\"toc-item-num\">6.8&nbsp;&nbsp;</span>Стоимость квадратного метра не зависит от этажа (если этаж - не первый). На стоимость всей квартиры этаж влияет, напротив, достаточно заметно.</a></span></li><li><span><a href=\"#И-стоимость-квадратного-метра,-и-общая-стоимость-квартиры-обратно-пропорциональны-удалённости-от-центра,-но-это-верно-только-до-радиуса-в-4-км,-дальше-это-перестаёт-сильно-влиять.\" data-toc-modified-id=\"И-стоимость-квадратного-метра,-и-общая-стоимость-квартиры-обратно-пропорциональны-удалённости-от-центра,-но-это-верно-только-до-радиуса-в-4-км,-дальше-это-перестаёт-сильно-влиять.-6.9\"><span class=\"toc-item-num\">6.9&nbsp;&nbsp;</span>И стоимость квадратного метра, и общая стоимость квартиры обратно пропорциональны удалённости от центра, но это верно только до радиуса в 4 км, дальше это перестаёт сильно влиять.</a></span></li><li><span><a href=\"#Есть-всплески-стоимости-в-середине-и-конце-каждого-года.\" data-toc-modified-id=\"Есть-всплески-стоимости-в-середине-и-конце-каждого-года.-6.10\"><span class=\"toc-item-num\">6.10&nbsp;&nbsp;</span>Есть всплески стоимости в середине и конце каждого года.</a></span></li></ul></li><li><span><a href=\"#Общий-вывод\" data-toc-modified-id=\"Общий-вывод-7\"><span class=\"toc-item-num\">7&nbsp;&nbsp;</span>Общий вывод</a></span></li><li><span><a href=\"#Чек-лист-готовности-проекта\" data-toc-modified-id=\"Чек-лист-готовности-проекта-8\"><span class=\"toc-item-num\">8&nbsp;&nbsp;</span>Чек-лист готовности проекта</a></span></li></ul></div>",
      "metadata": {
        "toc": true
      }
    },
    {
      "cell_type": "markdown",
      "source": "# Исследование объявлений о продаже квартир\n\nВ вашем распоряжении данные сервиса Яндекc Недвижимость — архив объявлений о продаже квартир в Санкт-Петербурге и соседних населённых пунктах за несколько лет. Нужно научиться определять рыночную стоимость объектов недвижимости. Ваша задача — установить параметры. Это позволит построить автоматизированную систему: она отследит аномалии и мошенническую деятельность. \n\nПо каждой квартире на продажу доступны два вида данных. Первые вписаны пользователем, вторые получены автоматически на основе картографических данных. Например, расстояние до центра, аэропорта, ближайшего парка и водоёма. ",
      "metadata": {}
    },
    {
      "cell_type": "markdown",
      "source": "## Изучение данных из файла",
      "metadata": {}
    },
    {
      "cell_type": "code",
      "source": "import pandas as pd \n# импортируем библиотеки",
      "metadata": {},
      "execution_count": 1,
      "outputs": []
    },
    {
      "cell_type": "code",
      "source": "data = pd.read_csv('/datasets/real_estate_data.csv', sep='\\t')\n# читаем файл\ndata.info() \n# получаем общую информацию о датафрейме\ndisplay(data.sample(10)) \n# выводим случайные 10 строк, чтобы лучше ознакомиться с датафреймом\ndata.describe()\n# получаем общую информацию о данных датафрейма",
      "metadata": {},
      "execution_count": 2,
      "outputs": [
        {
          "name": "stdout",
          "output_type": "stream",
          "text": "<class 'pandas.core.frame.DataFrame'>\n\nRangeIndex: 23699 entries, 0 to 23698\n\nData columns (total 22 columns):\n\n #   Column                Non-Null Count  Dtype  \n\n---  ------                --------------  -----  \n\n 0   total_images          23699 non-null  int64  \n\n 1   last_price            23699 non-null  float64\n\n 2   total_area            23699 non-null  float64\n\n 3   first_day_exposition  23699 non-null  object \n\n 4   rooms                 23699 non-null  int64  \n\n 5   ceiling_height        14504 non-null  float64\n\n 6   floors_total          23613 non-null  float64\n\n 7   living_area           21796 non-null  float64\n\n 8   floor                 23699 non-null  int64  \n\n 9   is_apartment          2775 non-null   object \n\n 10  studio                23699 non-null  bool   \n\n 11  open_plan             23699 non-null  bool   \n\n 12  kitchen_area          21421 non-null  float64\n\n 13  balcony               12180 non-null  float64\n\n 14  locality_name         23650 non-null  object \n\n 15  airports_nearest      18157 non-null  float64\n\n 16  cityCenters_nearest   18180 non-null  float64\n\n 17  parks_around3000      18181 non-null  float64\n\n 18  parks_nearest         8079 non-null   float64\n\n 19  ponds_around3000      18181 non-null  float64\n\n 20  ponds_nearest         9110 non-null   float64\n\n 21  days_exposition       20518 non-null  float64\n\ndtypes: bool(2), float64(14), int64(3), object(3)\n\nmemory usage: 3.7+ MB\n"
        },
        {
          "output_type": "display_data",
          "data": {
            "text/html": [
              "<div>\n",
              "<style scoped>\n",
              "    .dataframe tbody tr th:only-of-type {\n",
              "        vertical-align: middle;\n",
              "    }\n",
              "\n",
              "    .dataframe tbody tr th {\n",
              "        vertical-align: top;\n",
              "    }\n",
              "\n",
              "    .dataframe thead th {\n",
              "        text-align: right;\n",
              "    }\n",
              "</style>\n",
              "<table border=\"1\" class=\"dataframe\">\n",
              "  <thead>\n",
              "    <tr style=\"text-align: right;\">\n",
              "      <th></th>\n",
              "      <th>total_images</th>\n",
              "      <th>last_price</th>\n",
              "      <th>total_area</th>\n",
              "      <th>first_day_exposition</th>\n",
              "      <th>rooms</th>\n",
              "      <th>ceiling_height</th>\n",
              "      <th>floors_total</th>\n",
              "      <th>living_area</th>\n",
              "      <th>floor</th>\n",
              "      <th>is_apartment</th>\n",
              "      <th>...</th>\n",
              "      <th>kitchen_area</th>\n",
              "      <th>balcony</th>\n",
              "      <th>locality_name</th>\n",
              "      <th>airports_nearest</th>\n",
              "      <th>cityCenters_nearest</th>\n",
              "      <th>parks_around3000</th>\n",
              "      <th>parks_nearest</th>\n",
              "      <th>ponds_around3000</th>\n",
              "      <th>ponds_nearest</th>\n",
              "      <th>days_exposition</th>\n",
              "    </tr>\n",
              "  </thead>\n",
              "  <tbody>\n",
              "    <tr>\n",
              "      <th>22024</th>\n",
              "      <td>5</td>\n",
              "      <td>5300000.0</td>\n",
              "      <td>39.9</td>\n",
              "      <td>2019-05-01T00:00:00</td>\n",
              "      <td>1</td>\n",
              "      <td>3.0</td>\n",
              "      <td>5.0</td>\n",
              "      <td>19.00</td>\n",
              "      <td>4</td>\n",
              "      <td>NaN</td>\n",
              "      <td>...</td>\n",
              "      <td>8.3</td>\n",
              "      <td>1.0</td>\n",
              "      <td>Санкт-Петербург</td>\n",
              "      <td>11084.0</td>\n",
              "      <td>10717.0</td>\n",
              "      <td>1.0</td>\n",
              "      <td>536.0</td>\n",
              "      <td>0.0</td>\n",
              "      <td>NaN</td>\n",
              "      <td>NaN</td>\n",
              "    </tr>\n",
              "    <tr>\n",
              "      <th>20832</th>\n",
              "      <td>10</td>\n",
              "      <td>4300000.0</td>\n",
              "      <td>35.1</td>\n",
              "      <td>2017-11-10T00:00:00</td>\n",
              "      <td>1</td>\n",
              "      <td>NaN</td>\n",
              "      <td>16.0</td>\n",
              "      <td>15.30</td>\n",
              "      <td>16</td>\n",
              "      <td>NaN</td>\n",
              "      <td>...</td>\n",
              "      <td>10.4</td>\n",
              "      <td>2.0</td>\n",
              "      <td>Санкт-Петербург</td>\n",
              "      <td>34324.0</td>\n",
              "      <td>14192.0</td>\n",
              "      <td>0.0</td>\n",
              "      <td>NaN</td>\n",
              "      <td>0.0</td>\n",
              "      <td>NaN</td>\n",
              "      <td>25.0</td>\n",
              "    </tr>\n",
              "    <tr>\n",
              "      <th>1204</th>\n",
              "      <td>2</td>\n",
              "      <td>2850000.0</td>\n",
              "      <td>37.0</td>\n",
              "      <td>2018-08-06T00:00:00</td>\n",
              "      <td>1</td>\n",
              "      <td>NaN</td>\n",
              "      <td>23.0</td>\n",
              "      <td>18.00</td>\n",
              "      <td>12</td>\n",
              "      <td>NaN</td>\n",
              "      <td>...</td>\n",
              "      <td>10.0</td>\n",
              "      <td>NaN</td>\n",
              "      <td>посёлок Мурино</td>\n",
              "      <td>NaN</td>\n",
              "      <td>NaN</td>\n",
              "      <td>NaN</td>\n",
              "      <td>NaN</td>\n",
              "      <td>NaN</td>\n",
              "      <td>NaN</td>\n",
              "      <td>117.0</td>\n",
              "    </tr>\n",
              "    <tr>\n",
              "      <th>22688</th>\n",
              "      <td>5</td>\n",
              "      <td>1750000.0</td>\n",
              "      <td>36.0</td>\n",
              "      <td>2018-08-13T00:00:00</td>\n",
              "      <td>1</td>\n",
              "      <td>NaN</td>\n",
              "      <td>5.0</td>\n",
              "      <td>20.00</td>\n",
              "      <td>5</td>\n",
              "      <td>False</td>\n",
              "      <td>...</td>\n",
              "      <td>8.0</td>\n",
              "      <td>2.0</td>\n",
              "      <td>Тихвин</td>\n",
              "      <td>NaN</td>\n",
              "      <td>NaN</td>\n",
              "      <td>NaN</td>\n",
              "      <td>NaN</td>\n",
              "      <td>NaN</td>\n",
              "      <td>NaN</td>\n",
              "      <td>8.0</td>\n",
              "    </tr>\n",
              "    <tr>\n",
              "      <th>20390</th>\n",
              "      <td>4</td>\n",
              "      <td>3180000.0</td>\n",
              "      <td>35.2</td>\n",
              "      <td>2015-12-14T00:00:00</td>\n",
              "      <td>1</td>\n",
              "      <td>2.5</td>\n",
              "      <td>12.0</td>\n",
              "      <td>21.30</td>\n",
              "      <td>12</td>\n",
              "      <td>False</td>\n",
              "      <td>...</td>\n",
              "      <td>6.8</td>\n",
              "      <td>0.0</td>\n",
              "      <td>Санкт-Петербург</td>\n",
              "      <td>37153.0</td>\n",
              "      <td>11468.0</td>\n",
              "      <td>0.0</td>\n",
              "      <td>NaN</td>\n",
              "      <td>0.0</td>\n",
              "      <td>NaN</td>\n",
              "      <td>191.0</td>\n",
              "    </tr>\n",
              "    <tr>\n",
              "      <th>14738</th>\n",
              "      <td>7</td>\n",
              "      <td>2750000.0</td>\n",
              "      <td>34.0</td>\n",
              "      <td>2017-10-17T00:00:00</td>\n",
              "      <td>1</td>\n",
              "      <td>NaN</td>\n",
              "      <td>26.0</td>\n",
              "      <td>15.00</td>\n",
              "      <td>23</td>\n",
              "      <td>NaN</td>\n",
              "      <td>...</td>\n",
              "      <td>9.0</td>\n",
              "      <td>NaN</td>\n",
              "      <td>посёлок Мурино</td>\n",
              "      <td>NaN</td>\n",
              "      <td>NaN</td>\n",
              "      <td>NaN</td>\n",
              "      <td>NaN</td>\n",
              "      <td>NaN</td>\n",
              "      <td>NaN</td>\n",
              "      <td>107.0</td>\n",
              "    </tr>\n",
              "    <tr>\n",
              "      <th>4193</th>\n",
              "      <td>3</td>\n",
              "      <td>1850000.0</td>\n",
              "      <td>30.0</td>\n",
              "      <td>2016-09-14T00:00:00</td>\n",
              "      <td>1</td>\n",
              "      <td>NaN</td>\n",
              "      <td>5.0</td>\n",
              "      <td>17.36</td>\n",
              "      <td>1</td>\n",
              "      <td>NaN</td>\n",
              "      <td>...</td>\n",
              "      <td>5.0</td>\n",
              "      <td>0.0</td>\n",
              "      <td>Гатчина</td>\n",
              "      <td>NaN</td>\n",
              "      <td>NaN</td>\n",
              "      <td>NaN</td>\n",
              "      <td>NaN</td>\n",
              "      <td>NaN</td>\n",
              "      <td>NaN</td>\n",
              "      <td>355.0</td>\n",
              "    </tr>\n",
              "    <tr>\n",
              "      <th>10591</th>\n",
              "      <td>6</td>\n",
              "      <td>1720000.0</td>\n",
              "      <td>47.0</td>\n",
              "      <td>2018-06-23T00:00:00</td>\n",
              "      <td>2</td>\n",
              "      <td>2.5</td>\n",
              "      <td>5.0</td>\n",
              "      <td>29.00</td>\n",
              "      <td>1</td>\n",
              "      <td>NaN</td>\n",
              "      <td>...</td>\n",
              "      <td>6.5</td>\n",
              "      <td>NaN</td>\n",
              "      <td>Кириши</td>\n",
              "      <td>NaN</td>\n",
              "      <td>NaN</td>\n",
              "      <td>NaN</td>\n",
              "      <td>NaN</td>\n",
              "      <td>NaN</td>\n",
              "      <td>NaN</td>\n",
              "      <td>87.0</td>\n",
              "    </tr>\n",
              "    <tr>\n",
              "      <th>21924</th>\n",
              "      <td>12</td>\n",
              "      <td>3650000.0</td>\n",
              "      <td>32.0</td>\n",
              "      <td>2019-02-20T00:00:00</td>\n",
              "      <td>1</td>\n",
              "      <td>NaN</td>\n",
              "      <td>9.0</td>\n",
              "      <td>17.60</td>\n",
              "      <td>2</td>\n",
              "      <td>NaN</td>\n",
              "      <td>...</td>\n",
              "      <td>6.1</td>\n",
              "      <td>NaN</td>\n",
              "      <td>Санкт-Петербург</td>\n",
              "      <td>21244.0</td>\n",
              "      <td>15256.0</td>\n",
              "      <td>1.0</td>\n",
              "      <td>832.0</td>\n",
              "      <td>1.0</td>\n",
              "      <td>146.0</td>\n",
              "      <td>NaN</td>\n",
              "    </tr>\n",
              "    <tr>\n",
              "      <th>13117</th>\n",
              "      <td>14</td>\n",
              "      <td>3999000.0</td>\n",
              "      <td>31.0</td>\n",
              "      <td>2018-07-10T00:00:00</td>\n",
              "      <td>1</td>\n",
              "      <td>2.5</td>\n",
              "      <td>5.0</td>\n",
              "      <td>17.00</td>\n",
              "      <td>4</td>\n",
              "      <td>NaN</td>\n",
              "      <td>...</td>\n",
              "      <td>6.0</td>\n",
              "      <td>NaN</td>\n",
              "      <td>Санкт-Петербург</td>\n",
              "      <td>13229.0</td>\n",
              "      <td>13142.0</td>\n",
              "      <td>0.0</td>\n",
              "      <td>NaN</td>\n",
              "      <td>0.0</td>\n",
              "      <td>NaN</td>\n",
              "      <td>120.0</td>\n",
              "    </tr>\n",
              "  </tbody>\n",
              "</table>\n",
              "<p>10 rows × 22 columns</p>\n",
              "</div>"
            ],
            "text/plain": [
              "       total_images  last_price  total_area first_day_exposition  rooms  \\\n",
              "22024             5   5300000.0        39.9  2019-05-01T00:00:00      1   \n",
              "20832            10   4300000.0        35.1  2017-11-10T00:00:00      1   \n",
              "1204              2   2850000.0        37.0  2018-08-06T00:00:00      1   \n",
              "22688             5   1750000.0        36.0  2018-08-13T00:00:00      1   \n",
              "20390             4   3180000.0        35.2  2015-12-14T00:00:00      1   \n",
              "14738             7   2750000.0        34.0  2017-10-17T00:00:00      1   \n",
              "4193              3   1850000.0        30.0  2016-09-14T00:00:00      1   \n",
              "10591             6   1720000.0        47.0  2018-06-23T00:00:00      2   \n",
              "21924            12   3650000.0        32.0  2019-02-20T00:00:00      1   \n",
              "13117            14   3999000.0        31.0  2018-07-10T00:00:00      1   \n",
              "\n",
              "       ceiling_height  floors_total  living_area  floor is_apartment  ...  \\\n",
              "22024             3.0           5.0        19.00      4          NaN  ...   \n",
              "20832             NaN          16.0        15.30     16          NaN  ...   \n",
              "1204              NaN          23.0        18.00     12          NaN  ...   \n",
              "22688             NaN           5.0        20.00      5        False  ...   \n",
              "20390             2.5          12.0        21.30     12        False  ...   \n",
              "14738             NaN          26.0        15.00     23          NaN  ...   \n",
              "4193              NaN           5.0        17.36      1          NaN  ...   \n",
              "10591             2.5           5.0        29.00      1          NaN  ...   \n",
              "21924             NaN           9.0        17.60      2          NaN  ...   \n",
              "13117             2.5           5.0        17.00      4          NaN  ...   \n",
              "\n",
              "       kitchen_area  balcony    locality_name  airports_nearest  \\\n",
              "22024           8.3      1.0  Санкт-Петербург           11084.0   \n",
              "20832          10.4      2.0  Санкт-Петербург           34324.0   \n",
              "1204           10.0      NaN   посёлок Мурино               NaN   \n",
              "22688           8.0      2.0           Тихвин               NaN   \n",
              "20390           6.8      0.0  Санкт-Петербург           37153.0   \n",
              "14738           9.0      NaN   посёлок Мурино               NaN   \n",
              "4193            5.0      0.0          Гатчина               NaN   \n",
              "10591           6.5      NaN           Кириши               NaN   \n",
              "21924           6.1      NaN  Санкт-Петербург           21244.0   \n",
              "13117           6.0      NaN  Санкт-Петербург           13229.0   \n",
              "\n",
              "      cityCenters_nearest  parks_around3000  parks_nearest  ponds_around3000  \\\n",
              "22024             10717.0               1.0          536.0               0.0   \n",
              "20832             14192.0               0.0            NaN               0.0   \n",
              "1204                  NaN               NaN            NaN               NaN   \n",
              "22688                 NaN               NaN            NaN               NaN   \n",
              "20390             11468.0               0.0            NaN               0.0   \n",
              "14738                 NaN               NaN            NaN               NaN   \n",
              "4193                  NaN               NaN            NaN               NaN   \n",
              "10591                 NaN               NaN            NaN               NaN   \n",
              "21924             15256.0               1.0          832.0               1.0   \n",
              "13117             13142.0               0.0            NaN               0.0   \n",
              "\n",
              "       ponds_nearest  days_exposition  \n",
              "22024            NaN              NaN  \n",
              "20832            NaN             25.0  \n",
              "1204             NaN            117.0  \n",
              "22688            NaN              8.0  \n",
              "20390            NaN            191.0  \n",
              "14738            NaN            107.0  \n",
              "4193             NaN            355.0  \n",
              "10591            NaN             87.0  \n",
              "21924          146.0              NaN  \n",
              "13117            NaN            120.0  \n",
              "\n",
              "[10 rows x 22 columns]"
            ]
          },
          "metadata": {}
        },
        {
          "execution_count": 2,
          "output_type": "execute_result",
          "data": {
            "text/html": [
              "<div>\n",
              "<style scoped>\n",
              "    .dataframe tbody tr th:only-of-type {\n",
              "        vertical-align: middle;\n",
              "    }\n",
              "\n",
              "    .dataframe tbody tr th {\n",
              "        vertical-align: top;\n",
              "    }\n",
              "\n",
              "    .dataframe thead th {\n",
              "        text-align: right;\n",
              "    }\n",
              "</style>\n",
              "<table border=\"1\" class=\"dataframe\">\n",
              "  <thead>\n",
              "    <tr style=\"text-align: right;\">\n",
              "      <th></th>\n",
              "      <th>total_images</th>\n",
              "      <th>last_price</th>\n",
              "      <th>total_area</th>\n",
              "      <th>rooms</th>\n",
              "      <th>ceiling_height</th>\n",
              "      <th>floors_total</th>\n",
              "      <th>living_area</th>\n",
              "      <th>floor</th>\n",
              "      <th>kitchen_area</th>\n",
              "      <th>balcony</th>\n",
              "      <th>airports_nearest</th>\n",
              "      <th>cityCenters_nearest</th>\n",
              "      <th>parks_around3000</th>\n",
              "      <th>parks_nearest</th>\n",
              "      <th>ponds_around3000</th>\n",
              "      <th>ponds_nearest</th>\n",
              "      <th>days_exposition</th>\n",
              "    </tr>\n",
              "  </thead>\n",
              "  <tbody>\n",
              "    <tr>\n",
              "      <th>count</th>\n",
              "      <td>23699.000000</td>\n",
              "      <td>2.369900e+04</td>\n",
              "      <td>23699.000000</td>\n",
              "      <td>23699.000000</td>\n",
              "      <td>14504.000000</td>\n",
              "      <td>23613.000000</td>\n",
              "      <td>21796.000000</td>\n",
              "      <td>23699.000000</td>\n",
              "      <td>21421.000000</td>\n",
              "      <td>12180.000000</td>\n",
              "      <td>18157.000000</td>\n",
              "      <td>18180.000000</td>\n",
              "      <td>18181.000000</td>\n",
              "      <td>8079.000000</td>\n",
              "      <td>18181.000000</td>\n",
              "      <td>9110.000000</td>\n",
              "      <td>20518.000000</td>\n",
              "    </tr>\n",
              "    <tr>\n",
              "      <th>mean</th>\n",
              "      <td>9.858475</td>\n",
              "      <td>6.541549e+06</td>\n",
              "      <td>60.348651</td>\n",
              "      <td>2.070636</td>\n",
              "      <td>2.771499</td>\n",
              "      <td>10.673824</td>\n",
              "      <td>34.457852</td>\n",
              "      <td>5.892358</td>\n",
              "      <td>10.569807</td>\n",
              "      <td>1.150082</td>\n",
              "      <td>28793.672193</td>\n",
              "      <td>14191.277833</td>\n",
              "      <td>0.611408</td>\n",
              "      <td>490.804555</td>\n",
              "      <td>0.770255</td>\n",
              "      <td>517.980900</td>\n",
              "      <td>180.888634</td>\n",
              "    </tr>\n",
              "    <tr>\n",
              "      <th>std</th>\n",
              "      <td>5.682529</td>\n",
              "      <td>1.088701e+07</td>\n",
              "      <td>35.654083</td>\n",
              "      <td>1.078405</td>\n",
              "      <td>1.261056</td>\n",
              "      <td>6.597173</td>\n",
              "      <td>22.030445</td>\n",
              "      <td>4.885249</td>\n",
              "      <td>5.905438</td>\n",
              "      <td>1.071300</td>\n",
              "      <td>12630.880622</td>\n",
              "      <td>8608.386210</td>\n",
              "      <td>0.802074</td>\n",
              "      <td>342.317995</td>\n",
              "      <td>0.938346</td>\n",
              "      <td>277.720643</td>\n",
              "      <td>219.727988</td>\n",
              "    </tr>\n",
              "    <tr>\n",
              "      <th>min</th>\n",
              "      <td>0.000000</td>\n",
              "      <td>1.219000e+04</td>\n",
              "      <td>12.000000</td>\n",
              "      <td>0.000000</td>\n",
              "      <td>1.000000</td>\n",
              "      <td>1.000000</td>\n",
              "      <td>2.000000</td>\n",
              "      <td>1.000000</td>\n",
              "      <td>1.300000</td>\n",
              "      <td>0.000000</td>\n",
              "      <td>0.000000</td>\n",
              "      <td>181.000000</td>\n",
              "      <td>0.000000</td>\n",
              "      <td>1.000000</td>\n",
              "      <td>0.000000</td>\n",
              "      <td>13.000000</td>\n",
              "      <td>1.000000</td>\n",
              "    </tr>\n",
              "    <tr>\n",
              "      <th>25%</th>\n",
              "      <td>6.000000</td>\n",
              "      <td>3.400000e+06</td>\n",
              "      <td>40.000000</td>\n",
              "      <td>1.000000</td>\n",
              "      <td>2.520000</td>\n",
              "      <td>5.000000</td>\n",
              "      <td>18.600000</td>\n",
              "      <td>2.000000</td>\n",
              "      <td>7.000000</td>\n",
              "      <td>0.000000</td>\n",
              "      <td>18585.000000</td>\n",
              "      <td>9238.000000</td>\n",
              "      <td>0.000000</td>\n",
              "      <td>288.000000</td>\n",
              "      <td>0.000000</td>\n",
              "      <td>294.000000</td>\n",
              "      <td>45.000000</td>\n",
              "    </tr>\n",
              "    <tr>\n",
              "      <th>50%</th>\n",
              "      <td>9.000000</td>\n",
              "      <td>4.650000e+06</td>\n",
              "      <td>52.000000</td>\n",
              "      <td>2.000000</td>\n",
              "      <td>2.650000</td>\n",
              "      <td>9.000000</td>\n",
              "      <td>30.000000</td>\n",
              "      <td>4.000000</td>\n",
              "      <td>9.100000</td>\n",
              "      <td>1.000000</td>\n",
              "      <td>26726.000000</td>\n",
              "      <td>13098.500000</td>\n",
              "      <td>0.000000</td>\n",
              "      <td>455.000000</td>\n",
              "      <td>1.000000</td>\n",
              "      <td>502.000000</td>\n",
              "      <td>95.000000</td>\n",
              "    </tr>\n",
              "    <tr>\n",
              "      <th>75%</th>\n",
              "      <td>14.000000</td>\n",
              "      <td>6.800000e+06</td>\n",
              "      <td>69.900000</td>\n",
              "      <td>3.000000</td>\n",
              "      <td>2.800000</td>\n",
              "      <td>16.000000</td>\n",
              "      <td>42.300000</td>\n",
              "      <td>8.000000</td>\n",
              "      <td>12.000000</td>\n",
              "      <td>2.000000</td>\n",
              "      <td>37273.000000</td>\n",
              "      <td>16293.000000</td>\n",
              "      <td>1.000000</td>\n",
              "      <td>612.000000</td>\n",
              "      <td>1.000000</td>\n",
              "      <td>729.000000</td>\n",
              "      <td>232.000000</td>\n",
              "    </tr>\n",
              "    <tr>\n",
              "      <th>max</th>\n",
              "      <td>50.000000</td>\n",
              "      <td>7.630000e+08</td>\n",
              "      <td>900.000000</td>\n",
              "      <td>19.000000</td>\n",
              "      <td>100.000000</td>\n",
              "      <td>60.000000</td>\n",
              "      <td>409.700000</td>\n",
              "      <td>33.000000</td>\n",
              "      <td>112.000000</td>\n",
              "      <td>5.000000</td>\n",
              "      <td>84869.000000</td>\n",
              "      <td>65968.000000</td>\n",
              "      <td>3.000000</td>\n",
              "      <td>3190.000000</td>\n",
              "      <td>3.000000</td>\n",
              "      <td>1344.000000</td>\n",
              "      <td>1580.000000</td>\n",
              "    </tr>\n",
              "  </tbody>\n",
              "</table>\n",
              "</div>"
            ],
            "text/plain": [
              "       total_images    last_price    total_area         rooms  ceiling_height  \\\n",
              "count  23699.000000  2.369900e+04  23699.000000  23699.000000    14504.000000   \n",
              "mean       9.858475  6.541549e+06     60.348651      2.070636        2.771499   \n",
              "std        5.682529  1.088701e+07     35.654083      1.078405        1.261056   \n",
              "min        0.000000  1.219000e+04     12.000000      0.000000        1.000000   \n",
              "25%        6.000000  3.400000e+06     40.000000      1.000000        2.520000   \n",
              "50%        9.000000  4.650000e+06     52.000000      2.000000        2.650000   \n",
              "75%       14.000000  6.800000e+06     69.900000      3.000000        2.800000   \n",
              "max       50.000000  7.630000e+08    900.000000     19.000000      100.000000   \n",
              "\n",
              "       floors_total   living_area         floor  kitchen_area       balcony  \\\n",
              "count  23613.000000  21796.000000  23699.000000  21421.000000  12180.000000   \n",
              "mean      10.673824     34.457852      5.892358     10.569807      1.150082   \n",
              "std        6.597173     22.030445      4.885249      5.905438      1.071300   \n",
              "min        1.000000      2.000000      1.000000      1.300000      0.000000   \n",
              "25%        5.000000     18.600000      2.000000      7.000000      0.000000   \n",
              "50%        9.000000     30.000000      4.000000      9.100000      1.000000   \n",
              "75%       16.000000     42.300000      8.000000     12.000000      2.000000   \n",
              "max       60.000000    409.700000     33.000000    112.000000      5.000000   \n",
              "\n",
              "       airports_nearest  cityCenters_nearest  parks_around3000  parks_nearest  \\\n",
              "count      18157.000000         18180.000000      18181.000000    8079.000000   \n",
              "mean       28793.672193         14191.277833          0.611408     490.804555   \n",
              "std        12630.880622          8608.386210          0.802074     342.317995   \n",
              "min            0.000000           181.000000          0.000000       1.000000   \n",
              "25%        18585.000000          9238.000000          0.000000     288.000000   \n",
              "50%        26726.000000         13098.500000          0.000000     455.000000   \n",
              "75%        37273.000000         16293.000000          1.000000     612.000000   \n",
              "max        84869.000000         65968.000000          3.000000    3190.000000   \n",
              "\n",
              "       ponds_around3000  ponds_nearest  days_exposition  \n",
              "count      18181.000000    9110.000000     20518.000000  \n",
              "mean           0.770255     517.980900       180.888634  \n",
              "std            0.938346     277.720643       219.727988  \n",
              "min            0.000000      13.000000         1.000000  \n",
              "25%            0.000000     294.000000        45.000000  \n",
              "50%            1.000000     502.000000        95.000000  \n",
              "75%            1.000000     729.000000       232.000000  \n",
              "max            3.000000    1344.000000      1580.000000  "
            ]
          },
          "metadata": {}
        }
      ]
    },
    {
      "cell_type": "code",
      "source": "display(data['studio'].value_counts())\n# смотрим какие значения есть в столбце is_apartment\ndata['rooms'].value_counts()",
      "metadata": {},
      "execution_count": 3,
      "outputs": [
        {
          "output_type": "display_data",
          "data": {
            "text/plain": [
              "False    23550\n",
              "True       149\n",
              "Name: studio, dtype: int64"
            ]
          },
          "metadata": {}
        },
        {
          "execution_count": 3,
          "output_type": "execute_result",
          "data": {
            "text/plain": [
              "1     8047\n",
              "2     7940\n",
              "3     5814\n",
              "4     1180\n",
              "5      326\n",
              "0      197\n",
              "6      105\n",
              "7       59\n",
              "8       12\n",
              "9        8\n",
              "10       3\n",
              "11       2\n",
              "14       2\n",
              "19       1\n",
              "16       1\n",
              "12       1\n",
              "15       1\n",
              "Name: rooms, dtype: int64"
            ]
          },
          "metadata": {}
        }
      ]
    },
    {
      "cell_type": "markdown",
      "source": "### Вывод",
      "metadata": {}
    },
    {
      "cell_type": "markdown",
      "source": "1. Много пропусков в столбце ceiling_height, также пропуски есть в столбцах living_area, floors_total, kitchen_area, locality_name, airports_nearest, cityCenters_nearest, ponds_nearest, parks_nearest, days_exposition.\n\nЕсли заменить пропуски в ceiling_height на среднее или медиану, в дальнейшем это может вызвать большой перекос на эти значения, т.к. пропусков очень много.\nУдалять их тоже нецелесообразно, можем потерять много важных данных.\n\n2. Пропуски в стобце balcony заменить на 0, раз стоит пропуск, значит балкона, скорее всего, нет.\n\n3. Пропуски в столбце ponds_around3000 и parks_around3000 можно заменить на 0, скорее всего рядом просто нет ни парков, ни прудов.\n\n4. Пропуски в столбце is_apartment можно заменить на False, раз не стоит True.",
      "metadata": {}
    },
    {
      "cell_type": "markdown",
      "source": "## Предобработка данных",
      "metadata": {}
    },
    {
      "cell_type": "code",
      "source": "data['parks_around3000'] = data['parks_around3000'].fillna(0)\n# заменяем пропуски в столбце parks_around3000 на 0\ndata['parks_around3000'] = data['parks_around3000'].astype('int')\n# заменяем значение на целочисленное для простоты восприятия\ndata['ponds_around3000'] = data['ponds_around3000'].fillna(0)\n# заменяем пропуски в столбце ponds_around3000 на 0\ndata['ponds_around3000'] = data['ponds_around3000'].astype('int')\n# заменяем значение на целочисленное для простоты восприятия\ndata['balcony'] = data['balcony'].fillna(0)\n# заменяем пропуски в столбце balcony на 0\ndata['balcony'] = data['balcony'].astype('int')\n# заменяем значение на целочисленное для простоты восприятия\ndata['is_apartment'] = data['is_apartment'].fillna(False)\n# заменяем пропуски в столбце на False\ndata['ceiling_height'] = data['ceiling_height'].fillna(data['ceiling_height'].median())\n# заменяем пропуске в столбце на медианные значения\ndata['locality_name'] = data['locality_name'].fillna('unknown')\ndata.info()\ndata.head()\n# смотрим, как изменился датафрейм",
      "metadata": {},
      "execution_count": 4,
      "outputs": [
        {
          "name": "stdout",
          "output_type": "stream",
          "text": "<class 'pandas.core.frame.DataFrame'>\n\nRangeIndex: 23699 entries, 0 to 23698\n\nData columns (total 22 columns):\n\n #   Column                Non-Null Count  Dtype  \n\n---  ------                --------------  -----  \n\n 0   total_images          23699 non-null  int64  \n\n 1   last_price            23699 non-null  float64\n\n 2   total_area            23699 non-null  float64\n\n 3   first_day_exposition  23699 non-null  object \n\n 4   rooms                 23699 non-null  int64  \n\n 5   ceiling_height        23699 non-null  float64\n\n 6   floors_total          23613 non-null  float64\n\n 7   living_area           21796 non-null  float64\n\n 8   floor                 23699 non-null  int64  \n\n 9   is_apartment          23699 non-null  bool   \n\n 10  studio                23699 non-null  bool   \n\n 11  open_plan             23699 non-null  bool   \n\n 12  kitchen_area          21421 non-null  float64\n\n 13  balcony               23699 non-null  int64  \n\n 14  locality_name         23699 non-null  object \n\n 15  airports_nearest      18157 non-null  float64\n\n 16  cityCenters_nearest   18180 non-null  float64\n\n 17  parks_around3000      23699 non-null  int64  \n\n 18  parks_nearest         8079 non-null   float64\n\n 19  ponds_around3000      23699 non-null  int64  \n\n 20  ponds_nearest         9110 non-null   float64\n\n 21  days_exposition       20518 non-null  float64\n\ndtypes: bool(3), float64(11), int64(6), object(2)\n\nmemory usage: 3.5+ MB\n"
        },
        {
          "execution_count": 4,
          "output_type": "execute_result",
          "data": {
            "text/html": [
              "<div>\n",
              "<style scoped>\n",
              "    .dataframe tbody tr th:only-of-type {\n",
              "        vertical-align: middle;\n",
              "    }\n",
              "\n",
              "    .dataframe tbody tr th {\n",
              "        vertical-align: top;\n",
              "    }\n",
              "\n",
              "    .dataframe thead th {\n",
              "        text-align: right;\n",
              "    }\n",
              "</style>\n",
              "<table border=\"1\" class=\"dataframe\">\n",
              "  <thead>\n",
              "    <tr style=\"text-align: right;\">\n",
              "      <th></th>\n",
              "      <th>total_images</th>\n",
              "      <th>last_price</th>\n",
              "      <th>total_area</th>\n",
              "      <th>first_day_exposition</th>\n",
              "      <th>rooms</th>\n",
              "      <th>ceiling_height</th>\n",
              "      <th>floors_total</th>\n",
              "      <th>living_area</th>\n",
              "      <th>floor</th>\n",
              "      <th>is_apartment</th>\n",
              "      <th>...</th>\n",
              "      <th>kitchen_area</th>\n",
              "      <th>balcony</th>\n",
              "      <th>locality_name</th>\n",
              "      <th>airports_nearest</th>\n",
              "      <th>cityCenters_nearest</th>\n",
              "      <th>parks_around3000</th>\n",
              "      <th>parks_nearest</th>\n",
              "      <th>ponds_around3000</th>\n",
              "      <th>ponds_nearest</th>\n",
              "      <th>days_exposition</th>\n",
              "    </tr>\n",
              "  </thead>\n",
              "  <tbody>\n",
              "    <tr>\n",
              "      <th>0</th>\n",
              "      <td>20</td>\n",
              "      <td>13000000.0</td>\n",
              "      <td>108.0</td>\n",
              "      <td>2019-03-07T00:00:00</td>\n",
              "      <td>3</td>\n",
              "      <td>2.70</td>\n",
              "      <td>16.0</td>\n",
              "      <td>51.0</td>\n",
              "      <td>8</td>\n",
              "      <td>False</td>\n",
              "      <td>...</td>\n",
              "      <td>25.0</td>\n",
              "      <td>0</td>\n",
              "      <td>Санкт-Петербург</td>\n",
              "      <td>18863.0</td>\n",
              "      <td>16028.0</td>\n",
              "      <td>1</td>\n",
              "      <td>482.0</td>\n",
              "      <td>2</td>\n",
              "      <td>755.0</td>\n",
              "      <td>NaN</td>\n",
              "    </tr>\n",
              "    <tr>\n",
              "      <th>1</th>\n",
              "      <td>7</td>\n",
              "      <td>3350000.0</td>\n",
              "      <td>40.4</td>\n",
              "      <td>2018-12-04T00:00:00</td>\n",
              "      <td>1</td>\n",
              "      <td>2.65</td>\n",
              "      <td>11.0</td>\n",
              "      <td>18.6</td>\n",
              "      <td>1</td>\n",
              "      <td>False</td>\n",
              "      <td>...</td>\n",
              "      <td>11.0</td>\n",
              "      <td>2</td>\n",
              "      <td>посёлок Шушары</td>\n",
              "      <td>12817.0</td>\n",
              "      <td>18603.0</td>\n",
              "      <td>0</td>\n",
              "      <td>NaN</td>\n",
              "      <td>0</td>\n",
              "      <td>NaN</td>\n",
              "      <td>81.0</td>\n",
              "    </tr>\n",
              "    <tr>\n",
              "      <th>2</th>\n",
              "      <td>10</td>\n",
              "      <td>5196000.0</td>\n",
              "      <td>56.0</td>\n",
              "      <td>2015-08-20T00:00:00</td>\n",
              "      <td>2</td>\n",
              "      <td>2.65</td>\n",
              "      <td>5.0</td>\n",
              "      <td>34.3</td>\n",
              "      <td>4</td>\n",
              "      <td>False</td>\n",
              "      <td>...</td>\n",
              "      <td>8.3</td>\n",
              "      <td>0</td>\n",
              "      <td>Санкт-Петербург</td>\n",
              "      <td>21741.0</td>\n",
              "      <td>13933.0</td>\n",
              "      <td>1</td>\n",
              "      <td>90.0</td>\n",
              "      <td>2</td>\n",
              "      <td>574.0</td>\n",
              "      <td>558.0</td>\n",
              "    </tr>\n",
              "    <tr>\n",
              "      <th>3</th>\n",
              "      <td>0</td>\n",
              "      <td>64900000.0</td>\n",
              "      <td>159.0</td>\n",
              "      <td>2015-07-24T00:00:00</td>\n",
              "      <td>3</td>\n",
              "      <td>2.65</td>\n",
              "      <td>14.0</td>\n",
              "      <td>NaN</td>\n",
              "      <td>9</td>\n",
              "      <td>False</td>\n",
              "      <td>...</td>\n",
              "      <td>NaN</td>\n",
              "      <td>0</td>\n",
              "      <td>Санкт-Петербург</td>\n",
              "      <td>28098.0</td>\n",
              "      <td>6800.0</td>\n",
              "      <td>2</td>\n",
              "      <td>84.0</td>\n",
              "      <td>3</td>\n",
              "      <td>234.0</td>\n",
              "      <td>424.0</td>\n",
              "    </tr>\n",
              "    <tr>\n",
              "      <th>4</th>\n",
              "      <td>2</td>\n",
              "      <td>10000000.0</td>\n",
              "      <td>100.0</td>\n",
              "      <td>2018-06-19T00:00:00</td>\n",
              "      <td>2</td>\n",
              "      <td>3.03</td>\n",
              "      <td>14.0</td>\n",
              "      <td>32.0</td>\n",
              "      <td>13</td>\n",
              "      <td>False</td>\n",
              "      <td>...</td>\n",
              "      <td>41.0</td>\n",
              "      <td>0</td>\n",
              "      <td>Санкт-Петербург</td>\n",
              "      <td>31856.0</td>\n",
              "      <td>8098.0</td>\n",
              "      <td>2</td>\n",
              "      <td>112.0</td>\n",
              "      <td>1</td>\n",
              "      <td>48.0</td>\n",
              "      <td>121.0</td>\n",
              "    </tr>\n",
              "  </tbody>\n",
              "</table>\n",
              "<p>5 rows × 22 columns</p>\n",
              "</div>"
            ],
            "text/plain": [
              "   total_images  last_price  total_area first_day_exposition  rooms  \\\n",
              "0            20  13000000.0       108.0  2019-03-07T00:00:00      3   \n",
              "1             7   3350000.0        40.4  2018-12-04T00:00:00      1   \n",
              "2            10   5196000.0        56.0  2015-08-20T00:00:00      2   \n",
              "3             0  64900000.0       159.0  2015-07-24T00:00:00      3   \n",
              "4             2  10000000.0       100.0  2018-06-19T00:00:00      2   \n",
              "\n",
              "   ceiling_height  floors_total  living_area  floor  is_apartment  ...  \\\n",
              "0            2.70          16.0         51.0      8         False  ...   \n",
              "1            2.65          11.0         18.6      1         False  ...   \n",
              "2            2.65           5.0         34.3      4         False  ...   \n",
              "3            2.65          14.0          NaN      9         False  ...   \n",
              "4            3.03          14.0         32.0     13         False  ...   \n",
              "\n",
              "   kitchen_area  balcony    locality_name  airports_nearest  \\\n",
              "0          25.0        0  Санкт-Петербург           18863.0   \n",
              "1          11.0        2   посёлок Шушары           12817.0   \n",
              "2           8.3        0  Санкт-Петербург           21741.0   \n",
              "3           NaN        0  Санкт-Петербург           28098.0   \n",
              "4          41.0        0  Санкт-Петербург           31856.0   \n",
              "\n",
              "  cityCenters_nearest  parks_around3000  parks_nearest  ponds_around3000  \\\n",
              "0             16028.0                 1          482.0                 2   \n",
              "1             18603.0                 0            NaN                 0   \n",
              "2             13933.0                 1           90.0                 2   \n",
              "3              6800.0                 2           84.0                 3   \n",
              "4              8098.0                 2          112.0                 1   \n",
              "\n",
              "   ponds_nearest  days_exposition  \n",
              "0          755.0              NaN  \n",
              "1            NaN             81.0  \n",
              "2          574.0            558.0  \n",
              "3          234.0            424.0  \n",
              "4           48.0            121.0  \n",
              "\n",
              "[5 rows x 22 columns]"
            ]
          },
          "metadata": {}
        }
      ]
    },
    {
      "cell_type": "markdown",
      "source": "### Поработали с пропусками.\n1. Добавили пропущенные значения в столбцы is_apartment, balcony, parks_around3000, ponds_around3000.\n2. Перевели значения столбцов ponds_around3000, parks_around3000 и balcony из вещественного типа в целочисленный для упрощения восприятия.\n",
      "metadata": {}
    },
    {
      "cell_type": "markdown",
      "source": "## Расчёты и добавление результатов в таблицу",
      "metadata": {}
    },
    {
      "cell_type": "code",
      "source": "data['price_m2'] = (data['last_price'] / data['total_area']).astype('int')\n# добавляем новый столбец со стоимостью квадратного метра в датафрейм\ndata['first_day_exposition'] = pd.to_datetime(data['first_day_exposition'], format='%Y-%m-%d')\n# оставляем только дату в стоблце first_day_exposition, убираем время,\n# т.к. оно везде одинаковое и для нашего исследования не пригодится\n\ndef floor_range(data):\n    floor = data['floor']\n    floors_total = data['floors_total']\n    \n    if floor == 1:\n        return 'первый'\n    if floor == floors_total:\n        return 'последний'\n    if 1 < floor < floors_total:\n        return 'другой'\n\n    \"\"\"создаём функцию, которая разделяет все этажи 3 категории:\n    первый, последний, другой\"\"\"    \n\ndata['floor_category'] = data.apply(floor_range, axis=1)\n# создаём новый столбец с категориями этажей, применяя нашу функцию\ndata['living_sq_ratio'] = ((data['living_area'] / data['total_area']) * 100).round()\n# создаём столбец с отношением жилой площади к общей\ndata['kitchen_sq_ratio'] = ((data['kitchen_area'] / data['total_area']) * 100).round()\n# создаём столбец с отношением площади кухни к общей\ndata['day'] = data['first_day_exposition'].dt.weekday\n# создаём столбец, в котором будет указан день недели размещения объявления\ndata['month'] = data['first_day_exposition'].dt.month\n# создаём столбец, в котором будет указан месяц размещения объявления\ndata['year'] = data['first_day_exposition'].dt.year\n# создаём столбец, в котором будет указан год размещения объявления\ndata.head()\n# смотрим, как стал выглядеть датафрейм",
      "metadata": {},
      "execution_count": 5,
      "outputs": [
        {
          "execution_count": 5,
          "output_type": "execute_result",
          "data": {
            "text/html": [
              "<div>\n",
              "<style scoped>\n",
              "    .dataframe tbody tr th:only-of-type {\n",
              "        vertical-align: middle;\n",
              "    }\n",
              "\n",
              "    .dataframe tbody tr th {\n",
              "        vertical-align: top;\n",
              "    }\n",
              "\n",
              "    .dataframe thead th {\n",
              "        text-align: right;\n",
              "    }\n",
              "</style>\n",
              "<table border=\"1\" class=\"dataframe\">\n",
              "  <thead>\n",
              "    <tr style=\"text-align: right;\">\n",
              "      <th></th>\n",
              "      <th>total_images</th>\n",
              "      <th>last_price</th>\n",
              "      <th>total_area</th>\n",
              "      <th>first_day_exposition</th>\n",
              "      <th>rooms</th>\n",
              "      <th>ceiling_height</th>\n",
              "      <th>floors_total</th>\n",
              "      <th>living_area</th>\n",
              "      <th>floor</th>\n",
              "      <th>is_apartment</th>\n",
              "      <th>...</th>\n",
              "      <th>ponds_around3000</th>\n",
              "      <th>ponds_nearest</th>\n",
              "      <th>days_exposition</th>\n",
              "      <th>price_m2</th>\n",
              "      <th>floor_category</th>\n",
              "      <th>living_sq_ratio</th>\n",
              "      <th>kitchen_sq_ratio</th>\n",
              "      <th>day</th>\n",
              "      <th>month</th>\n",
              "      <th>year</th>\n",
              "    </tr>\n",
              "  </thead>\n",
              "  <tbody>\n",
              "    <tr>\n",
              "      <th>0</th>\n",
              "      <td>20</td>\n",
              "      <td>13000000.0</td>\n",
              "      <td>108.0</td>\n",
              "      <td>2019-03-07</td>\n",
              "      <td>3</td>\n",
              "      <td>2.70</td>\n",
              "      <td>16.0</td>\n",
              "      <td>51.0</td>\n",
              "      <td>8</td>\n",
              "      <td>False</td>\n",
              "      <td>...</td>\n",
              "      <td>2</td>\n",
              "      <td>755.0</td>\n",
              "      <td>NaN</td>\n",
              "      <td>120370</td>\n",
              "      <td>другой</td>\n",
              "      <td>47.0</td>\n",
              "      <td>23.0</td>\n",
              "      <td>3</td>\n",
              "      <td>3</td>\n",
              "      <td>2019</td>\n",
              "    </tr>\n",
              "    <tr>\n",
              "      <th>1</th>\n",
              "      <td>7</td>\n",
              "      <td>3350000.0</td>\n",
              "      <td>40.4</td>\n",
              "      <td>2018-12-04</td>\n",
              "      <td>1</td>\n",
              "      <td>2.65</td>\n",
              "      <td>11.0</td>\n",
              "      <td>18.6</td>\n",
              "      <td>1</td>\n",
              "      <td>False</td>\n",
              "      <td>...</td>\n",
              "      <td>0</td>\n",
              "      <td>NaN</td>\n",
              "      <td>81.0</td>\n",
              "      <td>82920</td>\n",
              "      <td>первый</td>\n",
              "      <td>46.0</td>\n",
              "      <td>27.0</td>\n",
              "      <td>1</td>\n",
              "      <td>12</td>\n",
              "      <td>2018</td>\n",
              "    </tr>\n",
              "    <tr>\n",
              "      <th>2</th>\n",
              "      <td>10</td>\n",
              "      <td>5196000.0</td>\n",
              "      <td>56.0</td>\n",
              "      <td>2015-08-20</td>\n",
              "      <td>2</td>\n",
              "      <td>2.65</td>\n",
              "      <td>5.0</td>\n",
              "      <td>34.3</td>\n",
              "      <td>4</td>\n",
              "      <td>False</td>\n",
              "      <td>...</td>\n",
              "      <td>2</td>\n",
              "      <td>574.0</td>\n",
              "      <td>558.0</td>\n",
              "      <td>92785</td>\n",
              "      <td>другой</td>\n",
              "      <td>61.0</td>\n",
              "      <td>15.0</td>\n",
              "      <td>3</td>\n",
              "      <td>8</td>\n",
              "      <td>2015</td>\n",
              "    </tr>\n",
              "    <tr>\n",
              "      <th>3</th>\n",
              "      <td>0</td>\n",
              "      <td>64900000.0</td>\n",
              "      <td>159.0</td>\n",
              "      <td>2015-07-24</td>\n",
              "      <td>3</td>\n",
              "      <td>2.65</td>\n",
              "      <td>14.0</td>\n",
              "      <td>NaN</td>\n",
              "      <td>9</td>\n",
              "      <td>False</td>\n",
              "      <td>...</td>\n",
              "      <td>3</td>\n",
              "      <td>234.0</td>\n",
              "      <td>424.0</td>\n",
              "      <td>408176</td>\n",
              "      <td>другой</td>\n",
              "      <td>NaN</td>\n",
              "      <td>NaN</td>\n",
              "      <td>4</td>\n",
              "      <td>7</td>\n",
              "      <td>2015</td>\n",
              "    </tr>\n",
              "    <tr>\n",
              "      <th>4</th>\n",
              "      <td>2</td>\n",
              "      <td>10000000.0</td>\n",
              "      <td>100.0</td>\n",
              "      <td>2018-06-19</td>\n",
              "      <td>2</td>\n",
              "      <td>3.03</td>\n",
              "      <td>14.0</td>\n",
              "      <td>32.0</td>\n",
              "      <td>13</td>\n",
              "      <td>False</td>\n",
              "      <td>...</td>\n",
              "      <td>1</td>\n",
              "      <td>48.0</td>\n",
              "      <td>121.0</td>\n",
              "      <td>100000</td>\n",
              "      <td>другой</td>\n",
              "      <td>32.0</td>\n",
              "      <td>41.0</td>\n",
              "      <td>1</td>\n",
              "      <td>6</td>\n",
              "      <td>2018</td>\n",
              "    </tr>\n",
              "  </tbody>\n",
              "</table>\n",
              "<p>5 rows × 29 columns</p>\n",
              "</div>"
            ],
            "text/plain": [
              "   total_images  last_price  total_area first_day_exposition  rooms  \\\n",
              "0            20  13000000.0       108.0           2019-03-07      3   \n",
              "1             7   3350000.0        40.4           2018-12-04      1   \n",
              "2            10   5196000.0        56.0           2015-08-20      2   \n",
              "3             0  64900000.0       159.0           2015-07-24      3   \n",
              "4             2  10000000.0       100.0           2018-06-19      2   \n",
              "\n",
              "   ceiling_height  floors_total  living_area  floor  is_apartment  ...  \\\n",
              "0            2.70          16.0         51.0      8         False  ...   \n",
              "1            2.65          11.0         18.6      1         False  ...   \n",
              "2            2.65           5.0         34.3      4         False  ...   \n",
              "3            2.65          14.0          NaN      9         False  ...   \n",
              "4            3.03          14.0         32.0     13         False  ...   \n",
              "\n",
              "   ponds_around3000  ponds_nearest  days_exposition  price_m2 floor_category  \\\n",
              "0                 2          755.0              NaN    120370         другой   \n",
              "1                 0            NaN             81.0     82920         первый   \n",
              "2                 2          574.0            558.0     92785         другой   \n",
              "3                 3          234.0            424.0    408176         другой   \n",
              "4                 1           48.0            121.0    100000         другой   \n",
              "\n",
              "   living_sq_ratio  kitchen_sq_ratio  day  month  year  \n",
              "0             47.0              23.0    3      3  2019  \n",
              "1             46.0              27.0    1     12  2018  \n",
              "2             61.0              15.0    3      8  2015  \n",
              "3              NaN               NaN    4      7  2015  \n",
              "4             32.0              41.0    1      6  2018  \n",
              "\n",
              "[5 rows x 29 columns]"
            ]
          },
          "metadata": {}
        }
      ]
    },
    {
      "cell_type": "markdown",
      "source": "### Добавили новые столбцы и значения в датафрейм:\n- price_m2 (стоимость квадратного метра)\n- floor_category (категория, к которой относится этаж)\n- living_sq_ratio (отношение жилой площади к общей)\n- kitchen_sq_ratio (отношение площади кухни к общей)\n- day (день недели размещения объявления)\n- month (месяц размещения объявления)\n- year (год размещения объявления)",
      "metadata": {}
    },
    {
      "cell_type": "markdown",
      "source": "## Исследовательский анализ данных",
      "metadata": {}
    },
    {
      "cell_type": "code",
      "source": "data['total_area'].hist(bins=100, range=(0, 200))\n# строим гистограмму, показывающее количество объявлений в зависимости от общей площади",
      "metadata": {},
      "execution_count": 6,
      "outputs": [
        {
          "execution_count": 6,
          "output_type": "execute_result",
          "data": {
            "text/plain": [
              "<AxesSubplot:>"
            ]
          },
          "metadata": {}
        },
        {
          "output_type": "display_data",
          "data": {
            "image/png": "[encoded data removed]",
            "text/plain": [
              "<Figure size 432x288 with 1 Axes>"
            ]
          },
          "metadata": {
            "needs_background": "light"
          }
        }
      ]
    },
    {
      "cell_type": "markdown",
      "source": "### Большинство квартир имеют общую площать в диапазоне от 30 до 100 кв. метров, что ожидаемо.",
      "metadata": {}
    },
    {
      "cell_type": "code",
      "source": "data['last_price'].hist(bins=100, range=(0, 30000000))\n# строим гистограмму, показывающее количество объявлений в зависимости от цены объекта",
      "metadata": {},
      "execution_count": 7,
      "outputs": [
        {
          "execution_count": 7,
          "output_type": "execute_result",
          "data": {
            "text/plain": [
              "<AxesSubplot:>"
            ]
          },
          "metadata": {}
        },
        {
          "output_type": "display_data",
          "data": {
            "image/png": "[encoded data removed]",
            "text/plain": [
              "<Figure size 432x288 with 1 Axes>"
            ]
          },
          "metadata": {
            "needs_background": "light"
          }
        }
      ]
    },
    {
      "cell_type": "markdown",
      "source": "### Большая часть квартир продавалась в диапазоне от 1 до 10 млн.",
      "metadata": {}
    },
    {
      "cell_type": "code",
      "source": "data['rooms'].hist(bins=10, range=(0, 10))\n# строим гистограмму, показывающее количество объявлений \n# в зависимости от количества комнат",
      "metadata": {},
      "execution_count": 8,
      "outputs": [
        {
          "execution_count": 8,
          "output_type": "execute_result",
          "data": {
            "text/plain": [
              "<AxesSubplot:>"
            ]
          },
          "metadata": {}
        },
        {
          "output_type": "display_data",
          "data": {
            "image/png": "[encoded data removed]",
            "text/plain": [
              "<Figure size 432x288 with 1 Axes>"
            ]
          },
          "metadata": {
            "needs_background": "light"
          }
        }
      ]
    },
    {
      "cell_type": "markdown",
      "source": "### Большинство объектов имеют от 1 до 4-х комнат, что тоже логично.",
      "metadata": {}
    },
    {
      "cell_type": "code",
      "source": "data['ceiling_height'].hist(bins=30, range=(2, 4))\n# строим гистограмму, показывающее количество объявлений \n# в зависимости от высоты потолков",
      "metadata": {},
      "execution_count": 64,
      "outputs": [
        {
          "execution_count": 64,
          "output_type": "execute_result",
          "data": {
            "text/plain": [
              "<AxesSubplot:>"
            ]
          },
          "metadata": {}
        },
        {
          "output_type": "display_data",
          "data": {
            "image/png": "[encoded data removed]",
            "text/plain": [
              "<Figure size 432x288 with 1 Axes>"
            ]
          },
          "metadata": {
            "needs_background": "light"
          }
        }
      ]
    },
    {
      "cell_type": "markdown",
      "source": "### Высота потолков в большинстве объектов лежит в диапазоне от 2,5м до 3м, максимальное количество объявлений имеют медианную высоту 2,65м.",
      "metadata": {}
    },
    {
      "cell_type": "code",
      "source": "data['days_exposition'].hist(bins=100, range=(0, 1000))\n# строим гистограмму, показывающее количество объявлений \n# в зависимости от того, сколько дней продавалась квартира\ndata['days_exposition'].describe()\n# смотрим информацию по значениям в столбце days_exposition",
      "metadata": {},
      "execution_count": 10,
      "outputs": [
        {
          "execution_count": 10,
          "output_type": "execute_result",
          "data": {
            "text/plain": [
              "count    20518.000000\n",
              "mean       180.888634\n",
              "std        219.727988\n",
              "min          1.000000\n",
              "25%         45.000000\n",
              "50%         95.000000\n",
              "75%        232.000000\n",
              "max       1580.000000\n",
              "Name: days_exposition, dtype: float64"
            ]
          },
          "metadata": {}
        },
        {
          "output_type": "display_data",
          "data": {
            "image/png": "[encoded data removed]",
            "text/plain": [
              "<Figure size 432x288 with 1 Axes>"
            ]
          },
          "metadata": {
            "needs_background": "light"
          }
        }
      ]
    },
    {
      "cell_type": "markdown",
      "source": "### Медианное значение составляет 95 дней, можно говорить, что это среднее время продажи квартиры без учёта выбросов.\nПервая четверть составляет 45 дней, соответственно, если квартира продаётся за этот срок или быстрее, можно говорить о том, что продажа произошла быстро.\n3-я четверть составляет 232 дня, следовательно, если продажа произошла за это время или дольше, то можно говорить о том, что продажа происходила необычно долго.",
      "metadata": {}
    },
    {
      "cell_type": "code",
      "source": "display(data['price_m2'].corr(data['total_area']))\n# смотрим корреляцию между стоимостью квадратного метра и общей площадью квартиры\ndisplay(data['last_price'].corr(data['total_area']))\n# смотрим корреляцию между стоимостью всей квартиры и общей площадью квартиры\ndata.plot(x='total_area', y='last_price', kind='scatter', grid=True)",
      "metadata": {},
      "execution_count": 11,
      "outputs": [
        {
          "output_type": "display_data",
          "data": {
            "text/plain": [
              "0.3019601438779255"
            ]
          },
          "metadata": {}
        },
        {
          "output_type": "display_data",
          "data": {
            "text/plain": [
              "0.6536750579657244"
            ]
          },
          "metadata": {}
        },
        {
          "execution_count": 11,
          "output_type": "execute_result",
          "data": {
            "text/plain": [
              "<AxesSubplot:xlabel='total_area', ylabel='last_price'>"
            ]
          },
          "metadata": {}
        },
        {
          "output_type": "display_data",
          "data": {
            "image/png": "[encoded data removed]",
            "text/plain": [
              "<Figure size 432x288 with 1 Axes>"
            ]
          },
          "metadata": {
            "needs_background": "light"
          }
        }
      ]
    },
    {
      "cell_type": "markdown",
      "source": "### Видно, что:\n- есть слабая корреляция между площадью квартиры и ценой квадратного метра\n- достаточно сильная зависимость между общей площадью и ценой всей квартиры",
      "metadata": {}
    },
    {
      "cell_type": "code",
      "source": "display(data['price_m2'].corr(data['rooms']))\n# смотрим корреляцию между стоимостью квадратного метра и количеством комнат\ndisplay(data.pivot_table(index='rooms', values='price_m2', aggfunc='mean').head(10))\n# смотрим среднюю стоимость квадратного метра в зависимости от количества комнат\ndisplay(data['last_price'].corr(data['rooms']))\n# смотрим корреляцию между стоимостью всей квартиры и количеством комнат\ndisplay(data.pivot_table(index='rooms', values='last_price', aggfunc='mean').head(10))\n# смотрим среднюю стоимость всей квартиры в зависимости от количества комнат",
      "metadata": {},
      "execution_count": 12,
      "outputs": [
        {
          "output_type": "display_data",
          "data": {
            "text/plain": [
              "0.0554194996705922"
            ]
          },
          "metadata": {}
        },
        {
          "output_type": "display_data",
          "data": {
            "text/html": [
              "<div>\n",
              "<style scoped>\n",
              "    .dataframe tbody tr th:only-of-type {\n",
              "        vertical-align: middle;\n",
              "    }\n",
              "\n",
              "    .dataframe tbody tr th {\n",
              "        vertical-align: top;\n",
              "    }\n",
              "\n",
              "    .dataframe thead th {\n",
              "        text-align: right;\n",
              "    }\n",
              "</style>\n",
              "<table border=\"1\" class=\"dataframe\">\n",
              "  <thead>\n",
              "    <tr style=\"text-align: right;\">\n",
              "      <th></th>\n",
              "      <th>price_m2</th>\n",
              "    </tr>\n",
              "    <tr>\n",
              "      <th>rooms</th>\n",
              "      <th></th>\n",
              "    </tr>\n",
              "  </thead>\n",
              "  <tbody>\n",
              "    <tr>\n",
              "      <th>0</th>\n",
              "      <td>108512.730964</td>\n",
              "    </tr>\n",
              "    <tr>\n",
              "      <th>1</th>\n",
              "      <td>100817.830993</td>\n",
              "    </tr>\n",
              "    <tr>\n",
              "      <th>2</th>\n",
              "      <td>95489.207557</td>\n",
              "    </tr>\n",
              "    <tr>\n",
              "      <th>3</th>\n",
              "      <td>97150.694358</td>\n",
              "    </tr>\n",
              "    <tr>\n",
              "      <th>4</th>\n",
              "      <td>110331.160169</td>\n",
              "    </tr>\n",
              "    <tr>\n",
              "      <th>5</th>\n",
              "      <td>126749.889571</td>\n",
              "    </tr>\n",
              "    <tr>\n",
              "      <th>6</th>\n",
              "      <td>140718.342857</td>\n",
              "    </tr>\n",
              "    <tr>\n",
              "      <th>7</th>\n",
              "      <td>163569.491525</td>\n",
              "    </tr>\n",
              "    <tr>\n",
              "      <th>8</th>\n",
              "      <td>184650.583333</td>\n",
              "    </tr>\n",
              "    <tr>\n",
              "      <th>9</th>\n",
              "      <td>105026.875000</td>\n",
              "    </tr>\n",
              "  </tbody>\n",
              "</table>\n",
              "</div>"
            ],
            "text/plain": [
              "            price_m2\n",
              "rooms               \n",
              "0      108512.730964\n",
              "1      100817.830993\n",
              "2       95489.207557\n",
              "3       97150.694358\n",
              "4      110331.160169\n",
              "5      126749.889571\n",
              "6      140718.342857\n",
              "7      163569.491525\n",
              "8      184650.583333\n",
              "9      105026.875000"
            ]
          },
          "metadata": {}
        },
        {
          "output_type": "display_data",
          "data": {
            "text/plain": [
              "0.36334284996489546"
            ]
          },
          "metadata": {}
        },
        {
          "output_type": "display_data",
          "data": {
            "text/html": [
              "<div>\n",
              "<style scoped>\n",
              "    .dataframe tbody tr th:only-of-type {\n",
              "        vertical-align: middle;\n",
              "    }\n",
              "\n",
              "    .dataframe tbody tr th {\n",
              "        vertical-align: top;\n",
              "    }\n",
              "\n",
              "    .dataframe thead th {\n",
              "        text-align: right;\n",
              "    }\n",
              "</style>\n",
              "<table border=\"1\" class=\"dataframe\">\n",
              "  <thead>\n",
              "    <tr style=\"text-align: right;\">\n",
              "      <th></th>\n",
              "      <th>last_price</th>\n",
              "    </tr>\n",
              "    <tr>\n",
              "      <th>rooms</th>\n",
              "      <th></th>\n",
              "    </tr>\n",
              "  </thead>\n",
              "  <tbody>\n",
              "    <tr>\n",
              "      <th>0</th>\n",
              "      <td>3.337724e+06</td>\n",
              "    </tr>\n",
              "    <tr>\n",
              "      <th>1</th>\n",
              "      <td>3.835362e+06</td>\n",
              "    </tr>\n",
              "    <tr>\n",
              "      <th>2</th>\n",
              "      <td>5.591605e+06</td>\n",
              "    </tr>\n",
              "    <tr>\n",
              "      <th>3</th>\n",
              "      <td>8.179119e+06</td>\n",
              "    </tr>\n",
              "    <tr>\n",
              "      <th>4</th>\n",
              "      <td>1.342350e+07</td>\n",
              "    </tr>\n",
              "    <tr>\n",
              "      <th>5</th>\n",
              "      <td>2.376208e+07</td>\n",
              "    </tr>\n",
              "    <tr>\n",
              "      <th>6</th>\n",
              "      <td>3.170975e+07</td>\n",
              "    </tr>\n",
              "    <tr>\n",
              "      <th>7</th>\n",
              "      <td>5.147007e+07</td>\n",
              "    </tr>\n",
              "    <tr>\n",
              "      <th>8</th>\n",
              "      <td>5.022417e+07</td>\n",
              "    </tr>\n",
              "    <tr>\n",
              "      <th>9</th>\n",
              "      <td>3.415236e+07</td>\n",
              "    </tr>\n",
              "  </tbody>\n",
              "</table>\n",
              "</div>"
            ],
            "text/plain": [
              "         last_price\n",
              "rooms              \n",
              "0      3.337724e+06\n",
              "1      3.835362e+06\n",
              "2      5.591605e+06\n",
              "3      8.179119e+06\n",
              "4      1.342350e+07\n",
              "5      2.376208e+07\n",
              "6      3.170975e+07\n",
              "7      5.147007e+07\n",
              "8      5.022417e+07\n",
              "9      3.415236e+07"
            ]
          },
          "metadata": {}
        }
      ]
    },
    {
      "cell_type": "markdown",
      "source": "### Стоимость квадратного метра не зависит от количества комнат, в отличие от общей цены квартиры.",
      "metadata": {}
    },
    {
      "cell_type": "code",
      "source": "display(data['price_m2'].corr(data['cityCenters_nearest']))\n# смотрим корреляцию между стоимостью квадратного метра и удалённостью от центра\ndisplay(data['last_price'].corr(data['cityCenters_nearest']))\n# смотрим корреляцию между общей стоимостью квартиры и удалённостью от центра",
      "metadata": {},
      "execution_count": 13,
      "outputs": [
        {
          "output_type": "display_data",
          "data": {
            "text/plain": [
              "-0.3179507368286467"
            ]
          },
          "metadata": {}
        },
        {
          "output_type": "display_data",
          "data": {
            "text/plain": [
              "-0.20674734874298376"
            ]
          },
          "metadata": {}
        }
      ]
    },
    {
      "cell_type": "markdown",
      "source": "### Есть небольшая обратная корреляция между стоимостью квадратного метра и удалённостью от центра города, т.е. чем ближе к центру, тем цена выше, что логично.",
      "metadata": {}
    },
    {
      "cell_type": "code",
      "source": "pd.plotting.scatter_matrix(data.loc[:, ['last_price', 'total_area', 'rooms', 'cityCenters_nearest']], figsize=(17, 17))\n# смотрим на графиках зависимость цены квартиры от различных параметров",
      "metadata": {},
      "execution_count": 14,
      "outputs": [
        {
          "execution_count": 14,
          "output_type": "execute_result",
          "data": {
            "text/plain": [
              "array([[<AxesSubplot:xlabel='last_price', ylabel='last_price'>,\n",
              "        <AxesSubplot:xlabel='total_area', ylabel='last_price'>,\n",
              "        <AxesSubplot:xlabel='rooms', ylabel='last_price'>,\n",
              "        <AxesSubplot:xlabel='cityCenters_nearest', ylabel='last_price'>],\n",
              "       [<AxesSubplot:xlabel='last_price', ylabel='total_area'>,\n",
              "        <AxesSubplot:xlabel='total_area', ylabel='total_area'>,\n",
              "        <AxesSubplot:xlabel='rooms', ylabel='total_area'>,\n",
              "        <AxesSubplot:xlabel='cityCenters_nearest', ylabel='total_area'>],\n",
              "       [<AxesSubplot:xlabel='last_price', ylabel='rooms'>,\n",
              "        <AxesSubplot:xlabel='total_area', ylabel='rooms'>,\n",
              "        <AxesSubplot:xlabel='rooms', ylabel='rooms'>,\n",
              "        <AxesSubplot:xlabel='cityCenters_nearest', ylabel='rooms'>],\n",
              "       [<AxesSubplot:xlabel='last_price', ylabel='cityCenters_nearest'>,\n",
              "        <AxesSubplot:xlabel='total_area', ylabel='cityCenters_nearest'>,\n",
              "        <AxesSubplot:xlabel='rooms', ylabel='cityCenters_nearest'>,\n",
              "        <AxesSubplot:xlabel='cityCenters_nearest', ylabel='cityCenters_nearest'>]],\n",
              "      dtype=object)"
            ]
          },
          "metadata": {}
        },
        {
          "output_type": "display_data",
          "data": {
            "image/png": "[encoded data removed]",
            "text/plain": [
              "<Figure size 1224x1224 with 16 Axes>"
            ]
          },
          "metadata": {
            "needs_background": "light"
          }
        }
      ]
    },
    {
      "cell_type": "markdown",
      "source": "### Графическое подтверждение сделанных выше выводов.",
      "metadata": {}
    },
    {
      "cell_type": "code",
      "source": "display(data.pivot_table(index='floor_category', values='price_m2', aggfunc='mean').sort_values(by='price_m2', ascending=False))\n# смотрим среднюю стоимость квадратного метра в зависимости от этажа\ndisplay(data.pivot_table(index='floor_category', values='last_price', aggfunc='mean').sort_values(by='last_price', ascending=False))\n# смотрим среднюю стоимость всей квартиры в зависимости от этажа",
      "metadata": {},
      "execution_count": 15,
      "outputs": [
        {
          "output_type": "display_data",
          "data": {
            "text/html": [
              "<div>\n",
              "<style scoped>\n",
              "    .dataframe tbody tr th:only-of-type {\n",
              "        vertical-align: middle;\n",
              "    }\n",
              "\n",
              "    .dataframe tbody tr th {\n",
              "        vertical-align: top;\n",
              "    }\n",
              "\n",
              "    .dataframe thead th {\n",
              "        text-align: right;\n",
              "    }\n",
              "</style>\n",
              "<table border=\"1\" class=\"dataframe\">\n",
              "  <thead>\n",
              "    <tr style=\"text-align: right;\">\n",
              "      <th></th>\n",
              "      <th>price_m2</th>\n",
              "    </tr>\n",
              "    <tr>\n",
              "      <th>floor_category</th>\n",
              "      <th></th>\n",
              "    </tr>\n",
              "  </thead>\n",
              "  <tbody>\n",
              "    <tr>\n",
              "      <th>другой</th>\n",
              "      <td>103467.774233</td>\n",
              "    </tr>\n",
              "    <tr>\n",
              "      <th>последний</th>\n",
              "      <td>93410.267686</td>\n",
              "    </tr>\n",
              "    <tr>\n",
              "      <th>первый</th>\n",
              "      <td>81983.111759</td>\n",
              "    </tr>\n",
              "  </tbody>\n",
              "</table>\n",
              "</div>"
            ],
            "text/plain": [
              "                     price_m2\n",
              "floor_category               \n",
              "другой          103467.774233\n",
              "последний        93410.267686\n",
              "первый           81983.111759"
            ]
          },
          "metadata": {}
        },
        {
          "output_type": "display_data",
          "data": {
            "text/html": [
              "<div>\n",
              "<style scoped>\n",
              "    .dataframe tbody tr th:only-of-type {\n",
              "        vertical-align: middle;\n",
              "    }\n",
              "\n",
              "    .dataframe tbody tr th {\n",
              "        vertical-align: top;\n",
              "    }\n",
              "\n",
              "    .dataframe thead th {\n",
              "        text-align: right;\n",
              "    }\n",
              "</style>\n",
              "<table border=\"1\" class=\"dataframe\">\n",
              "  <thead>\n",
              "    <tr style=\"text-align: right;\">\n",
              "      <th></th>\n",
              "      <th>last_price</th>\n",
              "    </tr>\n",
              "    <tr>\n",
              "      <th>floor_category</th>\n",
              "      <th></th>\n",
              "    </tr>\n",
              "  </thead>\n",
              "  <tbody>\n",
              "    <tr>\n",
              "      <th>последний</th>\n",
              "      <td>7.361025e+06</td>\n",
              "    </tr>\n",
              "    <tr>\n",
              "      <th>другой</th>\n",
              "      <td>6.674074e+06</td>\n",
              "    </tr>\n",
              "    <tr>\n",
              "      <th>первый</th>\n",
              "      <td>4.803560e+06</td>\n",
              "    </tr>\n",
              "  </tbody>\n",
              "</table>\n",
              "</div>"
            ],
            "text/plain": [
              "                  last_price\n",
              "floor_category              \n",
              "последний       7.361025e+06\n",
              "другой          6.674074e+06\n",
              "первый          4.803560e+06"
            ]
          },
          "metadata": {}
        }
      ]
    },
    {
      "cell_type": "markdown",
      "source": "### Можно сделать вывод, что стоимость квадратного метра на первом этаже, в среднем, самая низкая. Последний, в среднем, дороже, чем перый. Ну а все остальные этажи дороже первого и последнего. При этом самые дорогие квартиры продаются на последнем этаже (видимо, в силу наибольшей площади), самые дешёвые - на первом.",
      "metadata": {}
    },
    {
      "cell_type": "code",
      "source": "display(data.pivot_table(index='day', values='price_m2', aggfunc='mean').sort_values(by='price_m2', ascending=False))\n# смотрим среднюю стоимость квадратного метра в зависимости от дня недели размещения объявления\ndisplay(data.pivot_table(index='day', values='last_price', aggfunc='mean').sort_values(by='last_price', ascending=False))\n# смотрим среднюю стоимость всей квартиры в зависимости от дня недели размещения объявления\ndisplay(data.pivot_table(index='day', values='price_m2', aggfunc='count'))\n# смотрим на количество объявлений, размещённых в разные дни недели",
      "metadata": {},
      "execution_count": 16,
      "outputs": [
        {
          "output_type": "display_data",
          "data": {
            "text/html": [
              "<div>\n",
              "<style scoped>\n",
              "    .dataframe tbody tr th:only-of-type {\n",
              "        vertical-align: middle;\n",
              "    }\n",
              "\n",
              "    .dataframe tbody tr th {\n",
              "        vertical-align: top;\n",
              "    }\n",
              "\n",
              "    .dataframe thead th {\n",
              "        text-align: right;\n",
              "    }\n",
              "</style>\n",
              "<table border=\"1\" class=\"dataframe\">\n",
              "  <thead>\n",
              "    <tr style=\"text-align: right;\">\n",
              "      <th></th>\n",
              "      <th>price_m2</th>\n",
              "    </tr>\n",
              "    <tr>\n",
              "      <th>day</th>\n",
              "      <th></th>\n",
              "    </tr>\n",
              "  </thead>\n",
              "  <tbody>\n",
              "    <tr>\n",
              "      <th>3</th>\n",
              "      <td>100162.466356</td>\n",
              "    </tr>\n",
              "    <tr>\n",
              "      <th>1</th>\n",
              "      <td>99734.089410</td>\n",
              "    </tr>\n",
              "    <tr>\n",
              "      <th>2</th>\n",
              "      <td>99616.731002</td>\n",
              "    </tr>\n",
              "    <tr>\n",
              "      <th>0</th>\n",
              "      <td>99437.994463</td>\n",
              "    </tr>\n",
              "    <tr>\n",
              "      <th>5</th>\n",
              "      <td>99017.722107</td>\n",
              "    </tr>\n",
              "    <tr>\n",
              "      <th>4</th>\n",
              "      <td>99011.697000</td>\n",
              "    </tr>\n",
              "    <tr>\n",
              "      <th>6</th>\n",
              "      <td>97707.917010</td>\n",
              "    </tr>\n",
              "  </tbody>\n",
              "</table>\n",
              "</div>"
            ],
            "text/plain": [
              "          price_m2\n",
              "day               \n",
              "3    100162.466356\n",
              "1     99734.089410\n",
              "2     99616.731002\n",
              "0     99437.994463\n",
              "5     99017.722107\n",
              "4     99011.697000\n",
              "6     97707.917010"
            ]
          },
          "metadata": {}
        },
        {
          "output_type": "display_data",
          "data": {
            "text/html": [
              "<div>\n",
              "<style scoped>\n",
              "    .dataframe tbody tr th:only-of-type {\n",
              "        vertical-align: middle;\n",
              "    }\n",
              "\n",
              "    .dataframe tbody tr th {\n",
              "        vertical-align: top;\n",
              "    }\n",
              "\n",
              "    .dataframe thead th {\n",
              "        text-align: right;\n",
              "    }\n",
              "</style>\n",
              "<table border=\"1\" class=\"dataframe\">\n",
              "  <thead>\n",
              "    <tr style=\"text-align: right;\">\n",
              "      <th></th>\n",
              "      <th>last_price</th>\n",
              "    </tr>\n",
              "    <tr>\n",
              "      <th>day</th>\n",
              "      <th></th>\n",
              "    </tr>\n",
              "  </thead>\n",
              "  <tbody>\n",
              "    <tr>\n",
              "      <th>5</th>\n",
              "      <td>6.976804e+06</td>\n",
              "    </tr>\n",
              "    <tr>\n",
              "      <th>3</th>\n",
              "      <td>6.708663e+06</td>\n",
              "    </tr>\n",
              "    <tr>\n",
              "      <th>2</th>\n",
              "      <td>6.627970e+06</td>\n",
              "    </tr>\n",
              "    <tr>\n",
              "      <th>0</th>\n",
              "      <td>6.511613e+06</td>\n",
              "    </tr>\n",
              "    <tr>\n",
              "      <th>1</th>\n",
              "      <td>6.394233e+06</td>\n",
              "    </tr>\n",
              "    <tr>\n",
              "      <th>4</th>\n",
              "      <td>6.372131e+06</td>\n",
              "    </tr>\n",
              "    <tr>\n",
              "      <th>6</th>\n",
              "      <td>6.246180e+06</td>\n",
              "    </tr>\n",
              "  </tbody>\n",
              "</table>\n",
              "</div>"
            ],
            "text/plain": [
              "       last_price\n",
              "day              \n",
              "5    6.976804e+06\n",
              "3    6.708663e+06\n",
              "2    6.627970e+06\n",
              "0    6.511613e+06\n",
              "1    6.394233e+06\n",
              "4    6.372131e+06\n",
              "6    6.246180e+06"
            ]
          },
          "metadata": {}
        },
        {
          "output_type": "display_data",
          "data": {
            "text/html": [
              "<div>\n",
              "<style scoped>\n",
              "    .dataframe tbody tr th:only-of-type {\n",
              "        vertical-align: middle;\n",
              "    }\n",
              "\n",
              "    .dataframe tbody tr th {\n",
              "        vertical-align: top;\n",
              "    }\n",
              "\n",
              "    .dataframe thead th {\n",
              "        text-align: right;\n",
              "    }\n",
              "</style>\n",
              "<table border=\"1\" class=\"dataframe\">\n",
              "  <thead>\n",
              "    <tr style=\"text-align: right;\">\n",
              "      <th></th>\n",
              "      <th>price_m2</th>\n",
              "    </tr>\n",
              "    <tr>\n",
              "      <th>day</th>\n",
              "      <th></th>\n",
              "    </tr>\n",
              "  </thead>\n",
              "  <tbody>\n",
              "    <tr>\n",
              "      <th>0</th>\n",
              "      <td>3612</td>\n",
              "    </tr>\n",
              "    <tr>\n",
              "      <th>1</th>\n",
              "      <td>4183</td>\n",
              "    </tr>\n",
              "    <tr>\n",
              "      <th>2</th>\n",
              "      <td>3974</td>\n",
              "    </tr>\n",
              "    <tr>\n",
              "      <th>3</th>\n",
              "      <td>4295</td>\n",
              "    </tr>\n",
              "    <tr>\n",
              "      <th>4</th>\n",
              "      <td>4000</td>\n",
              "    </tr>\n",
              "    <tr>\n",
              "      <th>5</th>\n",
              "      <td>1936</td>\n",
              "    </tr>\n",
              "    <tr>\n",
              "      <th>6</th>\n",
              "      <td>1699</td>\n",
              "    </tr>\n",
              "  </tbody>\n",
              "</table>\n",
              "</div>"
            ],
            "text/plain": [
              "     price_m2\n",
              "day          \n",
              "0        3612\n",
              "1        4183\n",
              "2        3974\n",
              "3        4295\n",
              "4        4000\n",
              "5        1936\n",
              "6        1699"
            ]
          },
          "metadata": {}
        }
      ]
    },
    {
      "cell_type": "code",
      "source": "display(data.pivot_table(index='month', values='price_m2', aggfunc='mean').sort_values(by='price_m2', ascending=False))\n# смотрим среднюю стоимость квадратного метра в зависимости от месяца размещения объявления\ndisplay(data.pivot_table(index='month', values='last_price', aggfunc='mean').sort_values(by='last_price', ascending=False))\n# смотрим среднюю стоимость всей квартиры в зависимости от месяца размещения объявления\ndisplay(data.pivot_table(index='month', values='price_m2', aggfunc='count'))\n# смотрим количество объявлений, размещённых в разные месяцы",
      "metadata": {},
      "execution_count": 17,
      "outputs": [
        {
          "output_type": "display_data",
          "data": {
            "text/html": [
              "<div>\n",
              "<style scoped>\n",
              "    .dataframe tbody tr th:only-of-type {\n",
              "        vertical-align: middle;\n",
              "    }\n",
              "\n",
              "    .dataframe tbody tr th {\n",
              "        vertical-align: top;\n",
              "    }\n",
              "\n",
              "    .dataframe thead th {\n",
              "        text-align: right;\n",
              "    }\n",
              "</style>\n",
              "<table border=\"1\" class=\"dataframe\">\n",
              "  <thead>\n",
              "    <tr style=\"text-align: right;\">\n",
              "      <th></th>\n",
              "      <th>price_m2</th>\n",
              "    </tr>\n",
              "    <tr>\n",
              "      <th>month</th>\n",
              "      <th></th>\n",
              "    </tr>\n",
              "  </thead>\n",
              "  <tbody>\n",
              "    <tr>\n",
              "      <th>4</th>\n",
              "      <td>101948.567045</td>\n",
              "    </tr>\n",
              "    <tr>\n",
              "      <th>9</th>\n",
              "      <td>100463.814740</td>\n",
              "    </tr>\n",
              "    <tr>\n",
              "      <th>8</th>\n",
              "      <td>100110.094037</td>\n",
              "    </tr>\n",
              "    <tr>\n",
              "      <th>1</th>\n",
              "      <td>99862.139333</td>\n",
              "    </tr>\n",
              "    <tr>\n",
              "      <th>7</th>\n",
              "      <td>99625.190560</td>\n",
              "    </tr>\n",
              "    <tr>\n",
              "      <th>12</th>\n",
              "      <td>99574.280926</td>\n",
              "    </tr>\n",
              "    <tr>\n",
              "      <th>11</th>\n",
              "      <td>99230.427246</td>\n",
              "    </tr>\n",
              "    <tr>\n",
              "      <th>3</th>\n",
              "      <td>98972.768844</td>\n",
              "    </tr>\n",
              "    <tr>\n",
              "      <th>2</th>\n",
              "      <td>98768.292045</td>\n",
              "    </tr>\n",
              "    <tr>\n",
              "      <th>5</th>\n",
              "      <td>98543.340659</td>\n",
              "    </tr>\n",
              "    <tr>\n",
              "      <th>10</th>\n",
              "      <td>97933.448049</td>\n",
              "    </tr>\n",
              "    <tr>\n",
              "      <th>6</th>\n",
              "      <td>97762.870455</td>\n",
              "    </tr>\n",
              "  </tbody>\n",
              "</table>\n",
              "</div>"
            ],
            "text/plain": [
              "            price_m2\n",
              "month               \n",
              "4      101948.567045\n",
              "9      100463.814740\n",
              "8      100110.094037\n",
              "1       99862.139333\n",
              "7       99625.190560\n",
              "12      99574.280926\n",
              "11      99230.427246\n",
              "3       98972.768844\n",
              "2       98768.292045\n",
              "5       98543.340659\n",
              "10      97933.448049\n",
              "6       97762.870455"
            ]
          },
          "metadata": {}
        },
        {
          "output_type": "display_data",
          "data": {
            "text/html": [
              "<div>\n",
              "<style scoped>\n",
              "    .dataframe tbody tr th:only-of-type {\n",
              "        vertical-align: middle;\n",
              "    }\n",
              "\n",
              "    .dataframe tbody tr th {\n",
              "        vertical-align: top;\n",
              "    }\n",
              "\n",
              "    .dataframe thead th {\n",
              "        text-align: right;\n",
              "    }\n",
              "</style>\n",
              "<table border=\"1\" class=\"dataframe\">\n",
              "  <thead>\n",
              "    <tr style=\"text-align: right;\">\n",
              "      <th></th>\n",
              "      <th>last_price</th>\n",
              "    </tr>\n",
              "    <tr>\n",
              "      <th>month</th>\n",
              "      <th></th>\n",
              "    </tr>\n",
              "  </thead>\n",
              "  <tbody>\n",
              "    <tr>\n",
              "      <th>12</th>\n",
              "      <td>7.011731e+06</td>\n",
              "    </tr>\n",
              "    <tr>\n",
              "      <th>9</th>\n",
              "      <td>6.825470e+06</td>\n",
              "    </tr>\n",
              "    <tr>\n",
              "      <th>4</th>\n",
              "      <td>6.737198e+06</td>\n",
              "    </tr>\n",
              "    <tr>\n",
              "      <th>1</th>\n",
              "      <td>6.668233e+06</td>\n",
              "    </tr>\n",
              "    <tr>\n",
              "      <th>7</th>\n",
              "      <td>6.649337e+06</td>\n",
              "    </tr>\n",
              "    <tr>\n",
              "      <th>5</th>\n",
              "      <td>6.600435e+06</td>\n",
              "    </tr>\n",
              "    <tr>\n",
              "      <th>2</th>\n",
              "      <td>6.468500e+06</td>\n",
              "    </tr>\n",
              "    <tr>\n",
              "      <th>11</th>\n",
              "      <td>6.461363e+06</td>\n",
              "    </tr>\n",
              "    <tr>\n",
              "      <th>3</th>\n",
              "      <td>6.359275e+06</td>\n",
              "    </tr>\n",
              "    <tr>\n",
              "      <th>8</th>\n",
              "      <td>6.350233e+06</td>\n",
              "    </tr>\n",
              "    <tr>\n",
              "      <th>6</th>\n",
              "      <td>6.310269e+06</td>\n",
              "    </tr>\n",
              "    <tr>\n",
              "      <th>10</th>\n",
              "      <td>6.235013e+06</td>\n",
              "    </tr>\n",
              "  </tbody>\n",
              "</table>\n",
              "</div>"
            ],
            "text/plain": [
              "         last_price\n",
              "month              \n",
              "12     7.011731e+06\n",
              "9      6.825470e+06\n",
              "4      6.737198e+06\n",
              "1      6.668233e+06\n",
              "7      6.649337e+06\n",
              "5      6.600435e+06\n",
              "2      6.468500e+06\n",
              "11     6.461363e+06\n",
              "3      6.359275e+06\n",
              "8      6.350233e+06\n",
              "6      6.310269e+06\n",
              "10     6.235013e+06"
            ]
          },
          "metadata": {}
        },
        {
          "output_type": "display_data",
          "data": {
            "text/html": [
              "<div>\n",
              "<style scoped>\n",
              "    .dataframe tbody tr th:only-of-type {\n",
              "        vertical-align: middle;\n",
              "    }\n",
              "\n",
              "    .dataframe tbody tr th {\n",
              "        vertical-align: top;\n",
              "    }\n",
              "\n",
              "    .dataframe thead th {\n",
              "        text-align: right;\n",
              "    }\n",
              "</style>\n",
              "<table border=\"1\" class=\"dataframe\">\n",
              "  <thead>\n",
              "    <tr style=\"text-align: right;\">\n",
              "      <th></th>\n",
              "      <th>price_m2</th>\n",
              "    </tr>\n",
              "    <tr>\n",
              "      <th>month</th>\n",
              "      <th></th>\n",
              "    </tr>\n",
              "  </thead>\n",
              "  <tbody>\n",
              "    <tr>\n",
              "      <th>1</th>\n",
              "      <td>1500</td>\n",
              "    </tr>\n",
              "    <tr>\n",
              "      <th>2</th>\n",
              "      <td>2640</td>\n",
              "    </tr>\n",
              "    <tr>\n",
              "      <th>3</th>\n",
              "      <td>2587</td>\n",
              "    </tr>\n",
              "    <tr>\n",
              "      <th>4</th>\n",
              "      <td>2379</td>\n",
              "    </tr>\n",
              "    <tr>\n",
              "      <th>5</th>\n",
              "      <td>1274</td>\n",
              "    </tr>\n",
              "    <tr>\n",
              "      <th>6</th>\n",
              "      <td>1760</td>\n",
              "    </tr>\n",
              "    <tr>\n",
              "      <th>7</th>\n",
              "      <td>1695</td>\n",
              "    </tr>\n",
              "    <tr>\n",
              "      <th>8</th>\n",
              "      <td>1744</td>\n",
              "    </tr>\n",
              "    <tr>\n",
              "      <th>9</th>\n",
              "      <td>1981</td>\n",
              "    </tr>\n",
              "    <tr>\n",
              "      <th>10</th>\n",
              "      <td>2127</td>\n",
              "    </tr>\n",
              "    <tr>\n",
              "      <th>11</th>\n",
              "      <td>2371</td>\n",
              "    </tr>\n",
              "    <tr>\n",
              "      <th>12</th>\n",
              "      <td>1641</td>\n",
              "    </tr>\n",
              "  </tbody>\n",
              "</table>\n",
              "</div>"
            ],
            "text/plain": [
              "       price_m2\n",
              "month          \n",
              "1          1500\n",
              "2          2640\n",
              "3          2587\n",
              "4          2379\n",
              "5          1274\n",
              "6          1760\n",
              "7          1695\n",
              "8          1744\n",
              "9          1981\n",
              "10         2127\n",
              "11         2371\n",
              "12         1641"
            ]
          },
          "metadata": {}
        }
      ]
    },
    {
      "cell_type": "code",
      "source": "display(data.pivot_table(index='year', values='price_m2', aggfunc='mean').sort_values(by='price_m2', ascending=False))\n# смотрим среднюю стоимость квадратного метра в зависимости от года размещения объявления\ndisplay(data.pivot_table(index='year', values='last_price', aggfunc='mean').sort_values(by='last_price', ascending=False))\n# смотрим среднюю стоимость всей квартиры в зависимости от года размещения объявления\ndisplay(data.pivot_table(index='year', values='price_m2', aggfunc='count'))\n# смотрим количество объявлений, размещённых в разные годы",
      "metadata": {},
      "execution_count": 18,
      "outputs": [
        {
          "output_type": "display_data",
          "data": {
            "text/html": [
              "<div>\n",
              "<style scoped>\n",
              "    .dataframe tbody tr th:only-of-type {\n",
              "        vertical-align: middle;\n",
              "    }\n",
              "\n",
              "    .dataframe tbody tr th {\n",
              "        vertical-align: top;\n",
              "    }\n",
              "\n",
              "    .dataframe thead th {\n",
              "        text-align: right;\n",
              "    }\n",
              "</style>\n",
              "<table border=\"1\" class=\"dataframe\">\n",
              "  <thead>\n",
              "    <tr style=\"text-align: right;\">\n",
              "      <th></th>\n",
              "      <th>price_m2</th>\n",
              "    </tr>\n",
              "    <tr>\n",
              "      <th>year</th>\n",
              "      <th></th>\n",
              "    </tr>\n",
              "  </thead>\n",
              "  <tbody>\n",
              "    <tr>\n",
              "      <th>2014</th>\n",
              "      <td>124830.000000</td>\n",
              "    </tr>\n",
              "    <tr>\n",
              "      <th>2019</th>\n",
              "      <td>107123.332060</td>\n",
              "    </tr>\n",
              "    <tr>\n",
              "      <th>2015</th>\n",
              "      <td>104613.756507</td>\n",
              "    </tr>\n",
              "    <tr>\n",
              "      <th>2016</th>\n",
              "      <td>98321.900467</td>\n",
              "    </tr>\n",
              "    <tr>\n",
              "      <th>2018</th>\n",
              "      <td>97773.107290</td>\n",
              "    </tr>\n",
              "    <tr>\n",
              "      <th>2017</th>\n",
              "      <td>97621.434188</td>\n",
              "    </tr>\n",
              "  </tbody>\n",
              "</table>\n",
              "</div>"
            ],
            "text/plain": [
              "           price_m2\n",
              "year               \n",
              "2014  124830.000000\n",
              "2019  107123.332060\n",
              "2015  104613.756507\n",
              "2016   98321.900467\n",
              "2018   97773.107290\n",
              "2017   97621.434188"
            ]
          },
          "metadata": {}
        },
        {
          "output_type": "display_data",
          "data": {
            "text/html": [
              "<div>\n",
              "<style scoped>\n",
              "    .dataframe tbody tr th:only-of-type {\n",
              "        vertical-align: middle;\n",
              "    }\n",
              "\n",
              "    .dataframe tbody tr th {\n",
              "        vertical-align: top;\n",
              "    }\n",
              "\n",
              "    .dataframe thead th {\n",
              "        text-align: right;\n",
              "    }\n",
              "</style>\n",
              "<table border=\"1\" class=\"dataframe\">\n",
              "  <thead>\n",
              "    <tr style=\"text-align: right;\">\n",
              "      <th></th>\n",
              "      <th>last_price</th>\n",
              "    </tr>\n",
              "    <tr>\n",
              "      <th>year</th>\n",
              "      <th></th>\n",
              "    </tr>\n",
              "  </thead>\n",
              "  <tbody>\n",
              "    <tr>\n",
              "      <th>2014</th>\n",
              "      <td>1.208714e+07</td>\n",
              "    </tr>\n",
              "    <tr>\n",
              "      <th>2015</th>\n",
              "      <td>8.572833e+06</td>\n",
              "    </tr>\n",
              "    <tr>\n",
              "      <th>2016</th>\n",
              "      <td>6.827912e+06</td>\n",
              "    </tr>\n",
              "    <tr>\n",
              "      <th>2019</th>\n",
              "      <td>6.782388e+06</td>\n",
              "    </tr>\n",
              "    <tr>\n",
              "      <th>2017</th>\n",
              "      <td>6.585729e+06</td>\n",
              "    </tr>\n",
              "    <tr>\n",
              "      <th>2018</th>\n",
              "      <td>5.950966e+06</td>\n",
              "    </tr>\n",
              "  </tbody>\n",
              "</table>\n",
              "</div>"
            ],
            "text/plain": [
              "        last_price\n",
              "year              \n",
              "2014  1.208714e+07\n",
              "2015  8.572833e+06\n",
              "2016  6.827912e+06\n",
              "2019  6.782388e+06\n",
              "2017  6.585729e+06\n",
              "2018  5.950966e+06"
            ]
          },
          "metadata": {}
        },
        {
          "output_type": "display_data",
          "data": {
            "text/html": [
              "<div>\n",
              "<style scoped>\n",
              "    .dataframe tbody tr th:only-of-type {\n",
              "        vertical-align: middle;\n",
              "    }\n",
              "\n",
              "    .dataframe tbody tr th {\n",
              "        vertical-align: top;\n",
              "    }\n",
              "\n",
              "    .dataframe thead th {\n",
              "        text-align: right;\n",
              "    }\n",
              "</style>\n",
              "<table border=\"1\" class=\"dataframe\">\n",
              "  <thead>\n",
              "    <tr style=\"text-align: right;\">\n",
              "      <th></th>\n",
              "      <th>price_m2</th>\n",
              "    </tr>\n",
              "    <tr>\n",
              "      <th>year</th>\n",
              "      <th></th>\n",
              "    </tr>\n",
              "  </thead>\n",
              "  <tbody>\n",
              "    <tr>\n",
              "      <th>2014</th>\n",
              "      <td>137</td>\n",
              "    </tr>\n",
              "    <tr>\n",
              "      <th>2015</th>\n",
              "      <td>1191</td>\n",
              "    </tr>\n",
              "    <tr>\n",
              "      <th>2016</th>\n",
              "      <td>2783</td>\n",
              "    </tr>\n",
              "    <tr>\n",
              "      <th>2017</th>\n",
              "      <td>8190</td>\n",
              "    </tr>\n",
              "    <tr>\n",
              "      <th>2018</th>\n",
              "      <td>8519</td>\n",
              "    </tr>\n",
              "    <tr>\n",
              "      <th>2019</th>\n",
              "      <td>2879</td>\n",
              "    </tr>\n",
              "  </tbody>\n",
              "</table>\n",
              "</div>"
            ],
            "text/plain": [
              "      price_m2\n",
              "year          \n",
              "2014       137\n",
              "2015      1191\n",
              "2016      2783\n",
              "2017      8190\n",
              "2018      8519\n",
              "2019      2879"
            ]
          },
          "metadata": {}
        }
      ]
    },
    {
      "cell_type": "markdown",
      "source": "### Выводы.\n1. Самая высокая средняя цена квадратного метра у объектов, которые были выложены в четверг, вторник и среду. Самая высокая средняя цена всей квартиры у объектов, выложенных в пятницу, четверг и среду.\n2. Самая высокая средняя цена квадратного метра у объектов, которые размещались в апреле, сентябре и августе. Самая высокая средняя цена всей квартиры у объектов, выложенных в декабре, сентябре и апреле.\n3. Самая высокая средняя цена квадратного метра у объектов, которые продавались в 2014, 2015 и 2019 гг. Самая высокая средняя цена всей квартиры у объектов, проданных в 2014 и 2015 г.\n\nТажке, если посмотреть на количество объявлений, то видно что в 2014 г. было размещено в 9 раз меньше объявлений, чем в 2015 и тем более в другие года. Такая разница в количестве объявлений могла оказать сильное влияние на результаты исследования.\n",
      "metadata": {}
    },
    {
      "cell_type": "markdown",
      "source": "### Общий вывод. \nИз исследования видно, что цена квадратного метра (если брать весь датафрейм) в наибольшей степени зависит от этажа и удалённости от центра. Такие характеристики, как количество комнат, высота потолков и дата размещения оказывают слабое влияние или не оказывают его вовсе (за исключением 2014 г.).\nСо стоимостью всей квартиры ситуация иная, на неё оказывает влияние множество факторов:\n- общая площадь квартиры и количество комнат напраямую влияет на стоимость квартиры - чем больше, тем дороже\n- этаж квартиры также оказывает влияние, но иначе - самые дорогие квартиры продаются на последнем этаже, самые дешевые - на первом\n- день размещения также оказывает влияние на общую стоимость квартиры, самая высокая средняя цена у квартир, размещённых в субботу, самая низкая у тех, которые были размещены в воскресенье, разница в цене около 10%\n- месяц размещения также имеет значение, самая высокая средняя цена у квартир, проданных в декабре, самая низкая - у проданных в октябре, разница также около 10%\n- как показывает исследование, год также влияет на среднюю стоимость квартиры, самые дорогие квартиры продавались в 2014 и 2015 годах, самые дешевые в 2018, но надо сделать оговорку, что количество объявлений в 2014 и 2015 годах было кратно меньше, чем в другие годы, поэтому данные могут быть нерепрезантитвны.",
      "metadata": {}
    },
    {
      "cell_type": "markdown",
      "source": "## Исследование 10 крупнейших локаций",
      "metadata": {}
    },
    {
      "cell_type": "code",
      "source": "data['locality_name'].value_counts().head(10)\n# смотрим количество объявлений в зависимости от локации и оставляем 10 крупнейших",
      "metadata": {},
      "execution_count": 19,
      "outputs": [
        {
          "execution_count": 19,
          "output_type": "execute_result",
          "data": {
            "text/plain": [
              "Санкт-Петербург      15721\n",
              "посёлок Мурино         522\n",
              "посёлок Шушары         440\n",
              "Всеволожск             398\n",
              "Пушкин                 369\n",
              "Колпино                338\n",
              "посёлок Парголово      327\n",
              "Гатчина                307\n",
              "деревня Кудрово        299\n",
              "Выборг                 237\n",
              "Name: locality_name, dtype: int64"
            ]
          },
          "metadata": {}
        }
      ]
    },
    {
      "cell_type": "markdown",
      "source": "### Ожидаемо, больше всего объявлений в Санкт-Петербурге и ближайшем пригороде.",
      "metadata": {}
    },
    {
      "cell_type": "code",
      "source": "data_top10 = data.query('locality_name == [\"Санкт-Петербург\", \"посёлок Мурино\", \"посёлок Шушары\", \"Всеволожск\", \"Пушкин\", \"Колпино\", \"посёлок Парголово\", \"Гатчина\", \"деревня Кудрово\", \"Выборг\"]')\n# формируем датафрейм по 10 локациям, имеющим наибольшее количество размещенных объявлений\ndata_top10.describe()",
      "metadata": {},
      "execution_count": 20,
      "outputs": [
        {
          "execution_count": 20,
          "output_type": "execute_result",
          "data": {
            "text/html": [
              "<div>\n",
              "<style scoped>\n",
              "    .dataframe tbody tr th:only-of-type {\n",
              "        vertical-align: middle;\n",
              "    }\n",
              "\n",
              "    .dataframe tbody tr th {\n",
              "        vertical-align: top;\n",
              "    }\n",
              "\n",
              "    .dataframe thead th {\n",
              "        text-align: right;\n",
              "    }\n",
              "</style>\n",
              "<table border=\"1\" class=\"dataframe\">\n",
              "  <thead>\n",
              "    <tr style=\"text-align: right;\">\n",
              "      <th></th>\n",
              "      <th>total_images</th>\n",
              "      <th>last_price</th>\n",
              "      <th>total_area</th>\n",
              "      <th>rooms</th>\n",
              "      <th>ceiling_height</th>\n",
              "      <th>floors_total</th>\n",
              "      <th>living_area</th>\n",
              "      <th>floor</th>\n",
              "      <th>kitchen_area</th>\n",
              "      <th>balcony</th>\n",
              "      <th>...</th>\n",
              "      <th>parks_nearest</th>\n",
              "      <th>ponds_around3000</th>\n",
              "      <th>ponds_nearest</th>\n",
              "      <th>days_exposition</th>\n",
              "      <th>price_m2</th>\n",
              "      <th>living_sq_ratio</th>\n",
              "      <th>kitchen_sq_ratio</th>\n",
              "      <th>day</th>\n",
              "      <th>month</th>\n",
              "      <th>year</th>\n",
              "    </tr>\n",
              "  </thead>\n",
              "  <tbody>\n",
              "    <tr>\n",
              "      <th>count</th>\n",
              "      <td>18958.000000</td>\n",
              "      <td>1.895800e+04</td>\n",
              "      <td>18958.000000</td>\n",
              "      <td>18958.000000</td>\n",
              "      <td>18958.000000</td>\n",
              "      <td>18885.000000</td>\n",
              "      <td>17538.000000</td>\n",
              "      <td>18958.000000</td>\n",
              "      <td>17194.000000</td>\n",
              "      <td>18958.000000</td>\n",
              "      <td>...</td>\n",
              "      <td>7639.000000</td>\n",
              "      <td>18958.000000</td>\n",
              "      <td>8558.000000</td>\n",
              "      <td>16594.000000</td>\n",
              "      <td>1.895800e+04</td>\n",
              "      <td>17538.000000</td>\n",
              "      <td>17194.000000</td>\n",
              "      <td>18958.000000</td>\n",
              "      <td>18958.000000</td>\n",
              "      <td>18958.000000</td>\n",
              "    </tr>\n",
              "    <tr>\n",
              "      <th>mean</th>\n",
              "      <td>9.993459</td>\n",
              "      <td>7.399779e+06</td>\n",
              "      <td>62.633121</td>\n",
              "      <td>2.106551</td>\n",
              "      <td>2.737340</td>\n",
              "      <td>11.555997</td>\n",
              "      <td>35.583117</td>\n",
              "      <td>6.339013</td>\n",
              "      <td>11.012581</td>\n",
              "      <td>0.596265</td>\n",
              "      <td>...</td>\n",
              "      <td>495.929834</td>\n",
              "      <td>0.684144</td>\n",
              "      <td>521.162538</td>\n",
              "      <td>180.609980</td>\n",
              "      <td>1.090730e+05</td>\n",
              "      <td>56.186110</td>\n",
              "      <td>18.918634</td>\n",
              "      <td>2.561557</td>\n",
              "      <td>6.425098</td>\n",
              "      <td>2017.346292</td>\n",
              "    </tr>\n",
              "    <tr>\n",
              "      <th>std</th>\n",
              "      <td>5.717881</td>\n",
              "      <td>1.197878e+07</td>\n",
              "      <td>38.288962</td>\n",
              "      <td>1.119791</td>\n",
              "      <td>0.996876</td>\n",
              "      <td>6.662818</td>\n",
              "      <td>23.533554</td>\n",
              "      <td>5.089494</td>\n",
              "      <td>6.262575</td>\n",
              "      <td>0.969325</td>\n",
              "      <td>...</td>\n",
              "      <td>343.908833</td>\n",
              "      <td>0.907631</td>\n",
              "      <td>278.129215</td>\n",
              "      <td>221.735525</td>\n",
              "      <td>5.037317e+04</td>\n",
              "      <td>10.637319</td>\n",
              "      <td>7.445067</td>\n",
              "      <td>1.784237</td>\n",
              "      <td>3.479365</td>\n",
              "      <td>1.041665</td>\n",
              "    </tr>\n",
              "    <tr>\n",
              "      <th>min</th>\n",
              "      <td>0.000000</td>\n",
              "      <td>1.219000e+04</td>\n",
              "      <td>12.000000</td>\n",
              "      <td>0.000000</td>\n",
              "      <td>1.000000</td>\n",
              "      <td>1.000000</td>\n",
              "      <td>2.000000</td>\n",
              "      <td>1.000000</td>\n",
              "      <td>1.300000</td>\n",
              "      <td>0.000000</td>\n",
              "      <td>...</td>\n",
              "      <td>1.000000</td>\n",
              "      <td>0.000000</td>\n",
              "      <td>13.000000</td>\n",
              "      <td>1.000000</td>\n",
              "      <td>1.110000e+02</td>\n",
              "      <td>2.000000</td>\n",
              "      <td>3.000000</td>\n",
              "      <td>0.000000</td>\n",
              "      <td>1.000000</td>\n",
              "      <td>2014.000000</td>\n",
              "    </tr>\n",
              "    <tr>\n",
              "      <th>25%</th>\n",
              "      <td>6.000000</td>\n",
              "      <td>3.900000e+06</td>\n",
              "      <td>40.700000</td>\n",
              "      <td>1.000000</td>\n",
              "      <td>2.600000</td>\n",
              "      <td>5.000000</td>\n",
              "      <td>19.000000</td>\n",
              "      <td>3.000000</td>\n",
              "      <td>7.300000</td>\n",
              "      <td>0.000000</td>\n",
              "      <td>...</td>\n",
              "      <td>293.000000</td>\n",
              "      <td>0.000000</td>\n",
              "      <td>295.250000</td>\n",
              "      <td>43.000000</td>\n",
              "      <td>8.610375e+04</td>\n",
              "      <td>49.000000</td>\n",
              "      <td>13.000000</td>\n",
              "      <td>1.000000</td>\n",
              "      <td>3.000000</td>\n",
              "      <td>2017.000000</td>\n",
              "    </tr>\n",
              "    <tr>\n",
              "      <th>50%</th>\n",
              "      <td>10.000000</td>\n",
              "      <td>5.150000e+06</td>\n",
              "      <td>53.900000</td>\n",
              "      <td>2.000000</td>\n",
              "      <td>2.650000</td>\n",
              "      <td>9.000000</td>\n",
              "      <td>30.700000</td>\n",
              "      <td>5.000000</td>\n",
              "      <td>10.000000</td>\n",
              "      <td>0.000000</td>\n",
              "      <td>...</td>\n",
              "      <td>458.000000</td>\n",
              "      <td>0.000000</td>\n",
              "      <td>506.000000</td>\n",
              "      <td>94.000000</td>\n",
              "      <td>1.004880e+05</td>\n",
              "      <td>57.000000</td>\n",
              "      <td>17.000000</td>\n",
              "      <td>3.000000</td>\n",
              "      <td>6.000000</td>\n",
              "      <td>2017.000000</td>\n",
              "    </tr>\n",
              "    <tr>\n",
              "      <th>75%</th>\n",
              "      <td>14.000000</td>\n",
              "      <td>7.500000e+06</td>\n",
              "      <td>72.200000</td>\n",
              "      <td>3.000000</td>\n",
              "      <td>2.700000</td>\n",
              "      <td>16.000000</td>\n",
              "      <td>43.100000</td>\n",
              "      <td>9.000000</td>\n",
              "      <td>12.200000</td>\n",
              "      <td>1.000000</td>\n",
              "      <td>...</td>\n",
              "      <td>617.000000</td>\n",
              "      <td>1.000000</td>\n",
              "      <td>733.000000</td>\n",
              "      <td>229.000000</td>\n",
              "      <td>1.198970e+05</td>\n",
              "      <td>64.000000</td>\n",
              "      <td>24.000000</td>\n",
              "      <td>4.000000</td>\n",
              "      <td>10.000000</td>\n",
              "      <td>2018.000000</td>\n",
              "    </tr>\n",
              "    <tr>\n",
              "      <th>max</th>\n",
              "      <td>50.000000</td>\n",
              "      <td>7.630000e+08</td>\n",
              "      <td>900.000000</td>\n",
              "      <td>19.000000</td>\n",
              "      <td>100.000000</td>\n",
              "      <td>52.000000</td>\n",
              "      <td>409.700000</td>\n",
              "      <td>33.000000</td>\n",
              "      <td>112.000000</td>\n",
              "      <td>5.000000</td>\n",
              "      <td>...</td>\n",
              "      <td>3190.000000</td>\n",
              "      <td>3.000000</td>\n",
              "      <td>1337.000000</td>\n",
              "      <td>1572.000000</td>\n",
              "      <td>1.907500e+06</td>\n",
              "      <td>100.000000</td>\n",
              "      <td>79.000000</td>\n",
              "      <td>6.000000</td>\n",
              "      <td>12.000000</td>\n",
              "      <td>2019.000000</td>\n",
              "    </tr>\n",
              "  </tbody>\n",
              "</table>\n",
              "<p>8 rows × 23 columns</p>\n",
              "</div>"
            ],
            "text/plain": [
              "       total_images    last_price    total_area         rooms  ceiling_height  \\\n",
              "count  18958.000000  1.895800e+04  18958.000000  18958.000000    18958.000000   \n",
              "mean       9.993459  7.399779e+06     62.633121      2.106551        2.737340   \n",
              "std        5.717881  1.197878e+07     38.288962      1.119791        0.996876   \n",
              "min        0.000000  1.219000e+04     12.000000      0.000000        1.000000   \n",
              "25%        6.000000  3.900000e+06     40.700000      1.000000        2.600000   \n",
              "50%       10.000000  5.150000e+06     53.900000      2.000000        2.650000   \n",
              "75%       14.000000  7.500000e+06     72.200000      3.000000        2.700000   \n",
              "max       50.000000  7.630000e+08    900.000000     19.000000      100.000000   \n",
              "\n",
              "       floors_total   living_area         floor  kitchen_area       balcony  \\\n",
              "count  18885.000000  17538.000000  18958.000000  17194.000000  18958.000000   \n",
              "mean      11.555997     35.583117      6.339013     11.012581      0.596265   \n",
              "std        6.662818     23.533554      5.089494      6.262575      0.969325   \n",
              "min        1.000000      2.000000      1.000000      1.300000      0.000000   \n",
              "25%        5.000000     19.000000      3.000000      7.300000      0.000000   \n",
              "50%        9.000000     30.700000      5.000000     10.000000      0.000000   \n",
              "75%       16.000000     43.100000      9.000000     12.200000      1.000000   \n",
              "max       52.000000    409.700000     33.000000    112.000000      5.000000   \n",
              "\n",
              "       ...  parks_nearest  ponds_around3000  ponds_nearest  days_exposition  \\\n",
              "count  ...    7639.000000      18958.000000    8558.000000     16594.000000   \n",
              "mean   ...     495.929834          0.684144     521.162538       180.609980   \n",
              "std    ...     343.908833          0.907631     278.129215       221.735525   \n",
              "min    ...       1.000000          0.000000      13.000000         1.000000   \n",
              "25%    ...     293.000000          0.000000     295.250000        43.000000   \n",
              "50%    ...     458.000000          0.000000     506.000000        94.000000   \n",
              "75%    ...     617.000000          1.000000     733.000000       229.000000   \n",
              "max    ...    3190.000000          3.000000    1337.000000      1572.000000   \n",
              "\n",
              "           price_m2  living_sq_ratio  kitchen_sq_ratio           day  \\\n",
              "count  1.895800e+04     17538.000000      17194.000000  18958.000000   \n",
              "mean   1.090730e+05        56.186110         18.918634      2.561557   \n",
              "std    5.037317e+04        10.637319          7.445067      1.784237   \n",
              "min    1.110000e+02         2.000000          3.000000      0.000000   \n",
              "25%    8.610375e+04        49.000000         13.000000      1.000000   \n",
              "50%    1.004880e+05        57.000000         17.000000      3.000000   \n",
              "75%    1.198970e+05        64.000000         24.000000      4.000000   \n",
              "max    1.907500e+06       100.000000         79.000000      6.000000   \n",
              "\n",
              "              month          year  \n",
              "count  18958.000000  18958.000000  \n",
              "mean       6.425098   2017.346292  \n",
              "std        3.479365      1.041665  \n",
              "min        1.000000   2014.000000  \n",
              "25%        3.000000   2017.000000  \n",
              "50%        6.000000   2017.000000  \n",
              "75%       10.000000   2018.000000  \n",
              "max       12.000000   2019.000000  \n",
              "\n",
              "[8 rows x 23 columns]"
            ]
          },
          "metadata": {}
        }
      ]
    },
    {
      "cell_type": "markdown",
      "source": "### Уже на данном этапе видно, что в топ-10 выше средняя и медианная цена продажи квартиры, больше площадь средняя площадь продаваемых квартир.",
      "metadata": {}
    },
    {
      "cell_type": "code",
      "source": "display(data_top10.pivot_table(index='locality_name', values='price_m2', aggfunc='mean').round().sort_values(by='price_m2', ascending=False))\n# считаем среднюю стоимость квадратного метра в разных локациях\ndisplay(data_top10.pivot_table(index='locality_name', values='last_price', aggfunc='mean').round().sort_values(by='last_price', ascending=False))\n# считаем среднюю стоимость квартиры в разных локациях",
      "metadata": {},
      "execution_count": 21,
      "outputs": [
        {
          "output_type": "display_data",
          "data": {
            "text/html": [
              "<div>\n",
              "<style scoped>\n",
              "    .dataframe tbody tr th:only-of-type {\n",
              "        vertical-align: middle;\n",
              "    }\n",
              "\n",
              "    .dataframe tbody tr th {\n",
              "        vertical-align: top;\n",
              "    }\n",
              "\n",
              "    .dataframe thead th {\n",
              "        text-align: right;\n",
              "    }\n",
              "</style>\n",
              "<table border=\"1\" class=\"dataframe\">\n",
              "  <thead>\n",
              "    <tr style=\"text-align: right;\">\n",
              "      <th></th>\n",
              "      <th>price_m2</th>\n",
              "    </tr>\n",
              "    <tr>\n",
              "      <th>locality_name</th>\n",
              "      <th></th>\n",
              "    </tr>\n",
              "  </thead>\n",
              "  <tbody>\n",
              "    <tr>\n",
              "      <th>Санкт-Петербург</th>\n",
              "      <td>114849.0</td>\n",
              "    </tr>\n",
              "    <tr>\n",
              "      <th>Пушкин</th>\n",
              "      <td>103125.0</td>\n",
              "    </tr>\n",
              "    <tr>\n",
              "      <th>деревня Кудрово</th>\n",
              "      <td>92473.0</td>\n",
              "    </tr>\n",
              "    <tr>\n",
              "      <th>посёлок Парголово</th>\n",
              "      <td>90175.0</td>\n",
              "    </tr>\n",
              "    <tr>\n",
              "      <th>посёлок Мурино</th>\n",
              "      <td>85752.0</td>\n",
              "    </tr>\n",
              "    <tr>\n",
              "      <th>посёлок Шушары</th>\n",
              "      <td>78677.0</td>\n",
              "    </tr>\n",
              "    <tr>\n",
              "      <th>Колпино</th>\n",
              "      <td>75424.0</td>\n",
              "    </tr>\n",
              "    <tr>\n",
              "      <th>Гатчина</th>\n",
              "      <td>68746.0</td>\n",
              "    </tr>\n",
              "    <tr>\n",
              "      <th>Всеволожск</th>\n",
              "      <td>68654.0</td>\n",
              "    </tr>\n",
              "    <tr>\n",
              "      <th>Выборг</th>\n",
              "      <td>58141.0</td>\n",
              "    </tr>\n",
              "  </tbody>\n",
              "</table>\n",
              "</div>"
            ],
            "text/plain": [
              "                   price_m2\n",
              "locality_name              \n",
              "Санкт-Петербург    114849.0\n",
              "Пушкин             103125.0\n",
              "деревня Кудрово     92473.0\n",
              "посёлок Парголово   90175.0\n",
              "посёлок Мурино      85752.0\n",
              "посёлок Шушары      78677.0\n",
              "Колпино             75424.0\n",
              "Гатчина             68746.0\n",
              "Всеволожск          68654.0\n",
              "Выборг              58141.0"
            ]
          },
          "metadata": {}
        },
        {
          "output_type": "display_data",
          "data": {
            "text/html": [
              "<div>\n",
              "<style scoped>\n",
              "    .dataframe tbody tr th:only-of-type {\n",
              "        vertical-align: middle;\n",
              "    }\n",
              "\n",
              "    .dataframe tbody tr th {\n",
              "        vertical-align: top;\n",
              "    }\n",
              "\n",
              "    .dataframe thead th {\n",
              "        text-align: right;\n",
              "    }\n",
              "</style>\n",
              "<table border=\"1\" class=\"dataframe\">\n",
              "  <thead>\n",
              "    <tr style=\"text-align: right;\">\n",
              "      <th></th>\n",
              "      <th>last_price</th>\n",
              "    </tr>\n",
              "    <tr>\n",
              "      <th>locality_name</th>\n",
              "      <th></th>\n",
              "    </tr>\n",
              "  </thead>\n",
              "  <tbody>\n",
              "    <tr>\n",
              "      <th>Санкт-Петербург</th>\n",
              "      <td>8062507.0</td>\n",
              "    </tr>\n",
              "    <tr>\n",
              "      <th>Пушкин</th>\n",
              "      <td>6469036.0</td>\n",
              "    </tr>\n",
              "    <tr>\n",
              "      <th>посёлок Парголово</th>\n",
              "      <td>4488075.0</td>\n",
              "    </tr>\n",
              "    <tr>\n",
              "      <th>деревня Кудрово</th>\n",
              "      <td>4234158.0</td>\n",
              "    </tr>\n",
              "    <tr>\n",
              "      <th>посёлок Шушары</th>\n",
              "      <td>4108082.0</td>\n",
              "    </tr>\n",
              "    <tr>\n",
              "      <th>Колпино</th>\n",
              "      <td>3964021.0</td>\n",
              "    </tr>\n",
              "    <tr>\n",
              "      <th>Всеволожск</th>\n",
              "      <td>3789068.0</td>\n",
              "    </tr>\n",
              "    <tr>\n",
              "      <th>посёлок Мурино</th>\n",
              "      <td>3672049.0</td>\n",
              "    </tr>\n",
              "    <tr>\n",
              "      <th>Гатчина</th>\n",
              "      <td>3488337.0</td>\n",
              "    </tr>\n",
              "    <tr>\n",
              "      <th>Выборг</th>\n",
              "      <td>3250983.0</td>\n",
              "    </tr>\n",
              "  </tbody>\n",
              "</table>\n",
              "</div>"
            ],
            "text/plain": [
              "                   last_price\n",
              "locality_name                \n",
              "Санкт-Петербург     8062507.0\n",
              "Пушкин              6469036.0\n",
              "посёлок Парголово   4488075.0\n",
              "деревня Кудрово     4234158.0\n",
              "посёлок Шушары      4108082.0\n",
              "Колпино             3964021.0\n",
              "Всеволожск          3789068.0\n",
              "посёлок Мурино      3672049.0\n",
              "Гатчина             3488337.0\n",
              "Выборг              3250983.0"
            ]
          },
          "metadata": {}
        }
      ]
    },
    {
      "cell_type": "markdown",
      "source": "### Также ожидаемо, что наибольшая средняя стоимость квадратного метра и всей квартиры в целом в Санкт-Петербурге и ближайшем пригороде.",
      "metadata": {}
    },
    {
      "cell_type": "markdown",
      "source": "## Исследование центра Санкт-Петербурга",
      "metadata": {}
    },
    {
      "cell_type": "code",
      "source": "data_spb = data.query('locality_name == \"Санкт-Петербург\"')\n# формируем датафрейм отдельно по Санкт-Петербургу\ndata_spb.describe()",
      "metadata": {},
      "execution_count": 22,
      "outputs": [
        {
          "execution_count": 22,
          "output_type": "execute_result",
          "data": {
            "text/html": [
              "<div>\n",
              "<style scoped>\n",
              "    .dataframe tbody tr th:only-of-type {\n",
              "        vertical-align: middle;\n",
              "    }\n",
              "\n",
              "    .dataframe tbody tr th {\n",
              "        vertical-align: top;\n",
              "    }\n",
              "\n",
              "    .dataframe thead th {\n",
              "        text-align: right;\n",
              "    }\n",
              "</style>\n",
              "<table border=\"1\" class=\"dataframe\">\n",
              "  <thead>\n",
              "    <tr style=\"text-align: right;\">\n",
              "      <th></th>\n",
              "      <th>total_images</th>\n",
              "      <th>last_price</th>\n",
              "      <th>total_area</th>\n",
              "      <th>rooms</th>\n",
              "      <th>ceiling_height</th>\n",
              "      <th>floors_total</th>\n",
              "      <th>living_area</th>\n",
              "      <th>floor</th>\n",
              "      <th>kitchen_area</th>\n",
              "      <th>balcony</th>\n",
              "      <th>...</th>\n",
              "      <th>parks_nearest</th>\n",
              "      <th>ponds_around3000</th>\n",
              "      <th>ponds_nearest</th>\n",
              "      <th>days_exposition</th>\n",
              "      <th>price_m2</th>\n",
              "      <th>living_sq_ratio</th>\n",
              "      <th>kitchen_sq_ratio</th>\n",
              "      <th>day</th>\n",
              "      <th>month</th>\n",
              "      <th>year</th>\n",
              "    </tr>\n",
              "  </thead>\n",
              "  <tbody>\n",
              "    <tr>\n",
              "      <th>count</th>\n",
              "      <td>15721.000000</td>\n",
              "      <td>1.572100e+04</td>\n",
              "      <td>15721.000000</td>\n",
              "      <td>15721.000000</td>\n",
              "      <td>15721.000000</td>\n",
              "      <td>15651.000000</td>\n",
              "      <td>14581.000000</td>\n",
              "      <td>15721.000000</td>\n",
              "      <td>14342.000000</td>\n",
              "      <td>15721.000000</td>\n",
              "      <td>...</td>\n",
              "      <td>7284.000000</td>\n",
              "      <td>15721.000000</td>\n",
              "      <td>7983.000000</td>\n",
              "      <td>13638.000000</td>\n",
              "      <td>1.572100e+04</td>\n",
              "      <td>14581.000000</td>\n",
              "      <td>14342.000000</td>\n",
              "      <td>15721.000000</td>\n",
              "      <td>15721.000000</td>\n",
              "      <td>15721.000000</td>\n",
              "    </tr>\n",
              "    <tr>\n",
              "      <th>mean</th>\n",
              "      <td>10.180205</td>\n",
              "      <td>8.062507e+06</td>\n",
              "      <td>64.751488</td>\n",
              "      <td>2.171618</td>\n",
              "      <td>2.748790</td>\n",
              "      <td>11.395885</td>\n",
              "      <td>36.959148</td>\n",
              "      <td>6.242033</td>\n",
              "      <td>11.155806</td>\n",
              "      <td>0.581770</td>\n",
              "      <td>...</td>\n",
              "      <td>498.597886</td>\n",
              "      <td>0.767445</td>\n",
              "      <td>520.213955</td>\n",
              "      <td>182.792198</td>\n",
              "      <td>1.148486e+05</td>\n",
              "      <td>56.579453</td>\n",
              "      <td>18.576489</td>\n",
              "      <td>2.556262</td>\n",
              "      <td>6.421983</td>\n",
              "      <td>2017.351886</td>\n",
              "    </tr>\n",
              "    <tr>\n",
              "      <th>std</th>\n",
              "      <td>5.749004</td>\n",
              "      <td>1.301313e+07</td>\n",
              "      <td>40.417095</td>\n",
              "      <td>1.148098</td>\n",
              "      <td>1.042309</td>\n",
              "      <td>6.372330</td>\n",
              "      <td>24.701374</td>\n",
              "      <td>4.900486</td>\n",
              "      <td>6.543392</td>\n",
              "      <td>0.966853</td>\n",
              "      <td>...</td>\n",
              "      <td>345.181284</td>\n",
              "      <td>0.924014</td>\n",
              "      <td>280.260745</td>\n",
              "      <td>224.719204</td>\n",
              "      <td>5.258452e+04</td>\n",
              "      <td>10.557567</td>\n",
              "      <td>7.344111</td>\n",
              "      <td>1.779915</td>\n",
              "      <td>3.465502</td>\n",
              "      <td>1.057608</td>\n",
              "    </tr>\n",
              "    <tr>\n",
              "      <th>min</th>\n",
              "      <td>0.000000</td>\n",
              "      <td>1.219000e+04</td>\n",
              "      <td>12.000000</td>\n",
              "      <td>0.000000</td>\n",
              "      <td>1.000000</td>\n",
              "      <td>1.000000</td>\n",
              "      <td>2.000000</td>\n",
              "      <td>1.000000</td>\n",
              "      <td>1.300000</td>\n",
              "      <td>0.000000</td>\n",
              "      <td>...</td>\n",
              "      <td>1.000000</td>\n",
              "      <td>0.000000</td>\n",
              "      <td>13.000000</td>\n",
              "      <td>1.000000</td>\n",
              "      <td>1.110000e+02</td>\n",
              "      <td>2.000000</td>\n",
              "      <td>3.000000</td>\n",
              "      <td>0.000000</td>\n",
              "      <td>1.000000</td>\n",
              "      <td>2014.000000</td>\n",
              "    </tr>\n",
              "    <tr>\n",
              "      <th>25%</th>\n",
              "      <td>6.000000</td>\n",
              "      <td>4.200000e+06</td>\n",
              "      <td>42.000000</td>\n",
              "      <td>1.000000</td>\n",
              "      <td>2.600000</td>\n",
              "      <td>5.000000</td>\n",
              "      <td>19.900000</td>\n",
              "      <td>3.000000</td>\n",
              "      <td>7.200000</td>\n",
              "      <td>0.000000</td>\n",
              "      <td>...</td>\n",
              "      <td>295.000000</td>\n",
              "      <td>0.000000</td>\n",
              "      <td>293.000000</td>\n",
              "      <td>42.000000</td>\n",
              "      <td>9.090900e+04</td>\n",
              "      <td>50.000000</td>\n",
              "      <td>13.000000</td>\n",
              "      <td>1.000000</td>\n",
              "      <td>3.000000</td>\n",
              "      <td>2017.000000</td>\n",
              "    </tr>\n",
              "    <tr>\n",
              "      <th>50%</th>\n",
              "      <td>10.000000</td>\n",
              "      <td>5.500000e+06</td>\n",
              "      <td>55.000000</td>\n",
              "      <td>2.000000</td>\n",
              "      <td>2.650000</td>\n",
              "      <td>9.000000</td>\n",
              "      <td>31.300000</td>\n",
              "      <td>5.000000</td>\n",
              "      <td>9.900000</td>\n",
              "      <td>0.000000</td>\n",
              "      <td>...</td>\n",
              "      <td>460.000000</td>\n",
              "      <td>1.000000</td>\n",
              "      <td>503.000000</td>\n",
              "      <td>95.000000</td>\n",
              "      <td>1.047610e+05</td>\n",
              "      <td>57.000000</td>\n",
              "      <td>17.000000</td>\n",
              "      <td>2.000000</td>\n",
              "      <td>6.000000</td>\n",
              "      <td>2017.000000</td>\n",
              "    </tr>\n",
              "    <tr>\n",
              "      <th>75%</th>\n",
              "      <td>14.000000</td>\n",
              "      <td>8.160000e+06</td>\n",
              "      <td>74.600000</td>\n",
              "      <td>3.000000</td>\n",
              "      <td>2.750000</td>\n",
              "      <td>16.000000</td>\n",
              "      <td>44.000000</td>\n",
              "      <td>8.000000</td>\n",
              "      <td>12.500000</td>\n",
              "      <td>1.000000</td>\n",
              "      <td>...</td>\n",
              "      <td>619.000000</td>\n",
              "      <td>1.000000</td>\n",
              "      <td>738.000000</td>\n",
              "      <td>231.000000</td>\n",
              "      <td>1.244380e+05</td>\n",
              "      <td>64.000000</td>\n",
              "      <td>23.000000</td>\n",
              "      <td>4.000000</td>\n",
              "      <td>10.000000</td>\n",
              "      <td>2018.000000</td>\n",
              "    </tr>\n",
              "    <tr>\n",
              "      <th>max</th>\n",
              "      <td>50.000000</td>\n",
              "      <td>7.630000e+08</td>\n",
              "      <td>900.000000</td>\n",
              "      <td>19.000000</td>\n",
              "      <td>100.000000</td>\n",
              "      <td>52.000000</td>\n",
              "      <td>409.700000</td>\n",
              "      <td>33.000000</td>\n",
              "      <td>112.000000</td>\n",
              "      <td>5.000000</td>\n",
              "      <td>...</td>\n",
              "      <td>3190.000000</td>\n",
              "      <td>3.000000</td>\n",
              "      <td>1337.000000</td>\n",
              "      <td>1572.000000</td>\n",
              "      <td>1.907500e+06</td>\n",
              "      <td>100.000000</td>\n",
              "      <td>79.000000</td>\n",
              "      <td>6.000000</td>\n",
              "      <td>12.000000</td>\n",
              "      <td>2019.000000</td>\n",
              "    </tr>\n",
              "  </tbody>\n",
              "</table>\n",
              "<p>8 rows × 23 columns</p>\n",
              "</div>"
            ],
            "text/plain": [
              "       total_images    last_price    total_area         rooms  ceiling_height  \\\n",
              "count  15721.000000  1.572100e+04  15721.000000  15721.000000    15721.000000   \n",
              "mean      10.180205  8.062507e+06     64.751488      2.171618        2.748790   \n",
              "std        5.749004  1.301313e+07     40.417095      1.148098        1.042309   \n",
              "min        0.000000  1.219000e+04     12.000000      0.000000        1.000000   \n",
              "25%        6.000000  4.200000e+06     42.000000      1.000000        2.600000   \n",
              "50%       10.000000  5.500000e+06     55.000000      2.000000        2.650000   \n",
              "75%       14.000000  8.160000e+06     74.600000      3.000000        2.750000   \n",
              "max       50.000000  7.630000e+08    900.000000     19.000000      100.000000   \n",
              "\n",
              "       floors_total   living_area         floor  kitchen_area       balcony  \\\n",
              "count  15651.000000  14581.000000  15721.000000  14342.000000  15721.000000   \n",
              "mean      11.395885     36.959148      6.242033     11.155806      0.581770   \n",
              "std        6.372330     24.701374      4.900486      6.543392      0.966853   \n",
              "min        1.000000      2.000000      1.000000      1.300000      0.000000   \n",
              "25%        5.000000     19.900000      3.000000      7.200000      0.000000   \n",
              "50%        9.000000     31.300000      5.000000      9.900000      0.000000   \n",
              "75%       16.000000     44.000000      8.000000     12.500000      1.000000   \n",
              "max       52.000000    409.700000     33.000000    112.000000      5.000000   \n",
              "\n",
              "       ...  parks_nearest  ponds_around3000  ponds_nearest  days_exposition  \\\n",
              "count  ...    7284.000000      15721.000000    7983.000000     13638.000000   \n",
              "mean   ...     498.597886          0.767445     520.213955       182.792198   \n",
              "std    ...     345.181284          0.924014     280.260745       224.719204   \n",
              "min    ...       1.000000          0.000000      13.000000         1.000000   \n",
              "25%    ...     295.000000          0.000000     293.000000        42.000000   \n",
              "50%    ...     460.000000          1.000000     503.000000        95.000000   \n",
              "75%    ...     619.000000          1.000000     738.000000       231.000000   \n",
              "max    ...    3190.000000          3.000000    1337.000000      1572.000000   \n",
              "\n",
              "           price_m2  living_sq_ratio  kitchen_sq_ratio           day  \\\n",
              "count  1.572100e+04     14581.000000      14342.000000  15721.000000   \n",
              "mean   1.148486e+05        56.579453         18.576489      2.556262   \n",
              "std    5.258452e+04        10.557567          7.344111      1.779915   \n",
              "min    1.110000e+02         2.000000          3.000000      0.000000   \n",
              "25%    9.090900e+04        50.000000         13.000000      1.000000   \n",
              "50%    1.047610e+05        57.000000         17.000000      2.000000   \n",
              "75%    1.244380e+05        64.000000         23.000000      4.000000   \n",
              "max    1.907500e+06       100.000000         79.000000      6.000000   \n",
              "\n",
              "              month          year  \n",
              "count  15721.000000  15721.000000  \n",
              "mean       6.421983   2017.351886  \n",
              "std        3.465502      1.057608  \n",
              "min        1.000000   2014.000000  \n",
              "25%        3.000000   2017.000000  \n",
              "50%        6.000000   2017.000000  \n",
              "75%       10.000000   2018.000000  \n",
              "max       12.000000   2019.000000  \n",
              "\n",
              "[8 rows x 23 columns]"
            ]
          },
          "metadata": {}
        }
      ]
    },
    {
      "cell_type": "markdown",
      "source": "### Как можно было предположить, средняя и медианная цена квартиры в СПб ещё выше, чем в топ-10. Также больше средняя площадь, выше стоимость квадратного метра.",
      "metadata": {}
    },
    {
      "cell_type": "code",
      "source": "data_spb['cityCenter_km'] = (data_spb['cityCenters_nearest'] / 1000).round()\n# создаём новый столбец с удалённостью от центра города в км\ndisplay(data_spb.pivot_table(index='cityCenter_km', values='price_m2', aggfunc='mean').head(20))\n# смотрим на среднюю стоимость квадратного метра в зависимости от расстояния от центра города в км\ndata_spb.pivot_table(index='cityCenter_km', values='price_m2', aggfunc='mean').plot(kind='bar', grid=True)\n# строим график",
      "metadata": {},
      "execution_count": 23,
      "outputs": [
        {
          "name": "stderr",
          "output_type": "stream",
          "text": "/tmp/ipykernel_53/3488163744.py:1: SettingWithCopyWarning: \n\nA value is trying to be set on a copy of a slice from a DataFrame.\n\nTry using .loc[row_indexer,col_indexer] = value instead\n\n\n\nSee the caveats in the documentation: https://pandas.pydata.org/pandas-docs/stable/user_guide/indexing.html#returning-a-view-versus-a-copy\n\n  data_spb['cityCenter_km'] = (data_spb['cityCenters_nearest'] / 1000).round()\n"
        },
        {
          "output_type": "display_data",
          "data": {
            "text/html": [
              "<div>\n",
              "<style scoped>\n",
              "    .dataframe tbody tr th:only-of-type {\n",
              "        vertical-align: middle;\n",
              "    }\n",
              "\n",
              "    .dataframe tbody tr th {\n",
              "        vertical-align: top;\n",
              "    }\n",
              "\n",
              "    .dataframe thead th {\n",
              "        text-align: right;\n",
              "    }\n",
              "</style>\n",
              "<table border=\"1\" class=\"dataframe\">\n",
              "  <thead>\n",
              "    <tr style=\"text-align: right;\">\n",
              "      <th></th>\n",
              "      <th>price_m2</th>\n",
              "    </tr>\n",
              "    <tr>\n",
              "      <th>cityCenter_km</th>\n",
              "      <th></th>\n",
              "    </tr>\n",
              "  </thead>\n",
              "  <tbody>\n",
              "    <tr>\n",
              "      <th>0.0</th>\n",
              "      <td>245833.111111</td>\n",
              "    </tr>\n",
              "    <tr>\n",
              "      <th>1.0</th>\n",
              "      <td>177004.963542</td>\n",
              "    </tr>\n",
              "    <tr>\n",
              "      <th>2.0</th>\n",
              "      <td>157848.564516</td>\n",
              "    </tr>\n",
              "    <tr>\n",
              "      <th>3.0</th>\n",
              "      <td>121386.991429</td>\n",
              "    </tr>\n",
              "    <tr>\n",
              "      <th>4.0</th>\n",
              "      <td>133282.422965</td>\n",
              "    </tr>\n",
              "    <tr>\n",
              "      <th>5.0</th>\n",
              "      <td>140509.339130</td>\n",
              "    </tr>\n",
              "    <tr>\n",
              "      <th>6.0</th>\n",
              "      <td>151011.750809</td>\n",
              "    </tr>\n",
              "    <tr>\n",
              "      <th>7.0</th>\n",
              "      <td>156176.445238</td>\n",
              "    </tr>\n",
              "    <tr>\n",
              "      <th>8.0</th>\n",
              "      <td>125671.030151</td>\n",
              "    </tr>\n",
              "    <tr>\n",
              "      <th>9.0</th>\n",
              "      <td>113130.595278</td>\n",
              "    </tr>\n",
              "    <tr>\n",
              "      <th>10.0</th>\n",
              "      <td>112727.066759</td>\n",
              "    </tr>\n",
              "    <tr>\n",
              "      <th>11.0</th>\n",
              "      <td>108630.402377</td>\n",
              "    </tr>\n",
              "    <tr>\n",
              "      <th>12.0</th>\n",
              "      <td>107488.274766</td>\n",
              "    </tr>\n",
              "    <tr>\n",
              "      <th>13.0</th>\n",
              "      <td>108147.690460</td>\n",
              "    </tr>\n",
              "    <tr>\n",
              "      <th>14.0</th>\n",
              "      <td>104251.944488</td>\n",
              "    </tr>\n",
              "    <tr>\n",
              "      <th>15.0</th>\n",
              "      <td>104231.531250</td>\n",
              "    </tr>\n",
              "    <tr>\n",
              "      <th>16.0</th>\n",
              "      <td>100542.168379</td>\n",
              "    </tr>\n",
              "    <tr>\n",
              "      <th>17.0</th>\n",
              "      <td>96597.212911</td>\n",
              "    </tr>\n",
              "    <tr>\n",
              "      <th>18.0</th>\n",
              "      <td>96361.839080</td>\n",
              "    </tr>\n",
              "    <tr>\n",
              "      <th>19.0</th>\n",
              "      <td>98652.305732</td>\n",
              "    </tr>\n",
              "  </tbody>\n",
              "</table>\n",
              "</div>"
            ],
            "text/plain": [
              "                    price_m2\n",
              "cityCenter_km               \n",
              "0.0            245833.111111\n",
              "1.0            177004.963542\n",
              "2.0            157848.564516\n",
              "3.0            121386.991429\n",
              "4.0            133282.422965\n",
              "5.0            140509.339130\n",
              "6.0            151011.750809\n",
              "7.0            156176.445238\n",
              "8.0            125671.030151\n",
              "9.0            113130.595278\n",
              "10.0           112727.066759\n",
              "11.0           108630.402377\n",
              "12.0           107488.274766\n",
              "13.0           108147.690460\n",
              "14.0           104251.944488\n",
              "15.0           104231.531250\n",
              "16.0           100542.168379\n",
              "17.0            96597.212911\n",
              "18.0            96361.839080\n",
              "19.0            98652.305732"
            ]
          },
          "metadata": {}
        },
        {
          "execution_count": 23,
          "output_type": "execute_result",
          "data": {
            "text/plain": [
              "<AxesSubplot:xlabel='cityCenter_km'>"
            ]
          },
          "metadata": {}
        },
        {
          "output_type": "display_data",
          "data": {
            "image/png": "[encoded data removed]",
            "text/plain": [
              "<Figure size 432x288 with 1 Axes>"
            ]
          },
          "metadata": {
            "needs_background": "light"
          }
        }
      ]
    },
    {
      "cell_type": "code",
      "source": "display(data_spb.pivot_table(index='cityCenter_km', values='last_price', aggfunc='mean').head(20))\n# смотрим на стоимость квартиры в зависимости от расстояния от центра города в км\ndata_spb.pivot_table(index='cityCenter_km', values='last_price', aggfunc='mean').plot(kind='bar', grid=True)\n# строим график",
      "metadata": {},
      "execution_count": 24,
      "outputs": [
        {
          "output_type": "display_data",
          "data": {
            "text/html": [
              "<div>\n",
              "<style scoped>\n",
              "    .dataframe tbody tr th:only-of-type {\n",
              "        vertical-align: middle;\n",
              "    }\n",
              "\n",
              "    .dataframe tbody tr th {\n",
              "        vertical-align: top;\n",
              "    }\n",
              "\n",
              "    .dataframe thead th {\n",
              "        text-align: right;\n",
              "    }\n",
              "</style>\n",
              "<table border=\"1\" class=\"dataframe\">\n",
              "  <thead>\n",
              "    <tr style=\"text-align: right;\">\n",
              "      <th></th>\n",
              "      <th>last_price</th>\n",
              "    </tr>\n",
              "    <tr>\n",
              "      <th>cityCenter_km</th>\n",
              "      <th></th>\n",
              "    </tr>\n",
              "  </thead>\n",
              "  <tbody>\n",
              "    <tr>\n",
              "      <th>0.0</th>\n",
              "      <td>3.144912e+07</td>\n",
              "    </tr>\n",
              "    <tr>\n",
              "      <th>1.0</th>\n",
              "      <td>2.120672e+07</td>\n",
              "    </tr>\n",
              "    <tr>\n",
              "      <th>2.0</th>\n",
              "      <td>1.778832e+07</td>\n",
              "    </tr>\n",
              "    <tr>\n",
              "      <th>3.0</th>\n",
              "      <td>1.112658e+07</td>\n",
              "    </tr>\n",
              "    <tr>\n",
              "      <th>4.0</th>\n",
              "      <td>1.330428e+07</td>\n",
              "    </tr>\n",
              "    <tr>\n",
              "      <th>5.0</th>\n",
              "      <td>1.449912e+07</td>\n",
              "    </tr>\n",
              "    <tr>\n",
              "      <th>6.0</th>\n",
              "      <td>1.533842e+07</td>\n",
              "    </tr>\n",
              "    <tr>\n",
              "      <th>7.0</th>\n",
              "      <td>1.477515e+07</td>\n",
              "    </tr>\n",
              "    <tr>\n",
              "      <th>8.0</th>\n",
              "      <td>9.957717e+06</td>\n",
              "    </tr>\n",
              "    <tr>\n",
              "      <th>9.0</th>\n",
              "      <td>6.950659e+06</td>\n",
              "    </tr>\n",
              "    <tr>\n",
              "      <th>10.0</th>\n",
              "      <td>6.504119e+06</td>\n",
              "    </tr>\n",
              "    <tr>\n",
              "      <th>11.0</th>\n",
              "      <td>6.250815e+06</td>\n",
              "    </tr>\n",
              "    <tr>\n",
              "      <th>12.0</th>\n",
              "      <td>5.828545e+06</td>\n",
              "    </tr>\n",
              "    <tr>\n",
              "      <th>13.0</th>\n",
              "      <td>6.083141e+06</td>\n",
              "    </tr>\n",
              "    <tr>\n",
              "      <th>14.0</th>\n",
              "      <td>5.629101e+06</td>\n",
              "    </tr>\n",
              "    <tr>\n",
              "      <th>15.0</th>\n",
              "      <td>5.884751e+06</td>\n",
              "    </tr>\n",
              "    <tr>\n",
              "      <th>16.0</th>\n",
              "      <td>5.373131e+06</td>\n",
              "    </tr>\n",
              "    <tr>\n",
              "      <th>17.0</th>\n",
              "      <td>5.292395e+06</td>\n",
              "    </tr>\n",
              "    <tr>\n",
              "      <th>18.0</th>\n",
              "      <td>5.091331e+06</td>\n",
              "    </tr>\n",
              "    <tr>\n",
              "      <th>19.0</th>\n",
              "      <td>5.037675e+06</td>\n",
              "    </tr>\n",
              "  </tbody>\n",
              "</table>\n",
              "</div>"
            ],
            "text/plain": [
              "                 last_price\n",
              "cityCenter_km              \n",
              "0.0            3.144912e+07\n",
              "1.0            2.120672e+07\n",
              "2.0            1.778832e+07\n",
              "3.0            1.112658e+07\n",
              "4.0            1.330428e+07\n",
              "5.0            1.449912e+07\n",
              "6.0            1.533842e+07\n",
              "7.0            1.477515e+07\n",
              "8.0            9.957717e+06\n",
              "9.0            6.950659e+06\n",
              "10.0           6.504119e+06\n",
              "11.0           6.250815e+06\n",
              "12.0           5.828545e+06\n",
              "13.0           6.083141e+06\n",
              "14.0           5.629101e+06\n",
              "15.0           5.884751e+06\n",
              "16.0           5.373131e+06\n",
              "17.0           5.292395e+06\n",
              "18.0           5.091331e+06\n",
              "19.0           5.037675e+06"
            ]
          },
          "metadata": {}
        },
        {
          "execution_count": 24,
          "output_type": "execute_result",
          "data": {
            "text/plain": [
              "<AxesSubplot:xlabel='cityCenter_km'>"
            ]
          },
          "metadata": {}
        },
        {
          "output_type": "display_data",
          "data": {
            "image/png": "[encoded data removed]",
            "text/plain": [
              "<Figure size 432x288 with 1 Axes>"
            ]
          },
          "metadata": {
            "needs_background": "light"
          }
        }
      ]
    },
    {
      "cell_type": "markdown",
      "source": "### На основании графиков по средней стоимости квадратного метра и средней стоимости всей квартиры можно сделать вывод, что центр ограничивается радиусом в 7 км.",
      "metadata": {}
    },
    {
      "cell_type": "code",
      "source": "data_spb_center = data_spb.query('cityCenter_km < 8' )\n# формируем датафрейм, где оставляем только центр Санкт-Петербурга\ndata_spb_center.describe()",
      "metadata": {},
      "execution_count": 25,
      "outputs": [
        {
          "execution_count": 25,
          "output_type": "execute_result",
          "data": {
            "text/html": [
              "<div>\n",
              "<style scoped>\n",
              "    .dataframe tbody tr th:only-of-type {\n",
              "        vertical-align: middle;\n",
              "    }\n",
              "\n",
              "    .dataframe tbody tr th {\n",
              "        vertical-align: top;\n",
              "    }\n",
              "\n",
              "    .dataframe thead th {\n",
              "        text-align: right;\n",
              "    }\n",
              "</style>\n",
              "<table border=\"1\" class=\"dataframe\">\n",
              "  <thead>\n",
              "    <tr style=\"text-align: right;\">\n",
              "      <th></th>\n",
              "      <th>total_images</th>\n",
              "      <th>last_price</th>\n",
              "      <th>total_area</th>\n",
              "      <th>rooms</th>\n",
              "      <th>ceiling_height</th>\n",
              "      <th>floors_total</th>\n",
              "      <th>living_area</th>\n",
              "      <th>floor</th>\n",
              "      <th>kitchen_area</th>\n",
              "      <th>balcony</th>\n",
              "      <th>...</th>\n",
              "      <th>ponds_around3000</th>\n",
              "      <th>ponds_nearest</th>\n",
              "      <th>days_exposition</th>\n",
              "      <th>price_m2</th>\n",
              "      <th>living_sq_ratio</th>\n",
              "      <th>kitchen_sq_ratio</th>\n",
              "      <th>day</th>\n",
              "      <th>month</th>\n",
              "      <th>year</th>\n",
              "      <th>cityCenter_km</th>\n",
              "    </tr>\n",
              "  </thead>\n",
              "  <tbody>\n",
              "    <tr>\n",
              "      <th>count</th>\n",
              "      <td>3525.000000</td>\n",
              "      <td>3.525000e+03</td>\n",
              "      <td>3525.000000</td>\n",
              "      <td>3525.000000</td>\n",
              "      <td>3525.000000</td>\n",
              "      <td>3518.000000</td>\n",
              "      <td>3227.000000</td>\n",
              "      <td>3525.000000</td>\n",
              "      <td>3187.000000</td>\n",
              "      <td>3525.000000</td>\n",
              "      <td>...</td>\n",
              "      <td>3525.000000</td>\n",
              "      <td>2554.000000</td>\n",
              "      <td>2941.000000</td>\n",
              "      <td>3.525000e+03</td>\n",
              "      <td>3227.000000</td>\n",
              "      <td>3187.000000</td>\n",
              "      <td>3525.000000</td>\n",
              "      <td>3525.000000</td>\n",
              "      <td>3525.000000</td>\n",
              "      <td>3525.000000</td>\n",
              "    </tr>\n",
              "    <tr>\n",
              "      <th>mean</th>\n",
              "      <td>10.212482</td>\n",
              "      <td>1.489553e+07</td>\n",
              "      <td>93.168641</td>\n",
              "      <td>2.834326</td>\n",
              "      <td>2.953898</td>\n",
              "      <td>7.100057</td>\n",
              "      <td>54.486697</td>\n",
              "      <td>4.199433</td>\n",
              "      <td>14.528820</td>\n",
              "      <td>0.320567</td>\n",
              "      <td>...</td>\n",
              "      <td>1.296738</td>\n",
              "      <td>464.063821</td>\n",
              "      <td>247.676641</td>\n",
              "      <td>1.452276e+05</td>\n",
              "      <td>58.169507</td>\n",
              "      <td>17.314402</td>\n",
              "      <td>2.514043</td>\n",
              "      <td>6.427518</td>\n",
              "      <td>2017.171064</td>\n",
              "      <td>4.499858</td>\n",
              "    </tr>\n",
              "    <tr>\n",
              "      <th>std</th>\n",
              "      <td>6.004866</td>\n",
              "      <td>2.432091e+07</td>\n",
              "      <td>59.473561</td>\n",
              "      <td>1.449808</td>\n",
              "      <td>0.736863</td>\n",
              "      <td>3.844311</td>\n",
              "      <td>37.274467</td>\n",
              "      <td>2.951404</td>\n",
              "      <td>9.192637</td>\n",
              "      <td>0.755937</td>\n",
              "      <td>...</td>\n",
              "      <td>1.091138</td>\n",
              "      <td>271.348372</td>\n",
              "      <td>273.540907</td>\n",
              "      <td>9.362387e+04</td>\n",
              "      <td>11.605099</td>\n",
              "      <td>8.306756</td>\n",
              "      <td>1.719105</td>\n",
              "      <td>3.453384</td>\n",
              "      <td>1.125225</td>\n",
              "      <td>1.688014</td>\n",
              "    </tr>\n",
              "    <tr>\n",
              "      <th>min</th>\n",
              "      <td>0.000000</td>\n",
              "      <td>1.600000e+06</td>\n",
              "      <td>12.000000</td>\n",
              "      <td>0.000000</td>\n",
              "      <td>2.400000</td>\n",
              "      <td>2.000000</td>\n",
              "      <td>2.000000</td>\n",
              "      <td>1.000000</td>\n",
              "      <td>2.000000</td>\n",
              "      <td>0.000000</td>\n",
              "      <td>...</td>\n",
              "      <td>0.000000</td>\n",
              "      <td>22.000000</td>\n",
              "      <td>3.000000</td>\n",
              "      <td>1.534500e+04</td>\n",
              "      <td>2.000000</td>\n",
              "      <td>3.000000</td>\n",
              "      <td>0.000000</td>\n",
              "      <td>1.000000</td>\n",
              "      <td>2014.000000</td>\n",
              "      <td>0.000000</td>\n",
              "    </tr>\n",
              "    <tr>\n",
              "      <th>25%</th>\n",
              "      <td>6.000000</td>\n",
              "      <td>6.690000e+06</td>\n",
              "      <td>57.000000</td>\n",
              "      <td>2.000000</td>\n",
              "      <td>2.650000</td>\n",
              "      <td>5.000000</td>\n",
              "      <td>31.200000</td>\n",
              "      <td>2.000000</td>\n",
              "      <td>9.000000</td>\n",
              "      <td>0.000000</td>\n",
              "      <td>...</td>\n",
              "      <td>0.000000</td>\n",
              "      <td>226.250000</td>\n",
              "      <td>60.000000</td>\n",
              "      <td>9.999900e+04</td>\n",
              "      <td>51.000000</td>\n",
              "      <td>12.000000</td>\n",
              "      <td>1.000000</td>\n",
              "      <td>3.000000</td>\n",
              "      <td>2017.000000</td>\n",
              "      <td>4.000000</td>\n",
              "    </tr>\n",
              "    <tr>\n",
              "      <th>50%</th>\n",
              "      <td>10.000000</td>\n",
              "      <td>9.200000e+06</td>\n",
              "      <td>78.700000</td>\n",
              "      <td>3.000000</td>\n",
              "      <td>2.800000</td>\n",
              "      <td>6.000000</td>\n",
              "      <td>46.000000</td>\n",
              "      <td>4.000000</td>\n",
              "      <td>12.000000</td>\n",
              "      <td>0.000000</td>\n",
              "      <td>...</td>\n",
              "      <td>1.000000</td>\n",
              "      <td>454.500000</td>\n",
              "      <td>142.000000</td>\n",
              "      <td>1.236220e+05</td>\n",
              "      <td>60.000000</td>\n",
              "      <td>15.000000</td>\n",
              "      <td>3.000000</td>\n",
              "      <td>6.000000</td>\n",
              "      <td>2017.000000</td>\n",
              "      <td>5.000000</td>\n",
              "    </tr>\n",
              "    <tr>\n",
              "      <th>75%</th>\n",
              "      <td>15.000000</td>\n",
              "      <td>1.450000e+07</td>\n",
              "      <td>110.000000</td>\n",
              "      <td>3.000000</td>\n",
              "      <td>3.150000</td>\n",
              "      <td>9.000000</td>\n",
              "      <td>66.500000</td>\n",
              "      <td>5.000000</td>\n",
              "      <td>17.000000</td>\n",
              "      <td>0.000000</td>\n",
              "      <td>...</td>\n",
              "      <td>2.000000</td>\n",
              "      <td>665.000000</td>\n",
              "      <td>346.000000</td>\n",
              "      <td>1.558130e+05</td>\n",
              "      <td>66.000000</td>\n",
              "      <td>21.000000</td>\n",
              "      <td>4.000000</td>\n",
              "      <td>10.000000</td>\n",
              "      <td>2018.000000</td>\n",
              "      <td>6.000000</td>\n",
              "    </tr>\n",
              "    <tr>\n",
              "      <th>max</th>\n",
              "      <td>50.000000</td>\n",
              "      <td>7.630000e+08</td>\n",
              "      <td>631.200000</td>\n",
              "      <td>19.000000</td>\n",
              "      <td>32.000000</td>\n",
              "      <td>25.000000</td>\n",
              "      <td>409.000000</td>\n",
              "      <td>25.000000</td>\n",
              "      <td>107.000000</td>\n",
              "      <td>5.000000</td>\n",
              "      <td>...</td>\n",
              "      <td>3.000000</td>\n",
              "      <td>1293.000000</td>\n",
              "      <td>1572.000000</td>\n",
              "      <td>1.907500e+06</td>\n",
              "      <td>98.000000</td>\n",
              "      <td>64.000000</td>\n",
              "      <td>6.000000</td>\n",
              "      <td>12.000000</td>\n",
              "      <td>2019.000000</td>\n",
              "      <td>7.000000</td>\n",
              "    </tr>\n",
              "  </tbody>\n",
              "</table>\n",
              "<p>8 rows × 24 columns</p>\n",
              "</div>"
            ],
            "text/plain": [
              "       total_images    last_price   total_area        rooms  ceiling_height  \\\n",
              "count   3525.000000  3.525000e+03  3525.000000  3525.000000     3525.000000   \n",
              "mean      10.212482  1.489553e+07    93.168641     2.834326        2.953898   \n",
              "std        6.004866  2.432091e+07    59.473561     1.449808        0.736863   \n",
              "min        0.000000  1.600000e+06    12.000000     0.000000        2.400000   \n",
              "25%        6.000000  6.690000e+06    57.000000     2.000000        2.650000   \n",
              "50%       10.000000  9.200000e+06    78.700000     3.000000        2.800000   \n",
              "75%       15.000000  1.450000e+07   110.000000     3.000000        3.150000   \n",
              "max       50.000000  7.630000e+08   631.200000    19.000000       32.000000   \n",
              "\n",
              "       floors_total  living_area        floor  kitchen_area      balcony  ...  \\\n",
              "count   3518.000000  3227.000000  3525.000000   3187.000000  3525.000000  ...   \n",
              "mean       7.100057    54.486697     4.199433     14.528820     0.320567  ...   \n",
              "std        3.844311    37.274467     2.951404      9.192637     0.755937  ...   \n",
              "min        2.000000     2.000000     1.000000      2.000000     0.000000  ...   \n",
              "25%        5.000000    31.200000     2.000000      9.000000     0.000000  ...   \n",
              "50%        6.000000    46.000000     4.000000     12.000000     0.000000  ...   \n",
              "75%        9.000000    66.500000     5.000000     17.000000     0.000000  ...   \n",
              "max       25.000000   409.000000    25.000000    107.000000     5.000000  ...   \n",
              "\n",
              "       ponds_around3000  ponds_nearest  days_exposition      price_m2  \\\n",
              "count       3525.000000    2554.000000      2941.000000  3.525000e+03   \n",
              "mean           1.296738     464.063821       247.676641  1.452276e+05   \n",
              "std            1.091138     271.348372       273.540907  9.362387e+04   \n",
              "min            0.000000      22.000000         3.000000  1.534500e+04   \n",
              "25%            0.000000     226.250000        60.000000  9.999900e+04   \n",
              "50%            1.000000     454.500000       142.000000  1.236220e+05   \n",
              "75%            2.000000     665.000000       346.000000  1.558130e+05   \n",
              "max            3.000000    1293.000000      1572.000000  1.907500e+06   \n",
              "\n",
              "       living_sq_ratio  kitchen_sq_ratio          day        month  \\\n",
              "count      3227.000000       3187.000000  3525.000000  3525.000000   \n",
              "mean         58.169507         17.314402     2.514043     6.427518   \n",
              "std          11.605099          8.306756     1.719105     3.453384   \n",
              "min           2.000000          3.000000     0.000000     1.000000   \n",
              "25%          51.000000         12.000000     1.000000     3.000000   \n",
              "50%          60.000000         15.000000     3.000000     6.000000   \n",
              "75%          66.000000         21.000000     4.000000    10.000000   \n",
              "max          98.000000         64.000000     6.000000    12.000000   \n",
              "\n",
              "              year  cityCenter_km  \n",
              "count  3525.000000    3525.000000  \n",
              "mean   2017.171064       4.499858  \n",
              "std       1.125225       1.688014  \n",
              "min    2014.000000       0.000000  \n",
              "25%    2017.000000       4.000000  \n",
              "50%    2017.000000       5.000000  \n",
              "75%    2018.000000       6.000000  \n",
              "max    2019.000000       7.000000  \n",
              "\n",
              "[8 rows x 24 columns]"
            ]
          },
          "metadata": {}
        }
      ]
    },
    {
      "cell_type": "markdown",
      "source": "### Средняя цена квартиры в центре почти в 2 раза выше, чем в среднем по СПб (включая центр), как и стоимость квадратного метра. Общая площадь в 1,5 раза больше, потолки выше, средняя этажность ниже. При этом, квартиры продаются на 30% дольше.",
      "metadata": {}
    },
    {
      "cell_type": "code",
      "source": "data_spb_center['total_area'].hist(bins=100, range=(0, 400))\n# смотрим на распределение общей площади квартиры в центре",
      "metadata": {},
      "execution_count": 26,
      "outputs": [
        {
          "execution_count": 26,
          "output_type": "execute_result",
          "data": {
            "text/plain": [
              "<AxesSubplot:>"
            ]
          },
          "metadata": {}
        },
        {
          "output_type": "display_data",
          "data": {
            "image/png": "[encoded data removed]",
            "text/plain": [
              "<Figure size 432x288 with 1 Axes>"
            ]
          },
          "metadata": {
            "needs_background": "light"
          }
        }
      ]
    },
    {
      "cell_type": "markdown",
      "source": "### Можно сделать вывод, что общая площадь квартир в центре выше, чем в целом по датафрейму, и лежит в пределах от 40 до 150 м2.",
      "metadata": {}
    },
    {
      "cell_type": "code",
      "source": "data_spb_center['rooms'].hist(bins=15, range=(0, 15))\n# смотрим на распределение количества комнат в центре",
      "metadata": {},
      "execution_count": 27,
      "outputs": [
        {
          "execution_count": 27,
          "output_type": "execute_result",
          "data": {
            "text/plain": [
              "<AxesSubplot:>"
            ]
          },
          "metadata": {}
        },
        {
          "output_type": "display_data",
          "data": {
            "image/png": "[encoded data removed]",
            "text/plain": [
              "<Figure size 432x288 with 1 Axes>"
            ]
          },
          "metadata": {
            "needs_background": "light"
          }
        }
      ]
    },
    {
      "cell_type": "markdown",
      "source": "### Большинство квартир в центре также имеют от 1 до 4 комнат, как и в целом по датафрейму.",
      "metadata": {}
    },
    {
      "cell_type": "code",
      "source": "data_spb_center['ceiling_height'].hist(bins=30, range=(2.25, 4.5))\n# смотрим на распределение высоты потолков в центре",
      "metadata": {},
      "execution_count": 63,
      "outputs": [
        {
          "execution_count": 63,
          "output_type": "execute_result",
          "data": {
            "text/plain": [
              "<AxesSubplot:>"
            ]
          },
          "metadata": {}
        },
        {
          "output_type": "display_data",
          "data": {
            "image/png": "[encoded data removed]",
            "text/plain": [
              "<Figure size 432x288 with 1 Axes>"
            ]
          },
          "metadata": {
            "needs_background": "light"
          }
        }
      ]
    },
    {
      "cell_type": "markdown",
      "source": "### Большинство квартир как и в общем датасете имеют медианную высоту, но одновременно с этим и достаточно много квартир с потолками 3м и более.",
      "metadata": {}
    },
    {
      "cell_type": "code",
      "source": "data_spb_center['price_m2'].hist(bins=100, range=(50000, 500000))\n# смотрим на распределение стоимости квадтраного метра в центре",
      "metadata": {},
      "execution_count": 28,
      "outputs": [
        {
          "execution_count": 28,
          "output_type": "execute_result",
          "data": {
            "text/plain": [
              "<AxesSubplot:>"
            ]
          },
          "metadata": {}
        },
        {
          "output_type": "display_data",
          "data": {
            "image/png": "[encoded data removed]",
            "text/plain": [
              "<Figure size 432x288 with 1 Axes>"
            ]
          },
          "metadata": {
            "needs_background": "light"
          }
        }
      ]
    },
    {
      "cell_type": "code",
      "source": "data_spb_center['last_price'].hist(bins=50, range=(2000000, 30000000))\n# смотрим на распределение стоимости квартир в центре",
      "metadata": {},
      "execution_count": 29,
      "outputs": [
        {
          "execution_count": 29,
          "output_type": "execute_result",
          "data": {
            "text/plain": [
              "<AxesSubplot:>"
            ]
          },
          "metadata": {}
        },
        {
          "output_type": "display_data",
          "data": {
            "image/png": "[encoded data removed]",
            "text/plain": [
              "<Figure size 432x288 with 1 Axes>"
            ]
          },
          "metadata": {
            "needs_background": "light"
          }
        }
      ]
    },
    {
      "cell_type": "markdown",
      "source": "#### Стоимость квартир в центре выше, чем в среднем, и лежит в пределах от 4 до 20 млн.\nСтоимость квадратного метра также выше и лежит в пределах от 50 до 200 т.",
      "metadata": {}
    },
    {
      "cell_type": "code",
      "source": "pd.plotting.scatter_matrix(data_spb_center.loc[:, ['price_m2', 'total_area', 'rooms', 'ceiling_height']], figsize=(15, 15))\n# строим графики, показывающие зависимость между стоимостью кв. метра \n# и общей площадью, количеством комнат и высотой потолков.\ndisplay(data_spb_center.loc[:, ['price_m2', 'total_area', 'rooms', 'ceiling_height']].corr())\n# смотрим корреляцию между ними же",
      "metadata": {},
      "execution_count": 30,
      "outputs": [
        {
          "output_type": "display_data",
          "data": {
            "text/html": [
              "<div>\n",
              "<style scoped>\n",
              "    .dataframe tbody tr th:only-of-type {\n",
              "        vertical-align: middle;\n",
              "    }\n",
              "\n",
              "    .dataframe tbody tr th {\n",
              "        vertical-align: top;\n",
              "    }\n",
              "\n",
              "    .dataframe thead th {\n",
              "        text-align: right;\n",
              "    }\n",
              "</style>\n",
              "<table border=\"1\" class=\"dataframe\">\n",
              "  <thead>\n",
              "    <tr style=\"text-align: right;\">\n",
              "      <th></th>\n",
              "      <th>price_m2</th>\n",
              "      <th>total_area</th>\n",
              "      <th>rooms</th>\n",
              "      <th>ceiling_height</th>\n",
              "    </tr>\n",
              "  </thead>\n",
              "  <tbody>\n",
              "    <tr>\n",
              "      <th>price_m2</th>\n",
              "      <td>1.000000</td>\n",
              "      <td>0.245184</td>\n",
              "      <td>-0.002189</td>\n",
              "      <td>0.040358</td>\n",
              "    </tr>\n",
              "    <tr>\n",
              "      <th>total_area</th>\n",
              "      <td>0.245184</td>\n",
              "      <td>1.000000</td>\n",
              "      <td>0.730397</td>\n",
              "      <td>0.128060</td>\n",
              "    </tr>\n",
              "    <tr>\n",
              "      <th>rooms</th>\n",
              "      <td>-0.002189</td>\n",
              "      <td>0.730397</td>\n",
              "      <td>1.000000</td>\n",
              "      <td>0.097015</td>\n",
              "    </tr>\n",
              "    <tr>\n",
              "      <th>ceiling_height</th>\n",
              "      <td>0.040358</td>\n",
              "      <td>0.128060</td>\n",
              "      <td>0.097015</td>\n",
              "      <td>1.000000</td>\n",
              "    </tr>\n",
              "  </tbody>\n",
              "</table>\n",
              "</div>"
            ],
            "text/plain": [
              "                price_m2  total_area     rooms  ceiling_height\n",
              "price_m2        1.000000    0.245184 -0.002189        0.040358\n",
              "total_area      0.245184    1.000000  0.730397        0.128060\n",
              "rooms          -0.002189    0.730397  1.000000        0.097015\n",
              "ceiling_height  0.040358    0.128060  0.097015        1.000000"
            ]
          },
          "metadata": {}
        },
        {
          "output_type": "display_data",
          "data": {
            "image/png": "[encoded data removed]",
            "text/plain": [
              "<Figure size 1080x1080 with 16 Axes>"
            ]
          },
          "metadata": {
            "needs_background": "light"
          }
        }
      ]
    },
    {
      "cell_type": "code",
      "source": "display(data_spb_center.loc[:, ['last_price', 'total_area', 'rooms', 'ceiling_height']].corr())\n# смотрим на корреляцию между стоимостью квартиры, общей площадью, количеством комнат и высотой потолков\npd.plotting.scatter_matrix(data_spb_center.loc[:, ['last_price', 'total_area', 'rooms', 'ceiling_height']], figsize=(15, 15))\n# строим графики",
      "metadata": {},
      "execution_count": 31,
      "outputs": [
        {
          "output_type": "display_data",
          "data": {
            "text/html": [
              "<div>\n",
              "<style scoped>\n",
              "    .dataframe tbody tr th:only-of-type {\n",
              "        vertical-align: middle;\n",
              "    }\n",
              "\n",
              "    .dataframe tbody tr th {\n",
              "        vertical-align: top;\n",
              "    }\n",
              "\n",
              "    .dataframe thead th {\n",
              "        text-align: right;\n",
              "    }\n",
              "</style>\n",
              "<table border=\"1\" class=\"dataframe\">\n",
              "  <thead>\n",
              "    <tr style=\"text-align: right;\">\n",
              "      <th></th>\n",
              "      <th>last_price</th>\n",
              "      <th>total_area</th>\n",
              "      <th>rooms</th>\n",
              "      <th>ceiling_height</th>\n",
              "    </tr>\n",
              "  </thead>\n",
              "  <tbody>\n",
              "    <tr>\n",
              "      <th>last_price</th>\n",
              "      <td>1.000000</td>\n",
              "      <td>0.613480</td>\n",
              "      <td>0.314874</td>\n",
              "      <td>0.070556</td>\n",
              "    </tr>\n",
              "    <tr>\n",
              "      <th>total_area</th>\n",
              "      <td>0.613480</td>\n",
              "      <td>1.000000</td>\n",
              "      <td>0.730397</td>\n",
              "      <td>0.128060</td>\n",
              "    </tr>\n",
              "    <tr>\n",
              "      <th>rooms</th>\n",
              "      <td>0.314874</td>\n",
              "      <td>0.730397</td>\n",
              "      <td>1.000000</td>\n",
              "      <td>0.097015</td>\n",
              "    </tr>\n",
              "    <tr>\n",
              "      <th>ceiling_height</th>\n",
              "      <td>0.070556</td>\n",
              "      <td>0.128060</td>\n",
              "      <td>0.097015</td>\n",
              "      <td>1.000000</td>\n",
              "    </tr>\n",
              "  </tbody>\n",
              "</table>\n",
              "</div>"
            ],
            "text/plain": [
              "                last_price  total_area     rooms  ceiling_height\n",
              "last_price        1.000000    0.613480  0.314874        0.070556\n",
              "total_area        0.613480    1.000000  0.730397        0.128060\n",
              "rooms             0.314874    0.730397  1.000000        0.097015\n",
              "ceiling_height    0.070556    0.128060  0.097015        1.000000"
            ]
          },
          "metadata": {}
        },
        {
          "execution_count": 31,
          "output_type": "execute_result",
          "data": {
            "text/plain": [
              "array([[<AxesSubplot:xlabel='last_price', ylabel='last_price'>,\n",
              "        <AxesSubplot:xlabel='total_area', ylabel='last_price'>,\n",
              "        <AxesSubplot:xlabel='rooms', ylabel='last_price'>,\n",
              "        <AxesSubplot:xlabel='ceiling_height', ylabel='last_price'>],\n",
              "       [<AxesSubplot:xlabel='last_price', ylabel='total_area'>,\n",
              "        <AxesSubplot:xlabel='total_area', ylabel='total_area'>,\n",
              "        <AxesSubplot:xlabel='rooms', ylabel='total_area'>,\n",
              "        <AxesSubplot:xlabel='ceiling_height', ylabel='total_area'>],\n",
              "       [<AxesSubplot:xlabel='last_price', ylabel='rooms'>,\n",
              "        <AxesSubplot:xlabel='total_area', ylabel='rooms'>,\n",
              "        <AxesSubplot:xlabel='rooms', ylabel='rooms'>,\n",
              "        <AxesSubplot:xlabel='ceiling_height', ylabel='rooms'>],\n",
              "       [<AxesSubplot:xlabel='last_price', ylabel='ceiling_height'>,\n",
              "        <AxesSubplot:xlabel='total_area', ylabel='ceiling_height'>,\n",
              "        <AxesSubplot:xlabel='rooms', ylabel='ceiling_height'>,\n",
              "        <AxesSubplot:xlabel='ceiling_height', ylabel='ceiling_height'>]],\n",
              "      dtype=object)"
            ]
          },
          "metadata": {}
        },
        {
          "output_type": "display_data",
          "data": {
            "image/png": "[encoded data removed]",
            "text/plain": [
              "<Figure size 1080x1080 with 16 Axes>"
            ]
          },
          "metadata": {
            "needs_background": "light"
          }
        }
      ]
    },
    {
      "cell_type": "markdown",
      "source": "### На общую стоимость квартиры ярко выражено влияет общая площадь и количество комнат, в отличие от высоты потолков. \nДля стоимости квадратного метра есть некоторая связь с общей площадью квартиры, но она не ярко выражена.",
      "metadata": {}
    },
    {
      "cell_type": "code",
      "source": "display(data_spb_center.loc[:, ['price_m2', 'floor', 'cityCenter_km']].corr())\n# смотрим корреляцию между стоимостью квадратного метра, этажом и удалённостью от центра\ndata_spb_center.pivot_table(index='floor', values='price_m2', aggfunc='median').plot(kind='bar', grid=True)\n#pd.plotting.scatter_matrix(data_spb_center.loc[:, ['price_m2', 'floor', 'cityCenter_km']], figsize=(15, 15))\n# рисуем графики, показывающие зависимость между стоимостью кв. метра \n# и этажом и удалённостью от центра.",
      "metadata": {},
      "execution_count": 44,
      "outputs": [
        {
          "output_type": "display_data",
          "data": {
            "text/html": [
              "<div>\n",
              "<style scoped>\n",
              "    .dataframe tbody tr th:only-of-type {\n",
              "        vertical-align: middle;\n",
              "    }\n",
              "\n",
              "    .dataframe tbody tr th {\n",
              "        vertical-align: top;\n",
              "    }\n",
              "\n",
              "    .dataframe thead th {\n",
              "        text-align: right;\n",
              "    }\n",
              "</style>\n",
              "<table border=\"1\" class=\"dataframe\">\n",
              "  <thead>\n",
              "    <tr style=\"text-align: right;\">\n",
              "      <th></th>\n",
              "      <th>price_m2</th>\n",
              "      <th>floor</th>\n",
              "      <th>cityCenter_km</th>\n",
              "    </tr>\n",
              "  </thead>\n",
              "  <tbody>\n",
              "    <tr>\n",
              "      <th>price_m2</th>\n",
              "      <td>1.000000</td>\n",
              "      <td>0.121940</td>\n",
              "      <td>-0.021629</td>\n",
              "    </tr>\n",
              "    <tr>\n",
              "      <th>floor</th>\n",
              "      <td>0.121940</td>\n",
              "      <td>1.000000</td>\n",
              "      <td>0.229065</td>\n",
              "    </tr>\n",
              "    <tr>\n",
              "      <th>cityCenter_km</th>\n",
              "      <td>-0.021629</td>\n",
              "      <td>0.229065</td>\n",
              "      <td>1.000000</td>\n",
              "    </tr>\n",
              "  </tbody>\n",
              "</table>\n",
              "</div>"
            ],
            "text/plain": [
              "               price_m2     floor  cityCenter_km\n",
              "price_m2       1.000000  0.121940      -0.021629\n",
              "floor          0.121940  1.000000       0.229065\n",
              "cityCenter_km -0.021629  0.229065       1.000000"
            ]
          },
          "metadata": {}
        },
        {
          "execution_count": 44,
          "output_type": "execute_result",
          "data": {
            "text/plain": [
              "<AxesSubplot:xlabel='floor'>"
            ]
          },
          "metadata": {}
        },
        {
          "output_type": "display_data",
          "data": {
            "image/png": "[encoded data removed]",
            "text/plain": [
              "<Figure size 432x288 with 1 Axes>"
            ]
          },
          "metadata": {
            "needs_background": "light"
          }
        }
      ]
    },
    {
      "cell_type": "code",
      "source": "display(data_spb_center.loc[:, ['last_price', 'floor', 'cityCenter_km']].corr())\n# смотрим корреляцию между стоимостью квартиры, этажом и удалённостью от центра\ndata_spb_center.pivot_table(index='floor', values='last_price', aggfunc='median').plot(kind='bar', grid=True)",
      "metadata": {},
      "execution_count": 43,
      "outputs": [
        {
          "output_type": "display_data",
          "data": {
            "text/html": [
              "<div>\n",
              "<style scoped>\n",
              "    .dataframe tbody tr th:only-of-type {\n",
              "        vertical-align: middle;\n",
              "    }\n",
              "\n",
              "    .dataframe tbody tr th {\n",
              "        vertical-align: top;\n",
              "    }\n",
              "\n",
              "    .dataframe thead th {\n",
              "        text-align: right;\n",
              "    }\n",
              "</style>\n",
              "<table border=\"1\" class=\"dataframe\">\n",
              "  <thead>\n",
              "    <tr style=\"text-align: right;\">\n",
              "      <th></th>\n",
              "      <th>last_price</th>\n",
              "      <th>floor</th>\n",
              "      <th>cityCenter_km</th>\n",
              "    </tr>\n",
              "  </thead>\n",
              "  <tbody>\n",
              "    <tr>\n",
              "      <th>last_price</th>\n",
              "      <td>1.000000</td>\n",
              "      <td>0.108597</td>\n",
              "      <td>-0.040549</td>\n",
              "    </tr>\n",
              "    <tr>\n",
              "      <th>floor</th>\n",
              "      <td>0.108597</td>\n",
              "      <td>1.000000</td>\n",
              "      <td>0.229065</td>\n",
              "    </tr>\n",
              "    <tr>\n",
              "      <th>cityCenter_km</th>\n",
              "      <td>-0.040549</td>\n",
              "      <td>0.229065</td>\n",
              "      <td>1.000000</td>\n",
              "    </tr>\n",
              "  </tbody>\n",
              "</table>\n",
              "</div>"
            ],
            "text/plain": [
              "               last_price     floor  cityCenter_km\n",
              "last_price       1.000000  0.108597      -0.040549\n",
              "floor            0.108597  1.000000       0.229065\n",
              "cityCenter_km   -0.040549  0.229065       1.000000"
            ]
          },
          "metadata": {}
        },
        {
          "execution_count": 43,
          "output_type": "execute_result",
          "data": {
            "text/plain": [
              "<AxesSubplot:xlabel='floor'>"
            ]
          },
          "metadata": {}
        },
        {
          "output_type": "display_data",
          "data": {
            "image/png": "[encoded data removed]",
            "text/plain": [
              "<Figure size 432x288 with 1 Axes>"
            ]
          },
          "metadata": {
            "needs_background": "light"
          }
        }
      ]
    },
    {
      "cell_type": "markdown",
      "source": "### Стоимость квадратного метра не зависит от этажа (если этаж - не первый). На стоимость всей квартиры этаж влияет, напротив, достаточно заметно.",
      "metadata": {}
    },
    {
      "cell_type": "code",
      "source": "data_spb_center.pivot_table(index='cityCenter_km', values='price_m2', aggfunc='mean').plot(kind='bar', grid=True)\ndata_spb_center.pivot_table(index='cityCenter_km', values='last_price', aggfunc='mean').plot(kind='bar', grid=True)\n",
      "metadata": {},
      "execution_count": 45,
      "outputs": [
        {
          "execution_count": 45,
          "output_type": "execute_result",
          "data": {
            "text/plain": [
              "<AxesSubplot:xlabel='cityCenter_km'>"
            ]
          },
          "metadata": {}
        },
        {
          "output_type": "display_data",
          "data": {
            "image/png": "[encoded data removed]",
            "text/plain": [
              "<Figure size 432x288 with 1 Axes>"
            ]
          },
          "metadata": {
            "needs_background": "light"
          }
        },
        {
          "output_type": "display_data",
          "data": {
            "image/png": "[encoded data removed]",
            "text/plain": [
              "<Figure size 432x288 with 1 Axes>"
            ]
          },
          "metadata": {
            "needs_background": "light"
          }
        }
      ]
    },
    {
      "cell_type": "markdown",
      "source": "### И стоимость квадратного метра, и общая стоимость квартиры обратно пропорциональны удалённости от центра, но это верно только до радиуса в 4 км, дальше это перестаёт сильно влиять.",
      "metadata": {}
    },
    {
      "cell_type": "code",
      "source": "data_spb_center.plot(x='first_day_exposition', y='price_m2', grid=True)\ndata_spb_center.plot(x='first_day_exposition', y='last_price', grid=True)\n# смотрим на стоимость квадратного метра в зависимости от даты публикации",
      "metadata": {},
      "execution_count": 34,
      "outputs": [
        {
          "execution_count": 34,
          "output_type": "execute_result",
          "data": {
            "text/plain": [
              "<AxesSubplot:xlabel='first_day_exposition'>"
            ]
          },
          "metadata": {}
        },
        {
          "output_type": "display_data",
          "data": {
            "image/png": "[encoded data removed]",
            "text/plain": [
              "<Figure size 432x288 with 1 Axes>"
            ]
          },
          "metadata": {
            "needs_background": "light"
          }
        },
        {
          "output_type": "display_data",
          "data": {
            "image/png": "[encoded data removed]",
            "text/plain": [
              "<Figure size 432x288 with 1 Axes>"
            ]
          },
          "metadata": {
            "needs_background": "light"
          }
        }
      ]
    },
    {
      "cell_type": "markdown",
      "source": "### Есть всплески стоимости в середине и конце каждого года.",
      "metadata": {}
    },
    {
      "cell_type": "markdown",
      "source": "## Общий вывод",
      "metadata": {}
    },
    {
      "cell_type": "markdown",
      "source": "В ходе исследования мы выяснили, что на стоимость квартиры может влиять множество параметров, начиная от общей площади, количетсва комнат и удалённости от центра (но дальше определённого расстояния удалённости от центра почти перестаёт влиять), и заканчивая этажом, на котором расположена квартира и даже днём недели и месяцем продажи квартиры.\nКвартиры в центре Санкт-Петербурга отличаются от средних квартир по датафрейму не только общей стоимостью и стоимотью квадратного метра, но также и многими другими характеристиками, такими как:\n- общая и жилая площадь больше в центре\n- высота потолков в центре больше\n- длительность продажи квартиры (в центре - дольше)\n- зависимостью цены от этажа (в центре квартиры, расположенные на последнем этаже - самые дорогие)\n- при этом количество этажей, в среднем, меньше",
      "metadata": {}
    }
  ]
}