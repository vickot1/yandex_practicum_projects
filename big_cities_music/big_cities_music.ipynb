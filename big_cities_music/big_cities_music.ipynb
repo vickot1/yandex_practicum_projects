{
  "metadata": {
    "ExecuteTimeLog": [
      {
        "duration": 45,
        "start_time": "2022-04-11T12:55:50.407Z"
      },
      {
        "duration": 8,
        "start_time": "2022-04-11T13:00:54.582Z"
      },
      {
        "duration": 89,
        "start_time": "2022-04-11T13:01:18.600Z"
      },
      {
        "duration": 7,
        "start_time": "2022-04-11T13:02:13.519Z"
      },
      {
        "duration": 419,
        "start_time": "2022-04-11T13:02:19.870Z"
      },
      {
        "duration": 27,
        "start_time": "2022-04-11T13:02:22.499Z"
      },
      {
        "duration": 62,
        "start_time": "2022-04-11T13:02:44.456Z"
      },
      {
        "duration": 13,
        "start_time": "2022-04-11T13:03:09.984Z"
      },
      {
        "duration": 3,
        "start_time": "2022-04-11T13:03:25.947Z"
      },
      {
        "duration": 57,
        "start_time": "2022-04-11T13:03:28.991Z"
      },
      {
        "duration": 61,
        "start_time": "2022-04-11T13:03:41.237Z"
      },
      {
        "duration": 2,
        "start_time": "2022-04-11T13:04:51.838Z"
      },
      {
        "duration": 59,
        "start_time": "2022-04-11T13:04:55.576Z"
      },
      {
        "duration": 176,
        "start_time": "2022-04-11T13:05:48.699Z"
      },
      {
        "duration": 19,
        "start_time": "2022-04-11T13:05:52.070Z"
      },
      {
        "duration": 11,
        "start_time": "2022-04-11T13:06:09.352Z"
      },
      {
        "duration": 29,
        "start_time": "2022-04-11T13:06:26.710Z"
      },
      {
        "duration": 14,
        "start_time": "2022-04-11T13:22:22.586Z"
      },
      {
        "duration": 5,
        "start_time": "2022-04-11T13:24:04.906Z"
      },
      {
        "duration": 14,
        "start_time": "2022-04-11T13:24:16.383Z"
      },
      {
        "duration": 4,
        "start_time": "2022-04-11T13:24:36.840Z"
      },
      {
        "duration": 30,
        "start_time": "2022-04-11T13:29:17.060Z"
      },
      {
        "duration": 54,
        "start_time": "2022-04-12T15:30:21.094Z"
      },
      {
        "duration": 7,
        "start_time": "2022-04-12T15:31:29.488Z"
      },
      {
        "duration": 121,
        "start_time": "2022-04-12T15:34:40.233Z"
      },
      {
        "duration": 338,
        "start_time": "2022-04-12T15:35:12.512Z"
      },
      {
        "duration": 8,
        "start_time": "2022-04-12T15:35:52.599Z"
      },
      {
        "duration": 394,
        "start_time": "2022-04-12T15:36:09.463Z"
      },
      {
        "duration": 164,
        "start_time": "2022-04-12T15:36:11.848Z"
      },
      {
        "duration": 20,
        "start_time": "2022-04-12T15:36:13.202Z"
      },
      {
        "duration": 53,
        "start_time": "2022-04-12T15:36:15.187Z"
      },
      {
        "duration": 5,
        "start_time": "2022-04-12T15:36:17.858Z"
      },
      {
        "duration": 14,
        "start_time": "2022-04-12T15:36:19.813Z"
      },
      {
        "duration": 5,
        "start_time": "2022-04-12T15:36:20.905Z"
      },
      {
        "duration": 41,
        "start_time": "2022-04-12T15:36:22.582Z"
      },
      {
        "duration": 32,
        "start_time": "2022-04-12T15:36:25.300Z"
      },
      {
        "duration": 12,
        "start_time": "2022-04-12T15:37:21.757Z"
      },
      {
        "duration": 10,
        "start_time": "2022-04-12T15:37:40.164Z"
      },
      {
        "duration": 8,
        "start_time": "2022-04-12T15:39:35.213Z"
      },
      {
        "duration": 14,
        "start_time": "2022-04-12T15:40:37.570Z"
      },
      {
        "duration": 2192,
        "start_time": "2022-04-12T15:41:31.594Z"
      },
      {
        "duration": 2141,
        "start_time": "2022-04-12T15:42:06.692Z"
      },
      {
        "duration": 2488,
        "start_time": "2022-04-12T15:43:05.382Z"
      },
      {
        "duration": 162,
        "start_time": "2022-04-13T12:50:33.444Z"
      },
      {
        "duration": 66,
        "start_time": "2022-04-13T12:50:53.691Z"
      },
      {
        "duration": 506,
        "start_time": "2022-04-13T12:51:14.854Z"
      },
      {
        "duration": 195,
        "start_time": "2022-04-13T12:51:16.353Z"
      },
      {
        "duration": 19,
        "start_time": "2022-04-13T12:51:16.772Z"
      },
      {
        "duration": 32,
        "start_time": "2022-04-13T12:51:17.575Z"
      },
      {
        "duration": 5,
        "start_time": "2022-04-13T12:51:19.436Z"
      },
      {
        "duration": 17,
        "start_time": "2022-04-13T12:51:22.752Z"
      },
      {
        "duration": 5,
        "start_time": "2022-04-13T12:51:26.133Z"
      },
      {
        "duration": 54,
        "start_time": "2022-04-13T12:51:26.917Z"
      },
      {
        "duration": 155,
        "start_time": "2022-04-13T12:51:28.938Z"
      },
      {
        "duration": 29,
        "start_time": "2022-04-13T12:51:34.201Z"
      },
      {
        "duration": 39,
        "start_time": "2022-04-13T12:52:13.937Z"
      },
      {
        "duration": 70,
        "start_time": "2022-04-13T12:53:37.950Z"
      },
      {
        "duration": 94,
        "start_time": "2022-04-13T12:55:23.562Z"
      },
      {
        "duration": 88,
        "start_time": "2022-04-13T12:55:46.887Z"
      },
      {
        "duration": 95,
        "start_time": "2022-04-13T12:56:05.586Z"
      },
      {
        "duration": 70,
        "start_time": "2022-04-13T12:56:08.555Z"
      },
      {
        "duration": 8,
        "start_time": "2022-04-13T12:57:15.209Z"
      },
      {
        "duration": 5,
        "start_time": "2022-04-13T13:05:16.629Z"
      },
      {
        "duration": 49,
        "start_time": "2022-04-13T13:05:18.805Z"
      },
      {
        "duration": 14,
        "start_time": "2022-04-13T13:05:39.524Z"
      },
      {
        "duration": 13,
        "start_time": "2022-04-13T13:07:13.556Z"
      },
      {
        "duration": 4,
        "start_time": "2022-04-13T13:08:19.733Z"
      },
      {
        "duration": 9,
        "start_time": "2022-04-13T13:08:21.175Z"
      },
      {
        "duration": 6,
        "start_time": "2022-04-13T13:08:28.264Z"
      },
      {
        "duration": 11,
        "start_time": "2022-04-13T13:08:31.546Z"
      },
      {
        "duration": 2,
        "start_time": "2022-04-13T13:26:46.007Z"
      },
      {
        "duration": 23,
        "start_time": "2022-04-13T13:26:50.022Z"
      },
      {
        "duration": 11,
        "start_time": "2022-04-13T13:26:56.941Z"
      },
      {
        "duration": 11,
        "start_time": "2022-04-13T13:28:20.747Z"
      },
      {
        "duration": 22,
        "start_time": "2022-04-13T13:30:45.826Z"
      },
      {
        "duration": 25,
        "start_time": "2022-04-13T13:30:58.867Z"
      },
      {
        "duration": 3,
        "start_time": "2022-04-13T13:31:12.409Z"
      },
      {
        "duration": 812,
        "start_time": "2022-04-13T13:31:13.692Z"
      },
      {
        "duration": 11,
        "start_time": "2022-04-13T13:31:15.181Z"
      },
      {
        "duration": 32,
        "start_time": "2022-04-13T13:31:18.957Z"
      },
      {
        "duration": 4,
        "start_time": "2022-04-13T13:31:30.711Z"
      },
      {
        "duration": 6,
        "start_time": "2022-04-13T13:31:36.774Z"
      },
      {
        "duration": 4,
        "start_time": "2022-04-13T13:31:38.356Z"
      },
      {
        "duration": 25,
        "start_time": "2022-04-13T13:31:44.254Z"
      },
      {
        "duration": 17,
        "start_time": "2022-04-13T13:31:52.795Z"
      },
      {
        "duration": 26,
        "start_time": "2022-04-13T13:31:56.277Z"
      },
      {
        "duration": 66,
        "start_time": "2022-04-13T13:33:02.449Z"
      },
      {
        "duration": 82,
        "start_time": "2022-04-13T13:33:05.428Z"
      },
      {
        "duration": 61,
        "start_time": "2022-04-13T13:33:09.465Z"
      },
      {
        "duration": 11,
        "start_time": "2022-04-13T13:33:13.741Z"
      },
      {
        "duration": 3,
        "start_time": "2022-04-13T13:33:24.290Z"
      },
      {
        "duration": 2,
        "start_time": "2022-04-13T13:34:24.012Z"
      },
      {
        "duration": 9,
        "start_time": "2022-04-13T13:34:26.547Z"
      },
      {
        "duration": 11,
        "start_time": "2022-04-13T13:34:31.957Z"
      },
      {
        "duration": 9,
        "start_time": "2022-04-13T13:34:45.281Z"
      },
      {
        "duration": 11,
        "start_time": "2022-04-13T13:35:03.678Z"
      },
      {
        "duration": 10,
        "start_time": "2022-04-13T13:36:28.591Z"
      },
      {
        "duration": 35,
        "start_time": "2022-04-13T13:54:31.675Z"
      },
      {
        "duration": 56,
        "start_time": "2022-04-13T13:55:30.373Z"
      },
      {
        "duration": 4,
        "start_time": "2022-04-13T14:05:24.183Z"
      },
      {
        "duration": 14,
        "start_time": "2022-04-13T14:05:27.414Z"
      },
      {
        "duration": 9,
        "start_time": "2022-04-13T14:06:42.854Z"
      },
      {
        "duration": 9,
        "start_time": "2022-04-13T14:07:42.494Z"
      },
      {
        "duration": 10,
        "start_time": "2022-04-13T14:09:07.285Z"
      },
      {
        "duration": 16,
        "start_time": "2022-04-13T14:09:26.384Z"
      },
      {
        "duration": 19,
        "start_time": "2022-04-13T15:11:33.735Z"
      },
      {
        "duration": 9,
        "start_time": "2022-04-13T15:11:55.476Z"
      },
      {
        "duration": 16,
        "start_time": "2022-04-13T15:12:15.411Z"
      },
      {
        "duration": 27,
        "start_time": "2022-04-13T15:12:39.143Z"
      },
      {
        "duration": 21,
        "start_time": "2022-04-13T15:13:08.053Z"
      },
      {
        "duration": 34,
        "start_time": "2022-04-13T15:13:28.718Z"
      },
      {
        "duration": 27,
        "start_time": "2022-04-13T15:13:58.557Z"
      },
      {
        "duration": 16,
        "start_time": "2022-04-13T15:14:26.869Z"
      },
      {
        "duration": 22,
        "start_time": "2022-04-13T15:14:58.683Z"
      },
      {
        "duration": 4,
        "start_time": "2022-04-13T15:32:39.778Z"
      },
      {
        "duration": 13,
        "start_time": "2022-04-13T15:33:10.239Z"
      },
      {
        "duration": 21,
        "start_time": "2022-04-13T15:43:18.867Z"
      },
      {
        "duration": 29,
        "start_time": "2022-04-13T15:43:28.325Z"
      },
      {
        "duration": 152,
        "start_time": "2022-04-13T15:44:39.928Z"
      },
      {
        "duration": 153,
        "start_time": "2022-04-13T15:44:51.078Z"
      },
      {
        "duration": 24,
        "start_time": "2022-04-13T15:45:07.213Z"
      },
      {
        "duration": 19,
        "start_time": "2022-04-13T15:45:15.529Z"
      },
      {
        "duration": 9,
        "start_time": "2022-04-13T18:08:19.643Z"
      },
      {
        "duration": 41,
        "start_time": "2022-04-13T18:08:31.697Z"
      },
      {
        "duration": 398,
        "start_time": "2022-04-13T18:08:45.369Z"
      },
      {
        "duration": 132,
        "start_time": "2022-04-13T18:08:45.769Z"
      },
      {
        "duration": 16,
        "start_time": "2022-04-13T18:08:45.903Z"
      },
      {
        "duration": 27,
        "start_time": "2022-04-13T18:08:45.920Z"
      },
      {
        "duration": 4,
        "start_time": "2022-04-13T18:08:45.949Z"
      },
      {
        "duration": 10,
        "start_time": "2022-04-13T18:08:45.974Z"
      },
      {
        "duration": 7,
        "start_time": "2022-04-13T18:08:45.985Z"
      },
      {
        "duration": 27,
        "start_time": "2022-04-13T18:08:45.993Z"
      },
      {
        "duration": 80,
        "start_time": "2022-04-13T18:08:46.021Z"
      },
      {
        "duration": 0,
        "start_time": "2022-04-13T18:08:46.103Z"
      },
      {
        "duration": 0,
        "start_time": "2022-04-13T18:08:46.104Z"
      },
      {
        "duration": 0,
        "start_time": "2022-04-13T18:08:46.106Z"
      },
      {
        "duration": 0,
        "start_time": "2022-04-13T18:08:46.107Z"
      },
      {
        "duration": 0,
        "start_time": "2022-04-13T18:08:46.108Z"
      },
      {
        "duration": 0,
        "start_time": "2022-04-13T18:08:46.109Z"
      },
      {
        "duration": 0,
        "start_time": "2022-04-13T18:08:46.110Z"
      },
      {
        "duration": 0,
        "start_time": "2022-04-13T18:08:46.111Z"
      },
      {
        "duration": 0,
        "start_time": "2022-04-13T18:08:46.112Z"
      },
      {
        "duration": 0,
        "start_time": "2022-04-13T18:08:46.113Z"
      },
      {
        "duration": 0,
        "start_time": "2022-04-13T18:08:46.114Z"
      },
      {
        "duration": 0,
        "start_time": "2022-04-13T18:08:46.115Z"
      },
      {
        "duration": 0,
        "start_time": "2022-04-13T18:08:46.116Z"
      },
      {
        "duration": 0,
        "start_time": "2022-04-13T18:08:46.117Z"
      },
      {
        "duration": 0,
        "start_time": "2022-04-13T18:08:46.117Z"
      },
      {
        "duration": 0,
        "start_time": "2022-04-13T18:08:46.118Z"
      },
      {
        "duration": 0,
        "start_time": "2022-04-13T18:08:46.119Z"
      },
      {
        "duration": 0,
        "start_time": "2022-04-13T18:08:46.120Z"
      },
      {
        "duration": 0,
        "start_time": "2022-04-13T18:08:46.121Z"
      },
      {
        "duration": 0,
        "start_time": "2022-04-13T18:08:46.122Z"
      },
      {
        "duration": 0,
        "start_time": "2022-04-13T18:08:46.123Z"
      },
      {
        "duration": 0,
        "start_time": "2022-04-13T18:08:46.124Z"
      },
      {
        "duration": 0,
        "start_time": "2022-04-13T18:08:46.125Z"
      },
      {
        "duration": 0,
        "start_time": "2022-04-13T18:08:46.126Z"
      },
      {
        "duration": 0,
        "start_time": "2022-04-13T18:08:46.127Z"
      },
      {
        "duration": 0,
        "start_time": "2022-04-13T18:08:46.128Z"
      },
      {
        "duration": 0,
        "start_time": "2022-04-13T18:08:46.129Z"
      },
      {
        "duration": 0,
        "start_time": "2022-04-13T18:08:46.130Z"
      },
      {
        "duration": 0,
        "start_time": "2022-04-13T18:08:46.131Z"
      },
      {
        "duration": 0,
        "start_time": "2022-04-13T18:08:46.132Z"
      },
      {
        "duration": 27,
        "start_time": "2022-04-13T18:08:56.036Z"
      },
      {
        "duration": 16,
        "start_time": "2022-04-13T18:09:02.727Z"
      },
      {
        "duration": 10,
        "start_time": "2022-04-13T18:09:03.654Z"
      },
      {
        "duration": 4,
        "start_time": "2022-04-13T18:09:04.792Z"
      },
      {
        "duration": 22,
        "start_time": "2022-04-13T18:09:06.222Z"
      },
      {
        "duration": 16,
        "start_time": "2022-04-13T18:09:49.892Z"
      },
      {
        "duration": 14,
        "start_time": "2022-04-13T18:10:32.109Z"
      },
      {
        "duration": 11,
        "start_time": "2022-04-13T18:11:10.631Z"
      },
      {
        "duration": 16,
        "start_time": "2022-04-13T18:16:26.696Z"
      },
      {
        "duration": 16,
        "start_time": "2022-04-13T18:17:09.954Z"
      },
      {
        "duration": 16,
        "start_time": "2022-04-13T18:17:30.929Z"
      },
      {
        "duration": 8,
        "start_time": "2022-04-13T18:19:38.789Z"
      },
      {
        "duration": 2,
        "start_time": "2022-04-13T18:19:50.763Z"
      },
      {
        "duration": 160,
        "start_time": "2022-04-13T18:19:51.973Z"
      },
      {
        "duration": 12,
        "start_time": "2022-04-13T18:19:53.558Z"
      },
      {
        "duration": 29,
        "start_time": "2022-04-13T18:19:57.505Z"
      },
      {
        "duration": 4,
        "start_time": "2022-04-13T18:20:06.440Z"
      },
      {
        "duration": 11,
        "start_time": "2022-04-13T18:20:13.696Z"
      },
      {
        "duration": 5,
        "start_time": "2022-04-13T18:20:16.855Z"
      },
      {
        "duration": 25,
        "start_time": "2022-04-13T18:20:20.765Z"
      },
      {
        "duration": 20,
        "start_time": "2022-04-13T18:20:28.670Z"
      },
      {
        "duration": 25,
        "start_time": "2022-04-13T18:20:30.562Z"
      },
      {
        "duration": 65,
        "start_time": "2022-04-13T18:20:34.056Z"
      },
      {
        "duration": 76,
        "start_time": "2022-04-13T18:20:36.778Z"
      },
      {
        "duration": 58,
        "start_time": "2022-04-13T18:20:40.423Z"
      },
      {
        "duration": 8,
        "start_time": "2022-04-13T18:20:44.087Z"
      },
      {
        "duration": 3,
        "start_time": "2022-04-13T18:20:50.805Z"
      },
      {
        "duration": 13,
        "start_time": "2022-04-13T18:20:54.422Z"
      },
      {
        "duration": 15,
        "start_time": "2022-04-13T18:20:58.103Z"
      },
      {
        "duration": 44,
        "start_time": "2022-04-13T18:21:06.363Z"
      },
      {
        "duration": 35,
        "start_time": "2022-04-13T18:21:10.397Z"
      },
      {
        "duration": 3,
        "start_time": "2022-04-13T18:21:13.578Z"
      },
      {
        "duration": 20,
        "start_time": "2022-04-13T18:21:16.724Z"
      },
      {
        "duration": 17,
        "start_time": "2022-04-13T18:21:18.664Z"
      },
      {
        "duration": 19,
        "start_time": "2022-04-13T18:21:19.306Z"
      },
      {
        "duration": 15,
        "start_time": "2022-04-13T18:21:19.973Z"
      },
      {
        "duration": 16,
        "start_time": "2022-04-13T18:21:20.507Z"
      },
      {
        "duration": 17,
        "start_time": "2022-04-13T18:21:22.397Z"
      },
      {
        "duration": 9,
        "start_time": "2022-04-13T18:21:25.704Z"
      },
      {
        "duration": 14,
        "start_time": "2022-04-13T18:21:31.645Z"
      },
      {
        "duration": 10,
        "start_time": "2022-04-13T18:21:32.830Z"
      },
      {
        "duration": 5,
        "start_time": "2022-04-13T18:21:36.941Z"
      },
      {
        "duration": 20,
        "start_time": "2022-04-13T18:21:40.040Z"
      },
      {
        "duration": 13,
        "start_time": "2022-04-13T18:21:44.107Z"
      },
      {
        "duration": 18,
        "start_time": "2022-04-13T18:21:48.661Z"
      },
      {
        "duration": 13,
        "start_time": "2022-04-13T18:21:54.240Z"
      },
      {
        "duration": 12,
        "start_time": "2022-04-13T18:26:17.052Z"
      },
      {
        "duration": 10,
        "start_time": "2022-04-13T18:28:57.592Z"
      },
      {
        "duration": 9,
        "start_time": "2022-04-13T18:29:24.394Z"
      },
      {
        "duration": 5,
        "start_time": "2022-04-13T18:29:26.651Z"
      },
      {
        "duration": 5,
        "start_time": "2022-04-13T18:30:53.645Z"
      },
      {
        "duration": 5,
        "start_time": "2022-04-13T18:30:54.608Z"
      },
      {
        "duration": 534,
        "start_time": "2022-04-23T09:13:55.656Z"
      },
      {
        "duration": 227,
        "start_time": "2022-04-23T09:13:56.193Z"
      },
      {
        "duration": 33,
        "start_time": "2022-04-23T09:13:56.422Z"
      },
      {
        "duration": 70,
        "start_time": "2022-04-23T09:13:56.459Z"
      },
      {
        "duration": 9,
        "start_time": "2022-04-23T09:13:56.532Z"
      },
      {
        "duration": 17,
        "start_time": "2022-04-23T09:13:56.544Z"
      },
      {
        "duration": 18,
        "start_time": "2022-04-23T09:13:56.563Z"
      },
      {
        "duration": 69,
        "start_time": "2022-04-23T09:13:56.583Z"
      },
      {
        "duration": 110,
        "start_time": "2022-04-23T09:13:56.655Z"
      },
      {
        "duration": 0,
        "start_time": "2022-04-23T09:13:56.768Z"
      },
      {
        "duration": 0,
        "start_time": "2022-04-23T09:13:56.772Z"
      },
      {
        "duration": 0,
        "start_time": "2022-04-23T09:13:56.773Z"
      },
      {
        "duration": 0,
        "start_time": "2022-04-23T09:13:56.775Z"
      },
      {
        "duration": 0,
        "start_time": "2022-04-23T09:13:56.776Z"
      },
      {
        "duration": 0,
        "start_time": "2022-04-23T09:13:56.778Z"
      },
      {
        "duration": 0,
        "start_time": "2022-04-23T09:13:56.779Z"
      },
      {
        "duration": 0,
        "start_time": "2022-04-23T09:13:56.781Z"
      },
      {
        "duration": 0,
        "start_time": "2022-04-23T09:13:56.782Z"
      },
      {
        "duration": 0,
        "start_time": "2022-04-23T09:13:56.784Z"
      },
      {
        "duration": 0,
        "start_time": "2022-04-23T09:13:56.785Z"
      },
      {
        "duration": 0,
        "start_time": "2022-04-23T09:13:56.786Z"
      },
      {
        "duration": 0,
        "start_time": "2022-04-23T09:13:56.788Z"
      },
      {
        "duration": 0,
        "start_time": "2022-04-23T09:13:56.789Z"
      },
      {
        "duration": 0,
        "start_time": "2022-04-23T09:13:56.790Z"
      },
      {
        "duration": 0,
        "start_time": "2022-04-23T09:13:56.792Z"
      },
      {
        "duration": 0,
        "start_time": "2022-04-23T09:13:56.793Z"
      },
      {
        "duration": 0,
        "start_time": "2022-04-23T09:13:56.795Z"
      },
      {
        "duration": 0,
        "start_time": "2022-04-23T09:13:56.796Z"
      },
      {
        "duration": 0,
        "start_time": "2022-04-23T09:13:56.798Z"
      },
      {
        "duration": 0,
        "start_time": "2022-04-23T09:13:56.799Z"
      },
      {
        "duration": 0,
        "start_time": "2022-04-23T09:13:56.800Z"
      },
      {
        "duration": 0,
        "start_time": "2022-04-23T09:13:56.802Z"
      },
      {
        "duration": 0,
        "start_time": "2022-04-23T09:13:56.803Z"
      },
      {
        "duration": 0,
        "start_time": "2022-04-23T09:13:56.805Z"
      },
      {
        "duration": 0,
        "start_time": "2022-04-23T09:13:56.806Z"
      },
      {
        "duration": 0,
        "start_time": "2022-04-23T09:13:56.825Z"
      },
      {
        "duration": 0,
        "start_time": "2022-04-23T09:13:56.827Z"
      },
      {
        "duration": 0,
        "start_time": "2022-04-23T09:13:56.829Z"
      },
      {
        "duration": 1,
        "start_time": "2022-04-23T09:13:56.831Z"
      },
      {
        "duration": 1,
        "start_time": "2022-04-23T09:13:56.833Z"
      },
      {
        "duration": 106,
        "start_time": "2022-04-23T09:17:04.765Z"
      },
      {
        "duration": 35,
        "start_time": "2022-04-23T09:17:44.532Z"
      },
      {
        "duration": 558,
        "start_time": "2022-04-23T09:18:27.914Z"
      },
      {
        "duration": 216,
        "start_time": "2022-04-23T09:18:28.475Z"
      },
      {
        "duration": 36,
        "start_time": "2022-04-23T09:18:28.693Z"
      },
      {
        "duration": 43,
        "start_time": "2022-04-23T09:18:28.731Z"
      },
      {
        "duration": 5,
        "start_time": "2022-04-23T09:18:28.777Z"
      },
      {
        "duration": 50,
        "start_time": "2022-04-23T09:18:28.784Z"
      },
      {
        "duration": 9,
        "start_time": "2022-04-23T09:18:28.838Z"
      },
      {
        "duration": 35,
        "start_time": "2022-04-23T09:18:28.849Z"
      },
      {
        "duration": 51,
        "start_time": "2022-04-23T09:18:28.887Z"
      },
      {
        "duration": 40,
        "start_time": "2022-04-23T09:18:28.941Z"
      },
      {
        "duration": 125,
        "start_time": "2022-04-23T09:18:28.984Z"
      },
      {
        "duration": 142,
        "start_time": "2022-04-23T09:18:29.111Z"
      },
      {
        "duration": 113,
        "start_time": "2022-04-23T09:18:29.255Z"
      },
      {
        "duration": 11,
        "start_time": "2022-04-23T09:18:29.375Z"
      },
      {
        "duration": 9,
        "start_time": "2022-04-23T09:18:29.388Z"
      },
      {
        "duration": 41,
        "start_time": "2022-04-23T09:18:29.399Z"
      },
      {
        "duration": 16,
        "start_time": "2022-04-23T09:18:29.443Z"
      },
      {
        "duration": 78,
        "start_time": "2022-04-23T09:18:29.461Z"
      },
      {
        "duration": 50,
        "start_time": "2022-04-23T09:18:29.541Z"
      },
      {
        "duration": 6,
        "start_time": "2022-04-23T09:18:29.593Z"
      },
      {
        "duration": 33,
        "start_time": "2022-04-23T09:18:29.626Z"
      },
      {
        "duration": 20,
        "start_time": "2022-04-23T09:18:29.662Z"
      },
      {
        "duration": 42,
        "start_time": "2022-04-23T09:18:29.684Z"
      },
      {
        "duration": 25,
        "start_time": "2022-04-23T09:18:29.730Z"
      },
      {
        "duration": 19,
        "start_time": "2022-04-23T09:18:29.757Z"
      },
      {
        "duration": 51,
        "start_time": "2022-04-23T09:18:29.778Z"
      },
      {
        "duration": 14,
        "start_time": "2022-04-23T09:18:29.833Z"
      },
      {
        "duration": 17,
        "start_time": "2022-04-23T09:18:29.850Z"
      },
      {
        "duration": 15,
        "start_time": "2022-04-23T09:18:29.869Z"
      },
      {
        "duration": 9,
        "start_time": "2022-04-23T09:18:29.925Z"
      },
      {
        "duration": 41,
        "start_time": "2022-04-23T09:18:29.938Z"
      },
      {
        "duration": 16,
        "start_time": "2022-04-23T09:18:29.981Z"
      },
      {
        "duration": 51,
        "start_time": "2022-04-23T09:18:29.999Z"
      },
      {
        "duration": 17,
        "start_time": "2022-04-23T09:18:30.052Z"
      },
      {
        "duration": 12,
        "start_time": "2022-04-23T09:18:30.071Z"
      },
      {
        "duration": 44,
        "start_time": "2022-04-23T09:18:30.086Z"
      },
      {
        "duration": 23,
        "start_time": "2022-04-23T09:18:30.134Z"
      },
      {
        "duration": 15,
        "start_time": "2022-04-23T09:18:30.160Z"
      },
      {
        "duration": 43,
        "start_time": "2022-04-23T09:18:30.177Z"
      },
      {
        "duration": 736,
        "start_time": "2022-04-23T09:30:02.324Z"
      },
      {
        "duration": 331,
        "start_time": "2022-04-23T09:30:03.064Z"
      },
      {
        "duration": 41,
        "start_time": "2022-04-23T09:30:03.398Z"
      },
      {
        "duration": 43,
        "start_time": "2022-04-23T09:30:03.441Z"
      },
      {
        "duration": 38,
        "start_time": "2022-04-23T09:30:03.486Z"
      },
      {
        "duration": 14,
        "start_time": "2022-04-23T09:30:03.527Z"
      },
      {
        "duration": 20,
        "start_time": "2022-04-23T09:30:03.544Z"
      },
      {
        "duration": 59,
        "start_time": "2022-04-23T09:30:03.567Z"
      },
      {
        "duration": 132,
        "start_time": "2022-04-23T09:30:03.629Z"
      },
      {
        "duration": 0,
        "start_time": "2022-04-23T09:30:03.765Z"
      },
      {
        "duration": 0,
        "start_time": "2022-04-23T09:30:03.768Z"
      },
      {
        "duration": 0,
        "start_time": "2022-04-23T09:30:03.770Z"
      },
      {
        "duration": 0,
        "start_time": "2022-04-23T09:30:03.771Z"
      },
      {
        "duration": 0,
        "start_time": "2022-04-23T09:30:03.773Z"
      },
      {
        "duration": 0,
        "start_time": "2022-04-23T09:30:03.775Z"
      },
      {
        "duration": 0,
        "start_time": "2022-04-23T09:30:03.776Z"
      },
      {
        "duration": 0,
        "start_time": "2022-04-23T09:30:03.778Z"
      },
      {
        "duration": 0,
        "start_time": "2022-04-23T09:30:03.779Z"
      },
      {
        "duration": 0,
        "start_time": "2022-04-23T09:30:03.781Z"
      },
      {
        "duration": 0,
        "start_time": "2022-04-23T09:30:03.783Z"
      },
      {
        "duration": 0,
        "start_time": "2022-04-23T09:30:03.784Z"
      },
      {
        "duration": 0,
        "start_time": "2022-04-23T09:30:03.786Z"
      },
      {
        "duration": 0,
        "start_time": "2022-04-23T09:30:03.787Z"
      },
      {
        "duration": 0,
        "start_time": "2022-04-23T09:30:03.789Z"
      },
      {
        "duration": 0,
        "start_time": "2022-04-23T09:30:03.791Z"
      },
      {
        "duration": 0,
        "start_time": "2022-04-23T09:30:03.792Z"
      },
      {
        "duration": 0,
        "start_time": "2022-04-23T09:30:03.794Z"
      },
      {
        "duration": 0,
        "start_time": "2022-04-23T09:30:03.795Z"
      },
      {
        "duration": 0,
        "start_time": "2022-04-23T09:30:03.796Z"
      },
      {
        "duration": 0,
        "start_time": "2022-04-23T09:30:03.798Z"
      },
      {
        "duration": 0,
        "start_time": "2022-04-23T09:30:03.799Z"
      },
      {
        "duration": 0,
        "start_time": "2022-04-23T09:30:03.801Z"
      },
      {
        "duration": 0,
        "start_time": "2022-04-23T09:30:03.802Z"
      },
      {
        "duration": 0,
        "start_time": "2022-04-23T09:30:03.804Z"
      },
      {
        "duration": 0,
        "start_time": "2022-04-23T09:30:03.825Z"
      },
      {
        "duration": 0,
        "start_time": "2022-04-23T09:30:03.826Z"
      },
      {
        "duration": 0,
        "start_time": "2022-04-23T09:30:03.828Z"
      },
      {
        "duration": 0,
        "start_time": "2022-04-23T09:30:03.829Z"
      },
      {
        "duration": 0,
        "start_time": "2022-04-23T09:30:03.831Z"
      },
      {
        "duration": 0,
        "start_time": "2022-04-23T09:30:03.832Z"
      },
      {
        "duration": 698,
        "start_time": "2022-04-23T16:28:59.641Z"
      },
      {
        "duration": 325,
        "start_time": "2022-04-23T16:29:00.343Z"
      },
      {
        "duration": 47,
        "start_time": "2022-04-23T16:29:00.671Z"
      },
      {
        "duration": 131,
        "start_time": "2022-04-23T16:29:00.721Z"
      },
      {
        "duration": 7,
        "start_time": "2022-04-23T16:29:00.857Z"
      },
      {
        "duration": 36,
        "start_time": "2022-04-23T16:29:00.867Z"
      },
      {
        "duration": 18,
        "start_time": "2022-04-23T16:29:00.906Z"
      },
      {
        "duration": 78,
        "start_time": "2022-04-23T16:29:00.927Z"
      },
      {
        "duration": 181,
        "start_time": "2022-04-23T16:29:01.009Z"
      },
      {
        "duration": 0,
        "start_time": "2022-04-23T16:29:01.195Z"
      },
      {
        "duration": 0,
        "start_time": "2022-04-23T16:29:01.198Z"
      },
      {
        "duration": 0,
        "start_time": "2022-04-23T16:29:01.201Z"
      },
      {
        "duration": 0,
        "start_time": "2022-04-23T16:29:01.204Z"
      },
      {
        "duration": 0,
        "start_time": "2022-04-23T16:29:01.206Z"
      },
      {
        "duration": 0,
        "start_time": "2022-04-23T16:29:01.208Z"
      },
      {
        "duration": 0,
        "start_time": "2022-04-23T16:29:01.210Z"
      },
      {
        "duration": 0,
        "start_time": "2022-04-23T16:29:01.212Z"
      },
      {
        "duration": 0,
        "start_time": "2022-04-23T16:29:01.214Z"
      },
      {
        "duration": 0,
        "start_time": "2022-04-23T16:29:01.216Z"
      },
      {
        "duration": 0,
        "start_time": "2022-04-23T16:29:01.218Z"
      },
      {
        "duration": 0,
        "start_time": "2022-04-23T16:29:01.220Z"
      },
      {
        "duration": 0,
        "start_time": "2022-04-23T16:29:01.223Z"
      },
      {
        "duration": 0,
        "start_time": "2022-04-23T16:29:01.225Z"
      },
      {
        "duration": 0,
        "start_time": "2022-04-23T16:29:01.227Z"
      },
      {
        "duration": 0,
        "start_time": "2022-04-23T16:29:01.229Z"
      },
      {
        "duration": 0,
        "start_time": "2022-04-23T16:29:01.231Z"
      },
      {
        "duration": 0,
        "start_time": "2022-04-23T16:29:01.233Z"
      },
      {
        "duration": 0,
        "start_time": "2022-04-23T16:29:01.235Z"
      },
      {
        "duration": 0,
        "start_time": "2022-04-23T16:29:01.237Z"
      },
      {
        "duration": 0,
        "start_time": "2022-04-23T16:29:01.294Z"
      },
      {
        "duration": 0,
        "start_time": "2022-04-23T16:29:01.295Z"
      },
      {
        "duration": 0,
        "start_time": "2022-04-23T16:29:01.297Z"
      },
      {
        "duration": 0,
        "start_time": "2022-04-23T16:29:01.298Z"
      },
      {
        "duration": 0,
        "start_time": "2022-04-23T16:29:01.300Z"
      },
      {
        "duration": 0,
        "start_time": "2022-04-23T16:29:01.302Z"
      },
      {
        "duration": 0,
        "start_time": "2022-04-23T16:29:01.303Z"
      },
      {
        "duration": 0,
        "start_time": "2022-04-23T16:29:01.305Z"
      },
      {
        "duration": 0,
        "start_time": "2022-04-23T16:29:01.306Z"
      },
      {
        "duration": 0,
        "start_time": "2022-04-23T16:29:01.308Z"
      },
      {
        "duration": 0,
        "start_time": "2022-04-23T16:29:01.310Z"
      },
      {
        "duration": 160,
        "start_time": "2022-04-23T16:29:14.376Z"
      },
      {
        "duration": 178,
        "start_time": "2022-04-23T16:29:38.911Z"
      },
      {
        "duration": 687,
        "start_time": "2022-04-23T16:30:51.955Z"
      },
      {
        "duration": 207,
        "start_time": "2022-04-23T16:30:52.645Z"
      },
      {
        "duration": 42,
        "start_time": "2022-04-23T16:30:52.855Z"
      },
      {
        "duration": 42,
        "start_time": "2022-04-23T16:30:52.899Z"
      },
      {
        "duration": 6,
        "start_time": "2022-04-23T16:30:52.944Z"
      },
      {
        "duration": 15,
        "start_time": "2022-04-23T16:30:52.953Z"
      },
      {
        "duration": 12,
        "start_time": "2022-04-23T16:30:52.994Z"
      },
      {
        "duration": 37,
        "start_time": "2022-04-23T16:30:53.009Z"
      },
      {
        "duration": 205,
        "start_time": "2022-04-23T16:30:53.048Z"
      },
      {
        "duration": 0,
        "start_time": "2022-04-23T16:30:53.256Z"
      },
      {
        "duration": 0,
        "start_time": "2022-04-23T16:30:53.258Z"
      },
      {
        "duration": 0,
        "start_time": "2022-04-23T16:30:53.261Z"
      },
      {
        "duration": 0,
        "start_time": "2022-04-23T16:30:53.263Z"
      },
      {
        "duration": 0,
        "start_time": "2022-04-23T16:30:53.264Z"
      },
      {
        "duration": 0,
        "start_time": "2022-04-23T16:30:53.266Z"
      },
      {
        "duration": 0,
        "start_time": "2022-04-23T16:30:53.267Z"
      },
      {
        "duration": 0,
        "start_time": "2022-04-23T16:30:53.268Z"
      },
      {
        "duration": 0,
        "start_time": "2022-04-23T16:30:53.269Z"
      },
      {
        "duration": 0,
        "start_time": "2022-04-23T16:30:53.271Z"
      },
      {
        "duration": 0,
        "start_time": "2022-04-23T16:30:53.273Z"
      },
      {
        "duration": 0,
        "start_time": "2022-04-23T16:30:53.275Z"
      },
      {
        "duration": 0,
        "start_time": "2022-04-23T16:30:53.277Z"
      },
      {
        "duration": 0,
        "start_time": "2022-04-23T16:30:53.279Z"
      },
      {
        "duration": 0,
        "start_time": "2022-04-23T16:30:53.281Z"
      },
      {
        "duration": 0,
        "start_time": "2022-04-23T16:30:53.283Z"
      },
      {
        "duration": 0,
        "start_time": "2022-04-23T16:30:53.285Z"
      },
      {
        "duration": 0,
        "start_time": "2022-04-23T16:30:53.287Z"
      },
      {
        "duration": 0,
        "start_time": "2022-04-23T16:30:53.289Z"
      },
      {
        "duration": 0,
        "start_time": "2022-04-23T16:30:53.291Z"
      },
      {
        "duration": 0,
        "start_time": "2022-04-23T16:30:53.293Z"
      },
      {
        "duration": 0,
        "start_time": "2022-04-23T16:30:53.295Z"
      },
      {
        "duration": 0,
        "start_time": "2022-04-23T16:30:53.296Z"
      },
      {
        "duration": 0,
        "start_time": "2022-04-23T16:30:53.298Z"
      },
      {
        "duration": 0,
        "start_time": "2022-04-23T16:30:53.299Z"
      },
      {
        "duration": 0,
        "start_time": "2022-04-23T16:30:53.301Z"
      },
      {
        "duration": 0,
        "start_time": "2022-04-23T16:30:53.303Z"
      },
      {
        "duration": 0,
        "start_time": "2022-04-23T16:30:53.306Z"
      },
      {
        "duration": 0,
        "start_time": "2022-04-23T16:30:53.308Z"
      },
      {
        "duration": 0,
        "start_time": "2022-04-23T16:30:53.309Z"
      },
      {
        "duration": 1,
        "start_time": "2022-04-23T16:30:53.310Z"
      },
      {
        "duration": 0,
        "start_time": "2022-04-23T16:30:53.312Z"
      },
      {
        "duration": 92,
        "start_time": "2022-04-23T16:31:10.341Z"
      },
      {
        "duration": 3,
        "start_time": "2022-04-23T16:31:25.279Z"
      },
      {
        "duration": 208,
        "start_time": "2022-04-23T16:31:33.591Z"
      },
      {
        "duration": 16,
        "start_time": "2022-04-23T16:31:38.943Z"
      },
      {
        "duration": 40,
        "start_time": "2022-04-23T16:31:58.802Z"
      },
      {
        "duration": 6,
        "start_time": "2022-04-23T16:35:48.422Z"
      },
      {
        "duration": 6,
        "start_time": "2022-04-23T16:36:28.163Z"
      },
      {
        "duration": 6,
        "start_time": "2022-04-23T16:41:23.901Z"
      },
      {
        "duration": 12,
        "start_time": "2022-04-23T16:41:56.588Z"
      },
      {
        "duration": 6,
        "start_time": "2022-04-23T16:42:00.676Z"
      },
      {
        "duration": 5,
        "start_time": "2022-04-23T16:42:15.953Z"
      },
      {
        "duration": 24,
        "start_time": "2022-04-23T16:42:57.303Z"
      },
      {
        "duration": 32,
        "start_time": "2022-04-23T16:43:11.454Z"
      },
      {
        "duration": 92,
        "start_time": "2022-04-23T16:43:24.676Z"
      },
      {
        "duration": 112,
        "start_time": "2022-04-23T16:43:30.102Z"
      },
      {
        "duration": 90,
        "start_time": "2022-04-23T16:43:50.894Z"
      },
      {
        "duration": 48,
        "start_time": "2022-04-23T16:44:31.759Z"
      },
      {
        "duration": 52,
        "start_time": "2022-04-23T16:46:02.607Z"
      },
      {
        "duration": 11,
        "start_time": "2022-04-23T16:46:19.142Z"
      },
      {
        "duration": 53,
        "start_time": "2022-04-23T16:46:37.240Z"
      },
      {
        "duration": 4,
        "start_time": "2022-04-23T16:47:02.231Z"
      },
      {
        "duration": 13,
        "start_time": "2022-04-23T16:47:06.720Z"
      },
      {
        "duration": 5,
        "start_time": "2022-04-23T16:47:56.051Z"
      },
      {
        "duration": 13,
        "start_time": "2022-04-23T16:48:03.135Z"
      },
      {
        "duration": 54,
        "start_time": "2022-04-23T16:48:32.919Z"
      },
      {
        "duration": 47,
        "start_time": "2022-04-23T16:50:50.002Z"
      },
      {
        "duration": 17,
        "start_time": "2022-04-23T16:51:59.049Z"
      },
      {
        "duration": 17,
        "start_time": "2022-04-23T16:53:40.300Z"
      },
      {
        "duration": 18,
        "start_time": "2022-04-23T16:53:57.834Z"
      },
      {
        "duration": 20,
        "start_time": "2022-04-23T16:54:12.603Z"
      },
      {
        "duration": 18,
        "start_time": "2022-04-23T16:54:17.020Z"
      },
      {
        "duration": 5,
        "start_time": "2022-04-23T16:56:05.274Z"
      },
      {
        "duration": 24,
        "start_time": "2022-04-23T16:56:10.502Z"
      },
      {
        "duration": 22,
        "start_time": "2022-04-23T16:56:11.494Z"
      },
      {
        "duration": 24,
        "start_time": "2022-04-23T16:56:12.252Z"
      },
      {
        "duration": 24,
        "start_time": "2022-04-23T16:56:13.046Z"
      },
      {
        "duration": 22,
        "start_time": "2022-04-23T16:56:13.721Z"
      },
      {
        "duration": 22,
        "start_time": "2022-04-23T16:56:14.308Z"
      },
      {
        "duration": 13,
        "start_time": "2022-04-23T16:56:21.621Z"
      },
      {
        "duration": 16,
        "start_time": "2022-04-23T16:56:30.491Z"
      },
      {
        "duration": 14,
        "start_time": "2022-04-23T16:56:31.409Z"
      },
      {
        "duration": 7,
        "start_time": "2022-04-23T16:56:35.354Z"
      },
      {
        "duration": 7,
        "start_time": "2022-04-23T16:57:09.873Z"
      },
      {
        "duration": 23,
        "start_time": "2022-04-23T16:57:13.699Z"
      },
      {
        "duration": 16,
        "start_time": "2022-04-23T16:57:18.989Z"
      },
      {
        "duration": 23,
        "start_time": "2022-04-23T16:57:26.311Z"
      },
      {
        "duration": 15,
        "start_time": "2022-04-23T16:57:31.499Z"
      },
      {
        "duration": 11,
        "start_time": "2022-04-23T16:57:40.865Z"
      },
      {
        "duration": 6,
        "start_time": "2022-04-23T16:57:42.798Z"
      },
      {
        "duration": 8,
        "start_time": "2022-04-23T16:57:53.108Z"
      },
      {
        "duration": 6,
        "start_time": "2022-04-23T16:57:57.348Z"
      },
      {
        "duration": 5,
        "start_time": "2022-04-23T16:58:45.932Z"
      },
      {
        "duration": 507,
        "start_time": "2022-04-23T16:59:14.881Z"
      },
      {
        "duration": 208,
        "start_time": "2022-04-23T16:59:15.394Z"
      },
      {
        "duration": 27,
        "start_time": "2022-04-23T16:59:15.604Z"
      },
      {
        "duration": 66,
        "start_time": "2022-04-23T16:59:15.634Z"
      },
      {
        "duration": 7,
        "start_time": "2022-04-23T16:59:15.702Z"
      },
      {
        "duration": 17,
        "start_time": "2022-04-23T16:59:15.712Z"
      },
      {
        "duration": 8,
        "start_time": "2022-04-23T16:59:15.732Z"
      },
      {
        "duration": 62,
        "start_time": "2022-04-23T16:59:15.742Z"
      },
      {
        "duration": 26,
        "start_time": "2022-04-23T16:59:15.806Z"
      },
      {
        "duration": 58,
        "start_time": "2022-04-23T16:59:15.836Z"
      },
      {
        "duration": 105,
        "start_time": "2022-04-23T16:59:15.897Z"
      },
      {
        "duration": 126,
        "start_time": "2022-04-23T16:59:16.004Z"
      },
      {
        "duration": 98,
        "start_time": "2022-04-23T16:59:16.132Z"
      },
      {
        "duration": 65,
        "start_time": "2022-04-23T16:59:16.233Z"
      },
      {
        "duration": 4,
        "start_time": "2022-04-23T16:59:16.300Z"
      },
      {
        "duration": 21,
        "start_time": "2022-04-23T16:59:16.307Z"
      },
      {
        "duration": 68,
        "start_time": "2022-04-23T16:59:16.331Z"
      },
      {
        "duration": 18,
        "start_time": "2022-04-23T16:59:16.401Z"
      },
      {
        "duration": 18,
        "start_time": "2022-04-23T16:59:16.421Z"
      },
      {
        "duration": 5,
        "start_time": "2022-04-23T16:59:16.441Z"
      },
      {
        "duration": 68,
        "start_time": "2022-04-23T16:59:16.448Z"
      },
      {
        "duration": 21,
        "start_time": "2022-04-23T16:59:16.519Z"
      },
      {
        "duration": 55,
        "start_time": "2022-04-23T16:59:16.542Z"
      },
      {
        "duration": 20,
        "start_time": "2022-04-23T16:59:16.599Z"
      },
      {
        "duration": 20,
        "start_time": "2022-04-23T16:59:16.621Z"
      },
      {
        "duration": 59,
        "start_time": "2022-04-23T16:59:16.644Z"
      },
      {
        "duration": 12,
        "start_time": "2022-04-23T16:59:16.706Z"
      },
      {
        "duration": 16,
        "start_time": "2022-04-23T16:59:16.723Z"
      },
      {
        "duration": 13,
        "start_time": "2022-04-23T16:59:16.741Z"
      },
      {
        "duration": 39,
        "start_time": "2022-04-23T16:59:16.757Z"
      },
      {
        "duration": 34,
        "start_time": "2022-04-23T16:59:16.798Z"
      },
      {
        "duration": 19,
        "start_time": "2022-04-23T16:59:16.835Z"
      },
      {
        "duration": 53,
        "start_time": "2022-04-23T16:59:16.856Z"
      },
      {
        "duration": 18,
        "start_time": "2022-04-23T16:59:16.912Z"
      },
      {
        "duration": 15,
        "start_time": "2022-04-23T16:59:16.932Z"
      },
      {
        "duration": 47,
        "start_time": "2022-04-23T16:59:16.949Z"
      },
      {
        "duration": 15,
        "start_time": "2022-04-23T16:59:16.999Z"
      },
      {
        "duration": 21,
        "start_time": "2022-04-23T16:59:17.016Z"
      },
      {
        "duration": 162,
        "start_time": "2022-04-23T16:59:17.039Z"
      },
      {
        "duration": 0,
        "start_time": "2022-04-23T16:59:17.203Z"
      },
      {
        "duration": 4,
        "start_time": "2022-04-23T16:59:22.528Z"
      },
      {
        "duration": 510,
        "start_time": "2022-04-23T17:00:56.783Z"
      },
      {
        "duration": 190,
        "start_time": "2022-04-23T17:00:57.295Z"
      },
      {
        "duration": 28,
        "start_time": "2022-04-23T17:00:57.492Z"
      },
      {
        "duration": 41,
        "start_time": "2022-04-23T17:00:57.523Z"
      },
      {
        "duration": 28,
        "start_time": "2022-04-23T17:00:57.566Z"
      },
      {
        "duration": 14,
        "start_time": "2022-04-23T17:00:57.597Z"
      },
      {
        "duration": 9,
        "start_time": "2022-04-23T17:00:57.613Z"
      },
      {
        "duration": 35,
        "start_time": "2022-04-23T17:00:57.625Z"
      },
      {
        "duration": 25,
        "start_time": "2022-04-23T17:00:57.693Z"
      },
      {
        "duration": 32,
        "start_time": "2022-04-23T17:00:57.722Z"
      },
      {
        "duration": 118,
        "start_time": "2022-04-23T17:00:57.756Z"
      },
      {
        "duration": 120,
        "start_time": "2022-04-23T17:00:57.876Z"
      },
      {
        "duration": 103,
        "start_time": "2022-04-23T17:00:57.998Z"
      },
      {
        "duration": 51,
        "start_time": "2022-04-23T17:00:58.104Z"
      },
      {
        "duration": 4,
        "start_time": "2022-04-23T17:00:58.157Z"
      },
      {
        "duration": 38,
        "start_time": "2022-04-23T17:00:58.163Z"
      },
      {
        "duration": 52,
        "start_time": "2022-04-23T17:00:58.203Z"
      },
      {
        "duration": 37,
        "start_time": "2022-04-23T17:00:58.257Z"
      },
      {
        "duration": 18,
        "start_time": "2022-04-23T17:00:58.296Z"
      },
      {
        "duration": 5,
        "start_time": "2022-04-23T17:00:58.316Z"
      },
      {
        "duration": 25,
        "start_time": "2022-04-23T17:00:58.324Z"
      },
      {
        "duration": 53,
        "start_time": "2022-04-23T17:00:58.351Z"
      },
      {
        "duration": 23,
        "start_time": "2022-04-23T17:00:58.406Z"
      },
      {
        "duration": 20,
        "start_time": "2022-04-23T17:00:58.431Z"
      },
      {
        "duration": 48,
        "start_time": "2022-04-23T17:00:58.453Z"
      },
      {
        "duration": 20,
        "start_time": "2022-04-23T17:00:58.504Z"
      },
      {
        "duration": 12,
        "start_time": "2022-04-23T17:00:58.526Z"
      },
      {
        "duration": 52,
        "start_time": "2022-04-23T17:00:58.545Z"
      },
      {
        "duration": 14,
        "start_time": "2022-04-23T17:00:58.600Z"
      },
      {
        "duration": 6,
        "start_time": "2022-04-23T17:00:58.617Z"
      },
      {
        "duration": 26,
        "start_time": "2022-04-23T17:00:58.626Z"
      },
      {
        "duration": 51,
        "start_time": "2022-04-23T17:00:58.655Z"
      },
      {
        "duration": 23,
        "start_time": "2022-04-23T17:00:58.709Z"
      },
      {
        "duration": 16,
        "start_time": "2022-04-23T17:00:58.734Z"
      },
      {
        "duration": 50,
        "start_time": "2022-04-23T17:00:58.753Z"
      },
      {
        "duration": 6,
        "start_time": "2022-04-23T17:00:58.805Z"
      },
      {
        "duration": 9,
        "start_time": "2022-04-23T17:00:58.813Z"
      },
      {
        "duration": 6,
        "start_time": "2022-04-23T17:00:58.824Z"
      },
      {
        "duration": 9,
        "start_time": "2022-04-23T17:00:58.831Z"
      },
      {
        "duration": 5,
        "start_time": "2022-04-23T17:01:10.509Z"
      },
      {
        "duration": 582,
        "start_time": "2022-04-23T18:41:59.254Z"
      },
      {
        "duration": 201,
        "start_time": "2022-04-23T18:41:59.839Z"
      },
      {
        "duration": 28,
        "start_time": "2022-04-23T18:42:00.042Z"
      },
      {
        "duration": 55,
        "start_time": "2022-04-23T18:42:00.073Z"
      },
      {
        "duration": 15,
        "start_time": "2022-04-23T18:42:00.130Z"
      },
      {
        "duration": 15,
        "start_time": "2022-04-23T18:42:00.147Z"
      },
      {
        "duration": 32,
        "start_time": "2022-04-23T18:42:00.164Z"
      },
      {
        "duration": 49,
        "start_time": "2022-04-23T18:42:00.198Z"
      },
      {
        "duration": 25,
        "start_time": "2022-04-23T18:42:00.249Z"
      },
      {
        "duration": 41,
        "start_time": "2022-04-23T18:42:00.278Z"
      },
      {
        "duration": 116,
        "start_time": "2022-04-23T18:42:00.322Z"
      },
      {
        "duration": 133,
        "start_time": "2022-04-23T18:42:00.440Z"
      },
      {
        "duration": 103,
        "start_time": "2022-04-23T18:42:00.575Z"
      },
      {
        "duration": 62,
        "start_time": "2022-04-23T18:42:00.680Z"
      },
      {
        "duration": 4,
        "start_time": "2022-04-23T18:42:00.745Z"
      },
      {
        "duration": 24,
        "start_time": "2022-04-23T18:42:00.751Z"
      },
      {
        "duration": 52,
        "start_time": "2022-04-23T18:42:00.793Z"
      },
      {
        "duration": 37,
        "start_time": "2022-04-23T18:42:00.847Z"
      },
      {
        "duration": 40,
        "start_time": "2022-04-23T18:42:00.887Z"
      },
      {
        "duration": 11,
        "start_time": "2022-04-23T18:42:00.930Z"
      },
      {
        "duration": 35,
        "start_time": "2022-04-23T18:42:00.944Z"
      },
      {
        "duration": 30,
        "start_time": "2022-04-23T18:42:00.981Z"
      },
      {
        "duration": 37,
        "start_time": "2022-04-23T18:42:01.013Z"
      },
      {
        "duration": 23,
        "start_time": "2022-04-23T18:42:01.053Z"
      },
      {
        "duration": 40,
        "start_time": "2022-04-23T18:42:01.078Z"
      },
      {
        "duration": 68,
        "start_time": "2022-04-23T18:42:01.120Z"
      },
      {
        "duration": 63,
        "start_time": "2022-04-23T18:42:01.190Z"
      },
      {
        "duration": 18,
        "start_time": "2022-04-23T18:42:01.258Z"
      },
      {
        "duration": 12,
        "start_time": "2022-04-23T18:42:01.278Z"
      },
      {
        "duration": 6,
        "start_time": "2022-04-23T18:42:01.293Z"
      },
      {
        "duration": 31,
        "start_time": "2022-04-23T18:42:01.301Z"
      },
      {
        "duration": 16,
        "start_time": "2022-04-23T18:42:01.334Z"
      },
      {
        "duration": 42,
        "start_time": "2022-04-23T18:42:01.352Z"
      },
      {
        "duration": 16,
        "start_time": "2022-04-23T18:42:01.396Z"
      },
      {
        "duration": 12,
        "start_time": "2022-04-23T18:42:01.414Z"
      },
      {
        "duration": 7,
        "start_time": "2022-04-23T18:42:01.428Z"
      },
      {
        "duration": 13,
        "start_time": "2022-04-23T18:42:01.437Z"
      },
      {
        "duration": 43,
        "start_time": "2022-04-23T18:42:01.452Z"
      },
      {
        "duration": 9,
        "start_time": "2022-04-23T18:42:01.498Z"
      },
      {
        "duration": 5,
        "start_time": "2022-04-23T18:45:05.300Z"
      },
      {
        "duration": 511,
        "start_time": "2022-04-23T18:47:43.117Z"
      },
      {
        "duration": 210,
        "start_time": "2022-04-23T18:47:43.631Z"
      },
      {
        "duration": 26,
        "start_time": "2022-04-23T18:47:43.843Z"
      },
      {
        "duration": 45,
        "start_time": "2022-04-23T18:47:43.872Z"
      },
      {
        "duration": 6,
        "start_time": "2022-04-23T18:47:43.919Z"
      },
      {
        "duration": 20,
        "start_time": "2022-04-23T18:47:43.926Z"
      },
      {
        "duration": 8,
        "start_time": "2022-04-23T18:47:43.949Z"
      },
      {
        "duration": 37,
        "start_time": "2022-04-23T18:47:43.959Z"
      },
      {
        "duration": 34,
        "start_time": "2022-04-23T18:47:43.999Z"
      },
      {
        "duration": 33,
        "start_time": "2022-04-23T18:47:44.037Z"
      },
      {
        "duration": 104,
        "start_time": "2022-04-23T18:47:44.072Z"
      },
      {
        "duration": 162,
        "start_time": "2022-04-23T18:47:44.831Z"
      },
      {
        "duration": 101,
        "start_time": "2022-04-23T18:47:44.996Z"
      },
      {
        "duration": 55,
        "start_time": "2022-04-23T18:47:45.100Z"
      },
      {
        "duration": 4,
        "start_time": "2022-04-23T18:47:45.159Z"
      },
      {
        "duration": 16,
        "start_time": "2022-04-23T18:47:45.194Z"
      },
      {
        "duration": 52,
        "start_time": "2022-04-23T18:47:45.212Z"
      },
      {
        "duration": 38,
        "start_time": "2022-04-23T18:47:45.266Z"
      },
      {
        "duration": 19,
        "start_time": "2022-04-23T18:47:45.307Z"
      },
      {
        "duration": 5,
        "start_time": "2022-04-23T18:47:45.329Z"
      },
      {
        "duration": 60,
        "start_time": "2022-04-23T18:47:45.338Z"
      },
      {
        "duration": 25,
        "start_time": "2022-04-23T18:47:45.400Z"
      },
      {
        "duration": 23,
        "start_time": "2022-04-23T18:47:45.427Z"
      },
      {
        "duration": 55,
        "start_time": "2022-04-23T18:47:45.452Z"
      },
      {
        "duration": 24,
        "start_time": "2022-04-23T18:47:45.509Z"
      },
      {
        "duration": 18,
        "start_time": "2022-04-23T18:47:45.535Z"
      },
      {
        "duration": 40,
        "start_time": "2022-04-23T18:47:45.556Z"
      },
      {
        "duration": 26,
        "start_time": "2022-04-23T18:47:45.599Z"
      },
      {
        "duration": 13,
        "start_time": "2022-04-23T18:47:45.627Z"
      },
      {
        "duration": 10,
        "start_time": "2022-04-23T18:47:45.643Z"
      },
      {
        "duration": 47,
        "start_time": "2022-04-23T18:47:45.655Z"
      },
      {
        "duration": 18,
        "start_time": "2022-04-23T18:47:45.703Z"
      },
      {
        "duration": 20,
        "start_time": "2022-04-23T18:47:45.723Z"
      },
      {
        "duration": 14,
        "start_time": "2022-04-23T18:47:45.745Z"
      },
      {
        "duration": 48,
        "start_time": "2022-04-23T18:47:45.761Z"
      },
      {
        "duration": 7,
        "start_time": "2022-04-23T18:47:45.811Z"
      },
      {
        "duration": 10,
        "start_time": "2022-04-23T18:47:45.820Z"
      },
      {
        "duration": 7,
        "start_time": "2022-04-23T18:47:45.832Z"
      },
      {
        "duration": 10,
        "start_time": "2022-04-23T18:47:45.843Z"
      }
    ],
    "colab": {
      "collapsed_sections": [
        "E0vqbgi9ay0H",
        "VUC88oWjTJw2"
      ],
      "name": "yandex_music_project.ipynb",
      "provenance": []
    },
    "kernelspec": {
      "name": "python",
      "display_name": "Python (Pyodide)",
      "language": "python"
    },
    "language_info": {
      "codemirror_mode": {
        "name": "python",
        "version": 3
      },
      "file_extension": ".py",
      "mimetype": "text/x-python",
      "name": "python",
      "nbconvert_exporter": "python",
      "pygments_lexer": "ipython3",
      "version": "3.8"
    },
    "toc": {
      "base_numbering": 1,
      "nav_menu": {},
      "number_sections": true,
      "sideBar": true,
      "skip_h1_title": true,
      "title_cell": "Table of Contents",
      "title_sidebar": "Contents",
      "toc_cell": false,
      "toc_position": {},
      "toc_section_display": true,
      "toc_window_display": true
    }
  },
  "nbformat_minor": 4,
  "nbformat": 4,
  "cells": [
    {
      "cell_type": "markdown",
      "source": "# Яндекс.Музыка",
      "metadata": {
        "id": "E0vqbgi9ay0H"
      }
    },
    {
      "cell_type": "markdown",
      "source": "Сравнение Москвы и Петербурга окружено мифами. Например:\n * Москва — мегаполис, подчинённый жёсткому ритму рабочей недели;\n * Петербург — культурная столица, со своими вкусами.\n\nНа данных Яндекс.Музыки вы сравните поведение пользователей двух столиц.\n\n**Цель исследования** — проверьте три гипотезы:\n1. Активность пользователей зависит от дня недели. Причём в Москве и Петербурге это проявляется по-разному.\n2. В понедельник утром в Москве преобладают одни жанры, а в Петербурге — другие. Так же и вечером пятницы преобладают разные жанры — в зависимости от города. \n3. Москва и Петербург предпочитают разные жанры музыки. В Москве чаще слушают поп-музыку, в Петербурге — русский рэп.\n\n**Ход исследования**\n\nДанные о поведении пользователей вы получите из файла `yandex_music_project.csv`. О качестве данных ничего не известно. Поэтому перед проверкой гипотез понадобится обзор данных. \n\nВы проверите данные на ошибки и оцените их влияние на исследование. Затем, на этапе предобработки вы поищете возможность исправить самые критичные ошибки данных.\n \nТаким образом, исследование пройдёт в три этапа:\n 1. Обзор данных.\n 2. Предобработка данных.\n 3. Проверка гипотез.\n\n",
      "metadata": {
        "id": "VUC88oWjTJw2"
      }
    },
    {
      "cell_type": "markdown",
      "source": "## Обзор данных\n\nСоставьте первое представление о данных Яндекс.Музыки.\n\n\n",
      "metadata": {
        "id": "Ml1hmfXC_Zcs"
      }
    },
    {
      "cell_type": "markdown",
      "source": "Основной инструмент аналитика — `pandas`. Импортируйте эту библиотеку.",
      "metadata": {
        "id": "57eAOGIz_Zcs"
      }
    },
    {
      "cell_type": "code",
      "source": "import pandas as pd \n# импорт библиотеки pandas",
      "metadata": {
        "id": "AXN7PHPN_Zcs"
      },
      "execution_count": 1,
      "outputs": []
    },
    {
      "cell_type": "code",
      "source": "df = pd.read_csv('/datasets/yandex_music_project.csv') # чтение файла с данными и сохранение в df",
      "metadata": {
        "id": "fFVu7vqh_Zct"
      },
      "execution_count": 2,
      "outputs": []
    },
    {
      "cell_type": "code",
      "source": "df.head(10) \n# получение первых 10 строк таблицы df",
      "metadata": {
        "id": "oWTVX3gW_Zct"
      },
      "execution_count": 3,
      "outputs": [
        {
          "execution_count": 3,
          "output_type": "execute_result",
          "data": {
            "text/html": [
              "<div>\n",
              "<style scoped>\n",
              "    .dataframe tbody tr th:only-of-type {\n",
              "        vertical-align: middle;\n",
              "    }\n",
              "\n",
              "    .dataframe tbody tr th {\n",
              "        vertical-align: top;\n",
              "    }\n",
              "\n",
              "    .dataframe thead th {\n",
              "        text-align: right;\n",
              "    }\n",
              "</style>\n",
              "<table border=\"1\" class=\"dataframe\">\n",
              "  <thead>\n",
              "    <tr style=\"text-align: right;\">\n",
              "      <th></th>\n",
              "      <th>userID</th>\n",
              "      <th>Track</th>\n",
              "      <th>artist</th>\n",
              "      <th>genre</th>\n",
              "      <th>City</th>\n",
              "      <th>time</th>\n",
              "      <th>Day</th>\n",
              "    </tr>\n",
              "  </thead>\n",
              "  <tbody>\n",
              "    <tr>\n",
              "      <th>0</th>\n",
              "      <td>FFB692EC</td>\n",
              "      <td>Kamigata To Boots</td>\n",
              "      <td>The Mass Missile</td>\n",
              "      <td>rock</td>\n",
              "      <td>Saint-Petersburg</td>\n",
              "      <td>20:28:33</td>\n",
              "      <td>Wednesday</td>\n",
              "    </tr>\n",
              "    <tr>\n",
              "      <th>1</th>\n",
              "      <td>55204538</td>\n",
              "      <td>Delayed Because of Accident</td>\n",
              "      <td>Andreas Rönnberg</td>\n",
              "      <td>rock</td>\n",
              "      <td>Moscow</td>\n",
              "      <td>14:07:09</td>\n",
              "      <td>Friday</td>\n",
              "    </tr>\n",
              "    <tr>\n",
              "      <th>2</th>\n",
              "      <td>20EC38</td>\n",
              "      <td>Funiculì funiculà</td>\n",
              "      <td>Mario Lanza</td>\n",
              "      <td>pop</td>\n",
              "      <td>Saint-Petersburg</td>\n",
              "      <td>20:58:07</td>\n",
              "      <td>Wednesday</td>\n",
              "    </tr>\n",
              "    <tr>\n",
              "      <th>3</th>\n",
              "      <td>A3DD03C9</td>\n",
              "      <td>Dragons in the Sunset</td>\n",
              "      <td>Fire + Ice</td>\n",
              "      <td>folk</td>\n",
              "      <td>Saint-Petersburg</td>\n",
              "      <td>08:37:09</td>\n",
              "      <td>Monday</td>\n",
              "    </tr>\n",
              "    <tr>\n",
              "      <th>4</th>\n",
              "      <td>E2DC1FAE</td>\n",
              "      <td>Soul People</td>\n",
              "      <td>Space Echo</td>\n",
              "      <td>dance</td>\n",
              "      <td>Moscow</td>\n",
              "      <td>08:34:34</td>\n",
              "      <td>Monday</td>\n",
              "    </tr>\n",
              "    <tr>\n",
              "      <th>5</th>\n",
              "      <td>842029A1</td>\n",
              "      <td>Преданная</td>\n",
              "      <td>IMPERVTOR</td>\n",
              "      <td>rusrap</td>\n",
              "      <td>Saint-Petersburg</td>\n",
              "      <td>13:09:41</td>\n",
              "      <td>Friday</td>\n",
              "    </tr>\n",
              "    <tr>\n",
              "      <th>6</th>\n",
              "      <td>4CB90AA5</td>\n",
              "      <td>True</td>\n",
              "      <td>Roman Messer</td>\n",
              "      <td>dance</td>\n",
              "      <td>Moscow</td>\n",
              "      <td>13:00:07</td>\n",
              "      <td>Wednesday</td>\n",
              "    </tr>\n",
              "    <tr>\n",
              "      <th>7</th>\n",
              "      <td>F03E1C1F</td>\n",
              "      <td>Feeling This Way</td>\n",
              "      <td>Polina Griffith</td>\n",
              "      <td>dance</td>\n",
              "      <td>Moscow</td>\n",
              "      <td>20:47:49</td>\n",
              "      <td>Wednesday</td>\n",
              "    </tr>\n",
              "    <tr>\n",
              "      <th>8</th>\n",
              "      <td>8FA1D3BE</td>\n",
              "      <td>И вновь продолжается бой</td>\n",
              "      <td>NaN</td>\n",
              "      <td>ruspop</td>\n",
              "      <td>Moscow</td>\n",
              "      <td>09:17:40</td>\n",
              "      <td>Friday</td>\n",
              "    </tr>\n",
              "    <tr>\n",
              "      <th>9</th>\n",
              "      <td>E772D5C0</td>\n",
              "      <td>Pessimist</td>\n",
              "      <td>NaN</td>\n",
              "      <td>dance</td>\n",
              "      <td>Saint-Petersburg</td>\n",
              "      <td>21:20:49</td>\n",
              "      <td>Wednesday</td>\n",
              "    </tr>\n",
              "  </tbody>\n",
              "</table>\n",
              "</div>"
            ],
            "text/plain": [
              "     userID                        Track            artist   genre  \\\n",
              "0  FFB692EC            Kamigata To Boots  The Mass Missile    rock   \n",
              "1  55204538  Delayed Because of Accident  Andreas Rönnberg    rock   \n",
              "2    20EC38            Funiculì funiculà       Mario Lanza     pop   \n",
              "3  A3DD03C9        Dragons in the Sunset        Fire + Ice    folk   \n",
              "4  E2DC1FAE                  Soul People        Space Echo   dance   \n",
              "5  842029A1                    Преданная         IMPERVTOR  rusrap   \n",
              "6  4CB90AA5                         True      Roman Messer   dance   \n",
              "7  F03E1C1F             Feeling This Way   Polina Griffith   dance   \n",
              "8  8FA1D3BE     И вновь продолжается бой               NaN  ruspop   \n",
              "9  E772D5C0                    Pessimist               NaN   dance   \n",
              "\n",
              "             City        time        Day  \n",
              "0  Saint-Petersburg  20:28:33  Wednesday  \n",
              "1            Moscow  14:07:09     Friday  \n",
              "2  Saint-Petersburg  20:58:07  Wednesday  \n",
              "3  Saint-Petersburg  08:37:09     Monday  \n",
              "4            Moscow  08:34:34     Monday  \n",
              "5  Saint-Petersburg  13:09:41     Friday  \n",
              "6            Moscow  13:00:07  Wednesday  \n",
              "7            Moscow  20:47:49  Wednesday  \n",
              "8            Moscow  09:17:40     Friday  \n",
              "9  Saint-Petersburg  21:20:49  Wednesday  "
            ]
          },
          "metadata": {}
        }
      ]
    },
    {
      "cell_type": "code",
      "source": "df.info() \n# получение общей информации о данных в таблице df",
      "metadata": {
        "id": "DSf2kIb-_Zct"
      },
      "execution_count": 4,
      "outputs": [
        {
          "name": "stdout",
          "output_type": "stream",
          "text": "<class 'pandas.core.frame.DataFrame'>\n\nRangeIndex: 65079 entries, 0 to 65078\n\nData columns (total 7 columns):\n\n #   Column    Non-Null Count  Dtype \n\n---  ------    --------------  ----- \n\n 0     userID  65079 non-null  object\n\n 1   Track     63848 non-null  object\n\n 2   artist    57876 non-null  object\n\n 3   genre     63881 non-null  object\n\n 4     City    65079 non-null  object\n\n 5   time      65079 non-null  object\n\n 6   Day       65079 non-null  object\n\ndtypes: object(7)\n\nmemory usage: 3.5+ MB\n"
        }
      ]
    },
    {
      "cell_type": "markdown",
      "source": "## Предобработка данных",
      "metadata": {
        "id": "SjYF6Ub9_Zct"
      }
    },
    {
      "cell_type": "code",
      "source": "df.columns \n# перечень названий столбцов таблицы df",
      "metadata": {
        "id": "oKOTdF_Q_Zct"
      },
      "execution_count": 5,
      "outputs": [
        {
          "execution_count": 5,
          "output_type": "execute_result",
          "data": {
            "text/plain": [
              "Index(['  userID', 'Track', 'artist', 'genre', '  City  ', 'time', 'Day'], dtype='object')"
            ]
          },
          "metadata": {}
        }
      ]
    },
    {
      "cell_type": "code",
      "source": "df = df.rename(columns={'  userID': 'user_id', 'Track': 'track',\n'  City  ': 'city', 'Day':'day'})\n# переименование столбцов",
      "metadata": {
        "id": "ISlFqs5y_Zct"
      },
      "execution_count": 6,
      "outputs": []
    },
    {
      "cell_type": "code",
      "source": "df.columns \n# проверка результатов - перечень названий столбцов",
      "metadata": {
        "id": "d4NOAmTW_Zct"
      },
      "execution_count": 7,
      "outputs": [
        {
          "execution_count": 7,
          "output_type": "execute_result",
          "data": {
            "text/plain": [
              "Index(['user_id', 'track', 'artist', 'genre', 'city', 'time', 'day'], dtype='object')"
            ]
          },
          "metadata": {}
        }
      ]
    },
    {
      "cell_type": "code",
      "source": "display(df.isna().sum()) \n# подсчёт пропусков",
      "metadata": {
        "id": "RskX29qr_Zct"
      },
      "execution_count": 8,
      "outputs": [
        {
          "output_type": "display_data",
          "data": {
            "text/plain": [
              "user_id       0\n",
              "track      1231\n",
              "artist     7203\n",
              "genre      1198\n",
              "city          0\n",
              "time          0\n",
              "day           0\n",
              "dtype: int64"
            ]
          },
          "metadata": {}
        }
      ]
    },
    {
      "cell_type": "code",
      "source": "# перебор названий столбцов в цикле и замена пропущенных значений на 'unknown'\ncolumns_to_replace = ['track', 'artist', 'genre']\nfor column in columns_to_replace:\n    df[column] = df[column].fillna('unknown') ",
      "metadata": {
        "id": "KplB5qWs_Zct"
      },
      "execution_count": 9,
      "outputs": []
    },
    {
      "cell_type": "code",
      "source": "display(df.isna().sum())\n# подсчёт пропусков",
      "metadata": {
        "id": "Tq4nYRX4_Zct",
        "scrolled": true
      },
      "execution_count": 10,
      "outputs": [
        {
          "output_type": "display_data",
          "data": {
            "text/plain": [
              "user_id    0\n",
              "track      0\n",
              "artist     0\n",
              "genre      0\n",
              "city       0\n",
              "time       0\n",
              "day        0\n",
              "dtype: int64"
            ]
          },
          "metadata": {}
        }
      ]
    },
    {
      "cell_type": "code",
      "source": "display(df.duplicated().sum()) \n# подсчёт явных дубликатов",
      "metadata": {
        "id": "36eES_S0_Zct"
      },
      "execution_count": 11,
      "outputs": [
        {
          "output_type": "display_data",
          "data": {
            "text/plain": [
              "3826"
            ]
          },
          "metadata": {}
        }
      ]
    },
    {
      "cell_type": "code",
      "source": "df = df.drop_duplicates().reset_index(drop=True) \n# удаление явных дубликатов (с удалением старых индексов и формированием новых)",
      "metadata": {
        "id": "exFHq6tt_Zct"
      },
      "execution_count": 12,
      "outputs": []
    },
    {
      "cell_type": "code",
      "source": "df.duplicated().sum() \n# проверка на отсутствие дубликатов",
      "metadata": {
        "id": "-8PuNWQ0_Zct"
      },
      "execution_count": 13,
      "outputs": [
        {
          "execution_count": 13,
          "output_type": "execute_result",
          "data": {
            "text/plain": [
              "0"
            ]
          },
          "metadata": {}
        }
      ]
    },
    {
      "cell_type": "code",
      "source": "display(df['genre'].sort_values().unique()) # Просмотр уникальных названий жанров",
      "metadata": {
        "id": "JIUcqzZN_Zct"
      },
      "execution_count": 14,
      "outputs": [
        {
          "output_type": "display_data",
          "data": {
            "text/plain": [
              "array(['acid', 'acoustic', 'action', 'adult', 'africa', 'afrikaans',\n",
              "       'alternative', 'alternativepunk', 'ambient', 'americana',\n",
              "       'animated', 'anime', 'arabesk', 'arabic', 'arena',\n",
              "       'argentinetango', 'art', 'audiobook', 'author', 'avantgarde',\n",
              "       'axé', 'baile', 'balkan', 'beats', 'bigroom', 'black', 'bluegrass',\n",
              "       'blues', 'bollywood', 'bossa', 'brazilian', 'breakbeat', 'breaks',\n",
              "       'broadway', 'cantautori', 'cantopop', 'canzone', 'caribbean',\n",
              "       'caucasian', 'celtic', 'chamber', 'chanson', 'children', 'chill',\n",
              "       'chinese', 'choral', 'christian', 'christmas', 'classical',\n",
              "       'classicmetal', 'club', 'colombian', 'comedy', 'conjazz',\n",
              "       'contemporary', 'country', 'cuban', 'dance', 'dancehall',\n",
              "       'dancepop', 'dark', 'death', 'deep', 'deutschrock', 'deutschspr',\n",
              "       'dirty', 'disco', 'dnb', 'documentary', 'downbeat', 'downtempo',\n",
              "       'drum', 'dub', 'dubstep', 'eastern', 'easy', 'electronic',\n",
              "       'electropop', 'emo', 'entehno', 'epicmetal', 'estrada', 'ethnic',\n",
              "       'eurofolk', 'european', 'experimental', 'extrememetal', 'fado',\n",
              "       'fairytail', 'film', 'fitness', 'flamenco', 'folk', 'folklore',\n",
              "       'folkmetal', 'folkrock', 'folktronica', 'forró', 'frankreich',\n",
              "       'französisch', 'french', 'funk', 'future', 'gangsta', 'garage',\n",
              "       'german', 'ghazal', 'gitarre', 'glitch', 'gospel', 'gothic',\n",
              "       'grime', 'grunge', 'gypsy', 'handsup', \"hard'n'heavy\", 'hardcore',\n",
              "       'hardstyle', 'hardtechno', 'hip', 'hip-hop', 'hiphop',\n",
              "       'historisch', 'holiday', 'hop', 'horror', 'house', 'hymn', 'idm',\n",
              "       'independent', 'indian', 'indie', 'indipop', 'industrial',\n",
              "       'inspirational', 'instrumental', 'international', 'irish', 'jam',\n",
              "       'japanese', 'jazz', 'jewish', 'jpop', 'jungle', 'k-pop',\n",
              "       'karadeniz', 'karaoke', 'kayokyoku', 'korean', 'laiko', 'latin',\n",
              "       'latino', 'leftfield', 'local', 'lounge', 'loungeelectronic',\n",
              "       'lovers', 'malaysian', 'mandopop', 'marschmusik', 'meditative',\n",
              "       'mediterranean', 'melodic', 'metal', 'metalcore', 'mexican',\n",
              "       'middle', 'minimal', 'miscellaneous', 'modern', 'mood', 'mpb',\n",
              "       'muslim', 'native', 'neoklassik', 'neue', 'new', 'newage',\n",
              "       'newwave', 'nu', 'nujazz', 'numetal', 'oceania', 'old', 'opera',\n",
              "       'orchestral', 'other', 'piano', 'podcasts', 'pop', 'popdance',\n",
              "       'popelectronic', 'popeurodance', 'poprussian', 'post',\n",
              "       'posthardcore', 'postrock', 'power', 'progmetal', 'progressive',\n",
              "       'psychedelic', 'punjabi', 'punk', 'quebecois', 'ragga', 'ram',\n",
              "       'rancheras', 'rap', 'rave', 'reggae', 'reggaeton', 'regional',\n",
              "       'relax', 'religious', 'retro', 'rhythm', 'rnb', 'rnr', 'rock',\n",
              "       'rockabilly', 'rockalternative', 'rockindie', 'rockother',\n",
              "       'romance', 'roots', 'ruspop', 'rusrap', 'rusrock', 'russian',\n",
              "       'salsa', 'samba', 'scenic', 'schlager', 'self', 'sertanejo',\n",
              "       'shanson', 'shoegazing', 'showtunes', 'singer', 'ska', 'skarock',\n",
              "       'slow', 'smooth', 'soft', 'soul', 'soulful', 'sound', 'soundtrack',\n",
              "       'southern', 'specialty', 'speech', 'spiritual', 'sport',\n",
              "       'stonerrock', 'surf', 'swing', 'synthpop', 'synthrock',\n",
              "       'sängerportrait', 'tango', 'tanzorchester', 'taraftar', 'tatar',\n",
              "       'tech', 'techno', 'teen', 'thrash', 'top', 'traditional',\n",
              "       'tradjazz', 'trance', 'tribal', 'trip', 'triphop', 'tropical',\n",
              "       'türk', 'türkçe', 'ukrrock', 'unknown', 'urban', 'uzbek',\n",
              "       'variété', 'vi', 'videogame', 'vocal', 'western', 'world',\n",
              "       'worldbeat', 'ïîï', 'электроника'], dtype=object)"
            ]
          },
          "metadata": {}
        }
      ]
    },
    {
      "cell_type": "code",
      "source": "def replace_wrong_genres(wrong_genres, correct_genre):\n    for wrong_genre in wrong_genres:\n        df['genre'] = df['genre'].replace(wrong_genre, correct_genre) # Функция для замены неявных дубликатов",
      "metadata": {
        "id": "ErNDkmns_Zct"
      },
      "execution_count": 15,
      "outputs": []
    },
    {
      "cell_type": "code",
      "source": "duplicates = ['hip', 'hop', 'hip-hop']\ncorrect_genre = 'hiphop'\nreplace_wrong_genres(duplicates, correct_genre)\n# Устранение неявных дубликатов",
      "metadata": {
        "id": "YN5i2hpmSo09"
      },
      "execution_count": 16,
      "outputs": []
    },
    {
      "cell_type": "code",
      "source": "display(df['genre'].sort_values().unique())# Проверка на неявные дубликаты",
      "metadata": {
        "id": "wvixALnFG15m"
      },
      "execution_count": 17,
      "outputs": [
        {
          "output_type": "display_data",
          "data": {
            "text/plain": [
              "array(['acid', 'acoustic', 'action', 'adult', 'africa', 'afrikaans',\n",
              "       'alternative', 'alternativepunk', 'ambient', 'americana',\n",
              "       'animated', 'anime', 'arabesk', 'arabic', 'arena',\n",
              "       'argentinetango', 'art', 'audiobook', 'author', 'avantgarde',\n",
              "       'axé', 'baile', 'balkan', 'beats', 'bigroom', 'black', 'bluegrass',\n",
              "       'blues', 'bollywood', 'bossa', 'brazilian', 'breakbeat', 'breaks',\n",
              "       'broadway', 'cantautori', 'cantopop', 'canzone', 'caribbean',\n",
              "       'caucasian', 'celtic', 'chamber', 'chanson', 'children', 'chill',\n",
              "       'chinese', 'choral', 'christian', 'christmas', 'classical',\n",
              "       'classicmetal', 'club', 'colombian', 'comedy', 'conjazz',\n",
              "       'contemporary', 'country', 'cuban', 'dance', 'dancehall',\n",
              "       'dancepop', 'dark', 'death', 'deep', 'deutschrock', 'deutschspr',\n",
              "       'dirty', 'disco', 'dnb', 'documentary', 'downbeat', 'downtempo',\n",
              "       'drum', 'dub', 'dubstep', 'eastern', 'easy', 'electronic',\n",
              "       'electropop', 'emo', 'entehno', 'epicmetal', 'estrada', 'ethnic',\n",
              "       'eurofolk', 'european', 'experimental', 'extrememetal', 'fado',\n",
              "       'fairytail', 'film', 'fitness', 'flamenco', 'folk', 'folklore',\n",
              "       'folkmetal', 'folkrock', 'folktronica', 'forró', 'frankreich',\n",
              "       'französisch', 'french', 'funk', 'future', 'gangsta', 'garage',\n",
              "       'german', 'ghazal', 'gitarre', 'glitch', 'gospel', 'gothic',\n",
              "       'grime', 'grunge', 'gypsy', 'handsup', \"hard'n'heavy\", 'hardcore',\n",
              "       'hardstyle', 'hardtechno', 'hiphop', 'historisch', 'holiday',\n",
              "       'horror', 'house', 'hymn', 'idm', 'independent', 'indian', 'indie',\n",
              "       'indipop', 'industrial', 'inspirational', 'instrumental',\n",
              "       'international', 'irish', 'jam', 'japanese', 'jazz', 'jewish',\n",
              "       'jpop', 'jungle', 'k-pop', 'karadeniz', 'karaoke', 'kayokyoku',\n",
              "       'korean', 'laiko', 'latin', 'latino', 'leftfield', 'local',\n",
              "       'lounge', 'loungeelectronic', 'lovers', 'malaysian', 'mandopop',\n",
              "       'marschmusik', 'meditative', 'mediterranean', 'melodic', 'metal',\n",
              "       'metalcore', 'mexican', 'middle', 'minimal', 'miscellaneous',\n",
              "       'modern', 'mood', 'mpb', 'muslim', 'native', 'neoklassik', 'neue',\n",
              "       'new', 'newage', 'newwave', 'nu', 'nujazz', 'numetal', 'oceania',\n",
              "       'old', 'opera', 'orchestral', 'other', 'piano', 'podcasts', 'pop',\n",
              "       'popdance', 'popelectronic', 'popeurodance', 'poprussian', 'post',\n",
              "       'posthardcore', 'postrock', 'power', 'progmetal', 'progressive',\n",
              "       'psychedelic', 'punjabi', 'punk', 'quebecois', 'ragga', 'ram',\n",
              "       'rancheras', 'rap', 'rave', 'reggae', 'reggaeton', 'regional',\n",
              "       'relax', 'religious', 'retro', 'rhythm', 'rnb', 'rnr', 'rock',\n",
              "       'rockabilly', 'rockalternative', 'rockindie', 'rockother',\n",
              "       'romance', 'roots', 'ruspop', 'rusrap', 'rusrock', 'russian',\n",
              "       'salsa', 'samba', 'scenic', 'schlager', 'self', 'sertanejo',\n",
              "       'shanson', 'shoegazing', 'showtunes', 'singer', 'ska', 'skarock',\n",
              "       'slow', 'smooth', 'soft', 'soul', 'soulful', 'sound', 'soundtrack',\n",
              "       'southern', 'specialty', 'speech', 'spiritual', 'sport',\n",
              "       'stonerrock', 'surf', 'swing', 'synthpop', 'synthrock',\n",
              "       'sängerportrait', 'tango', 'tanzorchester', 'taraftar', 'tatar',\n",
              "       'tech', 'techno', 'teen', 'thrash', 'top', 'traditional',\n",
              "       'tradjazz', 'trance', 'tribal', 'trip', 'triphop', 'tropical',\n",
              "       'türk', 'türkçe', 'ukrrock', 'unknown', 'urban', 'uzbek',\n",
              "       'variété', 'vi', 'videogame', 'vocal', 'western', 'world',\n",
              "       'worldbeat', 'ïîï', 'электроника'], dtype=object)"
            ]
          },
          "metadata": {}
        }
      ]
    },
    {
      "cell_type": "markdown",
      "source": "## Проверка гипотез",
      "metadata": {
        "id": "WttZHXH0SqKk"
      }
    },
    {
      "cell_type": "markdown",
      "source": "### Сравнение поведения пользователей двух столиц",
      "metadata": {
        "id": "Im936VVi_Zcu"
      }
    },
    {
      "cell_type": "code",
      "source": "df.groupby('city')['track'].count() # Подсчёт прослушиваний в каждом городе",
      "metadata": {
        "id": "0_Qs96oh_Zcu"
      },
      "execution_count": 18,
      "outputs": [
        {
          "execution_count": 18,
          "output_type": "execute_result",
          "data": {
            "text/plain": [
              "city\n",
              "Moscow              42741\n",
              "Saint-Petersburg    18512\n",
              "Name: track, dtype: int64"
            ]
          },
          "metadata": {}
        }
      ]
    },
    {
      "cell_type": "code",
      "source": "df.groupby('day')['time'].count() # Подсчёт прослушиваний в каждый из трёх дней",
      "metadata": {
        "id": "uZMKjiJz_Zcu"
      },
      "execution_count": 19,
      "outputs": [
        {
          "execution_count": 19,
          "output_type": "execute_result",
          "data": {
            "text/plain": [
              "day\n",
              "Friday       21840\n",
              "Monday       21354\n",
              "Wednesday    18059\n",
              "Name: time, dtype: int64"
            ]
          },
          "metadata": {}
        }
      ]
    },
    {
      "cell_type": "code",
      "source": "def number_tracks(day, city):\n    \"\"\"Функция для подсчёта прослушиваний для конкретного города и дня.\n    С помощью последовательной фильтрации с логической индексацией она \n    сначала получит из исходной таблицы строки с нужным днём,\n    затем из результата отфильтрует строки с нужным городом,\n    методом count() посчитает количество значений в колонке user_id. \n    Это количество функция вернёт в качестве результата\"\"\"\n    tracklist = df[df['day'] == day]\n    tracklist = tracklist[tracklist['city'] == city]\n    track_list_count = tracklist['user_id'].count()\n    return track_list_count\n\n\n",
      "metadata": {
        "id": "Nz3GdQB1_Zcu"
      },
      "execution_count": 20,
      "outputs": []
    },
    {
      "cell_type": "code",
      "source": "number_tracks('Monday', 'Moscow')# количество прослушиваний в Москве по понедельникам",
      "metadata": {
        "id": "rJcRATNQ_Zcu"
      },
      "execution_count": 21,
      "outputs": [
        {
          "execution_count": 21,
          "output_type": "execute_result",
          "data": {
            "text/plain": [
              "15740"
            ]
          },
          "metadata": {}
        }
      ]
    },
    {
      "cell_type": "code",
      "source": "number_tracks('Wednesday', 'Moscow')# количество прослушиваний в Санкт-Петербурге по понедельникам",
      "metadata": {
        "id": "hq_ncZ5T_Zcu"
      },
      "execution_count": 22,
      "outputs": [
        {
          "execution_count": 22,
          "output_type": "execute_result",
          "data": {
            "text/plain": [
              "11056"
            ]
          },
          "metadata": {}
        }
      ]
    },
    {
      "cell_type": "code",
      "source": "number_tracks('Friday', 'Moscow')# количество прослушиваний в Москве по средам",
      "metadata": {
        "id": "_NTy2VPU_Zcu"
      },
      "execution_count": 23,
      "outputs": [
        {
          "execution_count": 23,
          "output_type": "execute_result",
          "data": {
            "text/plain": [
              "15945"
            ]
          },
          "metadata": {}
        }
      ]
    },
    {
      "cell_type": "code",
      "source": "number_tracks('Monday', 'Saint-Petersburg')# количество прослушиваний в Санкт-Петербурге по средам",
      "metadata": {
        "id": "j2y3TAwo_Zcu"
      },
      "execution_count": 24,
      "outputs": [
        {
          "execution_count": 24,
          "output_type": "execute_result",
          "data": {
            "text/plain": [
              "5614"
            ]
          },
          "metadata": {}
        }
      ]
    },
    {
      "cell_type": "code",
      "source": "number_tracks('Wednesday', 'Saint-Petersburg')# количество прослушиваний в Москве по пятницам",
      "metadata": {
        "id": "vYDw5u_K_Zcu"
      },
      "execution_count": 25,
      "outputs": [
        {
          "execution_count": 25,
          "output_type": "execute_result",
          "data": {
            "text/plain": [
              "7003"
            ]
          },
          "metadata": {}
        }
      ]
    },
    {
      "cell_type": "code",
      "source": "number_tracks('Friday', 'Saint-Petersburg')# количество прослушиваний в Санкт-Петербурге по пятницам",
      "metadata": {
        "id": "8_yzFtW3_Zcu"
      },
      "execution_count": 26,
      "outputs": [
        {
          "execution_count": 26,
          "output_type": "execute_result",
          "data": {
            "text/plain": [
              "5895"
            ]
          },
          "metadata": {}
        }
      ]
    },
    {
      "cell_type": "code",
      "source": "frame = pd.DataFrame([['Moscow', 15740, 11056, 15945], ['Saint-Petersburg', 5614, 7003, 5895]], columns=['city', 'monday', 'wednesday', 'friday'])\ndisplay(frame) # Таблица с результатами",
      "metadata": {
        "id": "APAcLpOr_Zcu"
      },
      "execution_count": 27,
      "outputs": [
        {
          "output_type": "display_data",
          "data": {
            "text/html": [
              "<div>\n",
              "<style scoped>\n",
              "    .dataframe tbody tr th:only-of-type {\n",
              "        vertical-align: middle;\n",
              "    }\n",
              "\n",
              "    .dataframe tbody tr th {\n",
              "        vertical-align: top;\n",
              "    }\n",
              "\n",
              "    .dataframe thead th {\n",
              "        text-align: right;\n",
              "    }\n",
              "</style>\n",
              "<table border=\"1\" class=\"dataframe\">\n",
              "  <thead>\n",
              "    <tr style=\"text-align: right;\">\n",
              "      <th></th>\n",
              "      <th>city</th>\n",
              "      <th>monday</th>\n",
              "      <th>wednesday</th>\n",
              "      <th>friday</th>\n",
              "    </tr>\n",
              "  </thead>\n",
              "  <tbody>\n",
              "    <tr>\n",
              "      <th>0</th>\n",
              "      <td>Moscow</td>\n",
              "      <td>15740</td>\n",
              "      <td>11056</td>\n",
              "      <td>15945</td>\n",
              "    </tr>\n",
              "    <tr>\n",
              "      <th>1</th>\n",
              "      <td>Saint-Petersburg</td>\n",
              "      <td>5614</td>\n",
              "      <td>7003</td>\n",
              "      <td>5895</td>\n",
              "    </tr>\n",
              "  </tbody>\n",
              "</table>\n",
              "</div>"
            ],
            "text/plain": [
              "               city  monday  wednesday  friday\n",
              "0            Moscow   15740      11056   15945\n",
              "1  Saint-Petersburg    5614       7003    5895"
            ]
          },
          "metadata": {}
        }
      ]
    },
    {
      "cell_type": "markdown",
      "source": "**Выводы**\n\nДанные показывают разницу поведения пользователей:\n\n- В Москве пик прослушиваний приходится на понедельник и пятницу, а в среду заметен спад.\n- В Петербурге, наоборот, больше слушают музыку по средам. Активность в понедельник и пятницу здесь почти в равной мере уступает среде.\n\nЗначит, данные говорят в пользу первой гипотезы.",
      "metadata": {
        "id": "-EgPIHYu_Zcu"
      }
    },
    {
      "cell_type": "markdown",
      "source": "### Музыка в начале и в конце недели",
      "metadata": {
        "id": "atZAxtq4_Zcu"
      }
    },
    {
      "cell_type": "code",
      "source": "moscow_general = df[df['city'] == 'Moscow']\n# получение таблицы moscow_general из тех строк таблицы df, \n# для которых значение в столбце 'city' равно 'Moscow'\n",
      "metadata": {
        "id": "qeaFfM_P_Zcu"
      },
      "execution_count": 28,
      "outputs": []
    },
    {
      "cell_type": "code",
      "source": "spb_general = df[df['city'] == 'Saint-Petersburg']\n# получение таблицы spb_general из тех строк таблицы df,\n#display(spb_general)# для которых значение в столбце 'city' равно 'Saint-Petersburg'\n",
      "metadata": {
        "id": "ORaVRKto_Zcu"
      },
      "execution_count": 29,
      "outputs": []
    },
    {
      "cell_type": "code",
      "source": "def genre_weekday(table, day, time1, time2): \n    genre_df = table[table['day'] == day]\n    genre_df = genre_df[genre_df['time'] > time1]\n    genre_df = genre_df[genre_df['time'] < time2]\n    genre_df = genre_df.groupby('genre')['genre'].count()\n    genre_df_sorted = genre_df.sort_values(ascending=False)\n    return genre_df_sorted[:10] \n# Объявление функции genre_weekday() с параметрами table, day, time1, time2,\n# которая возвращает информацию о самых популярных жанрах в указанный день в\n# заданное время:\n# 1) в переменную genre_df сохраняются те строки переданного датафрейма table, для\n#    которых одновременно:\n#    - значение в столбце day равно значению аргумента day\n#    - значение в столбце time больше значения аргумента time1\n#    - значение в столбце time меньше значения аргумента time2\n#    Используйте последовательную фильтрацию с помощью логической индексации.\n# 2) сгруппировать датафрейм genre_df по столбцу genre, взять один из его\n#    столбцов и посчитать методом count() количество записей для каждого из\n#    присутствующих жанров, получившийся Series записать в переменную\n#    genre_df_count\n# 3) отсортировать genre_df_count по убыванию встречаемости и сохранить\n#    в переменную genre_df_sorted\n# 4) вернуть Series из 10 первых значений genre_df_sorted, это будут топ-10\n#    популярных жанров (в указанный день, в заданное время)",
      "metadata": {
        "id": "laJT9BYl_Zcu"
      },
      "execution_count": 30,
      "outputs": []
    },
    {
      "cell_type": "code",
      "source": "genre_weekday(moscow_general, 'Monday', '07:00', '11:00') # вызов функции для утра понедельника в Москве (вместо df — таблица moscow_general)\n# объекты, хранящие время, являются строками и сравниваются как строки\n# пример вызова: genre_weekday(moscow_general, 'Monday', '07:00', '11:00')",
      "metadata": {
        "id": "yz7itPUQ_Zcu"
      },
      "execution_count": 31,
      "outputs": [
        {
          "execution_count": 31,
          "output_type": "execute_result",
          "data": {
            "text/plain": [
              "genre\n",
              "pop            781\n",
              "dance          549\n",
              "electronic     480\n",
              "rock           474\n",
              "hiphop         286\n",
              "ruspop         186\n",
              "world          181\n",
              "rusrap         175\n",
              "alternative    164\n",
              "unknown        161\n",
              "Name: genre, dtype: int64"
            ]
          },
          "metadata": {}
        }
      ]
    },
    {
      "cell_type": "code",
      "source": "genre_weekday(spb_general, 'Monday', '07:00', '11:00') # вызов функции для утра понедельника в Петербурге (вместо df — таблица spb_general)",
      "metadata": {
        "id": "kwUcHPdy_Zcu"
      },
      "execution_count": 32,
      "outputs": [
        {
          "execution_count": 32,
          "output_type": "execute_result",
          "data": {
            "text/plain": [
              "genre\n",
              "pop            218\n",
              "dance          182\n",
              "rock           162\n",
              "electronic     147\n",
              "hiphop          80\n",
              "ruspop          64\n",
              "alternative     58\n",
              "rusrap          55\n",
              "jazz            44\n",
              "classical       40\n",
              "Name: genre, dtype: int64"
            ]
          },
          "metadata": {}
        }
      ]
    },
    {
      "cell_type": "code",
      "source": "genre_weekday(moscow_general, 'Friday', '17:00', '23:00') # вызов функции для вечера пятницы в Москве",
      "metadata": {
        "id": "EzXVRE1o_Zcu"
      },
      "execution_count": 33,
      "outputs": [
        {
          "execution_count": 33,
          "output_type": "execute_result",
          "data": {
            "text/plain": [
              "genre\n",
              "pop            713\n",
              "rock           517\n",
              "dance          495\n",
              "electronic     482\n",
              "hiphop         273\n",
              "world          208\n",
              "ruspop         170\n",
              "alternative    163\n",
              "classical      163\n",
              "rusrap         142\n",
              "Name: genre, dtype: int64"
            ]
          },
          "metadata": {}
        }
      ]
    },
    {
      "cell_type": "code",
      "source": "genre_weekday(spb_general, 'Friday', '17:00', '23:00') # вызов функции для вечера пятницы в Петербурге",
      "metadata": {
        "id": "JZaEKu5v_Zcu"
      },
      "execution_count": 34,
      "outputs": [
        {
          "execution_count": 34,
          "output_type": "execute_result",
          "data": {
            "text/plain": [
              "genre\n",
              "pop            256\n",
              "electronic     216\n",
              "rock           216\n",
              "dance          210\n",
              "hiphop          97\n",
              "alternative     63\n",
              "jazz            61\n",
              "classical       60\n",
              "rusrap          59\n",
              "world           54\n",
              "Name: genre, dtype: int64"
            ]
          },
          "metadata": {}
        }
      ]
    },
    {
      "cell_type": "markdown",
      "source": "**Выводы**\n\nЕсли сравнить топ-10 жанров в понедельник утром, можно сделать такие выводы:\n\n1. В Москве и Петербурге слушают похожую музыку. Единственное отличие — в московский рейтинг вошёл жанр “world”, а в петербургский — джаз и классика.\n\n2. В Москве пропущенных значений оказалось так много, что значение `'unknown'` заняло десятое место среди самых популярных жанров. Значит, пропущенные значения занимают существенную долю в данных и угрожают достоверности исследования.\n\nВечер пятницы не меняет эту картину. Некоторые жанры поднимаются немного выше, другие спускаются, но в целом топ-10 остаётся тем же самым.\n\nТаким образом, вторая гипотеза подтвердилась лишь частично:\n* Пользователи слушают похожую музыку в начале недели и в конце.\n* Разница между Москвой и Петербургом не слишком выражена. В Москве чаще слушают русскую популярную музыку, в Петербурге — джаз.\n\nОднако пропуски в данных ставят под сомнение этот результат. В Москве их так много, что рейтинг топ-10 мог бы выглядеть иначе, если бы не утерянные  данные о жанрах.",
      "metadata": {
        "id": "wrCe4MNX_Zcu"
      }
    },
    {
      "cell_type": "markdown",
      "source": "### Жанровые предпочтения в Москве и Петербурге\n\nГипотеза: Петербург — столица рэпа, музыку этого жанра там слушают чаще, чем в Москве.  А Москва — город контрастов, в котором, тем не менее, преобладает поп-музыка.",
      "metadata": {
        "id": "JolODAqr_Zcu"
      }
    },
    {
      "cell_type": "code",
      "source": "moscow_genres = moscow_general.groupby('genre')['genre'].count()\nmoscow_genres = moscow_genres.sort_values(ascending=False)\n\n# одной строкой: группировка таблицы moscow_general по столбцу 'genre', \n# подсчёт числа значений 'genre' в этой группировке методом count(), \n# сортировка получившегося Series в порядке убывания и сохранение в moscow_genres",
      "metadata": {
        "id": "r19lIPke_Zcu"
      },
      "execution_count": 35,
      "outputs": []
    },
    {
      "cell_type": "code",
      "source": "display(moscow_genres[:10]) # просмотр первых 10 строк moscow_genres",
      "metadata": {
        "id": "WhCSooF8_Zcv"
      },
      "execution_count": 36,
      "outputs": [
        {
          "output_type": "display_data",
          "data": {
            "text/plain": [
              "genre\n",
              "pop            5892\n",
              "dance          4435\n",
              "rock           3965\n",
              "electronic     3786\n",
              "hiphop         2096\n",
              "classical      1616\n",
              "world          1432\n",
              "alternative    1379\n",
              "ruspop         1372\n",
              "rusrap         1161\n",
              "Name: genre, dtype: int64"
            ]
          },
          "metadata": {}
        }
      ]
    },
    {
      "cell_type": "code",
      "source": "spb_genres = spb_general.groupby('genre')['genre'].count()\nspb_genres = spb_genres.sort_values(ascending=False)\n# одной строкой: группировка таблицы spb_general по столбцу 'genre', \n# подсчёт числа значений 'genre' в этой группировке методом count(), \n# сортировка получившегося Series в порядке убывания и сохранение в spb_genres",
      "metadata": {
        "id": "gluLIpE7_Zcv"
      },
      "execution_count": 37,
      "outputs": []
    },
    {
      "cell_type": "code",
      "source": "display(spb_genres[:10]) # просмотр первых 10 строк spb_genres",
      "metadata": {
        "id": "uaGJHjVU_Zcv"
      },
      "execution_count": 38,
      "outputs": [
        {
          "output_type": "display_data",
          "data": {
            "text/plain": [
              "genre\n",
              "pop            2431\n",
              "dance          1932\n",
              "rock           1879\n",
              "electronic     1736\n",
              "hiphop          960\n",
              "alternative     649\n",
              "classical       646\n",
              "rusrap          564\n",
              "ruspop          538\n",
              "world           515\n",
              "Name: genre, dtype: int64"
            ]
          },
          "metadata": {}
        }
      ]
    },
    {
      "cell_type": "markdown",
      "source": "**Выводы**",
      "metadata": {
        "id": "RY51YJYu_Zcv"
      }
    },
    {
      "cell_type": "markdown",
      "source": "Гипотеза частично подтвердилась:\n* Поп-музыка — самый популярный жанр в Москве, как и предполагала гипотеза. Более того, в топ-10 жанров встречается близкий жанр — русская популярная музыка.\n* Вопреки ожиданиям, рэп одинаково популярен в Москве и Петербурге. \n",
      "metadata": {
        "id": "nVhnJEm__Zcv"
      }
    },
    {
      "cell_type": "markdown",
      "source": "## Итоги исследования",
      "metadata": {
        "id": "ykKQ0N65_Zcv"
      }
    },
    {
      "cell_type": "markdown",
      "source": "Мы установили:\n\n1. День недели по-разному влияет на активность пользователей в Москве и Петербурге. \n\nПервая гипотеза полностью подтвердилась.\n\n2. Музыкальные предпочтения не сильно меняются в течение недели — будь то Москва или Петербург. Небольшие различия заметны в начале недели, по понедельникам:\n* в Москве слушают музыку жанра “world”,\n* в Петербурге — джаз и классику.\n\nТаким образом, вторая гипотеза подтвердилась лишь отчасти. Этот результат мог оказаться иным, если бы не пропуски в данных.\n\n3. Во вкусах пользователей Москвы и Петербурга больше общего чем различий. Вопреки ожиданиям, предпочтения жанров в Петербурге напоминают московские.\n\nТретья гипотеза не подтвердилась. Если различия в предпочтениях и существуют, на основной массе пользователей они незаметны.",
      "metadata": {
        "id": "tjUwbHb3_Zcv"
      }
    }
  ]
}