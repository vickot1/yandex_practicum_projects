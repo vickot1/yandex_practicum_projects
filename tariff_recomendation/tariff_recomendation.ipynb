{
  "metadata": {
    "ExecuteTimeLog": [
      {
        "duration": 1235,
        "start_time": "2022-06-16T14:20:43.588Z"
      },
      {
        "duration": 219,
        "start_time": "2022-06-16T14:22:09.204Z"
      },
      {
        "duration": 39,
        "start_time": "2022-06-16T14:24:07.857Z"
      },
      {
        "duration": 12,
        "start_time": "2022-06-16T14:24:22.764Z"
      },
      {
        "duration": 45,
        "start_time": "2022-06-16T14:24:36.011Z"
      },
      {
        "duration": 7,
        "start_time": "2022-06-16T14:30:25.286Z"
      },
      {
        "duration": 133,
        "start_time": "2022-06-16T14:30:52.173Z"
      },
      {
        "duration": 4,
        "start_time": "2022-06-16T14:30:57.879Z"
      },
      {
        "duration": 4,
        "start_time": "2022-06-16T14:31:12.673Z"
      },
      {
        "duration": 7,
        "start_time": "2022-06-16T14:33:21.672Z"
      },
      {
        "duration": 6,
        "start_time": "2022-06-16T14:33:40.112Z"
      },
      {
        "duration": 6,
        "start_time": "2022-06-16T14:33:51.599Z"
      },
      {
        "duration": 6,
        "start_time": "2022-06-16T14:38:35.886Z"
      },
      {
        "duration": 6,
        "start_time": "2022-06-16T14:39:25.386Z"
      },
      {
        "duration": 6,
        "start_time": "2022-06-16T14:39:53.866Z"
      },
      {
        "duration": 5,
        "start_time": "2022-06-16T14:39:59.805Z"
      },
      {
        "duration": 6,
        "start_time": "2022-06-16T14:47:37.697Z"
      },
      {
        "duration": 91,
        "start_time": "2022-06-16T14:57:51.160Z"
      },
      {
        "duration": 228,
        "start_time": "2022-06-16T14:58:09.668Z"
      },
      {
        "duration": 5,
        "start_time": "2022-06-16T15:01:28.774Z"
      },
      {
        "duration": 80,
        "start_time": "2022-06-16T15:01:42.311Z"
      },
      {
        "duration": 94,
        "start_time": "2022-06-16T15:01:48.950Z"
      },
      {
        "duration": 11,
        "start_time": "2022-06-16T15:03:03.695Z"
      },
      {
        "duration": 354,
        "start_time": "2022-06-16T15:12:44.591Z"
      },
      {
        "duration": 1058,
        "start_time": "2022-06-16T15:12:54.777Z"
      },
      {
        "duration": 325,
        "start_time": "2022-06-16T15:13:53.899Z"
      },
      {
        "duration": 58,
        "start_time": "2022-06-16T15:18:22.618Z"
      },
      {
        "duration": 76,
        "start_time": "2022-06-16T15:18:31.925Z"
      },
      {
        "duration": 58,
        "start_time": "2022-06-16T15:18:36.908Z"
      },
      {
        "duration": 341,
        "start_time": "2022-06-16T15:20:48.416Z"
      },
      {
        "duration": 16,
        "start_time": "2022-06-16T15:26:18.346Z"
      },
      {
        "duration": 12,
        "start_time": "2022-06-16T15:27:17.859Z"
      },
      {
        "duration": 23,
        "start_time": "2022-06-16T15:27:53.187Z"
      },
      {
        "duration": 52,
        "start_time": "2022-06-16T15:28:03.150Z"
      },
      {
        "duration": 50,
        "start_time": "2022-06-16T15:28:18.351Z"
      },
      {
        "duration": 52,
        "start_time": "2022-06-16T15:28:28.934Z"
      },
      {
        "duration": 10,
        "start_time": "2022-06-16T15:30:11.133Z"
      },
      {
        "duration": 301,
        "start_time": "2022-06-16T16:29:27.735Z"
      },
      {
        "duration": 4,
        "start_time": "2022-06-16T16:34:09.797Z"
      },
      {
        "duration": 42,
        "start_time": "2022-06-16T16:35:13.127Z"
      },
      {
        "duration": 11,
        "start_time": "2022-06-16T16:35:35.822Z"
      },
      {
        "duration": 32,
        "start_time": "2022-06-16T16:35:54.494Z"
      },
      {
        "duration": 22,
        "start_time": "2022-06-16T16:36:27.519Z"
      },
      {
        "duration": 1001,
        "start_time": "2022-06-18T13:21:38.247Z"
      },
      {
        "duration": 39,
        "start_time": "2022-06-18T13:21:39.250Z"
      },
      {
        "duration": 32,
        "start_time": "2022-06-18T13:21:39.291Z"
      },
      {
        "duration": 66,
        "start_time": "2022-06-18T13:21:39.325Z"
      },
      {
        "duration": 20,
        "start_time": "2022-06-18T13:21:39.393Z"
      },
      {
        "duration": 34,
        "start_time": "2022-06-18T13:21:39.415Z"
      },
      {
        "duration": 31,
        "start_time": "2022-06-18T13:21:39.451Z"
      },
      {
        "duration": 44,
        "start_time": "2022-06-18T13:21:39.484Z"
      },
      {
        "duration": 41,
        "start_time": "2022-06-18T13:21:39.529Z"
      },
      {
        "duration": 30,
        "start_time": "2022-06-18T13:21:39.572Z"
      },
      {
        "duration": 51,
        "start_time": "2022-06-18T13:21:39.603Z"
      },
      {
        "duration": 37,
        "start_time": "2022-06-18T13:21:39.655Z"
      },
      {
        "duration": 49,
        "start_time": "2022-06-18T13:21:39.693Z"
      },
      {
        "duration": 147,
        "start_time": "2022-06-18T13:21:39.743Z"
      },
      {
        "duration": 0,
        "start_time": "2022-06-18T13:21:39.892Z"
      },
      {
        "duration": 1,
        "start_time": "2022-06-18T13:21:39.893Z"
      },
      {
        "duration": 0,
        "start_time": "2022-06-18T13:21:39.895Z"
      },
      {
        "duration": 0,
        "start_time": "2022-06-18T13:21:39.896Z"
      },
      {
        "duration": 0,
        "start_time": "2022-06-18T13:21:39.897Z"
      },
      {
        "duration": 8,
        "start_time": "2022-06-18T13:21:59.463Z"
      },
      {
        "duration": 998,
        "start_time": "2022-06-18T13:22:05.344Z"
      },
      {
        "duration": 40,
        "start_time": "2022-06-18T13:22:06.344Z"
      },
      {
        "duration": 16,
        "start_time": "2022-06-18T13:22:06.386Z"
      },
      {
        "duration": 27,
        "start_time": "2022-06-18T13:22:06.403Z"
      },
      {
        "duration": 8,
        "start_time": "2022-06-18T13:22:06.436Z"
      },
      {
        "duration": 9,
        "start_time": "2022-06-18T13:22:06.446Z"
      },
      {
        "duration": 5,
        "start_time": "2022-06-18T13:22:06.456Z"
      },
      {
        "duration": 13,
        "start_time": "2022-06-18T13:22:06.463Z"
      },
      {
        "duration": 11,
        "start_time": "2022-06-18T13:22:06.478Z"
      },
      {
        "duration": 15,
        "start_time": "2022-06-18T13:22:06.491Z"
      },
      {
        "duration": 18,
        "start_time": "2022-06-18T13:22:06.507Z"
      },
      {
        "duration": 36,
        "start_time": "2022-06-18T13:22:06.527Z"
      },
      {
        "duration": 14,
        "start_time": "2022-06-18T13:22:06.565Z"
      },
      {
        "duration": 173,
        "start_time": "2022-06-18T13:22:06.582Z"
      },
      {
        "duration": 0,
        "start_time": "2022-06-18T13:22:06.758Z"
      },
      {
        "duration": 0,
        "start_time": "2022-06-18T13:22:06.759Z"
      },
      {
        "duration": 0,
        "start_time": "2022-06-18T13:22:06.761Z"
      },
      {
        "duration": 0,
        "start_time": "2022-06-18T13:22:06.762Z"
      },
      {
        "duration": 0,
        "start_time": "2022-06-18T13:22:06.763Z"
      },
      {
        "duration": 88,
        "start_time": "2022-06-18T13:23:02.025Z"
      },
      {
        "duration": 289,
        "start_time": "2022-06-18T13:23:09.048Z"
      },
      {
        "duration": 46,
        "start_time": "2022-06-18T13:23:15.074Z"
      },
      {
        "duration": 13,
        "start_time": "2022-06-18T13:23:19.703Z"
      },
      {
        "duration": 53,
        "start_time": "2022-06-18T13:23:22.094Z"
      },
      {
        "duration": 7,
        "start_time": "2022-06-18T13:23:25.855Z"
      },
      {
        "duration": 984,
        "start_time": "2022-06-18T13:24:28.139Z"
      },
      {
        "duration": 38,
        "start_time": "2022-06-18T13:24:29.125Z"
      },
      {
        "duration": 16,
        "start_time": "2022-06-18T13:24:29.165Z"
      },
      {
        "duration": 22,
        "start_time": "2022-06-18T13:24:29.183Z"
      },
      {
        "duration": 4,
        "start_time": "2022-06-18T13:24:29.206Z"
      },
      {
        "duration": 9,
        "start_time": "2022-06-18T13:24:29.212Z"
      },
      {
        "duration": 4,
        "start_time": "2022-06-18T13:24:29.226Z"
      },
      {
        "duration": 7,
        "start_time": "2022-06-18T13:24:29.231Z"
      },
      {
        "duration": 5,
        "start_time": "2022-06-18T13:24:29.240Z"
      },
      {
        "duration": 6,
        "start_time": "2022-06-18T13:24:29.247Z"
      },
      {
        "duration": 6,
        "start_time": "2022-06-18T13:24:29.254Z"
      },
      {
        "duration": 6,
        "start_time": "2022-06-18T13:24:29.262Z"
      },
      {
        "duration": 6,
        "start_time": "2022-06-18T13:24:29.270Z"
      },
      {
        "duration": 99,
        "start_time": "2022-06-18T13:24:29.278Z"
      },
      {
        "duration": 294,
        "start_time": "2022-06-18T13:24:29.378Z"
      },
      {
        "duration": 37,
        "start_time": "2022-06-18T13:24:29.673Z"
      },
      {
        "duration": 23,
        "start_time": "2022-06-18T13:24:29.712Z"
      },
      {
        "duration": 44,
        "start_time": "2022-06-18T13:24:29.737Z"
      },
      {
        "duration": 8,
        "start_time": "2022-06-18T13:24:29.783Z"
      },
      {
        "duration": 1107,
        "start_time": "2022-06-18T15:17:28.743Z"
      },
      {
        "duration": 124,
        "start_time": "2022-06-18T15:17:29.852Z"
      },
      {
        "duration": 15,
        "start_time": "2022-06-18T15:17:29.978Z"
      },
      {
        "duration": 24,
        "start_time": "2022-06-18T15:17:29.995Z"
      },
      {
        "duration": 5,
        "start_time": "2022-06-18T15:17:30.021Z"
      },
      {
        "duration": 23,
        "start_time": "2022-06-18T15:17:30.028Z"
      },
      {
        "duration": 11,
        "start_time": "2022-06-18T15:17:30.052Z"
      },
      {
        "duration": 14,
        "start_time": "2022-06-18T15:17:30.065Z"
      },
      {
        "duration": 14,
        "start_time": "2022-06-18T15:17:30.080Z"
      },
      {
        "duration": 14,
        "start_time": "2022-06-18T15:17:30.096Z"
      },
      {
        "duration": 8,
        "start_time": "2022-06-18T15:17:30.112Z"
      },
      {
        "duration": 28,
        "start_time": "2022-06-18T15:17:30.122Z"
      },
      {
        "duration": 12,
        "start_time": "2022-06-18T15:17:30.151Z"
      },
      {
        "duration": 85,
        "start_time": "2022-06-18T15:17:30.164Z"
      },
      {
        "duration": 299,
        "start_time": "2022-06-18T15:17:30.250Z"
      },
      {
        "duration": 43,
        "start_time": "2022-06-18T15:17:30.550Z"
      },
      {
        "duration": 11,
        "start_time": "2022-06-18T15:17:30.595Z"
      },
      {
        "duration": 65,
        "start_time": "2022-06-18T15:17:30.627Z"
      },
      {
        "duration": 7,
        "start_time": "2022-06-18T15:17:30.694Z"
      },
      {
        "duration": 4,
        "start_time": "2022-06-19T14:43:32.706Z"
      },
      {
        "duration": 100,
        "start_time": "2022-06-19T14:47:19.051Z"
      },
      {
        "duration": 75,
        "start_time": "2022-06-19T14:47:24.501Z"
      },
      {
        "duration": 16,
        "start_time": "2022-06-19T14:47:26.617Z"
      },
      {
        "duration": 24,
        "start_time": "2022-06-19T14:47:29.113Z"
      },
      {
        "duration": 6,
        "start_time": "2022-06-19T14:47:30.627Z"
      },
      {
        "duration": 6,
        "start_time": "2022-06-19T14:48:32.952Z"
      },
      {
        "duration": 6,
        "start_time": "2022-06-19T14:49:16.056Z"
      },
      {
        "duration": 9,
        "start_time": "2022-06-19T14:55:32.861Z"
      },
      {
        "duration": 7,
        "start_time": "2022-06-19T14:55:36.789Z"
      },
      {
        "duration": 5,
        "start_time": "2022-06-19T14:55:37.913Z"
      },
      {
        "duration": 18,
        "start_time": "2022-06-19T14:56:14.655Z"
      },
      {
        "duration": 8,
        "start_time": "2022-06-19T15:00:20.212Z"
      },
      {
        "duration": 6,
        "start_time": "2022-06-19T15:00:23.615Z"
      },
      {
        "duration": 1148,
        "start_time": "2022-06-19T15:00:33.169Z"
      },
      {
        "duration": 38,
        "start_time": "2022-06-19T15:00:34.320Z"
      },
      {
        "duration": 21,
        "start_time": "2022-06-19T15:00:34.360Z"
      },
      {
        "duration": 25,
        "start_time": "2022-06-19T15:00:34.383Z"
      },
      {
        "duration": 6,
        "start_time": "2022-06-19T15:00:34.411Z"
      },
      {
        "duration": 28,
        "start_time": "2022-06-19T15:00:34.419Z"
      },
      {
        "duration": 13,
        "start_time": "2022-06-19T15:00:34.448Z"
      },
      {
        "duration": 8,
        "start_time": "2022-06-19T15:00:34.463Z"
      },
      {
        "duration": 7,
        "start_time": "2022-06-19T15:00:34.472Z"
      },
      {
        "duration": 5,
        "start_time": "2022-06-19T15:00:34.481Z"
      },
      {
        "duration": 7,
        "start_time": "2022-06-19T15:00:34.488Z"
      },
      {
        "duration": 5,
        "start_time": "2022-06-19T15:00:34.497Z"
      },
      {
        "duration": 40,
        "start_time": "2022-06-19T15:00:34.504Z"
      },
      {
        "duration": 5,
        "start_time": "2022-06-19T15:00:34.547Z"
      },
      {
        "duration": 7,
        "start_time": "2022-06-19T15:00:34.553Z"
      },
      {
        "duration": 9,
        "start_time": "2022-06-19T15:00:34.561Z"
      },
      {
        "duration": 8,
        "start_time": "2022-06-19T15:00:34.571Z"
      },
      {
        "duration": 107,
        "start_time": "2022-06-19T15:00:34.580Z"
      },
      {
        "duration": 323,
        "start_time": "2022-06-19T15:00:34.689Z"
      },
      {
        "duration": 42,
        "start_time": "2022-06-19T15:00:35.014Z"
      },
      {
        "duration": 17,
        "start_time": "2022-06-19T15:00:35.058Z"
      },
      {
        "duration": 66,
        "start_time": "2022-06-19T15:00:35.077Z"
      },
      {
        "duration": 6,
        "start_time": "2022-06-19T15:00:35.145Z"
      },
      {
        "duration": 5,
        "start_time": "2022-06-19T15:01:27.147Z"
      },
      {
        "duration": 6,
        "start_time": "2022-06-19T15:01:27.759Z"
      },
      {
        "duration": 1076,
        "start_time": "2022-06-19T15:01:49.747Z"
      },
      {
        "duration": 39,
        "start_time": "2022-06-19T15:01:50.825Z"
      },
      {
        "duration": 16,
        "start_time": "2022-06-19T15:01:50.866Z"
      },
      {
        "duration": 24,
        "start_time": "2022-06-19T15:01:50.884Z"
      },
      {
        "duration": 6,
        "start_time": "2022-06-19T15:01:50.910Z"
      },
      {
        "duration": 28,
        "start_time": "2022-06-19T15:01:50.917Z"
      },
      {
        "duration": 6,
        "start_time": "2022-06-19T15:01:50.946Z"
      },
      {
        "duration": 8,
        "start_time": "2022-06-19T15:01:50.953Z"
      },
      {
        "duration": 8,
        "start_time": "2022-06-19T15:01:50.963Z"
      },
      {
        "duration": 6,
        "start_time": "2022-06-19T15:01:50.973Z"
      },
      {
        "duration": 7,
        "start_time": "2022-06-19T15:01:50.980Z"
      },
      {
        "duration": 9,
        "start_time": "2022-06-19T15:01:50.989Z"
      },
      {
        "duration": 5,
        "start_time": "2022-06-19T15:01:51.000Z"
      },
      {
        "duration": 7,
        "start_time": "2022-06-19T15:01:51.007Z"
      },
      {
        "duration": 26,
        "start_time": "2022-06-19T15:01:51.016Z"
      },
      {
        "duration": 4,
        "start_time": "2022-06-19T15:01:51.044Z"
      },
      {
        "duration": 8,
        "start_time": "2022-06-19T15:01:51.050Z"
      },
      {
        "duration": 98,
        "start_time": "2022-06-19T15:01:51.060Z"
      },
      {
        "duration": 356,
        "start_time": "2022-06-19T15:01:51.160Z"
      },
      {
        "duration": 59,
        "start_time": "2022-06-19T15:01:51.518Z"
      },
      {
        "duration": 16,
        "start_time": "2022-06-19T15:01:51.578Z"
      },
      {
        "duration": 68,
        "start_time": "2022-06-19T15:01:51.596Z"
      },
      {
        "duration": 7,
        "start_time": "2022-06-19T15:01:51.666Z"
      },
      {
        "duration": 5,
        "start_time": "2022-06-19T15:01:59.659Z"
      },
      {
        "duration": 6,
        "start_time": "2022-06-19T15:02:00.168Z"
      },
      {
        "duration": 5,
        "start_time": "2022-06-19T15:02:25.659Z"
      },
      {
        "duration": 6,
        "start_time": "2022-06-19T15:02:26.320Z"
      },
      {
        "duration": 4,
        "start_time": "2022-06-19T15:02:41.867Z"
      },
      {
        "duration": 5,
        "start_time": "2022-06-19T15:03:41.855Z"
      },
      {
        "duration": 4,
        "start_time": "2022-06-19T15:03:54.308Z"
      },
      {
        "duration": 5,
        "start_time": "2022-06-19T15:03:57.097Z"
      },
      {
        "duration": 5,
        "start_time": "2022-06-19T15:03:57.742Z"
      },
      {
        "duration": 6,
        "start_time": "2022-06-19T15:04:27.763Z"
      },
      {
        "duration": 6,
        "start_time": "2022-06-19T15:04:28.747Z"
      },
      {
        "duration": 1039,
        "start_time": "2022-06-19T15:04:47.863Z"
      },
      {
        "duration": 38,
        "start_time": "2022-06-19T15:04:48.904Z"
      },
      {
        "duration": 18,
        "start_time": "2022-06-19T15:04:48.943Z"
      },
      {
        "duration": 24,
        "start_time": "2022-06-19T15:04:48.963Z"
      },
      {
        "duration": 6,
        "start_time": "2022-06-19T15:04:48.989Z"
      },
      {
        "duration": 9,
        "start_time": "2022-06-19T15:04:48.996Z"
      },
      {
        "duration": 37,
        "start_time": "2022-06-19T15:04:49.006Z"
      },
      {
        "duration": 7,
        "start_time": "2022-06-19T15:04:49.045Z"
      },
      {
        "duration": 5,
        "start_time": "2022-06-19T15:04:49.053Z"
      },
      {
        "duration": 6,
        "start_time": "2022-06-19T15:04:49.060Z"
      },
      {
        "duration": 7,
        "start_time": "2022-06-19T15:04:49.067Z"
      },
      {
        "duration": 5,
        "start_time": "2022-06-19T15:04:49.076Z"
      },
      {
        "duration": 8,
        "start_time": "2022-06-19T15:04:49.083Z"
      },
      {
        "duration": 9,
        "start_time": "2022-06-19T15:04:49.093Z"
      },
      {
        "duration": 38,
        "start_time": "2022-06-19T15:04:49.104Z"
      },
      {
        "duration": 6,
        "start_time": "2022-06-19T15:04:49.143Z"
      },
      {
        "duration": 10,
        "start_time": "2022-06-19T15:04:49.151Z"
      },
      {
        "duration": 12,
        "start_time": "2022-06-19T15:04:49.163Z"
      },
      {
        "duration": 86,
        "start_time": "2022-06-19T15:04:49.177Z"
      },
      {
        "duration": 316,
        "start_time": "2022-06-19T15:04:49.265Z"
      },
      {
        "duration": 34,
        "start_time": "2022-06-19T15:04:49.583Z"
      },
      {
        "duration": 26,
        "start_time": "2022-06-19T15:04:49.619Z"
      },
      {
        "duration": 48,
        "start_time": "2022-06-19T15:04:49.647Z"
      },
      {
        "duration": 6,
        "start_time": "2022-06-19T15:04:49.697Z"
      },
      {
        "duration": 5,
        "start_time": "2022-06-19T15:05:38.140Z"
      },
      {
        "duration": 4,
        "start_time": "2022-06-19T15:05:56.983Z"
      },
      {
        "duration": 3,
        "start_time": "2022-06-19T15:05:57.396Z"
      },
      {
        "duration": 3,
        "start_time": "2022-06-19T15:05:58.921Z"
      },
      {
        "duration": 86,
        "start_time": "2022-06-19T15:06:31.212Z"
      },
      {
        "duration": 297,
        "start_time": "2022-06-19T15:07:23.923Z"
      },
      {
        "duration": 403,
        "start_time": "2022-06-19T15:37:41.363Z"
      },
      {
        "duration": 251,
        "start_time": "2022-06-19T15:41:45.817Z"
      },
      {
        "duration": 91,
        "start_time": "2022-06-19T15:41:58.996Z"
      },
      {
        "duration": 18,
        "start_time": "2022-06-19T15:49:33.911Z"
      },
      {
        "duration": 112,
        "start_time": "2022-06-19T15:49:40.524Z"
      },
      {
        "duration": 191,
        "start_time": "2022-06-19T15:50:16.336Z"
      },
      {
        "duration": 74,
        "start_time": "2022-06-19T15:50:43.368Z"
      },
      {
        "duration": 49,
        "start_time": "2022-06-19T15:54:13.104Z"
      },
      {
        "duration": 137,
        "start_time": "2022-06-19T15:55:03.292Z"
      },
      {
        "duration": 73,
        "start_time": "2022-06-19T15:55:26.160Z"
      },
      {
        "duration": 38,
        "start_time": "2022-06-19T15:58:22.860Z"
      },
      {
        "duration": 34,
        "start_time": "2022-06-19T16:00:50.228Z"
      },
      {
        "duration": 13,
        "start_time": "2022-06-19T16:04:34.644Z"
      },
      {
        "duration": 13,
        "start_time": "2022-06-19T16:04:43.719Z"
      },
      {
        "duration": 7,
        "start_time": "2022-06-19T16:04:50.516Z"
      },
      {
        "duration": 1269,
        "start_time": "2022-06-19T16:04:55.480Z"
      },
      {
        "duration": 40,
        "start_time": "2022-06-19T16:04:56.751Z"
      },
      {
        "duration": 17,
        "start_time": "2022-06-19T16:04:56.793Z"
      },
      {
        "duration": 32,
        "start_time": "2022-06-19T16:04:56.812Z"
      },
      {
        "duration": 7,
        "start_time": "2022-06-19T16:04:56.847Z"
      },
      {
        "duration": 10,
        "start_time": "2022-06-19T16:04:56.856Z"
      },
      {
        "duration": 7,
        "start_time": "2022-06-19T16:04:56.868Z"
      },
      {
        "duration": 9,
        "start_time": "2022-06-19T16:04:56.876Z"
      },
      {
        "duration": 15,
        "start_time": "2022-06-19T16:04:56.887Z"
      },
      {
        "duration": 12,
        "start_time": "2022-06-19T16:04:56.904Z"
      },
      {
        "duration": 8,
        "start_time": "2022-06-19T16:04:56.942Z"
      },
      {
        "duration": 6,
        "start_time": "2022-06-19T16:04:56.954Z"
      },
      {
        "duration": 8,
        "start_time": "2022-06-19T16:04:56.962Z"
      },
      {
        "duration": 6,
        "start_time": "2022-06-19T16:04:56.972Z"
      },
      {
        "duration": 11,
        "start_time": "2022-06-19T16:04:56.979Z"
      },
      {
        "duration": 11,
        "start_time": "2022-06-19T16:04:56.991Z"
      },
      {
        "duration": 7,
        "start_time": "2022-06-19T16:04:57.004Z"
      },
      {
        "duration": 11,
        "start_time": "2022-06-19T16:04:57.012Z"
      },
      {
        "duration": 19,
        "start_time": "2022-06-19T16:04:57.025Z"
      },
      {
        "duration": 82,
        "start_time": "2022-06-19T16:04:57.046Z"
      },
      {
        "duration": 326,
        "start_time": "2022-06-19T16:04:57.130Z"
      },
      {
        "duration": 33,
        "start_time": "2022-06-19T16:04:57.458Z"
      },
      {
        "duration": 12,
        "start_time": "2022-06-19T16:04:57.493Z"
      },
      {
        "duration": 69,
        "start_time": "2022-06-19T16:04:57.507Z"
      },
      {
        "duration": 7,
        "start_time": "2022-06-19T16:04:57.578Z"
      },
      {
        "duration": 33,
        "start_time": "2022-06-19T16:20:06.967Z"
      },
      {
        "duration": 42,
        "start_time": "2022-06-19T16:20:12.598Z"
      },
      {
        "duration": 198,
        "start_time": "2022-06-19T16:20:43.495Z"
      },
      {
        "duration": 77,
        "start_time": "2022-06-19T16:20:59.548Z"
      },
      {
        "duration": 6,
        "start_time": "2022-06-19T16:27:38.111Z"
      },
      {
        "duration": 3,
        "start_time": "2022-06-19T16:32:51.299Z"
      },
      {
        "duration": 8,
        "start_time": "2022-06-19T16:34:43.477Z"
      },
      {
        "duration": 38,
        "start_time": "2022-06-19T16:40:54.250Z"
      },
      {
        "duration": 1489,
        "start_time": "2022-06-19T16:55:06.755Z"
      },
      {
        "duration": 40,
        "start_time": "2022-06-19T16:55:08.247Z"
      },
      {
        "duration": 18,
        "start_time": "2022-06-19T16:55:08.289Z"
      },
      {
        "duration": 28,
        "start_time": "2022-06-19T16:55:08.309Z"
      },
      {
        "duration": 6,
        "start_time": "2022-06-19T16:55:08.341Z"
      },
      {
        "duration": 12,
        "start_time": "2022-06-19T16:55:08.349Z"
      },
      {
        "duration": 5,
        "start_time": "2022-06-19T16:55:08.363Z"
      },
      {
        "duration": 14,
        "start_time": "2022-06-19T16:55:08.370Z"
      },
      {
        "duration": 6,
        "start_time": "2022-06-19T16:55:08.386Z"
      },
      {
        "duration": 6,
        "start_time": "2022-06-19T16:55:08.393Z"
      },
      {
        "duration": 8,
        "start_time": "2022-06-19T16:55:08.400Z"
      },
      {
        "duration": 34,
        "start_time": "2022-06-19T16:55:08.409Z"
      },
      {
        "duration": 14,
        "start_time": "2022-06-19T16:55:08.445Z"
      },
      {
        "duration": 7,
        "start_time": "2022-06-19T16:55:08.463Z"
      },
      {
        "duration": 6,
        "start_time": "2022-06-19T16:55:08.471Z"
      },
      {
        "duration": 7,
        "start_time": "2022-06-19T16:55:08.479Z"
      },
      {
        "duration": 6,
        "start_time": "2022-06-19T16:55:08.487Z"
      },
      {
        "duration": 9,
        "start_time": "2022-06-19T16:55:08.494Z"
      },
      {
        "duration": 10,
        "start_time": "2022-06-19T16:55:08.504Z"
      },
      {
        "duration": 101,
        "start_time": "2022-06-19T16:55:08.515Z"
      },
      {
        "duration": 353,
        "start_time": "2022-06-19T16:55:08.618Z"
      },
      {
        "duration": 39,
        "start_time": "2022-06-19T16:55:08.974Z"
      },
      {
        "duration": 30,
        "start_time": "2022-06-19T16:55:09.015Z"
      },
      {
        "duration": 6,
        "start_time": "2022-06-19T16:55:09.046Z"
      },
      {
        "duration": 4,
        "start_time": "2022-06-19T16:55:26.808Z"
      },
      {
        "duration": 110,
        "start_time": "2022-06-19T17:11:36.388Z"
      },
      {
        "duration": 10,
        "start_time": "2022-06-19T17:12:11.975Z"
      },
      {
        "duration": 3,
        "start_time": "2022-06-19T17:13:21.886Z"
      },
      {
        "duration": 401,
        "start_time": "2022-06-19T17:13:30.271Z"
      },
      {
        "duration": 423,
        "start_time": "2022-06-19T17:14:48.431Z"
      },
      {
        "duration": 759,
        "start_time": "2022-06-19T17:15:06.507Z"
      },
      {
        "duration": 940,
        "start_time": "2022-06-19T17:15:34.822Z"
      },
      {
        "duration": 1478,
        "start_time": "2022-06-19T17:16:04.384Z"
      },
      {
        "duration": 705,
        "start_time": "2022-06-19T17:18:09.884Z"
      },
      {
        "duration": 89,
        "start_time": "2022-06-19T17:19:31.578Z"
      },
      {
        "duration": 49,
        "start_time": "2022-06-19T17:19:44.594Z"
      },
      {
        "duration": 1032,
        "start_time": "2022-06-19T17:25:24.390Z"
      },
      {
        "duration": 39,
        "start_time": "2022-06-19T17:25:25.424Z"
      },
      {
        "duration": 18,
        "start_time": "2022-06-19T17:25:25.465Z"
      },
      {
        "duration": 23,
        "start_time": "2022-06-19T17:25:25.486Z"
      },
      {
        "duration": 31,
        "start_time": "2022-06-19T17:25:25.511Z"
      },
      {
        "duration": 6,
        "start_time": "2022-06-19T17:25:25.544Z"
      },
      {
        "duration": 13,
        "start_time": "2022-06-19T17:25:25.552Z"
      },
      {
        "duration": 9,
        "start_time": "2022-06-19T17:25:25.567Z"
      },
      {
        "duration": 9,
        "start_time": "2022-06-19T17:25:25.578Z"
      },
      {
        "duration": 6,
        "start_time": "2022-06-19T17:25:25.590Z"
      },
      {
        "duration": 12,
        "start_time": "2022-06-19T17:25:25.598Z"
      },
      {
        "duration": 31,
        "start_time": "2022-06-19T17:25:25.612Z"
      },
      {
        "duration": 8,
        "start_time": "2022-06-19T17:25:25.645Z"
      },
      {
        "duration": 7,
        "start_time": "2022-06-19T17:25:25.655Z"
      },
      {
        "duration": 8,
        "start_time": "2022-06-19T17:25:25.664Z"
      },
      {
        "duration": 10,
        "start_time": "2022-06-19T17:25:25.674Z"
      },
      {
        "duration": 9,
        "start_time": "2022-06-19T17:25:25.686Z"
      },
      {
        "duration": 11,
        "start_time": "2022-06-19T17:25:25.696Z"
      },
      {
        "duration": 32,
        "start_time": "2022-06-19T17:25:25.709Z"
      },
      {
        "duration": 70,
        "start_time": "2022-06-19T17:25:25.742Z"
      },
      {
        "duration": 337,
        "start_time": "2022-06-19T17:25:25.814Z"
      },
      {
        "duration": 37,
        "start_time": "2022-06-19T17:25:26.152Z"
      },
      {
        "duration": 13,
        "start_time": "2022-06-19T17:25:26.191Z"
      },
      {
        "duration": 37,
        "start_time": "2022-06-19T17:25:26.206Z"
      },
      {
        "duration": 1143,
        "start_time": "2022-06-19T19:40:06.092Z"
      },
      {
        "duration": 41,
        "start_time": "2022-06-19T19:40:07.239Z"
      },
      {
        "duration": 15,
        "start_time": "2022-06-19T19:40:07.284Z"
      },
      {
        "duration": 21,
        "start_time": "2022-06-19T19:40:07.300Z"
      },
      {
        "duration": 16,
        "start_time": "2022-06-19T19:40:07.323Z"
      },
      {
        "duration": 32,
        "start_time": "2022-06-19T19:40:07.341Z"
      },
      {
        "duration": 17,
        "start_time": "2022-06-19T19:40:07.375Z"
      },
      {
        "duration": 16,
        "start_time": "2022-06-19T19:40:07.393Z"
      },
      {
        "duration": 47,
        "start_time": "2022-06-19T19:40:07.411Z"
      },
      {
        "duration": 19,
        "start_time": "2022-06-19T19:40:07.460Z"
      },
      {
        "duration": 12,
        "start_time": "2022-06-19T19:40:07.480Z"
      },
      {
        "duration": 16,
        "start_time": "2022-06-19T19:40:07.493Z"
      },
      {
        "duration": 10,
        "start_time": "2022-06-19T19:40:07.510Z"
      },
      {
        "duration": 33,
        "start_time": "2022-06-19T19:40:07.521Z"
      },
      {
        "duration": 10,
        "start_time": "2022-06-19T19:40:07.556Z"
      },
      {
        "duration": 11,
        "start_time": "2022-06-19T19:40:07.568Z"
      },
      {
        "duration": 25,
        "start_time": "2022-06-19T19:40:07.581Z"
      },
      {
        "duration": 18,
        "start_time": "2022-06-19T19:40:07.607Z"
      },
      {
        "duration": 39,
        "start_time": "2022-06-19T19:40:07.626Z"
      },
      {
        "duration": 108,
        "start_time": "2022-06-19T19:40:07.666Z"
      },
      {
        "duration": 323,
        "start_time": "2022-06-19T19:40:07.775Z"
      },
      {
        "duration": 768,
        "start_time": "2022-06-19T19:40:08.099Z"
      },
      {
        "duration": 36,
        "start_time": "2022-06-19T19:40:08.868Z"
      },
      {
        "duration": 31,
        "start_time": "2022-06-19T19:40:08.906Z"
      },
      {
        "duration": 8,
        "start_time": "2022-06-19T19:40:08.938Z"
      },
      {
        "duration": 801,
        "start_time": "2022-06-19T19:40:48.144Z"
      },
      {
        "duration": 790,
        "start_time": "2022-06-19T19:41:08.746Z"
      },
      {
        "duration": 776,
        "start_time": "2022-06-19T19:41:31.067Z"
      },
      {
        "duration": 671,
        "start_time": "2022-06-19T19:41:34.850Z"
      },
      {
        "duration": 988,
        "start_time": "2022-06-19T19:41:45.637Z"
      },
      {
        "duration": 1396,
        "start_time": "2022-06-19T19:43:39.713Z"
      },
      {
        "duration": 11,
        "start_time": "2022-06-19T19:43:54.832Z"
      },
      {
        "duration": 1370,
        "start_time": "2022-06-19T19:44:09.761Z"
      },
      {
        "duration": 678,
        "start_time": "2022-06-19T19:55:13.391Z"
      },
      {
        "duration": 745,
        "start_time": "2022-06-19T20:11:31.507Z"
      },
      {
        "duration": 1403,
        "start_time": "2022-06-19T20:11:37.289Z"
      },
      {
        "duration": 654,
        "start_time": "2022-06-19T20:12:09.279Z"
      },
      {
        "duration": 666,
        "start_time": "2022-06-19T20:12:15.795Z"
      },
      {
        "duration": 649,
        "start_time": "2022-06-19T20:12:59.722Z"
      },
      {
        "duration": 681,
        "start_time": "2022-06-19T20:13:06.306Z"
      },
      {
        "duration": 652,
        "start_time": "2022-06-19T20:13:10.026Z"
      },
      {
        "duration": 651,
        "start_time": "2022-06-19T20:13:40.660Z"
      },
      {
        "duration": 668,
        "start_time": "2022-06-19T20:13:46.874Z"
      },
      {
        "duration": 10,
        "start_time": "2022-06-19T20:14:44.922Z"
      },
      {
        "duration": 641,
        "start_time": "2022-06-19T20:14:50.061Z"
      },
      {
        "duration": 179,
        "start_time": "2022-06-19T20:15:09.881Z"
      },
      {
        "duration": 37,
        "start_time": "2022-06-19T20:15:22.743Z"
      },
      {
        "duration": 5,
        "start_time": "2022-06-19T20:15:51.562Z"
      },
      {
        "duration": 5,
        "start_time": "2022-06-19T20:16:00.834Z"
      },
      {
        "duration": 691,
        "start_time": "2022-06-19T20:16:43.261Z"
      },
      {
        "duration": 663,
        "start_time": "2022-06-19T20:16:55.059Z"
      },
      {
        "duration": 666,
        "start_time": "2022-06-19T20:17:00.560Z"
      },
      {
        "duration": 15,
        "start_time": "2022-06-19T20:17:55.522Z"
      },
      {
        "duration": 675,
        "start_time": "2022-06-19T20:18:04.860Z"
      },
      {
        "duration": 634,
        "start_time": "2022-06-19T20:33:07.978Z"
      },
      {
        "duration": 650,
        "start_time": "2022-06-19T20:33:13.811Z"
      },
      {
        "duration": 647,
        "start_time": "2022-06-19T20:33:18.673Z"
      },
      {
        "duration": 1870,
        "start_time": "2022-06-19T20:33:24.858Z"
      },
      {
        "duration": 1073,
        "start_time": "2022-06-19T20:33:59.681Z"
      },
      {
        "duration": 37,
        "start_time": "2022-06-19T20:34:00.756Z"
      },
      {
        "duration": 23,
        "start_time": "2022-06-19T20:34:00.795Z"
      },
      {
        "duration": 25,
        "start_time": "2022-06-19T20:34:00.821Z"
      },
      {
        "duration": 6,
        "start_time": "2022-06-19T20:34:00.848Z"
      },
      {
        "duration": 27,
        "start_time": "2022-06-19T20:34:00.855Z"
      },
      {
        "duration": 13,
        "start_time": "2022-06-19T20:34:00.883Z"
      },
      {
        "duration": 14,
        "start_time": "2022-06-19T20:34:00.897Z"
      },
      {
        "duration": 18,
        "start_time": "2022-06-19T20:34:00.913Z"
      },
      {
        "duration": 14,
        "start_time": "2022-06-19T20:34:00.933Z"
      },
      {
        "duration": 17,
        "start_time": "2022-06-19T20:34:00.949Z"
      },
      {
        "duration": 11,
        "start_time": "2022-06-19T20:34:00.968Z"
      },
      {
        "duration": 6,
        "start_time": "2022-06-19T20:34:00.981Z"
      },
      {
        "duration": 19,
        "start_time": "2022-06-19T20:34:00.988Z"
      },
      {
        "duration": 15,
        "start_time": "2022-06-19T20:34:01.009Z"
      },
      {
        "duration": 17,
        "start_time": "2022-06-19T20:34:01.026Z"
      },
      {
        "duration": 14,
        "start_time": "2022-06-19T20:34:01.044Z"
      },
      {
        "duration": 22,
        "start_time": "2022-06-19T20:34:01.060Z"
      },
      {
        "duration": 23,
        "start_time": "2022-06-19T20:34:01.084Z"
      },
      {
        "duration": 98,
        "start_time": "2022-06-19T20:34:01.109Z"
      },
      {
        "duration": 336,
        "start_time": "2022-06-19T20:34:01.208Z"
      },
      {
        "duration": 775,
        "start_time": "2022-06-19T20:34:01.547Z"
      },
      {
        "duration": 1970,
        "start_time": "2022-06-19T20:34:02.324Z"
      },
      {
        "duration": 71,
        "start_time": "2022-06-19T20:34:04.295Z"
      },
      {
        "duration": 33,
        "start_time": "2022-06-19T20:34:04.368Z"
      },
      {
        "duration": 25,
        "start_time": "2022-06-19T20:34:04.402Z"
      },
      {
        "duration": 5,
        "start_time": "2022-06-19T20:34:04.429Z"
      },
      {
        "duration": 34,
        "start_time": "2022-06-19T20:35:10.127Z"
      },
      {
        "duration": 1936,
        "start_time": "2022-06-19T20:35:13.208Z"
      },
      {
        "duration": 1874,
        "start_time": "2022-06-19T20:36:22.847Z"
      },
      {
        "duration": 911,
        "start_time": "2022-06-19T20:36:33.951Z"
      },
      {
        "duration": 634,
        "start_time": "2022-06-19T20:36:51.595Z"
      },
      {
        "duration": 910,
        "start_time": "2022-06-19T20:37:06.479Z"
      },
      {
        "duration": 110,
        "start_time": "2022-06-19T20:49:04.358Z"
      },
      {
        "duration": 78,
        "start_time": "2022-06-19T20:49:07.304Z"
      },
      {
        "duration": 87,
        "start_time": "2022-06-19T20:49:17.752Z"
      },
      {
        "duration": 48,
        "start_time": "2022-06-19T20:49:31.935Z"
      },
      {
        "duration": 24,
        "start_time": "2022-06-19T20:50:08.503Z"
      },
      {
        "duration": 1066,
        "start_time": "2022-06-19T21:00:27.660Z"
      },
      {
        "duration": 38,
        "start_time": "2022-06-19T21:00:28.728Z"
      },
      {
        "duration": 52,
        "start_time": "2022-06-19T21:00:28.768Z"
      },
      {
        "duration": 55,
        "start_time": "2022-06-19T21:00:28.822Z"
      },
      {
        "duration": 30,
        "start_time": "2022-06-19T21:00:28.879Z"
      },
      {
        "duration": 33,
        "start_time": "2022-06-19T21:00:28.911Z"
      },
      {
        "duration": 19,
        "start_time": "2022-06-19T21:00:28.946Z"
      },
      {
        "duration": 11,
        "start_time": "2022-06-19T21:00:28.966Z"
      },
      {
        "duration": 18,
        "start_time": "2022-06-19T21:00:28.979Z"
      },
      {
        "duration": 16,
        "start_time": "2022-06-19T21:00:28.999Z"
      },
      {
        "duration": 15,
        "start_time": "2022-06-19T21:00:29.016Z"
      },
      {
        "duration": 9,
        "start_time": "2022-06-19T21:00:29.033Z"
      },
      {
        "duration": 16,
        "start_time": "2022-06-19T21:00:29.043Z"
      },
      {
        "duration": 7,
        "start_time": "2022-06-19T21:00:29.061Z"
      },
      {
        "duration": 10,
        "start_time": "2022-06-19T21:00:29.069Z"
      },
      {
        "duration": 15,
        "start_time": "2022-06-19T21:00:29.081Z"
      },
      {
        "duration": 13,
        "start_time": "2022-06-19T21:00:29.098Z"
      },
      {
        "duration": 15,
        "start_time": "2022-06-19T21:00:29.112Z"
      },
      {
        "duration": 21,
        "start_time": "2022-06-19T21:00:29.129Z"
      },
      {
        "duration": 84,
        "start_time": "2022-06-19T21:00:29.152Z"
      },
      {
        "duration": 312,
        "start_time": "2022-06-19T21:00:29.237Z"
      },
      {
        "duration": 696,
        "start_time": "2022-06-19T21:00:29.551Z"
      },
      {
        "duration": 114,
        "start_time": "2022-06-19T21:00:30.249Z"
      },
      {
        "duration": 0,
        "start_time": "2022-06-19T21:00:30.365Z"
      },
      {
        "duration": 0,
        "start_time": "2022-06-19T21:00:30.366Z"
      },
      {
        "duration": 0,
        "start_time": "2022-06-19T21:00:30.367Z"
      },
      {
        "duration": 0,
        "start_time": "2022-06-19T21:00:30.368Z"
      },
      {
        "duration": 568,
        "start_time": "2022-06-19T21:01:31.590Z"
      },
      {
        "duration": 888,
        "start_time": "2022-06-19T21:02:07.374Z"
      },
      {
        "duration": 11,
        "start_time": "2022-06-19T21:02:37.622Z"
      },
      {
        "duration": 6,
        "start_time": "2022-06-19T21:05:09.158Z"
      },
      {
        "duration": 897,
        "start_time": "2022-06-19T21:31:28.974Z"
      },
      {
        "duration": 901,
        "start_time": "2022-06-19T21:31:36.243Z"
      },
      {
        "duration": 230269,
        "start_time": "2022-06-19T21:32:05.725Z"
      },
      {
        "duration": 12,
        "start_time": "2022-06-19T21:39:59.892Z"
      },
      {
        "duration": 10,
        "start_time": "2022-06-19T21:40:17.748Z"
      },
      {
        "duration": 3,
        "start_time": "2022-06-19T21:40:55.165Z"
      },
      {
        "duration": 10,
        "start_time": "2022-06-19T21:41:00.740Z"
      },
      {
        "duration": 8,
        "start_time": "2022-06-19T21:41:06.301Z"
      },
      {
        "duration": 5,
        "start_time": "2022-06-19T21:41:12.620Z"
      },
      {
        "duration": 10,
        "start_time": "2022-06-19T21:41:35.589Z"
      },
      {
        "duration": 8,
        "start_time": "2022-06-19T21:41:52.284Z"
      },
      {
        "duration": 4,
        "start_time": "2022-06-19T21:42:02.625Z"
      },
      {
        "duration": 8,
        "start_time": "2022-06-19T21:42:08.453Z"
      },
      {
        "duration": 9,
        "start_time": "2022-06-19T21:42:15.828Z"
      },
      {
        "duration": 23919,
        "start_time": "2022-06-19T21:42:30.318Z"
      },
      {
        "duration": 3,
        "start_time": "2022-06-19T21:42:54.239Z"
      },
      {
        "duration": 3,
        "start_time": "2022-06-19T21:43:43.062Z"
      },
      {
        "duration": 1933,
        "start_time": "2022-06-19T21:43:54.107Z"
      },
      {
        "duration": 5,
        "start_time": "2022-06-19T21:43:57.851Z"
      },
      {
        "duration": 26729,
        "start_time": "2022-06-19T21:45:05.339Z"
      },
      {
        "duration": 995,
        "start_time": "2022-06-19T21:57:29.577Z"
      },
      {
        "duration": 39,
        "start_time": "2022-06-19T21:57:30.574Z"
      },
      {
        "duration": 17,
        "start_time": "2022-06-19T21:57:30.618Z"
      },
      {
        "duration": 22,
        "start_time": "2022-06-19T21:57:30.637Z"
      },
      {
        "duration": 6,
        "start_time": "2022-06-19T21:57:30.661Z"
      },
      {
        "duration": 8,
        "start_time": "2022-06-19T21:57:30.668Z"
      },
      {
        "duration": 16,
        "start_time": "2022-06-19T21:57:30.678Z"
      },
      {
        "duration": 10,
        "start_time": "2022-06-19T21:57:30.696Z"
      },
      {
        "duration": 22,
        "start_time": "2022-06-19T21:57:30.707Z"
      },
      {
        "duration": 17,
        "start_time": "2022-06-19T21:57:30.731Z"
      },
      {
        "duration": 19,
        "start_time": "2022-06-19T21:57:30.750Z"
      },
      {
        "duration": 12,
        "start_time": "2022-06-19T21:57:30.770Z"
      },
      {
        "duration": 17,
        "start_time": "2022-06-19T21:57:30.783Z"
      },
      {
        "duration": 10,
        "start_time": "2022-06-19T21:57:30.802Z"
      },
      {
        "duration": 15,
        "start_time": "2022-06-19T21:57:30.814Z"
      },
      {
        "duration": 17,
        "start_time": "2022-06-19T21:57:30.830Z"
      },
      {
        "duration": 15,
        "start_time": "2022-06-19T21:57:30.849Z"
      },
      {
        "duration": 17,
        "start_time": "2022-06-19T21:57:30.866Z"
      },
      {
        "duration": 11,
        "start_time": "2022-06-19T21:57:30.885Z"
      },
      {
        "duration": 79,
        "start_time": "2022-06-19T21:57:30.897Z"
      },
      {
        "duration": 302,
        "start_time": "2022-06-19T21:57:30.977Z"
      },
      {
        "duration": 30,
        "start_time": "2022-06-19T21:57:31.281Z"
      },
      {
        "duration": 22,
        "start_time": "2022-06-19T21:57:31.313Z"
      },
      {
        "duration": 5,
        "start_time": "2022-06-19T21:57:31.337Z"
      },
      {
        "duration": 280,
        "start_time": "2022-06-19T21:58:16.190Z"
      },
      {
        "duration": 45,
        "start_time": "2022-06-20T12:08:18.091Z"
      },
      {
        "duration": 1759,
        "start_time": "2022-06-20T12:08:27.296Z"
      },
      {
        "duration": 80,
        "start_time": "2022-06-20T12:08:29.056Z"
      },
      {
        "duration": 14,
        "start_time": "2022-06-20T12:08:29.137Z"
      },
      {
        "duration": 25,
        "start_time": "2022-06-20T12:08:29.152Z"
      },
      {
        "duration": 5,
        "start_time": "2022-06-20T12:08:29.178Z"
      },
      {
        "duration": 7,
        "start_time": "2022-06-20T12:08:29.185Z"
      },
      {
        "duration": 4,
        "start_time": "2022-06-20T12:08:29.193Z"
      },
      {
        "duration": 27,
        "start_time": "2022-06-20T12:08:29.199Z"
      },
      {
        "duration": 5,
        "start_time": "2022-06-20T12:08:29.228Z"
      },
      {
        "duration": 7,
        "start_time": "2022-06-20T12:08:29.235Z"
      },
      {
        "duration": 7,
        "start_time": "2022-06-20T12:08:29.243Z"
      },
      {
        "duration": 5,
        "start_time": "2022-06-20T12:08:29.251Z"
      },
      {
        "duration": 5,
        "start_time": "2022-06-20T12:08:29.258Z"
      },
      {
        "duration": 6,
        "start_time": "2022-06-20T12:08:29.264Z"
      },
      {
        "duration": 9,
        "start_time": "2022-06-20T12:08:29.271Z"
      },
      {
        "duration": 9,
        "start_time": "2022-06-20T12:08:29.281Z"
      },
      {
        "duration": 6,
        "start_time": "2022-06-20T12:08:29.291Z"
      },
      {
        "duration": 28,
        "start_time": "2022-06-20T12:08:29.298Z"
      },
      {
        "duration": 9,
        "start_time": "2022-06-20T12:08:29.328Z"
      },
      {
        "duration": 69,
        "start_time": "2022-06-20T12:08:29.339Z"
      },
      {
        "duration": 296,
        "start_time": "2022-06-20T12:08:29.410Z"
      },
      {
        "duration": 43,
        "start_time": "2022-06-20T12:09:28.287Z"
      },
      {
        "duration": 11,
        "start_time": "2022-06-20T12:09:28.331Z"
      },
      {
        "duration": 5,
        "start_time": "2022-06-20T12:09:28.343Z"
      },
      {
        "duration": 42,
        "start_time": "2022-06-20T12:09:48.064Z"
      },
      {
        "duration": 1343,
        "start_time": "2022-06-20T12:09:57.299Z"
      },
      {
        "duration": 39,
        "start_time": "2022-06-20T12:10:01.565Z"
      },
      {
        "duration": 15,
        "start_time": "2022-06-20T12:10:02.690Z"
      },
      {
        "duration": 25,
        "start_time": "2022-06-20T12:10:06.475Z"
      },
      {
        "duration": 7,
        "start_time": "2022-06-20T12:10:08.543Z"
      },
      {
        "duration": 7,
        "start_time": "2022-06-20T12:10:09.154Z"
      },
      {
        "duration": 5,
        "start_time": "2022-06-20T12:10:09.810Z"
      },
      {
        "duration": 5,
        "start_time": "2022-06-20T12:10:13.859Z"
      },
      {
        "duration": 5,
        "start_time": "2022-06-20T12:10:14.039Z"
      },
      {
        "duration": 4,
        "start_time": "2022-06-20T12:10:14.261Z"
      },
      {
        "duration": 6,
        "start_time": "2022-06-20T12:10:14.457Z"
      },
      {
        "duration": 5,
        "start_time": "2022-06-20T12:10:14.955Z"
      },
      {
        "duration": 4,
        "start_time": "2022-06-20T12:10:15.437Z"
      },
      {
        "duration": 4,
        "start_time": "2022-06-20T12:10:15.929Z"
      },
      {
        "duration": 3,
        "start_time": "2022-06-20T12:10:16.493Z"
      },
      {
        "duration": 6,
        "start_time": "2022-06-20T12:10:17.069Z"
      },
      {
        "duration": 4,
        "start_time": "2022-06-20T12:10:17.688Z"
      },
      {
        "duration": 3,
        "start_time": "2022-06-20T12:10:18.227Z"
      },
      {
        "duration": 4,
        "start_time": "2022-06-20T12:10:18.457Z"
      },
      {
        "duration": 68,
        "start_time": "2022-06-20T12:10:23.740Z"
      },
      {
        "duration": 278,
        "start_time": "2022-06-20T12:10:29.904Z"
      },
      {
        "duration": 57992,
        "start_time": "2022-06-20T12:10:31.760Z"
      },
      {
        "duration": 39,
        "start_time": "2022-06-20T12:11:49.062Z"
      },
      {
        "duration": 1688,
        "start_time": "2022-06-20T12:14:23.952Z"
      },
      {
        "duration": 40,
        "start_time": "2022-06-20T12:14:25.642Z"
      },
      {
        "duration": 16,
        "start_time": "2022-06-20T12:14:25.683Z"
      },
      {
        "duration": 19,
        "start_time": "2022-06-20T12:14:25.701Z"
      },
      {
        "duration": 7,
        "start_time": "2022-06-20T12:14:25.722Z"
      },
      {
        "duration": 18,
        "start_time": "2022-06-20T12:14:25.730Z"
      },
      {
        "duration": 8,
        "start_time": "2022-06-20T12:14:25.749Z"
      },
      {
        "duration": 7,
        "start_time": "2022-06-20T12:14:25.759Z"
      },
      {
        "duration": 10,
        "start_time": "2022-06-20T12:14:25.767Z"
      },
      {
        "duration": 6,
        "start_time": "2022-06-20T12:14:25.778Z"
      },
      {
        "duration": 92,
        "start_time": "2022-06-20T12:14:25.785Z"
      },
      {
        "duration": 0,
        "start_time": "2022-06-20T12:14:25.879Z"
      },
      {
        "duration": 0,
        "start_time": "2022-06-20T12:14:25.880Z"
      },
      {
        "duration": 0,
        "start_time": "2022-06-20T12:14:25.881Z"
      },
      {
        "duration": 0,
        "start_time": "2022-06-20T12:14:25.882Z"
      },
      {
        "duration": 0,
        "start_time": "2022-06-20T12:14:25.883Z"
      },
      {
        "duration": 0,
        "start_time": "2022-06-20T12:14:25.884Z"
      },
      {
        "duration": 0,
        "start_time": "2022-06-20T12:14:25.885Z"
      },
      {
        "duration": 0,
        "start_time": "2022-06-20T12:14:25.886Z"
      },
      {
        "duration": 0,
        "start_time": "2022-06-20T12:14:25.887Z"
      },
      {
        "duration": 0,
        "start_time": "2022-06-20T12:14:25.888Z"
      },
      {
        "duration": 0,
        "start_time": "2022-06-20T12:14:25.889Z"
      },
      {
        "duration": 0,
        "start_time": "2022-06-20T12:14:25.890Z"
      },
      {
        "duration": 0,
        "start_time": "2022-06-20T12:14:25.890Z"
      },
      {
        "duration": 0,
        "start_time": "2022-06-20T12:14:25.891Z"
      },
      {
        "duration": 0,
        "start_time": "2022-06-20T12:14:25.892Z"
      },
      {
        "duration": 6,
        "start_time": "2022-06-20T12:14:52.685Z"
      },
      {
        "duration": 7,
        "start_time": "2022-06-20T12:14:54.959Z"
      },
      {
        "duration": 3,
        "start_time": "2022-06-20T12:14:58.501Z"
      },
      {
        "duration": 4,
        "start_time": "2022-06-20T12:15:00.413Z"
      },
      {
        "duration": 3,
        "start_time": "2022-06-20T12:15:01.358Z"
      },
      {
        "duration": 4,
        "start_time": "2022-06-20T12:15:02.507Z"
      },
      {
        "duration": 4,
        "start_time": "2022-06-20T12:15:05.205Z"
      },
      {
        "duration": 3,
        "start_time": "2022-06-20T12:15:05.709Z"
      },
      {
        "duration": 4,
        "start_time": "2022-06-20T12:15:06.490Z"
      },
      {
        "duration": 74,
        "start_time": "2022-06-20T12:15:14.140Z"
      },
      {
        "duration": 270,
        "start_time": "2022-06-20T12:15:23.445Z"
      },
      {
        "duration": 4,
        "start_time": "2022-06-20T12:16:32.441Z"
      },
      {
        "duration": 67677,
        "start_time": "2022-06-20T12:16:58.254Z"
      },
      {
        "duration": 54,
        "start_time": "2022-06-20T12:18:23.868Z"
      },
      {
        "duration": 8,
        "start_time": "2022-06-20T12:25:09.257Z"
      },
      {
        "duration": 355,
        "start_time": "2022-06-20T12:25:31.963Z"
      },
      {
        "duration": 25,
        "start_time": "2022-06-20T12:26:01.196Z"
      },
      {
        "duration": 14,
        "start_time": "2022-06-20T12:26:12.367Z"
      },
      {
        "duration": 15,
        "start_time": "2022-06-20T12:26:26.072Z"
      },
      {
        "duration": 14,
        "start_time": "2022-06-20T12:27:02.991Z"
      },
      {
        "duration": 65,
        "start_time": "2022-06-20T12:27:51.021Z"
      },
      {
        "duration": 118,
        "start_time": "2022-06-20T12:27:53.189Z"
      },
      {
        "duration": 167,
        "start_time": "2022-06-20T12:28:04.198Z"
      },
      {
        "duration": 95,
        "start_time": "2022-06-20T12:28:45.308Z"
      },
      {
        "duration": 68,
        "start_time": "2022-06-20T12:29:21.119Z"
      },
      {
        "duration": 65,
        "start_time": "2022-06-20T12:29:38.893Z"
      },
      {
        "duration": 92,
        "start_time": "2022-06-20T12:31:11.817Z"
      },
      {
        "duration": 164,
        "start_time": "2022-06-20T12:31:28.217Z"
      },
      {
        "duration": 118,
        "start_time": "2022-06-20T12:31:31.113Z"
      },
      {
        "duration": 122,
        "start_time": "2022-06-20T12:33:24.057Z"
      },
      {
        "duration": 112,
        "start_time": "2022-06-20T12:34:03.822Z"
      },
      {
        "duration": 143,
        "start_time": "2022-06-20T12:34:13.990Z"
      },
      {
        "duration": 133,
        "start_time": "2022-06-20T12:35:16.208Z"
      },
      {
        "duration": 25,
        "start_time": "2022-06-20T12:38:10.596Z"
      },
      {
        "duration": 10,
        "start_time": "2022-06-20T12:38:34.126Z"
      },
      {
        "duration": 125,
        "start_time": "2022-06-20T12:38:50.902Z"
      },
      {
        "duration": 98,
        "start_time": "2022-06-20T12:39:14.582Z"
      },
      {
        "duration": 157,
        "start_time": "2022-06-20T12:40:04.087Z"
      },
      {
        "duration": 141,
        "start_time": "2022-06-20T12:40:26.189Z"
      },
      {
        "duration": 118,
        "start_time": "2022-06-20T12:42:38.784Z"
      },
      {
        "duration": 318,
        "start_time": "2022-06-20T12:46:53.097Z"
      },
      {
        "duration": 254,
        "start_time": "2022-06-20T12:48:07.129Z"
      },
      {
        "duration": 189,
        "start_time": "2022-06-20T12:48:23.065Z"
      },
      {
        "duration": 150,
        "start_time": "2022-06-20T12:48:35.781Z"
      },
      {
        "duration": 99,
        "start_time": "2022-06-20T12:48:53.182Z"
      },
      {
        "duration": 149,
        "start_time": "2022-06-20T12:49:04.426Z"
      },
      {
        "duration": 152,
        "start_time": "2022-06-20T12:53:37.195Z"
      },
      {
        "duration": 149,
        "start_time": "2022-06-20T12:54:27.913Z"
      },
      {
        "duration": 56,
        "start_time": "2022-06-20T12:56:23.650Z"
      },
      {
        "duration": 56,
        "start_time": "2022-06-20T12:56:40.951Z"
      },
      {
        "duration": 34,
        "start_time": "2022-06-20T12:58:30.658Z"
      },
      {
        "duration": 18,
        "start_time": "2022-06-20T12:59:53.103Z"
      },
      {
        "duration": 73,
        "start_time": "2022-06-20T13:03:49.983Z"
      },
      {
        "duration": 1387,
        "start_time": "2022-06-20T13:06:35.403Z"
      },
      {
        "duration": 39,
        "start_time": "2022-06-20T13:06:36.792Z"
      },
      {
        "duration": 12,
        "start_time": "2022-06-20T13:06:36.833Z"
      },
      {
        "duration": 23,
        "start_time": "2022-06-20T13:06:36.848Z"
      },
      {
        "duration": 7,
        "start_time": "2022-06-20T13:06:36.872Z"
      },
      {
        "duration": 16,
        "start_time": "2022-06-20T13:06:36.881Z"
      },
      {
        "duration": 6,
        "start_time": "2022-06-20T13:06:36.926Z"
      },
      {
        "duration": 10,
        "start_time": "2022-06-20T13:06:36.934Z"
      },
      {
        "duration": 6,
        "start_time": "2022-06-20T13:06:36.945Z"
      },
      {
        "duration": 7,
        "start_time": "2022-06-20T13:06:36.953Z"
      },
      {
        "duration": 12,
        "start_time": "2022-06-20T13:06:36.961Z"
      },
      {
        "duration": 8,
        "start_time": "2022-06-20T13:06:36.975Z"
      },
      {
        "duration": 12,
        "start_time": "2022-06-20T13:06:36.984Z"
      },
      {
        "duration": 30,
        "start_time": "2022-06-20T13:06:36.998Z"
      },
      {
        "duration": 10,
        "start_time": "2022-06-20T13:06:37.029Z"
      },
      {
        "duration": 9,
        "start_time": "2022-06-20T13:06:37.040Z"
      },
      {
        "duration": 11,
        "start_time": "2022-06-20T13:06:37.051Z"
      },
      {
        "duration": 7,
        "start_time": "2022-06-20T13:06:37.064Z"
      },
      {
        "duration": 8,
        "start_time": "2022-06-20T13:06:37.073Z"
      },
      {
        "duration": 10,
        "start_time": "2022-06-20T13:06:37.083Z"
      },
      {
        "duration": 204,
        "start_time": "2022-06-20T13:06:37.094Z"
      },
      {
        "duration": 172,
        "start_time": "2022-06-20T13:06:37.299Z"
      },
      {
        "duration": 293,
        "start_time": "2022-06-20T13:06:37.473Z"
      },
      {
        "duration": 72317,
        "start_time": "2022-06-20T13:06:37.767Z"
      },
      {
        "duration": 67,
        "start_time": "2022-06-20T13:07:50.085Z"
      },
      {
        "duration": 33,
        "start_time": "2022-06-20T13:07:50.153Z"
      },
      {
        "duration": 10,
        "start_time": "2022-06-20T13:07:50.188Z"
      },
      {
        "duration": 6,
        "start_time": "2022-06-20T13:07:50.226Z"
      },
      {
        "duration": 59,
        "start_time": "2022-06-20T13:08:03.545Z"
      },
      {
        "duration": 57,
        "start_time": "2022-06-20T13:09:09.323Z"
      },
      {
        "duration": 60,
        "start_time": "2022-06-20T13:09:16.944Z"
      },
      {
        "duration": 52,
        "start_time": "2022-06-20T13:09:32.507Z"
      },
      {
        "duration": 54,
        "start_time": "2022-06-20T13:09:39.394Z"
      },
      {
        "duration": 70508,
        "start_time": "2022-06-20T13:09:47.677Z"
      },
      {
        "duration": 60,
        "start_time": "2022-06-20T13:11:12.045Z"
      },
      {
        "duration": 57,
        "start_time": "2022-06-20T13:11:20.981Z"
      },
      {
        "duration": 75,
        "start_time": "2022-06-20T13:11:27.102Z"
      }
    ],
    "kernelspec": {
      "name": "python",
      "display_name": "Python (Pyodide)",
      "language": "python"
    },
    "language_info": {
      "codemirror_mode": {
        "name": "python",
        "version": 3
      },
      "file_extension": ".py",
      "mimetype": "text/x-python",
      "name": "python",
      "nbconvert_exporter": "python",
      "pygments_lexer": "ipython3",
      "version": "3.8"
    },
    "toc": {
      "base_numbering": 1,
      "nav_menu": {},
      "number_sections": true,
      "sideBar": true,
      "skip_h1_title": true,
      "title_cell": "Table of Contents",
      "title_sidebar": "Contents",
      "toc_cell": false,
      "toc_position": {},
      "toc_section_display": true,
      "toc_window_display": false
    }
  },
  "nbformat_minor": 4,
  "nbformat": 4,
  "cells": [
    {
      "cell_type": "markdown",
      "source": "# Рекомендация тарифов",
      "metadata": {}
    },
    {
      "cell_type": "markdown",
      "source": "В вашем распоряжении данные о поведении клиентов, которые уже перешли на эти тарифы (из проекта курса «Статистический анализ данных»). Нужно построить модель для задачи классификации, которая выберет подходящий тариф. Предобработка данных не понадобится — вы её уже сделали.\n\nПостройте модель с максимально большим значением *accuracy*. Чтобы сдать проект успешно, нужно довести долю правильных ответов по крайней мере до 0.75. Проверьте *accuracy* на тестовой выборке самостоятельно.",
      "metadata": {}
    },
    {
      "cell_type": "markdown",
      "source": "## Ознакомление с данными",
      "metadata": {}
    },
    {
      "cell_type": "code",
      "source": "import pandas as pd\nfrom sklearn.ensemble import RandomForestClassifier\nfrom sklearn.model_selection import train_test_split\nfrom sklearn.tree import DecisionTreeClassifier\nfrom sklearn.linear_model import LogisticRegression\nfrom sklearn.metrics import accuracy_score\nfrom sklearn.dummy import DummyClassifier\nfrom sklearn.model_selection import GridSearchCV\nimport matplotlib.pyplot as plt\n# импортируем необходимые библиотеки",
      "metadata": {},
      "execution_count": 1,
      "outputs": []
    },
    {
      "cell_type": "code",
      "source": "df = pd.read_csv('/datasets/users_behavior.csv')\n# читаем датасет\ndf.info()\n# смотрим общую информацию о датасете",
      "metadata": {},
      "execution_count": 2,
      "outputs": [
        {
          "name": "stdout",
          "output_type": "stream",
          "text": "<class 'pandas.core.frame.DataFrame'>\n\nRangeIndex: 3214 entries, 0 to 3213\n\nData columns (total 5 columns):\n\n #   Column    Non-Null Count  Dtype  \n\n---  ------    --------------  -----  \n\n 0   calls     3214 non-null   float64\n\n 1   minutes   3214 non-null   float64\n\n 2   messages  3214 non-null   float64\n\n 3   mb_used   3214 non-null   float64\n\n 4   is_ultra  3214 non-null   int64  \n\ndtypes: float64(4), int64(1)\n\nmemory usage: 125.7 KB\n"
        }
      ]
    },
    {
      "cell_type": "code",
      "source": "df.head()\n# выводим первые пять строк датасета для ознакомления",
      "metadata": {},
      "execution_count": 3,
      "outputs": [
        {
          "execution_count": 3,
          "output_type": "execute_result",
          "data": {
            "text/html": [
              "<div>\n",
              "<style scoped>\n",
              "    .dataframe tbody tr th:only-of-type {\n",
              "        vertical-align: middle;\n",
              "    }\n",
              "\n",
              "    .dataframe tbody tr th {\n",
              "        vertical-align: top;\n",
              "    }\n",
              "\n",
              "    .dataframe thead th {\n",
              "        text-align: right;\n",
              "    }\n",
              "</style>\n",
              "<table border=\"1\" class=\"dataframe\">\n",
              "  <thead>\n",
              "    <tr style=\"text-align: right;\">\n",
              "      <th></th>\n",
              "      <th>calls</th>\n",
              "      <th>minutes</th>\n",
              "      <th>messages</th>\n",
              "      <th>mb_used</th>\n",
              "      <th>is_ultra</th>\n",
              "    </tr>\n",
              "  </thead>\n",
              "  <tbody>\n",
              "    <tr>\n",
              "      <th>0</th>\n",
              "      <td>40.0</td>\n",
              "      <td>311.90</td>\n",
              "      <td>83.0</td>\n",
              "      <td>19915.42</td>\n",
              "      <td>0</td>\n",
              "    </tr>\n",
              "    <tr>\n",
              "      <th>1</th>\n",
              "      <td>85.0</td>\n",
              "      <td>516.75</td>\n",
              "      <td>56.0</td>\n",
              "      <td>22696.96</td>\n",
              "      <td>0</td>\n",
              "    </tr>\n",
              "    <tr>\n",
              "      <th>2</th>\n",
              "      <td>77.0</td>\n",
              "      <td>467.66</td>\n",
              "      <td>86.0</td>\n",
              "      <td>21060.45</td>\n",
              "      <td>0</td>\n",
              "    </tr>\n",
              "    <tr>\n",
              "      <th>3</th>\n",
              "      <td>106.0</td>\n",
              "      <td>745.53</td>\n",
              "      <td>81.0</td>\n",
              "      <td>8437.39</td>\n",
              "      <td>1</td>\n",
              "    </tr>\n",
              "    <tr>\n",
              "      <th>4</th>\n",
              "      <td>66.0</td>\n",
              "      <td>418.74</td>\n",
              "      <td>1.0</td>\n",
              "      <td>14502.75</td>\n",
              "      <td>0</td>\n",
              "    </tr>\n",
              "  </tbody>\n",
              "</table>\n",
              "</div>"
            ],
            "text/plain": [
              "   calls  minutes  messages   mb_used  is_ultra\n",
              "0   40.0   311.90      83.0  19915.42         0\n",
              "1   85.0   516.75      56.0  22696.96         0\n",
              "2   77.0   467.66      86.0  21060.45         0\n",
              "3  106.0   745.53      81.0   8437.39         1\n",
              "4   66.0   418.74       1.0  14502.75         0"
            ]
          },
          "metadata": {}
        }
      ]
    },
    {
      "cell_type": "code",
      "source": "df.describe()\n# смотрим информацию о данных датасета",
      "metadata": {},
      "execution_count": 4,
      "outputs": [
        {
          "execution_count": 4,
          "output_type": "execute_result",
          "data": {
            "text/html": [
              "<div>\n",
              "<style scoped>\n",
              "    .dataframe tbody tr th:only-of-type {\n",
              "        vertical-align: middle;\n",
              "    }\n",
              "\n",
              "    .dataframe tbody tr th {\n",
              "        vertical-align: top;\n",
              "    }\n",
              "\n",
              "    .dataframe thead th {\n",
              "        text-align: right;\n",
              "    }\n",
              "</style>\n",
              "<table border=\"1\" class=\"dataframe\">\n",
              "  <thead>\n",
              "    <tr style=\"text-align: right;\">\n",
              "      <th></th>\n",
              "      <th>calls</th>\n",
              "      <th>minutes</th>\n",
              "      <th>messages</th>\n",
              "      <th>mb_used</th>\n",
              "      <th>is_ultra</th>\n",
              "    </tr>\n",
              "  </thead>\n",
              "  <tbody>\n",
              "    <tr>\n",
              "      <th>count</th>\n",
              "      <td>3214.000000</td>\n",
              "      <td>3214.000000</td>\n",
              "      <td>3214.000000</td>\n",
              "      <td>3214.000000</td>\n",
              "      <td>3214.000000</td>\n",
              "    </tr>\n",
              "    <tr>\n",
              "      <th>mean</th>\n",
              "      <td>63.038892</td>\n",
              "      <td>438.208787</td>\n",
              "      <td>38.281269</td>\n",
              "      <td>17207.673836</td>\n",
              "      <td>0.306472</td>\n",
              "    </tr>\n",
              "    <tr>\n",
              "      <th>std</th>\n",
              "      <td>33.236368</td>\n",
              "      <td>234.569872</td>\n",
              "      <td>36.148326</td>\n",
              "      <td>7570.968246</td>\n",
              "      <td>0.461100</td>\n",
              "    </tr>\n",
              "    <tr>\n",
              "      <th>min</th>\n",
              "      <td>0.000000</td>\n",
              "      <td>0.000000</td>\n",
              "      <td>0.000000</td>\n",
              "      <td>0.000000</td>\n",
              "      <td>0.000000</td>\n",
              "    </tr>\n",
              "    <tr>\n",
              "      <th>25%</th>\n",
              "      <td>40.000000</td>\n",
              "      <td>274.575000</td>\n",
              "      <td>9.000000</td>\n",
              "      <td>12491.902500</td>\n",
              "      <td>0.000000</td>\n",
              "    </tr>\n",
              "    <tr>\n",
              "      <th>50%</th>\n",
              "      <td>62.000000</td>\n",
              "      <td>430.600000</td>\n",
              "      <td>30.000000</td>\n",
              "      <td>16943.235000</td>\n",
              "      <td>0.000000</td>\n",
              "    </tr>\n",
              "    <tr>\n",
              "      <th>75%</th>\n",
              "      <td>82.000000</td>\n",
              "      <td>571.927500</td>\n",
              "      <td>57.000000</td>\n",
              "      <td>21424.700000</td>\n",
              "      <td>1.000000</td>\n",
              "    </tr>\n",
              "    <tr>\n",
              "      <th>max</th>\n",
              "      <td>244.000000</td>\n",
              "      <td>1632.060000</td>\n",
              "      <td>224.000000</td>\n",
              "      <td>49745.730000</td>\n",
              "      <td>1.000000</td>\n",
              "    </tr>\n",
              "  </tbody>\n",
              "</table>\n",
              "</div>"
            ],
            "text/plain": [
              "             calls      minutes     messages       mb_used     is_ultra\n",
              "count  3214.000000  3214.000000  3214.000000   3214.000000  3214.000000\n",
              "mean     63.038892   438.208787    38.281269  17207.673836     0.306472\n",
              "std      33.236368   234.569872    36.148326   7570.968246     0.461100\n",
              "min       0.000000     0.000000     0.000000      0.000000     0.000000\n",
              "25%      40.000000   274.575000     9.000000  12491.902500     0.000000\n",
              "50%      62.000000   430.600000    30.000000  16943.235000     0.000000\n",
              "75%      82.000000   571.927500    57.000000  21424.700000     1.000000\n",
              "max     244.000000  1632.060000   224.000000  49745.730000     1.000000"
            ]
          },
          "metadata": {}
        }
      ]
    },
    {
      "cell_type": "code",
      "source": "df.isna().sum()",
      "metadata": {},
      "execution_count": 5,
      "outputs": [
        {
          "execution_count": 5,
          "output_type": "execute_result",
          "data": {
            "text/plain": [
              "calls       0\n",
              "minutes     0\n",
              "messages    0\n",
              "mb_used     0\n",
              "is_ultra    0\n",
              "dtype: int64"
            ]
          },
          "metadata": {}
        }
      ]
    },
    {
      "cell_type": "code",
      "source": "df.duplicated().sum()",
      "metadata": {},
      "execution_count": 6,
      "outputs": [
        {
          "execution_count": 6,
          "output_type": "execute_result",
          "data": {
            "text/plain": [
              "0"
            ]
          },
          "metadata": {}
        }
      ]
    },
    {
      "cell_type": "code",
      "source": "df['is_ultra'].value_counts()",
      "metadata": {},
      "execution_count": 7,
      "outputs": [
        {
          "execution_count": 7,
          "output_type": "execute_result",
          "data": {
            "text/plain": [
              "0    2229\n",
              "1     985\n",
              "Name: is_ultra, dtype: int64"
            ]
          },
          "metadata": {}
        }
      ]
    },
    {
      "cell_type": "markdown",
      "source": "Вывод. \n\nПоскольку преобработка уже проведена, пропусков и других проблем с данными нет, можно брать их в работу. Выборка не очень большая, но какая есть. Количество абонентов на тарифе Ультра в 2 раза ниже, чем на тарифе, Смарт. Надо при разделении на выборки будет учесть этот момент, чтобы во всех 3-х выборках сохранилось соотношение.",
      "metadata": {}
    },
    {
      "cell_type": "markdown",
      "source": "## Подготовка обучающей, валидационной и тестовой выборок",
      "metadata": {}
    },
    {
      "cell_type": "code",
      "source": "df_train_max, df_test = train_test_split(df, test_size=0.20, random_state=12345, stratify=df['is_ultra'])\n# разделяем датасет на два - тренировочный и тестовый",
      "metadata": {},
      "execution_count": 8,
      "outputs": []
    },
    {
      "cell_type": "code",
      "source": "df_train_max['is_ultra'].value_counts()",
      "metadata": {},
      "execution_count": 9,
      "outputs": [
        {
          "execution_count": 9,
          "output_type": "execute_result",
          "data": {
            "text/plain": [
              "0    1783\n",
              "1     788\n",
              "Name: is_ultra, dtype: int64"
            ]
          },
          "metadata": {}
        }
      ]
    },
    {
      "cell_type": "code",
      "source": "df_train_max.shape\n# смотрим на размер тренировочного датасета",
      "metadata": {},
      "execution_count": 10,
      "outputs": [
        {
          "execution_count": 10,
          "output_type": "execute_result",
          "data": {
            "text/plain": [
              "(2571, 5)"
            ]
          },
          "metadata": {}
        }
      ]
    },
    {
      "cell_type": "code",
      "source": "features_train_max = df_train_max.drop(['is_ultra'], axis=1)\ntarget_train_max = df_train_max['is_ultra']\n# готовим параметры для обучения",
      "metadata": {},
      "execution_count": 11,
      "outputs": []
    },
    {
      "cell_type": "code",
      "source": "df_train, df_valid = train_test_split(df_train_max, test_size=0.25, random_state=12345, stratify=df_train_max['is_ultra'])\n# разделяем тренировочный датасет на 2 - на сам тренировочный и валидационный",
      "metadata": {},
      "execution_count": 12,
      "outputs": []
    },
    {
      "cell_type": "code",
      "source": "df_train['is_ultra'].value_counts()",
      "metadata": {},
      "execution_count": 13,
      "outputs": [
        {
          "execution_count": 13,
          "output_type": "execute_result",
          "data": {
            "text/plain": [
              "0    1337\n",
              "1     591\n",
              "Name: is_ultra, dtype: int64"
            ]
          },
          "metadata": {}
        }
      ]
    },
    {
      "cell_type": "code",
      "source": "df_train.shape\n# смотрим на размер нового тренировочного датасета",
      "metadata": {},
      "execution_count": 14,
      "outputs": [
        {
          "execution_count": 14,
          "output_type": "execute_result",
          "data": {
            "text/plain": [
              "(1928, 5)"
            ]
          },
          "metadata": {}
        }
      ]
    },
    {
      "cell_type": "code",
      "source": "features_train = df_train.drop(['is_ultra'], axis=1)\ntarget_train = df_train['is_ultra']\n# готовим параметры для обучения",
      "metadata": {},
      "execution_count": 15,
      "outputs": []
    },
    {
      "cell_type": "code",
      "source": "df_valid.shape\n# смотрим на размер валидационного датасета",
      "metadata": {},
      "execution_count": 16,
      "outputs": [
        {
          "execution_count": 16,
          "output_type": "execute_result",
          "data": {
            "text/plain": [
              "(643, 5)"
            ]
          },
          "metadata": {}
        }
      ]
    },
    {
      "cell_type": "code",
      "source": "df_valid['is_ultra'].value_counts()",
      "metadata": {},
      "execution_count": 17,
      "outputs": [
        {
          "execution_count": 17,
          "output_type": "execute_result",
          "data": {
            "text/plain": [
              "0    446\n",
              "1    197\n",
              "Name: is_ultra, dtype: int64"
            ]
          },
          "metadata": {}
        }
      ]
    },
    {
      "cell_type": "code",
      "source": "features_valid = df_valid.drop(['is_ultra'], axis=1)\ntarget_valid = df_valid['is_ultra']\n# готовим параметры для валидации",
      "metadata": {},
      "execution_count": 18,
      "outputs": []
    },
    {
      "cell_type": "code",
      "source": "df_test.shape\n# смотрим на размер тестового датасета",
      "metadata": {},
      "execution_count": 19,
      "outputs": [
        {
          "execution_count": 19,
          "output_type": "execute_result",
          "data": {
            "text/plain": [
              "(643, 5)"
            ]
          },
          "metadata": {}
        }
      ]
    },
    {
      "cell_type": "code",
      "source": "features_test = df_test.drop(['is_ultra'], axis=1)\ntarget_test = df_test['is_ultra']\n# готовим параметры для теста",
      "metadata": {},
      "execution_count": 20,
      "outputs": []
    },
    {
      "cell_type": "markdown",
      "source": "Вывод. \n\nПодготовили три выборки - для обучения (самую крупную), валидациb и тестовую (одинакового размера). Также в выборках подготовили необходимые параметры.",
      "metadata": {}
    },
    {
      "cell_type": "markdown",
      "source": "## Исследование моделей",
      "metadata": {}
    },
    {
      "cell_type": "markdown",
      "source": "### Модель \"Дерево решений\"",
      "metadata": {}
    },
    {
      "cell_type": "code",
      "source": "best_model_dt = None\nbest_result_dt = 0\naccuracy = []\ndepth_x = []\nfor depth in range(1, 21):\n    model_dt = DecisionTreeClassifier(random_state=12345, max_depth=depth)\n    model_dt.fit(features_train, target_train)\n    predictions_valid = model_dt.predict(features_valid)\n    result = accuracy_score(target_valid, predictions_valid)\n    accuracy.append(result)\n    depth_x.append(depth)\n    if result > best_result_dt:\n        best_model_dt = model_dt\n        best_result_dt = result\n    print(\"max_depth =\", depth, \": \", end='')\n    print(accuracy_score(target_valid, predictions_valid))\n# делаем цикл, которые подберёт лучшие гиперпараметры для модели",
      "metadata": {},
      "execution_count": 21,
      "outputs": [
        {
          "name": "stdout",
          "output_type": "stream",
          "text": "max_depth = 1 : 0.7589424572317263\n\nmax_depth = 2 : 0.7838258164852255\n\nmax_depth = 3 : 0.8040435458786936\n\nmax_depth = 4 : 0.8040435458786936\n\nmax_depth = 5 : 0.8164852255054432\n\nmax_depth = 6 : 0.80248833592535\n\nmax_depth = 7 : 0.807153965785381\n\nmax_depth = 8 : 0.8055987558320373\n\nmax_depth = 9 : 0.8118195956454122\n\nmax_depth = 10 : 0.8055987558320373\n\nmax_depth = 11 : 0.807153965785381\n\nmax_depth = 12 : 0.7853810264385692\n\nmax_depth = 13 : 0.7869362363919129\n\nmax_depth = 14 : 0.7838258164852255\n\nmax_depth = 15 : 0.7791601866251944\n\nmax_depth = 16 : 0.76049766718507\n\nmax_depth = 17 : 0.7511664074650077\n\nmax_depth = 18 : 0.7465007776049767\n\nmax_depth = 19 : 0.7511664074650077\n\nmax_depth = 20 : 0.7465007776049767\n"
        }
      ]
    },
    {
      "cell_type": "code",
      "source": "plt.figure(figsize=(10, 6))\nplt.plot(depth_x, accuracy)\nplt.xlabel('Max_depth')\nplt.ylabel('Accuracy')\nplt.title('Зависимсоть accuracy от гиперпараметра max_depth')\nplt.grid(True)",
      "metadata": {},
      "execution_count": 22,
      "outputs": [
        {
          "output_type": "display_data",
          "data": {
            "image/png": "[encoded data removed]",
            "text/plain": [
              "<Figure size 720x432 with 1 Axes>"
            ]
          },
          "metadata": {
            "needs_background": "light"
          }
        }
      ]
    },
    {
      "cell_type": "markdown",
      "source": "Вывод. \n\nНаибольший accuracy показывает модель с гиперпараметром depth, равном 5. Дальше, как видно по графику, происходит переобучение модели.",
      "metadata": {}
    },
    {
      "cell_type": "markdown",
      "source": "### Модель \"Случайный лес\"",
      "metadata": {}
    },
    {
      "cell_type": "code",
      "source": "best_model_rf = None\nbest_result_rf = 0\nfor est in range(1, 11):\n    model_rf = RandomForestClassifier(random_state=12345, n_estimators=est)\n    model_rf.fit(features_train, target_train)\n    result = model_rf.score(features_valid, target_valid)\n    if result > best_result_rf:\n        best_model_rf = model_rf\n        best_result_rf = result\n    print(\"max_est =\", est, \": \", end='')\n    print(model_rf.score(features_valid, target_valid))  \n# делаем цикл, которые подберёт лучшие гиперпараметры для модели",
      "metadata": {},
      "execution_count": 23,
      "outputs": [
        {
          "name": "stdout",
          "output_type": "stream",
          "text": "max_est = 1 : 0.7340590979782271\n\nmax_est = 2 : 0.7713841368584758\n\nmax_est = 3 : 0.7465007776049767\n\nmax_est = 4 : 0.7884914463452566\n\nmax_est = 5 : 0.7776049766718507\n\nmax_est = 6 : 0.7962674961119751\n\nmax_est = 7 : 0.7978227060653188\n\nmax_est = 8 : 0.7962674961119751\n\nmax_est = 9 : 0.8009331259720062\n\nmax_est = 10 : 0.8133748055987559\n"
        }
      ]
    },
    {
      "cell_type": "code",
      "source": "rfc = RandomForestClassifier()\nparam_grid = { \n    'n_estimators': range(1, 21),\n    'max_depth': range(1, 21)\n}\n\nCV_rfc = GridSearchCV(estimator=rfc, param_grid=param_grid, cv=5)\nCV_rfc.fit(features_train_max, target_train_max)\nprint(CV_rfc.best_params_)\n# пробуем подобрать лучшие гиперпараметры методом GridSearch",
      "metadata": {},
      "execution_count": 34,
      "outputs": [
        {
          "name": "stdout",
          "output_type": "stream",
          "text": "{'max_depth': 9, 'n_estimators': 15}\n"
        }
      ]
    },
    {
      "cell_type": "code",
      "source": "rfc_dt_best = RandomForestClassifier(random_state=12345, n_estimators=13, max_depth=10)\nrfc_dt_best.fit(features_train_max, target_train_max)\nrfc_dt_best.score(features_test, target_test)",
      "metadata": {},
      "execution_count": 37,
      "outputs": [
        {
          "execution_count": 37,
          "output_type": "execute_result",
          "data": {
            "text/plain": [
              "0.8195956454121306"
            ]
          },
          "metadata": {}
        }
      ]
    },
    {
      "cell_type": "markdown",
      "source": "Вывод. \n\nНаибольший accuracy показывает модель с гиперпараметром n_estimators, равном 10.",
      "metadata": {}
    },
    {
      "cell_type": "markdown",
      "source": "### Модель \"Логистическая регрессия\"",
      "metadata": {}
    },
    {
      "cell_type": "code",
      "source": "model_lr = LogisticRegression(random_state=12345, solver='lbfgs', max_iter=1000)\nmodel_lr.fit(features_train, target_train)\nmodel_lr.score(features_valid, target_valid)\n# создаём модель и смотрим на её accuracy",
      "metadata": {},
      "execution_count": 26,
      "outputs": [
        {
          "execution_count": 26,
          "output_type": "execute_result",
          "data": {
            "text/plain": [
              "0.7558320373250389"
            ]
          },
          "metadata": {}
        }
      ]
    },
    {
      "cell_type": "markdown",
      "source": "Вывод. \n\nНу тут гиперпараметры сложно перебирать, поэтому просто обучаем и запускаем модель с рекомендуемыми.",
      "metadata": {}
    },
    {
      "cell_type": "markdown",
      "source": "### Вывод.\n\nНаилучшее значение accuracy(0,81) показывает модель \"Дерево решений\" со значением max_depth=5, её и берём как основную.",
      "metadata": {}
    },
    {
      "cell_type": "markdown",
      "source": "## Проверка модели на тестовой выборке",
      "metadata": {}
    },
    {
      "cell_type": "markdown",
      "source": "### Модель \"Дерево решений\"",
      "metadata": {}
    },
    {
      "cell_type": "code",
      "source": "model_dt_best = DecisionTreeClassifier(random_state=12345, max_depth=5)\nmodel_dt_best.fit(features_train, target_train)\nmodel_dt_best.score(features_test, target_test)",
      "metadata": {},
      "execution_count": 27,
      "outputs": [
        {
          "execution_count": 27,
          "output_type": "execute_result",
          "data": {
            "text/plain": [
              "0.7962674961119751"
            ]
          },
          "metadata": {}
        }
      ]
    },
    {
      "cell_type": "markdown",
      "source": "Проверили модель с гиперпараметром, который показал наилучшие результаты на валидационной выборке.\n\nИнтересно, что на тестовой выборке наша модель показала пусть и ненамного, но хуже значение accuracy, чем на валидационной.",
      "metadata": {}
    },
    {
      "cell_type": "markdown",
      "source": "### Вывод.\n\nВсе три модели показали значение accuracy более 0,75, поэтому задачу можно считать выполненной.\n\nНа тестовой выборке наилучший результат accuracy показала модель \"Дерево решений\", что несколько неожиданно, т.к. она считается более простой и менее точной, чем тот же \"Случайный лес\". Возможно, при большей обучающей выборке или более тонкой настройке гиперпараметров модели она показала бы лучшие результаты. \n\nНа основе проведённого исследования можно рекомендовать модель \"Дерево решений\" со значением гиперпараметра max_depth=5 для дальнейшей работы.\n\nИспользовать данную модель в дальнейшем мы можем, например, анализируя то, как пользуются услугами другие абоненты (сколько минут говорят, какое количество смс отправляют и Гб интернет-трафика используют). Модель поможет нам рекомендовать абонентам наиболее подходящий под их сценарий использования тариф. Если абонент пользуется услугами много, будем предлагать ему более дорогой тариф, который будет приносить больше выручки для компании.",
      "metadata": {}
    },
    {
      "cell_type": "markdown",
      "source": "### Проверка модели на адекватность",
      "metadata": {}
    },
    {
      "cell_type": "markdown",
      "source": "Для сравнения, посмотрим какие результаты показывает базовая модель классификации при обучении на нашем обучающей выборке и какое значение accuracy будет на тестовой выборке.",
      "metadata": {}
    },
    {
      "cell_type": "code",
      "source": "dummy_clf = DummyClassifier(strategy=\"most_frequent\", random_state=12345)\ndummy_clf.fit(features_train, target_train)\ndummy_clf.score(features_test, target_test)",
      "metadata": {},
      "execution_count": 28,
      "outputs": [
        {
          "execution_count": 28,
          "output_type": "execute_result",
          "data": {
            "text/plain": [
              "0.6936236391912908"
            ]
          },
          "metadata": {}
        }
      ]
    },
    {
      "cell_type": "markdown",
      "source": "Вывод.\n\nИз полученных данных видно, что наша модель показывает существенно лучшее значение accuracy (0,79), чем базовая (0,69), что говорит о том, что наш выбор модели и настройка её гиперпараметров оправданы.",
      "metadata": {}
    }
  ]
}