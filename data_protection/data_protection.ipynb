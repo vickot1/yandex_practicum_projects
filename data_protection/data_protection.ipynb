{
  "metadata": {
    "ExecuteTimeLog": [
      {
        "duration": 658,
        "start_time": "2022-08-12T10:00:00.700Z"
      },
      {
        "duration": 119,
        "start_time": "2022-08-12T10:00:21.194Z"
      },
      {
        "duration": 89,
        "start_time": "2022-08-12T10:00:48.576Z"
      },
      {
        "duration": 12,
        "start_time": "2022-08-12T10:00:56.269Z"
      },
      {
        "duration": 18,
        "start_time": "2022-08-12T10:01:03.845Z"
      },
      {
        "duration": 26,
        "start_time": "2022-08-12T10:01:24.593Z"
      },
      {
        "duration": 6,
        "start_time": "2022-08-12T10:01:36.262Z"
      },
      {
        "duration": 6,
        "start_time": "2022-08-12T10:01:53.613Z"
      },
      {
        "duration": 13,
        "start_time": "2022-08-12T10:02:14.384Z"
      },
      {
        "duration": 25,
        "start_time": "2022-08-12T10:04:12.286Z"
      },
      {
        "duration": 13,
        "start_time": "2022-08-12T10:04:40.949Z"
      },
      {
        "duration": 4,
        "start_time": "2022-08-12T10:58:06.024Z"
      },
      {
        "duration": 197,
        "start_time": "2022-08-12T10:58:22.709Z"
      },
      {
        "duration": 246,
        "start_time": "2022-08-12T10:59:10.454Z"
      },
      {
        "duration": 30,
        "start_time": "2022-08-12T10:59:20.721Z"
      },
      {
        "duration": 400,
        "start_time": "2022-08-12T11:03:29.460Z"
      },
      {
        "duration": 36,
        "start_time": "2022-08-12T11:06:05.082Z"
      },
      {
        "duration": 6,
        "start_time": "2022-08-12T11:07:22.229Z"
      },
      {
        "duration": 4,
        "start_time": "2022-08-12T11:07:38.075Z"
      },
      {
        "duration": 5,
        "start_time": "2022-08-12T11:09:10.966Z"
      },
      {
        "duration": 3,
        "start_time": "2022-08-12T11:10:09.104Z"
      },
      {
        "duration": 9,
        "start_time": "2022-08-12T11:11:31.175Z"
      },
      {
        "duration": 31,
        "start_time": "2022-08-12T11:12:14.309Z"
      },
      {
        "duration": 6,
        "start_time": "2022-08-12T11:12:18.834Z"
      },
      {
        "duration": 25,
        "start_time": "2022-08-12T11:14:50.835Z"
      },
      {
        "duration": 352,
        "start_time": "2022-08-12T12:12:59.386Z"
      },
      {
        "duration": 348,
        "start_time": "2022-08-12T12:13:19.626Z"
      },
      {
        "duration": 4,
        "start_time": "2022-08-12T12:46:12.240Z"
      },
      {
        "duration": 33,
        "start_time": "2022-08-12T12:46:30.750Z"
      },
      {
        "duration": 5,
        "start_time": "2022-08-12T12:48:19.639Z"
      },
      {
        "duration": 13,
        "start_time": "2022-08-12T12:49:12.187Z"
      },
      {
        "duration": 5,
        "start_time": "2022-08-12T12:49:22.970Z"
      },
      {
        "duration": 10,
        "start_time": "2022-08-12T12:49:23.984Z"
      },
      {
        "duration": 14,
        "start_time": "2022-08-12T12:49:35.894Z"
      },
      {
        "duration": 227,
        "start_time": "2022-08-12T12:49:53.346Z"
      },
      {
        "duration": 4,
        "start_time": "2022-08-12T12:50:02.202Z"
      },
      {
        "duration": 13,
        "start_time": "2022-08-12T12:50:07.236Z"
      },
      {
        "duration": 10,
        "start_time": "2022-08-12T12:57:49.675Z"
      },
      {
        "duration": 50,
        "start_time": "2022-08-13T11:19:19.144Z"
      },
      {
        "duration": 1077,
        "start_time": "2022-08-13T11:19:24.227Z"
      },
      {
        "duration": 91,
        "start_time": "2022-08-13T11:19:25.305Z"
      },
      {
        "duration": 13,
        "start_time": "2022-08-13T11:19:25.398Z"
      },
      {
        "duration": 17,
        "start_time": "2022-08-13T11:19:25.413Z"
      },
      {
        "duration": 24,
        "start_time": "2022-08-13T11:19:25.433Z"
      },
      {
        "duration": 5,
        "start_time": "2022-08-13T11:19:25.459Z"
      },
      {
        "duration": 29,
        "start_time": "2022-08-13T11:19:25.466Z"
      },
      {
        "duration": 6,
        "start_time": "2022-08-13T11:19:25.497Z"
      },
      {
        "duration": 7,
        "start_time": "2022-08-13T11:19:25.505Z"
      },
      {
        "duration": 6,
        "start_time": "2022-08-13T11:19:25.514Z"
      },
      {
        "duration": 5,
        "start_time": "2022-08-13T11:19:25.521Z"
      },
      {
        "duration": 13,
        "start_time": "2022-08-13T11:19:25.528Z"
      },
      {
        "duration": 52,
        "start_time": "2022-08-13T11:19:25.542Z"
      },
      {
        "duration": 109,
        "start_time": "2022-08-13T11:19:25.597Z"
      },
      {
        "duration": 5,
        "start_time": "2022-08-13T11:19:25.708Z"
      },
      {
        "duration": 117,
        "start_time": "2022-08-13T11:19:25.714Z"
      },
      {
        "duration": 14,
        "start_time": "2022-08-13T11:27:21.704Z"
      },
      {
        "duration": 4,
        "start_time": "2022-08-13T11:27:46.595Z"
      },
      {
        "duration": 6,
        "start_time": "2022-08-13T11:28:13.904Z"
      },
      {
        "duration": 18,
        "start_time": "2022-08-13T11:28:59.388Z"
      },
      {
        "duration": 5,
        "start_time": "2022-08-13T11:29:20.079Z"
      },
      {
        "duration": 5,
        "start_time": "2022-08-13T11:29:55.678Z"
      },
      {
        "duration": 7,
        "start_time": "2022-08-13T11:30:02.488Z"
      },
      {
        "duration": 5,
        "start_time": "2022-08-13T11:30:19.642Z"
      },
      {
        "duration": 4,
        "start_time": "2022-08-13T11:30:20.138Z"
      },
      {
        "duration": 4,
        "start_time": "2022-08-13T11:30:25.301Z"
      },
      {
        "duration": 5,
        "start_time": "2022-08-13T11:30:41.769Z"
      },
      {
        "duration": 13,
        "start_time": "2022-08-13T11:30:43.846Z"
      },
      {
        "duration": 7,
        "start_time": "2022-08-13T11:30:53.288Z"
      },
      {
        "duration": 10,
        "start_time": "2022-08-13T11:31:50.078Z"
      },
      {
        "duration": 6,
        "start_time": "2022-08-13T11:32:02.065Z"
      },
      {
        "duration": 7,
        "start_time": "2022-08-13T11:32:04.646Z"
      },
      {
        "duration": 6,
        "start_time": "2022-08-13T11:32:13.737Z"
      },
      {
        "duration": 85,
        "start_time": "2022-08-13T14:06:04.941Z"
      },
      {
        "duration": 1001,
        "start_time": "2022-08-13T16:55:54.340Z"
      },
      {
        "duration": 80,
        "start_time": "2022-08-13T16:55:55.343Z"
      },
      {
        "duration": 12,
        "start_time": "2022-08-13T16:55:55.424Z"
      },
      {
        "duration": 16,
        "start_time": "2022-08-13T16:55:55.438Z"
      },
      {
        "duration": 22,
        "start_time": "2022-08-13T16:55:55.456Z"
      },
      {
        "duration": 6,
        "start_time": "2022-08-13T16:55:55.480Z"
      },
      {
        "duration": 109,
        "start_time": "2022-08-13T16:55:55.487Z"
      },
      {
        "duration": 0,
        "start_time": "2022-08-13T16:55:55.599Z"
      },
      {
        "duration": 0,
        "start_time": "2022-08-13T16:55:55.608Z"
      },
      {
        "duration": 1,
        "start_time": "2022-08-13T16:55:55.609Z"
      },
      {
        "duration": 0,
        "start_time": "2022-08-13T16:55:55.611Z"
      },
      {
        "duration": 0,
        "start_time": "2022-08-13T16:55:55.612Z"
      },
      {
        "duration": 0,
        "start_time": "2022-08-13T16:55:55.613Z"
      },
      {
        "duration": 0,
        "start_time": "2022-08-13T16:55:55.615Z"
      },
      {
        "duration": 0,
        "start_time": "2022-08-13T16:55:55.616Z"
      },
      {
        "duration": 0,
        "start_time": "2022-08-13T16:55:55.618Z"
      },
      {
        "duration": 0,
        "start_time": "2022-08-13T16:55:55.619Z"
      },
      {
        "duration": 0,
        "start_time": "2022-08-13T16:55:55.621Z"
      },
      {
        "duration": 4,
        "start_time": "2022-08-13T16:56:14.313Z"
      },
      {
        "duration": 4,
        "start_time": "2022-08-13T16:56:18.409Z"
      },
      {
        "duration": 5,
        "start_time": "2022-08-13T16:56:23.017Z"
      },
      {
        "duration": 4,
        "start_time": "2022-08-13T16:56:25.654Z"
      },
      {
        "duration": 6,
        "start_time": "2022-08-13T16:56:28.443Z"
      },
      {
        "duration": 4,
        "start_time": "2022-08-13T16:56:30.095Z"
      },
      {
        "duration": 5,
        "start_time": "2022-08-13T16:56:32.736Z"
      },
      {
        "duration": 18,
        "start_time": "2022-08-13T16:56:35.953Z"
      },
      {
        "duration": 9,
        "start_time": "2022-08-13T16:57:28.685Z"
      },
      {
        "duration": 7,
        "start_time": "2022-08-13T16:57:31.183Z"
      },
      {
        "duration": 5,
        "start_time": "2022-08-13T17:04:23.760Z"
      },
      {
        "duration": 4,
        "start_time": "2022-08-13T17:04:52.739Z"
      },
      {
        "duration": 4,
        "start_time": "2022-08-13T17:07:20.796Z"
      },
      {
        "duration": 4,
        "start_time": "2022-08-13T17:07:21.938Z"
      },
      {
        "duration": 52,
        "start_time": "2022-08-13T17:21:13.906Z"
      },
      {
        "duration": 1135,
        "start_time": "2022-08-14T17:19:14.287Z"
      },
      {
        "duration": 96,
        "start_time": "2022-08-14T17:19:15.424Z"
      },
      {
        "duration": 14,
        "start_time": "2022-08-14T17:19:15.522Z"
      },
      {
        "duration": 18,
        "start_time": "2022-08-14T17:19:15.538Z"
      },
      {
        "duration": 23,
        "start_time": "2022-08-14T17:19:15.558Z"
      },
      {
        "duration": 6,
        "start_time": "2022-08-14T17:19:15.583Z"
      },
      {
        "duration": 119,
        "start_time": "2022-08-14T17:19:15.590Z"
      },
      {
        "duration": 0,
        "start_time": "2022-08-14T17:19:15.711Z"
      },
      {
        "duration": 0,
        "start_time": "2022-08-14T17:19:15.712Z"
      },
      {
        "duration": 0,
        "start_time": "2022-08-14T17:19:15.713Z"
      },
      {
        "duration": 0,
        "start_time": "2022-08-14T17:19:15.714Z"
      },
      {
        "duration": 0,
        "start_time": "2022-08-14T17:19:15.716Z"
      },
      {
        "duration": 0,
        "start_time": "2022-08-14T17:19:15.717Z"
      },
      {
        "duration": 0,
        "start_time": "2022-08-14T17:19:15.718Z"
      },
      {
        "duration": 0,
        "start_time": "2022-08-14T17:19:15.719Z"
      },
      {
        "duration": 0,
        "start_time": "2022-08-14T17:19:15.720Z"
      },
      {
        "duration": 0,
        "start_time": "2022-08-14T17:19:15.721Z"
      },
      {
        "duration": 5,
        "start_time": "2022-08-14T17:20:21.454Z"
      },
      {
        "duration": 6,
        "start_time": "2022-08-14T17:23:36.194Z"
      },
      {
        "duration": 18,
        "start_time": "2022-08-14T17:24:39.071Z"
      },
      {
        "duration": 26,
        "start_time": "2022-08-14T17:25:41.125Z"
      },
      {
        "duration": 6,
        "start_time": "2022-08-14T17:25:58.409Z"
      },
      {
        "duration": 4,
        "start_time": "2022-08-14T17:26:06.018Z"
      },
      {
        "duration": 30,
        "start_time": "2022-08-14T17:26:06.424Z"
      },
      {
        "duration": 12,
        "start_time": "2022-08-14T17:26:06.891Z"
      },
      {
        "duration": 13,
        "start_time": "2022-08-14T17:26:07.520Z"
      },
      {
        "duration": 37,
        "start_time": "2022-08-14T17:26:09.436Z"
      },
      {
        "duration": 8,
        "start_time": "2022-08-14T17:26:09.968Z"
      },
      {
        "duration": 6,
        "start_time": "2022-08-14T17:26:13.487Z"
      },
      {
        "duration": 6,
        "start_time": "2022-08-14T17:26:24.454Z"
      },
      {
        "duration": 12,
        "start_time": "2022-08-14T17:26:25.236Z"
      },
      {
        "duration": 1248,
        "start_time": "2022-08-14T17:31:47.659Z"
      },
      {
        "duration": 15,
        "start_time": "2022-08-14T17:32:09.464Z"
      },
      {
        "duration": 13,
        "start_time": "2022-08-14T17:32:24.220Z"
      },
      {
        "duration": 79,
        "start_time": "2022-08-14T17:33:01.667Z"
      },
      {
        "duration": 12,
        "start_time": "2022-08-14T17:33:10.042Z"
      },
      {
        "duration": 3,
        "start_time": "2022-08-14T17:53:28.458Z"
      },
      {
        "duration": 5,
        "start_time": "2022-08-14T17:53:29.582Z"
      },
      {
        "duration": 5,
        "start_time": "2022-08-14T17:53:40.882Z"
      },
      {
        "duration": 5,
        "start_time": "2022-08-14T17:53:49.864Z"
      },
      {
        "duration": 3,
        "start_time": "2022-08-14T17:53:54.654Z"
      },
      {
        "duration": 5,
        "start_time": "2022-08-14T17:53:55.389Z"
      },
      {
        "duration": 4,
        "start_time": "2022-08-14T17:54:01.305Z"
      },
      {
        "duration": 3,
        "start_time": "2022-08-14T17:54:05.967Z"
      },
      {
        "duration": 6,
        "start_time": "2022-08-14T17:54:06.491Z"
      },
      {
        "duration": 3,
        "start_time": "2022-08-14T18:07:51.409Z"
      },
      {
        "duration": 11,
        "start_time": "2022-08-14T18:07:52.181Z"
      },
      {
        "duration": 4,
        "start_time": "2022-08-14T18:08:05.959Z"
      },
      {
        "duration": 3,
        "start_time": "2022-08-14T18:08:16.424Z"
      },
      {
        "duration": 11,
        "start_time": "2022-08-14T18:08:17.368Z"
      },
      {
        "duration": 4,
        "start_time": "2022-08-14T18:08:18.266Z"
      },
      {
        "duration": 3,
        "start_time": "2022-08-14T18:08:36.628Z"
      },
      {
        "duration": 11,
        "start_time": "2022-08-14T18:08:37.907Z"
      },
      {
        "duration": 4,
        "start_time": "2022-08-14T18:08:38.476Z"
      },
      {
        "duration": 9,
        "start_time": "2022-08-14T18:08:42.936Z"
      },
      {
        "duration": 4,
        "start_time": "2022-08-14T18:08:43.455Z"
      },
      {
        "duration": 2,
        "start_time": "2022-08-14T18:08:47.594Z"
      },
      {
        "duration": 11,
        "start_time": "2022-08-14T18:08:48.100Z"
      },
      {
        "duration": 4,
        "start_time": "2022-08-14T18:08:48.572Z"
      },
      {
        "duration": 6,
        "start_time": "2022-08-14T18:09:42.932Z"
      },
      {
        "duration": 5,
        "start_time": "2022-08-14T18:10:01.532Z"
      },
      {
        "duration": 3,
        "start_time": "2022-08-14T18:10:45.608Z"
      },
      {
        "duration": 3,
        "start_time": "2022-08-14T18:10:46.053Z"
      },
      {
        "duration": 5,
        "start_time": "2022-08-14T18:10:46.983Z"
      },
      {
        "duration": 6,
        "start_time": "2022-08-14T18:10:51.835Z"
      },
      {
        "duration": 3,
        "start_time": "2022-08-14T18:11:42.041Z"
      },
      {
        "duration": 4,
        "start_time": "2022-08-14T18:11:42.629Z"
      },
      {
        "duration": 4,
        "start_time": "2022-08-14T18:11:43.600Z"
      },
      {
        "duration": 5,
        "start_time": "2022-08-14T18:11:50.325Z"
      },
      {
        "duration": 5,
        "start_time": "2022-08-14T18:29:51.642Z"
      },
      {
        "duration": 4,
        "start_time": "2022-08-14T18:29:52.304Z"
      },
      {
        "duration": 6,
        "start_time": "2022-08-14T18:29:55.387Z"
      },
      {
        "duration": 4,
        "start_time": "2022-08-14T18:29:59.002Z"
      },
      {
        "duration": 6,
        "start_time": "2022-08-14T18:30:28.208Z"
      },
      {
        "duration": 12,
        "start_time": "2022-08-14T18:31:19.897Z"
      },
      {
        "duration": 9,
        "start_time": "2022-08-14T18:31:23.044Z"
      },
      {
        "duration": 8,
        "start_time": "2022-08-14T18:31:25.796Z"
      },
      {
        "duration": 24,
        "start_time": "2022-08-14T18:38:50.930Z"
      },
      {
        "duration": 19,
        "start_time": "2022-08-14T18:39:12.166Z"
      },
      {
        "duration": 14,
        "start_time": "2022-08-14T18:39:25.139Z"
      },
      {
        "duration": 10,
        "start_time": "2022-08-14T18:39:59.409Z"
      },
      {
        "duration": 12,
        "start_time": "2022-08-14T18:40:18.838Z"
      },
      {
        "duration": 11,
        "start_time": "2022-08-14T18:43:31.516Z"
      },
      {
        "duration": 3,
        "start_time": "2022-08-14T18:44:02.936Z"
      },
      {
        "duration": 10,
        "start_time": "2022-08-14T18:44:06.599Z"
      },
      {
        "duration": 12,
        "start_time": "2022-08-14T18:45:02.076Z"
      },
      {
        "duration": 15,
        "start_time": "2022-08-14T18:45:19.669Z"
      },
      {
        "duration": 15,
        "start_time": "2022-08-14T18:45:31.110Z"
      },
      {
        "duration": 15,
        "start_time": "2022-08-14T18:46:04.536Z"
      },
      {
        "duration": 21,
        "start_time": "2022-08-14T18:46:16.438Z"
      },
      {
        "duration": 13,
        "start_time": "2022-08-14T18:48:52.476Z"
      },
      {
        "duration": 14,
        "start_time": "2022-08-14T18:50:39.394Z"
      },
      {
        "duration": 14,
        "start_time": "2022-08-14T18:50:54.775Z"
      },
      {
        "duration": 4,
        "start_time": "2022-08-14T18:51:58.167Z"
      },
      {
        "duration": 14,
        "start_time": "2022-08-14T18:52:10.984Z"
      },
      {
        "duration": 3,
        "start_time": "2022-08-14T18:52:25.734Z"
      },
      {
        "duration": 4,
        "start_time": "2022-08-14T18:52:26.327Z"
      },
      {
        "duration": 4,
        "start_time": "2022-08-14T18:52:28.429Z"
      },
      {
        "duration": 4,
        "start_time": "2022-08-14T18:52:32.465Z"
      },
      {
        "duration": 6,
        "start_time": "2022-08-14T18:52:34.225Z"
      },
      {
        "duration": 4,
        "start_time": "2022-08-14T18:52:34.405Z"
      },
      {
        "duration": 6,
        "start_time": "2022-08-14T18:52:34.791Z"
      },
      {
        "duration": 4,
        "start_time": "2022-08-14T18:52:35.177Z"
      },
      {
        "duration": 6,
        "start_time": "2022-08-14T18:52:35.560Z"
      },
      {
        "duration": 13,
        "start_time": "2022-08-14T18:52:36.841Z"
      },
      {
        "duration": 10,
        "start_time": "2022-08-14T18:52:38.408Z"
      },
      {
        "duration": 10,
        "start_time": "2022-08-14T18:52:39.638Z"
      },
      {
        "duration": 16,
        "start_time": "2022-08-14T18:52:41.144Z"
      },
      {
        "duration": 15,
        "start_time": "2022-08-14T18:53:20.168Z"
      },
      {
        "duration": 18,
        "start_time": "2022-08-14T18:53:39.268Z"
      },
      {
        "duration": 21,
        "start_time": "2022-08-14T18:53:49.365Z"
      },
      {
        "duration": 15,
        "start_time": "2022-08-14T18:53:58.666Z"
      },
      {
        "duration": 15,
        "start_time": "2022-08-14T18:56:16.383Z"
      },
      {
        "duration": 18,
        "start_time": "2022-08-14T18:56:56.983Z"
      },
      {
        "duration": 15,
        "start_time": "2022-08-14T18:57:42.323Z"
      },
      {
        "duration": 15,
        "start_time": "2022-08-14T18:57:51.001Z"
      },
      {
        "duration": 16,
        "start_time": "2022-08-14T18:58:52.722Z"
      },
      {
        "duration": 16,
        "start_time": "2022-08-14T18:59:05.599Z"
      },
      {
        "duration": 21,
        "start_time": "2022-08-14T19:01:16.546Z"
      },
      {
        "duration": 15,
        "start_time": "2022-08-14T19:01:51.069Z"
      },
      {
        "duration": 21,
        "start_time": "2022-08-14T19:04:04.030Z"
      },
      {
        "duration": 19,
        "start_time": "2022-08-14T19:07:39.548Z"
      },
      {
        "duration": 1117,
        "start_time": "2022-08-14T19:16:31.645Z"
      },
      {
        "duration": 30,
        "start_time": "2022-08-14T19:16:32.764Z"
      },
      {
        "duration": 13,
        "start_time": "2022-08-14T19:16:32.795Z"
      },
      {
        "duration": 16,
        "start_time": "2022-08-14T19:16:32.810Z"
      },
      {
        "duration": 25,
        "start_time": "2022-08-14T19:16:32.828Z"
      },
      {
        "duration": 17,
        "start_time": "2022-08-14T19:16:32.855Z"
      },
      {
        "duration": 6,
        "start_time": "2022-08-14T19:16:32.874Z"
      },
      {
        "duration": 8,
        "start_time": "2022-08-14T19:16:32.881Z"
      },
      {
        "duration": 15,
        "start_time": "2022-08-14T19:16:32.891Z"
      },
      {
        "duration": 11,
        "start_time": "2022-08-14T19:16:32.909Z"
      },
      {
        "duration": 3,
        "start_time": "2022-08-14T19:16:32.921Z"
      },
      {
        "duration": 7,
        "start_time": "2022-08-14T19:16:32.926Z"
      },
      {
        "duration": 34,
        "start_time": "2022-08-14T19:16:32.935Z"
      },
      {
        "duration": 8,
        "start_time": "2022-08-14T19:16:32.972Z"
      },
      {
        "duration": 7,
        "start_time": "2022-08-14T19:16:32.982Z"
      },
      {
        "duration": 5,
        "start_time": "2022-08-14T19:16:32.991Z"
      },
      {
        "duration": 7,
        "start_time": "2022-08-14T19:16:32.998Z"
      },
      {
        "duration": 7,
        "start_time": "2022-08-14T19:16:33.006Z"
      },
      {
        "duration": 7,
        "start_time": "2022-08-14T19:16:33.014Z"
      },
      {
        "duration": 16,
        "start_time": "2022-08-14T19:16:33.023Z"
      },
      {
        "duration": 10,
        "start_time": "2022-08-14T19:16:33.069Z"
      },
      {
        "duration": 14,
        "start_time": "2022-08-14T19:16:33.080Z"
      },
      {
        "duration": 88,
        "start_time": "2022-08-14T19:16:33.096Z"
      }
    ],
    "kernelspec": {
      "name": "python",
      "display_name": "Python (Pyodide)",
      "language": "python"
    },
    "language_info": {
      "codemirror_mode": {
        "name": "python",
        "version": 3
      },
      "file_extension": ".py",
      "mimetype": "text/x-python",
      "name": "python",
      "nbconvert_exporter": "python",
      "pygments_lexer": "ipython3",
      "version": "3.8"
    },
    "toc": {
      "base_numbering": 1,
      "nav_menu": {},
      "number_sections": true,
      "sideBar": true,
      "skip_h1_title": true,
      "title_cell": "Содержание",
      "title_sidebar": "Contents",
      "toc_cell": true,
      "toc_position": {
        "height": "calc(100% - 180px)",
        "left": "10px",
        "top": "150px",
        "width": "165px"
      },
      "toc_section_display": true,
      "toc_window_display": true
    }
  },
  "nbformat_minor": 4,
  "nbformat": 4,
  "cells": [
    {
      "cell_type": "markdown",
      "source": "<h1>Содержание<span class=\"tocSkip\"></span></h1>\n<div class=\"toc\"><ul class=\"toc-item\"><li><span><a href=\"#Загрузка-данных\" data-toc-modified-id=\"Загрузка-данных-1\"><span class=\"toc-item-num\">1&nbsp;&nbsp;</span>Загрузка данных</a></span></li><li><span><a href=\"#Умножение-матриц\" data-toc-modified-id=\"Умножение-матриц-2\"><span class=\"toc-item-num\">2&nbsp;&nbsp;</span>Умножение матриц</a></span></li><li><span><a href=\"#Алгоритм-преобразования-данных\" data-toc-modified-id=\"Алгоритм-преобразования-данных-3\"><span class=\"toc-item-num\">3&nbsp;&nbsp;</span>Алгоритм преобразования данных</a></span></li><li><span><a href=\"#Проверка-алгоритма\" data-toc-modified-id=\"Проверка-алгоритма-4\"><span class=\"toc-item-num\">4&nbsp;&nbsp;</span>Проверка алгоритма</a></span><ul class=\"toc-item\"><li><span><a href=\"#Генерация-обратимой-матрицы\" data-toc-modified-id=\"Генерация-обратимой-матрицы-4.1\"><span class=\"toc-item-num\">4.1&nbsp;&nbsp;</span>Генерация обратимой матрицы</a></span></li><li><span><a href=\"#Проверка-матрицы-на-обратимость\" data-toc-modified-id=\"Проверка-матрицы-на-обратимость-4.2\"><span class=\"toc-item-num\">4.2&nbsp;&nbsp;</span>Проверка матрицы на обратимость</a></span></li><li><span><a href=\"#Выделение-признаков-из-датасета\" data-toc-modified-id=\"Выделение-признаков-из-датасета-4.3\"><span class=\"toc-item-num\">4.3&nbsp;&nbsp;</span>Выделение признаков из датасета</a></span></li><li><span><a href=\"#Преобразование-признаков\" data-toc-modified-id=\"Преобразование-признаков-4.4\"><span class=\"toc-item-num\">4.4&nbsp;&nbsp;</span>Преобразование признаков</a></span></li><li><span><a href=\"#Сравнение-признаков-до-и-после-преобразования\" data-toc-modified-id=\"Сравнение-признаков-до-и-после-преобразования-4.5\"><span class=\"toc-item-num\">4.5&nbsp;&nbsp;</span>Сравнение признаков до и после преобразования</a></span></li><li><span><a href=\"#Обучение-и-проверка-линейной-регрессии-на-изначальных-признаках\" data-toc-modified-id=\"Обучение-и-проверка-линейной-регрессии-на-изначальных-признаках-4.6\"><span class=\"toc-item-num\">4.6&nbsp;&nbsp;</span>Обучение и проверка линейной регрессии на изначальных признаках</a></span></li><li><span><a href=\"#Обучение-и-проверка-модели-на-изменённых-признаках\" data-toc-modified-id=\"Обучение-и-проверка-модели-на-изменённых-признаках-4.7\"><span class=\"toc-item-num\">4.7&nbsp;&nbsp;</span>Обучение и проверка модели на изменённых признаках</a></span></li><li><span><a href=\"#Расшифровка-данных\" data-toc-modified-id=\"Расшифровка-данных-4.8\"><span class=\"toc-item-num\">4.8&nbsp;&nbsp;</span>Расшифровка данных</a></span></li><li><span><a href=\"#Вывод\" data-toc-modified-id=\"Вывод-4.9\"><span class=\"toc-item-num\">4.9&nbsp;&nbsp;</span>Вывод</a></span></li></ul></li><li><span><a href=\"#Выводы\" data-toc-modified-id=\"Выводы-5\"><span class=\"toc-item-num\">5&nbsp;&nbsp;</span>Выводы</a></span></li><li><span><a href=\"#Чек-лист-проверки\" data-toc-modified-id=\"Чек-лист-проверки-6\"><span class=\"toc-item-num\">6&nbsp;&nbsp;</span>Чек-лист проверки</a></span></li></ul></div>",
      "metadata": {
        "toc": true
      }
    },
    {
      "cell_type": "markdown",
      "source": "# Защита персональных данных клиентов",
      "metadata": {}
    },
    {
      "cell_type": "markdown",
      "source": "Вам нужно защитить данные клиентов страховой компании «Хоть потоп». Разработайте такой метод преобразования данных, чтобы по ним было сложно восстановить персональную информацию. Обоснуйте корректность его работы.\n\nНужно защитить данные, чтобы при преобразовании качество моделей машинного обучения не ухудшилось. Подбирать наилучшую модель не требуется.",
      "metadata": {}
    },
    {
      "cell_type": "markdown",
      "source": "## Загрузка данных",
      "metadata": {}
    },
    {
      "cell_type": "code",
      "source": "import pandas as pd\nimport numpy as np\nfrom scipy.spatial import distance\nfrom sklearn.linear_model import LinearRegression\nfrom sklearn.metrics import r2_score\nfrom sklearn.model_selection import train_test_split\nimport math\n# импортируем необходимые библиотеки",
      "metadata": {},
      "execution_count": 1,
      "outputs": []
    },
    {
      "cell_type": "code",
      "source": "df = pd.read_csv('/datasets/insurance.csv')\n# читаем датасет",
      "metadata": {},
      "execution_count": 2,
      "outputs": []
    },
    {
      "cell_type": "code",
      "source": "df.info()\n# смотрим общую информацию о датасете",
      "metadata": {},
      "execution_count": 3,
      "outputs": [
        {
          "name": "stdout",
          "output_type": "stream",
          "text": "<class 'pandas.core.frame.DataFrame'>\n\nRangeIndex: 5000 entries, 0 to 4999\n\nData columns (total 5 columns):\n\n #   Column             Non-Null Count  Dtype  \n\n---  ------             --------------  -----  \n\n 0   Пол                5000 non-null   int64  \n\n 1   Возраст            5000 non-null   float64\n\n 2   Зарплата           5000 non-null   float64\n\n 3   Члены семьи        5000 non-null   int64  \n\n 4   Страховые выплаты  5000 non-null   int64  \n\ndtypes: float64(2), int64(3)\n\nmemory usage: 195.4 KB\n"
        }
      ]
    },
    {
      "cell_type": "code",
      "source": "df.head()\n# выводим первые 5 строк датасета для ознакомления",
      "metadata": {},
      "execution_count": 4,
      "outputs": [
        {
          "execution_count": 4,
          "output_type": "execute_result",
          "data": {
            "text/html": [
              "<div>\n",
              "<style scoped>\n",
              "    .dataframe tbody tr th:only-of-type {\n",
              "        vertical-align: middle;\n",
              "    }\n",
              "\n",
              "    .dataframe tbody tr th {\n",
              "        vertical-align: top;\n",
              "    }\n",
              "\n",
              "    .dataframe thead th {\n",
              "        text-align: right;\n",
              "    }\n",
              "</style>\n",
              "<table border=\"1\" class=\"dataframe\">\n",
              "  <thead>\n",
              "    <tr style=\"text-align: right;\">\n",
              "      <th></th>\n",
              "      <th>Пол</th>\n",
              "      <th>Возраст</th>\n",
              "      <th>Зарплата</th>\n",
              "      <th>Члены семьи</th>\n",
              "      <th>Страховые выплаты</th>\n",
              "    </tr>\n",
              "  </thead>\n",
              "  <tbody>\n",
              "    <tr>\n",
              "      <th>0</th>\n",
              "      <td>1</td>\n",
              "      <td>41.0</td>\n",
              "      <td>49600.0</td>\n",
              "      <td>1</td>\n",
              "      <td>0</td>\n",
              "    </tr>\n",
              "    <tr>\n",
              "      <th>1</th>\n",
              "      <td>0</td>\n",
              "      <td>46.0</td>\n",
              "      <td>38000.0</td>\n",
              "      <td>1</td>\n",
              "      <td>1</td>\n",
              "    </tr>\n",
              "    <tr>\n",
              "      <th>2</th>\n",
              "      <td>0</td>\n",
              "      <td>29.0</td>\n",
              "      <td>21000.0</td>\n",
              "      <td>0</td>\n",
              "      <td>0</td>\n",
              "    </tr>\n",
              "    <tr>\n",
              "      <th>3</th>\n",
              "      <td>0</td>\n",
              "      <td>21.0</td>\n",
              "      <td>41700.0</td>\n",
              "      <td>2</td>\n",
              "      <td>0</td>\n",
              "    </tr>\n",
              "    <tr>\n",
              "      <th>4</th>\n",
              "      <td>1</td>\n",
              "      <td>28.0</td>\n",
              "      <td>26100.0</td>\n",
              "      <td>0</td>\n",
              "      <td>0</td>\n",
              "    </tr>\n",
              "  </tbody>\n",
              "</table>\n",
              "</div>"
            ],
            "text/plain": [
              "   Пол  Возраст  Зарплата  Члены семьи  Страховые выплаты\n",
              "0    1     41.0   49600.0            1                  0\n",
              "1    0     46.0   38000.0            1                  1\n",
              "2    0     29.0   21000.0            0                  0\n",
              "3    0     21.0   41700.0            2                  0\n",
              "4    1     28.0   26100.0            0                  0"
            ]
          },
          "metadata": {}
        }
      ]
    },
    {
      "cell_type": "code",
      "source": "df.describe()\n# смотрим общую информацию о данных датасета",
      "metadata": {
        "scrolled": true
      },
      "execution_count": 5,
      "outputs": [
        {
          "execution_count": 5,
          "output_type": "execute_result",
          "data": {
            "text/html": [
              "<div>\n",
              "<style scoped>\n",
              "    .dataframe tbody tr th:only-of-type {\n",
              "        vertical-align: middle;\n",
              "    }\n",
              "\n",
              "    .dataframe tbody tr th {\n",
              "        vertical-align: top;\n",
              "    }\n",
              "\n",
              "    .dataframe thead th {\n",
              "        text-align: right;\n",
              "    }\n",
              "</style>\n",
              "<table border=\"1\" class=\"dataframe\">\n",
              "  <thead>\n",
              "    <tr style=\"text-align: right;\">\n",
              "      <th></th>\n",
              "      <th>Пол</th>\n",
              "      <th>Возраст</th>\n",
              "      <th>Зарплата</th>\n",
              "      <th>Члены семьи</th>\n",
              "      <th>Страховые выплаты</th>\n",
              "    </tr>\n",
              "  </thead>\n",
              "  <tbody>\n",
              "    <tr>\n",
              "      <th>count</th>\n",
              "      <td>5000.000000</td>\n",
              "      <td>5000.000000</td>\n",
              "      <td>5000.000000</td>\n",
              "      <td>5000.000000</td>\n",
              "      <td>5000.000000</td>\n",
              "    </tr>\n",
              "    <tr>\n",
              "      <th>mean</th>\n",
              "      <td>0.499000</td>\n",
              "      <td>30.952800</td>\n",
              "      <td>39916.360000</td>\n",
              "      <td>1.194200</td>\n",
              "      <td>0.148000</td>\n",
              "    </tr>\n",
              "    <tr>\n",
              "      <th>std</th>\n",
              "      <td>0.500049</td>\n",
              "      <td>8.440807</td>\n",
              "      <td>9900.083569</td>\n",
              "      <td>1.091387</td>\n",
              "      <td>0.463183</td>\n",
              "    </tr>\n",
              "    <tr>\n",
              "      <th>min</th>\n",
              "      <td>0.000000</td>\n",
              "      <td>18.000000</td>\n",
              "      <td>5300.000000</td>\n",
              "      <td>0.000000</td>\n",
              "      <td>0.000000</td>\n",
              "    </tr>\n",
              "    <tr>\n",
              "      <th>25%</th>\n",
              "      <td>0.000000</td>\n",
              "      <td>24.000000</td>\n",
              "      <td>33300.000000</td>\n",
              "      <td>0.000000</td>\n",
              "      <td>0.000000</td>\n",
              "    </tr>\n",
              "    <tr>\n",
              "      <th>50%</th>\n",
              "      <td>0.000000</td>\n",
              "      <td>30.000000</td>\n",
              "      <td>40200.000000</td>\n",
              "      <td>1.000000</td>\n",
              "      <td>0.000000</td>\n",
              "    </tr>\n",
              "    <tr>\n",
              "      <th>75%</th>\n",
              "      <td>1.000000</td>\n",
              "      <td>37.000000</td>\n",
              "      <td>46600.000000</td>\n",
              "      <td>2.000000</td>\n",
              "      <td>0.000000</td>\n",
              "    </tr>\n",
              "    <tr>\n",
              "      <th>max</th>\n",
              "      <td>1.000000</td>\n",
              "      <td>65.000000</td>\n",
              "      <td>79000.000000</td>\n",
              "      <td>6.000000</td>\n",
              "      <td>5.000000</td>\n",
              "    </tr>\n",
              "  </tbody>\n",
              "</table>\n",
              "</div>"
            ],
            "text/plain": [
              "               Пол      Возраст      Зарплата  Члены семьи  Страховые выплаты\n",
              "count  5000.000000  5000.000000   5000.000000  5000.000000        5000.000000\n",
              "mean      0.499000    30.952800  39916.360000     1.194200           0.148000\n",
              "std       0.500049     8.440807   9900.083569     1.091387           0.463183\n",
              "min       0.000000    18.000000   5300.000000     0.000000           0.000000\n",
              "25%       0.000000    24.000000  33300.000000     0.000000           0.000000\n",
              "50%       0.000000    30.000000  40200.000000     1.000000           0.000000\n",
              "75%       1.000000    37.000000  46600.000000     2.000000           0.000000\n",
              "max       1.000000    65.000000  79000.000000     6.000000           5.000000"
            ]
          },
          "metadata": {}
        }
      ]
    },
    {
      "cell_type": "code",
      "source": "df.isna().sum()\n# смотрим, есть ли пропуски в датасете",
      "metadata": {
        "scrolled": true
      },
      "execution_count": 6,
      "outputs": [
        {
          "execution_count": 6,
          "output_type": "execute_result",
          "data": {
            "text/plain": [
              "Пол                  0\n",
              "Возраст              0\n",
              "Зарплата             0\n",
              "Члены семьи          0\n",
              "Страховые выплаты    0\n",
              "dtype: int64"
            ]
          },
          "metadata": {}
        }
      ]
    },
    {
      "cell_type": "code",
      "source": "(df['Зарплата'] % 1).unique()\n# смотрим какие есть дробные части в колонке",
      "metadata": {},
      "execution_count": 7,
      "outputs": [
        {
          "execution_count": 7,
          "output_type": "execute_result",
          "data": {
            "text/plain": [
              "array([0.00000000e+00, 3.63797881e-12, 7.27595761e-12, 1.00000000e+00])"
            ]
          },
          "metadata": {}
        }
      ]
    },
    {
      "cell_type": "code",
      "source": "df['Возраст'] = np.int8(df['Возраст'])\ndf['Пол'] = np.int8(df['Пол'])\ndf['Зарплата'] = np.int32(df['Зарплата'])\ndf['Члены семьи'] = np.int8(df['Члены семьи'])\ndf['Страховые выплаты'] = np.int8(df['Страховые выплаты'])\n# переводим данные в менее затратный с точки зрения памяти формат",
      "metadata": {},
      "execution_count": 8,
      "outputs": []
    },
    {
      "cell_type": "code",
      "source": "df.info()\n# смотрим как изменился размеры датасета",
      "metadata": {},
      "execution_count": 9,
      "outputs": [
        {
          "name": "stdout",
          "output_type": "stream",
          "text": "<class 'pandas.core.frame.DataFrame'>\n\nRangeIndex: 5000 entries, 0 to 4999\n\nData columns (total 5 columns):\n\n #   Column             Non-Null Count  Dtype\n\n---  ------             --------------  -----\n\n 0   Пол                5000 non-null   int8 \n\n 1   Возраст            5000 non-null   int8 \n\n 2   Зарплата           5000 non-null   int32\n\n 3   Члены семьи        5000 non-null   int8 \n\n 4   Страховые выплаты  5000 non-null   int8 \n\ndtypes: int32(1), int8(4)\n\nmemory usage: 39.2 KB\n"
        }
      ]
    },
    {
      "cell_type": "markdown",
      "source": "**Изменили размер датасета в 5 раз**",
      "metadata": {}
    },
    {
      "cell_type": "code",
      "source": "df[['Пол', 'Возраст', 'Зарплата', 'Члены семьи']].corr()",
      "metadata": {
        "scrolled": true
      },
      "execution_count": 10,
      "outputs": [
        {
          "execution_count": 10,
          "output_type": "execute_result",
          "data": {
            "text/html": [
              "<div>\n",
              "<style scoped>\n",
              "    .dataframe tbody tr th:only-of-type {\n",
              "        vertical-align: middle;\n",
              "    }\n",
              "\n",
              "    .dataframe tbody tr th {\n",
              "        vertical-align: top;\n",
              "    }\n",
              "\n",
              "    .dataframe thead th {\n",
              "        text-align: right;\n",
              "    }\n",
              "</style>\n",
              "<table border=\"1\" class=\"dataframe\">\n",
              "  <thead>\n",
              "    <tr style=\"text-align: right;\">\n",
              "      <th></th>\n",
              "      <th>Пол</th>\n",
              "      <th>Возраст</th>\n",
              "      <th>Зарплата</th>\n",
              "      <th>Члены семьи</th>\n",
              "    </tr>\n",
              "  </thead>\n",
              "  <tbody>\n",
              "    <tr>\n",
              "      <th>Пол</th>\n",
              "      <td>1.000000</td>\n",
              "      <td>0.002074</td>\n",
              "      <td>0.014910</td>\n",
              "      <td>-0.008991</td>\n",
              "    </tr>\n",
              "    <tr>\n",
              "      <th>Возраст</th>\n",
              "      <td>0.002074</td>\n",
              "      <td>1.000000</td>\n",
              "      <td>-0.019093</td>\n",
              "      <td>-0.006692</td>\n",
              "    </tr>\n",
              "    <tr>\n",
              "      <th>Зарплата</th>\n",
              "      <td>0.014910</td>\n",
              "      <td>-0.019093</td>\n",
              "      <td>1.000000</td>\n",
              "      <td>-0.030296</td>\n",
              "    </tr>\n",
              "    <tr>\n",
              "      <th>Члены семьи</th>\n",
              "      <td>-0.008991</td>\n",
              "      <td>-0.006692</td>\n",
              "      <td>-0.030296</td>\n",
              "      <td>1.000000</td>\n",
              "    </tr>\n",
              "  </tbody>\n",
              "</table>\n",
              "</div>"
            ],
            "text/plain": [
              "                  Пол   Возраст  Зарплата  Члены семьи\n",
              "Пол          1.000000  0.002074  0.014910    -0.008991\n",
              "Возраст      0.002074  1.000000 -0.019093    -0.006692\n",
              "Зарплата     0.014910 -0.019093  1.000000    -0.030296\n",
              "Члены семьи -0.008991 -0.006692 -0.030296     1.000000"
            ]
          },
          "metadata": {}
        }
      ]
    },
    {
      "cell_type": "markdown",
      "source": "**Переменные практически не коррелируют между собой**",
      "metadata": {}
    },
    {
      "cell_type": "markdown",
      "source": "**Вывод**\n\nДатасет открыт и изучен, проблем в нём не обнаружено, можно брать его в работу.",
      "metadata": {}
    },
    {
      "cell_type": "markdown",
      "source": "## Умножение матриц",
      "metadata": {}
    },
    {
      "cell_type": "markdown",
      "source": "**Признаки умножают на обратимую матрицу. Изменится ли качество линейной регрессии?**",
      "metadata": {}
    },
    {
      "cell_type": "markdown",
      "source": "Для ответа на данный вопрос давайте обратимся к формуле линейной регресии.",
      "metadata": {}
    },
    {
      "cell_type": "markdown",
      "source": "Обозначения:\n\n- $X$ — матрица признаков (нулевой столбец состоит из единиц)\n\n- $y$ — вектор целевого признака\n\n- $P$ — обратимая матрица, на которую умножаются признаки\n\n- $w$ — вектор весов линейной регрессии (нулевой элемент равен сдвигу)",
      "metadata": {}
    },
    {
      "cell_type": "markdown",
      "source": "Предсказания:\n\n$$\na = Xw\n$$\n\nЗадача обучения:\n\n$$\nw = \\arg\\min_w MSE(Xw, y)\n$$\n\nФормула обучения:\n\n$$\nw = (X^T X)^{-1} X^T y\n$$",
      "metadata": {}
    },
    {
      "cell_type": "markdown",
      "source": "**Ответ:** Качество линейной регрессии не изменится.",
      "metadata": {}
    },
    {
      "cell_type": "markdown",
      "source": "**Обоснование:** Для обоснования введём новую переменную, которая будет обозначать произведение признаков на обратимую матрицу.",
      "metadata": {}
    },
    {
      "cell_type": "markdown",
      "source": "$$\nS = XP\n$$",
      "metadata": {}
    },
    {
      "cell_type": "markdown",
      "source": "Подставим новую переменную в формулу признаков",
      "metadata": {}
    },
    {
      "cell_type": "markdown",
      "source": "$$\nas = Sws\n$$",
      "metadata": {}
    },
    {
      "cell_type": "markdown",
      "source": "$$\nws = (S^T S)^{-1} S^T y\n$$",
      "metadata": {}
    },
    {
      "cell_type": "markdown",
      "source": "Подставим новый вектор весов в формулу предсказания",
      "metadata": {}
    },
    {
      "cell_type": "markdown",
      "source": "$$\nas = S(S^T S)^{-1} S^T y\n$$",
      "metadata": {}
    },
    {
      "cell_type": "markdown",
      "source": "Произведём обратную замену, подставив вместо новой переменной произведение признаков на обратимую матрицу, которое мы этой переменной обозначили",
      "metadata": {}
    },
    {
      "cell_type": "markdown",
      "source": "$$\nas = XP((XP)^T (XP))^{-1} (XP)^T y\n$$",
      "metadata": {}
    },
    {
      "cell_type": "markdown",
      "source": "Раскроем уравнение, используя правило перемножения обратных матриц",
      "metadata": {}
    },
    {
      "cell_type": "markdown",
      "source": "$$\nas = XP\\color{red}{(P^TX^TXP)^{-1}}(XP)^T y = XPP^{-1}\\color{red}{(X^TX)^{-1}(P^T)^{-1}}(XP)^T y\n$$",
      "metadata": {}
    },
    {
      "cell_type": "markdown",
      "source": "Поскольку обратимая матрица является квадратной, то произведение такой матрицы на обратную будет равно единичной матрице \n$$\nPP^{-1} = E\n$$",
      "metadata": {}
    },
    {
      "cell_type": "markdown",
      "source": "Используя это и свойство транспонированных матриц, получаем",
      "metadata": {}
    },
    {
      "cell_type": "markdown",
      "source": "$$\nas = XE\\color{red}{(X^TX)^{-1}(P^T)^{-1}}(XP)^T y = X\\color{red}{(X^TX)^{-1}(P^T)^{-1}}P^TX^T y\n$$",
      "metadata": {}
    },
    {
      "cell_type": "markdown",
      "source": "Аналогично,\n$$\n(P^T)^{-1}P^T = E\n$$",
      "metadata": {}
    },
    {
      "cell_type": "markdown",
      "source": "Получаем следующее",
      "metadata": {}
    },
    {
      "cell_type": "markdown",
      "source": "$$\nas = X\\color{red}{(X^TX)^{-1}}X^Ty = Xw = a\n$$",
      "metadata": {}
    },
    {
      "cell_type": "markdown",
      "source": "**Вывод**\n\nИз этого следует, что при умножении матрицы признаков на обратимую матрицу, значение предсказания не меняется.",
      "metadata": {}
    },
    {
      "cell_type": "markdown",
      "source": "## Алгоритм преобразования данных",
      "metadata": {}
    },
    {
      "cell_type": "markdown",
      "source": "Для защиты данных предлагается следующий алгоритм преобразования:\n1. Генерация обратимой матрицы, размерность которой равна количеству признаков, состоящей из случайных чисел.\n2. Проверка на обратимость (определитель матрицы не должен равняться 0).\n3. Шифрование путём перемножения матрицы признаков и обратимой матрицы, состоящей из случайных чисел.",
      "metadata": {}
    },
    {
      "cell_type": "markdown",
      "source": "**Обоснование**",
      "metadata": {}
    },
    {
      "cell_type": "markdown",
      "source": "Как мы выяснили в теоретической части, умножение матрицы признаков на обратимую матрицу не изменяет предсказание.\n\nПри этом, новая матрица признаков, которая получится после перемножения матриц, будет содержать набор чисел, которые не будут понятны стороннему наблюдателю и вряд ли могут быть им использованы.\n\nДля реализации данной задачи мы средствами Python сгенерируем квадратную матрицу, состоящую из случайных чисел и проверим её на обратимость.\n\nПосле генерации и проверки обратимой матрицы, перемножим матрицу признаков и полученную матрицу.",
      "metadata": {}
    },
    {
      "cell_type": "markdown",
      "source": "## Проверка алгоритма",
      "metadata": {}
    },
    {
      "cell_type": "markdown",
      "source": "### Генерация обратимой матрицы",
      "metadata": {}
    },
    {
      "cell_type": "code",
      "source": "np.random.seed(42)\n# фиксируем генератор случайных чисел",
      "metadata": {},
      "execution_count": 11,
      "outputs": []
    },
    {
      "cell_type": "code",
      "source": "ran_mx = np.random.randint(10, size=(4, 4))\nwhile np.linalg.det(ran_mx) == 0:\n    ran_mx = np.random.randint(10, size=(4, 4))\n# генерируем квадратную матрицу, состоящую из случайных чисел и проверяем на обратимость",
      "metadata": {},
      "execution_count": 12,
      "outputs": []
    },
    {
      "cell_type": "code",
      "source": "ran_mx\n# смотрим на полученную матрицу",
      "metadata": {},
      "execution_count": 13,
      "outputs": [
        {
          "execution_count": 13,
          "output_type": "execute_result",
          "data": {
            "text/plain": [
              "array([[6, 3, 7, 4],\n",
              "       [6, 9, 2, 6],\n",
              "       [7, 4, 3, 7],\n",
              "       [7, 2, 5, 4]])"
            ]
          },
          "metadata": {}
        }
      ]
    },
    {
      "cell_type": "markdown",
      "source": "### Проверка матрицы на обратимость",
      "metadata": {}
    },
    {
      "cell_type": "code",
      "source": "np.linalg.det(ran_mx)\n# вычисляем определитель матрицы",
      "metadata": {},
      "execution_count": 14,
      "outputs": [
        {
          "execution_count": 14,
          "output_type": "execute_result",
          "data": {
            "text/plain": [
              "373.00000000000017"
            ]
          },
          "metadata": {}
        }
      ]
    },
    {
      "cell_type": "markdown",
      "source": "**Вывод**\n\nОпределитель матрицы не равен нулю, значит полученную матрицу можно брать в работу.",
      "metadata": {}
    },
    {
      "cell_type": "markdown",
      "source": "### Выделение признаков из датасета",
      "metadata": {}
    },
    {
      "cell_type": "code",
      "source": "features = df.drop(['Страховые выплаты'], axis=1)\nfeatures.shape\n# выделяем признаки и выводим размер полученного датасета",
      "metadata": {},
      "execution_count": 15,
      "outputs": [
        {
          "execution_count": 15,
          "output_type": "execute_result",
          "data": {
            "text/plain": [
              "(5000, 4)"
            ]
          },
          "metadata": {}
        }
      ]
    },
    {
      "cell_type": "code",
      "source": "target = df['Страховые выплаты']\ntarget.shape\n# выделяем целевой признак и выводим размер полученного датасета",
      "metadata": {},
      "execution_count": 16,
      "outputs": [
        {
          "execution_count": 16,
          "output_type": "execute_result",
          "data": {
            "text/plain": [
              "(5000,)"
            ]
          },
          "metadata": {}
        }
      ]
    },
    {
      "cell_type": "markdown",
      "source": "**Разделим признаки на обучающие и тестовые**",
      "metadata": {}
    },
    {
      "cell_type": "code",
      "source": "features_train, features_test, target_train, target_test = \\\ntrain_test_split(features, target, test_size=0.25, random_state=12345)\n# разделяем признаки на обучающую и тестовую выборки",
      "metadata": {},
      "execution_count": 17,
      "outputs": []
    },
    {
      "cell_type": "code",
      "source": "print(features_train.shape, target_train.shape)\nprint(features_test.shape, target_test.shape)\n# выводим размеры полученных датасетов",
      "metadata": {},
      "execution_count": 18,
      "outputs": [
        {
          "name": "stdout",
          "output_type": "stream",
          "text": "(3750, 4) (3750,)\n\n(1250, 4) (1250,)\n"
        }
      ]
    },
    {
      "cell_type": "markdown",
      "source": "### Преобразование признаков",
      "metadata": {}
    },
    {
      "cell_type": "code",
      "source": "features_train_mx = pd.DataFrame(features_train.values) @ ran_mx\nfeatures_test_mx = pd.DataFrame(features_test.values) @ ran_mx\nprint(features_train_mx.shape, features_test_mx.shape)\n# преобразовываем признаки и выводим размеры полученных датасетов на экран",
      "metadata": {},
      "execution_count": 19,
      "outputs": [
        {
          "name": "stdout",
          "output_type": "stream",
          "text": "(3750, 4) (1250, 4)\n"
        }
      ]
    },
    {
      "cell_type": "markdown",
      "source": "### Сравнение признаков до и после преобразования",
      "metadata": {}
    },
    {
      "cell_type": "code",
      "source": "display(features_train.head())\ndisplay(features_train_mx.head())",
      "metadata": {},
      "execution_count": 20,
      "outputs": [
        {
          "output_type": "display_data",
          "data": {
            "text/html": [
              "<div>\n",
              "<style scoped>\n",
              "    .dataframe tbody tr th:only-of-type {\n",
              "        vertical-align: middle;\n",
              "    }\n",
              "\n",
              "    .dataframe tbody tr th {\n",
              "        vertical-align: top;\n",
              "    }\n",
              "\n",
              "    .dataframe thead th {\n",
              "        text-align: right;\n",
              "    }\n",
              "</style>\n",
              "<table border=\"1\" class=\"dataframe\">\n",
              "  <thead>\n",
              "    <tr style=\"text-align: right;\">\n",
              "      <th></th>\n",
              "      <th>Пол</th>\n",
              "      <th>Возраст</th>\n",
              "      <th>Зарплата</th>\n",
              "      <th>Члены семьи</th>\n",
              "    </tr>\n",
              "  </thead>\n",
              "  <tbody>\n",
              "    <tr>\n",
              "      <th>3369</th>\n",
              "      <td>1</td>\n",
              "      <td>43</td>\n",
              "      <td>36200</td>\n",
              "      <td>1</td>\n",
              "    </tr>\n",
              "    <tr>\n",
              "      <th>1441</th>\n",
              "      <td>1</td>\n",
              "      <td>34</td>\n",
              "      <td>57600</td>\n",
              "      <td>0</td>\n",
              "    </tr>\n",
              "    <tr>\n",
              "      <th>571</th>\n",
              "      <td>0</td>\n",
              "      <td>32</td>\n",
              "      <td>41100</td>\n",
              "      <td>1</td>\n",
              "    </tr>\n",
              "    <tr>\n",
              "      <th>225</th>\n",
              "      <td>0</td>\n",
              "      <td>36</td>\n",
              "      <td>45100</td>\n",
              "      <td>1</td>\n",
              "    </tr>\n",
              "    <tr>\n",
              "      <th>2558</th>\n",
              "      <td>0</td>\n",
              "      <td>33</td>\n",
              "      <td>50600</td>\n",
              "      <td>2</td>\n",
              "    </tr>\n",
              "  </tbody>\n",
              "</table>\n",
              "</div>"
            ],
            "text/plain": [
              "      Пол  Возраст  Зарплата  Члены семьи\n",
              "3369    1       43     36200            1\n",
              "1441    1       34     57600            0\n",
              "571     0       32     41100            1\n",
              "225     0       36     45100            1\n",
              "2558    0       33     50600            2"
            ]
          },
          "metadata": {}
        },
        {
          "output_type": "display_data",
          "data": {
            "text/html": [
              "<div>\n",
              "<style scoped>\n",
              "    .dataframe tbody tr th:only-of-type {\n",
              "        vertical-align: middle;\n",
              "    }\n",
              "\n",
              "    .dataframe tbody tr th {\n",
              "        vertical-align: top;\n",
              "    }\n",
              "\n",
              "    .dataframe thead th {\n",
              "        text-align: right;\n",
              "    }\n",
              "</style>\n",
              "<table border=\"1\" class=\"dataframe\">\n",
              "  <thead>\n",
              "    <tr style=\"text-align: right;\">\n",
              "      <th></th>\n",
              "      <th>0</th>\n",
              "      <th>1</th>\n",
              "      <th>2</th>\n",
              "      <th>3</th>\n",
              "    </tr>\n",
              "  </thead>\n",
              "  <tbody>\n",
              "    <tr>\n",
              "      <th>0</th>\n",
              "      <td>253671</td>\n",
              "      <td>145192</td>\n",
              "      <td>108698</td>\n",
              "      <td>253666</td>\n",
              "    </tr>\n",
              "    <tr>\n",
              "      <th>1</th>\n",
              "      <td>403410</td>\n",
              "      <td>230709</td>\n",
              "      <td>172875</td>\n",
              "      <td>403408</td>\n",
              "    </tr>\n",
              "    <tr>\n",
              "      <th>2</th>\n",
              "      <td>287899</td>\n",
              "      <td>164690</td>\n",
              "      <td>123369</td>\n",
              "      <td>287896</td>\n",
              "    </tr>\n",
              "    <tr>\n",
              "      <th>3</th>\n",
              "      <td>315923</td>\n",
              "      <td>180726</td>\n",
              "      <td>135377</td>\n",
              "      <td>315920</td>\n",
              "    </tr>\n",
              "    <tr>\n",
              "      <th>4</th>\n",
              "      <td>354412</td>\n",
              "      <td>202701</td>\n",
              "      <td>151876</td>\n",
              "      <td>354406</td>\n",
              "    </tr>\n",
              "  </tbody>\n",
              "</table>\n",
              "</div>"
            ],
            "text/plain": [
              "        0       1       2       3\n",
              "0  253671  145192  108698  253666\n",
              "1  403410  230709  172875  403408\n",
              "2  287899  164690  123369  287896\n",
              "3  315923  180726  135377  315920\n",
              "4  354412  202701  151876  354406"
            ]
          },
          "metadata": {}
        }
      ]
    },
    {
      "cell_type": "markdown",
      "source": "### Обучение и проверка линейной регрессии на изначальных признаках",
      "metadata": {}
    },
    {
      "cell_type": "code",
      "source": "model = LinearRegression()\nmodel.fit(features_train, target_train)\npredictions = model.predict(features_test)\nprint('Значение метрики r2 на изначальных признаках:', r2_score(target_test, predictions))\n# обучаем и проверяем модель",
      "metadata": {},
      "execution_count": 21,
      "outputs": [
        {
          "name": "stdout",
          "output_type": "stream",
          "text": "Значение метрики r2 на изначальных признаках: 0.4352275684083322\n"
        }
      ]
    },
    {
      "cell_type": "markdown",
      "source": "### Обучение и проверка модели на изменённых признаках",
      "metadata": {}
    },
    {
      "cell_type": "code",
      "source": "model = LinearRegression()\nmodel.fit(features_train_mx, target_train)\npredictions = model.predict(features_test_mx)\nprint('Значение метрики r2 на признаках после преобразования:', r2_score(target_test, predictions))\n# обучаем и проверяем модель",
      "metadata": {},
      "execution_count": 22,
      "outputs": [
        {
          "name": "stdout",
          "output_type": "stream",
          "text": "Значение метрики r2 на признаках после преобразования: 0.43522756840939136\n"
        }
      ]
    },
    {
      "cell_type": "markdown",
      "source": "### Расшифровка данных",
      "metadata": {}
    },
    {
      "cell_type": "code",
      "source": "features_uncr = abs(pd.DataFrame(features_train_mx @ np.linalg.inv(ran_mx)).round())\nfeatures_uncr = features_uncr.rename(columns={0: 'Пол', 1: 'Возраст', 2: 'Зарплата', 3:'Члены семьи'})\ndisplay(features_uncr.head(), features_train.head())\n# расшифровыеваем зашифрованные признаки и сравниваем с оригинальными значениями",
      "metadata": {},
      "execution_count": 23,
      "outputs": [
        {
          "output_type": "display_data",
          "data": {
            "text/html": [
              "<div>\n",
              "<style scoped>\n",
              "    .dataframe tbody tr th:only-of-type {\n",
              "        vertical-align: middle;\n",
              "    }\n",
              "\n",
              "    .dataframe tbody tr th {\n",
              "        vertical-align: top;\n",
              "    }\n",
              "\n",
              "    .dataframe thead th {\n",
              "        text-align: right;\n",
              "    }\n",
              "</style>\n",
              "<table border=\"1\" class=\"dataframe\">\n",
              "  <thead>\n",
              "    <tr style=\"text-align: right;\">\n",
              "      <th></th>\n",
              "      <th>Пол</th>\n",
              "      <th>Возраст</th>\n",
              "      <th>Зарплата</th>\n",
              "      <th>Члены семьи</th>\n",
              "    </tr>\n",
              "  </thead>\n",
              "  <tbody>\n",
              "    <tr>\n",
              "      <th>0</th>\n",
              "      <td>1.0</td>\n",
              "      <td>43.0</td>\n",
              "      <td>36200.0</td>\n",
              "      <td>1.0</td>\n",
              "    </tr>\n",
              "    <tr>\n",
              "      <th>1</th>\n",
              "      <td>1.0</td>\n",
              "      <td>34.0</td>\n",
              "      <td>57600.0</td>\n",
              "      <td>0.0</td>\n",
              "    </tr>\n",
              "    <tr>\n",
              "      <th>2</th>\n",
              "      <td>0.0</td>\n",
              "      <td>32.0</td>\n",
              "      <td>41100.0</td>\n",
              "      <td>1.0</td>\n",
              "    </tr>\n",
              "    <tr>\n",
              "      <th>3</th>\n",
              "      <td>0.0</td>\n",
              "      <td>36.0</td>\n",
              "      <td>45100.0</td>\n",
              "      <td>1.0</td>\n",
              "    </tr>\n",
              "    <tr>\n",
              "      <th>4</th>\n",
              "      <td>0.0</td>\n",
              "      <td>33.0</td>\n",
              "      <td>50600.0</td>\n",
              "      <td>2.0</td>\n",
              "    </tr>\n",
              "  </tbody>\n",
              "</table>\n",
              "</div>"
            ],
            "text/plain": [
              "   Пол  Возраст  Зарплата  Члены семьи\n",
              "0  1.0     43.0   36200.0          1.0\n",
              "1  1.0     34.0   57600.0          0.0\n",
              "2  0.0     32.0   41100.0          1.0\n",
              "3  0.0     36.0   45100.0          1.0\n",
              "4  0.0     33.0   50600.0          2.0"
            ]
          },
          "metadata": {}
        },
        {
          "output_type": "display_data",
          "data": {
            "text/html": [
              "<div>\n",
              "<style scoped>\n",
              "    .dataframe tbody tr th:only-of-type {\n",
              "        vertical-align: middle;\n",
              "    }\n",
              "\n",
              "    .dataframe tbody tr th {\n",
              "        vertical-align: top;\n",
              "    }\n",
              "\n",
              "    .dataframe thead th {\n",
              "        text-align: right;\n",
              "    }\n",
              "</style>\n",
              "<table border=\"1\" class=\"dataframe\">\n",
              "  <thead>\n",
              "    <tr style=\"text-align: right;\">\n",
              "      <th></th>\n",
              "      <th>Пол</th>\n",
              "      <th>Возраст</th>\n",
              "      <th>Зарплата</th>\n",
              "      <th>Члены семьи</th>\n",
              "    </tr>\n",
              "  </thead>\n",
              "  <tbody>\n",
              "    <tr>\n",
              "      <th>3369</th>\n",
              "      <td>1</td>\n",
              "      <td>43</td>\n",
              "      <td>36200</td>\n",
              "      <td>1</td>\n",
              "    </tr>\n",
              "    <tr>\n",
              "      <th>1441</th>\n",
              "      <td>1</td>\n",
              "      <td>34</td>\n",
              "      <td>57600</td>\n",
              "      <td>0</td>\n",
              "    </tr>\n",
              "    <tr>\n",
              "      <th>571</th>\n",
              "      <td>0</td>\n",
              "      <td>32</td>\n",
              "      <td>41100</td>\n",
              "      <td>1</td>\n",
              "    </tr>\n",
              "    <tr>\n",
              "      <th>225</th>\n",
              "      <td>0</td>\n",
              "      <td>36</td>\n",
              "      <td>45100</td>\n",
              "      <td>1</td>\n",
              "    </tr>\n",
              "    <tr>\n",
              "      <th>2558</th>\n",
              "      <td>0</td>\n",
              "      <td>33</td>\n",
              "      <td>50600</td>\n",
              "      <td>2</td>\n",
              "    </tr>\n",
              "  </tbody>\n",
              "</table>\n",
              "</div>"
            ],
            "text/plain": [
              "      Пол  Возраст  Зарплата  Члены семьи\n",
              "3369    1       43     36200            1\n",
              "1441    1       34     57600            0\n",
              "571     0       32     41100            1\n",
              "225     0       36     45100            1\n",
              "2558    0       33     50600            2"
            ]
          },
          "metadata": {}
        }
      ]
    },
    {
      "cell_type": "markdown",
      "source": "Путём умножения на матрицу, обратную матрице, сгенерированной из случайных чисел, получаем первоначальные значения.",
      "metadata": {}
    },
    {
      "cell_type": "markdown",
      "source": "### Вывод",
      "metadata": {}
    },
    {
      "cell_type": "markdown",
      "source": "Значения метрик совпадают, преобразованные признаки конвертируются (расшифровываются) обратно, что говорит о правильности выбранного подхода.\nКолебания значений связано с хранением дробных чисел в Python.",
      "metadata": {}
    },
    {
      "cell_type": "markdown",
      "source": "## Выводы",
      "metadata": {}
    },
    {
      "cell_type": "markdown",
      "source": "В ходе работы было выполнено:\n\n    1. теоретически обоснована возможность изменения признаков путём умножения на обратимую матрицу без имзенения качества предсказания линейной регрессии.\n    2. разработан алгоритм шифрования (преобразования) признаков.\n    3. протестирован алгоритм шифрования.\n    4. получены результаты, подтверждающие работоспособность алгоритма.\n",
      "metadata": {}
    },
    {
      "cell_type": "markdown",
      "source": "В бизнес-применении на основе данного исследования можно реализовать функциональность, которая будет автоматически шифровать конфиденциальные данные таким образом, чтобы это не сказывалось на возможности работать с ними и строить модели.",
      "metadata": {}
    }
  ]
}