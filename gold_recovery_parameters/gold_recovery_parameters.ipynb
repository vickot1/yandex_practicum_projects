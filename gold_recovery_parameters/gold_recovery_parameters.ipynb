{
  "metadata": {
    "ExecuteTimeLog": [
      {
        "duration": 442,
        "start_time": "2022-07-25T10:04:21.599Z"
      },
      {
        "duration": 413,
        "start_time": "2022-07-25T10:04:33.740Z"
      },
      {
        "duration": 66,
        "start_time": "2022-07-25T10:06:53.542Z"
      },
      {
        "duration": 48,
        "start_time": "2022-07-25T10:07:13.889Z"
      },
      {
        "duration": 1170,
        "start_time": "2022-07-25T10:08:37.449Z"
      },
      {
        "duration": 17,
        "start_time": "2022-07-25T10:08:50.772Z"
      },
      {
        "duration": 21,
        "start_time": "2022-07-25T10:09:06.387Z"
      },
      {
        "duration": 149,
        "start_time": "2022-07-25T10:10:03.720Z"
      },
      {
        "duration": 12,
        "start_time": "2022-07-25T10:10:13.918Z"
      },
      {
        "duration": 18,
        "start_time": "2022-07-25T10:10:38.728Z"
      },
      {
        "duration": 8,
        "start_time": "2022-07-25T10:11:19.093Z"
      },
      {
        "duration": 36,
        "start_time": "2022-07-25T10:12:09.126Z"
      },
      {
        "duration": 19,
        "start_time": "2022-07-25T10:12:58.111Z"
      },
      {
        "duration": 8,
        "start_time": "2022-07-25T10:13:56.865Z"
      },
      {
        "duration": 9,
        "start_time": "2022-07-25T10:14:22.447Z"
      },
      {
        "duration": 7,
        "start_time": "2022-07-25T10:15:04.403Z"
      },
      {
        "duration": 8,
        "start_time": "2022-07-25T10:15:27.562Z"
      },
      {
        "duration": 526,
        "start_time": "2022-07-25T10:16:08.711Z"
      },
      {
        "duration": 15,
        "start_time": "2022-07-25T10:16:22.228Z"
      },
      {
        "duration": 6,
        "start_time": "2022-07-25T10:17:15.949Z"
      },
      {
        "duration": 5,
        "start_time": "2022-07-25T10:18:22.197Z"
      },
      {
        "duration": 225,
        "start_time": "2022-07-25T10:25:36.305Z"
      },
      {
        "duration": 613,
        "start_time": "2022-07-25T10:37:51.729Z"
      },
      {
        "duration": 260,
        "start_time": "2022-07-25T10:43:47.319Z"
      },
      {
        "duration": 15,
        "start_time": "2022-07-25T10:43:48.969Z"
      },
      {
        "duration": 204,
        "start_time": "2022-07-25T10:43:54.314Z"
      },
      {
        "duration": 19,
        "start_time": "2022-07-25T10:43:57.136Z"
      },
      {
        "duration": 75,
        "start_time": "2022-07-25T10:44:30.914Z"
      },
      {
        "duration": 10,
        "start_time": "2022-07-25T10:44:32.296Z"
      },
      {
        "duration": 22,
        "start_time": "2022-07-25T10:44:35.576Z"
      },
      {
        "duration": 304,
        "start_time": "2022-07-25T10:45:03.964Z"
      },
      {
        "duration": 16,
        "start_time": "2022-07-25T10:45:04.899Z"
      },
      {
        "duration": 51,
        "start_time": "2022-07-25T15:56:27.589Z"
      },
      {
        "duration": 57,
        "start_time": "2022-07-25T15:56:52.781Z"
      },
      {
        "duration": 1621,
        "start_time": "2022-07-25T15:57:07.754Z"
      },
      {
        "duration": 906,
        "start_time": "2022-07-25T15:57:09.380Z"
      },
      {
        "duration": 18,
        "start_time": "2022-07-25T15:57:10.288Z"
      },
      {
        "duration": 295,
        "start_time": "2022-07-25T15:57:10.308Z"
      },
      {
        "duration": 22,
        "start_time": "2022-07-25T15:57:10.605Z"
      },
      {
        "duration": 63,
        "start_time": "2022-07-25T15:57:10.628Z"
      },
      {
        "duration": 11,
        "start_time": "2022-07-25T15:57:10.692Z"
      },
      {
        "duration": 414,
        "start_time": "2022-07-25T15:57:10.705Z"
      },
      {
        "duration": 12,
        "start_time": "2022-07-25T15:57:11.120Z"
      },
      {
        "duration": 64,
        "start_time": "2022-07-25T15:57:11.134Z"
      },
      {
        "duration": 42,
        "start_time": "2022-07-25T15:57:11.200Z"
      },
      {
        "duration": 1703,
        "start_time": "2022-07-25T15:57:11.243Z"
      },
      {
        "duration": 18,
        "start_time": "2022-07-25T15:57:12.948Z"
      },
      {
        "duration": 18,
        "start_time": "2022-07-25T15:57:12.969Z"
      },
      {
        "duration": 1187,
        "start_time": "2022-07-25T15:57:12.989Z"
      },
      {
        "duration": 22,
        "start_time": "2022-07-25T15:57:44.172Z"
      },
      {
        "duration": 7,
        "start_time": "2022-07-25T16:06:10.698Z"
      },
      {
        "duration": 18,
        "start_time": "2022-07-25T16:42:13.125Z"
      },
      {
        "duration": 9,
        "start_time": "2022-07-25T16:42:48.209Z"
      },
      {
        "duration": 10,
        "start_time": "2022-07-25T16:43:07.547Z"
      },
      {
        "duration": 18,
        "start_time": "2022-07-25T16:43:31.854Z"
      },
      {
        "duration": 17,
        "start_time": "2022-07-25T16:43:54.532Z"
      },
      {
        "duration": 10,
        "start_time": "2022-07-25T16:45:11.673Z"
      },
      {
        "duration": 6,
        "start_time": "2022-07-25T16:45:35.987Z"
      },
      {
        "duration": 13,
        "start_time": "2022-07-25T16:45:37.227Z"
      },
      {
        "duration": 6,
        "start_time": "2022-07-25T16:46:45.141Z"
      },
      {
        "duration": 5,
        "start_time": "2022-07-25T16:46:54.197Z"
      },
      {
        "duration": 17,
        "start_time": "2022-07-25T16:47:13.989Z"
      },
      {
        "duration": 4,
        "start_time": "2022-07-25T16:48:13.932Z"
      },
      {
        "duration": 5,
        "start_time": "2022-07-25T16:48:15.813Z"
      },
      {
        "duration": 322,
        "start_time": "2022-07-25T16:55:37.593Z"
      },
      {
        "duration": 274,
        "start_time": "2022-07-25T16:56:04.997Z"
      },
      {
        "duration": 259,
        "start_time": "2022-07-25T16:56:17.283Z"
      },
      {
        "duration": 275,
        "start_time": "2022-07-25T16:56:27.148Z"
      },
      {
        "duration": 292,
        "start_time": "2022-07-25T16:56:56.311Z"
      },
      {
        "duration": 246,
        "start_time": "2022-07-25T16:57:26.773Z"
      },
      {
        "duration": 261,
        "start_time": "2022-07-25T16:58:07.397Z"
      },
      {
        "duration": 1377,
        "start_time": "2022-07-25T19:01:57.573Z"
      },
      {
        "duration": 94,
        "start_time": "2022-07-25T19:03:23.563Z"
      },
      {
        "duration": 1139,
        "start_time": "2022-07-25T19:03:37.841Z"
      },
      {
        "duration": 1242,
        "start_time": "2022-07-25T19:03:44.109Z"
      },
      {
        "duration": 276,
        "start_time": "2022-07-25T19:03:45.363Z"
      },
      {
        "duration": 22,
        "start_time": "2022-07-25T19:03:45.641Z"
      },
      {
        "duration": 226,
        "start_time": "2022-07-25T19:03:45.667Z"
      },
      {
        "duration": 25,
        "start_time": "2022-07-25T19:03:45.894Z"
      },
      {
        "duration": 13,
        "start_time": "2022-07-25T19:03:45.921Z"
      },
      {
        "duration": 5,
        "start_time": "2022-07-25T19:03:45.936Z"
      },
      {
        "duration": 201,
        "start_time": "2022-07-25T19:03:45.963Z"
      },
      {
        "duration": 17,
        "start_time": "2022-07-25T19:03:46.167Z"
      },
      {
        "duration": 25,
        "start_time": "2022-07-25T19:03:46.187Z"
      },
      {
        "duration": 7,
        "start_time": "2022-07-25T19:03:46.213Z"
      },
      {
        "duration": 629,
        "start_time": "2022-07-25T19:03:46.221Z"
      },
      {
        "duration": 20,
        "start_time": "2022-07-25T19:03:46.857Z"
      },
      {
        "duration": 7,
        "start_time": "2022-07-25T19:03:46.878Z"
      },
      {
        "duration": 7,
        "start_time": "2022-07-25T19:03:46.887Z"
      },
      {
        "duration": 6,
        "start_time": "2022-07-25T19:03:46.895Z"
      },
      {
        "duration": 309,
        "start_time": "2022-07-25T19:03:46.902Z"
      },
      {
        "duration": 105,
        "start_time": "2022-07-25T19:03:47.212Z"
      },
      {
        "duration": 7,
        "start_time": "2022-07-25T19:04:22.864Z"
      },
      {
        "duration": 6,
        "start_time": "2022-07-25T19:07:18.690Z"
      },
      {
        "duration": 22,
        "start_time": "2022-07-25T19:11:02.521Z"
      },
      {
        "duration": 8,
        "start_time": "2022-07-25T19:11:38.631Z"
      },
      {
        "duration": 11,
        "start_time": "2022-07-25T19:20:35.671Z"
      },
      {
        "duration": 12,
        "start_time": "2022-07-25T19:20:48.017Z"
      },
      {
        "duration": 7,
        "start_time": "2022-07-25T19:21:22.722Z"
      },
      {
        "duration": 7,
        "start_time": "2022-07-25T19:23:10.183Z"
      },
      {
        "duration": 7,
        "start_time": "2022-07-25T19:23:20.725Z"
      },
      {
        "duration": 11,
        "start_time": "2022-07-25T19:24:15.549Z"
      },
      {
        "duration": 10,
        "start_time": "2022-07-25T19:25:39.699Z"
      },
      {
        "duration": 7,
        "start_time": "2022-07-25T19:26:29.668Z"
      },
      {
        "duration": 20,
        "start_time": "2022-07-25T19:27:34.857Z"
      },
      {
        "duration": 11,
        "start_time": "2022-07-25T19:27:46.574Z"
      },
      {
        "duration": 30,
        "start_time": "2022-07-25T19:27:58.747Z"
      },
      {
        "duration": 29,
        "start_time": "2022-07-25T19:28:30.021Z"
      },
      {
        "duration": 16,
        "start_time": "2022-07-25T19:29:14.590Z"
      },
      {
        "duration": 7,
        "start_time": "2022-07-25T19:30:02.367Z"
      },
      {
        "duration": 6,
        "start_time": "2022-07-25T19:30:26.053Z"
      },
      {
        "duration": 8,
        "start_time": "2022-07-25T19:30:29.108Z"
      },
      {
        "duration": 4,
        "start_time": "2022-07-25T19:30:58.862Z"
      },
      {
        "duration": 7,
        "start_time": "2022-07-25T19:31:00.982Z"
      },
      {
        "duration": 6,
        "start_time": "2022-07-25T19:32:37.099Z"
      },
      {
        "duration": 1276,
        "start_time": "2022-07-25T19:46:29.149Z"
      },
      {
        "duration": 1231,
        "start_time": "2022-07-25T19:47:14.894Z"
      },
      {
        "duration": 1148,
        "start_time": "2022-07-25T19:49:35.710Z"
      },
      {
        "duration": 4,
        "start_time": "2022-07-25T19:50:12.730Z"
      },
      {
        "duration": 11,
        "start_time": "2022-07-25T19:50:26.765Z"
      },
      {
        "duration": 8,
        "start_time": "2022-07-25T19:50:40.099Z"
      },
      {
        "duration": 180,
        "start_time": "2022-07-25T19:50:48.536Z"
      },
      {
        "duration": 154,
        "start_time": "2022-07-25T19:54:18.043Z"
      },
      {
        "duration": 103,
        "start_time": "2022-07-25T19:54:35.185Z"
      },
      {
        "duration": 141,
        "start_time": "2022-07-25T19:54:44.980Z"
      },
      {
        "duration": 202,
        "start_time": "2022-07-25T19:55:06.401Z"
      },
      {
        "duration": 87,
        "start_time": "2022-07-25T20:00:56.568Z"
      },
      {
        "duration": 86,
        "start_time": "2022-07-25T20:01:35.505Z"
      },
      {
        "duration": 107,
        "start_time": "2022-07-25T20:02:07.752Z"
      },
      {
        "duration": 114,
        "start_time": "2022-07-25T20:02:59.279Z"
      },
      {
        "duration": 82,
        "start_time": "2022-07-25T20:03:16.845Z"
      },
      {
        "duration": 103,
        "start_time": "2022-07-25T20:03:34.108Z"
      },
      {
        "duration": 93,
        "start_time": "2022-07-25T20:07:13.809Z"
      },
      {
        "duration": 4,
        "start_time": "2022-07-25T20:09:28.352Z"
      },
      {
        "duration": 104,
        "start_time": "2022-07-25T20:09:28.924Z"
      },
      {
        "duration": 4,
        "start_time": "2022-07-25T20:10:41.809Z"
      },
      {
        "duration": 87,
        "start_time": "2022-07-25T20:10:42.420Z"
      },
      {
        "duration": 6,
        "start_time": "2022-07-25T20:14:06.584Z"
      },
      {
        "duration": 6,
        "start_time": "2022-07-25T20:14:19.106Z"
      },
      {
        "duration": 1233,
        "start_time": "2022-07-25T20:15:07.554Z"
      },
      {
        "duration": 1211,
        "start_time": "2022-07-25T20:15:35.450Z"
      },
      {
        "duration": 10,
        "start_time": "2022-07-25T20:15:57.405Z"
      },
      {
        "duration": 49,
        "start_time": "2022-07-26T10:38:02.800Z"
      },
      {
        "duration": 1621,
        "start_time": "2022-07-26T10:38:07.994Z"
      },
      {
        "duration": 979,
        "start_time": "2022-07-26T10:38:09.617Z"
      },
      {
        "duration": 21,
        "start_time": "2022-07-26T10:38:10.598Z"
      },
      {
        "duration": 252,
        "start_time": "2022-07-26T10:38:10.622Z"
      },
      {
        "duration": 24,
        "start_time": "2022-07-26T10:38:10.876Z"
      },
      {
        "duration": 23,
        "start_time": "2022-07-26T10:38:10.902Z"
      },
      {
        "duration": 6,
        "start_time": "2022-07-26T10:38:10.927Z"
      },
      {
        "duration": 440,
        "start_time": "2022-07-26T10:38:10.934Z"
      },
      {
        "duration": 15,
        "start_time": "2022-07-26T10:38:11.376Z"
      },
      {
        "duration": 24,
        "start_time": "2022-07-26T10:38:11.394Z"
      },
      {
        "duration": 10,
        "start_time": "2022-07-26T10:38:11.421Z"
      },
      {
        "duration": 1852,
        "start_time": "2022-07-26T10:38:11.433Z"
      },
      {
        "duration": 18,
        "start_time": "2022-07-26T10:38:13.288Z"
      },
      {
        "duration": 9,
        "start_time": "2022-07-26T10:38:13.308Z"
      },
      {
        "duration": 21,
        "start_time": "2022-07-26T10:38:13.319Z"
      },
      {
        "duration": 6,
        "start_time": "2022-07-26T10:38:13.342Z"
      },
      {
        "duration": 137,
        "start_time": "2022-07-26T10:38:13.349Z"
      },
      {
        "duration": 0,
        "start_time": "2022-07-26T10:38:13.488Z"
      },
      {
        "duration": 0,
        "start_time": "2022-07-26T10:38:13.489Z"
      },
      {
        "duration": 0,
        "start_time": "2022-07-26T10:38:13.491Z"
      },
      {
        "duration": 0,
        "start_time": "2022-07-26T10:38:13.492Z"
      },
      {
        "duration": 0,
        "start_time": "2022-07-26T10:38:13.493Z"
      },
      {
        "duration": 0,
        "start_time": "2022-07-26T10:38:13.494Z"
      },
      {
        "duration": 0,
        "start_time": "2022-07-26T10:38:13.495Z"
      },
      {
        "duration": 0,
        "start_time": "2022-07-26T10:38:13.496Z"
      },
      {
        "duration": 0,
        "start_time": "2022-07-26T10:38:13.498Z"
      },
      {
        "duration": 14,
        "start_time": "2022-07-26T10:38:35.999Z"
      },
      {
        "duration": 18,
        "start_time": "2022-07-26T10:39:06.405Z"
      },
      {
        "duration": 15,
        "start_time": "2022-07-26T10:39:32.882Z"
      },
      {
        "duration": 5,
        "start_time": "2022-07-26T10:41:31.827Z"
      },
      {
        "duration": 11,
        "start_time": "2022-07-26T10:51:03.499Z"
      },
      {
        "duration": 18,
        "start_time": "2022-07-26T10:51:09.851Z"
      },
      {
        "duration": 5,
        "start_time": "2022-07-26T10:55:31.880Z"
      },
      {
        "duration": 7,
        "start_time": "2022-07-26T10:56:04.356Z"
      },
      {
        "duration": 9,
        "start_time": "2022-07-26T10:56:46.866Z"
      },
      {
        "duration": 6,
        "start_time": "2022-07-26T10:56:57.547Z"
      },
      {
        "duration": 3,
        "start_time": "2022-07-26T11:00:50.437Z"
      },
      {
        "duration": 4,
        "start_time": "2022-07-26T11:01:00.040Z"
      },
      {
        "duration": 43,
        "start_time": "2022-07-26T11:02:19.249Z"
      },
      {
        "duration": 44,
        "start_time": "2022-07-26T11:02:54.816Z"
      },
      {
        "duration": 458,
        "start_time": "2022-07-26T11:03:13.181Z"
      },
      {
        "duration": 19,
        "start_time": "2022-07-26T11:03:14.139Z"
      },
      {
        "duration": 51,
        "start_time": "2022-07-26T11:03:24.416Z"
      },
      {
        "duration": 49,
        "start_time": "2022-07-26T11:03:58.244Z"
      },
      {
        "duration": 9,
        "start_time": "2022-07-26T11:06:28.422Z"
      },
      {
        "duration": 32,
        "start_time": "2022-07-26T11:06:33.863Z"
      },
      {
        "duration": 27,
        "start_time": "2022-07-26T11:06:59.229Z"
      },
      {
        "duration": 41,
        "start_time": "2022-07-26T12:49:11.555Z"
      },
      {
        "duration": 1407,
        "start_time": "2022-07-26T12:49:17.228Z"
      },
      {
        "duration": 1092,
        "start_time": "2022-07-26T12:49:18.636Z"
      },
      {
        "duration": 16,
        "start_time": "2022-07-26T12:49:19.730Z"
      },
      {
        "duration": 239,
        "start_time": "2022-07-26T12:49:19.747Z"
      },
      {
        "duration": 18,
        "start_time": "2022-07-26T12:49:19.988Z"
      },
      {
        "duration": 9,
        "start_time": "2022-07-26T12:49:20.007Z"
      },
      {
        "duration": 16,
        "start_time": "2022-07-26T12:49:20.018Z"
      },
      {
        "duration": 169,
        "start_time": "2022-07-26T12:49:20.035Z"
      },
      {
        "duration": 11,
        "start_time": "2022-07-26T12:49:20.206Z"
      },
      {
        "duration": 19,
        "start_time": "2022-07-26T12:49:20.219Z"
      },
      {
        "duration": 7,
        "start_time": "2022-07-26T12:49:20.240Z"
      },
      {
        "duration": 513,
        "start_time": "2022-07-26T12:49:20.248Z"
      },
      {
        "duration": 15,
        "start_time": "2022-07-26T12:49:20.762Z"
      },
      {
        "duration": 7,
        "start_time": "2022-07-26T12:49:20.779Z"
      },
      {
        "duration": 20,
        "start_time": "2022-07-26T12:49:20.787Z"
      },
      {
        "duration": 4,
        "start_time": "2022-07-26T12:49:20.809Z"
      },
      {
        "duration": 9,
        "start_time": "2022-07-26T12:49:20.815Z"
      },
      {
        "duration": 3,
        "start_time": "2022-07-26T12:49:20.830Z"
      },
      {
        "duration": 113,
        "start_time": "2022-07-26T12:49:20.835Z"
      },
      {
        "duration": 3,
        "start_time": "2022-07-26T12:49:20.950Z"
      },
      {
        "duration": 118,
        "start_time": "2022-07-26T12:49:20.955Z"
      },
      {
        "duration": 4,
        "start_time": "2022-07-26T12:49:21.074Z"
      },
      {
        "duration": 100,
        "start_time": "2022-07-26T12:49:21.079Z"
      },
      {
        "duration": 6,
        "start_time": "2022-07-26T12:49:21.181Z"
      },
      {
        "duration": 6,
        "start_time": "2022-07-26T12:49:21.188Z"
      },
      {
        "duration": 5,
        "start_time": "2022-07-26T12:49:21.195Z"
      },
      {
        "duration": 3,
        "start_time": "2022-07-26T12:50:40.711Z"
      },
      {
        "duration": 5,
        "start_time": "2022-07-26T12:54:50.753Z"
      },
      {
        "duration": 89,
        "start_time": "2022-07-26T12:58:34.185Z"
      },
      {
        "duration": 9,
        "start_time": "2022-07-26T12:58:50.904Z"
      },
      {
        "duration": 2,
        "start_time": "2022-07-26T12:59:25.985Z"
      },
      {
        "duration": 174,
        "start_time": "2022-07-26T12:59:59.910Z"
      },
      {
        "duration": 4,
        "start_time": "2022-07-26T13:00:23.252Z"
      },
      {
        "duration": 4,
        "start_time": "2022-07-26T13:00:45.306Z"
      },
      {
        "duration": 99,
        "start_time": "2022-07-26T13:00:46.152Z"
      },
      {
        "duration": 5,
        "start_time": "2022-07-26T13:01:11.669Z"
      },
      {
        "duration": 6,
        "start_time": "2022-07-26T13:01:26.899Z"
      },
      {
        "duration": 110,
        "start_time": "2022-07-26T13:02:27.660Z"
      },
      {
        "duration": 4,
        "start_time": "2022-07-26T13:05:26.534Z"
      },
      {
        "duration": 11,
        "start_time": "2022-07-26T13:18:50.606Z"
      },
      {
        "duration": 9,
        "start_time": "2022-07-26T13:19:08.281Z"
      },
      {
        "duration": 7,
        "start_time": "2022-07-26T13:19:23.339Z"
      },
      {
        "duration": 6,
        "start_time": "2022-07-26T13:19:31.838Z"
      },
      {
        "duration": 32,
        "start_time": "2022-07-26T13:45:25.083Z"
      },
      {
        "duration": 23,
        "start_time": "2022-07-26T13:46:08.374Z"
      },
      {
        "duration": 10,
        "start_time": "2022-07-26T14:16:28.454Z"
      },
      {
        "duration": 32,
        "start_time": "2022-07-26T14:17:44.597Z"
      },
      {
        "duration": 5,
        "start_time": "2022-07-26T14:18:08.343Z"
      },
      {
        "duration": 84,
        "start_time": "2022-07-26T14:18:34.969Z"
      },
      {
        "duration": 8,
        "start_time": "2022-07-26T14:18:44.847Z"
      },
      {
        "duration": 8,
        "start_time": "2022-07-26T14:23:15.494Z"
      },
      {
        "duration": 9,
        "start_time": "2022-07-26T14:24:07.275Z"
      },
      {
        "duration": 8,
        "start_time": "2022-07-26T18:07:07.682Z"
      },
      {
        "duration": 5,
        "start_time": "2022-07-26T18:10:23.129Z"
      },
      {
        "duration": 4,
        "start_time": "2022-07-26T18:10:34.946Z"
      },
      {
        "duration": 42,
        "start_time": "2022-07-26T18:21:15.655Z"
      },
      {
        "duration": 7,
        "start_time": "2022-07-26T18:21:39.527Z"
      },
      {
        "duration": 15,
        "start_time": "2022-07-26T18:22:18.274Z"
      },
      {
        "duration": 25,
        "start_time": "2022-07-26T18:23:40.033Z"
      },
      {
        "duration": 6,
        "start_time": "2022-07-26T18:23:56.392Z"
      },
      {
        "duration": 20,
        "start_time": "2022-07-26T18:26:03.665Z"
      },
      {
        "duration": 106,
        "start_time": "2022-07-26T18:26:34.798Z"
      },
      {
        "duration": 3,
        "start_time": "2022-07-26T18:33:24.569Z"
      },
      {
        "duration": 8,
        "start_time": "2022-07-26T18:52:08.247Z"
      },
      {
        "duration": 7,
        "start_time": "2022-07-26T18:52:31.016Z"
      },
      {
        "duration": 3,
        "start_time": "2022-07-26T19:04:38.401Z"
      },
      {
        "duration": 44,
        "start_time": "2022-07-26T19:08:09.720Z"
      },
      {
        "duration": 24,
        "start_time": "2022-07-26T19:11:07.945Z"
      },
      {
        "duration": 7,
        "start_time": "2022-07-26T19:12:30.054Z"
      },
      {
        "duration": 5,
        "start_time": "2022-07-26T19:12:37.870Z"
      },
      {
        "duration": 4,
        "start_time": "2022-07-26T19:12:53.766Z"
      },
      {
        "duration": 3,
        "start_time": "2022-07-26T19:13:01.587Z"
      },
      {
        "duration": 15,
        "start_time": "2022-07-26T19:13:13.546Z"
      },
      {
        "duration": 6,
        "start_time": "2022-07-26T19:13:37.096Z"
      },
      {
        "duration": 833,
        "start_time": "2022-07-26T19:15:24.071Z"
      },
      {
        "duration": 46256,
        "start_time": "2022-07-26T19:16:12.898Z"
      },
      {
        "duration": 68,
        "start_time": "2022-07-27T11:38:16.752Z"
      },
      {
        "duration": 1616,
        "start_time": "2022-07-27T11:38:22.961Z"
      },
      {
        "duration": 1161,
        "start_time": "2022-07-27T11:38:24.580Z"
      },
      {
        "duration": 19,
        "start_time": "2022-07-27T11:38:25.743Z"
      },
      {
        "duration": 267,
        "start_time": "2022-07-27T11:38:25.765Z"
      },
      {
        "duration": 23,
        "start_time": "2022-07-27T11:38:26.033Z"
      },
      {
        "duration": 11,
        "start_time": "2022-07-27T11:38:26.058Z"
      },
      {
        "duration": 9,
        "start_time": "2022-07-27T11:38:26.071Z"
      },
      {
        "duration": 49,
        "start_time": "2022-07-27T11:38:26.111Z"
      },
      {
        "duration": 9,
        "start_time": "2022-07-27T11:38:26.162Z"
      },
      {
        "duration": 149,
        "start_time": "2022-07-27T11:38:26.174Z"
      },
      {
        "duration": 186,
        "start_time": "2022-07-27T11:38:26.324Z"
      },
      {
        "duration": 13,
        "start_time": "2022-07-27T11:38:26.512Z"
      },
      {
        "duration": 24,
        "start_time": "2022-07-27T11:38:26.526Z"
      },
      {
        "duration": 9,
        "start_time": "2022-07-27T11:38:26.552Z"
      },
      {
        "duration": 52,
        "start_time": "2022-07-27T11:38:26.562Z"
      },
      {
        "duration": 8,
        "start_time": "2022-07-27T11:38:26.616Z"
      },
      {
        "duration": 29,
        "start_time": "2022-07-27T11:38:26.626Z"
      },
      {
        "duration": 576,
        "start_time": "2022-07-27T11:38:26.658Z"
      },
      {
        "duration": 17,
        "start_time": "2022-07-27T11:38:27.236Z"
      },
      {
        "duration": 9,
        "start_time": "2022-07-27T11:38:27.255Z"
      },
      {
        "duration": 8,
        "start_time": "2022-07-27T11:38:27.266Z"
      },
      {
        "duration": 22,
        "start_time": "2022-07-27T11:38:27.275Z"
      },
      {
        "duration": 6,
        "start_time": "2022-07-27T11:38:27.309Z"
      },
      {
        "duration": 9,
        "start_time": "2022-07-27T11:38:27.317Z"
      },
      {
        "duration": 8,
        "start_time": "2022-07-27T11:38:27.328Z"
      },
      {
        "duration": 142,
        "start_time": "2022-07-27T11:38:27.337Z"
      },
      {
        "duration": 8,
        "start_time": "2022-07-27T11:38:27.481Z"
      },
      {
        "duration": 120,
        "start_time": "2022-07-27T11:38:27.511Z"
      },
      {
        "duration": 6,
        "start_time": "2022-07-27T11:38:27.633Z"
      },
      {
        "duration": 124,
        "start_time": "2022-07-27T11:38:27.641Z"
      },
      {
        "duration": 173,
        "start_time": "2022-07-27T11:38:27.767Z"
      },
      {
        "duration": 7,
        "start_time": "2022-07-27T11:38:27.941Z"
      },
      {
        "duration": 12,
        "start_time": "2022-07-27T11:38:27.950Z"
      },
      {
        "duration": 9,
        "start_time": "2022-07-27T11:38:27.965Z"
      },
      {
        "duration": 16,
        "start_time": "2022-07-27T11:38:27.976Z"
      },
      {
        "duration": 195,
        "start_time": "2022-07-27T11:38:27.994Z"
      },
      {
        "duration": 3,
        "start_time": "2022-07-27T11:38:28.191Z"
      },
      {
        "duration": 49,
        "start_time": "2022-07-27T11:38:28.196Z"
      },
      {
        "duration": 33,
        "start_time": "2022-07-27T11:38:28.247Z"
      },
      {
        "duration": 57949,
        "start_time": "2022-07-27T11:38:28.282Z"
      },
      {
        "duration": 273,
        "start_time": "2022-07-27T11:39:26.234Z"
      },
      {
        "duration": 7,
        "start_time": "2022-07-27T11:41:50.505Z"
      },
      {
        "duration": 59227,
        "start_time": "2022-07-27T11:48:20.166Z"
      },
      {
        "duration": 131,
        "start_time": "2022-07-27T11:50:55.907Z"
      },
      {
        "duration": 20,
        "start_time": "2022-07-27T11:51:03.241Z"
      },
      {
        "duration": 59669,
        "start_time": "2022-07-27T11:52:56.859Z"
      },
      {
        "duration": 62525,
        "start_time": "2022-07-27T11:54:35.496Z"
      },
      {
        "duration": 64075,
        "start_time": "2022-07-27T11:55:55.538Z"
      },
      {
        "duration": 6,
        "start_time": "2022-07-27T11:57:50.740Z"
      },
      {
        "duration": 4,
        "start_time": "2022-07-27T11:57:52.964Z"
      },
      {
        "duration": 37218,
        "start_time": "2022-07-27T11:57:55.887Z"
      },
      {
        "duration": 19,
        "start_time": "2022-07-27T11:58:54.229Z"
      },
      {
        "duration": 15,
        "start_time": "2022-07-27T12:00:36.953Z"
      },
      {
        "duration": 4,
        "start_time": "2022-07-27T12:00:43.698Z"
      },
      {
        "duration": 32314,
        "start_time": "2022-07-27T12:00:44.946Z"
      },
      {
        "duration": 32381,
        "start_time": "2022-07-27T12:02:26.036Z"
      },
      {
        "duration": 4,
        "start_time": "2022-07-27T12:05:44.173Z"
      },
      {
        "duration": 6,
        "start_time": "2022-07-27T12:07:08.540Z"
      },
      {
        "duration": 52,
        "start_time": "2022-07-27T12:12:26.130Z"
      },
      {
        "duration": 3,
        "start_time": "2022-07-27T12:13:56.196Z"
      },
      {
        "duration": 19,
        "start_time": "2022-07-27T12:14:10.709Z"
      },
      {
        "duration": 4,
        "start_time": "2022-07-27T12:21:01.762Z"
      },
      {
        "duration": 11,
        "start_time": "2022-07-27T12:21:26.432Z"
      },
      {
        "duration": 39,
        "start_time": "2022-07-27T12:21:48.591Z"
      },
      {
        "duration": 19,
        "start_time": "2022-07-27T12:22:05.714Z"
      },
      {
        "duration": 13,
        "start_time": "2022-07-27T12:22:39.790Z"
      },
      {
        "duration": 21,
        "start_time": "2022-07-27T12:22:56.804Z"
      },
      {
        "duration": 68,
        "start_time": "2022-07-27T14:15:44.526Z"
      },
      {
        "duration": 1600,
        "start_time": "2022-07-27T14:15:48.872Z"
      },
      {
        "duration": 913,
        "start_time": "2022-07-27T14:15:50.474Z"
      },
      {
        "duration": 27,
        "start_time": "2022-07-27T14:15:51.389Z"
      },
      {
        "duration": 220,
        "start_time": "2022-07-27T14:15:51.418Z"
      },
      {
        "duration": 21,
        "start_time": "2022-07-27T14:15:51.640Z"
      },
      {
        "duration": 16,
        "start_time": "2022-07-27T14:15:51.663Z"
      },
      {
        "duration": 33,
        "start_time": "2022-07-27T14:15:51.680Z"
      },
      {
        "duration": 50,
        "start_time": "2022-07-27T14:15:51.715Z"
      },
      {
        "duration": 9,
        "start_time": "2022-07-27T14:15:51.767Z"
      },
      {
        "duration": 144,
        "start_time": "2022-07-27T14:15:51.780Z"
      },
      {
        "duration": 431,
        "start_time": "2022-07-27T14:15:51.926Z"
      },
      {
        "duration": 13,
        "start_time": "2022-07-27T14:15:52.359Z"
      },
      {
        "duration": 22,
        "start_time": "2022-07-27T14:15:52.373Z"
      },
      {
        "duration": 26,
        "start_time": "2022-07-27T14:15:52.397Z"
      },
      {
        "duration": 18,
        "start_time": "2022-07-27T14:15:52.425Z"
      },
      {
        "duration": 7,
        "start_time": "2022-07-27T14:15:52.445Z"
      },
      {
        "duration": 24,
        "start_time": "2022-07-27T14:15:52.454Z"
      },
      {
        "duration": 2038,
        "start_time": "2022-07-27T14:15:52.479Z"
      },
      {
        "duration": 25,
        "start_time": "2022-07-27T14:15:54.521Z"
      },
      {
        "duration": 11,
        "start_time": "2022-07-27T14:15:54.548Z"
      },
      {
        "duration": 13,
        "start_time": "2022-07-27T14:15:54.561Z"
      },
      {
        "duration": 56,
        "start_time": "2022-07-27T14:15:54.577Z"
      },
      {
        "duration": 14,
        "start_time": "2022-07-27T14:15:54.635Z"
      },
      {
        "duration": 34,
        "start_time": "2022-07-27T14:15:54.651Z"
      },
      {
        "duration": 39,
        "start_time": "2022-07-27T14:15:54.687Z"
      },
      {
        "duration": 130,
        "start_time": "2022-07-27T14:15:54.727Z"
      },
      {
        "duration": 6,
        "start_time": "2022-07-27T14:15:54.858Z"
      },
      {
        "duration": 123,
        "start_time": "2022-07-27T14:15:54.867Z"
      },
      {
        "duration": 20,
        "start_time": "2022-07-27T14:15:54.992Z"
      },
      {
        "duration": 128,
        "start_time": "2022-07-27T14:15:55.013Z"
      },
      {
        "duration": 251,
        "start_time": "2022-07-27T14:15:55.142Z"
      },
      {
        "duration": 9,
        "start_time": "2022-07-27T14:15:55.407Z"
      },
      {
        "duration": 20,
        "start_time": "2022-07-27T14:15:55.417Z"
      },
      {
        "duration": 17,
        "start_time": "2022-07-27T14:15:55.438Z"
      },
      {
        "duration": 8,
        "start_time": "2022-07-27T14:15:55.457Z"
      },
      {
        "duration": 147,
        "start_time": "2022-07-27T14:15:55.467Z"
      },
      {
        "duration": 4,
        "start_time": "2022-07-27T14:15:55.617Z"
      },
      {
        "duration": 26,
        "start_time": "2022-07-27T14:15:55.623Z"
      },
      {
        "duration": 17,
        "start_time": "2022-07-27T14:15:55.651Z"
      },
      {
        "duration": 15,
        "start_time": "2022-07-27T14:15:55.670Z"
      },
      {
        "duration": 124,
        "start_time": "2022-07-27T14:15:55.687Z"
      },
      {
        "duration": 87,
        "start_time": "2022-07-27T14:15:55.816Z"
      },
      {
        "duration": 33,
        "start_time": "2022-07-27T14:16:16.268Z"
      },
      {
        "duration": 61,
        "start_time": "2022-07-27T14:18:18.760Z"
      },
      {
        "duration": 50,
        "start_time": "2022-07-27T14:18:34.948Z"
      },
      {
        "duration": 294,
        "start_time": "2022-07-27T14:18:45.330Z"
      },
      {
        "duration": 27,
        "start_time": "2022-07-27T14:19:11.483Z"
      },
      {
        "duration": 183,
        "start_time": "2022-07-27T14:20:02.972Z"
      },
      {
        "duration": 14,
        "start_time": "2022-07-27T14:21:09.811Z"
      },
      {
        "duration": 196,
        "start_time": "2022-07-27T14:21:36.263Z"
      },
      {
        "duration": 17,
        "start_time": "2022-07-27T14:22:04.066Z"
      },
      {
        "duration": 56,
        "start_time": "2022-07-27T14:23:40.120Z"
      },
      {
        "duration": 96,
        "start_time": "2022-07-27T14:23:54.107Z"
      },
      {
        "duration": 18,
        "start_time": "2022-07-27T14:24:34.550Z"
      },
      {
        "duration": 19,
        "start_time": "2022-07-27T14:25:11.332Z"
      },
      {
        "duration": 65,
        "start_time": "2022-07-27T14:25:30.254Z"
      },
      {
        "duration": 109,
        "start_time": "2022-07-27T14:25:37.610Z"
      },
      {
        "duration": 152,
        "start_time": "2022-07-27T14:26:55.275Z"
      },
      {
        "duration": 8398,
        "start_time": "2022-07-27T14:27:52.741Z"
      },
      {
        "duration": 18,
        "start_time": "2022-07-27T14:28:24.049Z"
      },
      {
        "duration": 4,
        "start_time": "2022-07-27T14:28:27.736Z"
      },
      {
        "duration": 13,
        "start_time": "2022-07-27T14:28:28.298Z"
      },
      {
        "duration": 41,
        "start_time": "2022-07-27T14:28:28.979Z"
      },
      {
        "duration": 278,
        "start_time": "2022-07-27T14:28:37.053Z"
      },
      {
        "duration": 200,
        "start_time": "2022-07-27T14:28:43.710Z"
      },
      {
        "duration": 288,
        "start_time": "2022-07-27T14:28:54.145Z"
      },
      {
        "duration": 15876,
        "start_time": "2022-07-27T14:28:58.711Z"
      },
      {
        "duration": 13,
        "start_time": "2022-07-27T14:37:08.617Z"
      },
      {
        "duration": 3,
        "start_time": "2022-07-27T14:37:13.660Z"
      },
      {
        "duration": 4,
        "start_time": "2022-07-27T14:37:14.599Z"
      },
      {
        "duration": 21,
        "start_time": "2022-07-27T14:37:15.385Z"
      },
      {
        "duration": 40,
        "start_time": "2022-07-27T14:37:24.069Z"
      },
      {
        "duration": 166,
        "start_time": "2022-07-27T14:37:29.443Z"
      },
      {
        "duration": 8023,
        "start_time": "2022-07-27T14:37:37.354Z"
      },
      {
        "duration": 13,
        "start_time": "2022-07-27T14:40:48.796Z"
      },
      {
        "duration": 277,
        "start_time": "2022-07-27T14:43:22.027Z"
      },
      {
        "duration": 60,
        "start_time": "2022-07-27T14:44:40.623Z"
      },
      {
        "duration": 74,
        "start_time": "2022-07-27T14:46:58.777Z"
      },
      {
        "duration": 5,
        "start_time": "2022-07-27T14:47:38.894Z"
      },
      {
        "duration": 7,
        "start_time": "2022-07-27T14:47:51.520Z"
      },
      {
        "duration": 5,
        "start_time": "2022-07-27T14:48:13.069Z"
      },
      {
        "duration": 9,
        "start_time": "2022-07-27T14:48:47.484Z"
      },
      {
        "duration": 4,
        "start_time": "2022-07-27T14:48:48.630Z"
      },
      {
        "duration": 5,
        "start_time": "2022-07-27T14:48:49.064Z"
      },
      {
        "duration": 186,
        "start_time": "2022-07-27T14:48:51.813Z"
      },
      {
        "duration": 173,
        "start_time": "2022-07-27T14:48:57.740Z"
      },
      {
        "duration": 9588,
        "start_time": "2022-07-27T14:49:01.548Z"
      },
      {
        "duration": 120,
        "start_time": "2022-07-27T14:49:39.491Z"
      },
      {
        "duration": 70,
        "start_time": "2022-07-27T14:53:19.557Z"
      },
      {
        "duration": 103,
        "start_time": "2022-07-27T14:53:54.015Z"
      },
      {
        "duration": 75,
        "start_time": "2022-07-27T14:54:23.757Z"
      },
      {
        "duration": 135,
        "start_time": "2022-07-27T14:57:24.614Z"
      },
      {
        "duration": 14,
        "start_time": "2022-07-27T15:01:00.514Z"
      },
      {
        "duration": 20,
        "start_time": "2022-07-27T15:01:12.772Z"
      },
      {
        "duration": 10,
        "start_time": "2022-07-27T15:03:35.435Z"
      },
      {
        "duration": 129,
        "start_time": "2022-07-27T15:06:47.790Z"
      },
      {
        "duration": 1518,
        "start_time": "2022-07-27T15:07:39.121Z"
      },
      {
        "duration": 1599,
        "start_time": "2022-07-27T15:08:04.543Z"
      },
      {
        "duration": 88028,
        "start_time": "2022-07-27T15:08:25.421Z"
      },
      {
        "duration": 81,
        "start_time": "2022-07-27T15:10:32.242Z"
      },
      {
        "duration": 79,
        "start_time": "2022-07-27T15:10:59.263Z"
      },
      {
        "duration": 74,
        "start_time": "2022-07-27T15:11:09.544Z"
      },
      {
        "duration": 1510,
        "start_time": "2022-07-27T15:11:29.148Z"
      },
      {
        "duration": 88441,
        "start_time": "2022-07-27T15:11:43.562Z"
      },
      {
        "duration": 7,
        "start_time": "2022-07-27T15:51:29.085Z"
      },
      {
        "duration": 5,
        "start_time": "2022-07-27T15:51:29.775Z"
      },
      {
        "duration": 4,
        "start_time": "2022-07-27T15:51:30.364Z"
      },
      {
        "duration": 89,
        "start_time": "2022-07-27T15:51:50.120Z"
      },
      {
        "duration": 215,
        "start_time": "2022-07-27T15:52:06.476Z"
      },
      {
        "duration": 10660,
        "start_time": "2022-07-27T15:52:23.703Z"
      },
      {
        "duration": 1609,
        "start_time": "2022-07-27T15:55:20.125Z"
      },
      {
        "duration": 230,
        "start_time": "2022-07-27T15:55:24.293Z"
      },
      {
        "duration": 4,
        "start_time": "2022-07-27T15:56:10.566Z"
      },
      {
        "duration": 8,
        "start_time": "2022-07-27T15:56:12.423Z"
      },
      {
        "duration": 6,
        "start_time": "2022-07-27T15:58:14.686Z"
      },
      {
        "duration": 124287,
        "start_time": "2022-07-27T15:59:23.350Z"
      },
      {
        "duration": 3,
        "start_time": "2022-07-27T16:02:01.801Z"
      },
      {
        "duration": 22,
        "start_time": "2022-07-27T16:02:02.401Z"
      },
      {
        "duration": 4,
        "start_time": "2022-07-27T16:02:03.477Z"
      },
      {
        "duration": 5,
        "start_time": "2022-07-27T16:02:04.090Z"
      },
      {
        "duration": 88676,
        "start_time": "2022-07-27T16:02:11.649Z"
      },
      {
        "duration": 1541,
        "start_time": "2022-07-27T16:03:40.335Z"
      },
      {
        "duration": 141,
        "start_time": "2022-07-27T16:03:41.878Z"
      },
      {
        "duration": 7,
        "start_time": "2022-07-27T16:03:53.320Z"
      },
      {
        "duration": 5,
        "start_time": "2022-07-27T16:03:53.888Z"
      },
      {
        "duration": 4,
        "start_time": "2022-07-27T16:03:54.793Z"
      },
      {
        "duration": 879,
        "start_time": "2022-07-27T16:03:56.848Z"
      },
      {
        "duration": 2064,
        "start_time": "2022-07-27T16:03:58.059Z"
      },
      {
        "duration": 125330,
        "start_time": "2022-07-27T16:04:00.128Z"
      },
      {
        "duration": 4,
        "start_time": "2022-07-27T16:19:33.223Z"
      },
      {
        "duration": 611,
        "start_time": "2022-07-27T16:24:03.605Z"
      },
      {
        "duration": 298,
        "start_time": "2022-07-27T16:24:18.141Z"
      },
      {
        "duration": 3,
        "start_time": "2022-07-27T16:24:55.549Z"
      },
      {
        "duration": 6,
        "start_time": "2022-07-27T16:24:58.329Z"
      },
      {
        "duration": 4,
        "start_time": "2022-07-27T16:24:59.479Z"
      },
      {
        "duration": 6,
        "start_time": "2022-07-27T16:25:03.837Z"
      },
      {
        "duration": 595,
        "start_time": "2022-07-27T16:25:14.416Z"
      },
      {
        "duration": 551,
        "start_time": "2022-07-27T16:25:56.350Z"
      },
      {
        "duration": 14,
        "start_time": "2022-07-27T16:26:21.025Z"
      },
      {
        "duration": 4,
        "start_time": "2022-07-27T16:28:14.554Z"
      },
      {
        "duration": 20,
        "start_time": "2022-07-27T16:28:15.453Z"
      },
      {
        "duration": 3,
        "start_time": "2022-07-27T16:29:28.625Z"
      },
      {
        "duration": 155,
        "start_time": "2022-07-27T16:29:29.374Z"
      },
      {
        "duration": 31,
        "start_time": "2022-07-27T16:30:49.874Z"
      },
      {
        "duration": 17,
        "start_time": "2022-07-27T16:31:04.124Z"
      },
      {
        "duration": 4,
        "start_time": "2022-07-27T16:31:21.725Z"
      },
      {
        "duration": 13,
        "start_time": "2022-07-27T16:31:22.362Z"
      },
      {
        "duration": 9950,
        "start_time": "2022-07-27T16:32:57.783Z"
      },
      {
        "duration": 1560,
        "start_time": "2022-07-28T10:57:04.446Z"
      },
      {
        "duration": 1249,
        "start_time": "2022-07-28T10:57:06.008Z"
      },
      {
        "duration": 24,
        "start_time": "2022-07-28T10:57:07.260Z"
      },
      {
        "duration": 243,
        "start_time": "2022-07-28T10:57:07.286Z"
      },
      {
        "duration": 24,
        "start_time": "2022-07-28T10:57:07.532Z"
      },
      {
        "duration": 13,
        "start_time": "2022-07-28T10:57:07.558Z"
      },
      {
        "duration": 31,
        "start_time": "2022-07-28T10:57:07.574Z"
      },
      {
        "duration": 63,
        "start_time": "2022-07-28T10:57:07.607Z"
      },
      {
        "duration": 9,
        "start_time": "2022-07-28T10:57:07.672Z"
      },
      {
        "duration": 157,
        "start_time": "2022-07-28T10:57:07.683Z"
      },
      {
        "duration": 217,
        "start_time": "2022-07-28T10:57:07.841Z"
      },
      {
        "duration": 13,
        "start_time": "2022-07-28T10:57:08.059Z"
      },
      {
        "duration": 20,
        "start_time": "2022-07-28T10:57:08.073Z"
      },
      {
        "duration": 11,
        "start_time": "2022-07-28T10:57:08.095Z"
      },
      {
        "duration": 20,
        "start_time": "2022-07-28T10:57:08.107Z"
      },
      {
        "duration": 22,
        "start_time": "2022-07-28T10:57:08.128Z"
      },
      {
        "duration": 25,
        "start_time": "2022-07-28T10:57:08.151Z"
      },
      {
        "duration": 566,
        "start_time": "2022-07-28T10:57:08.177Z"
      },
      {
        "duration": 17,
        "start_time": "2022-07-28T10:57:08.745Z"
      },
      {
        "duration": 16,
        "start_time": "2022-07-28T10:57:08.764Z"
      },
      {
        "duration": 13,
        "start_time": "2022-07-28T10:57:08.781Z"
      },
      {
        "duration": 31,
        "start_time": "2022-07-28T10:57:08.795Z"
      },
      {
        "duration": 6,
        "start_time": "2022-07-28T10:57:08.831Z"
      },
      {
        "duration": 44,
        "start_time": "2022-07-28T10:57:08.839Z"
      },
      {
        "duration": 26,
        "start_time": "2022-07-28T10:57:08.884Z"
      },
      {
        "duration": 127,
        "start_time": "2022-07-28T10:57:08.912Z"
      },
      {
        "duration": 6,
        "start_time": "2022-07-28T10:57:09.041Z"
      },
      {
        "duration": 126,
        "start_time": "2022-07-28T10:57:09.049Z"
      },
      {
        "duration": 5,
        "start_time": "2022-07-28T10:57:09.176Z"
      },
      {
        "duration": 121,
        "start_time": "2022-07-28T10:57:09.183Z"
      },
      {
        "duration": 252,
        "start_time": "2022-07-28T10:57:09.306Z"
      },
      {
        "duration": 6,
        "start_time": "2022-07-28T10:57:09.560Z"
      },
      {
        "duration": 9,
        "start_time": "2022-07-28T10:57:09.568Z"
      },
      {
        "duration": 5,
        "start_time": "2022-07-28T10:57:09.579Z"
      },
      {
        "duration": 6,
        "start_time": "2022-07-28T10:57:09.586Z"
      },
      {
        "duration": 132,
        "start_time": "2022-07-28T10:57:09.593Z"
      },
      {
        "duration": 4,
        "start_time": "2022-07-28T10:57:09.726Z"
      },
      {
        "duration": 25,
        "start_time": "2022-07-28T10:57:09.731Z"
      },
      {
        "duration": 9,
        "start_time": "2022-07-28T10:57:09.757Z"
      },
      {
        "duration": 6,
        "start_time": "2022-07-28T10:57:09.768Z"
      },
      {
        "duration": 9,
        "start_time": "2022-07-28T10:57:09.777Z"
      },
      {
        "duration": 164,
        "start_time": "2022-07-28T10:57:09.788Z"
      },
      {
        "duration": 204,
        "start_time": "2022-07-28T10:57:09.954Z"
      },
      {
        "duration": 8232,
        "start_time": "2022-07-28T10:57:10.160Z"
      },
      {
        "duration": 67676,
        "start_time": "2022-07-28T10:57:18.393Z"
      },
      {
        "duration": 1157,
        "start_time": "2022-07-28T10:58:26.070Z"
      },
      {
        "duration": 118,
        "start_time": "2022-07-28T10:58:27.231Z"
      },
      {
        "duration": 84,
        "start_time": "2022-07-28T10:58:27.350Z"
      },
      {
        "duration": 94,
        "start_time": "2022-07-28T10:58:27.437Z"
      },
      {
        "duration": 5,
        "start_time": "2022-07-28T10:58:27.533Z"
      },
      {
        "duration": 7,
        "start_time": "2022-07-28T10:58:27.539Z"
      },
      {
        "duration": 1091,
        "start_time": "2022-07-28T10:58:27.547Z"
      },
      {
        "duration": 1707,
        "start_time": "2022-07-28T10:58:28.640Z"
      },
      {
        "duration": 90966,
        "start_time": "2022-07-28T10:58:30.348Z"
      },
      {
        "duration": 4,
        "start_time": "2022-07-28T11:00:01.315Z"
      },
      {
        "duration": 23,
        "start_time": "2022-07-28T11:00:01.321Z"
      },
      {
        "duration": 28,
        "start_time": "2022-07-28T11:00:01.349Z"
      },
      {
        "duration": 84,
        "start_time": "2022-07-28T11:24:54.363Z"
      },
      {
        "duration": 100,
        "start_time": "2022-07-28T11:25:16.086Z"
      },
      {
        "duration": 4,
        "start_time": "2022-07-28T11:25:44.165Z"
      },
      {
        "duration": 13,
        "start_time": "2022-07-28T11:35:11.931Z"
      },
      {
        "duration": 123,
        "start_time": "2022-07-28T11:37:35.327Z"
      },
      {
        "duration": 4,
        "start_time": "2022-07-28T11:38:12.594Z"
      },
      {
        "duration": 21,
        "start_time": "2022-07-28T11:38:18.231Z"
      },
      {
        "duration": 5,
        "start_time": "2022-07-28T11:39:59.248Z"
      },
      {
        "duration": 10,
        "start_time": "2022-07-28T11:41:40.193Z"
      },
      {
        "duration": 3,
        "start_time": "2022-07-28T12:06:46.255Z"
      },
      {
        "duration": 3,
        "start_time": "2022-07-28T12:06:48.214Z"
      },
      {
        "duration": 3,
        "start_time": "2022-07-28T12:08:39.296Z"
      },
      {
        "duration": 71,
        "start_time": "2022-07-28T12:09:34.382Z"
      },
      {
        "duration": 14,
        "start_time": "2022-07-28T12:17:31.203Z"
      },
      {
        "duration": 20,
        "start_time": "2022-07-28T12:17:42.761Z"
      },
      {
        "duration": 235,
        "start_time": "2022-07-28T12:18:52.580Z"
      },
      {
        "duration": 14,
        "start_time": "2022-07-28T12:18:53.852Z"
      },
      {
        "duration": 20,
        "start_time": "2022-07-28T12:19:00.857Z"
      },
      {
        "duration": 3,
        "start_time": "2022-07-28T12:19:29.791Z"
      },
      {
        "duration": 6,
        "start_time": "2022-07-28T12:19:30.423Z"
      },
      {
        "duration": 3,
        "start_time": "2022-07-28T12:19:34.224Z"
      },
      {
        "duration": 4,
        "start_time": "2022-07-28T12:19:34.689Z"
      },
      {
        "duration": 20,
        "start_time": "2022-07-28T12:19:43.421Z"
      },
      {
        "duration": 3,
        "start_time": "2022-07-28T12:19:51.589Z"
      },
      {
        "duration": 20,
        "start_time": "2022-07-28T12:19:57.843Z"
      },
      {
        "duration": 27,
        "start_time": "2022-07-28T12:20:17.655Z"
      },
      {
        "duration": 43,
        "start_time": "2022-07-28T12:22:28.483Z"
      },
      {
        "duration": 9,
        "start_time": "2022-07-28T12:22:29.088Z"
      },
      {
        "duration": 21,
        "start_time": "2022-07-28T12:22:35.576Z"
      },
      {
        "duration": 4,
        "start_time": "2022-07-28T12:22:57.806Z"
      },
      {
        "duration": 5,
        "start_time": "2022-07-28T12:22:58.362Z"
      },
      {
        "duration": 5,
        "start_time": "2022-07-28T12:23:01.004Z"
      },
      {
        "duration": 4,
        "start_time": "2022-07-28T12:23:01.446Z"
      },
      {
        "duration": 398,
        "start_time": "2022-07-28T12:23:07.970Z"
      },
      {
        "duration": 388,
        "start_time": "2022-07-28T12:23:23.987Z"
      },
      {
        "duration": 21902,
        "start_time": "2022-07-28T12:25:24.752Z"
      },
      {
        "duration": 280,
        "start_time": "2022-07-28T12:26:18.068Z"
      },
      {
        "duration": 47,
        "start_time": "2022-07-28T13:53:25.896Z"
      },
      {
        "duration": 6,
        "start_time": "2022-07-28T13:53:26.501Z"
      },
      {
        "duration": 7,
        "start_time": "2022-07-28T13:53:31.983Z"
      },
      {
        "duration": 1432,
        "start_time": "2022-07-28T13:53:38.882Z"
      },
      {
        "duration": 812,
        "start_time": "2022-07-28T13:53:43.261Z"
      },
      {
        "duration": 16,
        "start_time": "2022-07-28T13:53:44.075Z"
      },
      {
        "duration": 1250,
        "start_time": "2022-07-28T13:54:23.447Z"
      },
      {
        "duration": 245,
        "start_time": "2022-07-28T13:54:24.699Z"
      },
      {
        "duration": 29,
        "start_time": "2022-07-28T13:54:24.945Z"
      },
      {
        "duration": 221,
        "start_time": "2022-07-28T13:54:24.976Z"
      },
      {
        "duration": 18,
        "start_time": "2022-07-28T13:54:25.198Z"
      },
      {
        "duration": 16,
        "start_time": "2022-07-28T13:54:25.217Z"
      },
      {
        "duration": 9,
        "start_time": "2022-07-28T13:54:25.234Z"
      },
      {
        "duration": 55,
        "start_time": "2022-07-28T13:54:25.244Z"
      },
      {
        "duration": 8,
        "start_time": "2022-07-28T13:54:25.300Z"
      },
      {
        "duration": 122,
        "start_time": "2022-07-28T13:54:25.312Z"
      },
      {
        "duration": 350,
        "start_time": "2022-07-28T13:54:25.435Z"
      },
      {
        "duration": 12,
        "start_time": "2022-07-28T13:54:25.786Z"
      },
      {
        "duration": 38,
        "start_time": "2022-07-28T13:54:25.800Z"
      },
      {
        "duration": 22,
        "start_time": "2022-07-28T13:54:25.840Z"
      },
      {
        "duration": 30,
        "start_time": "2022-07-28T13:54:25.864Z"
      },
      {
        "duration": 20,
        "start_time": "2022-07-28T13:54:25.896Z"
      },
      {
        "duration": 24,
        "start_time": "2022-07-28T13:54:25.917Z"
      },
      {
        "duration": 1566,
        "start_time": "2022-07-28T13:54:25.943Z"
      },
      {
        "duration": 17,
        "start_time": "2022-07-28T13:54:27.511Z"
      },
      {
        "duration": 17,
        "start_time": "2022-07-28T13:54:27.529Z"
      },
      {
        "duration": 28,
        "start_time": "2022-07-28T13:54:27.548Z"
      },
      {
        "duration": 32,
        "start_time": "2022-07-28T13:54:27.578Z"
      },
      {
        "duration": 13,
        "start_time": "2022-07-28T13:54:27.611Z"
      },
      {
        "duration": 25,
        "start_time": "2022-07-28T13:54:27.626Z"
      },
      {
        "duration": 42,
        "start_time": "2022-07-28T13:54:27.652Z"
      },
      {
        "duration": 130,
        "start_time": "2022-07-28T13:54:27.695Z"
      },
      {
        "duration": 6,
        "start_time": "2022-07-28T13:54:27.826Z"
      },
      {
        "duration": 140,
        "start_time": "2022-07-28T13:54:27.836Z"
      },
      {
        "duration": 7,
        "start_time": "2022-07-28T13:54:27.978Z"
      },
      {
        "duration": 128,
        "start_time": "2022-07-28T13:54:27.987Z"
      },
      {
        "duration": 231,
        "start_time": "2022-07-28T13:54:28.117Z"
      },
      {
        "duration": 7,
        "start_time": "2022-07-28T13:54:28.350Z"
      },
      {
        "duration": 21,
        "start_time": "2022-07-28T13:54:28.358Z"
      },
      {
        "duration": 24,
        "start_time": "2022-07-28T13:54:28.381Z"
      },
      {
        "duration": 23,
        "start_time": "2022-07-28T13:54:28.407Z"
      },
      {
        "duration": 155,
        "start_time": "2022-07-28T13:54:28.432Z"
      },
      {
        "duration": 51,
        "start_time": "2022-07-28T13:54:28.588Z"
      },
      {
        "duration": 0,
        "start_time": "2022-07-28T13:54:28.641Z"
      },
      {
        "duration": 0,
        "start_time": "2022-07-28T13:54:28.643Z"
      },
      {
        "duration": 0,
        "start_time": "2022-07-28T13:54:28.644Z"
      },
      {
        "duration": 0,
        "start_time": "2022-07-28T13:54:28.645Z"
      },
      {
        "duration": 0,
        "start_time": "2022-07-28T13:54:28.646Z"
      },
      {
        "duration": 0,
        "start_time": "2022-07-28T13:54:28.648Z"
      },
      {
        "duration": 0,
        "start_time": "2022-07-28T13:54:28.649Z"
      },
      {
        "duration": 0,
        "start_time": "2022-07-28T13:54:28.650Z"
      },
      {
        "duration": 0,
        "start_time": "2022-07-28T13:54:28.651Z"
      },
      {
        "duration": 0,
        "start_time": "2022-07-28T13:54:28.652Z"
      },
      {
        "duration": 0,
        "start_time": "2022-07-28T13:54:28.654Z"
      },
      {
        "duration": 0,
        "start_time": "2022-07-28T13:54:28.655Z"
      },
      {
        "duration": 0,
        "start_time": "2022-07-28T13:54:28.656Z"
      },
      {
        "duration": 0,
        "start_time": "2022-07-28T13:54:28.657Z"
      },
      {
        "duration": 0,
        "start_time": "2022-07-28T13:54:28.658Z"
      },
      {
        "duration": 0,
        "start_time": "2022-07-28T13:54:28.659Z"
      },
      {
        "duration": 0,
        "start_time": "2022-07-28T13:54:28.660Z"
      },
      {
        "duration": 0,
        "start_time": "2022-07-28T13:54:28.662Z"
      },
      {
        "duration": 0,
        "start_time": "2022-07-28T13:54:28.663Z"
      },
      {
        "duration": 0,
        "start_time": "2022-07-28T13:54:28.665Z"
      },
      {
        "duration": 0,
        "start_time": "2022-07-28T13:54:28.666Z"
      },
      {
        "duration": 0,
        "start_time": "2022-07-28T13:54:28.667Z"
      },
      {
        "duration": 0,
        "start_time": "2022-07-28T13:54:28.668Z"
      },
      {
        "duration": 0,
        "start_time": "2022-07-28T13:54:28.673Z"
      },
      {
        "duration": 0,
        "start_time": "2022-07-28T13:54:28.674Z"
      },
      {
        "duration": 0,
        "start_time": "2022-07-28T13:54:28.675Z"
      },
      {
        "duration": 105,
        "start_time": "2022-07-28T13:57:44.916Z"
      },
      {
        "duration": 3,
        "start_time": "2022-07-28T13:58:53.581Z"
      },
      {
        "duration": 5,
        "start_time": "2022-07-28T13:58:54.992Z"
      },
      {
        "duration": 4,
        "start_time": "2022-07-28T13:58:56.298Z"
      },
      {
        "duration": 4,
        "start_time": "2022-07-28T13:59:01.308Z"
      },
      {
        "duration": 2,
        "start_time": "2022-07-28T13:59:01.740Z"
      },
      {
        "duration": 17,
        "start_time": "2022-07-28T13:59:07.542Z"
      },
      {
        "duration": 11,
        "start_time": "2022-07-28T13:59:08.342Z"
      },
      {
        "duration": 11,
        "start_time": "2022-07-28T13:59:32.242Z"
      },
      {
        "duration": 4,
        "start_time": "2022-07-28T13:59:59.149Z"
      },
      {
        "duration": 3,
        "start_time": "2022-07-28T14:00:00.444Z"
      },
      {
        "duration": 3,
        "start_time": "2022-07-28T14:00:19.381Z"
      },
      {
        "duration": 3,
        "start_time": "2022-07-28T14:00:19.848Z"
      },
      {
        "duration": 80,
        "start_time": "2022-07-28T14:00:22.195Z"
      },
      {
        "duration": 12,
        "start_time": "2022-07-28T14:00:24.318Z"
      },
      {
        "duration": 2,
        "start_time": "2022-07-28T14:00:37.279Z"
      },
      {
        "duration": 5,
        "start_time": "2022-07-28T14:00:37.691Z"
      },
      {
        "duration": 5,
        "start_time": "2022-07-28T14:00:38.305Z"
      },
      {
        "duration": 5,
        "start_time": "2022-07-28T14:00:39.015Z"
      },
      {
        "duration": 9,
        "start_time": "2022-07-28T14:00:44.268Z"
      },
      {
        "duration": 14,
        "start_time": "2022-07-28T14:00:53.194Z"
      },
      {
        "duration": 4,
        "start_time": "2022-07-28T14:00:58.517Z"
      },
      {
        "duration": 18,
        "start_time": "2022-07-28T14:01:04.781Z"
      },
      {
        "duration": 10,
        "start_time": "2022-07-28T14:01:05.418Z"
      },
      {
        "duration": 491,
        "start_time": "2022-07-28T14:01:13.134Z"
      },
      {
        "duration": 28583,
        "start_time": "2022-07-28T14:03:02.741Z"
      },
      {
        "duration": 357,
        "start_time": "2022-07-28T14:03:31.325Z"
      },
      {
        "duration": 368,
        "start_time": "2022-07-28T14:04:09.949Z"
      },
      {
        "duration": 20955,
        "start_time": "2022-07-28T14:04:11.466Z"
      },
      {
        "duration": 9738,
        "start_time": "2022-07-28T14:06:37.474Z"
      },
      {
        "duration": 10,
        "start_time": "2022-07-28T14:06:53.340Z"
      },
      {
        "duration": 4,
        "start_time": "2022-07-28T14:24:07.256Z"
      },
      {
        "duration": 11,
        "start_time": "2022-07-28T14:26:47.087Z"
      },
      {
        "duration": 668383,
        "start_time": "2022-07-28T14:27:09.610Z"
      },
      {
        "duration": 4,
        "start_time": "2022-07-28T14:38:17.995Z"
      },
      {
        "duration": 177,
        "start_time": "2022-07-28T14:43:14.794Z"
      },
      {
        "duration": 7338,
        "start_time": "2022-07-28T14:43:30.524Z"
      },
      {
        "duration": 7138,
        "start_time": "2022-07-28T14:43:43.740Z"
      },
      {
        "duration": 3,
        "start_time": "2022-07-28T14:44:49.738Z"
      },
      {
        "duration": 15,
        "start_time": "2022-07-28T14:45:26.841Z"
      },
      {
        "duration": 400,
        "start_time": "2022-07-28T14:47:32.985Z"
      },
      {
        "duration": 2,
        "start_time": "2022-07-28T14:47:53.465Z"
      },
      {
        "duration": 565,
        "start_time": "2022-07-28T14:48:02.912Z"
      },
      {
        "duration": 1487,
        "start_time": "2022-07-28T14:48:20.582Z"
      },
      {
        "duration": 84625,
        "start_time": "2022-07-28T14:48:35.937Z"
      },
      {
        "duration": 121,
        "start_time": "2022-07-28T14:50:00.564Z"
      },
      {
        "duration": 63210,
        "start_time": "2022-07-28T14:50:14.910Z"
      },
      {
        "duration": 1098,
        "start_time": "2022-07-28T14:51:18.122Z"
      },
      {
        "duration": 89,
        "start_time": "2022-07-28T14:51:19.221Z"
      },
      {
        "duration": 3,
        "start_time": "2022-07-28T14:52:09.049Z"
      },
      {
        "duration": 62,
        "start_time": "2022-07-28T14:52:15.858Z"
      },
      {
        "duration": 6339,
        "start_time": "2022-07-28T14:52:19.096Z"
      },
      {
        "duration": 1092,
        "start_time": "2022-07-28T14:52:28.701Z"
      },
      {
        "duration": 7271,
        "start_time": "2022-07-28T14:54:10.927Z"
      },
      {
        "duration": 4,
        "start_time": "2022-07-28T14:54:32.388Z"
      },
      {
        "duration": 63677,
        "start_time": "2022-07-28T14:54:45.250Z"
      },
      {
        "duration": 1090,
        "start_time": "2022-07-28T14:55:48.929Z"
      },
      {
        "duration": 87,
        "start_time": "2022-07-28T14:55:50.021Z"
      },
      {
        "duration": 9,
        "start_time": "2022-07-28T14:55:50.110Z"
      },
      {
        "duration": 341,
        "start_time": "2022-07-28T14:58:48.338Z"
      },
      {
        "duration": 44,
        "start_time": "2022-07-28T20:09:28.581Z"
      },
      {
        "duration": 1423,
        "start_time": "2022-07-28T20:16:23.944Z"
      },
      {
        "duration": 1065,
        "start_time": "2022-07-28T20:16:25.369Z"
      },
      {
        "duration": 16,
        "start_time": "2022-07-28T20:16:26.436Z"
      },
      {
        "duration": 208,
        "start_time": "2022-07-28T20:16:26.454Z"
      },
      {
        "duration": 18,
        "start_time": "2022-07-28T20:16:26.663Z"
      },
      {
        "duration": 12,
        "start_time": "2022-07-28T20:16:26.682Z"
      },
      {
        "duration": 9,
        "start_time": "2022-07-28T20:16:26.695Z"
      },
      {
        "duration": 61,
        "start_time": "2022-07-28T20:16:26.705Z"
      },
      {
        "duration": 7,
        "start_time": "2022-07-28T20:16:26.767Z"
      },
      {
        "duration": 118,
        "start_time": "2022-07-28T20:16:26.777Z"
      },
      {
        "duration": 151,
        "start_time": "2022-07-28T20:16:26.897Z"
      },
      {
        "duration": 12,
        "start_time": "2022-07-28T20:16:27.050Z"
      },
      {
        "duration": 19,
        "start_time": "2022-07-28T20:16:27.063Z"
      },
      {
        "duration": 10,
        "start_time": "2022-07-28T20:16:27.083Z"
      },
      {
        "duration": 15,
        "start_time": "2022-07-28T20:16:27.095Z"
      },
      {
        "duration": 5,
        "start_time": "2022-07-28T20:16:27.112Z"
      },
      {
        "duration": 19,
        "start_time": "2022-07-28T20:16:27.131Z"
      },
      {
        "duration": 494,
        "start_time": "2022-07-28T20:16:27.152Z"
      },
      {
        "duration": 22,
        "start_time": "2022-07-28T20:16:27.648Z"
      },
      {
        "duration": 10,
        "start_time": "2022-07-28T20:16:27.672Z"
      },
      {
        "duration": 7,
        "start_time": "2022-07-28T20:16:27.684Z"
      },
      {
        "duration": 30,
        "start_time": "2022-07-28T20:16:27.693Z"
      },
      {
        "duration": 9,
        "start_time": "2022-07-28T20:16:27.725Z"
      },
      {
        "duration": 30,
        "start_time": "2022-07-28T20:16:27.735Z"
      },
      {
        "duration": 6,
        "start_time": "2022-07-28T20:16:27.767Z"
      },
      {
        "duration": 138,
        "start_time": "2022-07-28T20:16:27.775Z"
      },
      {
        "duration": 6,
        "start_time": "2022-07-28T20:16:27.914Z"
      },
      {
        "duration": 98,
        "start_time": "2022-07-28T20:16:27.933Z"
      },
      {
        "duration": 6,
        "start_time": "2022-07-28T20:16:28.032Z"
      },
      {
        "duration": 101,
        "start_time": "2022-07-28T20:16:28.039Z"
      },
      {
        "duration": 6,
        "start_time": "2022-07-28T20:16:28.141Z"
      },
      {
        "duration": 7,
        "start_time": "2022-07-28T20:16:28.148Z"
      },
      {
        "duration": 5,
        "start_time": "2022-07-28T20:16:28.156Z"
      },
      {
        "duration": 6,
        "start_time": "2022-07-28T20:16:28.162Z"
      },
      {
        "duration": 119,
        "start_time": "2022-07-28T20:16:28.169Z"
      },
      {
        "duration": 2,
        "start_time": "2022-07-28T20:16:28.290Z"
      },
      {
        "duration": 5,
        "start_time": "2022-07-28T20:16:28.294Z"
      },
      {
        "duration": 4,
        "start_time": "2022-07-28T20:16:28.300Z"
      },
      {
        "duration": 6,
        "start_time": "2022-07-28T20:16:28.305Z"
      },
      {
        "duration": 107,
        "start_time": "2022-07-28T20:16:28.313Z"
      },
      {
        "duration": 0,
        "start_time": "2022-07-28T20:16:28.421Z"
      },
      {
        "duration": 0,
        "start_time": "2022-07-28T20:16:28.422Z"
      },
      {
        "duration": 0,
        "start_time": "2022-07-28T20:16:28.423Z"
      },
      {
        "duration": 0,
        "start_time": "2022-07-28T20:16:28.431Z"
      },
      {
        "duration": 0,
        "start_time": "2022-07-28T20:16:28.432Z"
      },
      {
        "duration": 0,
        "start_time": "2022-07-28T20:16:28.432Z"
      },
      {
        "duration": 0,
        "start_time": "2022-07-28T20:16:28.433Z"
      },
      {
        "duration": 0,
        "start_time": "2022-07-28T20:16:28.434Z"
      },
      {
        "duration": 0,
        "start_time": "2022-07-28T20:16:28.435Z"
      },
      {
        "duration": 0,
        "start_time": "2022-07-28T20:16:28.436Z"
      },
      {
        "duration": 0,
        "start_time": "2022-07-28T20:16:28.437Z"
      },
      {
        "duration": 0,
        "start_time": "2022-07-28T20:16:28.438Z"
      },
      {
        "duration": 0,
        "start_time": "2022-07-28T20:16:28.439Z"
      },
      {
        "duration": 0,
        "start_time": "2022-07-28T20:16:28.440Z"
      },
      {
        "duration": 0,
        "start_time": "2022-07-28T20:16:28.441Z"
      },
      {
        "duration": 0,
        "start_time": "2022-07-28T20:16:28.442Z"
      },
      {
        "duration": 9,
        "start_time": "2022-07-28T20:16:48.643Z"
      },
      {
        "duration": 8,
        "start_time": "2022-07-28T20:17:21.770Z"
      },
      {
        "duration": 3,
        "start_time": "2022-07-28T20:17:28.162Z"
      },
      {
        "duration": 5,
        "start_time": "2022-07-28T20:17:28.682Z"
      },
      {
        "duration": 4,
        "start_time": "2022-07-28T20:17:30.846Z"
      },
      {
        "duration": 3,
        "start_time": "2022-07-28T20:17:31.713Z"
      },
      {
        "duration": 4,
        "start_time": "2022-07-28T20:17:34.095Z"
      },
      {
        "duration": 4,
        "start_time": "2022-07-28T20:17:34.554Z"
      },
      {
        "duration": 10,
        "start_time": "2022-07-28T20:17:37.795Z"
      },
      {
        "duration": 3,
        "start_time": "2022-07-28T20:19:29.613Z"
      },
      {
        "duration": 2,
        "start_time": "2022-07-28T20:19:32.053Z"
      },
      {
        "duration": 6,
        "start_time": "2022-07-28T20:19:33.822Z"
      },
      {
        "duration": 4,
        "start_time": "2022-07-28T20:19:34.025Z"
      },
      {
        "duration": 2,
        "start_time": "2022-07-28T20:19:34.482Z"
      },
      {
        "duration": 4,
        "start_time": "2022-07-28T20:19:36.484Z"
      },
      {
        "duration": 4,
        "start_time": "2022-07-28T20:19:36.642Z"
      },
      {
        "duration": 1123,
        "start_time": "2022-07-28T20:19:39.738Z"
      },
      {
        "duration": 64200,
        "start_time": "2022-07-28T20:19:44.646Z"
      },
      {
        "duration": 97,
        "start_time": "2022-07-28T20:21:02.950Z"
      },
      {
        "duration": 1532,
        "start_time": "2022-07-28T20:21:07.899Z"
      },
      {
        "duration": 86932,
        "start_time": "2022-07-28T20:21:14.177Z"
      },
      {
        "duration": 715,
        "start_time": "2022-07-28T20:23:14.723Z"
      },
      {
        "duration": 16,
        "start_time": "2022-07-28T20:23:27.828Z"
      },
      {
        "duration": 16,
        "start_time": "2022-07-28T20:23:42.973Z"
      },
      {
        "duration": 17,
        "start_time": "2022-07-28T20:23:53.574Z"
      },
      {
        "duration": 2,
        "start_time": "2022-07-28T20:25:04.104Z"
      },
      {
        "duration": 12,
        "start_time": "2022-07-28T20:25:14.542Z"
      },
      {
        "duration": 14,
        "start_time": "2022-07-28T20:25:46.214Z"
      },
      {
        "duration": 17,
        "start_time": "2022-07-28T20:26:39.001Z"
      },
      {
        "duration": 14,
        "start_time": "2022-07-28T20:26:43.158Z"
      },
      {
        "duration": 4,
        "start_time": "2022-07-28T20:27:11.129Z"
      },
      {
        "duration": 110,
        "start_time": "2022-07-28T20:28:29.721Z"
      },
      {
        "duration": 13,
        "start_time": "2022-07-28T20:28:39.170Z"
      },
      {
        "duration": 7,
        "start_time": "2022-07-28T20:36:41.985Z"
      },
      {
        "duration": 6,
        "start_time": "2022-07-28T20:37:19.185Z"
      },
      {
        "duration": 7,
        "start_time": "2022-07-28T20:38:50.887Z"
      },
      {
        "duration": 7,
        "start_time": "2022-07-28T20:41:08.546Z"
      },
      {
        "duration": 8,
        "start_time": "2022-07-28T20:41:36.706Z"
      },
      {
        "duration": 80,
        "start_time": "2022-07-29T10:16:11.116Z"
      },
      {
        "duration": 1732,
        "start_time": "2022-07-29T10:16:17.553Z"
      },
      {
        "duration": 1123,
        "start_time": "2022-07-29T10:16:19.288Z"
      },
      {
        "duration": 19,
        "start_time": "2022-07-29T10:16:20.413Z"
      },
      {
        "duration": 260,
        "start_time": "2022-07-29T10:16:20.435Z"
      },
      {
        "duration": 23,
        "start_time": "2022-07-29T10:16:20.703Z"
      },
      {
        "duration": 11,
        "start_time": "2022-07-29T10:16:20.729Z"
      },
      {
        "duration": 11,
        "start_time": "2022-07-29T10:16:20.743Z"
      },
      {
        "duration": 78,
        "start_time": "2022-07-29T10:16:20.756Z"
      },
      {
        "duration": 12,
        "start_time": "2022-07-29T10:16:20.835Z"
      },
      {
        "duration": 162,
        "start_time": "2022-07-29T10:16:20.850Z"
      },
      {
        "duration": 156,
        "start_time": "2022-07-29T10:16:21.014Z"
      },
      {
        "duration": 15,
        "start_time": "2022-07-29T10:16:21.172Z"
      },
      {
        "duration": 23,
        "start_time": "2022-07-29T10:16:21.189Z"
      },
      {
        "duration": 39,
        "start_time": "2022-07-29T10:16:21.214Z"
      },
      {
        "duration": 38,
        "start_time": "2022-07-29T10:16:21.254Z"
      },
      {
        "duration": 8,
        "start_time": "2022-07-29T10:16:21.294Z"
      },
      {
        "duration": 54,
        "start_time": "2022-07-29T10:16:21.304Z"
      },
      {
        "duration": 627,
        "start_time": "2022-07-29T10:16:21.360Z"
      },
      {
        "duration": 21,
        "start_time": "2022-07-29T10:16:21.989Z"
      },
      {
        "duration": 11,
        "start_time": "2022-07-29T10:16:22.012Z"
      },
      {
        "duration": 7,
        "start_time": "2022-07-29T10:16:22.025Z"
      },
      {
        "duration": 21,
        "start_time": "2022-07-29T10:16:22.034Z"
      },
      {
        "duration": 5,
        "start_time": "2022-07-29T10:16:22.057Z"
      },
      {
        "duration": 41,
        "start_time": "2022-07-29T10:16:22.064Z"
      },
      {
        "duration": 7,
        "start_time": "2022-07-29T10:16:22.108Z"
      },
      {
        "duration": 188,
        "start_time": "2022-07-29T10:16:22.117Z"
      },
      {
        "duration": 7,
        "start_time": "2022-07-29T10:16:22.307Z"
      },
      {
        "duration": 132,
        "start_time": "2022-07-29T10:16:22.318Z"
      },
      {
        "duration": 7,
        "start_time": "2022-07-29T10:16:22.451Z"
      },
      {
        "duration": 131,
        "start_time": "2022-07-29T10:16:22.459Z"
      },
      {
        "duration": 13,
        "start_time": "2022-07-29T10:16:22.593Z"
      },
      {
        "duration": 11,
        "start_time": "2022-07-29T10:16:22.608Z"
      },
      {
        "duration": 211,
        "start_time": "2022-07-29T10:16:22.621Z"
      },
      {
        "duration": 4,
        "start_time": "2022-07-29T10:16:22.834Z"
      },
      {
        "duration": 35,
        "start_time": "2022-07-29T10:16:22.840Z"
      },
      {
        "duration": 92,
        "start_time": "2022-07-29T10:16:22.877Z"
      },
      {
        "duration": 19,
        "start_time": "2022-07-29T10:16:22.971Z"
      },
      {
        "duration": 14,
        "start_time": "2022-07-29T10:16:22.993Z"
      },
      {
        "duration": 16,
        "start_time": "2022-07-29T10:16:23.009Z"
      },
      {
        "duration": 17,
        "start_time": "2022-07-29T10:16:23.027Z"
      },
      {
        "duration": 26,
        "start_time": "2022-07-29T10:16:23.047Z"
      },
      {
        "duration": 14,
        "start_time": "2022-07-29T10:16:23.076Z"
      },
      {
        "duration": 23,
        "start_time": "2022-07-29T10:16:23.093Z"
      },
      {
        "duration": 13,
        "start_time": "2022-07-29T10:16:23.118Z"
      },
      {
        "duration": 21,
        "start_time": "2022-07-29T10:16:23.133Z"
      },
      {
        "duration": 1321,
        "start_time": "2022-07-29T10:16:23.157Z"
      },
      {
        "duration": 7898,
        "start_time": "2022-07-29T10:16:24.481Z"
      },
      {
        "duration": 76114,
        "start_time": "2022-07-29T10:16:32.382Z"
      },
      {
        "duration": 131,
        "start_time": "2022-07-29T10:17:48.505Z"
      },
      {
        "duration": 1874,
        "start_time": "2022-07-29T10:17:48.638Z"
      },
      {
        "duration": 103911,
        "start_time": "2022-07-29T10:17:50.514Z"
      },
      {
        "duration": 1003,
        "start_time": "2022-07-29T10:19:34.426Z"
      },
      {
        "duration": 191,
        "start_time": "2022-07-29T10:19:35.433Z"
      },
      {
        "duration": 100,
        "start_time": "2022-07-29T10:19:35.705Z"
      },
      {
        "duration": 111,
        "start_time": "2022-07-29T10:19:35.808Z"
      },
      {
        "duration": 7357,
        "start_time": "2022-07-29T10:19:35.924Z"
      },
      {
        "duration": 7045,
        "start_time": "2022-07-29T10:20:02.783Z"
      },
      {
        "duration": 7020,
        "start_time": "2022-07-29T10:21:19.428Z"
      },
      {
        "duration": 13133,
        "start_time": "2022-07-29T10:21:37.139Z"
      },
      {
        "duration": 2443574,
        "start_time": "2022-07-29T10:25:34.529Z"
      },
      {
        "duration": 13,
        "start_time": "2022-07-29T11:06:18.118Z"
      },
      {
        "duration": 4,
        "start_time": "2022-07-29T11:08:12.523Z"
      },
      {
        "duration": 7040,
        "start_time": "2022-07-29T11:08:20.244Z"
      },
      {
        "duration": 154,
        "start_time": "2022-07-29T11:09:17.227Z"
      },
      {
        "duration": 3,
        "start_time": "2022-07-29T11:09:41.922Z"
      },
      {
        "duration": 142,
        "start_time": "2022-07-29T11:09:47.245Z"
      },
      {
        "duration": 1185,
        "start_time": "2022-07-29T11:10:00.576Z"
      },
      {
        "duration": 146,
        "start_time": "2022-07-29T11:10:06.855Z"
      },
      {
        "duration": 3,
        "start_time": "2022-07-29T11:26:30.194Z"
      },
      {
        "duration": 1474,
        "start_time": "2022-07-29T11:26:45.710Z"
      },
      {
        "duration": 255,
        "start_time": "2022-07-29T11:26:47.186Z"
      },
      {
        "duration": 18,
        "start_time": "2022-07-29T11:26:47.443Z"
      },
      {
        "duration": 268,
        "start_time": "2022-07-29T11:26:47.464Z"
      },
      {
        "duration": 33,
        "start_time": "2022-07-29T11:26:47.734Z"
      },
      {
        "duration": 10,
        "start_time": "2022-07-29T11:26:47.769Z"
      },
      {
        "duration": 69,
        "start_time": "2022-07-29T11:26:47.781Z"
      },
      {
        "duration": 10,
        "start_time": "2022-07-29T11:26:47.853Z"
      },
      {
        "duration": 144,
        "start_time": "2022-07-29T11:26:47.865Z"
      },
      {
        "duration": 78,
        "start_time": "2022-07-29T11:26:48.011Z"
      },
      {
        "duration": 20,
        "start_time": "2022-07-29T11:26:48.091Z"
      },
      {
        "duration": 81,
        "start_time": "2022-07-29T11:26:48.113Z"
      },
      {
        "duration": 69,
        "start_time": "2022-07-29T11:26:48.195Z"
      },
      {
        "duration": 51,
        "start_time": "2022-07-29T11:26:48.266Z"
      },
      {
        "duration": 28,
        "start_time": "2022-07-29T11:26:48.318Z"
      },
      {
        "duration": 111,
        "start_time": "2022-07-29T11:26:48.348Z"
      },
      {
        "duration": 383,
        "start_time": "2022-07-29T11:26:48.461Z"
      },
      {
        "duration": 21,
        "start_time": "2022-07-29T11:26:48.846Z"
      },
      {
        "duration": 10,
        "start_time": "2022-07-29T11:26:48.869Z"
      },
      {
        "duration": 30,
        "start_time": "2022-07-29T11:26:48.881Z"
      },
      {
        "duration": 17,
        "start_time": "2022-07-29T11:26:48.913Z"
      },
      {
        "duration": 5,
        "start_time": "2022-07-29T11:26:48.932Z"
      },
      {
        "duration": 16,
        "start_time": "2022-07-29T11:26:48.939Z"
      },
      {
        "duration": 9,
        "start_time": "2022-07-29T11:26:48.957Z"
      },
      {
        "duration": 165,
        "start_time": "2022-07-29T11:26:48.967Z"
      },
      {
        "duration": 6,
        "start_time": "2022-07-29T11:26:49.135Z"
      },
      {
        "duration": 134,
        "start_time": "2022-07-29T11:26:49.143Z"
      },
      {
        "duration": 6,
        "start_time": "2022-07-29T11:26:49.281Z"
      },
      {
        "duration": 137,
        "start_time": "2022-07-29T11:26:49.288Z"
      },
      {
        "duration": 9,
        "start_time": "2022-07-29T11:26:49.427Z"
      },
      {
        "duration": 10,
        "start_time": "2022-07-29T11:26:49.438Z"
      },
      {
        "duration": 142,
        "start_time": "2022-07-29T11:26:49.450Z"
      },
      {
        "duration": 11,
        "start_time": "2022-07-29T11:26:49.594Z"
      },
      {
        "duration": 7,
        "start_time": "2022-07-29T11:26:49.607Z"
      },
      {
        "duration": 8,
        "start_time": "2022-07-29T11:26:49.617Z"
      },
      {
        "duration": 8,
        "start_time": "2022-07-29T11:26:49.627Z"
      },
      {
        "duration": 4,
        "start_time": "2022-07-29T11:26:49.637Z"
      },
      {
        "duration": 6,
        "start_time": "2022-07-29T11:26:49.643Z"
      },
      {
        "duration": 7,
        "start_time": "2022-07-29T11:26:49.651Z"
      },
      {
        "duration": 13,
        "start_time": "2022-07-29T11:26:49.661Z"
      },
      {
        "duration": 33,
        "start_time": "2022-07-29T11:26:49.676Z"
      },
      {
        "duration": 4,
        "start_time": "2022-07-29T11:26:49.712Z"
      },
      {
        "duration": 6,
        "start_time": "2022-07-29T11:26:49.718Z"
      },
      {
        "duration": 11,
        "start_time": "2022-07-29T11:26:49.726Z"
      },
      {
        "duration": 274,
        "start_time": "2022-07-29T11:26:49.739Z"
      },
      {
        "duration": 31237,
        "start_time": "2022-07-29T11:26:50.015Z"
      },
      {
        "duration": 0,
        "start_time": "2022-07-29T11:27:21.254Z"
      },
      {
        "duration": 0,
        "start_time": "2022-07-29T11:27:21.255Z"
      },
      {
        "duration": 0,
        "start_time": "2022-07-29T11:27:21.256Z"
      },
      {
        "duration": 0,
        "start_time": "2022-07-29T11:27:21.258Z"
      },
      {
        "duration": 0,
        "start_time": "2022-07-29T11:27:21.259Z"
      },
      {
        "duration": 0,
        "start_time": "2022-07-29T11:27:21.260Z"
      },
      {
        "duration": 0,
        "start_time": "2022-07-29T11:27:21.261Z"
      },
      {
        "duration": 0,
        "start_time": "2022-07-29T11:27:21.263Z"
      },
      {
        "duration": 77287,
        "start_time": "2022-07-29T11:27:48.658Z"
      },
      {
        "duration": 801491,
        "start_time": "2022-07-29T11:31:13.371Z"
      },
      {
        "duration": 807142,
        "start_time": "2022-07-29T11:54:22.858Z"
      },
      {
        "duration": 282,
        "start_time": "2022-07-29T14:47:36.711Z"
      },
      {
        "duration": 118,
        "start_time": "2022-07-29T14:51:02.305Z"
      },
      {
        "duration": 8,
        "start_time": "2022-07-29T14:53:12.944Z"
      },
      {
        "duration": 1451,
        "start_time": "2022-07-29T14:53:43.496Z"
      },
      {
        "duration": 292,
        "start_time": "2022-07-29T14:53:44.949Z"
      },
      {
        "duration": 19,
        "start_time": "2022-07-29T14:53:45.243Z"
      },
      {
        "duration": 294,
        "start_time": "2022-07-29T14:53:45.264Z"
      },
      {
        "duration": 23,
        "start_time": "2022-07-29T14:53:45.559Z"
      },
      {
        "duration": 25,
        "start_time": "2022-07-29T14:53:45.583Z"
      },
      {
        "duration": 48,
        "start_time": "2022-07-29T14:53:45.610Z"
      },
      {
        "duration": 10,
        "start_time": "2022-07-29T14:53:45.660Z"
      },
      {
        "duration": 150,
        "start_time": "2022-07-29T14:53:45.672Z"
      },
      {
        "duration": 79,
        "start_time": "2022-07-29T14:53:45.825Z"
      },
      {
        "duration": 15,
        "start_time": "2022-07-29T14:53:45.906Z"
      },
      {
        "duration": 23,
        "start_time": "2022-07-29T14:53:45.923Z"
      },
      {
        "duration": 15,
        "start_time": "2022-07-29T14:53:45.948Z"
      },
      {
        "duration": 46,
        "start_time": "2022-07-29T14:53:45.965Z"
      },
      {
        "duration": 8,
        "start_time": "2022-07-29T14:53:46.013Z"
      },
      {
        "duration": 29,
        "start_time": "2022-07-29T14:53:46.023Z"
      },
      {
        "duration": 395,
        "start_time": "2022-07-29T14:53:46.054Z"
      },
      {
        "duration": 19,
        "start_time": "2022-07-29T14:53:46.450Z"
      },
      {
        "duration": 12,
        "start_time": "2022-07-29T14:53:46.471Z"
      },
      {
        "duration": 7,
        "start_time": "2022-07-29T14:53:46.504Z"
      },
      {
        "duration": 28,
        "start_time": "2022-07-29T14:53:46.513Z"
      },
      {
        "duration": 6,
        "start_time": "2022-07-29T14:53:46.543Z"
      },
      {
        "duration": 18,
        "start_time": "2022-07-29T14:53:46.552Z"
      },
      {
        "duration": 17,
        "start_time": "2022-07-29T14:53:46.572Z"
      },
      {
        "duration": 181,
        "start_time": "2022-07-29T14:53:46.592Z"
      },
      {
        "duration": 6,
        "start_time": "2022-07-29T14:53:46.775Z"
      },
      {
        "duration": 123,
        "start_time": "2022-07-29T14:53:46.782Z"
      },
      {
        "duration": 14,
        "start_time": "2022-07-29T14:53:46.909Z"
      },
      {
        "duration": 115,
        "start_time": "2022-07-29T14:53:46.924Z"
      },
      {
        "duration": 8,
        "start_time": "2022-07-29T14:53:47.041Z"
      },
      {
        "duration": 6,
        "start_time": "2022-07-29T14:53:47.051Z"
      },
      {
        "duration": 139,
        "start_time": "2022-07-29T14:53:47.059Z"
      },
      {
        "duration": 3,
        "start_time": "2022-07-29T14:53:47.203Z"
      },
      {
        "duration": 6,
        "start_time": "2022-07-29T14:53:47.208Z"
      },
      {
        "duration": 6,
        "start_time": "2022-07-29T14:53:47.215Z"
      },
      {
        "duration": 7,
        "start_time": "2022-07-29T14:53:47.222Z"
      },
      {
        "duration": 12,
        "start_time": "2022-07-29T14:53:47.231Z"
      },
      {
        "duration": 3,
        "start_time": "2022-07-29T14:53:47.244Z"
      },
      {
        "duration": 4,
        "start_time": "2022-07-29T14:53:47.249Z"
      },
      {
        "duration": 7,
        "start_time": "2022-07-29T14:53:47.254Z"
      },
      {
        "duration": 7,
        "start_time": "2022-07-29T14:53:47.263Z"
      },
      {
        "duration": 33,
        "start_time": "2022-07-29T14:53:47.272Z"
      },
      {
        "duration": 3,
        "start_time": "2022-07-29T14:53:47.307Z"
      },
      {
        "duration": 7,
        "start_time": "2022-07-29T14:53:47.311Z"
      },
      {
        "duration": 8,
        "start_time": "2022-07-29T14:53:47.320Z"
      },
      {
        "duration": 248,
        "start_time": "2022-07-29T14:53:47.329Z"
      },
      {
        "duration": 6362,
        "start_time": "2022-07-29T14:53:47.579Z"
      },
      {
        "duration": 268,
        "start_time": "2022-07-29T14:53:53.943Z"
      },
      {
        "duration": 178451,
        "start_time": "2022-07-29T14:53:54.212Z"
      },
      {
        "duration": 0,
        "start_time": "2022-07-29T14:56:52.666Z"
      },
      {
        "duration": 0,
        "start_time": "2022-07-29T14:56:52.668Z"
      },
      {
        "duration": 0,
        "start_time": "2022-07-29T14:56:52.669Z"
      },
      {
        "duration": 0,
        "start_time": "2022-07-29T14:56:52.671Z"
      },
      {
        "duration": 0,
        "start_time": "2022-07-29T14:56:52.672Z"
      },
      {
        "duration": 0,
        "start_time": "2022-07-29T14:56:52.674Z"
      },
      {
        "duration": 0,
        "start_time": "2022-07-29T14:56:52.675Z"
      },
      {
        "duration": 0,
        "start_time": "2022-07-29T14:56:52.676Z"
      },
      {
        "duration": 0,
        "start_time": "2022-07-29T14:56:52.677Z"
      },
      {
        "duration": 0,
        "start_time": "2022-07-29T14:56:52.678Z"
      },
      {
        "duration": 0,
        "start_time": "2022-07-29T14:56:52.679Z"
      },
      {
        "duration": 0,
        "start_time": "2022-07-29T14:56:52.680Z"
      },
      {
        "duration": 101,
        "start_time": "2022-07-29T14:57:04.528Z"
      },
      {
        "duration": 10,
        "start_time": "2022-07-29T14:57:31.295Z"
      },
      {
        "duration": 3,
        "start_time": "2022-07-29T14:57:41.788Z"
      },
      {
        "duration": 5,
        "start_time": "2022-07-29T14:57:42.666Z"
      },
      {
        "duration": 11,
        "start_time": "2022-07-29T14:57:43.737Z"
      },
      {
        "duration": 3,
        "start_time": "2022-07-29T14:57:47.061Z"
      },
      {
        "duration": 3,
        "start_time": "2022-07-29T14:57:47.401Z"
      },
      {
        "duration": 191,
        "start_time": "2022-07-29T14:57:54.647Z"
      },
      {
        "duration": 11124,
        "start_time": "2022-07-29T14:57:58.408Z"
      },
      {
        "duration": 382,
        "start_time": "2022-07-29T14:58:23.828Z"
      },
      {
        "duration": 3,
        "start_time": "2022-07-29T14:59:09.195Z"
      },
      {
        "duration": 6,
        "start_time": "2022-07-29T14:59:10.098Z"
      },
      {
        "duration": 10,
        "start_time": "2022-07-29T14:59:10.797Z"
      },
      {
        "duration": 3,
        "start_time": "2022-07-29T14:59:12.900Z"
      },
      {
        "duration": 3,
        "start_time": "2022-07-29T14:59:13.367Z"
      },
      {
        "duration": 3,
        "start_time": "2022-07-29T14:59:18.565Z"
      },
      {
        "duration": 4,
        "start_time": "2022-07-29T14:59:19.001Z"
      },
      {
        "duration": 114,
        "start_time": "2022-07-29T14:59:21.591Z"
      },
      {
        "duration": 6268,
        "start_time": "2022-07-29T14:59:24.798Z"
      },
      {
        "duration": 249,
        "start_time": "2022-07-29T14:59:40.823Z"
      },
      {
        "duration": 52,
        "start_time": "2022-07-29T14:59:49.385Z"
      },
      {
        "duration": 3,
        "start_time": "2022-07-29T15:01:12.981Z"
      },
      {
        "duration": 6,
        "start_time": "2022-07-29T15:01:14.792Z"
      },
      {
        "duration": 5,
        "start_time": "2022-07-29T15:01:16.635Z"
      },
      {
        "duration": 3,
        "start_time": "2022-07-29T15:01:18.802Z"
      },
      {
        "duration": 941,
        "start_time": "2022-07-29T15:01:28.154Z"
      },
      {
        "duration": 53135,
        "start_time": "2022-07-29T15:01:31.905Z"
      },
      {
        "duration": 64,
        "start_time": "2022-07-29T15:02:35.510Z"
      },
      {
        "duration": 4863,
        "start_time": "2022-07-29T15:03:27.658Z"
      },
      {
        "duration": 123,
        "start_time": "2022-07-29T15:03:43.644Z"
      },
      {
        "duration": 582652,
        "start_time": "2022-07-29T15:04:39.279Z"
      },
      {
        "duration": 748,
        "start_time": "2022-07-29T15:15:22.644Z"
      },
      {
        "duration": 71,
        "start_time": "2022-07-29T15:15:38.536Z"
      },
      {
        "duration": 1433,
        "start_time": "2022-07-30T10:46:33.480Z"
      },
      {
        "duration": 828,
        "start_time": "2022-07-30T10:46:34.915Z"
      },
      {
        "duration": 19,
        "start_time": "2022-07-30T10:46:35.745Z"
      },
      {
        "duration": 246,
        "start_time": "2022-07-30T10:46:35.766Z"
      },
      {
        "duration": 26,
        "start_time": "2022-07-30T10:46:36.014Z"
      },
      {
        "duration": 21,
        "start_time": "2022-07-30T10:46:36.042Z"
      },
      {
        "duration": 62,
        "start_time": "2022-07-30T10:46:36.065Z"
      },
      {
        "duration": 8,
        "start_time": "2022-07-30T10:46:36.129Z"
      },
      {
        "duration": 136,
        "start_time": "2022-07-30T10:46:36.139Z"
      },
      {
        "duration": 372,
        "start_time": "2022-07-30T10:46:36.277Z"
      },
      {
        "duration": 14,
        "start_time": "2022-07-30T10:46:36.650Z"
      },
      {
        "duration": 22,
        "start_time": "2022-07-30T10:46:36.665Z"
      },
      {
        "duration": 14,
        "start_time": "2022-07-30T10:46:36.688Z"
      },
      {
        "duration": 27,
        "start_time": "2022-07-30T10:46:36.704Z"
      },
      {
        "duration": 7,
        "start_time": "2022-07-30T10:46:36.732Z"
      },
      {
        "duration": 27,
        "start_time": "2022-07-30T10:46:36.740Z"
      },
      {
        "duration": 1616,
        "start_time": "2022-07-30T10:46:36.769Z"
      },
      {
        "duration": 21,
        "start_time": "2022-07-30T10:46:38.386Z"
      },
      {
        "duration": 10,
        "start_time": "2022-07-30T10:46:38.409Z"
      },
      {
        "duration": 7,
        "start_time": "2022-07-30T10:46:38.421Z"
      },
      {
        "duration": 16,
        "start_time": "2022-07-30T10:46:38.429Z"
      },
      {
        "duration": 5,
        "start_time": "2022-07-30T10:46:38.447Z"
      },
      {
        "duration": 7,
        "start_time": "2022-07-30T10:46:38.453Z"
      },
      {
        "duration": 6,
        "start_time": "2022-07-30T10:46:38.462Z"
      },
      {
        "duration": 156,
        "start_time": "2022-07-30T10:46:38.469Z"
      },
      {
        "duration": 7,
        "start_time": "2022-07-30T10:46:38.627Z"
      },
      {
        "duration": 132,
        "start_time": "2022-07-30T10:46:38.635Z"
      },
      {
        "duration": 6,
        "start_time": "2022-07-30T10:46:38.772Z"
      },
      {
        "duration": 146,
        "start_time": "2022-07-30T10:46:38.779Z"
      },
      {
        "duration": 9,
        "start_time": "2022-07-30T10:46:38.928Z"
      },
      {
        "duration": 5,
        "start_time": "2022-07-30T10:46:38.940Z"
      },
      {
        "duration": 142,
        "start_time": "2022-07-30T10:46:38.947Z"
      },
      {
        "duration": 3,
        "start_time": "2022-07-30T10:46:39.091Z"
      },
      {
        "duration": 7,
        "start_time": "2022-07-30T10:46:39.096Z"
      },
      {
        "duration": 5,
        "start_time": "2022-07-30T10:46:39.104Z"
      },
      {
        "duration": 16,
        "start_time": "2022-07-30T10:46:39.111Z"
      },
      {
        "duration": 4,
        "start_time": "2022-07-30T10:46:39.128Z"
      },
      {
        "duration": 5,
        "start_time": "2022-07-30T10:46:39.134Z"
      },
      {
        "duration": 5,
        "start_time": "2022-07-30T10:46:39.140Z"
      },
      {
        "duration": 6,
        "start_time": "2022-07-30T10:46:39.146Z"
      },
      {
        "duration": 13,
        "start_time": "2022-07-30T10:46:39.154Z"
      },
      {
        "duration": 8,
        "start_time": "2022-07-30T10:46:39.169Z"
      },
      {
        "duration": 11,
        "start_time": "2022-07-30T10:46:39.179Z"
      },
      {
        "duration": 3,
        "start_time": "2022-07-30T10:46:39.191Z"
      },
      {
        "duration": 27,
        "start_time": "2022-07-30T10:46:39.196Z"
      },
      {
        "duration": 4,
        "start_time": "2022-07-30T10:46:39.226Z"
      },
      {
        "duration": 228,
        "start_time": "2022-07-30T10:46:39.231Z"
      },
      {
        "duration": 6125,
        "start_time": "2022-07-30T10:46:39.461Z"
      },
      {
        "duration": 253,
        "start_time": "2022-07-30T10:46:45.587Z"
      },
      {
        "duration": 761407,
        "start_time": "2022-07-30T10:46:45.841Z"
      },
      {
        "duration": 103,
        "start_time": "2022-07-30T10:59:27.250Z"
      },
      {
        "duration": 238,
        "start_time": "2022-07-30T10:59:27.355Z"
      },
      {
        "duration": 7553,
        "start_time": "2022-07-30T10:59:27.595Z"
      },
      {
        "duration": 1121,
        "start_time": "2022-07-30T10:59:35.150Z"
      },
      {
        "duration": 125003,
        "start_time": "2022-07-30T10:59:36.272Z"
      },
      {
        "duration": 0,
        "start_time": "2022-07-30T11:01:41.278Z"
      },
      {
        "duration": 0,
        "start_time": "2022-07-30T11:01:41.280Z"
      },
      {
        "duration": 0,
        "start_time": "2022-07-30T11:01:41.281Z"
      },
      {
        "duration": 0,
        "start_time": "2022-07-30T11:01:41.282Z"
      },
      {
        "duration": 0,
        "start_time": "2022-07-30T11:01:41.284Z"
      },
      {
        "duration": 0,
        "start_time": "2022-07-30T11:01:41.285Z"
      },
      {
        "duration": 253,
        "start_time": "2022-07-30T11:01:43.507Z"
      },
      {
        "duration": 126,
        "start_time": "2022-07-30T11:01:48.317Z"
      },
      {
        "duration": 7784,
        "start_time": "2022-07-30T11:02:10.581Z"
      },
      {
        "duration": 227,
        "start_time": "2022-07-30T11:02:27.651Z"
      },
      {
        "duration": 7614,
        "start_time": "2022-07-30T11:02:46.947Z"
      },
      {
        "duration": 232,
        "start_time": "2022-07-30T11:03:02.940Z"
      },
      {
        "duration": 985949,
        "start_time": "2022-07-30T11:03:27.319Z"
      },
      {
        "duration": 6,
        "start_time": "2022-07-30T11:19:53.271Z"
      },
      {
        "duration": 1692,
        "start_time": "2022-07-30T11:23:06.203Z"
      },
      {
        "duration": 1098,
        "start_time": "2022-07-30T11:23:14.634Z"
      },
      {
        "duration": 20,
        "start_time": "2022-07-30T11:26:53.912Z"
      },
      {
        "duration": 16,
        "start_time": "2022-07-30T11:26:56.238Z"
      },
      {
        "duration": 4,
        "start_time": "2022-07-30T11:27:37.298Z"
      },
      {
        "duration": 188,
        "start_time": "2022-07-30T11:29:44.123Z"
      },
      {
        "duration": 4,
        "start_time": "2022-07-30T11:29:48.455Z"
      },
      {
        "duration": 34,
        "start_time": "2022-07-30T11:30:26.683Z"
      },
      {
        "duration": 4,
        "start_time": "2022-07-30T11:30:34.214Z"
      },
      {
        "duration": 3,
        "start_time": "2022-07-30T11:31:34.275Z"
      },
      {
        "duration": 6,
        "start_time": "2022-07-30T11:31:35.272Z"
      },
      {
        "duration": 11,
        "start_time": "2022-07-30T11:31:49.230Z"
      },
      {
        "duration": 3,
        "start_time": "2022-07-30T11:31:51.239Z"
      },
      {
        "duration": 2,
        "start_time": "2022-07-30T11:31:51.703Z"
      },
      {
        "duration": 10654,
        "start_time": "2022-07-30T11:32:00.273Z"
      },
      {
        "duration": 191,
        "start_time": "2022-07-30T11:32:14.821Z"
      },
      {
        "duration": 191,
        "start_time": "2022-07-30T11:32:51.171Z"
      },
      {
        "duration": 11041,
        "start_time": "2022-07-30T11:32:53.855Z"
      },
      {
        "duration": 3763,
        "start_time": "2022-07-30T11:33:39.413Z"
      },
      {
        "duration": 3961,
        "start_time": "2022-07-30T11:33:49.884Z"
      },
      {
        "duration": 111320,
        "start_time": "2022-07-30T11:33:57.912Z"
      },
      {
        "duration": 476,
        "start_time": "2022-07-30T11:36:02.699Z"
      },
      {
        "duration": 492,
        "start_time": "2022-07-30T11:36:07.239Z"
      },
      {
        "duration": 3,
        "start_time": "2022-07-30T11:36:45.482Z"
      },
      {
        "duration": 5,
        "start_time": "2022-07-30T11:36:46.295Z"
      },
      {
        "duration": 3,
        "start_time": "2022-07-30T11:36:47.062Z"
      },
      {
        "duration": 9,
        "start_time": "2022-07-30T11:36:47.579Z"
      },
      {
        "duration": 3,
        "start_time": "2022-07-30T11:36:49.795Z"
      },
      {
        "duration": 4,
        "start_time": "2022-07-30T11:36:53.451Z"
      },
      {
        "duration": 4,
        "start_time": "2022-07-30T11:36:53.828Z"
      },
      {
        "duration": 4204,
        "start_time": "2022-07-30T11:37:05.898Z"
      },
      {
        "duration": 140,
        "start_time": "2022-07-30T11:37:25.675Z"
      },
      {
        "duration": 88,
        "start_time": "2022-07-30T11:37:31.932Z"
      },
      {
        "duration": 144,
        "start_time": "2022-07-30T11:37:39.667Z"
      },
      {
        "duration": 164793,
        "start_time": "2022-07-30T11:37:49.322Z"
      },
      {
        "duration": 452,
        "start_time": "2022-07-30T11:41:37.550Z"
      },
      {
        "duration": 43,
        "start_time": "2022-07-30T11:41:44.762Z"
      },
      {
        "duration": 45,
        "start_time": "2022-07-30T11:41:53.470Z"
      },
      {
        "duration": 14,
        "start_time": "2022-07-30T11:42:50.319Z"
      },
      {
        "duration": 111,
        "start_time": "2022-07-30T11:43:03.689Z"
      },
      {
        "duration": 26,
        "start_time": "2022-07-30T11:43:32.394Z"
      },
      {
        "duration": 3,
        "start_time": "2022-07-30T11:45:46.043Z"
      },
      {
        "duration": 5,
        "start_time": "2022-07-30T11:45:46.756Z"
      },
      {
        "duration": 9,
        "start_time": "2022-07-30T11:45:48.610Z"
      },
      {
        "duration": 3,
        "start_time": "2022-07-30T11:45:49.392Z"
      },
      {
        "duration": 2,
        "start_time": "2022-07-30T11:45:49.569Z"
      },
      {
        "duration": 4,
        "start_time": "2022-07-30T11:45:55.047Z"
      },
      {
        "duration": 3,
        "start_time": "2022-07-30T11:45:55.264Z"
      },
      {
        "duration": 6182,
        "start_time": "2022-07-30T11:45:58.916Z"
      },
      {
        "duration": 113,
        "start_time": "2022-07-30T11:46:17.383Z"
      },
      {
        "duration": 62778,
        "start_time": "2022-07-30T11:46:26.081Z"
      },
      {
        "duration": 167,
        "start_time": "2022-07-30T11:48:25.763Z"
      },
      {
        "duration": 102,
        "start_time": "2022-07-30T11:48:29.029Z"
      },
      {
        "duration": 25,
        "start_time": "2022-07-30T11:49:41.047Z"
      },
      {
        "duration": 117,
        "start_time": "2022-07-30T11:49:49.544Z"
      },
      {
        "duration": 5,
        "start_time": "2022-07-30T11:50:10.154Z"
      },
      {
        "duration": 54,
        "start_time": "2022-07-30T11:50:49.283Z"
      },
      {
        "duration": 19,
        "start_time": "2022-07-30T11:51:38.313Z"
      },
      {
        "duration": 15,
        "start_time": "2022-07-30T11:53:06.886Z"
      },
      {
        "duration": 2,
        "start_time": "2022-07-30T11:53:36.534Z"
      },
      {
        "duration": 5,
        "start_time": "2022-07-30T11:53:37.045Z"
      },
      {
        "duration": 3,
        "start_time": "2022-07-30T11:53:47.727Z"
      },
      {
        "duration": 3,
        "start_time": "2022-07-30T11:53:48.053Z"
      },
      {
        "duration": 4,
        "start_time": "2022-07-30T11:53:52.103Z"
      },
      {
        "duration": 4,
        "start_time": "2022-07-30T11:53:52.262Z"
      },
      {
        "duration": 2002,
        "start_time": "2022-07-30T11:53:55.364Z"
      },
      {
        "duration": 148,
        "start_time": "2022-07-30T11:54:02.778Z"
      },
      {
        "duration": 63961,
        "start_time": "2022-07-30T11:54:06.966Z"
      },
      {
        "duration": 201,
        "start_time": "2022-07-30T11:55:20.462Z"
      },
      {
        "duration": 126,
        "start_time": "2022-07-30T11:55:23.204Z"
      },
      {
        "duration": 3,
        "start_time": "2022-07-30T11:55:48.760Z"
      },
      {
        "duration": 5,
        "start_time": "2022-07-30T11:55:49.090Z"
      },
      {
        "duration": 4,
        "start_time": "2022-07-30T11:55:49.861Z"
      },
      {
        "duration": 1487,
        "start_time": "2022-07-30T11:56:02.065Z"
      },
      {
        "duration": 202,
        "start_time": "2022-07-30T11:56:08.741Z"
      },
      {
        "duration": 123,
        "start_time": "2022-07-30T11:56:14.097Z"
      },
      {
        "duration": 173319,
        "start_time": "2022-07-30T11:56:23.271Z"
      },
      {
        "duration": 929,
        "start_time": "2022-07-30T11:59:28.563Z"
      },
      {
        "duration": 62,
        "start_time": "2022-07-30T11:59:34.652Z"
      },
      {
        "duration": 27,
        "start_time": "2022-07-30T12:00:03.780Z"
      },
      {
        "duration": 101,
        "start_time": "2022-07-30T12:00:34.845Z"
      },
      {
        "duration": 3,
        "start_time": "2022-07-30T12:00:37.831Z"
      },
      {
        "duration": 4559,
        "start_time": "2022-07-30T12:05:26.999Z"
      },
      {
        "duration": 3181,
        "start_time": "2022-07-30T12:08:26.937Z"
      },
      {
        "duration": 840,
        "start_time": "2022-07-30T12:10:02.827Z"
      },
      {
        "duration": 376914,
        "start_time": "2022-07-30T12:10:09.922Z"
      },
      {
        "duration": 74,
        "start_time": "2022-07-30T12:16:54.301Z"
      },
      {
        "duration": 142531,
        "start_time": "2022-07-30T12:17:23.951Z"
      },
      {
        "duration": 19,
        "start_time": "2022-07-30T12:21:22.447Z"
      },
      {
        "duration": 26,
        "start_time": "2022-07-30T12:21:28.096Z"
      },
      {
        "duration": 238,
        "start_time": "2022-07-30T12:21:42.412Z"
      },
      {
        "duration": 5,
        "start_time": "2022-07-30T12:21:45.690Z"
      },
      {
        "duration": 46,
        "start_time": "2022-07-30T14:16:58.024Z"
      },
      {
        "duration": 57,
        "start_time": "2022-07-30T14:49:03.304Z"
      },
      {
        "duration": 48,
        "start_time": "2022-07-30T14:56:21.221Z"
      },
      {
        "duration": 1455,
        "start_time": "2022-07-30T15:05:52.296Z"
      },
      {
        "duration": 823,
        "start_time": "2022-07-30T15:05:53.754Z"
      },
      {
        "duration": 18,
        "start_time": "2022-07-30T15:05:54.579Z"
      },
      {
        "duration": 230,
        "start_time": "2022-07-30T15:05:54.599Z"
      },
      {
        "duration": 19,
        "start_time": "2022-07-30T15:05:54.831Z"
      },
      {
        "duration": 8,
        "start_time": "2022-07-30T15:05:54.861Z"
      },
      {
        "duration": 50,
        "start_time": "2022-07-30T15:05:54.870Z"
      },
      {
        "duration": 8,
        "start_time": "2022-07-30T15:05:54.922Z"
      },
      {
        "duration": 132,
        "start_time": "2022-07-30T15:05:54.931Z"
      },
      {
        "duration": 386,
        "start_time": "2022-07-30T15:05:55.066Z"
      },
      {
        "duration": 13,
        "start_time": "2022-07-30T15:05:55.454Z"
      },
      {
        "duration": 25,
        "start_time": "2022-07-30T15:05:55.469Z"
      },
      {
        "duration": 7,
        "start_time": "2022-07-30T15:05:55.496Z"
      },
      {
        "duration": 17,
        "start_time": "2022-07-30T15:05:55.505Z"
      },
      {
        "duration": 6,
        "start_time": "2022-07-30T15:05:55.524Z"
      },
      {
        "duration": 45,
        "start_time": "2022-07-30T15:05:55.531Z"
      },
      {
        "duration": 1698,
        "start_time": "2022-07-30T15:05:55.577Z"
      },
      {
        "duration": 17,
        "start_time": "2022-07-30T15:05:57.277Z"
      },
      {
        "duration": 9,
        "start_time": "2022-07-30T15:05:57.295Z"
      },
      {
        "duration": 90,
        "start_time": "2022-07-30T15:05:57.306Z"
      },
      {
        "duration": 7,
        "start_time": "2022-07-30T15:05:57.398Z"
      },
      {
        "duration": 19,
        "start_time": "2022-07-30T15:05:57.406Z"
      },
      {
        "duration": 5,
        "start_time": "2022-07-30T15:05:57.426Z"
      },
      {
        "duration": 27,
        "start_time": "2022-07-30T15:05:57.433Z"
      },
      {
        "duration": 6,
        "start_time": "2022-07-30T15:05:57.462Z"
      },
      {
        "duration": 136,
        "start_time": "2022-07-30T15:05:57.469Z"
      },
      {
        "duration": 6,
        "start_time": "2022-07-30T15:05:57.607Z"
      },
      {
        "duration": 122,
        "start_time": "2022-07-30T15:05:57.616Z"
      },
      {
        "duration": 6,
        "start_time": "2022-07-30T15:05:57.740Z"
      },
      {
        "duration": 104,
        "start_time": "2022-07-30T15:05:57.747Z"
      },
      {
        "duration": 12,
        "start_time": "2022-07-30T15:05:57.852Z"
      },
      {
        "duration": 6,
        "start_time": "2022-07-30T15:05:57.866Z"
      },
      {
        "duration": 180,
        "start_time": "2022-07-30T15:05:57.874Z"
      },
      {
        "duration": 3,
        "start_time": "2022-07-30T15:05:58.060Z"
      },
      {
        "duration": 9,
        "start_time": "2022-07-30T15:05:58.064Z"
      },
      {
        "duration": 8,
        "start_time": "2022-07-30T15:05:58.074Z"
      },
      {
        "duration": 9,
        "start_time": "2022-07-30T15:05:58.083Z"
      },
      {
        "duration": 6,
        "start_time": "2022-07-30T15:05:58.093Z"
      },
      {
        "duration": 6,
        "start_time": "2022-07-30T15:05:58.100Z"
      },
      {
        "duration": 5,
        "start_time": "2022-07-30T15:05:58.107Z"
      },
      {
        "duration": 8,
        "start_time": "2022-07-30T15:05:58.114Z"
      },
      {
        "duration": 6,
        "start_time": "2022-07-30T15:05:58.123Z"
      },
      {
        "duration": 7,
        "start_time": "2022-07-30T15:05:58.130Z"
      },
      {
        "duration": 7,
        "start_time": "2022-07-30T15:05:58.138Z"
      },
      {
        "duration": 17,
        "start_time": "2022-07-30T15:05:58.146Z"
      },
      {
        "duration": 4313,
        "start_time": "2022-07-30T15:05:58.165Z"
      },
      {
        "duration": 139405,
        "start_time": "2022-07-30T15:06:02.480Z"
      },
      {
        "duration": 102,
        "start_time": "2022-07-30T15:08:21.887Z"
      },
      {
        "duration": 3168,
        "start_time": "2022-07-30T15:08:21.992Z"
      },
      {
        "duration": 367398,
        "start_time": "2022-07-30T15:08:25.162Z"
      },
      {
        "duration": 56,
        "start_time": "2022-07-30T15:14:32.561Z"
      },
      {
        "duration": 41,
        "start_time": "2022-07-30T15:14:32.619Z"
      },
      {
        "duration": 206,
        "start_time": "2022-07-30T15:14:32.662Z"
      },
      {
        "duration": 3,
        "start_time": "2022-07-30T15:14:32.870Z"
      },
      {
        "duration": 8,
        "start_time": "2022-07-30T15:14:32.875Z"
      },
      {
        "duration": 6,
        "start_time": "2022-07-30T15:15:48.981Z"
      },
      {
        "duration": 5,
        "start_time": "2022-07-30T15:15:50.800Z"
      },
      {
        "duration": 5,
        "start_time": "2022-07-30T15:16:37.005Z"
      },
      {
        "duration": 10,
        "start_time": "2022-07-30T15:22:24.237Z"
      },
      {
        "duration": 119,
        "start_time": "2022-07-30T15:24:04.591Z"
      },
      {
        "duration": 11,
        "start_time": "2022-07-30T15:24:27.943Z"
      },
      {
        "duration": 6,
        "start_time": "2022-07-30T15:25:16.893Z"
      },
      {
        "duration": 18,
        "start_time": "2022-07-30T15:27:28.068Z"
      },
      {
        "duration": 4,
        "start_time": "2022-07-30T15:27:31.860Z"
      },
      {
        "duration": 23,
        "start_time": "2022-07-30T15:29:16.807Z"
      },
      {
        "duration": 26,
        "start_time": "2022-07-30T15:29:22.249Z"
      },
      {
        "duration": 1589,
        "start_time": "2022-07-30T20:05:45.028Z"
      },
      {
        "duration": 858,
        "start_time": "2022-07-30T20:05:46.619Z"
      },
      {
        "duration": 18,
        "start_time": "2022-07-30T20:05:47.478Z"
      },
      {
        "duration": 250,
        "start_time": "2022-07-30T20:05:47.498Z"
      },
      {
        "duration": 22,
        "start_time": "2022-07-30T20:05:47.751Z"
      },
      {
        "duration": 10,
        "start_time": "2022-07-30T20:05:47.775Z"
      },
      {
        "duration": 2,
        "start_time": "2022-07-30T20:05:47.787Z"
      },
      {
        "duration": 65,
        "start_time": "2022-07-30T20:05:47.790Z"
      },
      {
        "duration": 8,
        "start_time": "2022-07-30T20:05:47.857Z"
      },
      {
        "duration": 137,
        "start_time": "2022-07-30T20:05:47.868Z"
      },
      {
        "duration": 412,
        "start_time": "2022-07-30T20:05:48.007Z"
      },
      {
        "duration": 16,
        "start_time": "2022-07-30T20:05:48.421Z"
      },
      {
        "duration": 26,
        "start_time": "2022-07-30T20:05:48.439Z"
      },
      {
        "duration": 11,
        "start_time": "2022-07-30T20:05:48.468Z"
      },
      {
        "duration": 19,
        "start_time": "2022-07-30T20:05:48.481Z"
      },
      {
        "duration": 40,
        "start_time": "2022-07-30T20:05:48.501Z"
      },
      {
        "duration": 24,
        "start_time": "2022-07-30T20:05:48.543Z"
      },
      {
        "duration": 1960,
        "start_time": "2022-07-30T20:05:48.569Z"
      },
      {
        "duration": 19,
        "start_time": "2022-07-30T20:05:50.531Z"
      },
      {
        "duration": 10,
        "start_time": "2022-07-30T20:05:50.552Z"
      },
      {
        "duration": 105,
        "start_time": "2022-07-30T20:05:50.564Z"
      },
      {
        "duration": 6,
        "start_time": "2022-07-30T20:05:50.671Z"
      },
      {
        "duration": 18,
        "start_time": "2022-07-30T20:05:50.679Z"
      },
      {
        "duration": 24,
        "start_time": "2022-07-30T20:05:50.699Z"
      },
      {
        "duration": 11,
        "start_time": "2022-07-30T20:05:50.725Z"
      },
      {
        "duration": 12,
        "start_time": "2022-07-30T20:05:50.738Z"
      },
      {
        "duration": 141,
        "start_time": "2022-07-30T20:05:50.752Z"
      },
      {
        "duration": 7,
        "start_time": "2022-07-30T20:05:50.894Z"
      },
      {
        "duration": 144,
        "start_time": "2022-07-30T20:05:50.903Z"
      },
      {
        "duration": 6,
        "start_time": "2022-07-30T20:05:51.050Z"
      },
      {
        "duration": 128,
        "start_time": "2022-07-30T20:05:51.058Z"
      },
      {
        "duration": 8,
        "start_time": "2022-07-30T20:05:51.188Z"
      },
      {
        "duration": 11,
        "start_time": "2022-07-30T20:05:51.198Z"
      },
      {
        "duration": 134,
        "start_time": "2022-07-30T20:05:51.224Z"
      },
      {
        "duration": 4,
        "start_time": "2022-07-30T20:05:51.360Z"
      },
      {
        "duration": 5,
        "start_time": "2022-07-30T20:05:51.365Z"
      },
      {
        "duration": 4,
        "start_time": "2022-07-30T20:05:51.372Z"
      },
      {
        "duration": 7,
        "start_time": "2022-07-30T20:05:51.378Z"
      },
      {
        "duration": 8,
        "start_time": "2022-07-30T20:05:51.386Z"
      },
      {
        "duration": 6,
        "start_time": "2022-07-30T20:05:51.396Z"
      },
      {
        "duration": 5,
        "start_time": "2022-07-30T20:05:51.428Z"
      },
      {
        "duration": 13,
        "start_time": "2022-07-30T20:05:51.435Z"
      },
      {
        "duration": 5,
        "start_time": "2022-07-30T20:05:51.450Z"
      },
      {
        "duration": 8,
        "start_time": "2022-07-30T20:05:51.457Z"
      },
      {
        "duration": 9,
        "start_time": "2022-07-30T20:05:51.466Z"
      },
      {
        "duration": 15,
        "start_time": "2022-07-30T20:05:51.477Z"
      },
      {
        "duration": 617,
        "start_time": "2022-07-30T20:05:51.494Z"
      },
      {
        "duration": 0,
        "start_time": "2022-07-30T20:05:52.113Z"
      },
      {
        "duration": 0,
        "start_time": "2022-07-30T20:05:52.114Z"
      },
      {
        "duration": 0,
        "start_time": "2022-07-30T20:05:52.116Z"
      },
      {
        "duration": 0,
        "start_time": "2022-07-30T20:05:52.124Z"
      },
      {
        "duration": 0,
        "start_time": "2022-07-30T20:05:52.125Z"
      },
      {
        "duration": 0,
        "start_time": "2022-07-30T20:05:52.127Z"
      },
      {
        "duration": 0,
        "start_time": "2022-07-30T20:05:52.128Z"
      },
      {
        "duration": 0,
        "start_time": "2022-07-30T20:05:52.129Z"
      },
      {
        "duration": 10,
        "start_time": "2022-07-30T20:06:19.379Z"
      },
      {
        "duration": 9,
        "start_time": "2022-07-30T20:06:24.246Z"
      },
      {
        "duration": 4,
        "start_time": "2022-07-30T20:09:23.166Z"
      },
      {
        "duration": 96,
        "start_time": "2022-07-30T20:09:32.357Z"
      },
      {
        "duration": 13,
        "start_time": "2022-07-30T20:09:33.104Z"
      },
      {
        "duration": 21,
        "start_time": "2022-07-30T20:09:37.645Z"
      },
      {
        "duration": 7,
        "start_time": "2022-07-30T20:09:40.096Z"
      },
      {
        "duration": 7,
        "start_time": "2022-07-30T20:09:50.521Z"
      },
      {
        "duration": 7,
        "start_time": "2022-07-30T20:09:52.857Z"
      },
      {
        "duration": 24,
        "start_time": "2022-07-30T20:10:04.086Z"
      },
      {
        "duration": 7,
        "start_time": "2022-07-30T20:12:32.398Z"
      },
      {
        "duration": 25,
        "start_time": "2022-07-30T20:12:35.658Z"
      },
      {
        "duration": 377,
        "start_time": "2022-07-30T20:12:39.836Z"
      },
      {
        "duration": 18,
        "start_time": "2022-07-30T20:12:40.438Z"
      },
      {
        "duration": 10,
        "start_time": "2022-07-30T20:13:10.647Z"
      },
      {
        "duration": 8,
        "start_time": "2022-07-30T20:13:51.065Z"
      },
      {
        "duration": 17,
        "start_time": "2022-07-30T20:14:39.767Z"
      },
      {
        "duration": 10,
        "start_time": "2022-07-30T20:14:40.705Z"
      },
      {
        "duration": 96,
        "start_time": "2022-07-30T20:14:42.545Z"
      },
      {
        "duration": 6,
        "start_time": "2022-07-30T20:14:48.473Z"
      },
      {
        "duration": 9,
        "start_time": "2022-07-30T20:14:48.994Z"
      },
      {
        "duration": 5,
        "start_time": "2022-07-30T20:14:52.588Z"
      },
      {
        "duration": 9,
        "start_time": "2022-07-30T20:17:26.840Z"
      },
      {
        "duration": 8,
        "start_time": "2022-07-30T20:19:03.705Z"
      },
      {
        "duration": 142,
        "start_time": "2022-07-30T20:19:11.458Z"
      },
      {
        "duration": 180,
        "start_time": "2022-07-30T20:19:31.785Z"
      },
      {
        "duration": 250,
        "start_time": "2022-07-30T20:20:12.622Z"
      },
      {
        "duration": 243,
        "start_time": "2022-07-30T20:20:44.666Z"
      },
      {
        "duration": 269,
        "start_time": "2022-07-30T20:20:56.420Z"
      },
      {
        "duration": 463,
        "start_time": "2022-07-30T20:21:08.105Z"
      },
      {
        "duration": 366,
        "start_time": "2022-07-30T20:21:26.521Z"
      },
      {
        "duration": 9,
        "start_time": "2022-07-30T20:23:12.519Z"
      },
      {
        "duration": 622,
        "start_time": "2022-07-30T20:23:50.321Z"
      },
      {
        "duration": 744,
        "start_time": "2022-07-30T20:27:23.798Z"
      },
      {
        "duration": 11,
        "start_time": "2022-07-30T20:30:17.884Z"
      },
      {
        "duration": 58,
        "start_time": "2022-07-30T20:30:38.379Z"
      },
      {
        "duration": 752,
        "start_time": "2022-07-30T20:30:47.965Z"
      },
      {
        "duration": 1654,
        "start_time": "2022-07-30T20:31:37.548Z"
      },
      {
        "duration": 652,
        "start_time": "2022-07-30T20:36:15.121Z"
      },
      {
        "duration": 794,
        "start_time": "2022-07-30T20:36:57.184Z"
      },
      {
        "duration": 670,
        "start_time": "2022-07-30T20:37:15.635Z"
      },
      {
        "duration": 802,
        "start_time": "2022-07-30T20:37:20.094Z"
      },
      {
        "duration": 640,
        "start_time": "2022-07-30T20:39:29.143Z"
      },
      {
        "duration": 404,
        "start_time": "2022-07-30T20:39:48.047Z"
      },
      {
        "duration": 844,
        "start_time": "2022-07-30T20:39:54.635Z"
      },
      {
        "duration": 20,
        "start_time": "2022-07-30T20:43:16.232Z"
      },
      {
        "duration": 704,
        "start_time": "2022-07-30T20:43:31.372Z"
      },
      {
        "duration": 883,
        "start_time": "2022-07-30T20:44:49.235Z"
      },
      {
        "duration": 684,
        "start_time": "2022-07-30T20:45:09.277Z"
      },
      {
        "duration": 721,
        "start_time": "2022-07-30T20:45:18.497Z"
      },
      {
        "duration": 906,
        "start_time": "2022-07-30T20:45:34.355Z"
      },
      {
        "duration": 756,
        "start_time": "2022-07-30T20:48:30.998Z"
      },
      {
        "duration": 799,
        "start_time": "2022-07-30T20:49:29.466Z"
      },
      {
        "duration": 1168,
        "start_time": "2022-07-30T20:50:14.366Z"
      },
      {
        "duration": 876,
        "start_time": "2022-07-30T20:52:38.746Z"
      },
      {
        "duration": 1164,
        "start_time": "2022-07-30T20:52:49.774Z"
      },
      {
        "duration": 836,
        "start_time": "2022-07-30T20:56:12.374Z"
      },
      {
        "duration": 853,
        "start_time": "2022-07-30T20:56:30.620Z"
      },
      {
        "duration": 907,
        "start_time": "2022-07-30T20:56:48.740Z"
      },
      {
        "duration": 1311,
        "start_time": "2022-07-30T20:56:58.837Z"
      },
      {
        "duration": 846,
        "start_time": "2022-07-30T20:57:14.673Z"
      },
      {
        "duration": 16,
        "start_time": "2022-07-30T21:01:23.018Z"
      },
      {
        "duration": 9,
        "start_time": "2022-07-30T21:02:18.444Z"
      },
      {
        "duration": 11,
        "start_time": "2022-07-30T21:04:15.458Z"
      },
      {
        "duration": 8,
        "start_time": "2022-07-30T21:04:34.496Z"
      },
      {
        "duration": 836,
        "start_time": "2022-07-30T21:04:42.639Z"
      },
      {
        "duration": 1476,
        "start_time": "2022-07-31T07:21:55.289Z"
      },
      {
        "duration": 797,
        "start_time": "2022-07-31T07:21:57.905Z"
      },
      {
        "duration": 19,
        "start_time": "2022-07-31T07:21:58.704Z"
      },
      {
        "duration": 237,
        "start_time": "2022-07-31T07:21:59.609Z"
      },
      {
        "duration": 18,
        "start_time": "2022-07-31T07:22:00.250Z"
      },
      {
        "duration": 10,
        "start_time": "2022-07-31T07:22:01.115Z"
      },
      {
        "duration": 2,
        "start_time": "2022-07-31T07:22:02.678Z"
      },
      {
        "duration": 11,
        "start_time": "2022-07-31T07:22:03.205Z"
      },
      {
        "duration": 9,
        "start_time": "2022-07-31T07:22:05.414Z"
      },
      {
        "duration": 154,
        "start_time": "2022-07-31T07:22:06.200Z"
      },
      {
        "duration": 397,
        "start_time": "2022-07-31T07:22:08.114Z"
      },
      {
        "duration": 14,
        "start_time": "2022-07-31T07:22:08.775Z"
      },
      {
        "duration": 19,
        "start_time": "2022-07-31T07:22:09.286Z"
      },
      {
        "duration": 6,
        "start_time": "2022-07-31T07:22:10.086Z"
      },
      {
        "duration": 4,
        "start_time": "2022-07-31T07:22:11.254Z"
      },
      {
        "duration": 7,
        "start_time": "2022-07-31T07:22:12.445Z"
      },
      {
        "duration": 22,
        "start_time": "2022-07-31T07:22:13.237Z"
      },
      {
        "duration": 1832,
        "start_time": "2022-07-31T07:22:14.818Z"
      },
      {
        "duration": 18,
        "start_time": "2022-07-31T07:22:16.652Z"
      },
      {
        "duration": 19,
        "start_time": "2022-07-31T07:22:16.672Z"
      },
      {
        "duration": 17,
        "start_time": "2022-07-31T07:22:16.693Z"
      },
      {
        "duration": 10,
        "start_time": "2022-07-31T07:22:16.758Z"
      },
      {
        "duration": 94,
        "start_time": "2022-07-31T07:22:17.298Z"
      },
      {
        "duration": 7,
        "start_time": "2022-07-31T07:22:18.861Z"
      },
      {
        "duration": 17,
        "start_time": "2022-07-31T07:22:19.493Z"
      },
      {
        "duration": 5,
        "start_time": "2022-07-31T07:22:26.695Z"
      },
      {
        "duration": 6,
        "start_time": "2022-07-31T07:22:31.133Z"
      },
      {
        "duration": 1350,
        "start_time": "2022-07-31T07:22:52.032Z"
      },
      {
        "duration": 265,
        "start_time": "2022-07-31T07:22:53.384Z"
      },
      {
        "duration": 17,
        "start_time": "2022-07-31T07:22:53.650Z"
      },
      {
        "duration": 219,
        "start_time": "2022-07-31T07:22:53.669Z"
      },
      {
        "duration": 17,
        "start_time": "2022-07-31T07:22:53.890Z"
      },
      {
        "duration": 11,
        "start_time": "2022-07-31T07:22:53.909Z"
      },
      {
        "duration": 6,
        "start_time": "2022-07-31T07:22:53.921Z"
      },
      {
        "duration": 13,
        "start_time": "2022-07-31T07:22:53.928Z"
      },
      {
        "duration": 21,
        "start_time": "2022-07-31T07:22:53.943Z"
      },
      {
        "duration": 124,
        "start_time": "2022-07-31T07:22:53.966Z"
      },
      {
        "duration": 74,
        "start_time": "2022-07-31T07:22:54.091Z"
      },
      {
        "duration": 12,
        "start_time": "2022-07-31T07:22:54.166Z"
      },
      {
        "duration": 18,
        "start_time": "2022-07-31T07:22:54.179Z"
      },
      {
        "duration": 7,
        "start_time": "2022-07-31T07:22:54.199Z"
      },
      {
        "duration": 4,
        "start_time": "2022-07-31T07:22:54.208Z"
      },
      {
        "duration": 6,
        "start_time": "2022-07-31T07:22:54.213Z"
      },
      {
        "duration": 46,
        "start_time": "2022-07-31T07:22:54.221Z"
      },
      {
        "duration": 345,
        "start_time": "2022-07-31T07:22:54.269Z"
      },
      {
        "duration": 16,
        "start_time": "2022-07-31T07:22:54.615Z"
      },
      {
        "duration": 9,
        "start_time": "2022-07-31T07:22:54.632Z"
      },
      {
        "duration": 22,
        "start_time": "2022-07-31T07:22:54.642Z"
      },
      {
        "duration": 9,
        "start_time": "2022-07-31T07:22:54.665Z"
      },
      {
        "duration": 105,
        "start_time": "2022-07-31T07:22:54.675Z"
      },
      {
        "duration": 6,
        "start_time": "2022-07-31T07:22:54.782Z"
      },
      {
        "duration": 16,
        "start_time": "2022-07-31T07:22:54.789Z"
      },
      {
        "duration": 4,
        "start_time": "2022-07-31T07:22:54.807Z"
      },
      {
        "duration": 9,
        "start_time": "2022-07-31T07:22:54.813Z"
      },
      {
        "duration": 5,
        "start_time": "2022-07-31T07:22:54.825Z"
      },
      {
        "duration": 145,
        "start_time": "2022-07-31T07:22:54.831Z"
      },
      {
        "duration": 6,
        "start_time": "2022-07-31T07:22:54.978Z"
      },
      {
        "duration": 114,
        "start_time": "2022-07-31T07:22:54.985Z"
      },
      {
        "duration": 5,
        "start_time": "2022-07-31T07:22:55.101Z"
      },
      {
        "duration": 108,
        "start_time": "2022-07-31T07:22:55.107Z"
      },
      {
        "duration": 7,
        "start_time": "2022-07-31T07:22:55.216Z"
      },
      {
        "duration": 854,
        "start_time": "2022-07-31T07:22:55.225Z"
      },
      {
        "duration": 8,
        "start_time": "2022-07-31T07:22:56.081Z"
      },
      {
        "duration": 10,
        "start_time": "2022-07-31T07:22:56.090Z"
      },
      {
        "duration": 4,
        "start_time": "2022-07-31T07:22:56.101Z"
      },
      {
        "duration": 166,
        "start_time": "2022-07-31T07:22:56.107Z"
      },
      {
        "duration": 5,
        "start_time": "2022-07-31T07:22:56.275Z"
      },
      {
        "duration": 34,
        "start_time": "2022-07-31T07:22:56.281Z"
      },
      {
        "duration": 22,
        "start_time": "2022-07-31T07:22:56.317Z"
      },
      {
        "duration": 17,
        "start_time": "2022-07-31T07:22:56.342Z"
      },
      {
        "duration": 38,
        "start_time": "2022-07-31T07:22:56.361Z"
      },
      {
        "duration": 13,
        "start_time": "2022-07-31T07:22:56.401Z"
      },
      {
        "duration": 11,
        "start_time": "2022-07-31T07:22:56.416Z"
      },
      {
        "duration": 22,
        "start_time": "2022-07-31T07:22:56.429Z"
      },
      {
        "duration": 17,
        "start_time": "2022-07-31T07:22:56.453Z"
      },
      {
        "duration": 19,
        "start_time": "2022-07-31T07:22:56.472Z"
      },
      {
        "duration": 30,
        "start_time": "2022-07-31T07:22:56.492Z"
      },
      {
        "duration": 13,
        "start_time": "2022-07-31T07:22:56.524Z"
      },
      {
        "duration": 4300,
        "start_time": "2022-07-31T07:22:56.539Z"
      },
      {
        "duration": 138566,
        "start_time": "2022-07-31T07:23:00.840Z"
      },
      {
        "duration": 92,
        "start_time": "2022-07-31T07:25:19.407Z"
      },
      {
        "duration": 3144,
        "start_time": "2022-07-31T07:25:19.500Z"
      },
      {
        "duration": 362953,
        "start_time": "2022-07-31T07:25:22.645Z"
      },
      {
        "duration": 53,
        "start_time": "2022-07-31T07:31:25.600Z"
      },
      {
        "duration": 23,
        "start_time": "2022-07-31T07:31:25.661Z"
      },
      {
        "duration": 210,
        "start_time": "2022-07-31T07:31:25.686Z"
      },
      {
        "duration": 4,
        "start_time": "2022-07-31T07:31:25.897Z"
      },
      {
        "duration": 106,
        "start_time": "2022-07-31T07:31:25.904Z"
      },
      {
        "duration": 0,
        "start_time": "2022-07-31T07:31:26.012Z"
      },
      {
        "duration": 0,
        "start_time": "2022-07-31T07:31:26.013Z"
      },
      {
        "duration": 11,
        "start_time": "2022-07-31T07:32:33.415Z"
      },
      {
        "duration": 8,
        "start_time": "2022-07-31T07:32:42.984Z"
      },
      {
        "duration": 7,
        "start_time": "2022-07-31T07:32:49.075Z"
      },
      {
        "duration": 3,
        "start_time": "2022-07-31T07:32:50.416Z"
      },
      {
        "duration": 3,
        "start_time": "2022-07-31T07:34:32.518Z"
      },
      {
        "duration": 5,
        "start_time": "2022-07-31T07:35:36.758Z"
      },
      {
        "duration": 11,
        "start_time": "2022-07-31T07:35:59.319Z"
      },
      {
        "duration": 7,
        "start_time": "2022-07-31T07:38:37.774Z"
      },
      {
        "duration": 7,
        "start_time": "2022-07-31T07:38:53.528Z"
      },
      {
        "duration": 50,
        "start_time": "2022-07-31T07:40:27.442Z"
      },
      {
        "duration": 4841,
        "start_time": "2022-07-31T08:00:16.350Z"
      },
      {
        "duration": 4142,
        "start_time": "2022-07-31T08:09:00.958Z"
      },
      {
        "duration": 1398,
        "start_time": "2022-07-31T08:30:45.249Z"
      },
      {
        "duration": 273,
        "start_time": "2022-07-31T08:30:46.649Z"
      },
      {
        "duration": 17,
        "start_time": "2022-07-31T08:30:46.924Z"
      },
      {
        "duration": 231,
        "start_time": "2022-07-31T08:30:46.942Z"
      },
      {
        "duration": 20,
        "start_time": "2022-07-31T08:30:47.174Z"
      },
      {
        "duration": 8,
        "start_time": "2022-07-31T08:30:47.195Z"
      },
      {
        "duration": 3,
        "start_time": "2022-07-31T08:30:47.204Z"
      },
      {
        "duration": 14,
        "start_time": "2022-07-31T08:30:47.208Z"
      },
      {
        "duration": 7,
        "start_time": "2022-07-31T08:30:47.224Z"
      },
      {
        "duration": 116,
        "start_time": "2022-07-31T08:30:47.261Z"
      },
      {
        "duration": 78,
        "start_time": "2022-07-31T08:30:47.379Z"
      },
      {
        "duration": 14,
        "start_time": "2022-07-31T08:30:47.459Z"
      },
      {
        "duration": 22,
        "start_time": "2022-07-31T08:30:47.475Z"
      },
      {
        "duration": 11,
        "start_time": "2022-07-31T08:30:47.499Z"
      },
      {
        "duration": 5,
        "start_time": "2022-07-31T08:30:47.512Z"
      },
      {
        "duration": 9,
        "start_time": "2022-07-31T08:30:47.519Z"
      },
      {
        "duration": 44,
        "start_time": "2022-07-31T08:30:47.530Z"
      },
      {
        "duration": 335,
        "start_time": "2022-07-31T08:30:47.576Z"
      },
      {
        "duration": 16,
        "start_time": "2022-07-31T08:30:47.912Z"
      },
      {
        "duration": 9,
        "start_time": "2022-07-31T08:30:47.930Z"
      },
      {
        "duration": 29,
        "start_time": "2022-07-31T08:30:47.940Z"
      },
      {
        "duration": 8,
        "start_time": "2022-07-31T08:30:47.971Z"
      },
      {
        "duration": 99,
        "start_time": "2022-07-31T08:30:47.981Z"
      },
      {
        "duration": 6,
        "start_time": "2022-07-31T08:30:48.081Z"
      },
      {
        "duration": 15,
        "start_time": "2022-07-31T08:30:48.088Z"
      },
      {
        "duration": 4,
        "start_time": "2022-07-31T08:30:48.105Z"
      },
      {
        "duration": 8,
        "start_time": "2022-07-31T08:30:48.110Z"
      },
      {
        "duration": 5,
        "start_time": "2022-07-31T08:30:48.122Z"
      },
      {
        "duration": 147,
        "start_time": "2022-07-31T08:30:48.128Z"
      },
      {
        "duration": 5,
        "start_time": "2022-07-31T08:30:48.277Z"
      },
      {
        "duration": 114,
        "start_time": "2022-07-31T08:30:48.283Z"
      },
      {
        "duration": 5,
        "start_time": "2022-07-31T08:30:48.399Z"
      },
      {
        "duration": 108,
        "start_time": "2022-07-31T08:30:48.405Z"
      },
      {
        "duration": 6,
        "start_time": "2022-07-31T08:30:48.515Z"
      },
      {
        "duration": 767,
        "start_time": "2022-07-31T08:30:48.523Z"
      },
      {
        "duration": 8,
        "start_time": "2022-07-31T08:30:49.292Z"
      },
      {
        "duration": 7,
        "start_time": "2022-07-31T08:30:49.302Z"
      },
      {
        "duration": 5,
        "start_time": "2022-07-31T08:30:49.310Z"
      },
      {
        "duration": 127,
        "start_time": "2022-07-31T08:30:49.316Z"
      },
      {
        "duration": 3,
        "start_time": "2022-07-31T08:30:49.445Z"
      },
      {
        "duration": 10,
        "start_time": "2022-07-31T08:30:49.450Z"
      },
      {
        "duration": 3,
        "start_time": "2022-07-31T08:30:49.462Z"
      },
      {
        "duration": 7,
        "start_time": "2022-07-31T08:30:49.466Z"
      },
      {
        "duration": 8,
        "start_time": "2022-07-31T08:30:49.474Z"
      },
      {
        "duration": 6,
        "start_time": "2022-07-31T08:30:49.483Z"
      },
      {
        "duration": 6,
        "start_time": "2022-07-31T08:30:49.491Z"
      },
      {
        "duration": 8,
        "start_time": "2022-07-31T08:30:49.498Z"
      },
      {
        "duration": 6,
        "start_time": "2022-07-31T08:30:49.507Z"
      },
      {
        "duration": 4,
        "start_time": "2022-07-31T08:30:49.515Z"
      },
      {
        "duration": 7,
        "start_time": "2022-07-31T08:30:49.521Z"
      },
      {
        "duration": 6,
        "start_time": "2022-07-31T08:30:49.530Z"
      },
      {
        "duration": 4154,
        "start_time": "2022-07-31T08:30:49.561Z"
      },
      {
        "duration": 85,
        "start_time": "2022-07-31T08:30:53.718Z"
      },
      {
        "duration": 3256,
        "start_time": "2022-07-31T08:30:53.805Z"
      },
      {
        "duration": 57,
        "start_time": "2022-07-31T08:30:57.063Z"
      },
      {
        "duration": 40,
        "start_time": "2022-07-31T08:30:57.121Z"
      },
      {
        "duration": 229,
        "start_time": "2022-07-31T08:30:57.164Z"
      },
      {
        "duration": 3,
        "start_time": "2022-07-31T08:30:57.395Z"
      },
      {
        "duration": 13,
        "start_time": "2022-07-31T08:30:57.399Z"
      },
      {
        "duration": 3916,
        "start_time": "2022-07-31T08:30:57.413Z"
      },
      {
        "duration": 7,
        "start_time": "2022-07-31T08:31:01.331Z"
      },
      {
        "duration": 17,
        "start_time": "2022-07-31T08:31:01.339Z"
      },
      {
        "duration": 1529,
        "start_time": "2022-07-31T08:31:22.797Z"
      },
      {
        "duration": 6,
        "start_time": "2022-07-31T08:34:38.755Z"
      },
      {
        "duration": 11,
        "start_time": "2022-07-31T08:40:15.834Z"
      },
      {
        "duration": 10,
        "start_time": "2022-07-31T08:40:56.964Z"
      },
      {
        "duration": 5,
        "start_time": "2022-07-31T08:41:18.833Z"
      },
      {
        "duration": 11,
        "start_time": "2022-07-31T08:41:29.985Z"
      },
      {
        "duration": 10,
        "start_time": "2022-07-31T08:41:50.901Z"
      },
      {
        "duration": 50829,
        "start_time": "2022-07-31T08:42:10.117Z"
      },
      {
        "duration": 50256,
        "start_time": "2022-07-31T08:45:26.065Z"
      },
      {
        "duration": 1662,
        "start_time": "2022-07-31T14:40:59.669Z"
      },
      {
        "duration": 1487,
        "start_time": "2022-07-31T14:41:07.135Z"
      },
      {
        "duration": 2000,
        "start_time": "2022-07-31T14:41:08.624Z"
      },
      {
        "duration": 18,
        "start_time": "2022-07-31T14:41:10.626Z"
      },
      {
        "duration": 247,
        "start_time": "2022-07-31T14:41:10.646Z"
      },
      {
        "duration": 30,
        "start_time": "2022-07-31T14:41:10.895Z"
      },
      {
        "duration": 9,
        "start_time": "2022-07-31T14:41:10.926Z"
      },
      {
        "duration": 3,
        "start_time": "2022-07-31T14:41:10.936Z"
      },
      {
        "duration": 17,
        "start_time": "2022-07-31T14:41:10.940Z"
      },
      {
        "duration": 9,
        "start_time": "2022-07-31T14:41:10.959Z"
      },
      {
        "duration": 158,
        "start_time": "2022-07-31T14:41:10.971Z"
      },
      {
        "duration": 183,
        "start_time": "2022-07-31T14:41:11.131Z"
      },
      {
        "duration": 13,
        "start_time": "2022-07-31T14:41:11.315Z"
      },
      {
        "duration": 24,
        "start_time": "2022-07-31T14:41:11.330Z"
      },
      {
        "duration": 19,
        "start_time": "2022-07-31T14:41:11.356Z"
      },
      {
        "duration": 6,
        "start_time": "2022-07-31T14:41:11.377Z"
      },
      {
        "duration": 9,
        "start_time": "2022-07-31T14:41:11.385Z"
      },
      {
        "duration": 30,
        "start_time": "2022-07-31T14:41:11.404Z"
      },
      {
        "duration": 640,
        "start_time": "2022-07-31T14:41:11.436Z"
      },
      {
        "duration": 19,
        "start_time": "2022-07-31T14:41:12.078Z"
      },
      {
        "duration": 19,
        "start_time": "2022-07-31T14:41:12.099Z"
      },
      {
        "duration": 21,
        "start_time": "2022-07-31T14:41:12.119Z"
      },
      {
        "duration": 11,
        "start_time": "2022-07-31T14:41:12.141Z"
      },
      {
        "duration": 117,
        "start_time": "2022-07-31T14:41:12.153Z"
      },
      {
        "duration": 6,
        "start_time": "2022-07-31T14:41:12.272Z"
      },
      {
        "duration": 40,
        "start_time": "2022-07-31T14:41:12.279Z"
      },
      {
        "duration": 5,
        "start_time": "2022-07-31T14:41:12.321Z"
      },
      {
        "duration": 9,
        "start_time": "2022-07-31T14:41:12.328Z"
      },
      {
        "duration": 6,
        "start_time": "2022-07-31T14:41:12.340Z"
      },
      {
        "duration": 163,
        "start_time": "2022-07-31T14:41:12.347Z"
      },
      {
        "duration": 9,
        "start_time": "2022-07-31T14:41:12.513Z"
      },
      {
        "duration": 133,
        "start_time": "2022-07-31T14:41:12.525Z"
      },
      {
        "duration": 6,
        "start_time": "2022-07-31T14:41:12.660Z"
      },
      {
        "duration": 128,
        "start_time": "2022-07-31T14:41:12.667Z"
      },
      {
        "duration": 11,
        "start_time": "2022-07-31T14:41:12.797Z"
      },
      {
        "duration": 914,
        "start_time": "2022-07-31T14:41:12.809Z"
      },
      {
        "duration": 8,
        "start_time": "2022-07-31T14:41:13.725Z"
      },
      {
        "duration": 8,
        "start_time": "2022-07-31T14:41:13.735Z"
      },
      {
        "duration": 5,
        "start_time": "2022-07-31T14:41:13.745Z"
      },
      {
        "duration": 146,
        "start_time": "2022-07-31T14:41:13.751Z"
      },
      {
        "duration": 14,
        "start_time": "2022-07-31T14:41:13.899Z"
      },
      {
        "duration": 10,
        "start_time": "2022-07-31T14:41:13.916Z"
      },
      {
        "duration": 14,
        "start_time": "2022-07-31T14:41:13.928Z"
      },
      {
        "duration": 9,
        "start_time": "2022-07-31T14:41:13.944Z"
      },
      {
        "duration": 10,
        "start_time": "2022-07-31T14:41:13.955Z"
      },
      {
        "duration": 11,
        "start_time": "2022-07-31T14:41:13.967Z"
      },
      {
        "duration": 10,
        "start_time": "2022-07-31T14:41:13.979Z"
      },
      {
        "duration": 12,
        "start_time": "2022-07-31T14:41:13.990Z"
      },
      {
        "duration": 9,
        "start_time": "2022-07-31T14:41:14.012Z"
      },
      {
        "duration": 4,
        "start_time": "2022-07-31T14:41:14.023Z"
      },
      {
        "duration": 13,
        "start_time": "2022-07-31T14:41:14.028Z"
      },
      {
        "duration": 10,
        "start_time": "2022-07-31T14:41:14.042Z"
      },
      {
        "duration": 4788,
        "start_time": "2022-07-31T14:41:14.053Z"
      },
      {
        "duration": 162,
        "start_time": "2022-07-31T14:41:18.843Z"
      },
      {
        "duration": 3470,
        "start_time": "2022-07-31T14:41:19.012Z"
      },
      {
        "duration": 71,
        "start_time": "2022-07-31T14:41:22.483Z"
      },
      {
        "duration": 27,
        "start_time": "2022-07-31T14:41:22.556Z"
      },
      {
        "duration": 249,
        "start_time": "2022-07-31T14:41:22.585Z"
      },
      {
        "duration": 4,
        "start_time": "2022-07-31T14:41:22.835Z"
      },
      {
        "duration": 9,
        "start_time": "2022-07-31T14:41:22.841Z"
      },
      {
        "duration": 10465,
        "start_time": "2022-07-31T14:41:22.851Z"
      },
      {
        "duration": 0,
        "start_time": "2022-07-31T14:41:33.318Z"
      },
      {
        "duration": 0,
        "start_time": "2022-07-31T14:41:33.319Z"
      },
      {
        "duration": 0,
        "start_time": "2022-07-31T14:41:33.321Z"
      },
      {
        "duration": 21,
        "start_time": "2022-07-31T14:41:36.797Z"
      },
      {
        "duration": 2345,
        "start_time": "2022-07-31T14:41:46.583Z"
      },
      {
        "duration": 7,
        "start_time": "2022-07-31T14:41:53.617Z"
      },
      {
        "duration": 4,
        "start_time": "2022-07-31T14:41:55.769Z"
      },
      {
        "duration": 97,
        "start_time": "2022-07-31T14:45:54.520Z"
      },
      {
        "duration": 169,
        "start_time": "2022-07-31T14:47:46.941Z"
      },
      {
        "duration": 7,
        "start_time": "2022-07-31T14:48:00.817Z"
      },
      {
        "duration": 1583,
        "start_time": "2022-07-31T15:05:35.883Z"
      },
      {
        "duration": 1435,
        "start_time": "2022-07-31T15:05:41.118Z"
      },
      {
        "duration": 995,
        "start_time": "2022-07-31T15:05:42.555Z"
      },
      {
        "duration": 21,
        "start_time": "2022-07-31T15:05:43.552Z"
      },
      {
        "duration": 551,
        "start_time": "2022-07-31T15:05:43.574Z"
      },
      {
        "duration": 23,
        "start_time": "2022-07-31T15:05:44.127Z"
      },
      {
        "duration": 17,
        "start_time": "2022-07-31T15:05:44.151Z"
      },
      {
        "duration": 2,
        "start_time": "2022-07-31T15:05:44.224Z"
      },
      {
        "duration": 13,
        "start_time": "2022-07-31T15:05:44.228Z"
      },
      {
        "duration": 9,
        "start_time": "2022-07-31T15:05:44.243Z"
      },
      {
        "duration": 280,
        "start_time": "2022-07-31T15:05:44.253Z"
      },
      {
        "duration": 430,
        "start_time": "2022-07-31T15:05:44.535Z"
      },
      {
        "duration": 14,
        "start_time": "2022-07-31T15:05:44.967Z"
      },
      {
        "duration": 23,
        "start_time": "2022-07-31T15:05:44.983Z"
      },
      {
        "duration": 14,
        "start_time": "2022-07-31T15:05:45.009Z"
      },
      {
        "duration": 12,
        "start_time": "2022-07-31T15:05:45.025Z"
      },
      {
        "duration": 12,
        "start_time": "2022-07-31T15:05:45.039Z"
      },
      {
        "duration": 41,
        "start_time": "2022-07-31T15:05:45.053Z"
      },
      {
        "duration": 1917,
        "start_time": "2022-07-31T15:05:45.097Z"
      },
      {
        "duration": 26,
        "start_time": "2022-07-31T15:05:47.015Z"
      },
      {
        "duration": 14,
        "start_time": "2022-07-31T15:05:47.043Z"
      },
      {
        "duration": 16,
        "start_time": "2022-07-31T15:05:47.059Z"
      },
      {
        "duration": 10,
        "start_time": "2022-07-31T15:05:47.077Z"
      },
      {
        "duration": 133,
        "start_time": "2022-07-31T15:05:47.089Z"
      },
      {
        "duration": 10,
        "start_time": "2022-07-31T15:05:47.224Z"
      },
      {
        "duration": 19,
        "start_time": "2022-07-31T15:05:47.236Z"
      },
      {
        "duration": 6,
        "start_time": "2022-07-31T15:05:47.256Z"
      },
      {
        "duration": 8,
        "start_time": "2022-07-31T15:05:47.263Z"
      },
      {
        "duration": 7,
        "start_time": "2022-07-31T15:05:47.273Z"
      },
      {
        "duration": 169,
        "start_time": "2022-07-31T15:05:47.282Z"
      },
      {
        "duration": 5,
        "start_time": "2022-07-31T15:05:47.453Z"
      },
      {
        "duration": 137,
        "start_time": "2022-07-31T15:05:47.460Z"
      },
      {
        "duration": 7,
        "start_time": "2022-07-31T15:05:47.599Z"
      },
      {
        "duration": 125,
        "start_time": "2022-07-31T15:05:47.609Z"
      },
      {
        "duration": 8,
        "start_time": "2022-07-31T15:05:47.736Z"
      },
      {
        "duration": 888,
        "start_time": "2022-07-31T15:05:47.746Z"
      },
      {
        "duration": 9,
        "start_time": "2022-07-31T15:05:48.636Z"
      },
      {
        "duration": 22,
        "start_time": "2022-07-31T15:05:48.647Z"
      },
      {
        "duration": 5,
        "start_time": "2022-07-31T15:05:48.672Z"
      },
      {
        "duration": 139,
        "start_time": "2022-07-31T15:05:48.679Z"
      },
      {
        "duration": 3,
        "start_time": "2022-07-31T15:05:48.823Z"
      },
      {
        "duration": 6,
        "start_time": "2022-07-31T15:05:48.832Z"
      },
      {
        "duration": 10,
        "start_time": "2022-07-31T15:05:48.840Z"
      },
      {
        "duration": 11,
        "start_time": "2022-07-31T15:05:48.852Z"
      },
      {
        "duration": 9,
        "start_time": "2022-07-31T15:05:48.866Z"
      },
      {
        "duration": 17,
        "start_time": "2022-07-31T15:05:48.877Z"
      },
      {
        "duration": 16,
        "start_time": "2022-07-31T15:05:48.897Z"
      },
      {
        "duration": 29,
        "start_time": "2022-07-31T15:05:48.915Z"
      },
      {
        "duration": 5,
        "start_time": "2022-07-31T15:05:48.950Z"
      },
      {
        "duration": 22,
        "start_time": "2022-07-31T15:05:48.957Z"
      },
      {
        "duration": 23,
        "start_time": "2022-07-31T15:05:48.982Z"
      },
      {
        "duration": 19,
        "start_time": "2022-07-31T15:05:49.007Z"
      },
      {
        "duration": 4644,
        "start_time": "2022-07-31T15:05:49.029Z"
      },
      {
        "duration": 149,
        "start_time": "2022-07-31T15:05:53.675Z"
      },
      {
        "duration": 3472,
        "start_time": "2022-07-31T15:05:53.826Z"
      },
      {
        "duration": 80,
        "start_time": "2022-07-31T15:05:57.300Z"
      },
      {
        "duration": 28,
        "start_time": "2022-07-31T15:05:57.382Z"
      },
      {
        "duration": 236,
        "start_time": "2022-07-31T15:05:57.424Z"
      },
      {
        "duration": 4,
        "start_time": "2022-07-31T15:05:57.661Z"
      },
      {
        "duration": 13,
        "start_time": "2022-07-31T15:05:57.666Z"
      },
      {
        "duration": 57714,
        "start_time": "2022-07-31T15:05:57.681Z"
      },
      {
        "duration": 112,
        "start_time": "2022-07-31T15:06:55.397Z"
      },
      {
        "duration": 0,
        "start_time": "2022-07-31T15:06:55.510Z"
      },
      {
        "duration": 0,
        "start_time": "2022-07-31T15:06:55.512Z"
      },
      {
        "duration": 0,
        "start_time": "2022-07-31T15:06:55.514Z"
      },
      {
        "duration": 0,
        "start_time": "2022-07-31T15:06:55.515Z"
      },
      {
        "duration": 209,
        "start_time": "2022-07-31T15:07:20.016Z"
      },
      {
        "duration": 12,
        "start_time": "2022-07-31T15:07:22.319Z"
      },
      {
        "duration": 10,
        "start_time": "2022-07-31T15:07:48.013Z"
      },
      {
        "duration": 153,
        "start_time": "2022-07-31T15:07:57.971Z"
      },
      {
        "duration": 8,
        "start_time": "2022-07-31T15:08:05.406Z"
      },
      {
        "duration": 4,
        "start_time": "2022-07-31T15:08:06.387Z"
      },
      {
        "duration": 10,
        "start_time": "2022-07-31T15:09:05.160Z"
      },
      {
        "duration": 12,
        "start_time": "2022-07-31T15:09:43.071Z"
      },
      {
        "duration": 13,
        "start_time": "2022-07-31T15:10:19.400Z"
      },
      {
        "duration": 9,
        "start_time": "2022-07-31T15:10:38.986Z"
      },
      {
        "duration": 12,
        "start_time": "2022-07-31T15:33:15.871Z"
      },
      {
        "duration": 61498,
        "start_time": "2022-07-31T15:33:56.814Z"
      },
      {
        "duration": 2295,
        "start_time": "2022-07-31T15:36:12.753Z"
      },
      {
        "duration": 2068,
        "start_time": "2022-07-31T15:36:52.801Z"
      },
      {
        "duration": 0,
        "start_time": "2022-07-31T15:40:03.845Z"
      },
      {
        "duration": 13,
        "start_time": "2022-07-31T15:40:19.943Z"
      },
      {
        "duration": 57081,
        "start_time": "2022-07-31T15:41:45.977Z"
      },
      {
        "duration": 57897,
        "start_time": "2022-07-31T15:44:29.082Z"
      },
      {
        "duration": 58075,
        "start_time": "2022-07-31T15:46:22.636Z"
      },
      {
        "duration": 1487,
        "start_time": "2022-07-31T16:05:14.354Z"
      },
      {
        "duration": 301,
        "start_time": "2022-07-31T16:05:15.843Z"
      },
      {
        "duration": 19,
        "start_time": "2022-07-31T16:05:16.146Z"
      },
      {
        "duration": 273,
        "start_time": "2022-07-31T16:05:16.167Z"
      },
      {
        "duration": 21,
        "start_time": "2022-07-31T16:05:16.442Z"
      },
      {
        "duration": 30,
        "start_time": "2022-07-31T16:05:16.465Z"
      },
      {
        "duration": 17,
        "start_time": "2022-07-31T16:05:16.497Z"
      },
      {
        "duration": 39,
        "start_time": "2022-07-31T16:05:16.516Z"
      },
      {
        "duration": 20,
        "start_time": "2022-07-31T16:05:16.557Z"
      },
      {
        "duration": 140,
        "start_time": "2022-07-31T16:05:16.580Z"
      },
      {
        "duration": 79,
        "start_time": "2022-07-31T16:05:16.726Z"
      },
      {
        "duration": 13,
        "start_time": "2022-07-31T16:05:16.807Z"
      },
      {
        "duration": 43,
        "start_time": "2022-07-31T16:05:16.822Z"
      },
      {
        "duration": 33,
        "start_time": "2022-07-31T16:05:16.867Z"
      },
      {
        "duration": 44,
        "start_time": "2022-07-31T16:05:16.907Z"
      },
      {
        "duration": 22,
        "start_time": "2022-07-31T16:05:16.953Z"
      },
      {
        "duration": 61,
        "start_time": "2022-07-31T16:05:16.977Z"
      },
      {
        "duration": 377,
        "start_time": "2022-07-31T16:05:17.042Z"
      },
      {
        "duration": 25,
        "start_time": "2022-07-31T16:05:17.421Z"
      },
      {
        "duration": 17,
        "start_time": "2022-07-31T16:05:17.448Z"
      },
      {
        "duration": 32,
        "start_time": "2022-07-31T16:05:17.468Z"
      },
      {
        "duration": 11,
        "start_time": "2022-07-31T16:05:17.502Z"
      },
      {
        "duration": 109,
        "start_time": "2022-07-31T16:05:17.515Z"
      },
      {
        "duration": 9,
        "start_time": "2022-07-31T16:05:17.634Z"
      },
      {
        "duration": 46,
        "start_time": "2022-07-31T16:05:17.645Z"
      },
      {
        "duration": 6,
        "start_time": "2022-07-31T16:05:17.693Z"
      },
      {
        "duration": 45,
        "start_time": "2022-07-31T16:05:17.701Z"
      },
      {
        "duration": 26,
        "start_time": "2022-07-31T16:05:17.751Z"
      },
      {
        "duration": 160,
        "start_time": "2022-07-31T16:05:17.778Z"
      },
      {
        "duration": 7,
        "start_time": "2022-07-31T16:05:17.941Z"
      },
      {
        "duration": 167,
        "start_time": "2022-07-31T16:05:17.950Z"
      },
      {
        "duration": 10,
        "start_time": "2022-07-31T16:05:18.123Z"
      },
      {
        "duration": 306,
        "start_time": "2022-07-31T16:05:18.135Z"
      },
      {
        "duration": 10,
        "start_time": "2022-07-31T16:05:18.443Z"
      },
      {
        "duration": 2060,
        "start_time": "2022-07-31T16:05:18.455Z"
      },
      {
        "duration": 17,
        "start_time": "2022-07-31T16:05:20.523Z"
      },
      {
        "duration": 19,
        "start_time": "2022-07-31T16:05:20.543Z"
      },
      {
        "duration": 7,
        "start_time": "2022-07-31T16:05:20.564Z"
      },
      {
        "duration": 138,
        "start_time": "2022-07-31T16:05:20.573Z"
      },
      {
        "duration": 3,
        "start_time": "2022-07-31T16:05:20.713Z"
      },
      {
        "duration": 7,
        "start_time": "2022-07-31T16:05:20.718Z"
      },
      {
        "duration": 32,
        "start_time": "2022-07-31T16:05:20.726Z"
      },
      {
        "duration": 7,
        "start_time": "2022-07-31T16:05:20.760Z"
      },
      {
        "duration": 9,
        "start_time": "2022-07-31T16:05:20.769Z"
      },
      {
        "duration": 10,
        "start_time": "2022-07-31T16:05:20.780Z"
      },
      {
        "duration": 122,
        "start_time": "2022-07-31T16:05:20.792Z"
      },
      {
        "duration": 0,
        "start_time": "2022-07-31T16:05:20.916Z"
      },
      {
        "duration": 0,
        "start_time": "2022-07-31T16:05:20.918Z"
      },
      {
        "duration": 0,
        "start_time": "2022-07-31T16:05:20.929Z"
      },
      {
        "duration": 0,
        "start_time": "2022-07-31T16:05:20.929Z"
      },
      {
        "duration": 0,
        "start_time": "2022-07-31T16:05:20.939Z"
      },
      {
        "duration": 0,
        "start_time": "2022-07-31T16:05:20.940Z"
      },
      {
        "duration": 0,
        "start_time": "2022-07-31T16:05:20.941Z"
      },
      {
        "duration": 0,
        "start_time": "2022-07-31T16:05:20.941Z"
      },
      {
        "duration": 0,
        "start_time": "2022-07-31T16:05:20.942Z"
      },
      {
        "duration": 0,
        "start_time": "2022-07-31T16:05:20.943Z"
      },
      {
        "duration": 0,
        "start_time": "2022-07-31T16:05:20.944Z"
      },
      {
        "duration": 0,
        "start_time": "2022-07-31T16:05:20.945Z"
      },
      {
        "duration": 0,
        "start_time": "2022-07-31T16:05:20.946Z"
      },
      {
        "duration": 0,
        "start_time": "2022-07-31T16:05:20.947Z"
      },
      {
        "duration": 0,
        "start_time": "2022-07-31T16:05:20.948Z"
      },
      {
        "duration": 0,
        "start_time": "2022-07-31T16:05:20.949Z"
      },
      {
        "duration": 0,
        "start_time": "2022-07-31T16:05:20.951Z"
      },
      {
        "duration": 0,
        "start_time": "2022-07-31T16:05:20.952Z"
      },
      {
        "duration": 0,
        "start_time": "2022-07-31T16:05:20.954Z"
      },
      {
        "duration": 0,
        "start_time": "2022-07-31T16:05:20.955Z"
      },
      {
        "duration": 0,
        "start_time": "2022-07-31T16:05:20.956Z"
      },
      {
        "duration": 4,
        "start_time": "2022-07-31T16:05:37.659Z"
      },
      {
        "duration": 15,
        "start_time": "2022-07-31T16:06:21.518Z"
      },
      {
        "duration": 9,
        "start_time": "2022-07-31T16:06:36.071Z"
      },
      {
        "duration": 72,
        "start_time": "2022-07-31T16:06:58.863Z"
      },
      {
        "duration": 11,
        "start_time": "2022-07-31T16:07:15.770Z"
      },
      {
        "duration": 6,
        "start_time": "2022-07-31T16:07:28.068Z"
      },
      {
        "duration": 12,
        "start_time": "2022-07-31T16:07:29.001Z"
      },
      {
        "duration": 8,
        "start_time": "2022-07-31T16:07:45.697Z"
      },
      {
        "duration": 2347,
        "start_time": "2022-07-31T16:07:51.740Z"
      },
      {
        "duration": 204,
        "start_time": "2022-07-31T16:07:56.743Z"
      },
      {
        "duration": 28,
        "start_time": "2022-07-31T16:07:59.199Z"
      },
      {
        "duration": 141,
        "start_time": "2022-07-31T16:08:01.307Z"
      },
      {
        "duration": 1493,
        "start_time": "2022-07-31T16:08:23.098Z"
      },
      {
        "duration": 286,
        "start_time": "2022-07-31T16:08:24.593Z"
      },
      {
        "duration": 19,
        "start_time": "2022-07-31T16:08:24.881Z"
      },
      {
        "duration": 289,
        "start_time": "2022-07-31T16:08:24.902Z"
      },
      {
        "duration": 37,
        "start_time": "2022-07-31T16:08:25.194Z"
      },
      {
        "duration": 13,
        "start_time": "2022-07-31T16:08:25.233Z"
      },
      {
        "duration": 16,
        "start_time": "2022-07-31T16:08:25.248Z"
      },
      {
        "duration": 15,
        "start_time": "2022-07-31T16:08:25.266Z"
      },
      {
        "duration": 10,
        "start_time": "2022-07-31T16:08:25.283Z"
      },
      {
        "duration": 146,
        "start_time": "2022-07-31T16:08:25.295Z"
      },
      {
        "duration": 102,
        "start_time": "2022-07-31T16:08:25.443Z"
      },
      {
        "duration": 13,
        "start_time": "2022-07-31T16:08:25.547Z"
      },
      {
        "duration": 22,
        "start_time": "2022-07-31T16:08:25.562Z"
      },
      {
        "duration": 10,
        "start_time": "2022-07-31T16:08:25.587Z"
      },
      {
        "duration": 26,
        "start_time": "2022-07-31T16:08:25.599Z"
      },
      {
        "duration": 16,
        "start_time": "2022-07-31T16:08:25.627Z"
      },
      {
        "duration": 28,
        "start_time": "2022-07-31T16:08:25.645Z"
      },
      {
        "duration": 365,
        "start_time": "2022-07-31T16:08:25.675Z"
      },
      {
        "duration": 25,
        "start_time": "2022-07-31T16:08:26.042Z"
      },
      {
        "duration": 13,
        "start_time": "2022-07-31T16:08:26.069Z"
      },
      {
        "duration": 42,
        "start_time": "2022-07-31T16:08:26.084Z"
      },
      {
        "duration": 14,
        "start_time": "2022-07-31T16:08:26.128Z"
      },
      {
        "duration": 112,
        "start_time": "2022-07-31T16:08:26.144Z"
      },
      {
        "duration": 8,
        "start_time": "2022-07-31T16:08:26.258Z"
      },
      {
        "duration": 18,
        "start_time": "2022-07-31T16:08:26.268Z"
      },
      {
        "duration": 5,
        "start_time": "2022-07-31T16:08:26.288Z"
      },
      {
        "duration": 33,
        "start_time": "2022-07-31T16:08:26.295Z"
      },
      {
        "duration": 17,
        "start_time": "2022-07-31T16:08:26.338Z"
      },
      {
        "duration": 136,
        "start_time": "2022-07-31T16:08:26.357Z"
      },
      {
        "duration": 7,
        "start_time": "2022-07-31T16:08:26.495Z"
      },
      {
        "duration": 145,
        "start_time": "2022-07-31T16:08:26.504Z"
      },
      {
        "duration": 6,
        "start_time": "2022-07-31T16:08:26.651Z"
      },
      {
        "duration": 131,
        "start_time": "2022-07-31T16:08:26.659Z"
      },
      {
        "duration": 7,
        "start_time": "2022-07-31T16:08:26.792Z"
      },
      {
        "duration": 932,
        "start_time": "2022-07-31T16:08:26.801Z"
      },
      {
        "duration": 10,
        "start_time": "2022-07-31T16:08:27.736Z"
      },
      {
        "duration": 9,
        "start_time": "2022-07-31T16:08:27.747Z"
      },
      {
        "duration": 8,
        "start_time": "2022-07-31T16:08:27.758Z"
      },
      {
        "duration": 145,
        "start_time": "2022-07-31T16:08:27.768Z"
      },
      {
        "duration": 9,
        "start_time": "2022-07-31T16:08:27.914Z"
      },
      {
        "duration": 11,
        "start_time": "2022-07-31T16:08:27.936Z"
      },
      {
        "duration": 7,
        "start_time": "2022-07-31T16:08:27.949Z"
      },
      {
        "duration": 10,
        "start_time": "2022-07-31T16:08:27.958Z"
      },
      {
        "duration": 7,
        "start_time": "2022-07-31T16:08:27.969Z"
      },
      {
        "duration": 6,
        "start_time": "2022-07-31T16:08:27.977Z"
      },
      {
        "duration": 7,
        "start_time": "2022-07-31T16:08:27.984Z"
      },
      {
        "duration": 12,
        "start_time": "2022-07-31T16:08:27.993Z"
      },
      {
        "duration": 6,
        "start_time": "2022-07-31T16:08:28.007Z"
      },
      {
        "duration": 15,
        "start_time": "2022-07-31T16:08:28.015Z"
      },
      {
        "duration": 15,
        "start_time": "2022-07-31T16:08:28.031Z"
      },
      {
        "duration": 13,
        "start_time": "2022-07-31T16:08:28.048Z"
      },
      {
        "duration": 4717,
        "start_time": "2022-07-31T16:08:28.063Z"
      },
      {
        "duration": 169,
        "start_time": "2022-07-31T16:08:32.782Z"
      },
      {
        "duration": 3442,
        "start_time": "2022-07-31T16:08:32.953Z"
      },
      {
        "duration": 80,
        "start_time": "2022-07-31T16:08:36.397Z"
      },
      {
        "duration": 25,
        "start_time": "2022-07-31T16:08:36.479Z"
      },
      {
        "duration": 239,
        "start_time": "2022-07-31T16:08:36.506Z"
      },
      {
        "duration": 4,
        "start_time": "2022-07-31T16:08:36.747Z"
      },
      {
        "duration": 9,
        "start_time": "2022-07-31T16:08:36.752Z"
      },
      {
        "duration": 39472,
        "start_time": "2022-07-31T16:08:36.763Z"
      },
      {
        "duration": 0,
        "start_time": "2022-07-31T16:09:16.237Z"
      },
      {
        "duration": 0,
        "start_time": "2022-07-31T16:09:16.238Z"
      },
      {
        "duration": 0,
        "start_time": "2022-07-31T16:09:16.239Z"
      },
      {
        "duration": 0,
        "start_time": "2022-07-31T16:09:16.240Z"
      },
      {
        "duration": 0,
        "start_time": "2022-07-31T16:09:16.242Z"
      },
      {
        "duration": 0,
        "start_time": "2022-07-31T16:09:16.243Z"
      },
      {
        "duration": 2237,
        "start_time": "2022-07-31T16:09:19.558Z"
      },
      {
        "duration": 904,
        "start_time": "2022-07-31T16:09:23.940Z"
      },
      {
        "duration": 15,
        "start_time": "2022-07-31T16:09:26.250Z"
      },
      {
        "duration": 169,
        "start_time": "2022-07-31T16:09:47.960Z"
      },
      {
        "duration": 8,
        "start_time": "2022-07-31T16:09:50.700Z"
      },
      {
        "duration": 4,
        "start_time": "2022-07-31T16:09:54.812Z"
      },
      {
        "duration": 8,
        "start_time": "2022-07-31T16:17:49.513Z"
      },
      {
        "duration": 5,
        "start_time": "2022-07-31T16:17:50.433Z"
      },
      {
        "duration": 2,
        "start_time": "2022-07-31T16:17:59.975Z"
      },
      {
        "duration": 7,
        "start_time": "2022-07-31T16:19:44.140Z"
      },
      {
        "duration": 4,
        "start_time": "2022-07-31T16:19:49.723Z"
      },
      {
        "duration": 6,
        "start_time": "2022-07-31T16:19:52.091Z"
      },
      {
        "duration": 5,
        "start_time": "2022-07-31T16:19:57.833Z"
      },
      {
        "duration": 3420,
        "start_time": "2022-07-31T16:20:08.971Z"
      },
      {
        "duration": 249,
        "start_time": "2022-07-31T16:20:42.143Z"
      },
      {
        "duration": 18,
        "start_time": "2022-07-31T16:22:25.897Z"
      },
      {
        "duration": 33,
        "start_time": "2022-07-31T16:23:17.080Z"
      },
      {
        "duration": 2052,
        "start_time": "2022-07-31T16:23:23.777Z"
      },
      {
        "duration": 205,
        "start_time": "2022-07-31T16:23:43.590Z"
      },
      {
        "duration": 54,
        "start_time": "2022-07-31T16:25:27.171Z"
      },
      {
        "duration": 2269,
        "start_time": "2022-07-31T16:25:37.449Z"
      },
      {
        "duration": 1441,
        "start_time": "2022-07-31T16:26:13.267Z"
      },
      {
        "duration": 288,
        "start_time": "2022-07-31T16:26:14.710Z"
      },
      {
        "duration": 24,
        "start_time": "2022-07-31T16:26:15.000Z"
      },
      {
        "duration": 243,
        "start_time": "2022-07-31T16:26:15.025Z"
      },
      {
        "duration": 21,
        "start_time": "2022-07-31T16:26:15.270Z"
      },
      {
        "duration": 21,
        "start_time": "2022-07-31T16:26:15.292Z"
      },
      {
        "duration": 2,
        "start_time": "2022-07-31T16:26:15.323Z"
      },
      {
        "duration": 23,
        "start_time": "2022-07-31T16:26:15.326Z"
      },
      {
        "duration": 8,
        "start_time": "2022-07-31T16:26:15.351Z"
      },
      {
        "duration": 138,
        "start_time": "2022-07-31T16:26:15.361Z"
      },
      {
        "duration": 78,
        "start_time": "2022-07-31T16:26:15.500Z"
      },
      {
        "duration": 13,
        "start_time": "2022-07-31T16:26:15.580Z"
      },
      {
        "duration": 32,
        "start_time": "2022-07-31T16:26:15.595Z"
      },
      {
        "duration": 8,
        "start_time": "2022-07-31T16:26:15.630Z"
      },
      {
        "duration": 6,
        "start_time": "2022-07-31T16:26:15.639Z"
      },
      {
        "duration": 7,
        "start_time": "2022-07-31T16:26:15.647Z"
      },
      {
        "duration": 25,
        "start_time": "2022-07-31T16:26:15.656Z"
      },
      {
        "duration": 396,
        "start_time": "2022-07-31T16:26:15.682Z"
      },
      {
        "duration": 18,
        "start_time": "2022-07-31T16:26:16.080Z"
      },
      {
        "duration": 25,
        "start_time": "2022-07-31T16:26:16.100Z"
      },
      {
        "duration": 18,
        "start_time": "2022-07-31T16:26:16.126Z"
      },
      {
        "duration": 10,
        "start_time": "2022-07-31T16:26:16.146Z"
      },
      {
        "duration": 114,
        "start_time": "2022-07-31T16:26:16.158Z"
      },
      {
        "duration": 6,
        "start_time": "2022-07-31T16:26:16.274Z"
      },
      {
        "duration": 17,
        "start_time": "2022-07-31T16:26:16.281Z"
      },
      {
        "duration": 25,
        "start_time": "2022-07-31T16:26:16.299Z"
      },
      {
        "duration": 19,
        "start_time": "2022-07-31T16:26:16.326Z"
      },
      {
        "duration": 24,
        "start_time": "2022-07-31T16:26:16.346Z"
      },
      {
        "duration": 142,
        "start_time": "2022-07-31T16:26:16.371Z"
      },
      {
        "duration": 13,
        "start_time": "2022-07-31T16:26:16.514Z"
      },
      {
        "duration": 147,
        "start_time": "2022-07-31T16:26:16.529Z"
      },
      {
        "duration": 6,
        "start_time": "2022-07-31T16:26:16.678Z"
      },
      {
        "duration": 135,
        "start_time": "2022-07-31T16:26:16.686Z"
      },
      {
        "duration": 7,
        "start_time": "2022-07-31T16:26:16.823Z"
      },
      {
        "duration": 862,
        "start_time": "2022-07-31T16:26:16.831Z"
      },
      {
        "duration": 10,
        "start_time": "2022-07-31T16:26:17.695Z"
      },
      {
        "duration": 19,
        "start_time": "2022-07-31T16:26:17.706Z"
      },
      {
        "duration": 10,
        "start_time": "2022-07-31T16:26:17.726Z"
      },
      {
        "duration": 133,
        "start_time": "2022-07-31T16:26:17.737Z"
      },
      {
        "duration": 3,
        "start_time": "2022-07-31T16:26:17.872Z"
      },
      {
        "duration": 3,
        "start_time": "2022-07-31T16:26:17.880Z"
      },
      {
        "duration": 68,
        "start_time": "2022-07-31T16:26:17.884Z"
      },
      {
        "duration": 5,
        "start_time": "2022-07-31T16:26:17.954Z"
      },
      {
        "duration": 6,
        "start_time": "2022-07-31T16:26:17.961Z"
      },
      {
        "duration": 6,
        "start_time": "2022-07-31T16:26:17.969Z"
      },
      {
        "duration": 12,
        "start_time": "2022-07-31T16:26:17.977Z"
      },
      {
        "duration": 6,
        "start_time": "2022-07-31T16:26:17.990Z"
      },
      {
        "duration": 4,
        "start_time": "2022-07-31T16:26:17.997Z"
      },
      {
        "duration": 121,
        "start_time": "2022-07-31T16:26:18.024Z"
      },
      {
        "duration": 0,
        "start_time": "2022-07-31T16:26:18.147Z"
      },
      {
        "duration": 0,
        "start_time": "2022-07-31T16:26:18.148Z"
      },
      {
        "duration": 0,
        "start_time": "2022-07-31T16:26:18.149Z"
      },
      {
        "duration": 0,
        "start_time": "2022-07-31T16:26:18.150Z"
      },
      {
        "duration": 0,
        "start_time": "2022-07-31T16:26:18.151Z"
      },
      {
        "duration": 0,
        "start_time": "2022-07-31T16:26:18.153Z"
      },
      {
        "duration": 0,
        "start_time": "2022-07-31T16:26:18.154Z"
      },
      {
        "duration": 0,
        "start_time": "2022-07-31T16:26:18.155Z"
      },
      {
        "duration": 0,
        "start_time": "2022-07-31T16:26:18.156Z"
      },
      {
        "duration": 0,
        "start_time": "2022-07-31T16:26:18.157Z"
      },
      {
        "duration": 0,
        "start_time": "2022-07-31T16:26:18.158Z"
      },
      {
        "duration": 0,
        "start_time": "2022-07-31T16:26:18.159Z"
      },
      {
        "duration": 0,
        "start_time": "2022-07-31T16:26:18.160Z"
      },
      {
        "duration": 0,
        "start_time": "2022-07-31T16:26:18.162Z"
      },
      {
        "duration": 0,
        "start_time": "2022-07-31T16:26:18.163Z"
      },
      {
        "duration": 0,
        "start_time": "2022-07-31T16:26:18.164Z"
      },
      {
        "duration": 19,
        "start_time": "2022-07-31T16:27:11.829Z"
      },
      {
        "duration": 4,
        "start_time": "2022-07-31T16:27:17.811Z"
      },
      {
        "duration": 4,
        "start_time": "2022-07-31T16:27:21.095Z"
      },
      {
        "duration": 34283,
        "start_time": "2022-07-31T16:27:27.102Z"
      },
      {
        "duration": 3108,
        "start_time": "2022-07-31T16:28:11.123Z"
      },
      {
        "duration": 12,
        "start_time": "2022-07-31T16:29:59.319Z"
      },
      {
        "duration": 9,
        "start_time": "2022-07-31T16:30:20.504Z"
      },
      {
        "duration": 5,
        "start_time": "2022-07-31T16:30:43.118Z"
      },
      {
        "duration": 3,
        "start_time": "2022-07-31T16:30:43.175Z"
      },
      {
        "duration": 34153,
        "start_time": "2022-07-31T16:31:25.270Z"
      },
      {
        "duration": 3286,
        "start_time": "2022-07-31T16:32:24.640Z"
      },
      {
        "duration": 144,
        "start_time": "2022-07-31T16:33:57.750Z"
      },
      {
        "duration": 6,
        "start_time": "2022-07-31T16:35:19.902Z"
      },
      {
        "duration": 16,
        "start_time": "2022-07-31T16:35:42.013Z"
      },
      {
        "duration": 89,
        "start_time": "2022-07-31T16:36:15.720Z"
      },
      {
        "duration": 15,
        "start_time": "2022-07-31T16:36:16.251Z"
      },
      {
        "duration": 27,
        "start_time": "2022-07-31T16:36:16.932Z"
      },
      {
        "duration": 8,
        "start_time": "2022-07-31T16:36:18.223Z"
      },
      {
        "duration": 6,
        "start_time": "2022-07-31T16:36:21.577Z"
      },
      {
        "duration": 8,
        "start_time": "2022-07-31T16:36:23.399Z"
      },
      {
        "duration": 35,
        "start_time": "2022-07-31T16:36:26.440Z"
      },
      {
        "duration": 9,
        "start_time": "2022-07-31T16:36:34.718Z"
      },
      {
        "duration": 125,
        "start_time": "2022-07-31T16:36:51.910Z"
      },
      {
        "duration": 2701,
        "start_time": "2022-07-31T16:38:02.431Z"
      },
      {
        "duration": 14,
        "start_time": "2022-07-31T16:38:46.743Z"
      },
      {
        "duration": 12,
        "start_time": "2022-07-31T16:38:55.858Z"
      },
      {
        "duration": 94,
        "start_time": "2022-07-31T16:40:49.815Z"
      },
      {
        "duration": 14,
        "start_time": "2022-07-31T16:40:50.121Z"
      },
      {
        "duration": 24,
        "start_time": "2022-07-31T16:40:53.216Z"
      },
      {
        "duration": 10,
        "start_time": "2022-07-31T16:40:56.037Z"
      },
      {
        "duration": 5,
        "start_time": "2022-07-31T16:40:57.548Z"
      },
      {
        "duration": 8,
        "start_time": "2022-07-31T16:40:58.627Z"
      },
      {
        "duration": 24,
        "start_time": "2022-07-31T16:40:59.831Z"
      },
      {
        "duration": 7,
        "start_time": "2022-07-31T16:41:38.041Z"
      },
      {
        "duration": 11270,
        "start_time": "2022-07-31T16:42:08.447Z"
      },
      {
        "duration": 12852,
        "start_time": "2022-07-31T16:43:29.759Z"
      },
      {
        "duration": 62,
        "start_time": "2022-07-31T16:44:44.412Z"
      },
      {
        "duration": 388,
        "start_time": "2022-07-31T16:44:54.919Z"
      },
      {
        "duration": 4,
        "start_time": "2022-07-31T16:46:53.517Z"
      },
      {
        "duration": 5,
        "start_time": "2022-07-31T16:47:44.273Z"
      },
      {
        "duration": 9,
        "start_time": "2022-07-31T16:48:16.669Z"
      },
      {
        "duration": 20,
        "start_time": "2022-07-31T16:51:04.135Z"
      },
      {
        "duration": 15,
        "start_time": "2022-07-31T16:51:54.329Z"
      },
      {
        "duration": 288,
        "start_time": "2022-07-31T16:52:11.579Z"
      },
      {
        "duration": 18,
        "start_time": "2022-07-31T16:52:11.869Z"
      },
      {
        "duration": 236,
        "start_time": "2022-07-31T16:52:16.429Z"
      },
      {
        "duration": 22,
        "start_time": "2022-07-31T16:52:16.832Z"
      },
      {
        "duration": 10,
        "start_time": "2022-07-31T16:52:19.409Z"
      },
      {
        "duration": 3,
        "start_time": "2022-07-31T16:52:21.274Z"
      },
      {
        "duration": 8,
        "start_time": "2022-07-31T16:52:21.747Z"
      },
      {
        "duration": 9,
        "start_time": "2022-07-31T16:52:23.837Z"
      },
      {
        "duration": 14,
        "start_time": "2022-07-31T16:52:43.175Z"
      },
      {
        "duration": 16,
        "start_time": "2022-07-31T16:53:56.353Z"
      },
      {
        "duration": 14,
        "start_time": "2022-07-31T16:55:21.820Z"
      },
      {
        "duration": 11,
        "start_time": "2022-07-31T16:56:06.129Z"
      },
      {
        "duration": 86,
        "start_time": "2022-07-31T16:56:15.935Z"
      },
      {
        "duration": 17,
        "start_time": "2022-07-31T16:56:16.024Z"
      },
      {
        "duration": 25,
        "start_time": "2022-07-31T16:56:16.042Z"
      },
      {
        "duration": 7,
        "start_time": "2022-07-31T16:56:16.069Z"
      },
      {
        "duration": 5,
        "start_time": "2022-07-31T16:56:16.143Z"
      },
      {
        "duration": 7,
        "start_time": "2022-07-31T16:56:17.705Z"
      },
      {
        "duration": 11,
        "start_time": "2022-07-31T16:56:29.956Z"
      },
      {
        "duration": 11,
        "start_time": "2022-07-31T16:56:45.900Z"
      },
      {
        "duration": 11,
        "start_time": "2022-07-31T16:56:46.313Z"
      },
      {
        "duration": 18,
        "start_time": "2022-07-31T17:02:10.842Z"
      },
      {
        "duration": 1512,
        "start_time": "2022-07-31T17:02:23.711Z"
      },
      {
        "duration": 314,
        "start_time": "2022-07-31T17:02:25.226Z"
      },
      {
        "duration": 19,
        "start_time": "2022-07-31T17:02:25.543Z"
      },
      {
        "duration": 281,
        "start_time": "2022-07-31T17:02:25.565Z"
      },
      {
        "duration": 23,
        "start_time": "2022-07-31T17:02:25.848Z"
      },
      {
        "duration": 9,
        "start_time": "2022-07-31T17:02:25.872Z"
      },
      {
        "duration": 6,
        "start_time": "2022-07-31T17:02:25.883Z"
      },
      {
        "duration": 35,
        "start_time": "2022-07-31T17:02:25.891Z"
      },
      {
        "duration": 10,
        "start_time": "2022-07-31T17:02:25.928Z"
      },
      {
        "duration": 162,
        "start_time": "2022-07-31T17:02:25.940Z"
      },
      {
        "duration": 85,
        "start_time": "2022-07-31T17:02:26.104Z"
      },
      {
        "duration": 14,
        "start_time": "2022-07-31T17:02:26.190Z"
      },
      {
        "duration": 37,
        "start_time": "2022-07-31T17:02:26.206Z"
      },
      {
        "duration": 7,
        "start_time": "2022-07-31T17:02:26.248Z"
      },
      {
        "duration": 9,
        "start_time": "2022-07-31T17:02:26.257Z"
      },
      {
        "duration": 8,
        "start_time": "2022-07-31T17:02:26.268Z"
      },
      {
        "duration": 58,
        "start_time": "2022-07-31T17:02:26.278Z"
      },
      {
        "duration": 398,
        "start_time": "2022-07-31T17:02:26.340Z"
      },
      {
        "duration": 21,
        "start_time": "2022-07-31T17:02:26.739Z"
      },
      {
        "duration": 10,
        "start_time": "2022-07-31T17:02:26.762Z"
      },
      {
        "duration": 29,
        "start_time": "2022-07-31T17:02:26.774Z"
      },
      {
        "duration": 25,
        "start_time": "2022-07-31T17:02:26.805Z"
      },
      {
        "duration": 120,
        "start_time": "2022-07-31T17:02:26.834Z"
      },
      {
        "duration": 7,
        "start_time": "2022-07-31T17:02:26.956Z"
      },
      {
        "duration": 49,
        "start_time": "2022-07-31T17:02:26.965Z"
      },
      {
        "duration": 8,
        "start_time": "2022-07-31T17:02:27.015Z"
      },
      {
        "duration": 49,
        "start_time": "2022-07-31T17:02:27.025Z"
      },
      {
        "duration": 139,
        "start_time": "2022-07-31T17:02:27.076Z"
      },
      {
        "duration": 0,
        "start_time": "2022-07-31T17:02:27.217Z"
      },
      {
        "duration": 0,
        "start_time": "2022-07-31T17:02:27.219Z"
      },
      {
        "duration": 0,
        "start_time": "2022-07-31T17:02:27.219Z"
      },
      {
        "duration": 0,
        "start_time": "2022-07-31T17:02:27.223Z"
      },
      {
        "duration": 0,
        "start_time": "2022-07-31T17:02:27.229Z"
      },
      {
        "duration": 0,
        "start_time": "2022-07-31T17:02:27.230Z"
      },
      {
        "duration": 0,
        "start_time": "2022-07-31T17:02:27.232Z"
      },
      {
        "duration": 0,
        "start_time": "2022-07-31T17:02:27.237Z"
      },
      {
        "duration": 0,
        "start_time": "2022-07-31T17:02:27.238Z"
      },
      {
        "duration": 0,
        "start_time": "2022-07-31T17:02:27.240Z"
      },
      {
        "duration": 0,
        "start_time": "2022-07-31T17:02:27.242Z"
      },
      {
        "duration": 0,
        "start_time": "2022-07-31T17:02:27.243Z"
      },
      {
        "duration": 0,
        "start_time": "2022-07-31T17:02:27.244Z"
      },
      {
        "duration": 0,
        "start_time": "2022-07-31T17:02:27.246Z"
      },
      {
        "duration": 0,
        "start_time": "2022-07-31T17:02:27.247Z"
      },
      {
        "duration": 0,
        "start_time": "2022-07-31T17:02:27.248Z"
      },
      {
        "duration": 0,
        "start_time": "2022-07-31T17:02:27.249Z"
      },
      {
        "duration": 0,
        "start_time": "2022-07-31T17:02:27.250Z"
      },
      {
        "duration": 0,
        "start_time": "2022-07-31T17:02:27.252Z"
      },
      {
        "duration": 0,
        "start_time": "2022-07-31T17:02:27.253Z"
      },
      {
        "duration": 0,
        "start_time": "2022-07-31T17:02:27.254Z"
      },
      {
        "duration": 0,
        "start_time": "2022-07-31T17:02:27.255Z"
      },
      {
        "duration": 0,
        "start_time": "2022-07-31T17:02:27.257Z"
      },
      {
        "duration": 0,
        "start_time": "2022-07-31T17:02:27.257Z"
      },
      {
        "duration": 0,
        "start_time": "2022-07-31T17:02:27.259Z"
      },
      {
        "duration": 0,
        "start_time": "2022-07-31T17:02:27.260Z"
      },
      {
        "duration": 0,
        "start_time": "2022-07-31T17:02:27.261Z"
      },
      {
        "duration": 0,
        "start_time": "2022-07-31T17:02:27.262Z"
      },
      {
        "duration": 0,
        "start_time": "2022-07-31T17:02:27.263Z"
      },
      {
        "duration": 0,
        "start_time": "2022-07-31T17:02:27.265Z"
      },
      {
        "duration": 0,
        "start_time": "2022-07-31T17:02:27.266Z"
      },
      {
        "duration": 0,
        "start_time": "2022-07-31T17:02:27.267Z"
      },
      {
        "duration": 0,
        "start_time": "2022-07-31T17:02:27.323Z"
      },
      {
        "duration": 0,
        "start_time": "2022-07-31T17:02:27.325Z"
      },
      {
        "duration": 5,
        "start_time": "2022-07-31T17:04:18.178Z"
      },
      {
        "duration": 12,
        "start_time": "2022-07-31T17:05:05.085Z"
      },
      {
        "duration": 53,
        "start_time": "2022-07-31T17:06:45.869Z"
      },
      {
        "duration": 11,
        "start_time": "2022-07-31T17:06:56.997Z"
      },
      {
        "duration": 3,
        "start_time": "2022-07-31T17:07:05.466Z"
      },
      {
        "duration": 13,
        "start_time": "2022-07-31T17:07:07.278Z"
      },
      {
        "duration": 1427,
        "start_time": "2022-07-31T17:31:51.126Z"
      },
      {
        "duration": 299,
        "start_time": "2022-07-31T17:31:52.555Z"
      },
      {
        "duration": 18,
        "start_time": "2022-07-31T17:31:52.856Z"
      },
      {
        "duration": 262,
        "start_time": "2022-07-31T17:31:52.876Z"
      },
      {
        "duration": 21,
        "start_time": "2022-07-31T17:31:53.139Z"
      },
      {
        "duration": 10,
        "start_time": "2022-07-31T17:31:53.162Z"
      },
      {
        "duration": 5,
        "start_time": "2022-07-31T17:31:53.174Z"
      },
      {
        "duration": 17,
        "start_time": "2022-07-31T17:31:53.180Z"
      },
      {
        "duration": 25,
        "start_time": "2022-07-31T17:31:53.199Z"
      },
      {
        "duration": 135,
        "start_time": "2022-07-31T17:31:53.226Z"
      },
      {
        "duration": 79,
        "start_time": "2022-07-31T17:31:53.363Z"
      },
      {
        "duration": 13,
        "start_time": "2022-07-31T17:31:53.443Z"
      },
      {
        "duration": 20,
        "start_time": "2022-07-31T17:31:53.458Z"
      },
      {
        "duration": 9,
        "start_time": "2022-07-31T17:31:53.480Z"
      },
      {
        "duration": 4,
        "start_time": "2022-07-31T17:31:53.490Z"
      },
      {
        "duration": 28,
        "start_time": "2022-07-31T17:31:53.496Z"
      },
      {
        "duration": 23,
        "start_time": "2022-07-31T17:31:53.526Z"
      },
      {
        "duration": 363,
        "start_time": "2022-07-31T17:31:53.551Z"
      },
      {
        "duration": 21,
        "start_time": "2022-07-31T17:31:53.916Z"
      },
      {
        "duration": 10,
        "start_time": "2022-07-31T17:31:53.939Z"
      },
      {
        "duration": 19,
        "start_time": "2022-07-31T17:31:53.950Z"
      },
      {
        "duration": 10,
        "start_time": "2022-07-31T17:31:53.971Z"
      },
      {
        "duration": 125,
        "start_time": "2022-07-31T17:31:53.982Z"
      },
      {
        "duration": 14,
        "start_time": "2022-07-31T17:31:54.109Z"
      },
      {
        "duration": 17,
        "start_time": "2022-07-31T17:31:54.125Z"
      },
      {
        "duration": 5,
        "start_time": "2022-07-31T17:31:54.143Z"
      },
      {
        "duration": 14,
        "start_time": "2022-07-31T17:31:54.150Z"
      },
      {
        "duration": 6,
        "start_time": "2022-07-31T17:31:54.168Z"
      },
      {
        "duration": 154,
        "start_time": "2022-07-31T17:31:54.176Z"
      },
      {
        "duration": 7,
        "start_time": "2022-07-31T17:31:54.332Z"
      },
      {
        "duration": 137,
        "start_time": "2022-07-31T17:31:54.340Z"
      },
      {
        "duration": 6,
        "start_time": "2022-07-31T17:31:54.479Z"
      },
      {
        "duration": 123,
        "start_time": "2022-07-31T17:31:54.487Z"
      },
      {
        "duration": 14,
        "start_time": "2022-07-31T17:31:54.611Z"
      },
      {
        "duration": 890,
        "start_time": "2022-07-31T17:31:54.627Z"
      },
      {
        "duration": 9,
        "start_time": "2022-07-31T17:31:55.523Z"
      },
      {
        "duration": 10,
        "start_time": "2022-07-31T17:31:55.534Z"
      },
      {
        "duration": 5,
        "start_time": "2022-07-31T17:31:55.545Z"
      },
      {
        "duration": 142,
        "start_time": "2022-07-31T17:31:55.552Z"
      },
      {
        "duration": 3,
        "start_time": "2022-07-31T17:31:55.696Z"
      },
      {
        "duration": 6,
        "start_time": "2022-07-31T17:31:55.700Z"
      },
      {
        "duration": 16,
        "start_time": "2022-07-31T17:31:55.707Z"
      },
      {
        "duration": 12,
        "start_time": "2022-07-31T17:31:55.725Z"
      },
      {
        "duration": 9,
        "start_time": "2022-07-31T17:31:55.739Z"
      },
      {
        "duration": 6,
        "start_time": "2022-07-31T17:31:55.750Z"
      },
      {
        "duration": 7,
        "start_time": "2022-07-31T17:31:55.758Z"
      },
      {
        "duration": 8,
        "start_time": "2022-07-31T17:31:55.767Z"
      },
      {
        "duration": 10,
        "start_time": "2022-07-31T17:31:55.777Z"
      },
      {
        "duration": 126,
        "start_time": "2022-07-31T17:31:55.789Z"
      },
      {
        "duration": 0,
        "start_time": "2022-07-31T17:31:55.916Z"
      },
      {
        "duration": 0,
        "start_time": "2022-07-31T17:31:55.923Z"
      },
      {
        "duration": 0,
        "start_time": "2022-07-31T17:31:55.924Z"
      },
      {
        "duration": 0,
        "start_time": "2022-07-31T17:31:55.925Z"
      },
      {
        "duration": 0,
        "start_time": "2022-07-31T17:31:55.926Z"
      },
      {
        "duration": 0,
        "start_time": "2022-07-31T17:31:55.927Z"
      },
      {
        "duration": 0,
        "start_time": "2022-07-31T17:31:55.928Z"
      },
      {
        "duration": 0,
        "start_time": "2022-07-31T17:31:55.929Z"
      },
      {
        "duration": 0,
        "start_time": "2022-07-31T17:31:55.930Z"
      },
      {
        "duration": 0,
        "start_time": "2022-07-31T17:31:55.932Z"
      },
      {
        "duration": 0,
        "start_time": "2022-07-31T17:31:55.933Z"
      },
      {
        "duration": 0,
        "start_time": "2022-07-31T17:31:55.934Z"
      },
      {
        "duration": 0,
        "start_time": "2022-07-31T17:31:55.935Z"
      },
      {
        "duration": 6,
        "start_time": "2022-07-31T17:32:30.300Z"
      },
      {
        "duration": 11,
        "start_time": "2022-07-31T17:33:09.419Z"
      },
      {
        "duration": 35672,
        "start_time": "2022-07-31T17:33:27.310Z"
      },
      {
        "duration": 3210,
        "start_time": "2022-07-31T17:34:48.014Z"
      },
      {
        "duration": 34774,
        "start_time": "2022-07-31T17:35:12.232Z"
      },
      {
        "duration": 3050,
        "start_time": "2022-07-31T17:35:53.477Z"
      },
      {
        "duration": 110,
        "start_time": "2022-07-31T17:36:13.685Z"
      },
      {
        "duration": 11,
        "start_time": "2022-07-31T17:36:16.481Z"
      },
      {
        "duration": 2394,
        "start_time": "2022-07-31T17:36:23.831Z"
      },
      {
        "duration": 2459,
        "start_time": "2022-07-31T17:36:41.420Z"
      },
      {
        "duration": 2402,
        "start_time": "2022-07-31T17:37:56.671Z"
      },
      {
        "duration": 2340,
        "start_time": "2022-07-31T17:38:17.906Z"
      },
      {
        "duration": 2363,
        "start_time": "2022-07-31T17:38:29.067Z"
      },
      {
        "duration": 2671,
        "start_time": "2022-07-31T17:39:31.673Z"
      },
      {
        "duration": 4,
        "start_time": "2022-07-31T17:39:39.433Z"
      },
      {
        "duration": 8,
        "start_time": "2022-07-31T17:39:48.577Z"
      },
      {
        "duration": 11206,
        "start_time": "2022-07-31T17:40:32.765Z"
      },
      {
        "duration": 3360,
        "start_time": "2022-07-31T17:41:11.580Z"
      },
      {
        "duration": 18,
        "start_time": "2022-07-31T17:41:35.894Z"
      },
      {
        "duration": 1435,
        "start_time": "2022-07-31T17:41:52.892Z"
      },
      {
        "duration": 7,
        "start_time": "2022-07-31T17:42:23.339Z"
      },
      {
        "duration": 4,
        "start_time": "2022-07-31T17:42:26.407Z"
      },
      {
        "duration": 10,
        "start_time": "2022-07-31T17:42:47.135Z"
      },
      {
        "duration": 36491,
        "start_time": "2022-07-31T17:43:04.799Z"
      },
      {
        "duration": 2657,
        "start_time": "2022-07-31T17:43:56.770Z"
      },
      {
        "duration": 34897,
        "start_time": "2022-07-31T17:44:06.490Z"
      },
      {
        "duration": 3094,
        "start_time": "2022-07-31T17:44:46.431Z"
      },
      {
        "duration": 109,
        "start_time": "2022-07-31T17:44:55.793Z"
      },
      {
        "duration": 2368,
        "start_time": "2022-07-31T17:45:01.785Z"
      },
      {
        "duration": 4,
        "start_time": "2022-07-31T17:45:06.785Z"
      },
      {
        "duration": 9,
        "start_time": "2022-07-31T17:45:10.489Z"
      },
      {
        "duration": 10954,
        "start_time": "2022-07-31T17:45:14.088Z"
      },
      {
        "duration": 6347,
        "start_time": "2022-07-31T17:45:29.281Z"
      },
      {
        "duration": 1128,
        "start_time": "2022-07-31T17:45:43.600Z"
      },
      {
        "duration": 17,
        "start_time": "2022-07-31T17:45:50.445Z"
      },
      {
        "duration": 1409,
        "start_time": "2022-07-31T17:45:55.122Z"
      },
      {
        "duration": 7,
        "start_time": "2022-07-31T17:45:59.893Z"
      },
      {
        "duration": 4,
        "start_time": "2022-07-31T17:46:02.538Z"
      },
      {
        "duration": 1196557,
        "start_time": "2022-07-31T17:47:37.778Z"
      },
      {
        "duration": 1534,
        "start_time": "2022-07-31T18:08:25.290Z"
      },
      {
        "duration": 1516,
        "start_time": "2022-07-31T18:28:17.892Z"
      },
      {
        "duration": 299,
        "start_time": "2022-07-31T18:28:19.410Z"
      },
      {
        "duration": 21,
        "start_time": "2022-07-31T18:28:19.711Z"
      },
      {
        "duration": 269,
        "start_time": "2022-07-31T18:28:19.734Z"
      },
      {
        "duration": 31,
        "start_time": "2022-07-31T18:28:20.005Z"
      },
      {
        "duration": 10,
        "start_time": "2022-07-31T18:28:20.038Z"
      },
      {
        "duration": 3,
        "start_time": "2022-07-31T18:28:20.049Z"
      },
      {
        "duration": 14,
        "start_time": "2022-07-31T18:28:20.053Z"
      },
      {
        "duration": 9,
        "start_time": "2022-07-31T18:28:20.069Z"
      },
      {
        "duration": 161,
        "start_time": "2022-07-31T18:28:20.081Z"
      },
      {
        "duration": 79,
        "start_time": "2022-07-31T18:28:20.244Z"
      },
      {
        "duration": 14,
        "start_time": "2022-07-31T18:28:20.324Z"
      },
      {
        "duration": 40,
        "start_time": "2022-07-31T18:28:20.340Z"
      },
      {
        "duration": 12,
        "start_time": "2022-07-31T18:28:20.382Z"
      },
      {
        "duration": 5,
        "start_time": "2022-07-31T18:28:20.395Z"
      },
      {
        "duration": 21,
        "start_time": "2022-07-31T18:28:20.402Z"
      },
      {
        "duration": 26,
        "start_time": "2022-07-31T18:28:20.425Z"
      },
      {
        "duration": 374,
        "start_time": "2022-07-31T18:28:20.452Z"
      },
      {
        "duration": 18,
        "start_time": "2022-07-31T18:28:20.828Z"
      },
      {
        "duration": 10,
        "start_time": "2022-07-31T18:28:20.848Z"
      },
      {
        "duration": 18,
        "start_time": "2022-07-31T18:28:20.859Z"
      },
      {
        "duration": 11,
        "start_time": "2022-07-31T18:28:20.878Z"
      },
      {
        "duration": 133,
        "start_time": "2022-07-31T18:28:20.891Z"
      },
      {
        "duration": 7,
        "start_time": "2022-07-31T18:28:21.025Z"
      },
      {
        "duration": 21,
        "start_time": "2022-07-31T18:28:21.034Z"
      },
      {
        "duration": 5,
        "start_time": "2022-07-31T18:28:21.057Z"
      },
      {
        "duration": 13,
        "start_time": "2022-07-31T18:28:21.063Z"
      },
      {
        "duration": 6,
        "start_time": "2022-07-31T18:28:21.081Z"
      },
      {
        "duration": 165,
        "start_time": "2022-07-31T18:28:21.090Z"
      },
      {
        "duration": 7,
        "start_time": "2022-07-31T18:28:21.257Z"
      },
      {
        "duration": 128,
        "start_time": "2022-07-31T18:28:21.265Z"
      },
      {
        "duration": 6,
        "start_time": "2022-07-31T18:28:21.395Z"
      },
      {
        "duration": 125,
        "start_time": "2022-07-31T18:28:21.402Z"
      },
      {
        "duration": 8,
        "start_time": "2022-07-31T18:28:21.529Z"
      },
      {
        "duration": 855,
        "start_time": "2022-07-31T18:28:21.538Z"
      },
      {
        "duration": 9,
        "start_time": "2022-07-31T18:28:22.394Z"
      },
      {
        "duration": 23,
        "start_time": "2022-07-31T18:28:22.404Z"
      },
      {
        "duration": 5,
        "start_time": "2022-07-31T18:28:22.429Z"
      },
      {
        "duration": 121,
        "start_time": "2022-07-31T18:28:22.435Z"
      },
      {
        "duration": 4,
        "start_time": "2022-07-31T18:28:22.558Z"
      },
      {
        "duration": 6,
        "start_time": "2022-07-31T18:28:22.563Z"
      },
      {
        "duration": 13,
        "start_time": "2022-07-31T18:28:22.570Z"
      },
      {
        "duration": 10,
        "start_time": "2022-07-31T18:28:22.584Z"
      },
      {
        "duration": 36,
        "start_time": "2022-07-31T18:28:22.596Z"
      },
      {
        "duration": 3,
        "start_time": "2022-07-31T18:28:22.634Z"
      },
      {
        "duration": 9,
        "start_time": "2022-07-31T18:28:22.639Z"
      },
      {
        "duration": 9,
        "start_time": "2022-07-31T18:28:22.649Z"
      },
      {
        "duration": 7,
        "start_time": "2022-07-31T18:28:22.660Z"
      },
      {
        "duration": 6,
        "start_time": "2022-07-31T18:28:22.668Z"
      },
      {
        "duration": 8,
        "start_time": "2022-07-31T18:28:22.675Z"
      },
      {
        "duration": 16345,
        "start_time": "2022-07-31T18:28:22.685Z"
      },
      {
        "duration": 6848,
        "start_time": "2022-07-31T18:28:39.033Z"
      },
      {
        "duration": 0,
        "start_time": "2022-07-31T18:28:45.884Z"
      },
      {
        "duration": 0,
        "start_time": "2022-07-31T18:28:45.885Z"
      },
      {
        "duration": 0,
        "start_time": "2022-07-31T18:28:45.886Z"
      },
      {
        "duration": 0,
        "start_time": "2022-07-31T18:28:45.886Z"
      },
      {
        "duration": 0,
        "start_time": "2022-07-31T18:28:45.888Z"
      },
      {
        "duration": 0,
        "start_time": "2022-07-31T18:28:45.889Z"
      },
      {
        "duration": 0,
        "start_time": "2022-07-31T18:28:45.890Z"
      },
      {
        "duration": 0,
        "start_time": "2022-07-31T18:28:45.891Z"
      },
      {
        "duration": 0,
        "start_time": "2022-07-31T18:28:45.892Z"
      },
      {
        "duration": 0,
        "start_time": "2022-07-31T18:28:45.893Z"
      },
      {
        "duration": 0,
        "start_time": "2022-07-31T18:28:45.894Z"
      },
      {
        "duration": 0,
        "start_time": "2022-07-31T18:28:45.895Z"
      },
      {
        "duration": 0,
        "start_time": "2022-07-31T18:28:45.896Z"
      },
      {
        "duration": 2522,
        "start_time": "2022-07-31T18:28:50.704Z"
      },
      {
        "duration": 33644,
        "start_time": "2022-07-31T18:29:00.821Z"
      },
      {
        "duration": 4,
        "start_time": "2022-07-31T18:29:58.974Z"
      },
      {
        "duration": 5,
        "start_time": "2022-07-31T18:30:00.304Z"
      },
      {
        "duration": 21,
        "start_time": "2022-07-31T18:30:00.993Z"
      },
      {
        "duration": 1375,
        "start_time": "2022-07-31T18:30:13.257Z"
      },
      {
        "duration": 280,
        "start_time": "2022-07-31T18:30:14.634Z"
      },
      {
        "duration": 24,
        "start_time": "2022-07-31T18:30:14.915Z"
      },
      {
        "duration": 271,
        "start_time": "2022-07-31T18:30:14.942Z"
      },
      {
        "duration": 27,
        "start_time": "2022-07-31T18:30:15.214Z"
      },
      {
        "duration": 13,
        "start_time": "2022-07-31T18:30:15.243Z"
      },
      {
        "duration": 2,
        "start_time": "2022-07-31T18:30:15.258Z"
      },
      {
        "duration": 14,
        "start_time": "2022-07-31T18:30:15.262Z"
      },
      {
        "duration": 9,
        "start_time": "2022-07-31T18:30:15.278Z"
      },
      {
        "duration": 158,
        "start_time": "2022-07-31T18:30:15.290Z"
      },
      {
        "duration": 81,
        "start_time": "2022-07-31T18:30:15.449Z"
      },
      {
        "duration": 13,
        "start_time": "2022-07-31T18:30:15.531Z"
      },
      {
        "duration": 22,
        "start_time": "2022-07-31T18:30:15.546Z"
      },
      {
        "duration": 7,
        "start_time": "2022-07-31T18:30:15.569Z"
      },
      {
        "duration": 7,
        "start_time": "2022-07-31T18:30:15.577Z"
      },
      {
        "duration": 6,
        "start_time": "2022-07-31T18:30:15.586Z"
      },
      {
        "duration": 25,
        "start_time": "2022-07-31T18:30:15.624Z"
      },
      {
        "duration": 367,
        "start_time": "2022-07-31T18:30:15.651Z"
      },
      {
        "duration": 26,
        "start_time": "2022-07-31T18:30:16.020Z"
      },
      {
        "duration": 10,
        "start_time": "2022-07-31T18:30:16.049Z"
      },
      {
        "duration": 20,
        "start_time": "2022-07-31T18:30:16.061Z"
      },
      {
        "duration": 11,
        "start_time": "2022-07-31T18:30:16.082Z"
      },
      {
        "duration": 129,
        "start_time": "2022-07-31T18:30:16.095Z"
      },
      {
        "duration": 6,
        "start_time": "2022-07-31T18:30:16.226Z"
      },
      {
        "duration": 25,
        "start_time": "2022-07-31T18:30:16.234Z"
      },
      {
        "duration": 4,
        "start_time": "2022-07-31T18:30:16.261Z"
      },
      {
        "duration": 15,
        "start_time": "2022-07-31T18:30:16.267Z"
      },
      {
        "duration": 6,
        "start_time": "2022-07-31T18:30:16.286Z"
      },
      {
        "duration": 146,
        "start_time": "2022-07-31T18:30:16.293Z"
      },
      {
        "duration": 6,
        "start_time": "2022-07-31T18:30:16.441Z"
      },
      {
        "duration": 126,
        "start_time": "2022-07-31T18:30:16.449Z"
      },
      {
        "duration": 6,
        "start_time": "2022-07-31T18:30:16.577Z"
      },
      {
        "duration": 123,
        "start_time": "2022-07-31T18:30:16.585Z"
      },
      {
        "duration": 14,
        "start_time": "2022-07-31T18:30:16.710Z"
      },
      {
        "duration": 851,
        "start_time": "2022-07-31T18:30:16.726Z"
      },
      {
        "duration": 8,
        "start_time": "2022-07-31T18:30:17.579Z"
      },
      {
        "duration": 12,
        "start_time": "2022-07-31T18:30:17.588Z"
      },
      {
        "duration": 7,
        "start_time": "2022-07-31T18:30:17.602Z"
      },
      {
        "duration": 120,
        "start_time": "2022-07-31T18:30:17.623Z"
      },
      {
        "duration": 3,
        "start_time": "2022-07-31T18:30:17.745Z"
      },
      {
        "duration": 5,
        "start_time": "2022-07-31T18:30:17.750Z"
      },
      {
        "duration": 8,
        "start_time": "2022-07-31T18:30:17.756Z"
      },
      {
        "duration": 7,
        "start_time": "2022-07-31T18:30:17.766Z"
      },
      {
        "duration": 175,
        "start_time": "2022-07-31T18:30:17.775Z"
      },
      {
        "duration": 0,
        "start_time": "2022-07-31T18:30:17.951Z"
      },
      {
        "duration": 0,
        "start_time": "2022-07-31T18:30:17.952Z"
      },
      {
        "duration": 0,
        "start_time": "2022-07-31T18:30:17.954Z"
      },
      {
        "duration": 0,
        "start_time": "2022-07-31T18:30:17.955Z"
      },
      {
        "duration": 0,
        "start_time": "2022-07-31T18:30:17.956Z"
      },
      {
        "duration": 0,
        "start_time": "2022-07-31T18:30:17.957Z"
      },
      {
        "duration": 0,
        "start_time": "2022-07-31T18:30:17.958Z"
      },
      {
        "duration": 0,
        "start_time": "2022-07-31T18:30:17.959Z"
      },
      {
        "duration": 0,
        "start_time": "2022-07-31T18:30:17.961Z"
      },
      {
        "duration": 0,
        "start_time": "2022-07-31T18:30:17.962Z"
      },
      {
        "duration": 0,
        "start_time": "2022-07-31T18:30:17.963Z"
      },
      {
        "duration": 0,
        "start_time": "2022-07-31T18:30:17.964Z"
      },
      {
        "duration": 0,
        "start_time": "2022-07-31T18:30:17.965Z"
      },
      {
        "duration": 0,
        "start_time": "2022-07-31T18:30:17.967Z"
      },
      {
        "duration": 0,
        "start_time": "2022-07-31T18:30:17.968Z"
      },
      {
        "duration": 0,
        "start_time": "2022-07-31T18:30:17.969Z"
      },
      {
        "duration": 0,
        "start_time": "2022-07-31T18:30:17.970Z"
      },
      {
        "duration": 0,
        "start_time": "2022-07-31T18:30:17.971Z"
      },
      {
        "duration": 0,
        "start_time": "2022-07-31T18:30:17.972Z"
      },
      {
        "duration": 0,
        "start_time": "2022-07-31T18:30:17.973Z"
      },
      {
        "duration": 1,
        "start_time": "2022-07-31T18:30:17.974Z"
      },
      {
        "duration": 4,
        "start_time": "2022-07-31T18:30:56.351Z"
      },
      {
        "duration": 4,
        "start_time": "2022-07-31T18:30:56.596Z"
      },
      {
        "duration": 1672,
        "start_time": "2022-07-31T18:31:03.461Z"
      },
      {
        "duration": 29,
        "start_time": "2022-07-31T18:31:41.191Z"
      },
      {
        "duration": 1066,
        "start_time": "2022-07-31T18:31:48.808Z"
      },
      {
        "duration": 202,
        "start_time": "2022-07-31T18:32:02.329Z"
      },
      {
        "duration": 1439,
        "start_time": "2022-07-31T18:56:48.601Z"
      },
      {
        "duration": 277,
        "start_time": "2022-07-31T18:56:50.041Z"
      },
      {
        "duration": 17,
        "start_time": "2022-07-31T18:56:50.320Z"
      },
      {
        "duration": 248,
        "start_time": "2022-07-31T18:56:50.339Z"
      },
      {
        "duration": 21,
        "start_time": "2022-07-31T18:56:50.588Z"
      },
      {
        "duration": 10,
        "start_time": "2022-07-31T18:56:50.623Z"
      },
      {
        "duration": 10,
        "start_time": "2022-07-31T18:56:50.634Z"
      },
      {
        "duration": 10,
        "start_time": "2022-07-31T18:56:50.645Z"
      },
      {
        "duration": 145,
        "start_time": "2022-07-31T18:56:50.657Z"
      },
      {
        "duration": 82,
        "start_time": "2022-07-31T18:56:50.805Z"
      },
      {
        "duration": 12,
        "start_time": "2022-07-31T18:56:50.888Z"
      },
      {
        "duration": 31,
        "start_time": "2022-07-31T18:56:50.902Z"
      },
      {
        "duration": 9,
        "start_time": "2022-07-31T18:56:50.935Z"
      },
      {
        "duration": 6,
        "start_time": "2022-07-31T18:56:50.946Z"
      },
      {
        "duration": 12,
        "start_time": "2022-07-31T18:56:50.953Z"
      },
      {
        "duration": 25,
        "start_time": "2022-07-31T18:56:50.967Z"
      },
      {
        "duration": 374,
        "start_time": "2022-07-31T18:56:50.993Z"
      },
      {
        "duration": 16,
        "start_time": "2022-07-31T18:56:51.369Z"
      },
      {
        "duration": 9,
        "start_time": "2022-07-31T18:56:51.386Z"
      },
      {
        "duration": 32,
        "start_time": "2022-07-31T18:56:51.397Z"
      },
      {
        "duration": 8,
        "start_time": "2022-07-31T18:56:51.431Z"
      },
      {
        "duration": 107,
        "start_time": "2022-07-31T18:56:51.441Z"
      },
      {
        "duration": 8,
        "start_time": "2022-07-31T18:56:51.550Z"
      },
      {
        "duration": 16,
        "start_time": "2022-07-31T18:56:51.559Z"
      },
      {
        "duration": 5,
        "start_time": "2022-07-31T18:56:51.577Z"
      },
      {
        "duration": 5,
        "start_time": "2022-07-31T18:56:51.584Z"
      },
      {
        "duration": 35,
        "start_time": "2022-07-31T18:56:51.591Z"
      },
      {
        "duration": 131,
        "start_time": "2022-07-31T18:56:51.631Z"
      },
      {
        "duration": 6,
        "start_time": "2022-07-31T18:56:51.763Z"
      },
      {
        "duration": 119,
        "start_time": "2022-07-31T18:56:51.771Z"
      },
      {
        "duration": 6,
        "start_time": "2022-07-31T18:56:51.892Z"
      },
      {
        "duration": 119,
        "start_time": "2022-07-31T18:56:51.900Z"
      },
      {
        "duration": 8,
        "start_time": "2022-07-31T18:56:52.022Z"
      },
      {
        "duration": 867,
        "start_time": "2022-07-31T18:56:52.031Z"
      },
      {
        "duration": 9,
        "start_time": "2022-07-31T18:56:52.901Z"
      },
      {
        "duration": 20,
        "start_time": "2022-07-31T18:56:52.912Z"
      },
      {
        "duration": 11,
        "start_time": "2022-07-31T18:56:52.934Z"
      },
      {
        "duration": 130,
        "start_time": "2022-07-31T18:56:52.947Z"
      },
      {
        "duration": 4,
        "start_time": "2022-07-31T18:56:53.078Z"
      },
      {
        "duration": 5,
        "start_time": "2022-07-31T18:56:53.083Z"
      },
      {
        "duration": 7,
        "start_time": "2022-07-31T18:56:53.089Z"
      },
      {
        "duration": 6,
        "start_time": "2022-07-31T18:56:53.098Z"
      },
      {
        "duration": 31,
        "start_time": "2022-07-31T18:56:53.106Z"
      },
      {
        "duration": 3,
        "start_time": "2022-07-31T18:56:53.139Z"
      },
      {
        "duration": 7,
        "start_time": "2022-07-31T18:56:53.143Z"
      },
      {
        "duration": 15,
        "start_time": "2022-07-31T18:56:53.152Z"
      },
      {
        "duration": 6,
        "start_time": "2022-07-31T18:56:53.169Z"
      },
      {
        "duration": 9,
        "start_time": "2022-07-31T18:56:53.177Z"
      },
      {
        "duration": 134,
        "start_time": "2022-07-31T18:56:53.187Z"
      },
      {
        "duration": 0,
        "start_time": "2022-07-31T18:56:53.323Z"
      },
      {
        "duration": 0,
        "start_time": "2022-07-31T18:56:53.325Z"
      },
      {
        "duration": 0,
        "start_time": "2022-07-31T18:56:53.326Z"
      },
      {
        "duration": 0,
        "start_time": "2022-07-31T18:56:53.327Z"
      },
      {
        "duration": 0,
        "start_time": "2022-07-31T18:56:53.330Z"
      },
      {
        "duration": 0,
        "start_time": "2022-07-31T18:56:53.331Z"
      },
      {
        "duration": 0,
        "start_time": "2022-07-31T18:56:53.333Z"
      },
      {
        "duration": 0,
        "start_time": "2022-07-31T18:56:53.334Z"
      },
      {
        "duration": 0,
        "start_time": "2022-07-31T18:56:53.336Z"
      },
      {
        "duration": 0,
        "start_time": "2022-07-31T18:56:53.337Z"
      },
      {
        "duration": 0,
        "start_time": "2022-07-31T18:56:53.339Z"
      },
      {
        "duration": 0,
        "start_time": "2022-07-31T18:56:53.340Z"
      },
      {
        "duration": 0,
        "start_time": "2022-07-31T18:56:53.341Z"
      },
      {
        "duration": 0,
        "start_time": "2022-07-31T18:56:53.342Z"
      },
      {
        "duration": 0,
        "start_time": "2022-07-31T18:56:53.343Z"
      },
      {
        "duration": 4,
        "start_time": "2022-07-31T18:57:17.262Z"
      },
      {
        "duration": 15161,
        "start_time": "2022-07-31T18:57:21.123Z"
      },
      {
        "duration": 2682,
        "start_time": "2022-07-31T18:57:44.148Z"
      },
      {
        "duration": 34143,
        "start_time": "2022-07-31T18:57:54.606Z"
      },
      {
        "duration": 1143,
        "start_time": "2022-07-31T18:58:32.786Z"
      },
      {
        "duration": 1432,
        "start_time": "2022-07-31T18:58:46.985Z"
      },
      {
        "duration": 2276,
        "start_time": "2022-07-31T18:59:23.305Z"
      },
      {
        "duration": 7,
        "start_time": "2022-07-31T19:01:16.759Z"
      },
      {
        "duration": 10666,
        "start_time": "2022-07-31T19:01:21.188Z"
      },
      {
        "duration": 255,
        "start_time": "2022-07-31T19:01:36.068Z"
      },
      {
        "duration": 17,
        "start_time": "2022-07-31T19:01:44.681Z"
      },
      {
        "duration": 142,
        "start_time": "2022-07-31T19:01:52.482Z"
      },
      {
        "duration": 7,
        "start_time": "2022-07-31T19:01:55.672Z"
      },
      {
        "duration": 11330,
        "start_time": "2022-07-31T19:03:32.627Z"
      },
      {
        "duration": 11100,
        "start_time": "2022-07-31T19:04:04.922Z"
      },
      {
        "duration": 11,
        "start_time": "2022-07-31T19:06:26.014Z"
      },
      {
        "duration": 4,
        "start_time": "2022-07-31T19:06:32.654Z"
      },
      {
        "duration": 6,
        "start_time": "2022-07-31T19:06:56.278Z"
      },
      {
        "duration": 1422,
        "start_time": "2022-07-31T19:07:27.455Z"
      },
      {
        "duration": 1441,
        "start_time": "2022-07-31T19:09:03.829Z"
      },
      {
        "duration": 298,
        "start_time": "2022-07-31T19:09:05.272Z"
      },
      {
        "duration": 17,
        "start_time": "2022-07-31T19:09:05.572Z"
      },
      {
        "duration": 261,
        "start_time": "2022-07-31T19:09:05.591Z"
      },
      {
        "duration": 21,
        "start_time": "2022-07-31T19:09:05.854Z"
      },
      {
        "duration": 11,
        "start_time": "2022-07-31T19:09:05.877Z"
      },
      {
        "duration": 11,
        "start_time": "2022-07-31T19:09:05.889Z"
      },
      {
        "duration": 28,
        "start_time": "2022-07-31T19:09:05.901Z"
      },
      {
        "duration": 145,
        "start_time": "2022-07-31T19:09:05.930Z"
      },
      {
        "duration": 79,
        "start_time": "2022-07-31T19:09:06.077Z"
      },
      {
        "duration": 13,
        "start_time": "2022-07-31T19:09:06.158Z"
      },
      {
        "duration": 23,
        "start_time": "2022-07-31T19:09:06.173Z"
      },
      {
        "duration": 29,
        "start_time": "2022-07-31T19:09:06.198Z"
      },
      {
        "duration": 4,
        "start_time": "2022-07-31T19:09:06.229Z"
      },
      {
        "duration": 9,
        "start_time": "2022-07-31T19:09:06.234Z"
      },
      {
        "duration": 25,
        "start_time": "2022-07-31T19:09:06.245Z"
      },
      {
        "duration": 393,
        "start_time": "2022-07-31T19:09:06.271Z"
      },
      {
        "duration": 17,
        "start_time": "2022-07-31T19:09:06.666Z"
      },
      {
        "duration": 9,
        "start_time": "2022-07-31T19:09:06.685Z"
      },
      {
        "duration": 37,
        "start_time": "2022-07-31T19:09:06.696Z"
      },
      {
        "duration": 9,
        "start_time": "2022-07-31T19:09:06.735Z"
      },
      {
        "duration": 108,
        "start_time": "2022-07-31T19:09:06.745Z"
      },
      {
        "duration": 7,
        "start_time": "2022-07-31T19:09:06.855Z"
      },
      {
        "duration": 19,
        "start_time": "2022-07-31T19:09:06.864Z"
      },
      {
        "duration": 5,
        "start_time": "2022-07-31T19:09:06.885Z"
      },
      {
        "duration": 32,
        "start_time": "2022-07-31T19:09:06.892Z"
      },
      {
        "duration": 9,
        "start_time": "2022-07-31T19:09:06.926Z"
      },
      {
        "duration": 143,
        "start_time": "2022-07-31T19:09:06.939Z"
      },
      {
        "duration": 7,
        "start_time": "2022-07-31T19:09:07.084Z"
      },
      {
        "duration": 132,
        "start_time": "2022-07-31T19:09:07.093Z"
      },
      {
        "duration": 6,
        "start_time": "2022-07-31T19:09:07.226Z"
      },
      {
        "duration": 127,
        "start_time": "2022-07-31T19:09:07.234Z"
      },
      {
        "duration": 8,
        "start_time": "2022-07-31T19:09:07.362Z"
      },
      {
        "duration": 1274,
        "start_time": "2022-07-31T19:09:07.372Z"
      },
      {
        "duration": 10,
        "start_time": "2022-07-31T19:09:08.648Z"
      },
      {
        "duration": 65,
        "start_time": "2022-07-31T19:09:08.661Z"
      },
      {
        "duration": 6,
        "start_time": "2022-07-31T19:09:08.728Z"
      },
      {
        "duration": 310,
        "start_time": "2022-07-31T19:09:08.736Z"
      },
      {
        "duration": 4,
        "start_time": "2022-07-31T19:09:09.049Z"
      },
      {
        "duration": 68,
        "start_time": "2022-07-31T19:09:09.055Z"
      },
      {
        "duration": 6,
        "start_time": "2022-07-31T19:09:09.126Z"
      },
      {
        "duration": 16,
        "start_time": "2022-07-31T19:09:09.134Z"
      },
      {
        "duration": 5,
        "start_time": "2022-07-31T19:09:09.152Z"
      },
      {
        "duration": 9,
        "start_time": "2022-07-31T19:09:09.159Z"
      },
      {
        "duration": 10,
        "start_time": "2022-07-31T19:09:09.170Z"
      },
      {
        "duration": 6,
        "start_time": "2022-07-31T19:09:09.224Z"
      },
      {
        "duration": 5,
        "start_time": "2022-07-31T19:09:09.232Z"
      },
      {
        "duration": 11,
        "start_time": "2022-07-31T19:09:09.239Z"
      },
      {
        "duration": 5,
        "start_time": "2022-07-31T19:09:09.252Z"
      },
      {
        "duration": 15428,
        "start_time": "2022-07-31T19:09:09.259Z"
      },
      {
        "duration": 11204,
        "start_time": "2022-07-31T19:09:24.690Z"
      },
      {
        "duration": 0,
        "start_time": "2022-07-31T19:09:35.896Z"
      },
      {
        "duration": 0,
        "start_time": "2022-07-31T19:09:35.897Z"
      },
      {
        "duration": 0,
        "start_time": "2022-07-31T19:09:35.898Z"
      },
      {
        "duration": 0,
        "start_time": "2022-07-31T19:09:35.899Z"
      },
      {
        "duration": 0,
        "start_time": "2022-07-31T19:09:35.900Z"
      },
      {
        "duration": 0,
        "start_time": "2022-07-31T19:09:35.901Z"
      },
      {
        "duration": 0,
        "start_time": "2022-07-31T19:09:35.902Z"
      },
      {
        "duration": 0,
        "start_time": "2022-07-31T19:09:35.903Z"
      },
      {
        "duration": 0,
        "start_time": "2022-07-31T19:09:35.904Z"
      },
      {
        "duration": 0,
        "start_time": "2022-07-31T19:09:35.905Z"
      },
      {
        "duration": 0,
        "start_time": "2022-07-31T19:09:35.906Z"
      },
      {
        "duration": 0,
        "start_time": "2022-07-31T19:09:35.923Z"
      },
      {
        "duration": 0,
        "start_time": "2022-07-31T19:09:35.924Z"
      },
      {
        "duration": 0,
        "start_time": "2022-07-31T19:09:35.925Z"
      },
      {
        "duration": 1129,
        "start_time": "2022-07-31T19:09:41.794Z"
      },
      {
        "duration": 14908,
        "start_time": "2022-07-31T19:09:51.848Z"
      },
      {
        "duration": 1327,
        "start_time": "2022-07-31T19:10:15.297Z"
      },
      {
        "duration": 1396,
        "start_time": "2022-07-31T19:10:22.061Z"
      },
      {
        "duration": 2275,
        "start_time": "2022-07-31T19:10:27.449Z"
      },
      {
        "duration": 3,
        "start_time": "2022-07-31T19:10:36.314Z"
      },
      {
        "duration": 7,
        "start_time": "2022-07-31T19:10:39.689Z"
      },
      {
        "duration": 10847,
        "start_time": "2022-07-31T19:10:43.201Z"
      },
      {
        "duration": 10789,
        "start_time": "2022-07-31T19:10:57.362Z"
      },
      {
        "duration": 2288,
        "start_time": "2022-07-31T19:11:26.126Z"
      },
      {
        "duration": 7,
        "start_time": "2022-07-31T19:11:43.642Z"
      },
      {
        "duration": 10560,
        "start_time": "2022-07-31T19:12:00.821Z"
      },
      {
        "duration": 10916,
        "start_time": "2022-07-31T19:12:21.034Z"
      },
      {
        "duration": 18014,
        "start_time": "2022-07-31T19:12:59.676Z"
      },
      {
        "duration": 322186,
        "start_time": "2022-07-31T19:13:38.148Z"
      },
      {
        "duration": 901,
        "start_time": "2022-07-31T19:19:01.326Z"
      },
      {
        "duration": 101,
        "start_time": "2022-07-31T19:19:02.230Z"
      },
      {
        "duration": 1296,
        "start_time": "2022-07-31T19:19:02.333Z"
      },
      {
        "duration": 9,
        "start_time": "2022-07-31T19:19:59.209Z"
      },
      {
        "duration": 4,
        "start_time": "2022-07-31T19:20:01.558Z"
      },
      {
        "duration": 1556,
        "start_time": "2022-07-31T19:21:05.774Z"
      },
      {
        "duration": 1057,
        "start_time": "2022-07-31T19:21:18.570Z"
      },
      {
        "duration": 1202,
        "start_time": "2022-07-31T19:21:29.325Z"
      },
      {
        "duration": 2567,
        "start_time": "2022-07-31T19:21:49.357Z"
      },
      {
        "duration": 19,
        "start_time": "2022-07-31T19:23:45.759Z"
      },
      {
        "duration": 16,
        "start_time": "2022-07-31T19:24:11.525Z"
      },
      {
        "duration": 1581,
        "start_time": "2022-07-31T19:25:26.048Z"
      },
      {
        "duration": 11,
        "start_time": "2022-07-31T19:28:23.368Z"
      },
      {
        "duration": 5,
        "start_time": "2022-07-31T19:28:33.775Z"
      },
      {
        "duration": 12,
        "start_time": "2022-07-31T19:28:57.809Z"
      },
      {
        "duration": 10,
        "start_time": "2022-07-31T19:29:35.885Z"
      },
      {
        "duration": 85600,
        "start_time": "2022-07-31T19:29:44.269Z"
      },
      {
        "duration": 71745,
        "start_time": "2022-07-31T19:31:46.450Z"
      },
      {
        "duration": 1065,
        "start_time": "2022-07-31T19:33:09.362Z"
      },
      {
        "duration": 3,
        "start_time": "2022-07-31T19:37:46.062Z"
      },
      {
        "duration": 321727,
        "start_time": "2022-07-31T19:42:25.535Z"
      },
      {
        "duration": 9603,
        "start_time": "2022-07-31T19:47:56.324Z"
      },
      {
        "duration": 6871,
        "start_time": "2022-07-31T19:49:10.160Z"
      },
      {
        "duration": 465,
        "start_time": "2022-07-31T19:49:44.468Z"
      },
      {
        "duration": 11302,
        "start_time": "2022-07-31T19:50:06.622Z"
      },
      {
        "duration": 52326,
        "start_time": "2022-07-31T19:50:51.360Z"
      },
      {
        "duration": 52763,
        "start_time": "2022-07-31T19:53:53.711Z"
      },
      {
        "duration": 10493,
        "start_time": "2022-07-31T19:55:08.134Z"
      },
      {
        "duration": 388,
        "start_time": "2022-07-31T19:55:28.242Z"
      },
      {
        "duration": 12342,
        "start_time": "2022-07-31T19:56:40.991Z"
      },
      {
        "duration": 3127,
        "start_time": "2022-07-31T19:57:52.555Z"
      },
      {
        "duration": 2263,
        "start_time": "2022-07-31T19:58:02.033Z"
      },
      {
        "duration": 2753,
        "start_time": "2022-07-31T19:58:51.723Z"
      },
      {
        "duration": 4,
        "start_time": "2022-07-31T19:58:59.812Z"
      },
      {
        "duration": 6,
        "start_time": "2022-07-31T19:59:04.093Z"
      },
      {
        "duration": 10710,
        "start_time": "2022-07-31T19:59:04.998Z"
      },
      {
        "duration": 8,
        "start_time": "2022-07-31T20:00:20.695Z"
      },
      {
        "duration": 3,
        "start_time": "2022-07-31T20:00:22.340Z"
      },
      {
        "duration": 52426,
        "start_time": "2022-07-31T20:17:43.822Z"
      },
      {
        "duration": 15879,
        "start_time": "2022-07-31T20:18:53.454Z"
      },
      {
        "duration": 7,
        "start_time": "2022-07-31T20:34:10.486Z"
      },
      {
        "duration": 27,
        "start_time": "2022-07-31T20:34:37.494Z"
      },
      {
        "duration": 5,
        "start_time": "2022-07-31T20:35:04.035Z"
      },
      {
        "duration": 6,
        "start_time": "2022-07-31T20:35:40.485Z"
      },
      {
        "duration": 1426,
        "start_time": "2022-07-31T20:46:01.020Z"
      },
      {
        "duration": 281,
        "start_time": "2022-07-31T20:46:02.447Z"
      },
      {
        "duration": 18,
        "start_time": "2022-07-31T20:46:02.729Z"
      },
      {
        "duration": 253,
        "start_time": "2022-07-31T20:46:02.750Z"
      },
      {
        "duration": 25,
        "start_time": "2022-07-31T20:46:03.004Z"
      },
      {
        "duration": 36,
        "start_time": "2022-07-31T20:46:03.031Z"
      },
      {
        "duration": 12,
        "start_time": "2022-07-31T20:46:03.069Z"
      },
      {
        "duration": 8,
        "start_time": "2022-07-31T20:46:03.083Z"
      },
      {
        "duration": 120,
        "start_time": "2022-07-31T20:46:03.092Z"
      },
      {
        "duration": 78,
        "start_time": "2022-07-31T20:46:03.214Z"
      },
      {
        "duration": 13,
        "start_time": "2022-07-31T20:46:03.293Z"
      },
      {
        "duration": 28,
        "start_time": "2022-07-31T20:46:03.308Z"
      },
      {
        "duration": 11,
        "start_time": "2022-07-31T20:46:03.337Z"
      },
      {
        "duration": 4,
        "start_time": "2022-07-31T20:46:03.350Z"
      },
      {
        "duration": 10,
        "start_time": "2022-07-31T20:46:03.356Z"
      },
      {
        "duration": 24,
        "start_time": "2022-07-31T20:46:03.367Z"
      },
      {
        "duration": 385,
        "start_time": "2022-07-31T20:46:03.392Z"
      },
      {
        "duration": 18,
        "start_time": "2022-07-31T20:46:03.778Z"
      },
      {
        "duration": 25,
        "start_time": "2022-07-31T20:46:03.798Z"
      },
      {
        "duration": 15,
        "start_time": "2022-07-31T20:46:03.825Z"
      },
      {
        "duration": 9,
        "start_time": "2022-07-31T20:46:03.841Z"
      },
      {
        "duration": 109,
        "start_time": "2022-07-31T20:46:03.851Z"
      },
      {
        "duration": 7,
        "start_time": "2022-07-31T20:46:03.962Z"
      },
      {
        "duration": 23,
        "start_time": "2022-07-31T20:46:03.971Z"
      },
      {
        "duration": 4,
        "start_time": "2022-07-31T20:46:03.996Z"
      },
      {
        "duration": 24,
        "start_time": "2022-07-31T20:46:04.002Z"
      },
      {
        "duration": 7,
        "start_time": "2022-07-31T20:46:04.028Z"
      },
      {
        "duration": 146,
        "start_time": "2022-07-31T20:46:04.038Z"
      },
      {
        "duration": 7,
        "start_time": "2022-07-31T20:46:04.186Z"
      },
      {
        "duration": 136,
        "start_time": "2022-07-31T20:46:04.195Z"
      },
      {
        "duration": 7,
        "start_time": "2022-07-31T20:46:04.332Z"
      },
      {
        "duration": 131,
        "start_time": "2022-07-31T20:46:04.341Z"
      },
      {
        "duration": 8,
        "start_time": "2022-07-31T20:46:04.475Z"
      },
      {
        "duration": 846,
        "start_time": "2022-07-31T20:46:04.484Z"
      },
      {
        "duration": 5,
        "start_time": "2022-07-31T20:46:05.331Z"
      },
      {
        "duration": 133,
        "start_time": "2022-07-31T20:46:05.338Z"
      },
      {
        "duration": 3,
        "start_time": "2022-07-31T20:46:05.473Z"
      },
      {
        "duration": 29,
        "start_time": "2022-07-31T20:46:05.478Z"
      },
      {
        "duration": 36,
        "start_time": "2022-07-31T20:46:05.508Z"
      },
      {
        "duration": 20,
        "start_time": "2022-07-31T20:46:05.546Z"
      },
      {
        "duration": 24,
        "start_time": "2022-07-31T20:46:05.568Z"
      },
      {
        "duration": 23,
        "start_time": "2022-07-31T20:46:05.594Z"
      },
      {
        "duration": 28,
        "start_time": "2022-07-31T20:46:05.619Z"
      },
      {
        "duration": 20,
        "start_time": "2022-07-31T20:46:05.649Z"
      },
      {
        "duration": 14922,
        "start_time": "2022-07-31T20:46:05.671Z"
      },
      {
        "duration": 120294,
        "start_time": "2022-07-31T20:46:20.595Z"
      },
      {
        "duration": 1233,
        "start_time": "2022-07-31T20:48:20.891Z"
      },
      {
        "duration": 329769,
        "start_time": "2022-07-31T20:48:22.126Z"
      },
      {
        "duration": 55187,
        "start_time": "2022-07-31T20:53:51.897Z"
      },
      {
        "duration": 15943,
        "start_time": "2022-07-31T20:54:47.086Z"
      },
      {
        "duration": 497,
        "start_time": "2022-07-31T20:55:03.033Z"
      },
      {
        "duration": 17500,
        "start_time": "2022-07-31T20:55:03.532Z"
      },
      {
        "duration": 15378,
        "start_time": "2022-07-31T20:55:21.124Z"
      },
      {
        "duration": 46353,
        "start_time": "2022-07-31T20:55:36.504Z"
      },
      {
        "duration": 1369,
        "start_time": "2022-07-31T20:56:22.859Z"
      },
      {
        "duration": 321231,
        "start_time": "2022-07-31T20:56:24.231Z"
      },
      {
        "duration": 52868,
        "start_time": "2022-07-31T21:01:45.464Z"
      },
      {
        "duration": 9490,
        "start_time": "2022-07-31T21:02:38.334Z"
      },
      {
        "duration": 503,
        "start_time": "2022-07-31T21:02:47.826Z"
      },
      {
        "duration": 12297,
        "start_time": "2022-07-31T21:02:48.331Z"
      },
      {
        "duration": 2936,
        "start_time": "2022-07-31T21:03:00.631Z"
      },
      {
        "duration": 2271,
        "start_time": "2022-07-31T21:03:03.569Z"
      },
      {
        "duration": 3,
        "start_time": "2022-07-31T21:03:05.842Z"
      },
      {
        "duration": 16,
        "start_time": "2022-07-31T21:03:05.847Z"
      },
      {
        "duration": 34,
        "start_time": "2022-07-31T21:03:05.865Z"
      },
      {
        "duration": 6,
        "start_time": "2022-07-31T21:03:05.901Z"
      },
      {
        "duration": 1669,
        "start_time": "2022-08-02T17:05:34.771Z"
      },
      {
        "duration": 1003,
        "start_time": "2022-08-02T17:05:36.442Z"
      },
      {
        "duration": 16,
        "start_time": "2022-08-02T17:05:37.447Z"
      },
      {
        "duration": 220,
        "start_time": "2022-08-02T17:05:37.465Z"
      },
      {
        "duration": 37,
        "start_time": "2022-08-02T17:05:37.687Z"
      },
      {
        "duration": 13,
        "start_time": "2022-08-02T17:05:37.726Z"
      },
      {
        "duration": 36,
        "start_time": "2022-08-02T17:05:37.740Z"
      },
      {
        "duration": 8,
        "start_time": "2022-08-02T17:05:37.778Z"
      },
      {
        "duration": 152,
        "start_time": "2022-08-02T17:05:37.788Z"
      },
      {
        "duration": 946,
        "start_time": "2022-08-02T17:05:37.943Z"
      },
      {
        "duration": 31,
        "start_time": "2022-08-02T17:05:38.891Z"
      },
      {
        "duration": 35,
        "start_time": "2022-08-02T17:05:38.924Z"
      },
      {
        "duration": 8,
        "start_time": "2022-08-02T17:05:38.962Z"
      },
      {
        "duration": 20,
        "start_time": "2022-08-02T17:05:38.973Z"
      },
      {
        "duration": 24,
        "start_time": "2022-08-02T17:05:38.995Z"
      },
      {
        "duration": 34,
        "start_time": "2022-08-02T17:05:39.024Z"
      },
      {
        "duration": 2124,
        "start_time": "2022-08-02T17:05:39.060Z"
      },
      {
        "duration": 35,
        "start_time": "2022-08-02T17:05:41.186Z"
      },
      {
        "duration": 10,
        "start_time": "2022-08-02T17:05:41.225Z"
      },
      {
        "duration": 47,
        "start_time": "2022-08-02T17:05:41.236Z"
      },
      {
        "duration": 8,
        "start_time": "2022-08-02T17:05:41.284Z"
      },
      {
        "duration": 102,
        "start_time": "2022-08-02T17:05:41.294Z"
      },
      {
        "duration": 18,
        "start_time": "2022-08-02T17:05:41.398Z"
      },
      {
        "duration": 28,
        "start_time": "2022-08-02T17:05:41.417Z"
      },
      {
        "duration": 4,
        "start_time": "2022-08-02T17:05:41.447Z"
      },
      {
        "duration": 8,
        "start_time": "2022-08-02T17:05:41.453Z"
      },
      {
        "duration": 5,
        "start_time": "2022-08-02T17:05:41.462Z"
      },
      {
        "duration": 124,
        "start_time": "2022-08-02T17:05:41.471Z"
      },
      {
        "duration": 27,
        "start_time": "2022-08-02T17:05:41.598Z"
      },
      {
        "duration": 119,
        "start_time": "2022-08-02T17:05:41.627Z"
      },
      {
        "duration": 5,
        "start_time": "2022-08-02T17:05:41.748Z"
      },
      {
        "duration": 121,
        "start_time": "2022-08-02T17:05:41.755Z"
      },
      {
        "duration": 7,
        "start_time": "2022-08-02T17:05:41.878Z"
      },
      {
        "duration": 839,
        "start_time": "2022-08-02T17:05:41.886Z"
      },
      {
        "duration": 5,
        "start_time": "2022-08-02T17:05:42.727Z"
      },
      {
        "duration": 124,
        "start_time": "2022-08-02T17:05:42.733Z"
      },
      {
        "duration": 3,
        "start_time": "2022-08-02T17:05:42.859Z"
      },
      {
        "duration": 6,
        "start_time": "2022-08-02T17:05:42.864Z"
      },
      {
        "duration": 20,
        "start_time": "2022-08-02T17:05:42.872Z"
      },
      {
        "duration": 35,
        "start_time": "2022-08-02T17:05:42.893Z"
      },
      {
        "duration": 6,
        "start_time": "2022-08-02T17:05:42.930Z"
      },
      {
        "duration": 14,
        "start_time": "2022-08-02T17:05:42.937Z"
      },
      {
        "duration": 3,
        "start_time": "2022-08-02T17:05:42.953Z"
      },
      {
        "duration": 6,
        "start_time": "2022-08-02T17:05:42.958Z"
      },
      {
        "duration": 19809,
        "start_time": "2022-08-02T17:05:42.965Z"
      },
      {
        "duration": 125362,
        "start_time": "2022-08-02T17:06:02.776Z"
      },
      {
        "duration": 3672,
        "start_time": "2022-08-02T17:08:08.140Z"
      },
      {
        "duration": 334980,
        "start_time": "2022-08-02T17:08:11.814Z"
      },
      {
        "duration": 55693,
        "start_time": "2022-08-02T17:13:46.796Z"
      },
      {
        "duration": 187417,
        "start_time": "2022-08-02T17:14:42.491Z"
      },
      {
        "duration": 500,
        "start_time": "2022-08-02T17:17:49.910Z"
      },
      {
        "duration": 255004,
        "start_time": "2022-08-02T17:17:50.412Z"
      },
      {
        "duration": 18372,
        "start_time": "2022-08-02T17:22:05.418Z"
      },
      {
        "duration": 334217,
        "start_time": "2022-08-02T17:24:20.834Z"
      },
      {
        "duration": 55101,
        "start_time": "2022-08-02T17:29:55.052Z"
      },
      {
        "duration": 237577,
        "start_time": "2022-08-02T17:30:50.155Z"
      },
      {
        "duration": 470,
        "start_time": "2022-08-02T17:34:47.734Z"
      },
      {
        "duration": 448904,
        "start_time": "2022-08-02T17:34:48.206Z"
      },
      {
        "duration": 3556,
        "start_time": "2022-08-02T17:42:17.112Z"
      },
      {
        "duration": 2865,
        "start_time": "2022-08-02T17:42:20.669Z"
      },
      {
        "duration": 3,
        "start_time": "2022-08-02T17:42:23.536Z"
      },
      {
        "duration": 11,
        "start_time": "2022-08-02T17:42:23.541Z"
      },
      {
        "duration": 9,
        "start_time": "2022-08-02T17:42:23.553Z"
      },
      {
        "duration": 4,
        "start_time": "2022-08-02T17:42:23.564Z"
      },
      {
        "duration": 1470,
        "start_time": "2022-08-04T13:25:19.321Z"
      },
      {
        "duration": 121,
        "start_time": "2022-08-04T13:25:33.259Z"
      },
      {
        "duration": 50,
        "start_time": "2022-08-04T13:27:00.863Z"
      },
      {
        "duration": 48,
        "start_time": "2022-08-04T13:27:07.784Z"
      },
      {
        "duration": 6639,
        "start_time": "2022-08-04T13:28:52.078Z"
      }
    ],
    "celltoolbar": "Отсутствует",
    "kernelspec": {
      "name": "python",
      "display_name": "Python (Pyodide)",
      "language": "python"
    },
    "language_info": {
      "codemirror_mode": {
        "name": "python",
        "version": 3
      },
      "file_extension": ".py",
      "mimetype": "text/x-python",
      "name": "python",
      "nbconvert_exporter": "python",
      "pygments_lexer": "ipython3",
      "version": "3.8"
    },
    "toc": {
      "base_numbering": 1,
      "nav_menu": {},
      "number_sections": true,
      "sideBar": true,
      "skip_h1_title": true,
      "title_cell": "Содержание",
      "title_sidebar": "Contents",
      "toc_cell": true,
      "toc_position": {
        "height": "400.44px",
        "left": "0px",
        "top": "111.08px",
        "width": "165px"
      },
      "toc_section_display": true,
      "toc_window_display": true
    }
  },
  "nbformat_minor": 4,
  "nbformat": 4,
  "cells": [
    {
      "cell_type": "markdown",
      "source": "<h1>Содержание<span class=\"tocSkip\"></span></h1>\n<div class=\"toc\"><ul class=\"toc-item\"><li><span><a href=\"#Подготовка-данных\" data-toc-modified-id=\"Подготовка-данных-1\"><span class=\"toc-item-num\">1&nbsp;&nbsp;</span>Подготовка данных</a></span><ul class=\"toc-item\"><li><span><a href=\"#Обучающая-выборка\" data-toc-modified-id=\"Обучающая-выборка-1.1\"><span class=\"toc-item-num\">1.1&nbsp;&nbsp;</span>Обучающая выборка</a></span></li><li><span><a href=\"#-Комментарий-ревьюера-v1\" data-toc-modified-id=\"-Комментарий-ревьюера-v1-1.2\"><span class=\"toc-item-num\">1.2&nbsp;&nbsp;</span> Комментарий ревьюера v1</a></span></li><li><span><a href=\"#Тестовая-выборка\" data-toc-modified-id=\"Тестовая-выборка-1.3\"><span class=\"toc-item-num\">1.3&nbsp;&nbsp;</span>Тестовая выборка</a></span></li><li><span><a href=\"#Исходные-данные\" data-toc-modified-id=\"Исходные-данные-1.4\"><span class=\"toc-item-num\">1.4&nbsp;&nbsp;</span>Исходные данные</a></span></li><li><span><a href=\"#Проверка-эффективности-обогащения\" data-toc-modified-id=\"Проверка-эффективности-обогащения-1.5\"><span class=\"toc-item-num\">1.5&nbsp;&nbsp;</span>Проверка эффективности обогащения</a></span></li><li><span><a href=\"#-Комментарий-ревьюера-v1\" data-toc-modified-id=\"-Комментарий-ревьюера-v1-1.6\"><span class=\"toc-item-num\">1.6&nbsp;&nbsp;</span> Комментарий ревьюера v1</a></span></li><li><span><a href=\"#Анализ-признаков,-недоступных-в-тестовой-выборке.\" data-toc-modified-id=\"Анализ-признаков,-недоступных-в-тестовой-выборке.-1.7\"><span class=\"toc-item-num\">1.7&nbsp;&nbsp;</span>Анализ признаков, недоступных в тестовой выборке.</a></span></li><li><span><a href=\"#-Комментарий-ревьюера-v1\" data-toc-modified-id=\"-Комментарий-ревьюера-v1-1.8\"><span class=\"toc-item-num\">1.8&nbsp;&nbsp;</span> Комментарий ревьюера v1</a></span></li></ul></li><li><span><a href=\"#Анализ-данных\" data-toc-modified-id=\"Анализ-данных-2\"><span class=\"toc-item-num\">2&nbsp;&nbsp;</span>Анализ данных</a></span><ul class=\"toc-item\"><li><span><a href=\"#Изменение-концетрации-металлов-на-различных-этапах-очистки\" data-toc-modified-id=\"Изменение-концетрации-металлов-на-различных-этапах-очистки-2.1\"><span class=\"toc-item-num\">2.1&nbsp;&nbsp;</span>Изменение концетрации металлов на различных этапах очистки</a></span><ul class=\"toc-item\"><li><span><a href=\"#Серебро\" data-toc-modified-id=\"Серебро-2.1.1\"><span class=\"toc-item-num\">2.1.1&nbsp;&nbsp;</span>Серебро</a></span></li><li><span><a href=\"#Свинец\" data-toc-modified-id=\"Свинец-2.1.2\"><span class=\"toc-item-num\">2.1.2&nbsp;&nbsp;</span>Свинец</a></span></li><li><span><a href=\"#Золото\" data-toc-modified-id=\"Золото-2.1.3\"><span class=\"toc-item-num\">2.1.3&nbsp;&nbsp;</span>Золото</a></span></li></ul></li><li><span><a href=\"#-Комментарий-ревьюера-v1\" data-toc-modified-id=\"-Комментарий-ревьюера-v1-2.2\"><span class=\"toc-item-num\">2.2&nbsp;&nbsp;</span> Комментарий ревьюера v1</a></span></li><li><span><a href=\"#Сравнение-распределения-размеров-гранул-сырья-на-обучающей-и-тестовой-выборке\" data-toc-modified-id=\"Сравнение-распределения-размеров-гранул-сырья-на-обучающей-и-тестовой-выборке-2.3\"><span class=\"toc-item-num\">2.3&nbsp;&nbsp;</span>Сравнение распределения размеров гранул сырья на обучающей и тестовой выборке</a></span></li><li><span><a href=\"#-Комментарий-ревьюера-v1\" data-toc-modified-id=\"-Комментарий-ревьюера-v1-2.4\"><span class=\"toc-item-num\">2.4&nbsp;&nbsp;</span> Комментарий ревьюера v1</a></span></li><li><span><a href=\"#Суммарная-концетрация-веществ-на-разных-стадиях\" data-toc-modified-id=\"Суммарная-концетрация-веществ-на-разных-стадиях-2.5\"><span class=\"toc-item-num\">2.5&nbsp;&nbsp;</span>Суммарная концетрация веществ на разных стадиях</a></span></li><li><span><a href=\"#-Комментарий-ревьюера-v1\" data-toc-modified-id=\"-Комментарий-ревьюера-v1-2.6\"><span class=\"toc-item-num\">2.6&nbsp;&nbsp;</span> Комментарий ревьюера v1</a></span></li></ul></li><li><span><a href=\"#Модель\" data-toc-modified-id=\"Модель-3\"><span class=\"toc-item-num\">3&nbsp;&nbsp;</span>Модель</a></span><ul class=\"toc-item\"><li><span><a href=\"#Функция-для-расчёта-итогового-sMAPE\" data-toc-modified-id=\"Функция-для-расчёта-итогового-sMAPE-3.1\"><span class=\"toc-item-num\">3.1&nbsp;&nbsp;</span>Функция для расчёта итогового sMAPE</a></span></li><li><span><a href=\"#-Комментарий-ревьюера-v1\" data-toc-modified-id=\"-Комментарий-ревьюера-v1-3.2\"><span class=\"toc-item-num\">3.2&nbsp;&nbsp;</span> Комментарий ревьюера v1</a></span></li><li><span><a href=\"#-Комментарий-ревьюера-v1\" data-toc-modified-id=\"-Комментарий-ревьюера-v1-3.3\"><span class=\"toc-item-num\">3.3&nbsp;&nbsp;</span> Комментарий ревьюера v1</a></span></li><li><span><a href=\"#-Комментарий-ревьюера-v1\" data-toc-modified-id=\"-Комментарий-ревьюера-v1-3.4\"><span class=\"toc-item-num\">3.4&nbsp;&nbsp;</span> Комментарий ревьюера v1</a></span></li><li><span><a href=\"#Подготовка-признаков-для-моделей\" data-toc-modified-id=\"Подготовка-признаков-для-моделей-3.5\"><span class=\"toc-item-num\">3.5&nbsp;&nbsp;</span>Подготовка признаков для моделей</a></span><ul class=\"toc-item\"><li><span><a href=\"#Признаки-для-модели-флотации\" data-toc-modified-id=\"Признаки-для-модели-флотации-3.5.1\"><span class=\"toc-item-num\">3.5.1&nbsp;&nbsp;</span>Признаки для модели флотации</a></span></li></ul></li><li><span><a href=\"#-Комментарий-ревьюера-v1\" data-toc-modified-id=\"-Комментарий-ревьюера-v1-3.6\"><span class=\"toc-item-num\">3.6&nbsp;&nbsp;</span> Комментарий ревьюера v1</a></span><ul class=\"toc-item\"><li><span><a href=\"#Признаки-для-модели-итоговых-значений\" data-toc-modified-id=\"Признаки-для-модели-итоговых-значений-3.6.1\"><span class=\"toc-item-num\">3.6.1&nbsp;&nbsp;</span>Признаки для модели итоговых значений</a></span></li></ul></li><li><span><a href=\"#Выбор-лучшей-модели-для-этапа-флотации\" data-toc-modified-id=\"Выбор-лучшей-модели-для-этапа-флотации-3.7\"><span class=\"toc-item-num\">3.7&nbsp;&nbsp;</span>Выбор лучшей модели для этапа флотации</a></span><ul class=\"toc-item\"><li><span><a href=\"#Дерево-Решений\" data-toc-modified-id=\"Дерево-Решений-3.7.1\"><span class=\"toc-item-num\">3.7.1&nbsp;&nbsp;</span>Дерево Решений</a></span></li></ul></li><li><span><a href=\"#-Комментарий-ревьюера-v1\" data-toc-modified-id=\"-Комментарий-ревьюера-v1-3.8\"><span class=\"toc-item-num\">3.8&nbsp;&nbsp;</span> Комментарий ревьюера v1</a></span></li><li><span><a href=\"#-Комментарий-ревьюера-v2\" data-toc-modified-id=\"-Комментарий-ревьюера-v2-3.9\"><span class=\"toc-item-num\">3.9&nbsp;&nbsp;</span> Комментарий ревьюера v2</a></span><ul class=\"toc-item\"><li><span><a href=\"#Случайный-Лес\" data-toc-modified-id=\"Случайный-Лес-3.9.1\"><span class=\"toc-item-num\">3.9.1&nbsp;&nbsp;</span>Случайный Лес</a></span></li><li><span><a href=\"#Линейная-Регрессия\" data-toc-modified-id=\"Линейная-Регрессия-3.9.2\"><span class=\"toc-item-num\">3.9.2&nbsp;&nbsp;</span>Линейная Регрессия</a></span></li><li><span><a href=\"#CatBoost\" data-toc-modified-id=\"CatBoost-3.9.3\"><span class=\"toc-item-num\">3.9.3&nbsp;&nbsp;</span>CatBoost</a></span></li><li><span><a href=\"#Lasso\" data-toc-modified-id=\"Lasso-3.9.4\"><span class=\"toc-item-num\">3.9.4&nbsp;&nbsp;</span>Lasso</a></span></li><li><span><a href=\"#Ridge\" data-toc-modified-id=\"Ridge-3.9.5\"><span class=\"toc-item-num\">3.9.5&nbsp;&nbsp;</span>Ridge</a></span></li><li><span><a href=\"#ElasticNet\" data-toc-modified-id=\"ElasticNet-3.9.6\"><span class=\"toc-item-num\">3.9.6&nbsp;&nbsp;</span>ElasticNet</a></span></li><li><span><a href=\"#Вывод.\" data-toc-modified-id=\"Вывод.-3.9.7\"><span class=\"toc-item-num\">3.9.7&nbsp;&nbsp;</span>Вывод.</a></span></li></ul></li><li><span><a href=\"#Выбор-модели-для-финального-этапа\" data-toc-modified-id=\"Выбор-модели-для-финального-этапа-3.10\"><span class=\"toc-item-num\">3.10&nbsp;&nbsp;</span>Выбор модели для финального этапа</a></span><ul class=\"toc-item\"><li><span><a href=\"#Дерево-Решений\" data-toc-modified-id=\"Дерево-Решений-3.10.1\"><span class=\"toc-item-num\">3.10.1&nbsp;&nbsp;</span>Дерево Решений</a></span></li><li><span><a href=\"#Случайный-Лес\" data-toc-modified-id=\"Случайный-Лес-3.10.2\"><span class=\"toc-item-num\">3.10.2&nbsp;&nbsp;</span>Случайный Лес</a></span></li><li><span><a href=\"#Линейная-Регрессия\" data-toc-modified-id=\"Линейная-Регрессия-3.10.3\"><span class=\"toc-item-num\">3.10.3&nbsp;&nbsp;</span>Линейная Регрессия</a></span></li><li><span><a href=\"#CatBoost\" data-toc-modified-id=\"CatBoost-3.10.4\"><span class=\"toc-item-num\">3.10.4&nbsp;&nbsp;</span>CatBoost</a></span></li><li><span><a href=\"#Lasso\" data-toc-modified-id=\"Lasso-3.10.5\"><span class=\"toc-item-num\">3.10.5&nbsp;&nbsp;</span>Lasso</a></span></li><li><span><a href=\"#Ridge\" data-toc-modified-id=\"Ridge-3.10.6\"><span class=\"toc-item-num\">3.10.6&nbsp;&nbsp;</span>Ridge</a></span></li><li><span><a href=\"#ElasticNet\" data-toc-modified-id=\"ElasticNet-3.10.7\"><span class=\"toc-item-num\">3.10.7&nbsp;&nbsp;</span>ElasticNet</a></span></li><li><span><a href=\"#Вывод.\" data-toc-modified-id=\"Вывод.-3.10.8\"><span class=\"toc-item-num\">3.10.8&nbsp;&nbsp;</span>Вывод.</a></span></li></ul></li><li><span><a href=\"#-Комментарий-ревьюера-v1\" data-toc-modified-id=\"-Комментарий-ревьюера-v1-3.11\"><span class=\"toc-item-num\">3.11&nbsp;&nbsp;</span> Комментарий ревьюера v1</a></span></li><li><span><a href=\"#-Комментарий-ревьюера-v2\" data-toc-modified-id=\"-Комментарий-ревьюера-v2-3.12\"><span class=\"toc-item-num\">3.12&nbsp;&nbsp;</span> Комментарий ревьюера v2</a></span></li><li><span><a href=\"#Обучение-и-проверка-лучших-моделей-на-тестовой-сборке\" data-toc-modified-id=\"Обучение-и-проверка-лучших-моделей-на-тестовой-сборке-3.13\"><span class=\"toc-item-num\">3.13&nbsp;&nbsp;</span>Обучение и проверка лучших моделей на тестовой сборке</a></span><ul class=\"toc-item\"><li><span><a href=\"#Этап-флотации\" data-toc-modified-id=\"Этап-флотации-3.13.1\"><span class=\"toc-item-num\">3.13.1&nbsp;&nbsp;</span>Этап флотации</a></span></li><li><span><a href=\"#Финальный-этап\" data-toc-modified-id=\"Финальный-этап-3.13.2\"><span class=\"toc-item-num\">3.13.2&nbsp;&nbsp;</span>Финальный этап</a></span></li></ul></li><li><span><a href=\"#Расчет-итогового-sMAPE\" data-toc-modified-id=\"Расчет-итогового-sMAPE-3.14\"><span class=\"toc-item-num\">3.14&nbsp;&nbsp;</span>Расчет итогового sMAPE</a></span></li><li><span><a href=\"#Сравнение-с-константной-моделью\" data-toc-modified-id=\"Сравнение-с-константной-моделью-3.15\"><span class=\"toc-item-num\">3.15&nbsp;&nbsp;</span>Сравнение с константной моделью</a></span></li><li><span><a href=\"#-Комментарий-ревьюера-v1\" data-toc-modified-id=\"-Комментарий-ревьюера-v1-3.16\"><span class=\"toc-item-num\">3.16&nbsp;&nbsp;</span> Комментарий ревьюера v1</a></span></li><li><span><a href=\"#-Комментарий-ревьюера-v2\" data-toc-modified-id=\"-Комментарий-ревьюера-v2-3.17\"><span class=\"toc-item-num\">3.17&nbsp;&nbsp;</span> Комментарий ревьюера v2</a></span></li></ul></li><li><span><a href=\"#Вывод.\" data-toc-modified-id=\"Вывод.-4\"><span class=\"toc-item-num\">4&nbsp;&nbsp;</span>Вывод.</a></span></li><li><span><a href=\"#Чек-лист-готовности-проекта\" data-toc-modified-id=\"Чек-лист-готовности-проекта-5\"><span class=\"toc-item-num\">5&nbsp;&nbsp;</span>Чек-лист готовности проекта</a></span><ul class=\"toc-item\"><li><span><a href=\"#-Итоговый-комментарий\" data-toc-modified-id=\"-Итоговый-комментарий-5.1\"><span class=\"toc-item-num\">5.1&nbsp;&nbsp;</span> Итоговый комментарий</a></span></li></ul></li></ul></div>",
      "metadata": {
        "toc": true
      }
    },
    {
      "cell_type": "markdown",
      "source": "# Восстановление золота из руды",
      "metadata": {}
    },
    {
      "cell_type": "markdown",
      "source": "Подготовьте прототип модели машинного обучения для «Цифры». Компания разрабатывает решения для эффективной работы промышленных предприятий.\n\nМодель должна предсказать коэффициент восстановления золота из золотосодержащей руды. Используйте данные с параметрами добычи и очистки. \n\nМодель поможет оптимизировать производство, чтобы не запускать предприятие с убыточными характеристиками.\n\nВам нужно:\n\n1. Подготовить данные;\n2. Провести исследовательский анализ данных;\n3. Построить и обучить модель.\n\nЧтобы выполнить проект, обращайтесь к библиотекам *pandas*, *matplotlib* и *sklearn.* Вам поможет их документация.",
      "metadata": {}
    },
    {
      "cell_type": "markdown",
      "source": "## Подготовка данных",
      "metadata": {}
    },
    {
      "cell_type": "code",
      "source": "import pandas as pd\nimport numpy as np\nimport matplotlib.pyplot as plt\nfrom sklearn.metrics import mean_absolute_error\nfrom sklearn.metrics import mean_squared_error\nfrom scipy import stats as st\nfrom sklearn.model_selection import cross_val_score\nfrom sklearn.tree import DecisionTreeRegressor\nfrom sklearn.ensemble import RandomForestRegressor\nfrom sklearn.linear_model import LinearRegression\nfrom sklearn.model_selection import GridSearchCV\nfrom sklearn.metrics import make_scorer\nfrom sklearn.preprocessing import StandardScaler\nfrom sklearn.dummy import DummyRegressor\nfrom catboost import CatBoostRegressor\nfrom catboost import Pool, cv\nimport catboost as cb\nfrom sklearn import linear_model\nfrom sklearn.linear_model import Ridge\nfrom sklearn.linear_model import ElasticNet\nfrom sklearn.model_selection import RandomizedSearchCV\n!pip install optuna\nimport optuna\n# импортируем необходимые библиотеки",
      "metadata": {},
      "execution_count": 5,
      "outputs": [
        {
          "name": "stdout",
          "output_type": "stream",
          "text": "Collecting optuna\n\n  Downloading optuna-2.10.1-py3-none-any.whl (308 kB)\n\n\u001b[K     |████████████████████████████████| 308 kB 1.3 MB/s eta 0:00:01\n\n\u001b[?25hRequirement already satisfied: scipy!=1.4.0 in /opt/conda/lib/python3.9/site-packages (from optuna) (1.8.0)\n\nCollecting cliff\n\n  Downloading cliff-3.10.1-py3-none-any.whl (81 kB)\n\n\u001b[K     |████████████████████████████████| 81 kB 7.2 MB/s  eta 0:00:01\n\n\u001b[?25hRequirement already satisfied: PyYAML in /opt/conda/lib/python3.9/site-packages (from optuna) (6.0)\n\nCollecting colorlog\n\n  Downloading colorlog-6.6.0-py2.py3-none-any.whl (11 kB)\n\nRequirement already satisfied: alembic in /opt/conda/lib/python3.9/site-packages (from optuna) (1.6.5)\n\nRequirement already satisfied: sqlalchemy>=1.1.0 in /opt/conda/lib/python3.9/site-packages (from optuna) (1.4.20)\n\nCollecting cmaes>=0.8.2\n\n  Downloading cmaes-0.8.2-py3-none-any.whl (15 kB)\n\nRequirement already satisfied: packaging>=20.0 in /opt/conda/lib/python3.9/site-packages (from optuna) (21.3)\n\nRequirement already satisfied: numpy in /opt/conda/lib/python3.9/site-packages (from optuna) (1.21.1)\n\nRequirement already satisfied: tqdm in /opt/conda/lib/python3.9/site-packages (from optuna) (4.61.2)\n\nRequirement already satisfied: pyparsing!=3.0.5,>=2.0.2 in /opt/conda/lib/python3.9/site-packages (from packaging>=20.0->optuna) (2.4.7)\n\nRequirement already satisfied: greenlet!=0.4.17 in /opt/conda/lib/python3.9/site-packages (from sqlalchemy>=1.1.0->optuna) (1.1.0)\n\nRequirement already satisfied: python-editor>=0.3 in /opt/conda/lib/python3.9/site-packages (from alembic->optuna) (1.0.4)\n\nRequirement already satisfied: Mako in /opt/conda/lib/python3.9/site-packages (from alembic->optuna) (1.1.4)\n\nRequirement already satisfied: python-dateutil in /opt/conda/lib/python3.9/site-packages (from alembic->optuna) (2.8.1)\n\nCollecting pbr!=2.1.0,>=2.0.0\n\n  Downloading pbr-5.9.0-py2.py3-none-any.whl (112 kB)\n\n\u001b[K     |████████████████████████████████| 112 kB 12.1 MB/s eta 0:00:01\n\n\u001b[?25hCollecting cmd2>=1.0.0\n\n  Downloading cmd2-2.4.2-py3-none-any.whl (147 kB)\n\n\u001b[K     |████████████████████████████████| 147 kB 12.1 MB/s eta 0:00:01\n\n\u001b[?25hCollecting stevedore>=2.0.1\n\n  Downloading stevedore-4.0.0-py3-none-any.whl (49 kB)\n\n\u001b[K     |████████████████████████████████| 49 kB 6.6 MB/s  eta 0:00:01\n\n\u001b[?25hCollecting autopage>=0.4.0\n\n  Downloading autopage-0.5.1-py3-none-any.whl (29 kB)\n\nCollecting PrettyTable>=0.7.2\n\n  Downloading prettytable-3.3.0-py3-none-any.whl (26 kB)\n\nRequirement already satisfied: wcwidth>=0.1.7 in /opt/conda/lib/python3.9/site-packages (from cmd2>=1.0.0->cliff->optuna) (0.2.5)\n\nCollecting pyperclip>=1.6\n\n  Downloading pyperclip-1.8.2.tar.gz (20 kB)\n\nRequirement already satisfied: attrs>=16.3.0 in /opt/conda/lib/python3.9/site-packages (from cmd2>=1.0.0->cliff->optuna) (21.2.0)\n\nRequirement already satisfied: MarkupSafe>=0.9.2 in /opt/conda/lib/python3.9/site-packages (from Mako->alembic->optuna) (2.0.1)\n\nRequirement already satisfied: six>=1.5 in /opt/conda/lib/python3.9/site-packages (from python-dateutil->alembic->optuna) (1.16.0)\n\nBuilding wheels for collected packages: pyperclip\n\n  Building wheel for pyperclip (setup.py) ... \u001b[?25ldone\n\n\u001b[?25h  Created wheel for pyperclip: filename=pyperclip-1.8.2-py3-none-any.whl size=11107 sha256=2b614b348e13cd4c4ecb1ed006935c2e70dcb7663f1128b840576d7c15a0fb35\n\n  Stored in directory: /home/jovyan/.cache/pip/wheels/0c/09/9e/49e21a6840ef7955b06d47394afef0058f0378c0914e48b8b8\n\nSuccessfully built pyperclip\n\nInstalling collected packages: pyperclip, pbr, stevedore, PrettyTable, cmd2, autopage, colorlog, cmaes, cliff, optuna\n\nSuccessfully installed PrettyTable-3.3.0 autopage-0.5.1 cliff-3.10.1 cmaes-0.8.2 cmd2-2.4.2 colorlog-6.6.0 optuna-2.10.1 pbr-5.9.0 pyperclip-1.8.2 stevedore-4.0.0\n"
        }
      ]
    },
    {
      "cell_type": "markdown",
      "source": "### Обучающая выборка",
      "metadata": {}
    },
    {
      "cell_type": "code",
      "source": "df_train = pd.read_csv('/datasets/gold_recovery_train_new.csv', index_col=['date'], parse_dates=['date'], dayfirst=True)\n# читаем датасет с обучающей выборкой",
      "metadata": {},
      "execution_count": 2,
      "outputs": []
    },
    {
      "cell_type": "code",
      "source": "df_train.info()\n# смотрим общую информацию о датасете",
      "metadata": {},
      "execution_count": 3,
      "outputs": [
        {
          "name": "stdout",
          "output_type": "stream",
          "text": "<class 'pandas.core.frame.DataFrame'>\n\nDatetimeIndex: 14149 entries, 2016-01-15 00:00:00 to 2018-08-18 10:59:59\n\nData columns (total 86 columns):\n\n #   Column                                              Non-Null Count  Dtype  \n\n---  ------                                              --------------  -----  \n\n 0   final.output.concentrate_ag                         14148 non-null  float64\n\n 1   final.output.concentrate_pb                         14148 non-null  float64\n\n 2   final.output.concentrate_sol                        13938 non-null  float64\n\n 3   final.output.concentrate_au                         14149 non-null  float64\n\n 4   final.output.recovery                               14149 non-null  float64\n\n 5   final.output.tail_ag                                14149 non-null  float64\n\n 6   final.output.tail_pb                                14049 non-null  float64\n\n 7   final.output.tail_sol                               14144 non-null  float64\n\n 8   final.output.tail_au                                14149 non-null  float64\n\n 9   primary_cleaner.input.sulfate                       14129 non-null  float64\n\n 10  primary_cleaner.input.depressant                    14117 non-null  float64\n\n 11  primary_cleaner.input.feed_size                     14149 non-null  float64\n\n 12  primary_cleaner.input.xanthate                      14049 non-null  float64\n\n 13  primary_cleaner.output.concentrate_ag               14149 non-null  float64\n\n 14  primary_cleaner.output.concentrate_pb               14063 non-null  float64\n\n 15  primary_cleaner.output.concentrate_sol              13863 non-null  float64\n\n 16  primary_cleaner.output.concentrate_au               14149 non-null  float64\n\n 17  primary_cleaner.output.tail_ag                      14148 non-null  float64\n\n 18  primary_cleaner.output.tail_pb                      14134 non-null  float64\n\n 19  primary_cleaner.output.tail_sol                     14103 non-null  float64\n\n 20  primary_cleaner.output.tail_au                      14149 non-null  float64\n\n 21  primary_cleaner.state.floatbank8_a_air              14145 non-null  float64\n\n 22  primary_cleaner.state.floatbank8_a_level            14148 non-null  float64\n\n 23  primary_cleaner.state.floatbank8_b_air              14145 non-null  float64\n\n 24  primary_cleaner.state.floatbank8_b_level            14148 non-null  float64\n\n 25  primary_cleaner.state.floatbank8_c_air              14147 non-null  float64\n\n 26  primary_cleaner.state.floatbank8_c_level            14148 non-null  float64\n\n 27  primary_cleaner.state.floatbank8_d_air              14146 non-null  float64\n\n 28  primary_cleaner.state.floatbank8_d_level            14148 non-null  float64\n\n 29  rougher.calculation.sulfate_to_au_concentrate       14148 non-null  float64\n\n 30  rougher.calculation.floatbank10_sulfate_to_au_feed  14148 non-null  float64\n\n 31  rougher.calculation.floatbank11_sulfate_to_au_feed  14148 non-null  float64\n\n 32  rougher.calculation.au_pb_ratio                     14149 non-null  float64\n\n 33  rougher.input.feed_ag                               14149 non-null  float64\n\n 34  rougher.input.feed_pb                               14049 non-null  float64\n\n 35  rougher.input.feed_rate                             14141 non-null  float64\n\n 36  rougher.input.feed_size                             14005 non-null  float64\n\n 37  rougher.input.feed_sol                              14071 non-null  float64\n\n 38  rougher.input.feed_au                               14149 non-null  float64\n\n 39  rougher.input.floatbank10_sulfate                   14120 non-null  float64\n\n 40  rougher.input.floatbank10_xanthate                  14141 non-null  float64\n\n 41  rougher.input.floatbank11_sulfate                   14113 non-null  float64\n\n 42  rougher.input.floatbank11_xanthate                  13721 non-null  float64\n\n 43  rougher.output.concentrate_ag                       14149 non-null  float64\n\n 44  rougher.output.concentrate_pb                       14149 non-null  float64\n\n 45  rougher.output.concentrate_sol                      14127 non-null  float64\n\n 46  rougher.output.concentrate_au                       14149 non-null  float64\n\n 47  rougher.output.recovery                             14149 non-null  float64\n\n 48  rougher.output.tail_ag                              14148 non-null  float64\n\n 49  rougher.output.tail_pb                              14149 non-null  float64\n\n 50  rougher.output.tail_sol                             14149 non-null  float64\n\n 51  rougher.output.tail_au                              14149 non-null  float64\n\n 52  rougher.state.floatbank10_a_air                     14148 non-null  float64\n\n 53  rougher.state.floatbank10_a_level                   14148 non-null  float64\n\n 54  rougher.state.floatbank10_b_air                     14148 non-null  float64\n\n 55  rougher.state.floatbank10_b_level                   14148 non-null  float64\n\n 56  rougher.state.floatbank10_c_air                     14148 non-null  float64\n\n 57  rougher.state.floatbank10_c_level                   14148 non-null  float64\n\n 58  rougher.state.floatbank10_d_air                     14149 non-null  float64\n\n 59  rougher.state.floatbank10_d_level                   14149 non-null  float64\n\n 60  rougher.state.floatbank10_e_air                     13713 non-null  float64\n\n 61  rougher.state.floatbank10_e_level                   14149 non-null  float64\n\n 62  rougher.state.floatbank10_f_air                     14149 non-null  float64\n\n 63  rougher.state.floatbank10_f_level                   14149 non-null  float64\n\n 64  secondary_cleaner.output.tail_ag                    14147 non-null  float64\n\n 65  secondary_cleaner.output.tail_pb                    14139 non-null  float64\n\n 66  secondary_cleaner.output.tail_sol                   12544 non-null  float64\n\n 67  secondary_cleaner.output.tail_au                    14149 non-null  float64\n\n 68  secondary_cleaner.state.floatbank2_a_air            13932 non-null  float64\n\n 69  secondary_cleaner.state.floatbank2_a_level          14148 non-null  float64\n\n 70  secondary_cleaner.state.floatbank2_b_air            14128 non-null  float64\n\n 71  secondary_cleaner.state.floatbank2_b_level          14148 non-null  float64\n\n 72  secondary_cleaner.state.floatbank3_a_air            14145 non-null  float64\n\n 73  secondary_cleaner.state.floatbank3_a_level          14148 non-null  float64\n\n 74  secondary_cleaner.state.floatbank3_b_air            14148 non-null  float64\n\n 75  secondary_cleaner.state.floatbank3_b_level          14148 non-null  float64\n\n 76  secondary_cleaner.state.floatbank4_a_air            14143 non-null  float64\n\n 77  secondary_cleaner.state.floatbank4_a_level          14148 non-null  float64\n\n 78  secondary_cleaner.state.floatbank4_b_air            14148 non-null  float64\n\n 79  secondary_cleaner.state.floatbank4_b_level          14148 non-null  float64\n\n 80  secondary_cleaner.state.floatbank5_a_air            14148 non-null  float64\n\n 81  secondary_cleaner.state.floatbank5_a_level          14148 non-null  float64\n\n 82  secondary_cleaner.state.floatbank5_b_air            14148 non-null  float64\n\n 83  secondary_cleaner.state.floatbank5_b_level          14148 non-null  float64\n\n 84  secondary_cleaner.state.floatbank6_a_air            14147 non-null  float64\n\n 85  secondary_cleaner.state.floatbank6_a_level          14148 non-null  float64\n\ndtypes: float64(86)\n\nmemory usage: 9.4 MB\n"
        }
      ]
    },
    {
      "cell_type": "code",
      "source": "df_train.describe()\n# смотрим информацию о данных датасета",
      "metadata": {},
      "execution_count": 4,
      "outputs": [
        {
          "execution_count": 4,
          "output_type": "execute_result",
          "data": {
            "text/html": [
              "<div>\n",
              "<style scoped>\n",
              "    .dataframe tbody tr th:only-of-type {\n",
              "        vertical-align: middle;\n",
              "    }\n",
              "\n",
              "    .dataframe tbody tr th {\n",
              "        vertical-align: top;\n",
              "    }\n",
              "\n",
              "    .dataframe thead th {\n",
              "        text-align: right;\n",
              "    }\n",
              "</style>\n",
              "<table border=\"1\" class=\"dataframe\">\n",
              "  <thead>\n",
              "    <tr style=\"text-align: right;\">\n",
              "      <th></th>\n",
              "      <th>final.output.concentrate_ag</th>\n",
              "      <th>final.output.concentrate_pb</th>\n",
              "      <th>final.output.concentrate_sol</th>\n",
              "      <th>final.output.concentrate_au</th>\n",
              "      <th>final.output.recovery</th>\n",
              "      <th>final.output.tail_ag</th>\n",
              "      <th>final.output.tail_pb</th>\n",
              "      <th>final.output.tail_sol</th>\n",
              "      <th>final.output.tail_au</th>\n",
              "      <th>primary_cleaner.input.sulfate</th>\n",
              "      <th>...</th>\n",
              "      <th>secondary_cleaner.state.floatbank4_a_air</th>\n",
              "      <th>secondary_cleaner.state.floatbank4_a_level</th>\n",
              "      <th>secondary_cleaner.state.floatbank4_b_air</th>\n",
              "      <th>secondary_cleaner.state.floatbank4_b_level</th>\n",
              "      <th>secondary_cleaner.state.floatbank5_a_air</th>\n",
              "      <th>secondary_cleaner.state.floatbank5_a_level</th>\n",
              "      <th>secondary_cleaner.state.floatbank5_b_air</th>\n",
              "      <th>secondary_cleaner.state.floatbank5_b_level</th>\n",
              "      <th>secondary_cleaner.state.floatbank6_a_air</th>\n",
              "      <th>secondary_cleaner.state.floatbank6_a_level</th>\n",
              "    </tr>\n",
              "  </thead>\n",
              "  <tbody>\n",
              "    <tr>\n",
              "      <th>count</th>\n",
              "      <td>14148.000000</td>\n",
              "      <td>14148.000000</td>\n",
              "      <td>13938.000000</td>\n",
              "      <td>14149.000000</td>\n",
              "      <td>14149.000000</td>\n",
              "      <td>14149.000000</td>\n",
              "      <td>14049.000000</td>\n",
              "      <td>14144.000000</td>\n",
              "      <td>14149.000000</td>\n",
              "      <td>14129.000000</td>\n",
              "      <td>...</td>\n",
              "      <td>14143.000000</td>\n",
              "      <td>14148.000000</td>\n",
              "      <td>14148.000000</td>\n",
              "      <td>14148.000000</td>\n",
              "      <td>14148.000000</td>\n",
              "      <td>14148.000000</td>\n",
              "      <td>14148.000000</td>\n",
              "      <td>14148.000000</td>\n",
              "      <td>14147.000000</td>\n",
              "      <td>14148.000000</td>\n",
              "    </tr>\n",
              "    <tr>\n",
              "      <th>mean</th>\n",
              "      <td>5.142034</td>\n",
              "      <td>10.132960</td>\n",
              "      <td>9.202849</td>\n",
              "      <td>44.003792</td>\n",
              "      <td>66.518832</td>\n",
              "      <td>9.607035</td>\n",
              "      <td>2.597298</td>\n",
              "      <td>10.512122</td>\n",
              "      <td>2.918421</td>\n",
              "      <td>133.320659</td>\n",
              "      <td>...</td>\n",
              "      <td>19.985454</td>\n",
              "      <td>-478.696836</td>\n",
              "      <td>15.487065</td>\n",
              "      <td>-460.229416</td>\n",
              "      <td>16.775136</td>\n",
              "      <td>-483.956022</td>\n",
              "      <td>13.064590</td>\n",
              "      <td>-483.966564</td>\n",
              "      <td>19.577539</td>\n",
              "      <td>-506.798480</td>\n",
              "    </tr>\n",
              "    <tr>\n",
              "      <th>std</th>\n",
              "      <td>1.369586</td>\n",
              "      <td>1.654930</td>\n",
              "      <td>2.790516</td>\n",
              "      <td>4.905261</td>\n",
              "      <td>10.295402</td>\n",
              "      <td>2.319069</td>\n",
              "      <td>0.971843</td>\n",
              "      <td>3.003617</td>\n",
              "      <td>0.903712</td>\n",
              "      <td>39.431659</td>\n",
              "      <td>...</td>\n",
              "      <td>5.657723</td>\n",
              "      <td>50.736021</td>\n",
              "      <td>5.255655</td>\n",
              "      <td>58.843586</td>\n",
              "      <td>5.831906</td>\n",
              "      <td>37.892788</td>\n",
              "      <td>5.765617</td>\n",
              "      <td>39.207913</td>\n",
              "      <td>5.764417</td>\n",
              "      <td>37.079249</td>\n",
              "    </tr>\n",
              "    <tr>\n",
              "      <th>min</th>\n",
              "      <td>0.000000</td>\n",
              "      <td>0.000000</td>\n",
              "      <td>0.000000</td>\n",
              "      <td>0.000000</td>\n",
              "      <td>0.000000</td>\n",
              "      <td>0.000000</td>\n",
              "      <td>0.000000</td>\n",
              "      <td>0.000000</td>\n",
              "      <td>0.000000</td>\n",
              "      <td>0.003112</td>\n",
              "      <td>...</td>\n",
              "      <td>0.000000</td>\n",
              "      <td>-799.709069</td>\n",
              "      <td>0.000000</td>\n",
              "      <td>-799.889113</td>\n",
              "      <td>-0.372054</td>\n",
              "      <td>-797.142475</td>\n",
              "      <td>0.646208</td>\n",
              "      <td>-800.006180</td>\n",
              "      <td>0.195324</td>\n",
              "      <td>-809.398668</td>\n",
              "    </tr>\n",
              "    <tr>\n",
              "      <th>25%</th>\n",
              "      <td>4.211620</td>\n",
              "      <td>9.297355</td>\n",
              "      <td>7.484645</td>\n",
              "      <td>43.276111</td>\n",
              "      <td>62.545817</td>\n",
              "      <td>7.997429</td>\n",
              "      <td>1.905973</td>\n",
              "      <td>8.811324</td>\n",
              "      <td>2.368607</td>\n",
              "      <td>107.006651</td>\n",
              "      <td>...</td>\n",
              "      <td>14.990775</td>\n",
              "      <td>-500.628656</td>\n",
              "      <td>11.894558</td>\n",
              "      <td>-500.149000</td>\n",
              "      <td>11.083980</td>\n",
              "      <td>-500.363177</td>\n",
              "      <td>8.994405</td>\n",
              "      <td>-500.105994</td>\n",
              "      <td>14.989304</td>\n",
              "      <td>-500.745104</td>\n",
              "    </tr>\n",
              "    <tr>\n",
              "      <th>50%</th>\n",
              "      <td>4.994652</td>\n",
              "      <td>10.297144</td>\n",
              "      <td>8.845462</td>\n",
              "      <td>44.872436</td>\n",
              "      <td>67.432775</td>\n",
              "      <td>9.480270</td>\n",
              "      <td>2.592022</td>\n",
              "      <td>10.514621</td>\n",
              "      <td>2.851025</td>\n",
              "      <td>133.018328</td>\n",
              "      <td>...</td>\n",
              "      <td>20.001789</td>\n",
              "      <td>-499.681450</td>\n",
              "      <td>14.975536</td>\n",
              "      <td>-499.388738</td>\n",
              "      <td>17.932223</td>\n",
              "      <td>-499.702452</td>\n",
              "      <td>11.997547</td>\n",
              "      <td>-499.914556</td>\n",
              "      <td>19.984175</td>\n",
              "      <td>-500.061431</td>\n",
              "    </tr>\n",
              "    <tr>\n",
              "      <th>75%</th>\n",
              "      <td>5.859540</td>\n",
              "      <td>11.170603</td>\n",
              "      <td>10.487508</td>\n",
              "      <td>46.166425</td>\n",
              "      <td>72.346428</td>\n",
              "      <td>11.003707</td>\n",
              "      <td>3.241723</td>\n",
              "      <td>11.933009</td>\n",
              "      <td>3.434764</td>\n",
              "      <td>159.825396</td>\n",
              "      <td>...</td>\n",
              "      <td>24.990826</td>\n",
              "      <td>-477.472413</td>\n",
              "      <td>20.059375</td>\n",
              "      <td>-400.039008</td>\n",
              "      <td>21.346550</td>\n",
              "      <td>-487.712108</td>\n",
              "      <td>17.982903</td>\n",
              "      <td>-453.186936</td>\n",
              "      <td>24.991623</td>\n",
              "      <td>-499.536466</td>\n",
              "    </tr>\n",
              "    <tr>\n",
              "      <th>max</th>\n",
              "      <td>16.001945</td>\n",
              "      <td>17.031899</td>\n",
              "      <td>18.124851</td>\n",
              "      <td>52.756638</td>\n",
              "      <td>100.000000</td>\n",
              "      <td>19.552149</td>\n",
              "      <td>5.639565</td>\n",
              "      <td>22.317730</td>\n",
              "      <td>8.197408</td>\n",
              "      <td>250.127834</td>\n",
              "      <td>...</td>\n",
              "      <td>30.115735</td>\n",
              "      <td>-245.239184</td>\n",
              "      <td>24.007913</td>\n",
              "      <td>-145.071088</td>\n",
              "      <td>43.709931</td>\n",
              "      <td>-275.073125</td>\n",
              "      <td>27.926001</td>\n",
              "      <td>-157.396071</td>\n",
              "      <td>32.188906</td>\n",
              "      <td>-104.427459</td>\n",
              "    </tr>\n",
              "  </tbody>\n",
              "</table>\n",
              "<p>8 rows × 86 columns</p>\n",
              "</div>"
            ],
            "text/plain": [
              "       final.output.concentrate_ag  final.output.concentrate_pb  \\\n",
              "count                 14148.000000                 14148.000000   \n",
              "mean                      5.142034                    10.132960   \n",
              "std                       1.369586                     1.654930   \n",
              "min                       0.000000                     0.000000   \n",
              "25%                       4.211620                     9.297355   \n",
              "50%                       4.994652                    10.297144   \n",
              "75%                       5.859540                    11.170603   \n",
              "max                      16.001945                    17.031899   \n",
              "\n",
              "       final.output.concentrate_sol  final.output.concentrate_au  \\\n",
              "count                  13938.000000                 14149.000000   \n",
              "mean                       9.202849                    44.003792   \n",
              "std                        2.790516                     4.905261   \n",
              "min                        0.000000                     0.000000   \n",
              "25%                        7.484645                    43.276111   \n",
              "50%                        8.845462                    44.872436   \n",
              "75%                       10.487508                    46.166425   \n",
              "max                       18.124851                    52.756638   \n",
              "\n",
              "       final.output.recovery  final.output.tail_ag  final.output.tail_pb  \\\n",
              "count           14149.000000          14149.000000          14049.000000   \n",
              "mean               66.518832              9.607035              2.597298   \n",
              "std                10.295402              2.319069              0.971843   \n",
              "min                 0.000000              0.000000              0.000000   \n",
              "25%                62.545817              7.997429              1.905973   \n",
              "50%                67.432775              9.480270              2.592022   \n",
              "75%                72.346428             11.003707              3.241723   \n",
              "max               100.000000             19.552149              5.639565   \n",
              "\n",
              "       final.output.tail_sol  final.output.tail_au  \\\n",
              "count           14144.000000          14149.000000   \n",
              "mean               10.512122              2.918421   \n",
              "std                 3.003617              0.903712   \n",
              "min                 0.000000              0.000000   \n",
              "25%                 8.811324              2.368607   \n",
              "50%                10.514621              2.851025   \n",
              "75%                11.933009              3.434764   \n",
              "max                22.317730              8.197408   \n",
              "\n",
              "       primary_cleaner.input.sulfate  ...  \\\n",
              "count                   14129.000000  ...   \n",
              "mean                      133.320659  ...   \n",
              "std                        39.431659  ...   \n",
              "min                         0.003112  ...   \n",
              "25%                       107.006651  ...   \n",
              "50%                       133.018328  ...   \n",
              "75%                       159.825396  ...   \n",
              "max                       250.127834  ...   \n",
              "\n",
              "       secondary_cleaner.state.floatbank4_a_air  \\\n",
              "count                              14143.000000   \n",
              "mean                                  19.985454   \n",
              "std                                    5.657723   \n",
              "min                                    0.000000   \n",
              "25%                                   14.990775   \n",
              "50%                                   20.001789   \n",
              "75%                                   24.990826   \n",
              "max                                   30.115735   \n",
              "\n",
              "       secondary_cleaner.state.floatbank4_a_level  \\\n",
              "count                                14148.000000   \n",
              "mean                                  -478.696836   \n",
              "std                                     50.736021   \n",
              "min                                   -799.709069   \n",
              "25%                                   -500.628656   \n",
              "50%                                   -499.681450   \n",
              "75%                                   -477.472413   \n",
              "max                                   -245.239184   \n",
              "\n",
              "       secondary_cleaner.state.floatbank4_b_air  \\\n",
              "count                              14148.000000   \n",
              "mean                                  15.487065   \n",
              "std                                    5.255655   \n",
              "min                                    0.000000   \n",
              "25%                                   11.894558   \n",
              "50%                                   14.975536   \n",
              "75%                                   20.059375   \n",
              "max                                   24.007913   \n",
              "\n",
              "       secondary_cleaner.state.floatbank4_b_level  \\\n",
              "count                                14148.000000   \n",
              "mean                                  -460.229416   \n",
              "std                                     58.843586   \n",
              "min                                   -799.889113   \n",
              "25%                                   -500.149000   \n",
              "50%                                   -499.388738   \n",
              "75%                                   -400.039008   \n",
              "max                                   -145.071088   \n",
              "\n",
              "       secondary_cleaner.state.floatbank5_a_air  \\\n",
              "count                              14148.000000   \n",
              "mean                                  16.775136   \n",
              "std                                    5.831906   \n",
              "min                                   -0.372054   \n",
              "25%                                   11.083980   \n",
              "50%                                   17.932223   \n",
              "75%                                   21.346550   \n",
              "max                                   43.709931   \n",
              "\n",
              "       secondary_cleaner.state.floatbank5_a_level  \\\n",
              "count                                14148.000000   \n",
              "mean                                  -483.956022   \n",
              "std                                     37.892788   \n",
              "min                                   -797.142475   \n",
              "25%                                   -500.363177   \n",
              "50%                                   -499.702452   \n",
              "75%                                   -487.712108   \n",
              "max                                   -275.073125   \n",
              "\n",
              "       secondary_cleaner.state.floatbank5_b_air  \\\n",
              "count                              14148.000000   \n",
              "mean                                  13.064590   \n",
              "std                                    5.765617   \n",
              "min                                    0.646208   \n",
              "25%                                    8.994405   \n",
              "50%                                   11.997547   \n",
              "75%                                   17.982903   \n",
              "max                                   27.926001   \n",
              "\n",
              "       secondary_cleaner.state.floatbank5_b_level  \\\n",
              "count                                14148.000000   \n",
              "mean                                  -483.966564   \n",
              "std                                     39.207913   \n",
              "min                                   -800.006180   \n",
              "25%                                   -500.105994   \n",
              "50%                                   -499.914556   \n",
              "75%                                   -453.186936   \n",
              "max                                   -157.396071   \n",
              "\n",
              "       secondary_cleaner.state.floatbank6_a_air  \\\n",
              "count                              14147.000000   \n",
              "mean                                  19.577539   \n",
              "std                                    5.764417   \n",
              "min                                    0.195324   \n",
              "25%                                   14.989304   \n",
              "50%                                   19.984175   \n",
              "75%                                   24.991623   \n",
              "max                                   32.188906   \n",
              "\n",
              "       secondary_cleaner.state.floatbank6_a_level  \n",
              "count                                14148.000000  \n",
              "mean                                  -506.798480  \n",
              "std                                     37.079249  \n",
              "min                                   -809.398668  \n",
              "25%                                   -500.745104  \n",
              "50%                                   -500.061431  \n",
              "75%                                   -499.536466  \n",
              "max                                   -104.427459  \n",
              "\n",
              "[8 rows x 86 columns]"
            ]
          },
          "metadata": {}
        }
      ]
    },
    {
      "cell_type": "code",
      "source": "df_train.head()\n# выводим первые пять строк датасета для ознакомления",
      "metadata": {},
      "execution_count": 5,
      "outputs": [
        {
          "execution_count": 5,
          "output_type": "execute_result",
          "data": {
            "text/html": [
              "<div>\n",
              "<style scoped>\n",
              "    .dataframe tbody tr th:only-of-type {\n",
              "        vertical-align: middle;\n",
              "    }\n",
              "\n",
              "    .dataframe tbody tr th {\n",
              "        vertical-align: top;\n",
              "    }\n",
              "\n",
              "    .dataframe thead th {\n",
              "        text-align: right;\n",
              "    }\n",
              "</style>\n",
              "<table border=\"1\" class=\"dataframe\">\n",
              "  <thead>\n",
              "    <tr style=\"text-align: right;\">\n",
              "      <th></th>\n",
              "      <th>final.output.concentrate_ag</th>\n",
              "      <th>final.output.concentrate_pb</th>\n",
              "      <th>final.output.concentrate_sol</th>\n",
              "      <th>final.output.concentrate_au</th>\n",
              "      <th>final.output.recovery</th>\n",
              "      <th>final.output.tail_ag</th>\n",
              "      <th>final.output.tail_pb</th>\n",
              "      <th>final.output.tail_sol</th>\n",
              "      <th>final.output.tail_au</th>\n",
              "      <th>primary_cleaner.input.sulfate</th>\n",
              "      <th>...</th>\n",
              "      <th>secondary_cleaner.state.floatbank4_a_air</th>\n",
              "      <th>secondary_cleaner.state.floatbank4_a_level</th>\n",
              "      <th>secondary_cleaner.state.floatbank4_b_air</th>\n",
              "      <th>secondary_cleaner.state.floatbank4_b_level</th>\n",
              "      <th>secondary_cleaner.state.floatbank5_a_air</th>\n",
              "      <th>secondary_cleaner.state.floatbank5_a_level</th>\n",
              "      <th>secondary_cleaner.state.floatbank5_b_air</th>\n",
              "      <th>secondary_cleaner.state.floatbank5_b_level</th>\n",
              "      <th>secondary_cleaner.state.floatbank6_a_air</th>\n",
              "      <th>secondary_cleaner.state.floatbank6_a_level</th>\n",
              "    </tr>\n",
              "    <tr>\n",
              "      <th>date</th>\n",
              "      <th></th>\n",
              "      <th></th>\n",
              "      <th></th>\n",
              "      <th></th>\n",
              "      <th></th>\n",
              "      <th></th>\n",
              "      <th></th>\n",
              "      <th></th>\n",
              "      <th></th>\n",
              "      <th></th>\n",
              "      <th></th>\n",
              "      <th></th>\n",
              "      <th></th>\n",
              "      <th></th>\n",
              "      <th></th>\n",
              "      <th></th>\n",
              "      <th></th>\n",
              "      <th></th>\n",
              "      <th></th>\n",
              "      <th></th>\n",
              "      <th></th>\n",
              "    </tr>\n",
              "  </thead>\n",
              "  <tbody>\n",
              "    <tr>\n",
              "      <th>2016-01-15 00:00:00</th>\n",
              "      <td>6.055403</td>\n",
              "      <td>9.889648</td>\n",
              "      <td>5.507324</td>\n",
              "      <td>42.192020</td>\n",
              "      <td>70.541216</td>\n",
              "      <td>10.411962</td>\n",
              "      <td>0.895447</td>\n",
              "      <td>16.904297</td>\n",
              "      <td>2.143149</td>\n",
              "      <td>127.092003</td>\n",
              "      <td>...</td>\n",
              "      <td>14.016835</td>\n",
              "      <td>-502.488007</td>\n",
              "      <td>12.099931</td>\n",
              "      <td>-504.715942</td>\n",
              "      <td>9.925633</td>\n",
              "      <td>-498.310211</td>\n",
              "      <td>8.079666</td>\n",
              "      <td>-500.470978</td>\n",
              "      <td>14.151341</td>\n",
              "      <td>-605.841980</td>\n",
              "    </tr>\n",
              "    <tr>\n",
              "      <th>2016-01-15 01:00:00</th>\n",
              "      <td>6.029369</td>\n",
              "      <td>9.968944</td>\n",
              "      <td>5.257781</td>\n",
              "      <td>42.701629</td>\n",
              "      <td>69.266198</td>\n",
              "      <td>10.462676</td>\n",
              "      <td>0.927452</td>\n",
              "      <td>16.634514</td>\n",
              "      <td>2.224930</td>\n",
              "      <td>125.629232</td>\n",
              "      <td>...</td>\n",
              "      <td>13.992281</td>\n",
              "      <td>-505.503262</td>\n",
              "      <td>11.950531</td>\n",
              "      <td>-501.331529</td>\n",
              "      <td>10.039245</td>\n",
              "      <td>-500.169983</td>\n",
              "      <td>7.984757</td>\n",
              "      <td>-500.582168</td>\n",
              "      <td>13.998353</td>\n",
              "      <td>-599.787184</td>\n",
              "    </tr>\n",
              "    <tr>\n",
              "      <th>2016-01-15 02:00:00</th>\n",
              "      <td>6.055926</td>\n",
              "      <td>10.213995</td>\n",
              "      <td>5.383759</td>\n",
              "      <td>42.657501</td>\n",
              "      <td>68.116445</td>\n",
              "      <td>10.507046</td>\n",
              "      <td>0.953716</td>\n",
              "      <td>16.208849</td>\n",
              "      <td>2.257889</td>\n",
              "      <td>123.819808</td>\n",
              "      <td>...</td>\n",
              "      <td>14.015015</td>\n",
              "      <td>-502.520901</td>\n",
              "      <td>11.912783</td>\n",
              "      <td>-501.133383</td>\n",
              "      <td>10.070913</td>\n",
              "      <td>-500.129135</td>\n",
              "      <td>8.013877</td>\n",
              "      <td>-500.517572</td>\n",
              "      <td>14.028663</td>\n",
              "      <td>-601.427363</td>\n",
              "    </tr>\n",
              "    <tr>\n",
              "      <th>2016-01-15 03:00:00</th>\n",
              "      <td>6.047977</td>\n",
              "      <td>9.977019</td>\n",
              "      <td>4.858634</td>\n",
              "      <td>42.689819</td>\n",
              "      <td>68.347543</td>\n",
              "      <td>10.422762</td>\n",
              "      <td>0.883763</td>\n",
              "      <td>16.532835</td>\n",
              "      <td>2.146849</td>\n",
              "      <td>122.270188</td>\n",
              "      <td>...</td>\n",
              "      <td>14.036510</td>\n",
              "      <td>-500.857308</td>\n",
              "      <td>11.999550</td>\n",
              "      <td>-501.193686</td>\n",
              "      <td>9.970366</td>\n",
              "      <td>-499.201640</td>\n",
              "      <td>7.977324</td>\n",
              "      <td>-500.255908</td>\n",
              "      <td>14.005551</td>\n",
              "      <td>-599.996129</td>\n",
              "    </tr>\n",
              "    <tr>\n",
              "      <th>2016-01-15 04:00:00</th>\n",
              "      <td>6.148599</td>\n",
              "      <td>10.142511</td>\n",
              "      <td>4.939416</td>\n",
              "      <td>42.774141</td>\n",
              "      <td>66.927016</td>\n",
              "      <td>10.360302</td>\n",
              "      <td>0.792826</td>\n",
              "      <td>16.525686</td>\n",
              "      <td>2.055292</td>\n",
              "      <td>117.988169</td>\n",
              "      <td>...</td>\n",
              "      <td>14.027298</td>\n",
              "      <td>-499.838632</td>\n",
              "      <td>11.953070</td>\n",
              "      <td>-501.053894</td>\n",
              "      <td>9.925709</td>\n",
              "      <td>-501.686727</td>\n",
              "      <td>7.894242</td>\n",
              "      <td>-500.356035</td>\n",
              "      <td>13.996647</td>\n",
              "      <td>-601.496691</td>\n",
              "    </tr>\n",
              "  </tbody>\n",
              "</table>\n",
              "<p>5 rows × 86 columns</p>\n",
              "</div>"
            ],
            "text/plain": [
              "                     final.output.concentrate_ag  final.output.concentrate_pb  \\\n",
              "date                                                                            \n",
              "2016-01-15 00:00:00                     6.055403                     9.889648   \n",
              "2016-01-15 01:00:00                     6.029369                     9.968944   \n",
              "2016-01-15 02:00:00                     6.055926                    10.213995   \n",
              "2016-01-15 03:00:00                     6.047977                     9.977019   \n",
              "2016-01-15 04:00:00                     6.148599                    10.142511   \n",
              "\n",
              "                     final.output.concentrate_sol  \\\n",
              "date                                                \n",
              "2016-01-15 00:00:00                      5.507324   \n",
              "2016-01-15 01:00:00                      5.257781   \n",
              "2016-01-15 02:00:00                      5.383759   \n",
              "2016-01-15 03:00:00                      4.858634   \n",
              "2016-01-15 04:00:00                      4.939416   \n",
              "\n",
              "                     final.output.concentrate_au  final.output.recovery  \\\n",
              "date                                                                      \n",
              "2016-01-15 00:00:00                    42.192020              70.541216   \n",
              "2016-01-15 01:00:00                    42.701629              69.266198   \n",
              "2016-01-15 02:00:00                    42.657501              68.116445   \n",
              "2016-01-15 03:00:00                    42.689819              68.347543   \n",
              "2016-01-15 04:00:00                    42.774141              66.927016   \n",
              "\n",
              "                     final.output.tail_ag  final.output.tail_pb  \\\n",
              "date                                                              \n",
              "2016-01-15 00:00:00             10.411962              0.895447   \n",
              "2016-01-15 01:00:00             10.462676              0.927452   \n",
              "2016-01-15 02:00:00             10.507046              0.953716   \n",
              "2016-01-15 03:00:00             10.422762              0.883763   \n",
              "2016-01-15 04:00:00             10.360302              0.792826   \n",
              "\n",
              "                     final.output.tail_sol  final.output.tail_au  \\\n",
              "date                                                               \n",
              "2016-01-15 00:00:00              16.904297              2.143149   \n",
              "2016-01-15 01:00:00              16.634514              2.224930   \n",
              "2016-01-15 02:00:00              16.208849              2.257889   \n",
              "2016-01-15 03:00:00              16.532835              2.146849   \n",
              "2016-01-15 04:00:00              16.525686              2.055292   \n",
              "\n",
              "                     primary_cleaner.input.sulfate  ...  \\\n",
              "date                                                ...   \n",
              "2016-01-15 00:00:00                     127.092003  ...   \n",
              "2016-01-15 01:00:00                     125.629232  ...   \n",
              "2016-01-15 02:00:00                     123.819808  ...   \n",
              "2016-01-15 03:00:00                     122.270188  ...   \n",
              "2016-01-15 04:00:00                     117.988169  ...   \n",
              "\n",
              "                     secondary_cleaner.state.floatbank4_a_air  \\\n",
              "date                                                            \n",
              "2016-01-15 00:00:00                                 14.016835   \n",
              "2016-01-15 01:00:00                                 13.992281   \n",
              "2016-01-15 02:00:00                                 14.015015   \n",
              "2016-01-15 03:00:00                                 14.036510   \n",
              "2016-01-15 04:00:00                                 14.027298   \n",
              "\n",
              "                     secondary_cleaner.state.floatbank4_a_level  \\\n",
              "date                                                              \n",
              "2016-01-15 00:00:00                                 -502.488007   \n",
              "2016-01-15 01:00:00                                 -505.503262   \n",
              "2016-01-15 02:00:00                                 -502.520901   \n",
              "2016-01-15 03:00:00                                 -500.857308   \n",
              "2016-01-15 04:00:00                                 -499.838632   \n",
              "\n",
              "                     secondary_cleaner.state.floatbank4_b_air  \\\n",
              "date                                                            \n",
              "2016-01-15 00:00:00                                 12.099931   \n",
              "2016-01-15 01:00:00                                 11.950531   \n",
              "2016-01-15 02:00:00                                 11.912783   \n",
              "2016-01-15 03:00:00                                 11.999550   \n",
              "2016-01-15 04:00:00                                 11.953070   \n",
              "\n",
              "                     secondary_cleaner.state.floatbank4_b_level  \\\n",
              "date                                                              \n",
              "2016-01-15 00:00:00                                 -504.715942   \n",
              "2016-01-15 01:00:00                                 -501.331529   \n",
              "2016-01-15 02:00:00                                 -501.133383   \n",
              "2016-01-15 03:00:00                                 -501.193686   \n",
              "2016-01-15 04:00:00                                 -501.053894   \n",
              "\n",
              "                     secondary_cleaner.state.floatbank5_a_air  \\\n",
              "date                                                            \n",
              "2016-01-15 00:00:00                                  9.925633   \n",
              "2016-01-15 01:00:00                                 10.039245   \n",
              "2016-01-15 02:00:00                                 10.070913   \n",
              "2016-01-15 03:00:00                                  9.970366   \n",
              "2016-01-15 04:00:00                                  9.925709   \n",
              "\n",
              "                     secondary_cleaner.state.floatbank5_a_level  \\\n",
              "date                                                              \n",
              "2016-01-15 00:00:00                                 -498.310211   \n",
              "2016-01-15 01:00:00                                 -500.169983   \n",
              "2016-01-15 02:00:00                                 -500.129135   \n",
              "2016-01-15 03:00:00                                 -499.201640   \n",
              "2016-01-15 04:00:00                                 -501.686727   \n",
              "\n",
              "                     secondary_cleaner.state.floatbank5_b_air  \\\n",
              "date                                                            \n",
              "2016-01-15 00:00:00                                  8.079666   \n",
              "2016-01-15 01:00:00                                  7.984757   \n",
              "2016-01-15 02:00:00                                  8.013877   \n",
              "2016-01-15 03:00:00                                  7.977324   \n",
              "2016-01-15 04:00:00                                  7.894242   \n",
              "\n",
              "                     secondary_cleaner.state.floatbank5_b_level  \\\n",
              "date                                                              \n",
              "2016-01-15 00:00:00                                 -500.470978   \n",
              "2016-01-15 01:00:00                                 -500.582168   \n",
              "2016-01-15 02:00:00                                 -500.517572   \n",
              "2016-01-15 03:00:00                                 -500.255908   \n",
              "2016-01-15 04:00:00                                 -500.356035   \n",
              "\n",
              "                     secondary_cleaner.state.floatbank6_a_air  \\\n",
              "date                                                            \n",
              "2016-01-15 00:00:00                                 14.151341   \n",
              "2016-01-15 01:00:00                                 13.998353   \n",
              "2016-01-15 02:00:00                                 14.028663   \n",
              "2016-01-15 03:00:00                                 14.005551   \n",
              "2016-01-15 04:00:00                                 13.996647   \n",
              "\n",
              "                     secondary_cleaner.state.floatbank6_a_level  \n",
              "date                                                             \n",
              "2016-01-15 00:00:00                                 -605.841980  \n",
              "2016-01-15 01:00:00                                 -599.787184  \n",
              "2016-01-15 02:00:00                                 -601.427363  \n",
              "2016-01-15 03:00:00                                 -599.996129  \n",
              "2016-01-15 04:00:00                                 -601.496691  \n",
              "\n",
              "[5 rows x 86 columns]"
            ]
          },
          "metadata": {}
        }
      ]
    },
    {
      "cell_type": "code",
      "source": "df_train.isna().sum().sort_values(ascending=False).head(30)\n# смотрим на количество пропущенных значений",
      "metadata": {},
      "execution_count": 6,
      "outputs": [
        {
          "execution_count": 6,
          "output_type": "execute_result",
          "data": {
            "text/plain": [
              "secondary_cleaner.output.tail_sol           1605\n",
              "rougher.state.floatbank10_e_air              436\n",
              "rougher.input.floatbank11_xanthate           428\n",
              "primary_cleaner.output.concentrate_sol       286\n",
              "secondary_cleaner.state.floatbank2_a_air     217\n",
              "final.output.concentrate_sol                 211\n",
              "rougher.input.feed_size                      144\n",
              "rougher.input.feed_pb                        100\n",
              "final.output.tail_pb                         100\n",
              "primary_cleaner.input.xanthate               100\n",
              "primary_cleaner.output.concentrate_pb         86\n",
              "rougher.input.feed_sol                        78\n",
              "primary_cleaner.output.tail_sol               46\n",
              "rougher.input.floatbank11_sulfate             36\n",
              "primary_cleaner.input.depressant              32\n",
              "rougher.input.floatbank10_sulfate             29\n",
              "rougher.output.concentrate_sol                22\n",
              "secondary_cleaner.state.floatbank2_b_air      21\n",
              "primary_cleaner.input.sulfate                 20\n",
              "primary_cleaner.output.tail_pb                15\n",
              "secondary_cleaner.output.tail_pb              10\n",
              "rougher.input.floatbank10_xanthate             8\n",
              "rougher.input.feed_rate                        8\n",
              "secondary_cleaner.state.floatbank4_a_air       6\n",
              "final.output.tail_sol                          5\n",
              "primary_cleaner.state.floatbank8_b_air         4\n",
              "primary_cleaner.state.floatbank8_a_air         4\n",
              "secondary_cleaner.state.floatbank3_a_air       4\n",
              "primary_cleaner.state.floatbank8_d_air         3\n",
              "secondary_cleaner.output.tail_ag               2\n",
              "dtype: int64"
            ]
          },
          "metadata": {}
        }
      ]
    },
    {
      "cell_type": "markdown",
      "source": "Примечание.\n\nВ датасете много пропущенных значений, вплоть до 10% в одном из столбцов. Некоторые из стобцов нам в дальнейшем, возможно, не понадобятся, но пока неясно какие. Удаление такого количества данных может негативно сказаться на обучении моделей. Поэтому принято решение заменить их на среднее значения.",
      "metadata": {}
    },
    {
      "cell_type": "code",
      "source": "df_train = df_train.interpolate()",
      "metadata": {},
      "execution_count": 7,
      "outputs": []
    },
    {
      "cell_type": "code",
      "source": "df_train.isna().sum()\n# ещё раз смотрим на количетсво пропусков",
      "metadata": {},
      "execution_count": 8,
      "outputs": [
        {
          "execution_count": 8,
          "output_type": "execute_result",
          "data": {
            "text/plain": [
              "final.output.concentrate_ag                   0\n",
              "final.output.concentrate_pb                   0\n",
              "final.output.concentrate_sol                  0\n",
              "final.output.concentrate_au                   0\n",
              "final.output.recovery                         0\n",
              "                                             ..\n",
              "secondary_cleaner.state.floatbank5_a_level    0\n",
              "secondary_cleaner.state.floatbank5_b_air      0\n",
              "secondary_cleaner.state.floatbank5_b_level    0\n",
              "secondary_cleaner.state.floatbank6_a_air      0\n",
              "secondary_cleaner.state.floatbank6_a_level    0\n",
              "Length: 86, dtype: int64"
            ]
          },
          "metadata": {}
        }
      ]
    },
    {
      "cell_type": "code",
      "source": "df_train.duplicated().sum()\n# смотрим наличие дубликатов",
      "metadata": {},
      "execution_count": 9,
      "outputs": [
        {
          "execution_count": 9,
          "output_type": "execute_result",
          "data": {
            "text/plain": [
              "0"
            ]
          },
          "metadata": {}
        }
      ]
    },
    {
      "cell_type": "markdown",
      "source": "Вывод.\n\nОбучающая выборка открыта, изучена и подготовлена для дальнейшей работы.",
      "metadata": {}
    },
    {
      "cell_type": "markdown",
      "source": "### Тестовая выборка",
      "metadata": {}
    },
    {
      "cell_type": "code",
      "source": "df_test = pd.read_csv('/datasets/gold_recovery_test_new.csv', index_col=['date'], parse_dates=['date'], dayfirst=True)\n# читаем датасет с тестовой выборкой",
      "metadata": {},
      "execution_count": 10,
      "outputs": []
    },
    {
      "cell_type": "code",
      "source": "df_test.info()\n# смотрим общую информацию о датасете",
      "metadata": {},
      "execution_count": 11,
      "outputs": [
        {
          "name": "stdout",
          "output_type": "stream",
          "text": "<class 'pandas.core.frame.DataFrame'>\n\nDatetimeIndex: 5290 entries, 2016-09-01 00:59:59 to 2017-12-31 23:59:59\n\nData columns (total 52 columns):\n\n #   Column                                      Non-Null Count  Dtype  \n\n---  ------                                      --------------  -----  \n\n 0   primary_cleaner.input.sulfate               5286 non-null   float64\n\n 1   primary_cleaner.input.depressant            5285 non-null   float64\n\n 2   primary_cleaner.input.feed_size             5290 non-null   float64\n\n 3   primary_cleaner.input.xanthate              5286 non-null   float64\n\n 4   primary_cleaner.state.floatbank8_a_air      5290 non-null   float64\n\n 5   primary_cleaner.state.floatbank8_a_level    5290 non-null   float64\n\n 6   primary_cleaner.state.floatbank8_b_air      5290 non-null   float64\n\n 7   primary_cleaner.state.floatbank8_b_level    5290 non-null   float64\n\n 8   primary_cleaner.state.floatbank8_c_air      5290 non-null   float64\n\n 9   primary_cleaner.state.floatbank8_c_level    5290 non-null   float64\n\n 10  primary_cleaner.state.floatbank8_d_air      5290 non-null   float64\n\n 11  primary_cleaner.state.floatbank8_d_level    5290 non-null   float64\n\n 12  rougher.input.feed_ag                       5290 non-null   float64\n\n 13  rougher.input.feed_pb                       5290 non-null   float64\n\n 14  rougher.input.feed_rate                     5287 non-null   float64\n\n 15  rougher.input.feed_size                     5289 non-null   float64\n\n 16  rougher.input.feed_sol                      5269 non-null   float64\n\n 17  rougher.input.feed_au                       5290 non-null   float64\n\n 18  rougher.input.floatbank10_sulfate           5285 non-null   float64\n\n 19  rougher.input.floatbank10_xanthate          5290 non-null   float64\n\n 20  rougher.input.floatbank11_sulfate           5282 non-null   float64\n\n 21  rougher.input.floatbank11_xanthate          5265 non-null   float64\n\n 22  rougher.state.floatbank10_a_air             5290 non-null   float64\n\n 23  rougher.state.floatbank10_a_level           5290 non-null   float64\n\n 24  rougher.state.floatbank10_b_air             5290 non-null   float64\n\n 25  rougher.state.floatbank10_b_level           5290 non-null   float64\n\n 26  rougher.state.floatbank10_c_air             5290 non-null   float64\n\n 27  rougher.state.floatbank10_c_level           5290 non-null   float64\n\n 28  rougher.state.floatbank10_d_air             5290 non-null   float64\n\n 29  rougher.state.floatbank10_d_level           5290 non-null   float64\n\n 30  rougher.state.floatbank10_e_air             5290 non-null   float64\n\n 31  rougher.state.floatbank10_e_level           5290 non-null   float64\n\n 32  rougher.state.floatbank10_f_air             5290 non-null   float64\n\n 33  rougher.state.floatbank10_f_level           5290 non-null   float64\n\n 34  secondary_cleaner.state.floatbank2_a_air    5287 non-null   float64\n\n 35  secondary_cleaner.state.floatbank2_a_level  5290 non-null   float64\n\n 36  secondary_cleaner.state.floatbank2_b_air    5288 non-null   float64\n\n 37  secondary_cleaner.state.floatbank2_b_level  5290 non-null   float64\n\n 38  secondary_cleaner.state.floatbank3_a_air    5281 non-null   float64\n\n 39  secondary_cleaner.state.floatbank3_a_level  5290 non-null   float64\n\n 40  secondary_cleaner.state.floatbank3_b_air    5290 non-null   float64\n\n 41  secondary_cleaner.state.floatbank3_b_level  5290 non-null   float64\n\n 42  secondary_cleaner.state.floatbank4_a_air    5290 non-null   float64\n\n 43  secondary_cleaner.state.floatbank4_a_level  5290 non-null   float64\n\n 44  secondary_cleaner.state.floatbank4_b_air    5290 non-null   float64\n\n 45  secondary_cleaner.state.floatbank4_b_level  5290 non-null   float64\n\n 46  secondary_cleaner.state.floatbank5_a_air    5290 non-null   float64\n\n 47  secondary_cleaner.state.floatbank5_a_level  5290 non-null   float64\n\n 48  secondary_cleaner.state.floatbank5_b_air    5290 non-null   float64\n\n 49  secondary_cleaner.state.floatbank5_b_level  5290 non-null   float64\n\n 50  secondary_cleaner.state.floatbank6_a_air    5290 non-null   float64\n\n 51  secondary_cleaner.state.floatbank6_a_level  5290 non-null   float64\n\ndtypes: float64(52)\n\nmemory usage: 2.1 MB\n"
        }
      ]
    },
    {
      "cell_type": "code",
      "source": "df_test.head()\n# выводим первые пять строк датасета для ознакомления",
      "metadata": {},
      "execution_count": 12,
      "outputs": [
        {
          "execution_count": 12,
          "output_type": "execute_result",
          "data": {
            "text/html": [
              "<div>\n",
              "<style scoped>\n",
              "    .dataframe tbody tr th:only-of-type {\n",
              "        vertical-align: middle;\n",
              "    }\n",
              "\n",
              "    .dataframe tbody tr th {\n",
              "        vertical-align: top;\n",
              "    }\n",
              "\n",
              "    .dataframe thead th {\n",
              "        text-align: right;\n",
              "    }\n",
              "</style>\n",
              "<table border=\"1\" class=\"dataframe\">\n",
              "  <thead>\n",
              "    <tr style=\"text-align: right;\">\n",
              "      <th></th>\n",
              "      <th>primary_cleaner.input.sulfate</th>\n",
              "      <th>primary_cleaner.input.depressant</th>\n",
              "      <th>primary_cleaner.input.feed_size</th>\n",
              "      <th>primary_cleaner.input.xanthate</th>\n",
              "      <th>primary_cleaner.state.floatbank8_a_air</th>\n",
              "      <th>primary_cleaner.state.floatbank8_a_level</th>\n",
              "      <th>primary_cleaner.state.floatbank8_b_air</th>\n",
              "      <th>primary_cleaner.state.floatbank8_b_level</th>\n",
              "      <th>primary_cleaner.state.floatbank8_c_air</th>\n",
              "      <th>primary_cleaner.state.floatbank8_c_level</th>\n",
              "      <th>...</th>\n",
              "      <th>secondary_cleaner.state.floatbank4_a_air</th>\n",
              "      <th>secondary_cleaner.state.floatbank4_a_level</th>\n",
              "      <th>secondary_cleaner.state.floatbank4_b_air</th>\n",
              "      <th>secondary_cleaner.state.floatbank4_b_level</th>\n",
              "      <th>secondary_cleaner.state.floatbank5_a_air</th>\n",
              "      <th>secondary_cleaner.state.floatbank5_a_level</th>\n",
              "      <th>secondary_cleaner.state.floatbank5_b_air</th>\n",
              "      <th>secondary_cleaner.state.floatbank5_b_level</th>\n",
              "      <th>secondary_cleaner.state.floatbank6_a_air</th>\n",
              "      <th>secondary_cleaner.state.floatbank6_a_level</th>\n",
              "    </tr>\n",
              "    <tr>\n",
              "      <th>date</th>\n",
              "      <th></th>\n",
              "      <th></th>\n",
              "      <th></th>\n",
              "      <th></th>\n",
              "      <th></th>\n",
              "      <th></th>\n",
              "      <th></th>\n",
              "      <th></th>\n",
              "      <th></th>\n",
              "      <th></th>\n",
              "      <th></th>\n",
              "      <th></th>\n",
              "      <th></th>\n",
              "      <th></th>\n",
              "      <th></th>\n",
              "      <th></th>\n",
              "      <th></th>\n",
              "      <th></th>\n",
              "      <th></th>\n",
              "      <th></th>\n",
              "      <th></th>\n",
              "    </tr>\n",
              "  </thead>\n",
              "  <tbody>\n",
              "    <tr>\n",
              "      <th>2016-09-01 00:59:59</th>\n",
              "      <td>210.800909</td>\n",
              "      <td>14.993118</td>\n",
              "      <td>8.080000</td>\n",
              "      <td>1.005021</td>\n",
              "      <td>1398.981301</td>\n",
              "      <td>-500.225577</td>\n",
              "      <td>1399.144926</td>\n",
              "      <td>-499.919735</td>\n",
              "      <td>1400.102998</td>\n",
              "      <td>-500.704369</td>\n",
              "      <td>...</td>\n",
              "      <td>12.023554</td>\n",
              "      <td>-497.795834</td>\n",
              "      <td>8.016656</td>\n",
              "      <td>-501.289139</td>\n",
              "      <td>7.946562</td>\n",
              "      <td>-432.317850</td>\n",
              "      <td>4.872511</td>\n",
              "      <td>-500.037437</td>\n",
              "      <td>26.705889</td>\n",
              "      <td>-499.709414</td>\n",
              "    </tr>\n",
              "    <tr>\n",
              "      <th>2016-09-01 01:59:59</th>\n",
              "      <td>215.392455</td>\n",
              "      <td>14.987471</td>\n",
              "      <td>8.080000</td>\n",
              "      <td>0.990469</td>\n",
              "      <td>1398.777912</td>\n",
              "      <td>-500.057435</td>\n",
              "      <td>1398.055362</td>\n",
              "      <td>-499.778182</td>\n",
              "      <td>1396.151033</td>\n",
              "      <td>-499.240168</td>\n",
              "      <td>...</td>\n",
              "      <td>12.058140</td>\n",
              "      <td>-498.695773</td>\n",
              "      <td>8.130979</td>\n",
              "      <td>-499.634209</td>\n",
              "      <td>7.958270</td>\n",
              "      <td>-525.839648</td>\n",
              "      <td>4.878850</td>\n",
              "      <td>-500.162375</td>\n",
              "      <td>25.019940</td>\n",
              "      <td>-499.819438</td>\n",
              "    </tr>\n",
              "    <tr>\n",
              "      <th>2016-09-01 02:59:59</th>\n",
              "      <td>215.259946</td>\n",
              "      <td>12.884934</td>\n",
              "      <td>7.786667</td>\n",
              "      <td>0.996043</td>\n",
              "      <td>1398.493666</td>\n",
              "      <td>-500.868360</td>\n",
              "      <td>1398.860436</td>\n",
              "      <td>-499.764529</td>\n",
              "      <td>1398.075709</td>\n",
              "      <td>-502.151509</td>\n",
              "      <td>...</td>\n",
              "      <td>11.962366</td>\n",
              "      <td>-498.767484</td>\n",
              "      <td>8.096893</td>\n",
              "      <td>-500.827423</td>\n",
              "      <td>8.071056</td>\n",
              "      <td>-500.801673</td>\n",
              "      <td>4.905125</td>\n",
              "      <td>-499.828510</td>\n",
              "      <td>24.994862</td>\n",
              "      <td>-500.622559</td>\n",
              "    </tr>\n",
              "    <tr>\n",
              "      <th>2016-09-01 03:59:59</th>\n",
              "      <td>215.336236</td>\n",
              "      <td>12.006805</td>\n",
              "      <td>7.640000</td>\n",
              "      <td>0.863514</td>\n",
              "      <td>1399.618111</td>\n",
              "      <td>-498.863574</td>\n",
              "      <td>1397.440120</td>\n",
              "      <td>-499.211024</td>\n",
              "      <td>1400.129303</td>\n",
              "      <td>-498.355873</td>\n",
              "      <td>...</td>\n",
              "      <td>12.033091</td>\n",
              "      <td>-498.350935</td>\n",
              "      <td>8.074946</td>\n",
              "      <td>-499.474407</td>\n",
              "      <td>7.897085</td>\n",
              "      <td>-500.868509</td>\n",
              "      <td>4.931400</td>\n",
              "      <td>-499.963623</td>\n",
              "      <td>24.948919</td>\n",
              "      <td>-498.709987</td>\n",
              "    </tr>\n",
              "    <tr>\n",
              "      <th>2016-09-01 04:59:59</th>\n",
              "      <td>199.099327</td>\n",
              "      <td>10.682530</td>\n",
              "      <td>7.530000</td>\n",
              "      <td>0.805575</td>\n",
              "      <td>1401.268123</td>\n",
              "      <td>-500.808305</td>\n",
              "      <td>1398.128818</td>\n",
              "      <td>-499.504543</td>\n",
              "      <td>1402.172226</td>\n",
              "      <td>-500.810606</td>\n",
              "      <td>...</td>\n",
              "      <td>12.025367</td>\n",
              "      <td>-500.786497</td>\n",
              "      <td>8.054678</td>\n",
              "      <td>-500.397500</td>\n",
              "      <td>8.107890</td>\n",
              "      <td>-509.526725</td>\n",
              "      <td>4.957674</td>\n",
              "      <td>-500.360026</td>\n",
              "      <td>25.003331</td>\n",
              "      <td>-500.856333</td>\n",
              "    </tr>\n",
              "  </tbody>\n",
              "</table>\n",
              "<p>5 rows × 52 columns</p>\n",
              "</div>"
            ],
            "text/plain": [
              "                     primary_cleaner.input.sulfate  \\\n",
              "date                                                 \n",
              "2016-09-01 00:59:59                     210.800909   \n",
              "2016-09-01 01:59:59                     215.392455   \n",
              "2016-09-01 02:59:59                     215.259946   \n",
              "2016-09-01 03:59:59                     215.336236   \n",
              "2016-09-01 04:59:59                     199.099327   \n",
              "\n",
              "                     primary_cleaner.input.depressant  \\\n",
              "date                                                    \n",
              "2016-09-01 00:59:59                         14.993118   \n",
              "2016-09-01 01:59:59                         14.987471   \n",
              "2016-09-01 02:59:59                         12.884934   \n",
              "2016-09-01 03:59:59                         12.006805   \n",
              "2016-09-01 04:59:59                         10.682530   \n",
              "\n",
              "                     primary_cleaner.input.feed_size  \\\n",
              "date                                                   \n",
              "2016-09-01 00:59:59                         8.080000   \n",
              "2016-09-01 01:59:59                         8.080000   \n",
              "2016-09-01 02:59:59                         7.786667   \n",
              "2016-09-01 03:59:59                         7.640000   \n",
              "2016-09-01 04:59:59                         7.530000   \n",
              "\n",
              "                     primary_cleaner.input.xanthate  \\\n",
              "date                                                  \n",
              "2016-09-01 00:59:59                        1.005021   \n",
              "2016-09-01 01:59:59                        0.990469   \n",
              "2016-09-01 02:59:59                        0.996043   \n",
              "2016-09-01 03:59:59                        0.863514   \n",
              "2016-09-01 04:59:59                        0.805575   \n",
              "\n",
              "                     primary_cleaner.state.floatbank8_a_air  \\\n",
              "date                                                          \n",
              "2016-09-01 00:59:59                             1398.981301   \n",
              "2016-09-01 01:59:59                             1398.777912   \n",
              "2016-09-01 02:59:59                             1398.493666   \n",
              "2016-09-01 03:59:59                             1399.618111   \n",
              "2016-09-01 04:59:59                             1401.268123   \n",
              "\n",
              "                     primary_cleaner.state.floatbank8_a_level  \\\n",
              "date                                                            \n",
              "2016-09-01 00:59:59                               -500.225577   \n",
              "2016-09-01 01:59:59                               -500.057435   \n",
              "2016-09-01 02:59:59                               -500.868360   \n",
              "2016-09-01 03:59:59                               -498.863574   \n",
              "2016-09-01 04:59:59                               -500.808305   \n",
              "\n",
              "                     primary_cleaner.state.floatbank8_b_air  \\\n",
              "date                                                          \n",
              "2016-09-01 00:59:59                             1399.144926   \n",
              "2016-09-01 01:59:59                             1398.055362   \n",
              "2016-09-01 02:59:59                             1398.860436   \n",
              "2016-09-01 03:59:59                             1397.440120   \n",
              "2016-09-01 04:59:59                             1398.128818   \n",
              "\n",
              "                     primary_cleaner.state.floatbank8_b_level  \\\n",
              "date                                                            \n",
              "2016-09-01 00:59:59                               -499.919735   \n",
              "2016-09-01 01:59:59                               -499.778182   \n",
              "2016-09-01 02:59:59                               -499.764529   \n",
              "2016-09-01 03:59:59                               -499.211024   \n",
              "2016-09-01 04:59:59                               -499.504543   \n",
              "\n",
              "                     primary_cleaner.state.floatbank8_c_air  \\\n",
              "date                                                          \n",
              "2016-09-01 00:59:59                             1400.102998   \n",
              "2016-09-01 01:59:59                             1396.151033   \n",
              "2016-09-01 02:59:59                             1398.075709   \n",
              "2016-09-01 03:59:59                             1400.129303   \n",
              "2016-09-01 04:59:59                             1402.172226   \n",
              "\n",
              "                     primary_cleaner.state.floatbank8_c_level  ...  \\\n",
              "date                                                           ...   \n",
              "2016-09-01 00:59:59                               -500.704369  ...   \n",
              "2016-09-01 01:59:59                               -499.240168  ...   \n",
              "2016-09-01 02:59:59                               -502.151509  ...   \n",
              "2016-09-01 03:59:59                               -498.355873  ...   \n",
              "2016-09-01 04:59:59                               -500.810606  ...   \n",
              "\n",
              "                     secondary_cleaner.state.floatbank4_a_air  \\\n",
              "date                                                            \n",
              "2016-09-01 00:59:59                                 12.023554   \n",
              "2016-09-01 01:59:59                                 12.058140   \n",
              "2016-09-01 02:59:59                                 11.962366   \n",
              "2016-09-01 03:59:59                                 12.033091   \n",
              "2016-09-01 04:59:59                                 12.025367   \n",
              "\n",
              "                     secondary_cleaner.state.floatbank4_a_level  \\\n",
              "date                                                              \n",
              "2016-09-01 00:59:59                                 -497.795834   \n",
              "2016-09-01 01:59:59                                 -498.695773   \n",
              "2016-09-01 02:59:59                                 -498.767484   \n",
              "2016-09-01 03:59:59                                 -498.350935   \n",
              "2016-09-01 04:59:59                                 -500.786497   \n",
              "\n",
              "                     secondary_cleaner.state.floatbank4_b_air  \\\n",
              "date                                                            \n",
              "2016-09-01 00:59:59                                  8.016656   \n",
              "2016-09-01 01:59:59                                  8.130979   \n",
              "2016-09-01 02:59:59                                  8.096893   \n",
              "2016-09-01 03:59:59                                  8.074946   \n",
              "2016-09-01 04:59:59                                  8.054678   \n",
              "\n",
              "                     secondary_cleaner.state.floatbank4_b_level  \\\n",
              "date                                                              \n",
              "2016-09-01 00:59:59                                 -501.289139   \n",
              "2016-09-01 01:59:59                                 -499.634209   \n",
              "2016-09-01 02:59:59                                 -500.827423   \n",
              "2016-09-01 03:59:59                                 -499.474407   \n",
              "2016-09-01 04:59:59                                 -500.397500   \n",
              "\n",
              "                     secondary_cleaner.state.floatbank5_a_air  \\\n",
              "date                                                            \n",
              "2016-09-01 00:59:59                                  7.946562   \n",
              "2016-09-01 01:59:59                                  7.958270   \n",
              "2016-09-01 02:59:59                                  8.071056   \n",
              "2016-09-01 03:59:59                                  7.897085   \n",
              "2016-09-01 04:59:59                                  8.107890   \n",
              "\n",
              "                     secondary_cleaner.state.floatbank5_a_level  \\\n",
              "date                                                              \n",
              "2016-09-01 00:59:59                                 -432.317850   \n",
              "2016-09-01 01:59:59                                 -525.839648   \n",
              "2016-09-01 02:59:59                                 -500.801673   \n",
              "2016-09-01 03:59:59                                 -500.868509   \n",
              "2016-09-01 04:59:59                                 -509.526725   \n",
              "\n",
              "                     secondary_cleaner.state.floatbank5_b_air  \\\n",
              "date                                                            \n",
              "2016-09-01 00:59:59                                  4.872511   \n",
              "2016-09-01 01:59:59                                  4.878850   \n",
              "2016-09-01 02:59:59                                  4.905125   \n",
              "2016-09-01 03:59:59                                  4.931400   \n",
              "2016-09-01 04:59:59                                  4.957674   \n",
              "\n",
              "                     secondary_cleaner.state.floatbank5_b_level  \\\n",
              "date                                                              \n",
              "2016-09-01 00:59:59                                 -500.037437   \n",
              "2016-09-01 01:59:59                                 -500.162375   \n",
              "2016-09-01 02:59:59                                 -499.828510   \n",
              "2016-09-01 03:59:59                                 -499.963623   \n",
              "2016-09-01 04:59:59                                 -500.360026   \n",
              "\n",
              "                     secondary_cleaner.state.floatbank6_a_air  \\\n",
              "date                                                            \n",
              "2016-09-01 00:59:59                                 26.705889   \n",
              "2016-09-01 01:59:59                                 25.019940   \n",
              "2016-09-01 02:59:59                                 24.994862   \n",
              "2016-09-01 03:59:59                                 24.948919   \n",
              "2016-09-01 04:59:59                                 25.003331   \n",
              "\n",
              "                     secondary_cleaner.state.floatbank6_a_level  \n",
              "date                                                             \n",
              "2016-09-01 00:59:59                                 -499.709414  \n",
              "2016-09-01 01:59:59                                 -499.819438  \n",
              "2016-09-01 02:59:59                                 -500.622559  \n",
              "2016-09-01 03:59:59                                 -498.709987  \n",
              "2016-09-01 04:59:59                                 -500.856333  \n",
              "\n",
              "[5 rows x 52 columns]"
            ]
          },
          "metadata": {}
        }
      ]
    },
    {
      "cell_type": "code",
      "source": "df_test.isna().sum().sort_values(ascending=False).head(10)\n# смотрим на количество пропусков",
      "metadata": {
        "scrolled": true
      },
      "execution_count": 13,
      "outputs": [
        {
          "execution_count": 13,
          "output_type": "execute_result",
          "data": {
            "text/plain": [
              "rougher.input.floatbank11_xanthate          25\n",
              "rougher.input.feed_sol                      21\n",
              "secondary_cleaner.state.floatbank3_a_air     9\n",
              "rougher.input.floatbank11_sulfate            8\n",
              "primary_cleaner.input.depressant             5\n",
              "rougher.input.floatbank10_sulfate            5\n",
              "primary_cleaner.input.sulfate                4\n",
              "primary_cleaner.input.xanthate               4\n",
              "rougher.input.feed_rate                      3\n",
              "secondary_cleaner.state.floatbank2_a_air     3\n",
              "dtype: int64"
            ]
          },
          "metadata": {}
        }
      ]
    },
    {
      "cell_type": "markdown",
      "source": "Примечание.\n\nПропущенных значений уже не так много, но поскольку модель не может принимать NaN значения, а удаление операция всё-таки деструктивная по своей сути, принято решение также заменить пропуски на средние значения.",
      "metadata": {}
    },
    {
      "cell_type": "code",
      "source": "df_test = df_test.interpolate()\n# через цикл заменяем все пропуски на средние значения",
      "metadata": {},
      "execution_count": 14,
      "outputs": []
    },
    {
      "cell_type": "code",
      "source": "df_test.isna().sum()\n# снова смотрим на количество пропусков",
      "metadata": {},
      "execution_count": 15,
      "outputs": [
        {
          "execution_count": 15,
          "output_type": "execute_result",
          "data": {
            "text/plain": [
              "primary_cleaner.input.sulfate                 0\n",
              "primary_cleaner.input.depressant              0\n",
              "primary_cleaner.input.feed_size               0\n",
              "primary_cleaner.input.xanthate                0\n",
              "primary_cleaner.state.floatbank8_a_air        0\n",
              "primary_cleaner.state.floatbank8_a_level      0\n",
              "primary_cleaner.state.floatbank8_b_air        0\n",
              "primary_cleaner.state.floatbank8_b_level      0\n",
              "primary_cleaner.state.floatbank8_c_air        0\n",
              "primary_cleaner.state.floatbank8_c_level      0\n",
              "primary_cleaner.state.floatbank8_d_air        0\n",
              "primary_cleaner.state.floatbank8_d_level      0\n",
              "rougher.input.feed_ag                         0\n",
              "rougher.input.feed_pb                         0\n",
              "rougher.input.feed_rate                       0\n",
              "rougher.input.feed_size                       0\n",
              "rougher.input.feed_sol                        0\n",
              "rougher.input.feed_au                         0\n",
              "rougher.input.floatbank10_sulfate             0\n",
              "rougher.input.floatbank10_xanthate            0\n",
              "rougher.input.floatbank11_sulfate             0\n",
              "rougher.input.floatbank11_xanthate            0\n",
              "rougher.state.floatbank10_a_air               0\n",
              "rougher.state.floatbank10_a_level             0\n",
              "rougher.state.floatbank10_b_air               0\n",
              "rougher.state.floatbank10_b_level             0\n",
              "rougher.state.floatbank10_c_air               0\n",
              "rougher.state.floatbank10_c_level             0\n",
              "rougher.state.floatbank10_d_air               0\n",
              "rougher.state.floatbank10_d_level             0\n",
              "rougher.state.floatbank10_e_air               0\n",
              "rougher.state.floatbank10_e_level             0\n",
              "rougher.state.floatbank10_f_air               0\n",
              "rougher.state.floatbank10_f_level             0\n",
              "secondary_cleaner.state.floatbank2_a_air      0\n",
              "secondary_cleaner.state.floatbank2_a_level    0\n",
              "secondary_cleaner.state.floatbank2_b_air      0\n",
              "secondary_cleaner.state.floatbank2_b_level    0\n",
              "secondary_cleaner.state.floatbank3_a_air      0\n",
              "secondary_cleaner.state.floatbank3_a_level    0\n",
              "secondary_cleaner.state.floatbank3_b_air      0\n",
              "secondary_cleaner.state.floatbank3_b_level    0\n",
              "secondary_cleaner.state.floatbank4_a_air      0\n",
              "secondary_cleaner.state.floatbank4_a_level    0\n",
              "secondary_cleaner.state.floatbank4_b_air      0\n",
              "secondary_cleaner.state.floatbank4_b_level    0\n",
              "secondary_cleaner.state.floatbank5_a_air      0\n",
              "secondary_cleaner.state.floatbank5_a_level    0\n",
              "secondary_cleaner.state.floatbank5_b_air      0\n",
              "secondary_cleaner.state.floatbank5_b_level    0\n",
              "secondary_cleaner.state.floatbank6_a_air      0\n",
              "secondary_cleaner.state.floatbank6_a_level    0\n",
              "dtype: int64"
            ]
          },
          "metadata": {}
        }
      ]
    },
    {
      "cell_type": "code",
      "source": "df_test.duplicated().sum()\n# смотрим количество дубликатов",
      "metadata": {},
      "execution_count": 16,
      "outputs": [
        {
          "execution_count": 16,
          "output_type": "execute_result",
          "data": {
            "text/plain": [
              "0"
            ]
          },
          "metadata": {}
        }
      ]
    },
    {
      "cell_type": "markdown",
      "source": "Вывод.\n\nТестовая открыта, изучена и подготовлена для дальнейшей работы.",
      "metadata": {}
    },
    {
      "cell_type": "markdown",
      "source": "### Исходные данные",
      "metadata": {}
    },
    {
      "cell_type": "code",
      "source": "df_full = pd.read_csv('/datasets/gold_recovery_full_new.csv', index_col=['date'], parse_dates=['date'], dayfirst=True)\n# читаем полный датасет",
      "metadata": {},
      "execution_count": 17,
      "outputs": []
    },
    {
      "cell_type": "code",
      "source": "df_full.info()\n# смотрим общую информацию о датасете",
      "metadata": {
        "scrolled": true
      },
      "execution_count": 18,
      "outputs": [
        {
          "name": "stdout",
          "output_type": "stream",
          "text": "<class 'pandas.core.frame.DataFrame'>\n\nDatetimeIndex: 19439 entries, 2016-01-15 00:00:00 to 2018-08-18 10:59:59\n\nData columns (total 86 columns):\n\n #   Column                                              Non-Null Count  Dtype  \n\n---  ------                                              --------------  -----  \n\n 0   final.output.concentrate_ag                         19438 non-null  float64\n\n 1   final.output.concentrate_pb                         19438 non-null  float64\n\n 2   final.output.concentrate_sol                        19228 non-null  float64\n\n 3   final.output.concentrate_au                         19439 non-null  float64\n\n 4   final.output.recovery                               19439 non-null  float64\n\n 5   final.output.tail_ag                                19438 non-null  float64\n\n 6   final.output.tail_pb                                19338 non-null  float64\n\n 7   final.output.tail_sol                               19433 non-null  float64\n\n 8   final.output.tail_au                                19439 non-null  float64\n\n 9   primary_cleaner.input.sulfate                       19415 non-null  float64\n\n 10  primary_cleaner.input.depressant                    19402 non-null  float64\n\n 11  primary_cleaner.input.feed_size                     19439 non-null  float64\n\n 12  primary_cleaner.input.xanthate                      19335 non-null  float64\n\n 13  primary_cleaner.output.concentrate_ag               19439 non-null  float64\n\n 14  primary_cleaner.output.concentrate_pb               19323 non-null  float64\n\n 15  primary_cleaner.output.concentrate_sol              19069 non-null  float64\n\n 16  primary_cleaner.output.concentrate_au               19439 non-null  float64\n\n 17  primary_cleaner.output.tail_ag                      19435 non-null  float64\n\n 18  primary_cleaner.output.tail_pb                      19418 non-null  float64\n\n 19  primary_cleaner.output.tail_sol                     19377 non-null  float64\n\n 20  primary_cleaner.output.tail_au                      19439 non-null  float64\n\n 21  primary_cleaner.state.floatbank8_a_air              19435 non-null  float64\n\n 22  primary_cleaner.state.floatbank8_a_level            19438 non-null  float64\n\n 23  primary_cleaner.state.floatbank8_b_air              19435 non-null  float64\n\n 24  primary_cleaner.state.floatbank8_b_level            19438 non-null  float64\n\n 25  primary_cleaner.state.floatbank8_c_air              19437 non-null  float64\n\n 26  primary_cleaner.state.floatbank8_c_level            19438 non-null  float64\n\n 27  primary_cleaner.state.floatbank8_d_air              19436 non-null  float64\n\n 28  primary_cleaner.state.floatbank8_d_level            19438 non-null  float64\n\n 29  rougher.calculation.sulfate_to_au_concentrate       19437 non-null  float64\n\n 30  rougher.calculation.floatbank10_sulfate_to_au_feed  19437 non-null  float64\n\n 31  rougher.calculation.floatbank11_sulfate_to_au_feed  19437 non-null  float64\n\n 32  rougher.calculation.au_pb_ratio                     19439 non-null  float64\n\n 33  rougher.input.feed_ag                               19439 non-null  float64\n\n 34  rougher.input.feed_pb                               19339 non-null  float64\n\n 35  rougher.input.feed_rate                             19428 non-null  float64\n\n 36  rougher.input.feed_size                             19294 non-null  float64\n\n 37  rougher.input.feed_sol                              19340 non-null  float64\n\n 38  rougher.input.feed_au                               19439 non-null  float64\n\n 39  rougher.input.floatbank10_sulfate                   19405 non-null  float64\n\n 40  rougher.input.floatbank10_xanthate                  19431 non-null  float64\n\n 41  rougher.input.floatbank11_sulfate                   19395 non-null  float64\n\n 42  rougher.input.floatbank11_xanthate                  18986 non-null  float64\n\n 43  rougher.output.concentrate_ag                       19439 non-null  float64\n\n 44  rougher.output.concentrate_pb                       19439 non-null  float64\n\n 45  rougher.output.concentrate_sol                      19416 non-null  float64\n\n 46  rougher.output.concentrate_au                       19439 non-null  float64\n\n 47  rougher.output.recovery                             19439 non-null  float64\n\n 48  rougher.output.tail_ag                              19438 non-null  float64\n\n 49  rougher.output.tail_pb                              19439 non-null  float64\n\n 50  rougher.output.tail_sol                             19439 non-null  float64\n\n 51  rougher.output.tail_au                              19439 non-null  float64\n\n 52  rougher.state.floatbank10_a_air                     19438 non-null  float64\n\n 53  rougher.state.floatbank10_a_level                   19438 non-null  float64\n\n 54  rougher.state.floatbank10_b_air                     19438 non-null  float64\n\n 55  rougher.state.floatbank10_b_level                   19438 non-null  float64\n\n 56  rougher.state.floatbank10_c_air                     19438 non-null  float64\n\n 57  rougher.state.floatbank10_c_level                   19438 non-null  float64\n\n 58  rougher.state.floatbank10_d_air                     19439 non-null  float64\n\n 59  rougher.state.floatbank10_d_level                   19439 non-null  float64\n\n 60  rougher.state.floatbank10_e_air                     19003 non-null  float64\n\n 61  rougher.state.floatbank10_e_level                   19439 non-null  float64\n\n 62  rougher.state.floatbank10_f_air                     19439 non-null  float64\n\n 63  rougher.state.floatbank10_f_level                   19439 non-null  float64\n\n 64  secondary_cleaner.output.tail_ag                    19437 non-null  float64\n\n 65  secondary_cleaner.output.tail_pb                    19427 non-null  float64\n\n 66  secondary_cleaner.output.tail_sol                   17691 non-null  float64\n\n 67  secondary_cleaner.output.tail_au                    19439 non-null  float64\n\n 68  secondary_cleaner.state.floatbank2_a_air            19219 non-null  float64\n\n 69  secondary_cleaner.state.floatbank2_a_level          19438 non-null  float64\n\n 70  secondary_cleaner.state.floatbank2_b_air            19416 non-null  float64\n\n 71  secondary_cleaner.state.floatbank2_b_level          19438 non-null  float64\n\n 72  secondary_cleaner.state.floatbank3_a_air            19426 non-null  float64\n\n 73  secondary_cleaner.state.floatbank3_a_level          19438 non-null  float64\n\n 74  secondary_cleaner.state.floatbank3_b_air            19438 non-null  float64\n\n 75  secondary_cleaner.state.floatbank3_b_level          19438 non-null  float64\n\n 76  secondary_cleaner.state.floatbank4_a_air            19433 non-null  float64\n\n 77  secondary_cleaner.state.floatbank4_a_level          19438 non-null  float64\n\n 78  secondary_cleaner.state.floatbank4_b_air            19438 non-null  float64\n\n 79  secondary_cleaner.state.floatbank4_b_level          19438 non-null  float64\n\n 80  secondary_cleaner.state.floatbank5_a_air            19438 non-null  float64\n\n 81  secondary_cleaner.state.floatbank5_a_level          19438 non-null  float64\n\n 82  secondary_cleaner.state.floatbank5_b_air            19438 non-null  float64\n\n 83  secondary_cleaner.state.floatbank5_b_level          19438 non-null  float64\n\n 84  secondary_cleaner.state.floatbank6_a_air            19437 non-null  float64\n\n 85  secondary_cleaner.state.floatbank6_a_level          19438 non-null  float64\n\ndtypes: float64(86)\n\nmemory usage: 12.9 MB\n"
        }
      ]
    },
    {
      "cell_type": "code",
      "source": "df_full.isna().sum().sort_values(ascending=False).head(10)\n# смотрим на количество пропусков",
      "metadata": {},
      "execution_count": 19,
      "outputs": [
        {
          "execution_count": 19,
          "output_type": "execute_result",
          "data": {
            "text/plain": [
              "secondary_cleaner.output.tail_sol           1748\n",
              "rougher.input.floatbank11_xanthate           453\n",
              "rougher.state.floatbank10_e_air              436\n",
              "primary_cleaner.output.concentrate_sol       370\n",
              "secondary_cleaner.state.floatbank2_a_air     220\n",
              "final.output.concentrate_sol                 211\n",
              "rougher.input.feed_size                      145\n",
              "primary_cleaner.output.concentrate_pb        116\n",
              "primary_cleaner.input.xanthate               104\n",
              "final.output.tail_pb                         101\n",
              "dtype: int64"
            ]
          },
          "metadata": {}
        }
      ]
    },
    {
      "cell_type": "code",
      "source": "df_full = df_full.interpolate()",
      "metadata": {},
      "execution_count": 20,
      "outputs": []
    },
    {
      "cell_type": "code",
      "source": "df_full.isna().sum().head()",
      "metadata": {},
      "execution_count": 21,
      "outputs": [
        {
          "execution_count": 21,
          "output_type": "execute_result",
          "data": {
            "text/plain": [
              "final.output.concentrate_ag     0\n",
              "final.output.concentrate_pb     0\n",
              "final.output.concentrate_sol    0\n",
              "final.output.concentrate_au     0\n",
              "final.output.recovery           0\n",
              "dtype: int64"
            ]
          },
          "metadata": {}
        }
      ]
    },
    {
      "cell_type": "code",
      "source": "df_full.duplicated().sum()\n# смотрим на количество дубликатов",
      "metadata": {},
      "execution_count": 22,
      "outputs": [
        {
          "execution_count": 22,
          "output_type": "execute_result",
          "data": {
            "text/plain": [
              "0"
            ]
          },
          "metadata": {}
        }
      ]
    },
    {
      "cell_type": "markdown",
      "source": "### Проверка эффективности обогащения",
      "metadata": {}
    },
    {
      "cell_type": "code",
      "source": "df_train['ror_calc'] = (((df_train['rougher.output.concentrate_au'] * \n(df_train['rougher.input.feed_au'] - df_train['rougher.output.tail_au'])) / \n(df_train['rougher.input.feed_au'] * \n(df_train['rougher.output.concentrate_au'] - df_train['rougher.output.tail_au'])))* 100)\n# создаём новый столбец с рассчитанным по формуле значением параметра rougher.output.recovery",
      "metadata": {},
      "execution_count": 23,
      "outputs": []
    },
    {
      "cell_type": "code",
      "source": "df_train[['rougher.output.recovery', 'ror_calc']].head()\n# выводим значения столбцов для сравнения",
      "metadata": {},
      "execution_count": 24,
      "outputs": [
        {
          "execution_count": 24,
          "output_type": "execute_result",
          "data": {
            "text/html": [
              "<div>\n",
              "<style scoped>\n",
              "    .dataframe tbody tr th:only-of-type {\n",
              "        vertical-align: middle;\n",
              "    }\n",
              "\n",
              "    .dataframe tbody tr th {\n",
              "        vertical-align: top;\n",
              "    }\n",
              "\n",
              "    .dataframe thead th {\n",
              "        text-align: right;\n",
              "    }\n",
              "</style>\n",
              "<table border=\"1\" class=\"dataframe\">\n",
              "  <thead>\n",
              "    <tr style=\"text-align: right;\">\n",
              "      <th></th>\n",
              "      <th>rougher.output.recovery</th>\n",
              "      <th>ror_calc</th>\n",
              "    </tr>\n",
              "    <tr>\n",
              "      <th>date</th>\n",
              "      <th></th>\n",
              "      <th></th>\n",
              "    </tr>\n",
              "  </thead>\n",
              "  <tbody>\n",
              "    <tr>\n",
              "      <th>2016-01-15 00:00:00</th>\n",
              "      <td>87.107763</td>\n",
              "      <td>87.107763</td>\n",
              "    </tr>\n",
              "    <tr>\n",
              "      <th>2016-01-15 01:00:00</th>\n",
              "      <td>86.843261</td>\n",
              "      <td>86.843261</td>\n",
              "    </tr>\n",
              "    <tr>\n",
              "      <th>2016-01-15 02:00:00</th>\n",
              "      <td>86.842308</td>\n",
              "      <td>86.842308</td>\n",
              "    </tr>\n",
              "    <tr>\n",
              "      <th>2016-01-15 03:00:00</th>\n",
              "      <td>87.226430</td>\n",
              "      <td>87.226430</td>\n",
              "    </tr>\n",
              "    <tr>\n",
              "      <th>2016-01-15 04:00:00</th>\n",
              "      <td>86.688794</td>\n",
              "      <td>86.688794</td>\n",
              "    </tr>\n",
              "  </tbody>\n",
              "</table>\n",
              "</div>"
            ],
            "text/plain": [
              "                     rougher.output.recovery   ror_calc\n",
              "date                                                   \n",
              "2016-01-15 00:00:00                87.107763  87.107763\n",
              "2016-01-15 01:00:00                86.843261  86.843261\n",
              "2016-01-15 02:00:00                86.842308  86.842308\n",
              "2016-01-15 03:00:00                87.226430  87.226430\n",
              "2016-01-15 04:00:00                86.688794  86.688794"
            ]
          },
          "metadata": {}
        }
      ]
    },
    {
      "cell_type": "code",
      "source": "ror_mae = mean_absolute_error(df_train['ror_calc'], df_train['rougher.output.recovery'])\nprint('Средняя абсолютная ошибка mae:', ror_mae)\n# считаем MAE между расчетными и указанными в таблице значениями",
      "metadata": {},
      "execution_count": 25,
      "outputs": [
        {
          "name": "stdout",
          "output_type": "stream",
          "text": "Средняя абсолютная ошибка mae: 9.73512347450521e-15\n"
        }
      ]
    },
    {
      "cell_type": "markdown",
      "source": "Вывод. \n\nЗначения в колонке rougher.output.recovery посчитаны верно.",
      "metadata": {}
    },
    {
      "cell_type": "markdown",
      "source": "### Анализ признаков, недоступных в тестовой выборке.",
      "metadata": {}
    },
    {
      "cell_type": "code",
      "source": "a = set(df_full.columns).symmetric_difference(df_test.columns)\nprint('Признаки, не вошедшие в тестовую выборку:')\ndisplay(a)\n# смотрим на признаки, которых нет в тестовой выборке",
      "metadata": {
        "scrolled": true
      },
      "execution_count": 26,
      "outputs": [
        {
          "name": "stdout",
          "output_type": "stream",
          "text": "Признаки, не вошедшие в тестовую выборку:\n"
        },
        {
          "output_type": "display_data",
          "data": {
            "text/plain": [
              "{'final.output.concentrate_ag',\n",
              " 'final.output.concentrate_au',\n",
              " 'final.output.concentrate_pb',\n",
              " 'final.output.concentrate_sol',\n",
              " 'final.output.recovery',\n",
              " 'final.output.tail_ag',\n",
              " 'final.output.tail_au',\n",
              " 'final.output.tail_pb',\n",
              " 'final.output.tail_sol',\n",
              " 'primary_cleaner.output.concentrate_ag',\n",
              " 'primary_cleaner.output.concentrate_au',\n",
              " 'primary_cleaner.output.concentrate_pb',\n",
              " 'primary_cleaner.output.concentrate_sol',\n",
              " 'primary_cleaner.output.tail_ag',\n",
              " 'primary_cleaner.output.tail_au',\n",
              " 'primary_cleaner.output.tail_pb',\n",
              " 'primary_cleaner.output.tail_sol',\n",
              " 'rougher.calculation.au_pb_ratio',\n",
              " 'rougher.calculation.floatbank10_sulfate_to_au_feed',\n",
              " 'rougher.calculation.floatbank11_sulfate_to_au_feed',\n",
              " 'rougher.calculation.sulfate_to_au_concentrate',\n",
              " 'rougher.output.concentrate_ag',\n",
              " 'rougher.output.concentrate_au',\n",
              " 'rougher.output.concentrate_pb',\n",
              " 'rougher.output.concentrate_sol',\n",
              " 'rougher.output.recovery',\n",
              " 'rougher.output.tail_ag',\n",
              " 'rougher.output.tail_au',\n",
              " 'rougher.output.tail_pb',\n",
              " 'rougher.output.tail_sol',\n",
              " 'secondary_cleaner.output.tail_ag',\n",
              " 'secondary_cleaner.output.tail_au',\n",
              " 'secondary_cleaner.output.tail_pb',\n",
              " 'secondary_cleaner.output.tail_sol'}"
            ]
          },
          "metadata": {}
        }
      ]
    },
    {
      "cell_type": "markdown",
      "source": "Вывод.\n\nКак мы видим, в тестовую выборку не вошли те признаки, которые измеряются после каждого этапа, а также несколько расчётных.\n\nЭто логично, ведь если бы мы их знали в процессе обучения, то наша модель не предсказывала бы, а просто рассчитывала целевые значения, а это другая задача.",
      "metadata": {}
    },
    {
      "cell_type": "markdown",
      "source": "## Анализ данных",
      "metadata": {}
    },
    {
      "cell_type": "markdown",
      "source": "### Изменение концетрации металлов на различных этапах очистки",
      "metadata": {}
    },
    {
      "cell_type": "markdown",
      "source": "#### Серебро",
      "metadata": {}
    },
    {
      "cell_type": "code",
      "source": "x_ag = [df_full['rougher.input.feed_ag'].mean(), df_full['rougher.output.concentrate_ag'].mean(), \n       df_full['primary_cleaner.output.concentrate_ag'].mean(), df_full['final.output.concentrate_ag'].mean()]\nx_ag\n# смотрим на среднее содержания серебра на каждом из этапов",
      "metadata": {},
      "execution_count": 27,
      "outputs": [
        {
          "execution_count": 27,
          "output_type": "execute_result",
          "data": {
            "text/plain": [
              "[8.794927425814688, 11.994759359873429, 8.44240807771906, 5.168384642787276]"
            ]
          },
          "metadata": {}
        }
      ]
    },
    {
      "cell_type": "code",
      "source": "plt.bar(('rough_input', 'rough_output', 'primary', 'final'), x_ag)\nplt.title('Concentration Ag')\nplt.xlabel('stage')\nplt.ylabel('concentration')\nplt.grid(True)\n# строим график",
      "metadata": {},
      "execution_count": 28,
      "outputs": [
        {
          "output_type": "display_data",
          "data": {
            "image/png": "[encoded data removed]",
            "text/plain": [
              "<Figure size 432x288 with 1 Axes>"
            ]
          },
          "metadata": {
            "needs_background": "light"
          }
        }
      ]
    },
    {
      "cell_type": "markdown",
      "source": "Вывод.\n\nСвинец ведёт себя, как ветренная женщина, которая не вполне знает, чего хочет - то расёт, то падает.",
      "metadata": {}
    },
    {
      "cell_type": "markdown",
      "source": "#### Свинец",
      "metadata": {}
    },
    {
      "cell_type": "code",
      "source": "x_pb = [df_full['rougher.input.feed_pb'].mean(), df_full['rougher.output.concentrate_pb'].mean(), \n       df_full['primary_cleaner.output.concentrate_pb'].mean(), df_full['final.output.concentrate_pb'].mean()]\nx_pb\n# смотрим на среднее содержание свинца на каждом из этапов",
      "metadata": {},
      "execution_count": 29,
      "outputs": [
        {
          "execution_count": 29,
          "output_type": "execute_result",
          "data": {
            "text/plain": [
              "[3.585472955940081, 7.606272313195003, 9.810373069554446, 9.97881902334395]"
            ]
          },
          "metadata": {}
        }
      ]
    },
    {
      "cell_type": "code",
      "source": "plt.bar(('rough_input', 'rough_output', 'primary', 'final'), x_pb)\nplt.title('Concentration Pb')\nplt.xlabel('stage')\nplt.ylabel('concentration')\nplt.grid(True)\n# строим график",
      "metadata": {},
      "execution_count": 30,
      "outputs": [
        {
          "output_type": "display_data",
          "data": {
            "image/png": "[encoded data removed]",
            "text/plain": [
              "<Figure size 432x288 with 1 Axes>"
            ]
          },
          "metadata": {
            "needs_background": "light"
          }
        }
      ]
    },
    {
      "cell_type": "markdown",
      "source": "Вывод.\n\nСудя по графику, среднее значение концетрации свинца на первых трёх этапах растёт, потом стабилизуется.",
      "metadata": {}
    },
    {
      "cell_type": "markdown",
      "source": "#### Золото",
      "metadata": {}
    },
    {
      "cell_type": "code",
      "source": "x_au = [df_full['rougher.input.feed_au'].mean(), df_full['rougher.output.concentrate_au'].mean(), \n       df_full['primary_cleaner.output.concentrate_au'].mean(), df_full['final.output.concentrate_au'].mean()]\nx_au\n# смотрим на среднее значение золота на каждом этапе",
      "metadata": {},
      "execution_count": 31,
      "outputs": [
        {
          "execution_count": 31,
          "output_type": "execute_result",
          "data": {
            "text/plain": [
              "[8.266097326589103, 19.772000139486316, 32.1194004078765, 44.0765129419528]"
            ]
          },
          "metadata": {}
        }
      ]
    },
    {
      "cell_type": "code",
      "source": "plt.bar(('rough_input', 'rough_output', 'primary', 'final'), x_au)\nplt.title('Concentration Au')\nplt.xlabel('stage')\nplt.ylabel('concentration')\nplt.grid(True)\n# строим график",
      "metadata": {
        "scrolled": true
      },
      "execution_count": 32,
      "outputs": [
        {
          "output_type": "display_data",
          "data": {
            "image/png": "[encoded data removed]",
            "text/plain": [
              "<Figure size 432x288 with 1 Axes>"
            ]
          },
          "metadata": {
            "needs_background": "light"
          }
        }
      ]
    },
    {
      "cell_type": "markdown",
      "source": "Вывод.\n\nГрафик говорит нам о том, что среднее значение концетрации золота на каждом этапе растёт, значит всё было не зря.",
      "metadata": {}
    },
    {
      "cell_type": "markdown",
      "source": "### Сравнение распределения размеров гранул сырья на обучающей и тестовой выборке",
      "metadata": {}
    },
    {
      "cell_type": "markdown",
      "source": "Нулевая гипотеза: средние размеры гранул на обучающей и тестовой выборке совпадают.\n\nАльтернативная гипотеза: средние размеры гранул на обучающей и тестовой выборке различаются.",
      "metadata": {}
    },
    {
      "cell_type": "code",
      "source": "alpha = .05\n# задаём уровень значимости\nresults = st.ttest_ind(df_train['rougher.input.feed_size'], \n                       df_test['rougher.input.feed_size'], equal_var=False)\n\nprint('p-значение:', results.pvalue)\nprint('Средний размер гранулы на обучающей выборке:', \n      df_train['rougher.input.feed_size'].mean())\nprint('Средний размер гранулы на тестовой выборке:', \n      df_test['rougher.input.feed_size'].mean())\nif results.pvalue < alpha:\n    print(\"Отвергаем нулевую гипотезу\")\nelse:\n    print(\"Не получилось отвергнуть нулевую гипотезу\")",
      "metadata": {},
      "execution_count": 33,
      "outputs": [
        {
          "name": "stdout",
          "output_type": "stream",
          "text": "p-значение: 8.76128160307779e-37\n\nСредний размер гранулы на обучающей выборке: 60.09790289839952\n\nСредний размер гранулы на тестовой выборке: 55.95283531239522\n\nОтвергаем нулевую гипотезу\n"
        }
      ]
    },
    {
      "cell_type": "code",
      "source": "plt.figure(figsize=(9, 4))\nplt.hist(df_train['rougher.input.feed_size'], bins=200, density=True)\nplt.hist(df_test['rougher.input.feed_size'], bins=200, density=True, alpha=0.8)\nplt.xlim(0, 125)\nplt.xlabel('feed size')\nplt.ylabel('relative frequency')\nplt.title('Train & Test feed size')\nplt.grid(True)\nplt.legend(['df_train', 'df_test'])",
      "metadata": {},
      "execution_count": 34,
      "outputs": [
        {
          "execution_count": 34,
          "output_type": "execute_result",
          "data": {
            "text/plain": [
              "<matplotlib.legend.Legend at 0x7fec113101f0>"
            ]
          },
          "metadata": {}
        },
        {
          "output_type": "display_data",
          "data": {
            "image/png": "[encoded data removed]",
            "text/plain": [
              "<Figure size 648x288 with 1 Axes>"
            ]
          },
          "metadata": {
            "needs_background": "light"
          }
        }
      ]
    },
    {
      "cell_type": "markdown",
      "source": "Вывод.\n\nГипотеза о том, что размеры гранул в тестовой и обучающей выборке совпадают, не подтвердилась, поэтому можем отказаться от неё в пользу гипотезы, что размеры статистически значимо различаются.",
      "metadata": {}
    },
    {
      "cell_type": "markdown",
      "source": "### Суммарная концетрация веществ на разных стадиях",
      "metadata": {}
    },
    {
      "cell_type": "code",
      "source": "x_sum = []\nfor i in range(0, 4):\n    x_sum.append(x_au[i] + x_ag[i] + x_pb[i])\nx_sum\n# считаем среднюю суммарную концетрацию на каждом этапе",
      "metadata": {},
      "execution_count": 35,
      "outputs": [
        {
          "execution_count": 35,
          "output_type": "execute_result",
          "data": {
            "text/plain": [
              "[20.64649770834387, 39.37303181255474, 50.37218155515, 59.223716608084025]"
            ]
          },
          "metadata": {}
        }
      ]
    },
    {
      "cell_type": "code",
      "source": "plt.bar(('rough_input', 'rough_output', 'primary', 'final'), x_sum)\nplt.title('Concentration Me')\nplt.xlabel('stage')\nplt.ylabel('concentration')\nplt.grid(True)\n# строим график",
      "metadata": {},
      "execution_count": 36,
      "outputs": [
        {
          "output_type": "display_data",
          "data": {
            "image/png": "[encoded data removed]",
            "text/plain": [
              "<Figure size 432x288 with 1 Axes>"
            ]
          },
          "metadata": {
            "needs_background": "light"
          }
        }
      ]
    },
    {
      "cell_type": "markdown",
      "source": "Вывод.\n\nПо графику видно то, что и было ожидаемо - концетрация металлов после каждого этапа очистки растёт.",
      "metadata": {}
    },
    {
      "cell_type": "markdown",
      "source": "## Модель",
      "metadata": {}
    },
    {
      "cell_type": "markdown",
      "source": "### Функция для расчёта итогового sMAPE",
      "metadata": {}
    },
    {
      "cell_type": "code",
      "source": "def smape(target, predictions):\n    smape = 100/len(predictions) * np.sum(2 * np.abs(target - predictions) / \n    (np.abs(predictions) + np.abs(target)))\n    return smape\n# создаём функцию для расчёта метрики smape",
      "metadata": {},
      "execution_count": 37,
      "outputs": []
    },
    {
      "cell_type": "code",
      "source": "score = make_scorer(smape, greater_is_better=False)\n# делаем метрику для кросс-валидации на основании функции smape",
      "metadata": {},
      "execution_count": 38,
      "outputs": []
    },
    {
      "cell_type": "markdown",
      "source": "Примечание.\n\nЗначения метрик будут отрицательными в силу указанных выше параметров, а именно: greater_is_better=False. Это связано с тем, что метод GridSearch, который мы будем применять для подбора гиперпараметров моделей и проведения кросс-валидации, умеет только максимизировать значение метрики, а минимизировать, что требуется в нашем случае, не умеет. Поэтому будем ему давать отрицательные значения, чтобы он старался максимально приблизить их к 0.",
      "metadata": {}
    },
    {
      "cell_type": "markdown",
      "source": "### Подготовка признаков для моделей",
      "metadata": {}
    },
    {
      "cell_type": "markdown",
      "source": "#### Признаки для модели флотации",
      "metadata": {}
    },
    {
      "cell_type": "code",
      "source": "rough_input = df_test.columns\n# создаём список с именами колоноок, которые будут участвовать в обучении и проверке модели",
      "metadata": {},
      "execution_count": 39,
      "outputs": []
    },
    {
      "cell_type": "code",
      "source": "features = df_train[rough_input]\nfeatures.shape\n# создаём признаки для обучения модели и смотрим размер полученного датасета",
      "metadata": {},
      "execution_count": 40,
      "outputs": [
        {
          "execution_count": 40,
          "output_type": "execute_result",
          "data": {
            "text/plain": [
              "(14149, 52)"
            ]
          },
          "metadata": {}
        }
      ]
    },
    {
      "cell_type": "code",
      "source": "target_rough = df_train['rougher.output.recovery']\ntarget_rough.shape\n# создаём целевой признак для обучения модели и смотрим размер полученного датасета",
      "metadata": {},
      "execution_count": 41,
      "outputs": [
        {
          "execution_count": 41,
          "output_type": "execute_result",
          "data": {
            "text/plain": [
              "(14149,)"
            ]
          },
          "metadata": {}
        }
      ]
    },
    {
      "cell_type": "code",
      "source": "df_full_rough = df_full['rougher.output.recovery'][df_test.index]\ndf_full_rough.shape\n# создаём датасет, по которому будем проверять предсказания наших моделей",
      "metadata": {},
      "execution_count": 42,
      "outputs": [
        {
          "execution_count": 42,
          "output_type": "execute_result",
          "data": {
            "text/plain": [
              "(5290,)"
            ]
          },
          "metadata": {}
        }
      ]
    },
    {
      "cell_type": "markdown",
      "source": "Примечание.\n\nПоскольку значения обучающих признаков одного порядка, масштабирование признаков не делаем.",
      "metadata": {}
    },
    {
      "cell_type": "markdown",
      "source": "#### Признаки для модели итоговых значений",
      "metadata": {}
    },
    {
      "cell_type": "code",
      "source": "target_final = df_train['final.output.recovery']\ntarget_final.shape\n# создаём целевой признак для обучения модели и смотрим размер полученного датасета",
      "metadata": {},
      "execution_count": 43,
      "outputs": [
        {
          "execution_count": 43,
          "output_type": "execute_result",
          "data": {
            "text/plain": [
              "(14149,)"
            ]
          },
          "metadata": {}
        }
      ]
    },
    {
      "cell_type": "code",
      "source": "df_full_final = df_full['final.output.recovery'][df_test.index]\n# создаём датасет, по которому будем проверять предсказания наших моделей\ndf_full_final.shape",
      "metadata": {},
      "execution_count": 44,
      "outputs": [
        {
          "execution_count": 44,
          "output_type": "execute_result",
          "data": {
            "text/plain": [
              "(5290,)"
            ]
          },
          "metadata": {}
        }
      ]
    },
    {
      "cell_type": "markdown",
      "source": "### Выбор лучшей модели для этапа флотации",
      "metadata": {}
    },
    {
      "cell_type": "markdown",
      "source": "#### Дерево Решений",
      "metadata": {}
    },
    {
      "cell_type": "code",
      "source": "dtr = DecisionTreeRegressor(random_state=12345)\nparam_grid = { \n    'max_depth': range(1, 11),\n}\n\nCV_dtr = GridSearchCV(estimator=dtr, param_grid=param_grid, scoring=score, cv=5)\nCV_dtr.fit(features, target_rough)\nprint('Лучшие гиперпараметры модели:', CV_dtr.best_params_)\nprint('Лучшее значение метрики smape модели:', CV_dtr.best_score_)\n# подбираем лучшие гиперпараметры и проводим кросс-валидацию методом GridSearch",
      "metadata": {},
      "execution_count": 45,
      "outputs": [
        {
          "name": "stdout",
          "output_type": "stream",
          "text": "Лучшие гиперпараметры модели: {'max_depth': 4}\n\nЛучшее значение метрики smape модели: -11.592527952928592\n"
        }
      ]
    },
    {
      "cell_type": "markdown",
      "source": "#### Случайный Лес",
      "metadata": {}
    },
    {
      "cell_type": "code",
      "source": "rfr = RandomForestRegressor(random_state=12345)\nparam_grid = { \n    'n_estimators': range(1, 21),\n    'max_depth': range(1, 11)\n}\n\nCV_rfr = RandomizedSearchCV(rfr, param_grid, scoring=score, cv=5)\nCV_rfr.fit(features, target_rough)\nprint('Лучшие гиперпараметры модели:', CV_rfr.best_params_)\nprint('Лучшее значение метрики smape модели:', CV_rfr.best_score_)\n# подбираем лучшие гиперпараметры и проводим кросс-валидацию методом RandomSearch",
      "metadata": {},
      "execution_count": 46,
      "outputs": [
        {
          "name": "stdout",
          "output_type": "stream",
          "text": "Лучшие гиперпараметры модели: {'n_estimators': 17, 'max_depth': 5}\n\nЛучшее значение метрики smape модели: -10.952897350531064\n"
        }
      ]
    },
    {
      "cell_type": "markdown",
      "source": "#### Линейная Регрессия",
      "metadata": {}
    },
    {
      "cell_type": "code",
      "source": "model = LinearRegression()\nscores = cross_val_score(model, features, target_rough, cv=5, \n                         scoring=score) \nprint('Среднее значение метрики smape модели:', scores.mean())\n# поскольку методом GridSearch линейную регрессию не проверять, просто применяем кросс-валидацию",
      "metadata": {},
      "execution_count": 47,
      "outputs": [
        {
          "name": "stdout",
          "output_type": "stream",
          "text": "Среднее значение метрики smape модели: -12.767080592183651\n"
        }
      ]
    },
    {
      "cell_type": "markdown",
      "source": "#### CatBoost",
      "metadata": {}
    },
    {
      "cell_type": "code",
      "source": "cbr = CatBoostRegressor(random_state=12345, verbose=False)\ntrain_dataset = cb.Pool(features, target_rough)\ngrid = {'iterations': [100, 150, 200],\n        'learning_rate': [0.03, 0.1],\n        'depth': [2, 4, 6, 8],\n        'l2_leaf_reg': [0.2, 0.5, 1, 3]}\nCV_cbr = cbr.grid_search(grid, train_dataset, verbose=True, calc_cv_statistics=True)",
      "metadata": {},
      "execution_count": 48,
      "outputs": [
        {
          "name": "stdout",
          "output_type": "stream",
          "text": "\n\nbestTest = 13.67867339\n\nbestIteration = 99\n\n\n\n0:\tloss: 13.6786734\tbest: 13.6786734 (0)\ttotal: 1.04s\tremaining: 1m 38s\n\n\n\nbestTest = 12.06769275\n\nbestIteration = 99\n\n\n\n1:\tloss: 12.0676927\tbest: 12.0676927 (1)\ttotal: 1.46s\tremaining: 1m 8s\n\n\n\nbestTest = 13.67934227\n\nbestIteration = 99\n\n\n\n2:\tloss: 13.6793423\tbest: 12.0676927 (1)\ttotal: 1.85s\tremaining: 57.4s\n\n\n\nbestTest = 12.05253274\n\nbestIteration = 99\n\n\n\n3:\tloss: 12.0525327\tbest: 12.0525327 (3)\ttotal: 2.26s\tremaining: 52s\n\n\n\nbestTest = 13.69282341\n\nbestIteration = 99\n\n\n\n4:\tloss: 13.6928234\tbest: 12.0525327 (3)\ttotal: 2.72s\tremaining: 49.6s\n\n\n\nbestTest = 12.06994854\n\nbestIteration = 99\n\n\n\n5:\tloss: 12.0699485\tbest: 12.0525327 (3)\ttotal: 3.16s\tremaining: 47.4s\n\n\n\nbestTest = 13.6936351\n\nbestIteration = 99\n\n\n\n6:\tloss: 13.6936351\tbest: 12.0525327 (3)\ttotal: 3.58s\tremaining: 45.5s\n\n\n\nbestTest = 12.10014215\n\nbestIteration = 99\n\n\n\n7:\tloss: 12.1001422\tbest: 12.0525327 (3)\ttotal: 3.99s\tremaining: 43.9s\n\n\n\nbestTest = 12.70629214\n\nbestIteration = 149\n\n\n\n8:\tloss: 12.7062921\tbest: 12.0525327 (3)\ttotal: 4.62s\tremaining: 44.6s\n\n\n\nbestTest = 11.7860771\n\nbestIteration = 149\n\n\n\n9:\tloss: 11.7860771\tbest: 11.7860771 (9)\ttotal: 5.23s\tremaining: 45s\n\n\n\nbestTest = 12.70825698\n\nbestIteration = 149\n\n\n\n10:\tloss: 12.7082570\tbest: 11.7860771 (9)\ttotal: 5.8s\tremaining: 44.9s\n\n\n\nbestTest = 11.78427273\n\nbestIteration = 149\n\n\n\n11:\tloss: 11.7842727\tbest: 11.7842727 (11)\ttotal: 6.4s\tremaining: 44.8s\n\n\n\nbestTest = 12.70761551\n\nbestIteration = 149\n\n\n\n12:\tloss: 12.7076155\tbest: 11.7842727 (11)\ttotal: 6.99s\tremaining: 44.6s\n\n\n\nbestTest = 11.84499165\n\nbestIteration = 149\n\n\n\n13:\tloss: 11.8449917\tbest: 11.7842727 (11)\ttotal: 7.58s\tremaining: 44.4s\n\n\n\nbestTest = 12.71313558\n\nbestIteration = 149\n\n\n\n14:\tloss: 12.7131356\tbest: 11.7842727 (11)\ttotal: 8.17s\tremaining: 44.1s\n\n\n\nbestTest = 11.86504544\n\nbestIteration = 149\n\n\n\n15:\tloss: 11.8650454\tbest: 11.7842727 (11)\ttotal: 8.74s\tremaining: 43.7s\n\n\n\nbestTest = 12.42466805\n\nbestIteration = 199\n\n\n\n16:\tloss: 12.4246681\tbest: 11.7842727 (11)\ttotal: 9.53s\tremaining: 44.3s\n\n\n\nbestTest = 11.58999615\n\nbestIteration = 198\n\n\n\n17:\tloss: 11.5899961\tbest: 11.5899961 (17)\ttotal: 10.3s\tremaining: 44.8s\n\n\n\nbestTest = 12.43222561\n\nbestIteration = 199\n\n\n\n18:\tloss: 12.4322256\tbest: 11.5899961 (17)\ttotal: 11.1s\tremaining: 45.1s\n\n\n\nbestTest = 11.54857342\n\nbestIteration = 199\n\n\n\n19:\tloss: 11.5485734\tbest: 11.5485734 (19)\ttotal: 11.9s\tremaining: 45.3s\n\n\n\nbestTest = 12.42573847\n\nbestIteration = 199\n\n\n\n20:\tloss: 12.4257385\tbest: 11.5485734 (19)\ttotal: 12.7s\tremaining: 45.5s\n\n\n\nbestTest = 11.68311156\n\nbestIteration = 199\n\n\n\n21:\tloss: 11.6831116\tbest: 11.5485734 (19)\ttotal: 13.6s\tremaining: 45.6s\n\n\n\nbestTest = 12.43620761\n\nbestIteration = 199\n\n\n\n22:\tloss: 12.4362076\tbest: 11.5485734 (19)\ttotal: 14.3s\tremaining: 45.5s\n\n\n\nbestTest = 11.67716571\n\nbestIteration = 199\n\n\n\n23:\tloss: 11.6771657\tbest: 11.5485734 (19)\ttotal: 15.1s\tremaining: 45.3s\n\n\n\nbestTest = 13.1209373\n\nbestIteration = 99\n\n\n\n24:\tloss: 13.1209373\tbest: 11.5485734 (19)\ttotal: 15.9s\tremaining: 45.2s\n\n\n\nbestTest = 11.24211936\n\nbestIteration = 99\n\n\n\n25:\tloss: 11.2421194\tbest: 11.2421194 (25)\ttotal: 16.7s\tremaining: 44.9s\n\n\n\nbestTest = 13.14724367\n\nbestIteration = 99\n\n\n\n26:\tloss: 13.1472437\tbest: 11.2421194 (25)\ttotal: 17.5s\tremaining: 44.7s\n\n\n\nbestTest = 11.2535511\n\nbestIteration = 99\n\n\n\n27:\tloss: 11.2535511\tbest: 11.2421194 (25)\ttotal: 18.2s\tremaining: 44.3s\n\n\n\nbestTest = 13.15124385\n\nbestIteration = 99\n\n\n\n28:\tloss: 13.1512438\tbest: 11.2421194 (25)\ttotal: 19s\tremaining: 44s\n\n\n\nbestTest = 11.24385816\n\nbestIteration = 99\n\n\n\n29:\tloss: 11.2438582\tbest: 11.2421194 (25)\ttotal: 19.8s\tremaining: 43.6s\n\n\n\nbestTest = 13.1623844\n\nbestIteration = 99\n\n\n\n30:\tloss: 13.1623844\tbest: 11.2421194 (25)\ttotal: 20.6s\tremaining: 43.2s\n\n\n\nbestTest = 11.28637357\n\nbestIteration = 99\n\n\n\n31:\tloss: 11.2863736\tbest: 11.2421194 (25)\ttotal: 21.4s\tremaining: 42.8s\n\n\n\nbestTest = 11.99919116\n\nbestIteration = 149\n\n\n\n32:\tloss: 11.9991912\tbest: 11.2421194 (25)\ttotal: 22.6s\tremaining: 43.1s\n\n\n\nbestTest = 10.87215728\n\nbestIteration = 149\n\n\n\n33:\tloss: 10.8721573\tbest: 10.8721573 (33)\ttotal: 23.8s\tremaining: 43.4s\n\n\n\nbestTest = 12.00369079\n\nbestIteration = 149\n\n\n\n34:\tloss: 12.0036908\tbest: 10.8721573 (33)\ttotal: 25s\tremaining: 43.6s\n\n\n\nbestTest = 10.94099173\n\nbestIteration = 149\n\n\n\n35:\tloss: 10.9409917\tbest: 10.8721573 (33)\ttotal: 26.1s\tremaining: 43.6s\n\n\n\nbestTest = 12.01980267\n\nbestIteration = 149\n\n\n\n36:\tloss: 12.0198027\tbest: 10.8721573 (33)\ttotal: 27.4s\tremaining: 43.6s\n\n\n\nbestTest = 10.89559849\n\nbestIteration = 149\n\n\n\n37:\tloss: 10.8955985\tbest: 10.8721573 (33)\ttotal: 28.5s\tremaining: 43.5s\n\n\n\nbestTest = 12.02970559\n\nbestIteration = 149\n\n\n\n38:\tloss: 12.0297056\tbest: 10.8721573 (33)\ttotal: 29.7s\tremaining: 43.4s\n\n\n\nbestTest = 11.00030137\n\nbestIteration = 149\n\n\n\n39:\tloss: 11.0003014\tbest: 10.8721573 (33)\ttotal: 30.8s\tremaining: 43.2s\n\n\n\nbestTest = 11.66530453\n\nbestIteration = 199\n\n\n\n40:\tloss: 11.6653045\tbest: 10.8721573 (33)\ttotal: 32.4s\tremaining: 43.5s\n\n\n\nbestTest = 10.62055029\n\nbestIteration = 199\n\n\n\n41:\tloss: 10.6205503\tbest: 10.6205503 (41)\ttotal: 34.1s\tremaining: 43.9s\n\n\n\nbestTest = 11.69275053\n\nbestIteration = 199\n\n\n\n42:\tloss: 11.6927505\tbest: 10.6205503 (41)\ttotal: 35.7s\tremaining: 44s\n\n\n\nbestTest = 10.72819169\n\nbestIteration = 199\n\n\n\n43:\tloss: 10.7281917\tbest: 10.6205503 (41)\ttotal: 37.2s\tremaining: 44s\n\n\n\nbestTest = 11.68471868\n\nbestIteration = 199\n\n\n\n44:\tloss: 11.6847187\tbest: 10.6205503 (41)\ttotal: 38.8s\tremaining: 44s\n\n\n\nbestTest = 10.70964646\n\nbestIteration = 199\n\n\n\n45:\tloss: 10.7096465\tbest: 10.6205503 (41)\ttotal: 40.3s\tremaining: 43.9s\n\n\n\nbestTest = 11.71958818\n\nbestIteration = 199\n\n\n\n46:\tloss: 11.7195882\tbest: 10.6205503 (41)\ttotal: 41.9s\tremaining: 43.7s\n\n\n\nbestTest = 10.76393978\n\nbestIteration = 199\n\n\n\n47:\tloss: 10.7639398\tbest: 10.6205503 (41)\ttotal: 43.5s\tremaining: 43.5s\n\n\n\nbestTest = 12.72082327\n\nbestIteration = 99\n\n\n\n48:\tloss: 12.7208233\tbest: 10.6205503 (41)\ttotal: 45.3s\tremaining: 43.4s\n\n\n\nbestTest = 10.78122331\n\nbestIteration = 99\n\n\n\n49:\tloss: 10.7812233\tbest: 10.6205503 (41)\ttotal: 47s\tremaining: 43.2s\n\n\n\nbestTest = 12.74772271\n\nbestIteration = 99\n\n\n\n50:\tloss: 12.7477227\tbest: 10.6205503 (41)\ttotal: 48.7s\tremaining: 43s\n\n\n\nbestTest = 10.83790971\n\nbestIteration = 99\n\n\n\n51:\tloss: 10.8379097\tbest: 10.6205503 (41)\ttotal: 50.4s\tremaining: 42.7s\n\n\n\nbestTest = 12.74041191\n\nbestIteration = 99\n\n\n\n52:\tloss: 12.7404119\tbest: 10.6205503 (41)\ttotal: 52.1s\tremaining: 42.3s\n\n\n\nbestTest = 10.77177958\n\nbestIteration = 99\n\n\n\n53:\tloss: 10.7717796\tbest: 10.6205503 (41)\ttotal: 54s\tremaining: 42s\n\n\n\nbestTest = 12.8025642\n\nbestIteration = 99\n\n\n\n54:\tloss: 12.8025642\tbest: 10.6205503 (41)\ttotal: 55.7s\tremaining: 41.5s\n\n\n\nbestTest = 10.87259068\n\nbestIteration = 99\n\n\n\n55:\tloss: 10.8725907\tbest: 10.6205503 (41)\ttotal: 57.5s\tremaining: 41.1s\n\n\n\nbestTest = 11.58321321\n\nbestIteration = 149\n\n\n\n56:\tloss: 11.5832132\tbest: 10.6205503 (41)\ttotal: 1m\tremaining: 41.1s\n\n\n\nbestTest = 10.28690397\n\nbestIteration = 148\n\n\n\n57:\tloss: 10.2869040\tbest: 10.2869040 (57)\ttotal: 1m 2s\tremaining: 41.1s\n\n\n\nbestTest = 11.54859329\n\nbestIteration = 149\n\n\n\n58:\tloss: 11.5485933\tbest: 10.2869040 (57)\ttotal: 1m 5s\tremaining: 41s\n\n\n\nbestTest = 10.38427414\n\nbestIteration = 149\n\n\n\n59:\tloss: 10.3842741\tbest: 10.2869040 (57)\ttotal: 1m 7s\tremaining: 40.8s\n\n\n\nbestTest = 11.56279975\n\nbestIteration = 149\n\n\n\n60:\tloss: 11.5627997\tbest: 10.2869040 (57)\ttotal: 1m 10s\tremaining: 40.5s\n\n\n\nbestTest = 10.35644882\n\nbestIteration = 148\n\n\n\n61:\tloss: 10.3564488\tbest: 10.2869040 (57)\ttotal: 1m 13s\tremaining: 40.2s\n\n\n\nbestTest = 11.63523615\n\nbestIteration = 149\n\n\n\n62:\tloss: 11.6352361\tbest: 10.2869040 (57)\ttotal: 1m 15s\tremaining: 39.7s\n\n\n\nbestTest = 10.35736695\n\nbestIteration = 148\n\n\n\n63:\tloss: 10.3573670\tbest: 10.2869040 (57)\ttotal: 1m 18s\tremaining: 39.2s\n\n\n\nbestTest = 11.16486178\n\nbestIteration = 199\n\n\n\n64:\tloss: 11.1648618\tbest: 10.2869040 (57)\ttotal: 1m 22s\tremaining: 39.2s\n\n\n\nbestTest = 10.00433617\n\nbestIteration = 196\n\n\n\n65:\tloss: 10.0043362\tbest: 10.0043362 (65)\ttotal: 1m 25s\tremaining: 38.9s\n\n\n\nbestTest = 11.15295061\n\nbestIteration = 199\n\n\n\n66:\tloss: 11.1529506\tbest: 10.0043362 (65)\ttotal: 1m 29s\tremaining: 38.6s\n\n\n\nbestTest = 10.12791698\n\nbestIteration = 199\n\n\n\n67:\tloss: 10.1279170\tbest: 10.0043362 (65)\ttotal: 1m 32s\tremaining: 38.1s\n\n\n\nbestTest = 11.1550727\n\nbestIteration = 199\n\n\n\n68:\tloss: 11.1550727\tbest: 10.0043362 (65)\ttotal: 1m 36s\tremaining: 37.6s\n\n\n\nbestTest = 10.0527446\n\nbestIteration = 199\n\n\n\n69:\tloss: 10.0527446\tbest: 10.0043362 (65)\ttotal: 1m 39s\tremaining: 37s\n\n\n\nbestTest = 11.23582957\n\nbestIteration = 199\n\n\n\n70:\tloss: 11.2358296\tbest: 10.0043362 (65)\ttotal: 1m 43s\tremaining: 36.3s\n\n\n\nbestTest = 10.05115371\n\nbestIteration = 193\n\n\n\n71:\tloss: 10.0511537\tbest: 10.0043362 (65)\ttotal: 1m 46s\tremaining: 35.5s\n\n\n\nbestTest = 12.32009879\n\nbestIteration = 99\n\n\n\n72:\tloss: 12.3200988\tbest: 10.0043362 (65)\ttotal: 1m 51s\tremaining: 35.2s\n\n\n\nbestTest = 10.28230498\n\nbestIteration = 99\n\n\n\n73:\tloss: 10.2823050\tbest: 10.0043362 (65)\ttotal: 1m 56s\tremaining: 34.7s\n\n\n\nbestTest = 12.33671566\n\nbestIteration = 99\n\n\n\n74:\tloss: 12.3367157\tbest: 10.0043362 (65)\ttotal: 2m 1s\tremaining: 34.1s\n\n\n\nbestTest = 10.30503178\n\nbestIteration = 99\n\n\n\n75:\tloss: 10.3050318\tbest: 10.0043362 (65)\ttotal: 2m 7s\tremaining: 33.4s\n\n\n\nbestTest = 12.36240557\n\nbestIteration = 99\n\n\n\n76:\tloss: 12.3624056\tbest: 10.0043362 (65)\ttotal: 2m 12s\tremaining: 32.6s\n\n\n\nbestTest = 10.31072404\n\nbestIteration = 99\n\n\n\n77:\tloss: 10.3107240\tbest: 10.0043362 (65)\ttotal: 2m 17s\tremaining: 31.7s\n\n\n\nbestTest = 12.52082379\n\nbestIteration = 99\n\n\n\n78:\tloss: 12.5208238\tbest: 10.0043362 (65)\ttotal: 2m 22s\tremaining: 30.6s\n\n\n\nbestTest = 10.41738909\n\nbestIteration = 99\n\n\n\n79:\tloss: 10.4173891\tbest: 10.0043362 (65)\ttotal: 2m 27s\tremaining: 29.5s\n\n\n\nbestTest = 11.07311845\n\nbestIteration = 149\n\n\n\n80:\tloss: 11.0731185\tbest: 10.0043362 (65)\ttotal: 2m 35s\tremaining: 28.7s\n\n\n\nbestTest = 9.924892905\n\nbestIteration = 147\n\n\n\n81:\tloss: 9.9248929\tbest: 9.9248929 (81)\ttotal: 2m 42s\tremaining: 27.8s\n\n\n\nbestTest = 11.12015093\n\nbestIteration = 149\n\n\n\n82:\tloss: 11.1201509\tbest: 9.9248929 (81)\ttotal: 2m 50s\tremaining: 26.7s\n\n\n\nbestTest = 9.968010041\n\nbestIteration = 149\n\n\n\n83:\tloss: 9.9680100\tbest: 9.9248929 (81)\ttotal: 2m 58s\tremaining: 25.5s\n\n\n\nbestTest = 11.12856161\n\nbestIteration = 149\n\n\n\n84:\tloss: 11.1285616\tbest: 9.9248929 (81)\ttotal: 3m 6s\tremaining: 24.1s\n\n\n\nbestTest = 9.948023707\n\nbestIteration = 149\n\n\n\n85:\tloss: 9.9480237\tbest: 9.9248929 (81)\ttotal: 3m 13s\tremaining: 22.5s\n\n\n\nbestTest = 11.22027754\n\nbestIteration = 149\n\n\n\n86:\tloss: 11.2202775\tbest: 9.9248929 (81)\ttotal: 3m 21s\tremaining: 20.9s\n\n\n\nbestTest = 10.073607\n\nbestIteration = 149\n\n\n\n87:\tloss: 10.0736070\tbest: 9.9248929 (81)\ttotal: 3m 29s\tremaining: 19s\n\n\n\nbestTest = 10.72234838\n\nbestIteration = 199\n\n\n\n88:\tloss: 10.7223484\tbest: 9.9248929 (81)\ttotal: 3m 39s\tremaining: 17.3s\n\n\n\nbestTest = 9.78532771\n\nbestIteration = 199\n\n\n\n89:\tloss: 9.7853277\tbest: 9.7853277 (89)\ttotal: 3m 50s\tremaining: 15.3s\n\n\n\nbestTest = 10.73154044\n\nbestIteration = 199\n\n\n\n90:\tloss: 10.7315404\tbest: 9.7853277 (89)\ttotal: 4m\tremaining: 13.2s\n\n\n\nbestTest = 9.810521978\n\nbestIteration = 199\n\n\n\n91:\tloss: 9.8105220\tbest: 9.7853277 (89)\ttotal: 4m 10s\tremaining: 10.9s\n\n\n\nbestTest = 10.80895218\n\nbestIteration = 199\n\n\n\n92:\tloss: 10.8089522\tbest: 9.7853277 (89)\ttotal: 4m 21s\tremaining: 8.42s\n\n\n\nbestTest = 9.726722725\n\nbestIteration = 199\n\n\n\n93:\tloss: 9.7267227\tbest: 9.7267227 (93)\ttotal: 4m 31s\tremaining: 5.77s\n\n\n\nbestTest = 10.89511235\n\nbestIteration = 199\n\n\n\n94:\tloss: 10.8951124\tbest: 9.7267227 (93)\ttotal: 4m 41s\tremaining: 2.96s\n\n\n\nbestTest = 9.849934737\n\nbestIteration = 199\n\n\n\n95:\tloss: 9.8499347\tbest: 9.7267227 (93)\ttotal: 4m 52s\tremaining: 0us\n\nEstimating final quality...\n\nTraining on fold [0/3]\n\n\n\nbestTest = 9.198949807\n\nbestIteration = 199\n\n\n\nTraining on fold [1/3]\n\n\n\nbestTest = 9.55519052\n\nbestIteration = 199\n\n\n\nTraining on fold [2/3]\n\n\n\nbestTest = 9.320029789\n\nbestIteration = 199\n\n\n"
        }
      ]
    },
    {
      "cell_type": "code",
      "source": "model = CatBoostRegressor(depth=8, iterations=200, learning_rate=0.1, \n                                    l2_leaf_reg=0.2, random_state=12345, verbose=False)\nscores = cross_val_score(model, features, target_rough, cv=5, scoring=score) \nprint('Среднее значение метрики smape модели:', scores.mean())\n# проводим кросс-валидацию CatBoost",
      "metadata": {},
      "execution_count": 49,
      "outputs": [
        {
          "name": "stdout",
          "output_type": "stream",
          "text": "Среднее значение метрики smape модели: -13.534432460366265\n"
        }
      ]
    },
    {
      "cell_type": "markdown",
      "source": "Примечание.\n\nПоскольку в CatBoost мне не удалось прикрутить нашу кастомную метрику SMAPE, я сначала подобрал гиперпараметры, а потом по ним провёл кросс-валидацию, но результат всё равно получился не очень.",
      "metadata": {}
    },
    {
      "cell_type": "markdown",
      "source": "#### Lasso",
      "metadata": {}
    },
    {
      "cell_type": "code",
      "source": "model = linear_model.Lasso(random_state=12345)\nscores = cross_val_score(model, features, target_rough, cv=5, scoring=score) \nprint('Среднее значение метрики smape модели:', scores.mean())\n# проводим кросс-валидацию Lasso",
      "metadata": {},
      "execution_count": 50,
      "outputs": [
        {
          "name": "stdout",
          "output_type": "stream",
          "text": "Среднее значение метрики smape модели: -11.391787268947272\n"
        }
      ]
    },
    {
      "cell_type": "markdown",
      "source": "#### Ridge",
      "metadata": {}
    },
    {
      "cell_type": "code",
      "source": "model = Ridge(random_state=12345)\nscores = cross_val_score(model, features, target_rough, cv=5, scoring=score) \nprint('Среднее значение метрики smape модели:', scores.mean())\n# проводим кросс-валидацию Ridge",
      "metadata": {},
      "execution_count": 51,
      "outputs": [
        {
          "name": "stdout",
          "output_type": "stream",
          "text": "Среднее значение метрики smape модели: -12.766475704511997\n"
        }
      ]
    },
    {
      "cell_type": "markdown",
      "source": "#### ElasticNet",
      "metadata": {}
    },
    {
      "cell_type": "code",
      "source": "model = ElasticNet(random_state=12345)\nscores = cross_val_score(model, features, target_rough, cv=5, scoring=score) \nprint('Среднее значение метрики smape модели:', scores.mean())\n# проводим кросс-валидацию ElasticNet",
      "metadata": {},
      "execution_count": 52,
      "outputs": [
        {
          "name": "stdout",
          "output_type": "stream",
          "text": "Среднее значение метрики smape модели: -11.35093768848964\n"
        }
      ]
    },
    {
      "cell_type": "markdown",
      "source": "#### Вывод.\n\nНесмотря на широкий выбор, лучшее значение метрики всё равно показывает модель Случайный лес, её и примем как основную.\n\nВполне возможно, если поработать над признаками и гиперпараметрами моделей, победил бы кто-нибудь другой, но это отдельная задача.",
      "metadata": {}
    },
    {
      "cell_type": "markdown",
      "source": "### Выбор модели для финального этапа",
      "metadata": {}
    },
    {
      "cell_type": "markdown",
      "source": "#### Дерево Решений",
      "metadata": {}
    },
    {
      "cell_type": "code",
      "source": "dtr = DecisionTreeRegressor(random_state=12345)\nparam_grid = { \n    'max_depth': range(1, 11),\n}\n\nCV_dtr = GridSearchCV(estimator=dtr, param_grid=param_grid, scoring=score, cv=5)\nCV_dtr.fit(features, target_final)\nprint('Лучшие гиперпараметры модели:', CV_dtr.best_params_)\nprint('Лучшее значение метрики smape:', CV_dtr.best_score_)\n# подбираем лучшие гиперпараметры и проводим кросс-валидацию методом GridSearch",
      "metadata": {},
      "execution_count": 53,
      "outputs": [
        {
          "name": "stdout",
          "output_type": "stream",
          "text": "Лучшие гиперпараметры модели: {'max_depth': 2}\n\nЛучшее значение метрики smape: -10.81997032977577\n"
        }
      ]
    },
    {
      "cell_type": "markdown",
      "source": "#### Случайный Лес",
      "metadata": {}
    },
    {
      "cell_type": "code",
      "source": "rfr = RandomForestRegressor(random_state=12345)\nparam_grid = { \n    'n_estimators': range(1, 21),\n    'max_depth': range(1, 11)\n}\n\nCV_rfr = RandomizedSearchCV(rfr, param_grid, scoring=score, cv=5)\nCV_rfr.fit(features, target_final)\nprint('Лучшие гиперпараметры модели:', CV_rfr.best_params_)\nprint('Лучшее значение метрики smape модели:', CV_rfr.best_score_)\n# подбираем лучшие гиперпараметры и проводим кросс-валидацию методом RandomSearch",
      "metadata": {},
      "execution_count": null,
      "outputs": []
    },
    {
      "cell_type": "markdown",
      "source": "#### Линейная Регрессия",
      "metadata": {}
    },
    {
      "cell_type": "code",
      "source": "model = LinearRegression()\nscores = cross_val_score(model, features, target_final, cv=5, scoring=score) \nprint('Среднее значение метрики smape модели:', scores.mean())\n# проводим кросс-валидацию линейной регрессии",
      "metadata": {},
      "execution_count": null,
      "outputs": []
    },
    {
      "cell_type": "markdown",
      "source": "#### CatBoost",
      "metadata": {}
    },
    {
      "cell_type": "code",
      "source": "cbr = CatBoostRegressor(random_state=12345, verbose=False)\ntrain_dataset = cb.Pool(features, target_final)\ngrid = {'iterations': [100, 150, 200],\n        'learning_rate': [0.03, 0.1],\n        'depth': [2, 4, 6, 8],\n        'l2_leaf_reg': [0.2, 0.5, 1, 3]}\nCV_cbr = cbr.grid_search(grid, train_dataset)",
      "metadata": {},
      "execution_count": 56,
      "outputs": [
        {
          "name": "stdout",
          "output_type": "stream",
          "text": "\n\nbestTest = 7.938587354\n\nbestIteration = 99\n\n\n\n1:\tloss: 7.9385874\tbest: 7.9385874 (1)\ttotal: 1.3s\tremaining: 1m 1s\n\n\n\nbestTest = 9.190914955\n\nbestIteration = 99\n\n\n\n2:\tloss: 9.1909150\tbest: 7.9385874 (1)\ttotal: 1.71s\tremaining: 53s\n\n\n\nbestTest = 7.941851553\n\nbestIteration = 99\n\n\n\n3:\tloss: 7.9418516\tbest: 7.9385874 (1)\ttotal: 2.11s\tremaining: 48.4s\n\n\n\nbestTest = 9.193026146\n\nbestIteration = 99\n\n\n\n4:\tloss: 9.1930261\tbest: 7.9385874 (1)\ttotal: 2.5s\tremaining: 45.5s\n\n\n\nbestTest = 7.915185042\n\nbestIteration = 99\n\n\n\n5:\tloss: 7.9151850\tbest: 7.9151850 (5)\ttotal: 2.88s\tremaining: 43.3s\n\n\n\nbestTest = 9.195367262\n\nbestIteration = 99\n\n\n\n6:\tloss: 9.1953673\tbest: 7.9151850 (5)\ttotal: 3.28s\tremaining: 41.7s\n\n\n\nbestTest = 7.930615153\n\nbestIteration = 99\n\n\n\n7:\tloss: 7.9306152\tbest: 7.9151850 (5)\ttotal: 3.7s\tremaining: 40.7s\n\n\n\nbestTest = 8.276986575\n\nbestIteration = 149\n\n\n\n8:\tloss: 8.2769866\tbest: 7.9151850 (5)\ttotal: 4.33s\tremaining: 41.8s\n\n\n\nbestTest = 7.815108406\n\nbestIteration = 145\n\n\n\n9:\tloss: 7.8151084\tbest: 7.8151084 (9)\ttotal: 4.9s\tremaining: 42.2s\n\n\n\nbestTest = 8.279272319\n\nbestIteration = 149\n\n\n\n10:\tloss: 8.2792723\tbest: 7.8151084 (9)\ttotal: 5.52s\tremaining: 42.7s\n\n\n\nbestTest = 7.819534687\n\nbestIteration = 138\n\n\n\n11:\tloss: 7.8195347\tbest: 7.8151084 (9)\ttotal: 6.13s\tremaining: 42.9s\n\n\n\nbestTest = 8.284463958\n\nbestIteration = 149\n\n\n\n12:\tloss: 8.2844640\tbest: 7.8151084 (9)\ttotal: 6.71s\tremaining: 42.9s\n\n\n\nbestTest = 7.791992265\n\nbestIteration = 149\n\n\n\n13:\tloss: 7.7919923\tbest: 7.7919923 (13)\ttotal: 7.32s\tremaining: 42.8s\n\n\n\nbestTest = 8.287491497\n\nbestIteration = 149\n\n\n\n14:\tloss: 8.2874915\tbest: 7.7919923 (13)\ttotal: 7.92s\tremaining: 42.8s\n\n\n\nbestTest = 7.787000135\n\nbestIteration = 149\n\n\n\n15:\tloss: 7.7870001\tbest: 7.7870001 (15)\ttotal: 8.52s\tremaining: 42.6s\n\n\n\nbestTest = 8.082681139\n\nbestIteration = 199\n\n\n\n16:\tloss: 8.0826811\tbest: 7.7870001 (15)\ttotal: 9.32s\tremaining: 43.3s\n\n\n\nbestTest = 7.736050057\n\nbestIteration = 199\n\n\n\n17:\tloss: 7.7360501\tbest: 7.7360501 (17)\ttotal: 10.1s\tremaining: 43.8s\n\n\n\nbestTest = 8.085386318\n\nbestIteration = 199\n\n\n\n18:\tloss: 8.0853863\tbest: 7.7360501 (17)\ttotal: 10.9s\tremaining: 44.2s\n\n\n\nbestTest = 7.753492644\n\nbestIteration = 199\n\n\n\n19:\tloss: 7.7534926\tbest: 7.7360501 (17)\ttotal: 11.7s\tremaining: 44.4s\n\n\n\nbestTest = 8.090126852\n\nbestIteration = 199\n\n\n\n20:\tloss: 8.0901269\tbest: 7.7360501 (17)\ttotal: 12.5s\tremaining: 44.6s\n\n\n\nbestTest = 7.712585996\n\nbestIteration = 199\n\n\n\n21:\tloss: 7.7125860\tbest: 7.7125860 (21)\ttotal: 13.2s\tremaining: 44.5s\n\n\n\nbestTest = 8.099134901\n\nbestIteration = 199\n\n\n\n22:\tloss: 8.0991349\tbest: 7.7125860 (21)\ttotal: 14.1s\tremaining: 44.6s\n\n\n\nbestTest = 7.709276156\n\nbestIteration = 199\n\n\n\n23:\tloss: 7.7092762\tbest: 7.7092762 (23)\ttotal: 14.8s\tremaining: 44.5s\n\n\n\nbestTest = 8.887976618\n\nbestIteration = 99\n\n\n\n24:\tloss: 8.8879766\tbest: 7.7092762 (23)\ttotal: 15.7s\tremaining: 44.5s\n\n\n\nbestTest = 7.420121306\n\nbestIteration = 98\n\n\n\n25:\tloss: 7.4201213\tbest: 7.4201213 (25)\ttotal: 16.4s\tremaining: 44.2s\n\n\n\nbestTest = 8.89017313\n\nbestIteration = 99\n\n\n\n26:\tloss: 8.8901731\tbest: 7.4201213 (25)\ttotal: 17.2s\tremaining: 44s\n\n\n\nbestTest = 7.500018443\n\nbestIteration = 98\n\n\n\n27:\tloss: 7.5000184\tbest: 7.4201213 (25)\ttotal: 18s\tremaining: 43.7s\n\n\n\nbestTest = 8.890650654\n\nbestIteration = 99\n\n\n\n28:\tloss: 8.8906507\tbest: 7.4201213 (25)\ttotal: 18.8s\tremaining: 43.4s\n\n\n\nbestTest = 7.488366\n\nbestIteration = 97\n\n\n\n29:\tloss: 7.4883660\tbest: 7.4201213 (25)\ttotal: 19.6s\tremaining: 43s\n\n\n\nbestTest = 8.904953782\n\nbestIteration = 99\n\n\n\n30:\tloss: 8.9049538\tbest: 7.4201213 (25)\ttotal: 20.3s\tremaining: 42.7s\n\n\n\nbestTest = 7.53438595\n\nbestIteration = 98\n\n\n\n31:\tloss: 7.5343860\tbest: 7.4201213 (25)\ttotal: 21.1s\tremaining: 42.3s\n\n\n\nbestTest = 7.971861128\n\nbestIteration = 149\n\n\n\n32:\tloss: 7.9718611\tbest: 7.4201213 (25)\ttotal: 22.3s\tremaining: 42.6s\n\n\n\nbestTest = 7.215311384\n\nbestIteration = 149\n\n\n\n33:\tloss: 7.2153114\tbest: 7.2153114 (33)\ttotal: 23.4s\tremaining: 42.7s\n\n\n\nbestTest = 7.97570931\n\nbestIteration = 149\n\n\n\n34:\tloss: 7.9757093\tbest: 7.2153114 (33)\ttotal: 24.7s\tremaining: 43s\n\n\n\nbestTest = 7.32533681\n\nbestIteration = 141\n\n\n\n35:\tloss: 7.3253368\tbest: 7.2153114 (33)\ttotal: 25.8s\tremaining: 43s\n\n\n\nbestTest = 7.971580401\n\nbestIteration = 149\n\n\n\n36:\tloss: 7.9715804\tbest: 7.2153114 (33)\ttotal: 27s\tremaining: 43s\n\n\n\nbestTest = 7.280494065\n\nbestIteration = 146\n\n\n\n37:\tloss: 7.2804941\tbest: 7.2153114 (33)\ttotal: 28.1s\tremaining: 42.9s\n\n\n\nbestTest = 7.987656352\n\nbestIteration = 149\n\n\n\n38:\tloss: 7.9876564\tbest: 7.2153114 (33)\ttotal: 29.3s\tremaining: 42.8s\n\n\n\nbestTest = 7.350822259\n\nbestIteration = 149\n\n\n\n39:\tloss: 7.3508223\tbest: 7.2153114 (33)\ttotal: 30.4s\tremaining: 42.6s\n\n\n\nbestTest = 7.781802038\n\nbestIteration = 199\n\n\n\n40:\tloss: 7.7818020\tbest: 7.2153114 (33)\ttotal: 32s\tremaining: 42.9s\n\n\n\nbestTest = 7.115129483\n\nbestIteration = 199\n\n\n\n41:\tloss: 7.1151295\tbest: 7.1151295 (41)\ttotal: 33.5s\tremaining: 43.1s\n\n\n\nbestTest = 7.793751424\n\nbestIteration = 199\n\n\n\n42:\tloss: 7.7937514\tbest: 7.1151295 (41)\ttotal: 35.2s\tremaining: 43.3s\n\n\n\nbestTest = 7.200627306\n\nbestIteration = 199\n\n\n\n43:\tloss: 7.2006273\tbest: 7.1151295 (41)\ttotal: 36.7s\tremaining: 43.3s\n\n\n\nbestTest = 7.785031842\n\nbestIteration = 199\n\n\n\n44:\tloss: 7.7850318\tbest: 7.1151295 (41)\ttotal: 38.2s\tremaining: 43.3s\n\n\n\nbestTest = 7.162563924\n\nbestIteration = 199\n\n\n\n45:\tloss: 7.1625639\tbest: 7.1151295 (41)\ttotal: 39.7s\tremaining: 43.2s\n\n\n\nbestTest = 7.795726798\n\nbestIteration = 199\n\n\n\n46:\tloss: 7.7957268\tbest: 7.1151295 (41)\ttotal: 41.3s\tremaining: 43s\n\n\n\nbestTest = 7.230694515\n\nbestIteration = 199\n\n\n\n47:\tloss: 7.2306945\tbest: 7.1151295 (41)\ttotal: 42.8s\tremaining: 42.8s\n\n\n\nbestTest = 8.630888336\n\nbestIteration = 99\n\n\n\n48:\tloss: 8.6308883\tbest: 7.1151295 (41)\ttotal: 44.6s\tremaining: 42.8s\n\n\n\nbestTest = 7.280347456\n\nbestIteration = 99\n\n\n\n49:\tloss: 7.2803475\tbest: 7.1151295 (41)\ttotal: 46.3s\tremaining: 42.6s\n\n\n\nbestTest = 8.648157897\n\nbestIteration = 99\n\n\n\n50:\tloss: 8.6481579\tbest: 7.1151295 (41)\ttotal: 48.1s\tremaining: 42.4s\n\n\n\nbestTest = 7.271691951\n\nbestIteration = 99\n\n\n\n51:\tloss: 7.2716920\tbest: 7.1151295 (41)\ttotal: 49.8s\tremaining: 42.1s\n\n\n\nbestTest = 8.664896678\n\nbestIteration = 99\n\n\n\n52:\tloss: 8.6648967\tbest: 7.1151295 (41)\ttotal: 51.6s\tremaining: 41.9s\n\n\n\nbestTest = 7.350938261\n\nbestIteration = 99\n\n\n\n53:\tloss: 7.3509383\tbest: 7.1151295 (41)\ttotal: 53.3s\tremaining: 41.5s\n\n\n\nbestTest = 8.705883195\n\nbestIteration = 99\n\n\n\n54:\tloss: 8.7058832\tbest: 7.1151295 (41)\ttotal: 55.2s\tremaining: 41.1s\n\n\n\nbestTest = 7.367451894\n\nbestIteration = 99\n\n\n\n55:\tloss: 7.3674519\tbest: 7.1151295 (41)\ttotal: 56.9s\tremaining: 40.6s\n\n\n\nbestTest = 7.663909707\n\nbestIteration = 149\n\n\n\n56:\tloss: 7.6639097\tbest: 7.1151295 (41)\ttotal: 59.6s\tremaining: 40.8s\n\n\n\nbestTest = 7.09284661\n\nbestIteration = 149\n\n\n\n57:\tloss: 7.0928466\tbest: 7.0928466 (57)\ttotal: 1m 2s\tremaining: 40.8s\n\n\n\nbestTest = 7.663386853\n\nbestIteration = 149\n\n\n\n58:\tloss: 7.6633869\tbest: 7.0928466 (57)\ttotal: 1m 5s\tremaining: 40.8s\n\n\n\nbestTest = 7.057901395\n\nbestIteration = 149\n\n\n\n59:\tloss: 7.0579014\tbest: 7.0579014 (59)\ttotal: 1m 7s\tremaining: 40.5s\n\n\n\nbestTest = 7.679215386\n\nbestIteration = 149\n\n\n\n60:\tloss: 7.6792154\tbest: 7.0579014 (59)\ttotal: 1m 10s\tremaining: 40.2s\n\n\n\nbestTest = 7.124327561\n\nbestIteration = 149\n\n\n\n61:\tloss: 7.1243276\tbest: 7.0579014 (59)\ttotal: 1m 12s\tremaining: 39.9s\n\n\n\nbestTest = 7.715354952\n\nbestIteration = 149\n\n\n\n62:\tloss: 7.7153550\tbest: 7.0579014 (59)\ttotal: 1m 15s\tremaining: 39.5s\n\n\n\nbestTest = 7.145969464\n\nbestIteration = 147\n\n\n\n63:\tloss: 7.1459695\tbest: 7.0579014 (59)\ttotal: 1m 17s\tremaining: 38.9s\n\n\n\nbestTest = 7.467971625\n\nbestIteration = 199\n\n\n\n64:\tloss: 7.4679716\tbest: 7.0579014 (59)\ttotal: 1m 21s\tremaining: 38.8s\n\n\n\nbestTest = 6.997335524\n\nbestIteration = 199\n\n\n\n65:\tloss: 6.9973355\tbest: 6.9973355 (65)\ttotal: 1m 24s\tremaining: 38.5s\n\n\n\nbestTest = 7.458708298\n\nbestIteration = 199\n\n\n\n66:\tloss: 7.4587083\tbest: 6.9973355 (65)\ttotal: 1m 28s\tremaining: 38.2s\n\n\n\nbestTest = 6.924218301\n\nbestIteration = 199\n\n\n\n67:\tloss: 6.9242183\tbest: 6.9242183 (67)\ttotal: 1m 31s\tremaining: 37.7s\n\n\n\nbestTest = 7.48046739\n\nbestIteration = 199\n\n\n\n68:\tloss: 7.4804674\tbest: 6.9242183 (67)\ttotal: 1m 35s\tremaining: 37.2s\n\n\n\nbestTest = 6.991408435\n\nbestIteration = 197\n\n\n\n69:\tloss: 6.9914084\tbest: 6.9242183 (67)\ttotal: 1m 38s\tremaining: 36.6s\n\n\n\nbestTest = 7.51663634\n\nbestIteration = 199\n\n\n\n70:\tloss: 7.5166363\tbest: 6.9242183 (67)\ttotal: 1m 42s\tremaining: 35.9s\n\n\n\nbestTest = 7.044956684\n\nbestIteration = 199\n\n\n\n71:\tloss: 7.0449567\tbest: 6.9242183 (67)\ttotal: 1m 45s\tremaining: 35.2s\n\n\n\nbestTest = 8.435125079\n\nbestIteration = 99\n\n\n\n72:\tloss: 8.4351251\tbest: 6.9242183 (67)\ttotal: 1m 50s\tremaining: 34.9s\n\n\n\nbestTest = 7.099240894\n\nbestIteration = 99\n\n\n\n73:\tloss: 7.0992409\tbest: 6.9242183 (67)\ttotal: 1m 55s\tremaining: 34.5s\n\n\n\nbestTest = 8.452652196\n\nbestIteration = 99\n\n\n\n74:\tloss: 8.4526522\tbest: 6.9242183 (67)\ttotal: 2m 1s\tremaining: 33.9s\n\n\n\nbestTest = 7.111615035\n\nbestIteration = 99\n\n\n\n75:\tloss: 7.1116150\tbest: 6.9242183 (67)\ttotal: 2m 6s\tremaining: 33.3s\n\n\n\nbestTest = 8.507155445\n\nbestIteration = 99\n\n\n\n76:\tloss: 8.5071554\tbest: 6.9242183 (67)\ttotal: 2m 11s\tremaining: 32.5s\n\n\n\nbestTest = 7.14986851\n\nbestIteration = 97\n\n\n\n77:\tloss: 7.1498685\tbest: 6.9242183 (67)\ttotal: 2m 16s\tremaining: 31.6s\n\n\n\nbestTest = 8.588606623\n\nbestIteration = 99\n\n\n\n78:\tloss: 8.5886066\tbest: 6.9242183 (67)\ttotal: 2m 21s\tremaining: 30.5s\n\n\n\nbestTest = 7.180850911\n\nbestIteration = 99\n\n\n\n79:\tloss: 7.1808509\tbest: 6.9242183 (67)\ttotal: 2m 27s\tremaining: 29.4s\n\n\n\nbestTest = 7.475616324\n\nbestIteration = 149\n\n\n\n80:\tloss: 7.4756163\tbest: 6.9242183 (67)\ttotal: 2m 35s\tremaining: 28.7s\n\n\n\nbestTest = 6.938816855\n\nbestIteration = 149\n\n\n\n81:\tloss: 6.9388169\tbest: 6.9242183 (67)\ttotal: 2m 42s\tremaining: 27.8s\n\n\n\nbestTest = 7.497566799\n\nbestIteration = 149\n\n\n\n82:\tloss: 7.4975668\tbest: 6.9242183 (67)\ttotal: 2m 50s\tremaining: 26.7s\n\n\n\nbestTest = 6.902283304\n\nbestIteration = 148\n\n\n\n83:\tloss: 6.9022833\tbest: 6.9022833 (83)\ttotal: 2m 58s\tremaining: 25.5s\n\n\n\nbestTest = 7.52300254\n\nbestIteration = 149\n\n\n\n84:\tloss: 7.5230025\tbest: 6.9022833 (83)\ttotal: 3m 6s\tremaining: 24.1s\n\n\n\nbestTest = 6.931268978\n\nbestIteration = 148\n\n\n\n85:\tloss: 6.9312690\tbest: 6.9022833 (83)\ttotal: 3m 13s\tremaining: 22.5s\n\n\n\nbestTest = 7.572850363\n\nbestIteration = 149\n\n\n\n86:\tloss: 7.5728504\tbest: 6.9022833 (83)\ttotal: 3m 21s\tremaining: 20.9s\n\n\n\nbestTest = 7.034328255\n\nbestIteration = 149\n\n\n\n87:\tloss: 7.0343283\tbest: 6.9022833 (83)\ttotal: 3m 29s\tremaining: 19s\n\n\n\nbestTest = 7.261414082\n\nbestIteration = 199\n\n\n\n88:\tloss: 7.2614141\tbest: 6.9022833 (83)\ttotal: 3m 39s\tremaining: 17.3s\n\n\n\nbestTest = 6.848811679\n\nbestIteration = 199\n\n\n\n89:\tloss: 6.8488117\tbest: 6.8488117 (89)\ttotal: 3m 49s\tremaining: 15.3s\n\n\n\nbestTest = 7.302207455\n\nbestIteration = 199\n\n\n\n90:\tloss: 7.3022075\tbest: 6.8488117 (89)\ttotal: 4m\tremaining: 13.2s\n\n\n\nbestTest = 6.782142135\n\nbestIteration = 199\n\n\n\n91:\tloss: 6.7821421\tbest: 6.7821421 (91)\ttotal: 4m 10s\tremaining: 10.9s\n\n\n\nbestTest = 7.300130403\n\nbestIteration = 199\n\n\n\n92:\tloss: 7.3001304\tbest: 6.7821421 (91)\ttotal: 4m 20s\tremaining: 8.41s\n\n\n\nbestTest = 6.794652939\n\nbestIteration = 199\n\n\n\n93:\tloss: 6.7946529\tbest: 6.7821421 (91)\ttotal: 4m 31s\tremaining: 5.77s\n\n\n\nbestTest = 7.363137975\n\nbestIteration = 199\n\n\n\n94:\tloss: 7.3631380\tbest: 6.7821421 (91)\ttotal: 4m 41s\tremaining: 2.96s\n\n\n\nbestTest = 6.910148946\n\nbestIteration = 199\n\n\n\n95:\tloss: 6.9101489\tbest: 6.7821421 (91)\ttotal: 4m 51s\tremaining: 0us\n\nEstimating final quality...\n\nTraining on fold [0/3]\n\n\n\nbestTest = 6.982748409\n\nbestIteration = 197\n\n\n\nTraining on fold [1/3]\n\n\n\nbestTest = 7.464806395\n\nbestIteration = 199\n\n\n\nTraining on fold [2/3]\n\n\n\nbestTest = 7.147791477\n\nbestIteration = 199\n\n\n"
        }
      ]
    },
    {
      "cell_type": "code",
      "source": "model = CatBoostRegressor(depth=8, iterations=200, learning_rate=0.1, \n                                    l2_leaf_reg=0.2, random_state=12345, verbose=False)\nscores = cross_val_score(model, features, target_final, cv=5, scoring=score) \nprint('Среднее значение метрики smape модели:', scores.mean())\n# проводим кросс-валидацию CatBoost",
      "metadata": {},
      "execution_count": 57,
      "outputs": [
        {
          "name": "stdout",
          "output_type": "stream",
          "text": "Среднее значение метрики smape модели: -10.999878562345888\n"
        }
      ]
    },
    {
      "cell_type": "markdown",
      "source": "#### Lasso",
      "metadata": {}
    },
    {
      "cell_type": "code",
      "source": "model = linear_model.Lasso(random_state=12345)\nscores = cross_val_score(model, features, target_final, cv=5, scoring=score) \nprint('Среднее значение метрики smape модели:', scores.mean())\n# проводим кросс-валидацию Lasso",
      "metadata": {},
      "execution_count": 58,
      "outputs": [
        {
          "name": "stdout",
          "output_type": "stream",
          "text": "Среднее значение метрики smape модели: -11.544654220096094\n"
        }
      ]
    },
    {
      "cell_type": "markdown",
      "source": "#### Ridge",
      "metadata": {}
    },
    {
      "cell_type": "code",
      "source": "model = Ridge(random_state=12345)\nscores = cross_val_score(model, features, target_final, cv=5, scoring=score) \nprint('Среднее значение метрики smape модели:', scores.mean())\n# проводим кросс-валидацию Ridge",
      "metadata": {},
      "execution_count": 59,
      "outputs": [
        {
          "name": "stdout",
          "output_type": "stream",
          "text": "Среднее значение метрики smape модели: -12.26814219478015\n"
        }
      ]
    },
    {
      "cell_type": "markdown",
      "source": "#### ElasticNet",
      "metadata": {}
    },
    {
      "cell_type": "code",
      "source": "model = ElasticNet(random_state=12345)\nscores = cross_val_score(model, features, target_final, cv=5, scoring=score) \nprint('Среднее значение метрики smape модели:', scores.mean())\n# проводим кросс-валидацию ElasticNet",
      "metadata": {},
      "execution_count": 60,
      "outputs": [
        {
          "name": "stdout",
          "output_type": "stream",
          "text": "Среднее значение метрики smape модели: -11.487154639930992\n"
        }
      ]
    },
    {
      "cell_type": "markdown",
      "source": "#### Вывод.\n\nОпять же, лучшее значение метрики показывает Случайный лес, поэтому также остановим свой выбор на этой модели.",
      "metadata": {}
    },
    {
      "cell_type": "markdown",
      "source": "### Обучение и проверка лучших моделей на тестовой сборке",
      "metadata": {}
    },
    {
      "cell_type": "markdown",
      "source": "#### Этап флотации",
      "metadata": {}
    },
    {
      "cell_type": "code",
      "source": "model_rough = RandomForestRegressor(n_estimators=13, max_depth=5, random_state=12345)\nmodel_rough.fit(features, target_rough)\npredictions_rough = model_rough.predict(df_test)\nsmape_rough = smape(df_full_rough, predictions_rough)\nprint('smape этапа флотации:', smape_rough)\n# проверяем выбранную нами модели с подобранными гиперпараметрами на тестовой выборке",
      "metadata": {},
      "execution_count": 61,
      "outputs": [
        {
          "name": "stdout",
          "output_type": "stream",
          "text": "smape этапа флотации: 10.490887582254839\n"
        }
      ]
    },
    {
      "cell_type": "markdown",
      "source": "#### Финальный этап",
      "metadata": {}
    },
    {
      "cell_type": "code",
      "source": "model_final = RandomForestRegressor(n_estimators=13, max_depth=4, random_state=12345)\nmodel_final.fit(features, target_final)\npredictions_final = model_final.predict(df_test)\nsmape_final = smape(df_full_final, predictions_final)\nprint('smape финального этапа:', smape_final)\n# проверяем выбранную нами модель на тестовой выборке",
      "metadata": {},
      "execution_count": 62,
      "outputs": [
        {
          "name": "stdout",
          "output_type": "stream",
          "text": "smape финального этапа: 9.362177898797668\n"
        }
      ]
    },
    {
      "cell_type": "markdown",
      "source": "### Расчет итогового sMAPE",
      "metadata": {}
    },
    {
      "cell_type": "code",
      "source": "sMAPE = 0.25 * smape_rough + 0.75 * smape_final\nprint('Итоговое значение sMAPE:', sMAPE)\n# считаем итоговое значение метрики sMAPE",
      "metadata": {},
      "execution_count": 63,
      "outputs": [
        {
          "name": "stdout",
          "output_type": "stream",
          "text": "Итоговое значение sMAPE: 9.644355319661962\n"
        }
      ]
    },
    {
      "cell_type": "markdown",
      "source": "### Сравнение с константной моделью",
      "metadata": {}
    },
    {
      "cell_type": "markdown",
      "source": "Чтобы оценить, насколько хорошие предсказания дают наши модели, сравним их с простой константной моделью DummyRegressor",
      "metadata": {}
    },
    {
      "cell_type": "code",
      "source": "dummy_model_rough = DummyRegressor()\ndummy_model_rough.fit(features, target_rough)\npredictions_rough = dummy_model_rough.predict(df_test)\ndummy_smape_rough = smape(df_full_rough, predictions_rough)\nprint('dummy_smape этапа флотации:', dummy_smape_rough)",
      "metadata": {},
      "execution_count": 64,
      "outputs": [
        {
          "name": "stdout",
          "output_type": "stream",
          "text": "dummy_smape этапа флотации: 10.379799283438494\n"
        }
      ]
    },
    {
      "cell_type": "code",
      "source": "dummy_model_final = DummyRegressor(strategy='mean')\ndummy_model_final.fit(features, target_final)\npredictions_final = dummy_model_final.predict(df_test)\ndummy_smape_final = smape(df_full_final[df_test.index], predictions_final)\nprint('dummy_smape финального этапа:', dummy_smape_final)\n# проверяем выбранную нами модель на тестовой выборке",
      "metadata": {},
      "execution_count": 65,
      "outputs": [
        {
          "name": "stdout",
          "output_type": "stream",
          "text": "dummy_smape финального этапа: 10.25957407354855\n"
        }
      ]
    },
    {
      "cell_type": "code",
      "source": "dummy_sMAPE = 0.25 * dummy_smape_rough + 0.75 * dummy_smape_final\nprint('Итоговое значение dummy_sMAPE:', dummy_sMAPE)\n# считаем итоговое значение метрики sMAPE",
      "metadata": {},
      "execution_count": 66,
      "outputs": [
        {
          "name": "stdout",
          "output_type": "stream",
          "text": "Итоговое значение dummy_sMAPE: 10.289630376021035\n"
        }
      ]
    },
    {
      "cell_type": "markdown",
      "source": "## Вывод.\n\n",
      "metadata": {}
    },
    {
      "cell_type": "markdown",
      "source": "Нами были открыты, подготовлены и исследованы датасеты и данные в них.\n\nДля оценки эффективности моделей была создана метрика SMAPE.\n\nНа основе данных было обучено и проверено несколько моделей, подобраны гиперпараметры, показывающие лучшие значения метрик и проведена кросс-валидация. \n\nПо итогам этого, были выбрана модель Случаный лес с разными значениями гиперпараметров для этапа флотации и финального этапа. \n\nМодели были проверены на тестовой выборке, по результатам работы моделей рассчитана итоговое значение метрики SMAPE.\n\nДля оценки адекватности полученных результатов, мы сравнили наши модели с базовой моделью DummyRegressor. Не сказать, что преимущество нашей модели ошеломляющее, но всё же оно есть, так что её выбор оправдан.\n\nДанные модели можно использовать в работе для того, чтобы ещё до проведения различных этапов очистки и следующих за ними замеров концетрации различных веществ, в первую очередь золота, зная только входные данные, уже примерно понимать что мы получим на выходе. \n\nЭто может помочь спрогнозировать объёмы производства, загрузку на различных этапах и другие производственные и коммерческие показатели.",
      "metadata": {}
    }
  ]
}