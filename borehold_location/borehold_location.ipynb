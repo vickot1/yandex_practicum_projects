{
  "metadata": {
    "ExecuteTimeLog": [
      {
        "duration": 340,
        "start_time": "2022-07-15T10:52:39.344Z"
      },
      {
        "duration": 929,
        "start_time": "2022-07-15T10:53:28.978Z"
      },
      {
        "duration": 148,
        "start_time": "2022-07-15T10:53:53.190Z"
      },
      {
        "duration": 18,
        "start_time": "2022-07-15T10:54:04.803Z"
      },
      {
        "duration": 14,
        "start_time": "2022-07-15T10:54:28.437Z"
      },
      {
        "duration": 38,
        "start_time": "2022-07-15T10:54:47.991Z"
      },
      {
        "duration": 9,
        "start_time": "2022-07-15T10:55:00.878Z"
      },
      {
        "duration": 40,
        "start_time": "2022-07-15T10:55:23.536Z"
      },
      {
        "duration": 582,
        "start_time": "2022-07-15T10:57:44.403Z"
      },
      {
        "duration": 14,
        "start_time": "2022-07-15T10:57:59.086Z"
      },
      {
        "duration": 9,
        "start_time": "2022-07-15T10:58:09.801Z"
      },
      {
        "duration": 17,
        "start_time": "2022-07-15T10:58:30.523Z"
      },
      {
        "duration": 46,
        "start_time": "2022-07-15T10:58:42.558Z"
      },
      {
        "duration": 621,
        "start_time": "2022-07-15T10:59:21.078Z"
      },
      {
        "duration": 17,
        "start_time": "2022-07-15T10:59:31.512Z"
      },
      {
        "duration": 10,
        "start_time": "2022-07-15T10:59:43.183Z"
      },
      {
        "duration": 12,
        "start_time": "2022-07-15T10:59:58.354Z"
      },
      {
        "duration": 46,
        "start_time": "2022-07-15T11:00:15.128Z"
      },
      {
        "duration": 693,
        "start_time": "2022-07-15T11:07:46.205Z"
      },
      {
        "duration": 4,
        "start_time": "2022-07-15T11:10:06.991Z"
      },
      {
        "duration": 5,
        "start_time": "2022-07-15T11:15:37.630Z"
      },
      {
        "duration": 12,
        "start_time": "2022-07-15T11:16:36.684Z"
      },
      {
        "duration": 25,
        "start_time": "2022-07-15T11:17:17.302Z"
      },
      {
        "duration": 4,
        "start_time": "2022-07-15T11:17:39.759Z"
      },
      {
        "duration": 3,
        "start_time": "2022-07-15T11:18:08.476Z"
      },
      {
        "duration": 4,
        "start_time": "2022-07-15T11:24:04.696Z"
      },
      {
        "duration": 11,
        "start_time": "2022-07-15T11:24:05.163Z"
      },
      {
        "duration": 19,
        "start_time": "2022-07-15T11:24:05.639Z"
      },
      {
        "duration": 4,
        "start_time": "2022-07-15T11:24:06.121Z"
      },
      {
        "duration": 4,
        "start_time": "2022-07-15T11:24:06.624Z"
      },
      {
        "duration": 93,
        "start_time": "2022-07-15T11:24:46.601Z"
      },
      {
        "duration": 4,
        "start_time": "2022-07-15T11:25:04.627Z"
      },
      {
        "duration": 15,
        "start_time": "2022-07-15T11:25:05.080Z"
      },
      {
        "duration": 13,
        "start_time": "2022-07-15T11:25:19.966Z"
      },
      {
        "duration": 11,
        "start_time": "2022-07-15T11:25:34.917Z"
      },
      {
        "duration": 3,
        "start_time": "2022-07-15T11:25:53.793Z"
      },
      {
        "duration": 4,
        "start_time": "2022-07-15T11:26:45.042Z"
      },
      {
        "duration": 13,
        "start_time": "2022-07-15T11:27:01.925Z"
      },
      {
        "duration": 8,
        "start_time": "2022-07-15T11:27:28.014Z"
      },
      {
        "duration": 10,
        "start_time": "2022-07-15T11:27:28.458Z"
      },
      {
        "duration": 11,
        "start_time": "2022-07-15T11:27:29.026Z"
      },
      {
        "duration": 11,
        "start_time": "2022-07-15T11:27:29.600Z"
      },
      {
        "duration": 3,
        "start_time": "2022-07-15T11:27:30.280Z"
      },
      {
        "duration": 4,
        "start_time": "2022-07-15T11:27:35.134Z"
      },
      {
        "duration": 13,
        "start_time": "2022-07-15T11:27:35.615Z"
      },
      {
        "duration": 8,
        "start_time": "2022-07-15T11:27:35.975Z"
      },
      {
        "duration": 11,
        "start_time": "2022-07-15T11:27:59.176Z"
      },
      {
        "duration": 3,
        "start_time": "2022-07-15T11:28:11.460Z"
      },
      {
        "duration": 3,
        "start_time": "2022-07-15T11:28:22.577Z"
      },
      {
        "duration": 31,
        "start_time": "2022-07-15T11:31:02.857Z"
      },
      {
        "duration": 42,
        "start_time": "2022-07-15T11:31:36.231Z"
      },
      {
        "duration": 3,
        "start_time": "2022-07-15T11:36:34.325Z"
      },
      {
        "duration": 13,
        "start_time": "2022-07-15T11:36:59.403Z"
      },
      {
        "duration": 7,
        "start_time": "2022-07-15T11:37:08.756Z"
      },
      {
        "duration": 7,
        "start_time": "2022-07-15T11:37:31.086Z"
      },
      {
        "duration": 14,
        "start_time": "2022-07-15T11:38:01.825Z"
      },
      {
        "duration": 6,
        "start_time": "2022-07-15T11:38:02.583Z"
      },
      {
        "duration": 11,
        "start_time": "2022-07-15T11:38:19.757Z"
      },
      {
        "duration": 6,
        "start_time": "2022-07-15T11:38:22.627Z"
      },
      {
        "duration": 10,
        "start_time": "2022-07-15T11:38:23.035Z"
      },
      {
        "duration": 17,
        "start_time": "2022-07-15T11:38:23.463Z"
      },
      {
        "duration": 13,
        "start_time": "2022-07-15T11:38:23.874Z"
      },
      {
        "duration": 6,
        "start_time": "2022-07-15T11:38:24.873Z"
      },
      {
        "duration": 8,
        "start_time": "2022-07-15T11:38:53.120Z"
      },
      {
        "duration": 6,
        "start_time": "2022-07-15T11:39:06.710Z"
      },
      {
        "duration": 9,
        "start_time": "2022-07-15T11:39:07.158Z"
      },
      {
        "duration": 20,
        "start_time": "2022-07-15T11:39:07.673Z"
      },
      {
        "duration": 8,
        "start_time": "2022-07-15T11:39:08.288Z"
      },
      {
        "duration": 10,
        "start_time": "2022-07-15T11:39:37.433Z"
      },
      {
        "duration": 1070,
        "start_time": "2022-07-15T11:39:42.970Z"
      },
      {
        "duration": 155,
        "start_time": "2022-07-15T11:39:44.044Z"
      },
      {
        "duration": 24,
        "start_time": "2022-07-15T11:39:44.200Z"
      },
      {
        "duration": 31,
        "start_time": "2022-07-15T11:39:44.226Z"
      },
      {
        "duration": 104,
        "start_time": "2022-07-15T11:39:44.260Z"
      },
      {
        "duration": 19,
        "start_time": "2022-07-15T11:39:44.366Z"
      },
      {
        "duration": 102,
        "start_time": "2022-07-15T11:39:44.387Z"
      },
      {
        "duration": 140,
        "start_time": "2022-07-15T11:39:44.490Z"
      },
      {
        "duration": 18,
        "start_time": "2022-07-15T11:39:44.632Z"
      },
      {
        "duration": 55,
        "start_time": "2022-07-15T11:39:44.652Z"
      },
      {
        "duration": 77,
        "start_time": "2022-07-15T11:39:44.712Z"
      },
      {
        "duration": 10,
        "start_time": "2022-07-15T11:39:44.791Z"
      },
      {
        "duration": 50,
        "start_time": "2022-07-15T11:39:44.803Z"
      },
      {
        "duration": 126,
        "start_time": "2022-07-15T11:39:44.855Z"
      },
      {
        "duration": 29,
        "start_time": "2022-07-15T11:39:44.982Z"
      },
      {
        "duration": 9,
        "start_time": "2022-07-15T11:39:45.018Z"
      },
      {
        "duration": 46,
        "start_time": "2022-07-15T11:39:45.029Z"
      },
      {
        "duration": 9,
        "start_time": "2022-07-15T11:39:45.077Z"
      },
      {
        "duration": 64,
        "start_time": "2022-07-15T11:39:45.087Z"
      },
      {
        "duration": 5,
        "start_time": "2022-07-15T11:39:45.153Z"
      },
      {
        "duration": 20,
        "start_time": "2022-07-15T11:39:45.160Z"
      },
      {
        "duration": 140,
        "start_time": "2022-07-15T11:39:45.182Z"
      },
      {
        "duration": 0,
        "start_time": "2022-07-15T11:39:45.324Z"
      },
      {
        "duration": 0,
        "start_time": "2022-07-15T11:39:45.325Z"
      },
      {
        "duration": 0,
        "start_time": "2022-07-15T11:39:45.327Z"
      },
      {
        "duration": 0,
        "start_time": "2022-07-15T11:39:45.328Z"
      },
      {
        "duration": 0,
        "start_time": "2022-07-15T11:39:45.330Z"
      },
      {
        "duration": 0,
        "start_time": "2022-07-15T11:39:45.331Z"
      },
      {
        "duration": 0,
        "start_time": "2022-07-15T11:39:45.332Z"
      },
      {
        "duration": 0,
        "start_time": "2022-07-15T11:39:45.333Z"
      },
      {
        "duration": 0,
        "start_time": "2022-07-15T11:39:45.334Z"
      },
      {
        "duration": 0,
        "start_time": "2022-07-15T11:39:45.335Z"
      },
      {
        "duration": 0,
        "start_time": "2022-07-15T11:39:45.336Z"
      },
      {
        "duration": 0,
        "start_time": "2022-07-15T11:39:45.337Z"
      },
      {
        "duration": 0,
        "start_time": "2022-07-15T11:39:45.338Z"
      },
      {
        "duration": 0,
        "start_time": "2022-07-15T11:39:45.340Z"
      },
      {
        "duration": 21,
        "start_time": "2022-07-15T11:40:11.659Z"
      },
      {
        "duration": 9,
        "start_time": "2022-07-15T11:40:14.272Z"
      },
      {
        "duration": 8,
        "start_time": "2022-07-15T11:40:15.855Z"
      },
      {
        "duration": 13,
        "start_time": "2022-07-15T11:41:11.433Z"
      },
      {
        "duration": 9,
        "start_time": "2022-07-15T11:41:15.164Z"
      },
      {
        "duration": 15,
        "start_time": "2022-07-15T11:42:08.166Z"
      },
      {
        "duration": 384,
        "start_time": "2022-07-15T11:44:29.755Z"
      },
      {
        "duration": 77,
        "start_time": "2022-07-15T11:46:45.619Z"
      },
      {
        "duration": 92,
        "start_time": "2022-07-15T11:47:20.972Z"
      },
      {
        "duration": 12,
        "start_time": "2022-07-15T11:47:29.957Z"
      },
      {
        "duration": 367,
        "start_time": "2022-07-15T11:49:38.063Z"
      },
      {
        "duration": 17,
        "start_time": "2022-07-15T11:49:57.861Z"
      },
      {
        "duration": 6,
        "start_time": "2022-07-15T11:50:31.363Z"
      },
      {
        "duration": 6,
        "start_time": "2022-07-15T11:50:41.217Z"
      },
      {
        "duration": 21,
        "start_time": "2022-07-15T11:58:04.792Z"
      },
      {
        "duration": 9,
        "start_time": "2022-07-15T11:58:25.640Z"
      },
      {
        "duration": 11,
        "start_time": "2022-07-15T11:58:35.361Z"
      },
      {
        "duration": 7,
        "start_time": "2022-07-15T11:58:45.323Z"
      },
      {
        "duration": 12,
        "start_time": "2022-07-15T11:58:45.720Z"
      },
      {
        "duration": 8,
        "start_time": "2022-07-15T11:58:46.119Z"
      },
      {
        "duration": 20,
        "start_time": "2022-07-15T11:58:50.975Z"
      },
      {
        "duration": 6,
        "start_time": "2022-07-15T11:58:51.629Z"
      },
      {
        "duration": 12,
        "start_time": "2022-07-15T12:01:12.274Z"
      },
      {
        "duration": 8,
        "start_time": "2022-07-15T12:03:25.979Z"
      },
      {
        "duration": 3,
        "start_time": "2022-07-15T12:03:51.095Z"
      },
      {
        "duration": 4,
        "start_time": "2022-07-15T12:04:12.286Z"
      },
      {
        "duration": 3,
        "start_time": "2022-07-15T12:04:45.420Z"
      },
      {
        "duration": 12,
        "start_time": "2022-07-15T12:05:20.733Z"
      },
      {
        "duration": 8,
        "start_time": "2022-07-15T12:05:54.330Z"
      },
      {
        "duration": 10,
        "start_time": "2022-07-15T12:16:08.065Z"
      },
      {
        "duration": 6,
        "start_time": "2022-07-15T12:16:40.542Z"
      },
      {
        "duration": 13,
        "start_time": "2022-07-15T12:16:41.018Z"
      },
      {
        "duration": 23,
        "start_time": "2022-07-15T12:16:41.486Z"
      },
      {
        "duration": 4,
        "start_time": "2022-07-15T12:16:43.327Z"
      },
      {
        "duration": 2,
        "start_time": "2022-07-15T12:16:43.837Z"
      },
      {
        "duration": 4,
        "start_time": "2022-07-15T12:16:50.256Z"
      },
      {
        "duration": 16,
        "start_time": "2022-07-15T12:16:51.701Z"
      },
      {
        "duration": 27,
        "start_time": "2022-07-15T12:16:55.240Z"
      },
      {
        "duration": 3,
        "start_time": "2022-07-15T12:16:58.295Z"
      },
      {
        "duration": 5,
        "start_time": "2022-07-15T12:16:58.931Z"
      },
      {
        "duration": 4,
        "start_time": "2022-07-15T12:17:07.845Z"
      },
      {
        "duration": 11,
        "start_time": "2022-07-15T12:17:08.469Z"
      },
      {
        "duration": 10,
        "start_time": "2022-07-15T12:17:13.043Z"
      },
      {
        "duration": 4,
        "start_time": "2022-07-15T12:17:18.278Z"
      },
      {
        "duration": 10,
        "start_time": "2022-07-15T12:17:19.708Z"
      },
      {
        "duration": 5,
        "start_time": "2022-07-15T12:17:32.724Z"
      },
      {
        "duration": 4,
        "start_time": "2022-07-15T12:20:30.638Z"
      },
      {
        "duration": 4,
        "start_time": "2022-07-15T12:20:53.995Z"
      },
      {
        "duration": 14,
        "start_time": "2022-07-15T12:20:54.381Z"
      },
      {
        "duration": 11,
        "start_time": "2022-07-15T12:20:54.758Z"
      },
      {
        "duration": 3,
        "start_time": "2022-07-15T12:20:55.220Z"
      },
      {
        "duration": 10,
        "start_time": "2022-07-15T12:20:55.726Z"
      },
      {
        "duration": 4,
        "start_time": "2022-07-15T12:20:59.867Z"
      },
      {
        "duration": 11,
        "start_time": "2022-07-15T12:21:00.189Z"
      },
      {
        "duration": 27,
        "start_time": "2022-07-15T12:21:00.483Z"
      },
      {
        "duration": 4,
        "start_time": "2022-07-15T12:21:00.961Z"
      },
      {
        "duration": 4,
        "start_time": "2022-07-15T12:21:01.542Z"
      },
      {
        "duration": 16,
        "start_time": "2022-07-15T12:21:04.316Z"
      },
      {
        "duration": 10,
        "start_time": "2022-07-15T12:21:04.869Z"
      },
      {
        "duration": 50,
        "start_time": "2022-07-15T12:21:05.203Z"
      },
      {
        "duration": 4,
        "start_time": "2022-07-15T12:21:05.582Z"
      },
      {
        "duration": 6,
        "start_time": "2022-07-15T12:21:06.041Z"
      },
      {
        "duration": 4,
        "start_time": "2022-07-15T12:21:14.055Z"
      },
      {
        "duration": 10,
        "start_time": "2022-07-15T12:21:14.467Z"
      },
      {
        "duration": 37,
        "start_time": "2022-07-15T12:21:14.890Z"
      },
      {
        "duration": 4,
        "start_time": "2022-07-15T12:21:15.371Z"
      },
      {
        "duration": 5,
        "start_time": "2022-07-15T12:21:15.958Z"
      },
      {
        "duration": 13,
        "start_time": "2022-07-17T18:33:10.829Z"
      },
      {
        "duration": 3,
        "start_time": "2022-07-17T18:34:22.315Z"
      },
      {
        "duration": 1116,
        "start_time": "2022-07-17T18:38:34.550Z"
      },
      {
        "duration": 357,
        "start_time": "2022-07-17T18:38:35.668Z"
      },
      {
        "duration": 14,
        "start_time": "2022-07-17T18:38:36.027Z"
      },
      {
        "duration": 14,
        "start_time": "2022-07-17T18:38:36.043Z"
      },
      {
        "duration": 33,
        "start_time": "2022-07-17T18:38:36.059Z"
      },
      {
        "duration": 8,
        "start_time": "2022-07-17T18:38:36.094Z"
      },
      {
        "duration": 41,
        "start_time": "2022-07-17T18:38:36.103Z"
      },
      {
        "duration": 207,
        "start_time": "2022-07-17T18:38:36.145Z"
      },
      {
        "duration": 13,
        "start_time": "2022-07-17T18:38:36.353Z"
      },
      {
        "duration": 8,
        "start_time": "2022-07-17T18:38:36.369Z"
      },
      {
        "duration": 33,
        "start_time": "2022-07-17T18:38:36.378Z"
      },
      {
        "duration": 10,
        "start_time": "2022-07-17T18:38:36.413Z"
      },
      {
        "duration": 58,
        "start_time": "2022-07-17T18:38:36.425Z"
      },
      {
        "duration": 187,
        "start_time": "2022-07-17T18:38:36.484Z"
      },
      {
        "duration": 15,
        "start_time": "2022-07-17T18:38:36.673Z"
      },
      {
        "duration": 8,
        "start_time": "2022-07-17T18:38:36.690Z"
      },
      {
        "duration": 38,
        "start_time": "2022-07-17T18:38:36.700Z"
      },
      {
        "duration": 24,
        "start_time": "2022-07-17T18:38:36.740Z"
      },
      {
        "duration": 45,
        "start_time": "2022-07-17T18:38:36.765Z"
      },
      {
        "duration": 4,
        "start_time": "2022-07-17T18:38:36.812Z"
      },
      {
        "duration": 15,
        "start_time": "2022-07-17T18:38:36.817Z"
      },
      {
        "duration": 40,
        "start_time": "2022-07-17T18:38:36.833Z"
      },
      {
        "duration": 5,
        "start_time": "2022-07-17T18:38:36.965Z"
      },
      {
        "duration": 92,
        "start_time": "2022-07-17T18:38:36.972Z"
      },
      {
        "duration": 6,
        "start_time": "2022-07-17T18:38:37.066Z"
      },
      {
        "duration": 16,
        "start_time": "2022-07-17T18:38:37.073Z"
      },
      {
        "duration": 13,
        "start_time": "2022-07-17T18:38:37.091Z"
      },
      {
        "duration": 62,
        "start_time": "2022-07-17T18:38:37.108Z"
      },
      {
        "duration": 98,
        "start_time": "2022-07-17T18:38:37.172Z"
      },
      {
        "duration": 12,
        "start_time": "2022-07-17T18:38:37.272Z"
      },
      {
        "duration": 20,
        "start_time": "2022-07-17T18:38:37.285Z"
      },
      {
        "duration": 10,
        "start_time": "2022-07-17T18:38:37.306Z"
      },
      {
        "duration": 49,
        "start_time": "2022-07-17T18:38:37.318Z"
      },
      {
        "duration": 5,
        "start_time": "2022-07-17T18:38:37.371Z"
      },
      {
        "duration": 8,
        "start_time": "2022-07-17T18:38:37.463Z"
      },
      {
        "duration": 5,
        "start_time": "2022-07-17T18:41:59.403Z"
      },
      {
        "duration": 15,
        "start_time": "2022-07-17T18:41:59.758Z"
      },
      {
        "duration": 13,
        "start_time": "2022-07-17T18:42:00.034Z"
      },
      {
        "duration": 4,
        "start_time": "2022-07-17T18:42:00.455Z"
      },
      {
        "duration": 4,
        "start_time": "2022-07-17T18:42:23.273Z"
      },
      {
        "duration": 4,
        "start_time": "2022-07-17T18:42:24.025Z"
      },
      {
        "duration": 5,
        "start_time": "2022-07-17T18:42:24.999Z"
      },
      {
        "duration": 90,
        "start_time": "2022-07-17T18:42:25.816Z"
      },
      {
        "duration": 5,
        "start_time": "2022-07-17T18:42:33.159Z"
      },
      {
        "duration": 1058,
        "start_time": "2022-07-17T18:44:34.510Z"
      },
      {
        "duration": 153,
        "start_time": "2022-07-17T18:44:35.571Z"
      },
      {
        "duration": 15,
        "start_time": "2022-07-17T18:44:35.726Z"
      },
      {
        "duration": 22,
        "start_time": "2022-07-17T18:44:35.742Z"
      },
      {
        "duration": 39,
        "start_time": "2022-07-17T18:44:35.768Z"
      },
      {
        "duration": 9,
        "start_time": "2022-07-17T18:44:35.809Z"
      },
      {
        "duration": 72,
        "start_time": "2022-07-17T18:44:35.820Z"
      },
      {
        "duration": 127,
        "start_time": "2022-07-17T18:44:35.894Z"
      },
      {
        "duration": 14,
        "start_time": "2022-07-17T18:44:36.023Z"
      },
      {
        "duration": 9,
        "start_time": "2022-07-17T18:44:36.038Z"
      },
      {
        "duration": 46,
        "start_time": "2022-07-17T18:44:36.048Z"
      },
      {
        "duration": 10,
        "start_time": "2022-07-17T18:44:36.095Z"
      },
      {
        "duration": 58,
        "start_time": "2022-07-17T18:44:36.106Z"
      },
      {
        "duration": 125,
        "start_time": "2022-07-17T18:44:36.169Z"
      },
      {
        "duration": 15,
        "start_time": "2022-07-17T18:44:36.296Z"
      },
      {
        "duration": 9,
        "start_time": "2022-07-17T18:44:36.313Z"
      },
      {
        "duration": 54,
        "start_time": "2022-07-17T18:44:36.324Z"
      },
      {
        "duration": 13,
        "start_time": "2022-07-17T18:44:36.381Z"
      },
      {
        "duration": 47,
        "start_time": "2022-07-17T18:44:36.396Z"
      },
      {
        "duration": 21,
        "start_time": "2022-07-17T18:44:36.445Z"
      },
      {
        "duration": 18,
        "start_time": "2022-07-17T18:44:36.468Z"
      },
      {
        "duration": 79,
        "start_time": "2022-07-17T18:44:36.488Z"
      },
      {
        "duration": 89,
        "start_time": "2022-07-17T18:44:36.575Z"
      },
      {
        "duration": 6,
        "start_time": "2022-07-17T18:44:36.666Z"
      },
      {
        "duration": 22,
        "start_time": "2022-07-17T18:44:36.675Z"
      },
      {
        "duration": 16,
        "start_time": "2022-07-17T18:44:36.699Z"
      },
      {
        "duration": 12,
        "start_time": "2022-07-17T18:44:36.717Z"
      },
      {
        "duration": 89,
        "start_time": "2022-07-17T18:44:36.775Z"
      },
      {
        "duration": 9,
        "start_time": "2022-07-17T18:44:36.867Z"
      },
      {
        "duration": 12,
        "start_time": "2022-07-17T18:44:36.879Z"
      },
      {
        "duration": 19,
        "start_time": "2022-07-17T18:44:36.893Z"
      },
      {
        "duration": 55,
        "start_time": "2022-07-17T18:44:36.913Z"
      },
      {
        "duration": 8,
        "start_time": "2022-07-17T18:44:36.970Z"
      },
      {
        "duration": 102,
        "start_time": "2022-07-17T18:44:36.980Z"
      },
      {
        "duration": 22,
        "start_time": "2022-07-17T18:44:37.083Z"
      },
      {
        "duration": 9,
        "start_time": "2022-07-17T18:46:03.082Z"
      },
      {
        "duration": 5,
        "start_time": "2022-07-17T18:46:50.613Z"
      },
      {
        "duration": 4,
        "start_time": "2022-07-17T18:50:55.754Z"
      },
      {
        "duration": 106,
        "start_time": "2022-07-17T18:52:06.254Z"
      },
      {
        "duration": 10,
        "start_time": "2022-07-17T18:52:12.121Z"
      },
      {
        "duration": 11,
        "start_time": "2022-07-17T18:52:21.018Z"
      },
      {
        "duration": 8,
        "start_time": "2022-07-17T18:52:44.034Z"
      },
      {
        "duration": 18,
        "start_time": "2022-07-17T18:53:19.270Z"
      },
      {
        "duration": 12,
        "start_time": "2022-07-17T18:53:35.134Z"
      },
      {
        "duration": 18,
        "start_time": "2022-07-17T18:54:15.261Z"
      },
      {
        "duration": 11,
        "start_time": "2022-07-17T18:54:42.486Z"
      },
      {
        "duration": 10,
        "start_time": "2022-07-17T18:54:50.515Z"
      },
      {
        "duration": 13,
        "start_time": "2022-07-17T18:57:07.158Z"
      },
      {
        "duration": 7,
        "start_time": "2022-07-17T18:57:34.259Z"
      },
      {
        "duration": 11,
        "start_time": "2022-07-17T18:57:43.401Z"
      },
      {
        "duration": 10,
        "start_time": "2022-07-17T18:58:03.214Z"
      },
      {
        "duration": 13,
        "start_time": "2022-07-17T19:01:43.578Z"
      },
      {
        "duration": 8,
        "start_time": "2022-07-17T20:13:15.599Z"
      },
      {
        "duration": 4,
        "start_time": "2022-07-17T20:31:32.391Z"
      },
      {
        "duration": 17,
        "start_time": "2022-07-17T20:31:37.573Z"
      },
      {
        "duration": 3,
        "start_time": "2022-07-17T20:31:48.042Z"
      },
      {
        "duration": 3,
        "start_time": "2022-07-17T20:31:51.627Z"
      },
      {
        "duration": 1713,
        "start_time": "2022-07-17T20:31:53.040Z"
      },
      {
        "duration": 3,
        "start_time": "2022-07-17T20:31:55.725Z"
      },
      {
        "duration": 6,
        "start_time": "2022-07-17T20:32:16.492Z"
      },
      {
        "duration": 543,
        "start_time": "2022-07-17T20:32:42.929Z"
      },
      {
        "duration": 236,
        "start_time": "2022-07-17T20:32:58.700Z"
      },
      {
        "duration": 1848,
        "start_time": "2022-07-17T20:34:02.660Z"
      },
      {
        "duration": 4,
        "start_time": "2022-07-17T20:34:04.510Z"
      },
      {
        "duration": 278,
        "start_time": "2022-07-17T20:34:04.515Z"
      },
      {
        "duration": 1776,
        "start_time": "2022-07-17T20:34:50.022Z"
      },
      {
        "duration": 3,
        "start_time": "2022-07-17T20:34:51.800Z"
      },
      {
        "duration": 340,
        "start_time": "2022-07-17T20:34:51.805Z"
      },
      {
        "duration": 199757,
        "start_time": "2022-07-17T20:41:56.913Z"
      },
      {
        "duration": 3,
        "start_time": "2022-07-17T20:45:16.672Z"
      },
      {
        "duration": 254,
        "start_time": "2022-07-17T20:45:16.677Z"
      },
      {
        "duration": 4,
        "start_time": "2022-07-17T20:45:43.156Z"
      },
      {
        "duration": 3,
        "start_time": "2022-07-17T20:47:55.788Z"
      },
      {
        "duration": 1680,
        "start_time": "2022-07-17T20:47:56.343Z"
      },
      {
        "duration": 3,
        "start_time": "2022-07-17T20:47:58.025Z"
      },
      {
        "duration": 5,
        "start_time": "2022-07-17T20:47:59.620Z"
      },
      {
        "duration": 269,
        "start_time": "2022-07-17T20:48:00.490Z"
      },
      {
        "duration": 1862,
        "start_time": "2022-07-17T20:48:21.950Z"
      },
      {
        "duration": 3,
        "start_time": "2022-07-17T20:48:23.814Z"
      },
      {
        "duration": 8,
        "start_time": "2022-07-17T20:48:23.819Z"
      },
      {
        "duration": 251,
        "start_time": "2022-07-17T20:48:23.829Z"
      },
      {
        "duration": 45,
        "start_time": "2022-07-17T20:59:26.899Z"
      },
      {
        "duration": 9,
        "start_time": "2022-07-17T20:59:36.861Z"
      },
      {
        "duration": 6,
        "start_time": "2022-07-17T20:59:59.655Z"
      },
      {
        "duration": 11,
        "start_time": "2022-07-17T21:00:18.312Z"
      },
      {
        "duration": 3,
        "start_time": "2022-07-17T21:00:46.699Z"
      },
      {
        "duration": 1634,
        "start_time": "2022-07-17T21:00:47.161Z"
      },
      {
        "duration": 3,
        "start_time": "2022-07-17T21:00:48.796Z"
      },
      {
        "duration": 7,
        "start_time": "2022-07-17T21:00:48.801Z"
      },
      {
        "duration": 250,
        "start_time": "2022-07-17T21:00:50.304Z"
      },
      {
        "duration": 3,
        "start_time": "2022-07-17T21:07:50.026Z"
      },
      {
        "duration": 1578,
        "start_time": "2022-07-17T21:07:50.424Z"
      },
      {
        "duration": 3,
        "start_time": "2022-07-17T21:07:52.004Z"
      },
      {
        "duration": 16,
        "start_time": "2022-07-17T21:07:52.009Z"
      },
      {
        "duration": 229,
        "start_time": "2022-07-17T21:07:53.890Z"
      },
      {
        "duration": 7,
        "start_time": "2022-07-17T21:09:08.422Z"
      },
      {
        "duration": 11,
        "start_time": "2022-07-17T21:09:08.968Z"
      },
      {
        "duration": 6,
        "start_time": "2022-07-17T21:09:22.343Z"
      },
      {
        "duration": 8,
        "start_time": "2022-07-17T21:09:55.293Z"
      },
      {
        "duration": 5,
        "start_time": "2022-07-17T21:10:12.233Z"
      },
      {
        "duration": 19,
        "start_time": "2022-07-17T21:10:12.623Z"
      },
      {
        "duration": 39,
        "start_time": "2022-07-17T21:10:13.026Z"
      },
      {
        "duration": 4,
        "start_time": "2022-07-17T21:10:13.627Z"
      },
      {
        "duration": 5,
        "start_time": "2022-07-17T21:10:15.892Z"
      },
      {
        "duration": 4,
        "start_time": "2022-07-17T21:10:17.007Z"
      },
      {
        "duration": 7,
        "start_time": "2022-07-17T21:10:22.309Z"
      },
      {
        "duration": 7,
        "start_time": "2022-07-17T21:10:58.260Z"
      },
      {
        "duration": 8,
        "start_time": "2022-07-17T21:11:00.683Z"
      },
      {
        "duration": 8,
        "start_time": "2022-07-17T21:11:01.116Z"
      },
      {
        "duration": 10,
        "start_time": "2022-07-17T21:11:25.911Z"
      },
      {
        "duration": 8,
        "start_time": "2022-07-17T21:11:38.967Z"
      },
      {
        "duration": 7,
        "start_time": "2022-07-17T21:11:47.551Z"
      },
      {
        "duration": 47,
        "start_time": "2022-07-18T12:11:33.635Z"
      },
      {
        "duration": 1083,
        "start_time": "2022-07-18T12:11:38.933Z"
      },
      {
        "duration": 399,
        "start_time": "2022-07-18T12:11:40.019Z"
      },
      {
        "duration": 16,
        "start_time": "2022-07-18T12:11:40.420Z"
      },
      {
        "duration": 16,
        "start_time": "2022-07-18T12:11:40.438Z"
      },
      {
        "duration": 36,
        "start_time": "2022-07-18T12:11:40.455Z"
      },
      {
        "duration": 34,
        "start_time": "2022-07-18T12:11:40.493Z"
      },
      {
        "duration": 47,
        "start_time": "2022-07-18T12:11:40.528Z"
      },
      {
        "duration": 203,
        "start_time": "2022-07-18T12:11:40.576Z"
      },
      {
        "duration": 14,
        "start_time": "2022-07-18T12:11:40.780Z"
      },
      {
        "duration": 9,
        "start_time": "2022-07-18T12:11:40.797Z"
      },
      {
        "duration": 43,
        "start_time": "2022-07-18T12:11:40.808Z"
      },
      {
        "duration": 9,
        "start_time": "2022-07-18T12:11:40.853Z"
      },
      {
        "duration": 42,
        "start_time": "2022-07-18T12:11:40.863Z"
      },
      {
        "duration": 213,
        "start_time": "2022-07-18T12:11:40.907Z"
      },
      {
        "duration": 14,
        "start_time": "2022-07-18T12:11:41.122Z"
      },
      {
        "duration": 8,
        "start_time": "2022-07-18T12:11:41.138Z"
      },
      {
        "duration": 38,
        "start_time": "2022-07-18T12:11:41.148Z"
      },
      {
        "duration": 8,
        "start_time": "2022-07-18T12:11:41.188Z"
      },
      {
        "duration": 47,
        "start_time": "2022-07-18T12:11:41.222Z"
      },
      {
        "duration": 5,
        "start_time": "2022-07-18T12:11:41.270Z"
      },
      {
        "duration": 19,
        "start_time": "2022-07-18T12:11:41.276Z"
      },
      {
        "duration": 28,
        "start_time": "2022-07-18T12:11:41.297Z"
      },
      {
        "duration": 8,
        "start_time": "2022-07-18T12:11:41.326Z"
      },
      {
        "duration": 9,
        "start_time": "2022-07-18T12:11:41.424Z"
      },
      {
        "duration": 4,
        "start_time": "2022-07-18T12:11:41.524Z"
      },
      {
        "duration": 9,
        "start_time": "2022-07-18T12:11:41.529Z"
      },
      {
        "duration": 19,
        "start_time": "2022-07-18T12:11:41.540Z"
      },
      {
        "duration": 11,
        "start_time": "2022-07-18T12:11:41.563Z"
      },
      {
        "duration": 153,
        "start_time": "2022-07-18T12:11:41.576Z"
      },
      {
        "duration": 11,
        "start_time": "2022-07-18T12:11:41.730Z"
      },
      {
        "duration": 6,
        "start_time": "2022-07-18T12:11:41.743Z"
      },
      {
        "duration": 17,
        "start_time": "2022-07-18T12:11:41.750Z"
      },
      {
        "duration": 12,
        "start_time": "2022-07-18T12:11:41.768Z"
      },
      {
        "duration": 45,
        "start_time": "2022-07-18T12:11:41.782Z"
      },
      {
        "duration": 6,
        "start_time": "2022-07-18T12:11:41.829Z"
      },
      {
        "duration": 9,
        "start_time": "2022-07-18T12:11:41.924Z"
      },
      {
        "duration": 10,
        "start_time": "2022-07-18T12:11:41.934Z"
      },
      {
        "duration": 10,
        "start_time": "2022-07-18T12:11:41.946Z"
      },
      {
        "duration": 7,
        "start_time": "2022-07-18T12:11:41.958Z"
      },
      {
        "duration": 3,
        "start_time": "2022-07-18T12:11:41.966Z"
      },
      {
        "duration": 1705,
        "start_time": "2022-07-18T12:11:41.971Z"
      },
      {
        "duration": 3,
        "start_time": "2022-07-18T12:11:43.678Z"
      },
      {
        "duration": 9,
        "start_time": "2022-07-18T12:11:43.683Z"
      },
      {
        "duration": 685,
        "start_time": "2022-07-18T12:11:43.694Z"
      },
      {
        "duration": 1830,
        "start_time": "2022-07-18T12:13:19.880Z"
      },
      {
        "duration": 3,
        "start_time": "2022-07-18T12:13:21.712Z"
      },
      {
        "duration": 22,
        "start_time": "2022-07-18T12:13:21.717Z"
      },
      {
        "duration": 1946,
        "start_time": "2022-07-18T12:38:32.245Z"
      },
      {
        "duration": 3,
        "start_time": "2022-07-18T12:38:34.193Z"
      },
      {
        "duration": 31,
        "start_time": "2022-07-18T12:38:34.197Z"
      },
      {
        "duration": 286,
        "start_time": "2022-07-18T12:38:36.795Z"
      },
      {
        "duration": 4,
        "start_time": "2022-07-18T12:39:19.841Z"
      },
      {
        "duration": 1802,
        "start_time": "2022-07-18T12:39:20.313Z"
      },
      {
        "duration": 3,
        "start_time": "2022-07-18T12:39:22.117Z"
      },
      {
        "duration": 6,
        "start_time": "2022-07-18T12:39:22.124Z"
      },
      {
        "duration": 280,
        "start_time": "2022-07-18T12:39:25.322Z"
      },
      {
        "duration": 3,
        "start_time": "2022-07-18T12:40:00.727Z"
      },
      {
        "duration": 1867,
        "start_time": "2022-07-18T12:40:01.139Z"
      },
      {
        "duration": 3,
        "start_time": "2022-07-18T12:40:03.008Z"
      },
      {
        "duration": 15,
        "start_time": "2022-07-18T12:40:03.013Z"
      },
      {
        "duration": 3,
        "start_time": "2022-07-18T12:40:44.815Z"
      },
      {
        "duration": 1850,
        "start_time": "2022-07-18T12:40:45.166Z"
      },
      {
        "duration": 3,
        "start_time": "2022-07-18T12:40:47.017Z"
      },
      {
        "duration": 20,
        "start_time": "2022-07-18T12:40:47.025Z"
      },
      {
        "duration": 5,
        "start_time": "2022-07-18T12:40:58.652Z"
      },
      {
        "duration": 328,
        "start_time": "2022-07-18T12:40:59.246Z"
      },
      {
        "duration": 3,
        "start_time": "2022-07-18T12:41:56.316Z"
      },
      {
        "duration": 1936,
        "start_time": "2022-07-18T12:41:56.947Z"
      },
      {
        "duration": 3,
        "start_time": "2022-07-18T12:41:58.885Z"
      },
      {
        "duration": 7,
        "start_time": "2022-07-18T12:41:58.889Z"
      },
      {
        "duration": 286,
        "start_time": "2022-07-18T12:42:02.694Z"
      },
      {
        "duration": 3,
        "start_time": "2022-07-18T12:42:16.352Z"
      },
      {
        "duration": 1923,
        "start_time": "2022-07-18T12:42:16.842Z"
      },
      {
        "duration": 4,
        "start_time": "2022-07-18T12:42:18.767Z"
      },
      {
        "duration": 24,
        "start_time": "2022-07-18T12:42:18.772Z"
      },
      {
        "duration": 337,
        "start_time": "2022-07-18T12:42:18.798Z"
      },
      {
        "duration": 6,
        "start_time": "2022-07-18T12:43:27.488Z"
      },
      {
        "duration": 101,
        "start_time": "2022-07-18T12:45:43.737Z"
      },
      {
        "duration": 3,
        "start_time": "2022-07-18T12:46:02.848Z"
      },
      {
        "duration": 6,
        "start_time": "2022-07-18T12:46:08.019Z"
      },
      {
        "duration": 6,
        "start_time": "2022-07-18T12:46:24.074Z"
      },
      {
        "duration": 4,
        "start_time": "2022-07-18T12:48:40.086Z"
      },
      {
        "duration": 3,
        "start_time": "2022-07-18T12:48:58.858Z"
      },
      {
        "duration": 18,
        "start_time": "2022-07-18T12:51:12.046Z"
      },
      {
        "duration": 1913,
        "start_time": "2022-07-18T12:51:36.031Z"
      },
      {
        "duration": 4,
        "start_time": "2022-07-18T12:51:37.946Z"
      },
      {
        "duration": 4,
        "start_time": "2022-07-18T12:51:38.004Z"
      },
      {
        "duration": 5,
        "start_time": "2022-07-18T12:51:39.568Z"
      },
      {
        "duration": 9,
        "start_time": "2022-07-18T12:51:42.728Z"
      },
      {
        "duration": 259,
        "start_time": "2022-07-18T12:51:43.987Z"
      },
      {
        "duration": 1876,
        "start_time": "2022-07-18T12:52:24.960Z"
      },
      {
        "duration": 3,
        "start_time": "2022-07-18T12:52:26.839Z"
      },
      {
        "duration": 11,
        "start_time": "2022-07-18T12:52:26.844Z"
      },
      {
        "duration": 6,
        "start_time": "2022-07-18T12:52:28.400Z"
      },
      {
        "duration": 6,
        "start_time": "2022-07-18T12:52:29.456Z"
      },
      {
        "duration": 250,
        "start_time": "2022-07-18T12:52:31.558Z"
      },
      {
        "duration": 1941,
        "start_time": "2022-07-18T12:53:24.190Z"
      },
      {
        "duration": 4,
        "start_time": "2022-07-18T12:53:26.134Z"
      },
      {
        "duration": 14,
        "start_time": "2022-07-18T12:53:26.139Z"
      },
      {
        "duration": 5,
        "start_time": "2022-07-18T12:53:27.163Z"
      },
      {
        "duration": 10,
        "start_time": "2022-07-18T12:53:32.837Z"
      },
      {
        "duration": 387,
        "start_time": "2022-07-18T12:53:34.195Z"
      },
      {
        "duration": 1998,
        "start_time": "2022-07-18T12:56:25.771Z"
      },
      {
        "duration": 3,
        "start_time": "2022-07-18T12:56:28.607Z"
      },
      {
        "duration": 6,
        "start_time": "2022-07-18T12:56:29.318Z"
      },
      {
        "duration": 8,
        "start_time": "2022-07-18T12:56:30.284Z"
      },
      {
        "duration": 12,
        "start_time": "2022-07-18T12:56:31.181Z"
      },
      {
        "duration": 1868,
        "start_time": "2022-07-18T12:56:53.082Z"
      },
      {
        "duration": 4,
        "start_time": "2022-07-18T12:56:54.953Z"
      },
      {
        "duration": 42,
        "start_time": "2022-07-18T12:56:54.959Z"
      },
      {
        "duration": 6,
        "start_time": "2022-07-18T12:56:56.018Z"
      },
      {
        "duration": 6,
        "start_time": "2022-07-18T12:56:57.075Z"
      },
      {
        "duration": 287,
        "start_time": "2022-07-18T12:56:58.317Z"
      },
      {
        "duration": 5,
        "start_time": "2022-07-18T13:04:11.269Z"
      },
      {
        "duration": 4,
        "start_time": "2022-07-18T13:06:18.964Z"
      },
      {
        "duration": 8,
        "start_time": "2022-07-18T13:20:36.671Z"
      },
      {
        "duration": 12,
        "start_time": "2022-07-18T13:20:42.107Z"
      },
      {
        "duration": 4,
        "start_time": "2022-07-18T13:20:54.750Z"
      },
      {
        "duration": 4,
        "start_time": "2022-07-18T13:21:12.202Z"
      },
      {
        "duration": 4,
        "start_time": "2022-07-18T13:21:30.725Z"
      },
      {
        "duration": 5,
        "start_time": "2022-07-18T13:21:48.617Z"
      },
      {
        "duration": 3,
        "start_time": "2022-07-18T13:30:32.572Z"
      },
      {
        "duration": 4,
        "start_time": "2022-07-18T13:30:50.573Z"
      },
      {
        "duration": 4,
        "start_time": "2022-07-18T13:31:18.885Z"
      },
      {
        "duration": 206,
        "start_time": "2022-07-18T13:56:26.471Z"
      },
      {
        "duration": 9,
        "start_time": "2022-07-18T14:13:50.003Z"
      },
      {
        "duration": 8,
        "start_time": "2022-07-18T14:13:50.573Z"
      },
      {
        "duration": 14,
        "start_time": "2022-07-18T14:13:51.021Z"
      },
      {
        "duration": 5,
        "start_time": "2022-07-18T14:20:58.143Z"
      },
      {
        "duration": 6,
        "start_time": "2022-07-18T14:22:10.474Z"
      },
      {
        "duration": 5,
        "start_time": "2022-07-18T14:23:02.850Z"
      },
      {
        "duration": 5,
        "start_time": "2022-07-18T14:23:17.522Z"
      },
      {
        "duration": 4,
        "start_time": "2022-07-18T14:23:37.181Z"
      },
      {
        "duration": 7,
        "start_time": "2022-07-18T14:24:32.052Z"
      },
      {
        "duration": 4,
        "start_time": "2022-07-18T14:25:07.668Z"
      },
      {
        "duration": 15,
        "start_time": "2022-07-18T14:25:41.844Z"
      },
      {
        "duration": 6,
        "start_time": "2022-07-18T14:25:50.047Z"
      },
      {
        "duration": 12,
        "start_time": "2022-07-18T14:26:03.161Z"
      },
      {
        "duration": 5,
        "start_time": "2022-07-18T14:26:12.011Z"
      },
      {
        "duration": 9,
        "start_time": "2022-07-18T14:29:44.385Z"
      },
      {
        "duration": 8,
        "start_time": "2022-07-18T14:31:41.503Z"
      },
      {
        "duration": 6,
        "start_time": "2022-07-18T14:31:51.602Z"
      },
      {
        "duration": 6,
        "start_time": "2022-07-18T14:32:27.290Z"
      },
      {
        "duration": 5,
        "start_time": "2022-07-18T14:33:04.734Z"
      },
      {
        "duration": 5,
        "start_time": "2022-07-18T14:33:12.773Z"
      },
      {
        "duration": 7,
        "start_time": "2022-07-18T14:33:19.012Z"
      },
      {
        "duration": 5,
        "start_time": "2022-07-18T14:33:34.881Z"
      },
      {
        "duration": 7,
        "start_time": "2022-07-18T14:34:37.631Z"
      },
      {
        "duration": 122,
        "start_time": "2022-07-18T14:35:16.417Z"
      },
      {
        "duration": 5,
        "start_time": "2022-07-18T14:35:21.511Z"
      },
      {
        "duration": 4,
        "start_time": "2022-07-18T14:35:41.657Z"
      },
      {
        "duration": 11,
        "start_time": "2022-07-18T14:36:10.401Z"
      },
      {
        "duration": 6,
        "start_time": "2022-07-18T14:36:54.205Z"
      },
      {
        "duration": 5,
        "start_time": "2022-07-18T14:38:49.325Z"
      },
      {
        "duration": 65,
        "start_time": "2022-07-18T14:39:18.936Z"
      },
      {
        "duration": 4,
        "start_time": "2022-07-18T14:39:27.481Z"
      },
      {
        "duration": 16,
        "start_time": "2022-07-18T14:54:18.641Z"
      },
      {
        "duration": 14,
        "start_time": "2022-07-18T14:54:36.923Z"
      },
      {
        "duration": 10,
        "start_time": "2022-07-18T14:55:10.015Z"
      },
      {
        "duration": 6,
        "start_time": "2022-07-18T14:57:14.524Z"
      },
      {
        "duration": 15,
        "start_time": "2022-07-18T14:59:16.372Z"
      },
      {
        "duration": 15,
        "start_time": "2022-07-18T14:59:35.161Z"
      },
      {
        "duration": 18,
        "start_time": "2022-07-18T15:00:56.871Z"
      },
      {
        "duration": 9,
        "start_time": "2022-07-18T15:02:03.869Z"
      },
      {
        "duration": 7,
        "start_time": "2022-07-18T15:02:08.664Z"
      },
      {
        "duration": 9,
        "start_time": "2022-07-18T15:03:02.652Z"
      },
      {
        "duration": 18,
        "start_time": "2022-07-18T15:03:36.791Z"
      },
      {
        "duration": 13,
        "start_time": "2022-07-18T15:04:03.963Z"
      },
      {
        "duration": 5,
        "start_time": "2022-07-18T15:04:46.360Z"
      },
      {
        "duration": 12,
        "start_time": "2022-07-18T15:06:38.258Z"
      },
      {
        "duration": 10,
        "start_time": "2022-07-18T15:08:05.655Z"
      },
      {
        "duration": 12,
        "start_time": "2022-07-18T15:08:19.045Z"
      },
      {
        "duration": 11,
        "start_time": "2022-07-18T15:08:26.856Z"
      },
      {
        "duration": 11,
        "start_time": "2022-07-18T15:09:06.755Z"
      },
      {
        "duration": 11,
        "start_time": "2022-07-18T15:09:13.257Z"
      },
      {
        "duration": 6,
        "start_time": "2022-07-18T15:09:57.294Z"
      },
      {
        "duration": 13,
        "start_time": "2022-07-18T15:09:57.602Z"
      },
      {
        "duration": 22,
        "start_time": "2022-07-18T15:09:57.801Z"
      },
      {
        "duration": 6,
        "start_time": "2022-07-18T15:09:58.158Z"
      },
      {
        "duration": 4,
        "start_time": "2022-07-18T15:10:00.317Z"
      },
      {
        "duration": 12,
        "start_time": "2022-07-18T15:10:01.024Z"
      },
      {
        "duration": 11,
        "start_time": "2022-07-18T15:10:10.797Z"
      },
      {
        "duration": 9,
        "start_time": "2022-07-18T15:10:22.658Z"
      },
      {
        "duration": 9,
        "start_time": "2022-07-18T15:10:32.810Z"
      },
      {
        "duration": 5,
        "start_time": "2022-07-18T15:11:03.201Z"
      },
      {
        "duration": 19,
        "start_time": "2022-07-18T15:11:03.567Z"
      },
      {
        "duration": 12,
        "start_time": "2022-07-18T15:11:03.921Z"
      },
      {
        "duration": 4,
        "start_time": "2022-07-18T15:11:04.319Z"
      },
      {
        "duration": 4,
        "start_time": "2022-07-18T15:11:04.694Z"
      },
      {
        "duration": 10,
        "start_time": "2022-07-18T15:11:05.194Z"
      },
      {
        "duration": 1110,
        "start_time": "2022-07-18T15:12:43.065Z"
      },
      {
        "duration": 177,
        "start_time": "2022-07-18T15:12:44.177Z"
      },
      {
        "duration": 15,
        "start_time": "2022-07-18T15:12:44.356Z"
      },
      {
        "duration": 17,
        "start_time": "2022-07-18T15:12:44.374Z"
      },
      {
        "duration": 61,
        "start_time": "2022-07-18T15:12:44.392Z"
      },
      {
        "duration": 10,
        "start_time": "2022-07-18T15:12:44.456Z"
      },
      {
        "duration": 61,
        "start_time": "2022-07-18T15:12:44.468Z"
      },
      {
        "duration": 122,
        "start_time": "2022-07-18T15:12:44.531Z"
      },
      {
        "duration": 15,
        "start_time": "2022-07-18T15:12:44.654Z"
      },
      {
        "duration": 9,
        "start_time": "2022-07-18T15:12:44.672Z"
      },
      {
        "duration": 54,
        "start_time": "2022-07-18T15:12:44.683Z"
      },
      {
        "duration": 10,
        "start_time": "2022-07-18T15:12:44.738Z"
      },
      {
        "duration": 44,
        "start_time": "2022-07-18T15:12:44.749Z"
      },
      {
        "duration": 161,
        "start_time": "2022-07-18T15:12:44.795Z"
      },
      {
        "duration": 15,
        "start_time": "2022-07-18T15:12:44.958Z"
      },
      {
        "duration": 10,
        "start_time": "2022-07-18T15:12:44.975Z"
      },
      {
        "duration": 51,
        "start_time": "2022-07-18T15:12:44.987Z"
      },
      {
        "duration": 10,
        "start_time": "2022-07-18T15:12:45.040Z"
      },
      {
        "duration": 54,
        "start_time": "2022-07-18T15:12:45.052Z"
      },
      {
        "duration": 15,
        "start_time": "2022-07-18T15:12:45.108Z"
      },
      {
        "duration": 13,
        "start_time": "2022-07-18T15:12:45.125Z"
      },
      {
        "duration": 4,
        "start_time": "2022-07-18T15:12:45.140Z"
      },
      {
        "duration": 5,
        "start_time": "2022-07-18T15:12:45.145Z"
      },
      {
        "duration": 5,
        "start_time": "2022-07-18T15:12:45.152Z"
      },
      {
        "duration": 9,
        "start_time": "2022-07-18T15:12:45.159Z"
      },
      {
        "duration": 54,
        "start_time": "2022-07-18T15:12:45.170Z"
      },
      {
        "duration": 3,
        "start_time": "2022-07-18T15:12:45.227Z"
      },
      {
        "duration": 89,
        "start_time": "2022-07-18T15:12:45.235Z"
      },
      {
        "duration": 7,
        "start_time": "2022-07-18T15:12:45.326Z"
      },
      {
        "duration": 12,
        "start_time": "2022-07-18T15:12:45.335Z"
      },
      {
        "duration": 7,
        "start_time": "2022-07-18T15:12:45.349Z"
      },
      {
        "duration": 20,
        "start_time": "2022-07-18T15:12:45.358Z"
      },
      {
        "duration": 51,
        "start_time": "2022-07-18T15:12:45.380Z"
      },
      {
        "duration": 4,
        "start_time": "2022-07-18T15:12:45.433Z"
      },
      {
        "duration": 92,
        "start_time": "2022-07-18T15:12:45.439Z"
      },
      {
        "duration": 11,
        "start_time": "2022-07-18T15:12:45.533Z"
      },
      {
        "duration": 10,
        "start_time": "2022-07-18T15:12:45.546Z"
      },
      {
        "duration": 70,
        "start_time": "2022-07-18T15:12:45.557Z"
      },
      {
        "duration": 19,
        "start_time": "2022-07-18T15:12:45.641Z"
      },
      {
        "duration": 62,
        "start_time": "2022-07-18T15:12:45.662Z"
      },
      {
        "duration": 11,
        "start_time": "2022-07-18T15:12:45.726Z"
      },
      {
        "duration": 9,
        "start_time": "2022-07-18T15:12:45.824Z"
      },
      {
        "duration": 8,
        "start_time": "2022-07-18T15:12:45.834Z"
      },
      {
        "duration": 10,
        "start_time": "2022-07-18T15:12:45.843Z"
      },
      {
        "duration": 8,
        "start_time": "2022-07-18T15:12:45.855Z"
      },
      {
        "duration": 7,
        "start_time": "2022-07-18T15:12:45.865Z"
      },
      {
        "duration": 2,
        "start_time": "2022-07-18T15:12:45.874Z"
      },
      {
        "duration": 5,
        "start_time": "2022-07-18T15:12:45.878Z"
      },
      {
        "duration": 1717,
        "start_time": "2022-07-18T15:12:45.922Z"
      },
      {
        "duration": 95,
        "start_time": "2022-07-18T15:12:47.641Z"
      },
      {
        "duration": 0,
        "start_time": "2022-07-18T15:12:47.738Z"
      },
      {
        "duration": 0,
        "start_time": "2022-07-18T15:12:47.739Z"
      },
      {
        "duration": 0,
        "start_time": "2022-07-18T15:12:47.740Z"
      },
      {
        "duration": 0,
        "start_time": "2022-07-18T15:12:47.742Z"
      },
      {
        "duration": 0,
        "start_time": "2022-07-18T15:12:47.743Z"
      },
      {
        "duration": 0,
        "start_time": "2022-07-18T15:12:47.745Z"
      },
      {
        "duration": 0,
        "start_time": "2022-07-18T15:12:47.746Z"
      },
      {
        "duration": 0,
        "start_time": "2022-07-18T15:12:47.748Z"
      },
      {
        "duration": 0,
        "start_time": "2022-07-18T15:12:47.749Z"
      },
      {
        "duration": 0,
        "start_time": "2022-07-18T15:12:47.750Z"
      },
      {
        "duration": 0,
        "start_time": "2022-07-18T15:12:47.752Z"
      },
      {
        "duration": 0,
        "start_time": "2022-07-18T15:12:47.753Z"
      },
      {
        "duration": 0,
        "start_time": "2022-07-18T15:12:47.755Z"
      },
      {
        "duration": 0,
        "start_time": "2022-07-18T15:12:47.756Z"
      },
      {
        "duration": 0,
        "start_time": "2022-07-18T15:12:47.757Z"
      },
      {
        "duration": 0,
        "start_time": "2022-07-18T15:12:47.759Z"
      },
      {
        "duration": 0,
        "start_time": "2022-07-18T15:12:47.760Z"
      },
      {
        "duration": 1048,
        "start_time": "2022-07-18T15:13:04.357Z"
      },
      {
        "duration": 140,
        "start_time": "2022-07-18T15:13:05.407Z"
      },
      {
        "duration": 15,
        "start_time": "2022-07-18T15:13:05.549Z"
      },
      {
        "duration": 17,
        "start_time": "2022-07-18T15:13:05.566Z"
      },
      {
        "duration": 56,
        "start_time": "2022-07-18T15:13:05.584Z"
      },
      {
        "duration": 9,
        "start_time": "2022-07-18T15:13:05.642Z"
      },
      {
        "duration": 47,
        "start_time": "2022-07-18T15:13:05.653Z"
      },
      {
        "duration": 122,
        "start_time": "2022-07-18T15:13:05.702Z"
      },
      {
        "duration": 15,
        "start_time": "2022-07-18T15:13:05.826Z"
      },
      {
        "duration": 10,
        "start_time": "2022-07-18T15:13:05.845Z"
      },
      {
        "duration": 38,
        "start_time": "2022-07-18T15:13:05.856Z"
      },
      {
        "duration": 32,
        "start_time": "2022-07-18T15:13:05.896Z"
      },
      {
        "duration": 49,
        "start_time": "2022-07-18T15:13:05.930Z"
      },
      {
        "duration": 142,
        "start_time": "2022-07-18T15:13:05.981Z"
      },
      {
        "duration": 15,
        "start_time": "2022-07-18T15:13:06.124Z"
      },
      {
        "duration": 9,
        "start_time": "2022-07-18T15:13:06.141Z"
      },
      {
        "duration": 43,
        "start_time": "2022-07-18T15:13:06.151Z"
      },
      {
        "duration": 28,
        "start_time": "2022-07-18T15:13:06.196Z"
      },
      {
        "duration": 47,
        "start_time": "2022-07-18T15:13:06.226Z"
      },
      {
        "duration": 5,
        "start_time": "2022-07-18T15:13:06.274Z"
      },
      {
        "duration": 17,
        "start_time": "2022-07-18T15:13:06.280Z"
      },
      {
        "duration": 4,
        "start_time": "2022-07-18T15:13:06.298Z"
      },
      {
        "duration": 22,
        "start_time": "2022-07-18T15:13:06.304Z"
      },
      {
        "duration": 7,
        "start_time": "2022-07-18T15:13:06.327Z"
      },
      {
        "duration": 6,
        "start_time": "2022-07-18T15:13:06.335Z"
      },
      {
        "duration": 19,
        "start_time": "2022-07-18T15:13:06.342Z"
      },
      {
        "duration": 65,
        "start_time": "2022-07-18T15:13:06.362Z"
      },
      {
        "duration": 122,
        "start_time": "2022-07-18T15:13:06.432Z"
      },
      {
        "duration": 20,
        "start_time": "2022-07-18T15:13:06.556Z"
      },
      {
        "duration": 27,
        "start_time": "2022-07-18T15:13:06.578Z"
      },
      {
        "duration": 22,
        "start_time": "2022-07-18T15:13:06.606Z"
      },
      {
        "duration": 37,
        "start_time": "2022-07-18T15:13:06.630Z"
      },
      {
        "duration": 31,
        "start_time": "2022-07-18T15:13:06.669Z"
      },
      {
        "duration": 127,
        "start_time": "2022-07-18T15:13:06.701Z"
      },
      {
        "duration": 7,
        "start_time": "2022-07-18T15:13:06.830Z"
      },
      {
        "duration": 12,
        "start_time": "2022-07-18T15:13:06.838Z"
      },
      {
        "duration": 6,
        "start_time": "2022-07-18T15:13:06.851Z"
      },
      {
        "duration": 15,
        "start_time": "2022-07-18T15:13:06.858Z"
      },
      {
        "duration": 55,
        "start_time": "2022-07-18T15:13:06.875Z"
      },
      {
        "duration": 4,
        "start_time": "2022-07-18T15:13:06.932Z"
      },
      {
        "duration": 94,
        "start_time": "2022-07-18T15:13:06.939Z"
      },
      {
        "duration": 103,
        "start_time": "2022-07-18T15:13:07.035Z"
      },
      {
        "duration": 9,
        "start_time": "2022-07-18T15:13:07.140Z"
      },
      {
        "duration": 16,
        "start_time": "2022-07-18T15:13:07.151Z"
      },
      {
        "duration": 8,
        "start_time": "2022-07-18T15:13:07.168Z"
      },
      {
        "duration": 9,
        "start_time": "2022-07-18T15:13:07.177Z"
      },
      {
        "duration": 7,
        "start_time": "2022-07-18T15:13:07.188Z"
      },
      {
        "duration": 27,
        "start_time": "2022-07-18T15:13:07.197Z"
      },
      {
        "duration": 1988,
        "start_time": "2022-07-18T15:13:07.226Z"
      },
      {
        "duration": 94,
        "start_time": "2022-07-18T15:13:09.216Z"
      },
      {
        "duration": 0,
        "start_time": "2022-07-18T15:13:09.312Z"
      },
      {
        "duration": 0,
        "start_time": "2022-07-18T15:13:09.313Z"
      },
      {
        "duration": 0,
        "start_time": "2022-07-18T15:13:09.314Z"
      },
      {
        "duration": 0,
        "start_time": "2022-07-18T15:13:09.324Z"
      },
      {
        "duration": 0,
        "start_time": "2022-07-18T15:13:09.325Z"
      },
      {
        "duration": 0,
        "start_time": "2022-07-18T15:13:09.326Z"
      },
      {
        "duration": 0,
        "start_time": "2022-07-18T15:13:09.327Z"
      },
      {
        "duration": 0,
        "start_time": "2022-07-18T15:13:09.328Z"
      },
      {
        "duration": 0,
        "start_time": "2022-07-18T15:13:09.329Z"
      },
      {
        "duration": 0,
        "start_time": "2022-07-18T15:13:09.329Z"
      },
      {
        "duration": 0,
        "start_time": "2022-07-18T15:13:09.330Z"
      },
      {
        "duration": 0,
        "start_time": "2022-07-18T15:13:09.331Z"
      },
      {
        "duration": 0,
        "start_time": "2022-07-18T15:13:09.333Z"
      },
      {
        "duration": 0,
        "start_time": "2022-07-18T15:13:09.334Z"
      },
      {
        "duration": 0,
        "start_time": "2022-07-18T15:13:09.336Z"
      },
      {
        "duration": 0,
        "start_time": "2022-07-18T15:13:09.338Z"
      },
      {
        "duration": 0,
        "start_time": "2022-07-18T15:13:09.340Z"
      },
      {
        "duration": 1074,
        "start_time": "2022-07-18T15:13:40.063Z"
      },
      {
        "duration": 137,
        "start_time": "2022-07-18T15:13:41.140Z"
      },
      {
        "duration": 15,
        "start_time": "2022-07-18T15:13:41.279Z"
      },
      {
        "duration": 28,
        "start_time": "2022-07-18T15:13:41.296Z"
      },
      {
        "duration": 37,
        "start_time": "2022-07-18T15:13:41.325Z"
      },
      {
        "duration": 9,
        "start_time": "2022-07-18T15:13:41.364Z"
      },
      {
        "duration": 66,
        "start_time": "2022-07-18T15:13:41.375Z"
      },
      {
        "duration": 121,
        "start_time": "2022-07-18T15:13:41.443Z"
      },
      {
        "duration": 14,
        "start_time": "2022-07-18T15:13:41.565Z"
      },
      {
        "duration": 9,
        "start_time": "2022-07-18T15:13:41.582Z"
      },
      {
        "duration": 45,
        "start_time": "2022-07-18T15:13:41.593Z"
      },
      {
        "duration": 9,
        "start_time": "2022-07-18T15:13:41.640Z"
      },
      {
        "duration": 42,
        "start_time": "2022-07-18T15:13:41.651Z"
      },
      {
        "duration": 119,
        "start_time": "2022-07-18T15:13:41.694Z"
      },
      {
        "duration": 15,
        "start_time": "2022-07-18T15:13:41.815Z"
      },
      {
        "duration": 9,
        "start_time": "2022-07-18T15:13:41.832Z"
      },
      {
        "duration": 35,
        "start_time": "2022-07-18T15:13:41.842Z"
      },
      {
        "duration": 8,
        "start_time": "2022-07-18T15:13:41.879Z"
      },
      {
        "duration": 67,
        "start_time": "2022-07-18T15:13:41.889Z"
      },
      {
        "duration": 4,
        "start_time": "2022-07-18T15:13:41.957Z"
      },
      {
        "duration": 18,
        "start_time": "2022-07-18T15:13:41.962Z"
      },
      {
        "duration": 3,
        "start_time": "2022-07-18T15:13:41.982Z"
      },
      {
        "duration": 9,
        "start_time": "2022-07-18T15:13:41.986Z"
      },
      {
        "duration": 9,
        "start_time": "2022-07-18T15:13:41.996Z"
      },
      {
        "duration": 18,
        "start_time": "2022-07-18T15:13:42.007Z"
      },
      {
        "duration": 18,
        "start_time": "2022-07-18T15:13:42.027Z"
      },
      {
        "duration": 77,
        "start_time": "2022-07-18T15:13:42.046Z"
      },
      {
        "duration": 106,
        "start_time": "2022-07-18T15:13:42.128Z"
      },
      {
        "duration": 10,
        "start_time": "2022-07-18T15:13:42.236Z"
      },
      {
        "duration": 16,
        "start_time": "2022-07-18T15:13:42.248Z"
      },
      {
        "duration": 8,
        "start_time": "2022-07-18T15:13:42.265Z"
      },
      {
        "duration": 15,
        "start_time": "2022-07-18T15:13:42.274Z"
      },
      {
        "duration": 33,
        "start_time": "2022-07-18T15:13:42.290Z"
      },
      {
        "duration": 3,
        "start_time": "2022-07-18T15:13:42.326Z"
      },
      {
        "duration": 111,
        "start_time": "2022-07-18T15:13:42.331Z"
      },
      {
        "duration": 11,
        "start_time": "2022-07-18T15:13:42.444Z"
      },
      {
        "duration": 5,
        "start_time": "2022-07-18T15:13:42.457Z"
      },
      {
        "duration": 65,
        "start_time": "2022-07-18T15:13:42.463Z"
      },
      {
        "duration": 11,
        "start_time": "2022-07-18T15:13:42.529Z"
      },
      {
        "duration": 4,
        "start_time": "2022-07-18T15:13:42.542Z"
      },
      {
        "duration": 182,
        "start_time": "2022-07-18T15:13:42.548Z"
      },
      {
        "duration": 12,
        "start_time": "2022-07-18T15:13:42.732Z"
      },
      {
        "duration": 5,
        "start_time": "2022-07-18T15:13:42.746Z"
      },
      {
        "duration": 11,
        "start_time": "2022-07-18T15:13:42.753Z"
      },
      {
        "duration": 7,
        "start_time": "2022-07-18T15:13:42.766Z"
      },
      {
        "duration": 10,
        "start_time": "2022-07-18T15:13:42.775Z"
      },
      {
        "duration": 3,
        "start_time": "2022-07-18T15:13:42.787Z"
      },
      {
        "duration": 33,
        "start_time": "2022-07-18T15:13:42.792Z"
      },
      {
        "duration": 1787,
        "start_time": "2022-07-18T15:13:42.826Z"
      },
      {
        "duration": 96,
        "start_time": "2022-07-18T15:13:44.614Z"
      },
      {
        "duration": 0,
        "start_time": "2022-07-18T15:13:44.712Z"
      },
      {
        "duration": 0,
        "start_time": "2022-07-18T15:13:44.712Z"
      },
      {
        "duration": 0,
        "start_time": "2022-07-18T15:13:44.714Z"
      },
      {
        "duration": 0,
        "start_time": "2022-07-18T15:13:44.715Z"
      },
      {
        "duration": 0,
        "start_time": "2022-07-18T15:13:44.716Z"
      },
      {
        "duration": 0,
        "start_time": "2022-07-18T15:13:44.722Z"
      },
      {
        "duration": 0,
        "start_time": "2022-07-18T15:13:44.723Z"
      },
      {
        "duration": 0,
        "start_time": "2022-07-18T15:13:44.724Z"
      },
      {
        "duration": 0,
        "start_time": "2022-07-18T15:13:44.725Z"
      },
      {
        "duration": 0,
        "start_time": "2022-07-18T15:13:44.726Z"
      },
      {
        "duration": 0,
        "start_time": "2022-07-18T15:13:44.727Z"
      },
      {
        "duration": 0,
        "start_time": "2022-07-18T15:13:44.728Z"
      },
      {
        "duration": 0,
        "start_time": "2022-07-18T15:13:44.729Z"
      },
      {
        "duration": 0,
        "start_time": "2022-07-18T15:13:44.730Z"
      },
      {
        "duration": 0,
        "start_time": "2022-07-18T15:13:44.731Z"
      },
      {
        "duration": 0,
        "start_time": "2022-07-18T15:13:44.732Z"
      },
      {
        "duration": 0,
        "start_time": "2022-07-18T15:13:44.734Z"
      },
      {
        "duration": 1700,
        "start_time": "2022-07-18T15:14:10.103Z"
      },
      {
        "duration": 8,
        "start_time": "2022-07-18T15:14:11.804Z"
      },
      {
        "duration": 15,
        "start_time": "2022-07-18T15:14:47.317Z"
      },
      {
        "duration": 8,
        "start_time": "2022-07-18T15:15:14.784Z"
      },
      {
        "duration": 8,
        "start_time": "2022-07-18T15:15:18.795Z"
      },
      {
        "duration": 3,
        "start_time": "2022-07-18T15:16:20.086Z"
      },
      {
        "duration": 120,
        "start_time": "2022-07-18T15:16:20.690Z"
      },
      {
        "duration": 13,
        "start_time": "2022-07-18T15:16:21.244Z"
      },
      {
        "duration": 10,
        "start_time": "2022-07-18T15:16:21.988Z"
      },
      {
        "duration": 36,
        "start_time": "2022-07-18T15:16:24.087Z"
      },
      {
        "duration": 9,
        "start_time": "2022-07-18T15:16:24.284Z"
      },
      {
        "duration": 46,
        "start_time": "2022-07-18T15:16:24.470Z"
      },
      {
        "duration": 122,
        "start_time": "2022-07-18T15:16:25.398Z"
      },
      {
        "duration": 16,
        "start_time": "2022-07-18T15:16:26.008Z"
      },
      {
        "duration": 9,
        "start_time": "2022-07-18T15:16:26.931Z"
      },
      {
        "duration": 35,
        "start_time": "2022-07-18T15:16:27.575Z"
      },
      {
        "duration": 9,
        "start_time": "2022-07-18T15:16:28.114Z"
      },
      {
        "duration": 52,
        "start_time": "2022-07-18T15:16:29.025Z"
      },
      {
        "duration": 122,
        "start_time": "2022-07-18T15:16:30.132Z"
      },
      {
        "duration": 12,
        "start_time": "2022-07-18T15:16:30.301Z"
      },
      {
        "duration": 9,
        "start_time": "2022-07-18T15:16:30.485Z"
      },
      {
        "duration": 34,
        "start_time": "2022-07-18T15:16:30.687Z"
      },
      {
        "duration": 10,
        "start_time": "2022-07-18T15:16:30.887Z"
      },
      {
        "duration": 43,
        "start_time": "2022-07-18T15:16:31.105Z"
      },
      {
        "duration": 4,
        "start_time": "2022-07-18T15:16:32.337Z"
      },
      {
        "duration": 11,
        "start_time": "2022-07-18T15:16:32.863Z"
      },
      {
        "duration": 3,
        "start_time": "2022-07-18T15:16:33.418Z"
      },
      {
        "duration": 4,
        "start_time": "2022-07-18T15:16:33.639Z"
      },
      {
        "duration": 3,
        "start_time": "2022-07-18T15:16:34.307Z"
      },
      {
        "duration": 5,
        "start_time": "2022-07-18T15:16:34.848Z"
      },
      {
        "duration": 15,
        "start_time": "2022-07-18T15:16:35.442Z"
      },
      {
        "duration": 4,
        "start_time": "2022-07-18T15:16:35.925Z"
      },
      {
        "duration": 3,
        "start_time": "2022-07-18T15:16:36.284Z"
      },
      {
        "duration": 4,
        "start_time": "2022-07-18T15:16:36.828Z"
      },
      {
        "duration": 11,
        "start_time": "2022-07-18T15:16:38.459Z"
      },
      {
        "duration": 5,
        "start_time": "2022-07-18T15:16:39.993Z"
      },
      {
        "duration": 12,
        "start_time": "2022-07-18T15:16:40.567Z"
      },
      {
        "duration": 15,
        "start_time": "2022-07-18T15:16:41.037Z"
      },
      {
        "duration": 3,
        "start_time": "2022-07-18T15:16:41.628Z"
      },
      {
        "duration": 4,
        "start_time": "2022-07-18T15:16:42.160Z"
      },
      {
        "duration": 11,
        "start_time": "2022-07-18T15:16:43.098Z"
      },
      {
        "duration": 5,
        "start_time": "2022-07-18T15:16:44.299Z"
      },
      {
        "duration": 10,
        "start_time": "2022-07-18T15:16:44.618Z"
      },
      {
        "duration": 14,
        "start_time": "2022-07-18T15:16:45.035Z"
      },
      {
        "duration": 4,
        "start_time": "2022-07-18T15:16:45.525Z"
      },
      {
        "duration": 4,
        "start_time": "2022-07-18T15:16:45.721Z"
      },
      {
        "duration": 9,
        "start_time": "2022-07-18T15:16:45.935Z"
      },
      {
        "duration": 4,
        "start_time": "2022-07-18T15:16:47.541Z"
      },
      {
        "duration": 8,
        "start_time": "2022-07-18T15:16:48.254Z"
      },
      {
        "duration": 7,
        "start_time": "2022-07-18T15:16:48.806Z"
      },
      {
        "duration": 11,
        "start_time": "2022-07-18T15:16:49.298Z"
      },
      {
        "duration": 3,
        "start_time": "2022-07-18T15:16:51.246Z"
      },
      {
        "duration": 3,
        "start_time": "2022-07-18T15:16:52.022Z"
      },
      {
        "duration": 1769,
        "start_time": "2022-07-18T15:16:53.400Z"
      },
      {
        "duration": 8,
        "start_time": "2022-07-18T15:16:55.171Z"
      },
      {
        "duration": 4,
        "start_time": "2022-07-18T15:17:09.546Z"
      },
      {
        "duration": 4,
        "start_time": "2022-07-18T15:17:15.007Z"
      },
      {
        "duration": 9,
        "start_time": "2022-07-18T15:17:15.760Z"
      },
      {
        "duration": 13,
        "start_time": "2022-07-18T15:17:17.524Z"
      },
      {
        "duration": 6,
        "start_time": "2022-07-18T15:17:21.937Z"
      },
      {
        "duration": 552,
        "start_time": "2022-07-18T15:17:29.060Z"
      },
      {
        "duration": 183,
        "start_time": "2022-07-18T15:17:36.277Z"
      },
      {
        "duration": 1686,
        "start_time": "2022-07-18T15:17:39.344Z"
      },
      {
        "duration": 3,
        "start_time": "2022-07-18T15:17:41.032Z"
      },
      {
        "duration": 4,
        "start_time": "2022-07-18T15:17:58.692Z"
      },
      {
        "duration": 3,
        "start_time": "2022-07-18T15:18:04.166Z"
      },
      {
        "duration": 5,
        "start_time": "2022-07-18T15:18:04.753Z"
      },
      {
        "duration": 4,
        "start_time": "2022-07-18T15:18:07.665Z"
      },
      {
        "duration": 7,
        "start_time": "2022-07-18T15:18:08.850Z"
      },
      {
        "duration": 235,
        "start_time": "2022-07-18T15:18:13.857Z"
      },
      {
        "duration": 1749,
        "start_time": "2022-07-18T15:18:17.958Z"
      },
      {
        "duration": 3,
        "start_time": "2022-07-18T15:18:20.451Z"
      },
      {
        "duration": 4,
        "start_time": "2022-07-18T15:18:32.951Z"
      },
      {
        "duration": 3,
        "start_time": "2022-07-18T15:18:35.131Z"
      },
      {
        "duration": 5,
        "start_time": "2022-07-18T15:18:35.765Z"
      },
      {
        "duration": 3,
        "start_time": "2022-07-18T15:18:36.851Z"
      },
      {
        "duration": 4,
        "start_time": "2022-07-18T15:18:39.431Z"
      },
      {
        "duration": 190,
        "start_time": "2022-07-18T15:18:41.823Z"
      },
      {
        "duration": 4,
        "start_time": "2022-07-18T15:22:03.591Z"
      },
      {
        "duration": 140,
        "start_time": "2022-07-18T15:22:04.498Z"
      },
      {
        "duration": 14,
        "start_time": "2022-07-18T15:22:05.022Z"
      },
      {
        "duration": 10,
        "start_time": "2022-07-18T15:22:07.397Z"
      },
      {
        "duration": 117,
        "start_time": "2022-07-18T15:22:10.016Z"
      },
      {
        "duration": 11,
        "start_time": "2022-07-18T15:22:12.375Z"
      },
      {
        "duration": 45,
        "start_time": "2022-07-18T15:22:14.283Z"
      },
      {
        "duration": 125,
        "start_time": "2022-07-18T15:22:15.778Z"
      },
      {
        "duration": 13,
        "start_time": "2022-07-18T15:22:17.635Z"
      },
      {
        "duration": 10,
        "start_time": "2022-07-18T15:22:20.358Z"
      },
      {
        "duration": 35,
        "start_time": "2022-07-18T15:22:22.346Z"
      },
      {
        "duration": 10,
        "start_time": "2022-07-18T15:22:24.662Z"
      },
      {
        "duration": 50,
        "start_time": "2022-07-18T15:22:25.239Z"
      },
      {
        "duration": 124,
        "start_time": "2022-07-18T15:22:27.949Z"
      },
      {
        "duration": 14,
        "start_time": "2022-07-18T15:22:29.211Z"
      },
      {
        "duration": 9,
        "start_time": "2022-07-18T15:22:31.225Z"
      },
      {
        "duration": 34,
        "start_time": "2022-07-18T15:22:33.187Z"
      },
      {
        "duration": 10,
        "start_time": "2022-07-18T15:22:35.391Z"
      },
      {
        "duration": 45,
        "start_time": "2022-07-18T15:22:35.938Z"
      },
      {
        "duration": 4,
        "start_time": "2022-07-18T15:22:41.605Z"
      },
      {
        "duration": 12,
        "start_time": "2022-07-18T15:22:42.422Z"
      },
      {
        "duration": 3,
        "start_time": "2022-07-18T15:22:43.041Z"
      },
      {
        "duration": 4,
        "start_time": "2022-07-18T15:22:44.972Z"
      },
      {
        "duration": 4,
        "start_time": "2022-07-18T15:22:45.460Z"
      },
      {
        "duration": 6,
        "start_time": "2022-07-18T15:22:46.036Z"
      },
      {
        "duration": 13,
        "start_time": "2022-07-18T15:22:49.078Z"
      },
      {
        "duration": 4,
        "start_time": "2022-07-18T15:22:49.826Z"
      },
      {
        "duration": 4,
        "start_time": "2022-07-18T15:22:52.381Z"
      },
      {
        "duration": 4,
        "start_time": "2022-07-18T15:22:53.086Z"
      },
      {
        "duration": 9,
        "start_time": "2022-07-18T15:22:58.241Z"
      },
      {
        "duration": 15,
        "start_time": "2022-07-18T15:23:49.591Z"
      },
      {
        "duration": 9,
        "start_time": "2022-07-18T15:24:20.554Z"
      },
      {
        "duration": 5,
        "start_time": "2022-07-18T15:24:53.347Z"
      },
      {
        "duration": 25,
        "start_time": "2022-07-18T15:24:59.640Z"
      },
      {
        "duration": 6,
        "start_time": "2022-07-18T15:25:07.680Z"
      },
      {
        "duration": 12,
        "start_time": "2022-07-18T15:25:08.143Z"
      },
      {
        "duration": 12,
        "start_time": "2022-07-18T15:25:20.883Z"
      },
      {
        "duration": 3,
        "start_time": "2022-07-18T15:25:30.539Z"
      },
      {
        "duration": 4,
        "start_time": "2022-07-18T15:25:39.643Z"
      },
      {
        "duration": 10,
        "start_time": "2022-07-18T15:25:51.349Z"
      },
      {
        "duration": 4,
        "start_time": "2022-07-18T15:26:10.463Z"
      },
      {
        "duration": 18,
        "start_time": "2022-07-18T15:26:19.906Z"
      },
      {
        "duration": 17,
        "start_time": "2022-07-18T15:26:50.974Z"
      },
      {
        "duration": 6,
        "start_time": "2022-07-18T15:26:51.580Z"
      },
      {
        "duration": 4,
        "start_time": "2022-07-18T15:26:52.042Z"
      },
      {
        "duration": 9,
        "start_time": "2022-07-18T15:27:06.067Z"
      },
      {
        "duration": 4,
        "start_time": "2022-07-18T15:27:27.647Z"
      },
      {
        "duration": 140,
        "start_time": "2022-07-18T15:28:27.146Z"
      },
      {
        "duration": 4,
        "start_time": "2022-07-18T15:28:41.371Z"
      },
      {
        "duration": 9,
        "start_time": "2022-07-18T15:28:58.443Z"
      },
      {
        "duration": 132,
        "start_time": "2022-07-18T15:29:15.844Z"
      },
      {
        "duration": 4,
        "start_time": "2022-07-18T15:29:24.020Z"
      },
      {
        "duration": 4,
        "start_time": "2022-07-18T15:29:36.053Z"
      },
      {
        "duration": 1735,
        "start_time": "2022-07-18T15:30:44.352Z"
      },
      {
        "duration": 3,
        "start_time": "2022-07-18T15:30:46.089Z"
      },
      {
        "duration": 10,
        "start_time": "2022-07-18T15:31:00.952Z"
      },
      {
        "duration": 4,
        "start_time": "2022-07-18T15:31:16.003Z"
      },
      {
        "duration": 2,
        "start_time": "2022-07-18T15:31:38.183Z"
      },
      {
        "duration": 4,
        "start_time": "2022-07-18T15:31:38.657Z"
      },
      {
        "duration": 4,
        "start_time": "2022-07-18T15:31:43.907Z"
      },
      {
        "duration": 5,
        "start_time": "2022-07-18T15:32:01.986Z"
      },
      {
        "duration": 188,
        "start_time": "2022-07-18T15:32:06.785Z"
      },
      {
        "duration": 1699,
        "start_time": "2022-07-18T15:32:22.903Z"
      },
      {
        "duration": 9,
        "start_time": "2022-07-18T15:32:27.150Z"
      },
      {
        "duration": 4,
        "start_time": "2022-07-18T15:32:43.229Z"
      },
      {
        "duration": 10,
        "start_time": "2022-07-18T15:33:10.390Z"
      },
      {
        "duration": 3,
        "start_time": "2022-07-18T15:33:14.919Z"
      },
      {
        "duration": 4,
        "start_time": "2022-07-18T15:33:15.489Z"
      },
      {
        "duration": 4,
        "start_time": "2022-07-18T15:33:36.361Z"
      },
      {
        "duration": 4,
        "start_time": "2022-07-18T15:34:07.801Z"
      },
      {
        "duration": 4,
        "start_time": "2022-07-18T15:34:35.042Z"
      },
      {
        "duration": 6,
        "start_time": "2022-07-18T15:34:36.171Z"
      },
      {
        "duration": 179,
        "start_time": "2022-07-18T15:34:44.974Z"
      },
      {
        "duration": 1856,
        "start_time": "2022-07-18T15:35:19.159Z"
      },
      {
        "duration": 4,
        "start_time": "2022-07-18T15:35:33.641Z"
      },
      {
        "duration": 4,
        "start_time": "2022-07-18T15:35:41.498Z"
      },
      {
        "duration": 5,
        "start_time": "2022-07-18T15:35:49.413Z"
      },
      {
        "duration": 3,
        "start_time": "2022-07-18T15:35:57.297Z"
      },
      {
        "duration": 7,
        "start_time": "2022-07-18T15:36:12.016Z"
      },
      {
        "duration": 192,
        "start_time": "2022-07-18T15:36:18.357Z"
      },
      {
        "duration": 12,
        "start_time": "2022-07-18T15:43:08.406Z"
      },
      {
        "duration": 1141,
        "start_time": "2022-07-18T15:43:13.472Z"
      },
      {
        "duration": 145,
        "start_time": "2022-07-18T15:43:14.615Z"
      },
      {
        "duration": 14,
        "start_time": "2022-07-18T15:43:14.762Z"
      },
      {
        "duration": 15,
        "start_time": "2022-07-18T15:43:14.778Z"
      },
      {
        "duration": 53,
        "start_time": "2022-07-18T15:43:14.795Z"
      },
      {
        "duration": 11,
        "start_time": "2022-07-18T15:43:14.850Z"
      },
      {
        "duration": 85,
        "start_time": "2022-07-18T15:43:14.863Z"
      },
      {
        "duration": 119,
        "start_time": "2022-07-18T15:43:14.950Z"
      },
      {
        "duration": 14,
        "start_time": "2022-07-18T15:43:15.071Z"
      },
      {
        "duration": 12,
        "start_time": "2022-07-18T15:43:15.088Z"
      },
      {
        "duration": 56,
        "start_time": "2022-07-18T15:43:15.102Z"
      },
      {
        "duration": 12,
        "start_time": "2022-07-18T15:43:15.159Z"
      },
      {
        "duration": 64,
        "start_time": "2022-07-18T15:43:15.172Z"
      },
      {
        "duration": 123,
        "start_time": "2022-07-18T15:43:15.240Z"
      },
      {
        "duration": 14,
        "start_time": "2022-07-18T15:43:15.364Z"
      },
      {
        "duration": 19,
        "start_time": "2022-07-18T15:43:15.380Z"
      },
      {
        "duration": 69,
        "start_time": "2022-07-18T15:43:15.401Z"
      },
      {
        "duration": 9,
        "start_time": "2022-07-18T15:43:15.471Z"
      },
      {
        "duration": 57,
        "start_time": "2022-07-18T15:43:15.482Z"
      },
      {
        "duration": 4,
        "start_time": "2022-07-18T15:43:15.540Z"
      },
      {
        "duration": 44,
        "start_time": "2022-07-18T15:43:15.546Z"
      },
      {
        "duration": 48,
        "start_time": "2022-07-18T15:43:15.592Z"
      },
      {
        "duration": 21,
        "start_time": "2022-07-18T15:43:15.642Z"
      },
      {
        "duration": 24,
        "start_time": "2022-07-18T15:43:15.665Z"
      },
      {
        "duration": 15,
        "start_time": "2022-07-18T15:43:15.690Z"
      },
      {
        "duration": 32,
        "start_time": "2022-07-18T15:43:15.707Z"
      },
      {
        "duration": 80,
        "start_time": "2022-07-18T15:43:15.743Z"
      },
      {
        "duration": 114,
        "start_time": "2022-07-18T15:43:15.828Z"
      },
      {
        "duration": 31,
        "start_time": "2022-07-18T15:43:15.944Z"
      },
      {
        "duration": 30,
        "start_time": "2022-07-18T15:43:15.977Z"
      },
      {
        "duration": 45,
        "start_time": "2022-07-18T15:43:16.009Z"
      },
      {
        "duration": 41,
        "start_time": "2022-07-18T15:43:16.056Z"
      },
      {
        "duration": 22,
        "start_time": "2022-07-18T15:43:16.099Z"
      },
      {
        "duration": 207,
        "start_time": "2022-07-18T15:43:16.128Z"
      },
      {
        "duration": 21,
        "start_time": "2022-07-18T15:43:16.337Z"
      },
      {
        "duration": 32,
        "start_time": "2022-07-18T15:43:16.360Z"
      },
      {
        "duration": 20,
        "start_time": "2022-07-18T15:43:16.394Z"
      },
      {
        "duration": 46,
        "start_time": "2022-07-18T15:43:16.416Z"
      },
      {
        "duration": 37,
        "start_time": "2022-07-18T15:43:16.464Z"
      },
      {
        "duration": 130,
        "start_time": "2022-07-18T15:43:16.506Z"
      },
      {
        "duration": 42,
        "start_time": "2022-07-18T15:43:16.638Z"
      },
      {
        "duration": 24,
        "start_time": "2022-07-18T15:43:16.682Z"
      },
      {
        "duration": 106,
        "start_time": "2022-07-18T15:43:16.708Z"
      },
      {
        "duration": 0,
        "start_time": "2022-07-18T15:43:16.816Z"
      },
      {
        "duration": 0,
        "start_time": "2022-07-18T15:43:16.823Z"
      },
      {
        "duration": 0,
        "start_time": "2022-07-18T15:43:16.824Z"
      },
      {
        "duration": 0,
        "start_time": "2022-07-18T15:43:16.825Z"
      },
      {
        "duration": 0,
        "start_time": "2022-07-18T15:43:16.827Z"
      },
      {
        "duration": 0,
        "start_time": "2022-07-18T15:43:16.828Z"
      },
      {
        "duration": 0,
        "start_time": "2022-07-18T15:43:16.829Z"
      },
      {
        "duration": 0,
        "start_time": "2022-07-18T15:43:16.830Z"
      },
      {
        "duration": 0,
        "start_time": "2022-07-18T15:43:16.832Z"
      },
      {
        "duration": 0,
        "start_time": "2022-07-18T15:43:16.833Z"
      },
      {
        "duration": 0,
        "start_time": "2022-07-18T15:43:16.834Z"
      },
      {
        "duration": 0,
        "start_time": "2022-07-18T15:43:16.835Z"
      },
      {
        "duration": 0,
        "start_time": "2022-07-18T15:43:16.836Z"
      },
      {
        "duration": 0,
        "start_time": "2022-07-18T15:43:16.837Z"
      },
      {
        "duration": 0,
        "start_time": "2022-07-18T15:43:16.839Z"
      },
      {
        "duration": 0,
        "start_time": "2022-07-18T15:43:16.840Z"
      },
      {
        "duration": 0,
        "start_time": "2022-07-18T15:43:16.841Z"
      },
      {
        "duration": 0,
        "start_time": "2022-07-18T15:43:16.842Z"
      },
      {
        "duration": 0,
        "start_time": "2022-07-18T15:43:16.843Z"
      },
      {
        "duration": 0,
        "start_time": "2022-07-18T15:43:16.844Z"
      },
      {
        "duration": 0,
        "start_time": "2022-07-18T15:43:16.845Z"
      },
      {
        "duration": 0,
        "start_time": "2022-07-18T15:43:16.845Z"
      },
      {
        "duration": 0,
        "start_time": "2022-07-18T15:43:16.846Z"
      },
      {
        "duration": 0,
        "start_time": "2022-07-18T15:43:16.847Z"
      },
      {
        "duration": 0,
        "start_time": "2022-07-18T15:43:16.848Z"
      },
      {
        "duration": 0,
        "start_time": "2022-07-18T15:43:16.849Z"
      },
      {
        "duration": 4,
        "start_time": "2022-07-18T15:43:39.992Z"
      },
      {
        "duration": 7,
        "start_time": "2022-07-18T15:43:42.111Z"
      },
      {
        "duration": 10,
        "start_time": "2022-07-18T15:43:42.606Z"
      },
      {
        "duration": 11,
        "start_time": "2022-07-18T15:43:55.822Z"
      },
      {
        "duration": 9,
        "start_time": "2022-07-18T15:44:08.006Z"
      },
      {
        "duration": 4,
        "start_time": "2022-07-18T15:44:11.837Z"
      },
      {
        "duration": 3,
        "start_time": "2022-07-18T15:44:12.404Z"
      },
      {
        "duration": 1777,
        "start_time": "2022-07-18T15:44:15.834Z"
      },
      {
        "duration": 3,
        "start_time": "2022-07-18T15:44:17.613Z"
      },
      {
        "duration": 3,
        "start_time": "2022-07-18T15:44:19.998Z"
      },
      {
        "duration": 6,
        "start_time": "2022-07-18T15:44:22.607Z"
      },
      {
        "duration": 3,
        "start_time": "2022-07-18T15:44:23.695Z"
      },
      {
        "duration": 5,
        "start_time": "2022-07-18T15:44:25.636Z"
      },
      {
        "duration": 498,
        "start_time": "2022-07-18T15:44:28.056Z"
      },
      {
        "duration": 1831,
        "start_time": "2022-07-18T15:44:45.187Z"
      },
      {
        "duration": 4,
        "start_time": "2022-07-18T15:44:49.141Z"
      },
      {
        "duration": 5,
        "start_time": "2022-07-18T15:44:50.323Z"
      },
      {
        "duration": 5,
        "start_time": "2022-07-18T15:44:52.215Z"
      },
      {
        "duration": 7,
        "start_time": "2022-07-18T15:44:53.321Z"
      },
      {
        "duration": 20,
        "start_time": "2022-07-18T15:44:54.791Z"
      },
      {
        "duration": 6,
        "start_time": "2022-07-18T15:45:02.606Z"
      },
      {
        "duration": 192,
        "start_time": "2022-07-18T15:45:07.193Z"
      },
      {
        "duration": 1734,
        "start_time": "2022-07-18T15:45:22.256Z"
      },
      {
        "duration": 3,
        "start_time": "2022-07-18T15:45:26.183Z"
      },
      {
        "duration": 3,
        "start_time": "2022-07-18T15:45:26.654Z"
      },
      {
        "duration": 5,
        "start_time": "2022-07-18T15:45:28.735Z"
      },
      {
        "duration": 4,
        "start_time": "2022-07-18T15:45:32.478Z"
      },
      {
        "duration": 6,
        "start_time": "2022-07-18T15:45:34.465Z"
      },
      {
        "duration": 187,
        "start_time": "2022-07-18T15:45:37.161Z"
      },
      {
        "duration": 7,
        "start_time": "2022-07-18T15:52:52.264Z"
      },
      {
        "duration": 8,
        "start_time": "2022-07-18T15:52:52.689Z"
      },
      {
        "duration": 8,
        "start_time": "2022-07-18T15:52:53.253Z"
      },
      {
        "duration": 1235,
        "start_time": "2022-07-19T12:33:09.557Z"
      },
      {
        "duration": 444,
        "start_time": "2022-07-19T12:33:10.794Z"
      },
      {
        "duration": 16,
        "start_time": "2022-07-19T12:33:11.240Z"
      },
      {
        "duration": 17,
        "start_time": "2022-07-19T12:33:11.259Z"
      },
      {
        "duration": 37,
        "start_time": "2022-07-19T12:33:11.278Z"
      },
      {
        "duration": 22,
        "start_time": "2022-07-19T12:33:11.316Z"
      },
      {
        "duration": 69,
        "start_time": "2022-07-19T12:33:11.340Z"
      },
      {
        "duration": 240,
        "start_time": "2022-07-19T12:33:11.410Z"
      },
      {
        "duration": 14,
        "start_time": "2022-07-19T12:33:11.652Z"
      },
      {
        "duration": 9,
        "start_time": "2022-07-19T12:33:11.669Z"
      },
      {
        "duration": 56,
        "start_time": "2022-07-19T12:33:11.681Z"
      },
      {
        "duration": 21,
        "start_time": "2022-07-19T12:33:11.739Z"
      },
      {
        "duration": 63,
        "start_time": "2022-07-19T12:33:11.762Z"
      },
      {
        "duration": 260,
        "start_time": "2022-07-19T12:33:11.831Z"
      },
      {
        "duration": 15,
        "start_time": "2022-07-19T12:33:12.093Z"
      },
      {
        "duration": 16,
        "start_time": "2022-07-19T12:33:12.110Z"
      },
      {
        "duration": 51,
        "start_time": "2022-07-19T12:33:12.129Z"
      },
      {
        "duration": 11,
        "start_time": "2022-07-19T12:33:12.182Z"
      },
      {
        "duration": 59,
        "start_time": "2022-07-19T12:33:12.195Z"
      },
      {
        "duration": 5,
        "start_time": "2022-07-19T12:33:12.255Z"
      },
      {
        "duration": 22,
        "start_time": "2022-07-19T12:33:12.261Z"
      },
      {
        "duration": 4,
        "start_time": "2022-07-19T12:33:12.285Z"
      },
      {
        "duration": 11,
        "start_time": "2022-07-19T12:33:12.291Z"
      },
      {
        "duration": 36,
        "start_time": "2022-07-19T12:33:12.304Z"
      },
      {
        "duration": 14,
        "start_time": "2022-07-19T12:33:12.341Z"
      },
      {
        "duration": 32,
        "start_time": "2022-07-19T12:33:12.357Z"
      },
      {
        "duration": 6,
        "start_time": "2022-07-19T12:33:12.423Z"
      },
      {
        "duration": 104,
        "start_time": "2022-07-19T12:33:12.440Z"
      },
      {
        "duration": 18,
        "start_time": "2022-07-19T12:33:12.546Z"
      },
      {
        "duration": 20,
        "start_time": "2022-07-19T12:33:12.566Z"
      },
      {
        "duration": 11,
        "start_time": "2022-07-19T12:33:12.588Z"
      },
      {
        "duration": 32,
        "start_time": "2022-07-19T12:33:12.601Z"
      },
      {
        "duration": 16,
        "start_time": "2022-07-19T12:33:12.634Z"
      },
      {
        "duration": 173,
        "start_time": "2022-07-19T12:33:12.657Z"
      },
      {
        "duration": 13,
        "start_time": "2022-07-19T12:33:12.835Z"
      },
      {
        "duration": 13,
        "start_time": "2022-07-19T12:33:12.850Z"
      },
      {
        "duration": 9,
        "start_time": "2022-07-19T12:33:12.865Z"
      },
      {
        "duration": 19,
        "start_time": "2022-07-19T12:33:12.875Z"
      },
      {
        "duration": 32,
        "start_time": "2022-07-19T12:33:12.896Z"
      },
      {
        "duration": 6,
        "start_time": "2022-07-19T12:33:12.930Z"
      },
      {
        "duration": 121,
        "start_time": "2022-07-19T12:33:12.938Z"
      },
      {
        "duration": 75,
        "start_time": "2022-07-19T12:33:13.061Z"
      },
      {
        "duration": 5,
        "start_time": "2022-07-19T12:33:13.139Z"
      },
      {
        "duration": 19,
        "start_time": "2022-07-19T12:33:13.145Z"
      },
      {
        "duration": 8,
        "start_time": "2022-07-19T12:33:13.166Z"
      },
      {
        "duration": 16,
        "start_time": "2022-07-19T12:33:13.175Z"
      },
      {
        "duration": 11,
        "start_time": "2022-07-19T12:33:13.193Z"
      },
      {
        "duration": 26,
        "start_time": "2022-07-19T12:33:13.206Z"
      },
      {
        "duration": 134,
        "start_time": "2022-07-19T12:33:13.235Z"
      },
      {
        "duration": 0,
        "start_time": "2022-07-19T12:33:13.372Z"
      },
      {
        "duration": 0,
        "start_time": "2022-07-19T12:33:13.372Z"
      },
      {
        "duration": 0,
        "start_time": "2022-07-19T12:33:13.374Z"
      },
      {
        "duration": 0,
        "start_time": "2022-07-19T12:33:13.375Z"
      },
      {
        "duration": 0,
        "start_time": "2022-07-19T12:33:13.376Z"
      },
      {
        "duration": 0,
        "start_time": "2022-07-19T12:33:13.377Z"
      },
      {
        "duration": 0,
        "start_time": "2022-07-19T12:33:13.378Z"
      },
      {
        "duration": 0,
        "start_time": "2022-07-19T12:33:13.379Z"
      },
      {
        "duration": 0,
        "start_time": "2022-07-19T12:33:13.380Z"
      },
      {
        "duration": 0,
        "start_time": "2022-07-19T12:33:13.382Z"
      },
      {
        "duration": 0,
        "start_time": "2022-07-19T12:33:13.383Z"
      },
      {
        "duration": 0,
        "start_time": "2022-07-19T12:33:13.384Z"
      },
      {
        "duration": 0,
        "start_time": "2022-07-19T12:33:13.385Z"
      },
      {
        "duration": 0,
        "start_time": "2022-07-19T12:33:13.386Z"
      },
      {
        "duration": 0,
        "start_time": "2022-07-19T12:33:13.387Z"
      },
      {
        "duration": 0,
        "start_time": "2022-07-19T12:33:13.388Z"
      },
      {
        "duration": 0,
        "start_time": "2022-07-19T12:33:13.390Z"
      },
      {
        "duration": 0,
        "start_time": "2022-07-19T12:33:13.391Z"
      },
      {
        "duration": 0,
        "start_time": "2022-07-19T12:33:13.392Z"
      },
      {
        "duration": 0,
        "start_time": "2022-07-19T12:33:13.428Z"
      },
      {
        "duration": 4,
        "start_time": "2022-07-19T12:34:40.058Z"
      },
      {
        "duration": 3,
        "start_time": "2022-07-19T12:34:40.392Z"
      },
      {
        "duration": 19,
        "start_time": "2022-07-19T12:34:43.413Z"
      },
      {
        "duration": 8,
        "start_time": "2022-07-19T12:36:09.341Z"
      },
      {
        "duration": 3,
        "start_time": "2022-07-19T12:36:09.784Z"
      },
      {
        "duration": 2634,
        "start_time": "2022-07-19T12:36:12.786Z"
      },
      {
        "duration": 38,
        "start_time": "2022-07-19T12:36:15.422Z"
      },
      {
        "duration": 3,
        "start_time": "2022-07-19T12:36:16.416Z"
      },
      {
        "duration": 392,
        "start_time": "2022-07-19T12:36:17.300Z"
      },
      {
        "duration": 18,
        "start_time": "2022-07-19T12:36:53.552Z"
      },
      {
        "duration": 12,
        "start_time": "2022-07-19T12:37:32.765Z"
      },
      {
        "duration": 3,
        "start_time": "2022-07-19T12:41:33.514Z"
      },
      {
        "duration": 6,
        "start_time": "2022-07-19T12:41:33.921Z"
      },
      {
        "duration": 2199,
        "start_time": "2022-07-19T12:41:36.835Z"
      },
      {
        "duration": 3,
        "start_time": "2022-07-19T12:41:39.036Z"
      },
      {
        "duration": 4,
        "start_time": "2022-07-19T12:41:41.035Z"
      },
      {
        "duration": 6,
        "start_time": "2022-07-19T12:41:41.889Z"
      },
      {
        "duration": 5,
        "start_time": "2022-07-19T12:41:56.094Z"
      },
      {
        "duration": 5,
        "start_time": "2022-07-19T12:42:05.465Z"
      },
      {
        "duration": 6,
        "start_time": "2022-07-19T12:42:07.071Z"
      },
      {
        "duration": 639,
        "start_time": "2022-07-19T12:42:10.768Z"
      },
      {
        "duration": 2210,
        "start_time": "2022-07-19T12:42:31.351Z"
      },
      {
        "duration": 3,
        "start_time": "2022-07-19T12:42:34.301Z"
      },
      {
        "duration": 6,
        "start_time": "2022-07-19T12:42:34.847Z"
      },
      {
        "duration": 6,
        "start_time": "2022-07-19T12:42:36.989Z"
      },
      {
        "duration": 4,
        "start_time": "2022-07-19T12:42:38.899Z"
      },
      {
        "duration": 6,
        "start_time": "2022-07-19T12:42:40.868Z"
      },
      {
        "duration": 295,
        "start_time": "2022-07-19T12:42:42.284Z"
      },
      {
        "duration": 24,
        "start_time": "2022-07-19T12:43:35.176Z"
      },
      {
        "duration": 2059,
        "start_time": "2022-07-19T12:43:47.322Z"
      },
      {
        "duration": 7,
        "start_time": "2022-07-19T12:43:50.928Z"
      },
      {
        "duration": 4,
        "start_time": "2022-07-19T12:43:51.865Z"
      },
      {
        "duration": 5,
        "start_time": "2022-07-19T12:43:52.687Z"
      },
      {
        "duration": 7,
        "start_time": "2022-07-19T12:43:53.725Z"
      },
      {
        "duration": 6,
        "start_time": "2022-07-19T12:43:56.111Z"
      },
      {
        "duration": 218,
        "start_time": "2022-07-19T12:43:56.416Z"
      },
      {
        "duration": 3,
        "start_time": "2022-07-19T12:48:10.550Z"
      },
      {
        "duration": 3,
        "start_time": "2022-07-19T12:48:11.003Z"
      },
      {
        "duration": 2149,
        "start_time": "2022-07-19T12:48:14.048Z"
      },
      {
        "duration": 3,
        "start_time": "2022-07-19T12:48:16.808Z"
      },
      {
        "duration": 3,
        "start_time": "2022-07-19T12:48:17.311Z"
      },
      {
        "duration": 9,
        "start_time": "2022-07-19T12:48:19.150Z"
      },
      {
        "duration": 3,
        "start_time": "2022-07-19T12:53:32.701Z"
      },
      {
        "duration": 3,
        "start_time": "2022-07-19T12:53:33.046Z"
      },
      {
        "duration": 28,
        "start_time": "2022-07-19T12:53:35.946Z"
      },
      {
        "duration": 8,
        "start_time": "2022-07-19T12:57:20.162Z"
      },
      {
        "duration": 23,
        "start_time": "2022-07-19T12:59:25.591Z"
      },
      {
        "duration": 24,
        "start_time": "2022-07-19T12:59:52.259Z"
      },
      {
        "duration": 28,
        "start_time": "2022-07-19T13:00:17.300Z"
      },
      {
        "duration": 2454,
        "start_time": "2022-07-19T13:11:05.766Z"
      },
      {
        "duration": 4,
        "start_time": "2022-07-19T13:11:09.971Z"
      },
      {
        "duration": 4,
        "start_time": "2022-07-19T13:11:11.363Z"
      },
      {
        "duration": 6,
        "start_time": "2022-07-19T13:11:13.705Z"
      },
      {
        "duration": 5,
        "start_time": "2022-07-19T13:11:15.703Z"
      },
      {
        "duration": 5,
        "start_time": "2022-07-19T13:11:23.687Z"
      },
      {
        "duration": 5,
        "start_time": "2022-07-19T13:11:27.307Z"
      },
      {
        "duration": 189,
        "start_time": "2022-07-19T13:11:30.967Z"
      },
      {
        "duration": 15,
        "start_time": "2022-07-19T13:12:51.507Z"
      },
      {
        "duration": 2406,
        "start_time": "2022-07-19T13:13:09.844Z"
      },
      {
        "duration": 3,
        "start_time": "2022-07-19T13:13:12.954Z"
      },
      {
        "duration": 4,
        "start_time": "2022-07-19T13:13:13.742Z"
      },
      {
        "duration": 6,
        "start_time": "2022-07-19T13:13:14.464Z"
      },
      {
        "duration": 5,
        "start_time": "2022-07-19T13:13:16.829Z"
      },
      {
        "duration": 8,
        "start_time": "2022-07-19T13:13:17.693Z"
      },
      {
        "duration": 216,
        "start_time": "2022-07-19T13:13:22.780Z"
      },
      {
        "duration": 2468,
        "start_time": "2022-07-19T13:14:54.379Z"
      },
      {
        "duration": 4,
        "start_time": "2022-07-19T13:14:57.519Z"
      },
      {
        "duration": 5,
        "start_time": "2022-07-19T13:14:58.822Z"
      },
      {
        "duration": 6,
        "start_time": "2022-07-19T13:15:00.823Z"
      },
      {
        "duration": 5,
        "start_time": "2022-07-19T13:15:02.915Z"
      },
      {
        "duration": 8,
        "start_time": "2022-07-19T13:15:04.022Z"
      },
      {
        "duration": 1116,
        "start_time": "2022-07-19T13:58:16.333Z"
      },
      {
        "duration": 151,
        "start_time": "2022-07-19T13:58:17.451Z"
      },
      {
        "duration": 28,
        "start_time": "2022-07-19T13:58:17.604Z"
      },
      {
        "duration": 20,
        "start_time": "2022-07-19T13:58:17.636Z"
      },
      {
        "duration": 36,
        "start_time": "2022-07-19T13:58:17.658Z"
      },
      {
        "duration": 41,
        "start_time": "2022-07-19T13:58:17.696Z"
      },
      {
        "duration": 48,
        "start_time": "2022-07-19T13:58:17.739Z"
      },
      {
        "duration": 130,
        "start_time": "2022-07-19T13:58:17.789Z"
      },
      {
        "duration": 24,
        "start_time": "2022-07-19T13:58:17.921Z"
      },
      {
        "duration": 17,
        "start_time": "2022-07-19T13:58:17.948Z"
      },
      {
        "duration": 43,
        "start_time": "2022-07-19T13:58:17.967Z"
      },
      {
        "duration": 24,
        "start_time": "2022-07-19T13:58:18.020Z"
      },
      {
        "duration": 46,
        "start_time": "2022-07-19T13:58:18.046Z"
      },
      {
        "duration": 143,
        "start_time": "2022-07-19T13:58:18.094Z"
      },
      {
        "duration": 14,
        "start_time": "2022-07-19T13:58:18.239Z"
      },
      {
        "duration": 9,
        "start_time": "2022-07-19T13:58:18.255Z"
      },
      {
        "duration": 39,
        "start_time": "2022-07-19T13:58:18.266Z"
      },
      {
        "duration": 29,
        "start_time": "2022-07-19T13:58:18.306Z"
      },
      {
        "duration": 50,
        "start_time": "2022-07-19T13:58:18.337Z"
      },
      {
        "duration": 5,
        "start_time": "2022-07-19T13:58:18.388Z"
      },
      {
        "duration": 19,
        "start_time": "2022-07-19T13:58:18.395Z"
      },
      {
        "duration": 25,
        "start_time": "2022-07-19T13:58:18.424Z"
      },
      {
        "duration": 5,
        "start_time": "2022-07-19T13:58:18.451Z"
      },
      {
        "duration": 18,
        "start_time": "2022-07-19T13:58:18.458Z"
      },
      {
        "duration": 9,
        "start_time": "2022-07-19T13:58:18.478Z"
      },
      {
        "duration": 8,
        "start_time": "2022-07-19T13:58:18.489Z"
      },
      {
        "duration": 47,
        "start_time": "2022-07-19T13:58:18.499Z"
      },
      {
        "duration": 5,
        "start_time": "2022-07-19T13:58:18.643Z"
      },
      {
        "duration": 82,
        "start_time": "2022-07-19T13:58:18.650Z"
      },
      {
        "duration": 16,
        "start_time": "2022-07-19T13:58:18.734Z"
      },
      {
        "duration": 26,
        "start_time": "2022-07-19T13:58:18.752Z"
      },
      {
        "duration": 15,
        "start_time": "2022-07-19T13:58:18.780Z"
      },
      {
        "duration": 16,
        "start_time": "2022-07-19T13:58:18.797Z"
      },
      {
        "duration": 20,
        "start_time": "2022-07-19T13:58:18.815Z"
      },
      {
        "duration": 88,
        "start_time": "2022-07-19T13:58:18.838Z"
      },
      {
        "duration": 105,
        "start_time": "2022-07-19T13:58:18.928Z"
      },
      {
        "duration": 25,
        "start_time": "2022-07-19T13:58:19.035Z"
      },
      {
        "duration": 8,
        "start_time": "2022-07-19T13:58:19.063Z"
      },
      {
        "duration": 20,
        "start_time": "2022-07-19T13:58:19.074Z"
      },
      {
        "duration": 42,
        "start_time": "2022-07-19T13:58:19.097Z"
      },
      {
        "duration": 83,
        "start_time": "2022-07-19T13:58:19.142Z"
      },
      {
        "duration": 25,
        "start_time": "2022-07-19T13:58:19.227Z"
      },
      {
        "duration": 18,
        "start_time": "2022-07-19T13:58:19.254Z"
      },
      {
        "duration": 20,
        "start_time": "2022-07-19T13:58:19.274Z"
      },
      {
        "duration": 41,
        "start_time": "2022-07-19T13:58:19.296Z"
      },
      {
        "duration": 8,
        "start_time": "2022-07-19T13:58:19.339Z"
      },
      {
        "duration": 9,
        "start_time": "2022-07-19T13:58:19.349Z"
      },
      {
        "duration": 21,
        "start_time": "2022-07-19T13:58:19.359Z"
      },
      {
        "duration": 17,
        "start_time": "2022-07-19T13:58:19.382Z"
      },
      {
        "duration": 2444,
        "start_time": "2022-07-19T13:58:19.401Z"
      },
      {
        "duration": 3,
        "start_time": "2022-07-19T13:58:21.847Z"
      },
      {
        "duration": 7,
        "start_time": "2022-07-19T13:58:21.852Z"
      },
      {
        "duration": 10,
        "start_time": "2022-07-19T13:58:21.861Z"
      },
      {
        "duration": 9,
        "start_time": "2022-07-19T13:58:21.873Z"
      },
      {
        "duration": 6,
        "start_time": "2022-07-19T13:58:21.883Z"
      },
      {
        "duration": 10,
        "start_time": "2022-07-19T13:58:21.891Z"
      },
      {
        "duration": 27,
        "start_time": "2022-07-19T13:58:21.903Z"
      },
      {
        "duration": 483,
        "start_time": "2022-07-19T13:58:21.934Z"
      },
      {
        "duration": 2596,
        "start_time": "2022-07-19T13:58:22.424Z"
      },
      {
        "duration": 15,
        "start_time": "2022-07-19T13:58:25.022Z"
      },
      {
        "duration": 14,
        "start_time": "2022-07-19T13:58:25.039Z"
      },
      {
        "duration": 11,
        "start_time": "2022-07-19T13:58:25.055Z"
      },
      {
        "duration": 10,
        "start_time": "2022-07-19T13:58:25.067Z"
      },
      {
        "duration": 10,
        "start_time": "2022-07-19T13:58:25.078Z"
      },
      {
        "duration": 193,
        "start_time": "2022-07-19T13:58:25.090Z"
      },
      {
        "duration": 2399,
        "start_time": "2022-07-19T13:58:25.285Z"
      },
      {
        "duration": 3,
        "start_time": "2022-07-19T13:58:27.686Z"
      },
      {
        "duration": 6,
        "start_time": "2022-07-19T13:58:27.691Z"
      },
      {
        "duration": 6,
        "start_time": "2022-07-19T13:58:27.698Z"
      },
      {
        "duration": 28,
        "start_time": "2022-07-19T13:58:27.705Z"
      },
      {
        "duration": 10,
        "start_time": "2022-07-19T13:58:27.735Z"
      },
      {
        "duration": 198,
        "start_time": "2022-07-19T13:58:27.747Z"
      },
      {
        "duration": 6,
        "start_time": "2022-07-19T13:59:08.881Z"
      },
      {
        "duration": 9,
        "start_time": "2022-07-19T13:59:40.797Z"
      },
      {
        "duration": 7,
        "start_time": "2022-07-19T14:01:44.939Z"
      },
      {
        "duration": 5,
        "start_time": "2022-07-19T14:02:08.716Z"
      },
      {
        "duration": 114,
        "start_time": "2022-07-19T14:03:05.350Z"
      },
      {
        "duration": 19,
        "start_time": "2022-07-19T14:03:11.420Z"
      },
      {
        "duration": 5,
        "start_time": "2022-07-19T14:03:38.298Z"
      },
      {
        "duration": 19,
        "start_time": "2022-07-19T14:27:10.618Z"
      },
      {
        "duration": 5,
        "start_time": "2022-07-19T14:27:14.649Z"
      },
      {
        "duration": 8,
        "start_time": "2022-07-19T14:27:16.352Z"
      },
      {
        "duration": 9,
        "start_time": "2022-07-19T14:27:28.609Z"
      },
      {
        "duration": 11,
        "start_time": "2022-07-19T14:27:37.609Z"
      },
      {
        "duration": 2329,
        "start_time": "2022-07-19T14:28:48.638Z"
      },
      {
        "duration": 3,
        "start_time": "2022-07-19T14:28:50.969Z"
      },
      {
        "duration": 4,
        "start_time": "2022-07-19T14:28:51.448Z"
      },
      {
        "duration": 6,
        "start_time": "2022-07-19T14:28:52.033Z"
      },
      {
        "duration": 5,
        "start_time": "2022-07-19T14:28:55.253Z"
      },
      {
        "duration": 6,
        "start_time": "2022-07-19T14:28:57.413Z"
      },
      {
        "duration": 5,
        "start_time": "2022-07-19T14:29:01.942Z"
      },
      {
        "duration": 7,
        "start_time": "2022-07-19T14:29:03.800Z"
      },
      {
        "duration": 6,
        "start_time": "2022-07-19T14:29:05.151Z"
      },
      {
        "duration": 6,
        "start_time": "2022-07-19T14:29:06.058Z"
      },
      {
        "duration": 2430,
        "start_time": "2022-07-19T14:29:48.157Z"
      },
      {
        "duration": 3,
        "start_time": "2022-07-19T14:29:50.589Z"
      },
      {
        "duration": 10,
        "start_time": "2022-07-19T14:29:50.593Z"
      },
      {
        "duration": 12,
        "start_time": "2022-07-19T14:29:50.605Z"
      },
      {
        "duration": 4,
        "start_time": "2022-07-19T14:29:53.459Z"
      },
      {
        "duration": 7,
        "start_time": "2022-07-19T14:29:54.545Z"
      },
      {
        "duration": 5,
        "start_time": "2022-07-19T14:29:55.339Z"
      },
      {
        "duration": 5,
        "start_time": "2022-07-19T14:29:56.065Z"
      },
      {
        "duration": 2424,
        "start_time": "2022-07-19T14:30:56.968Z"
      },
      {
        "duration": 3,
        "start_time": "2022-07-19T14:30:59.395Z"
      },
      {
        "duration": 11,
        "start_time": "2022-07-19T14:30:59.400Z"
      },
      {
        "duration": 4,
        "start_time": "2022-07-19T14:31:03.735Z"
      },
      {
        "duration": 4,
        "start_time": "2022-07-19T14:31:05.689Z"
      },
      {
        "duration": 6,
        "start_time": "2022-07-19T14:31:06.539Z"
      },
      {
        "duration": 5,
        "start_time": "2022-07-19T14:48:19.248Z"
      },
      {
        "duration": 3,
        "start_time": "2022-07-19T14:53:28.812Z"
      },
      {
        "duration": 173,
        "start_time": "2022-07-19T14:58:41.352Z"
      },
      {
        "duration": 365,
        "start_time": "2022-07-19T14:59:09.069Z"
      },
      {
        "duration": 280,
        "start_time": "2022-07-19T14:59:51.659Z"
      },
      {
        "duration": 282,
        "start_time": "2022-07-19T15:03:30.654Z"
      },
      {
        "duration": 370,
        "start_time": "2022-07-19T15:04:32.452Z"
      },
      {
        "duration": 350,
        "start_time": "2022-07-19T15:05:04.588Z"
      },
      {
        "duration": 396,
        "start_time": "2022-07-19T15:05:42.249Z"
      },
      {
        "duration": 404,
        "start_time": "2022-07-19T15:06:26.635Z"
      },
      {
        "duration": 494,
        "start_time": "2022-07-19T15:06:47.536Z"
      },
      {
        "duration": 380,
        "start_time": "2022-07-19T15:09:21.951Z"
      },
      {
        "duration": 483,
        "start_time": "2022-07-19T15:09:50.246Z"
      },
      {
        "duration": 409,
        "start_time": "2022-07-19T15:09:54.135Z"
      },
      {
        "duration": 368,
        "start_time": "2022-07-19T15:10:02.176Z"
      },
      {
        "duration": 1123,
        "start_time": "2022-07-19T15:27:55.829Z"
      },
      {
        "duration": 146,
        "start_time": "2022-07-19T15:27:56.954Z"
      },
      {
        "duration": 34,
        "start_time": "2022-07-19T15:27:57.102Z"
      },
      {
        "duration": 16,
        "start_time": "2022-07-19T15:27:57.138Z"
      },
      {
        "duration": 37,
        "start_time": "2022-07-19T15:27:57.156Z"
      },
      {
        "duration": 10,
        "start_time": "2022-07-19T15:27:57.195Z"
      },
      {
        "duration": 63,
        "start_time": "2022-07-19T15:27:57.206Z"
      },
      {
        "duration": 128,
        "start_time": "2022-07-19T15:27:57.271Z"
      },
      {
        "duration": 36,
        "start_time": "2022-07-19T15:27:57.401Z"
      },
      {
        "duration": 10,
        "start_time": "2022-07-19T15:27:57.438Z"
      },
      {
        "duration": 38,
        "start_time": "2022-07-19T15:27:57.450Z"
      },
      {
        "duration": 11,
        "start_time": "2022-07-19T15:27:57.490Z"
      },
      {
        "duration": 59,
        "start_time": "2022-07-19T15:27:57.503Z"
      },
      {
        "duration": 131,
        "start_time": "2022-07-19T15:27:57.565Z"
      },
      {
        "duration": 16,
        "start_time": "2022-07-19T15:27:57.698Z"
      },
      {
        "duration": 11,
        "start_time": "2022-07-19T15:27:57.733Z"
      },
      {
        "duration": 43,
        "start_time": "2022-07-19T15:27:57.746Z"
      },
      {
        "duration": 12,
        "start_time": "2022-07-19T15:27:57.791Z"
      },
      {
        "duration": 64,
        "start_time": "2022-07-19T15:27:57.804Z"
      },
      {
        "duration": 4,
        "start_time": "2022-07-19T15:27:57.870Z"
      },
      {
        "duration": 19,
        "start_time": "2022-07-19T15:27:57.876Z"
      },
      {
        "duration": 5,
        "start_time": "2022-07-19T15:27:57.897Z"
      },
      {
        "duration": 23,
        "start_time": "2022-07-19T15:27:57.903Z"
      },
      {
        "duration": 8,
        "start_time": "2022-07-19T15:27:57.928Z"
      },
      {
        "duration": 11,
        "start_time": "2022-07-19T15:27:57.937Z"
      },
      {
        "duration": 87,
        "start_time": "2022-07-19T15:27:57.950Z"
      },
      {
        "duration": 87,
        "start_time": "2022-07-19T15:27:58.041Z"
      },
      {
        "duration": 5,
        "start_time": "2022-07-19T15:27:58.130Z"
      },
      {
        "duration": 10,
        "start_time": "2022-07-19T15:27:58.137Z"
      },
      {
        "duration": 12,
        "start_time": "2022-07-19T15:27:58.149Z"
      },
      {
        "duration": 6,
        "start_time": "2022-07-19T15:27:58.163Z"
      },
      {
        "duration": 17,
        "start_time": "2022-07-19T15:27:58.170Z"
      },
      {
        "duration": 43,
        "start_time": "2022-07-19T15:27:58.189Z"
      },
      {
        "duration": 3,
        "start_time": "2022-07-19T15:27:58.234Z"
      },
      {
        "duration": 112,
        "start_time": "2022-07-19T15:27:58.239Z"
      },
      {
        "duration": 14,
        "start_time": "2022-07-19T15:27:58.353Z"
      },
      {
        "duration": 11,
        "start_time": "2022-07-19T15:27:58.369Z"
      },
      {
        "duration": 18,
        "start_time": "2022-07-19T15:27:58.382Z"
      },
      {
        "duration": 26,
        "start_time": "2022-07-19T15:27:58.401Z"
      },
      {
        "duration": 95,
        "start_time": "2022-07-19T15:27:58.429Z"
      },
      {
        "duration": 4,
        "start_time": "2022-07-19T15:27:58.530Z"
      },
      {
        "duration": 99,
        "start_time": "2022-07-19T15:27:58.536Z"
      },
      {
        "duration": 501,
        "start_time": "2022-07-19T15:27:58.639Z"
      },
      {
        "duration": 8,
        "start_time": "2022-07-19T15:27:59.225Z"
      },
      {
        "duration": 13,
        "start_time": "2022-07-19T15:27:59.236Z"
      },
      {
        "duration": 9,
        "start_time": "2022-07-19T15:27:59.251Z"
      },
      {
        "duration": 7,
        "start_time": "2022-07-19T15:27:59.262Z"
      },
      {
        "duration": 4,
        "start_time": "2022-07-19T15:27:59.270Z"
      },
      {
        "duration": 7,
        "start_time": "2022-07-19T15:27:59.275Z"
      },
      {
        "duration": 2390,
        "start_time": "2022-07-19T15:27:59.283Z"
      },
      {
        "duration": 3,
        "start_time": "2022-07-19T15:28:01.675Z"
      },
      {
        "duration": 42,
        "start_time": "2022-07-19T15:28:01.680Z"
      },
      {
        "duration": 35,
        "start_time": "2022-07-19T15:28:01.724Z"
      },
      {
        "duration": 34,
        "start_time": "2022-07-19T15:28:01.761Z"
      },
      {
        "duration": 41,
        "start_time": "2022-07-19T15:28:01.797Z"
      },
      {
        "duration": 24,
        "start_time": "2022-07-19T15:28:01.839Z"
      },
      {
        "duration": 13,
        "start_time": "2022-07-19T15:28:01.865Z"
      },
      {
        "duration": 479,
        "start_time": "2022-07-19T15:28:01.886Z"
      },
      {
        "duration": 2571,
        "start_time": "2022-07-19T15:28:02.367Z"
      },
      {
        "duration": 4,
        "start_time": "2022-07-19T15:28:04.940Z"
      },
      {
        "duration": 15,
        "start_time": "2022-07-19T15:28:04.946Z"
      },
      {
        "duration": 9,
        "start_time": "2022-07-19T15:28:04.963Z"
      },
      {
        "duration": 12,
        "start_time": "2022-07-19T15:28:04.974Z"
      },
      {
        "duration": 11,
        "start_time": "2022-07-19T15:28:04.988Z"
      },
      {
        "duration": 32,
        "start_time": "2022-07-19T15:28:05.000Z"
      },
      {
        "duration": 15,
        "start_time": "2022-07-19T15:28:05.034Z"
      },
      {
        "duration": 212,
        "start_time": "2022-07-19T15:28:05.050Z"
      },
      {
        "duration": 2633,
        "start_time": "2022-07-19T15:28:05.263Z"
      },
      {
        "duration": 3,
        "start_time": "2022-07-19T15:28:07.898Z"
      },
      {
        "duration": 41,
        "start_time": "2022-07-19T15:28:07.902Z"
      },
      {
        "duration": 23,
        "start_time": "2022-07-19T15:28:07.945Z"
      },
      {
        "duration": 17,
        "start_time": "2022-07-19T15:28:07.970Z"
      },
      {
        "duration": 21,
        "start_time": "2022-07-19T15:28:07.989Z"
      },
      {
        "duration": 200,
        "start_time": "2022-07-19T15:28:08.012Z"
      },
      {
        "duration": 6,
        "start_time": "2022-07-19T15:33:55.793Z"
      },
      {
        "duration": 5,
        "start_time": "2022-07-19T15:34:12.344Z"
      },
      {
        "duration": 85,
        "start_time": "2022-07-19T15:35:02.887Z"
      },
      {
        "duration": 7,
        "start_time": "2022-07-19T15:35:21.204Z"
      },
      {
        "duration": 6,
        "start_time": "2022-07-19T15:35:42.067Z"
      },
      {
        "duration": 6,
        "start_time": "2022-07-19T15:35:49.372Z"
      },
      {
        "duration": 6,
        "start_time": "2022-07-19T15:36:22.094Z"
      },
      {
        "duration": 7,
        "start_time": "2022-07-19T15:36:53.511Z"
      },
      {
        "duration": 46,
        "start_time": "2022-07-19T15:37:31.757Z"
      },
      {
        "duration": 1111,
        "start_time": "2022-07-19T15:41:17.280Z"
      },
      {
        "duration": 176,
        "start_time": "2022-07-19T15:41:18.393Z"
      },
      {
        "duration": 21,
        "start_time": "2022-07-19T15:41:18.571Z"
      },
      {
        "duration": 46,
        "start_time": "2022-07-19T15:41:18.594Z"
      },
      {
        "duration": 42,
        "start_time": "2022-07-19T15:41:18.643Z"
      },
      {
        "duration": 11,
        "start_time": "2022-07-19T15:41:18.687Z"
      },
      {
        "duration": 68,
        "start_time": "2022-07-19T15:41:18.700Z"
      },
      {
        "duration": 148,
        "start_time": "2022-07-19T15:41:18.769Z"
      },
      {
        "duration": 26,
        "start_time": "2022-07-19T15:41:18.919Z"
      },
      {
        "duration": 13,
        "start_time": "2022-07-19T15:41:18.947Z"
      },
      {
        "duration": 43,
        "start_time": "2022-07-19T15:41:18.962Z"
      },
      {
        "duration": 36,
        "start_time": "2022-07-19T15:41:19.007Z"
      },
      {
        "duration": 63,
        "start_time": "2022-07-19T15:41:19.046Z"
      },
      {
        "duration": 155,
        "start_time": "2022-07-19T15:41:19.112Z"
      },
      {
        "duration": 18,
        "start_time": "2022-07-19T15:41:19.269Z"
      },
      {
        "duration": 15,
        "start_time": "2022-07-19T15:41:19.289Z"
      },
      {
        "duration": 51,
        "start_time": "2022-07-19T15:41:19.306Z"
      },
      {
        "duration": 10,
        "start_time": "2022-07-19T15:41:19.359Z"
      },
      {
        "duration": 72,
        "start_time": "2022-07-19T15:41:19.371Z"
      },
      {
        "duration": 5,
        "start_time": "2022-07-19T15:41:19.445Z"
      },
      {
        "duration": 16,
        "start_time": "2022-07-19T15:41:19.451Z"
      },
      {
        "duration": 264,
        "start_time": "2022-07-19T15:41:19.469Z"
      },
      {
        "duration": 21,
        "start_time": "2022-07-19T15:41:19.735Z"
      },
      {
        "duration": 20,
        "start_time": "2022-07-19T15:41:19.757Z"
      },
      {
        "duration": 11,
        "start_time": "2022-07-19T15:41:19.779Z"
      },
      {
        "duration": 21,
        "start_time": "2022-07-19T15:41:19.791Z"
      },
      {
        "duration": 113,
        "start_time": "2022-07-19T15:41:19.814Z"
      },
      {
        "duration": 25,
        "start_time": "2022-07-19T15:41:19.930Z"
      },
      {
        "duration": 68,
        "start_time": "2022-07-19T15:41:19.958Z"
      },
      {
        "duration": 51,
        "start_time": "2022-07-19T15:41:20.027Z"
      },
      {
        "duration": 23,
        "start_time": "2022-07-19T15:41:20.080Z"
      },
      {
        "duration": 29,
        "start_time": "2022-07-19T15:41:20.105Z"
      },
      {
        "duration": 18,
        "start_time": "2022-07-19T15:41:20.136Z"
      },
      {
        "duration": 175,
        "start_time": "2022-07-19T15:41:20.157Z"
      },
      {
        "duration": 18,
        "start_time": "2022-07-19T15:41:20.334Z"
      },
      {
        "duration": 30,
        "start_time": "2022-07-19T15:41:20.354Z"
      },
      {
        "duration": 13,
        "start_time": "2022-07-19T15:41:20.386Z"
      },
      {
        "duration": 28,
        "start_time": "2022-07-19T15:41:20.401Z"
      },
      {
        "duration": 20,
        "start_time": "2022-07-19T15:41:20.435Z"
      },
      {
        "duration": 125,
        "start_time": "2022-07-19T15:41:20.526Z"
      },
      {
        "duration": 19,
        "start_time": "2022-07-19T15:41:20.656Z"
      },
      {
        "duration": 21,
        "start_time": "2022-07-19T15:41:20.677Z"
      },
      {
        "duration": 453,
        "start_time": "2022-07-19T15:41:20.700Z"
      },
      {
        "duration": 76,
        "start_time": "2022-07-19T15:41:21.155Z"
      },
      {
        "duration": 120,
        "start_time": "2022-07-19T15:41:21.233Z"
      },
      {
        "duration": 7,
        "start_time": "2022-07-19T15:41:21.355Z"
      },
      {
        "duration": 7,
        "start_time": "2022-07-19T15:41:21.364Z"
      },
      {
        "duration": 3,
        "start_time": "2022-07-19T15:41:21.373Z"
      },
      {
        "duration": 6,
        "start_time": "2022-07-19T15:41:21.378Z"
      },
      {
        "duration": 2645,
        "start_time": "2022-07-19T15:41:21.386Z"
      },
      {
        "duration": 5,
        "start_time": "2022-07-19T15:41:24.033Z"
      },
      {
        "duration": 6,
        "start_time": "2022-07-19T15:41:24.040Z"
      },
      {
        "duration": 20,
        "start_time": "2022-07-19T15:41:24.047Z"
      },
      {
        "duration": 7,
        "start_time": "2022-07-19T15:41:24.068Z"
      },
      {
        "duration": 15,
        "start_time": "2022-07-19T15:41:24.076Z"
      },
      {
        "duration": 603,
        "start_time": "2022-07-19T15:41:24.093Z"
      },
      {
        "duration": 2584,
        "start_time": "2022-07-19T15:41:24.699Z"
      },
      {
        "duration": 4,
        "start_time": "2022-07-19T15:41:27.285Z"
      },
      {
        "duration": 12,
        "start_time": "2022-07-19T15:41:27.292Z"
      },
      {
        "duration": 12,
        "start_time": "2022-07-19T15:41:27.306Z"
      },
      {
        "duration": 19,
        "start_time": "2022-07-19T15:41:27.324Z"
      },
      {
        "duration": 15,
        "start_time": "2022-07-19T15:41:27.344Z"
      },
      {
        "duration": 199,
        "start_time": "2022-07-19T15:41:27.361Z"
      },
      {
        "duration": 2624,
        "start_time": "2022-07-19T15:41:27.562Z"
      },
      {
        "duration": 3,
        "start_time": "2022-07-19T15:41:30.188Z"
      },
      {
        "duration": 21,
        "start_time": "2022-07-19T15:41:30.193Z"
      },
      {
        "duration": 28,
        "start_time": "2022-07-19T15:41:30.216Z"
      },
      {
        "duration": 12,
        "start_time": "2022-07-19T15:41:30.246Z"
      },
      {
        "duration": 14,
        "start_time": "2022-07-19T15:41:30.260Z"
      },
      {
        "duration": 219,
        "start_time": "2022-07-19T15:41:30.275Z"
      }
    ],
    "kernelspec": {
      "name": "python",
      "display_name": "Python (Pyodide)",
      "language": "python"
    },
    "language_info": {
      "codemirror_mode": {
        "name": "python",
        "version": 3
      },
      "file_extension": ".py",
      "mimetype": "text/x-python",
      "name": "python",
      "nbconvert_exporter": "python",
      "pygments_lexer": "ipython3",
      "version": "3.8"
    },
    "toc": {
      "base_numbering": 1,
      "nav_menu": {},
      "number_sections": true,
      "sideBar": true,
      "skip_h1_title": true,
      "title_cell": "Table of Contents",
      "title_sidebar": "Contents",
      "toc_cell": false,
      "toc_position": {},
      "toc_section_display": true,
      "toc_window_display": false
    }
  },
  "nbformat_minor": 4,
  "nbformat": 4,
  "cells": [
    {
      "cell_type": "markdown",
      "source": "# Выбор локации для скважины",
      "metadata": {}
    },
    {
      "cell_type": "markdown",
      "source": "Допустим, вы работаете в добывающей компании «ГлавРосГосНефть». Нужно решить, где бурить новую скважину.\n\nВам предоставлены пробы нефти в трёх регионах: в каждом 10 000 месторождений, где измерили качество нефти и объём её запасов. Постройте модель машинного обучения, которая поможет определить регион, где добыча принесёт наибольшую прибыль. Проанализируйте возможную прибыль и риски техникой *Bootstrap.*\n\nШаги для выбора локации:\n\n- В избранном регионе ищут месторождения, для каждого определяют значения признаков;\n- Строят модель и оценивают объём запасов;\n- Выбирают месторождения с самым высокими оценками значений. Количество месторождений зависит от бюджета компании и стоимости разработки одной скважины;\n- Прибыль равна суммарной прибыли отобранных месторождений.",
      "metadata": {}
    },
    {
      "cell_type": "markdown",
      "source": "## Загрузка и подготовка данных",
      "metadata": {}
    },
    {
      "cell_type": "code",
      "source": "import pandas as pd\nimport numpy as np\nfrom sklearn.linear_model import LinearRegression\nfrom sklearn.model_selection import train_test_split\nfrom sklearn.metrics import mean_squared_error\nfrom scipy import stats as st\n# импортируем необходимые библиотеки",
      "metadata": {},
      "execution_count": 1,
      "outputs": []
    },
    {
      "cell_type": "markdown",
      "source": "### 1-ый регион",
      "metadata": {}
    },
    {
      "cell_type": "code",
      "source": "df_1 = pd.read_csv('/datasets/geo_data_0.csv')\n# открываем датасет первого региона",
      "metadata": {},
      "execution_count": 2,
      "outputs": []
    },
    {
      "cell_type": "code",
      "source": "df_1.info()\n# смотрим общую информацию о датаесете",
      "metadata": {},
      "execution_count": 3,
      "outputs": [
        {
          "name": "stdout",
          "output_type": "stream",
          "text": "<class 'pandas.core.frame.DataFrame'>\n\nRangeIndex: 100000 entries, 0 to 99999\n\nData columns (total 5 columns):\n\n #   Column   Non-Null Count   Dtype  \n\n---  ------   --------------   -----  \n\n 0   id       100000 non-null  object \n\n 1   f0       100000 non-null  float64\n\n 2   f1       100000 non-null  float64\n\n 3   f2       100000 non-null  float64\n\n 4   product  100000 non-null  float64\n\ndtypes: float64(4), object(1)\n\nmemory usage: 3.8+ MB\n"
        }
      ]
    },
    {
      "cell_type": "code",
      "source": "df_1.head()\n# выводим первые пять строк датасета для ознакомления",
      "metadata": {},
      "execution_count": 4,
      "outputs": [
        {
          "execution_count": 4,
          "output_type": "execute_result",
          "data": {
            "text/html": [
              "<div>\n",
              "<style scoped>\n",
              "    .dataframe tbody tr th:only-of-type {\n",
              "        vertical-align: middle;\n",
              "    }\n",
              "\n",
              "    .dataframe tbody tr th {\n",
              "        vertical-align: top;\n",
              "    }\n",
              "\n",
              "    .dataframe thead th {\n",
              "        text-align: right;\n",
              "    }\n",
              "</style>\n",
              "<table border=\"1\" class=\"dataframe\">\n",
              "  <thead>\n",
              "    <tr style=\"text-align: right;\">\n",
              "      <th></th>\n",
              "      <th>id</th>\n",
              "      <th>f0</th>\n",
              "      <th>f1</th>\n",
              "      <th>f2</th>\n",
              "      <th>product</th>\n",
              "    </tr>\n",
              "  </thead>\n",
              "  <tbody>\n",
              "    <tr>\n",
              "      <th>0</th>\n",
              "      <td>txEyH</td>\n",
              "      <td>0.705745</td>\n",
              "      <td>-0.497823</td>\n",
              "      <td>1.221170</td>\n",
              "      <td>105.280062</td>\n",
              "    </tr>\n",
              "    <tr>\n",
              "      <th>1</th>\n",
              "      <td>2acmU</td>\n",
              "      <td>1.334711</td>\n",
              "      <td>-0.340164</td>\n",
              "      <td>4.365080</td>\n",
              "      <td>73.037750</td>\n",
              "    </tr>\n",
              "    <tr>\n",
              "      <th>2</th>\n",
              "      <td>409Wp</td>\n",
              "      <td>1.022732</td>\n",
              "      <td>0.151990</td>\n",
              "      <td>1.419926</td>\n",
              "      <td>85.265647</td>\n",
              "    </tr>\n",
              "    <tr>\n",
              "      <th>3</th>\n",
              "      <td>iJLyR</td>\n",
              "      <td>-0.032172</td>\n",
              "      <td>0.139033</td>\n",
              "      <td>2.978566</td>\n",
              "      <td>168.620776</td>\n",
              "    </tr>\n",
              "    <tr>\n",
              "      <th>4</th>\n",
              "      <td>Xdl7t</td>\n",
              "      <td>1.988431</td>\n",
              "      <td>0.155413</td>\n",
              "      <td>4.751769</td>\n",
              "      <td>154.036647</td>\n",
              "    </tr>\n",
              "  </tbody>\n",
              "</table>\n",
              "</div>"
            ],
            "text/plain": [
              "      id        f0        f1        f2     product\n",
              "0  txEyH  0.705745 -0.497823  1.221170  105.280062\n",
              "1  2acmU  1.334711 -0.340164  4.365080   73.037750\n",
              "2  409Wp  1.022732  0.151990  1.419926   85.265647\n",
              "3  iJLyR -0.032172  0.139033  2.978566  168.620776\n",
              "4  Xdl7t  1.988431  0.155413  4.751769  154.036647"
            ]
          },
          "metadata": {}
        }
      ]
    },
    {
      "cell_type": "code",
      "source": "df_1.describe()\n# смотрим информацию о данных датасета",
      "metadata": {},
      "execution_count": 5,
      "outputs": [
        {
          "execution_count": 5,
          "output_type": "execute_result",
          "data": {
            "text/html": [
              "<div>\n",
              "<style scoped>\n",
              "    .dataframe tbody tr th:only-of-type {\n",
              "        vertical-align: middle;\n",
              "    }\n",
              "\n",
              "    .dataframe tbody tr th {\n",
              "        vertical-align: top;\n",
              "    }\n",
              "\n",
              "    .dataframe thead th {\n",
              "        text-align: right;\n",
              "    }\n",
              "</style>\n",
              "<table border=\"1\" class=\"dataframe\">\n",
              "  <thead>\n",
              "    <tr style=\"text-align: right;\">\n",
              "      <th></th>\n",
              "      <th>f0</th>\n",
              "      <th>f1</th>\n",
              "      <th>f2</th>\n",
              "      <th>product</th>\n",
              "    </tr>\n",
              "  </thead>\n",
              "  <tbody>\n",
              "    <tr>\n",
              "      <th>count</th>\n",
              "      <td>100000.000000</td>\n",
              "      <td>100000.000000</td>\n",
              "      <td>100000.000000</td>\n",
              "      <td>100000.000000</td>\n",
              "    </tr>\n",
              "    <tr>\n",
              "      <th>mean</th>\n",
              "      <td>0.500419</td>\n",
              "      <td>0.250143</td>\n",
              "      <td>2.502647</td>\n",
              "      <td>92.500000</td>\n",
              "    </tr>\n",
              "    <tr>\n",
              "      <th>std</th>\n",
              "      <td>0.871832</td>\n",
              "      <td>0.504433</td>\n",
              "      <td>3.248248</td>\n",
              "      <td>44.288691</td>\n",
              "    </tr>\n",
              "    <tr>\n",
              "      <th>min</th>\n",
              "      <td>-1.408605</td>\n",
              "      <td>-0.848218</td>\n",
              "      <td>-12.088328</td>\n",
              "      <td>0.000000</td>\n",
              "    </tr>\n",
              "    <tr>\n",
              "      <th>25%</th>\n",
              "      <td>-0.072580</td>\n",
              "      <td>-0.200881</td>\n",
              "      <td>0.287748</td>\n",
              "      <td>56.497507</td>\n",
              "    </tr>\n",
              "    <tr>\n",
              "      <th>50%</th>\n",
              "      <td>0.502360</td>\n",
              "      <td>0.250252</td>\n",
              "      <td>2.515969</td>\n",
              "      <td>91.849972</td>\n",
              "    </tr>\n",
              "    <tr>\n",
              "      <th>75%</th>\n",
              "      <td>1.073581</td>\n",
              "      <td>0.700646</td>\n",
              "      <td>4.715088</td>\n",
              "      <td>128.564089</td>\n",
              "    </tr>\n",
              "    <tr>\n",
              "      <th>max</th>\n",
              "      <td>2.362331</td>\n",
              "      <td>1.343769</td>\n",
              "      <td>16.003790</td>\n",
              "      <td>185.364347</td>\n",
              "    </tr>\n",
              "  </tbody>\n",
              "</table>\n",
              "</div>"
            ],
            "text/plain": [
              "                  f0             f1             f2        product\n",
              "count  100000.000000  100000.000000  100000.000000  100000.000000\n",
              "mean        0.500419       0.250143       2.502647      92.500000\n",
              "std         0.871832       0.504433       3.248248      44.288691\n",
              "min        -1.408605      -0.848218     -12.088328       0.000000\n",
              "25%        -0.072580      -0.200881       0.287748      56.497507\n",
              "50%         0.502360       0.250252       2.515969      91.849972\n",
              "75%         1.073581       0.700646       4.715088     128.564089\n",
              "max         2.362331       1.343769      16.003790     185.364347"
            ]
          },
          "metadata": {}
        }
      ]
    },
    {
      "cell_type": "code",
      "source": "df_1.isna().sum()\n# смотрим количество пропусков",
      "metadata": {},
      "execution_count": 6,
      "outputs": [
        {
          "execution_count": 6,
          "output_type": "execute_result",
          "data": {
            "text/plain": [
              "id         0\n",
              "f0         0\n",
              "f1         0\n",
              "f2         0\n",
              "product    0\n",
              "dtype: int64"
            ]
          },
          "metadata": {}
        }
      ]
    },
    {
      "cell_type": "code",
      "source": "df_1.duplicated().sum()\n# смотрим количество дубликатов",
      "metadata": {},
      "execution_count": 7,
      "outputs": [
        {
          "execution_count": 7,
          "output_type": "execute_result",
          "data": {
            "text/plain": [
              "0"
            ]
          },
          "metadata": {}
        }
      ]
    },
    {
      "cell_type": "markdown",
      "source": "### 2-ой регион",
      "metadata": {}
    },
    {
      "cell_type": "code",
      "source": "df_2 = pd.read_csv('/datasets/geo_data_1.csv')\n# открываем датасет второго региона",
      "metadata": {},
      "execution_count": 8,
      "outputs": []
    },
    {
      "cell_type": "code",
      "source": "df_2.info()\n# смотрим общую информацию о датасете",
      "metadata": {},
      "execution_count": 9,
      "outputs": [
        {
          "name": "stdout",
          "output_type": "stream",
          "text": "<class 'pandas.core.frame.DataFrame'>\n\nRangeIndex: 100000 entries, 0 to 99999\n\nData columns (total 5 columns):\n\n #   Column   Non-Null Count   Dtype  \n\n---  ------   --------------   -----  \n\n 0   id       100000 non-null  object \n\n 1   f0       100000 non-null  float64\n\n 2   f1       100000 non-null  float64\n\n 3   f2       100000 non-null  float64\n\n 4   product  100000 non-null  float64\n\ndtypes: float64(4), object(1)\n\nmemory usage: 3.8+ MB\n"
        }
      ]
    },
    {
      "cell_type": "code",
      "source": "df_2.head()\n# выводим первые пять строк датасета для ознакомления",
      "metadata": {},
      "execution_count": 10,
      "outputs": [
        {
          "execution_count": 10,
          "output_type": "execute_result",
          "data": {
            "text/html": [
              "<div>\n",
              "<style scoped>\n",
              "    .dataframe tbody tr th:only-of-type {\n",
              "        vertical-align: middle;\n",
              "    }\n",
              "\n",
              "    .dataframe tbody tr th {\n",
              "        vertical-align: top;\n",
              "    }\n",
              "\n",
              "    .dataframe thead th {\n",
              "        text-align: right;\n",
              "    }\n",
              "</style>\n",
              "<table border=\"1\" class=\"dataframe\">\n",
              "  <thead>\n",
              "    <tr style=\"text-align: right;\">\n",
              "      <th></th>\n",
              "      <th>id</th>\n",
              "      <th>f0</th>\n",
              "      <th>f1</th>\n",
              "      <th>f2</th>\n",
              "      <th>product</th>\n",
              "    </tr>\n",
              "  </thead>\n",
              "  <tbody>\n",
              "    <tr>\n",
              "      <th>0</th>\n",
              "      <td>kBEdx</td>\n",
              "      <td>-15.001348</td>\n",
              "      <td>-8.276000</td>\n",
              "      <td>-0.005876</td>\n",
              "      <td>3.179103</td>\n",
              "    </tr>\n",
              "    <tr>\n",
              "      <th>1</th>\n",
              "      <td>62mP7</td>\n",
              "      <td>14.272088</td>\n",
              "      <td>-3.475083</td>\n",
              "      <td>0.999183</td>\n",
              "      <td>26.953261</td>\n",
              "    </tr>\n",
              "    <tr>\n",
              "      <th>2</th>\n",
              "      <td>vyE1P</td>\n",
              "      <td>6.263187</td>\n",
              "      <td>-5.948386</td>\n",
              "      <td>5.001160</td>\n",
              "      <td>134.766305</td>\n",
              "    </tr>\n",
              "    <tr>\n",
              "      <th>3</th>\n",
              "      <td>KcrkZ</td>\n",
              "      <td>-13.081196</td>\n",
              "      <td>-11.506057</td>\n",
              "      <td>4.999415</td>\n",
              "      <td>137.945408</td>\n",
              "    </tr>\n",
              "    <tr>\n",
              "      <th>4</th>\n",
              "      <td>AHL4O</td>\n",
              "      <td>12.702195</td>\n",
              "      <td>-8.147433</td>\n",
              "      <td>5.004363</td>\n",
              "      <td>134.766305</td>\n",
              "    </tr>\n",
              "  </tbody>\n",
              "</table>\n",
              "</div>"
            ],
            "text/plain": [
              "      id         f0         f1        f2     product\n",
              "0  kBEdx -15.001348  -8.276000 -0.005876    3.179103\n",
              "1  62mP7  14.272088  -3.475083  0.999183   26.953261\n",
              "2  vyE1P   6.263187  -5.948386  5.001160  134.766305\n",
              "3  KcrkZ -13.081196 -11.506057  4.999415  137.945408\n",
              "4  AHL4O  12.702195  -8.147433  5.004363  134.766305"
            ]
          },
          "metadata": {}
        }
      ]
    },
    {
      "cell_type": "code",
      "source": "df_2.describe()\n# смотрим информацию о данных датасета",
      "metadata": {},
      "execution_count": 11,
      "outputs": [
        {
          "execution_count": 11,
          "output_type": "execute_result",
          "data": {
            "text/html": [
              "<div>\n",
              "<style scoped>\n",
              "    .dataframe tbody tr th:only-of-type {\n",
              "        vertical-align: middle;\n",
              "    }\n",
              "\n",
              "    .dataframe tbody tr th {\n",
              "        vertical-align: top;\n",
              "    }\n",
              "\n",
              "    .dataframe thead th {\n",
              "        text-align: right;\n",
              "    }\n",
              "</style>\n",
              "<table border=\"1\" class=\"dataframe\">\n",
              "  <thead>\n",
              "    <tr style=\"text-align: right;\">\n",
              "      <th></th>\n",
              "      <th>f0</th>\n",
              "      <th>f1</th>\n",
              "      <th>f2</th>\n",
              "      <th>product</th>\n",
              "    </tr>\n",
              "  </thead>\n",
              "  <tbody>\n",
              "    <tr>\n",
              "      <th>count</th>\n",
              "      <td>100000.000000</td>\n",
              "      <td>100000.000000</td>\n",
              "      <td>100000.000000</td>\n",
              "      <td>100000.000000</td>\n",
              "    </tr>\n",
              "    <tr>\n",
              "      <th>mean</th>\n",
              "      <td>1.141296</td>\n",
              "      <td>-4.796579</td>\n",
              "      <td>2.494541</td>\n",
              "      <td>68.825000</td>\n",
              "    </tr>\n",
              "    <tr>\n",
              "      <th>std</th>\n",
              "      <td>8.965932</td>\n",
              "      <td>5.119872</td>\n",
              "      <td>1.703572</td>\n",
              "      <td>45.944423</td>\n",
              "    </tr>\n",
              "    <tr>\n",
              "      <th>min</th>\n",
              "      <td>-31.609576</td>\n",
              "      <td>-26.358598</td>\n",
              "      <td>-0.018144</td>\n",
              "      <td>0.000000</td>\n",
              "    </tr>\n",
              "    <tr>\n",
              "      <th>25%</th>\n",
              "      <td>-6.298551</td>\n",
              "      <td>-8.267985</td>\n",
              "      <td>1.000021</td>\n",
              "      <td>26.953261</td>\n",
              "    </tr>\n",
              "    <tr>\n",
              "      <th>50%</th>\n",
              "      <td>1.153055</td>\n",
              "      <td>-4.813172</td>\n",
              "      <td>2.011479</td>\n",
              "      <td>57.085625</td>\n",
              "    </tr>\n",
              "    <tr>\n",
              "      <th>75%</th>\n",
              "      <td>8.621015</td>\n",
              "      <td>-1.332816</td>\n",
              "      <td>3.999904</td>\n",
              "      <td>107.813044</td>\n",
              "    </tr>\n",
              "    <tr>\n",
              "      <th>max</th>\n",
              "      <td>29.421755</td>\n",
              "      <td>18.734063</td>\n",
              "      <td>5.019721</td>\n",
              "      <td>137.945408</td>\n",
              "    </tr>\n",
              "  </tbody>\n",
              "</table>\n",
              "</div>"
            ],
            "text/plain": [
              "                  f0             f1             f2        product\n",
              "count  100000.000000  100000.000000  100000.000000  100000.000000\n",
              "mean        1.141296      -4.796579       2.494541      68.825000\n",
              "std         8.965932       5.119872       1.703572      45.944423\n",
              "min       -31.609576     -26.358598      -0.018144       0.000000\n",
              "25%        -6.298551      -8.267985       1.000021      26.953261\n",
              "50%         1.153055      -4.813172       2.011479      57.085625\n",
              "75%         8.621015      -1.332816       3.999904     107.813044\n",
              "max        29.421755      18.734063       5.019721     137.945408"
            ]
          },
          "metadata": {}
        }
      ]
    },
    {
      "cell_type": "code",
      "source": "df_2.isna().sum()\n# смотрим количество пропусков",
      "metadata": {},
      "execution_count": 12,
      "outputs": [
        {
          "execution_count": 12,
          "output_type": "execute_result",
          "data": {
            "text/plain": [
              "id         0\n",
              "f0         0\n",
              "f1         0\n",
              "f2         0\n",
              "product    0\n",
              "dtype: int64"
            ]
          },
          "metadata": {}
        }
      ]
    },
    {
      "cell_type": "code",
      "source": "df_2.duplicated().sum()\n# смотрим количество дубликатов",
      "metadata": {},
      "execution_count": 13,
      "outputs": [
        {
          "execution_count": 13,
          "output_type": "execute_result",
          "data": {
            "text/plain": [
              "0"
            ]
          },
          "metadata": {}
        }
      ]
    },
    {
      "cell_type": "markdown",
      "source": "### 3-ий регион",
      "metadata": {}
    },
    {
      "cell_type": "code",
      "source": "df_3 = pd.read_csv('/datasets/geo_data_2.csv')\n# открываем датасет третьего региона",
      "metadata": {},
      "execution_count": 14,
      "outputs": []
    },
    {
      "cell_type": "code",
      "source": "df_3.info()\n# смотрим общую инфомацию о датасете",
      "metadata": {},
      "execution_count": 15,
      "outputs": [
        {
          "name": "stdout",
          "output_type": "stream",
          "text": "<class 'pandas.core.frame.DataFrame'>\n\nRangeIndex: 100000 entries, 0 to 99999\n\nData columns (total 5 columns):\n\n #   Column   Non-Null Count   Dtype  \n\n---  ------   --------------   -----  \n\n 0   id       100000 non-null  object \n\n 1   f0       100000 non-null  float64\n\n 2   f1       100000 non-null  float64\n\n 3   f2       100000 non-null  float64\n\n 4   product  100000 non-null  float64\n\ndtypes: float64(4), object(1)\n\nmemory usage: 3.8+ MB\n"
        }
      ]
    },
    {
      "cell_type": "code",
      "source": "df_3.head()\n# выводим первые пять строк для ознакомления",
      "metadata": {
        "scrolled": true
      },
      "execution_count": 16,
      "outputs": [
        {
          "execution_count": 16,
          "output_type": "execute_result",
          "data": {
            "text/html": [
              "<div>\n",
              "<style scoped>\n",
              "    .dataframe tbody tr th:only-of-type {\n",
              "        vertical-align: middle;\n",
              "    }\n",
              "\n",
              "    .dataframe tbody tr th {\n",
              "        vertical-align: top;\n",
              "    }\n",
              "\n",
              "    .dataframe thead th {\n",
              "        text-align: right;\n",
              "    }\n",
              "</style>\n",
              "<table border=\"1\" class=\"dataframe\">\n",
              "  <thead>\n",
              "    <tr style=\"text-align: right;\">\n",
              "      <th></th>\n",
              "      <th>id</th>\n",
              "      <th>f0</th>\n",
              "      <th>f1</th>\n",
              "      <th>f2</th>\n",
              "      <th>product</th>\n",
              "    </tr>\n",
              "  </thead>\n",
              "  <tbody>\n",
              "    <tr>\n",
              "      <th>0</th>\n",
              "      <td>fwXo0</td>\n",
              "      <td>-1.146987</td>\n",
              "      <td>0.963328</td>\n",
              "      <td>-0.828965</td>\n",
              "      <td>27.758673</td>\n",
              "    </tr>\n",
              "    <tr>\n",
              "      <th>1</th>\n",
              "      <td>WJtFt</td>\n",
              "      <td>0.262778</td>\n",
              "      <td>0.269839</td>\n",
              "      <td>-2.530187</td>\n",
              "      <td>56.069697</td>\n",
              "    </tr>\n",
              "    <tr>\n",
              "      <th>2</th>\n",
              "      <td>ovLUW</td>\n",
              "      <td>0.194587</td>\n",
              "      <td>0.289035</td>\n",
              "      <td>-5.586433</td>\n",
              "      <td>62.871910</td>\n",
              "    </tr>\n",
              "    <tr>\n",
              "      <th>3</th>\n",
              "      <td>q6cA6</td>\n",
              "      <td>2.236060</td>\n",
              "      <td>-0.553760</td>\n",
              "      <td>0.930038</td>\n",
              "      <td>114.572842</td>\n",
              "    </tr>\n",
              "    <tr>\n",
              "      <th>4</th>\n",
              "      <td>WPMUX</td>\n",
              "      <td>-0.515993</td>\n",
              "      <td>1.716266</td>\n",
              "      <td>5.899011</td>\n",
              "      <td>149.600746</td>\n",
              "    </tr>\n",
              "  </tbody>\n",
              "</table>\n",
              "</div>"
            ],
            "text/plain": [
              "      id        f0        f1        f2     product\n",
              "0  fwXo0 -1.146987  0.963328 -0.828965   27.758673\n",
              "1  WJtFt  0.262778  0.269839 -2.530187   56.069697\n",
              "2  ovLUW  0.194587  0.289035 -5.586433   62.871910\n",
              "3  q6cA6  2.236060 -0.553760  0.930038  114.572842\n",
              "4  WPMUX -0.515993  1.716266  5.899011  149.600746"
            ]
          },
          "metadata": {}
        }
      ]
    },
    {
      "cell_type": "code",
      "source": "df_3.describe()\n# смотрим информацию о данных датасета",
      "metadata": {},
      "execution_count": 17,
      "outputs": [
        {
          "execution_count": 17,
          "output_type": "execute_result",
          "data": {
            "text/html": [
              "<div>\n",
              "<style scoped>\n",
              "    .dataframe tbody tr th:only-of-type {\n",
              "        vertical-align: middle;\n",
              "    }\n",
              "\n",
              "    .dataframe tbody tr th {\n",
              "        vertical-align: top;\n",
              "    }\n",
              "\n",
              "    .dataframe thead th {\n",
              "        text-align: right;\n",
              "    }\n",
              "</style>\n",
              "<table border=\"1\" class=\"dataframe\">\n",
              "  <thead>\n",
              "    <tr style=\"text-align: right;\">\n",
              "      <th></th>\n",
              "      <th>f0</th>\n",
              "      <th>f1</th>\n",
              "      <th>f2</th>\n",
              "      <th>product</th>\n",
              "    </tr>\n",
              "  </thead>\n",
              "  <tbody>\n",
              "    <tr>\n",
              "      <th>count</th>\n",
              "      <td>100000.000000</td>\n",
              "      <td>100000.000000</td>\n",
              "      <td>100000.000000</td>\n",
              "      <td>100000.000000</td>\n",
              "    </tr>\n",
              "    <tr>\n",
              "      <th>mean</th>\n",
              "      <td>0.002023</td>\n",
              "      <td>-0.002081</td>\n",
              "      <td>2.495128</td>\n",
              "      <td>95.000000</td>\n",
              "    </tr>\n",
              "    <tr>\n",
              "      <th>std</th>\n",
              "      <td>1.732045</td>\n",
              "      <td>1.730417</td>\n",
              "      <td>3.473445</td>\n",
              "      <td>44.749921</td>\n",
              "    </tr>\n",
              "    <tr>\n",
              "      <th>min</th>\n",
              "      <td>-8.760004</td>\n",
              "      <td>-7.084020</td>\n",
              "      <td>-11.970335</td>\n",
              "      <td>0.000000</td>\n",
              "    </tr>\n",
              "    <tr>\n",
              "      <th>25%</th>\n",
              "      <td>-1.162288</td>\n",
              "      <td>-1.174820</td>\n",
              "      <td>0.130359</td>\n",
              "      <td>59.450441</td>\n",
              "    </tr>\n",
              "    <tr>\n",
              "      <th>50%</th>\n",
              "      <td>0.009424</td>\n",
              "      <td>-0.009482</td>\n",
              "      <td>2.484236</td>\n",
              "      <td>94.925613</td>\n",
              "    </tr>\n",
              "    <tr>\n",
              "      <th>75%</th>\n",
              "      <td>1.158535</td>\n",
              "      <td>1.163678</td>\n",
              "      <td>4.858794</td>\n",
              "      <td>130.595027</td>\n",
              "    </tr>\n",
              "    <tr>\n",
              "      <th>max</th>\n",
              "      <td>7.238262</td>\n",
              "      <td>7.844801</td>\n",
              "      <td>16.739402</td>\n",
              "      <td>190.029838</td>\n",
              "    </tr>\n",
              "  </tbody>\n",
              "</table>\n",
              "</div>"
            ],
            "text/plain": [
              "                  f0             f1             f2        product\n",
              "count  100000.000000  100000.000000  100000.000000  100000.000000\n",
              "mean        0.002023      -0.002081       2.495128      95.000000\n",
              "std         1.732045       1.730417       3.473445      44.749921\n",
              "min        -8.760004      -7.084020     -11.970335       0.000000\n",
              "25%        -1.162288      -1.174820       0.130359      59.450441\n",
              "50%         0.009424      -0.009482       2.484236      94.925613\n",
              "75%         1.158535       1.163678       4.858794     130.595027\n",
              "max         7.238262       7.844801      16.739402     190.029838"
            ]
          },
          "metadata": {}
        }
      ]
    },
    {
      "cell_type": "code",
      "source": "df_3.isna().sum()\n# смотрим количество пропусков",
      "metadata": {
        "scrolled": true
      },
      "execution_count": 18,
      "outputs": [
        {
          "execution_count": 18,
          "output_type": "execute_result",
          "data": {
            "text/plain": [
              "id         0\n",
              "f0         0\n",
              "f1         0\n",
              "f2         0\n",
              "product    0\n",
              "dtype: int64"
            ]
          },
          "metadata": {}
        }
      ]
    },
    {
      "cell_type": "code",
      "source": "df_3.duplicated().sum()\n# смотрим количество дубликатов",
      "metadata": {},
      "execution_count": 19,
      "outputs": [
        {
          "execution_count": 19,
          "output_type": "execute_result",
          "data": {
            "text/plain": [
              "0"
            ]
          },
          "metadata": {}
        }
      ]
    },
    {
      "cell_type": "markdown",
      "source": "### Вывод.\n\nВ каждом наборе данных по сто тысяч строк. Проблем (пропусков, дубликатов и т.д.) в данных не обнаружено, значения признаков одного порядка, масштабировать их нет необходимости. Данные можно запускать в работу.",
      "metadata": {}
    },
    {
      "cell_type": "markdown",
      "source": "## Обучение и проверка модели",
      "metadata": {}
    },
    {
      "cell_type": "markdown",
      "source": "### 1-ый регион",
      "metadata": {}
    },
    {
      "cell_type": "code",
      "source": "features_1 = df_1.drop(['id', 'product'], axis=1) \ntarget_1 = df_1['product']\n# готовим параметры для обучения и проверки модели",
      "metadata": {},
      "execution_count": 20,
      "outputs": []
    },
    {
      "cell_type": "code",
      "source": "features_train, features_valid, target_train, target_valid = train_test_split(\n    features_1, target_1, test_size=0.25, random_state=12345)\n# разделяем параметры на тренировочные и валидацинные",
      "metadata": {},
      "execution_count": 21,
      "outputs": []
    },
    {
      "cell_type": "code",
      "source": "features_train.shape\n# смотрим размер",
      "metadata": {},
      "execution_count": 22,
      "outputs": [
        {
          "execution_count": 22,
          "output_type": "execute_result",
          "data": {
            "text/plain": [
              "(75000, 3)"
            ]
          },
          "metadata": {}
        }
      ]
    },
    {
      "cell_type": "code",
      "source": "target_train.shape\n# смотрим размер",
      "metadata": {},
      "execution_count": 23,
      "outputs": [
        {
          "execution_count": 23,
          "output_type": "execute_result",
          "data": {
            "text/plain": [
              "(75000,)"
            ]
          },
          "metadata": {}
        }
      ]
    },
    {
      "cell_type": "code",
      "source": "features_valid.shape\n# смотрим размер",
      "metadata": {},
      "execution_count": 24,
      "outputs": [
        {
          "execution_count": 24,
          "output_type": "execute_result",
          "data": {
            "text/plain": [
              "(25000, 3)"
            ]
          },
          "metadata": {}
        }
      ]
    },
    {
      "cell_type": "code",
      "source": "target_valid.shape\n# смотрим размер",
      "metadata": {},
      "execution_count": 25,
      "outputs": [
        {
          "execution_count": 25,
          "output_type": "execute_result",
          "data": {
            "text/plain": [
              "(25000,)"
            ]
          },
          "metadata": {}
        }
      ]
    },
    {
      "cell_type": "code",
      "source": "model_1 = LinearRegression() \nmodel_1.fit(features_train, target_train)\n# обучаем модель\npredictions_valid_1 = model_1.predict(features_valid) \n# получаем предсказания модели на валидационной выборке",
      "metadata": {},
      "execution_count": 26,
      "outputs": []
    },
    {
      "cell_type": "code",
      "source": "result_1 = mean_squared_error(target_valid, predictions_valid_1) ** 0.5\n# считаем метрику rmse модели",
      "metadata": {},
      "execution_count": 27,
      "outputs": []
    },
    {
      "cell_type": "code",
      "source": "print(\"RMSE модели линейной регрессии на валидационной выборке:\", result_1)\nprint('Средний запас предсказанного сырья:', predictions_valid_1.mean())",
      "metadata": {},
      "execution_count": 28,
      "outputs": [
        {
          "name": "stdout",
          "output_type": "stream",
          "text": "RMSE модели линейной регрессии на валидационной выборке: 37.5794217150813\n\nСредний запас предсказанного сырья: 92.59256778438035\n"
        }
      ]
    },
    {
      "cell_type": "code",
      "source": "predictions_valid_1.shape\n# смотрим размер",
      "metadata": {},
      "execution_count": 29,
      "outputs": [
        {
          "execution_count": 29,
          "output_type": "execute_result",
          "data": {
            "text/plain": [
              "(25000,)"
            ]
          },
          "metadata": {}
        }
      ]
    },
    {
      "cell_type": "code",
      "source": "pred_val_1 = pd.Series(predictions_valid_1, name='predictions')\npd.concat([pred_val_1, target_valid.reset_index(drop=True)], axis=1).head()\n# сравниваем предсказаные и реальные значения",
      "metadata": {},
      "execution_count": 30,
      "outputs": [
        {
          "execution_count": 30,
          "output_type": "execute_result",
          "data": {
            "text/html": [
              "<div>\n",
              "<style scoped>\n",
              "    .dataframe tbody tr th:only-of-type {\n",
              "        vertical-align: middle;\n",
              "    }\n",
              "\n",
              "    .dataframe tbody tr th {\n",
              "        vertical-align: top;\n",
              "    }\n",
              "\n",
              "    .dataframe thead th {\n",
              "        text-align: right;\n",
              "    }\n",
              "</style>\n",
              "<table border=\"1\" class=\"dataframe\">\n",
              "  <thead>\n",
              "    <tr style=\"text-align: right;\">\n",
              "      <th></th>\n",
              "      <th>predictions</th>\n",
              "      <th>product</th>\n",
              "    </tr>\n",
              "  </thead>\n",
              "  <tbody>\n",
              "    <tr>\n",
              "      <th>0</th>\n",
              "      <td>95.894952</td>\n",
              "      <td>10.038645</td>\n",
              "    </tr>\n",
              "    <tr>\n",
              "      <th>1</th>\n",
              "      <td>77.572583</td>\n",
              "      <td>114.551489</td>\n",
              "    </tr>\n",
              "    <tr>\n",
              "      <th>2</th>\n",
              "      <td>77.892640</td>\n",
              "      <td>132.603635</td>\n",
              "    </tr>\n",
              "    <tr>\n",
              "      <th>3</th>\n",
              "      <td>90.175134</td>\n",
              "      <td>169.072125</td>\n",
              "    </tr>\n",
              "    <tr>\n",
              "      <th>4</th>\n",
              "      <td>70.510088</td>\n",
              "      <td>122.325180</td>\n",
              "    </tr>\n",
              "  </tbody>\n",
              "</table>\n",
              "</div>"
            ],
            "text/plain": [
              "   predictions     product\n",
              "0    95.894952   10.038645\n",
              "1    77.572583  114.551489\n",
              "2    77.892640  132.603635\n",
              "3    90.175134  169.072125\n",
              "4    70.510088  122.325180"
            ]
          },
          "metadata": {}
        }
      ]
    },
    {
      "cell_type": "markdown",
      "source": "### 2-ой регион",
      "metadata": {}
    },
    {
      "cell_type": "code",
      "source": "features_2 = df_2.drop(['id', 'product'], axis=1) \ntarget_2 = df_2['product']\n# готовим параметры для обучения и проверки модели",
      "metadata": {},
      "execution_count": 31,
      "outputs": []
    },
    {
      "cell_type": "code",
      "source": "features_train, features_valid, target_train, target_valid = train_test_split(\n    features_2, target_2, test_size=0.25, random_state=12345)\n# разделяем параметры на тренировочные и валидацинные",
      "metadata": {},
      "execution_count": 32,
      "outputs": []
    },
    {
      "cell_type": "code",
      "source": "model_2 = LinearRegression() \nmodel_2.fit(features_train, target_train) \n# обучаем модель\npredictions_valid_2 = model_2.predict(features_valid) \n# получаем предсказания модели на валидацинной выборке",
      "metadata": {},
      "execution_count": 33,
      "outputs": []
    },
    {
      "cell_type": "code",
      "source": "result_2 = mean_squared_error(target_valid, predictions_valid_2) ** 0.5\n# считаем метрику rmse модели",
      "metadata": {},
      "execution_count": 34,
      "outputs": []
    },
    {
      "cell_type": "code",
      "source": "print(\"RMSE модели линейной регрессии на валидационной выборке:\", result_2)\nprint('Средний запас предсказанного сырья:', predictions_valid_2.mean())",
      "metadata": {},
      "execution_count": 35,
      "outputs": [
        {
          "name": "stdout",
          "output_type": "stream",
          "text": "RMSE модели линейной регрессии на валидационной выборке: 0.893099286775617\n\nСредний запас предсказанного сырья: 68.728546895446\n"
        }
      ]
    },
    {
      "cell_type": "code",
      "source": "pred_val_2 = pd.Series(predictions_valid_2, name='predictions')\npd.concat([pred_val_2, target_valid.reset_index(drop=True)], axis=1).head()\n# сравниваем предсказаные и реальные значения",
      "metadata": {},
      "execution_count": 36,
      "outputs": [
        {
          "execution_count": 36,
          "output_type": "execute_result",
          "data": {
            "text/html": [
              "<div>\n",
              "<style scoped>\n",
              "    .dataframe tbody tr th:only-of-type {\n",
              "        vertical-align: middle;\n",
              "    }\n",
              "\n",
              "    .dataframe tbody tr th {\n",
              "        vertical-align: top;\n",
              "    }\n",
              "\n",
              "    .dataframe thead th {\n",
              "        text-align: right;\n",
              "    }\n",
              "</style>\n",
              "<table border=\"1\" class=\"dataframe\">\n",
              "  <thead>\n",
              "    <tr style=\"text-align: right;\">\n",
              "      <th></th>\n",
              "      <th>predictions</th>\n",
              "      <th>product</th>\n",
              "    </tr>\n",
              "  </thead>\n",
              "  <tbody>\n",
              "    <tr>\n",
              "      <th>0</th>\n",
              "      <td>82.663314</td>\n",
              "      <td>80.859783</td>\n",
              "    </tr>\n",
              "    <tr>\n",
              "      <th>1</th>\n",
              "      <td>54.431786</td>\n",
              "      <td>53.906522</td>\n",
              "    </tr>\n",
              "    <tr>\n",
              "      <th>2</th>\n",
              "      <td>29.748760</td>\n",
              "      <td>30.132364</td>\n",
              "    </tr>\n",
              "    <tr>\n",
              "      <th>3</th>\n",
              "      <td>53.552133</td>\n",
              "      <td>53.906522</td>\n",
              "    </tr>\n",
              "    <tr>\n",
              "      <th>4</th>\n",
              "      <td>1.243856</td>\n",
              "      <td>0.000000</td>\n",
              "    </tr>\n",
              "  </tbody>\n",
              "</table>\n",
              "</div>"
            ],
            "text/plain": [
              "   predictions    product\n",
              "0    82.663314  80.859783\n",
              "1    54.431786  53.906522\n",
              "2    29.748760  30.132364\n",
              "3    53.552133  53.906522\n",
              "4     1.243856   0.000000"
            ]
          },
          "metadata": {}
        }
      ]
    },
    {
      "cell_type": "markdown",
      "source": "### 3-ий регион",
      "metadata": {}
    },
    {
      "cell_type": "code",
      "source": "features_3 = df_3.drop(['id', 'product'], axis=1) \ntarget_3 = df_3['product']\n# готовим параметры для обучения и проверки модели",
      "metadata": {},
      "execution_count": 37,
      "outputs": []
    },
    {
      "cell_type": "code",
      "source": "features_train, features_valid, target_train, target_valid = train_test_split(\n    features_3, target_3, test_size=0.25, random_state=12345)\n# разделяем параметры на тренировочные и валидацинные",
      "metadata": {},
      "execution_count": 38,
      "outputs": []
    },
    {
      "cell_type": "code",
      "source": "model_3 = LinearRegression() \nmodel_3.fit(features_train, target_train) \n# обучаем модель\npredictions_valid_3 = model_3.predict(features_valid) \n# получаем предсказания модели на валидационной выборке",
      "metadata": {},
      "execution_count": 39,
      "outputs": []
    },
    {
      "cell_type": "code",
      "source": "result_3 = mean_squared_error(target_valid, predictions_valid_3) ** 0.5\n# считаем метрику rmse модели",
      "metadata": {},
      "execution_count": 40,
      "outputs": []
    },
    {
      "cell_type": "code",
      "source": "print(\"RMSE модели линейной регрессии на валидационной выборке:\", result_3)\nprint('Средний запас предсказанного сырья:', predictions_valid_3.mean())",
      "metadata": {},
      "execution_count": 41,
      "outputs": [
        {
          "name": "stdout",
          "output_type": "stream",
          "text": "RMSE модели линейной регрессии на валидационной выборке: 40.02970873393434\n\nСредний запас предсказанного сырья: 94.96504596800489\n"
        }
      ]
    },
    {
      "cell_type": "code",
      "source": "pred_val_3 = pd.Series(predictions_valid_3, name='predictions')\npd.concat([pred_val_3, target_valid.reset_index(drop=True)], axis=1).head()\n# сравниваем предсказанные и реальные значения",
      "metadata": {},
      "execution_count": 42,
      "outputs": [
        {
          "execution_count": 42,
          "output_type": "execute_result",
          "data": {
            "text/html": [
              "<div>\n",
              "<style scoped>\n",
              "    .dataframe tbody tr th:only-of-type {\n",
              "        vertical-align: middle;\n",
              "    }\n",
              "\n",
              "    .dataframe tbody tr th {\n",
              "        vertical-align: top;\n",
              "    }\n",
              "\n",
              "    .dataframe thead th {\n",
              "        text-align: right;\n",
              "    }\n",
              "</style>\n",
              "<table border=\"1\" class=\"dataframe\">\n",
              "  <thead>\n",
              "    <tr style=\"text-align: right;\">\n",
              "      <th></th>\n",
              "      <th>predictions</th>\n",
              "      <th>product</th>\n",
              "    </tr>\n",
              "  </thead>\n",
              "  <tbody>\n",
              "    <tr>\n",
              "      <th>0</th>\n",
              "      <td>93.599633</td>\n",
              "      <td>61.212375</td>\n",
              "    </tr>\n",
              "    <tr>\n",
              "      <th>1</th>\n",
              "      <td>75.105159</td>\n",
              "      <td>41.850118</td>\n",
              "    </tr>\n",
              "    <tr>\n",
              "      <th>2</th>\n",
              "      <td>90.066809</td>\n",
              "      <td>57.776581</td>\n",
              "    </tr>\n",
              "    <tr>\n",
              "      <th>3</th>\n",
              "      <td>105.162375</td>\n",
              "      <td>100.053761</td>\n",
              "    </tr>\n",
              "    <tr>\n",
              "      <th>4</th>\n",
              "      <td>115.303310</td>\n",
              "      <td>109.897122</td>\n",
              "    </tr>\n",
              "  </tbody>\n",
              "</table>\n",
              "</div>"
            ],
            "text/plain": [
              "   predictions     product\n",
              "0    93.599633   61.212375\n",
              "1    75.105159   41.850118\n",
              "2    90.066809   57.776581\n",
              "3   105.162375  100.053761\n",
              "4   115.303310  109.897122"
            ]
          },
          "metadata": {}
        }
      ]
    },
    {
      "cell_type": "markdown",
      "source": "### Тоже самое, только перебором через цикл",
      "metadata": {}
    },
    {
      "cell_type": "code",
      "source": "data = [df_1, df_2, df_3]\nfor i in range(len(data)):\n    features = data[i].drop(['id', 'product'], axis=1) \n    target = data[i]['product']\n    features_train, features_valid, target_train, target_valid = train_test_split(\n    features, target, test_size=0.25, random_state=12345)\n    model = LinearRegression() \n    model.fit(features_train, target_train)\n    predictions_valid = model.predict(features_valid) \n    result = mean_squared_error(target_valid, predictions_valid) ** 0.5\n    pred_val = pd.Series(predictions_valid, name='predictions')\n    print(i+1, 'регион')\n    print(\"RMSE модели линейной регрессии на валидационной выборке:\", result)\n    print('Средний запас предсказанного сырья:', predictions_valid.mean())\n    print('Сравнение предсказаний и реальных значений:')\n    display(pd.concat([pred_val, target_valid.reset_index(drop=True)], axis=1).head())\n    print()\n# делаем цикл, которые разделит подготовит параметры для обучения модели, обучит её и получит предсказания\n# а также посчитает нам метрику rmse, средний запас предсказанного сырья \n# и сравнит предсказания с реальными значениями запасов нефти",
      "metadata": {},
      "execution_count": 43,
      "outputs": [
        {
          "name": "stdout",
          "output_type": "stream",
          "text": "1 регион\n\nRMSE модели линейной регрессии на валидационной выборке: 37.5794217150813\n\nСредний запас предсказанного сырья: 92.59256778438035\n\nСравнение предсказаний и реальных значений:\n"
        },
        {
          "output_type": "display_data",
          "data": {
            "text/html": [
              "<div>\n",
              "<style scoped>\n",
              "    .dataframe tbody tr th:only-of-type {\n",
              "        vertical-align: middle;\n",
              "    }\n",
              "\n",
              "    .dataframe tbody tr th {\n",
              "        vertical-align: top;\n",
              "    }\n",
              "\n",
              "    .dataframe thead th {\n",
              "        text-align: right;\n",
              "    }\n",
              "</style>\n",
              "<table border=\"1\" class=\"dataframe\">\n",
              "  <thead>\n",
              "    <tr style=\"text-align: right;\">\n",
              "      <th></th>\n",
              "      <th>predictions</th>\n",
              "      <th>product</th>\n",
              "    </tr>\n",
              "  </thead>\n",
              "  <tbody>\n",
              "    <tr>\n",
              "      <th>0</th>\n",
              "      <td>95.894952</td>\n",
              "      <td>10.038645</td>\n",
              "    </tr>\n",
              "    <tr>\n",
              "      <th>1</th>\n",
              "      <td>77.572583</td>\n",
              "      <td>114.551489</td>\n",
              "    </tr>\n",
              "    <tr>\n",
              "      <th>2</th>\n",
              "      <td>77.892640</td>\n",
              "      <td>132.603635</td>\n",
              "    </tr>\n",
              "    <tr>\n",
              "      <th>3</th>\n",
              "      <td>90.175134</td>\n",
              "      <td>169.072125</td>\n",
              "    </tr>\n",
              "    <tr>\n",
              "      <th>4</th>\n",
              "      <td>70.510088</td>\n",
              "      <td>122.325180</td>\n",
              "    </tr>\n",
              "  </tbody>\n",
              "</table>\n",
              "</div>"
            ],
            "text/plain": [
              "   predictions     product\n",
              "0    95.894952   10.038645\n",
              "1    77.572583  114.551489\n",
              "2    77.892640  132.603635\n",
              "3    90.175134  169.072125\n",
              "4    70.510088  122.325180"
            ]
          },
          "metadata": {}
        },
        {
          "name": "stdout",
          "output_type": "stream",
          "text": "\n\n2 регион\n\nRMSE модели линейной регрессии на валидационной выборке: 0.893099286775617\n\nСредний запас предсказанного сырья: 68.728546895446\n\nСравнение предсказаний и реальных значений:\n"
        },
        {
          "output_type": "display_data",
          "data": {
            "text/html": [
              "<div>\n",
              "<style scoped>\n",
              "    .dataframe tbody tr th:only-of-type {\n",
              "        vertical-align: middle;\n",
              "    }\n",
              "\n",
              "    .dataframe tbody tr th {\n",
              "        vertical-align: top;\n",
              "    }\n",
              "\n",
              "    .dataframe thead th {\n",
              "        text-align: right;\n",
              "    }\n",
              "</style>\n",
              "<table border=\"1\" class=\"dataframe\">\n",
              "  <thead>\n",
              "    <tr style=\"text-align: right;\">\n",
              "      <th></th>\n",
              "      <th>predictions</th>\n",
              "      <th>product</th>\n",
              "    </tr>\n",
              "  </thead>\n",
              "  <tbody>\n",
              "    <tr>\n",
              "      <th>0</th>\n",
              "      <td>82.663314</td>\n",
              "      <td>80.859783</td>\n",
              "    </tr>\n",
              "    <tr>\n",
              "      <th>1</th>\n",
              "      <td>54.431786</td>\n",
              "      <td>53.906522</td>\n",
              "    </tr>\n",
              "    <tr>\n",
              "      <th>2</th>\n",
              "      <td>29.748760</td>\n",
              "      <td>30.132364</td>\n",
              "    </tr>\n",
              "    <tr>\n",
              "      <th>3</th>\n",
              "      <td>53.552133</td>\n",
              "      <td>53.906522</td>\n",
              "    </tr>\n",
              "    <tr>\n",
              "      <th>4</th>\n",
              "      <td>1.243856</td>\n",
              "      <td>0.000000</td>\n",
              "    </tr>\n",
              "  </tbody>\n",
              "</table>\n",
              "</div>"
            ],
            "text/plain": [
              "   predictions    product\n",
              "0    82.663314  80.859783\n",
              "1    54.431786  53.906522\n",
              "2    29.748760  30.132364\n",
              "3    53.552133  53.906522\n",
              "4     1.243856   0.000000"
            ]
          },
          "metadata": {}
        },
        {
          "name": "stdout",
          "output_type": "stream",
          "text": "\n\n3 регион\n\nRMSE модели линейной регрессии на валидационной выборке: 40.02970873393434\n\nСредний запас предсказанного сырья: 94.96504596800489\n\nСравнение предсказаний и реальных значений:\n"
        },
        {
          "output_type": "display_data",
          "data": {
            "text/html": [
              "<div>\n",
              "<style scoped>\n",
              "    .dataframe tbody tr th:only-of-type {\n",
              "        vertical-align: middle;\n",
              "    }\n",
              "\n",
              "    .dataframe tbody tr th {\n",
              "        vertical-align: top;\n",
              "    }\n",
              "\n",
              "    .dataframe thead th {\n",
              "        text-align: right;\n",
              "    }\n",
              "</style>\n",
              "<table border=\"1\" class=\"dataframe\">\n",
              "  <thead>\n",
              "    <tr style=\"text-align: right;\">\n",
              "      <th></th>\n",
              "      <th>predictions</th>\n",
              "      <th>product</th>\n",
              "    </tr>\n",
              "  </thead>\n",
              "  <tbody>\n",
              "    <tr>\n",
              "      <th>0</th>\n",
              "      <td>93.599633</td>\n",
              "      <td>61.212375</td>\n",
              "    </tr>\n",
              "    <tr>\n",
              "      <th>1</th>\n",
              "      <td>75.105159</td>\n",
              "      <td>41.850118</td>\n",
              "    </tr>\n",
              "    <tr>\n",
              "      <th>2</th>\n",
              "      <td>90.066809</td>\n",
              "      <td>57.776581</td>\n",
              "    </tr>\n",
              "    <tr>\n",
              "      <th>3</th>\n",
              "      <td>105.162375</td>\n",
              "      <td>100.053761</td>\n",
              "    </tr>\n",
              "    <tr>\n",
              "      <th>4</th>\n",
              "      <td>115.303310</td>\n",
              "      <td>109.897122</td>\n",
              "    </tr>\n",
              "  </tbody>\n",
              "</table>\n",
              "</div>"
            ],
            "text/plain": [
              "   predictions     product\n",
              "0    93.599633   61.212375\n",
              "1    75.105159   41.850118\n",
              "2    90.066809   57.776581\n",
              "3   105.162375  100.053761\n",
              "4   115.303310  109.897122"
            ]
          },
          "metadata": {}
        },
        {
          "name": "stdout",
          "output_type": "stream",
          "text": "\n"
        }
      ]
    },
    {
      "cell_type": "markdown",
      "source": "### Вывод.\n\nВ 1-ом и 3-ем регионе средние запасы предсказанного сырья примерно на одном уровне и существенно выше, чем во 2-от регионе, что говорит в их пользу при выборе региона для разработки. Но у них также существенно выше метрика rmse (среднеквадратическая ошибка), это говорит о том, что модели не очень хорошо предсказывают значения запасов нефти в этих регионах, сильно ошибаются. Это вызвано, скорее всего, большим разбросом в данных (в каких-то скважинах много нефти, в каких-то мало или нет совсем). Инвестиции в разработку добычи нефти в 1-ом и 3-ем регионе менее предсказумы, чем во 2-ом.",
      "metadata": {}
    },
    {
      "cell_type": "markdown",
      "source": "## Подготовка к расчёту прибыли",
      "metadata": {}
    },
    {
      "cell_type": "code",
      "source": "BUDGET = 10000000000 \n# создаём переменную с бюджетом на разработку региона\nQUANTITY = 200\n# создаём переменную с количеством скважин, которые можем пробурить в регионе\nNUMBER = 500\n# создаём переменную с количеством скважин, которые можем исследовать в регионе\nINCOME = 450000\n# создаём переменную с выручкой за 1 тыс. баррель добытой нефти\nprint('Уровень безубыточности скважины:', int(BUDGET / (INCOME * QUANTITY)), 'тыс. барр.')\n# считаем минимальный объём нефти, который должна дать скважина для выхода на безубыточность",
      "metadata": {},
      "execution_count": 44,
      "outputs": [
        {
          "name": "stdout",
          "output_type": "stream",
          "text": "Уровень безубыточности скважины: 111 тыс. барр.\n"
        }
      ]
    },
    {
      "cell_type": "code",
      "source": "pv_1 = pd.Series(predictions_valid_1)\npv_1.sort_values(ascending=False).head(200).sum() * 450000 - BUDGET",
      "metadata": {},
      "execution_count": 45,
      "outputs": [
        {
          "execution_count": 45,
          "output_type": "execute_result",
          "data": {
            "text/plain": [
              "3996048877.46513"
            ]
          },
          "metadata": {}
        }
      ]
    },
    {
      "cell_type": "code",
      "source": "pv_2 = pd.Series(predictions_valid_2)\npv_2.sort_values(ascending=False).head(200).sum() * 450000 - BUDGET",
      "metadata": {},
      "execution_count": 46,
      "outputs": [
        {
          "execution_count": 46,
          "output_type": "execute_result",
          "data": {
            "text/plain": [
              "2485712051.9735413"
            ]
          },
          "metadata": {}
        }
      ]
    },
    {
      "cell_type": "code",
      "source": "pv_3 = pd.Series(predictions_valid_3)\npv_3.sort_values(ascending=False).head(200).sum() * 450000 - BUDGET",
      "metadata": {},
      "execution_count": 47,
      "outputs": [
        {
          "execution_count": 47,
          "output_type": "execute_result",
          "data": {
            "text/plain": [
              "3321754396.2432556"
            ]
          },
          "metadata": {}
        }
      ]
    },
    {
      "cell_type": "markdown",
      "source": "### Вывод.\n\nОбъём нефти, который должна дать скважина для выхода на безубыточность, составляет 111 тыс. баррелей, что ощутимо больше тех средних значений, которые были предсказаны нашими моделями.\n\nЕсли бы мы могли исследовать 25000 точек, как наши модели на валидационной выборке, а не 500 (как указано в условиях задачи), и выбрать из них 200 лучших, то могли бы получить выручку от добычи в пределах 2,4 - 4 млрд. руб. в зависимости от региона. Но и затраты на исследования составили в каждом регионе составили бы значительно большее количество средств и времени.",
      "metadata": {}
    },
    {
      "cell_type": "markdown",
      "source": "## Расчёт прибыли и рисков ",
      "metadata": {}
    },
    {
      "cell_type": "markdown",
      "source": "### Функция для расчета прибыли и рисков",
      "metadata": {}
    },
    {
      "cell_type": "code",
      "source": "def margin(predictions_valid, target, n):\n    pv = pd.Series(predictions_valid)\n    pv = pv.sort_values(ascending=False).head(n)\n    selected = target[pv.index]\n    return (selected.sum() * INCOME - BUDGET)\n# создаём функцию для расчета прибыли",
      "metadata": {},
      "execution_count": 48,
      "outputs": []
    },
    {
      "cell_type": "code",
      "source": "state = np.random.RandomState(12345)\n# создаём переменную для рандомайзера",
      "metadata": {},
      "execution_count": 49,
      "outputs": []
    },
    {
      "cell_type": "markdown",
      "source": "### 1-ый регион",
      "metadata": {}
    },
    {
      "cell_type": "code",
      "source": "values_1 = []\nfor i in range(1000):\n    features_subsample = features_1.sample(n=NUMBER, replace=True, random_state=state)\n    target_subsample = target_1[features_subsample.index]\n    predictions_subsample = model_1.predict(features_subsample)\n    values_1.append(margin(predictions_subsample, target_subsample.reset_index(drop=True), QUANTITY)) \n# методом бутстрепа просчитываем распреление прибыли для 1-ого региона",
      "metadata": {},
      "execution_count": 50,
      "outputs": []
    },
    {
      "cell_type": "code",
      "source": "values_1 = pd.Series(values_1)\n# переводим данные из массива в Series для удобства",
      "metadata": {},
      "execution_count": 51,
      "outputs": []
    },
    {
      "cell_type": "code",
      "source": "values_1.shape\n# смотрим размер",
      "metadata": {},
      "execution_count": 52,
      "outputs": [
        {
          "execution_count": 52,
          "output_type": "execute_result",
          "data": {
            "text/plain": [
              "(1000,)"
            ]
          },
          "metadata": {}
        }
      ]
    },
    {
      "cell_type": "code",
      "source": "print('Вероятность получения убытка:', ((values_1 < 0).mean()) * 100, '%')",
      "metadata": {},
      "execution_count": 53,
      "outputs": [
        {
          "name": "stdout",
          "output_type": "stream",
          "text": "Вероятность получения убытка: 5.2 %\n"
        }
      ]
    },
    {
      "cell_type": "code",
      "source": "print('Среднее значение прибыли:', values_1.mean())\n# считаем среднее значение прибыли",
      "metadata": {},
      "execution_count": 54,
      "outputs": [
        {
          "name": "stdout",
          "output_type": "stream",
          "text": "Среднее значение прибыли: 424149751.404505\n"
        }
      ]
    },
    {
      "cell_type": "code",
      "source": "print('95%-ный доверительный интервал:', values_1.quantile(0.025), ':', values_1.quantile(0.975))\n# считаем 95% доверительный интервал",
      "metadata": {},
      "execution_count": 55,
      "outputs": [
        {
          "name": "stdout",
          "output_type": "stream",
          "text": "95%-ный доверительный интервал: -77856923.73488918 : 968580699.5986103\n"
        }
      ]
    },
    {
      "cell_type": "code",
      "source": "values_1.hist(bins=50)\n# строим гистограмму распределения прибыли",
      "metadata": {},
      "execution_count": 56,
      "outputs": [
        {
          "execution_count": 56,
          "output_type": "execute_result",
          "data": {
            "text/plain": [
              "<AxesSubplot:>"
            ]
          },
          "metadata": {}
        },
        {
          "output_type": "display_data",
          "data": {
            "image/png": "[encoded data removed]",
            "text/plain": [
              "<Figure size 432x288 with 1 Axes>"
            ]
          },
          "metadata": {
            "needs_background": "light"
          }
        }
      ]
    },
    {
      "cell_type": "markdown",
      "source": "### 2-ой регион",
      "metadata": {}
    },
    {
      "cell_type": "code",
      "source": "values_2 = []\nfor i in range(1000):\n    features_subsample = features_2.sample(n=NUMBER, replace=True, random_state=state)\n    target_subsample = target_2[features_subsample.index]\n    predictions_subsample = model_2.predict(features_subsample)\n    values_2.append(margin(predictions_subsample, target_subsample.reset_index(drop=True), QUANTITY)) \n# методом бутстрепа просчитываем распределение прибыли для 2-ого региона",
      "metadata": {},
      "execution_count": 57,
      "outputs": []
    },
    {
      "cell_type": "code",
      "source": "values_2 = pd.Series(values_2)\n# переводим из массива в Series для удобства",
      "metadata": {},
      "execution_count": 58,
      "outputs": []
    },
    {
      "cell_type": "code",
      "source": "values_2.shape",
      "metadata": {},
      "execution_count": 59,
      "outputs": [
        {
          "execution_count": 59,
          "output_type": "execute_result",
          "data": {
            "text/plain": [
              "(1000,)"
            ]
          },
          "metadata": {}
        }
      ]
    },
    {
      "cell_type": "code",
      "source": "print('Вероятность получения убытка:', values_2[values_2 < 0].count() / 10, '%')",
      "metadata": {},
      "execution_count": 60,
      "outputs": [
        {
          "name": "stdout",
          "output_type": "stream",
          "text": "Вероятность получения убытка: 1.0 %\n"
        }
      ]
    },
    {
      "cell_type": "code",
      "source": "print('Среднее значение прибыли:', values_2.mean())\n# считаем среднее значение прибыли",
      "metadata": {},
      "execution_count": 61,
      "outputs": [
        {
          "name": "stdout",
          "output_type": "stream",
          "text": "Среднее значение прибыли: 434821403.11898386\n"
        }
      ]
    },
    {
      "cell_type": "code",
      "source": "print('95%-ный доверительный интервал:', values_2.quantile(0.025), ':', values_2.quantile(0.975))\n# считаем 95% доверительный интервал",
      "metadata": {},
      "execution_count": 62,
      "outputs": [
        {
          "name": "stdout",
          "output_type": "stream",
          "text": "95%-ный доверительный интервал: 42419636.33193002 : 803845113.817385\n"
        }
      ]
    },
    {
      "cell_type": "code",
      "source": "values_2.hist(bins=50)\n# смотрим гистограмму распределения прибыли",
      "metadata": {},
      "execution_count": 63,
      "outputs": [
        {
          "execution_count": 63,
          "output_type": "execute_result",
          "data": {
            "text/plain": [
              "<AxesSubplot:>"
            ]
          },
          "metadata": {}
        },
        {
          "output_type": "display_data",
          "data": {
            "image/png": "[encoded data removed]",
            "text/plain": [
              "<Figure size 432x288 with 1 Axes>"
            ]
          },
          "metadata": {
            "needs_background": "light"
          }
        }
      ]
    },
    {
      "cell_type": "markdown",
      "source": "### 3-ий регион",
      "metadata": {}
    },
    {
      "cell_type": "code",
      "source": "values_3 = []\nfor i in range(1000):\n    features_subsample = features_3.sample(n=NUMBER, replace=True, random_state=state)\n    target_subsample = target_3[features_subsample.index]\n    predictions_subsample = model_3.predict(features_subsample)\n    values_3.append(margin(predictions_subsample, target_subsample.reset_index(drop=True), QUANTITY)) \n# методом бутстрепа просчитываем распределение прибыли для 3-его региона",
      "metadata": {},
      "execution_count": 64,
      "outputs": []
    },
    {
      "cell_type": "code",
      "source": "values_3 = pd.Series(values_3)\n# переводим из массива в Series для удобства",
      "metadata": {},
      "execution_count": 65,
      "outputs": []
    },
    {
      "cell_type": "code",
      "source": "values_3.shape",
      "metadata": {},
      "execution_count": 66,
      "outputs": [
        {
          "execution_count": 66,
          "output_type": "execute_result",
          "data": {
            "text/plain": [
              "(1000,)"
            ]
          },
          "metadata": {}
        }
      ]
    },
    {
      "cell_type": "code",
      "source": "print('Вероятность получения убытков:', values_3[values_3 < 0].count() / 10, '%')",
      "metadata": {},
      "execution_count": 67,
      "outputs": [
        {
          "name": "stdout",
          "output_type": "stream",
          "text": "Вероятность получения убытков: 8.2 %\n"
        }
      ]
    },
    {
      "cell_type": "code",
      "source": "print('Среднее значение прибыли:', values_3.mean())\n# считаем среднее значение прибыли",
      "metadata": {},
      "execution_count": 68,
      "outputs": [
        {
          "name": "stdout",
          "output_type": "stream",
          "text": "Среднее значение прибыли: 386536639.26003146\n"
        }
      ]
    },
    {
      "cell_type": "code",
      "source": "print('95%-ный доверительный интервал:', values_3.quantile(0.025), ':', values_3.quantile(0.975))\n# считаем 95% доверительный интервал",
      "metadata": {},
      "execution_count": 69,
      "outputs": [
        {
          "name": "stdout",
          "output_type": "stream",
          "text": "95%-ный доверительный интервал: -146701548.14414728 : 878420027.4055198\n"
        }
      ]
    },
    {
      "cell_type": "code",
      "source": "values_3.hist(bins=50)\n# строим гистограмму распределения прибыли",
      "metadata": {},
      "execution_count": 70,
      "outputs": [
        {
          "execution_count": 70,
          "output_type": "execute_result",
          "data": {
            "text/plain": [
              "<AxesSubplot:>"
            ]
          },
          "metadata": {}
        },
        {
          "output_type": "display_data",
          "data": {
            "image/png": "[encoded data removed]",
            "text/plain": [
              "<Figure size 432x288 with 1 Axes>"
            ]
          },
          "metadata": {
            "needs_background": "light"
          }
        }
      ]
    },
    {
      "cell_type": "markdown",
      "source": "### Вывод.\n\nВ 1-ом и 3-ем регионе вероятность получить убыток выше 2,5%, поэтому их для разработки мы рассматривать не можем.\n\nВероятность убытка ниже 2,5% и наибольшее среднее значение прибыли показывает 2-ой регион, несмотря на то, что по итогам обучения моделей и проверки на валидационной выборке среднее предсказанное значение запасов нефти в нём было наименьшим. Объяснить это можно тем, что в этом регионе модель давала наиболее близкие к реальным значениям предсказания. Следовательно, его и будем рекомендовать для разработки как наиболее предсказуемый и соответсвующий условиям задачи.",
      "metadata": {}
    }
  ]
}