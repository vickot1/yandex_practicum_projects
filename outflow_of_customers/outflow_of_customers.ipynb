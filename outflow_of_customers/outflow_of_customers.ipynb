{
  "metadata": {
    "ExecuteTimeLog": [
      {
        "duration": 442,
        "start_time": "2022-07-01T15:00:27.095Z"
      },
      {
        "duration": 55,
        "start_time": "2022-07-01T15:00:49.704Z"
      },
      {
        "duration": 14,
        "start_time": "2022-07-01T15:01:00.728Z"
      },
      {
        "duration": 26,
        "start_time": "2022-07-01T15:01:54.388Z"
      },
      {
        "duration": 8,
        "start_time": "2022-07-01T15:02:27.187Z"
      },
      {
        "duration": 12,
        "start_time": "2022-07-01T15:02:49.081Z"
      },
      {
        "duration": 22,
        "start_time": "2022-07-01T15:05:52.753Z"
      },
      {
        "duration": 14,
        "start_time": "2022-07-01T15:12:57.880Z"
      },
      {
        "duration": 1011,
        "start_time": "2022-07-01T15:13:32.600Z"
      },
      {
        "duration": 5,
        "start_time": "2022-07-01T15:13:44.873Z"
      },
      {
        "duration": 14,
        "start_time": "2022-07-01T15:14:06.444Z"
      },
      {
        "duration": 5,
        "start_time": "2022-07-01T15:14:54.419Z"
      },
      {
        "duration": 23,
        "start_time": "2022-07-01T15:16:24.916Z"
      },
      {
        "duration": 16,
        "start_time": "2022-07-01T15:17:13.500Z"
      },
      {
        "duration": 969,
        "start_time": "2022-07-01T15:18:09.919Z"
      },
      {
        "duration": 381,
        "start_time": "2022-07-01T15:18:21.582Z"
      },
      {
        "duration": 29,
        "start_time": "2022-07-01T15:18:21.965Z"
      },
      {
        "duration": 14,
        "start_time": "2022-07-01T15:18:21.996Z"
      },
      {
        "duration": 29,
        "start_time": "2022-07-01T15:18:22.012Z"
      },
      {
        "duration": 8,
        "start_time": "2022-07-01T15:18:22.045Z"
      },
      {
        "duration": 13,
        "start_time": "2022-07-01T15:18:22.054Z"
      },
      {
        "duration": 13,
        "start_time": "2022-07-01T15:18:22.069Z"
      },
      {
        "duration": 8,
        "start_time": "2022-07-01T15:18:22.084Z"
      },
      {
        "duration": 37,
        "start_time": "2022-07-01T15:18:22.093Z"
      },
      {
        "duration": 14,
        "start_time": "2022-07-01T15:18:22.133Z"
      },
      {
        "duration": 1006,
        "start_time": "2022-07-01T15:18:54.767Z"
      },
      {
        "duration": 422,
        "start_time": "2022-07-01T15:19:02.615Z"
      },
      {
        "duration": 28,
        "start_time": "2022-07-01T15:19:03.040Z"
      },
      {
        "duration": 14,
        "start_time": "2022-07-01T15:19:03.070Z"
      },
      {
        "duration": 19,
        "start_time": "2022-07-01T15:19:03.085Z"
      },
      {
        "duration": 10,
        "start_time": "2022-07-01T15:19:03.105Z"
      },
      {
        "duration": 24,
        "start_time": "2022-07-01T15:19:03.132Z"
      },
      {
        "duration": 44,
        "start_time": "2022-07-01T15:19:03.158Z"
      },
      {
        "duration": 42,
        "start_time": "2022-07-01T15:19:03.204Z"
      },
      {
        "duration": 27,
        "start_time": "2022-07-01T15:19:03.247Z"
      },
      {
        "duration": 22,
        "start_time": "2022-07-01T15:19:03.276Z"
      },
      {
        "duration": 421,
        "start_time": "2022-07-01T15:19:37.547Z"
      },
      {
        "duration": 28,
        "start_time": "2022-07-01T15:19:37.970Z"
      },
      {
        "duration": 13,
        "start_time": "2022-07-01T15:19:38.000Z"
      },
      {
        "duration": 30,
        "start_time": "2022-07-01T15:19:38.016Z"
      },
      {
        "duration": 17,
        "start_time": "2022-07-01T15:19:38.048Z"
      },
      {
        "duration": 29,
        "start_time": "2022-07-01T15:19:38.066Z"
      },
      {
        "duration": 1164,
        "start_time": "2022-07-01T15:19:38.097Z"
      },
      {
        "duration": 0,
        "start_time": "2022-07-01T15:19:39.263Z"
      },
      {
        "duration": 0,
        "start_time": "2022-07-01T15:19:39.265Z"
      },
      {
        "duration": 0,
        "start_time": "2022-07-01T15:19:39.266Z"
      },
      {
        "duration": 14,
        "start_time": "2022-07-01T15:19:45.489Z"
      },
      {
        "duration": 14,
        "start_time": "2022-07-01T15:19:58.474Z"
      },
      {
        "duration": 5,
        "start_time": "2022-07-01T15:19:59.216Z"
      },
      {
        "duration": 6,
        "start_time": "2022-07-01T15:19:59.913Z"
      },
      {
        "duration": 656,
        "start_time": "2022-07-01T15:28:33.706Z"
      },
      {
        "duration": 16,
        "start_time": "2022-07-01T15:32:13.609Z"
      },
      {
        "duration": 5,
        "start_time": "2022-07-01T15:32:53.072Z"
      },
      {
        "duration": 50,
        "start_time": "2022-07-01T15:33:29.645Z"
      },
      {
        "duration": 7,
        "start_time": "2022-07-01T15:34:07.738Z"
      },
      {
        "duration": 10,
        "start_time": "2022-07-01T15:35:47.138Z"
      },
      {
        "duration": 9,
        "start_time": "2022-07-01T15:42:14.815Z"
      },
      {
        "duration": 4,
        "start_time": "2022-07-01T15:42:33.794Z"
      },
      {
        "duration": 4,
        "start_time": "2022-07-01T15:42:49.086Z"
      },
      {
        "duration": 10,
        "start_time": "2022-07-01T15:44:52.571Z"
      },
      {
        "duration": 4,
        "start_time": "2022-07-01T15:45:03.847Z"
      },
      {
        "duration": 7,
        "start_time": "2022-07-01T15:45:12.543Z"
      },
      {
        "duration": 12,
        "start_time": "2022-07-01T15:48:42.752Z"
      },
      {
        "duration": 5,
        "start_time": "2022-07-01T15:48:55.784Z"
      },
      {
        "duration": 5,
        "start_time": "2022-07-01T15:49:26.392Z"
      },
      {
        "duration": 6,
        "start_time": "2022-07-01T15:50:06.676Z"
      },
      {
        "duration": 22,
        "start_time": "2022-07-01T15:57:01.680Z"
      },
      {
        "duration": 6,
        "start_time": "2022-07-01T16:21:03.776Z"
      },
      {
        "duration": 1107,
        "start_time": "2022-07-01T16:23:29.281Z"
      },
      {
        "duration": 29,
        "start_time": "2022-07-01T16:23:30.391Z"
      },
      {
        "duration": 25,
        "start_time": "2022-07-01T16:23:30.422Z"
      },
      {
        "duration": 24,
        "start_time": "2022-07-01T16:23:30.450Z"
      },
      {
        "duration": 27,
        "start_time": "2022-07-01T16:23:30.477Z"
      },
      {
        "duration": 12,
        "start_time": "2022-07-01T16:23:30.506Z"
      },
      {
        "duration": 34,
        "start_time": "2022-07-01T16:23:30.519Z"
      },
      {
        "duration": 15,
        "start_time": "2022-07-01T16:23:30.556Z"
      },
      {
        "duration": 24,
        "start_time": "2022-07-01T16:23:30.573Z"
      },
      {
        "duration": 18,
        "start_time": "2022-07-01T16:23:30.601Z"
      },
      {
        "duration": 35,
        "start_time": "2022-07-01T16:23:30.621Z"
      },
      {
        "duration": 12,
        "start_time": "2022-07-01T16:23:30.658Z"
      },
      {
        "duration": 14,
        "start_time": "2022-07-01T16:23:30.672Z"
      },
      {
        "duration": 4,
        "start_time": "2022-07-01T16:23:30.688Z"
      },
      {
        "duration": 12,
        "start_time": "2022-07-01T16:23:30.694Z"
      },
      {
        "duration": 20,
        "start_time": "2022-07-01T16:23:30.708Z"
      },
      {
        "duration": 11,
        "start_time": "2022-07-01T16:23:30.735Z"
      },
      {
        "duration": 15,
        "start_time": "2022-07-01T16:23:30.748Z"
      },
      {
        "duration": 13,
        "start_time": "2022-07-01T16:23:30.765Z"
      },
      {
        "duration": 12,
        "start_time": "2022-07-01T16:23:30.780Z"
      },
      {
        "duration": 10,
        "start_time": "2022-07-01T16:23:30.795Z"
      },
      {
        "duration": 156,
        "start_time": "2022-07-01T16:23:30.807Z"
      },
      {
        "duration": 24,
        "start_time": "2022-07-01T16:27:24.600Z"
      },
      {
        "duration": 1147,
        "start_time": "2022-07-01T16:27:55.805Z"
      },
      {
        "duration": 28,
        "start_time": "2022-07-01T16:27:56.954Z"
      },
      {
        "duration": 14,
        "start_time": "2022-07-01T16:27:56.984Z"
      },
      {
        "duration": 3,
        "start_time": "2022-07-01T16:27:57.001Z"
      },
      {
        "duration": 26,
        "start_time": "2022-07-01T16:27:57.005Z"
      },
      {
        "duration": 8,
        "start_time": "2022-07-01T16:27:57.033Z"
      },
      {
        "duration": 34,
        "start_time": "2022-07-01T16:27:57.042Z"
      },
      {
        "duration": 12,
        "start_time": "2022-07-01T16:27:57.077Z"
      },
      {
        "duration": 17,
        "start_time": "2022-07-01T16:27:57.090Z"
      },
      {
        "duration": 6,
        "start_time": "2022-07-01T16:27:57.109Z"
      },
      {
        "duration": 20,
        "start_time": "2022-07-01T16:27:57.116Z"
      },
      {
        "duration": 30,
        "start_time": "2022-07-01T16:27:57.139Z"
      },
      {
        "duration": 8,
        "start_time": "2022-07-01T16:27:57.171Z"
      },
      {
        "duration": 9,
        "start_time": "2022-07-01T16:27:57.181Z"
      },
      {
        "duration": 5,
        "start_time": "2022-07-01T16:27:57.192Z"
      },
      {
        "duration": 22,
        "start_time": "2022-07-01T16:27:57.198Z"
      },
      {
        "duration": 26,
        "start_time": "2022-07-01T16:27:57.221Z"
      },
      {
        "duration": 7,
        "start_time": "2022-07-01T16:27:57.249Z"
      },
      {
        "duration": 11,
        "start_time": "2022-07-01T16:27:57.258Z"
      },
      {
        "duration": 12,
        "start_time": "2022-07-01T16:27:57.271Z"
      },
      {
        "duration": 9,
        "start_time": "2022-07-01T16:27:57.284Z"
      },
      {
        "duration": 8,
        "start_time": "2022-07-01T16:27:57.294Z"
      },
      {
        "duration": 120,
        "start_time": "2022-07-01T16:27:57.303Z"
      },
      {
        "duration": 18,
        "start_time": "2022-07-01T16:28:19.424Z"
      },
      {
        "duration": 1203,
        "start_time": "2022-07-01T16:34:46.146Z"
      },
      {
        "duration": 28,
        "start_time": "2022-07-01T16:34:47.351Z"
      },
      {
        "duration": 14,
        "start_time": "2022-07-01T16:34:47.380Z"
      },
      {
        "duration": 13,
        "start_time": "2022-07-01T16:34:47.396Z"
      },
      {
        "duration": 28,
        "start_time": "2022-07-01T16:34:47.411Z"
      },
      {
        "duration": 6,
        "start_time": "2022-07-01T16:34:47.441Z"
      },
      {
        "duration": 19,
        "start_time": "2022-07-01T16:34:47.448Z"
      },
      {
        "duration": 12,
        "start_time": "2022-07-01T16:34:47.468Z"
      },
      {
        "duration": 4,
        "start_time": "2022-07-01T16:34:47.481Z"
      },
      {
        "duration": 21,
        "start_time": "2022-07-01T16:34:47.487Z"
      },
      {
        "duration": 4,
        "start_time": "2022-07-01T16:34:47.510Z"
      },
      {
        "duration": 27,
        "start_time": "2022-07-01T16:34:47.515Z"
      },
      {
        "duration": 20,
        "start_time": "2022-07-01T16:34:47.544Z"
      },
      {
        "duration": 5,
        "start_time": "2022-07-01T16:34:47.567Z"
      },
      {
        "duration": 13,
        "start_time": "2022-07-01T16:34:47.573Z"
      },
      {
        "duration": 5,
        "start_time": "2022-07-01T16:34:47.587Z"
      },
      {
        "duration": 7,
        "start_time": "2022-07-01T16:34:47.593Z"
      },
      {
        "duration": 31,
        "start_time": "2022-07-01T16:34:47.601Z"
      },
      {
        "duration": 4,
        "start_time": "2022-07-01T16:34:47.634Z"
      },
      {
        "duration": 9,
        "start_time": "2022-07-01T16:34:47.640Z"
      },
      {
        "duration": 16,
        "start_time": "2022-07-01T16:34:47.651Z"
      },
      {
        "duration": 7,
        "start_time": "2022-07-01T16:34:47.668Z"
      },
      {
        "duration": 6,
        "start_time": "2022-07-01T16:34:47.676Z"
      },
      {
        "duration": 111,
        "start_time": "2022-07-01T16:34:47.684Z"
      },
      {
        "duration": 15,
        "start_time": "2022-07-01T16:35:18.781Z"
      },
      {
        "duration": 20,
        "start_time": "2022-07-01T16:36:27.998Z"
      },
      {
        "duration": 523,
        "start_time": "2022-07-01T16:36:35.599Z"
      },
      {
        "duration": 543,
        "start_time": "2022-07-01T16:37:21.194Z"
      },
      {
        "duration": 584,
        "start_time": "2022-07-01T16:39:31.738Z"
      },
      {
        "duration": 51,
        "start_time": "2022-07-01T16:40:37.833Z"
      },
      {
        "duration": 78,
        "start_time": "2022-07-01T16:40:55.221Z"
      },
      {
        "duration": 524,
        "start_time": "2022-07-01T16:41:12.504Z"
      },
      {
        "duration": 559,
        "start_time": "2022-07-01T16:43:10.242Z"
      },
      {
        "duration": 519,
        "start_time": "2022-07-01T16:44:10.770Z"
      },
      {
        "duration": 539,
        "start_time": "2022-07-01T16:44:53.398Z"
      },
      {
        "duration": 555,
        "start_time": "2022-07-01T16:45:07.544Z"
      },
      {
        "duration": 476,
        "start_time": "2022-07-01T16:50:40.090Z"
      },
      {
        "duration": 10,
        "start_time": "2022-07-01T16:50:41.758Z"
      },
      {
        "duration": 445,
        "start_time": "2022-07-01T16:51:07.799Z"
      },
      {
        "duration": 209,
        "start_time": "2022-07-01T16:51:12.401Z"
      },
      {
        "duration": 248,
        "start_time": "2022-07-01T16:52:45.074Z"
      },
      {
        "duration": 212,
        "start_time": "2022-07-01T16:53:39.332Z"
      },
      {
        "duration": 228,
        "start_time": "2022-07-01T16:54:02.992Z"
      },
      {
        "duration": 208,
        "start_time": "2022-07-01T16:54:51.149Z"
      },
      {
        "duration": 269,
        "start_time": "2022-07-01T16:55:08.410Z"
      },
      {
        "duration": 195,
        "start_time": "2022-07-01T16:55:14.931Z"
      },
      {
        "duration": 204,
        "start_time": "2022-07-01T16:55:29.846Z"
      },
      {
        "duration": 175,
        "start_time": "2022-07-01T16:55:37.652Z"
      },
      {
        "duration": 212,
        "start_time": "2022-07-01T16:57:44.422Z"
      },
      {
        "duration": 207,
        "start_time": "2022-07-01T16:58:02.228Z"
      },
      {
        "duration": 177,
        "start_time": "2022-07-01T16:58:36.574Z"
      },
      {
        "duration": 189,
        "start_time": "2022-07-01T16:59:02.192Z"
      },
      {
        "duration": 473,
        "start_time": "2022-07-01T17:02:34.851Z"
      },
      {
        "duration": 478,
        "start_time": "2022-07-01T17:04:14.892Z"
      },
      {
        "duration": 479,
        "start_time": "2022-07-01T17:04:55.506Z"
      },
      {
        "duration": 13,
        "start_time": "2022-07-01T17:10:19.989Z"
      },
      {
        "duration": 12,
        "start_time": "2022-07-01T17:10:39.412Z"
      },
      {
        "duration": 44916,
        "start_time": "2022-07-01T17:11:03.655Z"
      },
      {
        "duration": 4,
        "start_time": "2022-07-01T17:11:48.573Z"
      },
      {
        "duration": 44902,
        "start_time": "2022-07-01T17:13:19.868Z"
      },
      {
        "duration": 4,
        "start_time": "2022-07-01T17:14:04.772Z"
      },
      {
        "duration": 5,
        "start_time": "2022-07-01T17:16:27.069Z"
      },
      {
        "duration": 512022,
        "start_time": "2022-07-01T17:16:41.521Z"
      },
      {
        "duration": 296,
        "start_time": "2022-07-01T17:57:31.214Z"
      },
      {
        "duration": 302,
        "start_time": "2022-07-01T17:57:39.501Z"
      },
      {
        "duration": 313,
        "start_time": "2022-07-01T17:59:24.459Z"
      },
      {
        "duration": 29,
        "start_time": "2022-07-01T18:00:40.438Z"
      },
      {
        "duration": 30,
        "start_time": "2022-07-01T18:03:44.545Z"
      },
      {
        "duration": 813,
        "start_time": "2022-07-01T18:04:27.518Z"
      },
      {
        "duration": 1168,
        "start_time": "2022-07-01T18:04:46.662Z"
      },
      {
        "duration": 371,
        "start_time": "2022-07-01T18:05:52.669Z"
      },
      {
        "duration": 12,
        "start_time": "2022-07-01T18:07:21.769Z"
      },
      {
        "duration": 5,
        "start_time": "2022-07-01T18:09:29.583Z"
      },
      {
        "duration": 24,
        "start_time": "2022-07-01T18:17:13.794Z"
      },
      {
        "duration": 505,
        "start_time": "2022-07-01T18:24:09.694Z"
      },
      {
        "duration": 26,
        "start_time": "2022-07-01T18:24:25.297Z"
      },
      {
        "duration": 489,
        "start_time": "2022-07-01T18:24:26.910Z"
      },
      {
        "duration": 178,
        "start_time": "2022-07-01T18:24:30.022Z"
      },
      {
        "duration": 486,
        "start_time": "2022-07-01T18:25:12.692Z"
      },
      {
        "duration": 187,
        "start_time": "2022-07-01T18:25:15.491Z"
      },
      {
        "duration": 30,
        "start_time": "2022-07-01T18:25:55.891Z"
      },
      {
        "duration": 36,
        "start_time": "2022-07-01T18:26:19.736Z"
      },
      {
        "duration": 1497,
        "start_time": "2022-07-01T18:26:45.139Z"
      },
      {
        "duration": 32,
        "start_time": "2022-07-01T18:26:46.639Z"
      },
      {
        "duration": 14,
        "start_time": "2022-07-01T18:26:46.672Z"
      },
      {
        "duration": 6,
        "start_time": "2022-07-01T18:26:46.688Z"
      },
      {
        "duration": 30,
        "start_time": "2022-07-01T18:26:46.697Z"
      },
      {
        "duration": 10,
        "start_time": "2022-07-01T18:26:46.730Z"
      },
      {
        "duration": 25,
        "start_time": "2022-07-01T18:26:46.744Z"
      },
      {
        "duration": 13,
        "start_time": "2022-07-01T18:26:46.771Z"
      },
      {
        "duration": 7,
        "start_time": "2022-07-01T18:26:46.786Z"
      },
      {
        "duration": 33,
        "start_time": "2022-07-01T18:26:46.794Z"
      },
      {
        "duration": 7,
        "start_time": "2022-07-01T18:26:46.829Z"
      },
      {
        "duration": 19,
        "start_time": "2022-07-01T18:26:46.838Z"
      },
      {
        "duration": 25,
        "start_time": "2022-07-01T18:26:46.859Z"
      },
      {
        "duration": 7,
        "start_time": "2022-07-01T18:26:46.888Z"
      },
      {
        "duration": 34,
        "start_time": "2022-07-01T18:26:46.897Z"
      },
      {
        "duration": 5,
        "start_time": "2022-07-01T18:26:46.933Z"
      },
      {
        "duration": 12,
        "start_time": "2022-07-01T18:26:46.940Z"
      },
      {
        "duration": 12,
        "start_time": "2022-07-01T18:26:46.954Z"
      },
      {
        "duration": 4,
        "start_time": "2022-07-01T18:26:46.968Z"
      },
      {
        "duration": 9,
        "start_time": "2022-07-01T18:26:46.974Z"
      },
      {
        "duration": 12,
        "start_time": "2022-07-01T18:26:46.985Z"
      },
      {
        "duration": 9,
        "start_time": "2022-07-01T18:26:46.998Z"
      },
      {
        "duration": 19,
        "start_time": "2022-07-01T18:26:47.009Z"
      },
      {
        "duration": 524,
        "start_time": "2022-07-01T18:26:47.030Z"
      },
      {
        "duration": 204,
        "start_time": "2022-07-01T18:26:47.555Z"
      },
      {
        "duration": 26,
        "start_time": "2022-07-01T18:26:47.761Z"
      },
      {
        "duration": 22805,
        "start_time": "2022-07-01T18:26:47.788Z"
      },
      {
        "duration": 0,
        "start_time": "2022-07-01T18:27:10.595Z"
      },
      {
        "duration": 0,
        "start_time": "2022-07-01T18:27:10.597Z"
      },
      {
        "duration": 0,
        "start_time": "2022-07-01T18:27:10.598Z"
      },
      {
        "duration": 0,
        "start_time": "2022-07-01T18:27:10.599Z"
      },
      {
        "duration": 0,
        "start_time": "2022-07-01T18:27:10.600Z"
      },
      {
        "duration": 0,
        "start_time": "2022-07-01T18:27:10.601Z"
      },
      {
        "duration": 0,
        "start_time": "2022-07-01T18:27:10.602Z"
      },
      {
        "duration": 0,
        "start_time": "2022-07-01T18:27:10.603Z"
      },
      {
        "duration": 1430,
        "start_time": "2022-07-01T18:27:30.545Z"
      },
      {
        "duration": 43,
        "start_time": "2022-07-01T18:27:31.979Z"
      },
      {
        "duration": 16,
        "start_time": "2022-07-01T18:27:32.024Z"
      },
      {
        "duration": 3,
        "start_time": "2022-07-01T18:27:32.042Z"
      },
      {
        "duration": 33,
        "start_time": "2022-07-01T18:27:32.047Z"
      },
      {
        "duration": 9,
        "start_time": "2022-07-01T18:27:32.081Z"
      },
      {
        "duration": 38,
        "start_time": "2022-07-01T18:27:32.092Z"
      },
      {
        "duration": 15,
        "start_time": "2022-07-01T18:27:32.131Z"
      },
      {
        "duration": 16,
        "start_time": "2022-07-01T18:27:32.147Z"
      },
      {
        "duration": 24,
        "start_time": "2022-07-01T18:27:32.167Z"
      },
      {
        "duration": 6,
        "start_time": "2022-07-01T18:27:32.193Z"
      },
      {
        "duration": 27,
        "start_time": "2022-07-01T18:27:32.201Z"
      },
      {
        "duration": 27,
        "start_time": "2022-07-01T18:27:32.230Z"
      },
      {
        "duration": 7,
        "start_time": "2022-07-01T18:27:32.258Z"
      },
      {
        "duration": 17,
        "start_time": "2022-07-01T18:27:32.267Z"
      },
      {
        "duration": 6,
        "start_time": "2022-07-01T18:27:32.285Z"
      },
      {
        "duration": 21,
        "start_time": "2022-07-01T18:27:32.293Z"
      },
      {
        "duration": 20,
        "start_time": "2022-07-01T18:27:32.316Z"
      },
      {
        "duration": 7,
        "start_time": "2022-07-01T18:27:32.338Z"
      },
      {
        "duration": 8,
        "start_time": "2022-07-01T18:27:32.346Z"
      },
      {
        "duration": 8,
        "start_time": "2022-07-01T18:27:32.356Z"
      },
      {
        "duration": 6,
        "start_time": "2022-07-01T18:27:32.366Z"
      },
      {
        "duration": 7,
        "start_time": "2022-07-01T18:27:32.373Z"
      },
      {
        "duration": 473,
        "start_time": "2022-07-01T18:27:32.382Z"
      },
      {
        "duration": 187,
        "start_time": "2022-07-01T18:27:32.856Z"
      },
      {
        "duration": 35,
        "start_time": "2022-07-01T18:27:33.045Z"
      },
      {
        "duration": 1353,
        "start_time": "2022-07-01T18:27:33.082Z"
      },
      {
        "duration": 98,
        "start_time": "2022-07-01T18:27:34.439Z"
      },
      {
        "duration": 134,
        "start_time": "2022-07-01T18:27:34.633Z"
      },
      {
        "duration": 550,
        "start_time": "2022-07-01T18:27:34.769Z"
      },
      {
        "duration": 193,
        "start_time": "2022-07-01T18:27:35.321Z"
      },
      {
        "duration": 31,
        "start_time": "2022-07-01T18:27:35.516Z"
      },
      {
        "duration": 303,
        "start_time": "2022-07-01T18:29:13.373Z"
      },
      {
        "duration": 34,
        "start_time": "2022-07-01T18:29:42.139Z"
      },
      {
        "duration": 918,
        "start_time": "2022-07-01T18:30:55.118Z"
      },
      {
        "duration": 92,
        "start_time": "2022-07-01T18:31:15.251Z"
      },
      {
        "duration": 147,
        "start_time": "2022-07-01T18:32:00.338Z"
      },
      {
        "duration": 55,
        "start_time": "2022-07-01T18:33:02.599Z"
      },
      {
        "duration": 31,
        "start_time": "2022-07-01T18:33:23.272Z"
      },
      {
        "duration": 169,
        "start_time": "2022-07-01T18:33:41.857Z"
      },
      {
        "duration": 46,
        "start_time": "2022-07-02T08:58:40.968Z"
      },
      {
        "duration": 1428,
        "start_time": "2022-07-02T08:58:45.282Z"
      },
      {
        "duration": 58,
        "start_time": "2022-07-02T08:58:46.712Z"
      },
      {
        "duration": 14,
        "start_time": "2022-07-02T08:58:46.771Z"
      },
      {
        "duration": 3,
        "start_time": "2022-07-02T08:58:46.787Z"
      },
      {
        "duration": 19,
        "start_time": "2022-07-02T08:58:46.791Z"
      },
      {
        "duration": 11,
        "start_time": "2022-07-02T08:58:46.812Z"
      },
      {
        "duration": 10,
        "start_time": "2022-07-02T08:58:46.824Z"
      },
      {
        "duration": 12,
        "start_time": "2022-07-02T08:58:46.836Z"
      },
      {
        "duration": 9,
        "start_time": "2022-07-02T08:58:46.849Z"
      },
      {
        "duration": 16,
        "start_time": "2022-07-02T08:58:46.861Z"
      },
      {
        "duration": 5,
        "start_time": "2022-07-02T08:58:46.878Z"
      },
      {
        "duration": 12,
        "start_time": "2022-07-02T08:58:46.884Z"
      },
      {
        "duration": 42,
        "start_time": "2022-07-02T08:58:46.898Z"
      },
      {
        "duration": 5,
        "start_time": "2022-07-02T08:58:46.942Z"
      },
      {
        "duration": 11,
        "start_time": "2022-07-02T08:58:46.949Z"
      },
      {
        "duration": 3,
        "start_time": "2022-07-02T08:58:46.961Z"
      },
      {
        "duration": 7,
        "start_time": "2022-07-02T08:58:46.965Z"
      },
      {
        "duration": 10,
        "start_time": "2022-07-02T08:58:46.973Z"
      },
      {
        "duration": 4,
        "start_time": "2022-07-02T08:58:46.984Z"
      },
      {
        "duration": 6,
        "start_time": "2022-07-02T08:58:46.989Z"
      },
      {
        "duration": 9,
        "start_time": "2022-07-02T08:58:46.997Z"
      },
      {
        "duration": 4,
        "start_time": "2022-07-02T08:58:47.026Z"
      },
      {
        "duration": 7,
        "start_time": "2022-07-02T08:58:47.031Z"
      },
      {
        "duration": 479,
        "start_time": "2022-07-02T08:58:47.040Z"
      },
      {
        "duration": 198,
        "start_time": "2022-07-02T08:58:47.520Z"
      },
      {
        "duration": 27,
        "start_time": "2022-07-02T08:58:47.720Z"
      },
      {
        "duration": 285,
        "start_time": "2022-07-02T08:58:47.749Z"
      },
      {
        "duration": 28,
        "start_time": "2022-07-02T08:58:48.038Z"
      },
      {
        "duration": 765,
        "start_time": "2022-07-02T08:58:48.068Z"
      },
      {
        "duration": 98,
        "start_time": "2022-07-02T08:58:48.835Z"
      },
      {
        "duration": 199,
        "start_time": "2022-07-02T08:58:48.936Z"
      },
      {
        "duration": 470,
        "start_time": "2022-07-02T08:58:49.137Z"
      },
      {
        "duration": 160,
        "start_time": "2022-07-02T08:58:49.609Z"
      },
      {
        "duration": 31,
        "start_time": "2022-07-02T08:58:49.770Z"
      },
      {
        "duration": 284,
        "start_time": "2022-07-02T08:58:49.802Z"
      },
      {
        "duration": 56,
        "start_time": "2022-07-02T08:58:50.087Z"
      },
      {
        "duration": 482,
        "start_time": "2022-07-02T08:58:50.145Z"
      },
      {
        "duration": 107,
        "start_time": "2022-07-02T08:58:50.629Z"
      },
      {
        "duration": 10,
        "start_time": "2022-07-02T09:02:56.685Z"
      },
      {
        "duration": 1309,
        "start_time": "2022-07-02T09:03:02.455Z"
      },
      {
        "duration": 31,
        "start_time": "2022-07-02T09:03:03.767Z"
      },
      {
        "duration": 13,
        "start_time": "2022-07-02T09:03:03.800Z"
      },
      {
        "duration": 12,
        "start_time": "2022-07-02T09:03:03.815Z"
      },
      {
        "duration": 40,
        "start_time": "2022-07-02T09:03:03.829Z"
      },
      {
        "duration": 20,
        "start_time": "2022-07-02T09:03:03.871Z"
      },
      {
        "duration": 29,
        "start_time": "2022-07-02T09:03:03.893Z"
      },
      {
        "duration": 19,
        "start_time": "2022-07-02T09:03:03.923Z"
      },
      {
        "duration": 18,
        "start_time": "2022-07-02T09:03:03.944Z"
      },
      {
        "duration": 27,
        "start_time": "2022-07-02T09:03:03.965Z"
      },
      {
        "duration": 31,
        "start_time": "2022-07-02T09:03:03.993Z"
      },
      {
        "duration": 23,
        "start_time": "2022-07-02T09:03:04.025Z"
      },
      {
        "duration": 14,
        "start_time": "2022-07-02T09:03:04.049Z"
      },
      {
        "duration": 37,
        "start_time": "2022-07-02T09:03:04.065Z"
      },
      {
        "duration": 28,
        "start_time": "2022-07-02T09:03:04.103Z"
      },
      {
        "duration": 19,
        "start_time": "2022-07-02T09:03:04.132Z"
      },
      {
        "duration": 32,
        "start_time": "2022-07-02T09:03:04.153Z"
      },
      {
        "duration": 24,
        "start_time": "2022-07-02T09:03:04.186Z"
      },
      {
        "duration": 34,
        "start_time": "2022-07-02T09:03:04.211Z"
      },
      {
        "duration": 27,
        "start_time": "2022-07-02T09:03:04.246Z"
      },
      {
        "duration": 39,
        "start_time": "2022-07-02T09:03:04.274Z"
      },
      {
        "duration": 36,
        "start_time": "2022-07-02T09:03:04.314Z"
      },
      {
        "duration": 23,
        "start_time": "2022-07-02T09:03:04.352Z"
      },
      {
        "duration": 23,
        "start_time": "2022-07-02T09:03:04.376Z"
      },
      {
        "duration": 473,
        "start_time": "2022-07-02T09:03:04.400Z"
      },
      {
        "duration": 174,
        "start_time": "2022-07-02T09:03:04.875Z"
      },
      {
        "duration": 26,
        "start_time": "2022-07-02T09:03:05.051Z"
      },
      {
        "duration": 290,
        "start_time": "2022-07-02T09:03:05.080Z"
      },
      {
        "duration": 29,
        "start_time": "2022-07-02T09:03:05.372Z"
      },
      {
        "duration": 532,
        "start_time": "2022-07-02T09:03:05.403Z"
      },
      {
        "duration": 13,
        "start_time": "2022-07-02T09:03:06.027Z"
      },
      {
        "duration": 220,
        "start_time": "2022-07-02T09:03:06.042Z"
      },
      {
        "duration": 453,
        "start_time": "2022-07-02T09:03:06.264Z"
      },
      {
        "duration": 166,
        "start_time": "2022-07-02T09:03:06.719Z"
      },
      {
        "duration": 28,
        "start_time": "2022-07-02T09:03:06.887Z"
      },
      {
        "duration": 279,
        "start_time": "2022-07-02T09:03:06.917Z"
      },
      {
        "duration": 58,
        "start_time": "2022-07-02T09:03:07.198Z"
      },
      {
        "duration": 470,
        "start_time": "2022-07-02T09:03:07.258Z"
      },
      {
        "duration": 107,
        "start_time": "2022-07-02T09:03:07.730Z"
      },
      {
        "duration": 1243,
        "start_time": "2022-07-02T09:03:43.214Z"
      },
      {
        "duration": 29,
        "start_time": "2022-07-02T09:03:44.460Z"
      },
      {
        "duration": 12,
        "start_time": "2022-07-02T09:03:44.492Z"
      },
      {
        "duration": 7,
        "start_time": "2022-07-02T09:03:44.506Z"
      },
      {
        "duration": 22,
        "start_time": "2022-07-02T09:03:44.514Z"
      },
      {
        "duration": 7,
        "start_time": "2022-07-02T09:03:44.538Z"
      },
      {
        "duration": 11,
        "start_time": "2022-07-02T09:03:44.547Z"
      },
      {
        "duration": 16,
        "start_time": "2022-07-02T09:03:44.560Z"
      },
      {
        "duration": 7,
        "start_time": "2022-07-02T09:03:44.577Z"
      },
      {
        "duration": 14,
        "start_time": "2022-07-02T09:03:44.585Z"
      },
      {
        "duration": 34,
        "start_time": "2022-07-02T09:03:44.600Z"
      },
      {
        "duration": 4,
        "start_time": "2022-07-02T09:03:44.636Z"
      },
      {
        "duration": 8,
        "start_time": "2022-07-02T09:03:44.643Z"
      },
      {
        "duration": 21,
        "start_time": "2022-07-02T09:03:44.652Z"
      },
      {
        "duration": 6,
        "start_time": "2022-07-02T09:03:44.675Z"
      },
      {
        "duration": 8,
        "start_time": "2022-07-02T09:03:44.683Z"
      },
      {
        "duration": 34,
        "start_time": "2022-07-02T09:03:44.693Z"
      },
      {
        "duration": 4,
        "start_time": "2022-07-02T09:03:44.729Z"
      },
      {
        "duration": 10,
        "start_time": "2022-07-02T09:03:44.734Z"
      },
      {
        "duration": 4,
        "start_time": "2022-07-02T09:03:44.746Z"
      },
      {
        "duration": 8,
        "start_time": "2022-07-02T09:03:44.752Z"
      },
      {
        "duration": 7,
        "start_time": "2022-07-02T09:03:44.761Z"
      },
      {
        "duration": 9,
        "start_time": "2022-07-02T09:03:44.770Z"
      },
      {
        "duration": 7,
        "start_time": "2022-07-02T09:03:44.780Z"
      },
      {
        "duration": 127,
        "start_time": "2022-07-02T09:03:44.789Z"
      },
      {
        "duration": 0,
        "start_time": "2022-07-02T09:03:44.918Z"
      },
      {
        "duration": 0,
        "start_time": "2022-07-02T09:03:44.919Z"
      },
      {
        "duration": 0,
        "start_time": "2022-07-02T09:03:44.926Z"
      },
      {
        "duration": 0,
        "start_time": "2022-07-02T09:03:44.927Z"
      },
      {
        "duration": 0,
        "start_time": "2022-07-02T09:03:44.928Z"
      },
      {
        "duration": 0,
        "start_time": "2022-07-02T09:03:44.929Z"
      },
      {
        "duration": 0,
        "start_time": "2022-07-02T09:03:44.930Z"
      },
      {
        "duration": 0,
        "start_time": "2022-07-02T09:03:44.931Z"
      },
      {
        "duration": 0,
        "start_time": "2022-07-02T09:03:44.932Z"
      },
      {
        "duration": 0,
        "start_time": "2022-07-02T09:03:44.933Z"
      },
      {
        "duration": 0,
        "start_time": "2022-07-02T09:03:44.933Z"
      },
      {
        "duration": 0,
        "start_time": "2022-07-02T09:03:44.934Z"
      },
      {
        "duration": 0,
        "start_time": "2022-07-02T09:03:44.935Z"
      },
      {
        "duration": 0,
        "start_time": "2022-07-02T09:03:44.936Z"
      },
      {
        "duration": 13,
        "start_time": "2022-07-02T09:04:39.366Z"
      },
      {
        "duration": 12,
        "start_time": "2022-07-02T09:05:10.349Z"
      },
      {
        "duration": 8,
        "start_time": "2022-07-02T09:07:30.683Z"
      },
      {
        "duration": 13,
        "start_time": "2022-07-02T09:16:20.603Z"
      },
      {
        "duration": 905,
        "start_time": "2022-07-02T09:16:24.732Z"
      },
      {
        "duration": 839,
        "start_time": "2022-07-02T09:16:25.893Z"
      },
      {
        "duration": 1315,
        "start_time": "2022-07-02T09:16:37.299Z"
      },
      {
        "duration": 33,
        "start_time": "2022-07-02T09:16:38.616Z"
      },
      {
        "duration": 14,
        "start_time": "2022-07-02T09:16:38.651Z"
      },
      {
        "duration": 3,
        "start_time": "2022-07-02T09:16:38.667Z"
      },
      {
        "duration": 17,
        "start_time": "2022-07-02T09:16:38.672Z"
      },
      {
        "duration": 6,
        "start_time": "2022-07-02T09:16:38.690Z"
      },
      {
        "duration": 31,
        "start_time": "2022-07-02T09:16:38.698Z"
      },
      {
        "duration": 16,
        "start_time": "2022-07-02T09:16:38.731Z"
      },
      {
        "duration": 9,
        "start_time": "2022-07-02T09:16:38.749Z"
      },
      {
        "duration": 23,
        "start_time": "2022-07-02T09:16:38.761Z"
      },
      {
        "duration": 22,
        "start_time": "2022-07-02T09:16:38.786Z"
      },
      {
        "duration": 19,
        "start_time": "2022-07-02T09:16:38.810Z"
      },
      {
        "duration": 6,
        "start_time": "2022-07-02T09:16:38.830Z"
      },
      {
        "duration": 7,
        "start_time": "2022-07-02T09:16:38.838Z"
      },
      {
        "duration": 22,
        "start_time": "2022-07-02T09:16:38.847Z"
      },
      {
        "duration": 6,
        "start_time": "2022-07-02T09:16:38.870Z"
      },
      {
        "duration": 9,
        "start_time": "2022-07-02T09:16:38.878Z"
      },
      {
        "duration": 38,
        "start_time": "2022-07-02T09:16:38.888Z"
      },
      {
        "duration": 4,
        "start_time": "2022-07-02T09:16:38.928Z"
      },
      {
        "duration": 15,
        "start_time": "2022-07-02T09:16:38.934Z"
      },
      {
        "duration": 4,
        "start_time": "2022-07-02T09:16:38.951Z"
      },
      {
        "duration": 16,
        "start_time": "2022-07-02T09:16:38.957Z"
      },
      {
        "duration": 12,
        "start_time": "2022-07-02T09:16:38.975Z"
      },
      {
        "duration": 19,
        "start_time": "2022-07-02T09:16:38.988Z"
      },
      {
        "duration": 10,
        "start_time": "2022-07-02T09:16:39.008Z"
      },
      {
        "duration": 503,
        "start_time": "2022-07-02T09:16:39.021Z"
      },
      {
        "duration": 240,
        "start_time": "2022-07-02T09:16:39.526Z"
      },
      {
        "duration": 27,
        "start_time": "2022-07-02T09:16:39.769Z"
      },
      {
        "duration": 313,
        "start_time": "2022-07-02T09:16:39.798Z"
      },
      {
        "duration": 45,
        "start_time": "2022-07-02T09:16:40.113Z"
      },
      {
        "duration": 1066,
        "start_time": "2022-07-02T09:16:40.160Z"
      },
      {
        "duration": 99,
        "start_time": "2022-07-02T09:16:41.232Z"
      },
      {
        "duration": 131,
        "start_time": "2022-07-02T09:16:41.334Z"
      },
      {
        "duration": 583,
        "start_time": "2022-07-02T09:16:41.467Z"
      },
      {
        "duration": 178,
        "start_time": "2022-07-02T09:16:42.052Z"
      },
      {
        "duration": 32,
        "start_time": "2022-07-02T09:16:42.231Z"
      },
      {
        "duration": 372,
        "start_time": "2022-07-02T09:16:42.264Z"
      },
      {
        "duration": 58,
        "start_time": "2022-07-02T09:16:42.638Z"
      },
      {
        "duration": 340,
        "start_time": "2022-07-02T09:16:42.697Z"
      },
      {
        "duration": 200,
        "start_time": "2022-07-02T09:16:43.040Z"
      },
      {
        "duration": 73839,
        "start_time": "2022-07-02T09:18:19.412Z"
      },
      {
        "duration": 144,
        "start_time": "2022-07-02T09:19:51.599Z"
      },
      {
        "duration": 23,
        "start_time": "2022-07-02T09:19:56.961Z"
      },
      {
        "duration": 2161,
        "start_time": "2022-07-02T09:20:19.173Z"
      },
      {
        "duration": 11,
        "start_time": "2022-07-02T09:20:23.310Z"
      },
      {
        "duration": 21,
        "start_time": "2022-07-02T09:20:31.778Z"
      },
      {
        "duration": 522,
        "start_time": "2022-07-02T09:20:35.087Z"
      },
      {
        "duration": 28,
        "start_time": "2022-07-02T09:20:53.344Z"
      },
      {
        "duration": 122,
        "start_time": "2022-07-02T09:21:23.082Z"
      },
      {
        "duration": 30,
        "start_time": "2022-07-02T09:21:27.541Z"
      },
      {
        "duration": 350,
        "start_time": "2022-07-02T09:21:37.884Z"
      },
      {
        "duration": 16,
        "start_time": "2022-07-02T09:21:39.686Z"
      },
      {
        "duration": 15236,
        "start_time": "2022-07-02T09:28:09.022Z"
      },
      {
        "duration": 123570,
        "start_time": "2022-07-02T09:28:48.293Z"
      },
      {
        "duration": 124479,
        "start_time": "2022-07-02T09:31:54.855Z"
      },
      {
        "duration": 20,
        "start_time": "2022-07-02T09:33:59.336Z"
      },
      {
        "duration": 284,
        "start_time": "2022-07-02T09:34:31.372Z"
      },
      {
        "duration": 52,
        "start_time": "2022-07-02T09:34:35.672Z"
      },
      {
        "duration": 20,
        "start_time": "2022-07-02T09:34:48.572Z"
      },
      {
        "duration": 505,
        "start_time": "2022-07-02T09:34:54.487Z"
      },
      {
        "duration": 160,
        "start_time": "2022-07-02T09:34:57.279Z"
      },
      {
        "duration": 31,
        "start_time": "2022-07-02T09:34:59.771Z"
      },
      {
        "duration": 125789,
        "start_time": "2022-07-02T09:35:01.896Z"
      },
      {
        "duration": 9,
        "start_time": "2022-07-02T10:26:22.349Z"
      },
      {
        "duration": 1379,
        "start_time": "2022-07-02T10:26:29.216Z"
      },
      {
        "duration": 43,
        "start_time": "2022-07-02T10:26:30.597Z"
      },
      {
        "duration": 13,
        "start_time": "2022-07-02T10:26:30.642Z"
      },
      {
        "duration": 8,
        "start_time": "2022-07-02T10:26:30.658Z"
      },
      {
        "duration": 29,
        "start_time": "2022-07-02T10:26:30.667Z"
      },
      {
        "duration": 12,
        "start_time": "2022-07-02T10:26:30.698Z"
      },
      {
        "duration": 10,
        "start_time": "2022-07-02T10:26:30.712Z"
      },
      {
        "duration": 27,
        "start_time": "2022-07-02T10:26:30.723Z"
      },
      {
        "duration": 5,
        "start_time": "2022-07-02T10:26:30.752Z"
      },
      {
        "duration": 17,
        "start_time": "2022-07-02T10:26:30.759Z"
      },
      {
        "duration": 14,
        "start_time": "2022-07-02T10:26:30.778Z"
      },
      {
        "duration": 12,
        "start_time": "2022-07-02T10:26:30.793Z"
      },
      {
        "duration": 15,
        "start_time": "2022-07-02T10:26:30.807Z"
      },
      {
        "duration": 31,
        "start_time": "2022-07-02T10:26:30.824Z"
      },
      {
        "duration": 28,
        "start_time": "2022-07-02T10:26:30.856Z"
      },
      {
        "duration": 32,
        "start_time": "2022-07-02T10:26:30.885Z"
      },
      {
        "duration": 25,
        "start_time": "2022-07-02T10:26:30.919Z"
      },
      {
        "duration": 11,
        "start_time": "2022-07-02T10:26:30.945Z"
      },
      {
        "duration": 25,
        "start_time": "2022-07-02T10:26:30.958Z"
      },
      {
        "duration": 17,
        "start_time": "2022-07-02T10:26:30.985Z"
      },
      {
        "duration": 11,
        "start_time": "2022-07-02T10:26:31.003Z"
      },
      {
        "duration": 23,
        "start_time": "2022-07-02T10:26:31.016Z"
      },
      {
        "duration": 55,
        "start_time": "2022-07-02T10:26:31.041Z"
      },
      {
        "duration": 22,
        "start_time": "2022-07-02T10:26:31.098Z"
      },
      {
        "duration": 27,
        "start_time": "2022-07-02T10:26:31.122Z"
      },
      {
        "duration": 531,
        "start_time": "2022-07-02T10:26:31.151Z"
      },
      {
        "duration": 196,
        "start_time": "2022-07-02T10:26:31.684Z"
      },
      {
        "duration": 27,
        "start_time": "2022-07-02T10:26:31.884Z"
      },
      {
        "duration": 132375,
        "start_time": "2022-07-02T10:26:31.912Z"
      },
      {
        "duration": 82315,
        "start_time": "2022-07-02T10:28:44.290Z"
      },
      {
        "duration": 163,
        "start_time": "2022-07-02T10:30:06.607Z"
      },
      {
        "duration": 23,
        "start_time": "2022-07-02T10:30:06.772Z"
      },
      {
        "duration": 870,
        "start_time": "2022-07-02T10:30:06.797Z"
      },
      {
        "duration": 114,
        "start_time": "2022-07-02T10:30:07.753Z"
      },
      {
        "duration": 112,
        "start_time": "2022-07-02T10:30:07.930Z"
      },
      {
        "duration": 622,
        "start_time": "2022-07-02T10:30:08.045Z"
      },
      {
        "duration": 205,
        "start_time": "2022-07-02T10:30:08.669Z"
      },
      {
        "duration": 31,
        "start_time": "2022-07-02T10:30:08.877Z"
      },
      {
        "duration": 146797,
        "start_time": "2022-07-02T10:30:08.909Z"
      },
      {
        "duration": 313,
        "start_time": "2022-07-02T10:32:35.708Z"
      },
      {
        "duration": 56,
        "start_time": "2022-07-02T10:32:36.026Z"
      },
      {
        "duration": 1254,
        "start_time": "2022-07-02T10:32:36.084Z"
      },
      {
        "duration": 200,
        "start_time": "2022-07-02T10:32:37.350Z"
      },
      {
        "duration": 3,
        "start_time": "2022-07-02T10:33:26.372Z"
      },
      {
        "duration": 13,
        "start_time": "2022-07-02T10:43:45.060Z"
      },
      {
        "duration": 1415,
        "start_time": "2022-07-02T10:43:56.735Z"
      },
      {
        "duration": 29,
        "start_time": "2022-07-02T10:43:58.152Z"
      },
      {
        "duration": 18,
        "start_time": "2022-07-02T10:43:58.182Z"
      },
      {
        "duration": 4,
        "start_time": "2022-07-02T10:43:58.201Z"
      },
      {
        "duration": 35,
        "start_time": "2022-07-02T10:43:58.207Z"
      },
      {
        "duration": 7,
        "start_time": "2022-07-02T10:43:58.248Z"
      },
      {
        "duration": 9,
        "start_time": "2022-07-02T10:43:58.257Z"
      },
      {
        "duration": 14,
        "start_time": "2022-07-02T10:43:58.268Z"
      },
      {
        "duration": 10,
        "start_time": "2022-07-02T10:43:58.283Z"
      },
      {
        "duration": 37,
        "start_time": "2022-07-02T10:43:58.295Z"
      },
      {
        "duration": 18,
        "start_time": "2022-07-02T10:43:58.334Z"
      },
      {
        "duration": 13,
        "start_time": "2022-07-02T10:43:58.354Z"
      },
      {
        "duration": 7,
        "start_time": "2022-07-02T10:43:58.369Z"
      },
      {
        "duration": 8,
        "start_time": "2022-07-02T10:43:58.379Z"
      },
      {
        "duration": 52,
        "start_time": "2022-07-02T10:43:58.389Z"
      },
      {
        "duration": 12,
        "start_time": "2022-07-02T10:43:58.443Z"
      },
      {
        "duration": 15,
        "start_time": "2022-07-02T10:43:58.457Z"
      },
      {
        "duration": 5,
        "start_time": "2022-07-02T10:43:58.474Z"
      },
      {
        "duration": 8,
        "start_time": "2022-07-02T10:43:58.481Z"
      },
      {
        "duration": 14,
        "start_time": "2022-07-02T10:43:58.491Z"
      },
      {
        "duration": 5,
        "start_time": "2022-07-02T10:43:58.506Z"
      },
      {
        "duration": 30,
        "start_time": "2022-07-02T10:43:58.512Z"
      },
      {
        "duration": 7,
        "start_time": "2022-07-02T10:43:58.546Z"
      },
      {
        "duration": 8,
        "start_time": "2022-07-02T10:43:58.555Z"
      },
      {
        "duration": 8,
        "start_time": "2022-07-02T10:43:58.565Z"
      },
      {
        "duration": 537,
        "start_time": "2022-07-02T10:43:58.575Z"
      },
      {
        "duration": 199,
        "start_time": "2022-07-02T10:43:59.113Z"
      },
      {
        "duration": 36,
        "start_time": "2022-07-02T10:43:59.314Z"
      },
      {
        "duration": 1394,
        "start_time": "2022-07-02T10:45:17.540Z"
      },
      {
        "duration": 32,
        "start_time": "2022-07-02T10:45:18.940Z"
      },
      {
        "duration": 13,
        "start_time": "2022-07-02T10:45:18.974Z"
      },
      {
        "duration": 9,
        "start_time": "2022-07-02T10:45:18.989Z"
      },
      {
        "duration": 22,
        "start_time": "2022-07-02T10:45:19.001Z"
      },
      {
        "duration": 26,
        "start_time": "2022-07-02T10:45:19.026Z"
      },
      {
        "duration": 12,
        "start_time": "2022-07-02T10:45:19.053Z"
      },
      {
        "duration": 15,
        "start_time": "2022-07-02T10:45:19.067Z"
      },
      {
        "duration": 6,
        "start_time": "2022-07-02T10:45:19.084Z"
      },
      {
        "duration": 10,
        "start_time": "2022-07-02T10:45:19.092Z"
      },
      {
        "duration": 27,
        "start_time": "2022-07-02T10:45:19.104Z"
      },
      {
        "duration": 14,
        "start_time": "2022-07-02T10:45:19.134Z"
      },
      {
        "duration": 5,
        "start_time": "2022-07-02T10:45:19.149Z"
      },
      {
        "duration": 10,
        "start_time": "2022-07-02T10:45:19.158Z"
      },
      {
        "duration": 27,
        "start_time": "2022-07-02T10:45:19.170Z"
      },
      {
        "duration": 28,
        "start_time": "2022-07-02T10:45:19.198Z"
      },
      {
        "duration": 19,
        "start_time": "2022-07-02T10:45:19.232Z"
      },
      {
        "duration": 3,
        "start_time": "2022-07-02T10:45:19.253Z"
      },
      {
        "duration": 12,
        "start_time": "2022-07-02T10:45:19.258Z"
      },
      {
        "duration": 11,
        "start_time": "2022-07-02T10:45:19.272Z"
      },
      {
        "duration": 4,
        "start_time": "2022-07-02T10:45:19.285Z"
      },
      {
        "duration": 11,
        "start_time": "2022-07-02T10:45:19.290Z"
      },
      {
        "duration": 11,
        "start_time": "2022-07-02T10:45:19.302Z"
      },
      {
        "duration": 15,
        "start_time": "2022-07-02T10:45:19.315Z"
      },
      {
        "duration": 16,
        "start_time": "2022-07-02T10:45:19.333Z"
      },
      {
        "duration": 560,
        "start_time": "2022-07-02T10:45:19.350Z"
      },
      {
        "duration": 222,
        "start_time": "2022-07-02T10:45:19.911Z"
      },
      {
        "duration": 28,
        "start_time": "2022-07-02T10:45:20.142Z"
      },
      {
        "duration": 130505,
        "start_time": "2022-07-02T10:45:20.172Z"
      },
      {
        "duration": 77580,
        "start_time": "2022-07-02T10:47:30.678Z"
      },
      {
        "duration": 129,
        "start_time": "2022-07-02T10:48:48.260Z"
      },
      {
        "duration": 16,
        "start_time": "2022-07-02T10:48:48.392Z"
      },
      {
        "duration": 1339,
        "start_time": "2022-07-02T10:48:48.410Z"
      },
      {
        "duration": 187,
        "start_time": "2022-07-02T10:48:49.751Z"
      },
      {
        "duration": 126,
        "start_time": "2022-07-02T10:48:49.940Z"
      },
      {
        "duration": 513,
        "start_time": "2022-07-02T10:48:50.068Z"
      },
      {
        "duration": 189,
        "start_time": "2022-07-02T10:48:50.583Z"
      },
      {
        "duration": 29,
        "start_time": "2022-07-02T10:48:50.773Z"
      },
      {
        "duration": 130313,
        "start_time": "2022-07-02T10:48:50.804Z"
      },
      {
        "duration": 283,
        "start_time": "2022-07-02T10:51:01.119Z"
      },
      {
        "duration": 63,
        "start_time": "2022-07-02T10:51:01.406Z"
      },
      {
        "duration": 961,
        "start_time": "2022-07-02T10:51:01.471Z"
      },
      {
        "duration": 103,
        "start_time": "2022-07-02T10:51:02.434Z"
      },
      {
        "duration": 6,
        "start_time": "2022-07-02T10:58:23.431Z"
      },
      {
        "duration": 255,
        "start_time": "2022-07-02T11:04:24.302Z"
      },
      {
        "duration": 98,
        "start_time": "2022-07-02T11:04:45.083Z"
      },
      {
        "duration": 136298,
        "start_time": "2022-07-02T11:10:01.559Z"
      },
      {
        "duration": 191,
        "start_time": "2022-07-02T11:12:33.759Z"
      },
      {
        "duration": 137726,
        "start_time": "2022-07-02T11:14:42.070Z"
      },
      {
        "duration": 797,
        "start_time": "2022-07-02T11:18:56.445Z"
      },
      {
        "duration": 21,
        "start_time": "2022-07-02T11:33:56.844Z"
      },
      {
        "duration": 1399,
        "start_time": "2022-07-02T11:34:16.196Z"
      },
      {
        "duration": 34,
        "start_time": "2022-07-02T11:34:17.597Z"
      },
      {
        "duration": 16,
        "start_time": "2022-07-02T11:34:17.636Z"
      },
      {
        "duration": 6,
        "start_time": "2022-07-02T11:34:17.654Z"
      },
      {
        "duration": 21,
        "start_time": "2022-07-02T11:34:17.662Z"
      },
      {
        "duration": 7,
        "start_time": "2022-07-02T11:34:17.684Z"
      },
      {
        "duration": 12,
        "start_time": "2022-07-02T11:34:17.693Z"
      },
      {
        "duration": 20,
        "start_time": "2022-07-02T11:34:17.728Z"
      },
      {
        "duration": 11,
        "start_time": "2022-07-02T11:34:17.750Z"
      },
      {
        "duration": 16,
        "start_time": "2022-07-02T11:34:17.763Z"
      },
      {
        "duration": 13,
        "start_time": "2022-07-02T11:34:17.781Z"
      },
      {
        "duration": 9,
        "start_time": "2022-07-02T11:34:17.796Z"
      },
      {
        "duration": 9,
        "start_time": "2022-07-02T11:34:17.832Z"
      },
      {
        "duration": 11,
        "start_time": "2022-07-02T11:34:17.844Z"
      },
      {
        "duration": 25,
        "start_time": "2022-07-02T11:34:17.857Z"
      },
      {
        "duration": 7,
        "start_time": "2022-07-02T11:34:17.884Z"
      },
      {
        "duration": 11,
        "start_time": "2022-07-02T11:34:17.893Z"
      },
      {
        "duration": 5,
        "start_time": "2022-07-02T11:34:17.906Z"
      },
      {
        "duration": 35,
        "start_time": "2022-07-02T11:34:17.912Z"
      },
      {
        "duration": 10,
        "start_time": "2022-07-02T11:34:17.949Z"
      },
      {
        "duration": 5,
        "start_time": "2022-07-02T11:34:17.961Z"
      },
      {
        "duration": 7,
        "start_time": "2022-07-02T11:34:17.968Z"
      },
      {
        "duration": 8,
        "start_time": "2022-07-02T11:34:17.977Z"
      },
      {
        "duration": 8,
        "start_time": "2022-07-02T11:34:17.986Z"
      },
      {
        "duration": 11,
        "start_time": "2022-07-02T11:34:17.995Z"
      },
      {
        "duration": 60,
        "start_time": "2022-07-02T11:34:18.008Z"
      },
      {
        "duration": 527,
        "start_time": "2022-07-02T11:34:18.073Z"
      },
      {
        "duration": 200,
        "start_time": "2022-07-02T11:34:18.602Z"
      },
      {
        "duration": 131580,
        "start_time": "2022-07-02T11:34:18.804Z"
      },
      {
        "duration": 209,
        "start_time": "2022-07-02T11:36:30.385Z"
      },
      {
        "duration": 1239,
        "start_time": "2022-07-02T11:36:30.596Z"
      },
      {
        "duration": 644,
        "start_time": "2022-07-02T11:36:31.837Z"
      },
      {
        "duration": 191,
        "start_time": "2022-07-02T11:36:32.483Z"
      },
      {
        "duration": 28,
        "start_time": "2022-07-02T11:36:32.675Z"
      },
      {
        "duration": 130308,
        "start_time": "2022-07-02T11:36:32.705Z"
      },
      {
        "duration": 281,
        "start_time": "2022-07-02T11:38:43.014Z"
      },
      {
        "duration": 846,
        "start_time": "2022-07-02T11:38:43.297Z"
      },
      {
        "duration": 182,
        "start_time": "2022-07-02T11:38:44.148Z"
      },
      {
        "duration": 91,
        "start_time": "2022-07-02T11:38:44.339Z"
      },
      {
        "duration": 142,
        "start_time": "2022-07-02T11:38:44.435Z"
      },
      {
        "duration": 234,
        "start_time": "2022-07-02T11:39:13.262Z"
      },
      {
        "duration": 251,
        "start_time": "2022-07-02T11:39:37.817Z"
      },
      {
        "duration": 334,
        "start_time": "2022-07-02T11:39:52.897Z"
      },
      {
        "duration": 28,
        "start_time": "2022-07-02T11:40:20.613Z"
      },
      {
        "duration": 27,
        "start_time": "2022-07-02T11:40:45.371Z"
      },
      {
        "duration": 247,
        "start_time": "2022-07-02T11:42:00.657Z"
      },
      {
        "duration": 252,
        "start_time": "2022-07-02T11:42:46.630Z"
      },
      {
        "duration": 281,
        "start_time": "2022-07-02T11:44:00.977Z"
      },
      {
        "duration": 190,
        "start_time": "2022-07-02T11:53:16.381Z"
      },
      {
        "duration": 983,
        "start_time": "2022-07-02T11:53:50.550Z"
      },
      {
        "duration": 33,
        "start_time": "2022-07-02T11:54:37.571Z"
      },
      {
        "duration": 29,
        "start_time": "2022-07-02T11:55:05.494Z"
      },
      {
        "duration": 236,
        "start_time": "2022-07-02T11:55:43.275Z"
      },
      {
        "duration": 374,
        "start_time": "2022-07-02T11:56:25.063Z"
      },
      {
        "duration": 6,
        "start_time": "2022-07-02T11:59:11.430Z"
      },
      {
        "duration": 2,
        "start_time": "2022-07-02T12:03:01.626Z"
      },
      {
        "duration": 230,
        "start_time": "2022-07-02T12:04:03.014Z"
      },
      {
        "duration": 238,
        "start_time": "2022-07-02T12:04:09.803Z"
      },
      {
        "duration": 59,
        "start_time": "2022-07-02T14:35:02.046Z"
      },
      {
        "duration": 1750,
        "start_time": "2022-07-02T14:35:39.851Z"
      },
      {
        "duration": 155,
        "start_time": "2022-07-02T14:35:41.605Z"
      },
      {
        "duration": 15,
        "start_time": "2022-07-02T14:35:41.762Z"
      },
      {
        "duration": 4,
        "start_time": "2022-07-02T14:35:41.778Z"
      },
      {
        "duration": 19,
        "start_time": "2022-07-02T14:35:41.784Z"
      },
      {
        "duration": 7,
        "start_time": "2022-07-02T14:35:41.804Z"
      },
      {
        "duration": 13,
        "start_time": "2022-07-02T14:35:41.813Z"
      },
      {
        "duration": 27,
        "start_time": "2022-07-02T14:35:41.828Z"
      },
      {
        "duration": 5,
        "start_time": "2022-07-02T14:35:41.858Z"
      },
      {
        "duration": 13,
        "start_time": "2022-07-02T14:35:41.865Z"
      },
      {
        "duration": 15,
        "start_time": "2022-07-02T14:35:41.880Z"
      },
      {
        "duration": 11,
        "start_time": "2022-07-02T14:35:41.897Z"
      },
      {
        "duration": 36,
        "start_time": "2022-07-02T14:35:41.910Z"
      },
      {
        "duration": 11,
        "start_time": "2022-07-02T14:35:41.947Z"
      },
      {
        "duration": 25,
        "start_time": "2022-07-02T14:35:41.960Z"
      },
      {
        "duration": 9,
        "start_time": "2022-07-02T14:35:41.987Z"
      },
      {
        "duration": 14,
        "start_time": "2022-07-02T14:35:41.998Z"
      },
      {
        "duration": 3,
        "start_time": "2022-07-02T14:35:42.014Z"
      },
      {
        "duration": 5,
        "start_time": "2022-07-02T14:35:42.041Z"
      },
      {
        "duration": 12,
        "start_time": "2022-07-02T14:35:42.048Z"
      },
      {
        "duration": 6,
        "start_time": "2022-07-02T14:35:42.061Z"
      },
      {
        "duration": 10,
        "start_time": "2022-07-02T14:35:42.069Z"
      },
      {
        "duration": 6,
        "start_time": "2022-07-02T14:35:42.081Z"
      },
      {
        "duration": 7,
        "start_time": "2022-07-02T14:35:42.089Z"
      },
      {
        "duration": 8,
        "start_time": "2022-07-02T14:35:42.098Z"
      },
      {
        "duration": 54,
        "start_time": "2022-07-02T14:35:42.108Z"
      },
      {
        "duration": 545,
        "start_time": "2022-07-02T14:35:42.165Z"
      },
      {
        "duration": 198,
        "start_time": "2022-07-02T14:35:42.712Z"
      },
      {
        "duration": 133316,
        "start_time": "2022-07-02T14:35:42.912Z"
      },
      {
        "duration": 215,
        "start_time": "2022-07-02T14:37:56.231Z"
      },
      {
        "duration": 701,
        "start_time": "2022-07-02T14:37:56.448Z"
      },
      {
        "duration": 741,
        "start_time": "2022-07-02T14:37:57.151Z"
      },
      {
        "duration": 205,
        "start_time": "2022-07-02T14:37:57.893Z"
      },
      {
        "duration": 29,
        "start_time": "2022-07-02T14:37:58.100Z"
      },
      {
        "duration": 134507,
        "start_time": "2022-07-02T14:37:58.130Z"
      },
      {
        "duration": 270,
        "start_time": "2022-07-02T14:40:12.639Z"
      },
      {
        "duration": 633,
        "start_time": "2022-07-02T14:40:12.910Z"
      },
      {
        "duration": 96,
        "start_time": "2022-07-02T14:40:13.546Z"
      },
      {
        "duration": 156,
        "start_time": "2022-07-02T14:40:13.644Z"
      },
      {
        "duration": 0,
        "start_time": "2022-07-02T14:40:13.801Z"
      },
      {
        "duration": 4,
        "start_time": "2022-07-02T14:41:10.900Z"
      },
      {
        "duration": 15,
        "start_time": "2022-07-02T14:41:20.283Z"
      },
      {
        "duration": 5,
        "start_time": "2022-07-02T14:41:22.730Z"
      },
      {
        "duration": 4,
        "start_time": "2022-07-02T14:41:24.829Z"
      },
      {
        "duration": 10,
        "start_time": "2022-07-02T14:41:26.702Z"
      },
      {
        "duration": 15,
        "start_time": "2022-07-02T14:42:19.655Z"
      },
      {
        "duration": 4,
        "start_time": "2022-07-02T14:42:21.115Z"
      },
      {
        "duration": 4,
        "start_time": "2022-07-02T14:42:22.131Z"
      },
      {
        "duration": 7,
        "start_time": "2022-07-02T14:42:22.633Z"
      },
      {
        "duration": 1544,
        "start_time": "2022-07-02T14:42:48.810Z"
      },
      {
        "duration": 48,
        "start_time": "2022-07-02T14:42:50.357Z"
      },
      {
        "duration": 17,
        "start_time": "2022-07-02T14:42:50.408Z"
      },
      {
        "duration": 3,
        "start_time": "2022-07-02T14:42:50.428Z"
      },
      {
        "duration": 28,
        "start_time": "2022-07-02T14:42:50.433Z"
      },
      {
        "duration": 7,
        "start_time": "2022-07-02T14:42:50.463Z"
      },
      {
        "duration": 16,
        "start_time": "2022-07-02T14:42:50.472Z"
      },
      {
        "duration": 20,
        "start_time": "2022-07-02T14:42:50.490Z"
      },
      {
        "duration": 33,
        "start_time": "2022-07-02T14:42:50.513Z"
      },
      {
        "duration": 12,
        "start_time": "2022-07-02T14:42:50.549Z"
      },
      {
        "duration": 18,
        "start_time": "2022-07-02T14:42:50.563Z"
      },
      {
        "duration": 19,
        "start_time": "2022-07-02T14:42:50.583Z"
      },
      {
        "duration": 9,
        "start_time": "2022-07-02T14:42:50.609Z"
      },
      {
        "duration": 8,
        "start_time": "2022-07-02T14:42:50.643Z"
      },
      {
        "duration": 27,
        "start_time": "2022-07-02T14:42:50.653Z"
      },
      {
        "duration": 8,
        "start_time": "2022-07-02T14:42:50.682Z"
      },
      {
        "duration": 15,
        "start_time": "2022-07-02T14:42:50.692Z"
      },
      {
        "duration": 5,
        "start_time": "2022-07-02T14:42:50.709Z"
      },
      {
        "duration": 11,
        "start_time": "2022-07-02T14:42:50.742Z"
      },
      {
        "duration": 17,
        "start_time": "2022-07-02T14:42:50.755Z"
      },
      {
        "duration": 14,
        "start_time": "2022-07-02T14:42:50.774Z"
      },
      {
        "duration": 7,
        "start_time": "2022-07-02T14:42:50.790Z"
      },
      {
        "duration": 9,
        "start_time": "2022-07-02T14:42:50.799Z"
      },
      {
        "duration": 11,
        "start_time": "2022-07-02T14:42:50.810Z"
      },
      {
        "duration": 6,
        "start_time": "2022-07-02T14:42:50.822Z"
      },
      {
        "duration": 34,
        "start_time": "2022-07-02T14:42:50.841Z"
      },
      {
        "duration": 563,
        "start_time": "2022-07-02T14:42:50.877Z"
      },
      {
        "duration": 212,
        "start_time": "2022-07-02T14:42:51.443Z"
      },
      {
        "duration": 18218,
        "start_time": "2022-07-02T14:42:51.658Z"
      },
      {
        "duration": 206,
        "start_time": "2022-07-02T14:43:09.878Z"
      },
      {
        "duration": 669,
        "start_time": "2022-07-02T14:43:10.086Z"
      },
      {
        "duration": 727,
        "start_time": "2022-07-02T14:43:10.758Z"
      },
      {
        "duration": 244,
        "start_time": "2022-07-02T14:43:11.488Z"
      },
      {
        "duration": 41,
        "start_time": "2022-07-02T14:43:11.734Z"
      },
      {
        "duration": 138723,
        "start_time": "2022-07-02T14:43:11.777Z"
      },
      {
        "duration": 261,
        "start_time": "2022-07-02T14:45:30.502Z"
      },
      {
        "duration": 377,
        "start_time": "2022-07-02T14:45:30.765Z"
      },
      {
        "duration": 8,
        "start_time": "2022-07-02T14:45:31.144Z"
      },
      {
        "duration": 98,
        "start_time": "2022-07-02T14:45:31.154Z"
      },
      {
        "duration": 4,
        "start_time": "2022-07-02T14:45:31.254Z"
      },
      {
        "duration": 9,
        "start_time": "2022-07-02T14:45:31.260Z"
      },
      {
        "duration": 10,
        "start_time": "2022-07-02T14:45:31.271Z"
      },
      {
        "duration": 271,
        "start_time": "2022-07-02T14:45:31.284Z"
      },
      {
        "duration": 135741,
        "start_time": "2022-07-02T14:45:31.561Z"
      },
      {
        "duration": 7,
        "start_time": "2022-07-02T14:48:13.190Z"
      },
      {
        "duration": 16,
        "start_time": "2022-07-02T14:48:14.664Z"
      },
      {
        "duration": 5,
        "start_time": "2022-07-02T14:48:16.476Z"
      },
      {
        "duration": 6,
        "start_time": "2022-07-02T14:48:17.413Z"
      },
      {
        "duration": 8,
        "start_time": "2022-07-02T14:48:19.221Z"
      },
      {
        "duration": 7,
        "start_time": "2022-07-02T14:49:04.604Z"
      },
      {
        "duration": 15,
        "start_time": "2022-07-02T14:49:16.248Z"
      },
      {
        "duration": 6,
        "start_time": "2022-07-02T14:49:56.270Z"
      },
      {
        "duration": 16,
        "start_time": "2022-07-02T14:49:58.112Z"
      },
      {
        "duration": 5,
        "start_time": "2022-07-02T14:49:58.612Z"
      },
      {
        "duration": 4,
        "start_time": "2022-07-02T14:49:59.394Z"
      },
      {
        "duration": 7,
        "start_time": "2022-07-02T14:49:59.924Z"
      },
      {
        "duration": 6,
        "start_time": "2022-07-02T14:50:58.482Z"
      },
      {
        "duration": 13,
        "start_time": "2022-07-02T14:50:59.591Z"
      },
      {
        "duration": 4,
        "start_time": "2022-07-02T14:51:00.157Z"
      },
      {
        "duration": 3,
        "start_time": "2022-07-02T14:51:00.775Z"
      },
      {
        "duration": 5,
        "start_time": "2022-07-02T14:51:03.063Z"
      },
      {
        "duration": 6,
        "start_time": "2022-07-02T14:51:20.199Z"
      },
      {
        "duration": 12,
        "start_time": "2022-07-02T14:51:22.029Z"
      },
      {
        "duration": 5,
        "start_time": "2022-07-02T14:51:22.908Z"
      },
      {
        "duration": 4,
        "start_time": "2022-07-02T14:51:23.580Z"
      },
      {
        "duration": 5,
        "start_time": "2022-07-02T14:51:24.058Z"
      },
      {
        "duration": 3,
        "start_time": "2022-07-02T14:54:25.629Z"
      },
      {
        "duration": 86,
        "start_time": "2022-07-02T14:56:49.112Z"
      },
      {
        "duration": 130,
        "start_time": "2022-07-02T14:57:50.589Z"
      },
      {
        "duration": 94,
        "start_time": "2022-07-02T14:58:27.928Z"
      },
      {
        "duration": 630,
        "start_time": "2022-07-02T14:59:03.639Z"
      },
      {
        "duration": 185386,
        "start_time": "2022-07-02T15:00:03.050Z"
      },
      {
        "duration": 466,
        "start_time": "2022-07-02T15:05:02.581Z"
      },
      {
        "duration": 289,
        "start_time": "2022-07-02T15:05:53.720Z"
      },
      {
        "duration": 281,
        "start_time": "2022-07-02T15:06:05.857Z"
      },
      {
        "duration": 343,
        "start_time": "2022-07-02T15:06:39.701Z"
      },
      {
        "duration": 254,
        "start_time": "2022-07-02T15:06:56.310Z"
      },
      {
        "duration": 276,
        "start_time": "2022-07-02T15:07:19.706Z"
      },
      {
        "duration": 570,
        "start_time": "2022-07-02T15:50:12.278Z"
      }
    ],
    "kernelspec": {
      "name": "python",
      "display_name": "Python (Pyodide)",
      "language": "python"
    },
    "language_info": {
      "codemirror_mode": {
        "name": "python",
        "version": 3
      },
      "file_extension": ".py",
      "mimetype": "text/x-python",
      "name": "python",
      "nbconvert_exporter": "python",
      "pygments_lexer": "ipython3",
      "version": "3.8"
    },
    "toc": {
      "base_numbering": 1,
      "nav_menu": {},
      "number_sections": true,
      "sideBar": true,
      "skip_h1_title": true,
      "title_cell": "Содержание",
      "title_sidebar": "Contents",
      "toc_cell": true,
      "toc_position": {
        "height": "calc(100% - 180px)",
        "left": "10px",
        "top": "150px",
        "width": "165px"
      },
      "toc_section_display": true,
      "toc_window_display": true
    }
  },
  "nbformat_minor": 4,
  "nbformat": 4,
  "cells": [
    {
      "cell_type": "markdown",
      "source": "<h1>Содержание<span class=\"tocSkip\"></span></h1>\n<div class=\"toc\"><ul class=\"toc-item\"><li><span><a href=\"#Подготовка-данных\" data-toc-modified-id=\"Подготовка-данных-1\"><span class=\"toc-item-num\">1&nbsp;&nbsp;</span>Подготовка данных</a></span><ul class=\"toc-item\"><li><span><a href=\"#Чтение-и-просмотр-данных\" data-toc-modified-id=\"Чтение-и-просмотр-данных-1.1\"><span class=\"toc-item-num\">1.1&nbsp;&nbsp;</span>Чтение и просмотр данных</a></span></li><li><span><a href=\"#Обработка-пропусков\" data-toc-modified-id=\"Обработка-пропусков-1.2\"><span class=\"toc-item-num\">1.2&nbsp;&nbsp;</span>Обработка пропусков</a></span></li><li><span><a href=\"#Кодирование-категориальных-значений\" data-toc-modified-id=\"Кодирование-категориальных-значений-1.3\"><span class=\"toc-item-num\">1.3&nbsp;&nbsp;</span>Кодирование категориальных значений</a></span></li><li><span><a href=\"#Вывод.\" data-toc-modified-id=\"Вывод.-1.4\"><span class=\"toc-item-num\">1.4&nbsp;&nbsp;</span>Вывод.</a></span></li></ul></li><li><span><a href=\"#Исследование-задачи\" data-toc-modified-id=\"Исследование-задачи-2\"><span class=\"toc-item-num\">2&nbsp;&nbsp;</span>Исследование задачи</a></span><ul class=\"toc-item\"><li><span><a href=\"#Смотрим-на-баланс-классов\" data-toc-modified-id=\"Смотрим-на-баланс-классов-2.1\"><span class=\"toc-item-num\">2.1&nbsp;&nbsp;</span>Смотрим на баланс классов</a></span></li><li><span><a href=\"#Делим-данные-на-обучающую,-валидационную-и-тестовую-выборки\" data-toc-modified-id=\"Делим-данные-на-обучающую,-валидационную-и-тестовую-выборки-2.2\"><span class=\"toc-item-num\">2.2&nbsp;&nbsp;</span>Делим данные на обучающую, валидационную и тестовую выборки</a></span></li><li><span><a href=\"#Выделяем-признаки-для-обучения-моделей\" data-toc-modified-id=\"Выделяем-признаки-для-обучения-моделей-2.3\"><span class=\"toc-item-num\">2.3&nbsp;&nbsp;</span>Выделяем признаки для обучения моделей</a></span></li><li><span><a href=\"#Масштабируем-признаки\" data-toc-modified-id=\"Масштабируем-признаки-2.4\"><span class=\"toc-item-num\">2.4&nbsp;&nbsp;</span>Масштабируем признаки</a></span></li><li><span><a href=\"#Модель-&quot;Дерево-решений&quot;\" data-toc-modified-id=\"Модель-&quot;Дерево-решений&quot;-2.5\"><span class=\"toc-item-num\">2.5&nbsp;&nbsp;</span>Модель \"Дерево решений\"</a></span></li><li><span><a href=\"#Модель-&quot;Случайный-лес&quot;\" data-toc-modified-id=\"Модель-&quot;Случайный-лес&quot;-2.6\"><span class=\"toc-item-num\">2.6&nbsp;&nbsp;</span>Модель \"Случайный лес\"</a></span></li><li><span><a href=\"#Модель-&quot;Логистическая-регрессия&quot;\" data-toc-modified-id=\"Модель-&quot;Логистическая-регрессия&quot;-2.7\"><span class=\"toc-item-num\">2.7&nbsp;&nbsp;</span>Модель \"Логистическая регрессия\"</a></span></li><li><span><a href=\"#Вывод.\" data-toc-modified-id=\"Вывод.-2.8\"><span class=\"toc-item-num\">2.8&nbsp;&nbsp;</span>Вывод.</a></span></li></ul></li><li><span><a href=\"#Борьба-с-дисбалансом\" data-toc-modified-id=\"Борьба-с-дисбалансом-3\"><span class=\"toc-item-num\">3&nbsp;&nbsp;</span>Борьба с дисбалансом</a></span><ul class=\"toc-item\"><li><span><a href=\"#Применение-гиперпараметра-class_weight\" data-toc-modified-id=\"Применение-гиперпараметра-class_weight-3.1\"><span class=\"toc-item-num\">3.1&nbsp;&nbsp;</span>Применение гиперпараметра class_weight</a></span><ul class=\"toc-item\"><li><span><a href=\"#Модель-&quot;Дерево-решений&quot;\" data-toc-modified-id=\"Модель-&quot;Дерево-решений&quot;-3.1.1\"><span class=\"toc-item-num\">3.1.1&nbsp;&nbsp;</span>Модель \"Дерево решений\"</a></span></li><li><span><a href=\"#Модель-&quot;Случайный-лес&quot;\" data-toc-modified-id=\"Модель-&quot;Случайный-лес&quot;-3.1.2\"><span class=\"toc-item-num\">3.1.2&nbsp;&nbsp;</span>Модель \"Случайный лес\"</a></span></li><li><span><a href=\"#Модель-&quot;Логистическая-регрессия&quot;\" data-toc-modified-id=\"Модель-&quot;Логистическая-регрессия&quot;-3.1.3\"><span class=\"toc-item-num\">3.1.3&nbsp;&nbsp;</span>Модель \"Логистическая регрессия\"</a></span></li><li><span><a href=\"#Вывод.\" data-toc-modified-id=\"Вывод.-3.1.4\"><span class=\"toc-item-num\">3.1.4&nbsp;&nbsp;</span>Вывод.</a></span></li></ul></li><li><span><a href=\"#Увеличение-выборки\" data-toc-modified-id=\"Увеличение-выборки-3.2\"><span class=\"toc-item-num\">3.2&nbsp;&nbsp;</span>Увеличение выборки</a></span><ul class=\"toc-item\"><li><span><a href=\"#Модель-&quot;Дерево-решений&quot;\" data-toc-modified-id=\"Модель-&quot;Дерево-решений&quot;-3.2.1\"><span class=\"toc-item-num\">3.2.1&nbsp;&nbsp;</span>Модель \"Дерево решений\"</a></span></li><li><span><a href=\"#Модель-&quot;Случайный-лес&quot;\" data-toc-modified-id=\"Модель-&quot;Случайный-лес&quot;-3.2.2\"><span class=\"toc-item-num\">3.2.2&nbsp;&nbsp;</span>Модель \"Случайный лес\"</a></span></li><li><span><a href=\"#Модель-&quot;Логистическая-регрессия&quot;\" data-toc-modified-id=\"Модель-&quot;Логистическая-регрессия&quot;-3.2.3\"><span class=\"toc-item-num\">3.2.3&nbsp;&nbsp;</span>Модель \"Логистическая регрессия\"</a></span></li><li><span><a href=\"#Вывод\" data-toc-modified-id=\"Вывод-3.2.4\"><span class=\"toc-item-num\">3.2.4&nbsp;&nbsp;</span>Вывод</a></span></li></ul></li><li><span><a href=\"#Вывод.\" data-toc-modified-id=\"Вывод.-3.3\"><span class=\"toc-item-num\">3.3&nbsp;&nbsp;</span>Вывод.</a></span></li></ul></li><li><span><a href=\"#Тестирование-модели\" data-toc-modified-id=\"Тестирование-модели-4\"><span class=\"toc-item-num\">4&nbsp;&nbsp;</span>Тестирование модели</a></span></li><li><span><a href=\"#Вывод\" data-toc-modified-id=\"Вывод-5\"><span class=\"toc-item-num\">5&nbsp;&nbsp;</span>Вывод</a></span></li><li><span><a href=\"#Чек-лист-готовности-проекта\" data-toc-modified-id=\"Чек-лист-готовности-проекта-6\"><span class=\"toc-item-num\">6&nbsp;&nbsp;</span>Чек-лист готовности проекта</a></span></li></ul></div>",
      "metadata": {
        "toc": true
      }
    },
    {
      "cell_type": "markdown",
      "source": "# Отток клиентов",
      "metadata": {}
    },
    {
      "cell_type": "markdown",
      "source": "Из «Бета-Банка» стали уходить клиенты. Каждый месяц. Немного, но заметно. Банковские маркетологи посчитали: сохранять текущих клиентов дешевле, чем привлекать новых.\n\nНужно спрогнозировать, уйдёт клиент из банка в ближайшее время или нет. Вам предоставлены исторические данные о поведении клиентов и расторжении договоров с банком. \n\nПостройте модель с предельно большим значением *F1*-меры. Чтобы сдать проект успешно, нужно довести метрику до 0.59. Проверьте *F1*-меру на тестовой выборке самостоятельно.\n\nДополнительно измеряйте *AUC-ROC*, сравнивайте её значение с *F1*-мерой.",
      "metadata": {}
    },
    {
      "cell_type": "markdown",
      "source": "## Подготовка данных",
      "metadata": {}
    },
    {
      "cell_type": "markdown",
      "source": "### Чтение и просмотр данных",
      "metadata": {}
    },
    {
      "cell_type": "code",
      "source": "import pandas as pd\nfrom sklearn.ensemble import RandomForestClassifier\nfrom sklearn.model_selection import train_test_split\nfrom sklearn.tree import DecisionTreeClassifier\nfrom sklearn.linear_model import LogisticRegression\nfrom sklearn.metrics import f1_score\nfrom sklearn.metrics import roc_auc_score\nimport matplotlib.pyplot as plt\nfrom sklearn.model_selection import GridSearchCV\nfrom sklearn.preprocessing import StandardScaler\nfrom sklearn.utils import shuffle\n# импортируем необходимые библиотеки",
      "metadata": {},
      "execution_count": 1,
      "outputs": []
    },
    {
      "cell_type": "code",
      "source": "data = pd.read_csv('/datasets/Churn.csv')\n# читаем датасет",
      "metadata": {},
      "execution_count": 2,
      "outputs": []
    },
    {
      "cell_type": "code",
      "source": "data.info()\n# смотрим общую информацию о датасете",
      "metadata": {},
      "execution_count": 3,
      "outputs": [
        {
          "name": "stdout",
          "output_type": "stream",
          "text": "<class 'pandas.core.frame.DataFrame'>\n\nRangeIndex: 10000 entries, 0 to 9999\n\nData columns (total 14 columns):\n\n #   Column           Non-Null Count  Dtype  \n\n---  ------           --------------  -----  \n\n 0   RowNumber        10000 non-null  int64  \n\n 1   CustomerId       10000 non-null  int64  \n\n 2   Surname          10000 non-null  object \n\n 3   CreditScore      10000 non-null  int64  \n\n 4   Geography        10000 non-null  object \n\n 5   Gender           10000 non-null  object \n\n 6   Age              10000 non-null  int64  \n\n 7   Tenure           9091 non-null   float64\n\n 8   Balance          10000 non-null  float64\n\n 9   NumOfProducts    10000 non-null  int64  \n\n 10  HasCrCard        10000 non-null  int64  \n\n 11  IsActiveMember   10000 non-null  int64  \n\n 12  EstimatedSalary  10000 non-null  float64\n\n 13  Exited           10000 non-null  int64  \n\ndtypes: float64(3), int64(8), object(3)\n\nmemory usage: 1.1+ MB\n"
        }
      ]
    },
    {
      "cell_type": "markdown",
      "source": "Видим, во-первых, что в столбце 'Tenure' достаточно много пропусков, около 10%.\n\nА также то, что названия столбцов не приведены к нижнему регистру, но это как раз лего исправить.",
      "metadata": {}
    },
    {
      "cell_type": "code",
      "source": "data.columns = data.columns.str.lower() \n# приводим названия колонок к нижнему регистру",
      "metadata": {},
      "execution_count": 4,
      "outputs": []
    },
    {
      "cell_type": "code",
      "source": "data = data.drop(['rownumber', 'customerid', 'surname'], axis=1)\n# удаляем столбцы, которые для нашей задачи не несут полезной информации\ndata.head()\n# выводим первые пять строк датасета",
      "metadata": {
        "scrolled": true
      },
      "execution_count": 5,
      "outputs": [
        {
          "execution_count": 5,
          "output_type": "execute_result",
          "data": {
            "text/html": [
              "<div>\n",
              "<style scoped>\n",
              "    .dataframe tbody tr th:only-of-type {\n",
              "        vertical-align: middle;\n",
              "    }\n",
              "\n",
              "    .dataframe tbody tr th {\n",
              "        vertical-align: top;\n",
              "    }\n",
              "\n",
              "    .dataframe thead th {\n",
              "        text-align: right;\n",
              "    }\n",
              "</style>\n",
              "<table border=\"1\" class=\"dataframe\">\n",
              "  <thead>\n",
              "    <tr style=\"text-align: right;\">\n",
              "      <th></th>\n",
              "      <th>creditscore</th>\n",
              "      <th>geography</th>\n",
              "      <th>gender</th>\n",
              "      <th>age</th>\n",
              "      <th>tenure</th>\n",
              "      <th>balance</th>\n",
              "      <th>numofproducts</th>\n",
              "      <th>hascrcard</th>\n",
              "      <th>isactivemember</th>\n",
              "      <th>estimatedsalary</th>\n",
              "      <th>exited</th>\n",
              "    </tr>\n",
              "  </thead>\n",
              "  <tbody>\n",
              "    <tr>\n",
              "      <th>0</th>\n",
              "      <td>619</td>\n",
              "      <td>France</td>\n",
              "      <td>Female</td>\n",
              "      <td>42</td>\n",
              "      <td>2.0</td>\n",
              "      <td>0.00</td>\n",
              "      <td>1</td>\n",
              "      <td>1</td>\n",
              "      <td>1</td>\n",
              "      <td>101348.88</td>\n",
              "      <td>1</td>\n",
              "    </tr>\n",
              "    <tr>\n",
              "      <th>1</th>\n",
              "      <td>608</td>\n",
              "      <td>Spain</td>\n",
              "      <td>Female</td>\n",
              "      <td>41</td>\n",
              "      <td>1.0</td>\n",
              "      <td>83807.86</td>\n",
              "      <td>1</td>\n",
              "      <td>0</td>\n",
              "      <td>1</td>\n",
              "      <td>112542.58</td>\n",
              "      <td>0</td>\n",
              "    </tr>\n",
              "    <tr>\n",
              "      <th>2</th>\n",
              "      <td>502</td>\n",
              "      <td>France</td>\n",
              "      <td>Female</td>\n",
              "      <td>42</td>\n",
              "      <td>8.0</td>\n",
              "      <td>159660.80</td>\n",
              "      <td>3</td>\n",
              "      <td>1</td>\n",
              "      <td>0</td>\n",
              "      <td>113931.57</td>\n",
              "      <td>1</td>\n",
              "    </tr>\n",
              "    <tr>\n",
              "      <th>3</th>\n",
              "      <td>699</td>\n",
              "      <td>France</td>\n",
              "      <td>Female</td>\n",
              "      <td>39</td>\n",
              "      <td>1.0</td>\n",
              "      <td>0.00</td>\n",
              "      <td>2</td>\n",
              "      <td>0</td>\n",
              "      <td>0</td>\n",
              "      <td>93826.63</td>\n",
              "      <td>0</td>\n",
              "    </tr>\n",
              "    <tr>\n",
              "      <th>4</th>\n",
              "      <td>850</td>\n",
              "      <td>Spain</td>\n",
              "      <td>Female</td>\n",
              "      <td>43</td>\n",
              "      <td>2.0</td>\n",
              "      <td>125510.82</td>\n",
              "      <td>1</td>\n",
              "      <td>1</td>\n",
              "      <td>1</td>\n",
              "      <td>79084.10</td>\n",
              "      <td>0</td>\n",
              "    </tr>\n",
              "  </tbody>\n",
              "</table>\n",
              "</div>"
            ],
            "text/plain": [
              "   creditscore geography  gender  age  tenure    balance  numofproducts  \\\n",
              "0          619    France  Female   42     2.0       0.00              1   \n",
              "1          608     Spain  Female   41     1.0   83807.86              1   \n",
              "2          502    France  Female   42     8.0  159660.80              3   \n",
              "3          699    France  Female   39     1.0       0.00              2   \n",
              "4          850     Spain  Female   43     2.0  125510.82              1   \n",
              "\n",
              "   hascrcard  isactivemember  estimatedsalary  exited  \n",
              "0          1               1        101348.88       1  \n",
              "1          0               1        112542.58       0  \n",
              "2          1               0        113931.57       1  \n",
              "3          0               0         93826.63       0  \n",
              "4          1               1         79084.10       0  "
            ]
          },
          "metadata": {}
        }
      ]
    },
    {
      "cell_type": "markdown",
      "source": "### Обработка пропусков",
      "metadata": {}
    },
    {
      "cell_type": "code",
      "source": "data.isna().sum()\n# смотрим пропуски в датасете, но это мы и так знали",
      "metadata": {},
      "execution_count": 6,
      "outputs": [
        {
          "execution_count": 6,
          "output_type": "execute_result",
          "data": {
            "text/plain": [
              "creditscore          0\n",
              "geography            0\n",
              "gender               0\n",
              "age                  0\n",
              "tenure             909\n",
              "balance              0\n",
              "numofproducts        0\n",
              "hascrcard            0\n",
              "isactivemember       0\n",
              "estimatedsalary      0\n",
              "exited               0\n",
              "dtype: int64"
            ]
          },
          "metadata": {}
        }
      ]
    },
    {
      "cell_type": "code",
      "source": "data.duplicated().sum()\n# смотрим нет ли дубликатов",
      "metadata": {},
      "execution_count": 7,
      "outputs": [
        {
          "execution_count": 7,
          "output_type": "execute_result",
          "data": {
            "text/plain": [
              "0"
            ]
          },
          "metadata": {}
        }
      ]
    },
    {
      "cell_type": "code",
      "source": "data[data['tenure'].isna()].head(10)\n# смотрим на строки, где в столбце 'tenure' есть пропущенные значения",
      "metadata": {
        "scrolled": true
      },
      "execution_count": 8,
      "outputs": [
        {
          "execution_count": 8,
          "output_type": "execute_result",
          "data": {
            "text/html": [
              "<div>\n",
              "<style scoped>\n",
              "    .dataframe tbody tr th:only-of-type {\n",
              "        vertical-align: middle;\n",
              "    }\n",
              "\n",
              "    .dataframe tbody tr th {\n",
              "        vertical-align: top;\n",
              "    }\n",
              "\n",
              "    .dataframe thead th {\n",
              "        text-align: right;\n",
              "    }\n",
              "</style>\n",
              "<table border=\"1\" class=\"dataframe\">\n",
              "  <thead>\n",
              "    <tr style=\"text-align: right;\">\n",
              "      <th></th>\n",
              "      <th>creditscore</th>\n",
              "      <th>geography</th>\n",
              "      <th>gender</th>\n",
              "      <th>age</th>\n",
              "      <th>tenure</th>\n",
              "      <th>balance</th>\n",
              "      <th>numofproducts</th>\n",
              "      <th>hascrcard</th>\n",
              "      <th>isactivemember</th>\n",
              "      <th>estimatedsalary</th>\n",
              "      <th>exited</th>\n",
              "    </tr>\n",
              "  </thead>\n",
              "  <tbody>\n",
              "    <tr>\n",
              "      <th>30</th>\n",
              "      <td>591</td>\n",
              "      <td>Spain</td>\n",
              "      <td>Female</td>\n",
              "      <td>39</td>\n",
              "      <td>NaN</td>\n",
              "      <td>0.00</td>\n",
              "      <td>3</td>\n",
              "      <td>1</td>\n",
              "      <td>0</td>\n",
              "      <td>140469.38</td>\n",
              "      <td>1</td>\n",
              "    </tr>\n",
              "    <tr>\n",
              "      <th>48</th>\n",
              "      <td>550</td>\n",
              "      <td>Germany</td>\n",
              "      <td>Male</td>\n",
              "      <td>38</td>\n",
              "      <td>NaN</td>\n",
              "      <td>103391.38</td>\n",
              "      <td>1</td>\n",
              "      <td>0</td>\n",
              "      <td>1</td>\n",
              "      <td>90878.13</td>\n",
              "      <td>0</td>\n",
              "    </tr>\n",
              "    <tr>\n",
              "      <th>51</th>\n",
              "      <td>585</td>\n",
              "      <td>Germany</td>\n",
              "      <td>Male</td>\n",
              "      <td>36</td>\n",
              "      <td>NaN</td>\n",
              "      <td>146050.97</td>\n",
              "      <td>2</td>\n",
              "      <td>0</td>\n",
              "      <td>0</td>\n",
              "      <td>86424.57</td>\n",
              "      <td>0</td>\n",
              "    </tr>\n",
              "    <tr>\n",
              "      <th>53</th>\n",
              "      <td>655</td>\n",
              "      <td>Germany</td>\n",
              "      <td>Male</td>\n",
              "      <td>41</td>\n",
              "      <td>NaN</td>\n",
              "      <td>125561.97</td>\n",
              "      <td>1</td>\n",
              "      <td>0</td>\n",
              "      <td>0</td>\n",
              "      <td>164040.94</td>\n",
              "      <td>1</td>\n",
              "    </tr>\n",
              "    <tr>\n",
              "      <th>60</th>\n",
              "      <td>742</td>\n",
              "      <td>Germany</td>\n",
              "      <td>Male</td>\n",
              "      <td>35</td>\n",
              "      <td>NaN</td>\n",
              "      <td>136857.00</td>\n",
              "      <td>1</td>\n",
              "      <td>0</td>\n",
              "      <td>0</td>\n",
              "      <td>84509.57</td>\n",
              "      <td>0</td>\n",
              "    </tr>\n",
              "    <tr>\n",
              "      <th>82</th>\n",
              "      <td>543</td>\n",
              "      <td>France</td>\n",
              "      <td>Female</td>\n",
              "      <td>36</td>\n",
              "      <td>NaN</td>\n",
              "      <td>0.00</td>\n",
              "      <td>2</td>\n",
              "      <td>0</td>\n",
              "      <td>0</td>\n",
              "      <td>26019.59</td>\n",
              "      <td>0</td>\n",
              "    </tr>\n",
              "    <tr>\n",
              "      <th>85</th>\n",
              "      <td>652</td>\n",
              "      <td>Spain</td>\n",
              "      <td>Female</td>\n",
              "      <td>75</td>\n",
              "      <td>NaN</td>\n",
              "      <td>0.00</td>\n",
              "      <td>2</td>\n",
              "      <td>1</td>\n",
              "      <td>1</td>\n",
              "      <td>114675.75</td>\n",
              "      <td>0</td>\n",
              "    </tr>\n",
              "    <tr>\n",
              "      <th>94</th>\n",
              "      <td>730</td>\n",
              "      <td>Spain</td>\n",
              "      <td>Male</td>\n",
              "      <td>42</td>\n",
              "      <td>NaN</td>\n",
              "      <td>0.00</td>\n",
              "      <td>2</td>\n",
              "      <td>0</td>\n",
              "      <td>1</td>\n",
              "      <td>85982.47</td>\n",
              "      <td>0</td>\n",
              "    </tr>\n",
              "    <tr>\n",
              "      <th>99</th>\n",
              "      <td>413</td>\n",
              "      <td>France</td>\n",
              "      <td>Male</td>\n",
              "      <td>34</td>\n",
              "      <td>NaN</td>\n",
              "      <td>0.00</td>\n",
              "      <td>2</td>\n",
              "      <td>0</td>\n",
              "      <td>0</td>\n",
              "      <td>6534.18</td>\n",
              "      <td>0</td>\n",
              "    </tr>\n",
              "    <tr>\n",
              "      <th>111</th>\n",
              "      <td>538</td>\n",
              "      <td>Germany</td>\n",
              "      <td>Male</td>\n",
              "      <td>39</td>\n",
              "      <td>NaN</td>\n",
              "      <td>108055.10</td>\n",
              "      <td>2</td>\n",
              "      <td>1</td>\n",
              "      <td>0</td>\n",
              "      <td>27231.26</td>\n",
              "      <td>0</td>\n",
              "    </tr>\n",
              "  </tbody>\n",
              "</table>\n",
              "</div>"
            ],
            "text/plain": [
              "     creditscore geography  gender  age  tenure    balance  numofproducts  \\\n",
              "30           591     Spain  Female   39     NaN       0.00              3   \n",
              "48           550   Germany    Male   38     NaN  103391.38              1   \n",
              "51           585   Germany    Male   36     NaN  146050.97              2   \n",
              "53           655   Germany    Male   41     NaN  125561.97              1   \n",
              "60           742   Germany    Male   35     NaN  136857.00              1   \n",
              "82           543    France  Female   36     NaN       0.00              2   \n",
              "85           652     Spain  Female   75     NaN       0.00              2   \n",
              "94           730     Spain    Male   42     NaN       0.00              2   \n",
              "99           413    France    Male   34     NaN       0.00              2   \n",
              "111          538   Germany    Male   39     NaN  108055.10              2   \n",
              "\n",
              "     hascrcard  isactivemember  estimatedsalary  exited  \n",
              "30           1               0        140469.38       1  \n",
              "48           0               1         90878.13       0  \n",
              "51           0               0         86424.57       0  \n",
              "53           0               0        164040.94       1  \n",
              "60           0               0         84509.57       0  \n",
              "82           0               0         26019.59       0  \n",
              "85           1               1        114675.75       0  \n",
              "94           0               1         85982.47       0  \n",
              "99           0               0          6534.18       0  \n",
              "111          1               0         27231.26       0  "
            ]
          },
          "metadata": {}
        }
      ]
    },
    {
      "cell_type": "markdown",
      "source": "Какой-то явной связи между данными нет, чтобы можно было корректно восстановить пропуски",
      "metadata": {}
    },
    {
      "cell_type": "code",
      "source": "data['tenure'].value_counts(ascending=False)\n# смотрим каких и сколько есть значений в столбце 'tenure'",
      "metadata": {},
      "execution_count": 9,
      "outputs": [
        {
          "execution_count": 9,
          "output_type": "execute_result",
          "data": {
            "text/plain": [
              "1.0     952\n",
              "2.0     950\n",
              "8.0     933\n",
              "3.0     928\n",
              "5.0     927\n",
              "7.0     925\n",
              "4.0     885\n",
              "9.0     882\n",
              "6.0     881\n",
              "10.0    446\n",
              "0.0     382\n",
              "Name: tenure, dtype: int64"
            ]
          },
          "metadata": {}
        }
      ]
    },
    {
      "cell_type": "code",
      "source": "data['tenure'].describe()\n# смотрим информацию о данных в столбце 'tenure'",
      "metadata": {},
      "execution_count": 10,
      "outputs": [
        {
          "execution_count": 10,
          "output_type": "execute_result",
          "data": {
            "text/plain": [
              "count    9091.000000\n",
              "mean        4.997690\n",
              "std         2.894723\n",
              "min         0.000000\n",
              "25%         2.000000\n",
              "50%         5.000000\n",
              "75%         7.000000\n",
              "max        10.000000\n",
              "Name: tenure, dtype: float64"
            ]
          },
          "metadata": {}
        }
      ]
    },
    {
      "cell_type": "markdown",
      "source": "Среднее значение практически совпадает с медианой.",
      "metadata": {}
    },
    {
      "cell_type": "code",
      "source": "data[data['tenure'].isna()].pivot_table(index='exited', values='creditscore', aggfunc='count')\n# смотрим на распредение значений в столбце 'exited' среди тех, у кого стоит пропуск в столбце 'tenure'",
      "metadata": {},
      "execution_count": 11,
      "outputs": [
        {
          "execution_count": 11,
          "output_type": "execute_result",
          "data": {
            "text/html": [
              "<div>\n",
              "<style scoped>\n",
              "    .dataframe tbody tr th:only-of-type {\n",
              "        vertical-align: middle;\n",
              "    }\n",
              "\n",
              "    .dataframe tbody tr th {\n",
              "        vertical-align: top;\n",
              "    }\n",
              "\n",
              "    .dataframe thead th {\n",
              "        text-align: right;\n",
              "    }\n",
              "</style>\n",
              "<table border=\"1\" class=\"dataframe\">\n",
              "  <thead>\n",
              "    <tr style=\"text-align: right;\">\n",
              "      <th></th>\n",
              "      <th>creditscore</th>\n",
              "    </tr>\n",
              "    <tr>\n",
              "      <th>exited</th>\n",
              "      <th></th>\n",
              "    </tr>\n",
              "  </thead>\n",
              "  <tbody>\n",
              "    <tr>\n",
              "      <th>0</th>\n",
              "      <td>726</td>\n",
              "    </tr>\n",
              "    <tr>\n",
              "      <th>1</th>\n",
              "      <td>183</td>\n",
              "    </tr>\n",
              "  </tbody>\n",
              "</table>\n",
              "</div>"
            ],
            "text/plain": [
              "        creditscore\n",
              "exited             \n",
              "0               726\n",
              "1               183"
            ]
          },
          "metadata": {}
        }
      ]
    },
    {
      "cell_type": "markdown",
      "source": "Значения распределены примерно также, как и во всём датасете.\n\nПоэтому можно заменить пропуски на медиану без существенного искажения датасета.",
      "metadata": {}
    },
    {
      "cell_type": "code",
      "source": "data['tenure'] = data['tenure'].fillna(data['tenure'].median())\n# заменяем пропуски в столблце на медиану\ndata['tenure'].describe()",
      "metadata": {},
      "execution_count": 12,
      "outputs": [
        {
          "execution_count": 12,
          "output_type": "execute_result",
          "data": {
            "text/plain": [
              "count    10000.00000\n",
              "mean         4.99790\n",
              "std          2.76001\n",
              "min          0.00000\n",
              "25%          3.00000\n",
              "50%          5.00000\n",
              "75%          7.00000\n",
              "max         10.00000\n",
              "Name: tenure, dtype: float64"
            ]
          },
          "metadata": {}
        }
      ]
    },
    {
      "cell_type": "markdown",
      "source": "### Кодирование категориальных значений",
      "metadata": {}
    },
    {
      "cell_type": "code",
      "source": "data['gender'].unique()\n# смотрим какие есть значения в столбце 'gender'",
      "metadata": {},
      "execution_count": 13,
      "outputs": [
        {
          "execution_count": 13,
          "output_type": "execute_result",
          "data": {
            "text/plain": [
              "array(['Female', 'Male'], dtype=object)"
            ]
          },
          "metadata": {}
        }
      ]
    },
    {
      "cell_type": "code",
      "source": "data['geography'].value_counts()\n# смотрим каких и сколько значений в столбце 'geography'",
      "metadata": {},
      "execution_count": 14,
      "outputs": [
        {
          "execution_count": 14,
          "output_type": "execute_result",
          "data": {
            "text/plain": [
              "France     5014\n",
              "Germany    2509\n",
              "Spain      2477\n",
              "Name: geography, dtype: int64"
            ]
          },
          "metadata": {}
        }
      ]
    },
    {
      "cell_type": "markdown",
      "source": "Закодируем категориальные значения в столбцах 'gender' и 'geography' для того, чтобы наши модели также могли их учитывать при обучении.",
      "metadata": {}
    },
    {
      "cell_type": "code",
      "source": "data = pd.get_dummies(data)\n# кодируем категориальные значения\ndata.head()\n# выводим первые пять строк изменённого датасета",
      "metadata": {},
      "execution_count": 15,
      "outputs": [
        {
          "execution_count": 15,
          "output_type": "execute_result",
          "data": {
            "text/html": [
              "<div>\n",
              "<style scoped>\n",
              "    .dataframe tbody tr th:only-of-type {\n",
              "        vertical-align: middle;\n",
              "    }\n",
              "\n",
              "    .dataframe tbody tr th {\n",
              "        vertical-align: top;\n",
              "    }\n",
              "\n",
              "    .dataframe thead th {\n",
              "        text-align: right;\n",
              "    }\n",
              "</style>\n",
              "<table border=\"1\" class=\"dataframe\">\n",
              "  <thead>\n",
              "    <tr style=\"text-align: right;\">\n",
              "      <th></th>\n",
              "      <th>creditscore</th>\n",
              "      <th>age</th>\n",
              "      <th>tenure</th>\n",
              "      <th>balance</th>\n",
              "      <th>numofproducts</th>\n",
              "      <th>hascrcard</th>\n",
              "      <th>isactivemember</th>\n",
              "      <th>estimatedsalary</th>\n",
              "      <th>exited</th>\n",
              "      <th>geography_France</th>\n",
              "      <th>geography_Germany</th>\n",
              "      <th>geography_Spain</th>\n",
              "      <th>gender_Female</th>\n",
              "      <th>gender_Male</th>\n",
              "    </tr>\n",
              "  </thead>\n",
              "  <tbody>\n",
              "    <tr>\n",
              "      <th>0</th>\n",
              "      <td>619</td>\n",
              "      <td>42</td>\n",
              "      <td>2.0</td>\n",
              "      <td>0.00</td>\n",
              "      <td>1</td>\n",
              "      <td>1</td>\n",
              "      <td>1</td>\n",
              "      <td>101348.88</td>\n",
              "      <td>1</td>\n",
              "      <td>1</td>\n",
              "      <td>0</td>\n",
              "      <td>0</td>\n",
              "      <td>1</td>\n",
              "      <td>0</td>\n",
              "    </tr>\n",
              "    <tr>\n",
              "      <th>1</th>\n",
              "      <td>608</td>\n",
              "      <td>41</td>\n",
              "      <td>1.0</td>\n",
              "      <td>83807.86</td>\n",
              "      <td>1</td>\n",
              "      <td>0</td>\n",
              "      <td>1</td>\n",
              "      <td>112542.58</td>\n",
              "      <td>0</td>\n",
              "      <td>0</td>\n",
              "      <td>0</td>\n",
              "      <td>1</td>\n",
              "      <td>1</td>\n",
              "      <td>0</td>\n",
              "    </tr>\n",
              "    <tr>\n",
              "      <th>2</th>\n",
              "      <td>502</td>\n",
              "      <td>42</td>\n",
              "      <td>8.0</td>\n",
              "      <td>159660.80</td>\n",
              "      <td>3</td>\n",
              "      <td>1</td>\n",
              "      <td>0</td>\n",
              "      <td>113931.57</td>\n",
              "      <td>1</td>\n",
              "      <td>1</td>\n",
              "      <td>0</td>\n",
              "      <td>0</td>\n",
              "      <td>1</td>\n",
              "      <td>0</td>\n",
              "    </tr>\n",
              "    <tr>\n",
              "      <th>3</th>\n",
              "      <td>699</td>\n",
              "      <td>39</td>\n",
              "      <td>1.0</td>\n",
              "      <td>0.00</td>\n",
              "      <td>2</td>\n",
              "      <td>0</td>\n",
              "      <td>0</td>\n",
              "      <td>93826.63</td>\n",
              "      <td>0</td>\n",
              "      <td>1</td>\n",
              "      <td>0</td>\n",
              "      <td>0</td>\n",
              "      <td>1</td>\n",
              "      <td>0</td>\n",
              "    </tr>\n",
              "    <tr>\n",
              "      <th>4</th>\n",
              "      <td>850</td>\n",
              "      <td>43</td>\n",
              "      <td>2.0</td>\n",
              "      <td>125510.82</td>\n",
              "      <td>1</td>\n",
              "      <td>1</td>\n",
              "      <td>1</td>\n",
              "      <td>79084.10</td>\n",
              "      <td>0</td>\n",
              "      <td>0</td>\n",
              "      <td>0</td>\n",
              "      <td>1</td>\n",
              "      <td>1</td>\n",
              "      <td>0</td>\n",
              "    </tr>\n",
              "  </tbody>\n",
              "</table>\n",
              "</div>"
            ],
            "text/plain": [
              "   creditscore  age  tenure    balance  numofproducts  hascrcard  \\\n",
              "0          619   42     2.0       0.00              1          1   \n",
              "1          608   41     1.0   83807.86              1          0   \n",
              "2          502   42     8.0  159660.80              3          1   \n",
              "3          699   39     1.0       0.00              2          0   \n",
              "4          850   43     2.0  125510.82              1          1   \n",
              "\n",
              "   isactivemember  estimatedsalary  exited  geography_France  \\\n",
              "0               1        101348.88       1                 1   \n",
              "1               1        112542.58       0                 0   \n",
              "2               0        113931.57       1                 1   \n",
              "3               0         93826.63       0                 1   \n",
              "4               1         79084.10       0                 0   \n",
              "\n",
              "   geography_Germany  geography_Spain  gender_Female  gender_Male  \n",
              "0                  0                0              1            0  \n",
              "1                  0                1              1            0  \n",
              "2                  0                0              1            0  \n",
              "3                  0                0              1            0  \n",
              "4                  0                1              1            0  "
            ]
          },
          "metadata": {}
        }
      ]
    },
    {
      "cell_type": "markdown",
      "source": "### Вывод.\n\nВ столбце 'tenure' было около 10% пропущенных значений, эти пропуски мы обработали. Также удалили столбцы 'rownumber', 'customerid' и 'surname', т.к. для наших целей они практического смысла они не несут, но могут запутать модель при обучении. И закодировали категориальные значения, чтобы модели при обучении могли использовать эти данные.",
      "metadata": {}
    },
    {
      "cell_type": "markdown",
      "source": "## Исследование задачи",
      "metadata": {}
    },
    {
      "cell_type": "markdown",
      "source": "### Смотрим на баланс классов",
      "metadata": {}
    },
    {
      "cell_type": "code",
      "source": "data['exited'].value_counts(normalize=True)",
      "metadata": {},
      "execution_count": 16,
      "outputs": [
        {
          "execution_count": 16,
          "output_type": "execute_result",
          "data": {
            "text/plain": [
              "0    0.7963\n",
              "1    0.2037\n",
              "Name: exited, dtype: float64"
            ]
          },
          "metadata": {}
        }
      ]
    },
    {
      "cell_type": "markdown",
      "source": "Как видно, имеется значительный дисбаланс классов, что может негативно повлиять на обучение модели.\n\nСначала обучим модели без учёта дисбаланса и проверим на тестовой выборке.",
      "metadata": {}
    },
    {
      "cell_type": "markdown",
      "source": "### Делим данные на обучающую, валидационную и тестовую выборки",
      "metadata": {}
    },
    {
      "cell_type": "code",
      "source": "data_train, data_test = train_test_split(data, test_size=0.2, random_state=12345, stratify=data['exited'])\n# разделяем датасет на тренировочный и тестовый",
      "metadata": {},
      "execution_count": 17,
      "outputs": []
    },
    {
      "cell_type": "code",
      "source": "data_train.shape\n# смотрим на размер тренировочного датасета",
      "metadata": {},
      "execution_count": 18,
      "outputs": [
        {
          "execution_count": 18,
          "output_type": "execute_result",
          "data": {
            "text/plain": [
              "(8000, 14)"
            ]
          },
          "metadata": {}
        }
      ]
    },
    {
      "cell_type": "code",
      "source": "data_test.shape\n# смотрим на размер тестового датасета",
      "metadata": {},
      "execution_count": 19,
      "outputs": [
        {
          "execution_count": 19,
          "output_type": "execute_result",
          "data": {
            "text/plain": [
              "(2000, 14)"
            ]
          },
          "metadata": {}
        }
      ]
    },
    {
      "cell_type": "code",
      "source": "data_train, data_valid = train_test_split(data_train, test_size=0.25, random_state=12345, stratify=data_train['exited'])\n# разделяем тренировчный датасет на обучающий и валидационый",
      "metadata": {},
      "execution_count": 20,
      "outputs": []
    },
    {
      "cell_type": "code",
      "source": "data_train.shape\n# смотрим размер",
      "metadata": {},
      "execution_count": 21,
      "outputs": [
        {
          "execution_count": 21,
          "output_type": "execute_result",
          "data": {
            "text/plain": [
              "(6000, 14)"
            ]
          },
          "metadata": {}
        }
      ]
    },
    {
      "cell_type": "code",
      "source": "data_valid.shape\n# смотрим размер",
      "metadata": {},
      "execution_count": 22,
      "outputs": [
        {
          "execution_count": 22,
          "output_type": "execute_result",
          "data": {
            "text/plain": [
              "(2000, 14)"
            ]
          },
          "metadata": {}
        }
      ]
    },
    {
      "cell_type": "markdown",
      "source": "### Выделяем признаки для обучения моделей",
      "metadata": {}
    },
    {
      "cell_type": "code",
      "source": "features_train = data_train.drop(['exited'], axis=1)\ntarget_train = data_train['exited']\n# готовим параметры для обучения",
      "metadata": {},
      "execution_count": 23,
      "outputs": []
    },
    {
      "cell_type": "code",
      "source": "features_valid = data_valid.drop(['exited'], axis=1)\ntarget_valid = data_valid['exited']\n# готовим параметры для валидации",
      "metadata": {},
      "execution_count": 24,
      "outputs": []
    },
    {
      "cell_type": "code",
      "source": "features_test = data_test.drop(['exited'], axis=1)\ntarget_test = data_test['exited']\n# готовим параметры для теста",
      "metadata": {},
      "execution_count": 25,
      "outputs": []
    },
    {
      "cell_type": "markdown",
      "source": "### Масштабируем признаки",
      "metadata": {}
    },
    {
      "cell_type": "code",
      "source": "numeric = ['creditscore', 'age', 'balance', 'estimatedsalary']\n# создаём список столбцов, которые будем масштабировать\n\nscaler = StandardScaler()\nscaler.fit(features_train[numeric])\n\nfeatures_train[numeric] = scaler.transform(features_train[numeric])\nfeatures_valid[numeric] = scaler.transform(features_valid[numeric])\nfeatures_test[numeric] = scaler.transform(features_test[numeric])\n# перезаписываем признаки с учётом масштабирвоания",
      "metadata": {},
      "execution_count": 26,
      "outputs": []
    },
    {
      "cell_type": "markdown",
      "source": "### Модель \"Дерево решений\"",
      "metadata": {}
    },
    {
      "cell_type": "code",
      "source": "best_model_dt = None\nbest_result_dt = 0\nf1 = []\nroc_auc = []\ndepth_x = []\nfor depth in range(1, 21):\n    model_dt = DecisionTreeClassifier(random_state=12345, max_depth=depth)\n    model_dt.fit(features_train, target_train)\n    predictions_valid = model_dt.predict(features_valid)\n    result1 = f1_score(target_valid, predictions_valid)\n    result2 = roc_auc_score(target_valid, predictions_valid)\n    f1.append(result1)\n    roc_auc.append(result2)\n    depth_x.append(depth)\n    if result1 > best_result_dt:\n        best_model_dt = model_dt\n        best_result_dt = result1\n# делаем цикл, которые подберёт лучшие гиперпараметры для модели\nprint(best_model_dt, best_result_dt)",
      "metadata": {
        "scrolled": true
      },
      "execution_count": 27,
      "outputs": [
        {
          "name": "stdout",
          "output_type": "stream",
          "text": "DecisionTreeClassifier(max_depth=8, random_state=12345) 0.5804597701149425\n"
        }
      ]
    },
    {
      "cell_type": "code",
      "source": "plt.figure(figsize=(8, 4))\nplt.plot(depth_x, f1)\nplt.plot(depth_x, roc_auc)\nplt.legend(['f1', 'roc_auc'])\nplt.ylim(0.3, 1)\nplt.xlabel('Max_depth')\nplt.ylabel('Значение метрик')\nplt.title('Зависимсоть метрик от гиперпараметра max_depth')\nplt.grid(True)\n# строим график, чтобы посмотреть как меняются значения метрик в зависимости от гиперпараметра max_depth",
      "metadata": {},
      "execution_count": 28,
      "outputs": [
        {
          "output_type": "display_data",
          "data": {
            "image/png": "[encoded data removed]",
            "text/plain": [
              "<Figure size 576x288 with 1 Axes>"
            ]
          },
          "metadata": {
            "needs_background": "light"
          }
        }
      ]
    },
    {
      "cell_type": "markdown",
      "source": "При обучении на несбалансированной обучающей выборке и проверке на такой же валидационной наша модель показала значение метрики f1 = 0.58, близкое к требуемому (0.59).",
      "metadata": {}
    },
    {
      "cell_type": "markdown",
      "source": "### Модель \"Случайный лес\"",
      "metadata": {}
    },
    {
      "cell_type": "code",
      "source": "%%time\n# ради интереса смотрим сколько времени займёт обсчёт цикла\n\nbest_model = None\nbest_result = 0\nbest_est = 0\nbest_depth = 0\nfor est in range(10, 51):\n    for depth in range (1, 21):\n        model = RandomForestClassifier(random_state=12345, n_estimators=est, max_depth=depth)\n        model.fit(features_train, target_train) \n        predictions_valid = model.predict(features_valid) \n        result = f1_score(target_valid, predictions_valid)\n        if result > best_result:\n            best_model = model\n            best_result = result\n            best_est = est\n            best_depth = depth\n# делаем цикл, который подбирает гиперпараметры, показывающие лучшее значение метрики f1\nprint(best_model, best_result)",
      "metadata": {},
      "execution_count": 44,
      "outputs": [
        {
          "name": "stdout",
          "output_type": "stream",
          "text": "RandomForestClassifier(max_depth=14, n_estimators=29, random_state=12345) 0.586046511627907\n\nCPU times: user 2min 14s, sys: 643 ms, total: 2min 15s\n\nWall time: 2min 15s\n"
        }
      ]
    },
    {
      "cell_type": "code",
      "source": "model_rfc = RandomForestClassifier(n_estimators=29, max_depth=14, random_state=12345)\nmodel_rfc.fit(features_train, target_train)\npredicted_valid = model_rfc.predict(features_valid)\nprint('f1 = ', f1_score(target_valid, predicted_valid))\nprint('roc_auc =', roc_auc_score(target_valid, predicted_valid))\n# обучаем модель с учётом подобранных гиперпараметров и смотрим на значения метрик f1 и roc_auc",
      "metadata": {},
      "execution_count": 30,
      "outputs": [
        {
          "name": "stdout",
          "output_type": "stream",
          "text": "f1 =  0.586046511627907\n\nroc_auc = 0.716806945620505\n"
        }
      ]
    },
    {
      "cell_type": "markdown",
      "source": "Как и Дерево решений, при обучении на несбалансированной обучающей выборке и проверке на такой же валидационной Случайный лес показал значение метрики f1 = 0.586, близкое к требуемому (0.59), но всё же не дотягивающее до него.",
      "metadata": {}
    },
    {
      "cell_type": "markdown",
      "source": "### Модель \"Логистическая регрессия\"",
      "metadata": {}
    },
    {
      "cell_type": "code",
      "source": "model_lr = LogisticRegression(random_state=12345, solver='lbfgs', max_iter=1000)\nmodel_lr.fit(features_train, target_train)\npredicted_valid = model_lr.predict(features_valid)\nprint('f1 = ', f1_score(target_valid, predicted_valid))\nprint('roc_auc =', roc_auc_score(target_valid, predicted_valid))",
      "metadata": {},
      "execution_count": 31,
      "outputs": [
        {
          "name": "stdout",
          "output_type": "stream",
          "text": "f1 =  0.3214953271028037\n\nroc_auc = 0.5924684314514823\n"
        }
      ]
    },
    {
      "cell_type": "markdown",
      "source": "Логистическая регрессия показывает совсем слабые по сравнению с другими моделями метрики.\n\nВозможно, на сбалансированных данных результаты будут лучше.",
      "metadata": {}
    },
    {
      "cell_type": "markdown",
      "source": "### Вывод.\n\nНа текущий момент ни одна из моделей не удовлетворяет требованиям поставленной задачи (достичь значение метрики f1 = 0.59), \nхотя модели Дерево решений и Случайный лес близки к этому.\n\nПопробуем улучшить наши модели, устранив дисбаланс классов.",
      "metadata": {}
    },
    {
      "cell_type": "markdown",
      "source": "## Борьба с дисбалансом",
      "metadata": {}
    },
    {
      "cell_type": "markdown",
      "source": "### Применение гиперпараметра class_weight",
      "metadata": {}
    },
    {
      "cell_type": "markdown",
      "source": "Для борьбы с дисбалансом будем указывать для каждой модели гиперпараметр class_weight='balanced' и посмотрим как это повлияет на результаты обучения и работу модели.",
      "metadata": {}
    },
    {
      "cell_type": "markdown",
      "source": "#### Модель \"Дерево решений\"",
      "metadata": {}
    },
    {
      "cell_type": "code",
      "source": "best_model_dt = None\nbest_result_dt = 0\nf1 = []\nroc_auc = []\ndepth_x = []\nfor depth in range(1, 21):\n    model_dt = DecisionTreeClassifier(random_state=12345, max_depth=depth, class_weight='balanced')\n    model_dt.fit(features_train, target_train)\n    predictions_valid = model_dt.predict(features_valid)\n    result1 = f1_score(target_valid, predictions_valid)\n    result2 = roc_auc_score(target_valid, predictions_valid)\n    f1.append(result1)\n    roc_auc.append(result2)\n    depth_x.append(depth)\n    if result1 > best_result_dt:\n        best_model_dt = model_dt\n        best_result_dt = result1\n# делаем цикл, которые подберёт лучшие гиперпараметры для модели\nprint(best_model_dt, best_result_dt)",
      "metadata": {},
      "execution_count": 32,
      "outputs": [
        {
          "name": "stdout",
          "output_type": "stream",
          "text": "DecisionTreeClassifier(class_weight='balanced', max_depth=6, random_state=12345) 0.5747330960854092\n"
        }
      ]
    },
    {
      "cell_type": "code",
      "source": "plt.figure(figsize=(8, 4))\nplt.plot(depth_x, f1)\nplt.plot(depth_x, roc_auc)\nplt.legend(['f1', 'roc_auc'])\nplt.ylim(0.3, 1)\nplt.xlabel('Max_depth')\nplt.ylabel('Значение метрик')\nplt.title('Зависимсоть метрик от гиперпараметра max_depth')\nplt.grid(True)",
      "metadata": {},
      "execution_count": 33,
      "outputs": [
        {
          "output_type": "display_data",
          "data": {
            "image/png": "[encoded data removed]",
            "text/plain": [
              "<Figure size 576x288 with 1 Axes>"
            ]
          },
          "metadata": {
            "needs_background": "light"
          }
        }
      ]
    },
    {
      "cell_type": "code",
      "source": "model_dtc = DecisionTreeClassifier(max_depth=6, random_state=12345, class_weight='balanced')\nmodel_dtc.fit(features_train, target_train)\npredicted_valid = model_dtc.predict(features_valid)\nprint('f1 =', f1_score(target_valid, predicted_valid))\nprint('roc_auc =', roc_auc_score(target_valid, predicted_valid))",
      "metadata": {},
      "execution_count": 34,
      "outputs": [
        {
          "name": "stdout",
          "output_type": "stream",
          "text": "f1 = 0.5747330960854092\n\nroc_auc = 0.7731398578856206\n"
        }
      ]
    },
    {
      "cell_type": "markdown",
      "source": "Вывод.\n\nКак это ни странно, модель \"Дерево решений\" показывает результаты хуже, чем было до балансировки классов.",
      "metadata": {}
    },
    {
      "cell_type": "markdown",
      "source": "#### Модель \"Случайный лес\"",
      "metadata": {}
    },
    {
      "cell_type": "code",
      "source": "best_model = None\nbest_result = 0\nbest_est = 0\nbest_depth = 0\nfor est in range(10, 51):\n    for depth in range (1, 21):\n        model = RandomForestClassifier(random_state=12345, n_estimators=est, max_depth=depth, class_weight='balanced')\n        model.fit(features_train, target_train) \n        predictions_valid = model.predict(features_valid) \n        result = f1_score(target_valid, predictions_valid)\n        if result > best_result:\n            best_model = model\n            best_result = result\n            best_est = est\n            best_depth = depth\n# делаем цикл, которые подберёт лучшие гиперпараметры для модели                        \nprint(best_model, best_result)",
      "metadata": {},
      "execution_count": 35,
      "outputs": [
        {
          "name": "stdout",
          "output_type": "stream",
          "text": "RandomForestClassifier(class_weight='balanced', max_depth=9, n_estimators=46,\n\n                       random_state=12345) 0.6440281030444965\n"
        }
      ]
    },
    {
      "cell_type": "code",
      "source": "model_rfc = RandomForestClassifier(n_estimators=46, max_depth=9, random_state=12345, class_weight='balanced')\nmodel_rfc.fit(features_train, target_train)\npredicted_valid = model_rfc.predict(features_valid)\nprint('f1 = ', f1_score(target_valid, predicted_valid))\nprint('roc_auc =', roc_auc_score(target_valid, predicted_valid))",
      "metadata": {},
      "execution_count": 36,
      "outputs": [
        {
          "name": "stdout",
          "output_type": "stream",
          "text": "f1 =  0.6440281030444965\n\nroc_auc = 0.7838516482584279\n"
        }
      ]
    },
    {
      "cell_type": "markdown",
      "source": "А вот это уже совсем другие дело! После включения данного гиперпараметра наша модель не только сущесвтенно улучшила значение метрики f1, но и превысила требуемое значение (0.64 против 0.59).",
      "metadata": {}
    },
    {
      "cell_type": "markdown",
      "source": "#### Модель \"Логистическая регрессия\"",
      "metadata": {}
    },
    {
      "cell_type": "code",
      "source": "model_lr = LogisticRegression(random_state=12345, solver='lbfgs', max_iter=1000, class_weight='balanced')\nmodel_lr.fit(features_train, target_train)\npredicted_valid = model_lr.predict(features_valid)\nprint('f1 =', f1_score(target_valid, predicted_valid))\nprint('roc_auc =', roc_auc_score(target_valid, predicted_valid))\n# обучаем модель и смотрим на метрики",
      "metadata": {},
      "execution_count": 79,
      "outputs": [
        {
          "name": "stdout",
          "output_type": "stream",
          "text": "f1 = 0.5113043478260869\n\nroc_auc = 0.7202502965214829\n"
        }
      ]
    },
    {
      "cell_type": "markdown",
      "source": "Данная модель тоже существенно улучшила значения метрик, но до Случайного леса ей далеко.",
      "metadata": {}
    },
    {
      "cell_type": "markdown",
      "source": "#### Вывод.\n\nПрименение гиперпараметра принесло свои плоды, значения метрик моделей Случайный лес и Логистическая регрессия \nсущественно улучшились, в отличие от модели Дерево решений, которая даже немного ухудшила показания метрик.\n\nС существенным отрывом, модель Случайный лес с параметрами n_estimators=46, max_depth=9, random_state=12345, class_weight='balanced') принимается нами в качестве основной.",
      "metadata": {}
    },
    {
      "cell_type": "markdown",
      "source": "### Увеличение выборки",
      "metadata": {}
    },
    {
      "cell_type": "markdown",
      "source": "Посмотрим, как балансировка классов за счет увеличения данных с недостающим классом повлияет на качество моделей.",
      "metadata": {}
    },
    {
      "cell_type": "code",
      "source": "data_train['exited'].value_counts()\n# смотрим на распределение классов",
      "metadata": {},
      "execution_count": 62,
      "outputs": [
        {
          "execution_count": 62,
          "output_type": "execute_result",
          "data": {
            "text/plain": [
              "0    4777\n",
              "1    1223\n",
              "Name: exited, dtype: int64"
            ]
          },
          "metadata": {}
        }
      ]
    },
    {
      "cell_type": "code",
      "source": "def upsample(features, target, repeat):\n    features_zeros = features_train[target == 0]\n    features_ones = features_train[target == 1]\n    target_zeros = target_train[target == 0]\n    target_ones = target_train[target == 1]\n\n    features_upsampled = pd.concat([features_zeros] + [features_ones] * repeat)\n    target_upsampled = pd.concat([target_zeros] + [target_ones] * repeat)\n    \n    features_upsampled, target_upsampled = shuffle(\n        features_upsampled, target_upsampled, random_state=12345)\n    \n    return features_upsampled, target_upsampled\n# напишем функцию, которая поможет нам увеличить данные с недостающим классом\nfeatures_upsampled, target_upsampled = upsample(features_train, target_train, 4)\n# применяем функцию",
      "metadata": {},
      "execution_count": 63,
      "outputs": []
    },
    {
      "cell_type": "code",
      "source": "features_upsampled.shape\n# смотрим размер новых признаков",
      "metadata": {},
      "execution_count": 64,
      "outputs": [
        {
          "execution_count": 64,
          "output_type": "execute_result",
          "data": {
            "text/plain": [
              "(9669, 13)"
            ]
          },
          "metadata": {}
        }
      ]
    },
    {
      "cell_type": "code",
      "source": "target_upsampled.shape\n# смотрим размер новых целей",
      "metadata": {},
      "execution_count": 65,
      "outputs": [
        {
          "execution_count": 65,
          "output_type": "execute_result",
          "data": {
            "text/plain": [
              "(9669,)"
            ]
          },
          "metadata": {}
        }
      ]
    },
    {
      "cell_type": "code",
      "source": "target_upsampled.value_counts()\n# смотрим распреление классов",
      "metadata": {},
      "execution_count": 66,
      "outputs": [
        {
          "execution_count": 66,
          "output_type": "execute_result",
          "data": {
            "text/plain": [
              "1    4892\n",
              "0    4777\n",
              "Name: exited, dtype: int64"
            ]
          },
          "metadata": {}
        }
      ]
    },
    {
      "cell_type": "markdown",
      "source": "Обучим наши модели на этих данных и посмотрим что получится.",
      "metadata": {}
    },
    {
      "cell_type": "markdown",
      "source": "#### Модель \"Дерево решений\"",
      "metadata": {}
    },
    {
      "cell_type": "code",
      "source": "best_model = None\nbest_result= 0\nfor depth in range(1, 21):\n    model = DecisionTreeClassifier(random_state=12345, max_depth=depth)\n    model.fit(features_upsampled, target_upsampled)\n    predictions_valid = model.predict(features_valid)\n    result = f1_score(target_valid, predictions_valid)\n    if result > best_result:\n        best_model = model\n        best_result = result\n# делаем цикл, которые подберёт лучшие гиперпараметры для модели\nprint(best_model, best_result)",
      "metadata": {},
      "execution_count": 71,
      "outputs": [
        {
          "name": "stdout",
          "output_type": "stream",
          "text": "DecisionTreeClassifier(max_depth=6, random_state=12345) 0.576544315129812\n"
        }
      ]
    },
    {
      "cell_type": "markdown",
      "source": "Балансировка класса за счет увеличения данных с отсающим классом не дала видимого результата. Возможно, это связано с ограниченными возможностями самой модели.",
      "metadata": {}
    },
    {
      "cell_type": "markdown",
      "source": "#### Модель \"Случайный лес\"",
      "metadata": {}
    },
    {
      "cell_type": "code",
      "source": "best_model = None\nbest_result = 0\nbest_est = 0\nbest_depth = 0\nfor est in range(10, 51):\n    for depth in range (1, 21):\n        model = RandomForestClassifier(random_state=12345, n_estimators=est, max_depth=depth)\n        model.fit(features_upsampled, target_upsampled) \n        predictions_valid = model.predict(features_valid) \n        result = f1_score(target_valid, predictions_valid)\n        if result > best_result:\n            best_model = model\n            best_result = result\n            best_est = est\n            best_depth = depth\n# делаем цикл, которые подберёт лучшие гиперпараметры для модели                        \nprint(best_model, best_result)",
      "metadata": {},
      "execution_count": 72,
      "outputs": [
        {
          "name": "stdout",
          "output_type": "stream",
          "text": "RandomForestClassifier(class_weight='balanced', max_depth=11, n_estimators=34,\n\n                       random_state=12345) 0.6488294314381272\n"
        }
      ]
    },
    {
      "cell_type": "markdown",
      "source": "Данная модель показала результаты, близкие к тем, что мы получили просто применив гиперпараметр class_weight.",
      "metadata": {}
    },
    {
      "cell_type": "markdown",
      "source": "#### Модель \"Логистическая регрессия\"",
      "metadata": {}
    },
    {
      "cell_type": "code",
      "source": "model_lr = LogisticRegression(random_state=12345, solver='lbfgs', max_iter=1000)\nmodel_lr.fit(features_upsampled, target_upsampled)\npredicted_valid = model_lr.predict(features_valid)\nprint('f1 =', f1_score(target_valid, predicted_valid))\nprint('roc_auc =', roc_auc_score(target_valid, predicted_valid))",
      "metadata": {},
      "execution_count": 73,
      "outputs": [
        {
          "name": "stdout",
          "output_type": "stream",
          "text": "f1 = 0.5072836332476435\n\nroc_auc = 0.7179992010500486\n"
        }
      ]
    },
    {
      "cell_type": "markdown",
      "source": "Эта модель показала существенное улучшение метрик по сравнению с несбалансированными классами, \nно немного хуже, чем просто от применения гиперпараметра class_weight.",
      "metadata": {}
    },
    {
      "cell_type": "markdown",
      "source": "#### Вывод\n\nБалансировка классов за счет увеличения выборки даёт повышение метрик моделей по сравнению с обучением моделей на данных,\nсодержащих несбалансированные классы. Но данный результат близок (а иногда и немного недотягивает) к тому, который мы получаем просто применив гиперпараметр class_weight в наших моделях.",
      "metadata": {}
    },
    {
      "cell_type": "markdown",
      "source": "### Вывод.\n\nБалансирвока классов позволила существенно улучшить метрики моделей Случайный лес и Логистическая регрессия, \nв отличие от Дерева решений, где значение метрик стало немного хуже.\n\nБезоговорочный победитель в данном отборе - модель \"Случайный лес\", которая помимо того, что показывает лучшие значения метрик\nсреди всех, так и полученная метрика f1 превосходит требуемое значение (0.64 против 0.59).\n\nПосмотрим, как она покажет себя на тестовой выборке.",
      "metadata": {}
    },
    {
      "cell_type": "markdown",
      "source": "## Тестирование модели",
      "metadata": {}
    },
    {
      "cell_type": "markdown",
      "source": "Возьмём гиперпараметры, которые показали лучшие значения метрик и применим их к тестовой выборке.",
      "metadata": {}
    },
    {
      "cell_type": "code",
      "source": "model_rfc = RandomForestClassifier(n_estimators=46, max_depth=9, random_state=12345, class_weight='balanced')\nmodel_rfc.fit(features_train, target_train)\npredicted_test = model_rfc.predict(features_test)\nprint('f1 = ', f1_score(target_test, predicted_test))\nprint('roc_auc =', roc_auc_score(target_test, predicted_test))",
      "metadata": {},
      "execution_count": 78,
      "outputs": [
        {
          "name": "stdout",
          "output_type": "stream",
          "text": "f1 =  0.6313309776207302\n\nroc_auc = 0.774624393268461\n"
        }
      ]
    },
    {
      "cell_type": "markdown",
      "source": "## Вывод",
      "metadata": {}
    },
    {
      "cell_type": "markdown",
      "source": "Благодаря подбору гиперпараметров и балансировке классов нам удалось сделать модель, которая выдаёт требуемой значение (0.59) метрики f1 и даже превосходит его на тестовой выборке (0.63), что можно считать хорошим результатом.\n\nДанная модель позволяет прогнозировать уйдёт клиент из банка или нет, и, соответственно, к тем клиентам, которые по прогнозу могут покинуть банк, рекомедуется повышенное внимание со стороны отдела маркетинга банка и отдела по работе с клиентами, чтобы удержать их.\n\nВ ходе исследования, мы также смотрели на метрику roc_auc. В целом, можно сказать, что она коррелирует с метрикой f1, хотя \nзависимость и нелинейная. Но, по наблюдением, она менее чувствительна и больше усредняет качество моделей, опираясь только на неё сложнее улучшать качество модели при несбалансированных классах данных.",
      "metadata": {}
    }
  ]
}