{
  "metadata": {
    "ExecuteTimeLog": [
      {
        "duration": 70,
        "start_time": "2022-06-02T12:44:51.908Z"
      },
      {
        "duration": 3,
        "start_time": "2022-06-02T12:44:54.594Z"
      },
      {
        "duration": 8,
        "start_time": "2022-06-02T12:44:55.102Z"
      },
      {
        "duration": 100,
        "start_time": "2022-06-02T12:45:02.886Z"
      },
      {
        "duration": 53,
        "start_time": "2022-06-02T15:08:27.955Z"
      },
      {
        "duration": 412,
        "start_time": "2022-06-02T15:08:33.767Z"
      },
      {
        "duration": 144,
        "start_time": "2022-06-02T15:08:34.181Z"
      },
      {
        "duration": 12,
        "start_time": "2022-06-02T15:08:34.327Z"
      },
      {
        "duration": 2,
        "start_time": "2022-06-02T15:10:01.839Z"
      },
      {
        "duration": 102,
        "start_time": "2022-06-02T15:19:10.539Z"
      },
      {
        "duration": 73,
        "start_time": "2022-06-02T15:22:31.007Z"
      },
      {
        "duration": 18,
        "start_time": "2022-06-02T15:31:14.667Z"
      },
      {
        "duration": 15,
        "start_time": "2022-06-02T15:31:24.329Z"
      },
      {
        "duration": 14,
        "start_time": "2022-06-02T15:31:32.848Z"
      },
      {
        "duration": 14,
        "start_time": "2022-06-02T15:31:43.059Z"
      },
      {
        "duration": 14,
        "start_time": "2022-06-02T15:33:01.047Z"
      },
      {
        "duration": 5,
        "start_time": "2022-06-02T15:39:05.694Z"
      },
      {
        "duration": 368,
        "start_time": "2022-06-02T15:39:19.494Z"
      },
      {
        "duration": 104,
        "start_time": "2022-06-02T15:39:19.864Z"
      },
      {
        "duration": 5,
        "start_time": "2022-06-02T15:39:19.970Z"
      },
      {
        "duration": 205,
        "start_time": "2022-06-02T15:41:12.536Z"
      },
      {
        "duration": 6,
        "start_time": "2022-06-02T15:53:12.001Z"
      },
      {
        "duration": 8,
        "start_time": "2022-06-02T15:53:57.216Z"
      },
      {
        "duration": 11,
        "start_time": "2022-06-02T15:54:25.309Z"
      },
      {
        "duration": 8,
        "start_time": "2022-06-02T15:54:48.956Z"
      },
      {
        "duration": 9,
        "start_time": "2022-06-02T15:55:10.575Z"
      },
      {
        "duration": 9,
        "start_time": "2022-06-02T15:55:41.689Z"
      },
      {
        "duration": 9,
        "start_time": "2022-06-02T15:55:59.690Z"
      },
      {
        "duration": 430,
        "start_time": "2022-06-02T15:56:14.113Z"
      },
      {
        "duration": 115,
        "start_time": "2022-06-02T15:56:14.545Z"
      },
      {
        "duration": 93,
        "start_time": "2022-06-02T15:56:14.662Z"
      },
      {
        "duration": 9,
        "start_time": "2022-06-02T15:57:06.100Z"
      },
      {
        "duration": 28,
        "start_time": "2022-06-02T15:57:28.665Z"
      },
      {
        "duration": 9,
        "start_time": "2022-06-02T15:57:38.889Z"
      },
      {
        "duration": 8,
        "start_time": "2022-06-02T15:57:46.581Z"
      },
      {
        "duration": 9,
        "start_time": "2022-06-02T15:58:12.423Z"
      },
      {
        "duration": 6,
        "start_time": "2022-06-02T15:58:21.014Z"
      },
      {
        "duration": 8,
        "start_time": "2022-06-02T15:59:13.674Z"
      },
      {
        "duration": 8,
        "start_time": "2022-06-02T15:59:40.391Z"
      },
      {
        "duration": 8,
        "start_time": "2022-06-02T16:00:07.115Z"
      },
      {
        "duration": 8,
        "start_time": "2022-06-02T16:00:17.974Z"
      },
      {
        "duration": 9,
        "start_time": "2022-06-02T16:00:40.814Z"
      },
      {
        "duration": 6,
        "start_time": "2022-06-02T16:01:25.000Z"
      },
      {
        "duration": 8,
        "start_time": "2022-06-02T16:02:26.220Z"
      },
      {
        "duration": 32,
        "start_time": "2022-06-02T16:05:34.782Z"
      },
      {
        "duration": 251,
        "start_time": "2022-06-02T16:11:26.988Z"
      },
      {
        "duration": 37,
        "start_time": "2022-06-02T16:12:18.355Z"
      },
      {
        "duration": 20,
        "start_time": "2022-06-02T16:13:21.080Z"
      },
      {
        "duration": 26,
        "start_time": "2022-06-02T16:14:21.323Z"
      },
      {
        "duration": 13,
        "start_time": "2022-06-02T16:18:26.608Z"
      },
      {
        "duration": 7,
        "start_time": "2022-06-02T16:18:46.658Z"
      },
      {
        "duration": 22,
        "start_time": "2022-06-02T16:20:25.491Z"
      },
      {
        "duration": 36,
        "start_time": "2022-06-02T16:21:07.075Z"
      },
      {
        "duration": 430,
        "start_time": "2022-06-04T16:37:22.604Z"
      },
      {
        "duration": 152,
        "start_time": "2022-06-04T16:37:23.036Z"
      },
      {
        "duration": 20,
        "start_time": "2022-06-04T16:37:23.190Z"
      },
      {
        "duration": 20,
        "start_time": "2022-06-04T16:43:40.750Z"
      },
      {
        "duration": 16,
        "start_time": "2022-06-04T16:44:00.596Z"
      },
      {
        "duration": 22,
        "start_time": "2022-06-04T16:44:24.992Z"
      },
      {
        "duration": 15,
        "start_time": "2022-06-04T16:44:45.509Z"
      },
      {
        "duration": 18,
        "start_time": "2022-06-04T16:46:02.274Z"
      },
      {
        "duration": 37,
        "start_time": "2022-06-04T16:46:15.825Z"
      },
      {
        "duration": 88,
        "start_time": "2022-06-04T16:47:37.050Z"
      },
      {
        "duration": 28,
        "start_time": "2022-06-04T16:48:21.713Z"
      },
      {
        "duration": 28,
        "start_time": "2022-06-04T16:48:39.000Z"
      },
      {
        "duration": 29,
        "start_time": "2022-06-04T16:49:37.265Z"
      },
      {
        "duration": 423,
        "start_time": "2022-06-04T16:50:22.164Z"
      },
      {
        "duration": 119,
        "start_time": "2022-06-04T16:50:22.590Z"
      },
      {
        "duration": 22,
        "start_time": "2022-06-04T16:50:22.711Z"
      },
      {
        "duration": 110,
        "start_time": "2022-06-04T16:50:22.735Z"
      },
      {
        "duration": 29,
        "start_time": "2022-06-04T16:50:31.201Z"
      },
      {
        "duration": 31,
        "start_time": "2022-06-04T16:52:05.744Z"
      },
      {
        "duration": 20,
        "start_time": "2022-06-04T16:52:45.908Z"
      },
      {
        "duration": 28,
        "start_time": "2022-06-04T16:53:15.665Z"
      },
      {
        "duration": 19,
        "start_time": "2022-06-04T16:55:11.396Z"
      },
      {
        "duration": 25,
        "start_time": "2022-06-04T16:55:23.967Z"
      },
      {
        "duration": 28,
        "start_time": "2022-06-04T17:03:22.768Z"
      },
      {
        "duration": 15,
        "start_time": "2022-06-04T17:04:56.104Z"
      },
      {
        "duration": 19,
        "start_time": "2022-06-04T17:09:43.796Z"
      },
      {
        "duration": 14,
        "start_time": "2022-06-04T17:10:04.357Z"
      },
      {
        "duration": 16,
        "start_time": "2022-06-04T17:10:27.629Z"
      },
      {
        "duration": 21,
        "start_time": "2022-06-04T17:17:19.108Z"
      },
      {
        "duration": 558,
        "start_time": "2022-06-04T17:18:14.557Z"
      },
      {
        "duration": 18,
        "start_time": "2022-06-04T17:19:40.551Z"
      },
      {
        "duration": 324,
        "start_time": "2022-06-04T17:20:54.519Z"
      },
      {
        "duration": 4,
        "start_time": "2022-06-04T17:21:46.125Z"
      },
      {
        "duration": 320,
        "start_time": "2022-06-04T17:22:14.356Z"
      },
      {
        "duration": 195,
        "start_time": "2022-06-04T17:23:09.720Z"
      },
      {
        "duration": 192,
        "start_time": "2022-06-04T17:24:29.616Z"
      },
      {
        "duration": 190,
        "start_time": "2022-06-04T17:24:43.336Z"
      },
      {
        "duration": 189,
        "start_time": "2022-06-04T17:25:49.038Z"
      },
      {
        "duration": 188,
        "start_time": "2022-06-04T17:26:30.143Z"
      },
      {
        "duration": 176,
        "start_time": "2022-06-04T17:27:14.000Z"
      },
      {
        "duration": 185,
        "start_time": "2022-06-04T17:29:24.921Z"
      },
      {
        "duration": 18,
        "start_time": "2022-06-04T17:33:00.556Z"
      },
      {
        "duration": 25,
        "start_time": "2022-06-04T17:33:21.233Z"
      },
      {
        "duration": 111,
        "start_time": "2022-06-04T17:33:37.852Z"
      },
      {
        "duration": 28,
        "start_time": "2022-06-04T17:34:09.024Z"
      },
      {
        "duration": 39,
        "start_time": "2022-06-04T17:34:42.304Z"
      },
      {
        "duration": 36,
        "start_time": "2022-06-04T17:34:57.035Z"
      },
      {
        "duration": 372,
        "start_time": "2022-06-04T17:35:03.096Z"
      },
      {
        "duration": 111,
        "start_time": "2022-06-04T17:35:03.470Z"
      },
      {
        "duration": 21,
        "start_time": "2022-06-04T17:35:03.582Z"
      },
      {
        "duration": 37,
        "start_time": "2022-06-04T17:35:03.604Z"
      },
      {
        "duration": 14,
        "start_time": "2022-06-04T17:35:03.652Z"
      },
      {
        "duration": 14,
        "start_time": "2022-06-04T17:35:03.667Z"
      },
      {
        "duration": 462,
        "start_time": "2022-06-04T17:35:03.683Z"
      },
      {
        "duration": 200,
        "start_time": "2022-06-04T17:35:04.152Z"
      },
      {
        "duration": 188,
        "start_time": "2022-06-04T17:35:04.353Z"
      },
      {
        "duration": 193,
        "start_time": "2022-06-04T17:35:04.543Z"
      },
      {
        "duration": 189,
        "start_time": "2022-06-04T17:35:04.738Z"
      },
      {
        "duration": 184,
        "start_time": "2022-06-04T17:35:04.929Z"
      },
      {
        "duration": 58,
        "start_time": "2022-06-04T17:35:05.115Z"
      },
      {
        "duration": 40,
        "start_time": "2022-06-04T17:38:19.225Z"
      },
      {
        "duration": 77,
        "start_time": "2022-06-04T17:40:29.761Z"
      },
      {
        "duration": 15,
        "start_time": "2022-06-04T17:40:52.300Z"
      },
      {
        "duration": 22,
        "start_time": "2022-06-04T17:41:26.617Z"
      },
      {
        "duration": 13,
        "start_time": "2022-06-04T17:41:43.581Z"
      },
      {
        "duration": 19,
        "start_time": "2022-06-04T17:43:07.392Z"
      },
      {
        "duration": 18,
        "start_time": "2022-06-04T17:43:27.323Z"
      },
      {
        "duration": 540,
        "start_time": "2022-06-04T17:44:05.933Z"
      },
      {
        "duration": 14,
        "start_time": "2022-06-04T17:45:03.405Z"
      },
      {
        "duration": 14,
        "start_time": "2022-06-04T17:47:44.597Z"
      },
      {
        "duration": 219,
        "start_time": "2022-06-04T17:48:17.738Z"
      },
      {
        "duration": 129,
        "start_time": "2022-06-04T17:49:33.319Z"
      },
      {
        "duration": 143,
        "start_time": "2022-06-04T17:50:08.051Z"
      },
      {
        "duration": 134,
        "start_time": "2022-06-04T17:50:34.548Z"
      },
      {
        "duration": 135,
        "start_time": "2022-06-04T17:51:05.038Z"
      },
      {
        "duration": 152,
        "start_time": "2022-06-04T17:51:46.167Z"
      },
      {
        "duration": 133,
        "start_time": "2022-06-04T17:51:58.605Z"
      },
      {
        "duration": 668,
        "start_time": "2022-06-04T18:17:48.929Z"
      },
      {
        "duration": 142,
        "start_time": "2022-06-04T18:17:49.599Z"
      },
      {
        "duration": 34,
        "start_time": "2022-06-04T18:17:49.743Z"
      },
      {
        "duration": 45,
        "start_time": "2022-06-04T18:17:49.780Z"
      },
      {
        "duration": 45,
        "start_time": "2022-06-04T18:17:49.828Z"
      },
      {
        "duration": 18,
        "start_time": "2022-06-04T18:17:49.875Z"
      },
      {
        "duration": 269,
        "start_time": "2022-06-04T18:17:49.895Z"
      },
      {
        "duration": 230,
        "start_time": "2022-06-04T18:17:50.166Z"
      },
      {
        "duration": 240,
        "start_time": "2022-06-04T18:17:50.398Z"
      },
      {
        "duration": 247,
        "start_time": "2022-06-04T18:17:50.640Z"
      },
      {
        "duration": 200,
        "start_time": "2022-06-04T18:17:50.889Z"
      },
      {
        "duration": 218,
        "start_time": "2022-06-04T18:17:51.092Z"
      },
      {
        "duration": 65,
        "start_time": "2022-06-04T18:17:51.312Z"
      },
      {
        "duration": 16,
        "start_time": "2022-06-04T18:17:51.380Z"
      },
      {
        "duration": 148,
        "start_time": "2022-06-04T18:17:51.398Z"
      },
      {
        "duration": 178,
        "start_time": "2022-06-04T18:17:51.552Z"
      },
      {
        "duration": 215,
        "start_time": "2022-06-04T18:17:51.732Z"
      },
      {
        "duration": 178,
        "start_time": "2022-06-04T18:17:51.949Z"
      },
      {
        "duration": 168,
        "start_time": "2022-06-04T18:17:52.130Z"
      },
      {
        "duration": 213,
        "start_time": "2022-06-04T18:17:52.299Z"
      },
      {
        "duration": 175,
        "start_time": "2022-06-04T18:17:52.514Z"
      },
      {
        "duration": 142,
        "start_time": "2022-06-04T18:18:17.494Z"
      },
      {
        "duration": 162,
        "start_time": "2022-06-04T18:18:35.230Z"
      },
      {
        "duration": 166,
        "start_time": "2022-06-04T18:18:54.406Z"
      },
      {
        "duration": 148,
        "start_time": "2022-06-04T18:19:17.294Z"
      },
      {
        "duration": 147,
        "start_time": "2022-06-04T18:19:30.667Z"
      },
      {
        "duration": 136,
        "start_time": "2022-06-04T18:19:42.898Z"
      },
      {
        "duration": 160,
        "start_time": "2022-06-04T18:19:56.605Z"
      },
      {
        "duration": 652,
        "start_time": "2022-06-04T18:44:39.293Z"
      },
      {
        "duration": 122,
        "start_time": "2022-06-04T18:44:39.946Z"
      },
      {
        "duration": 21,
        "start_time": "2022-06-04T18:44:40.071Z"
      },
      {
        "duration": 42,
        "start_time": "2022-06-04T18:44:40.094Z"
      },
      {
        "duration": 41,
        "start_time": "2022-06-04T18:44:40.138Z"
      },
      {
        "duration": 21,
        "start_time": "2022-06-04T18:44:40.182Z"
      },
      {
        "duration": 220,
        "start_time": "2022-06-04T18:44:40.204Z"
      },
      {
        "duration": 202,
        "start_time": "2022-06-04T18:44:40.426Z"
      },
      {
        "duration": 201,
        "start_time": "2022-06-04T18:44:40.630Z"
      },
      {
        "duration": 204,
        "start_time": "2022-06-04T18:44:40.833Z"
      },
      {
        "duration": 190,
        "start_time": "2022-06-04T18:44:41.038Z"
      },
      {
        "duration": 179,
        "start_time": "2022-06-04T18:44:41.229Z"
      },
      {
        "duration": 54,
        "start_time": "2022-06-04T18:44:41.409Z"
      },
      {
        "duration": 14,
        "start_time": "2022-06-04T18:44:41.470Z"
      },
      {
        "duration": 142,
        "start_time": "2022-06-04T18:44:41.487Z"
      },
      {
        "duration": 153,
        "start_time": "2022-06-04T18:44:41.631Z"
      },
      {
        "duration": 214,
        "start_time": "2022-06-04T18:44:41.786Z"
      },
      {
        "duration": 171,
        "start_time": "2022-06-04T18:44:42.001Z"
      },
      {
        "duration": 140,
        "start_time": "2022-06-04T18:44:42.175Z"
      },
      {
        "duration": 147,
        "start_time": "2022-06-04T18:44:42.317Z"
      },
      {
        "duration": 158,
        "start_time": "2022-06-04T18:44:42.465Z"
      },
      {
        "duration": 104,
        "start_time": "2022-06-04T18:45:51.793Z"
      },
      {
        "duration": 205,
        "start_time": "2022-06-04T18:48:22.629Z"
      },
      {
        "duration": 108,
        "start_time": "2022-06-04T18:48:38.885Z"
      },
      {
        "duration": 24,
        "start_time": "2022-06-04T18:49:09.243Z"
      },
      {
        "duration": 118,
        "start_time": "2022-06-04T18:49:18.547Z"
      },
      {
        "duration": 24,
        "start_time": "2022-06-04T18:50:02.962Z"
      },
      {
        "duration": 14,
        "start_time": "2022-06-04T18:50:14.184Z"
      },
      {
        "duration": 110,
        "start_time": "2022-06-04T18:50:49.894Z"
      },
      {
        "duration": 18,
        "start_time": "2022-06-04T18:51:04.292Z"
      },
      {
        "duration": 163,
        "start_time": "2022-06-04T18:58:31.602Z"
      },
      {
        "duration": 10,
        "start_time": "2022-06-04T19:00:25.876Z"
      },
      {
        "duration": 156,
        "start_time": "2022-06-04T19:01:29.505Z"
      },
      {
        "duration": 10,
        "start_time": "2022-06-04T19:01:56.998Z"
      },
      {
        "duration": 9,
        "start_time": "2022-06-04T19:02:13.696Z"
      },
      {
        "duration": 162,
        "start_time": "2022-06-04T19:03:24.499Z"
      },
      {
        "duration": 11,
        "start_time": "2022-06-04T19:03:44.602Z"
      },
      {
        "duration": 16,
        "start_time": "2022-06-04T19:04:20.549Z"
      },
      {
        "duration": 9,
        "start_time": "2022-06-04T19:05:08.383Z"
      },
      {
        "duration": 273,
        "start_time": "2022-06-04T19:05:12.433Z"
      },
      {
        "duration": 9,
        "start_time": "2022-06-04T19:05:28.703Z"
      },
      {
        "duration": 9,
        "start_time": "2022-06-04T19:05:46.764Z"
      },
      {
        "duration": 8,
        "start_time": "2022-06-04T19:09:45.738Z"
      },
      {
        "duration": 14,
        "start_time": "2022-06-04T19:09:54.394Z"
      },
      {
        "duration": 14,
        "start_time": "2022-06-04T19:10:34.693Z"
      },
      {
        "duration": 13,
        "start_time": "2022-06-04T21:35:56.546Z"
      },
      {
        "duration": 13,
        "start_time": "2022-06-04T21:36:23.359Z"
      },
      {
        "duration": 33,
        "start_time": "2022-06-04T21:37:23.204Z"
      },
      {
        "duration": 16,
        "start_time": "2022-06-04T21:37:29.888Z"
      },
      {
        "duration": 20,
        "start_time": "2022-06-04T21:37:51.396Z"
      },
      {
        "duration": 15,
        "start_time": "2022-06-04T21:38:14.789Z"
      },
      {
        "duration": 16,
        "start_time": "2022-06-04T21:38:31.849Z"
      },
      {
        "duration": 254,
        "start_time": "2022-06-04T21:38:40.946Z"
      },
      {
        "duration": 161,
        "start_time": "2022-06-04T21:39:02.188Z"
      },
      {
        "duration": 13,
        "start_time": "2022-06-04T21:39:36.807Z"
      },
      {
        "duration": 15,
        "start_time": "2022-06-04T21:40:00.030Z"
      },
      {
        "duration": 13,
        "start_time": "2022-06-04T21:41:38.475Z"
      },
      {
        "duration": 18,
        "start_time": "2022-06-04T21:42:41.849Z"
      },
      {
        "duration": 21,
        "start_time": "2022-06-04T21:42:56.790Z"
      },
      {
        "duration": 15,
        "start_time": "2022-06-04T21:45:21.950Z"
      },
      {
        "duration": 12,
        "start_time": "2022-06-04T21:45:41.730Z"
      },
      {
        "duration": 14,
        "start_time": "2022-06-04T21:46:58.891Z"
      },
      {
        "duration": 13,
        "start_time": "2022-06-04T21:49:09.563Z"
      },
      {
        "duration": 13,
        "start_time": "2022-06-04T21:49:34.605Z"
      },
      {
        "duration": 13,
        "start_time": "2022-06-04T21:50:06.277Z"
      },
      {
        "duration": 19,
        "start_time": "2022-06-04T21:54:17.626Z"
      },
      {
        "duration": 18,
        "start_time": "2022-06-04T21:55:03.831Z"
      },
      {
        "duration": 42,
        "start_time": "2022-06-04T21:56:36.828Z"
      },
      {
        "duration": 8,
        "start_time": "2022-06-04T21:56:44.848Z"
      },
      {
        "duration": 17,
        "start_time": "2022-06-04T21:57:47.651Z"
      },
      {
        "duration": 19,
        "start_time": "2022-06-04T22:00:36.205Z"
      },
      {
        "duration": 19,
        "start_time": "2022-06-04T22:01:17.658Z"
      },
      {
        "duration": 17,
        "start_time": "2022-06-04T22:01:44.535Z"
      },
      {
        "duration": 19,
        "start_time": "2022-06-04T22:01:51.531Z"
      },
      {
        "duration": 17,
        "start_time": "2022-06-04T22:01:59.474Z"
      },
      {
        "duration": 18,
        "start_time": "2022-06-04T22:02:06.491Z"
      },
      {
        "duration": 17,
        "start_time": "2022-06-04T22:02:12.220Z"
      },
      {
        "duration": 935,
        "start_time": "2022-06-05T13:36:42.193Z"
      },
      {
        "duration": 300,
        "start_time": "2022-06-05T13:36:43.130Z"
      },
      {
        "duration": 35,
        "start_time": "2022-06-05T13:36:43.438Z"
      },
      {
        "duration": 57,
        "start_time": "2022-06-05T13:36:43.475Z"
      },
      {
        "duration": 34,
        "start_time": "2022-06-05T13:36:43.537Z"
      },
      {
        "duration": 16,
        "start_time": "2022-06-05T13:36:43.573Z"
      },
      {
        "duration": 254,
        "start_time": "2022-06-05T13:36:43.590Z"
      },
      {
        "duration": 259,
        "start_time": "2022-06-05T13:36:43.849Z"
      },
      {
        "duration": 269,
        "start_time": "2022-06-05T13:36:44.110Z"
      },
      {
        "duration": 237,
        "start_time": "2022-06-05T13:36:44.383Z"
      },
      {
        "duration": 278,
        "start_time": "2022-06-05T13:36:44.622Z"
      },
      {
        "duration": 282,
        "start_time": "2022-06-05T13:36:44.904Z"
      },
      {
        "duration": 75,
        "start_time": "2022-06-05T13:36:45.188Z"
      },
      {
        "duration": 19,
        "start_time": "2022-06-05T13:36:45.266Z"
      },
      {
        "duration": 180,
        "start_time": "2022-06-05T13:36:45.287Z"
      },
      {
        "duration": 19,
        "start_time": "2022-06-05T13:36:45.469Z"
      },
      {
        "duration": 268,
        "start_time": "2022-06-05T13:36:45.490Z"
      },
      {
        "duration": 156,
        "start_time": "2022-06-05T13:36:45.762Z"
      },
      {
        "duration": 182,
        "start_time": "2022-06-05T13:36:45.920Z"
      },
      {
        "duration": 177,
        "start_time": "2022-06-05T13:36:46.104Z"
      },
      {
        "duration": 204,
        "start_time": "2022-06-05T13:36:46.283Z"
      },
      {
        "duration": 178,
        "start_time": "2022-06-05T13:36:46.489Z"
      },
      {
        "duration": 148,
        "start_time": "2022-06-05T13:36:46.668Z"
      },
      {
        "duration": 198,
        "start_time": "2022-06-05T13:36:46.825Z"
      },
      {
        "duration": 26,
        "start_time": "2022-06-05T13:36:47.024Z"
      },
      {
        "duration": 188,
        "start_time": "2022-06-05T13:36:47.052Z"
      },
      {
        "duration": 15,
        "start_time": "2022-06-05T13:36:47.243Z"
      },
      {
        "duration": 207,
        "start_time": "2022-06-05T13:36:47.262Z"
      },
      {
        "duration": 9,
        "start_time": "2022-06-05T13:36:47.470Z"
      },
      {
        "duration": 196,
        "start_time": "2022-06-05T13:36:47.480Z"
      },
      {
        "duration": 9,
        "start_time": "2022-06-05T13:36:47.677Z"
      },
      {
        "duration": 13,
        "start_time": "2022-06-05T13:36:47.688Z"
      },
      {
        "duration": 52,
        "start_time": "2022-06-05T13:36:47.702Z"
      },
      {
        "duration": 19,
        "start_time": "2022-06-05T13:36:47.757Z"
      },
      {
        "duration": 71,
        "start_time": "2022-06-05T13:36:47.778Z"
      },
      {
        "duration": 20,
        "start_time": "2022-06-05T13:36:47.856Z"
      },
      {
        "duration": 20,
        "start_time": "2022-06-05T13:36:47.878Z"
      },
      {
        "duration": 21,
        "start_time": "2022-06-05T13:36:47.899Z"
      },
      {
        "duration": 37,
        "start_time": "2022-06-05T13:36:47.925Z"
      },
      {
        "duration": 29,
        "start_time": "2022-06-05T13:36:47.964Z"
      },
      {
        "duration": 50,
        "start_time": "2022-06-05T13:36:47.995Z"
      },
      {
        "duration": 588,
        "start_time": "2022-06-05T13:42:17.774Z"
      },
      {
        "duration": 216,
        "start_time": "2022-06-05T13:46:27.545Z"
      },
      {
        "duration": 27,
        "start_time": "2022-06-05T13:46:45.385Z"
      },
      {
        "duration": 18,
        "start_time": "2022-06-05T13:46:54.073Z"
      },
      {
        "duration": 20,
        "start_time": "2022-06-05T13:47:44.274Z"
      },
      {
        "duration": 32,
        "start_time": "2022-06-05T13:50:47.259Z"
      },
      {
        "duration": 12,
        "start_time": "2022-06-05T13:51:00.374Z"
      },
      {
        "duration": 15,
        "start_time": "2022-06-05T13:51:30.246Z"
      },
      {
        "duration": 12,
        "start_time": "2022-06-05T13:55:26.670Z"
      },
      {
        "duration": 83,
        "start_time": "2022-06-05T13:55:47.725Z"
      },
      {
        "duration": 14,
        "start_time": "2022-06-05T13:55:57.496Z"
      },
      {
        "duration": 14,
        "start_time": "2022-06-05T13:57:44.676Z"
      },
      {
        "duration": 158,
        "start_time": "2022-06-05T14:02:16.876Z"
      },
      {
        "duration": 101,
        "start_time": "2022-06-05T14:02:37.825Z"
      },
      {
        "duration": 25,
        "start_time": "2022-06-05T14:04:45.087Z"
      },
      {
        "duration": 1131,
        "start_time": "2022-06-05T14:04:56.386Z"
      },
      {
        "duration": 118,
        "start_time": "2022-06-05T14:04:57.519Z"
      },
      {
        "duration": 31,
        "start_time": "2022-06-05T14:04:57.639Z"
      },
      {
        "duration": 61,
        "start_time": "2022-06-05T14:04:57.672Z"
      },
      {
        "duration": 15,
        "start_time": "2022-06-05T14:04:57.735Z"
      },
      {
        "duration": 18,
        "start_time": "2022-06-05T14:04:57.752Z"
      },
      {
        "duration": 251,
        "start_time": "2022-06-05T14:04:57.771Z"
      },
      {
        "duration": 237,
        "start_time": "2022-06-05T14:04:58.024Z"
      },
      {
        "duration": 284,
        "start_time": "2022-06-05T14:04:58.263Z"
      },
      {
        "duration": 201,
        "start_time": "2022-06-05T14:04:58.549Z"
      },
      {
        "duration": 198,
        "start_time": "2022-06-05T14:04:58.751Z"
      },
      {
        "duration": 207,
        "start_time": "2022-06-05T14:04:58.951Z"
      },
      {
        "duration": 41,
        "start_time": "2022-06-05T14:04:59.160Z"
      },
      {
        "duration": 31,
        "start_time": "2022-06-05T14:04:59.203Z"
      },
      {
        "duration": 121,
        "start_time": "2022-06-05T14:04:59.235Z"
      },
      {
        "duration": 18,
        "start_time": "2022-06-05T14:04:59.357Z"
      },
      {
        "duration": 162,
        "start_time": "2022-06-05T14:04:59.377Z"
      },
      {
        "duration": 151,
        "start_time": "2022-06-05T14:04:59.541Z"
      },
      {
        "duration": 165,
        "start_time": "2022-06-05T14:04:59.694Z"
      },
      {
        "duration": 184,
        "start_time": "2022-06-05T14:04:59.861Z"
      },
      {
        "duration": 168,
        "start_time": "2022-06-05T14:05:00.047Z"
      },
      {
        "duration": 163,
        "start_time": "2022-06-05T14:05:00.217Z"
      },
      {
        "duration": 158,
        "start_time": "2022-06-05T14:05:00.382Z"
      },
      {
        "duration": 246,
        "start_time": "2022-06-05T14:05:00.542Z"
      },
      {
        "duration": 11,
        "start_time": "2022-06-05T14:05:00.789Z"
      },
      {
        "duration": 172,
        "start_time": "2022-06-05T14:05:00.801Z"
      },
      {
        "duration": 11,
        "start_time": "2022-06-05T14:05:00.975Z"
      },
      {
        "duration": 190,
        "start_time": "2022-06-05T14:05:00.988Z"
      },
      {
        "duration": 11,
        "start_time": "2022-06-05T14:05:01.180Z"
      },
      {
        "duration": 191,
        "start_time": "2022-06-05T14:05:01.192Z"
      },
      {
        "duration": 10,
        "start_time": "2022-06-05T14:05:01.385Z"
      },
      {
        "duration": 34,
        "start_time": "2022-06-05T14:05:01.397Z"
      },
      {
        "duration": 60,
        "start_time": "2022-06-05T14:05:01.433Z"
      },
      {
        "duration": 36,
        "start_time": "2022-06-05T14:05:01.495Z"
      },
      {
        "duration": 30,
        "start_time": "2022-06-05T14:05:01.534Z"
      },
      {
        "duration": 31,
        "start_time": "2022-06-05T14:05:01.566Z"
      },
      {
        "duration": 40,
        "start_time": "2022-06-05T14:05:01.599Z"
      },
      {
        "duration": 23,
        "start_time": "2022-06-05T14:05:01.641Z"
      },
      {
        "duration": 25,
        "start_time": "2022-06-05T14:05:01.666Z"
      },
      {
        "duration": 46,
        "start_time": "2022-06-05T14:05:01.693Z"
      },
      {
        "duration": 28,
        "start_time": "2022-06-05T14:05:01.743Z"
      },
      {
        "duration": 11,
        "start_time": "2022-06-05T14:05:01.773Z"
      },
      {
        "duration": 22,
        "start_time": "2022-06-05T14:05:01.787Z"
      },
      {
        "duration": 47,
        "start_time": "2022-06-05T14:12:24.408Z"
      },
      {
        "duration": 13,
        "start_time": "2022-06-05T14:17:48.543Z"
      },
      {
        "duration": 50,
        "start_time": "2022-06-05T14:28:58.914Z"
      },
      {
        "duration": 14,
        "start_time": "2022-06-05T14:29:18.893Z"
      },
      {
        "duration": 35,
        "start_time": "2022-06-05T14:29:22.316Z"
      },
      {
        "duration": 276,
        "start_time": "2022-06-05T15:11:56.207Z"
      },
      {
        "duration": 278,
        "start_time": "2022-06-05T15:13:46.297Z"
      },
      {
        "duration": 270,
        "start_time": "2022-06-05T15:15:19.672Z"
      },
      {
        "duration": 286,
        "start_time": "2022-06-05T15:18:09.503Z"
      },
      {
        "duration": 330,
        "start_time": "2022-06-05T15:18:25.791Z"
      },
      {
        "duration": 303,
        "start_time": "2022-06-05T15:19:19.251Z"
      },
      {
        "duration": 313,
        "start_time": "2022-06-05T15:19:45.242Z"
      },
      {
        "duration": 324,
        "start_time": "2022-06-05T15:20:15.148Z"
      },
      {
        "duration": 48,
        "start_time": "2022-06-05T15:25:03.263Z"
      },
      {
        "duration": 27,
        "start_time": "2022-06-05T15:25:11.449Z"
      },
      {
        "duration": 136,
        "start_time": "2022-06-05T15:25:24.258Z"
      },
      {
        "duration": 24,
        "start_time": "2022-06-05T15:25:38.176Z"
      },
      {
        "duration": 341,
        "start_time": "2022-06-05T15:25:45.518Z"
      },
      {
        "duration": 243,
        "start_time": "2022-06-05T15:25:56.225Z"
      },
      {
        "duration": 252,
        "start_time": "2022-06-05T15:26:01.720Z"
      },
      {
        "duration": 197,
        "start_time": "2022-06-05T15:26:06.162Z"
      },
      {
        "duration": 184,
        "start_time": "2022-06-05T15:26:10.769Z"
      },
      {
        "duration": 152,
        "start_time": "2022-06-05T15:26:18.360Z"
      },
      {
        "duration": 287,
        "start_time": "2022-06-05T15:26:24.808Z"
      },
      {
        "duration": 43,
        "start_time": "2022-06-05T15:28:32.959Z"
      },
      {
        "duration": 14,
        "start_time": "2022-06-05T15:28:37.209Z"
      },
      {
        "duration": 143,
        "start_time": "2022-06-05T15:28:45.860Z"
      },
      {
        "duration": 18,
        "start_time": "2022-06-05T15:28:49.395Z"
      },
      {
        "duration": 187,
        "start_time": "2022-06-05T15:28:52.363Z"
      },
      {
        "duration": 173,
        "start_time": "2022-06-05T15:28:56.294Z"
      },
      {
        "duration": 174,
        "start_time": "2022-06-05T15:28:59.629Z"
      },
      {
        "duration": 211,
        "start_time": "2022-06-05T15:29:05.799Z"
      },
      {
        "duration": 191,
        "start_time": "2022-06-05T15:29:09.355Z"
      },
      {
        "duration": 178,
        "start_time": "2022-06-05T15:29:14.715Z"
      },
      {
        "duration": 185,
        "start_time": "2022-06-05T15:29:21.602Z"
      },
      {
        "duration": 58,
        "start_time": "2022-06-05T15:31:36.365Z"
      },
      {
        "duration": 163,
        "start_time": "2022-06-05T15:42:55.401Z"
      },
      {
        "duration": 156,
        "start_time": "2022-06-05T15:43:42.455Z"
      },
      {
        "duration": 160,
        "start_time": "2022-06-05T15:43:51.258Z"
      },
      {
        "duration": 239,
        "start_time": "2022-06-05T15:52:20.118Z"
      },
      {
        "duration": 295,
        "start_time": "2022-06-05T15:53:39.694Z"
      },
      {
        "duration": 175,
        "start_time": "2022-06-05T15:53:57.539Z"
      },
      {
        "duration": 171,
        "start_time": "2022-06-05T15:54:08.096Z"
      },
      {
        "duration": 225,
        "start_time": "2022-06-05T15:55:04.906Z"
      },
      {
        "duration": 211,
        "start_time": "2022-06-05T15:55:29.246Z"
      },
      {
        "duration": 176,
        "start_time": "2022-06-05T15:55:55.888Z"
      },
      {
        "duration": 224,
        "start_time": "2022-06-05T15:56:24.611Z"
      },
      {
        "duration": 175,
        "start_time": "2022-06-05T15:58:07.654Z"
      },
      {
        "duration": 171,
        "start_time": "2022-06-05T15:58:33.194Z"
      },
      {
        "duration": 176,
        "start_time": "2022-06-05T15:59:23.742Z"
      },
      {
        "duration": 193,
        "start_time": "2022-06-05T16:07:49.595Z"
      },
      {
        "duration": 181,
        "start_time": "2022-06-05T16:09:19.912Z"
      },
      {
        "duration": 174,
        "start_time": "2022-06-05T16:09:30.254Z"
      },
      {
        "duration": 175,
        "start_time": "2022-06-05T16:11:14.349Z"
      },
      {
        "duration": 173,
        "start_time": "2022-06-05T16:13:46.687Z"
      },
      {
        "duration": 237,
        "start_time": "2022-06-05T16:14:44.344Z"
      },
      {
        "duration": 193,
        "start_time": "2022-06-05T16:14:56.282Z"
      },
      {
        "duration": 170,
        "start_time": "2022-06-05T16:15:42.648Z"
      },
      {
        "duration": 14,
        "start_time": "2022-06-05T16:16:30.806Z"
      },
      {
        "duration": 11,
        "start_time": "2022-06-05T16:16:44.165Z"
      },
      {
        "duration": 196,
        "start_time": "2022-06-05T16:18:41.749Z"
      },
      {
        "duration": 27,
        "start_time": "2022-06-05T16:20:11.351Z"
      },
      {
        "duration": 21,
        "start_time": "2022-06-05T16:29:51.325Z"
      },
      {
        "duration": 19,
        "start_time": "2022-06-05T16:29:58.389Z"
      },
      {
        "duration": 23,
        "start_time": "2022-06-05T16:30:08.131Z"
      },
      {
        "duration": 21,
        "start_time": "2022-06-05T16:39:37.133Z"
      },
      {
        "duration": 19,
        "start_time": "2022-06-05T16:50:19.892Z"
      },
      {
        "duration": 19,
        "start_time": "2022-06-05T16:52:42.349Z"
      },
      {
        "duration": 22,
        "start_time": "2022-06-05T16:53:04.001Z"
      },
      {
        "duration": 21,
        "start_time": "2022-06-05T16:53:30.052Z"
      },
      {
        "duration": 19,
        "start_time": "2022-06-05T16:59:02.595Z"
      },
      {
        "duration": 19,
        "start_time": "2022-06-05T16:59:32.651Z"
      },
      {
        "duration": 21,
        "start_time": "2022-06-05T16:59:56.742Z"
      },
      {
        "duration": 36,
        "start_time": "2022-06-05T17:15:38.824Z"
      },
      {
        "duration": 33,
        "start_time": "2022-06-05T17:16:41.878Z"
      },
      {
        "duration": 35,
        "start_time": "2022-06-05T17:17:34.253Z"
      },
      {
        "duration": 35,
        "start_time": "2022-06-05T17:18:46.225Z"
      },
      {
        "duration": 34,
        "start_time": "2022-06-05T17:19:34.225Z"
      },
      {
        "duration": 7,
        "start_time": "2022-06-05T17:20:24.338Z"
      },
      {
        "duration": 1194,
        "start_time": "2022-06-05T17:45:11.466Z"
      },
      {
        "duration": 116,
        "start_time": "2022-06-05T17:45:12.663Z"
      },
      {
        "duration": 27,
        "start_time": "2022-06-05T17:45:12.781Z"
      },
      {
        "duration": 25,
        "start_time": "2022-06-05T17:45:12.825Z"
      },
      {
        "duration": 15,
        "start_time": "2022-06-05T17:45:12.852Z"
      },
      {
        "duration": 17,
        "start_time": "2022-06-05T17:45:12.869Z"
      },
      {
        "duration": 46,
        "start_time": "2022-06-05T17:45:12.888Z"
      },
      {
        "duration": 269,
        "start_time": "2022-06-05T17:45:12.936Z"
      },
      {
        "duration": 261,
        "start_time": "2022-06-05T17:45:13.207Z"
      },
      {
        "duration": 329,
        "start_time": "2022-06-05T17:45:13.471Z"
      },
      {
        "duration": 223,
        "start_time": "2022-06-05T17:45:13.802Z"
      },
      {
        "duration": 216,
        "start_time": "2022-06-05T17:45:14.027Z"
      },
      {
        "duration": 228,
        "start_time": "2022-06-05T17:45:14.244Z"
      },
      {
        "duration": 78,
        "start_time": "2022-06-05T17:45:14.475Z"
      },
      {
        "duration": 16,
        "start_time": "2022-06-05T17:45:14.554Z"
      },
      {
        "duration": 179,
        "start_time": "2022-06-05T17:45:14.572Z"
      },
      {
        "duration": 28,
        "start_time": "2022-06-05T17:45:14.753Z"
      },
      {
        "duration": 214,
        "start_time": "2022-06-05T17:45:14.785Z"
      },
      {
        "duration": 185,
        "start_time": "2022-06-05T17:45:15.001Z"
      },
      {
        "duration": 162,
        "start_time": "2022-06-05T17:45:15.188Z"
      },
      {
        "duration": 179,
        "start_time": "2022-06-05T17:45:15.351Z"
      },
      {
        "duration": 201,
        "start_time": "2022-06-05T17:45:15.531Z"
      },
      {
        "duration": 173,
        "start_time": "2022-06-05T17:45:15.734Z"
      },
      {
        "duration": 168,
        "start_time": "2022-06-05T17:45:15.909Z"
      },
      {
        "duration": 274,
        "start_time": "2022-06-05T17:45:16.079Z"
      },
      {
        "duration": 184,
        "start_time": "2022-06-05T17:45:16.355Z"
      },
      {
        "duration": 193,
        "start_time": "2022-06-05T17:45:16.542Z"
      },
      {
        "duration": 191,
        "start_time": "2022-06-05T17:45:16.739Z"
      },
      {
        "duration": 10,
        "start_time": "2022-06-05T17:45:16.931Z"
      },
      {
        "duration": 199,
        "start_time": "2022-06-05T17:45:16.943Z"
      },
      {
        "duration": 10,
        "start_time": "2022-06-05T17:45:17.145Z"
      },
      {
        "duration": 182,
        "start_time": "2022-06-05T17:45:17.157Z"
      },
      {
        "duration": 12,
        "start_time": "2022-06-05T17:45:17.341Z"
      },
      {
        "duration": 206,
        "start_time": "2022-06-05T17:45:17.355Z"
      },
      {
        "duration": 12,
        "start_time": "2022-06-05T17:45:17.563Z"
      },
      {
        "duration": 32,
        "start_time": "2022-06-05T17:45:17.578Z"
      },
      {
        "duration": 27,
        "start_time": "2022-06-05T17:45:17.626Z"
      },
      {
        "duration": 22,
        "start_time": "2022-06-05T17:45:17.655Z"
      },
      {
        "duration": 49,
        "start_time": "2022-06-05T17:45:17.678Z"
      },
      {
        "duration": 23,
        "start_time": "2022-06-05T17:45:17.728Z"
      },
      {
        "duration": 23,
        "start_time": "2022-06-05T17:45:17.752Z"
      },
      {
        "duration": 49,
        "start_time": "2022-06-05T17:45:17.777Z"
      },
      {
        "duration": 22,
        "start_time": "2022-06-05T17:45:17.828Z"
      },
      {
        "duration": 25,
        "start_time": "2022-06-05T17:45:17.852Z"
      },
      {
        "duration": 59,
        "start_time": "2022-06-05T17:45:17.879Z"
      },
      {
        "duration": 35,
        "start_time": "2022-06-05T17:45:17.941Z"
      },
      {
        "duration": 68,
        "start_time": "2022-06-05T17:45:17.978Z"
      },
      {
        "duration": 9,
        "start_time": "2022-06-05T17:45:18.049Z"
      },
      {
        "duration": 67,
        "start_time": "2022-06-05T17:45:18.059Z"
      },
      {
        "duration": 35,
        "start_time": "2022-06-05T17:45:18.128Z"
      },
      {
        "duration": 6,
        "start_time": "2022-06-05T17:45:18.165Z"
      },
      {
        "duration": 1215,
        "start_time": "2022-06-06T04:37:01.279Z"
      },
      {
        "duration": 153,
        "start_time": "2022-06-06T04:37:02.497Z"
      },
      {
        "duration": 24,
        "start_time": "2022-06-06T04:37:02.652Z"
      },
      {
        "duration": 27,
        "start_time": "2022-06-06T04:37:02.678Z"
      },
      {
        "duration": 17,
        "start_time": "2022-06-06T04:37:02.706Z"
      },
      {
        "duration": 29,
        "start_time": "2022-06-06T04:37:02.724Z"
      },
      {
        "duration": 16,
        "start_time": "2022-06-06T04:37:02.755Z"
      },
      {
        "duration": 232,
        "start_time": "2022-06-06T04:37:02.773Z"
      },
      {
        "duration": 207,
        "start_time": "2022-06-06T04:37:03.007Z"
      },
      {
        "duration": 276,
        "start_time": "2022-06-06T04:37:03.217Z"
      },
      {
        "duration": 206,
        "start_time": "2022-06-06T04:37:03.495Z"
      },
      {
        "duration": 217,
        "start_time": "2022-06-06T04:37:03.702Z"
      },
      {
        "duration": 195,
        "start_time": "2022-06-06T04:37:03.921Z"
      },
      {
        "duration": 54,
        "start_time": "2022-06-06T04:37:04.118Z"
      },
      {
        "duration": 14,
        "start_time": "2022-06-06T04:37:04.174Z"
      },
      {
        "duration": 126,
        "start_time": "2022-06-06T04:37:04.190Z"
      },
      {
        "duration": 17,
        "start_time": "2022-06-06T04:37:04.318Z"
      },
      {
        "duration": 150,
        "start_time": "2022-06-06T04:37:04.337Z"
      },
      {
        "duration": 145,
        "start_time": "2022-06-06T04:37:04.489Z"
      },
      {
        "duration": 144,
        "start_time": "2022-06-06T04:37:04.636Z"
      },
      {
        "duration": 140,
        "start_time": "2022-06-06T04:37:04.781Z"
      },
      {
        "duration": 144,
        "start_time": "2022-06-06T04:37:04.923Z"
      },
      {
        "duration": 164,
        "start_time": "2022-06-06T04:37:05.069Z"
      },
      {
        "duration": 156,
        "start_time": "2022-06-06T04:37:05.234Z"
      },
      {
        "duration": 246,
        "start_time": "2022-06-06T04:37:05.392Z"
      },
      {
        "duration": 145,
        "start_time": "2022-06-06T04:37:05.640Z"
      },
      {
        "duration": 158,
        "start_time": "2022-06-06T04:37:05.787Z"
      },
      {
        "duration": 163,
        "start_time": "2022-06-06T04:37:05.951Z"
      },
      {
        "duration": 10,
        "start_time": "2022-06-06T04:37:06.116Z"
      },
      {
        "duration": 157,
        "start_time": "2022-06-06T04:37:06.128Z"
      },
      {
        "duration": 9,
        "start_time": "2022-06-06T04:37:06.287Z"
      },
      {
        "duration": 161,
        "start_time": "2022-06-06T04:37:06.297Z"
      },
      {
        "duration": 9,
        "start_time": "2022-06-06T04:37:06.460Z"
      },
      {
        "duration": 158,
        "start_time": "2022-06-06T04:37:06.470Z"
      },
      {
        "duration": 9,
        "start_time": "2022-06-06T04:37:06.630Z"
      },
      {
        "duration": 19,
        "start_time": "2022-06-06T04:37:06.652Z"
      },
      {
        "duration": 17,
        "start_time": "2022-06-06T04:37:06.673Z"
      },
      {
        "duration": 18,
        "start_time": "2022-06-06T04:37:06.691Z"
      },
      {
        "duration": 42,
        "start_time": "2022-06-06T04:37:06.711Z"
      },
      {
        "duration": 19,
        "start_time": "2022-06-06T04:37:06.754Z"
      },
      {
        "duration": 22,
        "start_time": "2022-06-06T04:37:06.774Z"
      },
      {
        "duration": 17,
        "start_time": "2022-06-06T04:37:06.798Z"
      },
      {
        "duration": 39,
        "start_time": "2022-06-06T04:37:06.816Z"
      },
      {
        "duration": 17,
        "start_time": "2022-06-06T04:37:06.857Z"
      },
      {
        "duration": 17,
        "start_time": "2022-06-06T04:37:06.876Z"
      },
      {
        "duration": 58,
        "start_time": "2022-06-06T04:37:06.895Z"
      },
      {
        "duration": 30,
        "start_time": "2022-06-06T04:37:06.954Z"
      },
      {
        "duration": 6,
        "start_time": "2022-06-06T04:37:06.985Z"
      },
      {
        "duration": 30,
        "start_time": "2022-06-06T04:37:06.993Z"
      },
      {
        "duration": 53,
        "start_time": "2022-06-06T04:37:07.025Z"
      },
      {
        "duration": 6,
        "start_time": "2022-06-06T04:37:07.080Z"
      },
      {
        "duration": 123,
        "start_time": "2022-06-06T15:08:52.653Z"
      },
      {
        "duration": 1830,
        "start_time": "2022-06-06T15:08:58.642Z"
      },
      {
        "duration": 166,
        "start_time": "2022-06-06T15:09:00.476Z"
      },
      {
        "duration": 60,
        "start_time": "2022-06-06T15:09:00.651Z"
      },
      {
        "duration": 61,
        "start_time": "2022-06-06T15:09:00.715Z"
      },
      {
        "duration": 54,
        "start_time": "2022-06-06T15:09:00.782Z"
      },
      {
        "duration": 17,
        "start_time": "2022-06-06T15:09:00.838Z"
      },
      {
        "duration": 60,
        "start_time": "2022-06-06T15:09:00.857Z"
      },
      {
        "duration": 35,
        "start_time": "2022-06-06T15:09:00.920Z"
      },
      {
        "duration": 295,
        "start_time": "2022-06-06T15:09:00.959Z"
      },
      {
        "duration": 292,
        "start_time": "2022-06-06T15:09:01.257Z"
      },
      {
        "duration": 323,
        "start_time": "2022-06-06T15:09:01.551Z"
      },
      {
        "duration": 321,
        "start_time": "2022-06-06T15:09:01.881Z"
      },
      {
        "duration": 227,
        "start_time": "2022-06-06T15:09:02.204Z"
      },
      {
        "duration": 226,
        "start_time": "2022-06-06T15:09:02.434Z"
      },
      {
        "duration": 49,
        "start_time": "2022-06-06T15:09:02.664Z"
      },
      {
        "duration": 20,
        "start_time": "2022-06-06T15:09:02.715Z"
      },
      {
        "duration": 177,
        "start_time": "2022-06-06T15:09:02.737Z"
      },
      {
        "duration": 22,
        "start_time": "2022-06-06T15:09:02.917Z"
      },
      {
        "duration": 186,
        "start_time": "2022-06-06T15:09:02.940Z"
      },
      {
        "duration": 186,
        "start_time": "2022-06-06T15:09:03.127Z"
      },
      {
        "duration": 212,
        "start_time": "2022-06-06T15:09:03.316Z"
      },
      {
        "duration": 201,
        "start_time": "2022-06-06T15:09:03.530Z"
      },
      {
        "duration": 189,
        "start_time": "2022-06-06T15:09:03.733Z"
      },
      {
        "duration": 282,
        "start_time": "2022-06-06T15:09:03.923Z"
      },
      {
        "duration": 203,
        "start_time": "2022-06-06T15:09:04.209Z"
      },
      {
        "duration": 301,
        "start_time": "2022-06-06T15:09:04.415Z"
      },
      {
        "duration": 279,
        "start_time": "2022-06-06T15:09:04.717Z"
      },
      {
        "duration": 249,
        "start_time": "2022-06-06T15:09:05.003Z"
      },
      {
        "duration": 254,
        "start_time": "2022-06-06T15:09:05.254Z"
      },
      {
        "duration": 20,
        "start_time": "2022-06-06T15:09:05.510Z"
      },
      {
        "duration": 242,
        "start_time": "2022-06-06T15:09:05.533Z"
      },
      {
        "duration": 23,
        "start_time": "2022-06-06T15:09:05.779Z"
      },
      {
        "duration": 242,
        "start_time": "2022-06-06T15:09:05.805Z"
      },
      {
        "duration": 20,
        "start_time": "2022-06-06T15:09:06.049Z"
      },
      {
        "duration": 247,
        "start_time": "2022-06-06T15:09:06.071Z"
      },
      {
        "duration": 11,
        "start_time": "2022-06-06T15:09:06.320Z"
      },
      {
        "duration": 42,
        "start_time": "2022-06-06T15:09:06.333Z"
      },
      {
        "duration": 30,
        "start_time": "2022-06-06T15:09:06.377Z"
      },
      {
        "duration": 29,
        "start_time": "2022-06-06T15:09:06.409Z"
      },
      {
        "duration": 51,
        "start_time": "2022-06-06T15:09:06.440Z"
      },
      {
        "duration": 47,
        "start_time": "2022-06-06T15:09:06.493Z"
      },
      {
        "duration": 51,
        "start_time": "2022-06-06T15:09:06.542Z"
      },
      {
        "duration": 73,
        "start_time": "2022-06-06T15:09:06.595Z"
      },
      {
        "duration": 52,
        "start_time": "2022-06-06T15:09:06.676Z"
      },
      {
        "duration": 31,
        "start_time": "2022-06-06T15:09:06.730Z"
      },
      {
        "duration": 30,
        "start_time": "2022-06-06T15:09:06.763Z"
      },
      {
        "duration": 73,
        "start_time": "2022-06-06T15:09:06.799Z"
      },
      {
        "duration": 61,
        "start_time": "2022-06-06T15:09:06.875Z"
      },
      {
        "duration": 17,
        "start_time": "2022-06-06T15:09:06.943Z"
      },
      {
        "duration": 83,
        "start_time": "2022-06-06T15:09:06.961Z"
      },
      {
        "duration": 44,
        "start_time": "2022-06-06T15:09:07.046Z"
      },
      {
        "duration": 10,
        "start_time": "2022-06-06T15:09:07.092Z"
      },
      {
        "duration": 138,
        "start_time": "2022-06-06T15:10:40.826Z"
      },
      {
        "duration": 10,
        "start_time": "2022-06-06T15:13:37.835Z"
      },
      {
        "duration": 231,
        "start_time": "2022-06-06T15:14:20.825Z"
      },
      {
        "duration": 15,
        "start_time": "2022-06-06T15:14:32.137Z"
      },
      {
        "duration": 22,
        "start_time": "2022-06-06T15:21:56.430Z"
      },
      {
        "duration": 77,
        "start_time": "2022-06-06T15:23:14.699Z"
      },
      {
        "duration": 67,
        "start_time": "2022-06-06T15:23:30.916Z"
      },
      {
        "duration": 64,
        "start_time": "2022-06-06T15:24:26.763Z"
      },
      {
        "duration": 71,
        "start_time": "2022-06-06T15:24:48.954Z"
      },
      {
        "duration": 21,
        "start_time": "2022-06-06T15:25:54.056Z"
      },
      {
        "duration": 5,
        "start_time": "2022-06-06T15:26:33.505Z"
      },
      {
        "duration": 11,
        "start_time": "2022-06-06T15:30:12.316Z"
      },
      {
        "duration": 23,
        "start_time": "2022-06-06T15:38:46.614Z"
      },
      {
        "duration": 6,
        "start_time": "2022-06-06T15:39:14.499Z"
      },
      {
        "duration": 97,
        "start_time": "2022-06-06T15:39:15.144Z"
      },
      {
        "duration": 52,
        "start_time": "2022-06-06T15:39:19.005Z"
      },
      {
        "duration": 6,
        "start_time": "2022-06-06T15:39:24.825Z"
      },
      {
        "duration": 20,
        "start_time": "2022-06-06T15:40:13.131Z"
      },
      {
        "duration": 14,
        "start_time": "2022-06-06T15:40:36.312Z"
      },
      {
        "duration": 9,
        "start_time": "2022-06-06T15:40:48.725Z"
      },
      {
        "duration": 8,
        "start_time": "2022-06-06T15:40:51.008Z"
      },
      {
        "duration": 9,
        "start_time": "2022-06-06T15:41:02.152Z"
      },
      {
        "duration": 1281,
        "start_time": "2022-06-06T15:41:07.247Z"
      },
      {
        "duration": 97,
        "start_time": "2022-06-06T15:41:08.530Z"
      },
      {
        "duration": 48,
        "start_time": "2022-06-06T15:41:08.628Z"
      },
      {
        "duration": 5,
        "start_time": "2022-06-06T15:41:08.678Z"
      },
      {
        "duration": 35,
        "start_time": "2022-06-06T15:41:08.686Z"
      },
      {
        "duration": 22,
        "start_time": "2022-06-06T15:41:08.723Z"
      },
      {
        "duration": 23,
        "start_time": "2022-06-06T15:41:08.747Z"
      },
      {
        "duration": 15,
        "start_time": "2022-06-06T15:41:08.772Z"
      },
      {
        "duration": 40,
        "start_time": "2022-06-06T15:41:08.789Z"
      },
      {
        "duration": 16,
        "start_time": "2022-06-06T15:41:08.831Z"
      },
      {
        "duration": 327,
        "start_time": "2022-06-06T15:41:08.849Z"
      },
      {
        "duration": 315,
        "start_time": "2022-06-06T15:41:09.181Z"
      },
      {
        "duration": 347,
        "start_time": "2022-06-06T15:41:09.498Z"
      },
      {
        "duration": 254,
        "start_time": "2022-06-06T15:41:09.847Z"
      },
      {
        "duration": 239,
        "start_time": "2022-06-06T15:41:10.104Z"
      },
      {
        "duration": 298,
        "start_time": "2022-06-06T15:41:10.344Z"
      },
      {
        "duration": 67,
        "start_time": "2022-06-06T15:41:10.644Z"
      },
      {
        "duration": 19,
        "start_time": "2022-06-06T15:41:10.714Z"
      },
      {
        "duration": 172,
        "start_time": "2022-06-06T15:41:10.735Z"
      },
      {
        "duration": 19,
        "start_time": "2022-06-06T15:41:10.909Z"
      },
      {
        "duration": 195,
        "start_time": "2022-06-06T15:41:10.929Z"
      },
      {
        "duration": 195,
        "start_time": "2022-06-06T15:41:11.126Z"
      },
      {
        "duration": 223,
        "start_time": "2022-06-06T15:41:11.323Z"
      },
      {
        "duration": 182,
        "start_time": "2022-06-06T15:41:11.549Z"
      },
      {
        "duration": 189,
        "start_time": "2022-06-06T15:41:11.733Z"
      },
      {
        "duration": 190,
        "start_time": "2022-06-06T15:41:11.924Z"
      },
      {
        "duration": 164,
        "start_time": "2022-06-06T15:41:12.116Z"
      },
      {
        "duration": 269,
        "start_time": "2022-06-06T15:41:12.285Z"
      },
      {
        "duration": 175,
        "start_time": "2022-06-06T15:41:12.556Z"
      },
      {
        "duration": 209,
        "start_time": "2022-06-06T15:41:12.733Z"
      },
      {
        "duration": 253,
        "start_time": "2022-06-06T15:41:12.944Z"
      },
      {
        "duration": 15,
        "start_time": "2022-06-06T15:41:13.201Z"
      },
      {
        "duration": 209,
        "start_time": "2022-06-06T15:41:13.218Z"
      },
      {
        "duration": 12,
        "start_time": "2022-06-06T15:41:13.429Z"
      },
      {
        "duration": 209,
        "start_time": "2022-06-06T15:41:13.443Z"
      },
      {
        "duration": 23,
        "start_time": "2022-06-06T15:41:13.654Z"
      },
      {
        "duration": 254,
        "start_time": "2022-06-06T15:41:13.679Z"
      },
      {
        "duration": 13,
        "start_time": "2022-06-06T15:41:13.935Z"
      },
      {
        "duration": 71,
        "start_time": "2022-06-06T15:41:13.950Z"
      },
      {
        "duration": 20,
        "start_time": "2022-06-06T15:41:14.024Z"
      },
      {
        "duration": 25,
        "start_time": "2022-06-06T15:41:14.046Z"
      },
      {
        "duration": 37,
        "start_time": "2022-06-06T15:41:14.076Z"
      },
      {
        "duration": 35,
        "start_time": "2022-06-06T15:41:14.116Z"
      },
      {
        "duration": 30,
        "start_time": "2022-06-06T15:41:14.153Z"
      },
      {
        "duration": 56,
        "start_time": "2022-06-06T15:41:14.185Z"
      },
      {
        "duration": 39,
        "start_time": "2022-06-06T15:41:14.244Z"
      },
      {
        "duration": 49,
        "start_time": "2022-06-06T15:41:14.285Z"
      },
      {
        "duration": 34,
        "start_time": "2022-06-06T15:41:14.336Z"
      },
      {
        "duration": 63,
        "start_time": "2022-06-06T15:41:14.372Z"
      },
      {
        "duration": 62,
        "start_time": "2022-06-06T15:41:14.437Z"
      },
      {
        "duration": 16,
        "start_time": "2022-06-06T15:41:14.501Z"
      },
      {
        "duration": 70,
        "start_time": "2022-06-06T15:41:14.520Z"
      },
      {
        "duration": 69,
        "start_time": "2022-06-06T15:41:14.593Z"
      },
      {
        "duration": 11,
        "start_time": "2022-06-06T15:41:14.664Z"
      },
      {
        "duration": 1191,
        "start_time": "2022-06-06T15:42:47.110Z"
      },
      {
        "duration": 77,
        "start_time": "2022-06-06T15:42:48.303Z"
      },
      {
        "duration": 50,
        "start_time": "2022-06-06T15:42:48.382Z"
      },
      {
        "duration": 4,
        "start_time": "2022-06-06T15:42:48.435Z"
      },
      {
        "duration": 24,
        "start_time": "2022-06-06T15:42:48.441Z"
      },
      {
        "duration": 14,
        "start_time": "2022-06-06T15:42:48.467Z"
      },
      {
        "duration": 53,
        "start_time": "2022-06-06T15:42:48.482Z"
      },
      {
        "duration": 35,
        "start_time": "2022-06-06T15:42:48.537Z"
      },
      {
        "duration": 20,
        "start_time": "2022-06-06T15:42:48.578Z"
      },
      {
        "duration": 37,
        "start_time": "2022-06-06T15:42:48.603Z"
      },
      {
        "duration": 24,
        "start_time": "2022-06-06T15:42:48.642Z"
      },
      {
        "duration": 288,
        "start_time": "2022-06-06T15:42:48.668Z"
      },
      {
        "duration": 342,
        "start_time": "2022-06-06T15:42:48.958Z"
      },
      {
        "duration": 338,
        "start_time": "2022-06-06T15:42:49.306Z"
      },
      {
        "duration": 264,
        "start_time": "2022-06-06T15:42:49.646Z"
      },
      {
        "duration": 247,
        "start_time": "2022-06-06T15:42:49.913Z"
      },
      {
        "duration": 276,
        "start_time": "2022-06-06T15:42:50.173Z"
      },
      {
        "duration": 55,
        "start_time": "2022-06-06T15:42:50.451Z"
      },
      {
        "duration": 21,
        "start_time": "2022-06-06T15:42:50.508Z"
      },
      {
        "duration": 169,
        "start_time": "2022-06-06T15:42:50.530Z"
      },
      {
        "duration": 30,
        "start_time": "2022-06-06T15:42:50.700Z"
      },
      {
        "duration": 324,
        "start_time": "2022-06-06T15:42:50.733Z"
      },
      {
        "duration": 247,
        "start_time": "2022-06-06T15:42:51.059Z"
      },
      {
        "duration": 187,
        "start_time": "2022-06-06T15:42:51.311Z"
      },
      {
        "duration": 178,
        "start_time": "2022-06-06T15:42:51.500Z"
      },
      {
        "duration": 202,
        "start_time": "2022-06-06T15:42:51.680Z"
      },
      {
        "duration": 189,
        "start_time": "2022-06-06T15:42:51.884Z"
      },
      {
        "duration": 241,
        "start_time": "2022-06-06T15:42:52.088Z"
      },
      {
        "duration": 467,
        "start_time": "2022-06-06T15:42:52.331Z"
      },
      {
        "duration": 290,
        "start_time": "2022-06-06T15:42:52.804Z"
      },
      {
        "duration": 313,
        "start_time": "2022-06-06T15:42:53.098Z"
      },
      {
        "duration": 222,
        "start_time": "2022-06-06T15:42:53.414Z"
      },
      {
        "duration": 13,
        "start_time": "2022-06-06T15:42:53.639Z"
      },
      {
        "duration": 224,
        "start_time": "2022-06-06T15:42:53.654Z"
      },
      {
        "duration": 32,
        "start_time": "2022-06-06T15:42:53.880Z"
      },
      {
        "duration": 210,
        "start_time": "2022-06-06T15:42:53.914Z"
      },
      {
        "duration": 12,
        "start_time": "2022-06-06T15:42:54.127Z"
      },
      {
        "duration": 216,
        "start_time": "2022-06-06T15:42:54.142Z"
      },
      {
        "duration": 29,
        "start_time": "2022-06-06T15:42:54.360Z"
      },
      {
        "duration": 48,
        "start_time": "2022-06-06T15:42:54.391Z"
      },
      {
        "duration": 22,
        "start_time": "2022-06-06T15:42:54.441Z"
      },
      {
        "duration": 44,
        "start_time": "2022-06-06T15:42:54.474Z"
      },
      {
        "duration": 55,
        "start_time": "2022-06-06T15:42:54.520Z"
      },
      {
        "duration": 66,
        "start_time": "2022-06-06T15:42:54.578Z"
      },
      {
        "duration": 25,
        "start_time": "2022-06-06T15:42:54.647Z"
      },
      {
        "duration": 84,
        "start_time": "2022-06-06T15:42:54.673Z"
      },
      {
        "duration": 51,
        "start_time": "2022-06-06T15:42:54.759Z"
      },
      {
        "duration": 62,
        "start_time": "2022-06-06T15:42:54.812Z"
      },
      {
        "duration": 57,
        "start_time": "2022-06-06T15:42:54.876Z"
      },
      {
        "duration": 62,
        "start_time": "2022-06-06T15:42:54.935Z"
      },
      {
        "duration": 59,
        "start_time": "2022-06-06T15:42:55.000Z"
      },
      {
        "duration": 17,
        "start_time": "2022-06-06T15:42:55.062Z"
      },
      {
        "duration": 119,
        "start_time": "2022-06-06T15:42:55.089Z"
      },
      {
        "duration": 73,
        "start_time": "2022-06-06T15:42:55.210Z"
      },
      {
        "duration": 19,
        "start_time": "2022-06-06T15:42:55.285Z"
      },
      {
        "duration": 35,
        "start_time": "2022-06-06T15:46:13.991Z"
      },
      {
        "duration": 67,
        "start_time": "2022-06-06T15:47:37.361Z"
      },
      {
        "duration": 54,
        "start_time": "2022-06-06T16:13:58.833Z"
      },
      {
        "duration": 1300,
        "start_time": "2022-06-06T18:57:12.552Z"
      },
      {
        "duration": 188,
        "start_time": "2022-06-06T18:57:13.854Z"
      },
      {
        "duration": 44,
        "start_time": "2022-06-06T18:57:14.043Z"
      },
      {
        "duration": 3,
        "start_time": "2022-06-06T18:57:14.089Z"
      },
      {
        "duration": 7,
        "start_time": "2022-06-06T18:57:14.094Z"
      },
      {
        "duration": 14,
        "start_time": "2022-06-06T18:57:14.103Z"
      },
      {
        "duration": 39,
        "start_time": "2022-06-06T18:57:14.118Z"
      },
      {
        "duration": 21,
        "start_time": "2022-06-06T18:57:14.158Z"
      },
      {
        "duration": 16,
        "start_time": "2022-06-06T18:57:14.180Z"
      },
      {
        "duration": 15,
        "start_time": "2022-06-06T18:57:14.199Z"
      },
      {
        "duration": 38,
        "start_time": "2022-06-06T18:57:14.216Z"
      },
      {
        "duration": 236,
        "start_time": "2022-06-06T18:57:14.256Z"
      },
      {
        "duration": 295,
        "start_time": "2022-06-06T18:57:14.493Z"
      },
      {
        "duration": 218,
        "start_time": "2022-06-06T18:57:14.790Z"
      },
      {
        "duration": 219,
        "start_time": "2022-06-06T18:57:15.010Z"
      },
      {
        "duration": 206,
        "start_time": "2022-06-06T18:57:15.231Z"
      },
      {
        "duration": 206,
        "start_time": "2022-06-06T18:57:15.441Z"
      },
      {
        "duration": 44,
        "start_time": "2022-06-06T18:57:15.648Z"
      },
      {
        "duration": 15,
        "start_time": "2022-06-06T18:57:15.694Z"
      },
      {
        "duration": 161,
        "start_time": "2022-06-06T18:57:15.711Z"
      },
      {
        "duration": 22,
        "start_time": "2022-06-06T18:57:15.874Z"
      },
      {
        "duration": 189,
        "start_time": "2022-06-06T18:57:15.898Z"
      },
      {
        "duration": 180,
        "start_time": "2022-06-06T18:57:16.089Z"
      },
      {
        "duration": 161,
        "start_time": "2022-06-06T18:57:16.271Z"
      },
      {
        "duration": 184,
        "start_time": "2022-06-06T18:57:16.435Z"
      },
      {
        "duration": 159,
        "start_time": "2022-06-06T18:57:16.622Z"
      },
      {
        "duration": 233,
        "start_time": "2022-06-06T18:57:16.783Z"
      },
      {
        "duration": 154,
        "start_time": "2022-06-06T18:57:17.020Z"
      },
      {
        "duration": 173,
        "start_time": "2022-06-06T18:57:17.176Z"
      },
      {
        "duration": 156,
        "start_time": "2022-06-06T18:57:17.351Z"
      },
      {
        "duration": 165,
        "start_time": "2022-06-06T18:57:17.508Z"
      },
      {
        "duration": 168,
        "start_time": "2022-06-06T18:57:17.675Z"
      },
      {
        "duration": 10,
        "start_time": "2022-06-06T18:57:17.844Z"
      },
      {
        "duration": 217,
        "start_time": "2022-06-06T18:57:17.855Z"
      },
      {
        "duration": 12,
        "start_time": "2022-06-06T18:57:18.074Z"
      },
      {
        "duration": 186,
        "start_time": "2022-06-06T18:57:18.088Z"
      },
      {
        "duration": 9,
        "start_time": "2022-06-06T18:57:18.275Z"
      },
      {
        "duration": 168,
        "start_time": "2022-06-06T18:57:18.286Z"
      },
      {
        "duration": 10,
        "start_time": "2022-06-06T18:57:18.455Z"
      },
      {
        "duration": 24,
        "start_time": "2022-06-06T18:57:18.467Z"
      },
      {
        "duration": 20,
        "start_time": "2022-06-06T18:57:18.493Z"
      },
      {
        "duration": 43,
        "start_time": "2022-06-06T18:57:18.514Z"
      },
      {
        "duration": 18,
        "start_time": "2022-06-06T18:57:18.559Z"
      },
      {
        "duration": 24,
        "start_time": "2022-06-06T18:57:18.578Z"
      },
      {
        "duration": 45,
        "start_time": "2022-06-06T18:57:18.603Z"
      },
      {
        "duration": 19,
        "start_time": "2022-06-06T18:57:18.650Z"
      },
      {
        "duration": 20,
        "start_time": "2022-06-06T18:57:18.670Z"
      },
      {
        "duration": 50,
        "start_time": "2022-06-06T18:57:18.692Z"
      },
      {
        "duration": 21,
        "start_time": "2022-06-06T18:57:18.744Z"
      },
      {
        "duration": 32,
        "start_time": "2022-06-06T18:57:18.767Z"
      },
      {
        "duration": 63,
        "start_time": "2022-06-06T18:57:18.801Z"
      },
      {
        "duration": 7,
        "start_time": "2022-06-06T18:57:18.866Z"
      },
      {
        "duration": 38,
        "start_time": "2022-06-06T18:57:18.874Z"
      },
      {
        "duration": 53,
        "start_time": "2022-06-06T18:57:18.914Z"
      },
      {
        "duration": 7,
        "start_time": "2022-06-06T18:57:18.969Z"
      },
      {
        "duration": 17,
        "start_time": "2022-06-06T18:58:35.079Z"
      },
      {
        "duration": 14,
        "start_time": "2022-06-06T18:58:55.122Z"
      },
      {
        "duration": 19,
        "start_time": "2022-06-06T19:00:25.516Z"
      },
      {
        "duration": 16,
        "start_time": "2022-06-06T19:00:32.868Z"
      },
      {
        "duration": 6,
        "start_time": "2022-06-06T19:00:52.688Z"
      },
      {
        "duration": 47,
        "start_time": "2022-06-06T19:01:37.972Z"
      },
      {
        "duration": 23,
        "start_time": "2022-06-06T19:03:07.807Z"
      },
      {
        "duration": 180,
        "start_time": "2022-06-06T19:04:56.371Z"
      },
      {
        "duration": 332,
        "start_time": "2022-06-06T19:05:25.554Z"
      },
      {
        "duration": 437,
        "start_time": "2022-06-06T19:05:43.965Z"
      },
      {
        "duration": 273,
        "start_time": "2022-06-06T19:06:01.763Z"
      },
      {
        "duration": 387,
        "start_time": "2022-06-06T19:08:34.861Z"
      },
      {
        "duration": 361,
        "start_time": "2022-06-06T19:08:45.489Z"
      },
      {
        "duration": 383,
        "start_time": "2022-06-06T19:08:55.828Z"
      },
      {
        "duration": 373,
        "start_time": "2022-06-06T19:09:14.306Z"
      },
      {
        "duration": 323,
        "start_time": "2022-06-06T19:11:10.852Z"
      },
      {
        "duration": 375,
        "start_time": "2022-06-06T19:12:01.880Z"
      },
      {
        "duration": 517,
        "start_time": "2022-06-06T19:13:14.202Z"
      },
      {
        "duration": 387,
        "start_time": "2022-06-06T19:14:37.278Z"
      },
      {
        "duration": 333,
        "start_time": "2022-06-06T19:22:31.044Z"
      },
      {
        "duration": 318,
        "start_time": "2022-06-06T19:23:19.516Z"
      },
      {
        "duration": 350,
        "start_time": "2022-06-06T19:23:38.080Z"
      },
      {
        "duration": 356,
        "start_time": "2022-06-06T19:24:00.680Z"
      },
      {
        "duration": 315,
        "start_time": "2022-06-06T19:24:46.854Z"
      },
      {
        "duration": 326,
        "start_time": "2022-06-06T19:26:10.281Z"
      },
      {
        "duration": 9,
        "start_time": "2022-06-06T19:30:30.407Z"
      },
      {
        "duration": 9,
        "start_time": "2022-06-06T19:31:00.515Z"
      },
      {
        "duration": 7,
        "start_time": "2022-06-06T19:32:09.261Z"
      },
      {
        "duration": 6,
        "start_time": "2022-06-06T19:33:06.241Z"
      },
      {
        "duration": 11,
        "start_time": "2022-06-06T19:33:21.971Z"
      },
      {
        "duration": 7,
        "start_time": "2022-06-06T19:34:44.442Z"
      },
      {
        "duration": 5,
        "start_time": "2022-06-06T19:34:53.998Z"
      },
      {
        "duration": 7,
        "start_time": "2022-06-06T19:35:18.414Z"
      },
      {
        "duration": 6,
        "start_time": "2022-06-06T19:35:32.604Z"
      },
      {
        "duration": 9,
        "start_time": "2022-06-06T19:37:04.548Z"
      },
      {
        "duration": 346,
        "start_time": "2022-06-06T19:37:24.948Z"
      },
      {
        "duration": 4,
        "start_time": "2022-06-06T19:37:34.338Z"
      },
      {
        "duration": 8,
        "start_time": "2022-06-06T19:38:24.261Z"
      },
      {
        "duration": 217,
        "start_time": "2022-06-06T19:41:30.115Z"
      },
      {
        "duration": 352,
        "start_time": "2022-06-06T19:42:36.882Z"
      },
      {
        "duration": 210,
        "start_time": "2022-06-06T19:42:41.022Z"
      },
      {
        "duration": 13,
        "start_time": "2022-06-06T19:49:23.643Z"
      },
      {
        "duration": 102,
        "start_time": "2022-06-06T19:49:57.657Z"
      },
      {
        "duration": 26,
        "start_time": "2022-06-06T19:50:26.087Z"
      },
      {
        "duration": 617,
        "start_time": "2022-06-06T19:50:36.857Z"
      },
      {
        "duration": 13,
        "start_time": "2022-06-06T19:51:24.424Z"
      },
      {
        "duration": 14,
        "start_time": "2022-06-06T19:51:35.740Z"
      },
      {
        "duration": 16,
        "start_time": "2022-06-06T19:51:43.784Z"
      },
      {
        "duration": 565,
        "start_time": "2022-06-06T19:52:35.908Z"
      },
      {
        "duration": 621,
        "start_time": "2022-06-06T19:53:35.576Z"
      },
      {
        "duration": 101,
        "start_time": "2022-06-06T19:54:02.815Z"
      },
      {
        "duration": 609,
        "start_time": "2022-06-06T19:55:49.698Z"
      },
      {
        "duration": 2,
        "start_time": "2022-06-06T19:56:17.468Z"
      },
      {
        "duration": 180,
        "start_time": "2022-06-06T20:11:07.846Z"
      },
      {
        "duration": 129,
        "start_time": "2022-06-06T20:15:02.004Z"
      },
      {
        "duration": 118,
        "start_time": "2022-06-06T20:15:22.792Z"
      },
      {
        "duration": 21,
        "start_time": "2022-06-06T20:25:06.261Z"
      },
      {
        "duration": 7,
        "start_time": "2022-06-06T20:34:20.529Z"
      },
      {
        "duration": 9,
        "start_time": "2022-06-06T20:34:46.788Z"
      },
      {
        "duration": 189,
        "start_time": "2022-06-06T20:35:23.429Z"
      },
      {
        "duration": 16,
        "start_time": "2022-06-06T20:35:35.953Z"
      },
      {
        "duration": 7,
        "start_time": "2022-06-06T20:35:43.897Z"
      },
      {
        "duration": 7,
        "start_time": "2022-06-06T20:35:48.553Z"
      },
      {
        "duration": 5,
        "start_time": "2022-06-06T20:36:03.977Z"
      },
      {
        "duration": 7,
        "start_time": "2022-06-06T20:36:13.705Z"
      },
      {
        "duration": 8,
        "start_time": "2022-06-09T16:52:48.398Z"
      },
      {
        "duration": 979,
        "start_time": "2022-06-09T16:52:52.940Z"
      },
      {
        "duration": 58,
        "start_time": "2022-06-09T16:52:53.920Z"
      },
      {
        "duration": 36,
        "start_time": "2022-06-09T16:52:53.980Z"
      },
      {
        "duration": 3,
        "start_time": "2022-06-09T16:52:54.018Z"
      },
      {
        "duration": 10,
        "start_time": "2022-06-09T16:52:54.023Z"
      },
      {
        "duration": 21,
        "start_time": "2022-06-09T16:52:54.035Z"
      },
      {
        "duration": 38,
        "start_time": "2022-06-09T16:52:54.057Z"
      },
      {
        "duration": 15,
        "start_time": "2022-06-09T16:52:54.097Z"
      },
      {
        "duration": 20,
        "start_time": "2022-06-09T16:52:54.114Z"
      },
      {
        "duration": 14,
        "start_time": "2022-06-09T16:52:54.136Z"
      },
      {
        "duration": 51,
        "start_time": "2022-06-09T16:52:54.151Z"
      },
      {
        "duration": 328,
        "start_time": "2022-06-09T16:52:54.204Z"
      },
      {
        "duration": 13,
        "start_time": "2022-06-09T16:52:54.534Z"
      },
      {
        "duration": 2,
        "start_time": "2022-06-09T16:52:54.548Z"
      },
      {
        "duration": 8,
        "start_time": "2022-06-09T16:52:54.551Z"
      },
      {
        "duration": 4,
        "start_time": "2022-06-09T16:52:54.561Z"
      },
      {
        "duration": 210,
        "start_time": "2022-06-09T16:52:54.566Z"
      },
      {
        "duration": 206,
        "start_time": "2022-06-09T16:52:54.777Z"
      },
      {
        "duration": 196,
        "start_time": "2022-06-09T16:52:54.985Z"
      },
      {
        "duration": 189,
        "start_time": "2022-06-09T16:52:55.182Z"
      },
      {
        "duration": 180,
        "start_time": "2022-06-09T16:52:55.372Z"
      },
      {
        "duration": 176,
        "start_time": "2022-06-09T16:52:55.553Z"
      },
      {
        "duration": 35,
        "start_time": "2022-06-09T16:52:55.730Z"
      },
      {
        "duration": 39,
        "start_time": "2022-06-09T16:52:55.766Z"
      },
      {
        "duration": 112,
        "start_time": "2022-06-09T16:52:55.807Z"
      },
      {
        "duration": 17,
        "start_time": "2022-06-09T16:52:55.921Z"
      },
      {
        "duration": 156,
        "start_time": "2022-06-09T16:52:55.940Z"
      },
      {
        "duration": 201,
        "start_time": "2022-06-09T16:52:56.101Z"
      },
      {
        "duration": 136,
        "start_time": "2022-06-09T16:52:56.304Z"
      },
      {
        "duration": 140,
        "start_time": "2022-06-09T16:52:56.441Z"
      },
      {
        "duration": 164,
        "start_time": "2022-06-09T16:52:56.583Z"
      },
      {
        "duration": 127,
        "start_time": "2022-06-09T16:52:56.749Z"
      },
      {
        "duration": 140,
        "start_time": "2022-06-09T16:52:56.877Z"
      },
      {
        "duration": 143,
        "start_time": "2022-06-09T16:52:57.019Z"
      },
      {
        "duration": 138,
        "start_time": "2022-06-09T16:52:57.164Z"
      },
      {
        "duration": 185,
        "start_time": "2022-06-09T16:52:57.304Z"
      },
      {
        "duration": 175,
        "start_time": "2022-06-09T16:52:57.491Z"
      },
      {
        "duration": 10,
        "start_time": "2022-06-09T16:52:57.667Z"
      },
      {
        "duration": 140,
        "start_time": "2022-06-09T16:52:57.678Z"
      },
      {
        "duration": 8,
        "start_time": "2022-06-09T16:52:57.820Z"
      },
      {
        "duration": 151,
        "start_time": "2022-06-09T16:52:57.830Z"
      },
      {
        "duration": 14,
        "start_time": "2022-06-09T16:52:57.983Z"
      },
      {
        "duration": 143,
        "start_time": "2022-06-09T16:52:57.998Z"
      },
      {
        "duration": 8,
        "start_time": "2022-06-09T16:52:58.143Z"
      },
      {
        "duration": 22,
        "start_time": "2022-06-09T16:52:58.152Z"
      },
      {
        "duration": 31,
        "start_time": "2022-06-09T16:52:58.176Z"
      },
      {
        "duration": 17,
        "start_time": "2022-06-09T16:52:58.209Z"
      },
      {
        "duration": 17,
        "start_time": "2022-06-09T16:52:58.228Z"
      },
      {
        "duration": 48,
        "start_time": "2022-06-09T16:52:58.247Z"
      },
      {
        "duration": 19,
        "start_time": "2022-06-09T16:52:58.302Z"
      },
      {
        "duration": 17,
        "start_time": "2022-06-09T16:52:58.323Z"
      },
      {
        "duration": 16,
        "start_time": "2022-06-09T16:52:58.341Z"
      },
      {
        "duration": 38,
        "start_time": "2022-06-09T16:52:58.358Z"
      },
      {
        "duration": 17,
        "start_time": "2022-06-09T16:52:58.398Z"
      },
      {
        "duration": 27,
        "start_time": "2022-06-09T16:52:58.416Z"
      },
      {
        "duration": 51,
        "start_time": "2022-06-09T16:52:58.444Z"
      },
      {
        "duration": 8,
        "start_time": "2022-06-09T16:52:58.497Z"
      },
      {
        "duration": 36,
        "start_time": "2022-06-09T16:52:58.507Z"
      },
      {
        "duration": 55,
        "start_time": "2022-06-09T16:52:58.544Z"
      },
      {
        "duration": 8,
        "start_time": "2022-06-09T16:52:58.600Z"
      },
      {
        "duration": 7,
        "start_time": "2022-06-09T16:55:39.213Z"
      },
      {
        "duration": 9,
        "start_time": "2022-06-09T16:55:47.754Z"
      },
      {
        "duration": 1017,
        "start_time": "2022-06-09T16:55:53.473Z"
      },
      {
        "duration": 59,
        "start_time": "2022-06-09T16:55:54.492Z"
      },
      {
        "duration": 33,
        "start_time": "2022-06-09T16:55:54.552Z"
      },
      {
        "duration": 3,
        "start_time": "2022-06-09T16:55:54.586Z"
      },
      {
        "duration": 6,
        "start_time": "2022-06-09T16:55:54.591Z"
      },
      {
        "duration": 20,
        "start_time": "2022-06-09T16:55:54.598Z"
      },
      {
        "duration": 8,
        "start_time": "2022-06-09T16:55:54.619Z"
      },
      {
        "duration": 16,
        "start_time": "2022-06-09T16:55:54.629Z"
      },
      {
        "duration": 17,
        "start_time": "2022-06-09T16:55:54.646Z"
      },
      {
        "duration": 31,
        "start_time": "2022-06-09T16:55:54.664Z"
      },
      {
        "duration": 18,
        "start_time": "2022-06-09T16:55:54.697Z"
      },
      {
        "duration": 324,
        "start_time": "2022-06-09T16:55:54.717Z"
      },
      {
        "duration": 14,
        "start_time": "2022-06-09T16:55:55.043Z"
      },
      {
        "duration": 2,
        "start_time": "2022-06-09T16:55:55.060Z"
      },
      {
        "duration": 8,
        "start_time": "2022-06-09T16:55:55.063Z"
      },
      {
        "duration": 4,
        "start_time": "2022-06-09T16:55:55.072Z"
      },
      {
        "duration": 184,
        "start_time": "2022-06-09T16:55:55.094Z"
      },
      {
        "duration": 186,
        "start_time": "2022-06-09T16:55:55.279Z"
      },
      {
        "duration": 178,
        "start_time": "2022-06-09T16:55:55.467Z"
      },
      {
        "duration": 170,
        "start_time": "2022-06-09T16:55:55.646Z"
      },
      {
        "duration": 167,
        "start_time": "2022-06-09T16:55:55.818Z"
      },
      {
        "duration": 172,
        "start_time": "2022-06-09T16:55:55.986Z"
      },
      {
        "duration": 43,
        "start_time": "2022-06-09T16:55:56.160Z"
      },
      {
        "duration": 13,
        "start_time": "2022-06-09T16:55:56.205Z"
      },
      {
        "duration": 116,
        "start_time": "2022-06-09T16:55:56.219Z"
      },
      {
        "duration": 16,
        "start_time": "2022-06-09T16:55:56.337Z"
      },
      {
        "duration": 143,
        "start_time": "2022-06-09T16:55:56.355Z"
      },
      {
        "duration": 196,
        "start_time": "2022-06-09T16:55:56.500Z"
      },
      {
        "duration": 130,
        "start_time": "2022-06-09T16:55:56.697Z"
      },
      {
        "duration": 133,
        "start_time": "2022-06-09T16:55:56.829Z"
      },
      {
        "duration": 131,
        "start_time": "2022-06-09T16:55:56.964Z"
      },
      {
        "duration": 129,
        "start_time": "2022-06-09T16:55:57.097Z"
      },
      {
        "duration": 152,
        "start_time": "2022-06-09T16:55:57.227Z"
      },
      {
        "duration": 177,
        "start_time": "2022-06-09T16:55:57.381Z"
      },
      {
        "duration": 127,
        "start_time": "2022-06-09T16:55:57.559Z"
      },
      {
        "duration": 137,
        "start_time": "2022-06-09T16:55:57.694Z"
      },
      {
        "duration": 146,
        "start_time": "2022-06-09T16:55:57.833Z"
      },
      {
        "duration": 16,
        "start_time": "2022-06-09T16:55:57.980Z"
      },
      {
        "duration": 140,
        "start_time": "2022-06-09T16:55:57.997Z"
      },
      {
        "duration": 8,
        "start_time": "2022-06-09T16:55:58.138Z"
      },
      {
        "duration": 145,
        "start_time": "2022-06-09T16:55:58.149Z"
      },
      {
        "duration": 8,
        "start_time": "2022-06-09T16:55:58.296Z"
      },
      {
        "duration": 136,
        "start_time": "2022-06-09T16:55:58.306Z"
      },
      {
        "duration": 8,
        "start_time": "2022-06-09T16:55:58.444Z"
      },
      {
        "duration": 20,
        "start_time": "2022-06-09T16:55:58.454Z"
      },
      {
        "duration": 31,
        "start_time": "2022-06-09T16:55:58.475Z"
      },
      {
        "duration": 16,
        "start_time": "2022-06-09T16:55:58.507Z"
      },
      {
        "duration": 15,
        "start_time": "2022-06-09T16:55:58.525Z"
      },
      {
        "duration": 16,
        "start_time": "2022-06-09T16:55:58.541Z"
      },
      {
        "duration": 43,
        "start_time": "2022-06-09T16:55:58.558Z"
      },
      {
        "duration": 18,
        "start_time": "2022-06-09T16:55:58.602Z"
      },
      {
        "duration": 23,
        "start_time": "2022-06-09T16:55:58.621Z"
      },
      {
        "duration": 15,
        "start_time": "2022-06-09T16:55:58.645Z"
      },
      {
        "duration": 34,
        "start_time": "2022-06-09T16:55:58.662Z"
      },
      {
        "duration": 27,
        "start_time": "2022-06-09T16:55:58.697Z"
      },
      {
        "duration": 26,
        "start_time": "2022-06-09T16:55:58.726Z"
      },
      {
        "duration": 6,
        "start_time": "2022-06-09T16:55:58.753Z"
      },
      {
        "duration": 54,
        "start_time": "2022-06-09T16:55:58.760Z"
      },
      {
        "duration": 26,
        "start_time": "2022-06-09T16:55:58.816Z"
      },
      {
        "duration": 6,
        "start_time": "2022-06-09T16:55:58.843Z"
      },
      {
        "duration": 33,
        "start_time": "2022-06-09T16:58:34.665Z"
      },
      {
        "duration": 4,
        "start_time": "2022-06-09T17:04:28.717Z"
      },
      {
        "duration": 4,
        "start_time": "2022-06-09T17:04:59.676Z"
      },
      {
        "duration": 12,
        "start_time": "2022-06-09T17:05:02.636Z"
      },
      {
        "duration": 8,
        "start_time": "2022-06-09T17:21:55.126Z"
      },
      {
        "duration": 123,
        "start_time": "2022-06-09T17:25:28.659Z"
      },
      {
        "duration": 23,
        "start_time": "2022-06-09T17:26:26.717Z"
      },
      {
        "duration": 4,
        "start_time": "2022-06-09T17:26:35.970Z"
      },
      {
        "duration": 3,
        "start_time": "2022-06-09T17:26:41.522Z"
      },
      {
        "duration": 5,
        "start_time": "2022-06-09T17:27:50.109Z"
      },
      {
        "duration": 1094,
        "start_time": "2022-06-09T17:27:59.560Z"
      },
      {
        "duration": 70,
        "start_time": "2022-06-09T17:28:00.656Z"
      },
      {
        "duration": 35,
        "start_time": "2022-06-09T17:28:00.727Z"
      },
      {
        "duration": 3,
        "start_time": "2022-06-09T17:28:00.763Z"
      },
      {
        "duration": 8,
        "start_time": "2022-06-09T17:28:00.768Z"
      },
      {
        "duration": 46,
        "start_time": "2022-06-09T17:28:00.778Z"
      },
      {
        "duration": 9,
        "start_time": "2022-06-09T17:28:00.826Z"
      },
      {
        "duration": 17,
        "start_time": "2022-06-09T17:28:00.836Z"
      },
      {
        "duration": 12,
        "start_time": "2022-06-09T17:28:00.854Z"
      },
      {
        "duration": 4,
        "start_time": "2022-06-09T17:28:00.869Z"
      },
      {
        "duration": 45,
        "start_time": "2022-06-09T17:28:00.875Z"
      },
      {
        "duration": 13,
        "start_time": "2022-06-09T17:28:00.921Z"
      },
      {
        "duration": 16,
        "start_time": "2022-06-09T17:28:00.935Z"
      },
      {
        "duration": 404,
        "start_time": "2022-06-09T17:28:00.952Z"
      },
      {
        "duration": 14,
        "start_time": "2022-06-09T17:28:01.358Z"
      },
      {
        "duration": 2,
        "start_time": "2022-06-09T17:28:01.373Z"
      },
      {
        "duration": 5,
        "start_time": "2022-06-09T17:28:01.394Z"
      },
      {
        "duration": 38,
        "start_time": "2022-06-09T17:28:01.401Z"
      },
      {
        "duration": 13,
        "start_time": "2022-06-09T17:28:01.440Z"
      },
      {
        "duration": 202,
        "start_time": "2022-06-09T17:28:01.455Z"
      },
      {
        "duration": 219,
        "start_time": "2022-06-09T17:28:01.659Z"
      },
      {
        "duration": 265,
        "start_time": "2022-06-09T17:28:01.880Z"
      },
      {
        "duration": 239,
        "start_time": "2022-06-09T17:28:02.147Z"
      },
      {
        "duration": 266,
        "start_time": "2022-06-09T17:28:02.388Z"
      },
      {
        "duration": 199,
        "start_time": "2022-06-09T17:28:02.656Z"
      },
      {
        "duration": 48,
        "start_time": "2022-06-09T17:28:02.857Z"
      },
      {
        "duration": 20,
        "start_time": "2022-06-09T17:28:02.907Z"
      },
      {
        "duration": 137,
        "start_time": "2022-06-09T17:28:02.932Z"
      },
      {
        "duration": 16,
        "start_time": "2022-06-09T17:28:03.071Z"
      },
      {
        "duration": 161,
        "start_time": "2022-06-09T17:28:03.095Z"
      },
      {
        "duration": 257,
        "start_time": "2022-06-09T17:28:03.257Z"
      },
      {
        "duration": 144,
        "start_time": "2022-06-09T17:28:03.517Z"
      },
      {
        "duration": 178,
        "start_time": "2022-06-09T17:28:03.663Z"
      },
      {
        "duration": 180,
        "start_time": "2022-06-09T17:28:03.843Z"
      },
      {
        "duration": 176,
        "start_time": "2022-06-09T17:28:04.025Z"
      },
      {
        "duration": 170,
        "start_time": "2022-06-09T17:28:04.203Z"
      },
      {
        "duration": 187,
        "start_time": "2022-06-09T17:28:04.374Z"
      },
      {
        "duration": 184,
        "start_time": "2022-06-09T17:28:04.563Z"
      },
      {
        "duration": 152,
        "start_time": "2022-06-09T17:28:04.749Z"
      },
      {
        "duration": 156,
        "start_time": "2022-06-09T17:28:04.903Z"
      },
      {
        "duration": 12,
        "start_time": "2022-06-09T17:28:05.061Z"
      },
      {
        "duration": 171,
        "start_time": "2022-06-09T17:28:05.075Z"
      },
      {
        "duration": 8,
        "start_time": "2022-06-09T17:28:05.247Z"
      },
      {
        "duration": 177,
        "start_time": "2022-06-09T17:28:05.257Z"
      },
      {
        "duration": 10,
        "start_time": "2022-06-09T17:28:05.436Z"
      },
      {
        "duration": 159,
        "start_time": "2022-06-09T17:28:05.448Z"
      },
      {
        "duration": 14,
        "start_time": "2022-06-09T17:28:05.608Z"
      },
      {
        "duration": 38,
        "start_time": "2022-06-09T17:28:05.624Z"
      },
      {
        "duration": 23,
        "start_time": "2022-06-09T17:28:05.664Z"
      },
      {
        "duration": 33,
        "start_time": "2022-06-09T17:28:05.689Z"
      },
      {
        "duration": 26,
        "start_time": "2022-06-09T17:28:05.725Z"
      },
      {
        "duration": 19,
        "start_time": "2022-06-09T17:28:05.753Z"
      },
      {
        "duration": 41,
        "start_time": "2022-06-09T17:28:05.774Z"
      },
      {
        "duration": 23,
        "start_time": "2022-06-09T17:28:05.817Z"
      },
      {
        "duration": 18,
        "start_time": "2022-06-09T17:28:05.841Z"
      },
      {
        "duration": 42,
        "start_time": "2022-06-09T17:28:05.861Z"
      },
      {
        "duration": 22,
        "start_time": "2022-06-09T17:28:05.905Z"
      },
      {
        "duration": 34,
        "start_time": "2022-06-09T17:28:05.929Z"
      },
      {
        "duration": 57,
        "start_time": "2022-06-09T17:28:05.964Z"
      },
      {
        "duration": 7,
        "start_time": "2022-06-09T17:28:06.023Z"
      },
      {
        "duration": 41,
        "start_time": "2022-06-09T17:28:06.032Z"
      },
      {
        "duration": 54,
        "start_time": "2022-06-09T17:28:06.075Z"
      },
      {
        "duration": 6,
        "start_time": "2022-06-09T17:28:06.131Z"
      },
      {
        "duration": 4,
        "start_time": "2022-06-09T17:29:03.219Z"
      },
      {
        "duration": 3,
        "start_time": "2022-06-09T17:29:04.025Z"
      },
      {
        "duration": 137,
        "start_time": "2022-06-09T17:29:19.365Z"
      },
      {
        "duration": 4,
        "start_time": "2022-06-09T17:29:45.153Z"
      },
      {
        "duration": 10,
        "start_time": "2022-06-09T17:29:53.219Z"
      },
      {
        "duration": 4,
        "start_time": "2022-06-09T17:30:14.130Z"
      },
      {
        "duration": 5,
        "start_time": "2022-06-09T17:30:14.760Z"
      },
      {
        "duration": 5,
        "start_time": "2022-06-09T17:30:19.968Z"
      },
      {
        "duration": 5,
        "start_time": "2022-06-09T17:30:20.524Z"
      },
      {
        "duration": 9,
        "start_time": "2022-06-09T17:32:07.406Z"
      },
      {
        "duration": 38,
        "start_time": "2022-06-09T17:36:45.517Z"
      },
      {
        "duration": 4,
        "start_time": "2022-06-09T17:36:54.244Z"
      },
      {
        "duration": 1624,
        "start_time": "2022-06-09T17:37:38.631Z"
      },
      {
        "duration": 1589,
        "start_time": "2022-06-09T17:38:00.413Z"
      },
      {
        "duration": 1702,
        "start_time": "2022-06-09T17:38:42.459Z"
      },
      {
        "duration": 2561,
        "start_time": "2022-06-09T17:39:08.942Z"
      },
      {
        "duration": 1414,
        "start_time": "2022-06-09T17:39:30.508Z"
      },
      {
        "duration": 1857,
        "start_time": "2022-06-09T17:41:06.819Z"
      },
      {
        "duration": 1649,
        "start_time": "2022-06-09T17:41:19.364Z"
      },
      {
        "duration": 195,
        "start_time": "2022-06-09T17:42:02.446Z"
      },
      {
        "duration": 1488,
        "start_time": "2022-06-09T17:42:45.010Z"
      },
      {
        "duration": 1719,
        "start_time": "2022-06-09T17:45:05.797Z"
      },
      {
        "duration": 12,
        "start_time": "2022-06-09T17:45:26.407Z"
      },
      {
        "duration": 9,
        "start_time": "2022-06-09T17:45:48.551Z"
      },
      {
        "duration": 11,
        "start_time": "2022-06-09T17:46:00.551Z"
      },
      {
        "duration": 9,
        "start_time": "2022-06-09T17:46:21.513Z"
      },
      {
        "duration": 1549,
        "start_time": "2022-06-09T17:46:33.148Z"
      },
      {
        "duration": 1463,
        "start_time": "2022-06-09T17:50:47.542Z"
      },
      {
        "duration": 9,
        "start_time": "2022-06-09T18:07:55.040Z"
      },
      {
        "duration": 8,
        "start_time": "2022-06-09T18:08:18.951Z"
      },
      {
        "duration": 77,
        "start_time": "2022-06-09T18:09:04.893Z"
      },
      {
        "duration": 16,
        "start_time": "2022-06-09T18:09:27.557Z"
      },
      {
        "duration": 221,
        "start_time": "2022-06-09T18:09:39.506Z"
      },
      {
        "duration": 101,
        "start_time": "2022-06-09T18:10:16.744Z"
      },
      {
        "duration": 417,
        "start_time": "2022-06-09T18:11:29.650Z"
      },
      {
        "duration": 274,
        "start_time": "2022-06-09T18:11:46.735Z"
      },
      {
        "duration": 266,
        "start_time": "2022-06-09T18:11:57.806Z"
      },
      {
        "duration": 134,
        "start_time": "2022-06-09T18:13:17.144Z"
      },
      {
        "duration": 324,
        "start_time": "2022-06-09T18:13:37.237Z"
      },
      {
        "duration": 271,
        "start_time": "2022-06-09T18:14:08.558Z"
      },
      {
        "duration": 419,
        "start_time": "2022-06-09T18:14:43.594Z"
      },
      {
        "duration": 312,
        "start_time": "2022-06-09T18:14:53.694Z"
      },
      {
        "duration": 373,
        "start_time": "2022-06-09T18:15:07.798Z"
      },
      {
        "duration": 296,
        "start_time": "2022-06-09T18:15:28.726Z"
      },
      {
        "duration": 273,
        "start_time": "2022-06-09T18:15:35.438Z"
      },
      {
        "duration": 258,
        "start_time": "2022-06-09T18:15:56.948Z"
      },
      {
        "duration": 276,
        "start_time": "2022-06-09T18:17:13.642Z"
      },
      {
        "duration": 313,
        "start_time": "2022-06-09T18:19:01.470Z"
      },
      {
        "duration": 18,
        "start_time": "2022-06-09T18:21:50.118Z"
      },
      {
        "duration": 38,
        "start_time": "2022-06-09T18:22:17.729Z"
      },
      {
        "duration": 38,
        "start_time": "2022-06-09T18:24:56.567Z"
      },
      {
        "duration": 51,
        "start_time": "2022-06-09T18:25:23.578Z"
      },
      {
        "duration": 33,
        "start_time": "2022-06-09T18:25:32.851Z"
      },
      {
        "duration": 33,
        "start_time": "2022-06-09T18:34:48.047Z"
      },
      {
        "duration": 14,
        "start_time": "2022-06-09T18:35:00.407Z"
      },
      {
        "duration": 3,
        "start_time": "2022-06-09T18:36:28.206Z"
      },
      {
        "duration": 1674,
        "start_time": "2022-06-09T18:38:28.142Z"
      },
      {
        "duration": 33,
        "start_time": "2022-06-09T18:39:22.821Z"
      },
      {
        "duration": 1077,
        "start_time": "2022-06-09T18:39:50.283Z"
      },
      {
        "duration": 62,
        "start_time": "2022-06-09T18:39:51.362Z"
      },
      {
        "duration": 35,
        "start_time": "2022-06-09T18:39:51.426Z"
      },
      {
        "duration": 3,
        "start_time": "2022-06-09T18:39:51.463Z"
      },
      {
        "duration": 14,
        "start_time": "2022-06-09T18:39:51.468Z"
      },
      {
        "duration": 26,
        "start_time": "2022-06-09T18:39:51.484Z"
      },
      {
        "duration": 9,
        "start_time": "2022-06-09T18:39:51.512Z"
      },
      {
        "duration": 18,
        "start_time": "2022-06-09T18:39:51.523Z"
      },
      {
        "duration": 6,
        "start_time": "2022-06-09T18:39:51.542Z"
      },
      {
        "duration": 8,
        "start_time": "2022-06-09T18:39:51.550Z"
      },
      {
        "duration": 35,
        "start_time": "2022-06-09T18:39:51.559Z"
      },
      {
        "duration": 13,
        "start_time": "2022-06-09T18:39:51.596Z"
      },
      {
        "duration": 18,
        "start_time": "2022-06-09T18:39:51.610Z"
      },
      {
        "duration": 334,
        "start_time": "2022-06-09T18:39:51.630Z"
      },
      {
        "duration": 15,
        "start_time": "2022-06-09T18:39:51.966Z"
      },
      {
        "duration": 11,
        "start_time": "2022-06-09T18:39:51.983Z"
      },
      {
        "duration": 9,
        "start_time": "2022-06-09T18:39:51.996Z"
      },
      {
        "duration": 8,
        "start_time": "2022-06-09T18:39:52.006Z"
      },
      {
        "duration": 1432,
        "start_time": "2022-06-09T18:39:52.016Z"
      },
      {
        "duration": 122,
        "start_time": "2022-06-09T18:39:53.450Z"
      },
      {
        "duration": 22,
        "start_time": "2022-06-09T18:39:53.573Z"
      },
      {
        "duration": 257,
        "start_time": "2022-06-09T18:39:53.596Z"
      },
      {
        "duration": 231,
        "start_time": "2022-06-09T18:39:53.855Z"
      },
      {
        "duration": 36,
        "start_time": "2022-06-09T18:39:54.088Z"
      },
      {
        "duration": 9,
        "start_time": "2022-06-09T18:39:54.125Z"
      },
      {
        "duration": 7,
        "start_time": "2022-06-09T18:39:54.136Z"
      },
      {
        "duration": 1589,
        "start_time": "2022-06-09T18:39:54.144Z"
      },
      {
        "duration": 225,
        "start_time": "2022-06-09T18:39:55.736Z"
      },
      {
        "duration": 9,
        "start_time": "2022-06-09T18:39:55.962Z"
      },
      {
        "duration": 153,
        "start_time": "2022-06-09T18:39:55.972Z"
      },
      {
        "duration": 8,
        "start_time": "2022-06-09T18:39:56.127Z"
      },
      {
        "duration": 135,
        "start_time": "2022-06-09T18:39:56.137Z"
      },
      {
        "duration": 8,
        "start_time": "2022-06-09T18:39:56.273Z"
      },
      {
        "duration": 139,
        "start_time": "2022-06-09T18:39:56.283Z"
      },
      {
        "duration": 9,
        "start_time": "2022-06-09T18:39:56.424Z"
      },
      {
        "duration": 20,
        "start_time": "2022-06-09T18:39:56.434Z"
      },
      {
        "duration": 16,
        "start_time": "2022-06-09T18:39:56.456Z"
      },
      {
        "duration": 38,
        "start_time": "2022-06-09T18:39:56.473Z"
      },
      {
        "duration": 16,
        "start_time": "2022-06-09T18:39:56.512Z"
      },
      {
        "duration": 15,
        "start_time": "2022-06-09T18:39:56.529Z"
      },
      {
        "duration": 27,
        "start_time": "2022-06-09T18:39:56.546Z"
      },
      {
        "duration": 31,
        "start_time": "2022-06-09T18:39:56.575Z"
      },
      {
        "duration": 23,
        "start_time": "2022-06-09T18:39:56.608Z"
      },
      {
        "duration": 16,
        "start_time": "2022-06-09T18:39:56.633Z"
      },
      {
        "duration": 24,
        "start_time": "2022-06-09T18:39:56.650Z"
      },
      {
        "duration": 37,
        "start_time": "2022-06-09T18:39:56.675Z"
      },
      {
        "duration": 30,
        "start_time": "2022-06-09T18:39:56.714Z"
      },
      {
        "duration": 7,
        "start_time": "2022-06-09T18:39:56.746Z"
      },
      {
        "duration": 54,
        "start_time": "2022-06-09T18:39:56.754Z"
      },
      {
        "duration": 34,
        "start_time": "2022-06-09T18:39:56.809Z"
      },
      {
        "duration": 7,
        "start_time": "2022-06-09T18:39:56.844Z"
      },
      {
        "duration": 89,
        "start_time": "2022-06-09T18:51:25.555Z"
      },
      {
        "duration": 32,
        "start_time": "2022-06-09T18:51:43.130Z"
      },
      {
        "duration": 12,
        "start_time": "2022-06-09T18:53:01.202Z"
      },
      {
        "duration": 56,
        "start_time": "2022-06-10T15:46:22.950Z"
      },
      {
        "duration": 1542,
        "start_time": "2022-06-10T15:46:28.380Z"
      },
      {
        "duration": 124,
        "start_time": "2022-06-10T15:46:29.924Z"
      },
      {
        "duration": 60,
        "start_time": "2022-06-10T15:46:30.050Z"
      },
      {
        "duration": 3,
        "start_time": "2022-06-10T15:46:30.114Z"
      },
      {
        "duration": 13,
        "start_time": "2022-06-10T15:46:30.119Z"
      },
      {
        "duration": 31,
        "start_time": "2022-06-10T15:46:30.134Z"
      },
      {
        "duration": 19,
        "start_time": "2022-06-10T15:46:30.167Z"
      },
      {
        "duration": 36,
        "start_time": "2022-06-10T15:46:30.188Z"
      },
      {
        "duration": 8,
        "start_time": "2022-06-10T15:46:30.225Z"
      },
      {
        "duration": 14,
        "start_time": "2022-06-10T15:46:30.237Z"
      },
      {
        "duration": 37,
        "start_time": "2022-06-10T15:46:30.253Z"
      },
      {
        "duration": 39,
        "start_time": "2022-06-10T15:46:30.292Z"
      },
      {
        "duration": 27,
        "start_time": "2022-06-10T15:46:30.333Z"
      },
      {
        "duration": 463,
        "start_time": "2022-06-10T15:46:30.362Z"
      },
      {
        "duration": 20,
        "start_time": "2022-06-10T15:46:30.827Z"
      },
      {
        "duration": 3,
        "start_time": "2022-06-10T15:46:30.849Z"
      },
      {
        "duration": 9,
        "start_time": "2022-06-10T15:46:30.853Z"
      },
      {
        "duration": 16,
        "start_time": "2022-06-10T15:46:30.864Z"
      },
      {
        "duration": 1941,
        "start_time": "2022-06-10T15:46:30.900Z"
      },
      {
        "duration": 167,
        "start_time": "2022-06-10T15:46:32.844Z"
      },
      {
        "duration": 16,
        "start_time": "2022-06-10T15:46:33.013Z"
      },
      {
        "duration": 331,
        "start_time": "2022-06-10T15:46:33.031Z"
      },
      {
        "duration": 288,
        "start_time": "2022-06-10T15:46:33.364Z"
      },
      {
        "duration": 57,
        "start_time": "2022-06-10T15:46:33.653Z"
      },
      {
        "duration": 11,
        "start_time": "2022-06-10T15:46:33.713Z"
      },
      {
        "duration": 9,
        "start_time": "2022-06-10T15:46:33.726Z"
      },
      {
        "duration": 2013,
        "start_time": "2022-06-10T15:46:33.737Z"
      },
      {
        "duration": 300,
        "start_time": "2022-06-10T15:46:35.754Z"
      },
      {
        "duration": 15,
        "start_time": "2022-06-10T15:46:36.057Z"
      },
      {
        "duration": 180,
        "start_time": "2022-06-10T15:46:36.074Z"
      },
      {
        "duration": 11,
        "start_time": "2022-06-10T15:46:36.256Z"
      },
      {
        "duration": 176,
        "start_time": "2022-06-10T15:46:36.269Z"
      },
      {
        "duration": 10,
        "start_time": "2022-06-10T15:46:36.448Z"
      },
      {
        "duration": 188,
        "start_time": "2022-06-10T15:46:36.460Z"
      },
      {
        "duration": 12,
        "start_time": "2022-06-10T15:46:36.650Z"
      },
      {
        "duration": 39,
        "start_time": "2022-06-10T15:46:36.665Z"
      },
      {
        "duration": 21,
        "start_time": "2022-06-10T15:46:36.706Z"
      },
      {
        "duration": 29,
        "start_time": "2022-06-10T15:46:36.729Z"
      },
      {
        "duration": 38,
        "start_time": "2022-06-10T15:46:36.759Z"
      },
      {
        "duration": 23,
        "start_time": "2022-06-10T15:46:36.799Z"
      },
      {
        "duration": 22,
        "start_time": "2022-06-10T15:46:36.824Z"
      },
      {
        "duration": 49,
        "start_time": "2022-06-10T15:46:36.849Z"
      },
      {
        "duration": 32,
        "start_time": "2022-06-10T15:46:36.900Z"
      },
      {
        "duration": 23,
        "start_time": "2022-06-10T15:46:36.934Z"
      },
      {
        "duration": 45,
        "start_time": "2022-06-10T15:46:36.959Z"
      },
      {
        "duration": 35,
        "start_time": "2022-06-10T15:46:37.006Z"
      },
      {
        "duration": 33,
        "start_time": "2022-06-10T15:46:37.043Z"
      },
      {
        "duration": 7,
        "start_time": "2022-06-10T15:46:37.094Z"
      },
      {
        "duration": 54,
        "start_time": "2022-06-10T15:46:37.102Z"
      },
      {
        "duration": 39,
        "start_time": "2022-06-10T15:46:37.158Z"
      },
      {
        "duration": 11,
        "start_time": "2022-06-10T15:46:37.198Z"
      },
      {
        "duration": 30,
        "start_time": "2022-06-10T16:05:22.156Z"
      },
      {
        "duration": 15,
        "start_time": "2022-06-10T16:05:30.121Z"
      },
      {
        "duration": 16,
        "start_time": "2022-06-10T16:05:46.545Z"
      },
      {
        "duration": 17,
        "start_time": "2022-06-10T16:06:00.612Z"
      },
      {
        "duration": 16,
        "start_time": "2022-06-10T16:06:53.077Z"
      },
      {
        "duration": 14,
        "start_time": "2022-06-10T16:10:32.154Z"
      },
      {
        "duration": 14,
        "start_time": "2022-06-10T16:10:37.158Z"
      },
      {
        "duration": 13,
        "start_time": "2022-06-10T16:11:03.026Z"
      },
      {
        "duration": 14,
        "start_time": "2022-06-10T16:11:14.452Z"
      },
      {
        "duration": 14,
        "start_time": "2022-06-10T16:13:17.544Z"
      },
      {
        "duration": 13,
        "start_time": "2022-06-10T16:15:43.834Z"
      },
      {
        "duration": 17,
        "start_time": "2022-06-10T16:15:52.084Z"
      },
      {
        "duration": 5,
        "start_time": "2022-06-10T16:15:59.086Z"
      },
      {
        "duration": 15,
        "start_time": "2022-06-10T16:16:07.541Z"
      },
      {
        "duration": 1248,
        "start_time": "2022-06-10T16:24:25.983Z"
      },
      {
        "duration": 119,
        "start_time": "2022-06-10T16:24:27.233Z"
      },
      {
        "duration": 47,
        "start_time": "2022-06-10T16:24:27.354Z"
      },
      {
        "duration": 4,
        "start_time": "2022-06-10T16:24:27.406Z"
      },
      {
        "duration": 8,
        "start_time": "2022-06-10T16:24:27.413Z"
      },
      {
        "duration": 31,
        "start_time": "2022-06-10T16:24:27.423Z"
      },
      {
        "duration": 15,
        "start_time": "2022-06-10T16:24:27.456Z"
      },
      {
        "duration": 39,
        "start_time": "2022-06-10T16:24:27.473Z"
      },
      {
        "duration": 7,
        "start_time": "2022-06-10T16:24:27.513Z"
      },
      {
        "duration": 13,
        "start_time": "2022-06-10T16:24:27.523Z"
      },
      {
        "duration": 23,
        "start_time": "2022-06-10T16:24:27.537Z"
      },
      {
        "duration": 14,
        "start_time": "2022-06-10T16:24:27.562Z"
      },
      {
        "duration": 36,
        "start_time": "2022-06-10T16:24:27.577Z"
      },
      {
        "duration": 394,
        "start_time": "2022-06-10T16:24:27.614Z"
      },
      {
        "duration": 20,
        "start_time": "2022-06-10T16:24:28.011Z"
      },
      {
        "duration": 14,
        "start_time": "2022-06-10T16:24:28.033Z"
      },
      {
        "duration": 10,
        "start_time": "2022-06-10T16:24:28.048Z"
      },
      {
        "duration": 10,
        "start_time": "2022-06-10T16:24:28.060Z"
      },
      {
        "duration": 1882,
        "start_time": "2022-06-10T16:24:28.072Z"
      },
      {
        "duration": 156,
        "start_time": "2022-06-10T16:24:29.956Z"
      },
      {
        "duration": 15,
        "start_time": "2022-06-10T16:24:30.114Z"
      },
      {
        "duration": 329,
        "start_time": "2022-06-10T16:24:30.131Z"
      },
      {
        "duration": 328,
        "start_time": "2022-06-10T16:24:30.462Z"
      },
      {
        "duration": 51,
        "start_time": "2022-06-10T16:24:30.792Z"
      },
      {
        "duration": 10,
        "start_time": "2022-06-10T16:24:30.845Z"
      },
      {
        "duration": 22,
        "start_time": "2022-06-10T16:24:30.857Z"
      },
      {
        "duration": 2032,
        "start_time": "2022-06-10T16:24:30.881Z"
      },
      {
        "duration": 290,
        "start_time": "2022-06-10T16:24:32.917Z"
      },
      {
        "duration": 14,
        "start_time": "2022-06-10T16:24:33.209Z"
      },
      {
        "duration": 161,
        "start_time": "2022-06-10T16:24:33.224Z"
      },
      {
        "duration": 17,
        "start_time": "2022-06-10T16:24:33.387Z"
      },
      {
        "duration": 152,
        "start_time": "2022-06-10T16:24:33.407Z"
      },
      {
        "duration": 10,
        "start_time": "2022-06-10T16:24:33.561Z"
      },
      {
        "duration": 191,
        "start_time": "2022-06-10T16:24:33.573Z"
      },
      {
        "duration": 10,
        "start_time": "2022-06-10T16:24:33.767Z"
      },
      {
        "duration": 36,
        "start_time": "2022-06-10T16:24:33.779Z"
      },
      {
        "duration": 17,
        "start_time": "2022-06-10T16:24:33.817Z"
      },
      {
        "duration": 14,
        "start_time": "2022-06-10T16:24:33.836Z"
      },
      {
        "duration": 16,
        "start_time": "2022-06-10T16:24:33.852Z"
      },
      {
        "duration": 44,
        "start_time": "2022-06-10T16:24:33.870Z"
      },
      {
        "duration": 13,
        "start_time": "2022-06-10T16:24:33.916Z"
      },
      {
        "duration": 17,
        "start_time": "2022-06-10T16:24:33.931Z"
      },
      {
        "duration": 19,
        "start_time": "2022-06-10T16:24:33.950Z"
      },
      {
        "duration": 21,
        "start_time": "2022-06-10T16:24:33.997Z"
      },
      {
        "duration": 25,
        "start_time": "2022-06-10T16:24:34.020Z"
      },
      {
        "duration": 59,
        "start_time": "2022-06-10T16:24:34.047Z"
      },
      {
        "duration": 38,
        "start_time": "2022-06-10T16:24:34.109Z"
      },
      {
        "duration": 8,
        "start_time": "2022-06-10T16:24:34.149Z"
      },
      {
        "duration": 60,
        "start_time": "2022-06-10T16:24:34.159Z"
      },
      {
        "duration": 45,
        "start_time": "2022-06-10T16:24:34.224Z"
      },
      {
        "duration": 28,
        "start_time": "2022-06-10T16:24:34.271Z"
      },
      {
        "duration": 11,
        "start_time": "2022-06-10T16:29:31.616Z"
      },
      {
        "duration": 9,
        "start_time": "2022-06-10T16:30:24.375Z"
      },
      {
        "duration": 13,
        "start_time": "2022-06-10T16:31:02.507Z"
      },
      {
        "duration": 7,
        "start_time": "2022-06-10T16:31:17.520Z"
      },
      {
        "duration": 1387,
        "start_time": "2022-06-10T16:34:01.082Z"
      },
      {
        "duration": 95,
        "start_time": "2022-06-10T16:34:02.474Z"
      },
      {
        "duration": 47,
        "start_time": "2022-06-10T16:34:02.570Z"
      },
      {
        "duration": 3,
        "start_time": "2022-06-10T16:34:02.619Z"
      },
      {
        "duration": 13,
        "start_time": "2022-06-10T16:34:02.624Z"
      },
      {
        "duration": 32,
        "start_time": "2022-06-10T16:34:02.639Z"
      },
      {
        "duration": 24,
        "start_time": "2022-06-10T16:34:02.673Z"
      },
      {
        "duration": 19,
        "start_time": "2022-06-10T16:34:02.704Z"
      },
      {
        "duration": 10,
        "start_time": "2022-06-10T16:34:02.725Z"
      },
      {
        "duration": 7,
        "start_time": "2022-06-10T16:34:02.738Z"
      },
      {
        "duration": 23,
        "start_time": "2022-06-10T16:34:02.747Z"
      },
      {
        "duration": 33,
        "start_time": "2022-06-10T16:34:02.772Z"
      },
      {
        "duration": 30,
        "start_time": "2022-06-10T16:34:02.809Z"
      },
      {
        "duration": 414,
        "start_time": "2022-06-10T16:34:02.841Z"
      },
      {
        "duration": 17,
        "start_time": "2022-06-10T16:34:03.257Z"
      },
      {
        "duration": 3,
        "start_time": "2022-06-10T16:34:03.276Z"
      },
      {
        "duration": 12,
        "start_time": "2022-06-10T16:34:03.295Z"
      },
      {
        "duration": 11,
        "start_time": "2022-06-10T16:34:03.309Z"
      },
      {
        "duration": 1783,
        "start_time": "2022-06-10T16:34:03.322Z"
      },
      {
        "duration": 158,
        "start_time": "2022-06-10T16:34:05.107Z"
      },
      {
        "duration": 16,
        "start_time": "2022-06-10T16:34:05.267Z"
      },
      {
        "duration": 291,
        "start_time": "2022-06-10T16:34:05.300Z"
      },
      {
        "duration": 277,
        "start_time": "2022-06-10T16:34:05.593Z"
      },
      {
        "duration": 52,
        "start_time": "2022-06-10T16:34:05.872Z"
      },
      {
        "duration": 12,
        "start_time": "2022-06-10T16:34:05.926Z"
      },
      {
        "duration": 5,
        "start_time": "2022-06-10T16:34:05.940Z"
      },
      {
        "duration": 1917,
        "start_time": "2022-06-10T16:34:05.946Z"
      },
      {
        "duration": 292,
        "start_time": "2022-06-10T16:34:07.868Z"
      },
      {
        "duration": 10,
        "start_time": "2022-06-10T16:34:08.161Z"
      },
      {
        "duration": 178,
        "start_time": "2022-06-10T16:34:08.173Z"
      },
      {
        "duration": 13,
        "start_time": "2022-06-10T16:34:08.354Z"
      },
      {
        "duration": 169,
        "start_time": "2022-06-10T16:34:08.369Z"
      },
      {
        "duration": 10,
        "start_time": "2022-06-10T16:34:08.540Z"
      },
      {
        "duration": 184,
        "start_time": "2022-06-10T16:34:08.551Z"
      },
      {
        "duration": 10,
        "start_time": "2022-06-10T16:34:08.737Z"
      },
      {
        "duration": 19,
        "start_time": "2022-06-10T16:34:08.749Z"
      },
      {
        "duration": 44,
        "start_time": "2022-06-10T16:34:08.770Z"
      },
      {
        "duration": 14,
        "start_time": "2022-06-10T16:34:08.816Z"
      },
      {
        "duration": 14,
        "start_time": "2022-06-10T16:34:08.832Z"
      },
      {
        "duration": 37,
        "start_time": "2022-06-10T16:34:08.847Z"
      },
      {
        "duration": 24,
        "start_time": "2022-06-10T16:34:08.886Z"
      },
      {
        "duration": 34,
        "start_time": "2022-06-10T16:34:08.912Z"
      },
      {
        "duration": 19,
        "start_time": "2022-06-10T16:34:08.949Z"
      },
      {
        "duration": 36,
        "start_time": "2022-06-10T16:34:08.970Z"
      },
      {
        "duration": 28,
        "start_time": "2022-06-10T16:34:09.007Z"
      },
      {
        "duration": 40,
        "start_time": "2022-06-10T16:34:09.037Z"
      },
      {
        "duration": 44,
        "start_time": "2022-06-10T16:34:09.080Z"
      },
      {
        "duration": 10,
        "start_time": "2022-06-10T16:34:09.126Z"
      },
      {
        "duration": 83,
        "start_time": "2022-06-10T16:34:09.138Z"
      },
      {
        "duration": 41,
        "start_time": "2022-06-10T16:34:09.223Z"
      },
      {
        "duration": 9,
        "start_time": "2022-06-10T16:34:09.266Z"
      },
      {
        "duration": 1215,
        "start_time": "2022-06-11T11:29:50.831Z"
      },
      {
        "duration": 72,
        "start_time": "2022-06-11T11:29:52.048Z"
      },
      {
        "duration": 43,
        "start_time": "2022-06-11T11:29:52.122Z"
      },
      {
        "duration": 4,
        "start_time": "2022-06-11T11:29:52.167Z"
      },
      {
        "duration": 7,
        "start_time": "2022-06-11T11:29:52.173Z"
      },
      {
        "duration": 24,
        "start_time": "2022-06-11T11:29:52.181Z"
      },
      {
        "duration": 9,
        "start_time": "2022-06-11T11:29:52.206Z"
      },
      {
        "duration": 17,
        "start_time": "2022-06-11T11:29:52.217Z"
      },
      {
        "duration": 6,
        "start_time": "2022-06-11T11:29:52.235Z"
      },
      {
        "duration": 4,
        "start_time": "2022-06-11T11:29:52.266Z"
      },
      {
        "duration": 18,
        "start_time": "2022-06-11T11:29:52.272Z"
      },
      {
        "duration": 14,
        "start_time": "2022-06-11T11:29:52.292Z"
      },
      {
        "duration": 18,
        "start_time": "2022-06-11T11:29:52.308Z"
      },
      {
        "duration": 404,
        "start_time": "2022-06-11T11:29:52.327Z"
      },
      {
        "duration": 16,
        "start_time": "2022-06-11T11:29:52.732Z"
      },
      {
        "duration": 15,
        "start_time": "2022-06-11T11:29:52.750Z"
      },
      {
        "duration": 7,
        "start_time": "2022-06-11T11:29:52.767Z"
      },
      {
        "duration": 7,
        "start_time": "2022-06-11T11:29:52.775Z"
      },
      {
        "duration": 1808,
        "start_time": "2022-06-11T11:29:52.783Z"
      },
      {
        "duration": 276,
        "start_time": "2022-06-11T11:29:54.593Z"
      },
      {
        "duration": 14,
        "start_time": "2022-06-11T11:29:54.870Z"
      },
      {
        "duration": 523,
        "start_time": "2022-06-11T11:29:54.886Z"
      },
      {
        "duration": 569,
        "start_time": "2022-06-11T11:29:55.410Z"
      },
      {
        "duration": 104,
        "start_time": "2022-06-11T11:29:55.981Z"
      },
      {
        "duration": 11,
        "start_time": "2022-06-11T11:29:56.087Z"
      },
      {
        "duration": 5,
        "start_time": "2022-06-11T11:29:56.100Z"
      },
      {
        "duration": 1871,
        "start_time": "2022-06-11T11:29:56.107Z"
      },
      {
        "duration": 245,
        "start_time": "2022-06-11T11:29:57.982Z"
      },
      {
        "duration": 9,
        "start_time": "2022-06-11T11:29:58.229Z"
      },
      {
        "duration": 155,
        "start_time": "2022-06-11T11:29:58.239Z"
      },
      {
        "duration": 9,
        "start_time": "2022-06-11T11:29:58.396Z"
      },
      {
        "duration": 159,
        "start_time": "2022-06-11T11:29:58.406Z"
      },
      {
        "duration": 11,
        "start_time": "2022-06-11T11:29:58.567Z"
      },
      {
        "duration": 160,
        "start_time": "2022-06-11T11:29:58.580Z"
      },
      {
        "duration": 8,
        "start_time": "2022-06-11T11:29:58.742Z"
      },
      {
        "duration": 22,
        "start_time": "2022-06-11T11:29:58.751Z"
      },
      {
        "duration": 14,
        "start_time": "2022-06-11T11:29:58.775Z"
      },
      {
        "duration": 15,
        "start_time": "2022-06-11T11:29:58.790Z"
      },
      {
        "duration": 20,
        "start_time": "2022-06-11T11:29:58.806Z"
      },
      {
        "duration": 38,
        "start_time": "2022-06-11T11:29:58.828Z"
      },
      {
        "duration": 34,
        "start_time": "2022-06-11T11:29:58.868Z"
      },
      {
        "duration": 28,
        "start_time": "2022-06-11T11:29:58.904Z"
      },
      {
        "duration": 22,
        "start_time": "2022-06-11T11:29:58.935Z"
      },
      {
        "duration": 27,
        "start_time": "2022-06-11T11:29:58.959Z"
      },
      {
        "duration": 18,
        "start_time": "2022-06-11T11:29:58.989Z"
      },
      {
        "duration": 49,
        "start_time": "2022-06-11T11:29:59.009Z"
      },
      {
        "duration": 42,
        "start_time": "2022-06-11T11:29:59.066Z"
      },
      {
        "duration": 6,
        "start_time": "2022-06-11T11:29:59.110Z"
      },
      {
        "duration": 48,
        "start_time": "2022-06-11T11:29:59.118Z"
      },
      {
        "duration": 32,
        "start_time": "2022-06-11T11:29:59.168Z"
      },
      {
        "duration": 6,
        "start_time": "2022-06-11T11:29:59.201Z"
      }
    ],
    "kernelspec": {
      "name": "python",
      "display_name": "Python (Pyodide)",
      "language": "python"
    },
    "language_info": {
      "codemirror_mode": {
        "name": "python",
        "version": 3
      },
      "file_extension": ".py",
      "mimetype": "text/x-python",
      "name": "python",
      "nbconvert_exporter": "python",
      "pygments_lexer": "ipython3",
      "version": "3.8"
    },
    "toc": {
      "base_numbering": 1,
      "nav_menu": {},
      "number_sections": true,
      "sideBar": true,
      "skip_h1_title": true,
      "title_cell": "Table of Contents",
      "title_sidebar": "Contents",
      "toc_cell": false,
      "toc_position": {
        "height": "calc(100% - 180px)",
        "left": "10px",
        "top": "150px",
        "width": "165px"
      },
      "toc_section_display": true,
      "toc_window_display": true
    }
  },
  "nbformat_minor": 4,
  "nbformat": 4,
  "cells": [
    {
      "cell_type": "markdown",
      "source": "# Выявление параметров, влияющих на успешность игры",
      "metadata": {}
    },
    {
      "cell_type": "markdown",
      "source": "Нужно выявить определяющие успешность игры закономерности. \nЭто позволит сделать ставку на потенциально популярный продукт и спланировать рекламные кампании.\nПеред вами данные до 2016 года. Представим, что сейчас декабрь 2016 г., и вы планируете кампанию на 2017-й. ",
      "metadata": {}
    },
    {
      "cell_type": "markdown",
      "source": "## Изучение данных",
      "metadata": {}
    },
    {
      "cell_type": "code",
      "source": "# импортируем необходимые библиотеки\nimport pandas as pd\nimport numpy as np\nimport matplotlib.pyplot as plt\nfrom scipy import stats as st\nimport seaborn as sns",
      "metadata": {},
      "execution_count": 1,
      "outputs": []
    },
    {
      "cell_type": "code",
      "source": "data = pd.read_csv('/datasets/games.csv')\n# открываем датасет\ndata.head()\n# выводим первые 5 строк датасета для ознакомления",
      "metadata": {},
      "execution_count": 2,
      "outputs": [
        {
          "execution_count": 2,
          "output_type": "execute_result",
          "data": {
            "text/html": [
              "<div>\n",
              "<style scoped>\n",
              "    .dataframe tbody tr th:only-of-type {\n",
              "        vertical-align: middle;\n",
              "    }\n",
              "\n",
              "    .dataframe tbody tr th {\n",
              "        vertical-align: top;\n",
              "    }\n",
              "\n",
              "    .dataframe thead th {\n",
              "        text-align: right;\n",
              "    }\n",
              "</style>\n",
              "<table border=\"1\" class=\"dataframe\">\n",
              "  <thead>\n",
              "    <tr style=\"text-align: right;\">\n",
              "      <th></th>\n",
              "      <th>Name</th>\n",
              "      <th>Platform</th>\n",
              "      <th>Year_of_Release</th>\n",
              "      <th>Genre</th>\n",
              "      <th>NA_sales</th>\n",
              "      <th>EU_sales</th>\n",
              "      <th>JP_sales</th>\n",
              "      <th>Other_sales</th>\n",
              "      <th>Critic_Score</th>\n",
              "      <th>User_Score</th>\n",
              "      <th>Rating</th>\n",
              "    </tr>\n",
              "  </thead>\n",
              "  <tbody>\n",
              "    <tr>\n",
              "      <th>0</th>\n",
              "      <td>Wii Sports</td>\n",
              "      <td>Wii</td>\n",
              "      <td>2006.0</td>\n",
              "      <td>Sports</td>\n",
              "      <td>41.36</td>\n",
              "      <td>28.96</td>\n",
              "      <td>3.77</td>\n",
              "      <td>8.45</td>\n",
              "      <td>76.0</td>\n",
              "      <td>8</td>\n",
              "      <td>E</td>\n",
              "    </tr>\n",
              "    <tr>\n",
              "      <th>1</th>\n",
              "      <td>Super Mario Bros.</td>\n",
              "      <td>NES</td>\n",
              "      <td>1985.0</td>\n",
              "      <td>Platform</td>\n",
              "      <td>29.08</td>\n",
              "      <td>3.58</td>\n",
              "      <td>6.81</td>\n",
              "      <td>0.77</td>\n",
              "      <td>NaN</td>\n",
              "      <td>NaN</td>\n",
              "      <td>NaN</td>\n",
              "    </tr>\n",
              "    <tr>\n",
              "      <th>2</th>\n",
              "      <td>Mario Kart Wii</td>\n",
              "      <td>Wii</td>\n",
              "      <td>2008.0</td>\n",
              "      <td>Racing</td>\n",
              "      <td>15.68</td>\n",
              "      <td>12.76</td>\n",
              "      <td>3.79</td>\n",
              "      <td>3.29</td>\n",
              "      <td>82.0</td>\n",
              "      <td>8.3</td>\n",
              "      <td>E</td>\n",
              "    </tr>\n",
              "    <tr>\n",
              "      <th>3</th>\n",
              "      <td>Wii Sports Resort</td>\n",
              "      <td>Wii</td>\n",
              "      <td>2009.0</td>\n",
              "      <td>Sports</td>\n",
              "      <td>15.61</td>\n",
              "      <td>10.93</td>\n",
              "      <td>3.28</td>\n",
              "      <td>2.95</td>\n",
              "      <td>80.0</td>\n",
              "      <td>8</td>\n",
              "      <td>E</td>\n",
              "    </tr>\n",
              "    <tr>\n",
              "      <th>4</th>\n",
              "      <td>Pokemon Red/Pokemon Blue</td>\n",
              "      <td>GB</td>\n",
              "      <td>1996.0</td>\n",
              "      <td>Role-Playing</td>\n",
              "      <td>11.27</td>\n",
              "      <td>8.89</td>\n",
              "      <td>10.22</td>\n",
              "      <td>1.00</td>\n",
              "      <td>NaN</td>\n",
              "      <td>NaN</td>\n",
              "      <td>NaN</td>\n",
              "    </tr>\n",
              "  </tbody>\n",
              "</table>\n",
              "</div>"
            ],
            "text/plain": [
              "                       Name Platform  Year_of_Release         Genre  NA_sales  \\\n",
              "0                Wii Sports      Wii           2006.0        Sports     41.36   \n",
              "1         Super Mario Bros.      NES           1985.0      Platform     29.08   \n",
              "2            Mario Kart Wii      Wii           2008.0        Racing     15.68   \n",
              "3         Wii Sports Resort      Wii           2009.0        Sports     15.61   \n",
              "4  Pokemon Red/Pokemon Blue       GB           1996.0  Role-Playing     11.27   \n",
              "\n",
              "   EU_sales  JP_sales  Other_sales  Critic_Score User_Score Rating  \n",
              "0     28.96      3.77         8.45          76.0          8      E  \n",
              "1      3.58      6.81         0.77           NaN        NaN    NaN  \n",
              "2     12.76      3.79         3.29          82.0        8.3      E  \n",
              "3     10.93      3.28         2.95          80.0          8      E  \n",
              "4      8.89     10.22         1.00           NaN        NaN    NaN  "
            ]
          },
          "metadata": {}
        }
      ]
    },
    {
      "cell_type": "code",
      "source": "data.info()\n# смотрим общую информацию о датасете\ndisplay(data.describe())\n# смотрим общую информацию о данных",
      "metadata": {},
      "execution_count": 3,
      "outputs": [
        {
          "name": "stdout",
          "output_type": "stream",
          "text": "<class 'pandas.core.frame.DataFrame'>\n\nRangeIndex: 16715 entries, 0 to 16714\n\nData columns (total 11 columns):\n\n #   Column           Non-Null Count  Dtype  \n\n---  ------           --------------  -----  \n\n 0   Name             16713 non-null  object \n\n 1   Platform         16715 non-null  object \n\n 2   Year_of_Release  16446 non-null  float64\n\n 3   Genre            16713 non-null  object \n\n 4   NA_sales         16715 non-null  float64\n\n 5   EU_sales         16715 non-null  float64\n\n 6   JP_sales         16715 non-null  float64\n\n 7   Other_sales      16715 non-null  float64\n\n 8   Critic_Score     8137 non-null   float64\n\n 9   User_Score       10014 non-null  object \n\n 10  Rating           9949 non-null   object \n\ndtypes: float64(6), object(5)\n\nmemory usage: 1.4+ MB\n"
        },
        {
          "output_type": "display_data",
          "data": {
            "text/html": [
              "<div>\n",
              "<style scoped>\n",
              "    .dataframe tbody tr th:only-of-type {\n",
              "        vertical-align: middle;\n",
              "    }\n",
              "\n",
              "    .dataframe tbody tr th {\n",
              "        vertical-align: top;\n",
              "    }\n",
              "\n",
              "    .dataframe thead th {\n",
              "        text-align: right;\n",
              "    }\n",
              "</style>\n",
              "<table border=\"1\" class=\"dataframe\">\n",
              "  <thead>\n",
              "    <tr style=\"text-align: right;\">\n",
              "      <th></th>\n",
              "      <th>Year_of_Release</th>\n",
              "      <th>NA_sales</th>\n",
              "      <th>EU_sales</th>\n",
              "      <th>JP_sales</th>\n",
              "      <th>Other_sales</th>\n",
              "      <th>Critic_Score</th>\n",
              "    </tr>\n",
              "  </thead>\n",
              "  <tbody>\n",
              "    <tr>\n",
              "      <th>count</th>\n",
              "      <td>16446.000000</td>\n",
              "      <td>16715.000000</td>\n",
              "      <td>16715.000000</td>\n",
              "      <td>16715.000000</td>\n",
              "      <td>16715.000000</td>\n",
              "      <td>8137.000000</td>\n",
              "    </tr>\n",
              "    <tr>\n",
              "      <th>mean</th>\n",
              "      <td>2006.484616</td>\n",
              "      <td>0.263377</td>\n",
              "      <td>0.145060</td>\n",
              "      <td>0.077617</td>\n",
              "      <td>0.047342</td>\n",
              "      <td>68.967679</td>\n",
              "    </tr>\n",
              "    <tr>\n",
              "      <th>std</th>\n",
              "      <td>5.877050</td>\n",
              "      <td>0.813604</td>\n",
              "      <td>0.503339</td>\n",
              "      <td>0.308853</td>\n",
              "      <td>0.186731</td>\n",
              "      <td>13.938165</td>\n",
              "    </tr>\n",
              "    <tr>\n",
              "      <th>min</th>\n",
              "      <td>1980.000000</td>\n",
              "      <td>0.000000</td>\n",
              "      <td>0.000000</td>\n",
              "      <td>0.000000</td>\n",
              "      <td>0.000000</td>\n",
              "      <td>13.000000</td>\n",
              "    </tr>\n",
              "    <tr>\n",
              "      <th>25%</th>\n",
              "      <td>2003.000000</td>\n",
              "      <td>0.000000</td>\n",
              "      <td>0.000000</td>\n",
              "      <td>0.000000</td>\n",
              "      <td>0.000000</td>\n",
              "      <td>60.000000</td>\n",
              "    </tr>\n",
              "    <tr>\n",
              "      <th>50%</th>\n",
              "      <td>2007.000000</td>\n",
              "      <td>0.080000</td>\n",
              "      <td>0.020000</td>\n",
              "      <td>0.000000</td>\n",
              "      <td>0.010000</td>\n",
              "      <td>71.000000</td>\n",
              "    </tr>\n",
              "    <tr>\n",
              "      <th>75%</th>\n",
              "      <td>2010.000000</td>\n",
              "      <td>0.240000</td>\n",
              "      <td>0.110000</td>\n",
              "      <td>0.040000</td>\n",
              "      <td>0.030000</td>\n",
              "      <td>79.000000</td>\n",
              "    </tr>\n",
              "    <tr>\n",
              "      <th>max</th>\n",
              "      <td>2016.000000</td>\n",
              "      <td>41.360000</td>\n",
              "      <td>28.960000</td>\n",
              "      <td>10.220000</td>\n",
              "      <td>10.570000</td>\n",
              "      <td>98.000000</td>\n",
              "    </tr>\n",
              "  </tbody>\n",
              "</table>\n",
              "</div>"
            ],
            "text/plain": [
              "       Year_of_Release      NA_sales      EU_sales      JP_sales  \\\n",
              "count     16446.000000  16715.000000  16715.000000  16715.000000   \n",
              "mean       2006.484616      0.263377      0.145060      0.077617   \n",
              "std           5.877050      0.813604      0.503339      0.308853   \n",
              "min        1980.000000      0.000000      0.000000      0.000000   \n",
              "25%        2003.000000      0.000000      0.000000      0.000000   \n",
              "50%        2007.000000      0.080000      0.020000      0.000000   \n",
              "75%        2010.000000      0.240000      0.110000      0.040000   \n",
              "max        2016.000000     41.360000     28.960000     10.220000   \n",
              "\n",
              "        Other_sales  Critic_Score  \n",
              "count  16715.000000   8137.000000  \n",
              "mean       0.047342     68.967679  \n",
              "std        0.186731     13.938165  \n",
              "min        0.000000     13.000000  \n",
              "25%        0.000000     60.000000  \n",
              "50%        0.010000     71.000000  \n",
              "75%        0.030000     79.000000  \n",
              "max       10.570000     98.000000  "
            ]
          },
          "metadata": {}
        }
      ]
    },
    {
      "cell_type": "markdown",
      "source": "Выявленные проблемы:\n1. Названия столбцов содержат верхний регистр.\n2. Года преставлены в вещественном типе данных.\n3. Пропуски в стобце Name.\n4. Пропуски в столбце Year_of_Release.\n5. Пропуски в столбце Genre.\n6. Пропуски в столбце Critic_Score.\n7. Пропуски в столбце User_Score, тип данных object.\n8. Пропуски в столбце Rating.\n9. Первый квартиль продаж на всех рынках равен 0, в Японии половина.",
      "metadata": {}
    },
    {
      "cell_type": "markdown",
      "source": "## Предобработка данных",
      "metadata": {}
    },
    {
      "cell_type": "markdown",
      "source": "### Работа с названиями колонок и добавление колонки с общей суммой продаж",
      "metadata": {}
    },
    {
      "cell_type": "code",
      "source": "data.columns = data.columns.str.lower() # переводим названия колонок в нижний регистр",
      "metadata": {},
      "execution_count": 4,
      "outputs": []
    },
    {
      "cell_type": "code",
      "source": "data.shape",
      "metadata": {},
      "execution_count": 5,
      "outputs": [
        {
          "execution_count": 5,
          "output_type": "execute_result",
          "data": {
            "text/plain": [
              "(16715, 11)"
            ]
          },
          "metadata": {}
        }
      ]
    },
    {
      "cell_type": "code",
      "source": "data[data['year_of_release'].isna()]\n# смотрим строки с пропущенными значениями года выпуска",
      "metadata": {},
      "execution_count": 6,
      "outputs": [
        {
          "execution_count": 6,
          "output_type": "execute_result",
          "data": {
            "text/html": [
              "<div>\n",
              "<style scoped>\n",
              "    .dataframe tbody tr th:only-of-type {\n",
              "        vertical-align: middle;\n",
              "    }\n",
              "\n",
              "    .dataframe tbody tr th {\n",
              "        vertical-align: top;\n",
              "    }\n",
              "\n",
              "    .dataframe thead th {\n",
              "        text-align: right;\n",
              "    }\n",
              "</style>\n",
              "<table border=\"1\" class=\"dataframe\">\n",
              "  <thead>\n",
              "    <tr style=\"text-align: right;\">\n",
              "      <th></th>\n",
              "      <th>name</th>\n",
              "      <th>platform</th>\n",
              "      <th>year_of_release</th>\n",
              "      <th>genre</th>\n",
              "      <th>na_sales</th>\n",
              "      <th>eu_sales</th>\n",
              "      <th>jp_sales</th>\n",
              "      <th>other_sales</th>\n",
              "      <th>critic_score</th>\n",
              "      <th>user_score</th>\n",
              "      <th>rating</th>\n",
              "    </tr>\n",
              "  </thead>\n",
              "  <tbody>\n",
              "    <tr>\n",
              "      <th>183</th>\n",
              "      <td>Madden NFL 2004</td>\n",
              "      <td>PS2</td>\n",
              "      <td>NaN</td>\n",
              "      <td>Sports</td>\n",
              "      <td>4.26</td>\n",
              "      <td>0.26</td>\n",
              "      <td>0.01</td>\n",
              "      <td>0.71</td>\n",
              "      <td>94.0</td>\n",
              "      <td>8.5</td>\n",
              "      <td>E</td>\n",
              "    </tr>\n",
              "    <tr>\n",
              "      <th>377</th>\n",
              "      <td>FIFA Soccer 2004</td>\n",
              "      <td>PS2</td>\n",
              "      <td>NaN</td>\n",
              "      <td>Sports</td>\n",
              "      <td>0.59</td>\n",
              "      <td>2.36</td>\n",
              "      <td>0.04</td>\n",
              "      <td>0.51</td>\n",
              "      <td>84.0</td>\n",
              "      <td>6.4</td>\n",
              "      <td>E</td>\n",
              "    </tr>\n",
              "    <tr>\n",
              "      <th>456</th>\n",
              "      <td>LEGO Batman: The Videogame</td>\n",
              "      <td>Wii</td>\n",
              "      <td>NaN</td>\n",
              "      <td>Action</td>\n",
              "      <td>1.80</td>\n",
              "      <td>0.97</td>\n",
              "      <td>0.00</td>\n",
              "      <td>0.29</td>\n",
              "      <td>74.0</td>\n",
              "      <td>7.9</td>\n",
              "      <td>E10+</td>\n",
              "    </tr>\n",
              "    <tr>\n",
              "      <th>475</th>\n",
              "      <td>wwe Smackdown vs. Raw 2006</td>\n",
              "      <td>PS2</td>\n",
              "      <td>NaN</td>\n",
              "      <td>Fighting</td>\n",
              "      <td>1.57</td>\n",
              "      <td>1.02</td>\n",
              "      <td>0.00</td>\n",
              "      <td>0.41</td>\n",
              "      <td>NaN</td>\n",
              "      <td>NaN</td>\n",
              "      <td>NaN</td>\n",
              "    </tr>\n",
              "    <tr>\n",
              "      <th>609</th>\n",
              "      <td>Space Invaders</td>\n",
              "      <td>2600</td>\n",
              "      <td>NaN</td>\n",
              "      <td>Shooter</td>\n",
              "      <td>2.36</td>\n",
              "      <td>0.14</td>\n",
              "      <td>0.00</td>\n",
              "      <td>0.03</td>\n",
              "      <td>NaN</td>\n",
              "      <td>NaN</td>\n",
              "      <td>NaN</td>\n",
              "    </tr>\n",
              "    <tr>\n",
              "      <th>...</th>\n",
              "      <td>...</td>\n",
              "      <td>...</td>\n",
              "      <td>...</td>\n",
              "      <td>...</td>\n",
              "      <td>...</td>\n",
              "      <td>...</td>\n",
              "      <td>...</td>\n",
              "      <td>...</td>\n",
              "      <td>...</td>\n",
              "      <td>...</td>\n",
              "      <td>...</td>\n",
              "    </tr>\n",
              "    <tr>\n",
              "      <th>16373</th>\n",
              "      <td>PDC World Championship Darts 2008</td>\n",
              "      <td>PSP</td>\n",
              "      <td>NaN</td>\n",
              "      <td>Sports</td>\n",
              "      <td>0.01</td>\n",
              "      <td>0.00</td>\n",
              "      <td>0.00</td>\n",
              "      <td>0.00</td>\n",
              "      <td>43.0</td>\n",
              "      <td>tbd</td>\n",
              "      <td>E10+</td>\n",
              "    </tr>\n",
              "    <tr>\n",
              "      <th>16405</th>\n",
              "      <td>Freaky Flyers</td>\n",
              "      <td>GC</td>\n",
              "      <td>NaN</td>\n",
              "      <td>Racing</td>\n",
              "      <td>0.01</td>\n",
              "      <td>0.00</td>\n",
              "      <td>0.00</td>\n",
              "      <td>0.00</td>\n",
              "      <td>69.0</td>\n",
              "      <td>6.5</td>\n",
              "      <td>T</td>\n",
              "    </tr>\n",
              "    <tr>\n",
              "      <th>16448</th>\n",
              "      <td>Inversion</td>\n",
              "      <td>PC</td>\n",
              "      <td>NaN</td>\n",
              "      <td>Shooter</td>\n",
              "      <td>0.01</td>\n",
              "      <td>0.00</td>\n",
              "      <td>0.00</td>\n",
              "      <td>0.00</td>\n",
              "      <td>59.0</td>\n",
              "      <td>6.7</td>\n",
              "      <td>M</td>\n",
              "    </tr>\n",
              "    <tr>\n",
              "      <th>16458</th>\n",
              "      <td>Hakuouki: Shinsengumi Kitan</td>\n",
              "      <td>PS3</td>\n",
              "      <td>NaN</td>\n",
              "      <td>Adventure</td>\n",
              "      <td>0.01</td>\n",
              "      <td>0.00</td>\n",
              "      <td>0.00</td>\n",
              "      <td>0.00</td>\n",
              "      <td>NaN</td>\n",
              "      <td>NaN</td>\n",
              "      <td>NaN</td>\n",
              "    </tr>\n",
              "    <tr>\n",
              "      <th>16522</th>\n",
              "      <td>Virtua Quest</td>\n",
              "      <td>GC</td>\n",
              "      <td>NaN</td>\n",
              "      <td>Role-Playing</td>\n",
              "      <td>0.01</td>\n",
              "      <td>0.00</td>\n",
              "      <td>0.00</td>\n",
              "      <td>0.00</td>\n",
              "      <td>55.0</td>\n",
              "      <td>5.5</td>\n",
              "      <td>T</td>\n",
              "    </tr>\n",
              "  </tbody>\n",
              "</table>\n",
              "<p>269 rows × 11 columns</p>\n",
              "</div>"
            ],
            "text/plain": [
              "                                    name platform  year_of_release  \\\n",
              "183                      Madden NFL 2004      PS2              NaN   \n",
              "377                     FIFA Soccer 2004      PS2              NaN   \n",
              "456           LEGO Batman: The Videogame      Wii              NaN   \n",
              "475           wwe Smackdown vs. Raw 2006      PS2              NaN   \n",
              "609                       Space Invaders     2600              NaN   \n",
              "...                                  ...      ...              ...   \n",
              "16373  PDC World Championship Darts 2008      PSP              NaN   \n",
              "16405                      Freaky Flyers       GC              NaN   \n",
              "16448                          Inversion       PC              NaN   \n",
              "16458        Hakuouki: Shinsengumi Kitan      PS3              NaN   \n",
              "16522                       Virtua Quest       GC              NaN   \n",
              "\n",
              "              genre  na_sales  eu_sales  jp_sales  other_sales  critic_score  \\\n",
              "183          Sports      4.26      0.26      0.01         0.71          94.0   \n",
              "377          Sports      0.59      2.36      0.04         0.51          84.0   \n",
              "456          Action      1.80      0.97      0.00         0.29          74.0   \n",
              "475        Fighting      1.57      1.02      0.00         0.41           NaN   \n",
              "609         Shooter      2.36      0.14      0.00         0.03           NaN   \n",
              "...             ...       ...       ...       ...          ...           ...   \n",
              "16373        Sports      0.01      0.00      0.00         0.00          43.0   \n",
              "16405        Racing      0.01      0.00      0.00         0.00          69.0   \n",
              "16448       Shooter      0.01      0.00      0.00         0.00          59.0   \n",
              "16458     Adventure      0.01      0.00      0.00         0.00           NaN   \n",
              "16522  Role-Playing      0.01      0.00      0.00         0.00          55.0   \n",
              "\n",
              "      user_score rating  \n",
              "183          8.5      E  \n",
              "377          6.4      E  \n",
              "456          7.9   E10+  \n",
              "475          NaN    NaN  \n",
              "609          NaN    NaN  \n",
              "...          ...    ...  \n",
              "16373        tbd   E10+  \n",
              "16405        6.5      T  \n",
              "16448        6.7      M  \n",
              "16458        NaN    NaN  \n",
              "16522        5.5      T  \n",
              "\n",
              "[269 rows x 11 columns]"
            ]
          },
          "metadata": {}
        }
      ]
    },
    {
      "cell_type": "code",
      "source": "data = data.dropna(subset=['year_of_release']) # удаляем строки с пропущенными годами\ndata['year_of_release'] = data['year_of_release'].astype('int')\n# переводим значения в столбце из вещественного типа в целочисленный\ndata.shape",
      "metadata": {},
      "execution_count": 7,
      "outputs": [
        {
          "execution_count": 7,
          "output_type": "execute_result",
          "data": {
            "text/plain": [
              "(16446, 11)"
            ]
          },
          "metadata": {}
        }
      ]
    },
    {
      "cell_type": "code",
      "source": "data['world_sales'] = data['na_sales'] + data['eu_sales'] + data['jp_sales'] + data['other_sales']\n# создаём новый столбец с суммарными продажами по всему миру\ndata.head()\n# выводим первые пять строк измененного датасета",
      "metadata": {},
      "execution_count": 8,
      "outputs": [
        {
          "execution_count": 8,
          "output_type": "execute_result",
          "data": {
            "text/html": [
              "<div>\n",
              "<style scoped>\n",
              "    .dataframe tbody tr th:only-of-type {\n",
              "        vertical-align: middle;\n",
              "    }\n",
              "\n",
              "    .dataframe tbody tr th {\n",
              "        vertical-align: top;\n",
              "    }\n",
              "\n",
              "    .dataframe thead th {\n",
              "        text-align: right;\n",
              "    }\n",
              "</style>\n",
              "<table border=\"1\" class=\"dataframe\">\n",
              "  <thead>\n",
              "    <tr style=\"text-align: right;\">\n",
              "      <th></th>\n",
              "      <th>name</th>\n",
              "      <th>platform</th>\n",
              "      <th>year_of_release</th>\n",
              "      <th>genre</th>\n",
              "      <th>na_sales</th>\n",
              "      <th>eu_sales</th>\n",
              "      <th>jp_sales</th>\n",
              "      <th>other_sales</th>\n",
              "      <th>critic_score</th>\n",
              "      <th>user_score</th>\n",
              "      <th>rating</th>\n",
              "      <th>world_sales</th>\n",
              "    </tr>\n",
              "  </thead>\n",
              "  <tbody>\n",
              "    <tr>\n",
              "      <th>0</th>\n",
              "      <td>Wii Sports</td>\n",
              "      <td>Wii</td>\n",
              "      <td>2006</td>\n",
              "      <td>Sports</td>\n",
              "      <td>41.36</td>\n",
              "      <td>28.96</td>\n",
              "      <td>3.77</td>\n",
              "      <td>8.45</td>\n",
              "      <td>76.0</td>\n",
              "      <td>8</td>\n",
              "      <td>E</td>\n",
              "      <td>82.54</td>\n",
              "    </tr>\n",
              "    <tr>\n",
              "      <th>1</th>\n",
              "      <td>Super Mario Bros.</td>\n",
              "      <td>NES</td>\n",
              "      <td>1985</td>\n",
              "      <td>Platform</td>\n",
              "      <td>29.08</td>\n",
              "      <td>3.58</td>\n",
              "      <td>6.81</td>\n",
              "      <td>0.77</td>\n",
              "      <td>NaN</td>\n",
              "      <td>NaN</td>\n",
              "      <td>NaN</td>\n",
              "      <td>40.24</td>\n",
              "    </tr>\n",
              "    <tr>\n",
              "      <th>2</th>\n",
              "      <td>Mario Kart Wii</td>\n",
              "      <td>Wii</td>\n",
              "      <td>2008</td>\n",
              "      <td>Racing</td>\n",
              "      <td>15.68</td>\n",
              "      <td>12.76</td>\n",
              "      <td>3.79</td>\n",
              "      <td>3.29</td>\n",
              "      <td>82.0</td>\n",
              "      <td>8.3</td>\n",
              "      <td>E</td>\n",
              "      <td>35.52</td>\n",
              "    </tr>\n",
              "    <tr>\n",
              "      <th>3</th>\n",
              "      <td>Wii Sports Resort</td>\n",
              "      <td>Wii</td>\n",
              "      <td>2009</td>\n",
              "      <td>Sports</td>\n",
              "      <td>15.61</td>\n",
              "      <td>10.93</td>\n",
              "      <td>3.28</td>\n",
              "      <td>2.95</td>\n",
              "      <td>80.0</td>\n",
              "      <td>8</td>\n",
              "      <td>E</td>\n",
              "      <td>32.77</td>\n",
              "    </tr>\n",
              "    <tr>\n",
              "      <th>4</th>\n",
              "      <td>Pokemon Red/Pokemon Blue</td>\n",
              "      <td>GB</td>\n",
              "      <td>1996</td>\n",
              "      <td>Role-Playing</td>\n",
              "      <td>11.27</td>\n",
              "      <td>8.89</td>\n",
              "      <td>10.22</td>\n",
              "      <td>1.00</td>\n",
              "      <td>NaN</td>\n",
              "      <td>NaN</td>\n",
              "      <td>NaN</td>\n",
              "      <td>31.38</td>\n",
              "    </tr>\n",
              "  </tbody>\n",
              "</table>\n",
              "</div>"
            ],
            "text/plain": [
              "                       name platform  year_of_release         genre  na_sales  \\\n",
              "0                Wii Sports      Wii             2006        Sports     41.36   \n",
              "1         Super Mario Bros.      NES             1985      Platform     29.08   \n",
              "2            Mario Kart Wii      Wii             2008        Racing     15.68   \n",
              "3         Wii Sports Resort      Wii             2009        Sports     15.61   \n",
              "4  Pokemon Red/Pokemon Blue       GB             1996  Role-Playing     11.27   \n",
              "\n",
              "   eu_sales  jp_sales  other_sales  critic_score user_score rating  \\\n",
              "0     28.96      3.77         8.45          76.0          8      E   \n",
              "1      3.58      6.81         0.77           NaN        NaN    NaN   \n",
              "2     12.76      3.79         3.29          82.0        8.3      E   \n",
              "3     10.93      3.28         2.95          80.0          8      E   \n",
              "4      8.89     10.22         1.00           NaN        NaN    NaN   \n",
              "\n",
              "   world_sales  \n",
              "0        82.54  \n",
              "1        40.24  \n",
              "2        35.52  \n",
              "3        32.77  \n",
              "4        31.38  "
            ]
          },
          "metadata": {}
        }
      ]
    },
    {
      "cell_type": "markdown",
      "source": "### Обработка пропусков",
      "metadata": {}
    },
    {
      "cell_type": "markdown",
      "source": "Пропуски могли образоваться или из-за того, что игра выходила давно, и тогда не было ни оценок, ни рейтингов игр. Также, возможно, дело в том, что некоторые игры имеют низкую популярность, поэтому их тоже никто не оценивал. Какие-то значения могли быть пропущены в ходе сбора данных, например, можно было использовать данные не только из ESRB, но также из европейских и японских рейтинговых агенств. Тоже самое касается и оценок игр критиками и игроками.\n\nКак будем обрабатывать пропуски?\n\n\nЗначения 'tbd' в столбце user_score заменяем на NaN, чтобы их можно было обработать.\n\nПропуски в столбце rating заменим на unknown, чтобы данные по играм без рейтинга не потерять в дальнейшем.",
      "metadata": {}
    },
    {
      "cell_type": "code",
      "source": "data['user_score'] = data['user_score'].replace('tbd', np.nan)\n# заменяем сокращение tbd на пропуски, чтобы иметь возможность обработать данные\ndata['user_score'] = data['user_score'].astype('float64')",
      "metadata": {},
      "execution_count": 9,
      "outputs": []
    },
    {
      "cell_type": "code",
      "source": "data['name'] = data['name'].fillna('noname')\n# заменяем пропуски в столбце на noname",
      "metadata": {},
      "execution_count": 10,
      "outputs": []
    },
    {
      "cell_type": "code",
      "source": "data['rating'] = data['rating'].fillna('unknown')\ndata.info()\n# смотрим общую информацию о датасете",
      "metadata": {
        "scrolled": true
      },
      "execution_count": 11,
      "outputs": [
        {
          "name": "stdout",
          "output_type": "stream",
          "text": "<class 'pandas.core.frame.DataFrame'>\n\nInt64Index: 16446 entries, 0 to 16714\n\nData columns (total 12 columns):\n\n #   Column           Non-Null Count  Dtype  \n\n---  ------           --------------  -----  \n\n 0   name             16446 non-null  object \n\n 1   platform         16446 non-null  object \n\n 2   year_of_release  16446 non-null  int64  \n\n 3   genre            16444 non-null  object \n\n 4   na_sales         16446 non-null  float64\n\n 5   eu_sales         16446 non-null  float64\n\n 6   jp_sales         16446 non-null  float64\n\n 7   other_sales      16446 non-null  float64\n\n 8   critic_score     7983 non-null   float64\n\n 9   user_score       7463 non-null   float64\n\n 10  rating           16446 non-null  object \n\n 11  world_sales      16446 non-null  float64\n\ndtypes: float64(7), int64(1), object(4)\n\nmemory usage: 1.6+ MB\n"
        }
      ]
    },
    {
      "cell_type": "code",
      "source": "data.head() # выводим первые пять строк измененного датасета",
      "metadata": {},
      "execution_count": 12,
      "outputs": [
        {
          "execution_count": 12,
          "output_type": "execute_result",
          "data": {
            "text/html": [
              "<div>\n",
              "<style scoped>\n",
              "    .dataframe tbody tr th:only-of-type {\n",
              "        vertical-align: middle;\n",
              "    }\n",
              "\n",
              "    .dataframe tbody tr th {\n",
              "        vertical-align: top;\n",
              "    }\n",
              "\n",
              "    .dataframe thead th {\n",
              "        text-align: right;\n",
              "    }\n",
              "</style>\n",
              "<table border=\"1\" class=\"dataframe\">\n",
              "  <thead>\n",
              "    <tr style=\"text-align: right;\">\n",
              "      <th></th>\n",
              "      <th>name</th>\n",
              "      <th>platform</th>\n",
              "      <th>year_of_release</th>\n",
              "      <th>genre</th>\n",
              "      <th>na_sales</th>\n",
              "      <th>eu_sales</th>\n",
              "      <th>jp_sales</th>\n",
              "      <th>other_sales</th>\n",
              "      <th>critic_score</th>\n",
              "      <th>user_score</th>\n",
              "      <th>rating</th>\n",
              "      <th>world_sales</th>\n",
              "    </tr>\n",
              "  </thead>\n",
              "  <tbody>\n",
              "    <tr>\n",
              "      <th>0</th>\n",
              "      <td>Wii Sports</td>\n",
              "      <td>Wii</td>\n",
              "      <td>2006</td>\n",
              "      <td>Sports</td>\n",
              "      <td>41.36</td>\n",
              "      <td>28.96</td>\n",
              "      <td>3.77</td>\n",
              "      <td>8.45</td>\n",
              "      <td>76.0</td>\n",
              "      <td>8.0</td>\n",
              "      <td>E</td>\n",
              "      <td>82.54</td>\n",
              "    </tr>\n",
              "    <tr>\n",
              "      <th>1</th>\n",
              "      <td>Super Mario Bros.</td>\n",
              "      <td>NES</td>\n",
              "      <td>1985</td>\n",
              "      <td>Platform</td>\n",
              "      <td>29.08</td>\n",
              "      <td>3.58</td>\n",
              "      <td>6.81</td>\n",
              "      <td>0.77</td>\n",
              "      <td>NaN</td>\n",
              "      <td>NaN</td>\n",
              "      <td>unknown</td>\n",
              "      <td>40.24</td>\n",
              "    </tr>\n",
              "    <tr>\n",
              "      <th>2</th>\n",
              "      <td>Mario Kart Wii</td>\n",
              "      <td>Wii</td>\n",
              "      <td>2008</td>\n",
              "      <td>Racing</td>\n",
              "      <td>15.68</td>\n",
              "      <td>12.76</td>\n",
              "      <td>3.79</td>\n",
              "      <td>3.29</td>\n",
              "      <td>82.0</td>\n",
              "      <td>8.3</td>\n",
              "      <td>E</td>\n",
              "      <td>35.52</td>\n",
              "    </tr>\n",
              "    <tr>\n",
              "      <th>3</th>\n",
              "      <td>Wii Sports Resort</td>\n",
              "      <td>Wii</td>\n",
              "      <td>2009</td>\n",
              "      <td>Sports</td>\n",
              "      <td>15.61</td>\n",
              "      <td>10.93</td>\n",
              "      <td>3.28</td>\n",
              "      <td>2.95</td>\n",
              "      <td>80.0</td>\n",
              "      <td>8.0</td>\n",
              "      <td>E</td>\n",
              "      <td>32.77</td>\n",
              "    </tr>\n",
              "    <tr>\n",
              "      <th>4</th>\n",
              "      <td>Pokemon Red/Pokemon Blue</td>\n",
              "      <td>GB</td>\n",
              "      <td>1996</td>\n",
              "      <td>Role-Playing</td>\n",
              "      <td>11.27</td>\n",
              "      <td>8.89</td>\n",
              "      <td>10.22</td>\n",
              "      <td>1.00</td>\n",
              "      <td>NaN</td>\n",
              "      <td>NaN</td>\n",
              "      <td>unknown</td>\n",
              "      <td>31.38</td>\n",
              "    </tr>\n",
              "  </tbody>\n",
              "</table>\n",
              "</div>"
            ],
            "text/plain": [
              "                       name platform  year_of_release         genre  na_sales  \\\n",
              "0                Wii Sports      Wii             2006        Sports     41.36   \n",
              "1         Super Mario Bros.      NES             1985      Platform     29.08   \n",
              "2            Mario Kart Wii      Wii             2008        Racing     15.68   \n",
              "3         Wii Sports Resort      Wii             2009        Sports     15.61   \n",
              "4  Pokemon Red/Pokemon Blue       GB             1996  Role-Playing     11.27   \n",
              "\n",
              "   eu_sales  jp_sales  other_sales  critic_score  user_score   rating  \\\n",
              "0     28.96      3.77         8.45          76.0         8.0        E   \n",
              "1      3.58      6.81         0.77           NaN         NaN  unknown   \n",
              "2     12.76      3.79         3.29          82.0         8.3        E   \n",
              "3     10.93      3.28         2.95          80.0         8.0        E   \n",
              "4      8.89     10.22         1.00           NaN         NaN  unknown   \n",
              "\n",
              "   world_sales  \n",
              "0        82.54  \n",
              "1        40.24  \n",
              "2        35.52  \n",
              "3        32.77  \n",
              "4        31.38  "
            ]
          },
          "metadata": {}
        }
      ]
    },
    {
      "cell_type": "markdown",
      "source": "### Заключение.\n\nПропуски обработали, новый столбец с общемировыми продажами добавили, названия колонок привели к нижнему регистру, можно приступать к анализу.",
      "metadata": {}
    },
    {
      "cell_type": "markdown",
      "source": "## Исследовательный анализ данных",
      "metadata": {}
    },
    {
      "cell_type": "markdown",
      "source": "### Количество выпущенных игр по годам",
      "metadata": {}
    },
    {
      "cell_type": "code",
      "source": "data_years = data.pivot_table(index='year_of_release', values='name', aggfunc='count')\n# создаём сводную таблицу с количеством выпущенных игр по годам\ndisplay(data_years)\n# выводим её на экран",
      "metadata": {},
      "execution_count": 13,
      "outputs": [
        {
          "output_type": "display_data",
          "data": {
            "text/html": [
              "<div>\n",
              "<style scoped>\n",
              "    .dataframe tbody tr th:only-of-type {\n",
              "        vertical-align: middle;\n",
              "    }\n",
              "\n",
              "    .dataframe tbody tr th {\n",
              "        vertical-align: top;\n",
              "    }\n",
              "\n",
              "    .dataframe thead th {\n",
              "        text-align: right;\n",
              "    }\n",
              "</style>\n",
              "<table border=\"1\" class=\"dataframe\">\n",
              "  <thead>\n",
              "    <tr style=\"text-align: right;\">\n",
              "      <th></th>\n",
              "      <th>name</th>\n",
              "    </tr>\n",
              "    <tr>\n",
              "      <th>year_of_release</th>\n",
              "      <th></th>\n",
              "    </tr>\n",
              "  </thead>\n",
              "  <tbody>\n",
              "    <tr>\n",
              "      <th>1980</th>\n",
              "      <td>9</td>\n",
              "    </tr>\n",
              "    <tr>\n",
              "      <th>1981</th>\n",
              "      <td>46</td>\n",
              "    </tr>\n",
              "    <tr>\n",
              "      <th>1982</th>\n",
              "      <td>36</td>\n",
              "    </tr>\n",
              "    <tr>\n",
              "      <th>1983</th>\n",
              "      <td>17</td>\n",
              "    </tr>\n",
              "    <tr>\n",
              "      <th>1984</th>\n",
              "      <td>14</td>\n",
              "    </tr>\n",
              "    <tr>\n",
              "      <th>1985</th>\n",
              "      <td>14</td>\n",
              "    </tr>\n",
              "    <tr>\n",
              "      <th>1986</th>\n",
              "      <td>21</td>\n",
              "    </tr>\n",
              "    <tr>\n",
              "      <th>1987</th>\n",
              "      <td>16</td>\n",
              "    </tr>\n",
              "    <tr>\n",
              "      <th>1988</th>\n",
              "      <td>15</td>\n",
              "    </tr>\n",
              "    <tr>\n",
              "      <th>1989</th>\n",
              "      <td>17</td>\n",
              "    </tr>\n",
              "    <tr>\n",
              "      <th>1990</th>\n",
              "      <td>16</td>\n",
              "    </tr>\n",
              "    <tr>\n",
              "      <th>1991</th>\n",
              "      <td>41</td>\n",
              "    </tr>\n",
              "    <tr>\n",
              "      <th>1992</th>\n",
              "      <td>43</td>\n",
              "    </tr>\n",
              "    <tr>\n",
              "      <th>1993</th>\n",
              "      <td>62</td>\n",
              "    </tr>\n",
              "    <tr>\n",
              "      <th>1994</th>\n",
              "      <td>121</td>\n",
              "    </tr>\n",
              "    <tr>\n",
              "      <th>1995</th>\n",
              "      <td>219</td>\n",
              "    </tr>\n",
              "    <tr>\n",
              "      <th>1996</th>\n",
              "      <td>263</td>\n",
              "    </tr>\n",
              "    <tr>\n",
              "      <th>1997</th>\n",
              "      <td>289</td>\n",
              "    </tr>\n",
              "    <tr>\n",
              "      <th>1998</th>\n",
              "      <td>379</td>\n",
              "    </tr>\n",
              "    <tr>\n",
              "      <th>1999</th>\n",
              "      <td>338</td>\n",
              "    </tr>\n",
              "    <tr>\n",
              "      <th>2000</th>\n",
              "      <td>350</td>\n",
              "    </tr>\n",
              "    <tr>\n",
              "      <th>2001</th>\n",
              "      <td>482</td>\n",
              "    </tr>\n",
              "    <tr>\n",
              "      <th>2002</th>\n",
              "      <td>829</td>\n",
              "    </tr>\n",
              "    <tr>\n",
              "      <th>2003</th>\n",
              "      <td>775</td>\n",
              "    </tr>\n",
              "    <tr>\n",
              "      <th>2004</th>\n",
              "      <td>762</td>\n",
              "    </tr>\n",
              "    <tr>\n",
              "      <th>2005</th>\n",
              "      <td>939</td>\n",
              "    </tr>\n",
              "    <tr>\n",
              "      <th>2006</th>\n",
              "      <td>1006</td>\n",
              "    </tr>\n",
              "    <tr>\n",
              "      <th>2007</th>\n",
              "      <td>1197</td>\n",
              "    </tr>\n",
              "    <tr>\n",
              "      <th>2008</th>\n",
              "      <td>1427</td>\n",
              "    </tr>\n",
              "    <tr>\n",
              "      <th>2009</th>\n",
              "      <td>1426</td>\n",
              "    </tr>\n",
              "    <tr>\n",
              "      <th>2010</th>\n",
              "      <td>1255</td>\n",
              "    </tr>\n",
              "    <tr>\n",
              "      <th>2011</th>\n",
              "      <td>1136</td>\n",
              "    </tr>\n",
              "    <tr>\n",
              "      <th>2012</th>\n",
              "      <td>653</td>\n",
              "    </tr>\n",
              "    <tr>\n",
              "      <th>2013</th>\n",
              "      <td>544</td>\n",
              "    </tr>\n",
              "    <tr>\n",
              "      <th>2014</th>\n",
              "      <td>581</td>\n",
              "    </tr>\n",
              "    <tr>\n",
              "      <th>2015</th>\n",
              "      <td>606</td>\n",
              "    </tr>\n",
              "    <tr>\n",
              "      <th>2016</th>\n",
              "      <td>502</td>\n",
              "    </tr>\n",
              "  </tbody>\n",
              "</table>\n",
              "</div>"
            ],
            "text/plain": [
              "                 name\n",
              "year_of_release      \n",
              "1980                9\n",
              "1981               46\n",
              "1982               36\n",
              "1983               17\n",
              "1984               14\n",
              "1985               14\n",
              "1986               21\n",
              "1987               16\n",
              "1988               15\n",
              "1989               17\n",
              "1990               16\n",
              "1991               41\n",
              "1992               43\n",
              "1993               62\n",
              "1994              121\n",
              "1995              219\n",
              "1996              263\n",
              "1997              289\n",
              "1998              379\n",
              "1999              338\n",
              "2000              350\n",
              "2001              482\n",
              "2002              829\n",
              "2003              775\n",
              "2004              762\n",
              "2005              939\n",
              "2006             1006\n",
              "2007             1197\n",
              "2008             1427\n",
              "2009             1426\n",
              "2010             1255\n",
              "2011             1136\n",
              "2012              653\n",
              "2013              544\n",
              "2014              581\n",
              "2015              606\n",
              "2016              502"
            ]
          },
          "metadata": {}
        }
      ]
    },
    {
      "cell_type": "code",
      "source": "data_years.plot(kind='bar', grid=True, figsize=(14, 6))\nplt.title('Количество выпущенных игр по годам')\nplt.xlabel('Год')\nplt.ylabel('Штук')\nplt.legend('world_sales')\n# строим график продаж игр на данной платформе по годам",
      "metadata": {},
      "execution_count": 14,
      "outputs": [
        {
          "execution_count": 14,
          "output_type": "execute_result",
          "data": {
            "text/plain": [
              "<matplotlib.legend.Legend at 0x7f83816d9430>"
            ]
          },
          "metadata": {}
        },
        {
          "output_type": "display_data",
          "data": {
            "image/png": "[encoded data removed]",
            "text/plain": [
              "<Figure size 1008x432 with 1 Axes>"
            ]
          },
          "metadata": {
            "needs_background": "light"
          }
        }
      ]
    },
    {
      "cell_type": "markdown",
      "source": "Вывод: из таблицы видно, что до середины 90-х годов игр выпускалось очень мало, потом, возможно, вследствие развития компьютерных мощностей, а также популяризации и увеличения числа компьютеров у частных лиц, начался бурный рост индустрии.\nПосле появления на рынке консолей, специально созданных для игр, рост числа игр, выпускаемых каждый год, ещё увеличился. Длилось это до тех пор, пока, вероятно, не стали появляться игры в браузере и мобильные игры, т.е. до конца 2010-ых годов, потом начался спад.",
      "metadata": {}
    },
    {
      "cell_type": "markdown",
      "source": "### Продажи игр по платформам",
      "metadata": {}
    },
    {
      "cell_type": "code",
      "source": "data_platform = data.pivot_table(index='platform', values='world_sales', aggfunc='sum').sort_values(by='world_sales', ascending=False)\ndisplay(data_platform)",
      "metadata": {},
      "execution_count": 15,
      "outputs": [
        {
          "output_type": "display_data",
          "data": {
            "text/html": [
              "<div>\n",
              "<style scoped>\n",
              "    .dataframe tbody tr th:only-of-type {\n",
              "        vertical-align: middle;\n",
              "    }\n",
              "\n",
              "    .dataframe tbody tr th {\n",
              "        vertical-align: top;\n",
              "    }\n",
              "\n",
              "    .dataframe thead th {\n",
              "        text-align: right;\n",
              "    }\n",
              "</style>\n",
              "<table border=\"1\" class=\"dataframe\">\n",
              "  <thead>\n",
              "    <tr style=\"text-align: right;\">\n",
              "      <th></th>\n",
              "      <th>world_sales</th>\n",
              "    </tr>\n",
              "    <tr>\n",
              "      <th>platform</th>\n",
              "      <th></th>\n",
              "    </tr>\n",
              "  </thead>\n",
              "  <tbody>\n",
              "    <tr>\n",
              "      <th>PS2</th>\n",
              "      <td>1233.56</td>\n",
              "    </tr>\n",
              "    <tr>\n",
              "      <th>X360</th>\n",
              "      <td>961.24</td>\n",
              "    </tr>\n",
              "    <tr>\n",
              "      <th>PS3</th>\n",
              "      <td>931.34</td>\n",
              "    </tr>\n",
              "    <tr>\n",
              "      <th>Wii</th>\n",
              "      <td>891.18</td>\n",
              "    </tr>\n",
              "    <tr>\n",
              "      <th>DS</th>\n",
              "      <td>802.78</td>\n",
              "    </tr>\n",
              "    <tr>\n",
              "      <th>PS</th>\n",
              "      <td>727.58</td>\n",
              "    </tr>\n",
              "    <tr>\n",
              "      <th>PS4</th>\n",
              "      <td>314.14</td>\n",
              "    </tr>\n",
              "    <tr>\n",
              "      <th>GBA</th>\n",
              "      <td>312.88</td>\n",
              "    </tr>\n",
              "    <tr>\n",
              "      <th>PSP</th>\n",
              "      <td>289.53</td>\n",
              "    </tr>\n",
              "    <tr>\n",
              "      <th>3DS</th>\n",
              "      <td>257.81</td>\n",
              "    </tr>\n",
              "    <tr>\n",
              "      <th>PC</th>\n",
              "      <td>255.76</td>\n",
              "    </tr>\n",
              "    <tr>\n",
              "      <th>GB</th>\n",
              "      <td>254.43</td>\n",
              "    </tr>\n",
              "    <tr>\n",
              "      <th>XB</th>\n",
              "      <td>251.57</td>\n",
              "    </tr>\n",
              "    <tr>\n",
              "      <th>NES</th>\n",
              "      <td>251.05</td>\n",
              "    </tr>\n",
              "    <tr>\n",
              "      <th>N64</th>\n",
              "      <td>218.01</td>\n",
              "    </tr>\n",
              "    <tr>\n",
              "      <th>SNES</th>\n",
              "      <td>200.04</td>\n",
              "    </tr>\n",
              "    <tr>\n",
              "      <th>GC</th>\n",
              "      <td>196.73</td>\n",
              "    </tr>\n",
              "    <tr>\n",
              "      <th>XOne</th>\n",
              "      <td>159.32</td>\n",
              "    </tr>\n",
              "    <tr>\n",
              "      <th>2600</th>\n",
              "      <td>86.48</td>\n",
              "    </tr>\n",
              "    <tr>\n",
              "      <th>WiiU</th>\n",
              "      <td>82.19</td>\n",
              "    </tr>\n",
              "    <tr>\n",
              "      <th>PSV</th>\n",
              "      <td>53.81</td>\n",
              "    </tr>\n",
              "    <tr>\n",
              "      <th>SAT</th>\n",
              "      <td>33.59</td>\n",
              "    </tr>\n",
              "    <tr>\n",
              "      <th>GEN</th>\n",
              "      <td>30.77</td>\n",
              "    </tr>\n",
              "    <tr>\n",
              "      <th>DC</th>\n",
              "      <td>15.95</td>\n",
              "    </tr>\n",
              "    <tr>\n",
              "      <th>SCD</th>\n",
              "      <td>1.86</td>\n",
              "    </tr>\n",
              "    <tr>\n",
              "      <th>NG</th>\n",
              "      <td>1.44</td>\n",
              "    </tr>\n",
              "    <tr>\n",
              "      <th>WS</th>\n",
              "      <td>1.42</td>\n",
              "    </tr>\n",
              "    <tr>\n",
              "      <th>TG16</th>\n",
              "      <td>0.16</td>\n",
              "    </tr>\n",
              "    <tr>\n",
              "      <th>3DO</th>\n",
              "      <td>0.10</td>\n",
              "    </tr>\n",
              "    <tr>\n",
              "      <th>GG</th>\n",
              "      <td>0.04</td>\n",
              "    </tr>\n",
              "    <tr>\n",
              "      <th>PCFX</th>\n",
              "      <td>0.03</td>\n",
              "    </tr>\n",
              "  </tbody>\n",
              "</table>\n",
              "</div>"
            ],
            "text/plain": [
              "          world_sales\n",
              "platform             \n",
              "PS2           1233.56\n",
              "X360           961.24\n",
              "PS3            931.34\n",
              "Wii            891.18\n",
              "DS             802.78\n",
              "PS             727.58\n",
              "PS4            314.14\n",
              "GBA            312.88\n",
              "PSP            289.53\n",
              "3DS            257.81\n",
              "PC             255.76\n",
              "GB             254.43\n",
              "XB             251.57\n",
              "NES            251.05\n",
              "N64            218.01\n",
              "SNES           200.04\n",
              "GC             196.73\n",
              "XOne           159.32\n",
              "2600            86.48\n",
              "WiiU            82.19\n",
              "PSV             53.81\n",
              "SAT             33.59\n",
              "GEN             30.77\n",
              "DC              15.95\n",
              "SCD              1.86\n",
              "NG               1.44\n",
              "WS               1.42\n",
              "TG16             0.16\n",
              "3DO              0.10\n",
              "GG               0.04\n",
              "PCFX             0.03"
            ]
          },
          "metadata": {}
        }
      ]
    },
    {
      "cell_type": "code",
      "source": "#data_platform.sort_values(by='world_sales', ascending=False).plot(kind='barh', grid=True, figsize=(10, 10))",
      "metadata": {
        "scrolled": true
      },
      "execution_count": 16,
      "outputs": []
    },
    {
      "cell_type": "markdown",
      "source": "По данным таблицы видно, что наибольшие продажи были у следующих платформ:",
      "metadata": {}
    },
    {
      "cell_type": "code",
      "source": "data_platform_top = data_platform.reset_index().head(10)\n# создаём датасет с платформами, показавшими лучшие продажи",
      "metadata": {},
      "execution_count": 17,
      "outputs": []
    },
    {
      "cell_type": "code",
      "source": "top_platform_list = data_platform_top['platform'].unique()\nprint(top_platform_list)\n# создаём список топ-платформ",
      "metadata": {},
      "execution_count": 18,
      "outputs": [
        {
          "name": "stdout",
          "output_type": "stream",
          "text": "['PS2' 'X360' 'PS3' 'Wii' 'DS' 'PS' 'PS4' 'GBA' 'PSP' '3DS']\n"
        }
      ]
    },
    {
      "cell_type": "code",
      "source": "for platform in top_platform_list:\n    data[data['platform'] == platform].pivot_table(index='year_of_release', values='world_sales', aggfunc='sum').plot(kind='bar')\n    plt.title(platform)\n    plt.xlabel('Год')\n    plt.ylabel('Млн. копий')\n# строим графики для топ-платформ",
      "metadata": {},
      "execution_count": 19,
      "outputs": [
        {
          "output_type": "display_data",
          "data": {
            "image/png": "[encoded data removed]",
            "text/plain": [
              "<Figure size 432x288 with 1 Axes>"
            ]
          },
          "metadata": {
            "needs_background": "light"
          }
        },
        {
          "output_type": "display_data",
          "data": {
            "image/png": "[encoded data removed]",
            "text/plain": [
              "<Figure size 432x288 with 1 Axes>"
            ]
          },
          "metadata": {
            "needs_background": "light"
          }
        },
        {
          "output_type": "display_data",
          "data": {
            "image/png": "[encoded data removed]",
            "text/plain": [
              "<Figure size 432x288 with 1 Axes>"
            ]
          },
          "metadata": {
            "needs_background": "light"
          }
        },
        {
          "output_type": "display_data",
          "data": {
            "image/png": "[encoded data removed]",
            "text/plain": [
              "<Figure size 432x288 with 1 Axes>"
            ]
          },
          "metadata": {
            "needs_background": "light"
          }
        },
        {
          "output_type": "display_data",
          "data": {
            "image/png": "[encoded data removed]",
            "text/plain": [
              "<Figure size 432x288 with 1 Axes>"
            ]
          },
          "metadata": {
            "needs_background": "light"
          }
        },
        {
          "output_type": "display_data",
          "data": {
            "image/png": "[encoded data removed]",
            "text/plain": [
              "<Figure size 432x288 with 1 Axes>"
            ]
          },
          "metadata": {
            "needs_background": "light"
          }
        },
        {
          "output_type": "display_data",
          "data": {
            "image/png": "[encoded data removed]",
            "text/plain": [
              "<Figure size 432x288 with 1 Axes>"
            ]
          },
          "metadata": {
            "needs_background": "light"
          }
        },
        {
          "output_type": "display_data",
          "data": {
            "image/png": "[encoded data removed]",
            "text/plain": [
              "<Figure size 432x288 with 1 Axes>"
            ]
          },
          "metadata": {
            "needs_background": "light"
          }
        },
        {
          "output_type": "display_data",
          "data": {
            "image/png": "[encoded data removed]",
            "text/plain": [
              "<Figure size 432x288 with 1 Axes>"
            ]
          },
          "metadata": {
            "needs_background": "light"
          }
        },
        {
          "output_type": "display_data",
          "data": {
            "image/png": "[encoded data removed]",
            "text/plain": [
              "<Figure size 432x288 with 1 Axes>"
            ]
          },
          "metadata": {
            "needs_background": "light"
          }
        }
      ]
    },
    {
      "cell_type": "markdown",
      "source": "Вывод: из полученных данных видно, что средний срок жизни платфотры составляет 8-10 лет, максимальные продажи платформа показывает, как правило, в середине жизненного цикла.\n\nТогда, чтобы сделать прогноз на 2017 год и выбрать платформы, которые будут показывать в следующем году максимальные продажи, мы останавливаемся на тех, которые сейчас находятся в середине жизненного цикла и находятся на подъёме. Значит мы можем ограничиться временным отрезком в 4-5 лет.",
      "metadata": {}
    },
    {
      "cell_type": "markdown",
      "source": "### Выделяем актуальные данные",
      "metadata": {}
    },
    {
      "cell_type": "code",
      "source": "data_act = data.query('year_of_release >= 2012')\n# формируем датасет с актуальными данными\ndata_act.info()\n# смотрим общую информацию о датасете\ndata_act.describe()\n# смотрим общую информацию о данных",
      "metadata": {},
      "execution_count": 20,
      "outputs": [
        {
          "name": "stdout",
          "output_type": "stream",
          "text": "<class 'pandas.core.frame.DataFrame'>\n\nInt64Index: 2886 entries, 16 to 16714\n\nData columns (total 12 columns):\n\n #   Column           Non-Null Count  Dtype  \n\n---  ------           --------------  -----  \n\n 0   name             2886 non-null   object \n\n 1   platform         2886 non-null   object \n\n 2   year_of_release  2886 non-null   int64  \n\n 3   genre            2886 non-null   object \n\n 4   na_sales         2886 non-null   float64\n\n 5   eu_sales         2886 non-null   float64\n\n 6   jp_sales         2886 non-null   float64\n\n 7   other_sales      2886 non-null   float64\n\n 8   critic_score     1312 non-null   float64\n\n 9   user_score       1531 non-null   float64\n\n 10  rating           2886 non-null   object \n\n 11  world_sales      2886 non-null   float64\n\ndtypes: float64(7), int64(1), object(4)\n\nmemory usage: 293.1+ KB\n"
        },
        {
          "execution_count": 20,
          "output_type": "execute_result",
          "data": {
            "text/html": [
              "<div>\n",
              "<style scoped>\n",
              "    .dataframe tbody tr th:only-of-type {\n",
              "        vertical-align: middle;\n",
              "    }\n",
              "\n",
              "    .dataframe tbody tr th {\n",
              "        vertical-align: top;\n",
              "    }\n",
              "\n",
              "    .dataframe thead th {\n",
              "        text-align: right;\n",
              "    }\n",
              "</style>\n",
              "<table border=\"1\" class=\"dataframe\">\n",
              "  <thead>\n",
              "    <tr style=\"text-align: right;\">\n",
              "      <th></th>\n",
              "      <th>year_of_release</th>\n",
              "      <th>na_sales</th>\n",
              "      <th>eu_sales</th>\n",
              "      <th>jp_sales</th>\n",
              "      <th>other_sales</th>\n",
              "      <th>critic_score</th>\n",
              "      <th>user_score</th>\n",
              "      <th>world_sales</th>\n",
              "    </tr>\n",
              "  </thead>\n",
              "  <tbody>\n",
              "    <tr>\n",
              "      <th>count</th>\n",
              "      <td>2886.000000</td>\n",
              "      <td>2886.000000</td>\n",
              "      <td>2886.000000</td>\n",
              "      <td>2886.000000</td>\n",
              "      <td>2886.000000</td>\n",
              "      <td>1312.000000</td>\n",
              "      <td>1531.000000</td>\n",
              "      <td>2886.000000</td>\n",
              "    </tr>\n",
              "    <tr>\n",
              "      <th>mean</th>\n",
              "      <td>2013.916840</td>\n",
              "      <td>0.204771</td>\n",
              "      <td>0.175613</td>\n",
              "      <td>0.066729</td>\n",
              "      <td>0.054109</td>\n",
              "      <td>72.258384</td>\n",
              "      <td>6.636120</td>\n",
              "      <td>0.501223</td>\n",
              "    </tr>\n",
              "    <tr>\n",
              "      <th>std</th>\n",
              "      <td>1.411766</td>\n",
              "      <td>0.566696</td>\n",
              "      <td>0.505346</td>\n",
              "      <td>0.241575</td>\n",
              "      <td>0.164639</td>\n",
              "      <td>12.687087</td>\n",
              "      <td>1.569033</td>\n",
              "      <td>1.249157</td>\n",
              "    </tr>\n",
              "    <tr>\n",
              "      <th>min</th>\n",
              "      <td>2012.000000</td>\n",
              "      <td>0.000000</td>\n",
              "      <td>0.000000</td>\n",
              "      <td>0.000000</td>\n",
              "      <td>0.000000</td>\n",
              "      <td>13.000000</td>\n",
              "      <td>0.200000</td>\n",
              "      <td>0.010000</td>\n",
              "    </tr>\n",
              "    <tr>\n",
              "      <th>25%</th>\n",
              "      <td>2013.000000</td>\n",
              "      <td>0.000000</td>\n",
              "      <td>0.000000</td>\n",
              "      <td>0.000000</td>\n",
              "      <td>0.000000</td>\n",
              "      <td>66.000000</td>\n",
              "      <td>5.800000</td>\n",
              "      <td>0.040000</td>\n",
              "    </tr>\n",
              "    <tr>\n",
              "      <th>50%</th>\n",
              "      <td>2014.000000</td>\n",
              "      <td>0.030000</td>\n",
              "      <td>0.030000</td>\n",
              "      <td>0.010000</td>\n",
              "      <td>0.010000</td>\n",
              "      <td>74.000000</td>\n",
              "      <td>7.000000</td>\n",
              "      <td>0.120000</td>\n",
              "    </tr>\n",
              "    <tr>\n",
              "      <th>75%</th>\n",
              "      <td>2015.000000</td>\n",
              "      <td>0.170000</td>\n",
              "      <td>0.140000</td>\n",
              "      <td>0.050000</td>\n",
              "      <td>0.040000</td>\n",
              "      <td>81.000000</td>\n",
              "      <td>7.800000</td>\n",
              "      <td>0.430000</td>\n",
              "    </tr>\n",
              "    <tr>\n",
              "      <th>max</th>\n",
              "      <td>2016.000000</td>\n",
              "      <td>9.660000</td>\n",
              "      <td>9.090000</td>\n",
              "      <td>4.390000</td>\n",
              "      <td>3.960000</td>\n",
              "      <td>97.000000</td>\n",
              "      <td>9.300000</td>\n",
              "      <td>21.050000</td>\n",
              "    </tr>\n",
              "  </tbody>\n",
              "</table>\n",
              "</div>"
            ],
            "text/plain": [
              "       year_of_release     na_sales     eu_sales     jp_sales  other_sales  \\\n",
              "count      2886.000000  2886.000000  2886.000000  2886.000000  2886.000000   \n",
              "mean       2013.916840     0.204771     0.175613     0.066729     0.054109   \n",
              "std           1.411766     0.566696     0.505346     0.241575     0.164639   \n",
              "min        2012.000000     0.000000     0.000000     0.000000     0.000000   \n",
              "25%        2013.000000     0.000000     0.000000     0.000000     0.000000   \n",
              "50%        2014.000000     0.030000     0.030000     0.010000     0.010000   \n",
              "75%        2015.000000     0.170000     0.140000     0.050000     0.040000   \n",
              "max        2016.000000     9.660000     9.090000     4.390000     3.960000   \n",
              "\n",
              "       critic_score   user_score  world_sales  \n",
              "count   1312.000000  1531.000000  2886.000000  \n",
              "mean      72.258384     6.636120     0.501223  \n",
              "std       12.687087     1.569033     1.249157  \n",
              "min       13.000000     0.200000     0.010000  \n",
              "25%       66.000000     5.800000     0.040000  \n",
              "50%       74.000000     7.000000     0.120000  \n",
              "75%       81.000000     7.800000     0.430000  \n",
              "max       97.000000     9.300000    21.050000  "
            ]
          },
          "metadata": {}
        }
      ]
    },
    {
      "cell_type": "markdown",
      "source": "### Выбираем и анализируем наиболее успешные платформы",
      "metadata": {}
    },
    {
      "cell_type": "code",
      "source": "(data_act.pivot_table(index='platform', values='world_sales', aggfunc='sum')\n.sort_values(by='world_sales', ascending=False))\n# формируем сводную таблицу с мировыми продажами по платформам",
      "metadata": {},
      "execution_count": 21,
      "outputs": [
        {
          "execution_count": 21,
          "output_type": "execute_result",
          "data": {
            "text/html": [
              "<div>\n",
              "<style scoped>\n",
              "    .dataframe tbody tr th:only-of-type {\n",
              "        vertical-align: middle;\n",
              "    }\n",
              "\n",
              "    .dataframe tbody tr th {\n",
              "        vertical-align: top;\n",
              "    }\n",
              "\n",
              "    .dataframe thead th {\n",
              "        text-align: right;\n",
              "    }\n",
              "</style>\n",
              "<table border=\"1\" class=\"dataframe\">\n",
              "  <thead>\n",
              "    <tr style=\"text-align: right;\">\n",
              "      <th></th>\n",
              "      <th>world_sales</th>\n",
              "    </tr>\n",
              "    <tr>\n",
              "      <th>platform</th>\n",
              "      <th></th>\n",
              "    </tr>\n",
              "  </thead>\n",
              "  <tbody>\n",
              "    <tr>\n",
              "      <th>PS4</th>\n",
              "      <td>314.14</td>\n",
              "    </tr>\n",
              "    <tr>\n",
              "      <th>PS3</th>\n",
              "      <td>288.79</td>\n",
              "    </tr>\n",
              "    <tr>\n",
              "      <th>X360</th>\n",
              "      <td>236.54</td>\n",
              "    </tr>\n",
              "    <tr>\n",
              "      <th>3DS</th>\n",
              "      <td>194.61</td>\n",
              "    </tr>\n",
              "    <tr>\n",
              "      <th>XOne</th>\n",
              "      <td>159.32</td>\n",
              "    </tr>\n",
              "    <tr>\n",
              "      <th>WiiU</th>\n",
              "      <td>82.19</td>\n",
              "    </tr>\n",
              "    <tr>\n",
              "      <th>PC</th>\n",
              "      <td>62.65</td>\n",
              "    </tr>\n",
              "    <tr>\n",
              "      <th>PSV</th>\n",
              "      <td>49.18</td>\n",
              "    </tr>\n",
              "    <tr>\n",
              "      <th>Wii</th>\n",
              "      <td>35.37</td>\n",
              "    </tr>\n",
              "    <tr>\n",
              "      <th>DS</th>\n",
              "      <td>12.55</td>\n",
              "    </tr>\n",
              "    <tr>\n",
              "      <th>PSP</th>\n",
              "      <td>11.19</td>\n",
              "    </tr>\n",
              "  </tbody>\n",
              "</table>\n",
              "</div>"
            ],
            "text/plain": [
              "          world_sales\n",
              "platform             \n",
              "PS4            314.14\n",
              "PS3            288.79\n",
              "X360           236.54\n",
              "3DS            194.61\n",
              "XOne           159.32\n",
              "WiiU            82.19\n",
              "PC              62.65\n",
              "PSV             49.18\n",
              "Wii             35.37\n",
              "DS              12.55\n",
              "PSP             11.19"
            ]
          },
          "metadata": {}
        }
      ]
    },
    {
      "cell_type": "markdown",
      "source": "Вывод: из таблицы видно, что наибольшие продажи за последние 5 лет показали следующие платформы: PS4, PS3, X360, 3DS, XOne, WiiU, PSV, Wii, PSP.",
      "metadata": {}
    },
    {
      "cell_type": "code",
      "source": "plt.figure(figsize=(14, 6))\nsns.boxplot(data=data_act, x='platform', y='world_sales')\nplt.ylim(0,2)\nplt.title('Диграмма размаха продаж разных платформ')\nplt.ylabel('Млн. копий')\n# строим диаграмму размаха",
      "metadata": {},
      "execution_count": 22,
      "outputs": [
        {
          "execution_count": 22,
          "output_type": "execute_result",
          "data": {
            "text/plain": [
              "Text(0, 0.5, 'Млн. копий')"
            ]
          },
          "metadata": {}
        },
        {
          "output_type": "display_data",
          "data": {
            "image/png": "[encoded data removed]",
            "text/plain": [
              "<Figure size 1008x432 with 1 Axes>"
            ]
          },
          "metadata": {
            "needs_background": "light"
          }
        }
      ]
    },
    {
      "cell_type": "code",
      "source": "plt.figure(figsize=(14, 6))\nsns.boxplot(data=data_act, x='platform', y='world_sales')\nplt.title('Диграмма размаха продаж разных платформ')\nplt.ylabel('Млн. копий')\n# строим диаграмму размаха",
      "metadata": {},
      "execution_count": 23,
      "outputs": [
        {
          "execution_count": 23,
          "output_type": "execute_result",
          "data": {
            "text/plain": [
              "Text(0, 0.5, 'Млн. копий')"
            ]
          },
          "metadata": {}
        },
        {
          "output_type": "display_data",
          "data": {
            "image/png": "[encoded data removed]",
            "text/plain": [
              "<Figure size 1008x432 with 1 Axes>"
            ]
          },
          "metadata": {
            "needs_background": "light"
          }
        }
      ]
    },
    {
      "cell_type": "code",
      "source": "data_act.groupby('platform')['world_sales'].describe()\n# выводим информацию о данных, на основе которых мы строили диаграмму размаха",
      "metadata": {},
      "execution_count": 24,
      "outputs": [
        {
          "execution_count": 24,
          "output_type": "execute_result",
          "data": {
            "text/html": [
              "<div>\n",
              "<style scoped>\n",
              "    .dataframe tbody tr th:only-of-type {\n",
              "        vertical-align: middle;\n",
              "    }\n",
              "\n",
              "    .dataframe tbody tr th {\n",
              "        vertical-align: top;\n",
              "    }\n",
              "\n",
              "    .dataframe thead th {\n",
              "        text-align: right;\n",
              "    }\n",
              "</style>\n",
              "<table border=\"1\" class=\"dataframe\">\n",
              "  <thead>\n",
              "    <tr style=\"text-align: right;\">\n",
              "      <th></th>\n",
              "      <th>count</th>\n",
              "      <th>mean</th>\n",
              "      <th>std</th>\n",
              "      <th>min</th>\n",
              "      <th>25%</th>\n",
              "      <th>50%</th>\n",
              "      <th>75%</th>\n",
              "      <th>max</th>\n",
              "    </tr>\n",
              "    <tr>\n",
              "      <th>platform</th>\n",
              "      <th></th>\n",
              "      <th></th>\n",
              "      <th></th>\n",
              "      <th></th>\n",
              "      <th></th>\n",
              "      <th></th>\n",
              "      <th></th>\n",
              "      <th></th>\n",
              "    </tr>\n",
              "  </thead>\n",
              "  <tbody>\n",
              "    <tr>\n",
              "      <th>3DS</th>\n",
              "      <td>396.0</td>\n",
              "      <td>0.491439</td>\n",
              "      <td>1.387161</td>\n",
              "      <td>0.01</td>\n",
              "      <td>0.0400</td>\n",
              "      <td>0.11</td>\n",
              "      <td>0.3125</td>\n",
              "      <td>14.60</td>\n",
              "    </tr>\n",
              "    <tr>\n",
              "      <th>DS</th>\n",
              "      <td>31.0</td>\n",
              "      <td>0.404839</td>\n",
              "      <td>1.439245</td>\n",
              "      <td>0.01</td>\n",
              "      <td>0.0200</td>\n",
              "      <td>0.05</td>\n",
              "      <td>0.1850</td>\n",
              "      <td>8.06</td>\n",
              "    </tr>\n",
              "    <tr>\n",
              "      <th>PC</th>\n",
              "      <td>250.0</td>\n",
              "      <td>0.250600</td>\n",
              "      <td>0.494640</td>\n",
              "      <td>0.01</td>\n",
              "      <td>0.0300</td>\n",
              "      <td>0.08</td>\n",
              "      <td>0.2400</td>\n",
              "      <td>5.14</td>\n",
              "    </tr>\n",
              "    <tr>\n",
              "      <th>PS3</th>\n",
              "      <td>493.0</td>\n",
              "      <td>0.585781</td>\n",
              "      <td>1.462855</td>\n",
              "      <td>0.01</td>\n",
              "      <td>0.0500</td>\n",
              "      <td>0.20</td>\n",
              "      <td>0.6100</td>\n",
              "      <td>21.05</td>\n",
              "    </tr>\n",
              "    <tr>\n",
              "      <th>PS4</th>\n",
              "      <td>392.0</td>\n",
              "      <td>0.801378</td>\n",
              "      <td>1.609456</td>\n",
              "      <td>0.01</td>\n",
              "      <td>0.0600</td>\n",
              "      <td>0.20</td>\n",
              "      <td>0.7300</td>\n",
              "      <td>14.63</td>\n",
              "    </tr>\n",
              "    <tr>\n",
              "      <th>PSP</th>\n",
              "      <td>173.0</td>\n",
              "      <td>0.064682</td>\n",
              "      <td>0.071296</td>\n",
              "      <td>0.01</td>\n",
              "      <td>0.0200</td>\n",
              "      <td>0.03</td>\n",
              "      <td>0.0900</td>\n",
              "      <td>0.36</td>\n",
              "    </tr>\n",
              "    <tr>\n",
              "      <th>PSV</th>\n",
              "      <td>411.0</td>\n",
              "      <td>0.119659</td>\n",
              "      <td>0.203011</td>\n",
              "      <td>0.01</td>\n",
              "      <td>0.0200</td>\n",
              "      <td>0.05</td>\n",
              "      <td>0.1200</td>\n",
              "      <td>1.96</td>\n",
              "    </tr>\n",
              "    <tr>\n",
              "      <th>Wii</th>\n",
              "      <td>54.0</td>\n",
              "      <td>0.655000</td>\n",
              "      <td>1.165447</td>\n",
              "      <td>0.01</td>\n",
              "      <td>0.0625</td>\n",
              "      <td>0.18</td>\n",
              "      <td>0.6875</td>\n",
              "      <td>6.76</td>\n",
              "    </tr>\n",
              "    <tr>\n",
              "      <th>WiiU</th>\n",
              "      <td>147.0</td>\n",
              "      <td>0.559116</td>\n",
              "      <td>1.058836</td>\n",
              "      <td>0.01</td>\n",
              "      <td>0.0800</td>\n",
              "      <td>0.22</td>\n",
              "      <td>0.5250</td>\n",
              "      <td>7.09</td>\n",
              "    </tr>\n",
              "    <tr>\n",
              "      <th>X360</th>\n",
              "      <td>292.0</td>\n",
              "      <td>0.810068</td>\n",
              "      <td>1.712069</td>\n",
              "      <td>0.01</td>\n",
              "      <td>0.1000</td>\n",
              "      <td>0.31</td>\n",
              "      <td>0.8700</td>\n",
              "      <td>16.27</td>\n",
              "    </tr>\n",
              "    <tr>\n",
              "      <th>XOne</th>\n",
              "      <td>247.0</td>\n",
              "      <td>0.645020</td>\n",
              "      <td>1.036139</td>\n",
              "      <td>0.01</td>\n",
              "      <td>0.0600</td>\n",
              "      <td>0.22</td>\n",
              "      <td>0.6850</td>\n",
              "      <td>7.39</td>\n",
              "    </tr>\n",
              "  </tbody>\n",
              "</table>\n",
              "</div>"
            ],
            "text/plain": [
              "          count      mean       std   min     25%   50%     75%    max\n",
              "platform                                                              \n",
              "3DS       396.0  0.491439  1.387161  0.01  0.0400  0.11  0.3125  14.60\n",
              "DS         31.0  0.404839  1.439245  0.01  0.0200  0.05  0.1850   8.06\n",
              "PC        250.0  0.250600  0.494640  0.01  0.0300  0.08  0.2400   5.14\n",
              "PS3       493.0  0.585781  1.462855  0.01  0.0500  0.20  0.6100  21.05\n",
              "PS4       392.0  0.801378  1.609456  0.01  0.0600  0.20  0.7300  14.63\n",
              "PSP       173.0  0.064682  0.071296  0.01  0.0200  0.03  0.0900   0.36\n",
              "PSV       411.0  0.119659  0.203011  0.01  0.0200  0.05  0.1200   1.96\n",
              "Wii        54.0  0.655000  1.165447  0.01  0.0625  0.18  0.6875   6.76\n",
              "WiiU      147.0  0.559116  1.058836  0.01  0.0800  0.22  0.5250   7.09\n",
              "X360      292.0  0.810068  1.712069  0.01  0.1000  0.31  0.8700  16.27\n",
              "XOne      247.0  0.645020  1.036139  0.01  0.0600  0.22  0.6850   7.39"
            ]
          },
          "metadata": {}
        }
      ]
    },
    {
      "cell_type": "markdown",
      "source": "Вывод: из диаграммы видно, что разброс продаж среди разных платформ очень большой. Метод describe, примененный к данным, на основании которых строилась диаграмма размаха, подтверждает это. \n\nЕсли резюмировать, то есть платформы, которые продают очень много игр, есть те, которые наоборот продают очень мало, и надо ориентироваться в своём прогнозе на первые.\n\nДальше будем разбираться с каждой отдельно взятой платформой.",
      "metadata": {}
    },
    {
      "cell_type": "code",
      "source": "data_act_platform = (data_act.pivot_table(index='platform', values='world_sales', aggfunc='sum')\n.sort_values(by='world_sales', ascending=False))\ndata_act_platform = data_act_platform.reset_index()\n# создаём датасет с платформами, показавшими лучшие продажи",
      "metadata": {},
      "execution_count": 25,
      "outputs": []
    },
    {
      "cell_type": "code",
      "source": "data_act_platform_list = data_act_platform['platform'].unique()\nprint(top_platform_list)\n# создаём список топ-платформ",
      "metadata": {},
      "execution_count": 26,
      "outputs": [
        {
          "name": "stdout",
          "output_type": "stream",
          "text": "['PS2' 'X360' 'PS3' 'Wii' 'DS' 'PS' 'PS4' 'GBA' 'PSP' '3DS']\n"
        }
      ]
    },
    {
      "cell_type": "code",
      "source": "for platform in data_act_platform_list:\n    data[data['platform'] == platform].pivot_table(index='year_of_release', values='world_sales', aggfunc='sum').plot(kind='bar')\n    plt.title(platform)\n    plt.xlabel('Год')\n    plt.ylabel('Млн. копий')\n# строим графики для топ-платформ",
      "metadata": {},
      "execution_count": 27,
      "outputs": [
        {
          "output_type": "display_data",
          "data": {
            "image/png": "[encoded data removed]",
            "text/plain": [
              "<Figure size 432x288 with 1 Axes>"
            ]
          },
          "metadata": {
            "needs_background": "light"
          }
        },
        {
          "output_type": "display_data",
          "data": {
            "image/png": "[encoded data removed]",
            "text/plain": [
              "<Figure size 432x288 with 1 Axes>"
            ]
          },
          "metadata": {
            "needs_background": "light"
          }
        },
        {
          "output_type": "display_data",
          "data": {
            "image/png": "[encoded data removed]",
            "text/plain": [
              "<Figure size 432x288 with 1 Axes>"
            ]
          },
          "metadata": {
            "needs_background": "light"
          }
        },
        {
          "output_type": "display_data",
          "data": {
            "image/png": "[encoded data removed]",
            "text/plain": [
              "<Figure size 432x288 with 1 Axes>"
            ]
          },
          "metadata": {
            "needs_background": "light"
          }
        },
        {
          "output_type": "display_data",
          "data": {
            "image/png": "[encoded data removed]",
            "text/plain": [
              "<Figure size 432x288 with 1 Axes>"
            ]
          },
          "metadata": {
            "needs_background": "light"
          }
        },
        {
          "output_type": "display_data",
          "data": {
            "image/png": "[encoded data removed]",
            "text/plain": [
              "<Figure size 432x288 with 1 Axes>"
            ]
          },
          "metadata": {
            "needs_background": "light"
          }
        },
        {
          "output_type": "display_data",
          "data": {
            "image/png": "[encoded data removed]",
            "text/plain": [
              "<Figure size 432x288 with 1 Axes>"
            ]
          },
          "metadata": {
            "needs_background": "light"
          }
        },
        {
          "output_type": "display_data",
          "data": {
            "image/png": "[encoded data removed]",
            "text/plain": [
              "<Figure size 432x288 with 1 Axes>"
            ]
          },
          "metadata": {
            "needs_background": "light"
          }
        },
        {
          "output_type": "display_data",
          "data": {
            "image/png": "[encoded data removed]",
            "text/plain": [
              "<Figure size 432x288 with 1 Axes>"
            ]
          },
          "metadata": {
            "needs_background": "light"
          }
        },
        {
          "output_type": "display_data",
          "data": {
            "image/png": "[encoded data removed]",
            "text/plain": [
              "<Figure size 432x288 with 1 Axes>"
            ]
          },
          "metadata": {
            "needs_background": "light"
          }
        },
        {
          "output_type": "display_data",
          "data": {
            "image/png": "[encoded data removed]",
            "text/plain": [
              "<Figure size 432x288 with 1 Axes>"
            ]
          },
          "metadata": {
            "needs_background": "light"
          }
        }
      ]
    },
    {
      "cell_type": "markdown",
      "source": "Вывод. \n\nКак видно из графиков, платформы PSP, Wii, X360, PS3 находятся в конце жизненного цикла, продавать игры для них в 2017 г. не имеет смысла.\n\nПлатформы PSV, PC, WiiU тоже движутся к закату, но ещё могут показать какие-то значимые продажи в 2017 г.\n\nПлатформы PS4, XOne, 3DS показывают наилучшие продажи, на них стоит делать ставку в первую очередь в 2017 г.",
      "metadata": {}
    },
    {
      "cell_type": "markdown",
      "source": "### Оцениваем влияние отзывов критиков и пользователей на успех игры в рамках одной платформы",
      "metadata": {}
    },
    {
      "cell_type": "markdown",
      "source": "#### PS4",
      "metadata": {}
    },
    {
      "cell_type": "code",
      "source": "data_act.query('platform == \"PS4\"').plot(x='critic_score', y='world_sales', kind='scatter')\nplt.title('Диаграмма рассеяния для платформы PS4')\nplt.xlabel('Оценка критиков')\nplt.ylabel('Млн. копий')\n# строим диаграмму рассеяния продаж в зависимости от оценки критиков для платформы PS4",
      "metadata": {},
      "execution_count": 28,
      "outputs": [
        {
          "execution_count": 28,
          "output_type": "execute_result",
          "data": {
            "text/plain": [
              "Text(0, 0.5, 'Млн. копий')"
            ]
          },
          "metadata": {}
        },
        {
          "output_type": "display_data",
          "data": {
            "image/png": "[encoded data removed]",
            "text/plain": [
              "<Figure size 432x288 with 1 Axes>"
            ]
          },
          "metadata": {
            "needs_background": "light"
          }
        }
      ]
    },
    {
      "cell_type": "code",
      "source": "(data_act.query('platform == \"PS4\"')['world_sales']\n.corr(data_act.query('platform == \"PS4\"')['critic_score']))\n# считаем корреляцию между оценкой критиков и продажами игр для платформы PS4",
      "metadata": {},
      "execution_count": 29,
      "outputs": [
        {
          "execution_count": 29,
          "output_type": "execute_result",
          "data": {
            "text/plain": [
              "0.406567902061781"
            ]
          },
          "metadata": {}
        }
      ]
    },
    {
      "cell_type": "code",
      "source": "data_act.query('platform == \"PS4\"').plot(x='user_score', y='world_sales', kind='scatter')\nplt.title('Диаграмма рассеяния для платформы PS4')\nplt.xlabel('Оценка пользователей')\nplt.ylabel('Млн. копий')\n# строим диаграмму рассеяния продаж в зависимости от оценки пользователей для платформы PS4",
      "metadata": {},
      "execution_count": 30,
      "outputs": [
        {
          "execution_count": 30,
          "output_type": "execute_result",
          "data": {
            "text/plain": [
              "Text(0, 0.5, 'Млн. копий')"
            ]
          },
          "metadata": {}
        },
        {
          "output_type": "display_data",
          "data": {
            "image/png": "[encoded data removed]",
            "text/plain": [
              "<Figure size 432x288 with 1 Axes>"
            ]
          },
          "metadata": {
            "needs_background": "light"
          }
        }
      ]
    },
    {
      "cell_type": "code",
      "source": "(data_act.query('platform == \"PS4\"')['world_sales']\n.corr(data_act.query('platform == \"PS4\"')['user_score']))\n# считаем корреляцию между оценкой пользователй и продажами игр для платформы PS4",
      "metadata": {},
      "execution_count": 31,
      "outputs": [
        {
          "execution_count": 31,
          "output_type": "execute_result",
          "data": {
            "text/plain": [
              "-0.031957110204556376"
            ]
          },
          "metadata": {}
        }
      ]
    },
    {
      "cell_type": "markdown",
      "source": "Вывод. \nМежду оценками критиков и продажами игр на платформе PS4 наблюдается слабая прямая зависимость.\nМежду оценками пользователей и продажами игр на платформе PS4 зависимости нет.",
      "metadata": {}
    },
    {
      "cell_type": "markdown",
      "source": "#### XOne",
      "metadata": {}
    },
    {
      "cell_type": "code",
      "source": "data_act.query('platform == \"XOne\"').plot(x='critic_score', y='world_sales', kind='scatter')\nplt.title('Диаграмма рассеяния для платформы XOne')\nplt.xlabel('Оценка критиков')\nplt.ylabel('Млн. копий')\n# строим диаграмму рассеяния продаж в зависимости от оценки критиков для платформы XOne",
      "metadata": {},
      "execution_count": 32,
      "outputs": [
        {
          "execution_count": 32,
          "output_type": "execute_result",
          "data": {
            "text/plain": [
              "Text(0, 0.5, 'Млн. копий')"
            ]
          },
          "metadata": {}
        },
        {
          "output_type": "display_data",
          "data": {
            "image/png": "[encoded data removed]",
            "text/plain": [
              "<Figure size 432x288 with 1 Axes>"
            ]
          },
          "metadata": {
            "needs_background": "light"
          }
        }
      ]
    },
    {
      "cell_type": "code",
      "source": "(data_act.query('platform == \"XOne\"')['world_sales']\n.corr(data_act.query('platform == \"XOne\"')['critic_score']))\n# считаем корреляцию между оценкой критиков и продажами игр для платформы XOne",
      "metadata": {},
      "execution_count": 33,
      "outputs": [
        {
          "execution_count": 33,
          "output_type": "execute_result",
          "data": {
            "text/plain": [
              "0.41699832800840175"
            ]
          },
          "metadata": {}
        }
      ]
    },
    {
      "cell_type": "code",
      "source": "data_act.query('platform == \"XOne\"').plot(x='user_score', y='world_sales', kind='scatter')\nplt.title('Диаграмма рассеяния для платформы XOne')\nplt.xlabel('Оценка пользователей')\nplt.ylabel('Млн. копий')\n# строим диаграмму рассеяния продаж в зависимости от оценки пользователей для платформы XOne",
      "metadata": {},
      "execution_count": 34,
      "outputs": [
        {
          "execution_count": 34,
          "output_type": "execute_result",
          "data": {
            "text/plain": [
              "Text(0, 0.5, 'Млн. копий')"
            ]
          },
          "metadata": {}
        },
        {
          "output_type": "display_data",
          "data": {
            "image/png": "[encoded data removed]",
            "text/plain": [
              "<Figure size 432x288 with 1 Axes>"
            ]
          },
          "metadata": {
            "needs_background": "light"
          }
        }
      ]
    },
    {
      "cell_type": "code",
      "source": "(data_act.query('platform == \"XOne\"')['world_sales']\n.corr(data_act.query('platform == \"XOne\"')['user_score']))\n# считаем корреляцию между оценкой пользователй и продажами игр для платформы XOne",
      "metadata": {},
      "execution_count": 35,
      "outputs": [
        {
          "execution_count": 35,
          "output_type": "execute_result",
          "data": {
            "text/plain": [
              "-0.06892505328279412"
            ]
          },
          "metadata": {}
        }
      ]
    },
    {
      "cell_type": "markdown",
      "source": "Вывод. \n\nМежду оценками критиков и продажами игр на платформе XOne наблюдается слабая прямая зависимость.\n\nМежду оценками пользователей и продажами игр на платформе Xone зависимости нет.",
      "metadata": {}
    },
    {
      "cell_type": "markdown",
      "source": "### Распределение игр по жанрам",
      "metadata": {}
    },
    {
      "cell_type": "code",
      "source": "(data_act.pivot_table(index='genre', values='world_sales', aggfunc='mean')\n.sort_values(by='world_sales', ascending=False))\n# формируем сводную таблицу с продажами игр по жанрам",
      "metadata": {},
      "execution_count": 36,
      "outputs": [
        {
          "execution_count": 36,
          "output_type": "execute_result",
          "data": {
            "text/html": [
              "<div>\n",
              "<style scoped>\n",
              "    .dataframe tbody tr th:only-of-type {\n",
              "        vertical-align: middle;\n",
              "    }\n",
              "\n",
              "    .dataframe tbody tr th {\n",
              "        vertical-align: top;\n",
              "    }\n",
              "\n",
              "    .dataframe thead th {\n",
              "        text-align: right;\n",
              "    }\n",
              "</style>\n",
              "<table border=\"1\" class=\"dataframe\">\n",
              "  <thead>\n",
              "    <tr style=\"text-align: right;\">\n",
              "      <th></th>\n",
              "      <th>world_sales</th>\n",
              "    </tr>\n",
              "    <tr>\n",
              "      <th>genre</th>\n",
              "      <th></th>\n",
              "    </tr>\n",
              "  </thead>\n",
              "  <tbody>\n",
              "    <tr>\n",
              "      <th>Shooter</th>\n",
              "      <td>1.296723</td>\n",
              "    </tr>\n",
              "    <tr>\n",
              "      <th>Platform</th>\n",
              "      <td>0.717647</td>\n",
              "    </tr>\n",
              "    <tr>\n",
              "      <th>Sports</th>\n",
              "      <td>0.675634</td>\n",
              "    </tr>\n",
              "    <tr>\n",
              "      <th>Role-Playing</th>\n",
              "      <td>0.521081</td>\n",
              "    </tr>\n",
              "    <tr>\n",
              "      <th>Racing</th>\n",
              "      <td>0.465217</td>\n",
              "    </tr>\n",
              "    <tr>\n",
              "      <th>Misc</th>\n",
              "      <td>0.442917</td>\n",
              "    </tr>\n",
              "    <tr>\n",
              "      <th>Simulation</th>\n",
              "      <td>0.439000</td>\n",
              "    </tr>\n",
              "    <tr>\n",
              "      <th>Action</th>\n",
              "      <td>0.427856</td>\n",
              "    </tr>\n",
              "    <tr>\n",
              "      <th>Fighting</th>\n",
              "      <td>0.408165</td>\n",
              "    </tr>\n",
              "    <tr>\n",
              "      <th>Strategy</th>\n",
              "      <td>0.187887</td>\n",
              "    </tr>\n",
              "    <tr>\n",
              "      <th>Puzzle</th>\n",
              "      <td>0.174643</td>\n",
              "    </tr>\n",
              "    <tr>\n",
              "      <th>Adventure</th>\n",
              "      <td>0.097450</td>\n",
              "    </tr>\n",
              "  </tbody>\n",
              "</table>\n",
              "</div>"
            ],
            "text/plain": [
              "              world_sales\n",
              "genre                    \n",
              "Shooter          1.296723\n",
              "Platform         0.717647\n",
              "Sports           0.675634\n",
              "Role-Playing     0.521081\n",
              "Racing           0.465217\n",
              "Misc             0.442917\n",
              "Simulation       0.439000\n",
              "Action           0.427856\n",
              "Fighting         0.408165\n",
              "Strategy         0.187887\n",
              "Puzzle           0.174643\n",
              "Adventure        0.097450"
            ]
          },
          "metadata": {}
        }
      ]
    },
    {
      "cell_type": "markdown",
      "source": "Вывод. Как видно из таблицы, жанр Shooter продаётся лучше всех. Также много игр продаётся в жанрах Role-Playing, Sports, Misc, Platform, Racing, Fighting, Action. На продажи игр в этих жанрах стоит делать упор в 2017 г.",
      "metadata": {}
    },
    {
      "cell_type": "markdown",
      "source": "## Портрет пользователя каждого региона",
      "metadata": {}
    },
    {
      "cell_type": "markdown",
      "source": "### Регион NA",
      "metadata": {}
    },
    {
      "cell_type": "markdown",
      "source": "#### Самые популярные платформы",
      "metadata": {}
    },
    {
      "cell_type": "code",
      "source": "(data_act.pivot_table(index='platform', values='na_sales', aggfunc='sum')\n.sort_values(by='na_sales', ascending=False).head(6))\n# строим сводную таблицу продаж игр по платформам в регионе NA",
      "metadata": {},
      "execution_count": 37,
      "outputs": [
        {
          "execution_count": 37,
          "output_type": "execute_result",
          "data": {
            "text/html": [
              "<div>\n",
              "<style scoped>\n",
              "    .dataframe tbody tr th:only-of-type {\n",
              "        vertical-align: middle;\n",
              "    }\n",
              "\n",
              "    .dataframe tbody tr th {\n",
              "        vertical-align: top;\n",
              "    }\n",
              "\n",
              "    .dataframe thead th {\n",
              "        text-align: right;\n",
              "    }\n",
              "</style>\n",
              "<table border=\"1\" class=\"dataframe\">\n",
              "  <thead>\n",
              "    <tr style=\"text-align: right;\">\n",
              "      <th></th>\n",
              "      <th>na_sales</th>\n",
              "    </tr>\n",
              "    <tr>\n",
              "      <th>platform</th>\n",
              "      <th></th>\n",
              "    </tr>\n",
              "  </thead>\n",
              "  <tbody>\n",
              "    <tr>\n",
              "      <th>X360</th>\n",
              "      <td>140.05</td>\n",
              "    </tr>\n",
              "    <tr>\n",
              "      <th>PS4</th>\n",
              "      <td>108.74</td>\n",
              "    </tr>\n",
              "    <tr>\n",
              "      <th>PS3</th>\n",
              "      <td>103.38</td>\n",
              "    </tr>\n",
              "    <tr>\n",
              "      <th>XOne</th>\n",
              "      <td>93.12</td>\n",
              "    </tr>\n",
              "    <tr>\n",
              "      <th>3DS</th>\n",
              "      <td>55.31</td>\n",
              "    </tr>\n",
              "    <tr>\n",
              "      <th>WiiU</th>\n",
              "      <td>38.10</td>\n",
              "    </tr>\n",
              "  </tbody>\n",
              "</table>\n",
              "</div>"
            ],
            "text/plain": [
              "          na_sales\n",
              "platform          \n",
              "X360        140.05\n",
              "PS4         108.74\n",
              "PS3         103.38\n",
              "XOne         93.12\n",
              "3DS          55.31\n",
              "WiiU         38.10"
            ]
          },
          "metadata": {}
        }
      ]
    },
    {
      "cell_type": "markdown",
      "source": "#### Самые популярные жанры",
      "metadata": {}
    },
    {
      "cell_type": "code",
      "source": "(data_act.pivot_table(index='genre', values='na_sales', aggfunc='median')\n.sort_values(by='na_sales', ascending=False).head())\n# строим сводную таблицу продаж игр по жанрам в регионе NA",
      "metadata": {},
      "execution_count": 38,
      "outputs": [
        {
          "execution_count": 38,
          "output_type": "execute_result",
          "data": {
            "text/html": [
              "<div>\n",
              "<style scoped>\n",
              "    .dataframe tbody tr th:only-of-type {\n",
              "        vertical-align: middle;\n",
              "    }\n",
              "\n",
              "    .dataframe tbody tr th {\n",
              "        vertical-align: top;\n",
              "    }\n",
              "\n",
              "    .dataframe thead th {\n",
              "        text-align: right;\n",
              "    }\n",
              "</style>\n",
              "<table border=\"1\" class=\"dataframe\">\n",
              "  <thead>\n",
              "    <tr style=\"text-align: right;\">\n",
              "      <th></th>\n",
              "      <th>na_sales</th>\n",
              "    </tr>\n",
              "    <tr>\n",
              "      <th>genre</th>\n",
              "      <th></th>\n",
              "    </tr>\n",
              "  </thead>\n",
              "  <tbody>\n",
              "    <tr>\n",
              "      <th>Shooter</th>\n",
              "      <td>0.20</td>\n",
              "    </tr>\n",
              "    <tr>\n",
              "      <th>Platform</th>\n",
              "      <td>0.09</td>\n",
              "    </tr>\n",
              "    <tr>\n",
              "      <th>Sports</th>\n",
              "      <td>0.08</td>\n",
              "    </tr>\n",
              "    <tr>\n",
              "      <th>Fighting</th>\n",
              "      <td>0.05</td>\n",
              "    </tr>\n",
              "    <tr>\n",
              "      <th>Racing</th>\n",
              "      <td>0.04</td>\n",
              "    </tr>\n",
              "  </tbody>\n",
              "</table>\n",
              "</div>"
            ],
            "text/plain": [
              "          na_sales\n",
              "genre             \n",
              "Shooter       0.20\n",
              "Platform      0.09\n",
              "Sports        0.08\n",
              "Fighting      0.05\n",
              "Racing        0.04"
            ]
          },
          "metadata": {}
        }
      ]
    },
    {
      "cell_type": "markdown",
      "source": "#### Влияние рейтинга",
      "metadata": {}
    },
    {
      "cell_type": "code",
      "source": "(data_act.pivot_table(index='rating', values='na_sales', aggfunc='sum')\n.sort_values(by='na_sales', ascending=False).head())\n# строим сводную таблицу продаж игр по рейтинуг в регионе NA",
      "metadata": {},
      "execution_count": 39,
      "outputs": [
        {
          "execution_count": 39,
          "output_type": "execute_result",
          "data": {
            "text/html": [
              "<div>\n",
              "<style scoped>\n",
              "    .dataframe tbody tr th:only-of-type {\n",
              "        vertical-align: middle;\n",
              "    }\n",
              "\n",
              "    .dataframe tbody tr th {\n",
              "        vertical-align: top;\n",
              "    }\n",
              "\n",
              "    .dataframe thead th {\n",
              "        text-align: right;\n",
              "    }\n",
              "</style>\n",
              "<table border=\"1\" class=\"dataframe\">\n",
              "  <thead>\n",
              "    <tr style=\"text-align: right;\">\n",
              "      <th></th>\n",
              "      <th>na_sales</th>\n",
              "    </tr>\n",
              "    <tr>\n",
              "      <th>rating</th>\n",
              "      <th></th>\n",
              "    </tr>\n",
              "  </thead>\n",
              "  <tbody>\n",
              "    <tr>\n",
              "      <th>M</th>\n",
              "      <td>231.57</td>\n",
              "    </tr>\n",
              "    <tr>\n",
              "      <th>E</th>\n",
              "      <td>114.37</td>\n",
              "    </tr>\n",
              "    <tr>\n",
              "      <th>unknown</th>\n",
              "      <td>103.31</td>\n",
              "    </tr>\n",
              "    <tr>\n",
              "      <th>E10+</th>\n",
              "      <td>75.70</td>\n",
              "    </tr>\n",
              "    <tr>\n",
              "      <th>T</th>\n",
              "      <td>66.02</td>\n",
              "    </tr>\n",
              "  </tbody>\n",
              "</table>\n",
              "</div>"
            ],
            "text/plain": [
              "         na_sales\n",
              "rating           \n",
              "M          231.57\n",
              "E          114.37\n",
              "unknown    103.31\n",
              "E10+        75.70\n",
              "T           66.02"
            ]
          },
          "metadata": {}
        }
      ]
    },
    {
      "cell_type": "markdown",
      "source": "Выводы. \n\nВ регионе NA самыми популярными платформами для игр являются X360, PS4, PS3, XOne, 3DS, при этом X360 на первом месте, существенно опережая другие платформы.\n\nСамые популярные жанры Shooter, Platform, Sports.\n\nИгры с рейтингом М (17+) являются самыми популярными, далее идёт рейтинг Е(10+) и на третьем месте игры без рейтинга.",
      "metadata": {}
    },
    {
      "cell_type": "markdown",
      "source": "### Регион EU",
      "metadata": {}
    },
    {
      "cell_type": "markdown",
      "source": "#### Самые популярные платформы",
      "metadata": {}
    },
    {
      "cell_type": "code",
      "source": "(data_act.pivot_table(index='platform', values='eu_sales', aggfunc='sum')\n.sort_values(by='eu_sales', ascending=False).head())\n# строим сводную таблицу продаж игр по платформам в регионе EU",
      "metadata": {},
      "execution_count": 40,
      "outputs": [
        {
          "execution_count": 40,
          "output_type": "execute_result",
          "data": {
            "text/html": [
              "<div>\n",
              "<style scoped>\n",
              "    .dataframe tbody tr th:only-of-type {\n",
              "        vertical-align: middle;\n",
              "    }\n",
              "\n",
              "    .dataframe tbody tr th {\n",
              "        vertical-align: top;\n",
              "    }\n",
              "\n",
              "    .dataframe thead th {\n",
              "        text-align: right;\n",
              "    }\n",
              "</style>\n",
              "<table border=\"1\" class=\"dataframe\">\n",
              "  <thead>\n",
              "    <tr style=\"text-align: right;\">\n",
              "      <th></th>\n",
              "      <th>eu_sales</th>\n",
              "    </tr>\n",
              "    <tr>\n",
              "      <th>platform</th>\n",
              "      <th></th>\n",
              "    </tr>\n",
              "  </thead>\n",
              "  <tbody>\n",
              "    <tr>\n",
              "      <th>PS4</th>\n",
              "      <td>141.09</td>\n",
              "    </tr>\n",
              "    <tr>\n",
              "      <th>PS3</th>\n",
              "      <td>106.86</td>\n",
              "    </tr>\n",
              "    <tr>\n",
              "      <th>X360</th>\n",
              "      <td>74.52</td>\n",
              "    </tr>\n",
              "    <tr>\n",
              "      <th>XOne</th>\n",
              "      <td>51.59</td>\n",
              "    </tr>\n",
              "    <tr>\n",
              "      <th>3DS</th>\n",
              "      <td>42.64</td>\n",
              "    </tr>\n",
              "  </tbody>\n",
              "</table>\n",
              "</div>"
            ],
            "text/plain": [
              "          eu_sales\n",
              "platform          \n",
              "PS4         141.09\n",
              "PS3         106.86\n",
              "X360         74.52\n",
              "XOne         51.59\n",
              "3DS          42.64"
            ]
          },
          "metadata": {}
        }
      ]
    },
    {
      "cell_type": "markdown",
      "source": "#### Самые популярные жанры",
      "metadata": {}
    },
    {
      "cell_type": "code",
      "source": "(data_act.pivot_table(index='genre', values='eu_sales', aggfunc='mean')\n.sort_values(by='eu_sales', ascending=False).head())\n# строим сводную таблицу продаж игр по жанрам в регионе EU",
      "metadata": {},
      "execution_count": 41,
      "outputs": [
        {
          "execution_count": 41,
          "output_type": "execute_result",
          "data": {
            "text/html": [
              "<div>\n",
              "<style scoped>\n",
              "    .dataframe tbody tr th:only-of-type {\n",
              "        vertical-align: middle;\n",
              "    }\n",
              "\n",
              "    .dataframe tbody tr th {\n",
              "        vertical-align: top;\n",
              "    }\n",
              "\n",
              "    .dataframe thead th {\n",
              "        text-align: right;\n",
              "    }\n",
              "</style>\n",
              "<table border=\"1\" class=\"dataframe\">\n",
              "  <thead>\n",
              "    <tr style=\"text-align: right;\">\n",
              "      <th></th>\n",
              "      <th>eu_sales</th>\n",
              "    </tr>\n",
              "    <tr>\n",
              "      <th>genre</th>\n",
              "      <th></th>\n",
              "    </tr>\n",
              "  </thead>\n",
              "  <tbody>\n",
              "    <tr>\n",
              "      <th>Shooter</th>\n",
              "      <td>0.482851</td>\n",
              "    </tr>\n",
              "    <tr>\n",
              "      <th>Sports</th>\n",
              "      <td>0.257799</td>\n",
              "    </tr>\n",
              "    <tr>\n",
              "      <th>Platform</th>\n",
              "      <td>0.251882</td>\n",
              "    </tr>\n",
              "    <tr>\n",
              "      <th>Racing</th>\n",
              "      <td>0.237304</td>\n",
              "    </tr>\n",
              "    <tr>\n",
              "      <th>Simulation</th>\n",
              "      <td>0.181875</td>\n",
              "    </tr>\n",
              "  </tbody>\n",
              "</table>\n",
              "</div>"
            ],
            "text/plain": [
              "            eu_sales\n",
              "genre               \n",
              "Shooter     0.482851\n",
              "Sports      0.257799\n",
              "Platform    0.251882\n",
              "Racing      0.237304\n",
              "Simulation  0.181875"
            ]
          },
          "metadata": {}
        }
      ]
    },
    {
      "cell_type": "markdown",
      "source": "#### Влияние рейтинга",
      "metadata": {}
    },
    {
      "cell_type": "code",
      "source": "(data_act.pivot_table(index='rating', values='eu_sales', aggfunc='sum')\n.sort_values(by='eu_sales', ascending=False).head())\n# строим сводную таблицу продаж игр по рейтинуг в регионе EU",
      "metadata": {},
      "execution_count": 42,
      "outputs": [
        {
          "execution_count": 42,
          "output_type": "execute_result",
          "data": {
            "text/html": [
              "<div>\n",
              "<style scoped>\n",
              "    .dataframe tbody tr th:only-of-type {\n",
              "        vertical-align: middle;\n",
              "    }\n",
              "\n",
              "    .dataframe tbody tr th {\n",
              "        vertical-align: top;\n",
              "    }\n",
              "\n",
              "    .dataframe thead th {\n",
              "        text-align: right;\n",
              "    }\n",
              "</style>\n",
              "<table border=\"1\" class=\"dataframe\">\n",
              "  <thead>\n",
              "    <tr style=\"text-align: right;\">\n",
              "      <th></th>\n",
              "      <th>eu_sales</th>\n",
              "    </tr>\n",
              "    <tr>\n",
              "      <th>rating</th>\n",
              "      <th></th>\n",
              "    </tr>\n",
              "  </thead>\n",
              "  <tbody>\n",
              "    <tr>\n",
              "      <th>M</th>\n",
              "      <td>193.96</td>\n",
              "    </tr>\n",
              "    <tr>\n",
              "      <th>E</th>\n",
              "      <td>113.03</td>\n",
              "    </tr>\n",
              "    <tr>\n",
              "      <th>unknown</th>\n",
              "      <td>91.50</td>\n",
              "    </tr>\n",
              "    <tr>\n",
              "      <th>E10+</th>\n",
              "      <td>55.37</td>\n",
              "    </tr>\n",
              "    <tr>\n",
              "      <th>T</th>\n",
              "      <td>52.96</td>\n",
              "    </tr>\n",
              "  </tbody>\n",
              "</table>\n",
              "</div>"
            ],
            "text/plain": [
              "         eu_sales\n",
              "rating           \n",
              "M          193.96\n",
              "E          113.03\n",
              "unknown     91.50\n",
              "E10+        55.37\n",
              "T           52.96"
            ]
          },
          "metadata": {}
        }
      ]
    },
    {
      "cell_type": "markdown",
      "source": "Выводы.\n\nВ отличие от региона NA, в регионе EU платформы PS4 и PS3 существенно опережают X360 и XOne по продажам игр, замыкает пятёрку платформа 3DS.\n\nИгры жанров Shooter, Sports и Platform являются самыми популярными.\n\nВ возрастными рейтингами ситуация аналогичная региону NA - больше всего игр продаётся рейтингов M и Е, не треьем месте игры без рейтинга.",
      "metadata": {}
    },
    {
      "cell_type": "markdown",
      "source": "### Регион JP",
      "metadata": {}
    },
    {
      "cell_type": "markdown",
      "source": "#### Самая популярная платформа",
      "metadata": {}
    },
    {
      "cell_type": "code",
      "source": "(data_act.pivot_table(index='platform', values='jp_sales', aggfunc='sum')\n.sort_values(by='jp_sales', ascending=False).head())\n# строим сводную таблицу продаж игр по платформам в регионе JP",
      "metadata": {},
      "execution_count": 43,
      "outputs": [
        {
          "execution_count": 43,
          "output_type": "execute_result",
          "data": {
            "text/html": [
              "<div>\n",
              "<style scoped>\n",
              "    .dataframe tbody tr th:only-of-type {\n",
              "        vertical-align: middle;\n",
              "    }\n",
              "\n",
              "    .dataframe tbody tr th {\n",
              "        vertical-align: top;\n",
              "    }\n",
              "\n",
              "    .dataframe thead th {\n",
              "        text-align: right;\n",
              "    }\n",
              "</style>\n",
              "<table border=\"1\" class=\"dataframe\">\n",
              "  <thead>\n",
              "    <tr style=\"text-align: right;\">\n",
              "      <th></th>\n",
              "      <th>jp_sales</th>\n",
              "    </tr>\n",
              "    <tr>\n",
              "      <th>platform</th>\n",
              "      <th></th>\n",
              "    </tr>\n",
              "  </thead>\n",
              "  <tbody>\n",
              "    <tr>\n",
              "      <th>3DS</th>\n",
              "      <td>87.79</td>\n",
              "    </tr>\n",
              "    <tr>\n",
              "      <th>PS3</th>\n",
              "      <td>35.29</td>\n",
              "    </tr>\n",
              "    <tr>\n",
              "      <th>PSV</th>\n",
              "      <td>21.04</td>\n",
              "    </tr>\n",
              "    <tr>\n",
              "      <th>PS4</th>\n",
              "      <td>15.96</td>\n",
              "    </tr>\n",
              "    <tr>\n",
              "      <th>WiiU</th>\n",
              "      <td>13.01</td>\n",
              "    </tr>\n",
              "  </tbody>\n",
              "</table>\n",
              "</div>"
            ],
            "text/plain": [
              "          jp_sales\n",
              "platform          \n",
              "3DS          87.79\n",
              "PS3          35.29\n",
              "PSV          21.04\n",
              "PS4          15.96\n",
              "WiiU         13.01"
            ]
          },
          "metadata": {}
        }
      ]
    },
    {
      "cell_type": "markdown",
      "source": "#### Самый популярный жанр",
      "metadata": {}
    },
    {
      "cell_type": "code",
      "source": "(data_act.pivot_table(index='genre', values='jp_sales', aggfunc='median')\n.sort_values(by='jp_sales', ascending=False).head())\n# строим сводную таблицу продаж игр по жанрам в регионе JP",
      "metadata": {},
      "execution_count": 44,
      "outputs": [
        {
          "execution_count": 44,
          "output_type": "execute_result",
          "data": {
            "text/html": [
              "<div>\n",
              "<style scoped>\n",
              "    .dataframe tbody tr th:only-of-type {\n",
              "        vertical-align: middle;\n",
              "    }\n",
              "\n",
              "    .dataframe tbody tr th {\n",
              "        vertical-align: top;\n",
              "    }\n",
              "\n",
              "    .dataframe thead th {\n",
              "        text-align: right;\n",
              "    }\n",
              "</style>\n",
              "<table border=\"1\" class=\"dataframe\">\n",
              "  <thead>\n",
              "    <tr style=\"text-align: right;\">\n",
              "      <th></th>\n",
              "      <th>jp_sales</th>\n",
              "    </tr>\n",
              "    <tr>\n",
              "      <th>genre</th>\n",
              "      <th></th>\n",
              "    </tr>\n",
              "  </thead>\n",
              "  <tbody>\n",
              "    <tr>\n",
              "      <th>Role-Playing</th>\n",
              "      <td>0.06</td>\n",
              "    </tr>\n",
              "    <tr>\n",
              "      <th>Fighting</th>\n",
              "      <td>0.03</td>\n",
              "    </tr>\n",
              "    <tr>\n",
              "      <th>Misc</th>\n",
              "      <td>0.02</td>\n",
              "    </tr>\n",
              "    <tr>\n",
              "      <th>Action</th>\n",
              "      <td>0.01</td>\n",
              "    </tr>\n",
              "    <tr>\n",
              "      <th>Adventure</th>\n",
              "      <td>0.01</td>\n",
              "    </tr>\n",
              "  </tbody>\n",
              "</table>\n",
              "</div>"
            ],
            "text/plain": [
              "              jp_sales\n",
              "genre                 \n",
              "Role-Playing      0.06\n",
              "Fighting          0.03\n",
              "Misc              0.02\n",
              "Action            0.01\n",
              "Adventure         0.01"
            ]
          },
          "metadata": {}
        }
      ]
    },
    {
      "cell_type": "markdown",
      "source": "#### Влияние рейтинга",
      "metadata": {}
    },
    {
      "cell_type": "code",
      "source": "(data_act.pivot_table(index='rating', values='jp_sales', aggfunc='sum')\n.sort_values(by='jp_sales', ascending=False).head())\n# строим сводную таблицу продаж игр по рейтинуг в регионе JP",
      "metadata": {},
      "execution_count": 45,
      "outputs": [
        {
          "execution_count": 45,
          "output_type": "execute_result",
          "data": {
            "text/html": [
              "<div>\n",
              "<style scoped>\n",
              "    .dataframe tbody tr th:only-of-type {\n",
              "        vertical-align: middle;\n",
              "    }\n",
              "\n",
              "    .dataframe tbody tr th {\n",
              "        vertical-align: top;\n",
              "    }\n",
              "\n",
              "    .dataframe thead th {\n",
              "        text-align: right;\n",
              "    }\n",
              "</style>\n",
              "<table border=\"1\" class=\"dataframe\">\n",
              "  <thead>\n",
              "    <tr style=\"text-align: right;\">\n",
              "      <th></th>\n",
              "      <th>jp_sales</th>\n",
              "    </tr>\n",
              "    <tr>\n",
              "      <th>rating</th>\n",
              "      <th></th>\n",
              "    </tr>\n",
              "  </thead>\n",
              "  <tbody>\n",
              "    <tr>\n",
              "      <th>unknown</th>\n",
              "      <td>108.84</td>\n",
              "    </tr>\n",
              "    <tr>\n",
              "      <th>E</th>\n",
              "      <td>28.33</td>\n",
              "    </tr>\n",
              "    <tr>\n",
              "      <th>T</th>\n",
              "      <td>26.02</td>\n",
              "    </tr>\n",
              "    <tr>\n",
              "      <th>M</th>\n",
              "      <td>21.20</td>\n",
              "    </tr>\n",
              "    <tr>\n",
              "      <th>E10+</th>\n",
              "      <td>8.19</td>\n",
              "    </tr>\n",
              "  </tbody>\n",
              "</table>\n",
              "</div>"
            ],
            "text/plain": [
              "         jp_sales\n",
              "rating           \n",
              "unknown    108.84\n",
              "E           28.33\n",
              "T           26.02\n",
              "M           21.20\n",
              "E10+         8.19"
            ]
          },
          "metadata": {}
        }
      ]
    },
    {
      "cell_type": "markdown",
      "source": "Выводы.\n\nРегион JP разительным образом отличается от регионов NA и EU. Это касается и платформ, и жанров, и возрастных рейтингов.\n\nСамой популярной платформой является 3DS, в 2 раза опережая PS3. Также в пятёрку наиболее популярных платформ входят PSV, PS4, WiiU.\n\nСреди жанров, самыми пополуряными являются Role-Playing, Fighting и Misc занимают первые три строчки.\n\nС существенным отрывом продаются игры без рейтинга, видимо, в силу того, что рейтинг американский и японские игры они особо не оценивают.",
      "metadata": {}
    },
    {
      "cell_type": "markdown",
      "source": "## Проверка гипотез",
      "metadata": {}
    },
    {
      "cell_type": "markdown",
      "source": "### Средние пользовательские рейтинги платформ",
      "metadata": {}
    },
    {
      "cell_type": "markdown",
      "source": "Нулевая гипотеза: средние пользовательские рейтинги платформ XOne и PC совпадают.\n\nАльтернативная гипотеза: средние пользовательские рейтинги платформ XOne и PC различаются.",
      "metadata": {}
    },
    {
      "cell_type": "code",
      "source": "data_act_xone = data_act.query('platform == \"XOne\"')\n# формируем датасет из пользователей платформы XOne\ndata_act_xone.describe()\n# смотрим информацию по значениям датасета",
      "metadata": {},
      "execution_count": 46,
      "outputs": [
        {
          "execution_count": 46,
          "output_type": "execute_result",
          "data": {
            "text/html": [
              "<div>\n",
              "<style scoped>\n",
              "    .dataframe tbody tr th:only-of-type {\n",
              "        vertical-align: middle;\n",
              "    }\n",
              "\n",
              "    .dataframe tbody tr th {\n",
              "        vertical-align: top;\n",
              "    }\n",
              "\n",
              "    .dataframe thead th {\n",
              "        text-align: right;\n",
              "    }\n",
              "</style>\n",
              "<table border=\"1\" class=\"dataframe\">\n",
              "  <thead>\n",
              "    <tr style=\"text-align: right;\">\n",
              "      <th></th>\n",
              "      <th>year_of_release</th>\n",
              "      <th>na_sales</th>\n",
              "      <th>eu_sales</th>\n",
              "      <th>jp_sales</th>\n",
              "      <th>other_sales</th>\n",
              "      <th>critic_score</th>\n",
              "      <th>user_score</th>\n",
              "      <th>world_sales</th>\n",
              "    </tr>\n",
              "  </thead>\n",
              "  <tbody>\n",
              "    <tr>\n",
              "      <th>count</th>\n",
              "      <td>247.000000</td>\n",
              "      <td>247.000000</td>\n",
              "      <td>247.000000</td>\n",
              "      <td>247.000000</td>\n",
              "      <td>247.000000</td>\n",
              "      <td>169.000000</td>\n",
              "      <td>182.000000</td>\n",
              "      <td>247.000000</td>\n",
              "    </tr>\n",
              "    <tr>\n",
              "      <th>mean</th>\n",
              "      <td>2014.951417</td>\n",
              "      <td>0.377004</td>\n",
              "      <td>0.208866</td>\n",
              "      <td>0.001377</td>\n",
              "      <td>0.057773</td>\n",
              "      <td>73.325444</td>\n",
              "      <td>6.521429</td>\n",
              "      <td>0.645020</td>\n",
              "    </tr>\n",
              "    <tr>\n",
              "      <th>std</th>\n",
              "      <td>0.952995</td>\n",
              "      <td>0.630618</td>\n",
              "      <td>0.365306</td>\n",
              "      <td>0.005153</td>\n",
              "      <td>0.094221</td>\n",
              "      <td>12.953465</td>\n",
              "      <td>1.380941</td>\n",
              "      <td>1.036139</td>\n",
              "    </tr>\n",
              "    <tr>\n",
              "      <th>min</th>\n",
              "      <td>2013.000000</td>\n",
              "      <td>0.000000</td>\n",
              "      <td>0.000000</td>\n",
              "      <td>0.000000</td>\n",
              "      <td>0.000000</td>\n",
              "      <td>20.000000</td>\n",
              "      <td>1.600000</td>\n",
              "      <td>0.010000</td>\n",
              "    </tr>\n",
              "    <tr>\n",
              "      <th>25%</th>\n",
              "      <td>2014.000000</td>\n",
              "      <td>0.030000</td>\n",
              "      <td>0.020000</td>\n",
              "      <td>0.000000</td>\n",
              "      <td>0.010000</td>\n",
              "      <td>66.000000</td>\n",
              "      <td>5.800000</td>\n",
              "      <td>0.060000</td>\n",
              "    </tr>\n",
              "    <tr>\n",
              "      <th>50%</th>\n",
              "      <td>2015.000000</td>\n",
              "      <td>0.120000</td>\n",
              "      <td>0.070000</td>\n",
              "      <td>0.000000</td>\n",
              "      <td>0.020000</td>\n",
              "      <td>76.000000</td>\n",
              "      <td>6.800000</td>\n",
              "      <td>0.220000</td>\n",
              "    </tr>\n",
              "    <tr>\n",
              "      <th>75%</th>\n",
              "      <td>2016.000000</td>\n",
              "      <td>0.385000</td>\n",
              "      <td>0.220000</td>\n",
              "      <td>0.000000</td>\n",
              "      <td>0.060000</td>\n",
              "      <td>82.000000</td>\n",
              "      <td>7.500000</td>\n",
              "      <td>0.685000</td>\n",
              "    </tr>\n",
              "    <tr>\n",
              "      <th>max</th>\n",
              "      <td>2016.000000</td>\n",
              "      <td>4.590000</td>\n",
              "      <td>2.190000</td>\n",
              "      <td>0.040000</td>\n",
              "      <td>0.680000</td>\n",
              "      <td>97.000000</td>\n",
              "      <td>9.200000</td>\n",
              "      <td>7.390000</td>\n",
              "    </tr>\n",
              "  </tbody>\n",
              "</table>\n",
              "</div>"
            ],
            "text/plain": [
              "       year_of_release    na_sales    eu_sales    jp_sales  other_sales  \\\n",
              "count       247.000000  247.000000  247.000000  247.000000   247.000000   \n",
              "mean       2014.951417    0.377004    0.208866    0.001377     0.057773   \n",
              "std           0.952995    0.630618    0.365306    0.005153     0.094221   \n",
              "min        2013.000000    0.000000    0.000000    0.000000     0.000000   \n",
              "25%        2014.000000    0.030000    0.020000    0.000000     0.010000   \n",
              "50%        2015.000000    0.120000    0.070000    0.000000     0.020000   \n",
              "75%        2016.000000    0.385000    0.220000    0.000000     0.060000   \n",
              "max        2016.000000    4.590000    2.190000    0.040000     0.680000   \n",
              "\n",
              "       critic_score  user_score  world_sales  \n",
              "count    169.000000  182.000000   247.000000  \n",
              "mean      73.325444    6.521429     0.645020  \n",
              "std       12.953465    1.380941     1.036139  \n",
              "min       20.000000    1.600000     0.010000  \n",
              "25%       66.000000    5.800000     0.060000  \n",
              "50%       76.000000    6.800000     0.220000  \n",
              "75%       82.000000    7.500000     0.685000  \n",
              "max       97.000000    9.200000     7.390000  "
            ]
          },
          "metadata": {}
        }
      ]
    },
    {
      "cell_type": "code",
      "source": "data_act_pc = data_act.query('platform == \"PC\"')\n# формируем датасет из пользователей платформы PC\ndata_act_pc.describe()\n# смотрим информацию по значениям датасета",
      "metadata": {},
      "execution_count": 47,
      "outputs": [
        {
          "execution_count": 47,
          "output_type": "execute_result",
          "data": {
            "text/html": [
              "<div>\n",
              "<style scoped>\n",
              "    .dataframe tbody tr th:only-of-type {\n",
              "        vertical-align: middle;\n",
              "    }\n",
              "\n",
              "    .dataframe tbody tr th {\n",
              "        vertical-align: top;\n",
              "    }\n",
              "\n",
              "    .dataframe thead th {\n",
              "        text-align: right;\n",
              "    }\n",
              "</style>\n",
              "<table border=\"1\" class=\"dataframe\">\n",
              "  <thead>\n",
              "    <tr style=\"text-align: right;\">\n",
              "      <th></th>\n",
              "      <th>year_of_release</th>\n",
              "      <th>na_sales</th>\n",
              "      <th>eu_sales</th>\n",
              "      <th>jp_sales</th>\n",
              "      <th>other_sales</th>\n",
              "      <th>critic_score</th>\n",
              "      <th>user_score</th>\n",
              "      <th>world_sales</th>\n",
              "    </tr>\n",
              "  </thead>\n",
              "  <tbody>\n",
              "    <tr>\n",
              "      <th>count</th>\n",
              "      <td>250.000000</td>\n",
              "      <td>250.000000</td>\n",
              "      <td>250.000000</td>\n",
              "      <td>250.0</td>\n",
              "      <td>250.000000</td>\n",
              "      <td>198.000000</td>\n",
              "      <td>206.000000</td>\n",
              "      <td>250.00000</td>\n",
              "    </tr>\n",
              "    <tr>\n",
              "      <th>mean</th>\n",
              "      <td>2013.992000</td>\n",
              "      <td>0.076480</td>\n",
              "      <td>0.151040</td>\n",
              "      <td>0.0</td>\n",
              "      <td>0.023080</td>\n",
              "      <td>75.838384</td>\n",
              "      <td>6.428641</td>\n",
              "      <td>0.25060</td>\n",
              "    </tr>\n",
              "    <tr>\n",
              "      <th>std</th>\n",
              "      <td>1.483489</td>\n",
              "      <td>0.209996</td>\n",
              "      <td>0.255119</td>\n",
              "      <td>0.0</td>\n",
              "      <td>0.052348</td>\n",
              "      <td>10.389087</td>\n",
              "      <td>1.664465</td>\n",
              "      <td>0.49464</td>\n",
              "    </tr>\n",
              "    <tr>\n",
              "      <th>min</th>\n",
              "      <td>2012.000000</td>\n",
              "      <td>0.000000</td>\n",
              "      <td>0.000000</td>\n",
              "      <td>0.0</td>\n",
              "      <td>0.000000</td>\n",
              "      <td>33.000000</td>\n",
              "      <td>1.400000</td>\n",
              "      <td>0.01000</td>\n",
              "    </tr>\n",
              "    <tr>\n",
              "      <th>25%</th>\n",
              "      <td>2013.000000</td>\n",
              "      <td>0.000000</td>\n",
              "      <td>0.020000</td>\n",
              "      <td>0.0</td>\n",
              "      <td>0.000000</td>\n",
              "      <td>71.000000</td>\n",
              "      <td>5.500000</td>\n",
              "      <td>0.03000</td>\n",
              "    </tr>\n",
              "    <tr>\n",
              "      <th>50%</th>\n",
              "      <td>2014.000000</td>\n",
              "      <td>0.000000</td>\n",
              "      <td>0.060000</td>\n",
              "      <td>0.0</td>\n",
              "      <td>0.010000</td>\n",
              "      <td>77.500000</td>\n",
              "      <td>6.800000</td>\n",
              "      <td>0.08000</td>\n",
              "    </tr>\n",
              "    <tr>\n",
              "      <th>75%</th>\n",
              "      <td>2015.000000</td>\n",
              "      <td>0.080000</td>\n",
              "      <td>0.150000</td>\n",
              "      <td>0.0</td>\n",
              "      <td>0.020000</td>\n",
              "      <td>83.000000</td>\n",
              "      <td>7.700000</td>\n",
              "      <td>0.24000</td>\n",
              "    </tr>\n",
              "    <tr>\n",
              "      <th>max</th>\n",
              "      <td>2016.000000</td>\n",
              "      <td>2.440000</td>\n",
              "      <td>2.160000</td>\n",
              "      <td>0.0</td>\n",
              "      <td>0.540000</td>\n",
              "      <td>96.000000</td>\n",
              "      <td>9.300000</td>\n",
              "      <td>5.14000</td>\n",
              "    </tr>\n",
              "  </tbody>\n",
              "</table>\n",
              "</div>"
            ],
            "text/plain": [
              "       year_of_release    na_sales    eu_sales  jp_sales  other_sales  \\\n",
              "count       250.000000  250.000000  250.000000     250.0   250.000000   \n",
              "mean       2013.992000    0.076480    0.151040       0.0     0.023080   \n",
              "std           1.483489    0.209996    0.255119       0.0     0.052348   \n",
              "min        2012.000000    0.000000    0.000000       0.0     0.000000   \n",
              "25%        2013.000000    0.000000    0.020000       0.0     0.000000   \n",
              "50%        2014.000000    0.000000    0.060000       0.0     0.010000   \n",
              "75%        2015.000000    0.080000    0.150000       0.0     0.020000   \n",
              "max        2016.000000    2.440000    2.160000       0.0     0.540000   \n",
              "\n",
              "       critic_score  user_score  world_sales  \n",
              "count    198.000000  206.000000    250.00000  \n",
              "mean      75.838384    6.428641      0.25060  \n",
              "std       10.389087    1.664465      0.49464  \n",
              "min       33.000000    1.400000      0.01000  \n",
              "25%       71.000000    5.500000      0.03000  \n",
              "50%       77.500000    6.800000      0.08000  \n",
              "75%       83.000000    7.700000      0.24000  \n",
              "max       96.000000    9.300000      5.14000  "
            ]
          },
          "metadata": {}
        }
      ]
    },
    {
      "cell_type": "code",
      "source": "alpha = 0.05\n# задаём коэффициент значимости\nresults = st.ttest_ind(data_act_xone['user_score'].dropna(), data_act_pc['user_score'].dropna())\nprint('p-значение:', results.pvalue)\nprint('Средння пользовательская оценка XOne:', data_act_xone['user_score'].mean())\nprint('Средняя пользовательская оценка PC:', data_act_pc['user_score'].mean())\nif results.pvalue < alpha:\n    print(\"Отвергаем нулевую гипотезу\")\nelse:\n    print(\"Не получилось отвергнуть нулевую гипотезу\")",
      "metadata": {},
      "execution_count": 48,
      "outputs": [
        {
          "name": "stdout",
          "output_type": "stream",
          "text": "p-значение: 0.5535080500643661\n\nСредння пользовательская оценка XOne: 6.521428571428572\n\nСредняя пользовательская оценка PC: 6.428640776699029\n\nНе получилось отвергнуть нулевую гипотезу\n"
        }
      ]
    },
    {
      "cell_type": "markdown",
      "source": "Вывод: по результатам теста нельзя отвергнуть нулевую гипотезу, сравнение средних значений говорит нам о том же - средние пользовательские рейтинги практически одинаковые.",
      "metadata": {}
    },
    {
      "cell_type": "markdown",
      "source": "### Средние пользовательские рейтинги жанров",
      "metadata": {}
    },
    {
      "cell_type": "markdown",
      "source": "Нулевая гипотеза: средние пользовательские рейтинги жанров Action и Sports совпадают.\n\nАльтернативная гипотеза: средние пользовательские рейтинги жанров Action и Sports различаются.",
      "metadata": {}
    },
    {
      "cell_type": "code",
      "source": "data_act_action = data_act.query('genre == \"Action\"')\n# формируем датасет по жанру Action\ndata_act_action.describe()\n# смотрим информацию по значениям датасета",
      "metadata": {},
      "execution_count": 49,
      "outputs": [
        {
          "execution_count": 49,
          "output_type": "execute_result",
          "data": {
            "text/html": [
              "<div>\n",
              "<style scoped>\n",
              "    .dataframe tbody tr th:only-of-type {\n",
              "        vertical-align: middle;\n",
              "    }\n",
              "\n",
              "    .dataframe tbody tr th {\n",
              "        vertical-align: top;\n",
              "    }\n",
              "\n",
              "    .dataframe thead th {\n",
              "        text-align: right;\n",
              "    }\n",
              "</style>\n",
              "<table border=\"1\" class=\"dataframe\">\n",
              "  <thead>\n",
              "    <tr style=\"text-align: right;\">\n",
              "      <th></th>\n",
              "      <th>year_of_release</th>\n",
              "      <th>na_sales</th>\n",
              "      <th>eu_sales</th>\n",
              "      <th>jp_sales</th>\n",
              "      <th>other_sales</th>\n",
              "      <th>critic_score</th>\n",
              "      <th>user_score</th>\n",
              "      <th>world_sales</th>\n",
              "    </tr>\n",
              "  </thead>\n",
              "  <tbody>\n",
              "    <tr>\n",
              "      <th>count</th>\n",
              "      <td>1031.000000</td>\n",
              "      <td>1031.000000</td>\n",
              "      <td>1031.000000</td>\n",
              "      <td>1031.000000</td>\n",
              "      <td>1031.000000</td>\n",
              "      <td>436.000000</td>\n",
              "      <td>523.000000</td>\n",
              "      <td>1031.000000</td>\n",
              "    </tr>\n",
              "    <tr>\n",
              "      <th>mean</th>\n",
              "      <td>2013.934045</td>\n",
              "      <td>0.172493</td>\n",
              "      <td>0.154549</td>\n",
              "      <td>0.051212</td>\n",
              "      <td>0.049602</td>\n",
              "      <td>71.378440</td>\n",
              "      <td>6.825048</td>\n",
              "      <td>0.427856</td>\n",
              "    </tr>\n",
              "    <tr>\n",
              "      <th>std</th>\n",
              "      <td>1.450649</td>\n",
              "      <td>0.500780</td>\n",
              "      <td>0.498182</td>\n",
              "      <td>0.151925</td>\n",
              "      <td>0.182412</td>\n",
              "      <td>12.093748</td>\n",
              "      <td>1.374440</td>\n",
              "      <td>1.166504</td>\n",
              "    </tr>\n",
              "    <tr>\n",
              "      <th>min</th>\n",
              "      <td>2012.000000</td>\n",
              "      <td>0.000000</td>\n",
              "      <td>0.000000</td>\n",
              "      <td>0.000000</td>\n",
              "      <td>0.000000</td>\n",
              "      <td>24.000000</td>\n",
              "      <td>1.600000</td>\n",
              "      <td>0.010000</td>\n",
              "    </tr>\n",
              "    <tr>\n",
              "      <th>25%</th>\n",
              "      <td>2012.000000</td>\n",
              "      <td>0.000000</td>\n",
              "      <td>0.000000</td>\n",
              "      <td>0.000000</td>\n",
              "      <td>0.000000</td>\n",
              "      <td>65.000000</td>\n",
              "      <td>6.250000</td>\n",
              "      <td>0.030000</td>\n",
              "    </tr>\n",
              "    <tr>\n",
              "      <th>50%</th>\n",
              "      <td>2014.000000</td>\n",
              "      <td>0.020000</td>\n",
              "      <td>0.020000</td>\n",
              "      <td>0.010000</td>\n",
              "      <td>0.010000</td>\n",
              "      <td>73.000000</td>\n",
              "      <td>7.100000</td>\n",
              "      <td>0.120000</td>\n",
              "    </tr>\n",
              "    <tr>\n",
              "      <th>75%</th>\n",
              "      <td>2015.000000</td>\n",
              "      <td>0.160000</td>\n",
              "      <td>0.130000</td>\n",
              "      <td>0.050000</td>\n",
              "      <td>0.040000</td>\n",
              "      <td>80.000000</td>\n",
              "      <td>7.800000</td>\n",
              "      <td>0.390000</td>\n",
              "    </tr>\n",
              "    <tr>\n",
              "      <th>max</th>\n",
              "      <td>2016.000000</td>\n",
              "      <td>9.660000</td>\n",
              "      <td>9.090000</td>\n",
              "      <td>2.790000</td>\n",
              "      <td>3.960000</td>\n",
              "      <td>97.000000</td>\n",
              "      <td>9.100000</td>\n",
              "      <td>21.050000</td>\n",
              "    </tr>\n",
              "  </tbody>\n",
              "</table>\n",
              "</div>"
            ],
            "text/plain": [
              "       year_of_release     na_sales     eu_sales     jp_sales  other_sales  \\\n",
              "count      1031.000000  1031.000000  1031.000000  1031.000000  1031.000000   \n",
              "mean       2013.934045     0.172493     0.154549     0.051212     0.049602   \n",
              "std           1.450649     0.500780     0.498182     0.151925     0.182412   \n",
              "min        2012.000000     0.000000     0.000000     0.000000     0.000000   \n",
              "25%        2012.000000     0.000000     0.000000     0.000000     0.000000   \n",
              "50%        2014.000000     0.020000     0.020000     0.010000     0.010000   \n",
              "75%        2015.000000     0.160000     0.130000     0.050000     0.040000   \n",
              "max        2016.000000     9.660000     9.090000     2.790000     3.960000   \n",
              "\n",
              "       critic_score  user_score  world_sales  \n",
              "count    436.000000  523.000000  1031.000000  \n",
              "mean      71.378440    6.825048     0.427856  \n",
              "std       12.093748    1.374440     1.166504  \n",
              "min       24.000000    1.600000     0.010000  \n",
              "25%       65.000000    6.250000     0.030000  \n",
              "50%       73.000000    7.100000     0.120000  \n",
              "75%       80.000000    7.800000     0.390000  \n",
              "max       97.000000    9.100000    21.050000  "
            ]
          },
          "metadata": {}
        }
      ]
    },
    {
      "cell_type": "code",
      "source": "data_act_sports = data_act.query('genre == \"Sports\"')\n# формируем датасет по жанру Sports\ndata_act_sports.describe()\n# смотрим информацию по значениям датасета",
      "metadata": {},
      "execution_count": 50,
      "outputs": [
        {
          "execution_count": 50,
          "output_type": "execute_result",
          "data": {
            "text/html": [
              "<div>\n",
              "<style scoped>\n",
              "    .dataframe tbody tr th:only-of-type {\n",
              "        vertical-align: middle;\n",
              "    }\n",
              "\n",
              "    .dataframe tbody tr th {\n",
              "        vertical-align: top;\n",
              "    }\n",
              "\n",
              "    .dataframe thead th {\n",
              "        text-align: right;\n",
              "    }\n",
              "</style>\n",
              "<table border=\"1\" class=\"dataframe\">\n",
              "  <thead>\n",
              "    <tr style=\"text-align: right;\">\n",
              "      <th></th>\n",
              "      <th>year_of_release</th>\n",
              "      <th>na_sales</th>\n",
              "      <th>eu_sales</th>\n",
              "      <th>jp_sales</th>\n",
              "      <th>other_sales</th>\n",
              "      <th>critic_score</th>\n",
              "      <th>user_score</th>\n",
              "      <th>world_sales</th>\n",
              "    </tr>\n",
              "  </thead>\n",
              "  <tbody>\n",
              "    <tr>\n",
              "      <th>count</th>\n",
              "      <td>268.000000</td>\n",
              "      <td>268.000000</td>\n",
              "      <td>268.000000</td>\n",
              "      <td>268.000000</td>\n",
              "      <td>268.000000</td>\n",
              "      <td>143.000000</td>\n",
              "      <td>195.000000</td>\n",
              "      <td>268.000000</td>\n",
              "    </tr>\n",
              "    <tr>\n",
              "      <th>mean</th>\n",
              "      <td>2013.977612</td>\n",
              "      <td>0.304216</td>\n",
              "      <td>0.257799</td>\n",
              "      <td>0.029888</td>\n",
              "      <td>0.083731</td>\n",
              "      <td>72.895105</td>\n",
              "      <td>5.455897</td>\n",
              "      <td>0.675634</td>\n",
              "    </tr>\n",
              "    <tr>\n",
              "      <th>std</th>\n",
              "      <td>1.395372</td>\n",
              "      <td>0.509961</td>\n",
              "      <td>0.723696</td>\n",
              "      <td>0.066701</td>\n",
              "      <td>0.172073</td>\n",
              "      <td>15.473154</td>\n",
              "      <td>1.738646</td>\n",
              "      <td>1.136378</td>\n",
              "    </tr>\n",
              "    <tr>\n",
              "      <th>min</th>\n",
              "      <td>2012.000000</td>\n",
              "      <td>0.000000</td>\n",
              "      <td>0.000000</td>\n",
              "      <td>0.000000</td>\n",
              "      <td>0.000000</td>\n",
              "      <td>19.000000</td>\n",
              "      <td>0.200000</td>\n",
              "      <td>0.010000</td>\n",
              "    </tr>\n",
              "    <tr>\n",
              "      <th>25%</th>\n",
              "      <td>2013.000000</td>\n",
              "      <td>0.000000</td>\n",
              "      <td>0.010000</td>\n",
              "      <td>0.000000</td>\n",
              "      <td>0.000000</td>\n",
              "      <td>68.000000</td>\n",
              "      <td>4.300000</td>\n",
              "      <td>0.080000</td>\n",
              "    </tr>\n",
              "    <tr>\n",
              "      <th>50%</th>\n",
              "      <td>2014.000000</td>\n",
              "      <td>0.080000</td>\n",
              "      <td>0.050000</td>\n",
              "      <td>0.000000</td>\n",
              "      <td>0.020000</td>\n",
              "      <td>77.000000</td>\n",
              "      <td>5.700000</td>\n",
              "      <td>0.240000</td>\n",
              "    </tr>\n",
              "    <tr>\n",
              "      <th>75%</th>\n",
              "      <td>2015.000000</td>\n",
              "      <td>0.360000</td>\n",
              "      <td>0.210000</td>\n",
              "      <td>0.020000</td>\n",
              "      <td>0.090000</td>\n",
              "      <td>83.000000</td>\n",
              "      <td>6.800000</td>\n",
              "      <td>0.742500</td>\n",
              "    </tr>\n",
              "    <tr>\n",
              "      <th>max</th>\n",
              "      <td>2016.000000</td>\n",
              "      <td>2.600000</td>\n",
              "      <td>6.120000</td>\n",
              "      <td>0.490000</td>\n",
              "      <td>1.370000</td>\n",
              "      <td>90.000000</td>\n",
              "      <td>8.800000</td>\n",
              "      <td>8.580000</td>\n",
              "    </tr>\n",
              "  </tbody>\n",
              "</table>\n",
              "</div>"
            ],
            "text/plain": [
              "       year_of_release    na_sales    eu_sales    jp_sales  other_sales  \\\n",
              "count       268.000000  268.000000  268.000000  268.000000   268.000000   \n",
              "mean       2013.977612    0.304216    0.257799    0.029888     0.083731   \n",
              "std           1.395372    0.509961    0.723696    0.066701     0.172073   \n",
              "min        2012.000000    0.000000    0.000000    0.000000     0.000000   \n",
              "25%        2013.000000    0.000000    0.010000    0.000000     0.000000   \n",
              "50%        2014.000000    0.080000    0.050000    0.000000     0.020000   \n",
              "75%        2015.000000    0.360000    0.210000    0.020000     0.090000   \n",
              "max        2016.000000    2.600000    6.120000    0.490000     1.370000   \n",
              "\n",
              "       critic_score  user_score  world_sales  \n",
              "count    143.000000  195.000000   268.000000  \n",
              "mean      72.895105    5.455897     0.675634  \n",
              "std       15.473154    1.738646     1.136378  \n",
              "min       19.000000    0.200000     0.010000  \n",
              "25%       68.000000    4.300000     0.080000  \n",
              "50%       77.000000    5.700000     0.240000  \n",
              "75%       83.000000    6.800000     0.742500  \n",
              "max       90.000000    8.800000     8.580000  "
            ]
          },
          "metadata": {}
        }
      ]
    },
    {
      "cell_type": "code",
      "source": "alpha = .05\n# задаём коэффициент значимости\nresults = st.ttest_ind(data_act_action['user_score'].dropna(), data_act_sports['user_score'].dropna(), equal_var=False)\nprint('p-значение:', results.pvalue)\nprint('Средння пользовательская оценка жанра Action:', data_act_action['user_score'].mean())\nprint('Средняя пользовательская оценка жанра Sports:', data_act_sports['user_score'].mean())\nif results.pvalue < alpha:\n    print(\"Отвергаем нулевую гипотезу\")\nelse:\n    print(\"Не получилось отвергнуть нулевую гипотезу\")",
      "metadata": {},
      "execution_count": 51,
      "outputs": [
        {
          "name": "stdout",
          "output_type": "stream",
          "text": "p-значение: 4.24307776572644e-20\n\nСредння пользовательская оценка жанра Action: 6.825047801147227\n\nСредняя пользовательская оценка жанра Sports: 5.455897435897437\n\nОтвергаем нулевую гипотезу\n"
        }
      ]
    },
    {
      "cell_type": "markdown",
      "source": "Вывод: средние пользовательские оценки жанров Аction и Sports различаются, значит отвергаем нулевую гипотезу в пользу альтернативной.",
      "metadata": {}
    },
    {
      "cell_type": "markdown",
      "source": "## Общий вывод",
      "metadata": {}
    },
    {
      "cell_type": "markdown",
      "source": "На основании проведённых исследований можно дать следующие рекомендации для планирования рекламного бюджета на следующий год:\n1. Средний срок жизни платформ составляет 8-10 лет. В рассматриваемом нами периоде есть платформы, которые уже закатились или движутся к концу жизненного цикла, хотя и показывали хорошие продажи в прошлом. Поэтому в первую очередь надо продавать и продвигать игры на платформах, которые являются и будут наиболее популярными среди игроков, а именно XOne, PS4, 3DS.\n2. Популярность игровых жанров также существенно различается, в первую очередь имеет смысл продавать и продвигать игры таких жанров, как Shooter, Role-Playing, Misc, Sports.\n3. Возрастной рейтинг тоже влияет на продажи игр, лучше всего продаются игры с рейтингом M, E и игры без рейтинга.\n4. При планировании рекламных компаний необходимо учитывать специфику разных регионов, игроки Японии по своим предпочтениям существенно отличаются от игроков в Северной Америке и Европе.\n5. Оценка критиков имеет слабую корреляцию на продажи игр, поэтому имеет смысл рекламировать в первую очередь игры с высокой оценкой. Оценка пользователей никак не влияет на продажу, этот параметр можно игнорировать.",
      "metadata": {}
    }
  ]
}