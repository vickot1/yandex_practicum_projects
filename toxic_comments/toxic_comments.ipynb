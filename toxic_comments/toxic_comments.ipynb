{
  "metadata": {
    "ExecuteTimeLog": [
      {
        "duration": 1607,
        "start_time": "2022-09-13T12:15:14.541Z"
      },
      {
        "duration": 2227,
        "start_time": "2022-09-13T12:15:51.220Z"
      },
      {
        "duration": 30,
        "start_time": "2022-09-13T12:16:02.258Z"
      },
      {
        "duration": 10,
        "start_time": "2022-09-13T12:16:16.762Z"
      },
      {
        "duration": 6,
        "start_time": "2022-09-13T12:16:27.088Z"
      },
      {
        "duration": 7,
        "start_time": "2022-09-13T12:16:38.284Z"
      },
      {
        "duration": 10,
        "start_time": "2022-09-13T12:16:52.980Z"
      },
      {
        "duration": 27,
        "start_time": "2022-09-13T12:17:47.293Z"
      },
      {
        "duration": 5,
        "start_time": "2022-09-13T12:18:07.257Z"
      },
      {
        "duration": 8,
        "start_time": "2022-09-13T12:19:05.211Z"
      },
      {
        "duration": 10,
        "start_time": "2022-09-13T12:22:10.911Z"
      },
      {
        "duration": 16,
        "start_time": "2022-09-13T12:22:41.873Z"
      },
      {
        "duration": 31,
        "start_time": "2022-09-13T12:36:19.872Z"
      },
      {
        "duration": 123,
        "start_time": "2022-09-13T12:36:51.166Z"
      },
      {
        "duration": 14,
        "start_time": "2022-09-13T12:40:11.272Z"
      },
      {
        "duration": 63,
        "start_time": "2022-09-13T12:40:41.280Z"
      },
      {
        "duration": 4,
        "start_time": "2022-09-13T12:40:59.748Z"
      },
      {
        "duration": 6,
        "start_time": "2022-09-13T12:41:22.601Z"
      },
      {
        "duration": 12,
        "start_time": "2022-09-13T12:41:34.673Z"
      },
      {
        "duration": 8,
        "start_time": "2022-09-13T12:41:43.470Z"
      },
      {
        "duration": 6,
        "start_time": "2022-09-13T12:42:01.849Z"
      },
      {
        "duration": 4,
        "start_time": "2022-09-13T12:46:01.319Z"
      },
      {
        "duration": 3,
        "start_time": "2022-09-13T12:46:02.000Z"
      },
      {
        "duration": 5,
        "start_time": "2022-09-13T12:46:47.962Z"
      },
      {
        "duration": 4,
        "start_time": "2022-09-13T12:47:40.246Z"
      },
      {
        "duration": 31,
        "start_time": "2022-09-13T12:48:47.839Z"
      },
      {
        "duration": 4,
        "start_time": "2022-09-13T12:49:33.492Z"
      },
      {
        "duration": 4,
        "start_time": "2022-09-13T12:49:40.758Z"
      },
      {
        "duration": 57,
        "start_time": "2022-09-13T12:49:41.500Z"
      },
      {
        "duration": 910,
        "start_time": "2022-09-13T12:49:43.399Z"
      },
      {
        "duration": 9,
        "start_time": "2022-09-13T12:50:20.603Z"
      },
      {
        "duration": 6,
        "start_time": "2022-09-13T12:50:28.293Z"
      },
      {
        "duration": 7,
        "start_time": "2022-09-13T12:50:48.852Z"
      },
      {
        "duration": 68,
        "start_time": "2022-09-13T12:51:03.057Z"
      },
      {
        "duration": 6,
        "start_time": "2022-09-13T12:51:03.768Z"
      },
      {
        "duration": 60,
        "start_time": "2022-09-13T12:51:11.866Z"
      },
      {
        "duration": 9,
        "start_time": "2022-09-13T12:51:12.263Z"
      },
      {
        "duration": 4,
        "start_time": "2022-09-13T12:51:38.718Z"
      },
      {
        "duration": 3,
        "start_time": "2022-09-13T12:54:53.960Z"
      },
      {
        "duration": 4,
        "start_time": "2022-09-13T12:56:37.374Z"
      },
      {
        "duration": 4,
        "start_time": "2022-09-13T12:56:46.247Z"
      },
      {
        "duration": 16,
        "start_time": "2022-09-13T13:00:03.096Z"
      },
      {
        "duration": 6,
        "start_time": "2022-09-13T13:00:26.360Z"
      },
      {
        "duration": 3,
        "start_time": "2022-09-13T13:00:32.709Z"
      },
      {
        "duration": 4,
        "start_time": "2022-09-13T13:00:34.446Z"
      },
      {
        "duration": 21,
        "start_time": "2022-09-13T13:00:35.351Z"
      },
      {
        "duration": 2809,
        "start_time": "2022-09-13T13:00:49.450Z"
      },
      {
        "duration": 5,
        "start_time": "2022-09-13T13:01:16.373Z"
      },
      {
        "duration": 5,
        "start_time": "2022-09-13T13:01:49.667Z"
      },
      {
        "duration": 6,
        "start_time": "2022-09-13T13:01:54.951Z"
      },
      {
        "duration": 7,
        "start_time": "2022-09-13T13:02:05.480Z"
      },
      {
        "duration": 5,
        "start_time": "2022-09-13T13:02:18.701Z"
      },
      {
        "duration": 5,
        "start_time": "2022-09-13T13:02:33.250Z"
      },
      {
        "duration": 23,
        "start_time": "2022-09-13T13:04:13.311Z"
      },
      {
        "duration": 134387,
        "start_time": "2022-09-13T13:05:31.193Z"
      },
      {
        "duration": 5,
        "start_time": "2022-09-13T13:07:45.583Z"
      },
      {
        "duration": 2520,
        "start_time": "2022-09-13T13:08:18.766Z"
      },
      {
        "duration": 5,
        "start_time": "2022-09-13T13:08:22.275Z"
      },
      {
        "duration": 214,
        "start_time": "2022-09-13T13:10:14.750Z"
      },
      {
        "duration": 5,
        "start_time": "2022-09-13T13:10:47.947Z"
      },
      {
        "duration": 3,
        "start_time": "2022-09-13T13:14:04.750Z"
      },
      {
        "duration": 7746,
        "start_time": "2022-09-13T13:14:09.908Z"
      },
      {
        "duration": 16066,
        "start_time": "2022-09-13T13:15:22.366Z"
      },
      {
        "duration": 5,
        "start_time": "2022-09-13T13:17:31.201Z"
      },
      {
        "duration": 342,
        "start_time": "2022-09-13T13:17:58.050Z"
      },
      {
        "duration": 5,
        "start_time": "2022-09-13T13:18:07.369Z"
      },
      {
        "duration": 1286,
        "start_time": "2022-09-13T13:18:46.566Z"
      },
      {
        "duration": 1187,
        "start_time": "2022-09-13T13:20:36.975Z"
      },
      {
        "duration": 52,
        "start_time": "2022-09-13T13:27:20.362Z"
      },
      {
        "duration": 10,
        "start_time": "2022-09-13T13:27:27.366Z"
      },
      {
        "duration": 16,
        "start_time": "2022-09-13T13:27:32.672Z"
      },
      {
        "duration": 9,
        "start_time": "2022-09-13T13:27:35.769Z"
      },
      {
        "duration": 14,
        "start_time": "2022-09-13T13:27:54.715Z"
      },
      {
        "duration": 13,
        "start_time": "2022-09-13T13:28:33.868Z"
      },
      {
        "duration": 10,
        "start_time": "2022-09-13T13:30:32.482Z"
      },
      {
        "duration": 260083,
        "start_time": "2022-09-13T13:34:53.318Z"
      },
      {
        "duration": 14,
        "start_time": "2022-09-13T13:39:13.409Z"
      },
      {
        "duration": 53405,
        "start_time": "2022-09-13T13:57:00.698Z"
      },
      {
        "duration": 1415,
        "start_time": "2022-09-13T14:01:20.658Z"
      },
      {
        "duration": 691,
        "start_time": "2022-09-13T14:01:22.075Z"
      },
      {
        "duration": 23,
        "start_time": "2022-09-13T14:01:22.768Z"
      },
      {
        "duration": 10,
        "start_time": "2022-09-13T14:01:22.801Z"
      },
      {
        "duration": 24,
        "start_time": "2022-09-13T14:01:22.812Z"
      },
      {
        "duration": 7,
        "start_time": "2022-09-13T14:01:22.837Z"
      },
      {
        "duration": 6,
        "start_time": "2022-09-13T14:01:22.845Z"
      },
      {
        "duration": 14,
        "start_time": "2022-09-13T14:01:22.853Z"
      },
      {
        "duration": 77,
        "start_time": "2022-09-13T14:01:22.869Z"
      },
      {
        "duration": 4,
        "start_time": "2022-09-13T14:01:23.001Z"
      },
      {
        "duration": 9,
        "start_time": "2022-09-13T14:01:23.006Z"
      },
      {
        "duration": 8,
        "start_time": "2022-09-13T14:01:23.017Z"
      },
      {
        "duration": 5,
        "start_time": "2022-09-13T14:01:23.026Z"
      },
      {
        "duration": 7,
        "start_time": "2022-09-13T14:01:23.033Z"
      },
      {
        "duration": 8,
        "start_time": "2022-09-13T14:01:23.041Z"
      },
      {
        "duration": 313,
        "start_time": "2022-09-13T14:01:23.100Z"
      },
      {
        "duration": 0,
        "start_time": "2022-09-13T14:01:23.414Z"
      },
      {
        "duration": 0,
        "start_time": "2022-09-13T14:01:23.415Z"
      },
      {
        "duration": 0,
        "start_time": "2022-09-13T14:01:23.417Z"
      },
      {
        "duration": 0,
        "start_time": "2022-09-13T14:01:23.418Z"
      },
      {
        "duration": 0,
        "start_time": "2022-09-13T14:01:23.419Z"
      },
      {
        "duration": 0,
        "start_time": "2022-09-13T14:01:23.420Z"
      },
      {
        "duration": 1,
        "start_time": "2022-09-13T14:01:23.421Z"
      },
      {
        "duration": 0,
        "start_time": "2022-09-13T14:01:23.423Z"
      },
      {
        "duration": 0,
        "start_time": "2022-09-13T14:01:23.424Z"
      },
      {
        "duration": 0,
        "start_time": "2022-09-13T14:01:23.425Z"
      },
      {
        "duration": 0,
        "start_time": "2022-09-13T14:01:23.427Z"
      },
      {
        "duration": 0,
        "start_time": "2022-09-13T14:01:23.428Z"
      },
      {
        "duration": 0,
        "start_time": "2022-09-13T14:01:23.431Z"
      },
      {
        "duration": 0,
        "start_time": "2022-09-13T14:01:23.435Z"
      },
      {
        "duration": 0,
        "start_time": "2022-09-13T14:01:23.435Z"
      },
      {
        "duration": 0,
        "start_time": "2022-09-13T14:01:23.436Z"
      },
      {
        "duration": 0,
        "start_time": "2022-09-13T14:01:23.437Z"
      },
      {
        "duration": 5,
        "start_time": "2022-09-13T14:01:55.850Z"
      },
      {
        "duration": 3,
        "start_time": "2022-09-13T14:01:56.952Z"
      },
      {
        "duration": 4,
        "start_time": "2022-09-13T14:02:00.302Z"
      },
      {
        "duration": 3,
        "start_time": "2022-09-13T14:02:03.019Z"
      },
      {
        "duration": 69169,
        "start_time": "2022-09-13T14:02:03.591Z"
      },
      {
        "duration": 4,
        "start_time": "2022-09-13T14:03:12.763Z"
      },
      {
        "duration": 1498,
        "start_time": "2022-09-13T14:03:12.768Z"
      },
      {
        "duration": 5,
        "start_time": "2022-09-13T14:03:14.274Z"
      },
      {
        "duration": 5291,
        "start_time": "2022-09-13T14:03:20.512Z"
      },
      {
        "duration": 17307,
        "start_time": "2022-09-13T14:03:30.473Z"
      },
      {
        "duration": 4,
        "start_time": "2022-09-13T14:03:50.387Z"
      },
      {
        "duration": 347,
        "start_time": "2022-09-13T14:03:53.019Z"
      },
      {
        "duration": 6,
        "start_time": "2022-09-13T14:03:54.596Z"
      },
      {
        "duration": 1144,
        "start_time": "2022-09-13T14:03:55.556Z"
      },
      {
        "duration": 3,
        "start_time": "2022-09-13T14:04:23.048Z"
      },
      {
        "duration": 39554,
        "start_time": "2022-09-13T14:04:24.050Z"
      },
      {
        "duration": 3,
        "start_time": "2022-09-13T14:13:08.539Z"
      },
      {
        "duration": 48374,
        "start_time": "2022-09-13T14:13:09.238Z"
      },
      {
        "duration": 203327,
        "start_time": "2022-09-13T14:14:04.475Z"
      },
      {
        "duration": 6,
        "start_time": "2022-09-13T14:17:27.804Z"
      },
      {
        "duration": 52,
        "start_time": "2022-09-13T14:31:46.836Z"
      },
      {
        "duration": 4,
        "start_time": "2022-09-13T14:31:52.915Z"
      },
      {
        "duration": 73,
        "start_time": "2022-09-13T14:31:56.735Z"
      },
      {
        "duration": 1417,
        "start_time": "2022-09-13T14:32:38.049Z"
      },
      {
        "duration": 717,
        "start_time": "2022-09-13T14:32:39.468Z"
      },
      {
        "duration": 26,
        "start_time": "2022-09-13T14:32:40.187Z"
      },
      {
        "duration": 12,
        "start_time": "2022-09-13T14:32:40.214Z"
      },
      {
        "duration": 28,
        "start_time": "2022-09-13T14:32:40.227Z"
      },
      {
        "duration": 7,
        "start_time": "2022-09-13T14:32:40.257Z"
      },
      {
        "duration": 11,
        "start_time": "2022-09-13T14:32:40.265Z"
      },
      {
        "duration": 33,
        "start_time": "2022-09-13T14:32:40.278Z"
      },
      {
        "duration": 54,
        "start_time": "2022-09-13T14:32:40.313Z"
      },
      {
        "duration": 3,
        "start_time": "2022-09-13T14:32:40.370Z"
      },
      {
        "duration": 25,
        "start_time": "2022-09-13T14:32:40.375Z"
      },
      {
        "duration": 6,
        "start_time": "2022-09-13T14:32:40.402Z"
      },
      {
        "duration": 11,
        "start_time": "2022-09-13T14:32:40.410Z"
      },
      {
        "duration": 6,
        "start_time": "2022-09-13T14:32:40.422Z"
      },
      {
        "duration": 5,
        "start_time": "2022-09-13T14:32:40.429Z"
      },
      {
        "duration": 10,
        "start_time": "2022-09-13T14:32:40.435Z"
      },
      {
        "duration": 526,
        "start_time": "2022-09-13T14:32:40.447Z"
      },
      {
        "duration": 0,
        "start_time": "2022-09-13T14:32:40.975Z"
      },
      {
        "duration": 0,
        "start_time": "2022-09-13T14:32:40.977Z"
      },
      {
        "duration": 0,
        "start_time": "2022-09-13T14:32:40.979Z"
      },
      {
        "duration": 0,
        "start_time": "2022-09-13T14:32:40.981Z"
      },
      {
        "duration": 0,
        "start_time": "2022-09-13T14:32:40.982Z"
      },
      {
        "duration": 0,
        "start_time": "2022-09-13T14:32:40.983Z"
      },
      {
        "duration": 0,
        "start_time": "2022-09-13T14:32:40.984Z"
      },
      {
        "duration": 0,
        "start_time": "2022-09-13T14:32:40.985Z"
      },
      {
        "duration": 0,
        "start_time": "2022-09-13T14:32:40.986Z"
      },
      {
        "duration": 1,
        "start_time": "2022-09-13T14:32:40.986Z"
      },
      {
        "duration": 0,
        "start_time": "2022-09-13T14:32:40.988Z"
      },
      {
        "duration": 0,
        "start_time": "2022-09-13T14:32:40.989Z"
      },
      {
        "duration": 0,
        "start_time": "2022-09-13T14:32:40.990Z"
      },
      {
        "duration": 0,
        "start_time": "2022-09-13T14:32:40.991Z"
      },
      {
        "duration": 0,
        "start_time": "2022-09-13T14:32:40.991Z"
      },
      {
        "duration": 1899,
        "start_time": "2022-09-13T14:32:49.926Z"
      },
      {
        "duration": 946,
        "start_time": "2022-09-13T14:32:51.827Z"
      },
      {
        "duration": 26,
        "start_time": "2022-09-13T14:32:52.774Z"
      },
      {
        "duration": 9,
        "start_time": "2022-09-13T14:32:52.801Z"
      },
      {
        "duration": 24,
        "start_time": "2022-09-13T14:32:52.812Z"
      },
      {
        "duration": 10,
        "start_time": "2022-09-13T14:32:52.838Z"
      },
      {
        "duration": 7,
        "start_time": "2022-09-13T14:32:52.850Z"
      },
      {
        "duration": 44,
        "start_time": "2022-09-13T14:32:52.858Z"
      },
      {
        "duration": 53,
        "start_time": "2022-09-13T14:32:52.903Z"
      },
      {
        "duration": 3,
        "start_time": "2022-09-13T14:32:52.957Z"
      },
      {
        "duration": 13,
        "start_time": "2022-09-13T14:32:52.962Z"
      },
      {
        "duration": 24,
        "start_time": "2022-09-13T14:32:52.977Z"
      },
      {
        "duration": 2,
        "start_time": "2022-09-13T14:32:53.003Z"
      },
      {
        "duration": 4,
        "start_time": "2022-09-13T14:32:53.008Z"
      },
      {
        "duration": 5,
        "start_time": "2022-09-13T14:32:53.013Z"
      },
      {
        "duration": 11,
        "start_time": "2022-09-13T14:32:53.019Z"
      },
      {
        "duration": 62233,
        "start_time": "2022-09-13T14:32:53.031Z"
      },
      {
        "duration": 4,
        "start_time": "2022-09-13T14:33:55.266Z"
      },
      {
        "duration": 1480,
        "start_time": "2022-09-13T14:33:55.271Z"
      },
      {
        "duration": 4,
        "start_time": "2022-09-13T14:33:56.752Z"
      },
      {
        "duration": 5008,
        "start_time": "2022-09-13T14:33:56.758Z"
      },
      {
        "duration": 17132,
        "start_time": "2022-09-13T14:34:01.768Z"
      },
      {
        "duration": 4,
        "start_time": "2022-09-13T14:34:18.902Z"
      },
      {
        "duration": 372,
        "start_time": "2022-09-13T14:34:18.907Z"
      },
      {
        "duration": 5,
        "start_time": "2022-09-13T14:34:19.281Z"
      },
      {
        "duration": 1155,
        "start_time": "2022-09-13T14:34:19.287Z"
      },
      {
        "duration": 195768,
        "start_time": "2022-09-13T14:34:20.444Z"
      },
      {
        "duration": 85,
        "start_time": "2022-09-13T14:37:36.217Z"
      },
      {
        "duration": 95497,
        "start_time": "2022-09-13T14:37:36.304Z"
      },
      {
        "duration": 4,
        "start_time": "2022-09-13T14:39:11.803Z"
      },
      {
        "duration": 8,
        "start_time": "2022-09-13T14:39:11.808Z"
      },
      {
        "duration": 50290,
        "start_time": "2022-09-13T14:39:11.818Z"
      },
      {
        "duration": 100328,
        "start_time": "2022-09-13T14:40:33.173Z"
      },
      {
        "duration": 3,
        "start_time": "2022-09-13T14:42:13.503Z"
      },
      {
        "duration": 41,
        "start_time": "2022-09-13T14:44:04.700Z"
      },
      {
        "duration": 1510,
        "start_time": "2022-09-13T15:23:28.003Z"
      },
      {
        "duration": 694,
        "start_time": "2022-09-13T15:23:29.515Z"
      },
      {
        "duration": 30,
        "start_time": "2022-09-13T15:23:30.211Z"
      },
      {
        "duration": 21,
        "start_time": "2022-09-13T15:23:30.242Z"
      },
      {
        "duration": 36,
        "start_time": "2022-09-13T15:23:30.265Z"
      },
      {
        "duration": 43,
        "start_time": "2022-09-13T15:23:30.303Z"
      },
      {
        "duration": 32,
        "start_time": "2022-09-13T15:23:30.347Z"
      },
      {
        "duration": 41,
        "start_time": "2022-09-13T15:23:30.380Z"
      },
      {
        "duration": 64,
        "start_time": "2022-09-13T15:23:30.423Z"
      },
      {
        "duration": 3,
        "start_time": "2022-09-13T15:23:30.488Z"
      },
      {
        "duration": 18,
        "start_time": "2022-09-13T15:23:30.492Z"
      },
      {
        "duration": 19,
        "start_time": "2022-09-13T15:23:30.511Z"
      },
      {
        "duration": 13,
        "start_time": "2022-09-13T15:23:30.531Z"
      },
      {
        "duration": 18,
        "start_time": "2022-09-13T15:23:30.547Z"
      },
      {
        "duration": 64019,
        "start_time": "2022-09-13T15:23:30.566Z"
      },
      {
        "duration": 13,
        "start_time": "2022-09-13T15:24:34.587Z"
      },
      {
        "duration": 1533,
        "start_time": "2022-09-13T15:24:34.602Z"
      },
      {
        "duration": 5,
        "start_time": "2022-09-13T15:24:36.136Z"
      },
      {
        "duration": 5553,
        "start_time": "2022-09-13T15:24:36.143Z"
      },
      {
        "duration": 16615,
        "start_time": "2022-09-13T15:24:41.700Z"
      },
      {
        "duration": 5,
        "start_time": "2022-09-13T15:24:58.317Z"
      },
      {
        "duration": 375,
        "start_time": "2022-09-13T15:24:58.323Z"
      },
      {
        "duration": 4,
        "start_time": "2022-09-13T15:24:58.701Z"
      },
      {
        "duration": 1296,
        "start_time": "2022-09-13T15:24:58.707Z"
      },
      {
        "duration": 207596,
        "start_time": "2022-09-13T15:25:00.004Z"
      },
      {
        "duration": 3,
        "start_time": "2022-09-13T15:28:27.602Z"
      },
      {
        "duration": 102008,
        "start_time": "2022-09-13T15:28:27.607Z"
      },
      {
        "duration": 84,
        "start_time": "2022-09-13T15:30:09.618Z"
      },
      {
        "duration": 502077,
        "start_time": "2022-09-13T15:30:09.703Z"
      },
      {
        "duration": 4,
        "start_time": "2022-09-13T15:38:31.782Z"
      },
      {
        "duration": 1713,
        "start_time": "2022-09-13T15:43:46.256Z"
      },
      {
        "duration": 696,
        "start_time": "2022-09-13T15:43:47.971Z"
      },
      {
        "duration": 39,
        "start_time": "2022-09-13T15:43:48.668Z"
      },
      {
        "duration": 11,
        "start_time": "2022-09-13T15:43:48.709Z"
      },
      {
        "duration": 30,
        "start_time": "2022-09-13T15:43:48.722Z"
      },
      {
        "duration": 10,
        "start_time": "2022-09-13T15:43:48.753Z"
      },
      {
        "duration": 13,
        "start_time": "2022-09-13T15:43:48.764Z"
      },
      {
        "duration": 37,
        "start_time": "2022-09-13T15:43:48.778Z"
      },
      {
        "duration": 69,
        "start_time": "2022-09-13T15:43:48.817Z"
      },
      {
        "duration": 15,
        "start_time": "2022-09-13T15:43:48.888Z"
      },
      {
        "duration": 5,
        "start_time": "2022-09-13T15:43:48.904Z"
      },
      {
        "duration": 6,
        "start_time": "2022-09-13T15:43:48.911Z"
      },
      {
        "duration": 5,
        "start_time": "2022-09-13T15:43:48.919Z"
      },
      {
        "duration": 3,
        "start_time": "2022-09-13T15:43:48.928Z"
      },
      {
        "duration": 68627,
        "start_time": "2022-09-13T15:43:48.933Z"
      },
      {
        "duration": 6,
        "start_time": "2022-09-13T15:44:57.562Z"
      },
      {
        "duration": 1508,
        "start_time": "2022-09-13T15:44:57.569Z"
      },
      {
        "duration": 7,
        "start_time": "2022-09-13T15:44:59.079Z"
      },
      {
        "duration": 5549,
        "start_time": "2022-09-13T15:44:59.088Z"
      },
      {
        "duration": 17022,
        "start_time": "2022-09-13T15:45:04.639Z"
      },
      {
        "duration": 4,
        "start_time": "2022-09-13T15:45:21.663Z"
      },
      {
        "duration": 402,
        "start_time": "2022-09-13T15:45:21.668Z"
      },
      {
        "duration": 5,
        "start_time": "2022-09-13T15:45:22.072Z"
      },
      {
        "duration": 1199,
        "start_time": "2022-09-13T15:45:22.078Z"
      },
      {
        "duration": 203530,
        "start_time": "2022-09-13T15:45:23.279Z"
      },
      {
        "duration": 4,
        "start_time": "2022-09-13T15:48:46.811Z"
      },
      {
        "duration": 97983,
        "start_time": "2022-09-13T15:48:46.817Z"
      },
      {
        "duration": 8,
        "start_time": "2022-09-13T15:50:24.802Z"
      },
      {
        "duration": 1671,
        "start_time": "2022-09-13T16:11:47.990Z"
      },
      {
        "duration": 733,
        "start_time": "2022-09-13T16:11:49.663Z"
      },
      {
        "duration": 30,
        "start_time": "2022-09-13T16:11:50.398Z"
      },
      {
        "duration": 23,
        "start_time": "2022-09-13T16:11:50.430Z"
      },
      {
        "duration": 28,
        "start_time": "2022-09-13T16:11:50.456Z"
      },
      {
        "duration": 22,
        "start_time": "2022-09-13T16:11:50.485Z"
      },
      {
        "duration": 11,
        "start_time": "2022-09-13T16:11:50.509Z"
      },
      {
        "duration": 16,
        "start_time": "2022-09-13T16:11:50.522Z"
      },
      {
        "duration": 74,
        "start_time": "2022-09-13T16:11:50.540Z"
      },
      {
        "duration": 4,
        "start_time": "2022-09-13T16:11:50.616Z"
      },
      {
        "duration": 15,
        "start_time": "2022-09-13T16:11:50.621Z"
      },
      {
        "duration": 6,
        "start_time": "2022-09-13T16:11:50.637Z"
      },
      {
        "duration": 8,
        "start_time": "2022-09-13T16:11:50.644Z"
      },
      {
        "duration": 5,
        "start_time": "2022-09-13T16:11:50.655Z"
      },
      {
        "duration": 73980,
        "start_time": "2022-09-13T16:11:50.661Z"
      },
      {
        "duration": 6,
        "start_time": "2022-09-13T16:13:04.644Z"
      },
      {
        "duration": 1527,
        "start_time": "2022-09-13T16:13:04.652Z"
      },
      {
        "duration": 5,
        "start_time": "2022-09-13T16:13:06.180Z"
      },
      {
        "duration": 5444,
        "start_time": "2022-09-13T16:13:06.186Z"
      },
      {
        "duration": 17129,
        "start_time": "2022-09-13T16:13:11.631Z"
      },
      {
        "duration": 4,
        "start_time": "2022-09-13T16:13:28.762Z"
      },
      {
        "duration": 426,
        "start_time": "2022-09-13T16:13:28.768Z"
      },
      {
        "duration": 7,
        "start_time": "2022-09-13T16:13:29.196Z"
      },
      {
        "duration": 1222,
        "start_time": "2022-09-13T16:13:29.204Z"
      },
      {
        "duration": 212983,
        "start_time": "2022-09-13T16:13:30.429Z"
      },
      {
        "duration": 4,
        "start_time": "2022-09-13T16:17:03.414Z"
      },
      {
        "duration": 102181,
        "start_time": "2022-09-13T16:17:03.420Z"
      },
      {
        "duration": 7,
        "start_time": "2022-09-13T16:18:45.603Z"
      },
      {
        "duration": 2148017,
        "start_time": "2022-09-13T16:18:45.612Z"
      },
      {
        "duration": 1586493,
        "start_time": "2022-09-13T16:54:36.634Z"
      },
      {
        "duration": 28,
        "start_time": "2022-09-13T17:41:13.764Z"
      },
      {
        "duration": 99,
        "start_time": "2022-09-13T17:41:42.528Z"
      },
      {
        "duration": 530738,
        "start_time": "2022-09-13T17:41:49.686Z"
      },
      {
        "duration": 5,
        "start_time": "2022-09-13T17:50:40.426Z"
      },
      {
        "duration": 79,
        "start_time": "2022-09-13T17:58:02.311Z"
      },
      {
        "duration": 1625,
        "start_time": "2022-09-13T18:19:33.388Z"
      },
      {
        "duration": 732,
        "start_time": "2022-09-13T18:19:35.015Z"
      },
      {
        "duration": 32,
        "start_time": "2022-09-13T18:19:35.748Z"
      },
      {
        "duration": 22,
        "start_time": "2022-09-13T18:19:35.781Z"
      },
      {
        "duration": 30,
        "start_time": "2022-09-13T18:19:35.805Z"
      },
      {
        "duration": 5,
        "start_time": "2022-09-13T18:19:35.837Z"
      },
      {
        "duration": 8,
        "start_time": "2022-09-13T18:19:35.844Z"
      },
      {
        "duration": 16,
        "start_time": "2022-09-13T18:19:35.853Z"
      },
      {
        "duration": 84,
        "start_time": "2022-09-13T18:19:35.870Z"
      },
      {
        "duration": 4,
        "start_time": "2022-09-13T18:19:35.955Z"
      },
      {
        "duration": 6,
        "start_time": "2022-09-13T18:19:35.960Z"
      },
      {
        "duration": 6,
        "start_time": "2022-09-13T18:19:35.968Z"
      },
      {
        "duration": 5,
        "start_time": "2022-09-13T18:19:35.976Z"
      },
      {
        "duration": 16,
        "start_time": "2022-09-13T18:19:35.984Z"
      },
      {
        "duration": 68592,
        "start_time": "2022-09-13T18:19:36.002Z"
      },
      {
        "duration": 9,
        "start_time": "2022-09-13T18:20:44.596Z"
      },
      {
        "duration": 1605,
        "start_time": "2022-09-13T18:20:44.607Z"
      },
      {
        "duration": 7,
        "start_time": "2022-09-13T18:20:46.214Z"
      },
      {
        "duration": 5674,
        "start_time": "2022-09-13T18:20:46.222Z"
      },
      {
        "duration": 16725,
        "start_time": "2022-09-13T18:20:51.899Z"
      },
      {
        "duration": 5,
        "start_time": "2022-09-13T18:21:08.627Z"
      },
      {
        "duration": 366,
        "start_time": "2022-09-13T18:21:08.634Z"
      },
      {
        "duration": 6,
        "start_time": "2022-09-13T18:21:09.002Z"
      },
      {
        "duration": 1332,
        "start_time": "2022-09-13T18:21:09.010Z"
      },
      {
        "duration": 210868,
        "start_time": "2022-09-13T18:21:10.343Z"
      },
      {
        "duration": 9,
        "start_time": "2022-09-13T18:24:41.214Z"
      },
      {
        "duration": 100415,
        "start_time": "2022-09-13T18:24:41.301Z"
      },
      {
        "duration": 6,
        "start_time": "2022-09-13T18:26:21.801Z"
      },
      {
        "duration": 2033,
        "start_time": "2022-09-13T18:47:23.189Z"
      },
      {
        "duration": 735,
        "start_time": "2022-09-13T18:47:25.224Z"
      },
      {
        "duration": 25,
        "start_time": "2022-09-13T18:47:25.960Z"
      },
      {
        "duration": 23,
        "start_time": "2022-09-13T18:47:25.987Z"
      },
      {
        "duration": 28,
        "start_time": "2022-09-13T18:47:26.017Z"
      },
      {
        "duration": 4,
        "start_time": "2022-09-13T18:47:26.047Z"
      },
      {
        "duration": 7,
        "start_time": "2022-09-13T18:47:26.053Z"
      },
      {
        "duration": 15,
        "start_time": "2022-09-13T18:47:26.061Z"
      },
      {
        "duration": 85,
        "start_time": "2022-09-13T18:47:26.077Z"
      },
      {
        "duration": 75,
        "start_time": "2022-09-13T18:47:26.163Z"
      },
      {
        "duration": 7,
        "start_time": "2022-09-13T18:47:26.239Z"
      },
      {
        "duration": 6,
        "start_time": "2022-09-13T18:47:26.247Z"
      },
      {
        "duration": 5,
        "start_time": "2022-09-13T18:47:26.254Z"
      },
      {
        "duration": 4,
        "start_time": "2022-09-13T18:47:26.262Z"
      },
      {
        "duration": 6,
        "start_time": "2022-09-13T18:47:26.267Z"
      },
      {
        "duration": 5,
        "start_time": "2022-09-13T18:47:26.274Z"
      },
      {
        "duration": 67409,
        "start_time": "2022-09-13T18:47:26.281Z"
      },
      {
        "duration": 12,
        "start_time": "2022-09-13T18:48:33.692Z"
      },
      {
        "duration": 1526,
        "start_time": "2022-09-13T18:48:33.706Z"
      },
      {
        "duration": 5,
        "start_time": "2022-09-13T18:48:35.234Z"
      },
      {
        "duration": 5292,
        "start_time": "2022-09-13T18:48:35.240Z"
      },
      {
        "duration": 22425,
        "start_time": "2022-09-13T18:48:40.534Z"
      },
      {
        "duration": 5,
        "start_time": "2022-09-13T18:49:02.960Z"
      },
      {
        "duration": 525,
        "start_time": "2022-09-13T18:49:02.967Z"
      },
      {
        "duration": 7,
        "start_time": "2022-09-13T18:49:03.494Z"
      },
      {
        "duration": 1758,
        "start_time": "2022-09-13T18:49:03.502Z"
      },
      {
        "duration": 17150,
        "start_time": "2022-09-13T18:49:05.262Z"
      },
      {
        "duration": 5,
        "start_time": "2022-09-13T18:49:22.414Z"
      },
      {
        "duration": 398,
        "start_time": "2022-09-13T18:49:22.424Z"
      },
      {
        "duration": 6,
        "start_time": "2022-09-13T18:49:22.823Z"
      },
      {
        "duration": 1242,
        "start_time": "2022-09-13T18:49:22.831Z"
      },
      {
        "duration": 189,
        "start_time": "2022-09-13T18:49:24.074Z"
      },
      {
        "duration": 9,
        "start_time": "2022-09-13T18:49:24.265Z"
      },
      {
        "duration": 0,
        "start_time": "2022-09-13T18:49:24.275Z"
      },
      {
        "duration": 0,
        "start_time": "2022-09-13T18:49:24.276Z"
      },
      {
        "duration": 0,
        "start_time": "2022-09-13T18:49:24.276Z"
      },
      {
        "duration": 0,
        "start_time": "2022-09-13T18:49:24.277Z"
      },
      {
        "duration": 0,
        "start_time": "2022-09-13T18:49:24.278Z"
      },
      {
        "duration": 0,
        "start_time": "2022-09-13T18:49:24.279Z"
      },
      {
        "duration": 3,
        "start_time": "2022-09-13T18:50:05.222Z"
      },
      {
        "duration": 68,
        "start_time": "2022-09-13T18:50:10.841Z"
      },
      {
        "duration": 72,
        "start_time": "2022-09-13T18:53:52.953Z"
      },
      {
        "duration": 5,
        "start_time": "2022-09-13T18:55:28.071Z"
      },
      {
        "duration": 3,
        "start_time": "2022-09-13T18:55:39.180Z"
      },
      {
        "duration": 3,
        "start_time": "2022-09-13T18:56:01.181Z"
      },
      {
        "duration": 1673,
        "start_time": "2022-09-13T18:56:27.522Z"
      },
      {
        "duration": 691,
        "start_time": "2022-09-13T18:56:29.196Z"
      },
      {
        "duration": 28,
        "start_time": "2022-09-13T18:56:29.888Z"
      },
      {
        "duration": 11,
        "start_time": "2022-09-13T18:56:29.917Z"
      },
      {
        "duration": 26,
        "start_time": "2022-09-13T18:56:29.929Z"
      },
      {
        "duration": 5,
        "start_time": "2022-09-13T18:56:29.956Z"
      },
      {
        "duration": 9,
        "start_time": "2022-09-13T18:56:29.962Z"
      },
      {
        "duration": 46,
        "start_time": "2022-09-13T18:56:29.973Z"
      },
      {
        "duration": 55,
        "start_time": "2022-09-13T18:56:30.021Z"
      },
      {
        "duration": 151,
        "start_time": "2022-09-13T18:56:30.077Z"
      },
      {
        "duration": 0,
        "start_time": "2022-09-13T18:56:30.231Z"
      },
      {
        "duration": 0,
        "start_time": "2022-09-13T18:56:30.232Z"
      },
      {
        "duration": 0,
        "start_time": "2022-09-13T18:56:30.233Z"
      },
      {
        "duration": 0,
        "start_time": "2022-09-13T18:56:30.234Z"
      },
      {
        "duration": 0,
        "start_time": "2022-09-13T18:56:30.236Z"
      },
      {
        "duration": 0,
        "start_time": "2022-09-13T18:56:30.238Z"
      },
      {
        "duration": 0,
        "start_time": "2022-09-13T18:56:30.239Z"
      },
      {
        "duration": 0,
        "start_time": "2022-09-13T18:56:30.241Z"
      },
      {
        "duration": 0,
        "start_time": "2022-09-13T18:56:30.242Z"
      },
      {
        "duration": 0,
        "start_time": "2022-09-13T18:56:30.243Z"
      },
      {
        "duration": 0,
        "start_time": "2022-09-13T18:56:30.244Z"
      },
      {
        "duration": 0,
        "start_time": "2022-09-13T18:56:30.245Z"
      },
      {
        "duration": 0,
        "start_time": "2022-09-13T18:56:30.247Z"
      },
      {
        "duration": 0,
        "start_time": "2022-09-13T18:56:30.248Z"
      },
      {
        "duration": 0,
        "start_time": "2022-09-13T18:56:30.250Z"
      },
      {
        "duration": 0,
        "start_time": "2022-09-13T18:56:30.251Z"
      },
      {
        "duration": 0,
        "start_time": "2022-09-13T18:56:30.252Z"
      },
      {
        "duration": 0,
        "start_time": "2022-09-13T18:56:30.253Z"
      },
      {
        "duration": 0,
        "start_time": "2022-09-13T18:56:30.300Z"
      },
      {
        "duration": 0,
        "start_time": "2022-09-13T18:56:30.301Z"
      },
      {
        "duration": 0,
        "start_time": "2022-09-13T18:56:30.302Z"
      },
      {
        "duration": 0,
        "start_time": "2022-09-13T18:56:30.303Z"
      },
      {
        "duration": 0,
        "start_time": "2022-09-13T18:56:30.304Z"
      },
      {
        "duration": 0,
        "start_time": "2022-09-13T18:56:30.305Z"
      },
      {
        "duration": 0,
        "start_time": "2022-09-13T18:56:30.307Z"
      },
      {
        "duration": 1,
        "start_time": "2022-09-13T18:56:30.308Z"
      },
      {
        "duration": 0,
        "start_time": "2022-09-13T18:56:30.310Z"
      },
      {
        "duration": 0,
        "start_time": "2022-09-13T18:56:30.312Z"
      },
      {
        "duration": 0,
        "start_time": "2022-09-13T18:56:30.312Z"
      },
      {
        "duration": 0,
        "start_time": "2022-09-13T18:56:30.313Z"
      },
      {
        "duration": 0,
        "start_time": "2022-09-13T18:56:30.318Z"
      },
      {
        "duration": 0,
        "start_time": "2022-09-13T18:56:30.323Z"
      },
      {
        "duration": 17,
        "start_time": "2022-09-13T18:58:23.994Z"
      },
      {
        "duration": 55,
        "start_time": "2022-09-13T18:58:58.463Z"
      },
      {
        "duration": 13,
        "start_time": "2022-09-13T18:58:59.270Z"
      },
      {
        "duration": 5,
        "start_time": "2022-09-13T18:59:35.506Z"
      },
      {
        "duration": 706,
        "start_time": "2022-09-13T18:59:36.065Z"
      },
      {
        "duration": 32,
        "start_time": "2022-09-13T18:59:38.012Z"
      },
      {
        "duration": 8,
        "start_time": "2022-09-13T18:59:40.702Z"
      },
      {
        "duration": 27,
        "start_time": "2022-09-13T18:59:42.789Z"
      },
      {
        "duration": 6,
        "start_time": "2022-09-13T18:59:44.837Z"
      },
      {
        "duration": 9,
        "start_time": "2022-09-13T18:59:45.240Z"
      },
      {
        "duration": 17,
        "start_time": "2022-09-13T18:59:47.576Z"
      },
      {
        "duration": 62,
        "start_time": "2022-09-13T18:59:50.600Z"
      },
      {
        "duration": 3,
        "start_time": "2022-09-13T19:00:15.162Z"
      },
      {
        "duration": 18,
        "start_time": "2022-09-13T19:00:30.712Z"
      },
      {
        "duration": 15,
        "start_time": "2022-09-13T19:00:53.608Z"
      },
      {
        "duration": 52,
        "start_time": "2022-09-13T19:01:17.183Z"
      },
      {
        "duration": 12,
        "start_time": "2022-09-13T19:01:19.575Z"
      },
      {
        "duration": 3,
        "start_time": "2022-09-13T19:01:21.887Z"
      },
      {
        "duration": 5,
        "start_time": "2022-09-13T19:01:22.406Z"
      },
      {
        "duration": 4,
        "start_time": "2022-09-13T19:01:24.212Z"
      },
      {
        "duration": 4,
        "start_time": "2022-09-13T19:01:24.807Z"
      },
      {
        "duration": 3,
        "start_time": "2022-09-13T19:01:25.540Z"
      },
      {
        "duration": 4,
        "start_time": "2022-09-13T19:01:25.940Z"
      },
      {
        "duration": 4,
        "start_time": "2022-09-13T19:01:29.122Z"
      },
      {
        "duration": 2,
        "start_time": "2022-09-13T19:01:29.579Z"
      },
      {
        "duration": 4,
        "start_time": "2022-09-13T19:01:30.183Z"
      },
      {
        "duration": 51556,
        "start_time": "2022-09-13T19:01:40.991Z"
      },
      {
        "duration": 6,
        "start_time": "2022-09-13T19:03:00.478Z"
      },
      {
        "duration": 1109,
        "start_time": "2022-09-13T19:03:02.764Z"
      },
      {
        "duration": 4,
        "start_time": "2022-09-13T19:03:41.010Z"
      },
      {
        "duration": 3932,
        "start_time": "2022-09-13T19:03:41.928Z"
      },
      {
        "duration": 12,
        "start_time": "2022-09-13T19:03:48.388Z"
      },
      {
        "duration": 13,
        "start_time": "2022-09-13T19:03:54.162Z"
      },
      {
        "duration": 16732,
        "start_time": "2022-09-13T19:04:05.638Z"
      },
      {
        "duration": 5,
        "start_time": "2022-09-13T19:04:24.741Z"
      },
      {
        "duration": 350,
        "start_time": "2022-09-13T19:04:29.155Z"
      },
      {
        "duration": 4,
        "start_time": "2022-09-13T19:04:30.975Z"
      },
      {
        "duration": 1353,
        "start_time": "2022-09-13T19:04:33.743Z"
      },
      {
        "duration": 18406,
        "start_time": "2022-09-13T19:04:38.342Z"
      },
      {
        "duration": 4,
        "start_time": "2022-09-13T19:04:56.750Z"
      },
      {
        "duration": 425,
        "start_time": "2022-09-13T19:04:56.756Z"
      },
      {
        "duration": 5,
        "start_time": "2022-09-13T19:04:57.183Z"
      },
      {
        "duration": 1313,
        "start_time": "2022-09-13T19:05:00.032Z"
      },
      {
        "duration": 42225,
        "start_time": "2022-09-13T19:05:05.190Z"
      },
      {
        "duration": 12,
        "start_time": "2022-09-13T19:05:50.862Z"
      },
      {
        "duration": 17121,
        "start_time": "2022-09-13T19:05:53.690Z"
      },
      {
        "duration": 15,
        "start_time": "2022-09-13T19:06:12.719Z"
      },
      {
        "duration": 261366,
        "start_time": "2022-09-13T19:06:15.515Z"
      },
      {
        "duration": 10,
        "start_time": "2022-09-13T19:11:12.959Z"
      },
      {
        "duration": 312627,
        "start_time": "2022-09-13T19:11:16.138Z"
      },
      {
        "duration": 11,
        "start_time": "2022-09-13T19:16:28.766Z"
      },
      {
        "duration": 63,
        "start_time": "2022-09-13T19:18:59.675Z"
      },
      {
        "duration": 57,
        "start_time": "2022-09-13T19:19:07.554Z"
      },
      {
        "duration": 49036,
        "start_time": "2022-09-13T19:19:24.882Z"
      },
      {
        "duration": 98,
        "start_time": "2022-09-13T19:20:13.921Z"
      },
      {
        "duration": 50,
        "start_time": "2022-09-13T19:20:51.581Z"
      },
      {
        "duration": 4,
        "start_time": "2022-09-13T19:20:58.942Z"
      },
      {
        "duration": 11,
        "start_time": "2022-09-13T19:21:03.408Z"
      },
      {
        "duration": 16,
        "start_time": "2022-09-13T19:21:04.863Z"
      },
      {
        "duration": 17,
        "start_time": "2022-09-13T19:21:21.712Z"
      },
      {
        "duration": 10,
        "start_time": "2022-09-13T19:21:28.122Z"
      },
      {
        "duration": 11,
        "start_time": "2022-09-13T19:21:29.740Z"
      },
      {
        "duration": 10,
        "start_time": "2022-09-13T19:22:33.908Z"
      },
      {
        "duration": 10,
        "start_time": "2022-09-13T19:22:35.039Z"
      },
      {
        "duration": 7,
        "start_time": "2022-09-13T19:23:05.071Z"
      },
      {
        "duration": 13,
        "start_time": "2022-09-13T19:23:06.141Z"
      },
      {
        "duration": 8,
        "start_time": "2022-09-13T19:23:26.765Z"
      },
      {
        "duration": 13,
        "start_time": "2022-09-13T19:23:28.153Z"
      },
      {
        "duration": 65,
        "start_time": "2022-09-13T19:23:48.013Z"
      },
      {
        "duration": 12,
        "start_time": "2022-09-13T19:24:08.314Z"
      },
      {
        "duration": 13,
        "start_time": "2022-09-13T19:24:09.023Z"
      },
      {
        "duration": 8,
        "start_time": "2022-09-13T19:24:14.776Z"
      },
      {
        "duration": 11,
        "start_time": "2022-09-13T19:24:15.282Z"
      },
      {
        "duration": 8,
        "start_time": "2022-09-13T19:24:20.840Z"
      },
      {
        "duration": 11,
        "start_time": "2022-09-13T19:24:21.641Z"
      },
      {
        "duration": 9,
        "start_time": "2022-09-13T19:25:14.642Z"
      },
      {
        "duration": 12,
        "start_time": "2022-09-13T19:25:15.538Z"
      },
      {
        "duration": 13,
        "start_time": "2022-09-13T19:25:28.796Z"
      },
      {
        "duration": 21,
        "start_time": "2022-09-13T19:25:29.404Z"
      },
      {
        "duration": 8,
        "start_time": "2022-09-13T19:25:40.842Z"
      },
      {
        "duration": 14,
        "start_time": "2022-09-13T19:25:41.161Z"
      },
      {
        "duration": 12899,
        "start_time": "2022-09-13T19:25:52.112Z"
      },
      {
        "duration": 100,
        "start_time": "2022-09-13T19:26:05.013Z"
      },
      {
        "duration": 14,
        "start_time": "2022-09-13T19:26:08.596Z"
      },
      {
        "duration": 50634,
        "start_time": "2022-09-13T19:26:25.788Z"
      },
      {
        "duration": 88,
        "start_time": "2022-09-13T19:27:16.431Z"
      },
      {
        "duration": 1156574,
        "start_time": "2022-09-13T19:28:53.700Z"
      },
      {
        "duration": 81,
        "start_time": "2022-09-13T19:48:10.276Z"
      },
      {
        "duration": 25,
        "start_time": "2022-09-13T19:48:10.359Z"
      },
      {
        "duration": 570193,
        "start_time": "2022-09-13T19:55:52.232Z"
      },
      {
        "duration": 2485,
        "start_time": "2022-09-13T20:05:22.430Z"
      },
      {
        "duration": 1118245,
        "start_time": "2022-09-13T20:43:06.592Z"
      },
      {
        "duration": 101,
        "start_time": "2022-09-13T21:01:44.839Z"
      },
      {
        "duration": 62,
        "start_time": "2022-09-13T21:01:44.941Z"
      },
      {
        "duration": 4,
        "start_time": "2022-09-13T21:01:45.005Z"
      },
      {
        "duration": 3,
        "start_time": "2022-09-13T21:02:03.253Z"
      },
      {
        "duration": 52,
        "start_time": "2022-09-13T21:02:04.807Z"
      },
      {
        "duration": 7,
        "start_time": "2022-09-13T21:02:08.576Z"
      },
      {
        "duration": 3,
        "start_time": "2022-09-13T21:02:09.367Z"
      },
      {
        "duration": 3,
        "start_time": "2022-09-13T21:02:11.263Z"
      },
      {
        "duration": 3,
        "start_time": "2022-09-13T21:02:13.475Z"
      },
      {
        "duration": 3,
        "start_time": "2022-09-13T21:02:13.950Z"
      },
      {
        "duration": 5,
        "start_time": "2022-09-13T21:02:16.107Z"
      },
      {
        "duration": 4,
        "start_time": "2022-09-13T21:02:16.582Z"
      },
      {
        "duration": 3,
        "start_time": "2022-09-13T21:02:18.908Z"
      },
      {
        "duration": 3,
        "start_time": "2022-09-13T21:02:20.995Z"
      },
      {
        "duration": 58439,
        "start_time": "2022-09-13T21:02:21.774Z"
      },
      {
        "duration": 7,
        "start_time": "2022-09-13T21:03:20.215Z"
      },
      {
        "duration": 57243,
        "start_time": "2022-09-13T21:03:54.376Z"
      },
      {
        "duration": 5,
        "start_time": "2022-09-13T21:04:51.620Z"
      },
      {
        "duration": 1233,
        "start_time": "2022-09-13T21:04:51.627Z"
      },
      {
        "duration": 4,
        "start_time": "2022-09-13T21:04:52.862Z"
      },
      {
        "duration": 224,
        "start_time": "2022-09-13T21:04:52.868Z"
      },
      {
        "duration": 13,
        "start_time": "2022-09-13T21:04:53.094Z"
      },
      {
        "duration": 5,
        "start_time": "2022-09-13T21:05:04.176Z"
      },
      {
        "duration": 11,
        "start_time": "2022-09-13T21:05:29.846Z"
      },
      {
        "duration": 11,
        "start_time": "2022-09-13T21:05:42.564Z"
      },
      {
        "duration": 3,
        "start_time": "2022-09-13T21:06:17.393Z"
      },
      {
        "duration": 171,
        "start_time": "2022-09-13T21:06:21.734Z"
      },
      {
        "duration": 4211,
        "start_time": "2022-09-13T21:06:42.020Z"
      },
      {
        "duration": 17982,
        "start_time": "2022-09-13T21:06:46.233Z"
      },
      {
        "duration": 6,
        "start_time": "2022-09-13T21:07:04.217Z"
      },
      {
        "duration": 560,
        "start_time": "2022-09-13T21:07:04.228Z"
      },
      {
        "duration": 13,
        "start_time": "2022-09-13T21:07:04.790Z"
      },
      {
        "duration": 1375,
        "start_time": "2022-09-13T21:07:04.804Z"
      },
      {
        "duration": 19444,
        "start_time": "2022-09-13T21:07:10.337Z"
      },
      {
        "duration": 18,
        "start_time": "2022-09-13T21:07:29.783Z"
      },
      {
        "duration": 440,
        "start_time": "2022-09-13T21:07:29.803Z"
      },
      {
        "duration": 5,
        "start_time": "2022-09-13T21:07:30.245Z"
      },
      {
        "duration": 1407,
        "start_time": "2022-09-13T21:07:30.252Z"
      },
      {
        "duration": 41678,
        "start_time": "2022-09-13T21:07:47.137Z"
      },
      {
        "duration": 99,
        "start_time": "2022-09-13T21:08:28.903Z"
      },
      {
        "duration": 1998,
        "start_time": "2022-09-14T10:35:14.037Z"
      },
      {
        "duration": 2358,
        "start_time": "2022-09-14T10:35:19.074Z"
      },
      {
        "duration": 27,
        "start_time": "2022-09-14T10:35:22.164Z"
      },
      {
        "duration": 9,
        "start_time": "2022-09-14T10:35:24.384Z"
      },
      {
        "duration": 28,
        "start_time": "2022-09-14T10:35:26.605Z"
      },
      {
        "duration": 6,
        "start_time": "2022-09-14T10:35:27.122Z"
      },
      {
        "duration": 9,
        "start_time": "2022-09-14T10:35:28.962Z"
      },
      {
        "duration": 13,
        "start_time": "2022-09-14T10:35:31.022Z"
      },
      {
        "duration": 49,
        "start_time": "2022-09-14T10:35:34.156Z"
      },
      {
        "duration": 4,
        "start_time": "2022-09-14T10:35:36.887Z"
      },
      {
        "duration": 50,
        "start_time": "2022-09-14T10:35:37.471Z"
      },
      {
        "duration": 8,
        "start_time": "2022-09-14T10:35:39.522Z"
      },
      {
        "duration": 3,
        "start_time": "2022-09-14T10:35:40.405Z"
      },
      {
        "duration": 3,
        "start_time": "2022-09-14T10:35:41.082Z"
      },
      {
        "duration": 2,
        "start_time": "2022-09-14T10:35:41.685Z"
      },
      {
        "duration": 4,
        "start_time": "2022-09-14T10:35:42.222Z"
      },
      {
        "duration": 2,
        "start_time": "2022-09-14T10:35:43.958Z"
      },
      {
        "duration": 4,
        "start_time": "2022-09-14T10:35:44.344Z"
      },
      {
        "duration": 214,
        "start_time": "2022-09-14T10:35:47.122Z"
      },
      {
        "duration": 3,
        "start_time": "2022-09-14T10:36:00.047Z"
      },
      {
        "duration": 2120,
        "start_time": "2022-09-14T10:36:03.963Z"
      },
      {
        "duration": 5,
        "start_time": "2022-09-14T10:36:11.665Z"
      },
      {
        "duration": 1228,
        "start_time": "2022-09-14T10:36:25.400Z"
      },
      {
        "duration": 4,
        "start_time": "2022-09-14T10:36:26.654Z"
      },
      {
        "duration": 4,
        "start_time": "2022-09-14T10:37:34.737Z"
      },
      {
        "duration": 4233,
        "start_time": "2022-09-14T10:37:35.989Z"
      },
      {
        "duration": 307,
        "start_time": "2022-09-14T10:37:43.489Z"
      },
      {
        "duration": 4,
        "start_time": "2022-09-14T10:37:46.803Z"
      },
      {
        "duration": 400,
        "start_time": "2022-09-14T10:37:49.022Z"
      },
      {
        "duration": 5,
        "start_time": "2022-09-14T10:37:51.975Z"
      },
      {
        "duration": 1229,
        "start_time": "2022-09-14T10:37:56.896Z"
      },
      {
        "duration": 5,
        "start_time": "2022-09-14T10:39:33.422Z"
      },
      {
        "duration": 4,
        "start_time": "2022-09-14T10:44:16.122Z"
      },
      {
        "duration": 331,
        "start_time": "2022-09-14T10:44:36.523Z"
      },
      {
        "duration": 5,
        "start_time": "2022-09-14T10:44:37.758Z"
      },
      {
        "duration": 415,
        "start_time": "2022-09-14T10:45:01.922Z"
      },
      {
        "duration": 5,
        "start_time": "2022-09-14T10:45:04.753Z"
      },
      {
        "duration": 1258,
        "start_time": "2022-09-14T10:45:09.479Z"
      },
      {
        "duration": 10,
        "start_time": "2022-09-14T10:45:21.422Z"
      },
      {
        "duration": 15,
        "start_time": "2022-09-14T10:45:21.934Z"
      },
      {
        "duration": 262,
        "start_time": "2022-09-14T10:48:53.896Z"
      },
      {
        "duration": 388393,
        "start_time": "2022-09-14T10:49:00.921Z"
      },
      {
        "duration": 6,
        "start_time": "2022-09-14T10:55:29.316Z"
      },
      {
        "duration": 112,
        "start_time": "2022-09-14T10:56:23.324Z"
      },
      {
        "duration": 399581,
        "start_time": "2022-09-14T10:56:46.859Z"
      },
      {
        "duration": 333,
        "start_time": "2022-09-14T11:03:26.442Z"
      },
      {
        "duration": 346,
        "start_time": "2022-09-14T11:12:31.551Z"
      },
      {
        "duration": 532320,
        "start_time": "2022-09-14T11:12:31.899Z"
      },
      {
        "duration": 353,
        "start_time": "2022-09-14T11:21:24.220Z"
      },
      {
        "duration": 3,
        "start_time": "2022-09-14T11:22:08.719Z"
      },
      {
        "duration": 3,
        "start_time": "2022-09-14T11:23:46.711Z"
      },
      {
        "duration": 45601,
        "start_time": "2022-09-14T11:23:49.319Z"
      },
      {
        "duration": 94,
        "start_time": "2022-09-14T11:24:34.923Z"
      },
      {
        "duration": 12,
        "start_time": "2022-09-14T11:26:34.680Z"
      },
      {
        "duration": 430732,
        "start_time": "2022-09-14T11:28:24.401Z"
      },
      {
        "duration": 3,
        "start_time": "2022-09-14T11:35:35.135Z"
      },
      {
        "duration": 2552,
        "start_time": "2022-09-14T11:45:23.842Z"
      },
      {
        "duration": 783,
        "start_time": "2022-09-14T11:49:41.719Z"
      },
      {
        "duration": 22,
        "start_time": "2022-09-14T11:49:42.504Z"
      },
      {
        "duration": 13,
        "start_time": "2022-09-14T11:49:42.528Z"
      },
      {
        "duration": 24,
        "start_time": "2022-09-14T11:49:42.633Z"
      },
      {
        "duration": 6,
        "start_time": "2022-09-14T11:49:42.850Z"
      },
      {
        "duration": 7,
        "start_time": "2022-09-14T11:49:43.559Z"
      },
      {
        "duration": 13,
        "start_time": "2022-09-14T11:49:44.039Z"
      },
      {
        "duration": 50,
        "start_time": "2022-09-14T11:49:45.898Z"
      },
      {
        "duration": 3,
        "start_time": "2022-09-14T11:49:46.350Z"
      },
      {
        "duration": 43,
        "start_time": "2022-09-14T11:49:46.898Z"
      },
      {
        "duration": 7,
        "start_time": "2022-09-14T11:49:48.576Z"
      },
      {
        "duration": 7,
        "start_time": "2022-09-14T11:49:50.308Z"
      },
      {
        "duration": 3,
        "start_time": "2022-09-14T11:49:50.483Z"
      },
      {
        "duration": 4,
        "start_time": "2022-09-14T11:49:51.215Z"
      },
      {
        "duration": 2,
        "start_time": "2022-09-14T11:49:53.096Z"
      },
      {
        "duration": 3,
        "start_time": "2022-09-14T11:49:53.308Z"
      },
      {
        "duration": 3,
        "start_time": "2022-09-14T11:49:53.540Z"
      },
      {
        "duration": 4,
        "start_time": "2022-09-14T11:49:54.024Z"
      },
      {
        "duration": 264,
        "start_time": "2022-09-14T11:49:59.627Z"
      },
      {
        "duration": 447,
        "start_time": "2022-09-14T11:50:34.045Z"
      },
      {
        "duration": 3,
        "start_time": "2022-09-14T11:50:39.180Z"
      },
      {
        "duration": 708,
        "start_time": "2022-09-14T11:50:42.562Z"
      },
      {
        "duration": 398,
        "start_time": "2022-09-14T11:51:49.758Z"
      },
      {
        "duration": 44,
        "start_time": "2022-09-14T11:52:24.314Z"
      },
      {
        "duration": 3,
        "start_time": "2022-09-14T11:52:26.324Z"
      },
      {
        "duration": 39,
        "start_time": "2022-09-14T11:52:26.907Z"
      },
      {
        "duration": 6,
        "start_time": "2022-09-14T11:52:28.881Z"
      },
      {
        "duration": 3,
        "start_time": "2022-09-14T11:52:31.215Z"
      },
      {
        "duration": 3,
        "start_time": "2022-09-14T11:52:31.389Z"
      },
      {
        "duration": 3,
        "start_time": "2022-09-14T11:52:31.568Z"
      },
      {
        "duration": 3,
        "start_time": "2022-09-14T11:52:31.773Z"
      },
      {
        "duration": 4,
        "start_time": "2022-09-14T11:52:32.005Z"
      },
      {
        "duration": 3,
        "start_time": "2022-09-14T11:52:34.061Z"
      },
      {
        "duration": 423,
        "start_time": "2022-09-14T11:52:43.758Z"
      },
      {
        "duration": 3,
        "start_time": "2022-09-14T11:52:46.041Z"
      },
      {
        "duration": 565505,
        "start_time": "2022-09-14T11:52:48.510Z"
      },
      {
        "duration": 4,
        "start_time": "2022-09-14T12:02:20.713Z"
      },
      {
        "duration": 1196,
        "start_time": "2022-09-14T12:02:25.089Z"
      },
      {
        "duration": 4,
        "start_time": "2022-09-14T12:02:30.500Z"
      },
      {
        "duration": 160,
        "start_time": "2022-09-14T12:02:33.390Z"
      },
      {
        "duration": 3698,
        "start_time": "2022-09-14T12:02:39.074Z"
      },
      {
        "duration": 184285,
        "start_time": "2022-09-14T12:02:48.763Z"
      },
      {
        "duration": 5,
        "start_time": "2022-09-14T12:06:20.047Z"
      },
      {
        "duration": 397,
        "start_time": "2022-09-14T12:06:22.988Z"
      },
      {
        "duration": 5,
        "start_time": "2022-09-14T12:06:26.162Z"
      },
      {
        "duration": 1108,
        "start_time": "2022-09-14T12:06:27.298Z"
      },
      {
        "duration": 5,
        "start_time": "2022-09-14T12:06:32.168Z"
      },
      {
        "duration": 182024,
        "start_time": "2022-09-14T12:06:36.713Z"
      },
      {
        "duration": 5,
        "start_time": "2022-09-14T12:09:46.088Z"
      },
      {
        "duration": 434,
        "start_time": "2022-09-14T12:09:48.990Z"
      },
      {
        "duration": 5,
        "start_time": "2022-09-14T12:09:51.087Z"
      },
      {
        "duration": 1248,
        "start_time": "2022-09-14T12:09:51.529Z"
      },
      {
        "duration": 9,
        "start_time": "2022-09-14T12:09:58.159Z"
      },
      {
        "duration": 15,
        "start_time": "2022-09-14T12:10:00.245Z"
      },
      {
        "duration": 323902,
        "start_time": "2022-09-14T12:10:05.415Z"
      },
      {
        "duration": 89,
        "start_time": "2022-09-14T12:15:29.321Z"
      },
      {
        "duration": 3,
        "start_time": "2022-09-14T12:15:48.275Z"
      },
      {
        "duration": 12609,
        "start_time": "2022-09-14T12:16:02.803Z"
      },
      {
        "duration": 16,
        "start_time": "2022-09-14T12:16:18.096Z"
      },
      {
        "duration": 3,
        "start_time": "2022-09-14T12:16:43.321Z"
      },
      {
        "duration": 34107,
        "start_time": "2022-09-14T12:16:46.812Z"
      },
      {
        "duration": 13,
        "start_time": "2022-09-14T12:17:25.110Z"
      }
    ],
    "kernelspec": {
      "name": "python",
      "display_name": "Python (Pyodide)",
      "language": "python"
    },
    "language_info": {
      "codemirror_mode": {
        "name": "python",
        "version": 3
      },
      "file_extension": ".py",
      "mimetype": "text/x-python",
      "name": "python",
      "nbconvert_exporter": "python",
      "pygments_lexer": "ipython3",
      "version": "3.8"
    },
    "toc": {
      "base_numbering": 1,
      "nav_menu": {},
      "number_sections": true,
      "sideBar": true,
      "skip_h1_title": true,
      "title_cell": "Содержание",
      "title_sidebar": "Contents",
      "toc_cell": true,
      "toc_position": {
        "height": "calc(100% - 180px)",
        "left": "10px",
        "top": "150px",
        "width": "165px"
      },
      "toc_section_display": true,
      "toc_window_display": true
    }
  },
  "nbformat_minor": 4,
  "nbformat": 4,
  "cells": [
    {
      "cell_type": "markdown",
      "source": "<h1>Содержание<span class=\"tocSkip\"></span></h1>\n<div class=\"toc\"><ul class=\"toc-item\"><li><span><a href=\"#Подготовка\" data-toc-modified-id=\"Подготовка-1\"><span class=\"toc-item-num\">1&nbsp;&nbsp;</span>Подготовка</a></span><ul class=\"toc-item\"><li><span><a href=\"#Ознакомление\" data-toc-modified-id=\"Ознакомление-1.1\"><span class=\"toc-item-num\">1.1&nbsp;&nbsp;</span>Ознакомление</a></span></li><li><span><a href=\"#Разделение-на-обучающую,-валидацинную-и-тестовые-выборки\" data-toc-modified-id=\"Разделение-на-обучающую,-валидацинную-и-тестовые-выборки-1.2\"><span class=\"toc-item-num\">1.2&nbsp;&nbsp;</span>Разделение на обучающую, валидацинную и тестовые выборки</a></span></li><li><span><a href=\"#Подготовка-обучающих-и-валидационных-признаков\" data-toc-modified-id=\"Подготовка-обучающих-и-валидационных-признаков-1.3\"><span class=\"toc-item-num\">1.3&nbsp;&nbsp;</span>Подготовка обучающих и валидационных признаков</a></span></li><li><span><a href=\"#Подготовка-тестовых-признаков\" data-toc-modified-id=\"Подготовка-тестовых-признаков-1.4\"><span class=\"toc-item-num\">1.4&nbsp;&nbsp;</span>Подготовка тестовых признаков</a></span></li><li><span><a href=\"#Вывод\" data-toc-modified-id=\"Вывод-1.5\"><span class=\"toc-item-num\">1.5&nbsp;&nbsp;</span>Вывод</a></span></li></ul></li><li><span><a href=\"#Обучение\" data-toc-modified-id=\"Обучение-2\"><span class=\"toc-item-num\">2&nbsp;&nbsp;</span>Обучение</a></span><ul class=\"toc-item\"><li><span><a href=\"#Dummy-Classifier\" data-toc-modified-id=\"Dummy-Classifier-2.1\"><span class=\"toc-item-num\">2.1&nbsp;&nbsp;</span>Dummy Classifier</a></span></li><li><span><a href=\"#Logistic-Regression\" data-toc-modified-id=\"Logistic-Regression-2.2\"><span class=\"toc-item-num\">2.2&nbsp;&nbsp;</span>Logistic Regression</a></span></li><li><span><a href=\"#Ridge-Classifier\" data-toc-modified-id=\"Ridge-Classifier-2.3\"><span class=\"toc-item-num\">2.3&nbsp;&nbsp;</span>Ridge Classifier</a></span></li><li><span><a href=\"#Decision-Tree-Classifier\" data-toc-modified-id=\"Decision-Tree-Classifier-2.4\"><span class=\"toc-item-num\">2.4&nbsp;&nbsp;</span>Decision Tree Classifier</a></span></li><li><span><a href=\"#Random-Forest-Classifier\" data-toc-modified-id=\"Random-Forest-Classifier-2.5\"><span class=\"toc-item-num\">2.5&nbsp;&nbsp;</span>Random Forest Classifier</a></span></li><li><span><a href=\"#CatBoost-Classifier\" data-toc-modified-id=\"CatBoost-Classifier-2.6\"><span class=\"toc-item-num\">2.6&nbsp;&nbsp;</span>CatBoost Classifier</a></span></li><li><span><a href=\"#LightGBM-Classifier\" data-toc-modified-id=\"LightGBM-Classifier-2.7\"><span class=\"toc-item-num\">2.7&nbsp;&nbsp;</span>LightGBM Classifier</a></span></li><li><span><a href=\"#Итоговая-таблица\" data-toc-modified-id=\"Итоговая-таблица-2.8\"><span class=\"toc-item-num\">2.8&nbsp;&nbsp;</span>Итоговая таблица</a></span></li><li><span><a href=\"#Тестирование\" data-toc-modified-id=\"Тестирование-2.9\"><span class=\"toc-item-num\">2.9&nbsp;&nbsp;</span>Тестирование</a></span></li></ul></li><li><span><a href=\"#Выводы\" data-toc-modified-id=\"Выводы-3\"><span class=\"toc-item-num\">3&nbsp;&nbsp;</span>Выводы</a></span></li><li><span><a href=\"#Чек-лист-проверки\" data-toc-modified-id=\"Чек-лист-проверки-4\"><span class=\"toc-item-num\">4&nbsp;&nbsp;</span>Чек-лист проверки</a></span></li></ul></div>",
      "metadata": {
        "toc": true
      }
    },
    {
      "cell_type": "markdown",
      "source": "# Проект для «Викишоп»",
      "metadata": {}
    },
    {
      "cell_type": "markdown",
      "source": "Интернет-магазин «Викишоп» запускает новый сервис. Теперь пользователи могут редактировать и дополнять описания товаров, как в вики-сообществах. То есть клиенты предлагают свои правки и комментируют изменения других. Магазину нужен инструмент, который будет искать токсичные комментарии и отправлять их на модерацию. \n\nОбучите модель классифицировать комментарии на позитивные и негативные. В вашем распоряжении набор данных с разметкой о токсичности правок.\n\nПостройте модель со значением метрики качества *F1* не меньше 0.75. \n\n**Инструкция по выполнению проекта**\n\n1. Загрузите и подготовьте данные.\n2. Обучите разные модели. \n3. Сделайте выводы.\n\nДля выполнения проекта применять *BERT* необязательно, но вы можете попробовать.\n\n**Описание данных**\n\nДанные находятся в файле `toxic_comments.csv`. Столбец *text* в нём содержит текст комментария, а *toxic* — целевой признак.",
      "metadata": {}
    },
    {
      "cell_type": "markdown",
      "source": "## Подготовка",
      "metadata": {}
    },
    {
      "cell_type": "markdown",
      "source": "### Ознакомление",
      "metadata": {}
    },
    {
      "cell_type": "code",
      "source": "# импортируем необходимые библиотеки\nimport pandas as pd\nimport numpy as np\nimport matplotlib.pyplot as plt\nfrom sklearn.model_selection import train_test_split\nfrom sklearn.metrics import f1_score\nfrom sklearn.linear_model import LogisticRegression\nfrom sklearn.model_selection import GridSearchCV\nimport seaborn as sns\nfrom sklearn.feature_extraction.text import CountVectorizer \nfrom nltk.corpus import stopwords \nimport nltk\nfrom sklearn.feature_extraction.text import TfidfVectorizer\nfrom nltk.tokenize import word_tokenize\nfrom sklearn.utils import shuffle\nimport re\nfrom pymystem3 import Mystem\nfrom sklearn.model_selection import cross_val_score\nfrom sklearn.linear_model import RidgeClassifier\nfrom catboost import CatBoostClassifier\nfrom sklearn.ensemble import RandomForestClassifier\nfrom sklearn.tree import DecisionTreeClassifier\nfrom sklearn.dummy import DummyClassifier\nfrom lightgbm import LGBMClassifier\nimport spacy",
      "metadata": {},
      "execution_count": 58,
      "outputs": []
    },
    {
      "cell_type": "code",
      "source": "# читаем датасет\ndf = pd.read_csv('/datasets/toxic_comments.csv')",
      "metadata": {},
      "execution_count": 59,
      "outputs": []
    },
    {
      "cell_type": "code",
      "source": "# смотрим общую информацию о датасете\ndf.info()",
      "metadata": {},
      "execution_count": 60,
      "outputs": [
        {
          "name": "stdout",
          "output_type": "stream",
          "text": "<class 'pandas.core.frame.DataFrame'>\n\nRangeIndex: 159292 entries, 0 to 159291\n\nData columns (total 3 columns):\n\n #   Column      Non-Null Count   Dtype \n\n---  ------      --------------   ----- \n\n 0   Unnamed: 0  159292 non-null  int64 \n\n 1   text        159292 non-null  object\n\n 2   toxic       159292 non-null  int64 \n\ndtypes: int64(2), object(1)\n\nmemory usage: 3.6+ MB\n"
        }
      ]
    },
    {
      "cell_type": "code",
      "source": "# выводим первые пять строк датасета для ознакомления\ndf.head()",
      "metadata": {},
      "execution_count": 61,
      "outputs": [
        {
          "execution_count": 61,
          "output_type": "execute_result",
          "data": {
            "text/html": [
              "<div>\n",
              "<style scoped>\n",
              "    .dataframe tbody tr th:only-of-type {\n",
              "        vertical-align: middle;\n",
              "    }\n",
              "\n",
              "    .dataframe tbody tr th {\n",
              "        vertical-align: top;\n",
              "    }\n",
              "\n",
              "    .dataframe thead th {\n",
              "        text-align: right;\n",
              "    }\n",
              "</style>\n",
              "<table border=\"1\" class=\"dataframe\">\n",
              "  <thead>\n",
              "    <tr style=\"text-align: right;\">\n",
              "      <th></th>\n",
              "      <th>Unnamed: 0</th>\n",
              "      <th>text</th>\n",
              "      <th>toxic</th>\n",
              "    </tr>\n",
              "  </thead>\n",
              "  <tbody>\n",
              "    <tr>\n",
              "      <th>0</th>\n",
              "      <td>0</td>\n",
              "      <td>Explanation\\nWhy the edits made under my usern...</td>\n",
              "      <td>0</td>\n",
              "    </tr>\n",
              "    <tr>\n",
              "      <th>1</th>\n",
              "      <td>1</td>\n",
              "      <td>D'aww! He matches this background colour I'm s...</td>\n",
              "      <td>0</td>\n",
              "    </tr>\n",
              "    <tr>\n",
              "      <th>2</th>\n",
              "      <td>2</td>\n",
              "      <td>Hey man, I'm really not trying to edit war. It...</td>\n",
              "      <td>0</td>\n",
              "    </tr>\n",
              "    <tr>\n",
              "      <th>3</th>\n",
              "      <td>3</td>\n",
              "      <td>\"\\nMore\\nI can't make any real suggestions on ...</td>\n",
              "      <td>0</td>\n",
              "    </tr>\n",
              "    <tr>\n",
              "      <th>4</th>\n",
              "      <td>4</td>\n",
              "      <td>You, sir, are my hero. Any chance you remember...</td>\n",
              "      <td>0</td>\n",
              "    </tr>\n",
              "  </tbody>\n",
              "</table>\n",
              "</div>"
            ],
            "text/plain": [
              "   Unnamed: 0                                               text  toxic\n",
              "0           0  Explanation\\nWhy the edits made under my usern...      0\n",
              "1           1  D'aww! He matches this background colour I'm s...      0\n",
              "2           2  Hey man, I'm really not trying to edit war. It...      0\n",
              "3           3  \"\\nMore\\nI can't make any real suggestions on ...      0\n",
              "4           4  You, sir, are my hero. Any chance you remember...      0"
            ]
          },
          "metadata": {}
        }
      ]
    },
    {
      "cell_type": "code",
      "source": "# смотрим, есть ли пропуски\ndf.isna().sum()",
      "metadata": {},
      "execution_count": 62,
      "outputs": [
        {
          "execution_count": 62,
          "output_type": "execute_result",
          "data": {
            "text/plain": [
              "Unnamed: 0    0\n",
              "text          0\n",
              "toxic         0\n",
              "dtype: int64"
            ]
          },
          "metadata": {}
        }
      ]
    },
    {
      "cell_type": "code",
      "source": "# смотрим на баланс классов\ndf['toxic'].value_counts()",
      "metadata": {},
      "execution_count": 63,
      "outputs": [
        {
          "execution_count": 63,
          "output_type": "execute_result",
          "data": {
            "text/plain": [
              "0    143106\n",
              "1     16186\n",
              "Name: toxic, dtype: int64"
            ]
          },
          "metadata": {}
        }
      ]
    },
    {
      "cell_type": "code",
      "source": "# выводим пять строк токсичных комментариев\nfor i in df[df['toxic'] == 1]['text'].head(5):\n    print(i)",
      "metadata": {},
      "execution_count": 64,
      "outputs": [
        {
          "name": "stdout",
          "output_type": "stream",
          "text": "COCKSUCKER BEFORE YOU PISS AROUND ON MY WORK\n\nHey... what is it..\n\n@ | talk .\n\nWhat is it... an exclusive group of some WP TALIBANS...who are good at destroying, self-appointed purist who GANG UP any one who asks them questions abt their ANTI-SOCIAL and DESTRUCTIVE (non)-contribution at WP?\n\n\n\nAsk Sityush to clean up his behavior than issue me nonsensical warnings...\n\nBye! \n\n\n\nDon't look, come or think of comming back! Tosser.\n\nYou are gay or antisemmitian? \n\n\n\nArchangel WHite Tiger\n\n\n\nMeow! Greetingshhh!\n\n\n\nUh, there are two ways, why you do erased my comment about WW2, that holocaust was brutally slaying of Jews and not gays/Gypsys/Slavs/anyone...\n\n\n\n1 - If you are anti-semitian, than shave your head bald and go to the skinhead meetings!\n\n\n\n2 - If you doubt words of the Bible, that homosexuality is a deadly sin, make a pentagram tatoo on your forehead go to the satanistic masses with your gay pals!\n\n\n\n3 - First and last warning, you fucking gay - I won't appreciate if any more nazi shwain would write in my page! I don't wish to talk to you anymore!\n\n\n\nBeware of the Dark Side!\n\nFUCK YOUR FILTHY MOTHER IN THE ASS, DRY!\n"
        }
      ]
    },
    {
      "cell_type": "code",
      "source": "# выводим пять строк обычных комментариев\nfor i in df[df['toxic'] == 0]['text'].head(5):\n    print(i)",
      "metadata": {},
      "execution_count": 65,
      "outputs": [
        {
          "name": "stdout",
          "output_type": "stream",
          "text": "Explanation\n\nWhy the edits made under my username Hardcore Metallica Fan were reverted? They weren't vandalisms, just closure on some GAs after I voted at New York Dolls FAC. And please don't remove the template from the talk page since I'm retired now.89.205.38.27\n\nD'aww! He matches this background colour I'm seemingly stuck with. Thanks.  (talk) 21:51, January 11, 2016 (UTC)\n\nHey man, I'm really not trying to edit war. It's just that this guy is constantly removing relevant information and talking to me through edits instead of my talk page. He seems to care more about the formatting than the actual info.\n\n\"\n\nMore\n\nI can't make any real suggestions on improvement - I wondered if the section statistics should be later on, or a subsection of \"\"types of accidents\"\"  -I think the references may need tidying so that they are all in the exact same format ie date format etc. I can do that later on, if no-one else does first - if you have any preferences for formatting style on references or want to do it yourself please let me know.\n\n\n\nThere appears to be a backlog on articles for review so I guess there may be a delay until a reviewer turns up. It's listed in the relevant form eg Wikipedia:Good_article_nominations#Transport  \"\n\nYou, sir, are my hero. Any chance you remember what page that's on?\n"
        }
      ]
    },
    {
      "cell_type": "markdown",
      "source": "### Разделение на обучающую, валидацинную и тестовые выборки",
      "metadata": {}
    },
    {
      "cell_type": "code",
      "source": "# разделяем датасет на обучающую и тестовую выборки\ndf_train, df_test = train_test_split(df, \n                                     test_size = 0.2, random_state=123, stratify=df['toxic'])",
      "metadata": {},
      "execution_count": 82,
      "outputs": []
    },
    {
      "cell_type": "code",
      "source": "print(df_train.shape, df_test.shape)",
      "metadata": {},
      "execution_count": 83,
      "outputs": [
        {
          "name": "stdout",
          "output_type": "stream",
          "text": "(127433, 3) (31859, 3)\n"
        }
      ]
    },
    {
      "cell_type": "code",
      "source": "# разделяем датасет на обучающую и валидационную выборки\ndf_train, df_valid = train_test_split(df_train, \n                                     test_size = 0.25, random_state=123, stratify=df_train['toxic'])",
      "metadata": {},
      "execution_count": 84,
      "outputs": []
    },
    {
      "cell_type": "code",
      "source": "# смотрим на размеры получившихся выборок\nprint(df_train.shape, df_test.shape, df_valid)",
      "metadata": {},
      "execution_count": 85,
      "outputs": [
        {
          "name": "stdout",
          "output_type": "stream",
          "text": "(95574, 3) (31859, 3)         Unnamed: 0                                               text  toxic\n\n60296        60362  \"\\n\\nWP:MUSIC\\nHi Jrod2. As I touched on in th...      0\n\n69369        69437  This convention should be applied to any langu...      0\n\n122817      122923  I mean that in a general way. I don't know if ...      0\n\n137152      137290  When will somebody do their bloody research an...      0\n\n63100        63167  \"Thank you for experimenting with the page Gwe...      0\n\n...            ...                                                ...    ...\n\n16529        16546  \"\\nJohn, just for the record, fortunately I ha...      0\n\n19788        19808                              You are very welcome.      0\n\n105163      105260  \"\\n\\n The edit to your talk page\\n\\nThe post y...      0\n\n10019        10032  By the way, can I remove the accusation notice...      0\n\n75781        75857  Unblock \\n{unblock|It wasn't my fault, I didn'...      0\n\n\n\n[31859 rows x 3 columns]\n"
        }
      ]
    },
    {
      "cell_type": "code",
      "source": "# выделяем обучающие признаки\nfeatures_train = df_train['text']\ntarget_train = df_train['toxic']",
      "metadata": {},
      "execution_count": 86,
      "outputs": []
    },
    {
      "cell_type": "code",
      "source": "# смотрим размер\ntarget_train.shape",
      "metadata": {},
      "execution_count": 87,
      "outputs": [
        {
          "execution_count": 87,
          "output_type": "execute_result",
          "data": {
            "text/plain": [
              "(95574,)"
            ]
          },
          "metadata": {}
        }
      ]
    },
    {
      "cell_type": "code",
      "source": "# выделяем валидационные признаки\nfeatures_valid = df_valid['text']\ntarget_valid = df_valid['toxic']",
      "metadata": {},
      "execution_count": 88,
      "outputs": []
    },
    {
      "cell_type": "code",
      "source": "# смотрим размер \ntarget_valid.shape",
      "metadata": {},
      "execution_count": 89,
      "outputs": [
        {
          "execution_count": 89,
          "output_type": "execute_result",
          "data": {
            "text/plain": [
              "(31859,)"
            ]
          },
          "metadata": {}
        }
      ]
    },
    {
      "cell_type": "code",
      "source": "# выделяем тестовые признаки\nfeatures_test = df_test['text']\ntarget_test = df_test['toxic']",
      "metadata": {},
      "execution_count": 90,
      "outputs": []
    },
    {
      "cell_type": "code",
      "source": "# смотрим размер\ntarget_test.shape",
      "metadata": {},
      "execution_count": 91,
      "outputs": [
        {
          "execution_count": 91,
          "output_type": "execute_result",
          "data": {
            "text/plain": [
              "(31859,)"
            ]
          },
          "metadata": {}
        }
      ]
    },
    {
      "cell_type": "markdown",
      "source": "### Подготовка обучающих и валидационных признаков",
      "metadata": {}
    },
    {
      "cell_type": "code",
      "source": "# создаём функцию для лемматизации текста\n\nnlp = spacy.load(\"en_core_web_sm\", disable=['parser', 'ner'])\ndef lemmatize(text):\n    text_lem = nlp(text)\n    text_lem = \" \".join([token.lemma_ for token in text_lem])\n    return text_lem",
      "metadata": {},
      "execution_count": 92,
      "outputs": []
    },
    {
      "cell_type": "code",
      "source": "# создаём функцию для очиски текста от знаков пунткуации и лишних пробелов\n\ndef clear_text(text):\n    clear_text =  re.sub(r'[^a-zA-Z ]', ' ', text) \n    clear_text = clear_text.split()\n    clear_text = \" \".join(clear_text)\n    return clear_text",
      "metadata": {},
      "execution_count": 93,
      "outputs": []
    },
    {
      "cell_type": "code",
      "source": "%%time\n\n# применяем функцию лемматизации к обучающим признакам\nfeatures_train = features_train.apply(lemmatize)",
      "metadata": {},
      "execution_count": 94,
      "outputs": [
        {
          "name": "stdout",
          "output_type": "stream",
          "text": "CPU times: user 9min 25s, sys: 0 ns, total: 9min 25s\n\nWall time: 9min 25s\n"
        }
      ]
    },
    {
      "cell_type": "code",
      "source": "# смотрим как изменился текст\n\nfeatures_train.head()",
      "metadata": {},
      "execution_count": 95,
      "outputs": [
        {
          "execution_count": 95,
          "output_type": "execute_result",
          "data": {
            "text/plain": [
              "23111     \"   I notice that a note append to this piece ...\n",
              "113078                 it be alright , do not even notice .\n",
              "84629     \" Neptune , while you be wait this block out (...\n",
              "24213     die \\n\\n as that person say : ROT in HELL you ...\n",
              "157693    this be absolute rubbish , I have be discuss t...\n",
              "Name: text, dtype: object"
            ]
          },
          "metadata": {}
        }
      ]
    },
    {
      "cell_type": "code",
      "source": "%%time\n\n\n# применяем функцию очистки текста к обучающим признакам\nfeatures_train = features_train.apply(clear_text)",
      "metadata": {
        "scrolled": true
      },
      "execution_count": 96,
      "outputs": [
        {
          "name": "stdout",
          "output_type": "stream",
          "text": "CPU times: user 1.19 s, sys: 0 ns, total: 1.19 s\n\nWall time: 1.19 s\n"
        }
      ]
    },
    {
      "cell_type": "code",
      "source": "# смотрим как изменился текст\nfeatures_train.head()",
      "metadata": {
        "scrolled": true
      },
      "execution_count": 97,
      "outputs": [
        {
          "execution_count": 97,
          "output_type": "execute_result",
          "data": {
            "text/plain": [
              "23111     I notice that a note append to this piece by h...\n",
              "113078                     it be alright do not even notice\n",
              "84629     Neptune while you be wait this block out and h...\n",
              "24213     die as that person say ROT in HELL you FUCKING...\n",
              "157693    this be absolute rubbish I have be discuss the...\n",
              "Name: text, dtype: object"
            ]
          },
          "metadata": {}
        }
      ]
    },
    {
      "cell_type": "code",
      "source": "# загружаем английские стоп-слова\nnltk.download('stopwords')\nstopwords = stopwords.words('english')",
      "metadata": {},
      "execution_count": 98,
      "outputs": [
        {
          "name": "stderr",
          "output_type": "stream",
          "text": "[nltk_data] Downloading package stopwords to /home/jovyan/nltk_data...\n\n[nltk_data]   Package stopwords is already up-to-date!\n"
        }
      ]
    },
    {
      "cell_type": "code",
      "source": "# удаляем стоп-слова и переводим текст в векторное представление\ncount_tf_idf = TfidfVectorizer(stop_words=stopwords)\nfeatures_train = count_tf_idf.fit_transform(features_train) \nprint(\"Размер матрицы:\", features_train.shape)",
      "metadata": {
        "scrolled": true
      },
      "execution_count": 99,
      "outputs": [
        {
          "name": "stdout",
          "output_type": "stream",
          "text": "Размер матрицы: (95574, 116426)\n"
        }
      ]
    },
    {
      "cell_type": "code",
      "source": "%%time\n\n# применяем функцию лемматизации к валидационным признакам\nfeatures_valid = features_valid.apply(lemmatize)",
      "metadata": {},
      "execution_count": 100,
      "outputs": [
        {
          "name": "stdout",
          "output_type": "stream",
          "text": "CPU times: user 3min 4s, sys: 0 ns, total: 3min 4s\n\nWall time: 3min 4s\n"
        }
      ]
    },
    {
      "cell_type": "code",
      "source": "# смотрим как изменился текст\nfeatures_valid.head()",
      "metadata": {
        "scrolled": true
      },
      "execution_count": 101,
      "outputs": [
        {
          "execution_count": 101,
          "output_type": "execute_result",
          "data": {
            "text/plain": [
              "60296     \" \\n\\n WP : MUSIC \\n Hi jrod2 . as I touch on ...\n",
              "69369     this convention should be apply to any languag...\n",
              "122817    I mean that in a general way . I do not know i...\n",
              "137152    when will somebody do their bloody research an...\n",
              "63100     \" thank you for experiment with the page Gwend...\n",
              "Name: text, dtype: object"
            ]
          },
          "metadata": {}
        }
      ]
    },
    {
      "cell_type": "code",
      "source": "%%time\n\n# применяем функцию очиски текста к валидационным признакам\nfeatures_valid = features_valid.apply(clear_text)",
      "metadata": {},
      "execution_count": 102,
      "outputs": [
        {
          "name": "stdout",
          "output_type": "stream",
          "text": "CPU times: user 395 ms, sys: 0 ns, total: 395 ms\n\nWall time: 394 ms\n"
        }
      ]
    },
    {
      "cell_type": "code",
      "source": "# смотрим как изменился текст\nfeatures_valid.head()",
      "metadata": {},
      "execution_count": 103,
      "outputs": [
        {
          "execution_count": 103,
          "output_type": "execute_result",
          "data": {
            "text/plain": [
              "60296     WP MUSIC Hi jrod as I touch on in the Holger L...\n",
              "69369     this convention should be apply to any languag...\n",
              "122817    I mean that in a general way I do not know if ...\n",
              "137152    when will somebody do their bloody research an...\n",
              "63100     thank you for experiment with the page Gwendol...\n",
              "Name: text, dtype: object"
            ]
          },
          "metadata": {}
        }
      ]
    },
    {
      "cell_type": "code",
      "source": "# переводим текст в векторное представление\nfeatures_valid = count_tf_idf.transform(features_valid) \nprint(\"Размер матрицы:\", features_valid.shape)",
      "metadata": {},
      "execution_count": 104,
      "outputs": [
        {
          "name": "stdout",
          "output_type": "stream",
          "text": "Размер матрицы: (31859, 116426)\n"
        }
      ]
    },
    {
      "cell_type": "markdown",
      "source": "### Подготовка тестовых признаков",
      "metadata": {}
    },
    {
      "cell_type": "code",
      "source": "features_test.head()",
      "metadata": {},
      "execution_count": 105,
      "outputs": [
        {
          "execution_count": 105,
          "output_type": "execute_result",
          "data": {
            "text/plain": [
              "113015    \"\\n\\n Adoption \\n\\nAnd feel free to add the te...\n",
              "122766    January 2011 (UTC)\\n\\nThanks, this is exactly ...\n",
              "38093     Hmm, I kind of don't... you mean you have to s...\n",
              "42748     \"\\n\\n==appeal for third and fourth informed op...\n",
              "96969     Don \\n\\nNews to me.  I'll file it for future u...\n",
              "Name: text, dtype: object"
            ]
          },
          "metadata": {}
        }
      ]
    },
    {
      "cell_type": "code",
      "source": "%%time\n\n# применяем функцию лемматизации к тестовым признакам\nfeatures_test = features_test.apply(lemmatize)",
      "metadata": {},
      "execution_count": 106,
      "outputs": [
        {
          "name": "stdout",
          "output_type": "stream",
          "text": "CPU times: user 3min 1s, sys: 0 ns, total: 3min 1s\n\nWall time: 3min 2s\n"
        }
      ]
    },
    {
      "cell_type": "code",
      "source": "# смотрим как изменился текст\nfeatures_test.head()",
      "metadata": {},
      "execution_count": 107,
      "outputs": [
        {
          "execution_count": 107,
          "output_type": "execute_result",
          "data": {
            "text/plain": [
              "113015    \" \\n\\n  adoption \\n\\n and feel free to add the...\n",
              "122766    January 2011 ( UTC ) \\n\\n thank , this be exac...\n",
              "38093     hmm , I kind of do not ... you mean you have t...\n",
              "42748     \" \\n\\n = = appeal for third and fourth informe...\n",
              "96969     Don \\n\\n News to I .   I 'll file it for futur...\n",
              "Name: text, dtype: object"
            ]
          },
          "metadata": {}
        }
      ]
    },
    {
      "cell_type": "code",
      "source": "%%time\n\n# применяем функцию очистки текста к тестовым признакам\nfeatures_test = features_test.apply(clear_text)",
      "metadata": {},
      "execution_count": 108,
      "outputs": [
        {
          "name": "stdout",
          "output_type": "stream",
          "text": "CPU times: user 432 ms, sys: 0 ns, total: 432 ms\n\nWall time: 431 ms\n"
        }
      ]
    },
    {
      "cell_type": "code",
      "source": "# смотрим как изменился текст\nfeatures_test.head()",
      "metadata": {},
      "execution_count": 109,
      "outputs": [
        {
          "execution_count": 109,
          "output_type": "execute_result",
          "data": {
            "text/plain": [
              "113015    adoption and feel free to add the text adoptee...\n",
              "122766    January UTC thank this be exactly what I be lo...\n",
              "38093     hmm I kind of do not you mean you have to scro...\n",
              "42748     appeal for third and fourth informed opinion i...\n",
              "96969     Don News to I I ll file it for future use but ...\n",
              "Name: text, dtype: object"
            ]
          },
          "metadata": {}
        }
      ]
    },
    {
      "cell_type": "code",
      "source": "# переводим текст в векторное представление\nfeatures_test = count_tf_idf.transform(features_test) \nprint(\"Размер матрицы:\", features_test.shape)",
      "metadata": {},
      "execution_count": 110,
      "outputs": [
        {
          "name": "stdout",
          "output_type": "stream",
          "text": "Размер матрицы: (31859, 116426)\n"
        }
      ]
    },
    {
      "cell_type": "markdown",
      "source": "### Вывод",
      "metadata": {}
    },
    {
      "cell_type": "markdown",
      "source": "Датасет открыт и изучен, проблем в нём не обнаружено.\n\nПодготовлены тренировочная, валидационная и тестовая выборки.\n\nПризнаки адаптированы (переведены в векторный вид) для обучения и проверки моделей.",
      "metadata": {}
    },
    {
      "cell_type": "markdown",
      "source": "## Обучение",
      "metadata": {}
    },
    {
      "cell_type": "markdown",
      "source": "### Dummy Classifier",
      "metadata": {}
    },
    {
      "cell_type": "code",
      "source": "%%time\n\n# обучаем Dummy-модель для сравнения\nmodel = DummyClassifier(random_state=123, strategy='uniform')\nmodel.fit(features_train, target_train)",
      "metadata": {},
      "execution_count": 111,
      "outputs": [
        {
          "name": "stdout",
          "output_type": "stream",
          "text": "CPU times: user 4.96 ms, sys: 0 ns, total: 4.96 ms\n\nWall time: 4.09 ms\n"
        },
        {
          "execution_count": 111,
          "output_type": "execute_result",
          "data": {
            "text/plain": [
              "DummyClassifier(random_state=123, strategy='uniform')"
            ]
          },
          "metadata": {}
        }
      ]
    },
    {
      "cell_type": "code",
      "source": "%%time\n\n# проверяем модель и смотрим на метрику\npredictions = model.predict(features_valid)\nprint('Значение метрики f1 =', f1_score(target_valid, predictions))",
      "metadata": {},
      "execution_count": 112,
      "outputs": [
        {
          "name": "stdout",
          "output_type": "stream",
          "text": "Значение метрики f1 = 0.17056943789617057\n\nCPU times: user 12.7 ms, sys: 0 ns, total: 12.7 ms\n\nWall time: 11.6 ms\n"
        }
      ]
    },
    {
      "cell_type": "markdown",
      "source": "### Logistic Regression",
      "metadata": {}
    },
    {
      "cell_type": "code",
      "source": "%%time\n\n# подбираем гиперпараметры для логистической регресии\nlr = LogisticRegression(random_state=12345, class_weight='balanced')\nparam_grid = { \n    'C': [0.1, 1.0, 5.0, 10.0]\n}\n\nCV_lr = GridSearchCV(estimator=lr, param_grid=param_grid, scoring='f1', cv=3)\nCV_lr.fit(features_train, target_train)",
      "metadata": {
        "scrolled": true
      },
      "execution_count": 113,
      "outputs": [
        {
          "name": "stderr",
          "output_type": "stream",
          "text": "/opt/conda/lib/python3.9/site-packages/sklearn/linear_model/_logistic.py:763: ConvergenceWarning: lbfgs failed to converge (status=1):\n\nSTOP: TOTAL NO. of ITERATIONS REACHED LIMIT.\n\n\n\nIncrease the number of iterations (max_iter) or scale the data as shown in:\n\n    https://scikit-learn.org/stable/modules/preprocessing.html\n\nPlease also refer to the documentation for alternative solver options:\n\n    https://scikit-learn.org/stable/modules/linear_model.html#logistic-regression\n\n  n_iter_i = _check_optimize_result(\n\n/opt/conda/lib/python3.9/site-packages/sklearn/linear_model/_logistic.py:763: ConvergenceWarning: lbfgs failed to converge (status=1):\n\nSTOP: TOTAL NO. of ITERATIONS REACHED LIMIT.\n\n\n\nIncrease the number of iterations (max_iter) or scale the data as shown in:\n\n    https://scikit-learn.org/stable/modules/preprocessing.html\n\nPlease also refer to the documentation for alternative solver options:\n\n    https://scikit-learn.org/stable/modules/linear_model.html#logistic-regression\n\n  n_iter_i = _check_optimize_result(\n\n/opt/conda/lib/python3.9/site-packages/sklearn/linear_model/_logistic.py:763: ConvergenceWarning: lbfgs failed to converge (status=1):\n\nSTOP: TOTAL NO. of ITERATIONS REACHED LIMIT.\n\n\n\nIncrease the number of iterations (max_iter) or scale the data as shown in:\n\n    https://scikit-learn.org/stable/modules/preprocessing.html\n\nPlease also refer to the documentation for alternative solver options:\n\n    https://scikit-learn.org/stable/modules/linear_model.html#logistic-regression\n\n  n_iter_i = _check_optimize_result(\n\n/opt/conda/lib/python3.9/site-packages/sklearn/linear_model/_logistic.py:763: ConvergenceWarning: lbfgs failed to converge (status=1):\n\nSTOP: TOTAL NO. of ITERATIONS REACHED LIMIT.\n\n\n\nIncrease the number of iterations (max_iter) or scale the data as shown in:\n\n    https://scikit-learn.org/stable/modules/preprocessing.html\n\nPlease also refer to the documentation for alternative solver options:\n\n    https://scikit-learn.org/stable/modules/linear_model.html#logistic-regression\n\n  n_iter_i = _check_optimize_result(\n\n/opt/conda/lib/python3.9/site-packages/sklearn/linear_model/_logistic.py:763: ConvergenceWarning: lbfgs failed to converge (status=1):\n\nSTOP: TOTAL NO. of ITERATIONS REACHED LIMIT.\n\n\n\nIncrease the number of iterations (max_iter) or scale the data as shown in:\n\n    https://scikit-learn.org/stable/modules/preprocessing.html\n\nPlease also refer to the documentation for alternative solver options:\n\n    https://scikit-learn.org/stable/modules/linear_model.html#logistic-regression\n\n  n_iter_i = _check_optimize_result(\n\n/opt/conda/lib/python3.9/site-packages/sklearn/linear_model/_logistic.py:763: ConvergenceWarning: lbfgs failed to converge (status=1):\n\nSTOP: TOTAL NO. of ITERATIONS REACHED LIMIT.\n\n\n\nIncrease the number of iterations (max_iter) or scale the data as shown in:\n\n    https://scikit-learn.org/stable/modules/preprocessing.html\n\nPlease also refer to the documentation for alternative solver options:\n\n    https://scikit-learn.org/stable/modules/linear_model.html#logistic-regression\n\n  n_iter_i = _check_optimize_result(\n"
        },
        {
          "name": "stdout",
          "output_type": "stream",
          "text": "CPU times: user 2min 9s, sys: 3min 10s, total: 5min 20s\n\nWall time: 5min 23s\n"
        },
        {
          "name": "stderr",
          "output_type": "stream",
          "text": "/opt/conda/lib/python3.9/site-packages/sklearn/linear_model/_logistic.py:763: ConvergenceWarning: lbfgs failed to converge (status=1):\n\nSTOP: TOTAL NO. of ITERATIONS REACHED LIMIT.\n\n\n\nIncrease the number of iterations (max_iter) or scale the data as shown in:\n\n    https://scikit-learn.org/stable/modules/preprocessing.html\n\nPlease also refer to the documentation for alternative solver options:\n\n    https://scikit-learn.org/stable/modules/linear_model.html#logistic-regression\n\n  n_iter_i = _check_optimize_result(\n"
        },
        {
          "execution_count": 113,
          "output_type": "execute_result",
          "data": {
            "text/plain": [
              "GridSearchCV(cv=3,\n",
              "             estimator=LogisticRegression(class_weight='balanced',\n",
              "                                          random_state=12345),\n",
              "             param_grid={'C': [0.1, 1.0, 5.0, 10.0]}, scoring='f1')"
            ]
          },
          "metadata": {}
        }
      ]
    },
    {
      "cell_type": "code",
      "source": "print('Лучшие гиперпараметры модели:', CV_lr.best_params_)\nprint('Лучшее значение метрики f1 модели:', CV_lr.best_score_)\n# подбираем лучшие гиперпараметры и проводим кросс-валидацию методом GridSearch",
      "metadata": {},
      "execution_count": 115,
      "outputs": [
        {
          "name": "stdout",
          "output_type": "stream",
          "text": "Лучшие гиперпараметры модели: {'C': 5.0}\n\nЛучшее значение метрики f1 модели: 0.7602186704897269\n"
        }
      ]
    },
    {
      "cell_type": "markdown",
      "source": "### Ridge Classifier",
      "metadata": {}
    },
    {
      "cell_type": "code",
      "source": "%%time\n\n# обучаем модель Ridge Classifier\nmodel = RidgeClassifier(random_state=123, class_weight='balanced')\nmodel.fit(features_train, target_train)",
      "metadata": {},
      "execution_count": 116,
      "outputs": [
        {
          "name": "stdout",
          "output_type": "stream",
          "text": "CPU times: user 4.82 s, sys: 7.77 s, total: 12.6 s\n\nWall time: 12.6 s\n"
        },
        {
          "execution_count": 116,
          "output_type": "execute_result",
          "data": {
            "text/plain": [
              "RidgeClassifier(class_weight='balanced', random_state=123)"
            ]
          },
          "metadata": {}
        }
      ]
    },
    {
      "cell_type": "code",
      "source": "%%time\n\n# проверяем модель и смотрим на метрику\npredictions = model.predict(features_valid)\nprint('Значение метрики f1 =', f1_score(target_valid, predictions))",
      "metadata": {},
      "execution_count": 117,
      "outputs": [
        {
          "name": "stdout",
          "output_type": "stream",
          "text": "Значение метрики f1 = 0.2645739910313902\n\nCPU times: user 14.4 ms, sys: 0 ns, total: 14.4 ms\n\nWall time: 12.9 ms\n"
        }
      ]
    },
    {
      "cell_type": "markdown",
      "source": "### Decision Tree Classifier",
      "metadata": {}
    },
    {
      "cell_type": "code",
      "source": "%%time\n\n# обучаем модель Дерево решений\nmodel = DecisionTreeClassifier(random_state=123)\nmodel.fit(features_train, target_train)",
      "metadata": {},
      "execution_count": 58,
      "outputs": [
        {
          "name": "stdout",
          "output_type": "stream",
          "text": "CPU times: user 4min 17s, sys: 0 ns, total: 4min 17s\n\nWall time: 4min 21s\n"
        }
      ]
    },
    {
      "cell_type": "code",
      "source": "%%time\n\n# проверяем модель и смотрим на метрику\npredictions = model.predict(features_valid)\nprint('Значение метрики f1 =', f1_score(target_valid, predictions))",
      "metadata": {
        "scrolled": true
      },
      "execution_count": 59,
      "outputs": [
        {
          "name": "stdout",
          "output_type": "stream",
          "text": "Значение метрики f1 = 0.7127889060092449\n"
        }
      ]
    },
    {
      "cell_type": "markdown",
      "source": "### Random Forest Classifier",
      "metadata": {}
    },
    {
      "cell_type": "code",
      "source": "%%time\n\n# обучаем модель Случайный лес\nmodel = RandomForestClassifier(random_state=123)\nmodel.fit(features_train, target_train)",
      "metadata": {},
      "execution_count": 60,
      "outputs": [
        {
          "name": "stdout",
          "output_type": "stream",
          "text": "CPU times: user 5min 12s, sys: 0 ns, total: 5min 12s\n\nWall time: 5min 12s\n"
        }
      ]
    },
    {
      "cell_type": "code",
      "source": "%%time\n\n# проверяем модель и смотрим на метрику\npredictions = model.predict(features_valid)\nprint('Значение метрики f1 =', f1_score(target_valid, predictions))",
      "metadata": {},
      "execution_count": 61,
      "outputs": [
        {
          "name": "stdout",
          "output_type": "stream",
          "text": "Значение метрики f1 = 0.7217703801777946\n"
        }
      ]
    },
    {
      "cell_type": "markdown",
      "source": "### CatBoost Classifier",
      "metadata": {}
    },
    {
      "cell_type": "code",
      "source": "%%time\n\nmodel = CatBoostClassifier(verbose=0)\nmodel.fit(features_train[:20000], target_train[:20000])",
      "metadata": {},
      "execution_count": 49,
      "outputs": [
        {
          "name": "stdout",
          "output_type": "stream",
          "text": "CPU times: user 8min 48s, sys: 0 ns, total: 8min 48s\n\nWall time: 8min 52s\n"
        },
        {
          "execution_count": 49,
          "output_type": "execute_result",
          "data": {
            "text/plain": [
              "<catboost.core.CatBoostClassifier at 0x7ff18f3c7d00>"
            ]
          },
          "metadata": {}
        }
      ]
    },
    {
      "cell_type": "code",
      "source": "%%time\n\npredictions = model.predict(features_valid)\nprint('Значение метрики f1 =', f1_score(target_valid, predictions))",
      "metadata": {},
      "execution_count": 50,
      "outputs": [
        {
          "name": "stdout",
          "output_type": "stream",
          "text": "Значение метрики f1 = 0.687573042462018\n\nCPU times: user 345 ms, sys: 0 ns, total: 345 ms\n\nWall time: 349 ms\n"
        }
      ]
    },
    {
      "cell_type": "markdown",
      "source": "### LightGBM Classifier",
      "metadata": {}
    },
    {
      "cell_type": "code",
      "source": "%%time\n\nmodel = LGBMClassifier(verbose=0, force_col_wise=True)\nmodel.fit(features_train, target_train)",
      "metadata": {
        "scrolled": true
      },
      "execution_count": 102,
      "outputs": [
        {
          "name": "stdout",
          "output_type": "stream",
          "text": "CPU times: user 9min 18s, sys: 6.95 s, total: 9min 25s\n\nWall time: 9min 30s\n"
        },
        {
          "execution_count": 102,
          "output_type": "execute_result",
          "data": {
            "text/plain": [
              "LGBMClassifier(force_col_wise=True, verbose=0)"
            ]
          },
          "metadata": {}
        }
      ]
    },
    {
      "cell_type": "code",
      "source": "%%time\n\npredictions = model.predict(features_valid)\nprint('Значение метрики f1 =', f1_score(target_valid, predictions))",
      "metadata": {
        "scrolled": true
      },
      "execution_count": 103,
      "outputs": [
        {
          "name": "stdout",
          "output_type": "stream",
          "text": "Значение метрики f1 = 0.7491396486143814\n\nCPU times: user 2.47 s, sys: 0 ns, total: 2.47 s\n\nWall time: 2.48 s\n"
        }
      ]
    },
    {
      "cell_type": "markdown",
      "source": "### Итоговая таблица",
      "metadata": {}
    },
    {
      "cell_type": "code",
      "source": "data = {'f1_score':[0.17, 0.76, 0.26, 0.71, 0.72, 0.68, 0.75], \n        'Education time, s':[0.004, 50, 257, 312, 4.5, 528, 565],\n       'Work time, s':[0.011, 0.08, 0.16, 0.44, 0.6, 0.34, 2.48]} \ndf_total = pd.DataFrame(data, index =['Dummy', 'LogisticRegression', 'RidgeClassifier', \n                                'DecisionTreeClassifier', 'RandomForestClassdifier', \n                                'CatBoostClassifier', 'LGBMClassifier'])\ndf_total.sort_values(by='f1_score', ascending=False)",
      "metadata": {
        "scrolled": true
      },
      "execution_count": 55,
      "outputs": [
        {
          "execution_count": 55,
          "output_type": "execute_result",
          "data": {
            "text/html": [
              "<div>\n",
              "<style scoped>\n",
              "    .dataframe tbody tr th:only-of-type {\n",
              "        vertical-align: middle;\n",
              "    }\n",
              "\n",
              "    .dataframe tbody tr th {\n",
              "        vertical-align: top;\n",
              "    }\n",
              "\n",
              "    .dataframe thead th {\n",
              "        text-align: right;\n",
              "    }\n",
              "</style>\n",
              "<table border=\"1\" class=\"dataframe\">\n",
              "  <thead>\n",
              "    <tr style=\"text-align: right;\">\n",
              "      <th></th>\n",
              "      <th>f1_score</th>\n",
              "      <th>Education time, s</th>\n",
              "      <th>Work time, s</th>\n",
              "    </tr>\n",
              "  </thead>\n",
              "  <tbody>\n",
              "    <tr>\n",
              "      <th>LogisticRegression</th>\n",
              "      <td>0.76</td>\n",
              "      <td>50.000</td>\n",
              "      <td>0.080</td>\n",
              "    </tr>\n",
              "    <tr>\n",
              "      <th>LGBMClassifier</th>\n",
              "      <td>0.75</td>\n",
              "      <td>565.000</td>\n",
              "      <td>2.480</td>\n",
              "    </tr>\n",
              "    <tr>\n",
              "      <th>RandomForestClassdifier</th>\n",
              "      <td>0.72</td>\n",
              "      <td>4.500</td>\n",
              "      <td>0.600</td>\n",
              "    </tr>\n",
              "    <tr>\n",
              "      <th>DecisionTreeClassifier</th>\n",
              "      <td>0.71</td>\n",
              "      <td>312.000</td>\n",
              "      <td>0.440</td>\n",
              "    </tr>\n",
              "    <tr>\n",
              "      <th>CatBoostClassifier</th>\n",
              "      <td>0.68</td>\n",
              "      <td>528.000</td>\n",
              "      <td>0.340</td>\n",
              "    </tr>\n",
              "    <tr>\n",
              "      <th>RidgeClassifier</th>\n",
              "      <td>0.26</td>\n",
              "      <td>257.000</td>\n",
              "      <td>0.160</td>\n",
              "    </tr>\n",
              "    <tr>\n",
              "      <th>Dummy</th>\n",
              "      <td>0.17</td>\n",
              "      <td>0.004</td>\n",
              "      <td>0.011</td>\n",
              "    </tr>\n",
              "  </tbody>\n",
              "</table>\n",
              "</div>"
            ],
            "text/plain": [
              "                         f1_score  Education time, s  Work time, s\n",
              "LogisticRegression           0.76             50.000         0.080\n",
              "LGBMClassifier               0.75            565.000         2.480\n",
              "RandomForestClassdifier      0.72              4.500         0.600\n",
              "DecisionTreeClassifier       0.71            312.000         0.440\n",
              "CatBoostClassifier           0.68            528.000         0.340\n",
              "RidgeClassifier              0.26            257.000         0.160\n",
              "Dummy                        0.17              0.004         0.011"
            ]
          },
          "metadata": {}
        }
      ]
    },
    {
      "cell_type": "markdown",
      "source": "### Тестирование",
      "metadata": {}
    },
    {
      "cell_type": "code",
      "source": "model = LogisticRegression(random_state=123, C=5, class_weight='balanced')",
      "metadata": {},
      "execution_count": 118,
      "outputs": []
    },
    {
      "cell_type": "code",
      "source": "%%time\n\nmodel.fit(features_train, target_train)\npredictions = model.predict(features_test)",
      "metadata": {},
      "execution_count": 119,
      "outputs": [
        {
          "name": "stdout",
          "output_type": "stream",
          "text": "CPU times: user 13.4 s, sys: 20.7 s, total: 34.1 s\n\nWall time: 34.1 s\n"
        },
        {
          "name": "stderr",
          "output_type": "stream",
          "text": "/opt/conda/lib/python3.9/site-packages/sklearn/linear_model/_logistic.py:763: ConvergenceWarning: lbfgs failed to converge (status=1):\n\nSTOP: TOTAL NO. of ITERATIONS REACHED LIMIT.\n\n\n\nIncrease the number of iterations (max_iter) or scale the data as shown in:\n\n    https://scikit-learn.org/stable/modules/preprocessing.html\n\nPlease also refer to the documentation for alternative solver options:\n\n    https://scikit-learn.org/stable/modules/linear_model.html#logistic-regression\n\n  n_iter_i = _check_optimize_result(\n"
        }
      ]
    },
    {
      "cell_type": "code",
      "source": "print(f1_score(target_test, predictions))",
      "metadata": {},
      "execution_count": 120,
      "outputs": [
        {
          "name": "stdout",
          "output_type": "stream",
          "text": "0.7667331244659641\n"
        }
      ]
    },
    {
      "cell_type": "markdown",
      "source": "## Выводы",
      "metadata": {}
    },
    {
      "cell_type": "markdown",
      "source": "Если у вас недостаточно вычислительных мощностей, то заниматься машинным обучением текстов вы сможете только на самом базовом уровне, применяя самые простые модели, а про подбор гиперпараметров или нейронки лучше забыть, особенно если у вас относительно большие датасеты.\n\nЕсли исходить из того, что Викишоп как раз такой начинающий магазин, не имеющий лишних денег и больших мощностей, то ему для решения задачи классификации статей можно посоветовать Логистическую регрессию, она даёт требуемое значение метрики (не ниже 0.75), просто и относительна быстра в обращении и обучении.",
      "metadata": {}
    }
  ]
}