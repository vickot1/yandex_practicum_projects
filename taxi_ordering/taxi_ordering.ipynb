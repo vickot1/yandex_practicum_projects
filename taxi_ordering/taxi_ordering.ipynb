{
  "metadata": {
    "ExecuteTimeLog": [
      {
        "duration": 420,
        "start_time": "2022-09-05T15:41:55.191Z"
      },
      {
        "duration": 190,
        "start_time": "2022-09-05T15:44:16.700Z"
      },
      {
        "duration": 11,
        "start_time": "2022-09-05T15:44:29.396Z"
      },
      {
        "duration": 13,
        "start_time": "2022-09-05T15:44:36.525Z"
      },
      {
        "duration": 68,
        "start_time": "2022-09-05T15:45:52.464Z"
      },
      {
        "duration": 9,
        "start_time": "2022-09-05T15:45:58.364Z"
      },
      {
        "duration": 8,
        "start_time": "2022-09-05T15:46:04.200Z"
      },
      {
        "duration": 8,
        "start_time": "2022-09-05T15:46:14.910Z"
      },
      {
        "duration": 9,
        "start_time": "2022-09-05T15:46:15.721Z"
      },
      {
        "duration": 49,
        "start_time": "2022-09-05T15:46:21.180Z"
      },
      {
        "duration": 10,
        "start_time": "2022-09-05T15:46:21.665Z"
      },
      {
        "duration": 7,
        "start_time": "2022-09-05T15:46:22.182Z"
      },
      {
        "duration": 9,
        "start_time": "2022-09-05T15:46:22.759Z"
      },
      {
        "duration": 8,
        "start_time": "2022-09-05T15:46:23.737Z"
      },
      {
        "duration": 628,
        "start_time": "2022-09-05T15:50:25.241Z"
      },
      {
        "duration": 398,
        "start_time": "2022-09-06T14:45:14.317Z"
      },
      {
        "duration": 114,
        "start_time": "2022-09-06T14:45:14.717Z"
      },
      {
        "duration": 10,
        "start_time": "2022-09-06T14:45:14.833Z"
      },
      {
        "duration": 12,
        "start_time": "2022-09-06T14:45:14.844Z"
      },
      {
        "duration": 10,
        "start_time": "2022-09-06T14:45:14.858Z"
      },
      {
        "duration": 6,
        "start_time": "2022-09-06T14:45:14.870Z"
      },
      {
        "duration": 626,
        "start_time": "2022-09-06T14:45:14.877Z"
      },
      {
        "duration": 6,
        "start_time": "2022-09-06T15:00:24.486Z"
      },
      {
        "duration": 68,
        "start_time": "2022-09-06T15:07:32.235Z"
      },
      {
        "duration": 492,
        "start_time": "2022-09-06T15:09:11.706Z"
      },
      {
        "duration": 7,
        "start_time": "2022-09-06T15:09:16.338Z"
      },
      {
        "duration": 37,
        "start_time": "2022-09-06T15:09:19.806Z"
      },
      {
        "duration": 3,
        "start_time": "2022-09-06T15:09:45.108Z"
      },
      {
        "duration": 684,
        "start_time": "2022-09-06T15:09:49.324Z"
      },
      {
        "duration": 8,
        "start_time": "2022-09-06T15:10:57.235Z"
      },
      {
        "duration": 10,
        "start_time": "2022-09-06T15:13:15.216Z"
      },
      {
        "duration": 514,
        "start_time": "2022-09-06T15:13:17.700Z"
      },
      {
        "duration": 13,
        "start_time": "2022-09-06T15:15:24.803Z"
      },
      {
        "duration": 510,
        "start_time": "2022-09-06T15:15:25.492Z"
      },
      {
        "duration": 9,
        "start_time": "2022-09-06T15:21:02.641Z"
      },
      {
        "duration": 461,
        "start_time": "2022-09-06T15:21:03.090Z"
      },
      {
        "duration": 10,
        "start_time": "2022-09-06T15:21:30.664Z"
      },
      {
        "duration": 616,
        "start_time": "2022-09-06T15:21:33.855Z"
      },
      {
        "duration": 227,
        "start_time": "2022-09-06T15:29:27.324Z"
      },
      {
        "duration": 504,
        "start_time": "2022-09-06T15:29:47.343Z"
      },
      {
        "duration": 228,
        "start_time": "2022-09-06T15:30:13.003Z"
      },
      {
        "duration": 220,
        "start_time": "2022-09-06T15:30:36.685Z"
      },
      {
        "duration": 218,
        "start_time": "2022-09-06T15:31:28.395Z"
      },
      {
        "duration": 290,
        "start_time": "2022-09-06T15:31:35.124Z"
      },
      {
        "duration": 764,
        "start_time": "2022-09-06T15:32:26.915Z"
      },
      {
        "duration": 751,
        "start_time": "2022-09-06T15:34:47.309Z"
      },
      {
        "duration": 4,
        "start_time": "2022-09-06T15:37:17.682Z"
      },
      {
        "duration": 607,
        "start_time": "2022-09-06T15:39:37.458Z"
      },
      {
        "duration": 488,
        "start_time": "2022-09-06T15:39:54.416Z"
      },
      {
        "duration": 473,
        "start_time": "2022-09-06T15:40:09.102Z"
      },
      {
        "duration": 8,
        "start_time": "2022-09-06T15:41:59.773Z"
      },
      {
        "duration": 462,
        "start_time": "2022-09-06T15:42:00.711Z"
      },
      {
        "duration": 266,
        "start_time": "2022-09-06T15:43:05.187Z"
      },
      {
        "duration": 630,
        "start_time": "2022-09-06T15:43:23.107Z"
      },
      {
        "duration": 544,
        "start_time": "2022-09-06T15:43:35.408Z"
      },
      {
        "duration": 768,
        "start_time": "2022-09-06T15:43:44.980Z"
      },
      {
        "duration": 268,
        "start_time": "2022-09-06T15:44:04.979Z"
      },
      {
        "duration": 274,
        "start_time": "2022-09-06T15:44:20.979Z"
      },
      {
        "duration": 405,
        "start_time": "2022-09-06T15:44:37.556Z"
      },
      {
        "duration": 423,
        "start_time": "2022-09-06T15:57:55.323Z"
      },
      {
        "duration": 12,
        "start_time": "2022-09-06T15:58:15.125Z"
      },
      {
        "duration": 1032,
        "start_time": "2022-09-06T15:58:32.125Z"
      },
      {
        "duration": 89,
        "start_time": "2022-09-06T15:58:33.158Z"
      },
      {
        "duration": 10,
        "start_time": "2022-09-06T15:58:33.249Z"
      },
      {
        "duration": 40,
        "start_time": "2022-09-06T15:58:33.261Z"
      },
      {
        "duration": 38,
        "start_time": "2022-09-06T15:58:33.303Z"
      },
      {
        "duration": 23,
        "start_time": "2022-09-06T15:58:33.342Z"
      },
      {
        "duration": 235,
        "start_time": "2022-09-06T15:58:33.366Z"
      },
      {
        "duration": 21,
        "start_time": "2022-09-06T15:58:33.602Z"
      },
      {
        "duration": 26,
        "start_time": "2022-09-06T15:58:33.624Z"
      },
      {
        "duration": 802,
        "start_time": "2022-09-06T15:58:33.652Z"
      },
      {
        "duration": 676,
        "start_time": "2022-09-06T15:58:34.457Z"
      },
      {
        "duration": 3,
        "start_time": "2022-09-06T15:58:35.135Z"
      },
      {
        "duration": 553,
        "start_time": "2022-09-06T15:58:35.140Z"
      },
      {
        "duration": 26,
        "start_time": "2022-09-06T15:58:35.696Z"
      },
      {
        "duration": 5,
        "start_time": "2022-09-06T15:59:50.775Z"
      },
      {
        "duration": 1798,
        "start_time": "2022-09-06T16:00:14.346Z"
      },
      {
        "duration": 5,
        "start_time": "2022-09-06T16:00:42.122Z"
      },
      {
        "duration": 16,
        "start_time": "2022-09-06T16:00:43.087Z"
      },
      {
        "duration": 11,
        "start_time": "2022-09-06T16:01:26.949Z"
      },
      {
        "duration": 7,
        "start_time": "2022-09-06T16:01:28.906Z"
      },
      {
        "duration": 22,
        "start_time": "2022-09-06T16:01:29.461Z"
      },
      {
        "duration": 6,
        "start_time": "2022-09-06T16:03:42.832Z"
      },
      {
        "duration": 12,
        "start_time": "2022-09-06T16:03:50.508Z"
      },
      {
        "duration": 330,
        "start_time": "2022-09-06T16:07:29.165Z"
      },
      {
        "duration": 4,
        "start_time": "2022-09-06T16:08:17.047Z"
      },
      {
        "duration": 5,
        "start_time": "2022-09-06T16:10:59.388Z"
      },
      {
        "duration": 5,
        "start_time": "2022-09-06T16:10:59.876Z"
      },
      {
        "duration": 4,
        "start_time": "2022-09-06T16:11:00.479Z"
      },
      {
        "duration": 5,
        "start_time": "2022-09-06T16:11:11.754Z"
      },
      {
        "duration": 4,
        "start_time": "2022-09-06T16:11:12.412Z"
      },
      {
        "duration": 3,
        "start_time": "2022-09-06T16:11:13.002Z"
      },
      {
        "duration": 4,
        "start_time": "2022-09-06T16:11:21.635Z"
      },
      {
        "duration": 4,
        "start_time": "2022-09-06T16:11:22.259Z"
      },
      {
        "duration": 3,
        "start_time": "2022-09-06T16:11:22.804Z"
      },
      {
        "duration": 5,
        "start_time": "2022-09-06T16:12:55.206Z"
      },
      {
        "duration": 4,
        "start_time": "2022-09-06T16:13:35.838Z"
      },
      {
        "duration": 6,
        "start_time": "2022-09-06T16:14:15.584Z"
      },
      {
        "duration": 5,
        "start_time": "2022-09-06T16:18:42.878Z"
      },
      {
        "duration": 9,
        "start_time": "2022-09-06T16:20:48.147Z"
      },
      {
        "duration": 72,
        "start_time": "2022-09-06T16:21:52.523Z"
      },
      {
        "duration": 4212,
        "start_time": "2022-09-06T16:22:02.843Z"
      },
      {
        "duration": 77,
        "start_time": "2022-09-06T16:23:14.571Z"
      },
      {
        "duration": 16,
        "start_time": "2022-09-06T16:25:44.722Z"
      },
      {
        "duration": 25,
        "start_time": "2022-09-06T16:26:15.527Z"
      },
      {
        "duration": 454,
        "start_time": "2022-09-06T16:26:22.135Z"
      },
      {
        "duration": 338,
        "start_time": "2022-09-06T16:27:00.621Z"
      },
      {
        "duration": 2762,
        "start_time": "2022-09-06T16:28:28.625Z"
      },
      {
        "duration": 707,
        "start_time": "2022-09-06T16:30:03.513Z"
      },
      {
        "duration": 76208,
        "start_time": "2022-09-06T16:31:54.709Z"
      },
      {
        "duration": 1532,
        "start_time": "2022-09-06T16:44:26.615Z"
      },
      {
        "duration": 55,
        "start_time": "2022-09-06T16:44:28.149Z"
      },
      {
        "duration": 13,
        "start_time": "2022-09-06T16:44:28.206Z"
      },
      {
        "duration": 14,
        "start_time": "2022-09-06T16:44:28.220Z"
      },
      {
        "duration": 10,
        "start_time": "2022-09-06T16:44:28.236Z"
      },
      {
        "duration": 8,
        "start_time": "2022-09-06T16:44:28.247Z"
      },
      {
        "duration": 249,
        "start_time": "2022-09-06T16:44:28.257Z"
      },
      {
        "duration": 6,
        "start_time": "2022-09-06T16:44:28.507Z"
      },
      {
        "duration": 23,
        "start_time": "2022-09-06T16:44:28.515Z"
      },
      {
        "duration": 834,
        "start_time": "2022-09-06T16:44:28.540Z"
      },
      {
        "duration": 665,
        "start_time": "2022-09-06T16:44:29.375Z"
      },
      {
        "duration": 3,
        "start_time": "2022-09-06T16:44:30.042Z"
      },
      {
        "duration": 507,
        "start_time": "2022-09-06T16:44:30.047Z"
      },
      {
        "duration": 14,
        "start_time": "2022-09-06T16:44:30.557Z"
      },
      {
        "duration": 194,
        "start_time": "2022-09-06T16:44:30.574Z"
      },
      {
        "duration": 0,
        "start_time": "2022-09-06T16:44:30.770Z"
      },
      {
        "duration": 0,
        "start_time": "2022-09-06T16:44:30.771Z"
      },
      {
        "duration": 0,
        "start_time": "2022-09-06T16:44:30.772Z"
      },
      {
        "duration": 0,
        "start_time": "2022-09-06T16:44:30.773Z"
      },
      {
        "duration": 0,
        "start_time": "2022-09-06T16:44:30.774Z"
      },
      {
        "duration": 0,
        "start_time": "2022-09-06T16:44:30.775Z"
      },
      {
        "duration": 0,
        "start_time": "2022-09-06T16:44:30.776Z"
      },
      {
        "duration": 0,
        "start_time": "2022-09-06T16:44:30.777Z"
      },
      {
        "duration": 1,
        "start_time": "2022-09-06T16:44:30.778Z"
      },
      {
        "duration": 0,
        "start_time": "2022-09-06T16:44:30.780Z"
      },
      {
        "duration": 0,
        "start_time": "2022-09-06T16:44:30.781Z"
      },
      {
        "duration": 0,
        "start_time": "2022-09-06T16:44:30.782Z"
      },
      {
        "duration": 0,
        "start_time": "2022-09-06T16:44:30.783Z"
      },
      {
        "duration": 0,
        "start_time": "2022-09-06T16:44:30.784Z"
      },
      {
        "duration": 0,
        "start_time": "2022-09-06T16:44:30.785Z"
      },
      {
        "duration": 0,
        "start_time": "2022-09-06T16:44:30.787Z"
      },
      {
        "duration": 0,
        "start_time": "2022-09-06T16:44:30.787Z"
      },
      {
        "duration": 0,
        "start_time": "2022-09-06T16:44:30.789Z"
      },
      {
        "duration": 3,
        "start_time": "2022-09-06T16:44:56.466Z"
      },
      {
        "duration": 111,
        "start_time": "2022-09-06T16:44:58.964Z"
      },
      {
        "duration": 17,
        "start_time": "2022-09-06T16:45:06.705Z"
      },
      {
        "duration": 7,
        "start_time": "2022-09-06T16:45:10.571Z"
      },
      {
        "duration": 12,
        "start_time": "2022-09-06T16:45:11.419Z"
      },
      {
        "duration": 5,
        "start_time": "2022-09-06T16:45:14.816Z"
      },
      {
        "duration": 5,
        "start_time": "2022-09-06T16:45:15.755Z"
      },
      {
        "duration": 4,
        "start_time": "2022-09-06T16:45:16.701Z"
      },
      {
        "duration": 6,
        "start_time": "2022-09-06T16:45:19.761Z"
      },
      {
        "duration": 6,
        "start_time": "2022-09-06T16:45:20.312Z"
      },
      {
        "duration": 6,
        "start_time": "2022-09-06T16:45:20.853Z"
      },
      {
        "duration": 7,
        "start_time": "2022-09-06T16:45:23.474Z"
      },
      {
        "duration": 13,
        "start_time": "2022-09-06T16:45:25.411Z"
      },
      {
        "duration": 1044,
        "start_time": "2022-09-06T16:45:30.047Z"
      },
      {
        "duration": 29,
        "start_time": "2022-09-06T16:45:38.167Z"
      },
      {
        "duration": 16,
        "start_time": "2022-09-06T16:45:49.002Z"
      },
      {
        "duration": 16,
        "start_time": "2022-09-06T16:45:53.630Z"
      },
      {
        "duration": 424,
        "start_time": "2022-09-06T16:45:57.588Z"
      },
      {
        "duration": 1377,
        "start_time": "2022-09-06T16:46:03.554Z"
      },
      {
        "duration": 29021,
        "start_time": "2022-09-06T16:51:11.692Z"
      },
      {
        "duration": 1468,
        "start_time": "2022-09-06T17:00:57.941Z"
      },
      {
        "duration": 48,
        "start_time": "2022-09-06T17:00:59.411Z"
      },
      {
        "duration": 15,
        "start_time": "2022-09-06T17:00:59.461Z"
      },
      {
        "duration": 12,
        "start_time": "2022-09-06T17:00:59.478Z"
      },
      {
        "duration": 11,
        "start_time": "2022-09-06T17:00:59.493Z"
      },
      {
        "duration": 7,
        "start_time": "2022-09-06T17:00:59.506Z"
      },
      {
        "duration": 249,
        "start_time": "2022-09-06T17:00:59.515Z"
      },
      {
        "duration": 6,
        "start_time": "2022-09-06T17:00:59.766Z"
      },
      {
        "duration": 12,
        "start_time": "2022-09-06T17:00:59.773Z"
      },
      {
        "duration": 859,
        "start_time": "2022-09-06T17:00:59.787Z"
      },
      {
        "duration": 671,
        "start_time": "2022-09-06T17:01:00.648Z"
      },
      {
        "duration": 5,
        "start_time": "2022-09-06T17:01:01.321Z"
      },
      {
        "duration": 585,
        "start_time": "2022-09-06T17:01:01.328Z"
      },
      {
        "duration": 10,
        "start_time": "2022-09-06T17:01:01.917Z"
      },
      {
        "duration": 11,
        "start_time": "2022-09-06T17:01:01.929Z"
      },
      {
        "duration": 36,
        "start_time": "2022-09-06T17:01:01.942Z"
      },
      {
        "duration": 13,
        "start_time": "2022-09-06T17:01:01.980Z"
      },
      {
        "duration": 15,
        "start_time": "2022-09-06T17:01:01.995Z"
      },
      {
        "duration": 5,
        "start_time": "2022-09-06T17:01:02.012Z"
      },
      {
        "duration": 11,
        "start_time": "2022-09-06T17:01:02.018Z"
      },
      {
        "duration": 16,
        "start_time": "2022-09-06T17:01:02.030Z"
      },
      {
        "duration": 20,
        "start_time": "2022-09-06T17:01:02.048Z"
      },
      {
        "duration": 50,
        "start_time": "2022-09-06T17:01:02.070Z"
      },
      {
        "duration": 28,
        "start_time": "2022-09-06T17:01:02.122Z"
      },
      {
        "duration": 18,
        "start_time": "2022-09-06T17:01:02.151Z"
      },
      {
        "duration": 21,
        "start_time": "2022-09-06T17:01:02.170Z"
      },
      {
        "duration": 1297,
        "start_time": "2022-09-06T17:01:02.193Z"
      },
      {
        "duration": 24,
        "start_time": "2022-09-06T17:01:03.491Z"
      },
      {
        "duration": 459,
        "start_time": "2022-09-06T17:01:03.516Z"
      },
      {
        "duration": 1431,
        "start_time": "2022-09-06T17:01:03.977Z"
      },
      {
        "duration": 335215,
        "start_time": "2022-09-06T17:01:05.409Z"
      },
      {
        "duration": 489084,
        "start_time": "2022-09-06T17:06:40.626Z"
      },
      {
        "duration": 2798,
        "start_time": "2022-09-06T17:14:49.712Z"
      },
      {
        "duration": 528,
        "start_time": "2022-09-06T17:15:40.289Z"
      },
      {
        "duration": 4,
        "start_time": "2022-09-06T17:16:35.216Z"
      },
      {
        "duration": 35,
        "start_time": "2022-09-06T17:16:37.195Z"
      },
      {
        "duration": 7,
        "start_time": "2022-09-06T17:16:42.707Z"
      },
      {
        "duration": 12,
        "start_time": "2022-09-06T17:16:43.347Z"
      },
      {
        "duration": 4,
        "start_time": "2022-09-06T17:16:48.525Z"
      },
      {
        "duration": 4,
        "start_time": "2022-09-06T17:16:48.976Z"
      },
      {
        "duration": 4,
        "start_time": "2022-09-06T17:16:49.455Z"
      },
      {
        "duration": 5,
        "start_time": "2022-09-06T17:16:50.104Z"
      },
      {
        "duration": 4,
        "start_time": "2022-09-06T17:16:52.610Z"
      },
      {
        "duration": 6,
        "start_time": "2022-09-06T17:16:53.314Z"
      },
      {
        "duration": 6,
        "start_time": "2022-09-06T17:16:56.007Z"
      },
      {
        "duration": 9,
        "start_time": "2022-09-06T17:16:59.889Z"
      },
      {
        "duration": 5900,
        "start_time": "2022-09-06T17:17:05.639Z"
      },
      {
        "duration": 133,
        "start_time": "2022-09-06T17:17:29.378Z"
      },
      {
        "duration": 401,
        "start_time": "2022-09-06T17:17:37.056Z"
      },
      {
        "duration": 2762,
        "start_time": "2022-09-06T17:17:41.020Z"
      },
      {
        "duration": 8877,
        "start_time": "2022-09-06T17:17:47.739Z"
      },
      {
        "duration": 4940,
        "start_time": "2022-09-06T17:18:07.690Z"
      },
      {
        "duration": 2941,
        "start_time": "2022-09-06T17:18:46.990Z"
      },
      {
        "duration": 135,
        "start_time": "2022-09-06T17:19:39.370Z"
      },
      {
        "duration": 12,
        "start_time": "2022-09-06T17:20:02.010Z"
      },
      {
        "duration": 24,
        "start_time": "2022-09-06T17:20:32.691Z"
      },
      {
        "duration": 12,
        "start_time": "2022-09-06T17:20:52.674Z"
      },
      {
        "duration": 5,
        "start_time": "2022-09-06T17:20:59.701Z"
      },
      {
        "duration": 580,
        "start_time": "2022-09-06T17:21:00.489Z"
      },
      {
        "duration": 12,
        "start_time": "2022-09-06T17:21:01.129Z"
      },
      {
        "duration": 5,
        "start_time": "2022-09-06T17:21:07.923Z"
      },
      {
        "duration": 29,
        "start_time": "2022-09-06T17:21:08.613Z"
      },
      {
        "duration": 6,
        "start_time": "2022-09-06T17:21:11.669Z"
      },
      {
        "duration": 10,
        "start_time": "2022-09-06T17:21:12.015Z"
      },
      {
        "duration": 5,
        "start_time": "2022-09-06T17:21:12.798Z"
      },
      {
        "duration": 5,
        "start_time": "2022-09-06T17:21:13.003Z"
      },
      {
        "duration": 4,
        "start_time": "2022-09-06T17:21:13.213Z"
      },
      {
        "duration": 6,
        "start_time": "2022-09-06T17:21:13.853Z"
      },
      {
        "duration": 5,
        "start_time": "2022-09-06T17:21:14.027Z"
      },
      {
        "duration": 5,
        "start_time": "2022-09-06T17:21:14.213Z"
      },
      {
        "duration": 7,
        "start_time": "2022-09-06T17:21:17.376Z"
      },
      {
        "duration": 11,
        "start_time": "2022-09-06T17:21:20.167Z"
      },
      {
        "duration": 1987,
        "start_time": "2022-09-06T17:21:23.130Z"
      },
      {
        "duration": 76,
        "start_time": "2022-09-06T17:21:30.438Z"
      },
      {
        "duration": 1649,
        "start_time": "2022-09-06T17:21:43.240Z"
      },
      {
        "duration": 6638,
        "start_time": "2022-09-06T17:21:48.172Z"
      },
      {
        "duration": 10,
        "start_time": "2022-09-06T17:22:01.578Z"
      },
      {
        "duration": 3,
        "start_time": "2022-09-06T17:24:24.448Z"
      },
      {
        "duration": 553,
        "start_time": "2022-09-06T17:24:24.945Z"
      },
      {
        "duration": 9,
        "start_time": "2022-09-06T17:24:25.512Z"
      },
      {
        "duration": 4,
        "start_time": "2022-09-06T17:24:27.596Z"
      },
      {
        "duration": 20,
        "start_time": "2022-09-06T17:24:29.251Z"
      },
      {
        "duration": 7,
        "start_time": "2022-09-06T17:24:31.709Z"
      },
      {
        "duration": 12,
        "start_time": "2022-09-06T17:24:32.238Z"
      },
      {
        "duration": 4,
        "start_time": "2022-09-06T17:24:32.742Z"
      },
      {
        "duration": 4,
        "start_time": "2022-09-06T17:24:32.928Z"
      },
      {
        "duration": 3,
        "start_time": "2022-09-06T17:24:33.115Z"
      },
      {
        "duration": 5,
        "start_time": "2022-09-06T17:24:33.341Z"
      },
      {
        "duration": 5,
        "start_time": "2022-09-06T17:24:33.546Z"
      },
      {
        "duration": 5,
        "start_time": "2022-09-06T17:24:33.757Z"
      },
      {
        "duration": 6,
        "start_time": "2022-09-06T17:24:36.891Z"
      },
      {
        "duration": 9,
        "start_time": "2022-09-06T17:24:38.091Z"
      },
      {
        "duration": 3134,
        "start_time": "2022-09-06T17:24:41.346Z"
      },
      {
        "duration": 70,
        "start_time": "2022-09-06T17:24:46.796Z"
      },
      {
        "duration": 352,
        "start_time": "2022-09-06T17:24:48.214Z"
      },
      {
        "duration": 1630,
        "start_time": "2022-09-06T17:24:53.747Z"
      },
      {
        "duration": 615,
        "start_time": "2022-09-06T17:24:58.597Z"
      },
      {
        "duration": 10,
        "start_time": "2022-09-06T17:25:05.817Z"
      },
      {
        "duration": 3,
        "start_time": "2022-09-06T17:26:27.618Z"
      },
      {
        "duration": 650,
        "start_time": "2022-09-06T17:26:28.482Z"
      },
      {
        "duration": 9,
        "start_time": "2022-09-06T17:26:29.133Z"
      },
      {
        "duration": 4,
        "start_time": "2022-09-06T17:26:34.181Z"
      },
      {
        "duration": 29,
        "start_time": "2022-09-06T17:26:36.077Z"
      },
      {
        "duration": 6,
        "start_time": "2022-09-06T17:26:38.813Z"
      },
      {
        "duration": 12,
        "start_time": "2022-09-06T17:26:39.702Z"
      },
      {
        "duration": 4,
        "start_time": "2022-09-06T17:26:42.354Z"
      },
      {
        "duration": 4,
        "start_time": "2022-09-06T17:26:42.847Z"
      },
      {
        "duration": 4,
        "start_time": "2022-09-06T17:26:43.446Z"
      },
      {
        "duration": 4,
        "start_time": "2022-09-06T17:26:44.036Z"
      },
      {
        "duration": 5,
        "start_time": "2022-09-06T17:26:46.278Z"
      },
      {
        "duration": 4,
        "start_time": "2022-09-06T17:26:46.732Z"
      },
      {
        "duration": 6,
        "start_time": "2022-09-06T17:26:49.093Z"
      },
      {
        "duration": 10,
        "start_time": "2022-09-06T17:26:51.903Z"
      },
      {
        "duration": 4580,
        "start_time": "2022-09-06T17:26:54.538Z"
      },
      {
        "duration": 189,
        "start_time": "2022-09-06T17:27:11.686Z"
      },
      {
        "duration": 363,
        "start_time": "2022-09-06T17:27:17.847Z"
      },
      {
        "duration": 2616,
        "start_time": "2022-09-06T17:27:21.591Z"
      },
      {
        "duration": 657,
        "start_time": "2022-09-06T17:27:27.067Z"
      },
      {
        "duration": 3140,
        "start_time": "2022-09-06T17:27:30.982Z"
      },
      {
        "duration": 13,
        "start_time": "2022-09-06T17:27:37.123Z"
      },
      {
        "duration": 174,
        "start_time": "2022-09-06T17:27:59.777Z"
      },
      {
        "duration": 2599,
        "start_time": "2022-09-06T17:28:20.125Z"
      },
      {
        "duration": 634,
        "start_time": "2022-09-06T17:28:34.778Z"
      },
      {
        "duration": 1675,
        "start_time": "2022-09-07T07:46:06.740Z"
      },
      {
        "duration": 200,
        "start_time": "2022-09-07T07:46:08.418Z"
      },
      {
        "duration": 13,
        "start_time": "2022-09-07T07:46:08.620Z"
      },
      {
        "duration": 13,
        "start_time": "2022-09-07T07:46:08.635Z"
      },
      {
        "duration": 10,
        "start_time": "2022-09-07T07:46:08.649Z"
      },
      {
        "duration": 7,
        "start_time": "2022-09-07T07:46:08.661Z"
      },
      {
        "duration": 389,
        "start_time": "2022-09-07T07:46:08.670Z"
      },
      {
        "duration": 8,
        "start_time": "2022-09-07T07:46:09.062Z"
      },
      {
        "duration": 17,
        "start_time": "2022-09-07T07:46:09.073Z"
      },
      {
        "duration": 928,
        "start_time": "2022-09-07T07:46:09.105Z"
      },
      {
        "duration": 1197,
        "start_time": "2022-09-07T07:46:10.035Z"
      },
      {
        "duration": 4,
        "start_time": "2022-09-07T07:46:11.235Z"
      },
      {
        "duration": 1162,
        "start_time": "2022-09-07T07:46:11.241Z"
      },
      {
        "duration": 16,
        "start_time": "2022-09-07T07:46:12.405Z"
      },
      {
        "duration": 5,
        "start_time": "2022-09-07T07:46:12.423Z"
      },
      {
        "duration": 93,
        "start_time": "2022-09-07T07:46:12.430Z"
      },
      {
        "duration": 8,
        "start_time": "2022-09-07T07:46:12.526Z"
      },
      {
        "duration": 67,
        "start_time": "2022-09-07T07:46:12.537Z"
      },
      {
        "duration": 6,
        "start_time": "2022-09-07T07:46:12.606Z"
      },
      {
        "duration": 12,
        "start_time": "2022-09-07T07:46:12.614Z"
      },
      {
        "duration": 7,
        "start_time": "2022-09-07T07:46:12.628Z"
      },
      {
        "duration": 9,
        "start_time": "2022-09-07T07:46:12.636Z"
      },
      {
        "duration": 10,
        "start_time": "2022-09-07T07:46:12.647Z"
      },
      {
        "duration": 14,
        "start_time": "2022-09-07T07:46:12.659Z"
      },
      {
        "duration": 7,
        "start_time": "2022-09-07T07:46:12.704Z"
      },
      {
        "duration": 13,
        "start_time": "2022-09-07T07:46:12.714Z"
      },
      {
        "duration": 4405,
        "start_time": "2022-09-07T07:46:12.729Z"
      },
      {
        "duration": 216,
        "start_time": "2022-09-07T07:46:17.137Z"
      },
      {
        "duration": 427,
        "start_time": "2022-09-07T07:46:17.355Z"
      },
      {
        "duration": 3176,
        "start_time": "2022-09-07T07:46:17.783Z"
      },
      {
        "duration": 304548,
        "start_time": "2022-09-07T07:46:20.961Z"
      },
      {
        "duration": 1000498,
        "start_time": "2022-09-07T07:51:25.511Z"
      },
      {
        "duration": 1097,
        "start_time": "2022-09-07T08:08:06.010Z"
      },
      {
        "duration": 1803,
        "start_time": "2022-09-07T11:38:12.489Z"
      },
      {
        "duration": 208,
        "start_time": "2022-09-07T11:38:14.294Z"
      },
      {
        "duration": 12,
        "start_time": "2022-09-07T11:38:14.504Z"
      },
      {
        "duration": 12,
        "start_time": "2022-09-07T11:38:14.518Z"
      },
      {
        "duration": 15,
        "start_time": "2022-09-07T11:38:14.532Z"
      },
      {
        "duration": 8,
        "start_time": "2022-09-07T11:38:14.549Z"
      },
      {
        "duration": 367,
        "start_time": "2022-09-07T11:38:14.559Z"
      },
      {
        "duration": 6,
        "start_time": "2022-09-07T11:38:14.928Z"
      },
      {
        "duration": 14,
        "start_time": "2022-09-07T11:38:14.936Z"
      },
      {
        "duration": 920,
        "start_time": "2022-09-07T11:38:14.953Z"
      },
      {
        "duration": 792,
        "start_time": "2022-09-07T11:38:15.875Z"
      },
      {
        "duration": 3,
        "start_time": "2022-09-07T11:38:16.669Z"
      },
      {
        "duration": 620,
        "start_time": "2022-09-07T11:38:16.674Z"
      },
      {
        "duration": 14,
        "start_time": "2022-09-07T11:38:17.298Z"
      },
      {
        "duration": 7,
        "start_time": "2022-09-07T11:38:17.313Z"
      },
      {
        "duration": 51,
        "start_time": "2022-09-07T11:38:17.322Z"
      },
      {
        "duration": 27,
        "start_time": "2022-09-07T11:38:17.376Z"
      },
      {
        "duration": 13,
        "start_time": "2022-09-07T11:38:17.405Z"
      },
      {
        "duration": 6,
        "start_time": "2022-09-07T11:38:17.420Z"
      },
      {
        "duration": 11,
        "start_time": "2022-09-07T11:38:17.428Z"
      },
      {
        "duration": 13,
        "start_time": "2022-09-07T11:38:17.441Z"
      },
      {
        "duration": 13,
        "start_time": "2022-09-07T11:38:17.456Z"
      },
      {
        "duration": 16,
        "start_time": "2022-09-07T11:38:17.471Z"
      },
      {
        "duration": 6,
        "start_time": "2022-09-07T11:38:17.504Z"
      },
      {
        "duration": 16,
        "start_time": "2022-09-07T11:38:17.512Z"
      },
      {
        "duration": 24,
        "start_time": "2022-09-07T11:38:17.531Z"
      },
      {
        "duration": 5156,
        "start_time": "2022-09-07T11:38:17.603Z"
      },
      {
        "duration": 271,
        "start_time": "2022-09-07T11:38:22.761Z"
      },
      {
        "duration": 443,
        "start_time": "2022-09-07T11:38:23.034Z"
      },
      {
        "duration": 4106,
        "start_time": "2022-09-07T11:38:23.479Z"
      },
      {
        "duration": 281118,
        "start_time": "2022-09-07T11:38:27.587Z"
      },
      {
        "duration": 947304,
        "start_time": "2022-09-07T11:43:08.707Z"
      },
      {
        "duration": 200603,
        "start_time": "2022-09-07T11:58:56.013Z"
      },
      {
        "duration": 338,
        "start_time": "2022-09-07T12:02:16.620Z"
      },
      {
        "duration": 4271,
        "start_time": "2022-09-07T12:02:42.984Z"
      },
      {
        "duration": 213,
        "start_time": "2022-09-07T12:02:49.554Z"
      },
      {
        "duration": 215,
        "start_time": "2022-09-07T12:03:02.029Z"
      },
      {
        "duration": 11,
        "start_time": "2022-09-07T12:05:04.916Z"
      },
      {
        "duration": 7,
        "start_time": "2022-09-07T12:05:32.416Z"
      },
      {
        "duration": 129,
        "start_time": "2022-09-07T12:05:51.988Z"
      },
      {
        "duration": 6,
        "start_time": "2022-09-07T12:06:00.825Z"
      },
      {
        "duration": 1526,
        "start_time": "2022-09-07T12:06:39.871Z"
      },
      {
        "duration": 61,
        "start_time": "2022-09-07T12:06:41.400Z"
      },
      {
        "duration": 13,
        "start_time": "2022-09-07T12:06:41.464Z"
      },
      {
        "duration": 10,
        "start_time": "2022-09-07T12:06:41.479Z"
      },
      {
        "duration": 9,
        "start_time": "2022-09-07T12:06:41.491Z"
      },
      {
        "duration": 8,
        "start_time": "2022-09-07T12:06:41.501Z"
      },
      {
        "duration": 259,
        "start_time": "2022-09-07T12:06:41.511Z"
      },
      {
        "duration": 6,
        "start_time": "2022-09-07T12:06:41.772Z"
      },
      {
        "duration": 24,
        "start_time": "2022-09-07T12:06:41.780Z"
      },
      {
        "duration": 935,
        "start_time": "2022-09-07T12:06:41.806Z"
      },
      {
        "duration": 715,
        "start_time": "2022-09-07T12:06:42.743Z"
      },
      {
        "duration": 124,
        "start_time": "2022-09-07T12:06:43.460Z"
      },
      {
        "duration": 0,
        "start_time": "2022-09-07T12:06:43.587Z"
      },
      {
        "duration": 0,
        "start_time": "2022-09-07T12:06:43.588Z"
      },
      {
        "duration": 0,
        "start_time": "2022-09-07T12:06:43.589Z"
      },
      {
        "duration": 0,
        "start_time": "2022-09-07T12:06:43.590Z"
      },
      {
        "duration": 0,
        "start_time": "2022-09-07T12:06:43.591Z"
      },
      {
        "duration": 0,
        "start_time": "2022-09-07T12:06:43.603Z"
      },
      {
        "duration": 0,
        "start_time": "2022-09-07T12:06:43.604Z"
      },
      {
        "duration": 0,
        "start_time": "2022-09-07T12:06:43.605Z"
      },
      {
        "duration": 0,
        "start_time": "2022-09-07T12:06:43.606Z"
      },
      {
        "duration": 0,
        "start_time": "2022-09-07T12:06:43.607Z"
      },
      {
        "duration": 0,
        "start_time": "2022-09-07T12:06:43.608Z"
      },
      {
        "duration": 0,
        "start_time": "2022-09-07T12:06:43.610Z"
      },
      {
        "duration": 0,
        "start_time": "2022-09-07T12:06:43.611Z"
      },
      {
        "duration": 0,
        "start_time": "2022-09-07T12:06:43.612Z"
      },
      {
        "duration": 0,
        "start_time": "2022-09-07T12:06:43.613Z"
      },
      {
        "duration": 0,
        "start_time": "2022-09-07T12:06:43.614Z"
      },
      {
        "duration": 0,
        "start_time": "2022-09-07T12:06:43.615Z"
      },
      {
        "duration": 0,
        "start_time": "2022-09-07T12:06:43.616Z"
      },
      {
        "duration": 0,
        "start_time": "2022-09-07T12:06:43.617Z"
      },
      {
        "duration": 0,
        "start_time": "2022-09-07T12:06:43.618Z"
      },
      {
        "duration": 0,
        "start_time": "2022-09-07T12:06:43.618Z"
      },
      {
        "duration": 3,
        "start_time": "2022-09-07T12:07:15.955Z"
      },
      {
        "duration": 6,
        "start_time": "2022-09-07T12:07:19.003Z"
      },
      {
        "duration": 41,
        "start_time": "2022-09-07T12:07:21.243Z"
      },
      {
        "duration": 8,
        "start_time": "2022-09-07T12:07:21.645Z"
      },
      {
        "duration": 13,
        "start_time": "2022-09-07T12:07:22.571Z"
      },
      {
        "duration": 4,
        "start_time": "2022-09-07T12:07:23.371Z"
      },
      {
        "duration": 4,
        "start_time": "2022-09-07T12:07:24.773Z"
      },
      {
        "duration": 4,
        "start_time": "2022-09-07T12:07:24.948Z"
      },
      {
        "duration": 6,
        "start_time": "2022-09-07T12:07:25.136Z"
      },
      {
        "duration": 5,
        "start_time": "2022-09-07T12:07:25.321Z"
      },
      {
        "duration": 5,
        "start_time": "2022-09-07T12:07:27.022Z"
      },
      {
        "duration": 6,
        "start_time": "2022-09-07T12:07:28.178Z"
      },
      {
        "duration": 13,
        "start_time": "2022-09-07T12:07:31.309Z"
      },
      {
        "duration": 4583,
        "start_time": "2022-09-07T12:07:34.505Z"
      },
      {
        "duration": 388,
        "start_time": "2022-09-07T12:07:53.737Z"
      },
      {
        "duration": 417,
        "start_time": "2022-09-07T12:08:01.410Z"
      },
      {
        "duration": 3387,
        "start_time": "2022-09-07T12:08:10.871Z"
      },
      {
        "duration": 267,
        "start_time": "2022-09-07T12:08:15.628Z"
      },
      {
        "duration": 6,
        "start_time": "2022-09-07T12:08:20.855Z"
      },
      {
        "duration": 39434,
        "start_time": "2022-09-07T12:08:23.878Z"
      },
      {
        "duration": 3556,
        "start_time": "2022-09-07T12:09:06.738Z"
      },
      {
        "duration": 1541,
        "start_time": "2022-09-07T12:51:33.382Z"
      },
      {
        "duration": 50,
        "start_time": "2022-09-07T12:51:34.925Z"
      },
      {
        "duration": 13,
        "start_time": "2022-09-07T12:51:34.976Z"
      },
      {
        "duration": 14,
        "start_time": "2022-09-07T12:51:34.990Z"
      },
      {
        "duration": 11,
        "start_time": "2022-09-07T12:51:35.007Z"
      },
      {
        "duration": 10,
        "start_time": "2022-09-07T12:51:35.020Z"
      },
      {
        "duration": 259,
        "start_time": "2022-09-07T12:51:35.032Z"
      },
      {
        "duration": 10,
        "start_time": "2022-09-07T12:51:35.294Z"
      },
      {
        "duration": 14,
        "start_time": "2022-09-07T12:51:35.305Z"
      },
      {
        "duration": 940,
        "start_time": "2022-09-07T12:51:35.321Z"
      },
      {
        "duration": 801,
        "start_time": "2022-09-07T12:51:36.264Z"
      },
      {
        "duration": 5,
        "start_time": "2022-09-07T12:51:37.067Z"
      },
      {
        "duration": 530,
        "start_time": "2022-09-07T12:51:37.074Z"
      },
      {
        "duration": 11,
        "start_time": "2022-09-07T12:51:37.607Z"
      },
      {
        "duration": 4,
        "start_time": "2022-09-07T12:51:37.620Z"
      },
      {
        "duration": 28,
        "start_time": "2022-09-07T12:51:37.626Z"
      },
      {
        "duration": 8,
        "start_time": "2022-09-07T12:51:37.656Z"
      },
      {
        "duration": 41,
        "start_time": "2022-09-07T12:51:37.665Z"
      },
      {
        "duration": 5,
        "start_time": "2022-09-07T12:51:37.708Z"
      },
      {
        "duration": 8,
        "start_time": "2022-09-07T12:51:37.714Z"
      },
      {
        "duration": 8,
        "start_time": "2022-09-07T12:51:37.724Z"
      },
      {
        "duration": 7,
        "start_time": "2022-09-07T12:51:37.734Z"
      },
      {
        "duration": 10,
        "start_time": "2022-09-07T12:51:37.742Z"
      },
      {
        "duration": 9,
        "start_time": "2022-09-07T12:51:37.753Z"
      },
      {
        "duration": 7,
        "start_time": "2022-09-07T12:51:37.764Z"
      },
      {
        "duration": 37,
        "start_time": "2022-09-07T12:51:37.772Z"
      },
      {
        "duration": 3242,
        "start_time": "2022-09-07T12:51:37.811Z"
      },
      {
        "duration": 169,
        "start_time": "2022-09-07T12:51:41.055Z"
      },
      {
        "duration": 525,
        "start_time": "2022-09-07T12:51:41.226Z"
      },
      {
        "duration": 1973,
        "start_time": "2022-09-07T12:51:41.754Z"
      },
      {
        "duration": 270,
        "start_time": "2022-09-07T12:51:43.729Z"
      },
      {
        "duration": 6,
        "start_time": "2022-09-07T12:51:44.004Z"
      },
      {
        "duration": 216931,
        "start_time": "2022-09-07T12:51:44.012Z"
      },
      {
        "duration": 94774,
        "start_time": "2022-09-07T12:55:20.944Z"
      },
      {
        "duration": 1981,
        "start_time": "2022-09-07T12:56:55.720Z"
      },
      {
        "duration": 18,
        "start_time": "2022-09-07T12:56:57.704Z"
      },
      {
        "duration": 1862,
        "start_time": "2022-09-07T12:57:39.792Z"
      },
      {
        "duration": 198,
        "start_time": "2022-09-07T12:57:43.298Z"
      },
      {
        "duration": 12,
        "start_time": "2022-09-07T12:57:45.451Z"
      },
      {
        "duration": 315,
        "start_time": "2022-09-07T12:58:05.101Z"
      },
      {
        "duration": 261,
        "start_time": "2022-09-07T12:59:27.498Z"
      },
      {
        "duration": 278,
        "start_time": "2022-09-07T12:59:36.194Z"
      },
      {
        "duration": 260,
        "start_time": "2022-09-07T12:59:57.543Z"
      },
      {
        "duration": 1727,
        "start_time": "2022-09-07T13:01:21.014Z"
      },
      {
        "duration": 50,
        "start_time": "2022-09-07T13:01:22.743Z"
      },
      {
        "duration": 12,
        "start_time": "2022-09-07T13:01:22.795Z"
      },
      {
        "duration": 10,
        "start_time": "2022-09-07T13:01:22.809Z"
      },
      {
        "duration": 10,
        "start_time": "2022-09-07T13:01:22.821Z"
      },
      {
        "duration": 6,
        "start_time": "2022-09-07T13:01:22.833Z"
      },
      {
        "duration": 275,
        "start_time": "2022-09-07T13:01:22.841Z"
      },
      {
        "duration": 7,
        "start_time": "2022-09-07T13:01:23.117Z"
      },
      {
        "duration": 12,
        "start_time": "2022-09-07T13:01:23.125Z"
      },
      {
        "duration": 938,
        "start_time": "2022-09-07T13:01:23.139Z"
      },
      {
        "duration": 839,
        "start_time": "2022-09-07T13:01:24.079Z"
      },
      {
        "duration": 4,
        "start_time": "2022-09-07T13:01:24.920Z"
      },
      {
        "duration": 559,
        "start_time": "2022-09-07T13:01:24.926Z"
      },
      {
        "duration": 21,
        "start_time": "2022-09-07T13:01:25.488Z"
      },
      {
        "duration": 8,
        "start_time": "2022-09-07T13:01:25.511Z"
      },
      {
        "duration": 57,
        "start_time": "2022-09-07T13:01:25.521Z"
      },
      {
        "duration": 7,
        "start_time": "2022-09-07T13:01:25.580Z"
      },
      {
        "duration": 22,
        "start_time": "2022-09-07T13:01:25.588Z"
      },
      {
        "duration": 13,
        "start_time": "2022-09-07T13:01:25.612Z"
      },
      {
        "duration": 27,
        "start_time": "2022-09-07T13:01:25.626Z"
      },
      {
        "duration": 13,
        "start_time": "2022-09-07T13:01:25.655Z"
      },
      {
        "duration": 7,
        "start_time": "2022-09-07T13:01:25.670Z"
      },
      {
        "duration": 6,
        "start_time": "2022-09-07T13:01:25.679Z"
      },
      {
        "duration": 8,
        "start_time": "2022-09-07T13:01:25.687Z"
      },
      {
        "duration": 13,
        "start_time": "2022-09-07T13:01:25.697Z"
      },
      {
        "duration": 12,
        "start_time": "2022-09-07T13:01:25.712Z"
      },
      {
        "duration": 3512,
        "start_time": "2022-09-07T13:01:25.726Z"
      },
      {
        "duration": 228,
        "start_time": "2022-09-07T13:01:29.240Z"
      },
      {
        "duration": 509,
        "start_time": "2022-09-07T13:01:29.470Z"
      },
      {
        "duration": 2573,
        "start_time": "2022-09-07T13:01:29.981Z"
      },
      {
        "duration": 346,
        "start_time": "2022-09-07T13:01:32.556Z"
      },
      {
        "duration": 10,
        "start_time": "2022-09-07T13:01:32.905Z"
      },
      {
        "duration": 89191,
        "start_time": "2022-09-07T13:01:32.917Z"
      },
      {
        "duration": 3014,
        "start_time": "2022-09-07T13:03:02.109Z"
      },
      {
        "duration": 1150,
        "start_time": "2022-09-07T13:03:05.127Z"
      },
      {
        "duration": 636,
        "start_time": "2022-09-07T13:03:06.279Z"
      },
      {
        "duration": 129,
        "start_time": "2022-09-07T13:03:46.942Z"
      },
      {
        "duration": 2874,
        "start_time": "2022-09-07T13:03:59.632Z"
      },
      {
        "duration": 315,
        "start_time": "2022-09-07T13:04:04.314Z"
      },
      {
        "duration": 371,
        "start_time": "2022-09-07T13:04:15.907Z"
      },
      {
        "duration": 83,
        "start_time": "2022-09-07T13:17:27.602Z"
      },
      {
        "duration": 5,
        "start_time": "2022-09-07T13:19:11.291Z"
      },
      {
        "duration": 13,
        "start_time": "2022-09-07T13:19:22.009Z"
      },
      {
        "duration": 17,
        "start_time": "2022-09-07T13:20:40.611Z"
      },
      {
        "duration": 28,
        "start_time": "2022-09-07T13:20:55.480Z"
      },
      {
        "duration": 5,
        "start_time": "2022-09-07T13:22:24.598Z"
      },
      {
        "duration": 11,
        "start_time": "2022-09-07T13:22:57.885Z"
      },
      {
        "duration": 1471,
        "start_time": "2022-09-07T13:23:27.824Z"
      },
      {
        "duration": 12,
        "start_time": "2022-09-07T13:24:39.514Z"
      },
      {
        "duration": 1751,
        "start_time": "2022-09-08T10:11:45.188Z"
      },
      {
        "duration": 121,
        "start_time": "2022-09-08T10:11:46.941Z"
      },
      {
        "duration": 12,
        "start_time": "2022-09-08T10:11:47.063Z"
      },
      {
        "duration": 11,
        "start_time": "2022-09-08T10:11:47.077Z"
      },
      {
        "duration": 14,
        "start_time": "2022-09-08T10:11:47.090Z"
      },
      {
        "duration": 12,
        "start_time": "2022-09-08T10:11:47.106Z"
      },
      {
        "duration": 321,
        "start_time": "2022-09-08T10:11:47.120Z"
      },
      {
        "duration": 6,
        "start_time": "2022-09-08T10:11:47.443Z"
      },
      {
        "duration": 10,
        "start_time": "2022-09-08T10:11:47.451Z"
      },
      {
        "duration": 971,
        "start_time": "2022-09-08T10:11:47.464Z"
      },
      {
        "duration": 845,
        "start_time": "2022-09-08T10:11:48.438Z"
      },
      {
        "duration": 4,
        "start_time": "2022-09-08T10:11:49.285Z"
      },
      {
        "duration": 638,
        "start_time": "2022-09-08T10:11:49.291Z"
      },
      {
        "duration": 11,
        "start_time": "2022-09-08T10:11:49.931Z"
      },
      {
        "duration": 17,
        "start_time": "2022-09-08T10:11:49.944Z"
      },
      {
        "duration": 33,
        "start_time": "2022-09-08T10:11:49.963Z"
      },
      {
        "duration": 6,
        "start_time": "2022-09-08T10:11:49.998Z"
      },
      {
        "duration": 11,
        "start_time": "2022-09-08T10:11:50.021Z"
      },
      {
        "duration": 8,
        "start_time": "2022-09-08T10:11:50.034Z"
      },
      {
        "duration": 17,
        "start_time": "2022-09-08T10:11:50.043Z"
      },
      {
        "duration": 14,
        "start_time": "2022-09-08T10:11:50.062Z"
      },
      {
        "duration": 16,
        "start_time": "2022-09-08T10:11:50.078Z"
      },
      {
        "duration": 10,
        "start_time": "2022-09-08T10:11:50.095Z"
      },
      {
        "duration": 7,
        "start_time": "2022-09-08T10:11:50.107Z"
      },
      {
        "duration": 6,
        "start_time": "2022-09-08T10:11:50.121Z"
      },
      {
        "duration": 16,
        "start_time": "2022-09-08T10:11:50.129Z"
      },
      {
        "duration": 3503,
        "start_time": "2022-09-08T10:11:50.147Z"
      },
      {
        "duration": 224,
        "start_time": "2022-09-08T10:11:53.654Z"
      },
      {
        "duration": 398,
        "start_time": "2022-09-08T10:11:53.880Z"
      },
      {
        "duration": 143,
        "start_time": "2022-09-08T10:11:54.280Z"
      },
      {
        "duration": 102,
        "start_time": "2022-09-08T10:11:54.425Z"
      },
      {
        "duration": 93,
        "start_time": "2022-09-08T10:11:54.528Z"
      },
      {
        "duration": 1513,
        "start_time": "2022-09-08T10:11:54.623Z"
      },
      {
        "duration": 11,
        "start_time": "2022-09-08T10:11:56.138Z"
      },
      {
        "duration": 2669,
        "start_time": "2022-09-08T10:11:56.150Z"
      },
      {
        "duration": 464,
        "start_time": "2022-09-08T10:11:58.821Z"
      },
      {
        "duration": 79245,
        "start_time": "2022-09-08T10:11:59.287Z"
      },
      {
        "duration": 2556,
        "start_time": "2022-09-08T10:13:18.533Z"
      },
      {
        "duration": 217,
        "start_time": "2022-09-08T10:13:39.598Z"
      },
      {
        "duration": 1506,
        "start_time": "2022-09-08T10:17:32.308Z"
      },
      {
        "duration": 49,
        "start_time": "2022-09-08T10:17:33.817Z"
      },
      {
        "duration": 12,
        "start_time": "2022-09-08T10:17:33.868Z"
      },
      {
        "duration": 10,
        "start_time": "2022-09-08T10:17:33.881Z"
      },
      {
        "duration": 10,
        "start_time": "2022-09-08T10:17:33.893Z"
      },
      {
        "duration": 7,
        "start_time": "2022-09-08T10:17:33.904Z"
      },
      {
        "duration": 243,
        "start_time": "2022-09-08T10:17:33.913Z"
      },
      {
        "duration": 6,
        "start_time": "2022-09-08T10:17:34.158Z"
      },
      {
        "duration": 10,
        "start_time": "2022-09-08T10:17:34.165Z"
      },
      {
        "duration": 906,
        "start_time": "2022-09-08T10:17:34.177Z"
      },
      {
        "duration": 798,
        "start_time": "2022-09-08T10:17:35.085Z"
      },
      {
        "duration": 4,
        "start_time": "2022-09-08T10:17:35.884Z"
      },
      {
        "duration": 545,
        "start_time": "2022-09-08T10:17:35.890Z"
      },
      {
        "duration": 11,
        "start_time": "2022-09-08T10:17:36.438Z"
      },
      {
        "duration": 9,
        "start_time": "2022-09-08T10:17:36.450Z"
      },
      {
        "duration": 37,
        "start_time": "2022-09-08T10:17:36.461Z"
      },
      {
        "duration": 25,
        "start_time": "2022-09-08T10:17:36.499Z"
      },
      {
        "duration": 19,
        "start_time": "2022-09-08T10:17:36.526Z"
      },
      {
        "duration": 5,
        "start_time": "2022-09-08T10:17:36.546Z"
      },
      {
        "duration": 20,
        "start_time": "2022-09-08T10:17:36.552Z"
      },
      {
        "duration": 8,
        "start_time": "2022-09-08T10:17:36.573Z"
      },
      {
        "duration": 9,
        "start_time": "2022-09-08T10:17:36.583Z"
      },
      {
        "duration": 7,
        "start_time": "2022-09-08T10:17:36.594Z"
      },
      {
        "duration": 6,
        "start_time": "2022-09-08T10:17:36.602Z"
      },
      {
        "duration": 6,
        "start_time": "2022-09-08T10:17:36.621Z"
      },
      {
        "duration": 20,
        "start_time": "2022-09-08T10:17:36.629Z"
      },
      {
        "duration": 8578,
        "start_time": "2022-09-08T10:17:36.651Z"
      },
      {
        "duration": 305,
        "start_time": "2022-09-08T10:17:45.230Z"
      },
      {
        "duration": 492,
        "start_time": "2022-09-08T10:17:45.537Z"
      },
      {
        "duration": 93,
        "start_time": "2022-09-08T10:17:46.031Z"
      },
      {
        "duration": 99,
        "start_time": "2022-09-08T10:17:46.128Z"
      },
      {
        "duration": 299,
        "start_time": "2022-09-08T10:17:46.228Z"
      },
      {
        "duration": 1912,
        "start_time": "2022-09-08T10:17:46.529Z"
      },
      {
        "duration": 13,
        "start_time": "2022-09-08T10:17:48.443Z"
      },
      {
        "duration": 3045,
        "start_time": "2022-09-08T10:17:48.457Z"
      },
      {
        "duration": 401,
        "start_time": "2022-09-08T10:17:51.504Z"
      },
      {
        "duration": 11222,
        "start_time": "2022-09-08T10:17:51.906Z"
      },
      {
        "duration": 353,
        "start_time": "2022-09-08T10:18:03.130Z"
      },
      {
        "duration": 2910,
        "start_time": "2022-09-08T10:18:34.085Z"
      },
      {
        "duration": 80391,
        "start_time": "2022-09-08T10:20:17.935Z"
      },
      {
        "duration": 145,
        "start_time": "2022-09-08T10:23:01.078Z"
      },
      {
        "duration": 331,
        "start_time": "2022-09-08T10:23:18.991Z"
      },
      {
        "duration": 126,
        "start_time": "2022-09-08T10:24:20.788Z"
      },
      {
        "duration": 151722,
        "start_time": "2022-09-08T10:25:02.122Z"
      },
      {
        "duration": 3240,
        "start_time": "2022-09-08T10:28:50.026Z"
      },
      {
        "duration": 5,
        "start_time": "2022-09-08T10:29:20.453Z"
      },
      {
        "duration": 48,
        "start_time": "2022-09-08T10:34:55.355Z"
      },
      {
        "duration": 0,
        "start_time": "2022-09-08T10:37:44.736Z"
      },
      {
        "duration": 10,
        "start_time": "2022-09-08T10:38:39.203Z"
      },
      {
        "duration": 10,
        "start_time": "2022-09-08T10:38:46.476Z"
      },
      {
        "duration": 10,
        "start_time": "2022-09-08T10:38:57.737Z"
      },
      {
        "duration": 67,
        "start_time": "2022-09-08T10:41:17.833Z"
      },
      {
        "duration": 12,
        "start_time": "2022-09-08T10:43:45.983Z"
      },
      {
        "duration": 173205,
        "start_time": "2022-09-08T10:43:48.749Z"
      },
      {
        "duration": 4,
        "start_time": "2022-09-08T10:49:57.736Z"
      },
      {
        "duration": 140,
        "start_time": "2022-09-08T10:51:01.779Z"
      },
      {
        "duration": 3653,
        "start_time": "2022-09-08T10:51:41.740Z"
      },
      {
        "duration": 3752,
        "start_time": "2022-09-08T10:52:06.334Z"
      },
      {
        "duration": 6,
        "start_time": "2022-09-08T10:56:51.359Z"
      },
      {
        "duration": 1336,
        "start_time": "2022-09-08T10:59:04.859Z"
      },
      {
        "duration": 0,
        "start_time": "2022-09-08T10:59:06.199Z"
      },
      {
        "duration": 0,
        "start_time": "2022-09-08T10:59:06.201Z"
      },
      {
        "duration": 0,
        "start_time": "2022-09-08T10:59:06.202Z"
      },
      {
        "duration": 0,
        "start_time": "2022-09-08T10:59:06.203Z"
      },
      {
        "duration": 0,
        "start_time": "2022-09-08T10:59:06.205Z"
      },
      {
        "duration": 0,
        "start_time": "2022-09-08T10:59:06.207Z"
      },
      {
        "duration": 0,
        "start_time": "2022-09-08T10:59:06.208Z"
      },
      {
        "duration": 0,
        "start_time": "2022-09-08T10:59:06.209Z"
      },
      {
        "duration": 0,
        "start_time": "2022-09-08T10:59:06.221Z"
      },
      {
        "duration": 0,
        "start_time": "2022-09-08T10:59:06.223Z"
      },
      {
        "duration": 0,
        "start_time": "2022-09-08T10:59:06.224Z"
      },
      {
        "duration": 0,
        "start_time": "2022-09-08T10:59:06.225Z"
      },
      {
        "duration": 0,
        "start_time": "2022-09-08T10:59:06.227Z"
      },
      {
        "duration": 0,
        "start_time": "2022-09-08T10:59:06.229Z"
      },
      {
        "duration": 1,
        "start_time": "2022-09-08T10:59:06.230Z"
      },
      {
        "duration": 0,
        "start_time": "2022-09-08T10:59:06.232Z"
      },
      {
        "duration": 0,
        "start_time": "2022-09-08T10:59:06.234Z"
      },
      {
        "duration": 0,
        "start_time": "2022-09-08T10:59:06.236Z"
      },
      {
        "duration": 0,
        "start_time": "2022-09-08T10:59:06.237Z"
      },
      {
        "duration": 0,
        "start_time": "2022-09-08T10:59:06.239Z"
      },
      {
        "duration": 0,
        "start_time": "2022-09-08T10:59:06.241Z"
      },
      {
        "duration": 0,
        "start_time": "2022-09-08T10:59:06.242Z"
      },
      {
        "duration": 0,
        "start_time": "2022-09-08T10:59:06.243Z"
      },
      {
        "duration": 0,
        "start_time": "2022-09-08T10:59:06.244Z"
      },
      {
        "duration": 0,
        "start_time": "2022-09-08T10:59:06.245Z"
      },
      {
        "duration": 0,
        "start_time": "2022-09-08T10:59:06.246Z"
      },
      {
        "duration": 0,
        "start_time": "2022-09-08T10:59:06.247Z"
      },
      {
        "duration": 0,
        "start_time": "2022-09-08T10:59:06.248Z"
      },
      {
        "duration": 1,
        "start_time": "2022-09-08T10:59:06.249Z"
      },
      {
        "duration": 0,
        "start_time": "2022-09-08T10:59:06.251Z"
      },
      {
        "duration": 0,
        "start_time": "2022-09-08T10:59:06.252Z"
      },
      {
        "duration": 0,
        "start_time": "2022-09-08T10:59:06.253Z"
      },
      {
        "duration": 0,
        "start_time": "2022-09-08T10:59:06.254Z"
      },
      {
        "duration": 0,
        "start_time": "2022-09-08T10:59:06.255Z"
      },
      {
        "duration": 0,
        "start_time": "2022-09-08T10:59:06.257Z"
      },
      {
        "duration": 0,
        "start_time": "2022-09-08T10:59:06.321Z"
      },
      {
        "duration": 0,
        "start_time": "2022-09-08T10:59:06.322Z"
      },
      {
        "duration": 0,
        "start_time": "2022-09-08T10:59:06.323Z"
      },
      {
        "duration": 0,
        "start_time": "2022-09-08T10:59:06.325Z"
      },
      {
        "duration": 0,
        "start_time": "2022-09-08T10:59:06.326Z"
      },
      {
        "duration": 0,
        "start_time": "2022-09-08T10:59:06.327Z"
      },
      {
        "duration": 302,
        "start_time": "2022-09-08T10:59:35.000Z"
      },
      {
        "duration": 1466,
        "start_time": "2022-09-08T10:59:40.538Z"
      },
      {
        "duration": 51,
        "start_time": "2022-09-08T10:59:42.006Z"
      },
      {
        "duration": 13,
        "start_time": "2022-09-08T10:59:42.059Z"
      },
      {
        "duration": 26,
        "start_time": "2022-09-08T10:59:42.074Z"
      },
      {
        "duration": 22,
        "start_time": "2022-09-08T10:59:42.102Z"
      },
      {
        "duration": 16,
        "start_time": "2022-09-08T10:59:42.126Z"
      },
      {
        "duration": 253,
        "start_time": "2022-09-08T10:59:42.144Z"
      },
      {
        "duration": 6,
        "start_time": "2022-09-08T10:59:42.399Z"
      },
      {
        "duration": 10,
        "start_time": "2022-09-08T10:59:42.420Z"
      },
      {
        "duration": 971,
        "start_time": "2022-09-08T10:59:42.432Z"
      },
      {
        "duration": 798,
        "start_time": "2022-09-08T10:59:43.405Z"
      },
      {
        "duration": 5,
        "start_time": "2022-09-08T10:59:44.205Z"
      },
      {
        "duration": 511,
        "start_time": "2022-09-08T10:59:44.220Z"
      },
      {
        "duration": 10,
        "start_time": "2022-09-08T10:59:44.733Z"
      },
      {
        "duration": 10,
        "start_time": "2022-09-08T10:59:44.745Z"
      },
      {
        "duration": 36,
        "start_time": "2022-09-08T10:59:44.756Z"
      },
      {
        "duration": 26,
        "start_time": "2022-09-08T10:59:44.794Z"
      },
      {
        "duration": 12,
        "start_time": "2022-09-08T10:59:44.822Z"
      },
      {
        "duration": 8,
        "start_time": "2022-09-08T10:59:44.836Z"
      },
      {
        "duration": 17,
        "start_time": "2022-09-08T10:59:44.845Z"
      },
      {
        "duration": 7,
        "start_time": "2022-09-08T10:59:44.864Z"
      },
      {
        "duration": 10,
        "start_time": "2022-09-08T10:59:44.872Z"
      },
      {
        "duration": 9,
        "start_time": "2022-09-08T10:59:44.884Z"
      },
      {
        "duration": 27,
        "start_time": "2022-09-08T10:59:44.895Z"
      },
      {
        "duration": 144,
        "start_time": "2022-09-08T10:59:44.925Z"
      },
      {
        "duration": 0,
        "start_time": "2022-09-08T10:59:45.072Z"
      },
      {
        "duration": 0,
        "start_time": "2022-09-08T10:59:45.073Z"
      },
      {
        "duration": 1,
        "start_time": "2022-09-08T10:59:45.074Z"
      },
      {
        "duration": 0,
        "start_time": "2022-09-08T10:59:45.076Z"
      },
      {
        "duration": 0,
        "start_time": "2022-09-08T10:59:45.077Z"
      },
      {
        "duration": 0,
        "start_time": "2022-09-08T10:59:45.079Z"
      },
      {
        "duration": 0,
        "start_time": "2022-09-08T10:59:45.080Z"
      },
      {
        "duration": 0,
        "start_time": "2022-09-08T10:59:45.081Z"
      },
      {
        "duration": 0,
        "start_time": "2022-09-08T10:59:45.082Z"
      },
      {
        "duration": 0,
        "start_time": "2022-09-08T10:59:45.084Z"
      },
      {
        "duration": 0,
        "start_time": "2022-09-08T10:59:45.085Z"
      },
      {
        "duration": 0,
        "start_time": "2022-09-08T10:59:45.086Z"
      },
      {
        "duration": 0,
        "start_time": "2022-09-08T10:59:45.087Z"
      },
      {
        "duration": 0,
        "start_time": "2022-09-08T10:59:45.089Z"
      },
      {
        "duration": 0,
        "start_time": "2022-09-08T10:59:45.090Z"
      },
      {
        "duration": 0,
        "start_time": "2022-09-08T10:59:45.091Z"
      },
      {
        "duration": 0,
        "start_time": "2022-09-08T10:59:45.092Z"
      },
      {
        "duration": 1581,
        "start_time": "2022-09-08T11:00:51.032Z"
      },
      {
        "duration": 57,
        "start_time": "2022-09-08T11:00:52.615Z"
      },
      {
        "duration": 13,
        "start_time": "2022-09-08T11:00:52.674Z"
      },
      {
        "duration": 13,
        "start_time": "2022-09-08T11:00:52.690Z"
      },
      {
        "duration": 13,
        "start_time": "2022-09-08T11:00:52.705Z"
      },
      {
        "duration": 8,
        "start_time": "2022-09-08T11:00:52.721Z"
      },
      {
        "duration": 305,
        "start_time": "2022-09-08T11:00:52.731Z"
      },
      {
        "duration": 6,
        "start_time": "2022-09-08T11:00:53.038Z"
      },
      {
        "duration": 13,
        "start_time": "2022-09-08T11:00:53.047Z"
      },
      {
        "duration": 1758,
        "start_time": "2022-09-08T11:00:53.063Z"
      },
      {
        "duration": 968,
        "start_time": "2022-09-08T11:00:54.824Z"
      },
      {
        "duration": 3,
        "start_time": "2022-09-08T11:00:55.794Z"
      },
      {
        "duration": 541,
        "start_time": "2022-09-08T11:00:55.799Z"
      },
      {
        "duration": 14,
        "start_time": "2022-09-08T11:00:56.342Z"
      },
      {
        "duration": 14,
        "start_time": "2022-09-08T11:00:56.358Z"
      },
      {
        "duration": 51,
        "start_time": "2022-09-08T11:00:56.374Z"
      },
      {
        "duration": 9,
        "start_time": "2022-09-08T11:00:56.427Z"
      },
      {
        "duration": 20,
        "start_time": "2022-09-08T11:00:56.438Z"
      },
      {
        "duration": 5,
        "start_time": "2022-09-08T11:00:56.460Z"
      },
      {
        "duration": 11,
        "start_time": "2022-09-08T11:00:56.468Z"
      },
      {
        "duration": 14,
        "start_time": "2022-09-08T11:00:56.482Z"
      },
      {
        "duration": 24,
        "start_time": "2022-09-08T11:00:56.498Z"
      },
      {
        "duration": 13,
        "start_time": "2022-09-08T11:00:56.524Z"
      },
      {
        "duration": 9,
        "start_time": "2022-09-08T11:00:56.539Z"
      },
      {
        "duration": 20,
        "start_time": "2022-09-08T11:00:56.550Z"
      },
      {
        "duration": 6,
        "start_time": "2022-09-08T11:00:56.573Z"
      },
      {
        "duration": 16,
        "start_time": "2022-09-08T11:00:56.581Z"
      },
      {
        "duration": 6071,
        "start_time": "2022-09-08T11:00:56.624Z"
      },
      {
        "duration": 323,
        "start_time": "2022-09-08T11:01:02.697Z"
      },
      {
        "duration": 136,
        "start_time": "2022-09-08T11:01:03.022Z"
      },
      {
        "duration": 0,
        "start_time": "2022-09-08T11:01:03.160Z"
      },
      {
        "duration": 0,
        "start_time": "2022-09-08T11:01:03.162Z"
      },
      {
        "duration": 0,
        "start_time": "2022-09-08T11:01:03.163Z"
      },
      {
        "duration": 0,
        "start_time": "2022-09-08T11:01:03.165Z"
      },
      {
        "duration": 0,
        "start_time": "2022-09-08T11:01:03.166Z"
      },
      {
        "duration": 0,
        "start_time": "2022-09-08T11:01:03.167Z"
      },
      {
        "duration": 0,
        "start_time": "2022-09-08T11:01:03.168Z"
      },
      {
        "duration": 0,
        "start_time": "2022-09-08T11:01:03.170Z"
      },
      {
        "duration": 0,
        "start_time": "2022-09-08T11:01:03.171Z"
      },
      {
        "duration": 0,
        "start_time": "2022-09-08T11:01:03.173Z"
      },
      {
        "duration": 0,
        "start_time": "2022-09-08T11:01:03.174Z"
      },
      {
        "duration": 0,
        "start_time": "2022-09-08T11:01:03.175Z"
      },
      {
        "duration": 17,
        "start_time": "2022-09-08T11:01:41.815Z"
      },
      {
        "duration": 8,
        "start_time": "2022-09-08T11:01:43.055Z"
      },
      {
        "duration": 11,
        "start_time": "2022-09-08T11:01:45.478Z"
      },
      {
        "duration": 1587,
        "start_time": "2022-09-08T11:01:47.970Z"
      },
      {
        "duration": 11,
        "start_time": "2022-09-08T11:01:54.935Z"
      },
      {
        "duration": 164435,
        "start_time": "2022-09-08T11:01:59.339Z"
      },
      {
        "duration": 4,
        "start_time": "2022-09-08T11:04:47.895Z"
      },
      {
        "duration": 3700,
        "start_time": "2022-09-08T11:04:53.648Z"
      },
      {
        "duration": 560025,
        "start_time": "2022-09-08T11:05:00.695Z"
      },
      {
        "duration": 3523,
        "start_time": "2022-09-08T11:14:25.744Z"
      },
      {
        "duration": 1321,
        "start_time": "2022-09-08T11:49:51.560Z"
      },
      {
        "duration": 0,
        "start_time": "2022-09-08T11:49:52.884Z"
      },
      {
        "duration": 0,
        "start_time": "2022-09-08T11:49:52.885Z"
      },
      {
        "duration": 0,
        "start_time": "2022-09-08T11:49:52.886Z"
      },
      {
        "duration": 0,
        "start_time": "2022-09-08T11:49:52.888Z"
      },
      {
        "duration": 0,
        "start_time": "2022-09-08T11:49:52.889Z"
      },
      {
        "duration": 0,
        "start_time": "2022-09-08T11:49:52.890Z"
      },
      {
        "duration": 0,
        "start_time": "2022-09-08T11:49:52.891Z"
      },
      {
        "duration": 0,
        "start_time": "2022-09-08T11:49:52.892Z"
      },
      {
        "duration": 0,
        "start_time": "2022-09-08T11:49:52.893Z"
      },
      {
        "duration": 0,
        "start_time": "2022-09-08T11:49:52.894Z"
      },
      {
        "duration": 0,
        "start_time": "2022-09-08T11:49:52.895Z"
      },
      {
        "duration": 0,
        "start_time": "2022-09-08T11:49:52.896Z"
      },
      {
        "duration": 0,
        "start_time": "2022-09-08T11:49:52.897Z"
      },
      {
        "duration": 0,
        "start_time": "2022-09-08T11:49:52.920Z"
      },
      {
        "duration": 0,
        "start_time": "2022-09-08T11:49:52.921Z"
      },
      {
        "duration": 0,
        "start_time": "2022-09-08T11:49:52.922Z"
      },
      {
        "duration": 0,
        "start_time": "2022-09-08T11:49:52.923Z"
      },
      {
        "duration": 0,
        "start_time": "2022-09-08T11:49:52.924Z"
      },
      {
        "duration": 0,
        "start_time": "2022-09-08T11:49:52.925Z"
      },
      {
        "duration": 0,
        "start_time": "2022-09-08T11:49:52.926Z"
      },
      {
        "duration": 0,
        "start_time": "2022-09-08T11:49:52.927Z"
      },
      {
        "duration": 0,
        "start_time": "2022-09-08T11:49:52.928Z"
      },
      {
        "duration": 0,
        "start_time": "2022-09-08T11:49:52.929Z"
      },
      {
        "duration": 0,
        "start_time": "2022-09-08T11:49:52.930Z"
      },
      {
        "duration": 0,
        "start_time": "2022-09-08T11:49:52.932Z"
      },
      {
        "duration": 0,
        "start_time": "2022-09-08T11:49:52.933Z"
      },
      {
        "duration": 0,
        "start_time": "2022-09-08T11:49:52.934Z"
      },
      {
        "duration": 0,
        "start_time": "2022-09-08T11:49:52.935Z"
      },
      {
        "duration": 0,
        "start_time": "2022-09-08T11:49:52.936Z"
      },
      {
        "duration": 0,
        "start_time": "2022-09-08T11:49:52.938Z"
      },
      {
        "duration": 0,
        "start_time": "2022-09-08T11:49:52.939Z"
      },
      {
        "duration": 0,
        "start_time": "2022-09-08T11:49:52.940Z"
      },
      {
        "duration": 0,
        "start_time": "2022-09-08T11:49:52.941Z"
      },
      {
        "duration": 0,
        "start_time": "2022-09-08T11:49:52.942Z"
      },
      {
        "duration": 0,
        "start_time": "2022-09-08T11:49:52.943Z"
      },
      {
        "duration": 0,
        "start_time": "2022-09-08T11:49:52.945Z"
      },
      {
        "duration": 0,
        "start_time": "2022-09-08T11:49:52.946Z"
      },
      {
        "duration": 0,
        "start_time": "2022-09-08T11:49:52.947Z"
      },
      {
        "duration": 0,
        "start_time": "2022-09-08T11:49:52.948Z"
      },
      {
        "duration": 0,
        "start_time": "2022-09-08T11:49:52.951Z"
      },
      {
        "duration": 319,
        "start_time": "2022-09-08T11:50:11.627Z"
      },
      {
        "duration": 50,
        "start_time": "2022-09-08T11:50:13.424Z"
      },
      {
        "duration": 11,
        "start_time": "2022-09-08T11:50:13.631Z"
      },
      {
        "duration": 12,
        "start_time": "2022-09-08T11:50:13.810Z"
      },
      {
        "duration": 9,
        "start_time": "2022-09-08T11:50:15.894Z"
      },
      {
        "duration": 7,
        "start_time": "2022-09-08T11:50:16.084Z"
      },
      {
        "duration": 246,
        "start_time": "2022-09-08T11:50:16.244Z"
      },
      {
        "duration": 6,
        "start_time": "2022-09-08T11:50:18.683Z"
      },
      {
        "duration": 7,
        "start_time": "2022-09-08T11:50:22.241Z"
      },
      {
        "duration": 984,
        "start_time": "2022-09-08T11:50:23.031Z"
      },
      {
        "duration": 773,
        "start_time": "2022-09-08T11:50:37.607Z"
      },
      {
        "duration": 799,
        "start_time": "2022-09-08T11:50:55.563Z"
      },
      {
        "duration": 865,
        "start_time": "2022-09-08T11:51:03.835Z"
      },
      {
        "duration": 4,
        "start_time": "2022-09-08T11:51:10.185Z"
      },
      {
        "duration": 505,
        "start_time": "2022-09-08T11:51:10.749Z"
      },
      {
        "duration": 12,
        "start_time": "2022-09-08T11:51:17.884Z"
      },
      {
        "duration": 3,
        "start_time": "2022-09-08T11:51:21.300Z"
      },
      {
        "duration": 4,
        "start_time": "2022-09-08T11:51:43.764Z"
      },
      {
        "duration": 29,
        "start_time": "2022-09-08T11:51:45.151Z"
      },
      {
        "duration": 17,
        "start_time": "2022-09-08T11:51:53.060Z"
      },
      {
        "duration": 7,
        "start_time": "2022-09-08T11:51:55.559Z"
      },
      {
        "duration": 12,
        "start_time": "2022-09-08T11:51:56.052Z"
      },
      {
        "duration": 6,
        "start_time": "2022-09-08T11:51:58.201Z"
      },
      {
        "duration": 6,
        "start_time": "2022-09-08T11:51:58.468Z"
      },
      {
        "duration": 4,
        "start_time": "2022-09-08T11:51:58.977Z"
      },
      {
        "duration": 6,
        "start_time": "2022-09-08T11:51:59.624Z"
      },
      {
        "duration": 6,
        "start_time": "2022-09-08T11:52:01.159Z"
      },
      {
        "duration": 6,
        "start_time": "2022-09-08T11:52:01.328Z"
      },
      {
        "duration": 6,
        "start_time": "2022-09-08T11:52:04.497Z"
      },
      {
        "duration": 11,
        "start_time": "2022-09-08T11:52:07.788Z"
      },
      {
        "duration": 1401,
        "start_time": "2022-09-08T11:52:09.170Z"
      },
      {
        "duration": 49,
        "start_time": "2022-09-08T11:52:16.310Z"
      },
      {
        "duration": 337,
        "start_time": "2022-09-08T11:52:18.185Z"
      },
      {
        "duration": 60,
        "start_time": "2022-09-08T11:52:21.165Z"
      },
      {
        "duration": 10,
        "start_time": "2022-09-08T11:52:22.165Z"
      },
      {
        "duration": 11,
        "start_time": "2022-09-08T11:52:25.976Z"
      },
      {
        "duration": 537,
        "start_time": "2022-09-08T11:52:27.110Z"
      },
      {
        "duration": 10,
        "start_time": "2022-09-08T11:52:30.146Z"
      },
      {
        "duration": 14963,
        "start_time": "2022-09-08T11:52:32.825Z"
      },
      {
        "duration": 4,
        "start_time": "2022-09-08T11:53:14.948Z"
      },
      {
        "duration": 1347,
        "start_time": "2022-09-08T11:53:16.760Z"
      },
      {
        "duration": 443,
        "start_time": "2022-09-08T11:53:20.419Z"
      },
      {
        "duration": 206206,
        "start_time": "2022-09-08T11:53:23.678Z"
      },
      {
        "duration": 634,
        "start_time": "2022-09-08T11:56:54.276Z"
      },
      {
        "duration": 1703,
        "start_time": "2022-09-08T11:58:07.778Z"
      },
      {
        "duration": 74,
        "start_time": "2022-09-08T11:58:09.484Z"
      },
      {
        "duration": 14,
        "start_time": "2022-09-08T11:58:09.560Z"
      },
      {
        "duration": 18,
        "start_time": "2022-09-08T11:58:09.575Z"
      },
      {
        "duration": 22,
        "start_time": "2022-09-08T11:58:09.596Z"
      },
      {
        "duration": 17,
        "start_time": "2022-09-08T11:58:09.620Z"
      },
      {
        "duration": 331,
        "start_time": "2022-09-08T11:58:09.639Z"
      },
      {
        "duration": 7,
        "start_time": "2022-09-08T11:58:09.972Z"
      },
      {
        "duration": 17,
        "start_time": "2022-09-08T11:58:09.981Z"
      },
      {
        "duration": 972,
        "start_time": "2022-09-08T11:58:09.999Z"
      },
      {
        "duration": 810,
        "start_time": "2022-09-08T11:58:10.973Z"
      },
      {
        "duration": 4,
        "start_time": "2022-09-08T11:58:11.785Z"
      },
      {
        "duration": 562,
        "start_time": "2022-09-08T11:58:11.790Z"
      },
      {
        "duration": 11,
        "start_time": "2022-09-08T11:58:12.356Z"
      },
      {
        "duration": 8,
        "start_time": "2022-09-08T11:58:12.369Z"
      },
      {
        "duration": 65,
        "start_time": "2022-09-08T11:58:12.379Z"
      },
      {
        "duration": 8,
        "start_time": "2022-09-08T11:58:12.446Z"
      },
      {
        "duration": 13,
        "start_time": "2022-09-08T11:58:12.456Z"
      },
      {
        "duration": 5,
        "start_time": "2022-09-08T11:58:12.471Z"
      },
      {
        "duration": 4,
        "start_time": "2022-09-08T11:58:12.478Z"
      },
      {
        "duration": 6,
        "start_time": "2022-09-08T11:58:12.484Z"
      },
      {
        "duration": 37,
        "start_time": "2022-09-08T11:58:12.492Z"
      },
      {
        "duration": 18,
        "start_time": "2022-09-08T11:58:12.532Z"
      },
      {
        "duration": 7,
        "start_time": "2022-09-08T11:58:12.551Z"
      },
      {
        "duration": 18,
        "start_time": "2022-09-08T11:58:12.560Z"
      },
      {
        "duration": 8,
        "start_time": "2022-09-08T11:58:12.580Z"
      },
      {
        "duration": 37,
        "start_time": "2022-09-08T11:58:12.589Z"
      },
      {
        "duration": 9339,
        "start_time": "2022-09-08T11:58:12.634Z"
      },
      {
        "duration": 514,
        "start_time": "2022-09-08T11:58:21.975Z"
      },
      {
        "duration": 154,
        "start_time": "2022-09-08T11:58:22.491Z"
      },
      {
        "duration": 0,
        "start_time": "2022-09-08T11:58:22.647Z"
      },
      {
        "duration": 0,
        "start_time": "2022-09-08T11:58:22.648Z"
      },
      {
        "duration": 0,
        "start_time": "2022-09-08T11:58:22.650Z"
      },
      {
        "duration": 1,
        "start_time": "2022-09-08T11:58:22.651Z"
      },
      {
        "duration": 0,
        "start_time": "2022-09-08T11:58:22.653Z"
      },
      {
        "duration": 0,
        "start_time": "2022-09-08T11:58:22.654Z"
      },
      {
        "duration": 1,
        "start_time": "2022-09-08T11:58:22.655Z"
      },
      {
        "duration": 0,
        "start_time": "2022-09-08T11:58:22.657Z"
      },
      {
        "duration": 0,
        "start_time": "2022-09-08T11:58:22.658Z"
      },
      {
        "duration": 0,
        "start_time": "2022-09-08T11:58:22.659Z"
      },
      {
        "duration": 0,
        "start_time": "2022-09-08T11:58:22.660Z"
      },
      {
        "duration": 0,
        "start_time": "2022-09-08T11:58:22.662Z"
      },
      {
        "duration": 39,
        "start_time": "2022-09-08T11:58:33.805Z"
      },
      {
        "duration": 8,
        "start_time": "2022-09-08T11:58:34.845Z"
      },
      {
        "duration": 16,
        "start_time": "2022-09-08T11:58:36.979Z"
      },
      {
        "duration": 2446,
        "start_time": "2022-09-08T11:58:39.640Z"
      },
      {
        "duration": 16,
        "start_time": "2022-09-08T11:58:46.812Z"
      },
      {
        "duration": 13,
        "start_time": "2022-09-08T12:01:25.084Z"
      },
      {
        "duration": 264883,
        "start_time": "2022-09-08T12:01:27.391Z"
      },
      {
        "duration": 3,
        "start_time": "2022-09-08T12:10:32.440Z"
      },
      {
        "duration": 5657,
        "start_time": "2022-09-08T12:10:40.239Z"
      },
      {
        "duration": 51564,
        "start_time": "2022-09-08T12:10:57.760Z"
      },
      {
        "duration": 3533,
        "start_time": "2022-09-08T12:12:18.895Z"
      },
      {
        "duration": 2907,
        "start_time": "2022-09-08T12:13:02.372Z"
      },
      {
        "duration": 5447,
        "start_time": "2022-09-08T12:13:23.784Z"
      },
      {
        "duration": 2819,
        "start_time": "2022-09-08T12:13:41.922Z"
      },
      {
        "duration": 1524,
        "start_time": "2022-09-08T12:16:07.301Z"
      },
      {
        "duration": 59,
        "start_time": "2022-09-08T12:16:08.827Z"
      },
      {
        "duration": 13,
        "start_time": "2022-09-08T12:16:08.888Z"
      },
      {
        "duration": 17,
        "start_time": "2022-09-08T12:16:08.904Z"
      },
      {
        "duration": 14,
        "start_time": "2022-09-08T12:16:08.922Z"
      },
      {
        "duration": 6,
        "start_time": "2022-09-08T12:16:08.938Z"
      },
      {
        "duration": 318,
        "start_time": "2022-09-08T12:16:08.946Z"
      },
      {
        "duration": 6,
        "start_time": "2022-09-08T12:16:09.266Z"
      },
      {
        "duration": 19,
        "start_time": "2022-09-08T12:16:09.273Z"
      },
      {
        "duration": 880,
        "start_time": "2022-09-08T12:16:09.295Z"
      },
      {
        "duration": 779,
        "start_time": "2022-09-08T12:16:10.176Z"
      },
      {
        "duration": 4,
        "start_time": "2022-09-08T12:16:10.956Z"
      },
      {
        "duration": 527,
        "start_time": "2022-09-08T12:16:10.962Z"
      },
      {
        "duration": 10,
        "start_time": "2022-09-08T12:16:11.491Z"
      },
      {
        "duration": 19,
        "start_time": "2022-09-08T12:16:11.503Z"
      },
      {
        "duration": 52,
        "start_time": "2022-09-08T12:16:11.523Z"
      },
      {
        "duration": 8,
        "start_time": "2022-09-08T12:16:11.577Z"
      },
      {
        "duration": 15,
        "start_time": "2022-09-08T12:16:11.586Z"
      },
      {
        "duration": 17,
        "start_time": "2022-09-08T12:16:11.603Z"
      },
      {
        "duration": 4,
        "start_time": "2022-09-08T12:16:11.622Z"
      },
      {
        "duration": 9,
        "start_time": "2022-09-08T12:16:11.628Z"
      },
      {
        "duration": 22,
        "start_time": "2022-09-08T12:16:11.639Z"
      },
      {
        "duration": 10,
        "start_time": "2022-09-08T12:16:11.662Z"
      },
      {
        "duration": 11,
        "start_time": "2022-09-08T12:16:11.674Z"
      },
      {
        "duration": 6,
        "start_time": "2022-09-08T12:16:11.688Z"
      },
      {
        "duration": 24,
        "start_time": "2022-09-08T12:16:11.696Z"
      },
      {
        "duration": 14067,
        "start_time": "2022-09-08T12:16:11.722Z"
      },
      {
        "duration": 483,
        "start_time": "2022-09-08T12:16:25.793Z"
      },
      {
        "duration": 543,
        "start_time": "2022-09-08T12:16:26.278Z"
      },
      {
        "duration": 102,
        "start_time": "2022-09-08T12:16:26.823Z"
      },
      {
        "duration": 103,
        "start_time": "2022-09-08T12:16:26.928Z"
      },
      {
        "duration": 312,
        "start_time": "2022-09-08T12:16:27.033Z"
      },
      {
        "duration": 2882,
        "start_time": "2022-09-08T12:16:27.347Z"
      },
      {
        "duration": 19,
        "start_time": "2022-09-08T12:16:30.231Z"
      },
      {
        "duration": 251027,
        "start_time": "2022-09-08T12:16:30.252Z"
      },
      {
        "duration": 0,
        "start_time": "2022-09-08T12:20:41.281Z"
      },
      {
        "duration": 0,
        "start_time": "2022-09-08T12:20:41.283Z"
      },
      {
        "duration": 0,
        "start_time": "2022-09-08T12:20:41.284Z"
      },
      {
        "duration": 0,
        "start_time": "2022-09-08T12:20:41.285Z"
      },
      {
        "duration": 0,
        "start_time": "2022-09-08T12:20:41.286Z"
      },
      {
        "duration": 0,
        "start_time": "2022-09-08T12:20:41.287Z"
      },
      {
        "duration": 3,
        "start_time": "2022-09-08T12:20:45.235Z"
      },
      {
        "duration": 3316,
        "start_time": "2022-09-08T12:20:58.411Z"
      },
      {
        "duration": 1290,
        "start_time": "2022-09-08T12:21:29.272Z"
      },
      {
        "duration": 2854,
        "start_time": "2022-09-08T12:21:38.213Z"
      },
      {
        "duration": 1269,
        "start_time": "2022-09-08T12:21:56.404Z"
      },
      {
        "duration": 39201,
        "start_time": "2022-09-08T12:22:05.123Z"
      },
      {
        "duration": 1122,
        "start_time": "2022-09-08T12:22:51.802Z"
      },
      {
        "duration": 792,
        "start_time": "2022-09-08T12:23:25.029Z"
      },
      {
        "duration": 446,
        "start_time": "2022-09-08T12:23:44.284Z"
      },
      {
        "duration": 311,
        "start_time": "2022-09-08T12:27:56.052Z"
      },
      {
        "duration": 314,
        "start_time": "2022-09-08T12:28:34.000Z"
      },
      {
        "duration": 555,
        "start_time": "2022-09-08T12:28:56.172Z"
      },
      {
        "duration": 390,
        "start_time": "2022-09-08T12:29:42.174Z"
      },
      {
        "duration": 413,
        "start_time": "2022-09-08T12:30:12.923Z"
      },
      {
        "duration": 399,
        "start_time": "2022-09-08T12:30:21.156Z"
      },
      {
        "duration": 426,
        "start_time": "2022-09-08T12:30:41.838Z"
      },
      {
        "duration": 393,
        "start_time": "2022-09-08T12:30:56.180Z"
      },
      {
        "duration": 396,
        "start_time": "2022-09-08T12:31:05.158Z"
      },
      {
        "duration": 347,
        "start_time": "2022-09-08T12:31:40.677Z"
      },
      {
        "duration": 364,
        "start_time": "2022-09-08T12:32:29.310Z"
      },
      {
        "duration": 11,
        "start_time": "2022-09-08T12:39:54.865Z"
      },
      {
        "duration": 10,
        "start_time": "2022-09-08T12:40:11.544Z"
      },
      {
        "duration": 115,
        "start_time": "2022-09-08T12:42:02.009Z"
      },
      {
        "duration": 11,
        "start_time": "2022-09-08T12:42:07.272Z"
      },
      {
        "duration": 558,
        "start_time": "2022-09-08T12:46:23.263Z"
      },
      {
        "duration": 1344,
        "start_time": "2022-09-08T12:46:48.630Z"
      },
      {
        "duration": 10,
        "start_time": "2022-09-08T12:47:01.783Z"
      },
      {
        "duration": 1557,
        "start_time": "2022-09-08T12:48:07.711Z"
      },
      {
        "duration": 54,
        "start_time": "2022-09-08T12:48:09.270Z"
      },
      {
        "duration": 12,
        "start_time": "2022-09-08T12:48:09.326Z"
      },
      {
        "duration": 10,
        "start_time": "2022-09-08T12:48:09.340Z"
      },
      {
        "duration": 12,
        "start_time": "2022-09-08T12:48:09.352Z"
      },
      {
        "duration": 16,
        "start_time": "2022-09-08T12:48:09.365Z"
      },
      {
        "duration": 346,
        "start_time": "2022-09-08T12:48:09.382Z"
      },
      {
        "duration": 7,
        "start_time": "2022-09-08T12:48:09.731Z"
      },
      {
        "duration": 17,
        "start_time": "2022-09-08T12:48:09.740Z"
      },
      {
        "duration": 928,
        "start_time": "2022-09-08T12:48:09.761Z"
      },
      {
        "duration": 780,
        "start_time": "2022-09-08T12:48:10.691Z"
      },
      {
        "duration": 3,
        "start_time": "2022-09-08T12:48:11.472Z"
      },
      {
        "duration": 566,
        "start_time": "2022-09-08T12:48:11.476Z"
      },
      {
        "duration": 12,
        "start_time": "2022-09-08T12:48:12.043Z"
      },
      {
        "duration": 5,
        "start_time": "2022-09-08T12:48:12.057Z"
      },
      {
        "duration": 66,
        "start_time": "2022-09-08T12:48:12.063Z"
      },
      {
        "duration": 12,
        "start_time": "2022-09-08T12:48:12.131Z"
      },
      {
        "duration": 16,
        "start_time": "2022-09-08T12:48:12.145Z"
      },
      {
        "duration": 4,
        "start_time": "2022-09-08T12:48:12.163Z"
      },
      {
        "duration": 7,
        "start_time": "2022-09-08T12:48:12.169Z"
      },
      {
        "duration": 9,
        "start_time": "2022-09-08T12:48:12.179Z"
      },
      {
        "duration": 31,
        "start_time": "2022-09-08T12:48:12.190Z"
      },
      {
        "duration": 12,
        "start_time": "2022-09-08T12:48:12.223Z"
      },
      {
        "duration": 15,
        "start_time": "2022-09-08T12:48:12.237Z"
      },
      {
        "duration": 19,
        "start_time": "2022-09-08T12:48:12.253Z"
      },
      {
        "duration": 16,
        "start_time": "2022-09-08T12:48:12.274Z"
      },
      {
        "duration": 7585,
        "start_time": "2022-09-08T12:48:12.321Z"
      },
      {
        "duration": 638,
        "start_time": "2022-09-08T12:48:19.911Z"
      },
      {
        "duration": 605,
        "start_time": "2022-09-08T12:48:20.552Z"
      },
      {
        "duration": 65,
        "start_time": "2022-09-08T12:48:21.159Z"
      },
      {
        "duration": 104,
        "start_time": "2022-09-08T12:48:21.228Z"
      },
      {
        "duration": 186,
        "start_time": "2022-09-08T12:48:21.334Z"
      },
      {
        "duration": 2842,
        "start_time": "2022-09-08T12:48:21.522Z"
      },
      {
        "duration": 19,
        "start_time": "2022-09-08T12:48:24.365Z"
      },
      {
        "duration": 223753,
        "start_time": "2022-09-08T12:48:24.385Z"
      },
      {
        "duration": 3,
        "start_time": "2022-09-08T12:52:08.140Z"
      },
      {
        "duration": 1192,
        "start_time": "2022-09-08T12:52:08.145Z"
      },
      {
        "duration": 345,
        "start_time": "2022-09-08T12:52:09.338Z"
      },
      {
        "duration": 28444,
        "start_time": "2022-09-08T12:52:09.685Z"
      },
      {
        "duration": 502,
        "start_time": "2022-09-08T12:52:38.131Z"
      },
      {
        "duration": 1559,
        "start_time": "2022-09-08T12:52:38.635Z"
      },
      {
        "duration": 10,
        "start_time": "2022-09-08T12:52:40.196Z"
      },
      {
        "duration": 8,
        "start_time": "2022-09-08T12:52:40.209Z"
      },
      {
        "duration": 1541,
        "start_time": "2022-09-08T12:53:00.895Z"
      },
      {
        "duration": 1492,
        "start_time": "2022-09-08T12:53:22.688Z"
      },
      {
        "duration": 18081,
        "start_time": "2022-09-08T12:54:30.755Z"
      },
      {
        "duration": 1900,
        "start_time": "2022-09-08T12:55:15.575Z"
      },
      {
        "duration": 23,
        "start_time": "2022-09-08T12:55:42.289Z"
      },
      {
        "duration": 282,
        "start_time": "2022-09-08T12:56:14.828Z"
      },
      {
        "duration": 542,
        "start_time": "2022-09-08T12:56:25.705Z"
      },
      {
        "duration": 574,
        "start_time": "2022-09-08T12:56:51.566Z"
      },
      {
        "duration": 12,
        "start_time": "2022-09-08T12:57:24.352Z"
      },
      {
        "duration": 13,
        "start_time": "2022-09-08T12:57:45.830Z"
      },
      {
        "duration": 12,
        "start_time": "2022-09-08T12:58:45.315Z"
      },
      {
        "duration": 5,
        "start_time": "2022-09-08T13:02:23.561Z"
      },
      {
        "duration": 75,
        "start_time": "2022-09-08T13:04:16.445Z"
      },
      {
        "duration": 10,
        "start_time": "2022-09-08T13:04:24.361Z"
      },
      {
        "duration": 12,
        "start_time": "2022-09-08T13:05:07.484Z"
      },
      {
        "duration": 11,
        "start_time": "2022-09-08T13:05:08.575Z"
      },
      {
        "duration": 5,
        "start_time": "2022-09-08T13:11:58.201Z"
      },
      {
        "duration": 8,
        "start_time": "2022-09-08T13:11:58.916Z"
      },
      {
        "duration": 4,
        "start_time": "2022-09-08T13:11:59.936Z"
      },
      {
        "duration": 10,
        "start_time": "2022-09-08T13:12:03.631Z"
      },
      {
        "duration": 11,
        "start_time": "2022-09-08T13:12:08.331Z"
      },
      {
        "duration": 1523,
        "start_time": "2022-09-08T13:12:32.956Z"
      },
      {
        "duration": 51,
        "start_time": "2022-09-08T13:12:34.481Z"
      },
      {
        "duration": 12,
        "start_time": "2022-09-08T13:12:34.533Z"
      },
      {
        "duration": 29,
        "start_time": "2022-09-08T13:12:34.547Z"
      },
      {
        "duration": 29,
        "start_time": "2022-09-08T13:12:34.578Z"
      },
      {
        "duration": 27,
        "start_time": "2022-09-08T13:12:34.609Z"
      },
      {
        "duration": 325,
        "start_time": "2022-09-08T13:12:34.638Z"
      },
      {
        "duration": 6,
        "start_time": "2022-09-08T13:12:34.965Z"
      },
      {
        "duration": 10,
        "start_time": "2022-09-08T13:12:34.973Z"
      },
      {
        "duration": 939,
        "start_time": "2022-09-08T13:12:34.985Z"
      },
      {
        "duration": 743,
        "start_time": "2022-09-08T13:12:35.926Z"
      },
      {
        "duration": 4,
        "start_time": "2022-09-08T13:12:36.670Z"
      },
      {
        "duration": 543,
        "start_time": "2022-09-08T13:12:36.675Z"
      },
      {
        "duration": 11,
        "start_time": "2022-09-08T13:12:37.223Z"
      },
      {
        "duration": 5,
        "start_time": "2022-09-08T13:12:37.236Z"
      },
      {
        "duration": 48,
        "start_time": "2022-09-08T13:12:37.243Z"
      },
      {
        "duration": 31,
        "start_time": "2022-09-08T13:12:37.293Z"
      },
      {
        "duration": 12,
        "start_time": "2022-09-08T13:12:37.326Z"
      },
      {
        "duration": 4,
        "start_time": "2022-09-08T13:12:37.340Z"
      },
      {
        "duration": 6,
        "start_time": "2022-09-08T13:12:37.346Z"
      },
      {
        "duration": 6,
        "start_time": "2022-09-08T13:12:37.354Z"
      },
      {
        "duration": 7,
        "start_time": "2022-09-08T13:12:37.362Z"
      },
      {
        "duration": 11,
        "start_time": "2022-09-08T13:12:37.371Z"
      },
      {
        "duration": 9,
        "start_time": "2022-09-08T13:12:37.383Z"
      },
      {
        "duration": 39,
        "start_time": "2022-09-08T13:12:37.393Z"
      },
      {
        "duration": 6657,
        "start_time": "2022-09-08T13:12:37.434Z"
      },
      {
        "duration": 561,
        "start_time": "2022-09-08T13:12:44.093Z"
      },
      {
        "duration": 516,
        "start_time": "2022-09-08T13:12:44.656Z"
      },
      {
        "duration": 53,
        "start_time": "2022-09-08T13:12:45.174Z"
      },
      {
        "duration": 100,
        "start_time": "2022-09-08T13:12:45.228Z"
      },
      {
        "duration": 331,
        "start_time": "2022-09-08T13:12:45.330Z"
      },
      {
        "duration": 2769,
        "start_time": "2022-09-08T13:12:45.663Z"
      },
      {
        "duration": 23,
        "start_time": "2022-09-08T13:12:48.434Z"
      },
      {
        "duration": 265510,
        "start_time": "2022-09-08T13:12:48.459Z"
      },
      {
        "duration": 3,
        "start_time": "2022-09-08T13:17:13.970Z"
      },
      {
        "duration": 1485,
        "start_time": "2022-09-08T13:17:13.975Z"
      },
      {
        "duration": 369,
        "start_time": "2022-09-08T13:17:15.462Z"
      },
      {
        "duration": 43242,
        "start_time": "2022-09-08T13:17:15.833Z"
      },
      {
        "duration": 1262,
        "start_time": "2022-09-08T13:17:59.077Z"
      },
      {
        "duration": 5,
        "start_time": "2022-09-08T13:18:00.343Z"
      },
      {
        "duration": 19,
        "start_time": "2022-09-08T13:18:00.420Z"
      },
      {
        "duration": 12,
        "start_time": "2022-09-08T13:18:00.442Z"
      },
      {
        "duration": 28,
        "start_time": "2022-09-08T13:18:00.456Z"
      },
      {
        "duration": 47,
        "start_time": "2022-09-08T13:18:00.486Z"
      },
      {
        "duration": 157936,
        "start_time": "2022-09-08T13:18:07.839Z"
      },
      {
        "duration": 3061,
        "start_time": "2022-09-08T13:20:55.388Z"
      },
      {
        "duration": 6,
        "start_time": "2022-09-08T13:21:24.544Z"
      },
      {
        "duration": 6,
        "start_time": "2022-09-08T13:21:25.145Z"
      },
      {
        "duration": 5,
        "start_time": "2022-09-08T13:21:25.953Z"
      },
      {
        "duration": 3101,
        "start_time": "2022-09-08T13:21:26.702Z"
      },
      {
        "duration": 11,
        "start_time": "2022-09-08T13:21:35.054Z"
      },
      {
        "duration": 923534,
        "start_time": "2022-09-08T13:21:59.718Z"
      },
      {
        "duration": 1565,
        "start_time": "2022-09-08T13:56:00.314Z"
      },
      {
        "duration": 57,
        "start_time": "2022-09-08T13:56:01.882Z"
      },
      {
        "duration": 12,
        "start_time": "2022-09-08T13:56:01.941Z"
      },
      {
        "duration": 49,
        "start_time": "2022-09-08T13:56:01.955Z"
      },
      {
        "duration": 42,
        "start_time": "2022-09-08T13:56:02.007Z"
      },
      {
        "duration": 35,
        "start_time": "2022-09-08T13:56:02.051Z"
      },
      {
        "duration": 375,
        "start_time": "2022-09-08T13:56:02.088Z"
      },
      {
        "duration": 8,
        "start_time": "2022-09-08T13:56:02.465Z"
      },
      {
        "duration": 55,
        "start_time": "2022-09-08T13:56:02.474Z"
      },
      {
        "duration": 939,
        "start_time": "2022-09-08T13:56:02.530Z"
      },
      {
        "duration": 861,
        "start_time": "2022-09-08T13:56:03.471Z"
      },
      {
        "duration": 7,
        "start_time": "2022-09-08T13:56:04.335Z"
      },
      {
        "duration": 567,
        "start_time": "2022-09-08T13:56:04.345Z"
      },
      {
        "duration": 16,
        "start_time": "2022-09-08T13:56:04.925Z"
      },
      {
        "duration": 5,
        "start_time": "2022-09-08T13:56:04.943Z"
      },
      {
        "duration": 50,
        "start_time": "2022-09-08T13:56:04.950Z"
      },
      {
        "duration": 19,
        "start_time": "2022-09-08T13:56:05.002Z"
      },
      {
        "duration": 20,
        "start_time": "2022-09-08T13:56:05.026Z"
      },
      {
        "duration": 5,
        "start_time": "2022-09-08T13:56:05.048Z"
      },
      {
        "duration": 8,
        "start_time": "2022-09-08T13:56:05.054Z"
      },
      {
        "duration": 17,
        "start_time": "2022-09-08T13:56:05.064Z"
      },
      {
        "duration": 18,
        "start_time": "2022-09-08T13:56:05.083Z"
      },
      {
        "duration": 31,
        "start_time": "2022-09-08T13:56:05.102Z"
      },
      {
        "duration": 10,
        "start_time": "2022-09-08T13:56:05.137Z"
      },
      {
        "duration": 24,
        "start_time": "2022-09-08T13:56:05.149Z"
      },
      {
        "duration": 8217,
        "start_time": "2022-09-08T13:56:05.175Z"
      },
      {
        "duration": 600,
        "start_time": "2022-09-08T13:56:13.394Z"
      },
      {
        "duration": 562,
        "start_time": "2022-09-08T13:56:13.996Z"
      },
      {
        "duration": 82,
        "start_time": "2022-09-08T13:56:14.560Z"
      },
      {
        "duration": 177,
        "start_time": "2022-09-08T13:56:14.644Z"
      },
      {
        "duration": 222,
        "start_time": "2022-09-08T13:56:14.828Z"
      },
      {
        "duration": 2884,
        "start_time": "2022-09-08T13:56:15.053Z"
      },
      {
        "duration": 24,
        "start_time": "2022-09-08T13:56:17.942Z"
      },
      {
        "duration": 1512,
        "start_time": "2022-09-08T14:19:46.331Z"
      },
      {
        "duration": 50,
        "start_time": "2022-09-08T14:19:47.845Z"
      },
      {
        "duration": 11,
        "start_time": "2022-09-08T14:19:47.897Z"
      },
      {
        "duration": 9,
        "start_time": "2022-09-08T14:19:47.911Z"
      },
      {
        "duration": 16,
        "start_time": "2022-09-08T14:19:47.922Z"
      },
      {
        "duration": 11,
        "start_time": "2022-09-08T14:19:47.939Z"
      },
      {
        "duration": 310,
        "start_time": "2022-09-08T14:19:47.952Z"
      },
      {
        "duration": 5,
        "start_time": "2022-09-08T14:19:48.264Z"
      },
      {
        "duration": 14,
        "start_time": "2022-09-08T14:19:48.270Z"
      },
      {
        "duration": 1346,
        "start_time": "2022-09-08T14:19:48.286Z"
      },
      {
        "duration": 1409,
        "start_time": "2022-09-08T14:19:49.634Z"
      },
      {
        "duration": 4,
        "start_time": "2022-09-08T14:19:51.044Z"
      },
      {
        "duration": 562,
        "start_time": "2022-09-08T14:19:51.050Z"
      },
      {
        "duration": 14,
        "start_time": "2022-09-08T14:19:51.614Z"
      },
      {
        "duration": 9,
        "start_time": "2022-09-08T14:19:51.630Z"
      },
      {
        "duration": 54,
        "start_time": "2022-09-08T14:19:51.641Z"
      },
      {
        "duration": 8,
        "start_time": "2022-09-08T14:19:51.697Z"
      },
      {
        "duration": 22,
        "start_time": "2022-09-08T14:19:51.706Z"
      },
      {
        "duration": 5,
        "start_time": "2022-09-08T14:19:51.730Z"
      },
      {
        "duration": 7,
        "start_time": "2022-09-08T14:19:51.737Z"
      },
      {
        "duration": 18,
        "start_time": "2022-09-08T14:19:51.746Z"
      },
      {
        "duration": 23,
        "start_time": "2022-09-08T14:19:51.766Z"
      },
      {
        "duration": 14,
        "start_time": "2022-09-08T14:19:51.791Z"
      },
      {
        "duration": 31,
        "start_time": "2022-09-08T14:19:51.807Z"
      },
      {
        "duration": 31,
        "start_time": "2022-09-08T14:19:51.840Z"
      },
      {
        "duration": 11594,
        "start_time": "2022-09-08T14:19:51.873Z"
      },
      {
        "duration": 1066,
        "start_time": "2022-09-08T14:20:03.469Z"
      },
      {
        "duration": 967,
        "start_time": "2022-09-08T14:20:04.539Z"
      },
      {
        "duration": 18,
        "start_time": "2022-09-08T14:20:05.508Z"
      },
      {
        "duration": 194,
        "start_time": "2022-09-08T14:20:05.528Z"
      },
      {
        "duration": 238,
        "start_time": "2022-09-08T14:20:05.725Z"
      },
      {
        "duration": 2729,
        "start_time": "2022-09-08T14:20:06.021Z"
      },
      {
        "duration": 17,
        "start_time": "2022-09-08T14:20:08.752Z"
      },
      {
        "duration": 1707416,
        "start_time": "2022-09-08T14:20:08.770Z"
      },
      {
        "duration": 0,
        "start_time": "2022-09-08T14:48:36.188Z"
      },
      {
        "duration": 0,
        "start_time": "2022-09-08T14:48:36.189Z"
      },
      {
        "duration": 0,
        "start_time": "2022-09-08T14:48:36.190Z"
      },
      {
        "duration": 0,
        "start_time": "2022-09-08T14:48:36.192Z"
      },
      {
        "duration": 0,
        "start_time": "2022-09-08T14:48:36.193Z"
      },
      {
        "duration": 0,
        "start_time": "2022-09-08T14:48:36.194Z"
      },
      {
        "duration": 0,
        "start_time": "2022-09-08T14:48:36.195Z"
      },
      {
        "duration": 0,
        "start_time": "2022-09-08T14:48:36.197Z"
      },
      {
        "duration": 0,
        "start_time": "2022-09-08T14:48:36.198Z"
      },
      {
        "duration": 0,
        "start_time": "2022-09-08T14:48:36.199Z"
      },
      {
        "duration": 10,
        "start_time": "2022-09-08T14:48:53.031Z"
      },
      {
        "duration": 3865,
        "start_time": "2022-09-08T14:48:55.751Z"
      },
      {
        "duration": 5,
        "start_time": "2022-09-08T14:49:07.927Z"
      },
      {
        "duration": 6,
        "start_time": "2022-09-08T14:49:08.952Z"
      },
      {
        "duration": 6,
        "start_time": "2022-09-08T14:49:09.922Z"
      },
      {
        "duration": 3972,
        "start_time": "2022-09-08T14:49:22.857Z"
      },
      {
        "duration": 995846,
        "start_time": "2022-09-08T14:50:01.882Z"
      },
      {
        "duration": 1381,
        "start_time": "2022-09-08T15:08:11.947Z"
      },
      {
        "duration": 1415,
        "start_time": "2022-09-08T15:09:02.623Z"
      },
      {
        "duration": 89,
        "start_time": "2022-09-08T15:09:17.901Z"
      },
      {
        "duration": 47,
        "start_time": "2022-09-08T15:13:00.509Z"
      },
      {
        "duration": 10,
        "start_time": "2022-09-08T15:13:01.680Z"
      },
      {
        "duration": 7,
        "start_time": "2022-09-08T15:13:03.969Z"
      },
      {
        "duration": 5,
        "start_time": "2022-09-08T15:13:06.907Z"
      },
      {
        "duration": 4,
        "start_time": "2022-09-08T15:13:43.702Z"
      },
      {
        "duration": 8,
        "start_time": "2022-09-08T15:13:51.584Z"
      },
      {
        "duration": 7,
        "start_time": "2022-09-08T15:13:52.246Z"
      },
      {
        "duration": 841,
        "start_time": "2022-09-08T15:13:55.879Z"
      },
      {
        "duration": 731,
        "start_time": "2022-09-08T15:14:12.731Z"
      },
      {
        "duration": 870,
        "start_time": "2022-09-08T15:15:11.727Z"
      },
      {
        "duration": 354,
        "start_time": "2022-09-08T15:15:46.081Z"
      },
      {
        "duration": 356,
        "start_time": "2022-09-08T15:16:50.309Z"
      },
      {
        "duration": 488,
        "start_time": "2022-09-08T15:16:59.720Z"
      },
      {
        "duration": 412,
        "start_time": "2022-09-08T15:19:33.764Z"
      },
      {
        "duration": 897,
        "start_time": "2022-09-08T15:19:41.442Z"
      },
      {
        "duration": 7,
        "start_time": "2022-09-08T15:23:31.995Z"
      },
      {
        "duration": 7,
        "start_time": "2022-09-08T15:23:35.506Z"
      },
      {
        "duration": 1123,
        "start_time": "2022-09-08T15:23:39.630Z"
      },
      {
        "duration": 1137,
        "start_time": "2022-09-08T15:24:06.787Z"
      },
      {
        "duration": 1194,
        "start_time": "2022-09-08T15:24:34.781Z"
      },
      {
        "duration": 1154,
        "start_time": "2022-09-08T15:26:26.494Z"
      },
      {
        "duration": 1120,
        "start_time": "2022-09-08T15:27:29.191Z"
      },
      {
        "duration": 1316,
        "start_time": "2022-09-08T15:27:40.231Z"
      },
      {
        "duration": 1168,
        "start_time": "2022-09-08T15:27:54.352Z"
      },
      {
        "duration": 938,
        "start_time": "2022-09-08T15:29:13.162Z"
      },
      {
        "duration": 520,
        "start_time": "2022-09-08T15:29:53.094Z"
      },
      {
        "duration": 500,
        "start_time": "2022-09-08T15:30:44.240Z"
      },
      {
        "duration": 538,
        "start_time": "2022-09-08T15:31:04.422Z"
      },
      {
        "duration": 543,
        "start_time": "2022-09-08T15:32:29.725Z"
      },
      {
        "duration": 576,
        "start_time": "2022-09-08T15:32:41.798Z"
      },
      {
        "duration": 618,
        "start_time": "2022-09-08T15:33:18.632Z"
      },
      {
        "duration": 739,
        "start_time": "2022-09-08T15:34:14.726Z"
      },
      {
        "duration": 988,
        "start_time": "2022-09-08T15:34:33.722Z"
      },
      {
        "duration": 803,
        "start_time": "2022-09-08T15:34:46.737Z"
      },
      {
        "duration": 707,
        "start_time": "2022-09-08T15:35:06.706Z"
      },
      {
        "duration": 4,
        "start_time": "2022-09-08T15:35:23.931Z"
      },
      {
        "duration": 524,
        "start_time": "2022-09-08T15:35:24.463Z"
      },
      {
        "duration": 11,
        "start_time": "2022-09-08T15:35:27.906Z"
      },
      {
        "duration": 5,
        "start_time": "2022-09-08T15:35:33.827Z"
      },
      {
        "duration": 47,
        "start_time": "2022-09-08T15:35:34.933Z"
      },
      {
        "duration": 8,
        "start_time": "2022-09-08T15:35:37.780Z"
      },
      {
        "duration": 11,
        "start_time": "2022-09-08T15:35:38.170Z"
      },
      {
        "duration": 6,
        "start_time": "2022-09-08T15:35:41.595Z"
      },
      {
        "duration": 5,
        "start_time": "2022-09-08T15:35:42.037Z"
      },
      {
        "duration": 4,
        "start_time": "2022-09-08T15:35:42.684Z"
      },
      {
        "duration": 7,
        "start_time": "2022-09-08T15:35:44.864Z"
      },
      {
        "duration": 6,
        "start_time": "2022-09-08T15:35:45.130Z"
      },
      {
        "duration": 11,
        "start_time": "2022-09-08T15:35:57.772Z"
      },
      {
        "duration": 7,
        "start_time": "2022-09-08T15:36:00.462Z"
      },
      {
        "duration": 8,
        "start_time": "2022-09-08T15:36:04.170Z"
      },
      {
        "duration": 11348,
        "start_time": "2022-09-08T15:36:07.379Z"
      },
      {
        "duration": 544,
        "start_time": "2022-09-08T15:36:30.837Z"
      },
      {
        "duration": 482,
        "start_time": "2022-09-08T15:36:42.992Z"
      },
      {
        "duration": 559,
        "start_time": "2022-09-08T15:36:54.773Z"
      },
      {
        "duration": 13,
        "start_time": "2022-09-08T15:36:57.698Z"
      },
      {
        "duration": 14,
        "start_time": "2022-09-08T15:37:03.339Z"
      },
      {
        "duration": 9,
        "start_time": "2022-09-08T15:37:06.053Z"
      },
      {
        "duration": 9,
        "start_time": "2022-09-08T15:37:09.171Z"
      },
      {
        "duration": 14,
        "start_time": "2022-09-08T15:37:11.797Z"
      },
      {
        "duration": 2469,
        "start_time": "2022-09-08T15:37:15.747Z"
      },
      {
        "duration": 14,
        "start_time": "2022-09-08T15:37:21.997Z"
      },
      {
        "duration": 568915,
        "start_time": "2022-09-08T15:37:39.587Z"
      },
      {
        "duration": 4,
        "start_time": "2022-09-08T15:51:53.685Z"
      },
      {
        "duration": 3673,
        "start_time": "2022-09-08T15:52:32.924Z"
      },
      {
        "duration": 3714,
        "start_time": "2022-09-08T15:52:43.289Z"
      },
      {
        "duration": 6,
        "start_time": "2022-09-08T15:54:34.080Z"
      },
      {
        "duration": 6,
        "start_time": "2022-09-08T15:54:53.589Z"
      },
      {
        "duration": 5,
        "start_time": "2022-09-08T15:55:12.079Z"
      },
      {
        "duration": 5,
        "start_time": "2022-09-08T15:56:49.350Z"
      },
      {
        "duration": 46,
        "start_time": "2022-09-08T15:56:52.133Z"
      },
      {
        "duration": 11,
        "start_time": "2022-09-08T15:56:52.793Z"
      },
      {
        "duration": 7,
        "start_time": "2022-09-08T15:56:53.411Z"
      },
      {
        "duration": 4,
        "start_time": "2022-09-08T15:56:55.837Z"
      },
      {
        "duration": 9,
        "start_time": "2022-09-08T15:56:57.217Z"
      },
      {
        "duration": 7,
        "start_time": "2022-09-08T15:56:58.735Z"
      },
      {
        "duration": 854,
        "start_time": "2022-09-08T15:57:01.119Z"
      },
      {
        "duration": 6,
        "start_time": "2022-09-08T15:57:05.233Z"
      },
      {
        "duration": 8,
        "start_time": "2022-09-08T15:57:09.320Z"
      },
      {
        "duration": 706,
        "start_time": "2022-09-08T15:57:11.678Z"
      },
      {
        "duration": 4,
        "start_time": "2022-09-08T15:57:18.678Z"
      },
      {
        "duration": 540,
        "start_time": "2022-09-08T15:57:19.449Z"
      },
      {
        "duration": 11,
        "start_time": "2022-09-08T15:57:20.054Z"
      },
      {
        "duration": 4,
        "start_time": "2022-09-08T15:57:26.932Z"
      },
      {
        "duration": 54,
        "start_time": "2022-09-08T15:57:29.030Z"
      },
      {
        "duration": 10,
        "start_time": "2022-09-08T15:57:32.182Z"
      },
      {
        "duration": 15,
        "start_time": "2022-09-08T15:57:32.877Z"
      },
      {
        "duration": 5,
        "start_time": "2022-09-08T15:57:35.284Z"
      },
      {
        "duration": 5,
        "start_time": "2022-09-08T15:57:35.903Z"
      },
      {
        "duration": 5,
        "start_time": "2022-09-08T15:57:37.376Z"
      },
      {
        "duration": 5,
        "start_time": "2022-09-08T15:57:38.303Z"
      },
      {
        "duration": 6,
        "start_time": "2022-09-08T15:57:38.947Z"
      },
      {
        "duration": 4,
        "start_time": "2022-09-08T15:57:41.960Z"
      },
      {
        "duration": 7,
        "start_time": "2022-09-08T15:58:21.821Z"
      },
      {
        "duration": 7,
        "start_time": "2022-09-08T15:59:05.453Z"
      },
      {
        "duration": 13,
        "start_time": "2022-09-08T15:59:06.526Z"
      },
      {
        "duration": 9784,
        "start_time": "2022-09-08T15:59:09.783Z"
      },
      {
        "duration": 559,
        "start_time": "2022-09-08T15:59:32.096Z"
      },
      {
        "duration": 471,
        "start_time": "2022-09-08T15:59:37.086Z"
      },
      {
        "duration": 17,
        "start_time": "2022-09-08T15:59:53.266Z"
      },
      {
        "duration": 12,
        "start_time": "2022-09-08T15:59:56.928Z"
      },
      {
        "duration": 2668,
        "start_time": "2022-09-08T16:00:10.081Z"
      },
      {
        "duration": 24,
        "start_time": "2022-09-08T16:00:28.848Z"
      },
      {
        "duration": 4,
        "start_time": "2022-09-08T16:00:53.750Z"
      },
      {
        "duration": 3581,
        "start_time": "2022-09-08T16:01:12.280Z"
      },
      {
        "duration": 37669,
        "start_time": "2022-09-08T16:01:35.061Z"
      },
      {
        "duration": 1900,
        "start_time": "2022-09-08T16:02:31.621Z"
      },
      {
        "duration": 1356,
        "start_time": "2022-09-08T16:02:43.565Z"
      },
      {
        "duration": 5499,
        "start_time": "2022-09-08T16:02:51.028Z"
      },
      {
        "duration": 1276,
        "start_time": "2022-09-08T16:03:10.145Z"
      },
      {
        "duration": 6,
        "start_time": "2022-09-08T16:04:08.953Z"
      },
      {
        "duration": 7,
        "start_time": "2022-09-08T16:04:10.128Z"
      },
      {
        "duration": 5,
        "start_time": "2022-09-08T16:04:46.711Z"
      },
      {
        "duration": 4177,
        "start_time": "2022-09-08T16:05:04.143Z"
      },
      {
        "duration": 11,
        "start_time": "2022-09-08T16:05:13.390Z"
      },
      {
        "duration": 20,
        "start_time": "2022-09-08T16:13:55.307Z"
      },
      {
        "duration": 4,
        "start_time": "2022-09-08T16:15:03.621Z"
      },
      {
        "duration": 9,
        "start_time": "2022-09-08T16:15:34.463Z"
      },
      {
        "duration": 10,
        "start_time": "2022-09-08T16:15:47.288Z"
      },
      {
        "duration": 15,
        "start_time": "2022-09-08T16:15:58.986Z"
      },
      {
        "duration": 9,
        "start_time": "2022-09-08T16:18:09.001Z"
      },
      {
        "duration": 784,
        "start_time": "2022-09-08T16:31:25.612Z"
      },
      {
        "duration": 575,
        "start_time": "2022-09-08T16:33:23.585Z"
      },
      {
        "duration": 732,
        "start_time": "2022-09-08T16:33:34.499Z"
      },
      {
        "duration": 23,
        "start_time": "2022-09-08T16:34:18.830Z"
      },
      {
        "duration": 825,
        "start_time": "2022-09-08T16:34:27.397Z"
      },
      {
        "duration": 1022,
        "start_time": "2022-09-08T16:35:08.294Z"
      },
      {
        "duration": 780,
        "start_time": "2022-09-08T16:35:27.383Z"
      },
      {
        "duration": 1479,
        "start_time": "2022-09-08T16:57:12.263Z"
      },
      {
        "duration": 51,
        "start_time": "2022-09-08T16:57:13.744Z"
      },
      {
        "duration": 16,
        "start_time": "2022-09-08T16:57:13.797Z"
      },
      {
        "duration": 22,
        "start_time": "2022-09-08T16:57:13.815Z"
      },
      {
        "duration": 8,
        "start_time": "2022-09-08T16:57:13.841Z"
      },
      {
        "duration": 11,
        "start_time": "2022-09-08T16:57:13.850Z"
      },
      {
        "duration": 10,
        "start_time": "2022-09-08T16:57:13.864Z"
      },
      {
        "duration": 709,
        "start_time": "2022-09-08T16:57:13.876Z"
      },
      {
        "duration": 8,
        "start_time": "2022-09-08T16:57:14.587Z"
      },
      {
        "duration": 29,
        "start_time": "2022-09-08T16:57:14.596Z"
      },
      {
        "duration": 580,
        "start_time": "2022-09-08T16:57:14.627Z"
      },
      {
        "duration": 4,
        "start_time": "2022-09-08T16:57:15.208Z"
      },
      {
        "duration": 515,
        "start_time": "2022-09-08T16:57:15.214Z"
      },
      {
        "duration": 11,
        "start_time": "2022-09-08T16:57:15.732Z"
      },
      {
        "duration": 7,
        "start_time": "2022-09-08T16:57:15.744Z"
      },
      {
        "duration": 45,
        "start_time": "2022-09-08T16:57:15.753Z"
      },
      {
        "duration": 28,
        "start_time": "2022-09-08T16:57:15.800Z"
      },
      {
        "duration": 20,
        "start_time": "2022-09-08T16:57:15.829Z"
      },
      {
        "duration": 5,
        "start_time": "2022-09-08T16:57:15.851Z"
      },
      {
        "duration": 6,
        "start_time": "2022-09-08T16:57:15.858Z"
      },
      {
        "duration": 7,
        "start_time": "2022-09-08T16:57:15.866Z"
      },
      {
        "duration": 8,
        "start_time": "2022-09-08T16:57:15.875Z"
      },
      {
        "duration": 36,
        "start_time": "2022-09-08T16:57:15.885Z"
      },
      {
        "duration": 10,
        "start_time": "2022-09-08T16:57:15.923Z"
      },
      {
        "duration": 14,
        "start_time": "2022-09-08T16:57:15.935Z"
      },
      {
        "duration": 10822,
        "start_time": "2022-09-08T16:57:15.951Z"
      },
      {
        "duration": 576,
        "start_time": "2022-09-08T16:57:26.775Z"
      },
      {
        "duration": 446,
        "start_time": "2022-09-08T16:57:27.353Z"
      },
      {
        "duration": 31,
        "start_time": "2022-09-08T16:57:27.802Z"
      },
      {
        "duration": 195,
        "start_time": "2022-09-08T16:57:27.835Z"
      },
      {
        "duration": 2847,
        "start_time": "2022-09-08T16:57:28.033Z"
      },
      {
        "duration": 16,
        "start_time": "2022-09-08T16:57:30.882Z"
      },
      {
        "duration": 1990,
        "start_time": "2022-09-08T20:16:59.742Z"
      },
      {
        "duration": 178,
        "start_time": "2022-09-08T20:17:01.734Z"
      },
      {
        "duration": 10,
        "start_time": "2022-09-08T20:17:01.914Z"
      },
      {
        "duration": 13,
        "start_time": "2022-09-08T20:17:01.925Z"
      },
      {
        "duration": 8,
        "start_time": "2022-09-08T20:17:01.941Z"
      },
      {
        "duration": 45,
        "start_time": "2022-09-08T20:17:01.951Z"
      },
      {
        "duration": 8,
        "start_time": "2022-09-08T20:17:01.998Z"
      },
      {
        "duration": 682,
        "start_time": "2022-09-08T20:17:02.007Z"
      },
      {
        "duration": 7,
        "start_time": "2022-09-08T20:17:02.691Z"
      },
      {
        "duration": 25,
        "start_time": "2022-09-08T20:17:02.700Z"
      },
      {
        "duration": 550,
        "start_time": "2022-09-08T20:17:02.727Z"
      },
      {
        "duration": 4,
        "start_time": "2022-09-08T20:17:03.279Z"
      },
      {
        "duration": 456,
        "start_time": "2022-09-08T20:17:03.285Z"
      },
      {
        "duration": 21,
        "start_time": "2022-09-08T20:17:03.746Z"
      },
      {
        "duration": 8,
        "start_time": "2022-09-08T20:17:03.769Z"
      },
      {
        "duration": 39,
        "start_time": "2022-09-08T20:17:03.779Z"
      },
      {
        "duration": 7,
        "start_time": "2022-09-08T20:17:03.820Z"
      },
      {
        "duration": 11,
        "start_time": "2022-09-08T20:17:03.829Z"
      },
      {
        "duration": 24,
        "start_time": "2022-09-08T20:17:03.841Z"
      },
      {
        "duration": 11,
        "start_time": "2022-09-08T20:17:03.867Z"
      },
      {
        "duration": 6,
        "start_time": "2022-09-08T20:17:03.879Z"
      },
      {
        "duration": 7,
        "start_time": "2022-09-08T20:17:03.886Z"
      },
      {
        "duration": 7,
        "start_time": "2022-09-08T20:17:03.895Z"
      },
      {
        "duration": 7,
        "start_time": "2022-09-08T20:17:03.904Z"
      },
      {
        "duration": 47,
        "start_time": "2022-09-08T20:17:03.913Z"
      },
      {
        "duration": 8847,
        "start_time": "2022-09-08T20:17:03.965Z"
      },
      {
        "duration": 538,
        "start_time": "2022-09-08T20:17:12.814Z"
      },
      {
        "duration": 383,
        "start_time": "2022-09-08T20:17:13.354Z"
      },
      {
        "duration": 39,
        "start_time": "2022-09-08T20:17:13.739Z"
      },
      {
        "duration": 181,
        "start_time": "2022-09-08T20:17:13.780Z"
      },
      {
        "duration": 2480,
        "start_time": "2022-09-08T20:17:13.968Z"
      },
      {
        "duration": 21,
        "start_time": "2022-09-08T20:17:16.450Z"
      },
      {
        "duration": 514256,
        "start_time": "2022-09-08T20:17:16.473Z"
      },
      {
        "duration": 3,
        "start_time": "2022-09-08T20:25:50.731Z"
      },
      {
        "duration": 3391,
        "start_time": "2022-09-08T20:25:50.736Z"
      },
      {
        "duration": 662242,
        "start_time": "2022-09-08T20:25:54.129Z"
      },
      {
        "duration": 7901,
        "start_time": "2022-09-08T20:36:56.373Z"
      },
      {
        "duration": 5,
        "start_time": "2022-09-08T20:37:04.275Z"
      },
      {
        "duration": 84,
        "start_time": "2022-09-08T20:37:04.282Z"
      },
      {
        "duration": 113,
        "start_time": "2022-09-08T20:37:04.368Z"
      },
      {
        "duration": 0,
        "start_time": "2022-09-08T20:37:04.483Z"
      },
      {
        "duration": 0,
        "start_time": "2022-09-08T20:37:04.484Z"
      },
      {
        "duration": 0,
        "start_time": "2022-09-08T20:37:04.485Z"
      },
      {
        "duration": 0,
        "start_time": "2022-09-08T20:37:04.486Z"
      },
      {
        "duration": 11,
        "start_time": "2022-09-08T20:37:37.100Z"
      },
      {
        "duration": 5,
        "start_time": "2022-09-08T20:39:56.271Z"
      },
      {
        "duration": 11,
        "start_time": "2022-09-08T20:39:56.757Z"
      },
      {
        "duration": 13,
        "start_time": "2022-09-08T20:39:59.811Z"
      },
      {
        "duration": 4,
        "start_time": "2022-09-08T20:40:01.994Z"
      },
      {
        "duration": 6,
        "start_time": "2022-09-08T20:40:03.000Z"
      },
      {
        "duration": 3662,
        "start_time": "2022-09-08T20:40:05.149Z"
      },
      {
        "duration": 11,
        "start_time": "2022-09-08T20:41:56.569Z"
      },
      {
        "duration": 44,
        "start_time": "2022-09-08T20:43:31.290Z"
      },
      {
        "duration": 9,
        "start_time": "2022-09-08T20:43:31.775Z"
      },
      {
        "duration": 7,
        "start_time": "2022-09-08T20:43:32.193Z"
      },
      {
        "duration": 3,
        "start_time": "2022-09-08T20:43:32.366Z"
      },
      {
        "duration": 7,
        "start_time": "2022-09-08T20:43:32.545Z"
      },
      {
        "duration": 7,
        "start_time": "2022-09-08T20:43:32.769Z"
      },
      {
        "duration": 750,
        "start_time": "2022-09-08T20:43:33.451Z"
      },
      {
        "duration": 6,
        "start_time": "2022-09-08T20:43:34.203Z"
      },
      {
        "duration": 8,
        "start_time": "2022-09-08T20:43:35.977Z"
      },
      {
        "duration": 688,
        "start_time": "2022-09-08T20:43:36.910Z"
      },
      {
        "duration": 3,
        "start_time": "2022-09-08T20:43:40.627Z"
      },
      {
        "duration": 4,
        "start_time": "2022-09-08T20:43:46.151Z"
      },
      {
        "duration": 8,
        "start_time": "2022-09-08T20:43:47.861Z"
      },
      {
        "duration": 4,
        "start_time": "2022-09-08T20:43:48.737Z"
      },
      {
        "duration": 101,
        "start_time": "2022-09-08T20:43:49.754Z"
      },
      {
        "duration": 4,
        "start_time": "2022-09-08T20:44:13.701Z"
      },
      {
        "duration": 50,
        "start_time": "2022-09-08T20:44:14.219Z"
      },
      {
        "duration": 9,
        "start_time": "2022-09-08T20:44:14.893Z"
      },
      {
        "duration": 7,
        "start_time": "2022-09-08T20:44:15.888Z"
      },
      {
        "duration": 4,
        "start_time": "2022-09-08T20:44:16.676Z"
      },
      {
        "duration": 7,
        "start_time": "2022-09-08T20:44:18.669Z"
      },
      {
        "duration": 6,
        "start_time": "2022-09-08T20:44:19.239Z"
      },
      {
        "duration": 695,
        "start_time": "2022-09-08T20:44:20.330Z"
      },
      {
        "duration": 6,
        "start_time": "2022-09-08T20:44:21.590Z"
      },
      {
        "duration": 7,
        "start_time": "2022-09-08T20:44:23.801Z"
      },
      {
        "duration": 597,
        "start_time": "2022-09-08T20:44:25.510Z"
      },
      {
        "duration": 3,
        "start_time": "2022-09-08T20:44:28.966Z"
      },
      {
        "duration": 509,
        "start_time": "2022-09-08T20:44:30.266Z"
      },
      {
        "duration": 12,
        "start_time": "2022-09-08T20:44:35.572Z"
      },
      {
        "duration": 4,
        "start_time": "2022-09-08T20:45:11.201Z"
      },
      {
        "duration": 32,
        "start_time": "2022-09-08T20:45:12.703Z"
      },
      {
        "duration": 7,
        "start_time": "2022-09-08T20:45:16.301Z"
      },
      {
        "duration": 10,
        "start_time": "2022-09-08T20:45:19.345Z"
      },
      {
        "duration": 4,
        "start_time": "2022-09-08T20:45:33.857Z"
      },
      {
        "duration": 4,
        "start_time": "2022-09-08T20:45:41.638Z"
      },
      {
        "duration": 5,
        "start_time": "2022-09-08T20:45:43.298Z"
      },
      {
        "duration": 3416,
        "start_time": "2022-09-08T20:45:45.047Z"
      },
      {
        "duration": 1664,
        "start_time": "2022-09-09T08:35:50.587Z"
      },
      {
        "duration": 141,
        "start_time": "2022-09-09T08:35:52.253Z"
      },
      {
        "duration": 12,
        "start_time": "2022-09-09T08:35:52.395Z"
      },
      {
        "duration": 10,
        "start_time": "2022-09-09T08:35:52.409Z"
      },
      {
        "duration": 4,
        "start_time": "2022-09-09T08:35:52.421Z"
      },
      {
        "duration": 11,
        "start_time": "2022-09-09T08:35:52.427Z"
      },
      {
        "duration": 7,
        "start_time": "2022-09-09T08:35:52.440Z"
      },
      {
        "duration": 640,
        "start_time": "2022-09-09T08:35:52.448Z"
      },
      {
        "duration": 7,
        "start_time": "2022-09-09T08:35:53.091Z"
      },
      {
        "duration": 12,
        "start_time": "2022-09-09T08:35:53.101Z"
      },
      {
        "duration": 553,
        "start_time": "2022-09-09T08:35:53.115Z"
      },
      {
        "duration": 3,
        "start_time": "2022-09-09T08:35:53.670Z"
      },
      {
        "duration": 529,
        "start_time": "2022-09-09T08:35:53.675Z"
      },
      {
        "duration": 10,
        "start_time": "2022-09-09T08:35:54.206Z"
      },
      {
        "duration": 4,
        "start_time": "2022-09-09T08:35:54.218Z"
      },
      {
        "duration": 37,
        "start_time": "2022-09-09T08:35:54.224Z"
      },
      {
        "duration": 6,
        "start_time": "2022-09-09T08:35:54.263Z"
      },
      {
        "duration": 42,
        "start_time": "2022-09-09T08:35:54.271Z"
      },
      {
        "duration": 4,
        "start_time": "2022-09-09T08:35:54.315Z"
      },
      {
        "duration": 9,
        "start_time": "2022-09-09T08:35:54.320Z"
      },
      {
        "duration": 7,
        "start_time": "2022-09-09T08:35:54.331Z"
      },
      {
        "duration": 14,
        "start_time": "2022-09-09T08:35:54.339Z"
      },
      {
        "duration": 6,
        "start_time": "2022-09-09T08:35:54.354Z"
      },
      {
        "duration": 9,
        "start_time": "2022-09-09T08:35:54.361Z"
      },
      {
        "duration": 40,
        "start_time": "2022-09-09T08:35:54.371Z"
      },
      {
        "duration": 9391,
        "start_time": "2022-09-09T08:35:54.413Z"
      },
      {
        "duration": 505,
        "start_time": "2022-09-09T08:36:03.808Z"
      },
      {
        "duration": 405,
        "start_time": "2022-09-09T08:36:04.316Z"
      },
      {
        "duration": 16,
        "start_time": "2022-09-09T08:36:04.724Z"
      },
      {
        "duration": 189,
        "start_time": "2022-09-09T08:36:04.742Z"
      },
      {
        "duration": 2602,
        "start_time": "2022-09-09T08:36:04.933Z"
      },
      {
        "duration": 14,
        "start_time": "2022-09-09T08:36:07.537Z"
      },
      {
        "duration": 471598,
        "start_time": "2022-09-09T08:36:07.552Z"
      },
      {
        "duration": 3,
        "start_time": "2022-09-09T08:43:59.152Z"
      },
      {
        "duration": 3623,
        "start_time": "2022-09-09T08:43:59.156Z"
      },
      {
        "duration": 229239,
        "start_time": "2022-09-09T08:44:02.780Z"
      },
      {
        "duration": 7315,
        "start_time": "2022-09-09T08:47:52.021Z"
      },
      {
        "duration": 6,
        "start_time": "2022-09-09T08:47:59.411Z"
      },
      {
        "duration": 16,
        "start_time": "2022-09-09T08:47:59.419Z"
      },
      {
        "duration": 119,
        "start_time": "2022-09-09T08:47:59.436Z"
      },
      {
        "duration": 0,
        "start_time": "2022-09-09T08:47:59.557Z"
      },
      {
        "duration": 0,
        "start_time": "2022-09-09T08:47:59.558Z"
      },
      {
        "duration": 0,
        "start_time": "2022-09-09T08:47:59.559Z"
      },
      {
        "duration": 3,
        "start_time": "2022-09-09T08:50:47.833Z"
      },
      {
        "duration": 5,
        "start_time": "2022-09-09T08:50:54.941Z"
      },
      {
        "duration": 28,
        "start_time": "2022-09-09T08:50:56.438Z"
      },
      {
        "duration": 5,
        "start_time": "2022-09-09T08:51:02.784Z"
      },
      {
        "duration": 5,
        "start_time": "2022-09-09T08:51:03.832Z"
      },
      {
        "duration": 6,
        "start_time": "2022-09-09T08:51:04.689Z"
      },
      {
        "duration": 3905,
        "start_time": "2022-09-09T08:51:05.721Z"
      },
      {
        "duration": 1698,
        "start_time": "2022-09-09T08:51:43.252Z"
      },
      {
        "duration": 1789,
        "start_time": "2022-09-09T08:52:03.100Z"
      },
      {
        "duration": 10153,
        "start_time": "2022-09-09T08:52:28.221Z"
      },
      {
        "duration": 1817,
        "start_time": "2022-09-09T08:52:51.895Z"
      },
      {
        "duration": 1626,
        "start_time": "2022-09-09T15:02:25.593Z"
      },
      {
        "duration": 1411,
        "start_time": "2022-09-09T15:07:27.778Z"
      },
      {
        "duration": 307,
        "start_time": "2022-09-09T15:07:29.191Z"
      },
      {
        "duration": 11,
        "start_time": "2022-09-09T15:07:29.499Z"
      },
      {
        "duration": 9,
        "start_time": "2022-09-09T15:07:29.511Z"
      },
      {
        "duration": 4,
        "start_time": "2022-09-09T15:07:29.521Z"
      },
      {
        "duration": 10,
        "start_time": "2022-09-09T15:07:29.526Z"
      },
      {
        "duration": 5,
        "start_time": "2022-09-09T15:07:29.537Z"
      },
      {
        "duration": 624,
        "start_time": "2022-09-09T15:07:29.544Z"
      },
      {
        "duration": 7,
        "start_time": "2022-09-09T15:07:30.170Z"
      },
      {
        "duration": 18,
        "start_time": "2022-09-09T15:07:30.180Z"
      },
      {
        "duration": 491,
        "start_time": "2022-09-09T15:07:30.200Z"
      },
      {
        "duration": 2,
        "start_time": "2022-09-09T15:07:30.693Z"
      },
      {
        "duration": 558,
        "start_time": "2022-09-09T15:07:30.697Z"
      },
      {
        "duration": 13,
        "start_time": "2022-09-09T15:07:31.263Z"
      },
      {
        "duration": 11,
        "start_time": "2022-09-09T15:07:31.277Z"
      },
      {
        "duration": 89,
        "start_time": "2022-09-09T15:07:31.290Z"
      },
      {
        "duration": 6,
        "start_time": "2022-09-09T15:07:31.381Z"
      },
      {
        "duration": 10,
        "start_time": "2022-09-09T15:07:31.388Z"
      },
      {
        "duration": 57,
        "start_time": "2022-09-09T15:07:31.399Z"
      },
      {
        "duration": 23,
        "start_time": "2022-09-09T15:07:31.458Z"
      },
      {
        "duration": 3,
        "start_time": "2022-09-09T15:07:31.484Z"
      },
      {
        "duration": 6,
        "start_time": "2022-09-09T15:07:31.489Z"
      },
      {
        "duration": 14,
        "start_time": "2022-09-09T15:07:31.497Z"
      },
      {
        "duration": 10,
        "start_time": "2022-09-09T15:07:31.557Z"
      },
      {
        "duration": 20,
        "start_time": "2022-09-09T15:07:31.569Z"
      },
      {
        "duration": 180,
        "start_time": "2022-09-09T15:07:31.591Z"
      },
      {
        "duration": 112,
        "start_time": "2022-09-09T15:07:31.861Z"
      },
      {
        "duration": 390,
        "start_time": "2022-09-09T15:07:31.977Z"
      },
      {
        "duration": 0,
        "start_time": "2022-09-09T15:07:32.369Z"
      },
      {
        "duration": 0,
        "start_time": "2022-09-09T15:07:32.370Z"
      },
      {
        "duration": 0,
        "start_time": "2022-09-09T15:07:32.372Z"
      },
      {
        "duration": 0,
        "start_time": "2022-09-09T15:07:32.373Z"
      },
      {
        "duration": 0,
        "start_time": "2022-09-09T15:07:32.375Z"
      },
      {
        "duration": 0,
        "start_time": "2022-09-09T15:07:32.376Z"
      },
      {
        "duration": 0,
        "start_time": "2022-09-09T15:07:32.378Z"
      },
      {
        "duration": 0,
        "start_time": "2022-09-09T15:07:32.379Z"
      },
      {
        "duration": 0,
        "start_time": "2022-09-09T15:07:32.380Z"
      },
      {
        "duration": 0,
        "start_time": "2022-09-09T15:07:32.381Z"
      },
      {
        "duration": 0,
        "start_time": "2022-09-09T15:07:32.382Z"
      },
      {
        "duration": 0,
        "start_time": "2022-09-09T15:07:32.384Z"
      },
      {
        "duration": 0,
        "start_time": "2022-09-09T15:07:32.385Z"
      },
      {
        "duration": 0,
        "start_time": "2022-09-09T15:07:32.386Z"
      },
      {
        "duration": 0,
        "start_time": "2022-09-09T15:07:32.387Z"
      },
      {
        "duration": 0,
        "start_time": "2022-09-09T15:07:32.389Z"
      },
      {
        "duration": 17,
        "start_time": "2022-09-09T15:15:44.315Z"
      },
      {
        "duration": 16,
        "start_time": "2022-09-09T15:16:41.211Z"
      },
      {
        "duration": 14,
        "start_time": "2022-09-09T15:19:55.072Z"
      },
      {
        "duration": 13,
        "start_time": "2022-09-09T15:20:32.909Z"
      },
      {
        "duration": 3,
        "start_time": "2022-09-09T15:24:13.051Z"
      },
      {
        "duration": 365,
        "start_time": "2022-09-09T15:24:13.734Z"
      },
      {
        "duration": 18,
        "start_time": "2022-09-09T15:24:14.490Z"
      },
      {
        "duration": 1497,
        "start_time": "2022-09-09T15:24:26.859Z"
      },
      {
        "duration": 46,
        "start_time": "2022-09-09T15:24:28.358Z"
      },
      {
        "duration": 50,
        "start_time": "2022-09-09T15:24:28.405Z"
      },
      {
        "duration": 12,
        "start_time": "2022-09-09T15:24:28.458Z"
      },
      {
        "duration": 19,
        "start_time": "2022-09-09T15:24:28.472Z"
      },
      {
        "duration": 61,
        "start_time": "2022-09-09T15:24:28.494Z"
      },
      {
        "duration": 8,
        "start_time": "2022-09-09T15:24:28.557Z"
      },
      {
        "duration": 1234,
        "start_time": "2022-09-09T15:24:28.567Z"
      },
      {
        "duration": 6,
        "start_time": "2022-09-09T15:24:29.803Z"
      },
      {
        "duration": 11,
        "start_time": "2022-09-09T15:24:29.811Z"
      },
      {
        "duration": 478,
        "start_time": "2022-09-09T15:24:29.823Z"
      },
      {
        "duration": 3,
        "start_time": "2022-09-09T15:24:30.302Z"
      },
      {
        "duration": 423,
        "start_time": "2022-09-09T15:24:30.307Z"
      },
      {
        "duration": 9,
        "start_time": "2022-09-09T15:24:30.731Z"
      },
      {
        "duration": 14,
        "start_time": "2022-09-09T15:24:30.742Z"
      },
      {
        "duration": 40,
        "start_time": "2022-09-09T15:24:30.757Z"
      },
      {
        "duration": 8,
        "start_time": "2022-09-09T15:24:30.798Z"
      },
      {
        "duration": 8,
        "start_time": "2022-09-09T15:24:30.808Z"
      },
      {
        "duration": 19,
        "start_time": "2022-09-09T15:24:30.817Z"
      },
      {
        "duration": 6,
        "start_time": "2022-09-09T15:24:30.837Z"
      },
      {
        "duration": 10,
        "start_time": "2022-09-09T15:24:30.845Z"
      },
      {
        "duration": 15,
        "start_time": "2022-09-09T15:24:30.856Z"
      },
      {
        "duration": 10,
        "start_time": "2022-09-09T15:24:30.872Z"
      },
      {
        "duration": 19,
        "start_time": "2022-09-09T15:24:30.884Z"
      },
      {
        "duration": 16,
        "start_time": "2022-09-09T15:24:30.904Z"
      },
      {
        "duration": 275,
        "start_time": "2022-09-09T15:24:30.922Z"
      },
      {
        "duration": 180,
        "start_time": "2022-09-09T15:24:31.199Z"
      },
      {
        "duration": 167,
        "start_time": "2022-09-09T15:24:31.382Z"
      },
      {
        "duration": 17,
        "start_time": "2022-09-09T15:24:31.550Z"
      },
      {
        "duration": 20,
        "start_time": "2022-09-09T15:24:31.568Z"
      },
      {
        "duration": 0,
        "start_time": "2022-09-09T15:24:31.589Z"
      },
      {
        "duration": 0,
        "start_time": "2022-09-09T15:24:31.590Z"
      },
      {
        "duration": 0,
        "start_time": "2022-09-09T15:24:31.591Z"
      },
      {
        "duration": 0,
        "start_time": "2022-09-09T15:24:31.592Z"
      },
      {
        "duration": 0,
        "start_time": "2022-09-09T15:24:31.593Z"
      },
      {
        "duration": 0,
        "start_time": "2022-09-09T15:24:31.594Z"
      },
      {
        "duration": 0,
        "start_time": "2022-09-09T15:24:31.594Z"
      },
      {
        "duration": 0,
        "start_time": "2022-09-09T15:24:31.595Z"
      },
      {
        "duration": 0,
        "start_time": "2022-09-09T15:24:31.596Z"
      },
      {
        "duration": 0,
        "start_time": "2022-09-09T15:24:31.597Z"
      },
      {
        "duration": 0,
        "start_time": "2022-09-09T15:24:31.597Z"
      },
      {
        "duration": 0,
        "start_time": "2022-09-09T15:24:31.599Z"
      },
      {
        "duration": 0,
        "start_time": "2022-09-09T15:24:31.600Z"
      },
      {
        "duration": 0,
        "start_time": "2022-09-09T15:24:31.601Z"
      },
      {
        "duration": 0,
        "start_time": "2022-09-09T15:24:31.602Z"
      },
      {
        "duration": 0,
        "start_time": "2022-09-09T15:24:31.603Z"
      },
      {
        "duration": 1397,
        "start_time": "2022-09-09T15:27:56.579Z"
      },
      {
        "duration": 45,
        "start_time": "2022-09-09T15:27:57.977Z"
      },
      {
        "duration": 11,
        "start_time": "2022-09-09T15:27:58.024Z"
      },
      {
        "duration": 9,
        "start_time": "2022-09-09T15:27:58.037Z"
      },
      {
        "duration": 3,
        "start_time": "2022-09-09T15:27:58.047Z"
      },
      {
        "duration": 10,
        "start_time": "2022-09-09T15:27:58.051Z"
      },
      {
        "duration": 6,
        "start_time": "2022-09-09T15:27:58.063Z"
      },
      {
        "duration": 603,
        "start_time": "2022-09-09T15:27:58.070Z"
      },
      {
        "duration": 5,
        "start_time": "2022-09-09T15:27:58.675Z"
      },
      {
        "duration": 7,
        "start_time": "2022-09-09T15:27:58.682Z"
      },
      {
        "duration": 462,
        "start_time": "2022-09-09T15:27:58.691Z"
      },
      {
        "duration": 2,
        "start_time": "2022-09-09T15:27:59.155Z"
      },
      {
        "duration": 428,
        "start_time": "2022-09-09T15:27:59.159Z"
      },
      {
        "duration": 9,
        "start_time": "2022-09-09T15:27:59.588Z"
      },
      {
        "duration": 5,
        "start_time": "2022-09-09T15:27:59.599Z"
      },
      {
        "duration": 31,
        "start_time": "2022-09-09T15:27:59.655Z"
      },
      {
        "duration": 6,
        "start_time": "2022-09-09T15:27:59.688Z"
      },
      {
        "duration": 61,
        "start_time": "2022-09-09T15:27:59.695Z"
      },
      {
        "duration": 4,
        "start_time": "2022-09-09T15:27:59.757Z"
      },
      {
        "duration": 11,
        "start_time": "2022-09-09T15:27:59.763Z"
      },
      {
        "duration": 7,
        "start_time": "2022-09-09T15:27:59.775Z"
      },
      {
        "duration": 7,
        "start_time": "2022-09-09T15:27:59.783Z"
      },
      {
        "duration": 7,
        "start_time": "2022-09-09T15:27:59.791Z"
      },
      {
        "duration": 57,
        "start_time": "2022-09-09T15:27:59.799Z"
      },
      {
        "duration": 12,
        "start_time": "2022-09-09T15:27:59.858Z"
      },
      {
        "duration": 91,
        "start_time": "2022-09-09T15:27:59.873Z"
      },
      {
        "duration": 100,
        "start_time": "2022-09-09T15:28:00.056Z"
      },
      {
        "duration": 106,
        "start_time": "2022-09-09T15:28:00.159Z"
      },
      {
        "duration": 294,
        "start_time": "2022-09-09T15:28:00.267Z"
      },
      {
        "duration": 0,
        "start_time": "2022-09-09T15:28:00.563Z"
      },
      {
        "duration": 0,
        "start_time": "2022-09-09T15:28:00.565Z"
      },
      {
        "duration": 0,
        "start_time": "2022-09-09T15:28:00.566Z"
      },
      {
        "duration": 0,
        "start_time": "2022-09-09T15:28:00.567Z"
      },
      {
        "duration": 0,
        "start_time": "2022-09-09T15:28:00.568Z"
      },
      {
        "duration": 0,
        "start_time": "2022-09-09T15:28:00.569Z"
      },
      {
        "duration": 0,
        "start_time": "2022-09-09T15:28:00.569Z"
      },
      {
        "duration": 0,
        "start_time": "2022-09-09T15:28:00.570Z"
      },
      {
        "duration": 0,
        "start_time": "2022-09-09T15:28:00.572Z"
      },
      {
        "duration": 0,
        "start_time": "2022-09-09T15:28:00.572Z"
      },
      {
        "duration": 0,
        "start_time": "2022-09-09T15:28:00.573Z"
      },
      {
        "duration": 0,
        "start_time": "2022-09-09T15:28:00.574Z"
      },
      {
        "duration": 0,
        "start_time": "2022-09-09T15:28:00.575Z"
      },
      {
        "duration": 0,
        "start_time": "2022-09-09T15:28:00.576Z"
      },
      {
        "duration": 0,
        "start_time": "2022-09-09T15:28:00.577Z"
      },
      {
        "duration": 0,
        "start_time": "2022-09-09T15:28:00.577Z"
      },
      {
        "duration": 406032,
        "start_time": "2022-09-09T15:33:44.605Z"
      },
      {
        "duration": 69,
        "start_time": "2022-09-09T15:40:49.475Z"
      },
      {
        "duration": 457853,
        "start_time": "2022-09-09T15:45:30.005Z"
      },
      {
        "duration": 68,
        "start_time": "2022-09-09T15:53:16.417Z"
      },
      {
        "duration": 3,
        "start_time": "2022-09-09T15:53:29.447Z"
      },
      {
        "duration": 4,
        "start_time": "2022-09-09T15:53:54.659Z"
      },
      {
        "duration": 83,
        "start_time": "2022-09-09T15:54:21.530Z"
      },
      {
        "duration": 126,
        "start_time": "2022-09-09T15:54:33.549Z"
      },
      {
        "duration": 75,
        "start_time": "2022-09-09T15:54:38.034Z"
      },
      {
        "duration": 47,
        "start_time": "2022-09-09T15:55:16.291Z"
      },
      {
        "duration": 42,
        "start_time": "2022-09-09T15:55:35.743Z"
      },
      {
        "duration": 43,
        "start_time": "2022-09-09T15:56:21.718Z"
      },
      {
        "duration": 35,
        "start_time": "2022-09-09T15:57:10.485Z"
      },
      {
        "duration": 38,
        "start_time": "2022-09-09T15:57:43.518Z"
      },
      {
        "duration": 49,
        "start_time": "2022-09-09T16:00:04.984Z"
      },
      {
        "duration": 39,
        "start_time": "2022-09-09T16:00:32.937Z"
      },
      {
        "duration": 39,
        "start_time": "2022-09-09T16:01:33.138Z"
      },
      {
        "duration": 41,
        "start_time": "2022-09-09T16:01:46.891Z"
      },
      {
        "duration": 48,
        "start_time": "2022-09-09T16:02:10.198Z"
      },
      {
        "duration": 59,
        "start_time": "2022-09-09T16:02:49.058Z"
      },
      {
        "duration": 4,
        "start_time": "2022-09-09T16:03:08.716Z"
      },
      {
        "duration": 5,
        "start_time": "2022-09-09T16:03:09.637Z"
      },
      {
        "duration": 6,
        "start_time": "2022-09-09T16:03:10.315Z"
      },
      {
        "duration": 1701,
        "start_time": "2022-09-09T16:03:17.062Z"
      },
      {
        "duration": 63,
        "start_time": "2022-09-09T16:03:29.014Z"
      },
      {
        "duration": 5,
        "start_time": "2022-09-09T16:08:16.584Z"
      },
      {
        "duration": 47,
        "start_time": "2022-09-09T16:08:17.499Z"
      },
      {
        "duration": 9,
        "start_time": "2022-09-09T16:08:17.935Z"
      },
      {
        "duration": 6,
        "start_time": "2022-09-09T16:08:20.262Z"
      },
      {
        "duration": 4,
        "start_time": "2022-09-09T16:08:22.720Z"
      },
      {
        "duration": 7,
        "start_time": "2022-09-09T16:08:23.488Z"
      },
      {
        "duration": 7,
        "start_time": "2022-09-09T16:08:24.237Z"
      },
      {
        "duration": 527,
        "start_time": "2022-09-09T16:08:26.379Z"
      },
      {
        "duration": 5,
        "start_time": "2022-09-09T16:08:26.908Z"
      },
      {
        "duration": 8,
        "start_time": "2022-09-09T16:08:30.252Z"
      },
      {
        "duration": 485,
        "start_time": "2022-09-09T16:08:30.731Z"
      },
      {
        "duration": 3,
        "start_time": "2022-09-09T16:08:35.556Z"
      },
      {
        "duration": 412,
        "start_time": "2022-09-09T16:08:36.296Z"
      },
      {
        "duration": 9,
        "start_time": "2022-09-09T16:08:39.125Z"
      },
      {
        "duration": 4,
        "start_time": "2022-09-09T16:08:43.740Z"
      },
      {
        "duration": 36,
        "start_time": "2022-09-09T16:08:46.501Z"
      },
      {
        "duration": 7,
        "start_time": "2022-09-09T16:08:50.312Z"
      },
      {
        "duration": 10,
        "start_time": "2022-09-09T16:08:51.574Z"
      },
      {
        "duration": 4,
        "start_time": "2022-09-09T16:08:54.720Z"
      },
      {
        "duration": 5,
        "start_time": "2022-09-09T16:09:00.537Z"
      },
      {
        "duration": 497151,
        "start_time": "2022-09-09T16:09:39.229Z"
      },
      {
        "duration": 2,
        "start_time": "2022-09-09T16:17:56.383Z"
      },
      {
        "duration": 4,
        "start_time": "2022-09-09T16:19:01.494Z"
      },
      {
        "duration": 4,
        "start_time": "2022-09-09T16:19:02.279Z"
      },
      {
        "duration": 4,
        "start_time": "2022-09-09T16:19:03.115Z"
      },
      {
        "duration": 110,
        "start_time": "2022-09-09T16:19:05.911Z"
      },
      {
        "duration": 45,
        "start_time": "2022-09-09T16:19:30.239Z"
      },
      {
        "duration": 9,
        "start_time": "2022-09-09T16:19:32.606Z"
      },
      {
        "duration": 4,
        "start_time": "2022-09-09T16:19:36.928Z"
      },
      {
        "duration": 6,
        "start_time": "2022-09-09T16:19:37.383Z"
      },
      {
        "duration": 4,
        "start_time": "2022-09-09T16:19:40.227Z"
      },
      {
        "duration": 8,
        "start_time": "2022-09-09T16:20:02.186Z"
      },
      {
        "duration": 6,
        "start_time": "2022-09-09T16:20:02.373Z"
      },
      {
        "duration": 3,
        "start_time": "2022-09-09T16:20:02.537Z"
      },
      {
        "duration": 8,
        "start_time": "2022-09-09T16:20:02.754Z"
      },
      {
        "duration": 7,
        "start_time": "2022-09-09T16:20:02.977Z"
      },
      {
        "duration": 3,
        "start_time": "2022-09-09T16:22:09.404Z"
      },
      {
        "duration": 398,
        "start_time": "2022-09-09T16:22:09.620Z"
      },
      {
        "duration": 11,
        "start_time": "2022-09-09T16:22:10.247Z"
      },
      {
        "duration": 4,
        "start_time": "2022-09-09T16:22:19.207Z"
      },
      {
        "duration": 33,
        "start_time": "2022-09-09T16:22:23.417Z"
      },
      {
        "duration": 7,
        "start_time": "2022-09-09T16:22:27.053Z"
      },
      {
        "duration": 11,
        "start_time": "2022-09-09T16:22:28.217Z"
      },
      {
        "duration": 4,
        "start_time": "2022-09-09T16:22:32.844Z"
      },
      {
        "duration": 87,
        "start_time": "2022-09-09T16:30:08.677Z"
      },
      {
        "duration": 70,
        "start_time": "2022-09-09T16:30:58.849Z"
      },
      {
        "duration": 88,
        "start_time": "2022-09-09T16:32:05.202Z"
      },
      {
        "duration": 78,
        "start_time": "2022-09-09T16:32:17.263Z"
      },
      {
        "duration": 32,
        "start_time": "2022-09-09T16:35:20.135Z"
      },
      {
        "duration": 51869,
        "start_time": "2022-09-09T16:35:53.393Z"
      },
      {
        "duration": 92,
        "start_time": "2022-09-09T16:36:45.264Z"
      },
      {
        "duration": 11,
        "start_time": "2022-09-09T16:37:24.250Z"
      },
      {
        "duration": 12,
        "start_time": "2022-09-09T16:37:33.939Z"
      },
      {
        "duration": 13,
        "start_time": "2022-09-09T16:38:27.434Z"
      },
      {
        "duration": 14,
        "start_time": "2022-09-09T16:39:09.310Z"
      },
      {
        "duration": 14,
        "start_time": "2022-09-09T16:39:24.754Z"
      },
      {
        "duration": 14,
        "start_time": "2022-09-09T16:39:41.960Z"
      },
      {
        "duration": 13,
        "start_time": "2022-09-09T16:40:03.568Z"
      },
      {
        "duration": 10,
        "start_time": "2022-09-09T16:40:15.946Z"
      },
      {
        "duration": 42,
        "start_time": "2022-09-09T16:41:33.415Z"
      },
      {
        "duration": 1436,
        "start_time": "2022-09-09T16:41:56.858Z"
      },
      {
        "duration": 46,
        "start_time": "2022-09-09T16:41:58.295Z"
      },
      {
        "duration": 10,
        "start_time": "2022-09-09T16:41:58.342Z"
      },
      {
        "duration": 8,
        "start_time": "2022-09-09T16:41:58.354Z"
      },
      {
        "duration": 3,
        "start_time": "2022-09-09T16:41:58.364Z"
      },
      {
        "duration": 11,
        "start_time": "2022-09-09T16:41:58.368Z"
      },
      {
        "duration": 6,
        "start_time": "2022-09-09T16:41:58.380Z"
      },
      {
        "duration": 593,
        "start_time": "2022-09-09T16:41:58.388Z"
      },
      {
        "duration": 6,
        "start_time": "2022-09-09T16:41:58.982Z"
      },
      {
        "duration": 8,
        "start_time": "2022-09-09T16:41:58.990Z"
      },
      {
        "duration": 458,
        "start_time": "2022-09-09T16:41:59.000Z"
      },
      {
        "duration": 2,
        "start_time": "2022-09-09T16:41:59.460Z"
      },
      {
        "duration": 426,
        "start_time": "2022-09-09T16:41:59.464Z"
      },
      {
        "duration": 9,
        "start_time": "2022-09-09T16:41:59.891Z"
      },
      {
        "duration": 7,
        "start_time": "2022-09-09T16:41:59.902Z"
      },
      {
        "duration": 45,
        "start_time": "2022-09-09T16:41:59.910Z"
      },
      {
        "duration": 6,
        "start_time": "2022-09-09T16:41:59.957Z"
      },
      {
        "duration": 9,
        "start_time": "2022-09-09T16:41:59.964Z"
      },
      {
        "duration": 3,
        "start_time": "2022-09-09T16:41:59.975Z"
      },
      {
        "duration": 10,
        "start_time": "2022-09-09T16:41:59.980Z"
      },
      {
        "duration": 18,
        "start_time": "2022-09-09T16:41:59.991Z"
      },
      {
        "duration": 2449,
        "start_time": "2022-09-09T16:42:00.011Z"
      },
      {
        "duration": 170,
        "start_time": "2022-09-09T16:42:02.462Z"
      },
      {
        "duration": 13828,
        "start_time": "2022-09-09T16:42:02.634Z"
      },
      {
        "duration": 10,
        "start_time": "2022-09-09T16:42:16.463Z"
      },
      {
        "duration": 0,
        "start_time": "2022-09-09T16:42:16.474Z"
      },
      {
        "duration": 0,
        "start_time": "2022-09-09T16:42:16.476Z"
      },
      {
        "duration": 0,
        "start_time": "2022-09-09T16:42:16.477Z"
      },
      {
        "duration": 0,
        "start_time": "2022-09-09T16:42:16.479Z"
      },
      {
        "duration": 0,
        "start_time": "2022-09-09T16:42:16.480Z"
      },
      {
        "duration": 0,
        "start_time": "2022-09-09T16:42:16.481Z"
      },
      {
        "duration": 0,
        "start_time": "2022-09-09T16:42:16.482Z"
      },
      {
        "duration": 0,
        "start_time": "2022-09-09T16:42:16.483Z"
      },
      {
        "duration": 0,
        "start_time": "2022-09-09T16:42:16.484Z"
      },
      {
        "duration": 0,
        "start_time": "2022-09-09T16:42:16.485Z"
      },
      {
        "duration": 1,
        "start_time": "2022-09-09T16:42:16.485Z"
      },
      {
        "duration": 3350,
        "start_time": "2022-09-09T16:42:20.835Z"
      },
      {
        "duration": 4,
        "start_time": "2022-09-09T16:42:34.221Z"
      },
      {
        "duration": 6,
        "start_time": "2022-09-09T16:42:34.925Z"
      },
      {
        "duration": 4,
        "start_time": "2022-09-09T16:42:37.123Z"
      },
      {
        "duration": 373,
        "start_time": "2022-09-09T16:42:38.392Z"
      },
      {
        "duration": 1592,
        "start_time": "2022-09-09T20:17:36.179Z"
      },
      {
        "duration": 47,
        "start_time": "2022-09-09T20:17:37.773Z"
      },
      {
        "duration": 10,
        "start_time": "2022-09-09T20:17:37.822Z"
      },
      {
        "duration": 9,
        "start_time": "2022-09-09T20:17:37.834Z"
      },
      {
        "duration": 3,
        "start_time": "2022-09-09T20:17:37.845Z"
      },
      {
        "duration": 14,
        "start_time": "2022-09-09T20:17:37.849Z"
      },
      {
        "duration": 13,
        "start_time": "2022-09-09T20:17:37.865Z"
      },
      {
        "duration": 598,
        "start_time": "2022-09-09T20:17:37.879Z"
      },
      {
        "duration": 6,
        "start_time": "2022-09-09T20:17:38.478Z"
      },
      {
        "duration": 11,
        "start_time": "2022-09-09T20:17:38.485Z"
      },
      {
        "duration": 497,
        "start_time": "2022-09-09T20:17:38.497Z"
      },
      {
        "duration": 3,
        "start_time": "2022-09-09T20:17:38.996Z"
      },
      {
        "duration": 418,
        "start_time": "2022-09-09T20:17:39.000Z"
      },
      {
        "duration": 8,
        "start_time": "2022-09-09T20:17:39.421Z"
      },
      {
        "duration": 7,
        "start_time": "2022-09-09T20:17:39.431Z"
      },
      {
        "duration": 47,
        "start_time": "2022-09-09T20:17:39.439Z"
      },
      {
        "duration": 7,
        "start_time": "2022-09-09T20:17:39.488Z"
      },
      {
        "duration": 11,
        "start_time": "2022-09-09T20:17:39.497Z"
      },
      {
        "duration": 3,
        "start_time": "2022-09-09T20:17:39.510Z"
      },
      {
        "duration": 7,
        "start_time": "2022-09-09T20:17:39.515Z"
      },
      {
        "duration": 45,
        "start_time": "2022-09-09T20:17:39.523Z"
      },
      {
        "duration": 4,
        "start_time": "2022-09-09T20:17:39.573Z"
      },
      {
        "duration": 119,
        "start_time": "2022-09-09T20:17:39.579Z"
      },
      {
        "duration": 0,
        "start_time": "2022-09-09T20:17:39.700Z"
      },
      {
        "duration": 0,
        "start_time": "2022-09-09T20:17:39.701Z"
      },
      {
        "duration": 0,
        "start_time": "2022-09-09T20:17:39.702Z"
      },
      {
        "duration": 0,
        "start_time": "2022-09-09T20:17:39.704Z"
      },
      {
        "duration": 0,
        "start_time": "2022-09-09T20:17:39.704Z"
      },
      {
        "duration": 0,
        "start_time": "2022-09-09T20:17:39.705Z"
      },
      {
        "duration": 0,
        "start_time": "2022-09-09T20:17:39.706Z"
      },
      {
        "duration": 0,
        "start_time": "2022-09-09T20:17:39.707Z"
      },
      {
        "duration": 0,
        "start_time": "2022-09-09T20:17:39.709Z"
      },
      {
        "duration": 0,
        "start_time": "2022-09-09T20:17:39.710Z"
      },
      {
        "duration": 0,
        "start_time": "2022-09-09T20:17:39.711Z"
      },
      {
        "duration": 0,
        "start_time": "2022-09-09T20:17:39.712Z"
      },
      {
        "duration": 0,
        "start_time": "2022-09-09T20:17:39.713Z"
      },
      {
        "duration": 0,
        "start_time": "2022-09-09T20:17:39.714Z"
      },
      {
        "duration": 0,
        "start_time": "2022-09-09T20:17:39.716Z"
      },
      {
        "duration": 0,
        "start_time": "2022-09-09T20:17:39.716Z"
      },
      {
        "duration": 0,
        "start_time": "2022-09-09T20:17:39.717Z"
      },
      {
        "duration": 0,
        "start_time": "2022-09-09T20:17:39.718Z"
      },
      {
        "duration": 3,
        "start_time": "2022-09-09T20:17:59.896Z"
      },
      {
        "duration": 5,
        "start_time": "2022-09-09T20:18:42.430Z"
      },
      {
        "duration": 18,
        "start_time": "2022-09-09T20:18:47.750Z"
      },
      {
        "duration": 4,
        "start_time": "2022-09-09T20:18:58.734Z"
      },
      {
        "duration": 5,
        "start_time": "2022-09-09T20:19:03.666Z"
      },
      {
        "duration": 6,
        "start_time": "2022-09-09T20:19:10.578Z"
      },
      {
        "duration": 11,
        "start_time": "2022-09-09T20:19:19.485Z"
      },
      {
        "duration": 15,
        "start_time": "2022-09-09T20:19:23.732Z"
      },
      {
        "duration": 8,
        "start_time": "2022-09-09T20:19:26.877Z"
      },
      {
        "duration": 24,
        "start_time": "2022-09-09T20:19:30.003Z"
      },
      {
        "duration": 35,
        "start_time": "2022-09-09T20:23:15.289Z"
      },
      {
        "duration": 25,
        "start_time": "2022-09-09T20:23:46.696Z"
      },
      {
        "duration": 26,
        "start_time": "2022-09-09T20:25:42.893Z"
      },
      {
        "duration": 99,
        "start_time": "2022-09-09T20:26:23.076Z"
      },
      {
        "duration": 71,
        "start_time": "2022-09-09T20:26:43.069Z"
      },
      {
        "duration": 82,
        "start_time": "2022-09-09T20:26:50.234Z"
      },
      {
        "duration": 75,
        "start_time": "2022-09-09T20:28:09.771Z"
      },
      {
        "duration": 19,
        "start_time": "2022-09-09T20:29:22.290Z"
      },
      {
        "duration": 24,
        "start_time": "2022-09-09T20:32:04.070Z"
      },
      {
        "duration": 11,
        "start_time": "2022-09-09T20:34:43.016Z"
      },
      {
        "duration": 4,
        "start_time": "2022-09-09T20:34:51.686Z"
      },
      {
        "duration": 11,
        "start_time": "2022-09-09T20:36:30.272Z"
      },
      {
        "duration": 4,
        "start_time": "2022-09-09T20:36:41.168Z"
      },
      {
        "duration": 1443,
        "start_time": "2022-09-09T20:37:26.875Z"
      },
      {
        "duration": 54,
        "start_time": "2022-09-09T20:37:28.319Z"
      },
      {
        "duration": 12,
        "start_time": "2022-09-09T20:37:28.374Z"
      },
      {
        "duration": 9,
        "start_time": "2022-09-09T20:37:28.389Z"
      },
      {
        "duration": 3,
        "start_time": "2022-09-09T20:37:28.400Z"
      },
      {
        "duration": 9,
        "start_time": "2022-09-09T20:37:28.405Z"
      },
      {
        "duration": 6,
        "start_time": "2022-09-09T20:37:28.416Z"
      },
      {
        "duration": 618,
        "start_time": "2022-09-09T20:37:28.463Z"
      },
      {
        "duration": 6,
        "start_time": "2022-09-09T20:37:29.083Z"
      },
      {
        "duration": 12,
        "start_time": "2022-09-09T20:37:29.093Z"
      },
      {
        "duration": 971,
        "start_time": "2022-09-09T20:37:29.107Z"
      },
      {
        "duration": 2,
        "start_time": "2022-09-09T20:37:30.080Z"
      },
      {
        "duration": 777,
        "start_time": "2022-09-09T20:37:30.084Z"
      },
      {
        "duration": 10,
        "start_time": "2022-09-09T20:37:30.868Z"
      },
      {
        "duration": 7,
        "start_time": "2022-09-09T20:37:30.880Z"
      },
      {
        "duration": 88,
        "start_time": "2022-09-09T20:37:30.888Z"
      },
      {
        "duration": 8,
        "start_time": "2022-09-09T20:37:30.978Z"
      },
      {
        "duration": 68,
        "start_time": "2022-09-09T20:37:30.989Z"
      },
      {
        "duration": 8,
        "start_time": "2022-09-09T20:37:31.059Z"
      },
      {
        "duration": 12,
        "start_time": "2022-09-09T20:37:31.068Z"
      },
      {
        "duration": 12,
        "start_time": "2022-09-09T20:37:31.082Z"
      },
      {
        "duration": 11,
        "start_time": "2022-09-09T20:37:31.096Z"
      },
      {
        "duration": 51,
        "start_time": "2022-09-09T20:37:31.108Z"
      },
      {
        "duration": 13,
        "start_time": "2022-09-09T20:37:31.161Z"
      },
      {
        "duration": 16,
        "start_time": "2022-09-09T20:37:31.176Z"
      },
      {
        "duration": 13,
        "start_time": "2022-09-09T20:37:31.194Z"
      },
      {
        "duration": 70,
        "start_time": "2022-09-09T20:37:31.208Z"
      },
      {
        "duration": 176,
        "start_time": "2022-09-09T20:37:31.282Z"
      },
      {
        "duration": 105,
        "start_time": "2022-09-09T20:37:31.460Z"
      },
      {
        "duration": 518379,
        "start_time": "2022-09-09T20:37:31.566Z"
      },
      {
        "duration": 51,
        "start_time": "2022-09-09T20:46:09.947Z"
      },
      {
        "duration": 123,
        "start_time": "2022-09-09T20:46:09.999Z"
      },
      {
        "duration": 0,
        "start_time": "2022-09-09T20:46:10.123Z"
      },
      {
        "duration": 0,
        "start_time": "2022-09-09T20:46:10.124Z"
      },
      {
        "duration": 0,
        "start_time": "2022-09-09T20:46:10.125Z"
      },
      {
        "duration": 0,
        "start_time": "2022-09-09T20:46:10.126Z"
      },
      {
        "duration": 0,
        "start_time": "2022-09-09T20:46:10.127Z"
      },
      {
        "duration": 0,
        "start_time": "2022-09-09T20:46:10.128Z"
      },
      {
        "duration": 0,
        "start_time": "2022-09-09T20:46:10.129Z"
      },
      {
        "duration": 0,
        "start_time": "2022-09-09T20:46:10.130Z"
      },
      {
        "duration": 0,
        "start_time": "2022-09-09T20:46:10.131Z"
      },
      {
        "duration": 18546,
        "start_time": "2022-09-09T20:47:15.441Z"
      },
      {
        "duration": 14,
        "start_time": "2022-09-09T20:48:23.411Z"
      },
      {
        "duration": 435221,
        "start_time": "2022-09-09T20:48:33.209Z"
      },
      {
        "duration": 2,
        "start_time": "2022-09-09T20:55:48.432Z"
      },
      {
        "duration": 737404,
        "start_time": "2022-09-09T20:56:05.153Z"
      },
      {
        "duration": 9,
        "start_time": "2022-09-09T21:08:22.559Z"
      },
      {
        "duration": 1432,
        "start_time": "2022-09-09T21:10:25.923Z"
      },
      {
        "duration": 3072,
        "start_time": "2022-09-09T21:10:42.110Z"
      },
      {
        "duration": 1320,
        "start_time": "2022-09-09T21:11:02.358Z"
      },
      {
        "duration": 1253,
        "start_time": "2022-09-09T21:11:11.693Z"
      },
      {
        "duration": 2754,
        "start_time": "2022-09-09T21:11:28.329Z"
      },
      {
        "duration": 1286,
        "start_time": "2022-09-09T21:11:37.276Z"
      },
      {
        "duration": 1545,
        "start_time": "2022-09-09T21:11:46.901Z"
      },
      {
        "duration": 2246,
        "start_time": "2022-09-09T21:11:57.933Z"
      },
      {
        "duration": 3692,
        "start_time": "2022-09-09T21:12:06.773Z"
      },
      {
        "duration": 3793,
        "start_time": "2022-09-09T21:12:17.548Z"
      },
      {
        "duration": 1276,
        "start_time": "2022-09-09T21:12:33.764Z"
      },
      {
        "duration": 4067,
        "start_time": "2022-09-09T21:12:44.294Z"
      },
      {
        "duration": 3881,
        "start_time": "2022-09-09T21:12:54.467Z"
      },
      {
        "duration": 1494,
        "start_time": "2022-09-10T05:33:42.298Z"
      },
      {
        "duration": 294,
        "start_time": "2022-09-10T05:33:43.793Z"
      },
      {
        "duration": 9,
        "start_time": "2022-09-10T05:33:44.089Z"
      },
      {
        "duration": 8,
        "start_time": "2022-09-10T05:33:44.099Z"
      },
      {
        "duration": 2,
        "start_time": "2022-09-10T05:33:44.109Z"
      },
      {
        "duration": 10,
        "start_time": "2022-09-10T05:33:44.113Z"
      },
      {
        "duration": 5,
        "start_time": "2022-09-10T05:33:44.124Z"
      },
      {
        "duration": 583,
        "start_time": "2022-09-10T05:33:44.130Z"
      },
      {
        "duration": 5,
        "start_time": "2022-09-10T05:33:44.714Z"
      },
      {
        "duration": 10,
        "start_time": "2022-09-10T05:33:44.721Z"
      },
      {
        "duration": 484,
        "start_time": "2022-09-10T05:33:44.733Z"
      },
      {
        "duration": 2,
        "start_time": "2022-09-10T05:33:45.219Z"
      },
      {
        "duration": 482,
        "start_time": "2022-09-10T05:33:45.222Z"
      },
      {
        "duration": 8,
        "start_time": "2022-09-10T05:33:45.707Z"
      },
      {
        "duration": 6,
        "start_time": "2022-09-10T05:33:45.717Z"
      },
      {
        "duration": 50,
        "start_time": "2022-09-10T05:33:45.724Z"
      },
      {
        "duration": 7,
        "start_time": "2022-09-10T05:33:45.776Z"
      },
      {
        "duration": 10,
        "start_time": "2022-09-10T05:33:45.784Z"
      },
      {
        "duration": 3,
        "start_time": "2022-09-10T05:33:45.796Z"
      },
      {
        "duration": 6,
        "start_time": "2022-09-10T05:33:45.801Z"
      },
      {
        "duration": 5,
        "start_time": "2022-09-10T05:33:45.809Z"
      },
      {
        "duration": 8,
        "start_time": "2022-09-10T05:33:45.815Z"
      },
      {
        "duration": 7,
        "start_time": "2022-09-10T05:33:45.824Z"
      },
      {
        "duration": 6,
        "start_time": "2022-09-10T05:33:45.857Z"
      },
      {
        "duration": 10,
        "start_time": "2022-09-10T05:33:45.865Z"
      },
      {
        "duration": 9,
        "start_time": "2022-09-10T05:33:45.876Z"
      },
      {
        "duration": 11,
        "start_time": "2022-09-10T05:33:45.886Z"
      },
      {
        "duration": 160,
        "start_time": "2022-09-10T05:33:45.898Z"
      },
      {
        "duration": 102,
        "start_time": "2022-09-10T05:33:46.061Z"
      },
      {
        "duration": 510695,
        "start_time": "2022-09-10T05:33:46.166Z"
      },
      {
        "duration": 46,
        "start_time": "2022-09-10T05:42:16.863Z"
      },
      {
        "duration": 128,
        "start_time": "2022-09-10T05:42:16.910Z"
      },
      {
        "duration": 0,
        "start_time": "2022-09-10T05:42:17.040Z"
      },
      {
        "duration": 0,
        "start_time": "2022-09-10T05:42:17.041Z"
      },
      {
        "duration": 0,
        "start_time": "2022-09-10T05:42:17.042Z"
      },
      {
        "duration": 0,
        "start_time": "2022-09-10T05:42:17.043Z"
      },
      {
        "duration": 0,
        "start_time": "2022-09-10T05:42:17.044Z"
      },
      {
        "duration": 0,
        "start_time": "2022-09-10T05:42:17.057Z"
      },
      {
        "duration": 0,
        "start_time": "2022-09-10T05:42:17.058Z"
      },
      {
        "duration": 0,
        "start_time": "2022-09-10T05:42:17.060Z"
      },
      {
        "duration": 0,
        "start_time": "2022-09-10T05:42:17.061Z"
      },
      {
        "duration": 19451,
        "start_time": "2022-09-10T05:42:33.187Z"
      },
      {
        "duration": 19,
        "start_time": "2022-09-10T05:42:52.639Z"
      },
      {
        "duration": 431821,
        "start_time": "2022-09-10T05:44:22.050Z"
      },
      {
        "duration": 3,
        "start_time": "2022-09-10T05:51:42.304Z"
      },
      {
        "duration": 1723,
        "start_time": "2022-09-10T12:48:24.308Z"
      },
      {
        "duration": 233,
        "start_time": "2022-09-10T12:48:26.033Z"
      },
      {
        "duration": 11,
        "start_time": "2022-09-10T12:48:26.271Z"
      },
      {
        "duration": 11,
        "start_time": "2022-09-10T12:48:26.284Z"
      },
      {
        "duration": 4,
        "start_time": "2022-09-10T12:48:26.296Z"
      },
      {
        "duration": 22,
        "start_time": "2022-09-10T12:48:26.301Z"
      },
      {
        "duration": 17,
        "start_time": "2022-09-10T12:48:26.324Z"
      },
      {
        "duration": 625,
        "start_time": "2022-09-10T12:48:26.343Z"
      },
      {
        "duration": 6,
        "start_time": "2022-09-10T12:48:26.969Z"
      },
      {
        "duration": 10,
        "start_time": "2022-09-10T12:48:26.977Z"
      },
      {
        "duration": 547,
        "start_time": "2022-09-10T12:48:26.989Z"
      },
      {
        "duration": 3,
        "start_time": "2022-09-10T12:48:27.538Z"
      },
      {
        "duration": 466,
        "start_time": "2022-09-10T12:48:27.542Z"
      },
      {
        "duration": 17,
        "start_time": "2022-09-10T12:48:28.016Z"
      },
      {
        "duration": 43,
        "start_time": "2022-09-10T12:48:28.036Z"
      },
      {
        "duration": 7,
        "start_time": "2022-09-10T12:48:28.080Z"
      },
      {
        "duration": 13,
        "start_time": "2022-09-10T12:48:28.089Z"
      },
      {
        "duration": 45,
        "start_time": "2022-09-10T12:48:28.103Z"
      },
      {
        "duration": 137,
        "start_time": "2022-09-10T12:48:28.149Z"
      },
      {
        "duration": 0,
        "start_time": "2022-09-10T12:48:28.289Z"
      },
      {
        "duration": 0,
        "start_time": "2022-09-10T12:48:28.290Z"
      },
      {
        "duration": 0,
        "start_time": "2022-09-10T12:48:28.291Z"
      },
      {
        "duration": 0,
        "start_time": "2022-09-10T12:48:28.293Z"
      },
      {
        "duration": 0,
        "start_time": "2022-09-10T12:48:28.294Z"
      },
      {
        "duration": 0,
        "start_time": "2022-09-10T12:48:28.295Z"
      },
      {
        "duration": 1,
        "start_time": "2022-09-10T12:48:28.296Z"
      },
      {
        "duration": 0,
        "start_time": "2022-09-10T12:48:28.298Z"
      },
      {
        "duration": 0,
        "start_time": "2022-09-10T12:48:28.299Z"
      },
      {
        "duration": 0,
        "start_time": "2022-09-10T12:48:28.300Z"
      },
      {
        "duration": 0,
        "start_time": "2022-09-10T12:48:28.315Z"
      },
      {
        "duration": 0,
        "start_time": "2022-09-10T12:48:28.323Z"
      },
      {
        "duration": 0,
        "start_time": "2022-09-10T12:48:28.324Z"
      },
      {
        "duration": 0,
        "start_time": "2022-09-10T12:48:28.325Z"
      },
      {
        "duration": 0,
        "start_time": "2022-09-10T12:48:28.326Z"
      },
      {
        "duration": 0,
        "start_time": "2022-09-10T12:48:28.326Z"
      },
      {
        "duration": 0,
        "start_time": "2022-09-10T12:48:28.327Z"
      },
      {
        "duration": 0,
        "start_time": "2022-09-10T12:48:28.328Z"
      },
      {
        "duration": 0,
        "start_time": "2022-09-10T12:48:28.329Z"
      },
      {
        "duration": 0,
        "start_time": "2022-09-10T12:48:28.330Z"
      },
      {
        "duration": 0,
        "start_time": "2022-09-10T12:48:28.330Z"
      },
      {
        "duration": 3,
        "start_time": "2022-09-10T12:49:17.951Z"
      },
      {
        "duration": 5,
        "start_time": "2022-09-10T12:49:22.344Z"
      },
      {
        "duration": 4,
        "start_time": "2022-09-10T12:49:25.758Z"
      },
      {
        "duration": 5,
        "start_time": "2022-09-10T12:49:30.375Z"
      },
      {
        "duration": 5,
        "start_time": "2022-09-10T12:49:31.102Z"
      },
      {
        "duration": 5,
        "start_time": "2022-09-10T12:49:33.935Z"
      },
      {
        "duration": 5,
        "start_time": "2022-09-10T12:49:36.582Z"
      },
      {
        "duration": 10,
        "start_time": "2022-09-10T12:49:39.096Z"
      },
      {
        "duration": 11,
        "start_time": "2022-09-10T12:49:41.548Z"
      },
      {
        "duration": 10,
        "start_time": "2022-09-10T12:49:42.740Z"
      },
      {
        "duration": 593110,
        "start_time": "2022-09-10T12:49:45.868Z"
      },
      {
        "duration": 1527,
        "start_time": "2022-09-10T12:59:38.980Z"
      },
      {
        "duration": 0,
        "start_time": "2022-09-10T12:59:40.514Z"
      },
      {
        "duration": 56,
        "start_time": "2022-09-10T13:10:03.335Z"
      },
      {
        "duration": 20855,
        "start_time": "2022-09-10T13:10:08.044Z"
      },
      {
        "duration": 32,
        "start_time": "2022-09-10T13:11:45.506Z"
      },
      {
        "duration": 932185,
        "start_time": "2022-09-10T13:11:55.901Z"
      },
      {
        "duration": 3,
        "start_time": "2022-09-10T13:27:28.088Z"
      },
      {
        "duration": 12,
        "start_time": "2022-09-10T13:28:47.972Z"
      },
      {
        "duration": 0,
        "start_time": "2022-09-10T14:03:17.223Z"
      },
      {
        "duration": 0,
        "start_time": "2022-09-10T14:03:17.225Z"
      },
      {
        "duration": 117,
        "start_time": "2022-09-10T14:04:55.727Z"
      },
      {
        "duration": 14,
        "start_time": "2022-09-10T14:04:56.492Z"
      },
      {
        "duration": 6,
        "start_time": "2022-09-10T14:04:56.922Z"
      },
      {
        "duration": 3,
        "start_time": "2022-09-10T14:04:57.133Z"
      },
      {
        "duration": 7,
        "start_time": "2022-09-10T14:04:57.321Z"
      },
      {
        "duration": 6,
        "start_time": "2022-09-10T14:04:57.543Z"
      },
      {
        "duration": 503,
        "start_time": "2022-09-10T14:04:57.748Z"
      },
      {
        "duration": 6,
        "start_time": "2022-09-10T14:04:58.253Z"
      },
      {
        "duration": 8,
        "start_time": "2022-09-10T14:05:00.257Z"
      },
      {
        "duration": 582,
        "start_time": "2022-09-10T14:05:01.190Z"
      },
      {
        "duration": 2,
        "start_time": "2022-09-10T14:05:05.701Z"
      },
      {
        "duration": 431,
        "start_time": "2022-09-10T14:05:05.893Z"
      },
      {
        "duration": 3,
        "start_time": "2022-09-10T14:05:11.793Z"
      },
      {
        "duration": 30,
        "start_time": "2022-09-10T14:05:13.124Z"
      },
      {
        "duration": 8,
        "start_time": "2022-09-10T14:05:15.599Z"
      },
      {
        "duration": 10,
        "start_time": "2022-09-10T14:05:17.832Z"
      },
      {
        "duration": 4,
        "start_time": "2022-09-10T14:05:21.182Z"
      },
      {
        "duration": 3,
        "start_time": "2022-09-10T14:05:21.706Z"
      },
      {
        "duration": 6,
        "start_time": "2022-09-10T14:05:22.259Z"
      },
      {
        "duration": 5,
        "start_time": "2022-09-10T14:05:23.963Z"
      },
      {
        "duration": 907666,
        "start_time": "2022-09-10T14:05:35.859Z"
      },
      {
        "duration": 0,
        "start_time": "2022-09-10T14:20:43.526Z"
      },
      {
        "duration": 989210,
        "start_time": "2022-09-10T14:20:46.305Z"
      },
      {
        "duration": 9,
        "start_time": "2022-09-10T14:37:15.520Z"
      },
      {
        "duration": 4,
        "start_time": "2022-09-10T14:37:22.997Z"
      },
      {
        "duration": 7,
        "start_time": "2022-09-10T14:37:23.473Z"
      },
      {
        "duration": 15,
        "start_time": "2022-09-10T14:37:36.429Z"
      },
      {
        "duration": 835,
        "start_time": "2022-09-10T14:37:56.128Z"
      },
      {
        "duration": 4,
        "start_time": "2022-09-10T14:47:52.363Z"
      },
      {
        "duration": 59,
        "start_time": "2022-09-10T14:47:52.369Z"
      },
      {
        "duration": 9,
        "start_time": "2022-09-10T14:47:52.430Z"
      },
      {
        "duration": 6,
        "start_time": "2022-09-10T14:47:52.440Z"
      },
      {
        "duration": 6,
        "start_time": "2022-09-10T14:47:52.447Z"
      },
      {
        "duration": 7,
        "start_time": "2022-09-10T14:48:04.084Z"
      },
      {
        "duration": 7,
        "start_time": "2022-09-10T14:48:04.620Z"
      },
      {
        "duration": 532,
        "start_time": "2022-09-10T14:48:06.537Z"
      },
      {
        "duration": 5,
        "start_time": "2022-09-10T14:48:07.072Z"
      },
      {
        "duration": 7,
        "start_time": "2022-09-10T14:48:10.591Z"
      },
      {
        "duration": 473,
        "start_time": "2022-09-10T14:48:12.320Z"
      },
      {
        "duration": 2,
        "start_time": "2022-09-10T14:48:15.298Z"
      },
      {
        "duration": 441,
        "start_time": "2022-09-10T14:48:15.936Z"
      },
      {
        "duration": 4,
        "start_time": "2022-09-10T14:48:20.890Z"
      },
      {
        "duration": 36,
        "start_time": "2022-09-10T14:48:23.934Z"
      },
      {
        "duration": 7,
        "start_time": "2022-09-10T14:48:26.732Z"
      },
      {
        "duration": 11,
        "start_time": "2022-09-10T14:48:27.157Z"
      },
      {
        "duration": 4,
        "start_time": "2022-09-10T14:48:29.425Z"
      },
      {
        "duration": 3,
        "start_time": "2022-09-10T14:48:29.599Z"
      },
      {
        "duration": 6,
        "start_time": "2022-09-10T14:48:29.766Z"
      },
      {
        "duration": 5,
        "start_time": "2022-09-10T14:48:31.925Z"
      },
      {
        "duration": 5,
        "start_time": "2022-09-10T14:48:32.796Z"
      },
      {
        "duration": 6,
        "start_time": "2022-09-10T14:48:32.952Z"
      },
      {
        "duration": 6,
        "start_time": "2022-09-10T14:48:33.124Z"
      },
      {
        "duration": 5,
        "start_time": "2022-09-10T14:48:38.851Z"
      },
      {
        "duration": 9,
        "start_time": "2022-09-10T14:48:39.673Z"
      },
      {
        "duration": 11,
        "start_time": "2022-09-10T14:48:41.949Z"
      },
      {
        "duration": 10,
        "start_time": "2022-09-10T14:48:43.982Z"
      },
      {
        "duration": 5,
        "start_time": "2022-09-10T15:04:21.522Z"
      },
      {
        "duration": 47,
        "start_time": "2022-09-10T15:04:21.529Z"
      },
      {
        "duration": 11,
        "start_time": "2022-09-10T15:04:26.592Z"
      },
      {
        "duration": 7,
        "start_time": "2022-09-10T15:04:27.238Z"
      },
      {
        "duration": 3,
        "start_time": "2022-09-10T15:04:29.490Z"
      },
      {
        "duration": 7,
        "start_time": "2022-09-10T15:04:30.021Z"
      },
      {
        "duration": 14,
        "start_time": "2022-09-10T15:04:30.615Z"
      },
      {
        "duration": 516,
        "start_time": "2022-09-10T15:04:32.510Z"
      },
      {
        "duration": 6,
        "start_time": "2022-09-10T15:04:35.388Z"
      },
      {
        "duration": 6,
        "start_time": "2022-09-10T15:04:37.955Z"
      },
      {
        "duration": 533,
        "start_time": "2022-09-10T15:04:39.812Z"
      },
      {
        "duration": 2,
        "start_time": "2022-09-10T15:04:41.576Z"
      },
      {
        "duration": 401,
        "start_time": "2022-09-10T15:04:42.185Z"
      },
      {
        "duration": 4,
        "start_time": "2022-09-10T15:04:45.859Z"
      },
      {
        "duration": 30,
        "start_time": "2022-09-10T15:04:48.735Z"
      },
      {
        "duration": 6,
        "start_time": "2022-09-10T15:04:52.081Z"
      },
      {
        "duration": 11,
        "start_time": "2022-09-10T15:04:52.590Z"
      },
      {
        "duration": 5,
        "start_time": "2022-09-10T15:04:55.324Z"
      },
      {
        "duration": 4,
        "start_time": "2022-09-10T15:04:55.486Z"
      },
      {
        "duration": 5,
        "start_time": "2022-09-10T15:04:55.669Z"
      },
      {
        "duration": 5,
        "start_time": "2022-09-10T15:04:57.659Z"
      },
      {
        "duration": 4,
        "start_time": "2022-09-10T15:04:57.984Z"
      },
      {
        "duration": 5,
        "start_time": "2022-09-10T15:04:59.940Z"
      },
      {
        "duration": 4,
        "start_time": "2022-09-10T15:05:00.124Z"
      },
      {
        "duration": 6,
        "start_time": "2022-09-10T15:05:02.921Z"
      },
      {
        "duration": 357730,
        "start_time": "2022-09-10T15:05:08.575Z"
      },
      {
        "duration": 29,
        "start_time": "2022-09-10T15:12:29.576Z"
      },
      {
        "duration": 31,
        "start_time": "2022-09-10T15:12:42.988Z"
      },
      {
        "duration": 36,
        "start_time": "2022-09-10T15:12:55.197Z"
      },
      {
        "duration": 27,
        "start_time": "2022-09-10T15:12:59.670Z"
      },
      {
        "duration": 3258297,
        "start_time": "2022-09-10T15:13:18.724Z"
      },
      {
        "duration": 9,
        "start_time": "2022-09-10T16:07:37.023Z"
      },
      {
        "duration": 24076,
        "start_time": "2022-09-10T16:07:42.380Z"
      }
    ],
    "kernelspec": {
      "name": "python",
      "display_name": "Python (Pyodide)",
      "language": "python"
    },
    "language_info": {
      "codemirror_mode": {
        "name": "python",
        "version": 3
      },
      "file_extension": ".py",
      "mimetype": "text/x-python",
      "name": "python",
      "nbconvert_exporter": "python",
      "pygments_lexer": "ipython3",
      "version": "3.8"
    },
    "toc": {
      "base_numbering": 1,
      "nav_menu": {},
      "number_sections": true,
      "sideBar": true,
      "skip_h1_title": true,
      "title_cell": "Содержание",
      "title_sidebar": "Contents",
      "toc_cell": true,
      "toc_position": {
        "height": "calc(100% - 180px)",
        "left": "10px",
        "top": "150px",
        "width": "165px"
      },
      "toc_section_display": true,
      "toc_window_display": true
    }
  },
  "nbformat_minor": 4,
  "nbformat": 4,
  "cells": [
    {
      "cell_type": "markdown",
      "source": "<h1>Содержание<span class=\"tocSkip\"></span></h1>\n<div class=\"toc\"><ul class=\"toc-item\"><li><ul class=\"toc-item\"><li><ul class=\"toc-item\"><li><span><a href=\"#Полезные-ссылки:\" data-toc-modified-id=\"Полезные-ссылки:-0.0.1\"><span class=\"toc-item-num\">0.0.1&nbsp;&nbsp;</span><font color=\"orange\">Полезные ссылки:</font></a></span></li></ul></li><li><span><a href=\"#Общее-впечатление\" data-toc-modified-id=\"Общее-впечатление-0.1\"><span class=\"toc-item-num\">0.1&nbsp;&nbsp;</span><font color=\"orange\">Общее впечатление</font></a></span></li><li><span><a href=\"#Общее-впечатление-(ревью-2)\" data-toc-modified-id=\"Общее-впечатление-(ревью-2)-0.2\"><span class=\"toc-item-num\">0.2&nbsp;&nbsp;</span><font color=\"orange\">Общее впечатление (ревью 2)</font></a></span></li></ul></li><li><span><a href=\"#Подготовка\" data-toc-modified-id=\"Подготовка-1\"><span class=\"toc-item-num\">1&nbsp;&nbsp;</span>Подготовка</a></span></li><li><span><a href=\"#Анализ\" data-toc-modified-id=\"Анализ-2\"><span class=\"toc-item-num\">2&nbsp;&nbsp;</span>Анализ</a></span></li><li><span><a href=\"#Обучение\" data-toc-modified-id=\"Обучение-3\"><span class=\"toc-item-num\">3&nbsp;&nbsp;</span>Обучение</a></span><ul class=\"toc-item\"><li><span><a href=\"#Подготовка-признаков\" data-toc-modified-id=\"Подготовка-признаков-3.1\"><span class=\"toc-item-num\">3.1&nbsp;&nbsp;</span>Подготовка признаков</a></span></li><li><span><a href=\"#Разделяем-признаки-на-обучающую-и-тестовую-выборки\" data-toc-modified-id=\"Разделяем-признаки-на-обучающую-и-тестовую-выборки-3.2\"><span class=\"toc-item-num\">3.2&nbsp;&nbsp;</span>Разделяем признаки на обучающую и тестовую выборки</a></span></li><li><span><a href=\"#Разделяем-признаки-на-обучающую-и-валидационную-выборки-для-моделей-без-кросс-валидации\" data-toc-modified-id=\"Разделяем-признаки-на-обучающую-и-валидационную-выборки-для-моделей-без-кросс-валидации-3.3\"><span class=\"toc-item-num\">3.3&nbsp;&nbsp;</span>Разделяем признаки на обучающую и валидационную выборки для моделей без кросс-валидации</a></span></li><li><span><a href=\"#Dummy-модель\" data-toc-modified-id=\"Dummy-модель-3.4\"><span class=\"toc-item-num\">3.4&nbsp;&nbsp;</span>Dummy-модель</a></span></li><li><span><a href=\"#Линейная-регрессия\" data-toc-modified-id=\"Линейная-регрессия-3.5\"><span class=\"toc-item-num\">3.5&nbsp;&nbsp;</span>Линейная регрессия</a></span></li><li><span><a href=\"#Lasso\" data-toc-modified-id=\"Lasso-3.6\"><span class=\"toc-item-num\">3.6&nbsp;&nbsp;</span>Lasso</a></span></li><li><span><a href=\"#Ridge\" data-toc-modified-id=\"Ridge-3.7\"><span class=\"toc-item-num\">3.7&nbsp;&nbsp;</span>Ridge</a></span></li><li><span><a href=\"#Случайный-лес\" data-toc-modified-id=\"Случайный-лес-3.8\"><span class=\"toc-item-num\">3.8&nbsp;&nbsp;</span>Случайный лес</a></span></li><li><span><a href=\"#Дерево-решений\" data-toc-modified-id=\"Дерево-решений-3.9\"><span class=\"toc-item-num\">3.9&nbsp;&nbsp;</span>Дерево решений</a></span></li><li><span><a href=\"#CatBoost\" data-toc-modified-id=\"CatBoost-3.10\"><span class=\"toc-item-num\">3.10&nbsp;&nbsp;</span>CatBoost</a></span></li><li><span><a href=\"#LightGBM\" data-toc-modified-id=\"LightGBM-3.11\"><span class=\"toc-item-num\">3.11&nbsp;&nbsp;</span>LightGBM</a></span></li><li><span><a href=\"#Итоговая-таблица\" data-toc-modified-id=\"Итоговая-таблица-3.12\"><span class=\"toc-item-num\">3.12&nbsp;&nbsp;</span>Итоговая таблица</a></span></li></ul></li><li><span><a href=\"#Тестирование\" data-toc-modified-id=\"Тестирование-4\"><span class=\"toc-item-num\">4&nbsp;&nbsp;</span>Тестирование</a></span></li><li><span><a href=\"#Чек-лист-проверки\" data-toc-modified-id=\"Чек-лист-проверки-5\"><span class=\"toc-item-num\">5&nbsp;&nbsp;</span>Чек-лист проверки</a></span></li></ul></div>",
      "metadata": {
        "toc": true
      }
    },
    {
      "cell_type": "markdown",
      "source": "#  Прогнозирование заказов такси",
      "metadata": {}
    },
    {
      "cell_type": "markdown",
      "source": "Компания «Чётенькое такси» собрала исторические данные о заказах такси в аэропортах. Чтобы привлекать больше водителей в период пиковой нагрузки, нужно спрогнозировать количество заказов такси на следующий час. Постройте модель для такого предсказания.\n\nЗначение метрики *RMSE* на тестовой выборке должно быть не больше 48.\n\nВам нужно:\n\n1. Загрузить данные и выполнить их ресемплирование по одному часу.\n2. Проанализировать данные.\n3. Обучить разные модели с различными гиперпараметрами. Сделать тестовую выборку размером 10% от исходных данных.\n4. Проверить данные на тестовой выборке и сделать выводы.\n\n\nДанные лежат в файле `taxi.csv`. Количество заказов находится в столбце `num_orders` (от англ. *number of orders*, «число заказов»).",
      "metadata": {}
    },
    {
      "cell_type": "markdown",
      "source": "## Подготовка",
      "metadata": {}
    },
    {
      "cell_type": "code",
      "source": "# импортируем необходимые библиотеки\nimport pandas as pd\nimport numpy as np\nfrom statsmodels.tsa.seasonal import seasonal_decompose\nimport matplotlib.pyplot as plt\nfrom sklearn.model_selection import train_test_split\nfrom sklearn.dummy import DummyRegressor\nfrom sklearn.metrics import mean_squared_error\nfrom sklearn.linear_model import LinearRegression\nfrom catboost import CatBoostRegressor\nimport lightgbm as lgb\nfrom lightgbm import LGBMRegressor\nfrom sklearn.model_selection import GridSearchCV\nfrom catboost import Pool, cv\nimport catboost as cb\nfrom sklearn.model_selection import RandomizedSearchCV\nfrom sklearn.ensemble import RandomForestRegressor\nimport seaborn as sns\nfrom sklearn import linear_model\nfrom sklearn.linear_model import Ridge\nfrom sklearn.tree import DecisionTreeRegressor\nfrom sklearn.model_selection import GridSearchCV\nfrom sklearn.preprocessing import StandardScaler\nfrom sklearn.model_selection import TimeSeriesSplit",
      "metadata": {},
      "execution_count": 1,
      "outputs": []
    },
    {
      "cell_type": "code",
      "source": "# открываем датасет\ndf = pd.read_csv('/Users/a1/Downloads/taxi.csv', index_col=['datetime'], parse_dates=['datetime'])",
      "metadata": {},
      "execution_count": 3,
      "outputs": []
    },
    {
      "cell_type": "code",
      "source": "# смотрим общую информацию о датасете\ndf.info()",
      "metadata": {},
      "execution_count": 4,
      "outputs": [
        {
          "name": "stdout",
          "output_type": "stream",
          "text": "<class 'pandas.core.frame.DataFrame'>\n\nDatetimeIndex: 26496 entries, 2018-03-01 00:00:00 to 2018-08-31 23:50:00\n\nData columns (total 1 columns):\n\n #   Column      Non-Null Count  Dtype\n\n---  ------      --------------  -----\n\n 0   num_orders  26496 non-null  int64\n\ndtypes: int64(1)\n\nmemory usage: 414.0 KB\n"
        }
      ]
    },
    {
      "cell_type": "code",
      "source": "# выводим первые пять строк датасета для ознакомления\ndf.head()",
      "metadata": {},
      "execution_count": 5,
      "outputs": [
        {
          "execution_count": 5,
          "output_type": "execute_result",
          "data": {
            "text/html": [
              "<div>\n",
              "<style scoped>\n",
              "    .dataframe tbody tr th:only-of-type {\n",
              "        vertical-align: middle;\n",
              "    }\n",
              "\n",
              "    .dataframe tbody tr th {\n",
              "        vertical-align: top;\n",
              "    }\n",
              "\n",
              "    .dataframe thead th {\n",
              "        text-align: right;\n",
              "    }\n",
              "</style>\n",
              "<table border=\"1\" class=\"dataframe\">\n",
              "  <thead>\n",
              "    <tr style=\"text-align: right;\">\n",
              "      <th></th>\n",
              "      <th>num_orders</th>\n",
              "    </tr>\n",
              "    <tr>\n",
              "      <th>datetime</th>\n",
              "      <th></th>\n",
              "    </tr>\n",
              "  </thead>\n",
              "  <tbody>\n",
              "    <tr>\n",
              "      <th>2018-03-01 00:00:00</th>\n",
              "      <td>9</td>\n",
              "    </tr>\n",
              "    <tr>\n",
              "      <th>2018-03-01 00:10:00</th>\n",
              "      <td>14</td>\n",
              "    </tr>\n",
              "    <tr>\n",
              "      <th>2018-03-01 00:20:00</th>\n",
              "      <td>28</td>\n",
              "    </tr>\n",
              "    <tr>\n",
              "      <th>2018-03-01 00:30:00</th>\n",
              "      <td>20</td>\n",
              "    </tr>\n",
              "    <tr>\n",
              "      <th>2018-03-01 00:40:00</th>\n",
              "      <td>32</td>\n",
              "    </tr>\n",
              "  </tbody>\n",
              "</table>\n",
              "</div>"
            ],
            "text/plain": [
              "                     num_orders\n",
              "datetime                       \n",
              "2018-03-01 00:00:00           9\n",
              "2018-03-01 00:10:00          14\n",
              "2018-03-01 00:20:00          28\n",
              "2018-03-01 00:30:00          20\n",
              "2018-03-01 00:40:00          32"
            ]
          },
          "metadata": {}
        }
      ]
    },
    {
      "cell_type": "code",
      "source": "# смотрим период, за который предоставлены данные\nprint(f\"Df date min-max: {df.index.min()} --- {df.index.max()}  (n={len(df)})\")",
      "metadata": {},
      "execution_count": 6,
      "outputs": [
        {
          "name": "stdout",
          "output_type": "stream",
          "text": "Df date min-max: 2018-03-01 00:00:00 --- 2018-08-31 23:50:00  (n=26496)\n"
        }
      ]
    },
    {
      "cell_type": "code",
      "source": "# изменяем период на 1 ч.\ndf = df.sort_index()\ndf = df.resample('1H').sum()",
      "metadata": {},
      "execution_count": 7,
      "outputs": []
    },
    {
      "cell_type": "code",
      "source": "# выводим первые 5 стьрок обновлённого датасета\ndf.head()",
      "metadata": {},
      "execution_count": 8,
      "outputs": [
        {
          "execution_count": 8,
          "output_type": "execute_result",
          "data": {
            "text/html": [
              "<div>\n",
              "<style scoped>\n",
              "    .dataframe tbody tr th:only-of-type {\n",
              "        vertical-align: middle;\n",
              "    }\n",
              "\n",
              "    .dataframe tbody tr th {\n",
              "        vertical-align: top;\n",
              "    }\n",
              "\n",
              "    .dataframe thead th {\n",
              "        text-align: right;\n",
              "    }\n",
              "</style>\n",
              "<table border=\"1\" class=\"dataframe\">\n",
              "  <thead>\n",
              "    <tr style=\"text-align: right;\">\n",
              "      <th></th>\n",
              "      <th>num_orders</th>\n",
              "    </tr>\n",
              "    <tr>\n",
              "      <th>datetime</th>\n",
              "      <th></th>\n",
              "    </tr>\n",
              "  </thead>\n",
              "  <tbody>\n",
              "    <tr>\n",
              "      <th>2018-03-01 00:00:00</th>\n",
              "      <td>124</td>\n",
              "    </tr>\n",
              "    <tr>\n",
              "      <th>2018-03-01 01:00:00</th>\n",
              "      <td>85</td>\n",
              "    </tr>\n",
              "    <tr>\n",
              "      <th>2018-03-01 02:00:00</th>\n",
              "      <td>71</td>\n",
              "    </tr>\n",
              "    <tr>\n",
              "      <th>2018-03-01 03:00:00</th>\n",
              "      <td>66</td>\n",
              "    </tr>\n",
              "    <tr>\n",
              "      <th>2018-03-01 04:00:00</th>\n",
              "      <td>43</td>\n",
              "    </tr>\n",
              "  </tbody>\n",
              "</table>\n",
              "</div>"
            ],
            "text/plain": [
              "                     num_orders\n",
              "datetime                       \n",
              "2018-03-01 00:00:00         124\n",
              "2018-03-01 01:00:00          85\n",
              "2018-03-01 02:00:00          71\n",
              "2018-03-01 03:00:00          66\n",
              "2018-03-01 04:00:00          43"
            ]
          },
          "metadata": {}
        }
      ]
    },
    {
      "cell_type": "code",
      "source": "# строим графики\nplt.figure(figsize=(15, 10))\nplt.subplot(211)\ndf.plot(ax=plt.gca())\ndf.rolling(24).mean().plot(ax=plt.gca())\nplt.legend(['num_orders', 'rolling_mean_day'])\nplt.subplot(212)\ndf.plot(ax=plt.gca())\ndf.rolling(24 * 7).mean().plot(ax=plt.gca())\nplt.legend(['num_orders', 'rolling_mean_week'])\nplt.grid(True)",
      "metadata": {},
      "execution_count": 9,
      "outputs": [
        {
          "output_type": "display_data",
          "data": {
            "image/png": "[encoded data removed]",
            "text/plain": [
              "<Figure size 1080x720 with 2 Axes>"
            ]
          },
          "metadata": {
            "needs_background": "light"
          }
        }
      ]
    },
    {
      "cell_type": "code",
      "source": "# смотрим пропуски\ndf.isna().sum()",
      "metadata": {},
      "execution_count": 10,
      "outputs": [
        {
          "execution_count": 10,
          "output_type": "execute_result",
          "data": {
            "text/plain": [
              "num_orders    0\n",
              "dtype: int64"
            ]
          },
          "metadata": {}
        }
      ]
    },
    {
      "cell_type": "markdown",
      "source": "**Вывод**\n\nДанные открыты и изучены, проблем в них не обнаружено, можно переходить к анализу и обучению моделей.",
      "metadata": {}
    },
    {
      "cell_type": "markdown",
      "source": "## Анализ",
      "metadata": {}
    },
    {
      "cell_type": "code",
      "source": "# проверяем данные на сезонность\ndecomposed = seasonal_decompose(df)",
      "metadata": {},
      "execution_count": 11,
      "outputs": []
    },
    {
      "cell_type": "code",
      "source": "# строим графики тренда, сезонности и остатков\nplt.figure(figsize=(14, 12))\nplt.subplot(311)\ndecomposed.trend['2018-08-15': '2018-08-31'].plot(ax=plt.gca())\nplt.title('Trend')\nplt.subplot(312)\ndecomposed.seasonal['2018-08-15': '2018-08-31'].plot(ax=plt.gca())\nplt.title('Seasonality')\nplt.subplot(313)\ndecomposed.resid['2018-08-15': '2018-08-31'].plot(ax=plt.gca())\nplt.title('Residuals')\n#plt.tight_layout()",
      "metadata": {
        "scrolled": true
      },
      "execution_count": 12,
      "outputs": [
        {
          "execution_count": 12,
          "output_type": "execute_result",
          "data": {
            "text/plain": [
              "Text(0.5, 1.0, 'Residuals')"
            ]
          },
          "metadata": {}
        },
        {
          "output_type": "display_data",
          "data": {
            "image/png": "[encoded data removed]",
            "text/plain": [
              "<Figure size 1008x864 with 3 Axes>"
            ]
          },
          "metadata": {
            "needs_background": "light"
          }
        }
      ]
    },
    {
      "cell_type": "markdown",
      "source": "**Вывод**\n\nВременной ряд нестационарный, т.е. имеет возрастающий тренд и дневную сезонность.\n\nПриведём его к стационарному виду, чтобы моделям было проще работать с ним.",
      "metadata": {}
    },
    {
      "cell_type": "code",
      "source": "# не удаляем нестационароность ряда\ndata = df",
      "metadata": {},
      "execution_count": 13,
      "outputs": []
    },
    {
      "cell_type": "code",
      "source": "# строим графики большего масштаба за последние 2 недели\nplt.figure(figsize=(15, 8))\ndata['num_orders']['2018-08-15': '2018-08-31'].plot(ax=plt.gca())\nplt.title('num_orders')\ndata['num_orders']['2018-08-15': '2018-08-31'].rolling(24).mean().plot(ax=plt.gca())\nplt.title('rolling_mean')\ndata['num_orders']['2018-08-15': '2018-08-31'].rolling(24).std().plot(ax=plt.gca())\nplt.title('std')\nplt.tight_layout()\nplt.legend(['num_orders', 'rolling_mean_day', 'std_mean_day'])\nplt.grid(True)",
      "metadata": {},
      "execution_count": 14,
      "outputs": [
        {
          "output_type": "display_data",
          "data": {
            "image/png": "[encoded data removed]",
            "text/plain": [
              "<Figure size 1080x576 with 1 Axes>"
            ]
          },
          "metadata": {
            "needs_background": "light"
          }
        }
      ]
    },
    {
      "cell_type": "markdown",
      "source": "**Вывод**\n\nПривели ряд к стационарному виду, можно приступать к обучению и выбору модели.",
      "metadata": {}
    },
    {
      "cell_type": "markdown",
      "source": "## Обучение",
      "metadata": {}
    },
    {
      "cell_type": "markdown",
      "source": "### Подготовка признаков",
      "metadata": {}
    },
    {
      "cell_type": "code",
      "source": "# напишем функцию, которая подготовит признаки для обучения моделей\ndef make_features(data, max_lag, rolling_mean_size):\n    data['month'] = data.index.month\n    data['day'] = data.index.day\n    data['dayofweek'] = data.index.dayofweek\n    \n    for lag in range(1, max_lag + 1):\n        data['lag_{}'.format(lag)] = data['num_orders'].shift(lag)\n\n    data['rolling_mean'] = data['lag_1'].rolling(rolling_mean_size).mean()\n    return data",
      "metadata": {},
      "execution_count": 15,
      "outputs": []
    },
    {
      "cell_type": "code",
      "source": "# применяем функцию к нашему датасету\nmake_features(data, 12, 6)",
      "metadata": {},
      "execution_count": 16,
      "outputs": [
        {
          "execution_count": 16,
          "output_type": "execute_result",
          "data": {
            "text/html": [
              "<div>\n",
              "<style scoped>\n",
              "    .dataframe tbody tr th:only-of-type {\n",
              "        vertical-align: middle;\n",
              "    }\n",
              "\n",
              "    .dataframe tbody tr th {\n",
              "        vertical-align: top;\n",
              "    }\n",
              "\n",
              "    .dataframe thead th {\n",
              "        text-align: right;\n",
              "    }\n",
              "</style>\n",
              "<table border=\"1\" class=\"dataframe\">\n",
              "  <thead>\n",
              "    <tr style=\"text-align: right;\">\n",
              "      <th></th>\n",
              "      <th>num_orders</th>\n",
              "      <th>month</th>\n",
              "      <th>day</th>\n",
              "      <th>dayofweek</th>\n",
              "      <th>lag_1</th>\n",
              "      <th>lag_2</th>\n",
              "      <th>lag_3</th>\n",
              "      <th>lag_4</th>\n",
              "      <th>lag_5</th>\n",
              "      <th>lag_6</th>\n",
              "      <th>lag_7</th>\n",
              "      <th>lag_8</th>\n",
              "      <th>lag_9</th>\n",
              "      <th>lag_10</th>\n",
              "      <th>lag_11</th>\n",
              "      <th>lag_12</th>\n",
              "      <th>rolling_mean</th>\n",
              "    </tr>\n",
              "    <tr>\n",
              "      <th>datetime</th>\n",
              "      <th></th>\n",
              "      <th></th>\n",
              "      <th></th>\n",
              "      <th></th>\n",
              "      <th></th>\n",
              "      <th></th>\n",
              "      <th></th>\n",
              "      <th></th>\n",
              "      <th></th>\n",
              "      <th></th>\n",
              "      <th></th>\n",
              "      <th></th>\n",
              "      <th></th>\n",
              "      <th></th>\n",
              "      <th></th>\n",
              "      <th></th>\n",
              "      <th></th>\n",
              "    </tr>\n",
              "  </thead>\n",
              "  <tbody>\n",
              "    <tr>\n",
              "      <th>2018-03-01 00:00:00</th>\n",
              "      <td>124</td>\n",
              "      <td>3</td>\n",
              "      <td>1</td>\n",
              "      <td>3</td>\n",
              "      <td>NaN</td>\n",
              "      <td>NaN</td>\n",
              "      <td>NaN</td>\n",
              "      <td>NaN</td>\n",
              "      <td>NaN</td>\n",
              "      <td>NaN</td>\n",
              "      <td>NaN</td>\n",
              "      <td>NaN</td>\n",
              "      <td>NaN</td>\n",
              "      <td>NaN</td>\n",
              "      <td>NaN</td>\n",
              "      <td>NaN</td>\n",
              "      <td>NaN</td>\n",
              "    </tr>\n",
              "    <tr>\n",
              "      <th>2018-03-01 01:00:00</th>\n",
              "      <td>85</td>\n",
              "      <td>3</td>\n",
              "      <td>1</td>\n",
              "      <td>3</td>\n",
              "      <td>124.0</td>\n",
              "      <td>NaN</td>\n",
              "      <td>NaN</td>\n",
              "      <td>NaN</td>\n",
              "      <td>NaN</td>\n",
              "      <td>NaN</td>\n",
              "      <td>NaN</td>\n",
              "      <td>NaN</td>\n",
              "      <td>NaN</td>\n",
              "      <td>NaN</td>\n",
              "      <td>NaN</td>\n",
              "      <td>NaN</td>\n",
              "      <td>NaN</td>\n",
              "    </tr>\n",
              "    <tr>\n",
              "      <th>2018-03-01 02:00:00</th>\n",
              "      <td>71</td>\n",
              "      <td>3</td>\n",
              "      <td>1</td>\n",
              "      <td>3</td>\n",
              "      <td>85.0</td>\n",
              "      <td>124.0</td>\n",
              "      <td>NaN</td>\n",
              "      <td>NaN</td>\n",
              "      <td>NaN</td>\n",
              "      <td>NaN</td>\n",
              "      <td>NaN</td>\n",
              "      <td>NaN</td>\n",
              "      <td>NaN</td>\n",
              "      <td>NaN</td>\n",
              "      <td>NaN</td>\n",
              "      <td>NaN</td>\n",
              "      <td>NaN</td>\n",
              "    </tr>\n",
              "    <tr>\n",
              "      <th>2018-03-01 03:00:00</th>\n",
              "      <td>66</td>\n",
              "      <td>3</td>\n",
              "      <td>1</td>\n",
              "      <td>3</td>\n",
              "      <td>71.0</td>\n",
              "      <td>85.0</td>\n",
              "      <td>124.0</td>\n",
              "      <td>NaN</td>\n",
              "      <td>NaN</td>\n",
              "      <td>NaN</td>\n",
              "      <td>NaN</td>\n",
              "      <td>NaN</td>\n",
              "      <td>NaN</td>\n",
              "      <td>NaN</td>\n",
              "      <td>NaN</td>\n",
              "      <td>NaN</td>\n",
              "      <td>NaN</td>\n",
              "    </tr>\n",
              "    <tr>\n",
              "      <th>2018-03-01 04:00:00</th>\n",
              "      <td>43</td>\n",
              "      <td>3</td>\n",
              "      <td>1</td>\n",
              "      <td>3</td>\n",
              "      <td>66.0</td>\n",
              "      <td>71.0</td>\n",
              "      <td>85.0</td>\n",
              "      <td>124.0</td>\n",
              "      <td>NaN</td>\n",
              "      <td>NaN</td>\n",
              "      <td>NaN</td>\n",
              "      <td>NaN</td>\n",
              "      <td>NaN</td>\n",
              "      <td>NaN</td>\n",
              "      <td>NaN</td>\n",
              "      <td>NaN</td>\n",
              "      <td>NaN</td>\n",
              "    </tr>\n",
              "    <tr>\n",
              "      <th>...</th>\n",
              "      <td>...</td>\n",
              "      <td>...</td>\n",
              "      <td>...</td>\n",
              "      <td>...</td>\n",
              "      <td>...</td>\n",
              "      <td>...</td>\n",
              "      <td>...</td>\n",
              "      <td>...</td>\n",
              "      <td>...</td>\n",
              "      <td>...</td>\n",
              "      <td>...</td>\n",
              "      <td>...</td>\n",
              "      <td>...</td>\n",
              "      <td>...</td>\n",
              "      <td>...</td>\n",
              "      <td>...</td>\n",
              "      <td>...</td>\n",
              "    </tr>\n",
              "    <tr>\n",
              "      <th>2018-08-31 19:00:00</th>\n",
              "      <td>136</td>\n",
              "      <td>8</td>\n",
              "      <td>31</td>\n",
              "      <td>4</td>\n",
              "      <td>207.0</td>\n",
              "      <td>217.0</td>\n",
              "      <td>197.0</td>\n",
              "      <td>116.0</td>\n",
              "      <td>133.0</td>\n",
              "      <td>166.0</td>\n",
              "      <td>136.0</td>\n",
              "      <td>167.0</td>\n",
              "      <td>191.0</td>\n",
              "      <td>203.0</td>\n",
              "      <td>182.0</td>\n",
              "      <td>46.0</td>\n",
              "      <td>172.666667</td>\n",
              "    </tr>\n",
              "    <tr>\n",
              "      <th>2018-08-31 20:00:00</th>\n",
              "      <td>154</td>\n",
              "      <td>8</td>\n",
              "      <td>31</td>\n",
              "      <td>4</td>\n",
              "      <td>136.0</td>\n",
              "      <td>207.0</td>\n",
              "      <td>217.0</td>\n",
              "      <td>197.0</td>\n",
              "      <td>116.0</td>\n",
              "      <td>133.0</td>\n",
              "      <td>166.0</td>\n",
              "      <td>136.0</td>\n",
              "      <td>167.0</td>\n",
              "      <td>191.0</td>\n",
              "      <td>203.0</td>\n",
              "      <td>182.0</td>\n",
              "      <td>167.666667</td>\n",
              "    </tr>\n",
              "    <tr>\n",
              "      <th>2018-08-31 21:00:00</th>\n",
              "      <td>159</td>\n",
              "      <td>8</td>\n",
              "      <td>31</td>\n",
              "      <td>4</td>\n",
              "      <td>154.0</td>\n",
              "      <td>136.0</td>\n",
              "      <td>207.0</td>\n",
              "      <td>217.0</td>\n",
              "      <td>197.0</td>\n",
              "      <td>116.0</td>\n",
              "      <td>133.0</td>\n",
              "      <td>166.0</td>\n",
              "      <td>136.0</td>\n",
              "      <td>167.0</td>\n",
              "      <td>191.0</td>\n",
              "      <td>203.0</td>\n",
              "      <td>171.166667</td>\n",
              "    </tr>\n",
              "    <tr>\n",
              "      <th>2018-08-31 22:00:00</th>\n",
              "      <td>223</td>\n",
              "      <td>8</td>\n",
              "      <td>31</td>\n",
              "      <td>4</td>\n",
              "      <td>159.0</td>\n",
              "      <td>154.0</td>\n",
              "      <td>136.0</td>\n",
              "      <td>207.0</td>\n",
              "      <td>217.0</td>\n",
              "      <td>197.0</td>\n",
              "      <td>116.0</td>\n",
              "      <td>133.0</td>\n",
              "      <td>166.0</td>\n",
              "      <td>136.0</td>\n",
              "      <td>167.0</td>\n",
              "      <td>191.0</td>\n",
              "      <td>178.333333</td>\n",
              "    </tr>\n",
              "    <tr>\n",
              "      <th>2018-08-31 23:00:00</th>\n",
              "      <td>205</td>\n",
              "      <td>8</td>\n",
              "      <td>31</td>\n",
              "      <td>4</td>\n",
              "      <td>223.0</td>\n",
              "      <td>159.0</td>\n",
              "      <td>154.0</td>\n",
              "      <td>136.0</td>\n",
              "      <td>207.0</td>\n",
              "      <td>217.0</td>\n",
              "      <td>197.0</td>\n",
              "      <td>116.0</td>\n",
              "      <td>133.0</td>\n",
              "      <td>166.0</td>\n",
              "      <td>136.0</td>\n",
              "      <td>167.0</td>\n",
              "      <td>182.666667</td>\n",
              "    </tr>\n",
              "  </tbody>\n",
              "</table>\n",
              "<p>4416 rows × 17 columns</p>\n",
              "</div>"
            ],
            "text/plain": [
              "                     num_orders  month  day  dayofweek  lag_1  lag_2  lag_3  \\\n",
              "datetime                                                                      \n",
              "2018-03-01 00:00:00         124      3    1          3    NaN    NaN    NaN   \n",
              "2018-03-01 01:00:00          85      3    1          3  124.0    NaN    NaN   \n",
              "2018-03-01 02:00:00          71      3    1          3   85.0  124.0    NaN   \n",
              "2018-03-01 03:00:00          66      3    1          3   71.0   85.0  124.0   \n",
              "2018-03-01 04:00:00          43      3    1          3   66.0   71.0   85.0   \n",
              "...                         ...    ...  ...        ...    ...    ...    ...   \n",
              "2018-08-31 19:00:00         136      8   31          4  207.0  217.0  197.0   \n",
              "2018-08-31 20:00:00         154      8   31          4  136.0  207.0  217.0   \n",
              "2018-08-31 21:00:00         159      8   31          4  154.0  136.0  207.0   \n",
              "2018-08-31 22:00:00         223      8   31          4  159.0  154.0  136.0   \n",
              "2018-08-31 23:00:00         205      8   31          4  223.0  159.0  154.0   \n",
              "\n",
              "                     lag_4  lag_5  lag_6  lag_7  lag_8  lag_9  lag_10  lag_11  \\\n",
              "datetime                                                                        \n",
              "2018-03-01 00:00:00    NaN    NaN    NaN    NaN    NaN    NaN     NaN     NaN   \n",
              "2018-03-01 01:00:00    NaN    NaN    NaN    NaN    NaN    NaN     NaN     NaN   \n",
              "2018-03-01 02:00:00    NaN    NaN    NaN    NaN    NaN    NaN     NaN     NaN   \n",
              "2018-03-01 03:00:00    NaN    NaN    NaN    NaN    NaN    NaN     NaN     NaN   \n",
              "2018-03-01 04:00:00  124.0    NaN    NaN    NaN    NaN    NaN     NaN     NaN   \n",
              "...                    ...    ...    ...    ...    ...    ...     ...     ...   \n",
              "2018-08-31 19:00:00  116.0  133.0  166.0  136.0  167.0  191.0   203.0   182.0   \n",
              "2018-08-31 20:00:00  197.0  116.0  133.0  166.0  136.0  167.0   191.0   203.0   \n",
              "2018-08-31 21:00:00  217.0  197.0  116.0  133.0  166.0  136.0   167.0   191.0   \n",
              "2018-08-31 22:00:00  207.0  217.0  197.0  116.0  133.0  166.0   136.0   167.0   \n",
              "2018-08-31 23:00:00  136.0  207.0  217.0  197.0  116.0  133.0   166.0   136.0   \n",
              "\n",
              "                     lag_12  rolling_mean  \n",
              "datetime                                   \n",
              "2018-03-01 00:00:00     NaN           NaN  \n",
              "2018-03-01 01:00:00     NaN           NaN  \n",
              "2018-03-01 02:00:00     NaN           NaN  \n",
              "2018-03-01 03:00:00     NaN           NaN  \n",
              "2018-03-01 04:00:00     NaN           NaN  \n",
              "...                     ...           ...  \n",
              "2018-08-31 19:00:00    46.0    172.666667  \n",
              "2018-08-31 20:00:00   182.0    167.666667  \n",
              "2018-08-31 21:00:00   203.0    171.166667  \n",
              "2018-08-31 22:00:00   191.0    178.333333  \n",
              "2018-08-31 23:00:00   167.0    182.666667  \n",
              "\n",
              "[4416 rows x 17 columns]"
            ]
          },
          "metadata": {}
        }
      ]
    },
    {
      "cell_type": "code",
      "source": "# поскольку пропуски заполнить нечем, удаляем их\ndata = data.dropna()",
      "metadata": {},
      "execution_count": 17,
      "outputs": []
    },
    {
      "cell_type": "code",
      "source": "# смотрим общую информацию о получившемся датасете\ndata.info()",
      "metadata": {
        "scrolled": true
      },
      "execution_count": 18,
      "outputs": [
        {
          "name": "stdout",
          "output_type": "stream",
          "text": "<class 'pandas.core.frame.DataFrame'>\n\nDatetimeIndex: 4404 entries, 2018-03-01 12:00:00 to 2018-08-31 23:00:00\n\nFreq: H\n\nData columns (total 17 columns):\n\n #   Column        Non-Null Count  Dtype  \n\n---  ------        --------------  -----  \n\n 0   num_orders    4404 non-null   int64  \n\n 1   month         4404 non-null   int64  \n\n 2   day           4404 non-null   int64  \n\n 3   dayofweek     4404 non-null   int64  \n\n 4   lag_1         4404 non-null   float64\n\n 5   lag_2         4404 non-null   float64\n\n 6   lag_3         4404 non-null   float64\n\n 7   lag_4         4404 non-null   float64\n\n 8   lag_5         4404 non-null   float64\n\n 9   lag_6         4404 non-null   float64\n\n 10  lag_7         4404 non-null   float64\n\n 11  lag_8         4404 non-null   float64\n\n 12  lag_9         4404 non-null   float64\n\n 13  lag_10        4404 non-null   float64\n\n 14  lag_11        4404 non-null   float64\n\n 15  lag_12        4404 non-null   float64\n\n 16  rolling_mean  4404 non-null   float64\n\ndtypes: float64(13), int64(4)\n\nmemory usage: 619.3 KB\n"
        }
      ]
    },
    {
      "cell_type": "markdown",
      "source": "### Разделяем признаки на обучающую и тестовую выборки",
      "metadata": {}
    },
    {
      "cell_type": "code",
      "source": "# разделяем датасет на обучающую и тестовую выборки\ntrain, test = train_test_split(data, shuffle=False, test_size=0.1)",
      "metadata": {},
      "execution_count": 19,
      "outputs": []
    },
    {
      "cell_type": "code",
      "source": "# смотрим на размеры получившихся выборок\nprint(train.shape, test.shape)",
      "metadata": {},
      "execution_count": 20,
      "outputs": [
        {
          "name": "stdout",
          "output_type": "stream",
          "text": "(3963, 17) (441, 17)\n"
        }
      ]
    },
    {
      "cell_type": "code",
      "source": "# подготавливаем обучающие и целевые признаки\nfeatures_train = train.drop(['num_orders'], axis=1)\ntarget_train = train['num_orders']\nprint(features_train.shape, target_train.shape)",
      "metadata": {},
      "execution_count": 21,
      "outputs": [
        {
          "name": "stdout",
          "output_type": "stream",
          "text": "(3963, 16) (3963,)\n"
        }
      ]
    },
    {
      "cell_type": "code",
      "source": "# выделяем обучающие и целевые признаки\nfeatures_test = test.drop(['num_orders'], axis=1)\ntarget_test = test['num_orders']\nprint(features_test.shape, target_test.shape)",
      "metadata": {},
      "execution_count": 22,
      "outputs": [
        {
          "name": "stdout",
          "output_type": "stream",
          "text": "(441, 16) (441,)\n"
        }
      ]
    },
    {
      "cell_type": "markdown",
      "source": "### Разделяем признаки на обучающую и валидационную выборки для моделей без кросс-валидации",
      "metadata": {}
    },
    {
      "cell_type": "code",
      "source": "# выделяем отдельный набор обучающих и целевых признаков для моделей, которым не будем делать кросс-валидацию\ntrain_ext, valid = train_test_split(train, shuffle=False, test_size=0.11)",
      "metadata": {},
      "execution_count": 23,
      "outputs": []
    },
    {
      "cell_type": "code",
      "source": "# подготавливаем обучающие и целевые признаки\nfeatures_train_ext = train_ext.drop(['num_orders'], axis=1)\ntarget_train_ext = train_ext['num_orders']\nprint(features_train_ext.shape, target_train_ext.shape)",
      "metadata": {},
      "execution_count": 24,
      "outputs": [
        {
          "name": "stdout",
          "output_type": "stream",
          "text": "(3527, 16) (3527,)\n"
        }
      ]
    },
    {
      "cell_type": "code",
      "source": "# подготавливаем обучающие и целевые признаки\nfeatures_valid = valid.drop(['num_orders'], axis=1)\ntarget_valid = valid['num_orders']\nprint(features_valid.shape, target_valid.shape)",
      "metadata": {},
      "execution_count": 25,
      "outputs": [
        {
          "name": "stdout",
          "output_type": "stream",
          "text": "(436, 16) (436,)\n"
        }
      ]
    },
    {
      "cell_type": "markdown",
      "source": "### Dummy-модель",
      "metadata": {}
    },
    {
      "cell_type": "code",
      "source": "%%time\n\n# обучаем и смотрим на результаты простой Dummy-модели для сравнения\nmodel = DummyRegressor()\nmodel.fit(features_train_ext, target_train_ext)\npredictions = model.predict(features_valid)\nprint('rmse =', mean_squared_error(target_valid, predictions) ** 0.5)\n# смотрим на качество и скорость работы простой Dummy-модели для сравнения",
      "metadata": {},
      "execution_count": 33,
      "outputs": [
        {
          "name": "stdout",
          "output_type": "stream",
          "text": "rmse = 58.27762576158207\n\nCPU times: user 2.61 ms, sys: 622 µs, total: 3.23 ms\n\nWall time: 2.88 ms\n"
        }
      ]
    },
    {
      "cell_type": "markdown",
      "source": "### Линейная регрессия",
      "metadata": {}
    },
    {
      "cell_type": "code",
      "source": "%%time\n\n# обучаем и смотрим на результаты Линейной регрессии\nmodel = LinearRegression()\nmodel.fit(features_train_ext, target_train_ext)\npredictions = model.predict(features_valid)\nprint('rmse =', mean_squared_error(target_valid, predictions) ** 0.5)",
      "metadata": {},
      "execution_count": 34,
      "outputs": [
        {
          "name": "stdout",
          "output_type": "stream",
          "text": "rmse = 40.06831595077591\n\nCPU times: user 59.9 ms, sys: 14 ms, total: 73.9 ms\n\nWall time: 24.8 ms\n"
        }
      ]
    },
    {
      "cell_type": "markdown",
      "source": "### Lasso",
      "metadata": {}
    },
    {
      "cell_type": "code",
      "source": "%%time\n\n# обучаем и смотрим на результаты модели Lasso\nmodel = linear_model.Lasso(random_state=12345)\nmodel.fit(features_train_ext, target_train_ext)\npredictions = model.predict(features_valid)\nprint('rmse =', mean_squared_error(target_valid, predictions) ** 0.5)",
      "metadata": {},
      "execution_count": 35,
      "outputs": [
        {
          "name": "stdout",
          "output_type": "stream",
          "text": "rmse = 40.255029200989085\n\nCPU times: user 28.3 ms, sys: 13.4 ms, total: 41.6 ms\n\nWall time: 20.2 ms\n"
        }
      ]
    },
    {
      "cell_type": "markdown",
      "source": "### Ridge",
      "metadata": {}
    },
    {
      "cell_type": "code",
      "source": "%%time\n\n# обучаем и смотрим на результаты модели Ridge\nmodel = Ridge(random_state=12345)\nmodel.fit(features_train_ext, target_train_ext)\npredictions = model.predict(features_valid)\nprint('rmse =', mean_squared_error(target_valid, predictions) ** 0.5)",
      "metadata": {},
      "execution_count": 36,
      "outputs": [
        {
          "name": "stdout",
          "output_type": "stream",
          "text": "rmse = 40.068615293482644\n\nCPU times: user 28.5 ms, sys: 16.3 ms, total: 44.8 ms\n\nWall time: 16.6 ms\n"
        }
      ]
    },
    {
      "cell_type": "markdown",
      "source": "### Случайный лес",
      "metadata": {}
    },
    {
      "cell_type": "code",
      "source": "%%time\n\n# проводим кросс-валидацию Случайного леса методом TimeSeriesSplit\n\ntscv = TimeSeriesSplit(n_splits=3)\ni = 1\nscore = []\nfor tr_index, val_index in tscv.split(features_train.index):\n    X_tr, X_val = features_train.iloc[tr_index], features_train.iloc[val_index]\n    y_tr, y_val = target_train.iloc[tr_index], target_train.iloc[val_index]\n    for mf in range(1, 10, 1):\n        for ne in range(1, 10, 1):\n            for md in range(1, 10, 1):\n                for msl in range(1, 10, 1):\n                    rfr = RandomForestRegressor(\n                        max_features=mf,\n                        n_estimators=ne,\n                        max_depth=md,\n                        min_samples_leaf=msl, random_state=12345)\n                    rfr.fit(X_tr, y_tr)\n                    score.append([i, mf, ne, md, msl, mean_squared_error(rfr.predict(X_val), y_val) ** 0.5])\n    i += 1",
      "metadata": {},
      "execution_count": 37,
      "outputs": [
        {
          "name": "stdout",
          "output_type": "stream",
          "text": "CPU times: user 3min 25s, sys: 775 ms, total: 3min 26s\n\nWall time: 3min 26s\n"
        }
      ]
    },
    {
      "cell_type": "code",
      "source": "# смотрим на лучшее значение метрики и значения гиперпараметров.\nsc = pd.DataFrame(score)\nsc[sc[0] == 3].sort_values(by=5).head(1)",
      "metadata": {},
      "execution_count": 126,
      "outputs": [
        {
          "execution_count": 126,
          "output_type": "execute_result",
          "data": {
            "text/html": [
              "<div>\n",
              "<style scoped>\n",
              "    .dataframe tbody tr th:only-of-type {\n",
              "        vertical-align: middle;\n",
              "    }\n",
              "\n",
              "    .dataframe tbody tr th {\n",
              "        vertical-align: top;\n",
              "    }\n",
              "\n",
              "    .dataframe thead th {\n",
              "        text-align: right;\n",
              "    }\n",
              "</style>\n",
              "<table border=\"1\" class=\"dataframe\">\n",
              "  <thead>\n",
              "    <tr style=\"text-align: right;\">\n",
              "      <th></th>\n",
              "      <th>0</th>\n",
              "      <th>1</th>\n",
              "      <th>2</th>\n",
              "      <th>3</th>\n",
              "      <th>4</th>\n",
              "      <th>5</th>\n",
              "    </tr>\n",
              "  </thead>\n",
              "  <tbody>\n",
              "    <tr>\n",
              "      <th>18220</th>\n",
              "      <td>3</td>\n",
              "      <td>7</td>\n",
              "      <td>9</td>\n",
              "      <td>9</td>\n",
              "      <td>5</td>\n",
              "      <td>36.255035</td>\n",
              "    </tr>\n",
              "  </tbody>\n",
              "</table>\n",
              "</div>"
            ],
            "text/plain": [
              "       0  1  2  3  4          5\n",
              "18220  3  7  9  9  5  36.255035"
            ]
          },
          "metadata": {}
        }
      ]
    },
    {
      "cell_type": "markdown",
      "source": "### Дерево решений",
      "metadata": {}
    },
    {
      "cell_type": "code",
      "source": "%%time\n\n# проводим кросс-валидацию Дерева решений методом TimeSeriesSplit\n\ntscv = TimeSeriesSplit(n_splits=3)\ni = 1\nscore = []\nfor tr_index, val_index in tscv.split(features_train.index):\n    X_tr, X_val = features_train.iloc[tr_index], features_train.iloc[val_index]\n    y_tr, y_val = target_train.iloc[tr_index], target_train.iloc[val_index]\n    for mf in range(1, 10, 1):\n        for md in range(1, 10, 1):\n            for msl in range(1, 10, 1):\n                dtr = DecisionTreeRegressor(\n                    max_features=mf,\n                    max_depth=md,\n                    min_samples_leaf=msl, random_state=12345)\n                dtr.fit(X_tr, y_tr)\n                score.append([i, mf, md, msl, mean_squared_error(dtr.predict(X_val), y_val) ** 0.5])\n    i += 1",
      "metadata": {},
      "execution_count": 33,
      "outputs": []
    },
    {
      "cell_type": "code",
      "source": "# смотрим на лучшее значение метрики и гиперпараметры\nsc = pd.DataFrame(score)\nsc[sc[0] == 3].sort_values(by=4).head(1)",
      "metadata": {},
      "execution_count": 39,
      "outputs": [
        {
          "execution_count": 39,
          "output_type": "execute_result",
          "data": {
            "text/html": [
              "<div>\n",
              "<style scoped>\n",
              "    .dataframe tbody tr th:only-of-type {\n",
              "        vertical-align: middle;\n",
              "    }\n",
              "\n",
              "    .dataframe tbody tr th {\n",
              "        vertical-align: top;\n",
              "    }\n",
              "\n",
              "    .dataframe thead th {\n",
              "        text-align: right;\n",
              "    }\n",
              "</style>\n",
              "<table border=\"1\" class=\"dataframe\">\n",
              "  <thead>\n",
              "    <tr style=\"text-align: right;\">\n",
              "      <th></th>\n",
              "      <th>0</th>\n",
              "      <th>1</th>\n",
              "      <th>2</th>\n",
              "      <th>3</th>\n",
              "      <th>4</th>\n",
              "      <th>5</th>\n",
              "    </tr>\n",
              "  </thead>\n",
              "  <tbody>\n",
              "    <tr>\n",
              "      <th>13122</th>\n",
              "      <td>3</td>\n",
              "      <td>1</td>\n",
              "      <td>1</td>\n",
              "      <td>1</td>\n",
              "      <td>1</td>\n",
              "      <td>49.449969</td>\n",
              "    </tr>\n",
              "  </tbody>\n",
              "</table>\n",
              "</div>"
            ],
            "text/plain": [
              "       0  1  2  3  4          5\n",
              "13122  3  1  1  1  1  49.449969"
            ]
          },
          "metadata": {}
        }
      ]
    },
    {
      "cell_type": "markdown",
      "source": "### CatBoost",
      "metadata": {}
    },
    {
      "cell_type": "code",
      "source": "%%time\n\n# подбираем гиперпараметры и смотрим на результаты модели CatBoost\ncbr = CatBoostRegressor(random_state=12345, verbose=0)\ntrain_dataset = cb.Pool(features_train, target_train)\ngrid = {'iterations': [300, 500, 1000],\n        'learning_rate': [0.1, 0.03, 0.003],\n        'depth': [2, 4, 6, 8, 10],\n        'l2_leaf_reg': [0.2, 0.5, 1, 3]}\nCV_cbr = cbr.grid_search(grid, train_dataset, verbose=0, shuffle=False, plot=True, calc_cv_statistics=False)",
      "metadata": {},
      "execution_count": 40,
      "outputs": [
        {
          "output_type": "display_data",
          "data": {
            "application/vnd.jupyter.widget-view+json": {
              "model_id": "f999093bf6ff4c3dbc365b974034cc8f",
              "version_major": 2,
              "version_minor": 0
            },
            "text/plain": [
              "MetricVisualizer(layout=Layout(align_self='stretch', height='500px'))"
            ]
          },
          "metadata": {}
        },
        {
          "name": "stdout",
          "output_type": "stream",
          "text": "\n\nbestTest = 37.20661337\n\nbestIteration = 296\n\n\n\n\n\nbestTest = 39.6230504\n\nbestIteration = 299\n\n\n\n\n\nbestTest = 70.92703797\n\nbestIteration = 299\n\n\n\n\n\nbestTest = 37.41790258\n\nbestIteration = 298\n\n\n\n\n\nbestTest = 39.58055829\n\nbestIteration = 298\n\n\n\n\n\nbestTest = 70.93959455\n\nbestIteration = 299\n\n\n\n\n\nbestTest = 37.49667033\n\nbestIteration = 298\n\n\n\n\n\nbestTest = 39.56912497\n\nbestIteration = 298\n\n\n\n\n\nbestTest = 70.96853799\n\nbestIteration = 299\n\n\n\n\n\nbestTest = 37.59900229\n\nbestIteration = 299\n\n\n\n\n\nbestTest = 39.6366181\n\nbestIteration = 298\n\n\n\n\n\nbestTest = 71.10689782\n\nbestIteration = 299\n\n\n\n\n\nbestTest = 36.94513091\n\nbestIteration = 442\n\n\n\n\n\nbestTest = 38.36567595\n\nbestIteration = 493\n\n\n\n\n\nbestTest = 57.55013262\n\nbestIteration = 499\n\n\n\n\n\nbestTest = 36.87864537\n\nbestIteration = 459\n\n\n\n\n\nbestTest = 38.48855041\n\nbestIteration = 499\n\n\n\n\n\nbestTest = 57.58996644\n\nbestIteration = 499\n\n\n\n\n\nbestTest = 37.26395037\n\nbestIteration = 408\n\n\n\n\n\nbestTest = 38.51259836\n\nbestIteration = 494\n\n\n\n\n\nbestTest = 57.64623202\n\nbestIteration = 499\n\n\n\n\n\nbestTest = 36.97275024\n\nbestIteration = 491\n\n\n\n\n\nbestTest = 38.53623318\n\nbestIteration = 498\n\n\n\n\n\nbestTest = 57.74824083\n\nbestIteration = 499\n\n\n\n\n\nbestTest = 36.94513091\n\nbestIteration = 442\n\n\n\n\n\nbestTest = 37.08818667\n\nbestIteration = 983\n\n\n\n\n\nbestTest = 45.48571043\n\nbestIteration = 999\n\n\n\n\n\nbestTest = 36.87864537\n\nbestIteration = 459\n\n\n\n\n\nbestTest = 37.38380249\n\nbestIteration = 994\n\n\n\n\n\nbestTest = 45.52353435\n\nbestIteration = 999\n\n\n\n\n\nbestTest = 37.26395037\n\nbestIteration = 408\n\n\n\n\n\nbestTest = 37.42057034\n\nbestIteration = 980\n\n\n\n\n\nbestTest = 45.54991144\n\nbestIteration = 999\n\n\n\n\n\nbestTest = 36.75467779\n\nbestIteration = 684\n\n\n\n\n\nbestTest = 37.33234785\n\nbestIteration = 963\n\n\n\n\n\nbestTest = 45.62986069\n\nbestIteration = 999\n\n\n\n\n\nbestTest = 36.5197736\n\nbestIteration = 286\n\n\n\n\n\nbestTest = 37.67791842\n\nbestIteration = 299\n\n\n\n\n\nbestTest = 69.35518073\n\nbestIteration = 299\n\n\n\n\n\nbestTest = 36.53314137\n\nbestIteration = 297\n\n\n\n\n\nbestTest = 37.94948293\n\nbestIteration = 299\n\n\n\n\n\nbestTest = 69.31985288\n\nbestIteration = 299\n\n\n\n\n\nbestTest = 36.20540405\n\nbestIteration = 299\n\n\n\n\n\nbestTest = 38.13160544\n\nbestIteration = 295\n\n\n\n\n\nbestTest = 69.55452425\n\nbestIteration = 299\n\n\n\n\n\nbestTest = 36.98206711\n\nbestIteration = 296\n\n\n\n\n\nbestTest = 38.05668707\n\nbestIteration = 296\n\n\n\n\n\nbestTest = 69.92364241\n\nbestIteration = 299\n\n\n\n\n\nbestTest = 36.50909022\n\nbestIteration = 357\n\n\n\n\n\nbestTest = 36.60715374\n\nbestIteration = 489\n\n\n\n\n\nbestTest = 55.77506214\n\nbestIteration = 499\n\n\n\n\n\nbestTest = 36.37274757\n\nbestIteration = 457\n\n\n\n\n\nbestTest = 36.85838256\n\nbestIteration = 489\n\n\n\n\n\nbestTest = 55.74684253\n\nbestIteration = 499\n\n\n\n\n\nbestTest = 36.00694351\n\nbestIteration = 498\n\n\n\n\n\nbestTest = 36.93609292\n\nbestIteration = 495\n\n\n\n\n\nbestTest = 55.96043189\n\nbestIteration = 499\n\n\n\n\n\nbestTest = 36.56221875\n\nbestIteration = 466\n\n\n\n\n\nbestTest = 36.9391786\n\nbestIteration = 498\n\n\n\n\n\nbestTest = 56.28282565\n\nbestIteration = 499\n\n\n\n\n\nbestTest = 36.50909022\n\nbestIteration = 357\n\n\n\n\n\nbestTest = 35.89768344\n\nbestIteration = 995\n\n\n\n\n\nbestTest = 43.46302034\n\nbestIteration = 999\n\n\n\n\n\nbestTest = 36.36596155\n\nbestIteration = 536\n\n\n\n\n\nbestTest = 36.25519135\n\nbestIteration = 999\n\n\n\n\n\nbestTest = 43.5229037\n\nbestIteration = 999\n\n\n\n\n\nbestTest = 35.84768543\n\nbestIteration = 570\n\n\n\n\n\nbestTest = 36.31301394\n\nbestIteration = 999\n\n\n\n\n\nbestTest = 43.65674919\n\nbestIteration = 999\n\n\n\n\n\nbestTest = 36.56221875\n\nbestIteration = 466\n\n\n\n\n\nbestTest = 36.29918522\n\nbestIteration = 999\n\n\n\n\n\nbestTest = 43.93005767\n\nbestIteration = 999\n\n\n\n\n\nbestTest = 35.92991183\n\nbestIteration = 218\n\n\n\n\n\nbestTest = 37.25857339\n\nbestIteration = 299\n\n\n\n\n\nbestTest = 68.46773237\n\nbestIteration = 299\n\n\n\n\n\nbestTest = 35.76128484\n\nbestIteration = 223\n\n\n\n\n\nbestTest = 37.43926346\n\nbestIteration = 299\n\n\n\n\n\nbestTest = 68.85126824\n\nbestIteration = 299\n\n\n\n\n\nbestTest = 36.38478874\n\nbestIteration = 214\n\n\n\n\n\nbestTest = 37.55638499\n\nbestIteration = 287\n\n\n\n\n\nbestTest = 69.25821201\n\nbestIteration = 299\n\n\n\n\n\nbestTest = 36.81337148\n\nbestIteration = 214\n\n\n\n\n\nbestTest = 37.99298001\n\nbestIteration = 298\n\n\n\n\n\nbestTest = 70.21353892\n\nbestIteration = 299\n\n\n\n\n\nbestTest = 35.88141655\n\nbestIteration = 354\n\n\n\n\n\nbestTest = 36.56872011\n\nbestIteration = 498\n\n\n\n\n\nbestTest = 54.94109149\n\nbestIteration = 499\n\n\n\n\n\nbestTest = 35.76128484\n\nbestIteration = 223\n\n\n\n\n\nbestTest = 36.72977714\n\nbestIteration = 499\n\n\n\n\n\nbestTest = 55.29764017\n\nbestIteration = 499\n\n\n\n\n\nbestTest = 36.36682039\n\nbestIteration = 380\n\n\n\n\n\nbestTest = 36.96274148\n\nbestIteration = 496\n\n\n\n\n\nbestTest = 55.66542353\n\nbestIteration = 499\n\n\n\n\n\nbestTest = 36.58870362\n\nbestIteration = 407\n\n\n\n\n\nbestTest = 37.10091053\n\nbestIteration = 499\n\n\n\n\n\nbestTest = 56.72587502\n\nbestIteration = 499\n\n\n\n\n\nbestTest = 35.88141655\n\nbestIteration = 354\n\n\n\n\n\nbestTest = 36.20159608\n\nbestIteration = 845\n\n\n\n\n\nbestTest = 42.71618223\n\nbestIteration = 999\n\n\n\n\n\nbestTest = 35.76128484\n\nbestIteration = 223\n\n\n\n\n\nbestTest = 36.16022075\n\nbestIteration = 999\n\n\n\n\n\nbestTest = 42.99394802\n\nbestIteration = 999\n\n\n\n\n\nbestTest = 36.36682039\n\nbestIteration = 380\n\n\n\n\n\nbestTest = 36.59185132\n\nbestIteration = 982\n\n\n\n\n\nbestTest = 43.29270245\n\nbestIteration = 999\n\n\n\n\n\nbestTest = 36.58870362\n\nbestIteration = 407\n\n\n\n\n\nbestTest = 36.66376529\n\nbestIteration = 963\n\n\n\n\n\nbestTest = 44.11574716\n\nbestIteration = 999\n\n\n\n\n\nbestTest = 37.98309002\n\nbestIteration = 298\n\n\n\n\n\nbestTest = 37.52329153\n\nbestIteration = 299\n\n\n\n\n\nbestTest = 68.85304738\n\nbestIteration = 299\n\n\n\n\n\nbestTest = 38.32673114\n\nbestIteration = 190\n\n\n\n\n\nbestTest = 37.77083306\n\nbestIteration = 299\n\n\n\n\n\nbestTest = 69.10580646\n\nbestIteration = 299\n\n\n\n\n\nbestTest = 37.4942983\n\nbestIteration = 231\n\n\n\n\n\nbestTest = 37.31175598\n\nbestIteration = 299\n\n\n\n\n\nbestTest = 69.7127147\n\nbestIteration = 299\n\n\n\n\n\nbestTest = 38.09136731\n\nbestIteration = 280\n\n\n\n\n\nbestTest = 38.32560412\n\nbestIteration = 299\n\n\n\n\n\nbestTest = 71.20992761\n\nbestIteration = 299\n\n\n\n\n\nbestTest = 37.87513446\n\nbestIteration = 497\n\n\n\n\n\nbestTest = 37.16834553\n\nbestIteration = 469\n\n\n\n\n\nbestTest = 55.20386917\n\nbestIteration = 499\n\n\n\n\n\nbestTest = 38.32673114\n\nbestIteration = 190\n\n\n\n\n\nbestTest = 37.2012986\n\nbestIteration = 498\n\n\n\n\n\nbestTest = 55.55345432\n\nbestIteration = 499\n\n\n\n\n\nbestTest = 37.4942983\n\nbestIteration = 231\n\n\n\n\n\nbestTest = 36.7727929\n\nbestIteration = 499\n\n\n\n\n\nbestTest = 56.06294402\n\nbestIteration = 499\n\n\n\n\n\nbestTest = 37.95180482\n\nbestIteration = 499\n\n\n\n\n\nbestTest = 37.56956642\n\nbestIteration = 493\n\n\n\n\n\nbestTest = 57.6716042\n\nbestIteration = 499\n\n\n\n\n\nbestTest = 37.82817525\n\nbestIteration = 867\n\n\n\n\n\nbestTest = 36.90942527\n\nbestIteration = 969\n\n\n\n\n\nbestTest = 42.74472908\n\nbestIteration = 999\n\n\n\n\n\nbestTest = 38.32673114\n\nbestIteration = 190\n\n\n\n\n\nbestTest = 36.85990425\n\nbestIteration = 847\n\n\n\n\n\nbestTest = 43.14510101\n\nbestIteration = 999\n\n\n\n\n\nbestTest = 37.4942983\n\nbestIteration = 231\n\n\n\n\n\nbestTest = 36.55794629\n\nbestIteration = 776\n\n\n\n\n\nbestTest = 43.50811631\n\nbestIteration = 999\n\n\n\n\n\nbestTest = 37.8871911\n\nbestIteration = 887\n\n\n\n\n\nbestTest = 37.06538914\n\nbestIteration = 999\n\n\n\n\n\nbestTest = 44.69648266\n\nbestIteration = 999\n\n\n\n\n\nbestTest = 39.06059926\n\nbestIteration = 138\n\n\n\n\n\nbestTest = 39.34480407\n\nbestIteration = 295\n\n\n\n\n\nbestTest = 69.71812409\n\nbestIteration = 299\n\n\n\n\n\nbestTest = 38.53034138\n\nbestIteration = 285\n\n\n\n\n\nbestTest = 39.60428741\n\nbestIteration = 299\n\n\n\n\n\nbestTest = 70.38280415\n\nbestIteration = 299\n\n\n\n\n\nbestTest = 38.21389776\n\nbestIteration = 197\n\n\n\n\n\nbestTest = 39.65429532\n\nbestIteration = 299\n\n\n\n\n\nbestTest = 71.09862284\n\nbestIteration = 299\n\n\n\n\n\nbestTest = 38.37600277\n\nbestIteration = 278\n\n\n\n\n\nbestTest = 39.72840287\n\nbestIteration = 299\n\n\n\n\n\nbestTest = 73.29730831\n\nbestIteration = 299\n\n\n\n\n\nbestTest = 39.06059926\n\nbestIteration = 138\n\n\n\n\n\nbestTest = 39.16180002\n\nbestIteration = 492\n\n\n\n\n\nbestTest = 56.23420552\n\nbestIteration = 499\n\n\n\n\n\nbestTest = 38.48493206\n\nbestIteration = 340\n\n\n\n\n\nbestTest = 39.18352535\n\nbestIteration = 498\n\n\n\n\n\nbestTest = 57.02796025\n\nbestIteration = 499\n\n\n\n\n\nbestTest = 38.21389776\n\nbestIteration = 197\n\n\n\n\n\nbestTest = 39.28313198\n\nbestIteration = 499\n\n\n\n\n\nbestTest = 58.00564141\n\nbestIteration = 499\n\n\n\n\n\nbestTest = 38.37600277\n\nbestIteration = 278\n\n\n\n\n\nbestTest = 39.03337328\n\nbestIteration = 497\n\n\n\n\n\nbestTest = 60.22836572\n\nbestIteration = 499\n\n\n\n\n\nbestTest = 39.06059926\n\nbestIteration = 138\n\n\n\n\n\nbestTest = 39.11252293\n\nbestIteration = 602\n\n\n\n\n\nbestTest = 44.17807731\n\nbestIteration = 999\n\n\n\n\n\nbestTest = 38.48493206\n\nbestIteration = 340\n\n\n\n\n\nbestTest = 39.0858394\n\nbestIteration = 663\n\n\n\n\n\nbestTest = 44.74875981\n\nbestIteration = 999\n\n\n\n\n\nbestTest = 38.21389776\n\nbestIteration = 197\n\n\n\n\n\nbestTest = 39.13497384\n\nbestIteration = 999\n\n\n\n\n\nbestTest = 45.3745528\n\nbestIteration = 999\n\n\n\n\n\nbestTest = 38.37476442\n\nbestIteration = 684\n\n\n\n\n\nbestTest = 38.67493844\n\nbestIteration = 991\n\n\n\n\n\nbestTest = 47.37089931\n\nbestIteration = 999\n\n\n\nTraining on fold [0/3]\n\n\n\nbestTest = 25.75074142\n\nbestIteration = 124\n\n\n\nTraining on fold [1/3]\n\n\n\nbestTest = 26.57824891\n\nbestIteration = 294\n\n\n\nTraining on fold [2/3]\n\n\n\nbestTest = 34.98237173\n\nbestIteration = 176\n\n\n\nCPU times: user 31min 32s, sys: 1min 52s, total: 33min 24s\n\nWall time: 5min 2s\n"
        }
      ]
    },
    {
      "cell_type": "code",
      "source": "# выводим лучшее значение гиперпараметров\nprint(CV_cbr)",
      "metadata": {},
      "execution_count": 41,
      "outputs": [
        {
          "name": "stdout",
          "output_type": "stream",
          "text": "{'params': {'depth': 6, 'iterations': 300, 'learning_rate': 0.1, 'l2_leaf_reg': 0.5}}\n"
        }
      ]
    },
    {
      "cell_type": "markdown",
      "source": "### LightGBM",
      "metadata": {}
    },
    {
      "cell_type": "code",
      "source": "%%time\n\n# проводим кросс-валидацию модели LightGBM методом TimeSeriesSplit\n\ntscv = TimeSeriesSplit(n_splits=3)\ni = 1\nscore = []\nfor tr_index, val_index in tscv.split(features_train.index):\n    X_tr, X_val = features_train.iloc[tr_index], features_train.iloc[val_index]\n    y_tr, y_val = target_train.iloc[tr_index], target_train.iloc[val_index]\n    for nl in range(2, 10, 1):\n        for ne in range(50, 200, 50):\n            for md in range(1, 5, 1):\n                lgbm = LGBMRegressor(num_leaves=nl, n_estimators=ne, max_depth=md)\n                lgbm.fit(X_tr, y_tr)\n                score.append([i, nl, ne, md, mean_squared_error(lgbm.predict(X_val), y_val) ** 0.5])\n                              \n    i += 1",
      "metadata": {},
      "execution_count": 26,
      "outputs": [
        {
          "name": "stdout",
          "output_type": "stream",
          "text": "CPU times: user 35.7 s, sys: 3.36 s, total: 39.1 s\n\nWall time: 5.08 s\n"
        }
      ]
    },
    {
      "cell_type": "code",
      "source": "# выводим лучшее значение метрики и значения гиперпараметров\nsc = pd.DataFrame(score)\nsc[sc[0] == 3].sort_values(by=4).head(1)",
      "metadata": {},
      "execution_count": 27,
      "outputs": [
        {
          "execution_count": 27,
          "output_type": "execute_result",
          "data": {
            "text/html": [
              "<div>\n",
              "<style scoped>\n",
              "    .dataframe tbody tr th:only-of-type {\n",
              "        vertical-align: middle;\n",
              "    }\n",
              "\n",
              "    .dataframe tbody tr th {\n",
              "        vertical-align: top;\n",
              "    }\n",
              "\n",
              "    .dataframe thead th {\n",
              "        text-align: right;\n",
              "    }\n",
              "</style>\n",
              "<table border=\"1\" class=\"dataframe\">\n",
              "  <thead>\n",
              "    <tr style=\"text-align: right;\">\n",
              "      <th></th>\n",
              "      <th>0</th>\n",
              "      <th>1</th>\n",
              "      <th>2</th>\n",
              "      <th>3</th>\n",
              "      <th>4</th>\n",
              "    </tr>\n",
              "  </thead>\n",
              "  <tbody>\n",
              "    <tr>\n",
              "      <th>259</th>\n",
              "      <td>3</td>\n",
              "      <td>7</td>\n",
              "      <td>100</td>\n",
              "      <td>4</td>\n",
              "      <td>36.182556</td>\n",
              "    </tr>\n",
              "  </tbody>\n",
              "</table>\n",
              "</div>"
            ],
            "text/plain": [
              "     0  1    2  3          4\n",
              "259  3  7  100  4  36.182556"
            ]
          },
          "metadata": {}
        }
      ]
    },
    {
      "cell_type": "markdown",
      "source": "### Итоговая таблица",
      "metadata": {}
    },
    {
      "cell_type": "code",
      "source": "# собираем таблицу с результатами\ndata = {'RMSE':[58.27, 40.06, 40.25, 40.06, 37.62, 40.30, 35.76, 36.18]} \ndf_total = pd.DataFrame(data, index =['Dummy', 'LinearRegression', 'Lasso', 'Ridge', \n                                'RandomForestRegressor',  'DecisionTree', 'CatBoost', 'LightGBM'])",
      "metadata": {},
      "execution_count": 42,
      "outputs": []
    },
    {
      "cell_type": "code",
      "source": "# выводим таблицу, отсортированную по возрастанию метрики\ndisplay(df_total.sort_values(by='RMSE'))",
      "metadata": {},
      "execution_count": 43,
      "outputs": [
        {
          "output_type": "display_data",
          "data": {
            "text/html": [
              "<div>\n",
              "<style scoped>\n",
              "    .dataframe tbody tr th:only-of-type {\n",
              "        vertical-align: middle;\n",
              "    }\n",
              "\n",
              "    .dataframe tbody tr th {\n",
              "        vertical-align: top;\n",
              "    }\n",
              "\n",
              "    .dataframe thead th {\n",
              "        text-align: right;\n",
              "    }\n",
              "</style>\n",
              "<table border=\"1\" class=\"dataframe\">\n",
              "  <thead>\n",
              "    <tr style=\"text-align: right;\">\n",
              "      <th></th>\n",
              "      <th>RMSE</th>\n",
              "    </tr>\n",
              "  </thead>\n",
              "  <tbody>\n",
              "    <tr>\n",
              "      <th>CatBoost</th>\n",
              "      <td>35.76</td>\n",
              "    </tr>\n",
              "    <tr>\n",
              "      <th>LightGBM</th>\n",
              "      <td>36.18</td>\n",
              "    </tr>\n",
              "    <tr>\n",
              "      <th>RandomForestRegressor</th>\n",
              "      <td>37.62</td>\n",
              "    </tr>\n",
              "    <tr>\n",
              "      <th>LinearRegression</th>\n",
              "      <td>40.06</td>\n",
              "    </tr>\n",
              "    <tr>\n",
              "      <th>Ridge</th>\n",
              "      <td>40.06</td>\n",
              "    </tr>\n",
              "    <tr>\n",
              "      <th>Lasso</th>\n",
              "      <td>40.25</td>\n",
              "    </tr>\n",
              "    <tr>\n",
              "      <th>DecisionTree</th>\n",
              "      <td>40.30</td>\n",
              "    </tr>\n",
              "    <tr>\n",
              "      <th>Dummy</th>\n",
              "      <td>58.27</td>\n",
              "    </tr>\n",
              "  </tbody>\n",
              "</table>\n",
              "</div>"
            ],
            "text/plain": [
              "                        RMSE\n",
              "CatBoost               35.76\n",
              "LightGBM               36.18\n",
              "RandomForestRegressor  37.62\n",
              "LinearRegression       40.06\n",
              "Ridge                  40.06\n",
              "Lasso                  40.25\n",
              "DecisionTree           40.30\n",
              "Dummy                  58.27"
            ]
          },
          "metadata": {}
        }
      ]
    },
    {
      "cell_type": "markdown",
      "source": "**Вывод**\n\nЛучший результат в отборочном туре показала модель CatBoost, поэтому выбираем её.",
      "metadata": {}
    },
    {
      "cell_type": "markdown",
      "source": "## Тестирование",
      "metadata": {}
    },
    {
      "cell_type": "code",
      "source": "%%time\n\n# обучаем лучшую модели и смотрим на результаты\nmodel = CatBoostRegressor(depth=6, iterations=1000, learning_rate=0.03, l2_leaf_reg=0.5, verbose=0)\nmodel.fit(features_train, target_train)\npredictions = model.predict(features_test)\nprint('rmse =', mean_squared_error(target_test, predictions) ** 0.5)",
      "metadata": {
        "scrolled": true
      },
      "execution_count": 45,
      "outputs": [
        {
          "name": "stdout",
          "output_type": "stream",
          "text": "rmse = 47.969293091716935\n\nCPU times: user 3.55 s, sys: 1.34 s, total: 4.88 s\n\nWall time: 1.47 s\n"
        }
      ]
    },
    {
      "cell_type": "code",
      "source": "pred_val = pd.DataFrame(predictions, columns=['predictions'], index=target_test.index)\npd.concat([pred_val, target_test], axis=1).head()",
      "metadata": {},
      "execution_count": 47,
      "outputs": [
        {
          "execution_count": 47,
          "output_type": "execute_result",
          "data": {
            "text/html": [
              "<div>\n",
              "<style scoped>\n",
              "    .dataframe tbody tr th:only-of-type {\n",
              "        vertical-align: middle;\n",
              "    }\n",
              "\n",
              "    .dataframe tbody tr th {\n",
              "        vertical-align: top;\n",
              "    }\n",
              "\n",
              "    .dataframe thead th {\n",
              "        text-align: right;\n",
              "    }\n",
              "</style>\n",
              "<table border=\"1\" class=\"dataframe\">\n",
              "  <thead>\n",
              "    <tr style=\"text-align: right;\">\n",
              "      <th></th>\n",
              "      <th>predictions</th>\n",
              "      <th>num_orders</th>\n",
              "    </tr>\n",
              "    <tr>\n",
              "      <th>datetime</th>\n",
              "      <th></th>\n",
              "      <th></th>\n",
              "    </tr>\n",
              "  </thead>\n",
              "  <tbody>\n",
              "    <tr>\n",
              "      <th>2018-08-13 15:00:00</th>\n",
              "      <td>119.014823</td>\n",
              "      <td>175</td>\n",
              "    </tr>\n",
              "    <tr>\n",
              "      <th>2018-08-13 16:00:00</th>\n",
              "      <td>136.783122</td>\n",
              "      <td>144</td>\n",
              "    </tr>\n",
              "    <tr>\n",
              "      <th>2018-08-13 17:00:00</th>\n",
              "      <td>152.156002</td>\n",
              "      <td>152</td>\n",
              "    </tr>\n",
              "    <tr>\n",
              "      <th>2018-08-13 18:00:00</th>\n",
              "      <td>126.368048</td>\n",
              "      <td>104</td>\n",
              "    </tr>\n",
              "    <tr>\n",
              "      <th>2018-08-13 19:00:00</th>\n",
              "      <td>114.157378</td>\n",
              "      <td>91</td>\n",
              "    </tr>\n",
              "  </tbody>\n",
              "</table>\n",
              "</div>"
            ],
            "text/plain": [
              "                     predictions  num_orders\n",
              "datetime                                    \n",
              "2018-08-13 15:00:00   119.014823         175\n",
              "2018-08-13 16:00:00   136.783122         144\n",
              "2018-08-13 17:00:00   152.156002         152\n",
              "2018-08-13 18:00:00   126.368048         104\n",
              "2018-08-13 19:00:00   114.157378          91"
            ]
          },
          "metadata": {}
        }
      ]
    },
    {
      "cell_type": "code",
      "source": "plt.figure(figsize=(15, 8))\nplt.plot(pd.DataFrame(predictions, index=target_test.index)['2018-08-21': '2018-08-31'], label=\"prediction\")\nplt.plot(target_test['2018-08-21': '2018-08-31'], label=\"target\")\nplt.legend(['predictions', 'target'])\nplt.grid(True)",
      "metadata": {},
      "execution_count": 46,
      "outputs": [
        {
          "output_type": "display_data",
          "data": {
            "image/png": "[encoded data removed]",
            "text/plain": [
              "<Figure size 1080x576 with 1 Axes>"
            ]
          },
          "metadata": {
            "needs_background": "light"
          }
        }
      ]
    },
    {
      "cell_type": "markdown",
      "source": "**Вывод**\n\nВ ходе исследования были изучены и проанализированы данные, подготовлены признаки для обучения моделей, модели обучены и среди них была выбрана модель CatBoost, показывающее наилучшее значение метрики, её и выбрали для дальней работы.\n\nВ ходе тестирования модель с подобранными гиперпараметрами показала хорошее значение метрики, которое отвечает требованиям поставленной задачи, а именно чтобы значение RMSE было ниже 48, в нашем случае получилось 46.95. Поэтому можем рекомендовать данную модель для задачи прогнозирования спроса на такси на час вперёд.",
      "metadata": {}
    }
  ]
}